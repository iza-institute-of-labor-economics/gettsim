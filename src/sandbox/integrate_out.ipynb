{
 "cells": [
  {
   "cell_type": "markdown",
   "metadata": {},
   "source": [
    "# Dealing with censored inputs\n",
    "\n",
    "# Example\n",
    "Suppose we want to calculate how much \"Kindergeld\" (child benefit) a household gets. This function depends in the number of children, potentially in a non-linear way. "
   ]
  },
  {
   "cell_type": "code",
   "execution_count": 5,
   "metadata": {},
   "outputs": [],
   "source": [
    "def kindergeld(n_children):\n",
    "    return 200 * n_children"
   ]
  },
  {
   "cell_type": "markdown",
   "metadata": {},
   "source": [
    "## Problem\n",
    "\n",
    "In our dataset (or in a structural economic model), the number of children is only reported as 0, 1, 2 and 3 or more. We know the distribution of those households with 3 or more children. Say 50 % of them have 3 children, 30 % have 4 and 20 % have 5 children. \n",
    "\n",
    "We want to get the expected value of \"Kindergeld\" in all cases where we don't know the exact number of children"
   ]
  },
  {
   "cell_type": "markdown",
   "metadata": {},
   "source": [
    "## Decorator Solution"
   ]
  },
  {
   "cell_type": "code",
   "execution_count": 6,
   "metadata": {},
   "outputs": [],
   "source": [
    "def integrate_out(func):\n",
    "    def wrapper(arg, distribution=None):\n",
    "        if distribution is None or arg not in distribution['values']:\n",
    "            result = func(arg)\n",
    "        else:\n",
    "            result = 0\n",
    "            for val, prob in zip(distribution['values'], distribution['probabilities']):\n",
    "                result += func(val) * prob\n",
    "        return result\n",
    "    \n",
    "    return wrapper        "
   ]
  },
  {
   "cell_type": "code",
   "execution_count": 7,
   "metadata": {},
   "outputs": [],
   "source": [
    "@integrate_out\n",
    "def kindergeld(n_children):\n",
    "    return 200 * n_children"
   ]
  },
  {
   "cell_type": "code",
   "execution_count": 8,
   "metadata": {},
   "outputs": [
    {
     "data": {
      "text/plain": [
       "740.0"
      ]
     },
     "execution_count": 8,
     "metadata": {},
     "output_type": "execute_result"
    }
   ],
   "source": [
    "kindergeld(3, {'values': [3, 4, 5], 'probabilities': [0.5, 0.3, 0.2]})"
   ]
  },
  {
   "cell_type": "markdown",
   "metadata": {},
   "source": [
    "## Challenges\n",
    "\n",
    "- Handle case where there are multiple arguments of which one or more is censored\n",
    "- Make it fast\n",
    "- How would the interface have to look like if we call the function from other languages"
   ]
  },
  {
   "cell_type": "code",
   "execution_count": null,
   "metadata": {},
   "outputs": [],
   "source": []
  }
 ],
 "metadata": {
  "kernelspec": {
   "display_name": "Python 3",
   "language": "python",
   "name": "python3"
  },
  "language_info": {
   "codemirror_mode": {
    "name": "ipython",
    "version": 3
   },
   "file_extension": ".py",
   "mimetype": "text/x-python",
   "name": "python",
   "nbconvert_exporter": "python",
   "pygments_lexer": "ipython3",
   "version": "3.7.3"
  }
 },
 "nbformat": 4,
 "nbformat_minor": 2
}
