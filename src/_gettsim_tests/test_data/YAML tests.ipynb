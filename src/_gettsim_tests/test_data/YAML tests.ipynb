{
 "cells": [
  {
   "cell_type": "markdown",
   "id": "683baad4-15e5-4b48-bd10-7981f4acd541",
   "metadata": {},
   "source": [
    "# Converting Tests into Yaml-Files "
   ]
  },
  {
   "cell_type": "code",
   "execution_count": 9,
   "id": "73551d98-1e1b-4dec-9977-94b70c7c86df",
   "metadata": {
    "ExecuteTime": {
     "start_time": "2023-03-21T10:56:31.005821Z",
     "end_time": "2023-03-21T10:56:31.016042Z"
    }
   },
   "outputs": [],
   "source": [
    "import logging\n",
    "from pathlib import Path\n",
    "from typing import Optional\n",
    "\n",
    "import pandas as pd\n",
    "import yaml\n",
    "from _gettsim_tests import TEST_DATA_DIR"
   ]
  },
  {
   "cell_type": "code",
   "execution_count": 10,
   "outputs": [],
   "source": [
    "note_columns = [\"note\", \"Note\", \"comment\", \"Comment\"]\n",
    "source_columns = [\"source\", \"Source\"]\n",
    "\n",
    "roles = {\n",
    "    \"arbeitsl_geld\": {\n",
    "        \"in_assumed\": [\n",
    "            \"anwartschaftszeit\",\n",
    "            \"arbeitssuchend\",\n",
    "            \"m_durchg_alg1_bezug\",\n",
    "            \"soz_vers_pflicht_5j\",\n",
    "        ],\n",
    "        \"out\": [\n",
    "            \"arbeitsl_geld_m\"\n",
    "        ]\n",
    "    }\n",
    "}"
   ],
   "metadata": {
    "collapsed": false,
    "ExecuteTime": {
     "start_time": "2023-03-21T10:56:31.009968Z",
     "end_time": "2023-03-21T10:56:31.016042Z"
    }
   }
  },
  {
   "cell_type": "code",
   "execution_count": 11,
   "outputs": [],
   "source": [
    "def list_csv_files() -> list[Path]:\n",
    "    return list(TEST_DATA_DIR.glob(\"*.csv\"))\n",
    "\n",
    "def read_file(file_name: str) -> pd.DataFrame:\n",
    "    return pd.read_csv(TEST_DATA_DIR / file_name, header=0, index_col=0) \\\n",
    "        .squeeze(\"columns\") \\\n",
    "        .reset_index()\n",
    "\n",
    "def unique_years(df: pd.DataFrame, column_name: str = \"jahr\") -> list[int]:\n",
    "    return sorted(list(df[column_name].unique()))\n",
    "\n",
    "def grouped_by_year(df: pd.DataFrame, column_name: str = \"jahr\") -> dict[int, pd.DataFrame]:\n",
    "    return {year: df[df[column_name] == year] for year in unique_years(df, column_name)}\n",
    "\n",
    "def columns_by_role(df: pd.DataFrame, name: str) -> tuple[list[str], list[str], list[str], list[str], list[str]]:\n",
    "    out_cols = roles[name][\"out\"] if name in roles and \"out\" in roles[name] else []\n",
    "    in_cols_assumed = (\n",
    "        roles[name][\"in_assumed\"] if name in roles and \"in_assumed\" in roles[name] else []\n",
    "    )\n",
    "\n",
    "    in_cols = [c for c in df if c not in out_cols]\n",
    "    in_cols_provided = [\n",
    "        col for col in in_cols if col not in [*in_cols_assumed, *note_columns, *source_columns]\n",
    "    ]\n",
    "\n",
    "    note_cols = [col for col in df if col in note_columns]\n",
    "    source_cols = [col for col in df if col in source_columns]\n",
    "\n",
    "    return in_cols_provided, in_cols_assumed, out_cols, note_cols, source_cols\n",
    "\n",
    "def create_yaml(df: pd.DataFrame, name: str) -> list[dict]:\n",
    "    in_cols_provided, in_cols_assumed, out_cols, note_cols, source_cols = columns_by_role(df, name)\n",
    "\n",
    "    out = []\n",
    "\n",
    "    if \"hh_id\" in df:\n",
    "        for hh_id in df[\"hh_id\"].unique():\n",
    "            df_hh = df.loc[df[\"hh_id\"] == hh_id]\n",
    "\n",
    "            source = \"\\n\\n\".join(str(df_hh[source_column].iloc[0]) for source_column in source_cols)\n",
    "            note = \"\\n\\n\".join(str(df_hh[note_column].iloc[0]) for note_column in note_cols)\n",
    "            specs = {\"note\": note, \"source\": source}\n",
    "\n",
    "            inputs = {\n",
    "                \"provided\": df_hh[in_cols_provided].to_dict(\"list\"),\n",
    "                \"assumed\": df_hh[in_cols_assumed].to_dict(\"list\"),\n",
    "            }\n",
    "            outputs = df_hh[out_cols].to_dict(\"list\")\n",
    "            out.append({\"inputs\": inputs, \"outputs\": outputs, \"info\": specs})\n",
    "    else:\n",
    "        source = \"\\n\\n\".join(str(df[source_column].iloc[0]) for source_column in source_cols)\n",
    "        note = \"\\n\\n\".join(str(df[note_column].iloc[0]) for note_column in note_cols)\n",
    "        specs = {\"note\": note, \"source\": source}\n",
    "\n",
    "        inputs = {\n",
    "            \"provided\": df[in_cols_provided].to_dict(\"list\"),\n",
    "            \"assumed\": df[in_cols_assumed].to_dict(\"list\"),\n",
    "        }\n",
    "        outputs = df[out_cols].to_dict(\"list\")\n",
    "        out.append({\"inputs\": inputs, \"outputs\": outputs, \"info\": specs})\n",
    "\n",
    "    return out\n",
    "\n",
    "def write_yaml_to_file(out: list[dict], name: str, year: Optional[int] = None) -> None:\n",
    "    text = yaml.dump(out, sort_keys=False, allow_unicode=True, indent=2, width=88)\n",
    "    if year is None:\n",
    "        path = TEST_DATA_DIR / name / f\"{name}.yaml\"\n",
    "    else:\n",
    "        path = TEST_DATA_DIR / name / str(year) / f\"{name}.yaml\"\n",
    "\n",
    "    path.parent.mkdir(parents=True, exist_ok=True)\n",
    "\n",
    "    print(f\"Writing to {path}\")\n",
    "\n",
    "    with open(path, \"w\") as text_file:\n",
    "        text_file.write(text)\n",
    "\n",
    "def convert_test_data() -> None:\n",
    "    for path in list_csv_files():\n",
    "        df = read_file(path)\n",
    "        name = path.stem\n",
    "\n",
    "        if \"jahr\" not in df:\n",
    "            yaml_out = create_yaml(df, name)\n",
    "            write_yaml_to_file(yaml_out, name)\n",
    "        else:\n",
    "            for year, year_df in grouped_by_year(df).items():\n",
    "                yaml_out = create_yaml(year_df, name)\n",
    "                write_yaml_to_file(yaml_out, name, year)"
   ],
   "metadata": {
    "collapsed": false,
    "ExecuteTime": {
     "start_time": "2023-03-21T10:56:31.024688Z",
     "end_time": "2023-03-21T10:56:31.030918Z"
    }
   }
  },
  {
   "cell_type": "code",
   "execution_count": 12,
   "outputs": [],
   "source": [
    "convert_test_data()\n"
   ],
   "metadata": {
    "collapsed": false,
    "ExecuteTime": {
     "start_time": "2023-03-21T10:56:31.029920Z",
     "end_time": "2023-03-21T10:56:32.394777Z"
    }
   }
  }
 ],
 "metadata": {
  "language_info": {
   "codemirror_mode": {
    "name": "ipython",
    "version": 3
   },
   "file_extension": ".py",
   "mimetype": "text/x-python",
   "name": "python",
   "nbconvert_exporter": "python",
   "pygments_lexer": "ipython3"
  },
  "kernelspec": {
   "name": "python3",
   "language": "python",
   "display_name": "Python 3 (ipykernel)"
  }
 },
 "nbformat": 4,
 "nbformat_minor": 5
}
