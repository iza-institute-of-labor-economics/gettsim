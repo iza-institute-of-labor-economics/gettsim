{
 "cells": [
  {
   "cell_type": "markdown",
   "id": "683baad4-15e5-4b48-bd10-7981f4acd541",
   "metadata": {},
   "source": [
    "# Converting Tests into Yaml-Files "
   ]
  },
  {
   "cell_type": "code",
   "execution_count": null,
   "id": "73551d98-1e1b-4dec-9977-94b70c7c86df",
   "metadata": {},
   "outputs": [],
   "source": [
    "%matplotlib inline\n",
    "# %load_ext lab_black\n",
    "\n",
    "%load_ext autoreload\n",
    "%autoreload 2\n",
    "\n",
    "\n",
    "import pandas as pd\n",
    "import yaml\n",
    "from _gettsim_tests import TEST_DATA_DIR"
   ]
  },
  {
   "cell_type": "code",
   "execution_count": null,
   "id": "cb16cedb-fd8c-4ddd-8eed-0ab6fc6c7955",
   "metadata": {},
   "outputs": [],
   "source": [
    "# reading in testfile in csv\n",
    "file_name = \"arbeitsl_geld.csv\"\n",
    "df = pd.read_csv(TEST_DATA_DIR / file_name, header=0, index_col=0, squeeze=True)"
   ]
  },
  {
   "cell_type": "code",
   "execution_count": null,
   "id": "93031dd0-25f3-4468-b7dd-2b57f04d385d",
   "metadata": {},
   "outputs": [],
   "source": [
    "df = df.reset_index()\n",
    "df = df[df[\"jahr\"] == 2019]\n",
    "df"
   ]
  },
  {
   "cell_type": "code",
   "execution_count": null,
   "id": "72dba058-651a-48f6-8d47-29f2e5f727f3",
   "metadata": {},
   "outputs": [],
   "source": [
    "out_cols = [\"arbeitsl_geld_m\"]\n",
    "in_cols_assumed = [\n",
    "    \"anwartschaftszeit\",\n",
    "    \"arbeitssuchend\",\n",
    "    \"m_durchg_alg1_bezug\",\n",
    "    \"soz_vers_pflicht_5j\",\n",
    "]\n",
    "in_cols = [c for c in df if c not in out_cols]\n",
    "in_cols_provided = [\n",
    "    col for col in in_cols if col not in [*in_cols_assumed, \"source\", \"note\"]\n",
    "]"
   ]
  },
  {
   "cell_type": "code",
   "execution_count": null,
   "id": "a73184a0-9727-4944-8fbe-19a89f27ced4",
   "metadata": {},
   "outputs": [],
   "source": [
    "out = []\n",
    "for hh_id in df[\"hh_id\"].unique():\n",
    "    df_hh = df.loc[df[\"hh_id\"] == hh_id]\n",
    "    source = df_hh[\"source\"].iloc[0]\n",
    "    note = df_hh[\"note\"].iloc[0]\n",
    "    specs = {\"source\": source, \"note\": note}\n",
    "    inputs = {\n",
    "        \"provided\": df_hh[in_cols_provided].to_dict(\"list\"),\n",
    "        \"assumed\": df_hh[in_cols_assumed].to_dict(\"list\"),\n",
    "    }\n",
    "    outputs = {\"outputs\": df_hh[out_cols].to_dict(\"list\")}\n",
    "    out.append({\"info\": specs, \"inputs\": inputs, \"outputs\": outputs})\n",
    "out"
   ]
  },
  {
   "cell_type": "code",
   "execution_count": null,
   "id": "bc1a6ffd-4cf3-42e0-ba9c-5279a33549f7",
   "metadata": {},
   "outputs": [],
   "source": [
    "text = yaml.dump(out, sort_keys=False, allow_unicode=True, width=89, indent=4)\n",
    "print(text)"
   ]
  },
  {
   "cell_type": "code",
   "execution_count": null,
   "id": "0c0ad5bc-2c25-496c-a8c4-07d70e235399",
   "metadata": {},
   "outputs": [],
   "source": [
    "with open(\"arbeitsl_geld.yaml\", \"w\") as text_file:\n",
    "    text_file.write(text)"
   ]
  },
  {
   "cell_type": "code",
   "execution_count": null,
   "id": "4c9c0c90-1bf4-4a09-9134-93ea8d01b396",
   "metadata": {},
   "outputs": [],
   "source": []
  }
 ],
 "metadata": {
  "language_info": {
   "codemirror_mode": {
    "name": "ipython",
    "version": 3
   },
   "file_extension": ".py",
   "mimetype": "text/x-python",
   "name": "python",
   "nbconvert_exporter": "python",
   "pygments_lexer": "ipython3"
  }
 },
 "nbformat": 4,
 "nbformat_minor": 5
}
