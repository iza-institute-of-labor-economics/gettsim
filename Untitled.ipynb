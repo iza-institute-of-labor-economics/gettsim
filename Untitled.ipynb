{
 "cells": [
  {
   "cell_type": "code",
   "execution_count": 1,
   "id": "cff5a042-a2a9-4a45-bbd3-8d28f8f4d120",
   "metadata": {},
   "outputs": [
    {
     "name": "stdout",
     "output_type": "stream",
     "text": [
      "path exists, skipping /Users/paulina/Documents/IZA/Arbeit/gettsim\n",
      "completed operation for: /Users/paulina/Documents/IZA/Arbeit/gettsim\n",
      "\n",
      "Note: you may need to restart the kernel to use updated packages.\n"
     ]
    }
   ],
   "source": [
    "conda develop ."
   ]
  },
  {
   "cell_type": "markdown",
   "id": "d68633de-8d3e-409f-8a2e-240cf2abedf2",
   "metadata": {
    "tags": []
   },
   "source": [
    "# Imports"
   ]
  },
  {
   "cell_type": "code",
   "execution_count": 2,
   "id": "c183dfa3-65b5-4660-a5e9-e1e68fae3305",
   "metadata": {},
   "outputs": [],
   "source": [
    "%matplotlib inline\n",
    "%load_ext lab_black\n",
    "\n",
    "%load_ext autoreload\n",
    "%autoreload 2\n",
    "\n",
    "import sys, os\n",
    "import json\n",
    "import pickle, re, itertools\n",
    "import csv\n",
    "\n",
    "import pandas as pd\n",
    "import numpy as np\n",
    "\n",
    "from pathlib import Path\n",
    "from functools import reduce\n",
    "\n",
    "from matplotlib import pyplot as plt\n",
    "import seaborn as sns\n",
    "\n",
    "# from patsy import dmatrix\n",
    "\n",
    "from gettsim import set_up_policy_environment\n",
    "from gettsim import compute_taxes_and_transfers\n",
    "from gettsim.config import TYPES_INPUT_VARIABLES\n",
    "\n",
    "from pandas.api.types import is_bool_dtype\n",
    "from pandas.api.types import is_datetime64_any_dtype\n",
    "from pandas.api.types import is_float_dtype\n",
    "from pandas.api.types import is_integer_dtype\n",
    "\n",
    "# from gettsim-application.src import validate_soep_gettsim"
   ]
  },
  {
   "cell_type": "markdown",
   "id": "ff42073c-b0ef-4e3b-90e3-ab8f72b5afce",
   "metadata": {
    "tags": []
   },
   "source": [
    "# Load files"
   ]
  },
  {
   "cell_type": "code",
   "execution_count": 3,
   "id": "c93978cd-f521-431b-b03d-4696d361c97d",
   "metadata": {},
   "outputs": [
    {
     "data": {
      "text/plain": [
       "PosixPath('/Users/paulina/Documents/IZA/Arbeit/soep-data/out/data')"
      ]
     },
     "execution_count": 3,
     "metadata": {},
     "output_type": "execute_result"
    }
   ],
   "source": [
    "CWD = Path.cwd()\n",
    "OUT_DATA_SOEP = CWD.parent / \"soep-data\" / \"out\" / \"data\"\n",
    "IN_VAL = CWD.parent / \"gettsim-application\" / \"src\" / \"validation_data\"\n",
    "IN_REF_VAL = CWD.parent / \"gettsim-application\" / \"src\"\n",
    "OUT_DATA_SOEP"
   ]
  },
  {
   "cell_type": "code",
   "execution_count": 4,
   "id": "578ef1cf-e6a1-4aa1-8e8d-6d59ef5fdb2a",
   "metadata": {},
   "outputs": [],
   "source": [
    "# OUT_DATA_SOEP = CWD.parent / \"..\" / \"..\" / \"soep-data\" / \"out\" / \"data\""
   ]
  },
  {
   "cell_type": "code",
   "execution_count": 5,
   "id": "9fde5f1f-b7d4-4e6c-b6f4-1b8992c60b62",
   "metadata": {},
   "outputs": [],
   "source": [
    "gs_data = pd.read_pickle(OUT_DATA_SOEP / \"gettsim_data_soep.pickle\")"
   ]
  },
  {
   "cell_type": "markdown",
   "id": "579aaf58-56ec-4f68-a4de-28020f64c9c7",
   "metadata": {
    "tags": []
   },
   "source": [
    "# Prepare SOEP data set"
   ]
  },
  {
   "cell_type": "code",
   "execution_count": 6,
   "id": "52c78378-6ab2-421e-97cd-2aa4211b4a45",
   "metadata": {},
   "outputs": [],
   "source": [
    "def set_expected_types(data):\n",
    "    for var, exp_type in TYPES_INPUT_VARIABLES.items():\n",
    "        if exp_type == int:\n",
    "            # if not is_integer_dtype(data_2019[var]):\n",
    "            print(f\"{var} converted to integer\")\n",
    "            try:\n",
    "                data[var] = data[var].astype(int)\n",
    "            except:\n",
    "                data[var] = data[var].round().astype(\"Int64\")\n",
    "\n",
    "        if exp_type == float:\n",
    "            # if not (is_float_dtype(data[var]) or is_integer_dtype(data[var])):\n",
    "            print(f\"{var} converted to float\")\n",
    "            data[var] = data[var].astype(\"float\")\n",
    "\n",
    "        if exp_type == bool:\n",
    "            # if not is_bool_dtype(data[var]):\n",
    "            print(f\"{var} converted to boolean\")\n",
    "            data[var] = data[var].astype(bool)\n",
    "    return data"
   ]
  },
  {
   "cell_type": "code",
   "execution_count": 7,
   "id": "bcf5039e-b1c3-45ca-ac78-ba3f98a2d641",
   "metadata": {},
   "outputs": [],
   "source": [
    "data_2019 = gs_data.query(\"jahr == 2019\").reset_index()\n",
    "data_2019 = data_2019.drop([\"anz_kinder_hh\", \"anz_minderj_hh\", \"hhsize_tu\"], axis=1)"
   ]
  },
  {
   "cell_type": "code",
   "execution_count": 8,
   "id": "a9f77bd3-94a1-4011-b72e-dc4511284b23",
   "metadata": {},
   "outputs": [],
   "source": [
    "data_2019[\"m_pflichtbeitrag\"] = 0\n",
    "data_2019[\"m_freiw_beitrag\"] = 0\n",
    "data_2019[\"m_mutterschutz\"] = 0\n",
    "data_2019[\"m_arbeitsunfähig\"] = 0\n",
    "data_2019[\"m_krank_ab_16_bis_24\"] = 0\n",
    "data_2019[\"m_arbeitslos\"] = 0\n",
    "data_2019[\"m_ausbild_suche\"] = 0\n",
    "data_2019[\"m_schul_ausbild\"] = 0\n",
    "data_2019[\"m_geringf_beschäft\"] = 0\n",
    "data_2019[\"m_alg1_übergang\"] = 0\n",
    "data_2019[\"m_ersatzzeit\"] = 0\n",
    "data_2019[\"m_kind_berücks_zeit\"] = 0\n",
    "data_2019[\"m_pfleg_berücks_zeit\"] = 0\n",
    "data_2019[\"y_pflichtbeitr_ab_40\"] = 0"
   ]
  },
  {
   "cell_type": "code",
   "execution_count": 9,
   "id": "a08567bd-09d7-48e0-8d26-001152e6937a",
   "metadata": {},
   "outputs": [
    {
     "name": "stdout",
     "output_type": "stream",
     "text": [
      "hh_id converted to integer\n",
      "tu_id converted to integer\n",
      "p_id converted to integer\n",
      "vermögen_bedürft_hh converted to float\n",
      "bruttolohn_m converted to float\n",
      "alter converted to integer\n",
      "weiblich converted to boolean\n",
      "selbstständig converted to boolean\n",
      "wohnort_ost converted to boolean\n",
      "hat_kinder converted to boolean\n",
      "eink_selbst_m converted to float\n",
      "in_priv_krankenv converted to boolean\n",
      "priv_rentenv_beitr_m converted to float\n",
      "bruttolohn_vorj_m converted to float\n",
      "arbeitsl_monate_lfdj converted to integer\n",
      "arbeitsl_monate_vorj converted to integer\n",
      "arbeitsl_monate_v2j converted to integer\n",
      "arbeitsstunden_w converted to float\n",
      "geburtsjahr converted to integer\n",
      "geburtstag converted to integer\n",
      "geburtsmonat converted to integer\n",
      "mietstufe converted to integer\n",
      "entgeltp converted to float\n",
      "kind converted to boolean\n",
      "rentner converted to boolean\n",
      "betreuungskost_m converted to float\n",
      "kapitaleink_brutto_m converted to float\n",
      "eink_vermietung_m converted to float\n",
      "bruttokaltmiete_m_hh converted to float\n",
      "heizkosten_m_hh converted to float\n",
      "jahr_renteneintr converted to integer\n",
      "behinderungsgrad converted to integer\n",
      "wohnfläche_hh converted to integer\n",
      "m_elterngeld converted to integer\n",
      "m_elterngeld_vat_hh converted to integer\n",
      "m_elterngeld_mut_hh converted to integer\n",
      "in_ausbildung converted to boolean\n",
      "alleinerz converted to boolean\n",
      "bewohnt_eigentum_hh converted to boolean\n",
      "immobilie_baujahr_hh converted to integer\n",
      "sonstig_eink_m converted to float\n",
      "jahr converted to integer\n",
      "grundr_entgeltp converted to float\n",
      "grundr_zeiten converted to integer\n",
      "grundr_bew_zeiten converted to integer\n",
      "priv_rente_m converted to float\n",
      "schwerbeh_g converted to boolean\n",
      "m_pflichtbeitrag converted to float\n",
      "m_freiw_beitrag converted to float\n",
      "m_mutterschutz converted to float\n",
      "m_arbeitsunfähig converted to float\n",
      "m_krank_ab_16_bis_24 converted to float\n",
      "m_arbeitslos converted to float\n",
      "m_ausbild_suche converted to float\n",
      "m_schul_ausbild converted to float\n",
      "m_geringf_beschäft converted to float\n",
      "m_alg1_übergang converted to float\n",
      "m_ersatzzeit converted to float\n",
      "m_kind_berücks_zeit converted to float\n",
      "m_pfleg_berücks_zeit converted to float\n",
      "y_pflichtbeitr_ab_40 converted to float\n",
      "hh_id converted to integer\n",
      "tu_id converted to integer\n",
      "p_id converted to integer\n",
      "vermögen_bedürft_hh converted to float\n",
      "bruttolohn_m converted to float\n",
      "alter converted to integer\n",
      "weiblich converted to boolean\n",
      "selbstständig converted to boolean\n",
      "wohnort_ost converted to boolean\n",
      "hat_kinder converted to boolean\n",
      "eink_selbst_m converted to float\n",
      "in_priv_krankenv converted to boolean\n",
      "priv_rentenv_beitr_m converted to float\n",
      "bruttolohn_vorj_m converted to float\n",
      "arbeitsl_monate_lfdj converted to integer\n",
      "arbeitsl_monate_vorj converted to integer\n",
      "arbeitsl_monate_v2j converted to integer\n",
      "arbeitsstunden_w converted to float\n",
      "geburtsjahr converted to integer\n",
      "geburtstag converted to integer\n",
      "geburtsmonat converted to integer\n",
      "mietstufe converted to integer\n",
      "entgeltp converted to float\n",
      "kind converted to boolean\n",
      "rentner converted to boolean\n",
      "betreuungskost_m converted to float\n",
      "kapitaleink_brutto_m converted to float\n",
      "eink_vermietung_m converted to float\n",
      "bruttokaltmiete_m_hh converted to float\n",
      "heizkosten_m_hh converted to float\n",
      "jahr_renteneintr converted to integer\n",
      "behinderungsgrad converted to integer\n",
      "wohnfläche_hh converted to integer\n",
      "m_elterngeld converted to integer\n",
      "m_elterngeld_vat_hh converted to integer\n",
      "m_elterngeld_mut_hh converted to integer\n",
      "in_ausbildung converted to boolean\n",
      "alleinerz converted to boolean\n",
      "bewohnt_eigentum_hh converted to boolean\n",
      "immobilie_baujahr_hh converted to integer\n",
      "sonstig_eink_m converted to float\n",
      "jahr converted to integer\n",
      "grundr_entgeltp converted to float\n",
      "grundr_zeiten converted to integer\n",
      "grundr_bew_zeiten converted to integer\n",
      "priv_rente_m converted to float\n",
      "schwerbeh_g converted to boolean\n",
      "m_pflichtbeitrag converted to float\n",
      "m_freiw_beitrag converted to float\n",
      "m_mutterschutz converted to float\n",
      "m_arbeitsunfähig converted to float\n",
      "m_krank_ab_16_bis_24 converted to float\n",
      "m_arbeitslos converted to float\n",
      "m_ausbild_suche converted to float\n",
      "m_schul_ausbild converted to float\n",
      "m_geringf_beschäft converted to float\n",
      "m_alg1_übergang converted to float\n",
      "m_ersatzzeit converted to float\n",
      "m_kind_berücks_zeit converted to float\n",
      "m_pfleg_berücks_zeit converted to float\n",
      "y_pflichtbeitr_ab_40 converted to float\n"
     ]
    }
   ],
   "source": [
    "data_2019 = data_2019[\n",
    "    list(TYPES_INPUT_VARIABLES.keys())\n",
    "    + [\n",
    "        \"p_gewicht\",\n",
    "        \"hh_gewicht\",\n",
    "        \"weiblich\",\n",
    "        \"hh_size\",\n",
    "        \"erwerbstätig\",\n",
    "        \"nicht_erwerbstätig\",\n",
    "        \"bildungsstand_isced_cat\",\n",
    "        \"bildungsstand_casmin_cat\",\n",
    "        \"ledig\",\n",
    "        \"geschieden\",\n",
    "        \"verwitwet\",\n",
    "        \"verheiratet\",\n",
    "        \"arbeitslos\",\n",
    "        \"beamte\",\n",
    "        \"vollzeit\",\n",
    "        \"stundenlohn_netto\",\n",
    "        \"nettolohn_m\",\n",
    "        \"stundenlohn\",\n",
    "        \"geringfügig_erwb\",\n",
    "        \"teilzeit\",\n",
    "        \"werkstatt\",\n",
    "        \"pensions_pub_m\",\n",
    "        \"unempl_benefit2_hh\",\n",
    "        \"unempl_benefit\",\n",
    "        \"housing_benefit_hh\",\n",
    "        \"kinderzuschlag_hh\",\n",
    "        \"kindergeld_hh\",\n",
    "        \"einkommenssteuer_hh\",\n",
    "        \"kapital_eink_hh\",\n",
    "    ]\n",
    "]\n",
    "data_2019 = set_expected_types(data_2019)\n",
    "data_2019 = data_2019.fillna(0)\n",
    "data_2019 = set_expected_types(data_2019)"
   ]
  },
  {
   "cell_type": "code",
   "execution_count": 10,
   "id": "f33b2179-d760-4fea-895c-d62df18b3541",
   "metadata": {},
   "outputs": [
    {
     "ename": "ValueError",
     "evalue": "The following columns are non-unique in the input data:['weiblich']",
     "output_type": "error",
     "traceback": [
      "\u001b[0;31m---------------------------------------------------------------------------\u001b[0m",
      "\u001b[0;31mValueError\u001b[0m                                Traceback (most recent call last)",
      "Input \u001b[0;32mIn [10]\u001b[0m, in \u001b[0;36m<cell line: 5>\u001b[0;34m()\u001b[0m\n\u001b[1;32m      1\u001b[0m policy_params, policy_functions \u001b[38;5;241m=\u001b[39m set_up_policy_environment(\u001b[38;5;241m2019\u001b[39m)\n\u001b[1;32m      2\u001b[0m targets \u001b[38;5;241m=\u001b[39m [\n\u001b[1;32m      3\u001b[0m     \u001b[38;5;124m\"\u001b[39m\u001b[38;5;124marbeitsl_geld_m\u001b[39m\u001b[38;5;124m\"\u001b[39m,\n\u001b[1;32m      4\u001b[0m ]\n\u001b[0;32m----> 5\u001b[0m result \u001b[38;5;241m=\u001b[39m \u001b[43mcompute_taxes_and_transfers\u001b[49m\u001b[43m(\u001b[49m\n\u001b[1;32m      6\u001b[0m \u001b[43m    \u001b[49m\u001b[43mdata\u001b[49m\u001b[38;5;241;43m=\u001b[39;49m\u001b[43mdata_2019\u001b[49m\u001b[43m,\u001b[49m\n\u001b[1;32m      7\u001b[0m \u001b[43m    \u001b[49m\u001b[43mparams\u001b[49m\u001b[38;5;241;43m=\u001b[39;49m\u001b[43mpolicy_params\u001b[49m\u001b[43m,\u001b[49m\n\u001b[1;32m      8\u001b[0m \u001b[43m    \u001b[49m\u001b[43mtargets\u001b[49m\u001b[38;5;241;43m=\u001b[39;49m\u001b[43mtargets\u001b[49m\u001b[43m,\u001b[49m\n\u001b[1;32m      9\u001b[0m \u001b[43m    \u001b[49m\u001b[43mfunctions\u001b[49m\u001b[38;5;241;43m=\u001b[39;49m\u001b[43mpolicy_functions\u001b[49m\u001b[43m,\u001b[49m\n\u001b[1;32m     10\u001b[0m \u001b[43m)\u001b[49m\n\u001b[1;32m     11\u001b[0m result \u001b[38;5;241m=\u001b[39m result\u001b[38;5;241m.\u001b[39mjoin(data_2019)\n",
      "File \u001b[0;32m~/Documents/IZA/Arbeit/gettsim/gettsim/interface.py:88\u001b[0m, in \u001b[0;36mcompute_taxes_and_transfers\u001b[0;34m(data, params, functions, aggregation_specs, targets, columns_overriding_functions, check_minimal_specification, rounding, debug)\u001b[0m\n\u001b[1;32m     85\u001b[0m aggregation_specs \u001b[38;5;241m=\u001b[39m {} \u001b[38;5;28;01mif\u001b[39;00m aggregation_specs \u001b[38;5;129;01mis\u001b[39;00m \u001b[38;5;28;01mNone\u001b[39;00m \u001b[38;5;28;01melse\u001b[39;00m aggregation_specs\n\u001b[1;32m     87\u001b[0m \u001b[38;5;66;03m# Process data and load dictionaries with functions.\u001b[39;00m\n\u001b[0;32m---> 88\u001b[0m data \u001b[38;5;241m=\u001b[39m \u001b[43m_process_and_check_data\u001b[49m\u001b[43m(\u001b[49m\n\u001b[1;32m     89\u001b[0m \u001b[43m    \u001b[49m\u001b[43mdata\u001b[49m\u001b[38;5;241;43m=\u001b[39;49m\u001b[43mdata\u001b[49m\u001b[43m,\u001b[49m\u001b[43m \u001b[49m\u001b[43mcolumns_overriding_functions\u001b[49m\u001b[38;5;241;43m=\u001b[39;49m\u001b[43mcolumns_overriding_functions\u001b[49m\n\u001b[1;32m     90\u001b[0m \u001b[43m\u001b[49m\u001b[43m)\u001b[49m\n\u001b[1;32m     91\u001b[0m functions_not_overridden, functions_overridden \u001b[38;5;241m=\u001b[39m load_and_check_functions(\n\u001b[1;32m     92\u001b[0m     user_functions_raw\u001b[38;5;241m=\u001b[39mfunctions,\n\u001b[1;32m     93\u001b[0m     columns_overriding_functions\u001b[38;5;241m=\u001b[39mcolumns_overriding_functions,\n\u001b[0;32m   (...)\u001b[0m\n\u001b[1;32m     96\u001b[0m     aggregation_specs\u001b[38;5;241m=\u001b[39maggregation_specs,\n\u001b[1;32m     97\u001b[0m )\n\u001b[1;32m     98\u001b[0m data \u001b[38;5;241m=\u001b[39m _convert_data_to_correct_types(data, functions_overridden)\n",
      "File \u001b[0;32m~/Documents/IZA/Arbeit/gettsim/gettsim/interface.py:201\u001b[0m, in \u001b[0;36m_process_and_check_data\u001b[0;34m(data, columns_overriding_functions)\u001b[0m\n\u001b[1;32m    185\u001b[0m \u001b[38;5;124;03m\"\"\"Process data and perform several checks.\u001b[39;00m\n\u001b[1;32m    186\u001b[0m \n\u001b[1;32m    187\u001b[0m \u001b[38;5;124;03mParameters\u001b[39;00m\n\u001b[0;32m   (...)\u001b[0m\n\u001b[1;32m    198\u001b[0m \n\u001b[1;32m    199\u001b[0m \u001b[38;5;124;03m\"\"\"\u001b[39;00m\n\u001b[1;32m    200\u001b[0m \u001b[38;5;28;01mif\u001b[39;00m \u001b[38;5;28misinstance\u001b[39m(data, pd\u001b[38;5;241m.\u001b[39mDataFrame):\n\u001b[0;32m--> 201\u001b[0m     \u001b[43m_fail_if_duplicates_in_columns\u001b[49m\u001b[43m(\u001b[49m\u001b[43mdata\u001b[49m\u001b[43m)\u001b[49m\n\u001b[1;32m    202\u001b[0m     data \u001b[38;5;241m=\u001b[39m \u001b[38;5;28mdict\u001b[39m(data)\n\u001b[1;32m    203\u001b[0m \u001b[38;5;28;01melif\u001b[39;00m \u001b[38;5;28misinstance\u001b[39m(data, pd\u001b[38;5;241m.\u001b[39mSeries):\n",
      "File \u001b[0;32m~/Documents/IZA/Arbeit/gettsim/gettsim/interface.py:351\u001b[0m, in \u001b[0;36m_fail_if_duplicates_in_columns\u001b[0;34m(data)\u001b[0m\n\u001b[1;32m    349\u001b[0m \u001b[38;5;28;01mif\u001b[39;00m \u001b[38;5;28many\u001b[39m(data\u001b[38;5;241m.\u001b[39mcolumns\u001b[38;5;241m.\u001b[39mduplicated()):\n\u001b[1;32m    350\u001b[0m     duplicated \u001b[38;5;241m=\u001b[39m \u001b[38;5;28mlist\u001b[39m(data\u001b[38;5;241m.\u001b[39mcolumns[data\u001b[38;5;241m.\u001b[39mcolumns\u001b[38;5;241m.\u001b[39mduplicated()])\n\u001b[0;32m--> 351\u001b[0m     \u001b[38;5;28;01mraise\u001b[39;00m \u001b[38;5;167;01mValueError\u001b[39;00m(\n\u001b[1;32m    352\u001b[0m         \u001b[38;5;124m\"\u001b[39m\u001b[38;5;124mThe following columns are non-unique in the input data:\u001b[39m\u001b[38;5;124m\"\u001b[39m \u001b[38;5;124mf\u001b[39m\u001b[38;5;124m\"\u001b[39m\u001b[38;5;132;01m{\u001b[39;00mduplicated\u001b[38;5;132;01m}\u001b[39;00m\u001b[38;5;124m\"\u001b[39m\n\u001b[1;32m    353\u001b[0m     )\n",
      "\u001b[0;31mValueError\u001b[0m: The following columns are non-unique in the input data:['weiblich']"
     ]
    }
   ],
   "source": [
    "policy_params, policy_functions = set_up_policy_environment(2019)\n",
    "targets = [\n",
    "    \"arbeitsl_geld_m\",\n",
    "]\n",
    "result = compute_taxes_and_transfers(\n",
    "    data=data_2019,\n",
    "    params=policy_params,\n",
    "    targets=targets,\n",
    "    functions=policy_functions,\n",
    ")\n",
    "result = result.join(data_2019)"
   ]
  },
  {
   "cell_type": "code",
   "execution_count": null,
   "id": "d036a00d-b503-408a-b7ec-4ed09ab87919",
   "metadata": {},
   "outputs": [],
   "source": []
  }
 ],
 "metadata": {
  "kernelspec": {
   "display_name": "Python 3 (ipykernel)",
   "language": "python",
   "name": "python3"
  },
  "language_info": {
   "codemirror_mode": {
    "name": "ipython",
    "version": 3
   },
   "file_extension": ".py",
   "mimetype": "text/x-python",
   "name": "python",
   "nbconvert_exporter": "python",
   "pygments_lexer": "ipython3",
   "version": "3.8.10"
  }
 },
 "nbformat": 4,
 "nbformat_minor": 5
}
