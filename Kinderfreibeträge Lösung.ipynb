{
 "cells": [
  {
   "cell_type": "code",
   "execution_count": null,
   "metadata": {},
   "outputs": [],
   "source": [
    "import pandas as pd\n",
    "import numpy as np\n",
    "\n",
    "import matplotlib.pyplot as plt\n",
    "plt.rcParams[\"figure.dpi\"] = 144\n",
    "from itertools import product\n",
    "\n",
    "from gettsim import get_policies_for_date\n",
    "from gettsim import compute_taxes_and_transfers"
   ]
  },
  {
   "cell_type": "markdown",
   "metadata": {},
   "source": [
    "# Kindergeld und Kinderfreibetrag\n",
    "\n",
    "Nachdem Sie sich in der Selbstlernphase mit GETTSIM vertraut gemacht haben, werden wir es erneut nutzen, \n",
    "um die Mechanik von Kindergeld und Kinderfreibetrag besser zu verstehen.\n",
    "\n",
    "Wir werden Ehepartner ohne Kinder, mit einem Kind und mit zwei Kindern vergleichen. Die Einkommen beider\n",
    "Ehepartner sind identisch. \n",
    "\n",
    "Unsere Daten benötigen dasselbe Format, das wir in der vergangenen Woche verwendet haben. Eine Zeile\n",
    "pro Haushaltsmitglied.\n",
    "\n",
    "Wir beginnen mit einem DataFrame mit einer Zeile pro Haushalt, den wir dann vervierfachen und entsprechend\n",
    "für die einzelnen Haushaltsmitglieder anpassen."
   ]
  },
  {
   "cell_type": "markdown",
   "metadata": {},
   "source": [
    "## Datensatzerstellung 1: Grundlage, die für alle Haushaltsmitglieder gleich sind"
   ]
  },
  {
   "cell_type": "code",
   "execution_count": null,
   "metadata": {},
   "outputs": [],
   "source": [
    "min_einkommen = 1500\n",
    "max_einkommen = 8000\n",
    "anzahl_schritte = 131\n",
    "\n",
    "df_grundlage = pd.DataFrame(index=pd.RangeIndex(anzahl_schritte))\n",
    "\n",
    "# Haushalts-ID und Steuersubjekt-ID: In unserem Beispiel kein Unterschied\n",
    "df_grundlage[\"hh_id\"] = df_grundlage.index\n",
    "df_grundlage[\"tu_id\"] = df_grundlage.index\n",
    "# Bruttolohn ist am einfachsten, jetzt zu erstellen und für Kinder auf 0 zu setzen.\n",
    "df_grundlage[\"bruttolohn_m\"] = np.linspace(min_einkommen, max_einkommen, anzahl_schritte)\n",
    "# Bruttolohn, Vermögen, private Krankenversicherung sind dasselbe für alle Haushaltsmitglieder\n",
    "df_grundlage[\"vermögen_hh\"] = 100\n",
    "df_grundlage[\"prv_krankenv\"] = False\n",
    "\n",
    "df_grundlage"
   ]
  },
  {
   "cell_type": "markdown",
   "metadata": {},
   "source": [
    "## Datensatzerstellung 2: Vervierfachung für 2 Erwachsene und 2 Kindern"
   ]
  },
  {
   "cell_type": "code",
   "execution_count": null,
   "metadata": {},
   "outputs": [],
   "source": [
    "df_2e_2k = df_grundlage.append(df_grundlage).append(df_grundlage).append(df_grundlage).sort_index()\n",
    "df_2e_2k.index = pd.RangeIndex(len(df_2e_2k), name=\"p_id\")\n",
    "df_2e_2k"
   ]
  },
  {
   "cell_type": "markdown",
   "metadata": {},
   "source": [
    "## Datensatzerstellung 3: Anpassung der Werte, die sich über Haushaltsmitglieder unterscheiden\n",
    "\n",
    "Nicht alle Werte sind überall nötig. Wir nutzen den Modulus-Operator %, um einzelne Zeilen anzusteuern.\n",
    "\n",
    "Zunächst eine kurze Demonstration desselben:"
   ]
  },
  {
   "cell_type": "code",
   "execution_count": null,
   "metadata": {},
   "outputs": [],
   "source": [
    "demo = df_2e_2k.loc[:10][[\"tu_id\"]].copy()\n",
    "display(demo)\n",
    "demo['modulus'] = -9\n",
    "for i in demo.index:\n",
    "    demo.loc[i, \"modulus\"] = i % 4\n",
    "display(demo)"
   ]
  },
  {
   "cell_type": "markdown",
   "metadata": {},
   "source": [
    "Wir nutzen in der folgenden Zelle aus, dass unsere Daten immer vier Zeilen pro Haushalt mit einem\n",
    "Einkommen haben.\n",
    "\n",
    "Die ersten beiden Zeilen eines Haushalts sind die Erwachsenen, danach kommen die beiden Kinder.\n",
    "Für GETTSIM ist die Reihenfolge egal, dies ist lediglich unsere Konvention."
   ]
  },
  {
   "cell_type": "code",
   "execution_count": null,
   "metadata": {},
   "outputs": [],
   "source": [
    "# Erwachsene\n",
    "for modulus in 0, 1:\n",
    "    df_2e_2k.loc[df_2e_2k.index % 4 == modulus, \"alter\"] = 50\n",
    "    df_2e_2k.loc[df_2e_2k.index % 4 == modulus, \"hat_kinder\"] = True\n",
    "    df_2e_2k.loc[df_2e_2k.index % 4 == modulus, \"kind\"] = False\n",
    "\n",
    "    df_2e_2k.loc[df_2e_2k.index % 4 == modulus, \"selbstständig\"] = False\n",
    "    df_2e_2k.loc[df_2e_2k.index % 4 == modulus, \"eink_selbst_m\"] = 0\n",
    "    df_2e_2k.loc[df_2e_2k.index % 4 == modulus, \"ges_rente_m\"] = 0\n",
    "    df_2e_2k.loc[df_2e_2k.index % 4 == modulus, \"vermiet_eink_m\"] = 0\n",
    "    df_2e_2k.loc[df_2e_2k.index % 4 == modulus, \"kapital_eink_m\"] = 0\n",
    "    df_2e_2k.loc[df_2e_2k.index % 4 == modulus, \"prv_rente_beitr_m\"] = 0\n",
    "\n",
    "    df_2e_2k.loc[df_2e_2k.index % 4 == modulus, \"wohnort_ost\"] = False\n",
    "    df_2e_2k.loc[df_2e_2k.index % 4 == modulus, \"jahr_renteneintr\"] = 2100\n",
    "    df_2e_2k.loc[df_2e_2k.index % 4 == modulus, \"betreuungskost_m\"] = 0\n",
    "    df_2e_2k.loc[df_2e_2k.index % 4 == modulus, \"in_ausbildung\"] = False\n",
    "    df_2e_2k.loc[df_2e_2k.index % 4 == modulus, \"behinderungsgrad\"] = 0\n",
    "    df_2e_2k.loc[df_2e_2k.index % 4 == modulus, \"arbeitsstunden_w\"] = 40\n",
    "    df_2e_2k.loc[df_2e_2k.index % 4 == modulus, \"alleinerziehend\"] = False\n",
    "\n",
    "# Kinder\n",
    "for modulus in 2, 3:\n",
    "    df_2e_2k.loc[df_2e_2k.index % 4 == modulus, \"bruttolohn_m\"] = np.nan\n",
    "    df_2e_2k.loc[df_2e_2k.index % 4 == modulus, \"kind\"] = True\n",
    "    df_2e_2k.loc[df_2e_2k.index % 4 == modulus, \"hat_kinder\"] = False\n",
    "    df_2e_2k.loc[df_2e_2k.index % 4 == modulus, \"alleinerziehend\"] = False\n",
    "    \n",
    "\n",
    "# Nur erstes Kind: 10 Jahre alt\n",
    "modulus = 2\n",
    "df_2e_2k.loc[df_2e_2k.index % 4 == modulus, \"alter\"] = 10\n",
    "\n",
    "# Nur zweites Kind: 5 Jahre alt\n",
    "modulus = 3\n",
    "df_2e_2k.loc[df_2e_2k.index % 4 == modulus, \"alter\"] = 5\n",
    "\n",
    "# Einige Zellen benötigen explizit eine Boole'sche Variable\n",
    "for col in \"kind\", \"hat_kinder\", \"alleinerziehend\":\n",
    "    df_2e_2k[col] = df_2e_2k[col].astype('bool')\n",
    "df_2e_2k"
   ]
  },
  {
   "cell_type": "markdown",
   "metadata": {},
   "source": [
    "## Datensatzerstellung 4: Kürzung der Haushalte um ein Kind bzw. beide Kinder\n",
    "\n",
    "Hierfür nutzen wir aus, dass wir den beiden Kindern überall dieselben Alter gegeben haben."
   ]
  },
  {
   "cell_type": "code",
   "execution_count": null,
   "metadata": {},
   "outputs": [],
   "source": [
    "df_2e_1k = df_2e_2k.query(\"alter > 5\").copy()\n",
    "df_2e_1k"
   ]
  },
  {
   "cell_type": "code",
   "execution_count": null,
   "metadata": {},
   "outputs": [],
   "source": [
    "df_2e_0k = df_2e_2k.query(\"alter > 10\").copy()\n",
    "df_2e_0k"
   ]
  },
  {
   "cell_type": "markdown",
   "metadata": {},
   "source": [
    "## Gruppieren der Datensätze in einem dict\n",
    "\n",
    "Da alle Datensätze die gleiche Struktur haben, empfiehlt es sich, sie in einem Dictionary\n",
    "zu gruppieren. Der key ist die Zahl der Kinder, der value der eben erstellte Datensatz.\n",
    "\n",
    "Im nächsten Schritt können wir dann einfach darüber schleifen, anstatt den Aufruf von\n",
    "GETTSIM dreimal zu programmieren."
   ]
  },
  {
   "cell_type": "code",
   "execution_count": null,
   "metadata": {},
   "outputs": [],
   "source": [
    "daten_nach_kindern = {\n",
    "    0: df_2e_0k,\n",
    "    1: df_2e_1k,\n",
    "    2: df_2e_2k,\n",
    "}"
   ]
  },
  {
   "cell_type": "markdown",
   "metadata": {},
   "source": [
    "## Anwendung von GETTSIM für Kindergeld und Steuern\n",
    "\n",
    "Zunächst setzen wir wieder das Steuersystem für 2020 auf."
   ]
  },
  {
   "cell_type": "code",
   "execution_count": null,
   "metadata": {},
   "outputs": [],
   "source": [
    "params_dict, policy_func_dict = get_policies_for_date(\"2020\")"
   ]
  },
  {
   "cell_type": "markdown",
   "metadata": {},
   "source": [
    "Nun rufen wir GETTSIM auf. Als Rückgabe benötigen wir die Identifizierungsnummer für das\n",
    "Steuersubjekt, das Kindergeld, sowie Einkommensteuer und Solidaritätszuschlag.\n",
    "\n",
    "Funktionen und Parameter übernehmen wir direkt aus dem Steuersystem."
   ]
  },
  {
   "cell_type": "code",
   "execution_count": null,
   "metadata": {},
   "outputs": [],
   "source": [
    "ergebnisse_nach_kindern = {}\n",
    "for n_kinder, daten in daten_nach_kindern.items():\n",
    "    ergebnisse_nach_kindern[n_kinder] = compute_taxes_and_transfers(\n",
    "        daten,\n",
    "        user_functions=policy_func_dict,\n",
    "        params=params_dict,\n",
    "        targets=[\n",
    "                \"kindergeld_m_tu\",\n",
    "                \"eink_st_tu\",\n",
    "            ],\n",
    "        debug=True\n",
    "    )"
   ]
  },
  {
   "cell_type": "code",
   "execution_count": null,
   "metadata": {},
   "outputs": [],
   "source": [
    "d = ergebnisse_nach_kindern[1].copy()\n",
    "d = d[[\"hh_id\"] + list(d.columns)]"
   ]
  },
  {
   "cell_type": "code",
   "execution_count": null,
   "metadata": {},
   "outputs": [],
   "source": [
    "pd.set_option(\"display.max_rows\", 100)"
   ]
  },
  {
   "cell_type": "code",
   "execution_count": null,
   "metadata": {},
   "outputs": [],
   "source": [
    "d.loc[:3].T"
   ]
  },
  {
   "cell_type": "markdown",
   "metadata": {},
   "source": [
    "## Berechnung jährlicher Werte auf Steuersubjektsebene, schöne Variablennamen\n",
    "\n",
    "Wie Sie an dem DataFrame oberhalb dieser Zelle sehen, sind die Werte für\n",
    "alle Mitglieder einer Steuereinheit repliziert. \n",
    "\n",
    "Außerdem ist das Kindergeld auf monatlicher Ebene, für die\n",
    "Vergleichbarkeit brauchen wir aber jährliche Werte.\n",
    "\n",
    "Schließlich wollen wir gleich über die Zahl der Kinder hinweg vergleichen,\n",
    "wenn wir die Datensätze zusammenfügen, brauchen wir unterschiedliche\n",
    "Variablennamen."
   ]
  },
  {
   "cell_type": "code",
   "execution_count": null,
   "metadata": {},
   "outputs": [],
   "source": [
    "for n_kinder in ergebnisse_nach_kindern.keys():\n",
    "    # Jährliches Kindergeld auf Ebene der Steuersubjekte\n",
    "    ergebnisse_nach_kindern[n_kinder][\"kindergeld_tu\"] = ergebnisse_nach_kindern[n_kinder][\"kindergeld_m_tu\"] * 12\n",
    "    # Lösche monatliche Werte\n",
    "    ergebnisse_nach_kindern[n_kinder] = ergebnisse_nach_kindern[n_kinder].drop(\"kindergeld_m_tu\", axis=1)\n",
    "    # Behalte nur eine Zeile pro Steuersubjekt\n",
    "    ergebnisse_nach_kindern[n_kinder] = ergebnisse_nach_kindern[n_kinder].drop_duplicates(\"tu_id\").set_index(\"tu_id\")\n",
    "    #\n",
    "    if n_kinder == 0:\n",
    "        zusatz = \"keine Kinder\"\n",
    "    elif n_kinder == 1:\n",
    "        zusatz = \"ein Kind\"\n",
    "    elif n_kinder == 2:\n",
    "        zusatz = \"zwei Kinder\"\n",
    "    else:\n",
    "        raise NotImplementedError(f\"n_kinder = {n_kinder}\")\n",
    "    ergebnisse_nach_kindern[n_kinder] = ergebnisse_nach_kindern[n_kinder].rename(\n",
    "        columns={\n",
    "            \"kindergeld_tu\": \"Kindergeld, \" + zusatz,\n",
    "            \"eink_st_tu\": \"Einkommensteuer, \" + zusatz,\n",
    "            \"soli_st_tu\": \"Soli, \" + zusatz,\n",
    "        }\n",
    "    )\n",
    "    "
   ]
  },
  {
   "cell_type": "code",
   "execution_count": null,
   "metadata": {},
   "outputs": [],
   "source": [
    "ergebnisse_nach_kindern[0]"
   ]
  },
  {
   "cell_type": "markdown",
   "metadata": {},
   "source": [
    "## Erstellen der Gesamtbruttoeinkünfte von Steuersubjekten und eines DataFrames für Vergleiche\n",
    "\n",
    "Wir summieren nun die Einkünfte eines Haushalts auf (das funktioniert nur, weil wir alle anderen\n",
    "Einkünfte neben dem monatlichen Bruttolohn auf Null und die Einkünfte der Kinder auf fehlend\n",
    "gesetzt haben)."
   ]
  },
  {
   "cell_type": "code",
   "execution_count": null,
   "metadata": {},
   "outputs": [],
   "source": [
    "gesamteink_tu = daten_nach_kindern[0].groupby(\"tu_id\")[\"bruttolohn_m\"].sum() * 12\n",
    "gesamteink_tu.name = \"Gesamteinkünfte Steuersubjekt\"\n",
    "gesamteink_tu.head()"
   ]
  },
  {
   "cell_type": "markdown",
   "metadata": {},
   "source": [
    "Nun fügen wir die Gesamteinkünfte mit den von GETTSIM erhaltenen Werten für Einkommensteuer,\n",
    "Soli und Kindergeld für alle drei Haushaltstypen zusammen"
   ]
  },
  {
   "cell_type": "code",
   "execution_count": null,
   "metadata": {},
   "outputs": [],
   "source": [
    "vergleich = gesamteink_tu.to_frame().join(ergebnisse_nach_kindern[0]).join(ergebnisse_nach_kindern[1]).join(ergebnisse_nach_kindern[2]).set_index(\"Gesamteinkünfte Steuersubjekt\").round(2)\n",
    "vergleich"
   ]
  },
  {
   "cell_type": "markdown",
   "metadata": {},
   "source": [
    "## Berechnung des Steuervorteils aus der Einkommensteuer für Haushalte mit Kindern im Vergleich zu Haushalten ohne."
   ]
  },
  {
   "cell_type": "code",
   "execution_count": null,
   "metadata": {},
   "outputs": [],
   "source": [
    "for n_kinder in \"ein Kind\", \"zwei Kinder\":\n",
    "    vergleich[\"Steuervorteil Einkommensteuer, \" + n_kinder] = (\n",
    "        vergleich[\"Einkommensteuer, keine Kinder\"]\n",
    "        - vergleich[\"Kindergeld, keine Kinder\"]\n",
    "        - vergleich[\"Einkommensteuer, \" + n_kinder]\n",
    "        + vergleich[\"Kindergeld, \" + n_kinder]\n",
    "    )\n",
    "vergleich"
   ]
  },
  {
   "cell_type": "markdown",
   "metadata": {},
   "source": [
    "## Plots Kindergeld, Einkommensteuer, Vorteil für Haushalte mit Kindern"
   ]
  },
  {
   "cell_type": "code",
   "execution_count": null,
   "metadata": {},
   "outputs": [],
   "source": [
    "vergleich[[c for c in vergleich.columns if c.startswith(\"Kindergeld\")]].plot();"
   ]
  },
  {
   "cell_type": "code",
   "execution_count": null,
   "metadata": {},
   "outputs": [],
   "source": [
    "vergleich[[c for c in vergleich.columns if c.startswith(\"Eink\")]].plot();"
   ]
  },
  {
   "cell_type": "code",
   "execution_count": null,
   "metadata": {},
   "outputs": [],
   "source": [
    "vergleich[[c for c in vergleich.columns if c.startswith(\"Steuervorteil Einkommensteuer\")]].plot();"
   ]
  },
  {
   "cell_type": "code",
   "execution_count": null,
   "metadata": {},
   "outputs": [],
   "source": [
    "vergleich.loc[80000:].head(20)"
   ]
  },
  {
   "cell_type": "markdown",
   "metadata": {},
   "source": [
    "## Aufgabe 1: Interpretation der Dualität Kindergeld / Kinderfreibetrag (20 Minuten)\n",
    "\n",
    "Warum sind die Kurven für die Steuervorteile für Einkommen bis in den Bereich zwischen 80.000€ und 90.000€ flach?"
   ]
  },
  {
   "cell_type": "markdown",
   "metadata": {},
   "source": [
    "*Hier Platz für Ihre Antwort*"
   ]
  },
  {
   "cell_type": "markdown",
   "metadata": {},
   "source": [
    "Warum sind die Kurven flach für sehr hohe Einkommen?"
   ]
  },
  {
   "cell_type": "markdown",
   "metadata": {},
   "source": [
    "*Hier Platz für Ihre Antwort*"
   ]
  },
  {
   "cell_type": "markdown",
   "metadata": {},
   "source": [
    "Warum steigen die Kurven im Bereich dazwischen nahezu linear an?"
   ]
  },
  {
   "cell_type": "markdown",
   "metadata": {},
   "source": [
    "*Hier Platz für Ihre Antwort*"
   ]
  },
  {
   "cell_type": "markdown",
   "metadata": {},
   "source": [
    "## Aufgabe 2: Gesamter Steuervorteil (überspringen, falls sonst weniger als 10 Minuten für Aufgabe 3).\n",
    "\n",
    "\n",
    "Wiederholen Sie die Berechnung des Steuervorteils von oben, beziehen Sie nun jedoch den Soli mit ein.\n",
    "\n",
    "Erstellen Sie zwei Grafiken, wieder auf Ebene der Steuersubjekte: \n",
    "\n",
    "1. Solidaritätszuschlag nach Gesamteinkünften\n",
    "2. Gesamter Steuervorteil nach Gesamteinkünften\n",
    "\n",
    "Interpretieren Sie Ihre Ergebnisse (Sie dürfen gern Internetrecherche betreiben)!"
   ]
  },
  {
   "cell_type": "code",
   "execution_count": null,
   "metadata": {},
   "outputs": [],
   "source": [
    "for n_kinder in \"ein Kind\", \"zwei Kinder\":\n",
    "    vergleich[\"Steuervorteil gesamt, \" + n_kinder] = (\n",
    "        vergleich[\"Steuervorteil Einkommensteuer, \" + n_kinder]\n",
    "        + vergleich[\"Soli, keine Kinder\"]\n",
    "        - vergleich[\"Soli, \" + n_kinder]\n",
    "    )"
   ]
  },
  {
   "cell_type": "code",
   "execution_count": null,
   "metadata": {},
   "outputs": [],
   "source": [
    "vergleich[[c for c in vergleich.columns if c.startswith(\"Soli\")]].plot();"
   ]
  },
  {
   "cell_type": "code",
   "execution_count": null,
   "metadata": {},
   "outputs": [],
   "source": [
    "vergleich[[c for c in vergleich.columns if c.startswith(\"Steuervorteil gesamt\")]].plot();"
   ]
  },
  {
   "cell_type": "code",
   "execution_count": null,
   "metadata": {},
   "outputs": [],
   "source": []
  }
 ],
 "metadata": {
  "kernelspec": {
   "display_name": "gettsim",
   "language": "python",
   "name": "gettsim"
  },
  "language_info": {
   "codemirror_mode": {
    "name": "ipython",
    "version": 3
   },
   "file_extension": ".py",
   "mimetype": "text/x-python",
   "name": "python",
   "nbconvert_exporter": "python",
   "pygments_lexer": "ipython3",
   "version": "3.7.7"
  }
 },
 "nbformat": 4,
 "nbformat_minor": 4
}
