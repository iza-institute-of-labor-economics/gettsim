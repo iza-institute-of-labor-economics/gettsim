{
 "cells": [
  {
   "cell_type": "markdown",
   "metadata": {},
   "source": [
    "# Replace singe functions in tax-benefit simulations"
   ]
  },
  {
   "cell_type": "code",
   "execution_count": 1,
   "metadata": {},
   "outputs": [],
   "source": [
    "import numpy as np\n",
    "import pandas as pd\n",
    "from functools import partial\n",
    "from unittest.mock import patch"
   ]
  },
  {
   "cell_type": "markdown",
   "metadata": {},
   "source": [
    "### Minimal Tax Benefit System"
   ]
  },
  {
   "cell_type": "code",
   "execution_count": 2,
   "metadata": {},
   "outputs": [],
   "source": [
    "def taxes(income, tax_rate):\n",
    "    return income * tax_rate\n",
    "\n",
    "def benefits(income, consumption_floor):\n",
    "    return np.clip(consumption_floor - income, 0, np.inf)\n",
    "    \n",
    "def available_income(income, tax_rate, consumption_floor, cutoffs):\n",
    "    t = taxes(income, tax_rate)\n",
    "    b = benefits(income, consumption_floor, cutoff)\n",
    "    return income - t + b "
   ]
  },
  {
   "cell_type": "markdown",
   "metadata": {},
   "source": [
    "### Goal\n",
    "\n",
    "We might want to replace the `taxes` function by something completely different but keep the rest of the code intact. \n",
    "\n",
    "### Example"
   ]
  },
  {
   "cell_type": "code",
   "execution_count": 3,
   "metadata": {},
   "outputs": [],
   "source": [
    "def piecewise_taxes(income, tax_rates, cutoffs):\n",
    "    cutoffs = np.hstack([0, cutoffs, np.inf])\n",
    "    tax = 0.0\n",
    "    for c, cutoff in enumerate(cutoffs[:-1]):\n",
    "        if cutoff <= income and cutoffs[c + 1] <= income:\n",
    "            tax += (cutoffs[c + 1] - cutoff) * tax_rates[c]\n",
    "        elif cutoff <= income and cutoffs[c + 1] > income:\n",
    "            tax += (income - cutoff) * tax_rates[c]\n",
    "        else:\n",
    "            pass\n",
    "    return tax"
   ]
  },
  {
   "cell_type": "markdown",
   "metadata": {},
   "source": [
    "### Problems\n",
    "\n",
    "1. Function signatures are specific to current tax system\n",
    "2. Need to patch one function (e.g. taxes) while keeping the rest intact"
   ]
  },
  {
   "cell_type": "markdown",
   "metadata": {},
   "source": [
    "### 1) Make function signatures independent of current tax system\n",
    "\n",
    "#### 1a) prescribe minimal interface"
   ]
  },
  {
   "cell_type": "code",
   "execution_count": 4,
   "metadata": {},
   "outputs": [],
   "source": [
    "def taxes(income, params):\n",
    "    tax_rate = params['tax_rate']\n",
    "    return income * tax_rate\n",
    "\n",
    "def benefits(income, params):\n",
    "    cutoff = params['cutoff']\n",
    "    consumption_floor = params['consumption_floor']\n",
    "    if income < cutoff:\n",
    "        return consumption_floor\n",
    "    else:\n",
    "        return 0\n",
    "    \n",
    "def available_income(income, tax_params, benefit_params):\n",
    "    t = part_taxes(income, tax_params)\n",
    "    b = part_benefits(income, benefit_params)\n",
    "    return income - t + b\n",
    "    "
   ]
  },
  {
   "cell_type": "markdown",
   "metadata": {},
   "source": [
    "\n",
    "#### 1b) partial all functions to a minimal interface (only income)"
   ]
  },
  {
   "cell_type": "code",
   "execution_count": 5,
   "metadata": {},
   "outputs": [],
   "source": [
    "def taxes(income, tax_rate):\n",
    "    return income * tax_rate\n",
    "\n",
    "def benefits(income, consumption_floor):\n",
    "    return np.clip(consumption_floor - income, 0, np.inf)\n",
    "\n",
    "\n",
    "part_taxes = partial(taxes, tax_rate=0.2)\n",
    "part_benefits = partial(benefits, consumption_floor=5000)\n",
    "\n",
    "def available_income(income):\n",
    "    t = part_taxes(income)\n",
    "    b = part_benefits(income)\n",
    "    return income - t + b"
   ]
  },
  {
   "cell_type": "markdown",
   "metadata": {},
   "source": [
    "### 2) Patch context manager"
   ]
  },
  {
   "cell_type": "code",
   "execution_count": 6,
   "metadata": {},
   "outputs": [
    {
     "data": {
      "text/plain": [
       "16000.0"
      ]
     },
     "execution_count": 6,
     "metadata": {},
     "output_type": "execute_result"
    }
   ],
   "source": [
    "available_income(20000)"
   ]
  },
  {
   "cell_type": "code",
   "execution_count": 7,
   "metadata": {},
   "outputs": [
    {
     "name": "stdout",
     "output_type": "stream",
     "text": [
      "18000.0\n"
     ]
    }
   ],
   "source": [
    "part_piecewise_taxes = partial(piecewise_taxes, tax_rates=[0.2, 0.3, 0.4, 0.5], cutoffs=[10000, 20000, 30000])\n",
    "with patch('__main__.part_taxes', side_effect=part_piecewise_taxes):\n",
    "    print(available_income(25000))"
   ]
  },
  {
   "cell_type": "code",
   "execution_count": 8,
   "metadata": {},
   "outputs": [
    {
     "data": {
      "text/plain": [
       "16000.0"
      ]
     },
     "execution_count": 8,
     "metadata": {},
     "output_type": "execute_result"
    }
   ],
   "source": [
    "available_income(20000)"
   ]
  },
  {
   "cell_type": "markdown",
   "metadata": {},
   "source": [
    "### Further Challenges\n",
    "\n",
    "1. Neither the partial nor the dictionary interface work with numba\n",
    "2. Patching is too difficult for most users, we would need a nicer interface"
   ]
  },
  {
   "cell_type": "code",
   "execution_count": null,
   "metadata": {},
   "outputs": [],
   "source": []
  }
 ],
 "metadata": {
  "kernelspec": {
   "display_name": "Python 3",
   "language": "python",
   "name": "python3"
  },
  "language_info": {
   "codemirror_mode": {
    "name": "ipython",
    "version": 3
   },
   "file_extension": ".py",
   "mimetype": "text/x-python",
   "name": "python",
   "nbconvert_exporter": "python",
   "pygments_lexer": "ipython3",
   "version": "3.7.3"
  }
 },
 "nbformat": 4,
 "nbformat_minor": 2
}
