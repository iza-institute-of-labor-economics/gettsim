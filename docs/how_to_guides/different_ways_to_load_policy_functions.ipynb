{
 "cells": [
  {
   "cell_type": "markdown",
   "metadata": {},
   "source": [
    "# Different Ways to Load Policy Functions\n",
    "\n",
    "## Introduction\n",
    "\n",
    "This how-to guide is about the different ways you can pass policy functions to the `functions` argument of `compute_taxes_and_transfers()` which will extend or replace parts of the current policy environment."
   ]
  },
  {
   "cell_type": "code",
   "execution_count": null,
   "metadata": {},
   "outputs": [],
   "source": [
    "from gettsim import config, set_up_policy_environment"
   ]
  },
  {
   "cell_type": "markdown",
   "metadata": {},
   "source": [
    "This tutorial starts after the user called `set_up_policy_environment` and received the `policy_parameters` and `policy_functions`."
   ]
  },
  {
   "cell_type": "code",
   "execution_count": null,
   "metadata": {},
   "outputs": [],
   "source": [
    "environment = set_up_policy_environment(2020)"
   ]
  },
  {
   "cell_type": "markdown",
   "metadata": {},
   "source": [
    "## A Single Function\n",
    "\n",
    "One way to pass a single function to the tax and transfer system is alongside the `policy_functions`. As an example, we create a function called `kindergeld_m`. The function has no body because it is irrelevant for this guide. The function can be passed to `compute_taxes_and_transfers` alongside the `policy_functions` by placing both objects in a list."
   ]
  },
  {
   "cell_type": "code",
   "execution_count": null,
   "metadata": {},
   "outputs": [],
   "source": [
    "def kindergeld_m():\n",
    "    pass"
   ]
  },
  {
   "cell_type": "markdown",
   "metadata": {},
   "source": [
    "Here is how you would call `compute_taxes_and_transfers`:\n",
    "\n",
    "```python\n",
    "df = compute_taxes_and_transfers(\n",
    "    data=data,\n",
    "    params=policy_params,\n",
    "    functions=[policy_functions, kindergeld_m],\n",
    "    targets=\"kindergeld_m_hh\",\n",
    ")\n",
    "```\n",
    "\n",
    "There are three important points.\n",
    "\n",
    "1. Note that, `kindergeld_m_hh` has the same function name as a [pre-defined function](https://gettsim.readthedocs.io/en/stable/gettsim_objects/functions.html#gettsim.functions.kindergeld_m_hh) inside gettsim. Thus, the internal function will be replaced with this version.\n",
    "\n",
    "2. In general, if there are multiple functions with the same name, internal functions have the lowest precedence. After that, the elements in the list passed to the `functions` argument are evaluated element by element. The leftmost element has the lowest precedence and the rightmost element the highest.\n",
    "\n",
    "3. If `policy_functions` would not be necessary for this example, you can also directly pass the `kindergeld_m` function to the `functions` argument.\n",
    "\n",
    "   ```python\n",
    "   df = compute_taxes_and_transfers(\n",
    "       ...,\n",
    "       functions=kindergeld_m,\n",
    "       ...,\n",
    "   )\n",
    "   ```\n",
    "   \n",
    "## Multiple Functions\n",
    "\n",
    "If you want to pass multiple functions to `compute_taxes_and_transfers`, add all functions to the list. Assume we also want to override `kindergeld_m` and have a function for that as well. Then, the call looks like this:\n",
    "\n",
    "```python\n",
    "df = compute_taxes_and_transfers(\n",
    "    data=data,\n",
    "    params=policy_params,\n",
    "    functions=[policy_functions, kindergeld_m_hh, kindergeld_m],\n",
    "    targets=\"kindergeld_m\",\n",
    ")\n",
    "```"
   ]
  },
  {
   "cell_type": "markdown",
   "metadata": {},
   "source": [
    "## Renaming Functions\n",
    "\n",
    "Assume you want to analyze the effects of multiple different child benefit policies with different functions. Usually, you would group them in one module, say `kindergeld.py`. You cannot give them all the same name and it is also preferred to give them self-explanatory names."
   ]
  },
  {
   "cell_type": "code",
   "execution_count": null,
   "metadata": {},
   "outputs": [],
   "source": [
    "# Content of kindergeld.py\n",
    "\n",
    "\n",
    "def kindergeld_m_hh_constant_per_hh():\n",
    "    pass\n",
    "\n",
    "\n",
    "def kindergeld_m_hh_constant_per_child():\n",
    "    pass"
   ]
  },
  {
   "cell_type": "markdown",
   "metadata": {},
   "source": [
    "Since the functions do not have the same name as the original function `kindergeld_m_hh`, they would not override this function if we pass one of them to `compute_taxes_and_transfers`. To solve this issue, we can use dictionaries.\n",
    "\n",
    "The keys of the dictionary are the names which will be used for the functions which are the values of the dictionary. The following code snippet shows the pseudo-code for the task (note that the index of `simulated_data` would eventually contain repeated values, in an actual application you would want to add a level indicating the type of function used):\n",
    "\n",
    "```python\n",
    "simulated_data = []\n",
    "for func in [\n",
    "    kindergeld_m_hh_constant_per_hh,\n",
    "    kindergeld_m_hh_constant_per_child,\n",
    "]:\n",
    "    df = compute_taxes_and_transfers(\n",
    "        data=data,\n",
    "        params=policy_params,\n",
    "        functions=[policy_functions, {\"kindergeld_m_hh\": func}],\n",
    "        targets=\"kindergeld_m\",\n",
    "    )\n",
    "    simulated_data = pd.concat(objs=[simulated_data, df])\n",
    "```"
   ]
  },
  {
   "attachments": {},
   "cell_type": "markdown",
   "metadata": {},
   "source": [
    "## Paths to Packages or Modules\n",
    "\n",
    "If you have heavily extended the tax and transfer system to your needs, you might have a `.py` file with several functions or even several `.py` files with several functions. Assume you have a folder `taxes` which has the following directory structure:\n",
    "\n",
    "```\n",
    "taxes\n",
    "│   abgelt_st.py\n",
    "│   eink_st.py\n",
    "│   favorability_check.py\n",
    "│   kindergeld.py\n",
    "│   soli_st.py\n",
    "│   __init__.py\n",
    "│\n",
    "├───zu_verst_eink\n",
    "│       eink.py\n",
    "│       freibeträge.py\n",
    "│       vorsorgeaufw.py\n",
    "│       zu_verst_eink.py\n",
    "│       __init__.py\n",
    "```\n",
    "\n",
    "Indeed, the folder structure exists inside gettsim and we can locate it with"
   ]
  },
  {
   "cell_type": "code",
   "execution_count": null,
   "metadata": {},
   "outputs": [],
   "source": [
    "path = config.RESOURCE_DIR.joinpath(\"taxes\")\n",
    "path"
   ]
  },
  {
   "cell_type": "markdown",
   "metadata": {},
   "source": [
    "To collect only functions from `abgelt_st.py`, you can pass the path to the file as a string or as a `pathlib.Path`."
   ]
  },
  {
   "cell_type": "code",
   "execution_count": null,
   "metadata": {},
   "outputs": [],
   "source": [
    "path_str = str(path)\n",
    "path_str"
   ]
  },
  {
   "cell_type": "code",
   "execution_count": null,
   "metadata": {},
   "outputs": [],
   "source": [
    "# Path as string.\n",
    "functions = path_str + \"\\\\abgelt_st.py\"\n",
    "functions"
   ]
  },
  {
   "cell_type": "code",
   "execution_count": null,
   "metadata": {},
   "outputs": [],
   "source": [
    "functions = path / \"abgelt_st.py\"\n",
    "functions"
   ]
  },
  {
   "cell_type": "markdown",
   "metadata": {},
   "source": [
    "To collect multiple Python files, use a list of paths or strings."
   ]
  },
  {
   "cell_type": "code",
   "execution_count": null,
   "metadata": {},
   "outputs": [],
   "source": [
    "functions = [path / \"eink_st.py\", path / \"zu_verst_eink\" / \"eink.py\"]\n",
    "functions"
   ]
  },
  {
   "cell_type": "markdown",
   "metadata": {},
   "source": [
    "To collect all Python files in the folder `taxes`, use"
   ]
  },
  {
   "cell_type": "code",
   "execution_count": null,
   "metadata": {},
   "outputs": [],
   "source": [
    "functions = list(path.glob(\"*.py\"))\n",
    "functions"
   ]
  },
  {
   "cell_type": "markdown",
   "metadata": {},
   "source": [
    "If you want to pass all functions defined in Python files in `taxes` and directories below, you can simply pass a directory as the function. Paths to directories will be recursively searched for Python files."
   ]
  },
  {
   "cell_type": "code",
   "execution_count": null,
   "metadata": {},
   "outputs": [],
   "source": [
    "functions = str(path)\n",
    "functions"
   ]
  },
  {
   "cell_type": "code",
   "execution_count": null,
   "metadata": {},
   "outputs": [],
   "source": [
    "functions = path\n",
    "functions"
   ]
  },
  {
   "cell_type": "markdown",
   "metadata": {},
   "source": [
    "## Modules\n",
    "\n",
    "To load all functions from a module, you can provide an import statement as a string."
   ]
  },
  {
   "cell_type": "code",
   "execution_count": null,
   "metadata": {},
   "outputs": [],
   "source": [
    "functions = \"gettsim.taxes.abgelt_st\"\n",
    "functions"
   ]
  },
  {
   "cell_type": "code",
   "execution_count": null,
   "metadata": {},
   "outputs": [],
   "source": []
  }
 ],
 "metadata": {
  "language_info": {
   "codemirror_mode": {
    "name": "ipython",
    "version": 3
   },
   "file_extension": ".py",
   "mimetype": "text/x-python",
   "name": "python",
   "nbconvert_exporter": "python",
   "pygments_lexer": "ipython3"
  }
 },
 "nbformat": 4,
 "nbformat_minor": 4
}
