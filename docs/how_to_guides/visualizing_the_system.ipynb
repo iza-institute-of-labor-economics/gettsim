{
 "cells": [
  {
   "cell_type": "markdown",
   "id": "0",
   "metadata": {},
   "source": [
    "\n",
    "#  Visualizing the Taxes and Transfers System"
   ]
  },
  {
   "cell_type": "markdown",
   "id": "1",
   "metadata": {},
   "source": [
    "## How to create a plot"
   ]
  },
  {
   "cell_type": "markdown",
   "id": "2",
   "metadata": {},
   "source": [
    "To help you understand how GETTSIM works internally and how you are able to implement\n",
    "custom reforms, you can visualize the tax and transfer system. This tutorial explains\n",
    "how to create a graphic and what information you can get from it. It also explains\n",
    "GETTSIM’s design to some extent."
   ]
  },
  {
   "cell_type": "code",
   "execution_count": null,
   "id": "3",
   "metadata": {},
   "outputs": [],
   "source": [
    "from gettsim import plot_dag, set_up_policy_environment"
   ]
  },
  {
   "cell_type": "markdown",
   "id": "4",
   "metadata": {},
   "source": [
    "For the visualization, we need to set up our policy environment."
   ]
  },
  {
   "cell_type": "code",
   "execution_count": null,
   "id": "5",
   "metadata": {},
   "outputs": [],
   "source": [
    "policy_params, policy_functions = set_up_policy_environment(date=2020)"
   ]
  },
  {
   "cell_type": "markdown",
   "id": "6",
   "metadata": {},
   "source": [
    "Functions inside GETTSIM are a little bit special. Take for example `abgelt_st_y_sn`\n",
    "which is documented\n",
    "[here](https://gettsim.readthedocs.io/en/stable/gettsim_objects/functions.html#gettsim.functions.abgelt_st_y_sn).\n",
    "The signature of the function is\n",
    "\n",
    "```python\n",
    "def abgelt_st_y_sn(zu_verst_kapitaleink_y_sn, abgelt_st_params):\n",
    "    pass\n",
    "```\n",
    "\n",
    "This functions has two arguments and one of them passes parameters to the function. Most\n",
    "functions require some parameters, but it is not necessary. The names of the arguments\n",
    "correspond to either a variable in the data provided by the user or to another function\n",
    "which, in turn, also relies on some arguments.\n",
    "\n",
    "Here, ``abgelt_st_params`` is a paramter file which includes paramters needed to\n",
    "calculate the capital income tax. ``zu_verst_kapitaleink_y_sn`` on the other hand is\n",
    "itself a function which is documented\n",
    "[here](https://gettsim.readthedocs.io/en/stable/gettsim_objects/functions.html#gettsim.functions.zu_verst_kapital_eink_sn).\n",
    "By using ``zu_verst_kapitaleink_y_sn`` as an argument name, GETTSIM knows to pass the\n",
    "data computed by the function ``zu_verst_kapitaleink_y_sn`` to ``abgelt_st_y_sn``.\n",
    "\n",
    "This dependency relationship can be analyzed for all functions passed to GETTSIM and be\n",
    "visualized in a dag. Below you can see a plot of all variables which are directly\n",
    "connected to ``zu_verst_kapitaleink_y_sn``. The arrows point from dependencies to\n",
    "dependents. Each node is either a functions or a variable."
   ]
  },
  {
   "cell_type": "code",
   "execution_count": null,
   "id": "7",
   "metadata": {},
   "outputs": [],
   "source": [
    "plot_dag(\n",
    "    functions=policy_functions,\n",
    "    selectors=[{\"node\": \"zu_verst_kapitaleink_y_sn\", \"type\": \"neighbors\"}],\n",
    ").show()"
   ]
  },
  {
   "cell_type": "markdown",
   "id": "8",
   "metadata": {},
   "source": [
    "The general interface of the plotting function is similar to ``compute_taxes_and_transfers()``, but without the ``data`` and ``params`` argument. Here is the complete signature."
   ]
  },
  {
   "cell_type": "code",
   "execution_count": null,
   "id": "9",
   "metadata": {},
   "outputs": [],
   "source": [
    "plot_dag?"
   ]
  },
  {
   "cell_type": "markdown",
   "id": "10",
   "metadata": {},
   "source": [
    "In the following, you see many ways to either select different subsets of the graph or style the plot."
   ]
  },
  {
   "cell_type": "markdown",
   "id": "11",
   "metadata": {},
   "source": [
    "## Orientation"
   ]
  },
  {
   "cell_type": "markdown",
   "id": "12",
   "metadata": {},
   "source": [
    "By default orientation of graph is vertical. It is possible to change the orientation of graph to horizontal one by setting `plot_dag(..., orientation='h') `"
   ]
  },
  {
   "cell_type": "code",
   "execution_count": null,
   "id": "13",
   "metadata": {},
   "outputs": [],
   "source": [
    "plot_dag(\n",
    "    functions=policy_functions,\n",
    "    selectors=[{\"node\": \"zu_verst_kapitaleink_y_sn\", \"type\": \"neighbors\"}],\n",
    "    orientation=\"h\",\n",
    ").show()"
   ]
  },
  {
   "cell_type": "markdown",
   "id": "14",
   "metadata": {},
   "source": [
    "## Labels"
   ]
  },
  {
   "cell_type": "markdown",
   "id": "15",
   "metadata": {},
   "source": [
    "By default (when `show_labels` is set to its default of `None`), all all names are displayed next to the node whenever the number of nodes is smaller than 10. For 10 nodes or more like in the example below, the names are by default displayed next to the node only when hovering over it."
   ]
  },
  {
   "cell_type": "code",
   "execution_count": null,
   "id": "16",
   "metadata": {},
   "outputs": [],
   "source": [
    "plot_dag(\n",
    "    functions=policy_functions,\n",
    "    selectors=[{\"node\": \"geringfügig_beschäftigt\", \"type\": \"descendants\"}],\n",
    "    orientation=\"h\",\n",
    ").show()"
   ]
  },
  {
   "cell_type": "markdown",
   "id": "17",
   "metadata": {},
   "source": [
    "`show_labels` can be also set to `True` or `False` to enfore displaying or not displaying all labels."
   ]
  },
  {
   "cell_type": "code",
   "execution_count": null,
   "id": "18",
   "metadata": {},
   "outputs": [],
   "source": [
    "selector = {\"type\": \"descendants\", \"node\": \"geringfügig_beschäftigt\"}\n",
    "plot_dag(\n",
    "    functions=policy_functions, show_labels=False, selectors=selector, orientation=\"h\"\n",
    ").show()"
   ]
  },
  {
   "cell_type": "markdown",
   "id": "19",
   "metadata": {},
   "source": [
    "## Hover info (source code)"
   ]
  },
  {
   "cell_type": "markdown",
   "id": "20",
   "metadata": {},
   "source": [
    "It is also possible to address the source code of the function. By setting `plot_dag(..., hover_source_code=True)`"
   ]
  },
  {
   "cell_type": "code",
   "execution_count": null,
   "id": "21",
   "metadata": {},
   "outputs": [],
   "source": [
    "plot_dag(\n",
    "    functions=policy_functions,\n",
    "    selectors=[{\"node\": \"zu_verst_kapitaleink_y_sn\", \"type\": \"neighbors\"}],\n",
    "    orientation=\"h\",\n",
    "    hover_source_code=True,\n",
    ").show()"
   ]
  },
  {
   "cell_type": "markdown",
   "id": "22",
   "metadata": {},
   "source": [
    "## Selectors\n",
    "\n",
    "Selectors allow you to visualize only a subset of the complete graph of the tax and transfer systems. They can be passed to the `selectors` argument of the `plot_dag()` function. There exist some ways to define a selector and they can be combined with one another. Let us discuss each selector on its own first.\n",
    "\n",
    "## Basics\n",
    "\n",
    "It is always possible to pass a string or a list of strings to `selectors`. In this case only the given nodes are displayed in the plot."
   ]
  },
  {
   "cell_type": "code",
   "execution_count": null,
   "id": "23",
   "metadata": {},
   "outputs": [],
   "source": [
    "selectors = \"kapitaleink_brutto_y_sn\"\n",
    "\n",
    "plot_dag(functions=policy_functions, selectors=selectors, orientation=\"h\").show()"
   ]
  },
  {
   "cell_type": "markdown",
   "id": "24",
   "metadata": {},
   "source": [
    "Using a list of variable names, we can select multiple nodes."
   ]
  },
  {
   "cell_type": "code",
   "execution_count": null,
   "id": "25",
   "metadata": {},
   "outputs": [],
   "source": [
    "selectors = [\"kapitaleink_brutto_y_sn\", \"zu_verst_kapitaleink_y_sn\"]\n",
    "\n",
    "plot_dag(functions=policy_functions, selectors=selectors, orientation=\"h\").show()"
   ]
  },
  {
   "cell_type": "markdown",
   "id": "26",
   "metadata": {},
   "source": [
    "Passing a string or a list of strings to `selectors` is actually a shortcut for the richer interface for selecting nodes. Selectors are usually represented as dictionaries. The corresponding dictionary for selecting a list of nodes is"
   ]
  },
  {
   "cell_type": "code",
   "execution_count": null,
   "id": "27",
   "metadata": {},
   "outputs": [],
   "source": [
    "selector = {\n",
    "    \"type\": \"nodes\",\n",
    "    \"node\": [\"kapitaleink_brutto_y_sn\", \"zu_verst_kapitaleink_y_sn\"],\n",
    "    \"select\": True,  # optional\n",
    "}"
   ]
  },
  {
   "cell_type": "markdown",
   "id": "28",
   "metadata": {},
   "source": [
    "Let us go through the keys of the dictionary one by one.\n",
    "\n",
    "1. `\"type\"` specifies the type of the selector. For a single node or a list of nodes the type is `\"nodes\"`.\n",
    "2. `\"node\"` always refers to the node or nodes to which the selector is applied. In this case, it is the list of node names.\n",
    "3. `\"select\"` specifies whether the nodes should be selected or de-selected. If you do not specify `\"select\"` it is assumed to be `True`.Let us go through the keys of the dictionary one by one.\n"
   ]
  },
  {
   "cell_type": "markdown",
   "id": "29",
   "metadata": {},
   "source": [
    "### De-selecting Nodes\n",
    "\n",
    "It is also possible to specify selectors which de-select some nodes. Note that,\n",
    "\n",
    "- De-selectors are applied after nodes have been selected.\n",
    "- If no selectors are provided, de-selectors de-select nodes from the complete DAG.\n",
    "- Selection and de-selection works for all selector types which follow.\n",
    "\n",
    "For a simple and silly example, we want to reproduce the graph with the single node for `kapitaleink_brutto_y_sn` after, but starting from the last plot which also showed `zu_verst_kapitaleink_y_sn`.\n",
    "\n",
    "First, we define the selectors. The first selector or dictionary in the list selects the two nodes. Note that the `\"select\"` key is `True` by default. The second key in the de-selects `\"zu_verst_kapitaleink_y_sn\"`."
   ]
  },
  {
   "cell_type": "code",
   "execution_count": null,
   "id": "30",
   "metadata": {},
   "outputs": [],
   "source": [
    "selectors = [\n",
    "    {\n",
    "        \"type\": \"nodes\",\n",
    "        \"node\": [\"kapitaleink_brutto_y_sn\", \"zu_verst_kapitaleink_y_sn\"],\n",
    "    },\n",
    "    {\n",
    "        \"type\": \"nodes\",\n",
    "        \"node\": \"zu_verst_kapitaleink_y_sn\",\n",
    "        \"select\": False,\n",
    "    },\n",
    "]\n",
    "plot_dag(functions=policy_functions, selectors=selectors, orientation=\"v\").show()"
   ]
  },
  {
   "cell_type": "markdown",
   "id": "31",
   "metadata": {},
   "source": [
    "### Ancestors and Descendants\n",
    "\n",
    "Two other types of selectors allow you to pick one node and all nodes which appear before or after this node. We call the nodes ancestors or descendants, respectively. To select `\"zu_verst_kapitaleink_y_sn\"` which is the calculated taxable capital income per Steuernummer and all its ancestors, do the following."
   ]
  },
  {
   "cell_type": "code",
   "execution_count": null,
   "id": "32",
   "metadata": {},
   "outputs": [],
   "source": [
    "selector = {\"type\": \"ancestors\", \"node\": \"zu_verst_kapitaleink_y_sn\"}\n",
    "plot_dag(functions=policy_functions, selectors=selector, orientation=\"h\").show()"
   ]
  },
  {
   "cell_type": "markdown",
   "id": "33",
   "metadata": {},
   "source": [
    "To see the variables which are explicitly and implicitly dependent on the information in `\"geringfügig_beschäftigt\"` use the type `\"descendants\"`."
   ]
  },
  {
   "cell_type": "code",
   "execution_count": null,
   "id": "34",
   "metadata": {},
   "outputs": [],
   "source": [
    "selector = {\"type\": \"descendants\", \"node\": \"geringfügig_beschäftigt\"}\n",
    "plot_dag(functions=policy_functions, selectors=selector, orientation=\"h\").show()"
   ]
  },
  {
   "cell_type": "markdown",
   "id": "35",
   "metadata": {},
   "source": [
    "### Neighbors\n",
    "\n",
    "Another common way to look at a graph is to visualize a node and its neighbors, its ancestors and descendants. Let us take a look at `\"kapitaleink_brutto_y_sn\"` again and visualize its direct neighbors."
   ]
  },
  {
   "cell_type": "code",
   "execution_count": null,
   "id": "36",
   "metadata": {},
   "outputs": [],
   "source": [
    "selector = {\"type\": \"neighbors\", \"node\": \"kapitaleink_brutto_y_sn\"}\n",
    "plot_dag(functions=policy_functions, selectors=selector, orientation=\"h\").show()"
   ]
  },
  {
   "cell_type": "markdown",
   "id": "37",
   "metadata": {},
   "source": [
    "It is also possible to look at more distant neighbors or neighbors of order 2, 3, ... . This can be done by the `\"order\"` key which is 1 by default."
   ]
  },
  {
   "cell_type": "code",
   "execution_count": null,
   "id": "38",
   "metadata": {},
   "outputs": [],
   "source": [
    "selector = {\"type\": \"neighbors\", \"node\": \"kapitaleink_brutto_y_sn\", \"order\": 2}\n",
    "plot_dag(functions=policy_functions, selectors=selector, orientation=\"h\").show()"
   ]
  }
 ],
 "metadata": {
  "hide_input": false,
  "language_info": {
   "codemirror_mode": {
    "name": "ipython",
    "version": 3
   },
   "file_extension": ".py",
   "mimetype": "text/x-python",
   "name": "python",
   "nbconvert_exporter": "python",
   "pygments_lexer": "ipython3"
  },
  "toc": {
   "base_numbering": 1,
   "nav_menu": {},
   "number_sections": false,
   "sideBar": true,
   "skip_h1_title": false,
   "title_cell": "Table of Contents",
   "title_sidebar": "Contents",
   "toc_cell": false,
   "toc_position": {
    "height": "calc(100% - 180px)",
    "left": "10px",
    "top": "150px",
    "width": "304px"
   },
   "toc_section_display": true,
   "toc_window_display": false
  }
 },
 "nbformat": 4,
 "nbformat_minor": 5
}
