{
  "cells": [
    {
      "cell_type": "markdown",
      "id": "5e4145fd",
      "metadata": {},
      "source": [
        "\n",
        "#  Visualizing the Taxes and Transfers System"
      ]
    },
    {
      "cell_type": "markdown",
      "id": "51c2f113",
      "metadata": {},
      "source": [
        "## How to create a plot"
      ]
    },
    {
      "cell_type": "markdown",
      "id": "b7d68a23",
      "metadata": {},
      "source": [
        "To help you understand how GETTSIM works internally and how you are able to implement custom reforms, you can visualize the tax and transfer system. This tutorial explains how to create a graphic and what information you can get from it. It also explains GETTSIM’s design to some extent."
      ]
    },
    {
      "cell_type": "code",
      "execution_count": 17,
      "id": "d9987ee9",
      "metadata": {},
      "outputs": [],
      "source": [
        "import os\n",
        "import pandas as pd\n",
        "#import gettsim\n",
        "\n",
        "from gettsim import set_up_policy_environment\n",
        "from gettsim import plot_dag"
      ]
    },
    {
      "cell_type": "markdown",
      "id": "bef4bb3b",
      "metadata": {},
      "source": [
        "For the visualization, we need to set up our policy environment."
      ]
    },
    {
      "cell_type": "code",
      "execution_count": 18,
      "id": "0ccf9772",
      "metadata": {},
      "outputs": [],
      "source": [
        "policy_params, policy_functions = set_up_policy_environment(date=2020)"
      ]
    },
    {
      "cell_type": "markdown",
      "id": "6680ca83",
      "metadata": {},
      "source": [
        "Functions inside GETTSIM are a little bit special. Take for example `abgelt_st_tu` which is documented [here](https://gettsim.readthedocs.io/en/stable/gettsim_objects/functions.html#gettsim.functions.abgelt_st_tu). The signature of the function is\n",
        "\n",
        "```python\n",
        "def abgelt_st_tu(zu_verst_kapitaleink_tu, abgelt_st_params):\n",
        "    pass\n",
        "```\n",
        "\n",
        "This functions has two arguments and one of them passes parameters to the function. Most functions require some parameters, but it is not necessary. The names of the arguments correspond to either a variable in the data provided by the user or to another function which, in turn, also relies on some arguments.\n",
        "\n",
        "Here, ``abgelt_st_params`` is a paramter file which includes paramters needed to calculate the capital income tax. ``zu_verst_kapitaleink_tu`` on the other hand is itself a function which is documented [here](https://gettsim.readthedocs.io/en/stable/gettsim_objects/functions.html#gettsim.functions.zu_verst_kapital_eink_tu). By using ``zu_verst_kapitaleink_tu`` as an argument name, GETTSIM knows to pass the data computed by the function ``zu_verst_kapitaleink_tu`` to ``abgelt_st_tu``.\n",
        "\n",
        "This dependency relationship can be analyzed for all functions passed to GETTSIM and be visualized in a dag. Below you can see a plot of all variables which are directly connected to ``zu_verst_kapitaleink_tu``. The arrows point from dependencies to dependents. Each node is either a functions or a variable."
      ]
    },
    {
      "cell_type": "code",
      "execution_count": 19,
      "id": "f84d00ce",
      "metadata": {},
      "outputs": [
        {
          "data": {
            "application/vnd.jupyter.widget-view+json": {
              "model_id": "6859e187079141ad889bc88366daea19",
              "version_major": 2,
              "version_minor": 0
            },
            "text/plain": [
              "FigureWidget({\n",
              "    'data': [{'hoverinfo': 'none',\n",
              "              'line': {'color': 'blue', 'width': 0.5},\n",
              "     …"
            ]
          },
          "metadata": {},
          "output_type": "display_data"
        }
      ],
      "source": [
        "plot_dag(\n",
        "    functions=policy_functions,\n",
        "    selectors=[{\"node\": \"zu_verst_kapitaleink_tu\", \"type\": \"neighbors\"}],\n",
        ")"
      ]
    },
    {
      "cell_type": "markdown",
      "id": "2d2cf868",
      "metadata": {},
      "source": [
        "The general interface of the plotting function is similar to ``compute_taxes_and_transfers()``, but without the ``data`` and ``params`` argument. Here is the complete signature."
      ]
    },
    {
      "cell_type": "code",
      "execution_count": 20,
      "id": "e225f62f",
      "metadata": {},
      "outputs": [
        {
          "name": "stdout",
          "output_type": "stream",
          "text": [
            "\u001b[0;31mSignature:\u001b[0m\n",
            "\u001b[0mplot_dag\u001b[0m\u001b[0;34m(\u001b[0m\u001b[0;34m\u001b[0m\n",
            "\u001b[0;34m\u001b[0m    \u001b[0mfunctions\u001b[0m\u001b[0;34m,\u001b[0m\u001b[0;34m\u001b[0m\n",
            "\u001b[0;34m\u001b[0m    \u001b[0mtargets\u001b[0m\u001b[0;34m=\u001b[0m\u001b[0;32mNone\u001b[0m\u001b[0;34m,\u001b[0m\u001b[0;34m\u001b[0m\n",
            "\u001b[0;34m\u001b[0m    \u001b[0mcolumns_overriding_functions\u001b[0m\u001b[0;34m=\u001b[0m\u001b[0;32mNone\u001b[0m\u001b[0;34m,\u001b[0m\u001b[0;34m\u001b[0m\n",
            "\u001b[0;34m\u001b[0m    \u001b[0mcheck_minimal_specification\u001b[0m\u001b[0;34m=\u001b[0m\u001b[0;34m'ignore'\u001b[0m\u001b[0;34m,\u001b[0m\u001b[0;34m\u001b[0m\n",
            "\u001b[0;34m\u001b[0m    \u001b[0mselectors\u001b[0m\u001b[0;34m=\u001b[0m\u001b[0;32mNone\u001b[0m\u001b[0;34m,\u001b[0m\u001b[0;34m\u001b[0m\n",
            "\u001b[0;34m\u001b[0m    \u001b[0morientation\u001b[0m\u001b[0;34m=\u001b[0m\u001b[0;34m'v'\u001b[0m\u001b[0;34m,\u001b[0m\u001b[0;34m\u001b[0m\n",
            "\u001b[0;34m\u001b[0m    \u001b[0mshow_labels\u001b[0m\u001b[0;34m=\u001b[0m\u001b[0;32mNone\u001b[0m\u001b[0;34m,\u001b[0m\u001b[0;34m\u001b[0m\n",
            "\u001b[0;34m\u001b[0m    \u001b[0mhover_source_code\u001b[0m\u001b[0;34m=\u001b[0m\u001b[0;32mFalse\u001b[0m\u001b[0;34m,\u001b[0m\u001b[0;34m\u001b[0m\n",
            "\u001b[0;34m\u001b[0m\u001b[0;34m)\u001b[0m\u001b[0;34m\u001b[0m\u001b[0;34m\u001b[0m\u001b[0m\n",
            "\u001b[0;31mDocstring:\u001b[0m\n",
            "Plot the dag of the tax and transfer system. Note that if 10 or less nodes are\n",
            "plotted, labels are always displayed.\n",
            "\n",
            "Parameters\n",
            "----------\n",
            "functions : str, pathlib.Path, callable, module, imports statements, dict\n",
            "    Functions can be anything of the specified types and a list of the same\n",
            "    objects. If the object is a dictionary, the keys of the dictionary are used as\n",
            "    a name instead of the function name. For all other objects, the name is\n",
            "    inferred from the function name.\n",
            "targets : str, list of str\n",
            "    String or list of strings with names of functions whose output is actually\n",
            "    needed by the user.\n",
            "columns_overriding_functions : str list of str\n",
            "    Names of columns in the data which are preferred over function defined in the\n",
            "    tax and transfer system.\n",
            "check_minimal_specification : {\"ignore\", \"warn\", \"raise\"}, default \"ignore\"\n",
            "    Indicator for whether checks which ensure the most minimal configuration should\n",
            "    be silenced, emitted as warnings or errors.\n",
            "selectors : str or list of str or dict or list of dict or list of str and dict\n",
            "    Selectors allow to you to select and de-select nodes in the graph for\n",
            "    visualization. For the full list of options, see the tutorial about\n",
            "    `visualization <../docs/tutorials/visualize.ipynb>`_. By default, all nodes are\n",
            "    shown.\n",
            "orientation :str,default \"v\"\n",
            "     Whether the graph is horizontal or vertical\n",
            "show_labels : bool, default None\n",
            "    Whether the graph is annotated with labels next to each node. By default,\n",
            "    the labels are shown when the number of nodes is at most 10.\n",
            "    Otherwise, names are displayed next to the node only when hovering over it.\n",
            "    It is also possible to display labels regardless of the number of nodes, setting\n",
            "    variable as True or hide labels when the variable is False.\n",
            "hover_source_code: bool, default as false\n",
            "    Experimental feature which makes the source code of the functions accessible as\n",
            "    a hover information. Sometimes, the tooltip is not properly displayed.\n",
            "\u001b[0;31mFile:\u001b[0m      /mnt/econ/gettsim/gettsim/src/_gettsim/visualization.py\n",
            "\u001b[0;31mType:\u001b[0m      function\n"
          ]
        }
      ],
      "source": [
        "plot_dag?"
      ]
    },
    {
      "cell_type": "markdown",
      "id": "efe08321",
      "metadata": {},
      "source": [
        "In the following, you see many ways to either select different subsets of the graph or style the plot."
      ]
    },
    {
      "cell_type": "markdown",
      "id": "2c5f107b",
      "metadata": {},
      "source": [
        "## Orientation"
      ]
    },
    {
      "cell_type": "markdown",
      "id": "26941b89",
      "metadata": {},
      "source": [
        "By default orientation of graph is vertical. It is possible to change the orientation of graph to horizontal one by setting `plot_dag(..., orientation='h') `"
      ]
    },
    {
      "cell_type": "code",
      "execution_count": 21,
      "id": "5c5e548c",
      "metadata": {},
      "outputs": [
        {
          "data": {
            "application/vnd.jupyter.widget-view+json": {
              "model_id": "901831eaa77b4523abb15cf96fc9c113",
              "version_major": 2,
              "version_minor": 0
            },
            "text/plain": [
              "FigureWidget({\n",
              "    'data': [{'hoverinfo': 'none',\n",
              "              'line': {'color': 'blue', 'width': 0.5},\n",
              "     …"
            ]
          },
          "metadata": {},
          "output_type": "display_data"
        }
      ],
      "source": [
        "plot_dag(\n",
        "    functions=policy_functions,\n",
        "    selectors=[{\"node\": \"zu_verst_kapitaleink_tu\", \"type\": \"neighbors\"}],\n",
        "    orientation ='h',\n",
        ")"
      ]
    },
    {
      "cell_type": "markdown",
      "id": "44c8fdc3",
      "metadata": {},
      "source": [
        "## Labels"
      ]
    },
    {
      "cell_type": "markdown",
      "id": "40a528fc",
      "metadata": {},
      "source": [
        "By default (when `show_labels` is set to its default of `None`), all all names are displayed next to the node whenever the number of nodes is smaller than 10. For 10 nodes or more like in the example below, the names are by default displayed next to the node only when hovering over it."
      ]
    },
    {
      "cell_type": "code",
      "execution_count": 22,
      "id": "03ca0f32",
      "metadata": {},
      "outputs": [
        {
          "data": {
            "application/vnd.jupyter.widget-view+json": {
              "model_id": "826eff655d9043caab5c5c3d2952d729",
              "version_major": 2,
              "version_minor": 0
            },
            "text/plain": [
              "FigureWidget({\n",
              "    'data': [{'hoverinfo': 'none',\n",
              "              'line': {'color': 'blue', 'width': 0.5},\n",
              "     …"
            ]
          },
          "metadata": {},
          "output_type": "display_data"
        }
      ],
      "source": [
        "plot_dag(\n",
        "    functions=policy_functions,\n",
        "    selectors=[{\"node\": \"geringfügig_beschäftigt\", \"type\": \"descendants\"}],\n",
        "    orientation ='h',\n",
        ")"
      ]
    },
    {
      "cell_type": "markdown",
      "id": "457e8015-0441-4972-8de2-a29b2bec8aa1",
      "metadata": {},
      "source": [
        "`show_labels` can be also set to `True` or `False` to enfore displaying or not displaying all labels."
      ]
    },
    {
      "cell_type": "code",
      "execution_count": 23,
      "id": "00f70e91",
      "metadata": {},
      "outputs": [
        {
          "data": {
            "application/vnd.jupyter.widget-view+json": {
              "model_id": "87be79c7a3e84a0699a10daa6c3fe18e",
              "version_major": 2,
              "version_minor": 0
            },
            "text/plain": [
              "FigureWidget({\n",
              "    'data': [{'hoverinfo': 'none',\n",
              "              'line': {'color': 'blue', 'width': 0.5},\n",
              "     …"
            ]
          },
          "metadata": {},
          "output_type": "display_data"
        }
      ],
      "source": [
        "selector = {\"type\": \"descendants\", \"node\": \"geringfügig_beschäftigt\"}\n",
        "plot_dag(functions=policy_functions,\n",
        "         show_labels=False,\n",
        "         selectors=selector, \n",
        "         orientation ='h')"
      ]
    },
    {
      "cell_type": "markdown",
      "id": "60a39aae",
      "metadata": {},
      "source": [
        "# Hover info (source code)"
      ]
    },
    {
      "cell_type": "markdown",
      "id": "c4ec7b75",
      "metadata": {},
      "source": [
        "It is also possible to address the source code of the function. By setting `plot_dag(..., hover_source_code=True)`"
      ]
    },
    {
      "cell_type": "code",
      "execution_count": 24,
      "id": "32dd7895",
      "metadata": {
        "scrolled": true
      },
      "outputs": [
        {
          "data": {
            "application/vnd.jupyter.widget-view+json": {
              "model_id": "c5e0514b7ee847a896048e119a956791",
              "version_major": 2,
              "version_minor": 0
            },
            "text/plain": [
              "FigureWidget({\n",
              "    'data': [{'hoverinfo': 'none',\n",
              "              'line': {'color': 'blue', 'width': 0.5},\n",
              "     …"
            ]
          },
          "metadata": {},
          "output_type": "display_data"
        }
      ],
      "source": [
        "plot_dag(\n",
        "    functions=policy_functions,\n",
        "    selectors=[{\"node\": \"zu_verst_kapitaleink_tu\", \"type\": \"neighbors\"}],\n",
        "    orientation ='h',\n",
        "    hover_source_code=True)"
      ]
    },
    {
      "cell_type": "markdown",
      "id": "5c75961d",
      "metadata": {},
      "source": [
        "## Selectors\n",
        "\n",
        "Selectors allow you to visualize only a subset of the complete graph of the tax and transfer systems. They can be passed to the `selectors` argument of the `plot_dag()` function. There exist some ways to define a selector and they can be combined with one another. Let us discuss each selector on its own first.\n",
        "\n",
        "## Basics\n",
        "\n",
        "It is always possible to pass a string or a list of strings to `selectors`. In this case only the given nodes are displayed in the plot."
      ]
    },
    {
      "cell_type": "code",
      "execution_count": 25,
      "id": "33f7fbc9",
      "metadata": {},
      "outputs": [
        {
          "data": {
            "application/vnd.jupyter.widget-view+json": {
              "model_id": "971875f0a14249d68179e81e36a79e8e",
              "version_major": 2,
              "version_minor": 0
            },
            "text/plain": [
              "FigureWidget({\n",
              "    'data': [{'hoverinfo': 'none',\n",
              "              'line': {'color': 'blue', 'width': 0.5},\n",
              "     …"
            ]
          },
          "metadata": {},
          "output_type": "display_data"
        }
      ],
      "source": [
        "selectors = \"kapitaleink_brutto_tu\"\n",
        "\n",
        "plot_dag(functions=policy_functions,selectors=selectors, orientation ='h')"
      ]
    },
    {
      "cell_type": "markdown",
      "id": "7c8ccb9b",
      "metadata": {},
      "source": [
        "Using a list of variable names, we can select multiple nodes."
      ]
    },
    {
      "cell_type": "code",
      "execution_count": 26,
      "id": "eb89b27b",
      "metadata": {},
      "outputs": [
        {
          "data": {
            "application/vnd.jupyter.widget-view+json": {
              "model_id": "16edb655187942f09527ff489e4b66b5",
              "version_major": 2,
              "version_minor": 0
            },
            "text/plain": [
              "FigureWidget({\n",
              "    'data': [{'hoverinfo': 'none',\n",
              "              'line': {'color': 'blue', 'width': 0.5},\n",
              "     …"
            ]
          },
          "metadata": {},
          "output_type": "display_data"
        }
      ],
      "source": [
        "selectors = [\"kapitaleink_brutto_tu\", \"zu_verst_kapitaleink_tu\"]\n",
        "\n",
        "plot_dag(functions=policy_functions,selectors=selectors, orientation ='h')"
      ]
    },
    {
      "cell_type": "markdown",
      "id": "15687552",
      "metadata": {},
      "source": [
        "Passing a string or a list of strings to `selectors` is actually a shortcut for the richer interface for selecting nodes. Selectors are usually represented as dictionaries. The corresponding dictionary for selecting a list of nodes is"
      ]
    },
    {
      "cell_type": "code",
      "execution_count": 27,
      "id": "d84819f3",
      "metadata": {},
      "outputs": [],
      "source": [
        "selector = {\n",
        "    \"type\": \"nodes\",\n",
        "    \"node\": [\"kapitaleink_brutto_tu\", \"zu_verst_kapitaleink_tu\"],\n",
        "    \"select\": True,   # optional\n",
        "}"
      ]
    },
    {
      "cell_type": "markdown",
      "id": "cd794e7e",
      "metadata": {},
      "source": [
        "Let us go through the keys of the dictionary one by one.\n",
        "\n",
        "1. `\"type\"` specifies the type of the selector. For a single node or a list of nodes the type is `\"nodes\"`.\n",
        "2. `\"node\"` always refers to the node or nodes to which the selector is applied. In this case, it is the list of node names.\n",
        "3. `\"select\"` specifies whether the nodes should be selected or de-selected. If you do not specify `\"select\"` it is assumed to be `True`.Let us go through the keys of the dictionary one by one.\n"
      ]
    },
    {
      "cell_type": "markdown",
      "id": "1ba6c2ac",
      "metadata": {},
      "source": [
        "### De-selecting Nodes\n",
        "\n",
        "It is also possible to specify selectors which de-select some nodes. Note that,\n",
        "\n",
        "- De-selectors are applied after nodes have been selected.\n",
        "- If no selectors are provided, de-selectors de-select nodes from the complete DAG.\n",
        "- Selection and de-selection works for all selector types which follow.\n",
        "\n",
        "For a simple and silly example, we want to reproduce the graph with the single node for `kapitaleink_brutto_tu` after, but starting from the last plot which also showed `zu_verst_kapitaleink_tu`.\n",
        "\n",
        "First, we define the selectors. The first selector or dictionary in the list selects the two nodes. Note that the `\"select\"` key is `True` by default. The second key in the de-selects `\"zu_verst_kapitaleink_tu\"`."
      ]
    },
    {
      "cell_type": "code",
      "execution_count": 28,
      "id": "92ee044b",
      "metadata": {},
      "outputs": [
        {
          "data": {
            "application/vnd.jupyter.widget-view+json": {
              "model_id": "36c4068dd2694be69620f1a893b879c4",
              "version_major": 2,
              "version_minor": 0
            },
            "text/plain": [
              "FigureWidget({\n",
              "    'data': [{'hoverinfo': 'none',\n",
              "              'line': {'color': 'blue', 'width': 0.5},\n",
              "     …"
            ]
          },
          "metadata": {},
          "output_type": "display_data"
        }
      ],
      "source": [
        "selectors = [\n",
        "    {\"type\": \"nodes\", \"node\": [\"kapitaleink_brutto_tu\", \"zu_verst_kapitaleink_tu\"],},\n",
        "    {\"type\": \"nodes\", \"node\": \"zu_verst_kapitaleink_tu\", \"select\": False,},\n",
        "]\n",
        "plot_dag(functions=policy_functions,selectors=selectors, orientation ='v')"
      ]
    },
    {
      "cell_type": "markdown",
      "id": "017dd71a",
      "metadata": {},
      "source": [
        "### Ancestors and Descendants\n",
        "\n",
        "Two other types of selectors allow you to pick one node and all nodes which appear before or after this node. We call the nodes ancestors or descendants, respectively. To select `\"zu_verst_kapitaleink_tu\"` which is the calculated taxable capital income per tax unit and all its ancestors, do the following."
      ]
    },
    {
      "cell_type": "code",
      "execution_count": 29,
      "id": "71df48f5",
      "metadata": {},
      "outputs": [
        {
          "data": {
            "application/vnd.jupyter.widget-view+json": {
              "model_id": "3acb28ce258b4a128bc344c564e9de87",
              "version_major": 2,
              "version_minor": 0
            },
            "text/plain": [
              "FigureWidget({\n",
              "    'data': [{'hoverinfo': 'none',\n",
              "              'line': {'color': 'blue', 'width': 0.5},\n",
              "     …"
            ]
          },
          "metadata": {},
          "output_type": "display_data"
        }
      ],
      "source": [
        "selector = {\"type\": \"ancestors\", \"node\": \"zu_verst_kapitaleink_tu\"}\n",
        "plot_dag(functions=policy_functions,selectors=selector, orientation ='h')"
      ]
    },
    {
      "cell_type": "markdown",
      "id": "b00954c4",
      "metadata": {},
      "source": [
        "To see the variables which are explicitly and implicitly dependent on the information in `\"geringfügig_beschäftigt\"` use the type `\"descendants\"`."
      ]
    },
    {
      "cell_type": "code",
      "execution_count": 30,
      "id": "abfa6495",
      "metadata": {},
      "outputs": [
        {
          "data": {
            "application/vnd.jupyter.widget-view+json": {
              "model_id": "2cdb3dffa4bc43beaaf70681dd86f0c2",
              "version_major": 2,
              "version_minor": 0
            },
            "text/plain": [
              "FigureWidget({\n",
              "    'data': [{'hoverinfo': 'none',\n",
              "              'line': {'color': 'blue', 'width': 0.5},\n",
              "     …"
            ]
          },
          "metadata": {},
          "output_type": "display_data"
        }
      ],
      "source": [
        "selector = {\"type\": \"descendants\", \"node\": \"geringfügig_beschäftigt\"}\n",
        "plot_dag(functions=policy_functions, selectors=selector, orientation ='h')"
      ]
    },
    {
      "cell_type": "markdown",
      "id": "ae73c540",
      "metadata": {},
      "source": [
        "### Neighbors\n",
        "\n",
        "Another common way to look at a graph is to visualize a node and its neighbors, its ancestors and descendants. Let us take a look at `\"kapitaleink_brutto_tu\"` again and visualize its direct neighbors."
      ]
    },
    {
      "cell_type": "code",
      "execution_count": 31,
      "id": "1eb0204e",
      "metadata": {},
      "outputs": [
        {
          "data": {
            "application/vnd.jupyter.widget-view+json": {
              "model_id": "e7000d7b83094ab691eca281d5ba33d6",
              "version_major": 2,
              "version_minor": 0
            },
            "text/plain": [
              "FigureWidget({\n",
              "    'data': [{'hoverinfo': 'none',\n",
              "              'line': {'color': 'blue', 'width': 0.5},\n",
              "     …"
            ]
          },
          "metadata": {},
          "output_type": "display_data"
        }
      ],
      "source": [
        "selector = {\"type\": \"neighbors\", \"node\": \"kapitaleink_brutto_tu\"}\n",
        "plot_dag(functions=policy_functions,selectors=selector, orientation ='h')"
      ]
    },
    {
      "cell_type": "markdown",
      "id": "513ef1d1",
      "metadata": {},
      "source": [
        "It is also possible to look at more distant neighbors or neighbors of order 2, 3, ... . This can be done by the `\"order\"` key which is 1 by default."
      ]
    },
    {
      "cell_type": "code",
      "execution_count": 32,
      "id": "892085cc",
      "metadata": {
        "scrolled": true
      },
      "outputs": [
        {
          "data": {
            "application/vnd.jupyter.widget-view+json": {
              "model_id": "7562e8cab2c9489ab14a44b540b9ffa2",
              "version_major": 2,
              "version_minor": 0
            },
            "text/plain": [
              "FigureWidget({\n",
              "    'data': [{'hoverinfo': 'none',\n",
              "              'line': {'color': 'blue', 'width': 0.5},\n",
              "     …"
            ]
          },
          "metadata": {},
          "output_type": "display_data"
        }
      ],
      "source": [
        "selector = {\"type\": \"neighbors\", \"node\": \"kapitaleink_brutto_tu\", \"order\": 2}\n",
        "plot_dag(functions=policy_functions, selectors=selector, orientation ='h')"
      ]
    },
    {
      "cell_type": "code",
      "execution_count": null,
      "id": "44ad2521",
      "metadata": {},
      "outputs": [],
      "source": []
    }
  ],
  "metadata": {
    "hide_input": false,
    "kernelspec": {
      "display_name": "Python 3",
      "language": "python",
      "name": "python3"
    },
    "language_info": {
      "codemirror_mode": {
        "name": "ipython",
        "version": 3
      },
      "file_extension": ".py",
      "mimetype": "text/x-python",
      "name": "python",
      "nbconvert_exporter": "python",
      "pygments_lexer": "ipython3",
      "version": "3.11.0"
    },
    "toc": {
      "base_numbering": 1,
      "nav_menu": {},
      "number_sections": false,
      "sideBar": true,
      "skip_h1_title": false,
      "title_cell": "Table of Contents",
      "title_sidebar": "Contents",
      "toc_cell": false,
      "toc_position": {
        "height": "calc(100% - 180px)",
        "left": "10px",
        "top": "150px",
        "width": "304px"
      },
      "toc_section_display": true,
      "toc_window_display": false
    },
    "vscode": {
      "interpreter": {
        "hash": "a7ef7df5bd47ff490cfd86bc52beab30c1673a29666f06a073dff89a54c46fe5"
      }
    }
  },
  "nbformat": 4,
  "nbformat_minor": 5
}
