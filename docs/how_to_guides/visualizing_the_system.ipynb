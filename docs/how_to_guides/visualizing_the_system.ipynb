{
 "cells": [
  {
   "cell_type": "markdown",
   "id": "5e4145fd",
   "metadata": {},
   "source": [
    "\n",
    "#  Visualizing the Taxes and Transfers System"
   ]
  },
  {
   "cell_type": "markdown",
   "id": "51c2f113",
   "metadata": {},
   "source": [
    "## How to create a plot"
   ]
  },
  {
   "cell_type": "markdown",
   "id": "b7d68a23",
   "metadata": {},
   "source": [
    "To help you understand how GETTSIM works internally and how you are able to implement custom reforms, you can visualize the tax and transfer system. This tutorial explains how to create a graphic and what information you can get from it. It also explains GETTSIM’s design to some extent."
   ]
  },
  {
   "cell_type": "code",
   "execution_count": 51,
   "id": "d9987ee9",
   "metadata": {},
   "outputs": [],
   "source": [
    "import os\n",
    "import pandas as pd\n",
    "#import gettsim\n",
    "\n",
    "from gettsim import set_up_policy_environment\n",
    "from gettsim.visualization import plot_dag"
   ]
  },
  {
   "cell_type": "markdown",
   "id": "bef4bb3b",
   "metadata": {},
   "source": [
    "For the visualization, we need to set up our policy environment."
   ]
  },
  {
   "cell_type": "code",
   "execution_count": 52,
   "id": "0ccf9772",
   "metadata": {},
   "outputs": [],
   "source": [
    "policy_params, policy_functions = set_up_policy_environment(date=2020)"
   ]
  },
  {
   "cell_type": "markdown",
   "id": "6680ca83",
   "metadata": {},
   "source": [
    "Functions inside GETTSIM are a little bit special. Take for example `abgelt_st_tu` which is documented [here](https://gettsim.readthedocs.io/en/stable/gettsim_objects/functions.html#gettsim.functions.abgelt_st_tu). The signature of the function is\n",
    "\n",
    "```python\n",
    "def abgelt_st_tu(zu_verst_kapitaleink_tu, abgelt_st_params):\n",
    "    pass\n",
    "```\n",
    "\n",
    "This functions has two arguments and one of them passes parameters to the function. Most functions require some parameters, but it is not necessary. The names of the arguments correspond to either a variable in the data provided by the user or to another function which, in turn, also relies on some arguments.\n",
    "\n",
    "Here, ``abgelt_st_params`` is a paramter file which includes paramters needed to calculate the capital income tax. ``zu_verst_kapitaleink_tu`` on the other hand is itself a function which is documented [here](https://gettsim.readthedocs.io/en/stable/gettsim_objects/functions.html#gettsim.functions.zu_verst_kapital_eink_tu). By using ``zu_verst_kapitaleink_tu`` as an argument name, GETTSIM knows to pass the data computed by the function ``zu_verst_kapitaleink_tu`` to ``abgelt_st_tu``.\n",
    "\n",
    "This dependency relationship can be analyzed for all functions passed to GETTSIM and be visualized in a dag. Below you can see a plot of all variables which are directly connected to ``zu_verst_kapitaleink_tu``. The arrows point from dependencies to dependents. Each node is either a functions or a variable."
   ]
  },
  {
   "cell_type": "markdown",
   "id": "7641db7f",
   "metadata": {},
   "source": [
    "Functions inside GETTSIM are a little bit special. Take for example abgelt_st_tu which is documented here. The signature of the function is"
   ]
  },
  {
   "cell_type": "code",
   "execution_count": 53,
   "id": "f84d00ce",
   "metadata": {},
   "outputs": [
    {
     "data": {
      "application/vnd.plotly.v1+json": {
       "config": {
        "plotlyServerURL": "https://plot.ly"
       },
       "data": [
        {
         "hoverinfo": "none",
         "line": {
          "color": "blue",
          "width": 0.5
         },
         "mode": "lines",
         "showlegend": false,
         "type": "scatter",
         "uid": "0fae8e59-9593-4cb1-9369-ab9d31db44ee",
         "x": [
          0,
          0,
          "",
          -1,
          0,
          "",
          1,
          0,
          ""
         ],
         "y": [
          0,
          -1,
          "",
          1,
          0,
          "",
          1,
          0,
          ""
         ]
        },
        {
         "hoverinfo": "skip",
         "marker": {
          "color": "red",
          "reversescale": true,
          "showscale": false,
          "size": 15
         },
         "mode": "markers+text",
         "showlegend": false,
         "text": [
          "abgelt_st_tu",
          "zu_verst_kapitaleink_tu",
          "kapitaleink_brutto_tu",
          "anz_erwachsene_tu"
         ],
         "textposition": "bottom center",
         "type": "scatter",
         "uid": "eb48b834-468a-44f0-9bdd-a313b297e046",
         "x": [
          0,
          0,
          -1,
          1
         ],
         "y": [
          -1,
          0,
          1,
          1
         ]
        },
        {
         "hoverinfo": "skip",
         "marker": {
          "color": "red",
          "reversescale": true,
          "showscale": false,
          "size": 15
         },
         "mode": "markers+text",
         "showlegend": false,
         "text": [
          "abgelt_st_tu",
          "zu_verst_kapitaleink_tu",
          "kapitaleink_brutto_tu",
          "anz_erwachsene_tu"
         ],
         "textposition": "bottom center",
         "type": "scatter",
         "uid": "a3039f63-c5b5-4b6e-8bcb-4cf36ee121b2",
         "x": [
          0,
          0,
          -1,
          1
         ],
         "y": [
          -1,
          0,
          1,
          1
         ]
        }
       ],
       "layout": {
        "annotations": [
         {
          "arrowcolor": "gray",
          "arrowhead": 2,
          "arrowsize": 2,
          "ax": 0,
          "axref": "x",
          "ay": 0,
          "ayref": "y",
          "showarrow": true,
          "standoff": 5,
          "startstandoff": 5,
          "text": "",
          "x": 0,
          "xref": "x",
          "y": -1,
          "yref": "y"
         },
         {
          "arrowcolor": "gray",
          "arrowhead": 2,
          "arrowsize": 2,
          "ax": -1,
          "axref": "x",
          "ay": 1,
          "ayref": "y",
          "showarrow": true,
          "standoff": 5,
          "startstandoff": 5,
          "text": "",
          "x": 0,
          "xref": "x",
          "y": 0,
          "yref": "y"
         },
         {
          "arrowcolor": "gray",
          "arrowhead": 2,
          "arrowsize": 2,
          "ax": 1,
          "axref": "x",
          "ay": 1,
          "ayref": "y",
          "showarrow": true,
          "standoff": 5,
          "startstandoff": 5,
          "text": "",
          "x": 0,
          "xref": "x",
          "y": 0,
          "yref": "y"
         }
        ],
        "hoverlabel": {
         "font": {
          "size": 10
         }
        },
        "hovermode": "closest",
        "margin": {
         "b": 20,
         "l": 5,
         "r": 5,
         "t": 40
        },
        "showlegend": false,
        "template": {
         "data": {
          "bar": [
           {
            "error_x": {
             "color": "#2a3f5f"
            },
            "error_y": {
             "color": "#2a3f5f"
            },
            "marker": {
             "line": {
              "color": "#E5ECF6",
              "width": 0.5
             },
             "pattern": {
              "fillmode": "overlay",
              "size": 10,
              "solidity": 0.2
             }
            },
            "type": "bar"
           }
          ],
          "barpolar": [
           {
            "marker": {
             "line": {
              "color": "#E5ECF6",
              "width": 0.5
             },
             "pattern": {
              "fillmode": "overlay",
              "size": 10,
              "solidity": 0.2
             }
            },
            "type": "barpolar"
           }
          ],
          "carpet": [
           {
            "aaxis": {
             "endlinecolor": "#2a3f5f",
             "gridcolor": "white",
             "linecolor": "white",
             "minorgridcolor": "white",
             "startlinecolor": "#2a3f5f"
            },
            "baxis": {
             "endlinecolor": "#2a3f5f",
             "gridcolor": "white",
             "linecolor": "white",
             "minorgridcolor": "white",
             "startlinecolor": "#2a3f5f"
            },
            "type": "carpet"
           }
          ],
          "choropleth": [
           {
            "colorbar": {
             "outlinewidth": 0,
             "ticks": ""
            },
            "type": "choropleth"
           }
          ],
          "contour": [
           {
            "colorbar": {
             "outlinewidth": 0,
             "ticks": ""
            },
            "colorscale": [
             [
              0,
              "#0d0887"
             ],
             [
              0.1111111111111111,
              "#46039f"
             ],
             [
              0.2222222222222222,
              "#7201a8"
             ],
             [
              0.3333333333333333,
              "#9c179e"
             ],
             [
              0.4444444444444444,
              "#bd3786"
             ],
             [
              0.5555555555555556,
              "#d8576b"
             ],
             [
              0.6666666666666666,
              "#ed7953"
             ],
             [
              0.7777777777777778,
              "#fb9f3a"
             ],
             [
              0.8888888888888888,
              "#fdca26"
             ],
             [
              1,
              "#f0f921"
             ]
            ],
            "type": "contour"
           }
          ],
          "contourcarpet": [
           {
            "colorbar": {
             "outlinewidth": 0,
             "ticks": ""
            },
            "type": "contourcarpet"
           }
          ],
          "heatmap": [
           {
            "colorbar": {
             "outlinewidth": 0,
             "ticks": ""
            },
            "colorscale": [
             [
              0,
              "#0d0887"
             ],
             [
              0.1111111111111111,
              "#46039f"
             ],
             [
              0.2222222222222222,
              "#7201a8"
             ],
             [
              0.3333333333333333,
              "#9c179e"
             ],
             [
              0.4444444444444444,
              "#bd3786"
             ],
             [
              0.5555555555555556,
              "#d8576b"
             ],
             [
              0.6666666666666666,
              "#ed7953"
             ],
             [
              0.7777777777777778,
              "#fb9f3a"
             ],
             [
              0.8888888888888888,
              "#fdca26"
             ],
             [
              1,
              "#f0f921"
             ]
            ],
            "type": "heatmap"
           }
          ],
          "heatmapgl": [
           {
            "colorbar": {
             "outlinewidth": 0,
             "ticks": ""
            },
            "colorscale": [
             [
              0,
              "#0d0887"
             ],
             [
              0.1111111111111111,
              "#46039f"
             ],
             [
              0.2222222222222222,
              "#7201a8"
             ],
             [
              0.3333333333333333,
              "#9c179e"
             ],
             [
              0.4444444444444444,
              "#bd3786"
             ],
             [
              0.5555555555555556,
              "#d8576b"
             ],
             [
              0.6666666666666666,
              "#ed7953"
             ],
             [
              0.7777777777777778,
              "#fb9f3a"
             ],
             [
              0.8888888888888888,
              "#fdca26"
             ],
             [
              1,
              "#f0f921"
             ]
            ],
            "type": "heatmapgl"
           }
          ],
          "histogram": [
           {
            "marker": {
             "pattern": {
              "fillmode": "overlay",
              "size": 10,
              "solidity": 0.2
             }
            },
            "type": "histogram"
           }
          ],
          "histogram2d": [
           {
            "colorbar": {
             "outlinewidth": 0,
             "ticks": ""
            },
            "colorscale": [
             [
              0,
              "#0d0887"
             ],
             [
              0.1111111111111111,
              "#46039f"
             ],
             [
              0.2222222222222222,
              "#7201a8"
             ],
             [
              0.3333333333333333,
              "#9c179e"
             ],
             [
              0.4444444444444444,
              "#bd3786"
             ],
             [
              0.5555555555555556,
              "#d8576b"
             ],
             [
              0.6666666666666666,
              "#ed7953"
             ],
             [
              0.7777777777777778,
              "#fb9f3a"
             ],
             [
              0.8888888888888888,
              "#fdca26"
             ],
             [
              1,
              "#f0f921"
             ]
            ],
            "type": "histogram2d"
           }
          ],
          "histogram2dcontour": [
           {
            "colorbar": {
             "outlinewidth": 0,
             "ticks": ""
            },
            "colorscale": [
             [
              0,
              "#0d0887"
             ],
             [
              0.1111111111111111,
              "#46039f"
             ],
             [
              0.2222222222222222,
              "#7201a8"
             ],
             [
              0.3333333333333333,
              "#9c179e"
             ],
             [
              0.4444444444444444,
              "#bd3786"
             ],
             [
              0.5555555555555556,
              "#d8576b"
             ],
             [
              0.6666666666666666,
              "#ed7953"
             ],
             [
              0.7777777777777778,
              "#fb9f3a"
             ],
             [
              0.8888888888888888,
              "#fdca26"
             ],
             [
              1,
              "#f0f921"
             ]
            ],
            "type": "histogram2dcontour"
           }
          ],
          "mesh3d": [
           {
            "colorbar": {
             "outlinewidth": 0,
             "ticks": ""
            },
            "type": "mesh3d"
           }
          ],
          "parcoords": [
           {
            "line": {
             "colorbar": {
              "outlinewidth": 0,
              "ticks": ""
             }
            },
            "type": "parcoords"
           }
          ],
          "pie": [
           {
            "automargin": true,
            "type": "pie"
           }
          ],
          "scatter": [
           {
            "fillpattern": {
             "fillmode": "overlay",
             "size": 10,
             "solidity": 0.2
            },
            "type": "scatter"
           }
          ],
          "scatter3d": [
           {
            "line": {
             "colorbar": {
              "outlinewidth": 0,
              "ticks": ""
             }
            },
            "marker": {
             "colorbar": {
              "outlinewidth": 0,
              "ticks": ""
             }
            },
            "type": "scatter3d"
           }
          ],
          "scattercarpet": [
           {
            "marker": {
             "colorbar": {
              "outlinewidth": 0,
              "ticks": ""
             }
            },
            "type": "scattercarpet"
           }
          ],
          "scattergeo": [
           {
            "marker": {
             "colorbar": {
              "outlinewidth": 0,
              "ticks": ""
             }
            },
            "type": "scattergeo"
           }
          ],
          "scattergl": [
           {
            "marker": {
             "colorbar": {
              "outlinewidth": 0,
              "ticks": ""
             }
            },
            "type": "scattergl"
           }
          ],
          "scattermapbox": [
           {
            "marker": {
             "colorbar": {
              "outlinewidth": 0,
              "ticks": ""
             }
            },
            "type": "scattermapbox"
           }
          ],
          "scatterpolar": [
           {
            "marker": {
             "colorbar": {
              "outlinewidth": 0,
              "ticks": ""
             }
            },
            "type": "scatterpolar"
           }
          ],
          "scatterpolargl": [
           {
            "marker": {
             "colorbar": {
              "outlinewidth": 0,
              "ticks": ""
             }
            },
            "type": "scatterpolargl"
           }
          ],
          "scatterternary": [
           {
            "marker": {
             "colorbar": {
              "outlinewidth": 0,
              "ticks": ""
             }
            },
            "type": "scatterternary"
           }
          ],
          "surface": [
           {
            "colorbar": {
             "outlinewidth": 0,
             "ticks": ""
            },
            "colorscale": [
             [
              0,
              "#0d0887"
             ],
             [
              0.1111111111111111,
              "#46039f"
             ],
             [
              0.2222222222222222,
              "#7201a8"
             ],
             [
              0.3333333333333333,
              "#9c179e"
             ],
             [
              0.4444444444444444,
              "#bd3786"
             ],
             [
              0.5555555555555556,
              "#d8576b"
             ],
             [
              0.6666666666666666,
              "#ed7953"
             ],
             [
              0.7777777777777778,
              "#fb9f3a"
             ],
             [
              0.8888888888888888,
              "#fdca26"
             ],
             [
              1,
              "#f0f921"
             ]
            ],
            "type": "surface"
           }
          ],
          "table": [
           {
            "cells": {
             "fill": {
              "color": "#EBF0F8"
             },
             "line": {
              "color": "white"
             }
            },
            "header": {
             "fill": {
              "color": "#C8D4E3"
             },
             "line": {
              "color": "white"
             }
            },
            "type": "table"
           }
          ]
         },
         "layout": {
          "annotationdefaults": {
           "arrowcolor": "#2a3f5f",
           "arrowhead": 0,
           "arrowwidth": 1
          },
          "autotypenumbers": "strict",
          "coloraxis": {
           "colorbar": {
            "outlinewidth": 0,
            "ticks": ""
           }
          },
          "colorscale": {
           "diverging": [
            [
             0,
             "#8e0152"
            ],
            [
             0.1,
             "#c51b7d"
            ],
            [
             0.2,
             "#de77ae"
            ],
            [
             0.3,
             "#f1b6da"
            ],
            [
             0.4,
             "#fde0ef"
            ],
            [
             0.5,
             "#f7f7f7"
            ],
            [
             0.6,
             "#e6f5d0"
            ],
            [
             0.7,
             "#b8e186"
            ],
            [
             0.8,
             "#7fbc41"
            ],
            [
             0.9,
             "#4d9221"
            ],
            [
             1,
             "#276419"
            ]
           ],
           "sequential": [
            [
             0,
             "#0d0887"
            ],
            [
             0.1111111111111111,
             "#46039f"
            ],
            [
             0.2222222222222222,
             "#7201a8"
            ],
            [
             0.3333333333333333,
             "#9c179e"
            ],
            [
             0.4444444444444444,
             "#bd3786"
            ],
            [
             0.5555555555555556,
             "#d8576b"
            ],
            [
             0.6666666666666666,
             "#ed7953"
            ],
            [
             0.7777777777777778,
             "#fb9f3a"
            ],
            [
             0.8888888888888888,
             "#fdca26"
            ],
            [
             1,
             "#f0f921"
            ]
           ],
           "sequentialminus": [
            [
             0,
             "#0d0887"
            ],
            [
             0.1111111111111111,
             "#46039f"
            ],
            [
             0.2222222222222222,
             "#7201a8"
            ],
            [
             0.3333333333333333,
             "#9c179e"
            ],
            [
             0.4444444444444444,
             "#bd3786"
            ],
            [
             0.5555555555555556,
             "#d8576b"
            ],
            [
             0.6666666666666666,
             "#ed7953"
            ],
            [
             0.7777777777777778,
             "#fb9f3a"
            ],
            [
             0.8888888888888888,
             "#fdca26"
            ],
            [
             1,
             "#f0f921"
            ]
           ]
          },
          "colorway": [
           "#636efa",
           "#EF553B",
           "#00cc96",
           "#ab63fa",
           "#FFA15A",
           "#19d3f3",
           "#FF6692",
           "#B6E880",
           "#FF97FF",
           "#FECB52"
          ],
          "font": {
           "color": "#2a3f5f"
          },
          "geo": {
           "bgcolor": "white",
           "lakecolor": "white",
           "landcolor": "#E5ECF6",
           "showlakes": true,
           "showland": true,
           "subunitcolor": "white"
          },
          "hoverlabel": {
           "align": "left"
          },
          "hovermode": "closest",
          "mapbox": {
           "style": "light"
          },
          "paper_bgcolor": "white",
          "plot_bgcolor": "#E5ECF6",
          "polar": {
           "angularaxis": {
            "gridcolor": "white",
            "linecolor": "white",
            "ticks": ""
           },
           "bgcolor": "#E5ECF6",
           "radialaxis": {
            "gridcolor": "white",
            "linecolor": "white",
            "ticks": ""
           }
          },
          "scene": {
           "xaxis": {
            "backgroundcolor": "#E5ECF6",
            "gridcolor": "white",
            "gridwidth": 2,
            "linecolor": "white",
            "showbackground": true,
            "ticks": "",
            "zerolinecolor": "white"
           },
           "yaxis": {
            "backgroundcolor": "#E5ECF6",
            "gridcolor": "white",
            "gridwidth": 2,
            "linecolor": "white",
            "showbackground": true,
            "ticks": "",
            "zerolinecolor": "white"
           },
           "zaxis": {
            "backgroundcolor": "#E5ECF6",
            "gridcolor": "white",
            "gridwidth": 2,
            "linecolor": "white",
            "showbackground": true,
            "ticks": "",
            "zerolinecolor": "white"
           }
          },
          "shapedefaults": {
           "line": {
            "color": "#2a3f5f"
           }
          },
          "ternary": {
           "aaxis": {
            "gridcolor": "white",
            "linecolor": "white",
            "ticks": ""
           },
           "baxis": {
            "gridcolor": "white",
            "linecolor": "white",
            "ticks": ""
           },
           "bgcolor": "#E5ECF6",
           "caxis": {
            "gridcolor": "white",
            "linecolor": "white",
            "ticks": ""
           }
          },
          "title": {
           "x": 0.05
          },
          "xaxis": {
           "automargin": true,
           "gridcolor": "white",
           "linecolor": "white",
           "ticks": "",
           "title": {
            "standoff": 15
           },
           "zerolinecolor": "white",
           "zerolinewidth": 2
          },
          "yaxis": {
           "automargin": true,
           "gridcolor": "white",
           "linecolor": "white",
           "ticks": "",
           "title": {
            "standoff": 15
           },
           "zerolinecolor": "white",
           "zerolinewidth": 2
          }
         }
        },
        "xaxis": {
         "showgrid": false,
         "showticklabels": false,
         "zeroline": false
        },
        "yaxis": {
         "showgrid": false,
         "showticklabels": false,
         "zeroline": false
        }
       }
      }
     },
     "metadata": {},
     "output_type": "display_data"
    }
   ],
   "source": [
    "plot_dag(\n",
    "    functions=policy_functions,\n",
    "    selectors=[{\"node\": \"zu_verst_kapitaleink_tu\", \"type\": \"neighbors\"}],\n",
    ")"
   ]
  },
  {
   "cell_type": "markdown",
   "id": "2d2cf868",
   "metadata": {},
   "source": [
    "The general interface of the plotting function is similar to ``compute_taxes_and_transfers()``, but without the ``data`` and ``params`` argument. Here is the complete signature."
   ]
  },
  {
   "cell_type": "code",
   "execution_count": 38,
   "id": "e225f62f",
   "metadata": {},
   "outputs": [
    {
     "name": "stdout",
     "output_type": "stream",
     "text": [
      "\u001b[0;31mSignature:\u001b[0m\n",
      "\u001b[0mplot_dag\u001b[0m\u001b[0;34m(\u001b[0m\u001b[0;34m\u001b[0m\n",
      "\u001b[0;34m\u001b[0m    \u001b[0mfunctions\u001b[0m\u001b[0;34m,\u001b[0m\u001b[0;34m\u001b[0m\n",
      "\u001b[0;34m\u001b[0m    \u001b[0mtargets\u001b[0m\u001b[0;34m=\u001b[0m\u001b[0;32mNone\u001b[0m\u001b[0;34m,\u001b[0m\u001b[0;34m\u001b[0m\n",
      "\u001b[0;34m\u001b[0m    \u001b[0mcolumns_overriding_functions\u001b[0m\u001b[0;34m=\u001b[0m\u001b[0;32mNone\u001b[0m\u001b[0;34m,\u001b[0m\u001b[0;34m\u001b[0m\n",
      "\u001b[0;34m\u001b[0m    \u001b[0mcheck_minimal_specification\u001b[0m\u001b[0;34m=\u001b[0m\u001b[0;34m'ignore'\u001b[0m\u001b[0;34m,\u001b[0m\u001b[0;34m\u001b[0m\n",
      "\u001b[0;34m\u001b[0m    \u001b[0mselectors\u001b[0m\u001b[0;34m=\u001b[0m\u001b[0;32mNone\u001b[0m\u001b[0;34m,\u001b[0m\u001b[0;34m\u001b[0m\n",
      "\u001b[0;34m\u001b[0m    \u001b[0morientation\u001b[0m\u001b[0;34m=\u001b[0m\u001b[0;34m'v'\u001b[0m\u001b[0;34m,\u001b[0m\u001b[0;34m\u001b[0m\n",
      "\u001b[0;34m\u001b[0m    \u001b[0mshow_labels\u001b[0m\u001b[0;34m=\u001b[0m\u001b[0;32mTrue\u001b[0m\u001b[0;34m,\u001b[0m\u001b[0;34m\u001b[0m\n",
      "\u001b[0;34m\u001b[0m    \u001b[0mhover_source_code\u001b[0m\u001b[0;34m=\u001b[0m\u001b[0;32mFalse\u001b[0m\u001b[0;34m,\u001b[0m\u001b[0;34m\u001b[0m\n",
      "\u001b[0;34m\u001b[0m\u001b[0;34m)\u001b[0m\u001b[0;34m\u001b[0m\u001b[0;34m\u001b[0m\u001b[0m\n",
      "\u001b[0;31mDocstring:\u001b[0m\n",
      "Plot the dag of the tax and transfer system. Note that if 10 or less nodes are\n",
      "plotted, labels are always displayed.\n",
      "\n",
      "Parameters\n",
      "----------\n",
      "functions : str, pathlib.Path, callable, module, imports statements, dict\n",
      "    Functions can be anything of the specified types and a list of the same\n",
      "    objects. If the object is a dictionary, the keys of the dictionary are used as\n",
      "    a name instead of the function name. For all other objects, the name is\n",
      "    inferred from the function name.\n",
      "targets : str, list of str\n",
      "    String or list of strings with names of functions whose output is actually\n",
      "    needed by the user.\n",
      "columns_overriding_functions : str list of str\n",
      "    Names of columns in the data which are preferred over function defined in the\n",
      "    tax and transfer system.\n",
      "check_minimal_specification : {\"ignore\", \"warn\", \"raise\"}, default \"ignore\"\n",
      "    Indicator for whether checks which ensure the most minimal configuration should\n",
      "    be silenced, emitted as warnings or errors.\n",
      "selectors : str or list of str or dict or list of dict or list of str and dict\n",
      "    Selectors allow to you to select and de-select nodes in the graph for\n",
      "    visualization. For the full list of options, see the tutorial about\n",
      "    `visualization <../docs/tutorials/visualize.ipynb>`_. By default, all nodes are\n",
      "    shown.\n",
      "orientation :str,default \"v\"\n",
      "     Whether the graph is horizontal or vertical\n",
      "show_labels : bool, default True\n",
      "    Whether the graph is annotated with labels next to each node, in case the\n",
      "    number of nodes is at most 10. Otherwise, names are displayed next to the node\n",
      "    only when hovering over it. For more than 10 nodes, this argument is ignored\n",
      "    and the labels are always only shown when hovering over it.\n",
      "hover_source_code: bool, default as false\n",
      "    Experimental feature which makes the source code of the functions accessible as\n",
      "    a hover information. Sometimes, the tooltip is not properly displayed.\n",
      "\u001b[0;31mFile:\u001b[0m      ~/Desktop/gettsim/gettsim/visualization.py\n",
      "\u001b[0;31mType:\u001b[0m      function\n"
     ]
    }
   ],
   "source": [
    "plot_dag?"
   ]
  },
  {
   "cell_type": "markdown",
   "id": "efe08321",
   "metadata": {},
   "source": [
    "In the following, you see many ways to either select different subsets of the graph or style the plot."
   ]
  },
  {
   "cell_type": "markdown",
   "id": "2c5f107b",
   "metadata": {},
   "source": [
    "## Orientation"
   ]
  },
  {
   "cell_type": "markdown",
   "id": "26941b89",
   "metadata": {},
   "source": [
    "By default orientation of graph is vertical. It is possible to change the orientation of graph to horizontal one by setting `plot_dag(..., orientation='h') `"
   ]
  },
  {
   "cell_type": "code",
   "execution_count": 54,
   "id": "5c5e548c",
   "metadata": {},
   "outputs": [
    {
     "data": {
      "application/vnd.plotly.v1+json": {
       "config": {
        "plotlyServerURL": "https://plot.ly"
       },
       "data": [
        {
         "hoverinfo": "none",
         "line": {
          "color": "blue",
          "width": 0.5
         },
         "mode": "lines",
         "showlegend": false,
         "type": "scatter",
         "uid": "ef10d48b-70be-4278-8e50-207199546f89",
         "x": [
          0,
          1,
          "",
          -1,
          0,
          "",
          -1,
          0,
          ""
         ],
         "y": [
          0,
          0,
          "",
          -1,
          0,
          "",
          1,
          0,
          ""
         ]
        },
        {
         "hoverinfo": "skip",
         "marker": {
          "color": "red",
          "reversescale": true,
          "showscale": false,
          "size": 15
         },
         "mode": "markers+text",
         "showlegend": false,
         "text": [
          "abgelt_st_tu",
          "zu_verst_kapitaleink_tu",
          "kapitaleink_brutto_tu",
          "anz_erwachsene_tu"
         ],
         "textposition": "bottom center",
         "type": "scatter",
         "uid": "ebce09d2-8737-4cfc-9914-c190d627df60",
         "x": [
          1,
          0,
          -1,
          -1
         ],
         "y": [
          0,
          0,
          -1,
          1
         ]
        },
        {
         "hoverinfo": "skip",
         "marker": {
          "color": "red",
          "reversescale": true,
          "showscale": false,
          "size": 15
         },
         "mode": "markers+text",
         "showlegend": false,
         "text": [
          "abgelt_st_tu",
          "zu_verst_kapitaleink_tu",
          "kapitaleink_brutto_tu",
          "anz_erwachsene_tu"
         ],
         "textposition": "bottom center",
         "type": "scatter",
         "uid": "16d2a1b0-d4b2-402f-ba5c-bee30127a0f1",
         "x": [
          1,
          0,
          -1,
          -1
         ],
         "y": [
          0,
          0,
          -1,
          1
         ]
        }
       ],
       "layout": {
        "annotations": [
         {
          "arrowcolor": "gray",
          "arrowhead": 2,
          "arrowsize": 2,
          "ax": 0,
          "axref": "x",
          "ay": 0,
          "ayref": "y",
          "showarrow": true,
          "standoff": 5,
          "startstandoff": 5,
          "text": "",
          "x": 1,
          "xref": "x",
          "y": 0,
          "yref": "y"
         },
         {
          "arrowcolor": "gray",
          "arrowhead": 2,
          "arrowsize": 2,
          "ax": -1,
          "axref": "x",
          "ay": -1,
          "ayref": "y",
          "showarrow": true,
          "standoff": 5,
          "startstandoff": 5,
          "text": "",
          "x": 0,
          "xref": "x",
          "y": 0,
          "yref": "y"
         },
         {
          "arrowcolor": "gray",
          "arrowhead": 2,
          "arrowsize": 2,
          "ax": -1,
          "axref": "x",
          "ay": 1,
          "ayref": "y",
          "showarrow": true,
          "standoff": 5,
          "startstandoff": 5,
          "text": "",
          "x": 0,
          "xref": "x",
          "y": 0,
          "yref": "y"
         }
        ],
        "hoverlabel": {
         "font": {
          "size": 10
         }
        },
        "hovermode": "closest",
        "margin": {
         "b": 20,
         "l": 5,
         "r": 5,
         "t": 40
        },
        "showlegend": false,
        "template": {
         "data": {
          "bar": [
           {
            "error_x": {
             "color": "#2a3f5f"
            },
            "error_y": {
             "color": "#2a3f5f"
            },
            "marker": {
             "line": {
              "color": "#E5ECF6",
              "width": 0.5
             },
             "pattern": {
              "fillmode": "overlay",
              "size": 10,
              "solidity": 0.2
             }
            },
            "type": "bar"
           }
          ],
          "barpolar": [
           {
            "marker": {
             "line": {
              "color": "#E5ECF6",
              "width": 0.5
             },
             "pattern": {
              "fillmode": "overlay",
              "size": 10,
              "solidity": 0.2
             }
            },
            "type": "barpolar"
           }
          ],
          "carpet": [
           {
            "aaxis": {
             "endlinecolor": "#2a3f5f",
             "gridcolor": "white",
             "linecolor": "white",
             "minorgridcolor": "white",
             "startlinecolor": "#2a3f5f"
            },
            "baxis": {
             "endlinecolor": "#2a3f5f",
             "gridcolor": "white",
             "linecolor": "white",
             "minorgridcolor": "white",
             "startlinecolor": "#2a3f5f"
            },
            "type": "carpet"
           }
          ],
          "choropleth": [
           {
            "colorbar": {
             "outlinewidth": 0,
             "ticks": ""
            },
            "type": "choropleth"
           }
          ],
          "contour": [
           {
            "colorbar": {
             "outlinewidth": 0,
             "ticks": ""
            },
            "colorscale": [
             [
              0,
              "#0d0887"
             ],
             [
              0.1111111111111111,
              "#46039f"
             ],
             [
              0.2222222222222222,
              "#7201a8"
             ],
             [
              0.3333333333333333,
              "#9c179e"
             ],
             [
              0.4444444444444444,
              "#bd3786"
             ],
             [
              0.5555555555555556,
              "#d8576b"
             ],
             [
              0.6666666666666666,
              "#ed7953"
             ],
             [
              0.7777777777777778,
              "#fb9f3a"
             ],
             [
              0.8888888888888888,
              "#fdca26"
             ],
             [
              1,
              "#f0f921"
             ]
            ],
            "type": "contour"
           }
          ],
          "contourcarpet": [
           {
            "colorbar": {
             "outlinewidth": 0,
             "ticks": ""
            },
            "type": "contourcarpet"
           }
          ],
          "heatmap": [
           {
            "colorbar": {
             "outlinewidth": 0,
             "ticks": ""
            },
            "colorscale": [
             [
              0,
              "#0d0887"
             ],
             [
              0.1111111111111111,
              "#46039f"
             ],
             [
              0.2222222222222222,
              "#7201a8"
             ],
             [
              0.3333333333333333,
              "#9c179e"
             ],
             [
              0.4444444444444444,
              "#bd3786"
             ],
             [
              0.5555555555555556,
              "#d8576b"
             ],
             [
              0.6666666666666666,
              "#ed7953"
             ],
             [
              0.7777777777777778,
              "#fb9f3a"
             ],
             [
              0.8888888888888888,
              "#fdca26"
             ],
             [
              1,
              "#f0f921"
             ]
            ],
            "type": "heatmap"
           }
          ],
          "heatmapgl": [
           {
            "colorbar": {
             "outlinewidth": 0,
             "ticks": ""
            },
            "colorscale": [
             [
              0,
              "#0d0887"
             ],
             [
              0.1111111111111111,
              "#46039f"
             ],
             [
              0.2222222222222222,
              "#7201a8"
             ],
             [
              0.3333333333333333,
              "#9c179e"
             ],
             [
              0.4444444444444444,
              "#bd3786"
             ],
             [
              0.5555555555555556,
              "#d8576b"
             ],
             [
              0.6666666666666666,
              "#ed7953"
             ],
             [
              0.7777777777777778,
              "#fb9f3a"
             ],
             [
              0.8888888888888888,
              "#fdca26"
             ],
             [
              1,
              "#f0f921"
             ]
            ],
            "type": "heatmapgl"
           }
          ],
          "histogram": [
           {
            "marker": {
             "pattern": {
              "fillmode": "overlay",
              "size": 10,
              "solidity": 0.2
             }
            },
            "type": "histogram"
           }
          ],
          "histogram2d": [
           {
            "colorbar": {
             "outlinewidth": 0,
             "ticks": ""
            },
            "colorscale": [
             [
              0,
              "#0d0887"
             ],
             [
              0.1111111111111111,
              "#46039f"
             ],
             [
              0.2222222222222222,
              "#7201a8"
             ],
             [
              0.3333333333333333,
              "#9c179e"
             ],
             [
              0.4444444444444444,
              "#bd3786"
             ],
             [
              0.5555555555555556,
              "#d8576b"
             ],
             [
              0.6666666666666666,
              "#ed7953"
             ],
             [
              0.7777777777777778,
              "#fb9f3a"
             ],
             [
              0.8888888888888888,
              "#fdca26"
             ],
             [
              1,
              "#f0f921"
             ]
            ],
            "type": "histogram2d"
           }
          ],
          "histogram2dcontour": [
           {
            "colorbar": {
             "outlinewidth": 0,
             "ticks": ""
            },
            "colorscale": [
             [
              0,
              "#0d0887"
             ],
             [
              0.1111111111111111,
              "#46039f"
             ],
             [
              0.2222222222222222,
              "#7201a8"
             ],
             [
              0.3333333333333333,
              "#9c179e"
             ],
             [
              0.4444444444444444,
              "#bd3786"
             ],
             [
              0.5555555555555556,
              "#d8576b"
             ],
             [
              0.6666666666666666,
              "#ed7953"
             ],
             [
              0.7777777777777778,
              "#fb9f3a"
             ],
             [
              0.8888888888888888,
              "#fdca26"
             ],
             [
              1,
              "#f0f921"
             ]
            ],
            "type": "histogram2dcontour"
           }
          ],
          "mesh3d": [
           {
            "colorbar": {
             "outlinewidth": 0,
             "ticks": ""
            },
            "type": "mesh3d"
           }
          ],
          "parcoords": [
           {
            "line": {
             "colorbar": {
              "outlinewidth": 0,
              "ticks": ""
             }
            },
            "type": "parcoords"
           }
          ],
          "pie": [
           {
            "automargin": true,
            "type": "pie"
           }
          ],
          "scatter": [
           {
            "fillpattern": {
             "fillmode": "overlay",
             "size": 10,
             "solidity": 0.2
            },
            "type": "scatter"
           }
          ],
          "scatter3d": [
           {
            "line": {
             "colorbar": {
              "outlinewidth": 0,
              "ticks": ""
             }
            },
            "marker": {
             "colorbar": {
              "outlinewidth": 0,
              "ticks": ""
             }
            },
            "type": "scatter3d"
           }
          ],
          "scattercarpet": [
           {
            "marker": {
             "colorbar": {
              "outlinewidth": 0,
              "ticks": ""
             }
            },
            "type": "scattercarpet"
           }
          ],
          "scattergeo": [
           {
            "marker": {
             "colorbar": {
              "outlinewidth": 0,
              "ticks": ""
             }
            },
            "type": "scattergeo"
           }
          ],
          "scattergl": [
           {
            "marker": {
             "colorbar": {
              "outlinewidth": 0,
              "ticks": ""
             }
            },
            "type": "scattergl"
           }
          ],
          "scattermapbox": [
           {
            "marker": {
             "colorbar": {
              "outlinewidth": 0,
              "ticks": ""
             }
            },
            "type": "scattermapbox"
           }
          ],
          "scatterpolar": [
           {
            "marker": {
             "colorbar": {
              "outlinewidth": 0,
              "ticks": ""
             }
            },
            "type": "scatterpolar"
           }
          ],
          "scatterpolargl": [
           {
            "marker": {
             "colorbar": {
              "outlinewidth": 0,
              "ticks": ""
             }
            },
            "type": "scatterpolargl"
           }
          ],
          "scatterternary": [
           {
            "marker": {
             "colorbar": {
              "outlinewidth": 0,
              "ticks": ""
             }
            },
            "type": "scatterternary"
           }
          ],
          "surface": [
           {
            "colorbar": {
             "outlinewidth": 0,
             "ticks": ""
            },
            "colorscale": [
             [
              0,
              "#0d0887"
             ],
             [
              0.1111111111111111,
              "#46039f"
             ],
             [
              0.2222222222222222,
              "#7201a8"
             ],
             [
              0.3333333333333333,
              "#9c179e"
             ],
             [
              0.4444444444444444,
              "#bd3786"
             ],
             [
              0.5555555555555556,
              "#d8576b"
             ],
             [
              0.6666666666666666,
              "#ed7953"
             ],
             [
              0.7777777777777778,
              "#fb9f3a"
             ],
             [
              0.8888888888888888,
              "#fdca26"
             ],
             [
              1,
              "#f0f921"
             ]
            ],
            "type": "surface"
           }
          ],
          "table": [
           {
            "cells": {
             "fill": {
              "color": "#EBF0F8"
             },
             "line": {
              "color": "white"
             }
            },
            "header": {
             "fill": {
              "color": "#C8D4E3"
             },
             "line": {
              "color": "white"
             }
            },
            "type": "table"
           }
          ]
         },
         "layout": {
          "annotationdefaults": {
           "arrowcolor": "#2a3f5f",
           "arrowhead": 0,
           "arrowwidth": 1
          },
          "autotypenumbers": "strict",
          "coloraxis": {
           "colorbar": {
            "outlinewidth": 0,
            "ticks": ""
           }
          },
          "colorscale": {
           "diverging": [
            [
             0,
             "#8e0152"
            ],
            [
             0.1,
             "#c51b7d"
            ],
            [
             0.2,
             "#de77ae"
            ],
            [
             0.3,
             "#f1b6da"
            ],
            [
             0.4,
             "#fde0ef"
            ],
            [
             0.5,
             "#f7f7f7"
            ],
            [
             0.6,
             "#e6f5d0"
            ],
            [
             0.7,
             "#b8e186"
            ],
            [
             0.8,
             "#7fbc41"
            ],
            [
             0.9,
             "#4d9221"
            ],
            [
             1,
             "#276419"
            ]
           ],
           "sequential": [
            [
             0,
             "#0d0887"
            ],
            [
             0.1111111111111111,
             "#46039f"
            ],
            [
             0.2222222222222222,
             "#7201a8"
            ],
            [
             0.3333333333333333,
             "#9c179e"
            ],
            [
             0.4444444444444444,
             "#bd3786"
            ],
            [
             0.5555555555555556,
             "#d8576b"
            ],
            [
             0.6666666666666666,
             "#ed7953"
            ],
            [
             0.7777777777777778,
             "#fb9f3a"
            ],
            [
             0.8888888888888888,
             "#fdca26"
            ],
            [
             1,
             "#f0f921"
            ]
           ],
           "sequentialminus": [
            [
             0,
             "#0d0887"
            ],
            [
             0.1111111111111111,
             "#46039f"
            ],
            [
             0.2222222222222222,
             "#7201a8"
            ],
            [
             0.3333333333333333,
             "#9c179e"
            ],
            [
             0.4444444444444444,
             "#bd3786"
            ],
            [
             0.5555555555555556,
             "#d8576b"
            ],
            [
             0.6666666666666666,
             "#ed7953"
            ],
            [
             0.7777777777777778,
             "#fb9f3a"
            ],
            [
             0.8888888888888888,
             "#fdca26"
            ],
            [
             1,
             "#f0f921"
            ]
           ]
          },
          "colorway": [
           "#636efa",
           "#EF553B",
           "#00cc96",
           "#ab63fa",
           "#FFA15A",
           "#19d3f3",
           "#FF6692",
           "#B6E880",
           "#FF97FF",
           "#FECB52"
          ],
          "font": {
           "color": "#2a3f5f"
          },
          "geo": {
           "bgcolor": "white",
           "lakecolor": "white",
           "landcolor": "#E5ECF6",
           "showlakes": true,
           "showland": true,
           "subunitcolor": "white"
          },
          "hoverlabel": {
           "align": "left"
          },
          "hovermode": "closest",
          "mapbox": {
           "style": "light"
          },
          "paper_bgcolor": "white",
          "plot_bgcolor": "#E5ECF6",
          "polar": {
           "angularaxis": {
            "gridcolor": "white",
            "linecolor": "white",
            "ticks": ""
           },
           "bgcolor": "#E5ECF6",
           "radialaxis": {
            "gridcolor": "white",
            "linecolor": "white",
            "ticks": ""
           }
          },
          "scene": {
           "xaxis": {
            "backgroundcolor": "#E5ECF6",
            "gridcolor": "white",
            "gridwidth": 2,
            "linecolor": "white",
            "showbackground": true,
            "ticks": "",
            "zerolinecolor": "white"
           },
           "yaxis": {
            "backgroundcolor": "#E5ECF6",
            "gridcolor": "white",
            "gridwidth": 2,
            "linecolor": "white",
            "showbackground": true,
            "ticks": "",
            "zerolinecolor": "white"
           },
           "zaxis": {
            "backgroundcolor": "#E5ECF6",
            "gridcolor": "white",
            "gridwidth": 2,
            "linecolor": "white",
            "showbackground": true,
            "ticks": "",
            "zerolinecolor": "white"
           }
          },
          "shapedefaults": {
           "line": {
            "color": "#2a3f5f"
           }
          },
          "ternary": {
           "aaxis": {
            "gridcolor": "white",
            "linecolor": "white",
            "ticks": ""
           },
           "baxis": {
            "gridcolor": "white",
            "linecolor": "white",
            "ticks": ""
           },
           "bgcolor": "#E5ECF6",
           "caxis": {
            "gridcolor": "white",
            "linecolor": "white",
            "ticks": ""
           }
          },
          "title": {
           "x": 0.05
          },
          "xaxis": {
           "automargin": true,
           "gridcolor": "white",
           "linecolor": "white",
           "ticks": "",
           "title": {
            "standoff": 15
           },
           "zerolinecolor": "white",
           "zerolinewidth": 2
          },
          "yaxis": {
           "automargin": true,
           "gridcolor": "white",
           "linecolor": "white",
           "ticks": "",
           "title": {
            "standoff": 15
           },
           "zerolinecolor": "white",
           "zerolinewidth": 2
          }
         }
        },
        "xaxis": {
         "showgrid": false,
         "showticklabels": false,
         "zeroline": false
        },
        "yaxis": {
         "showgrid": false,
         "showticklabels": false,
         "zeroline": false
        }
       }
      }
     },
     "metadata": {},
     "output_type": "display_data"
    }
   ],
   "source": [
    "plot_dag(\n",
    "    functions=policy_functions,\n",
    "    selectors=[{\"node\": \"zu_verst_kapitaleink_tu\", \"type\": \"neighbors\"}],\n",
    "    orientation ='h',\n",
    ")"
   ]
  },
  {
   "cell_type": "markdown",
   "id": "44c8fdc3",
   "metadata": {},
   "source": [
    "## Labels"
   ]
  },
  {
   "cell_type": "markdown",
   "id": "40a528fc",
   "metadata": {},
   "source": [
    "By default when number of nodes is smaller than 10 all names are displayed next to the node. It is possible to hide the labels of the nodes by setting `plot_dag(..., show_labels=False)`. In this case the names are displayed next to the node only when hovering over it. "
   ]
  },
  {
   "cell_type": "code",
   "execution_count": 55,
   "id": "03ca0f32",
   "metadata": {},
   "outputs": [
    {
     "data": {
      "application/vnd.plotly.v1+json": {
       "config": {
        "plotlyServerURL": "https://plot.ly"
       },
       "data": [
        {
         "hoverinfo": "none",
         "line": {
          "color": "blue",
          "width": 0.5
         },
         "mode": "lines",
         "showlegend": false,
         "type": "scatter",
         "uid": "b9db5332-85f5-4242-8380-f7018ff46147",
         "x": [
          0,
          1,
          "",
          -1,
          0,
          "",
          -1,
          0,
          ""
         ],
         "y": [
          0,
          0,
          "",
          -1,
          0,
          "",
          1,
          0,
          ""
         ]
        },
        {
         "hoverinfo": "text",
         "marker": {
          "color": "red",
          "reversescale": true,
          "showscale": false,
          "size": 15
         },
         "mode": "markers",
         "showlegend": false,
         "text": [
          "abgelt_st_tu",
          "zu_verst_kapitaleink_tu",
          "kapitaleink_brutto_tu",
          "anz_erwachsene_tu"
         ],
         "textposition": "bottom center",
         "type": "scatter",
         "uid": "eaa294df-acb8-4ddf-bbb0-6fb4f3747dc5",
         "x": [
          1,
          0,
          -1,
          -1
         ],
         "y": [
          0,
          0,
          -1,
          1
         ]
        },
        {
         "hoverinfo": "skip",
         "marker": {
          "color": "red",
          "reversescale": true,
          "showscale": false,
          "size": 15
         },
         "mode": "markers",
         "showlegend": false,
         "text": [
          "abgelt_st_tu",
          "zu_verst_kapitaleink_tu",
          "kapitaleink_brutto_tu",
          "anz_erwachsene_tu"
         ],
         "textposition": "bottom center",
         "type": "scatter",
         "uid": "34beab70-1022-42ed-b73f-e849597333d1",
         "x": [
          1,
          0,
          -1,
          -1
         ],
         "y": [
          0,
          0,
          -1,
          1
         ]
        }
       ],
       "layout": {
        "annotations": [
         {
          "arrowcolor": "gray",
          "arrowhead": 2,
          "arrowsize": 2,
          "ax": 0,
          "axref": "x",
          "ay": 0,
          "ayref": "y",
          "showarrow": true,
          "standoff": 5,
          "startstandoff": 5,
          "text": "",
          "x": 1,
          "xref": "x",
          "y": 0,
          "yref": "y"
         },
         {
          "arrowcolor": "gray",
          "arrowhead": 2,
          "arrowsize": 2,
          "ax": -1,
          "axref": "x",
          "ay": -1,
          "ayref": "y",
          "showarrow": true,
          "standoff": 5,
          "startstandoff": 5,
          "text": "",
          "x": 0,
          "xref": "x",
          "y": 0,
          "yref": "y"
         },
         {
          "arrowcolor": "gray",
          "arrowhead": 2,
          "arrowsize": 2,
          "ax": -1,
          "axref": "x",
          "ay": 1,
          "ayref": "y",
          "showarrow": true,
          "standoff": 5,
          "startstandoff": 5,
          "text": "",
          "x": 0,
          "xref": "x",
          "y": 0,
          "yref": "y"
         }
        ],
        "hoverlabel": {
         "font": {
          "size": 10
         }
        },
        "hovermode": "closest",
        "margin": {
         "b": 20,
         "l": 5,
         "r": 5,
         "t": 40
        },
        "showlegend": false,
        "template": {
         "data": {
          "bar": [
           {
            "error_x": {
             "color": "#2a3f5f"
            },
            "error_y": {
             "color": "#2a3f5f"
            },
            "marker": {
             "line": {
              "color": "#E5ECF6",
              "width": 0.5
             },
             "pattern": {
              "fillmode": "overlay",
              "size": 10,
              "solidity": 0.2
             }
            },
            "type": "bar"
           }
          ],
          "barpolar": [
           {
            "marker": {
             "line": {
              "color": "#E5ECF6",
              "width": 0.5
             },
             "pattern": {
              "fillmode": "overlay",
              "size": 10,
              "solidity": 0.2
             }
            },
            "type": "barpolar"
           }
          ],
          "carpet": [
           {
            "aaxis": {
             "endlinecolor": "#2a3f5f",
             "gridcolor": "white",
             "linecolor": "white",
             "minorgridcolor": "white",
             "startlinecolor": "#2a3f5f"
            },
            "baxis": {
             "endlinecolor": "#2a3f5f",
             "gridcolor": "white",
             "linecolor": "white",
             "minorgridcolor": "white",
             "startlinecolor": "#2a3f5f"
            },
            "type": "carpet"
           }
          ],
          "choropleth": [
           {
            "colorbar": {
             "outlinewidth": 0,
             "ticks": ""
            },
            "type": "choropleth"
           }
          ],
          "contour": [
           {
            "colorbar": {
             "outlinewidth": 0,
             "ticks": ""
            },
            "colorscale": [
             [
              0,
              "#0d0887"
             ],
             [
              0.1111111111111111,
              "#46039f"
             ],
             [
              0.2222222222222222,
              "#7201a8"
             ],
             [
              0.3333333333333333,
              "#9c179e"
             ],
             [
              0.4444444444444444,
              "#bd3786"
             ],
             [
              0.5555555555555556,
              "#d8576b"
             ],
             [
              0.6666666666666666,
              "#ed7953"
             ],
             [
              0.7777777777777778,
              "#fb9f3a"
             ],
             [
              0.8888888888888888,
              "#fdca26"
             ],
             [
              1,
              "#f0f921"
             ]
            ],
            "type": "contour"
           }
          ],
          "contourcarpet": [
           {
            "colorbar": {
             "outlinewidth": 0,
             "ticks": ""
            },
            "type": "contourcarpet"
           }
          ],
          "heatmap": [
           {
            "colorbar": {
             "outlinewidth": 0,
             "ticks": ""
            },
            "colorscale": [
             [
              0,
              "#0d0887"
             ],
             [
              0.1111111111111111,
              "#46039f"
             ],
             [
              0.2222222222222222,
              "#7201a8"
             ],
             [
              0.3333333333333333,
              "#9c179e"
             ],
             [
              0.4444444444444444,
              "#bd3786"
             ],
             [
              0.5555555555555556,
              "#d8576b"
             ],
             [
              0.6666666666666666,
              "#ed7953"
             ],
             [
              0.7777777777777778,
              "#fb9f3a"
             ],
             [
              0.8888888888888888,
              "#fdca26"
             ],
             [
              1,
              "#f0f921"
             ]
            ],
            "type": "heatmap"
           }
          ],
          "heatmapgl": [
           {
            "colorbar": {
             "outlinewidth": 0,
             "ticks": ""
            },
            "colorscale": [
             [
              0,
              "#0d0887"
             ],
             [
              0.1111111111111111,
              "#46039f"
             ],
             [
              0.2222222222222222,
              "#7201a8"
             ],
             [
              0.3333333333333333,
              "#9c179e"
             ],
             [
              0.4444444444444444,
              "#bd3786"
             ],
             [
              0.5555555555555556,
              "#d8576b"
             ],
             [
              0.6666666666666666,
              "#ed7953"
             ],
             [
              0.7777777777777778,
              "#fb9f3a"
             ],
             [
              0.8888888888888888,
              "#fdca26"
             ],
             [
              1,
              "#f0f921"
             ]
            ],
            "type": "heatmapgl"
           }
          ],
          "histogram": [
           {
            "marker": {
             "pattern": {
              "fillmode": "overlay",
              "size": 10,
              "solidity": 0.2
             }
            },
            "type": "histogram"
           }
          ],
          "histogram2d": [
           {
            "colorbar": {
             "outlinewidth": 0,
             "ticks": ""
            },
            "colorscale": [
             [
              0,
              "#0d0887"
             ],
             [
              0.1111111111111111,
              "#46039f"
             ],
             [
              0.2222222222222222,
              "#7201a8"
             ],
             [
              0.3333333333333333,
              "#9c179e"
             ],
             [
              0.4444444444444444,
              "#bd3786"
             ],
             [
              0.5555555555555556,
              "#d8576b"
             ],
             [
              0.6666666666666666,
              "#ed7953"
             ],
             [
              0.7777777777777778,
              "#fb9f3a"
             ],
             [
              0.8888888888888888,
              "#fdca26"
             ],
             [
              1,
              "#f0f921"
             ]
            ],
            "type": "histogram2d"
           }
          ],
          "histogram2dcontour": [
           {
            "colorbar": {
             "outlinewidth": 0,
             "ticks": ""
            },
            "colorscale": [
             [
              0,
              "#0d0887"
             ],
             [
              0.1111111111111111,
              "#46039f"
             ],
             [
              0.2222222222222222,
              "#7201a8"
             ],
             [
              0.3333333333333333,
              "#9c179e"
             ],
             [
              0.4444444444444444,
              "#bd3786"
             ],
             [
              0.5555555555555556,
              "#d8576b"
             ],
             [
              0.6666666666666666,
              "#ed7953"
             ],
             [
              0.7777777777777778,
              "#fb9f3a"
             ],
             [
              0.8888888888888888,
              "#fdca26"
             ],
             [
              1,
              "#f0f921"
             ]
            ],
            "type": "histogram2dcontour"
           }
          ],
          "mesh3d": [
           {
            "colorbar": {
             "outlinewidth": 0,
             "ticks": ""
            },
            "type": "mesh3d"
           }
          ],
          "parcoords": [
           {
            "line": {
             "colorbar": {
              "outlinewidth": 0,
              "ticks": ""
             }
            },
            "type": "parcoords"
           }
          ],
          "pie": [
           {
            "automargin": true,
            "type": "pie"
           }
          ],
          "scatter": [
           {
            "fillpattern": {
             "fillmode": "overlay",
             "size": 10,
             "solidity": 0.2
            },
            "type": "scatter"
           }
          ],
          "scatter3d": [
           {
            "line": {
             "colorbar": {
              "outlinewidth": 0,
              "ticks": ""
             }
            },
            "marker": {
             "colorbar": {
              "outlinewidth": 0,
              "ticks": ""
             }
            },
            "type": "scatter3d"
           }
          ],
          "scattercarpet": [
           {
            "marker": {
             "colorbar": {
              "outlinewidth": 0,
              "ticks": ""
             }
            },
            "type": "scattercarpet"
           }
          ],
          "scattergeo": [
           {
            "marker": {
             "colorbar": {
              "outlinewidth": 0,
              "ticks": ""
             }
            },
            "type": "scattergeo"
           }
          ],
          "scattergl": [
           {
            "marker": {
             "colorbar": {
              "outlinewidth": 0,
              "ticks": ""
             }
            },
            "type": "scattergl"
           }
          ],
          "scattermapbox": [
           {
            "marker": {
             "colorbar": {
              "outlinewidth": 0,
              "ticks": ""
             }
            },
            "type": "scattermapbox"
           }
          ],
          "scatterpolar": [
           {
            "marker": {
             "colorbar": {
              "outlinewidth": 0,
              "ticks": ""
             }
            },
            "type": "scatterpolar"
           }
          ],
          "scatterpolargl": [
           {
            "marker": {
             "colorbar": {
              "outlinewidth": 0,
              "ticks": ""
             }
            },
            "type": "scatterpolargl"
           }
          ],
          "scatterternary": [
           {
            "marker": {
             "colorbar": {
              "outlinewidth": 0,
              "ticks": ""
             }
            },
            "type": "scatterternary"
           }
          ],
          "surface": [
           {
            "colorbar": {
             "outlinewidth": 0,
             "ticks": ""
            },
            "colorscale": [
             [
              0,
              "#0d0887"
             ],
             [
              0.1111111111111111,
              "#46039f"
             ],
             [
              0.2222222222222222,
              "#7201a8"
             ],
             [
              0.3333333333333333,
              "#9c179e"
             ],
             [
              0.4444444444444444,
              "#bd3786"
             ],
             [
              0.5555555555555556,
              "#d8576b"
             ],
             [
              0.6666666666666666,
              "#ed7953"
             ],
             [
              0.7777777777777778,
              "#fb9f3a"
             ],
             [
              0.8888888888888888,
              "#fdca26"
             ],
             [
              1,
              "#f0f921"
             ]
            ],
            "type": "surface"
           }
          ],
          "table": [
           {
            "cells": {
             "fill": {
              "color": "#EBF0F8"
             },
             "line": {
              "color": "white"
             }
            },
            "header": {
             "fill": {
              "color": "#C8D4E3"
             },
             "line": {
              "color": "white"
             }
            },
            "type": "table"
           }
          ]
         },
         "layout": {
          "annotationdefaults": {
           "arrowcolor": "#2a3f5f",
           "arrowhead": 0,
           "arrowwidth": 1
          },
          "autotypenumbers": "strict",
          "coloraxis": {
           "colorbar": {
            "outlinewidth": 0,
            "ticks": ""
           }
          },
          "colorscale": {
           "diverging": [
            [
             0,
             "#8e0152"
            ],
            [
             0.1,
             "#c51b7d"
            ],
            [
             0.2,
             "#de77ae"
            ],
            [
             0.3,
             "#f1b6da"
            ],
            [
             0.4,
             "#fde0ef"
            ],
            [
             0.5,
             "#f7f7f7"
            ],
            [
             0.6,
             "#e6f5d0"
            ],
            [
             0.7,
             "#b8e186"
            ],
            [
             0.8,
             "#7fbc41"
            ],
            [
             0.9,
             "#4d9221"
            ],
            [
             1,
             "#276419"
            ]
           ],
           "sequential": [
            [
             0,
             "#0d0887"
            ],
            [
             0.1111111111111111,
             "#46039f"
            ],
            [
             0.2222222222222222,
             "#7201a8"
            ],
            [
             0.3333333333333333,
             "#9c179e"
            ],
            [
             0.4444444444444444,
             "#bd3786"
            ],
            [
             0.5555555555555556,
             "#d8576b"
            ],
            [
             0.6666666666666666,
             "#ed7953"
            ],
            [
             0.7777777777777778,
             "#fb9f3a"
            ],
            [
             0.8888888888888888,
             "#fdca26"
            ],
            [
             1,
             "#f0f921"
            ]
           ],
           "sequentialminus": [
            [
             0,
             "#0d0887"
            ],
            [
             0.1111111111111111,
             "#46039f"
            ],
            [
             0.2222222222222222,
             "#7201a8"
            ],
            [
             0.3333333333333333,
             "#9c179e"
            ],
            [
             0.4444444444444444,
             "#bd3786"
            ],
            [
             0.5555555555555556,
             "#d8576b"
            ],
            [
             0.6666666666666666,
             "#ed7953"
            ],
            [
             0.7777777777777778,
             "#fb9f3a"
            ],
            [
             0.8888888888888888,
             "#fdca26"
            ],
            [
             1,
             "#f0f921"
            ]
           ]
          },
          "colorway": [
           "#636efa",
           "#EF553B",
           "#00cc96",
           "#ab63fa",
           "#FFA15A",
           "#19d3f3",
           "#FF6692",
           "#B6E880",
           "#FF97FF",
           "#FECB52"
          ],
          "font": {
           "color": "#2a3f5f"
          },
          "geo": {
           "bgcolor": "white",
           "lakecolor": "white",
           "landcolor": "#E5ECF6",
           "showlakes": true,
           "showland": true,
           "subunitcolor": "white"
          },
          "hoverlabel": {
           "align": "left"
          },
          "hovermode": "closest",
          "mapbox": {
           "style": "light"
          },
          "paper_bgcolor": "white",
          "plot_bgcolor": "#E5ECF6",
          "polar": {
           "angularaxis": {
            "gridcolor": "white",
            "linecolor": "white",
            "ticks": ""
           },
           "bgcolor": "#E5ECF6",
           "radialaxis": {
            "gridcolor": "white",
            "linecolor": "white",
            "ticks": ""
           }
          },
          "scene": {
           "xaxis": {
            "backgroundcolor": "#E5ECF6",
            "gridcolor": "white",
            "gridwidth": 2,
            "linecolor": "white",
            "showbackground": true,
            "ticks": "",
            "zerolinecolor": "white"
           },
           "yaxis": {
            "backgroundcolor": "#E5ECF6",
            "gridcolor": "white",
            "gridwidth": 2,
            "linecolor": "white",
            "showbackground": true,
            "ticks": "",
            "zerolinecolor": "white"
           },
           "zaxis": {
            "backgroundcolor": "#E5ECF6",
            "gridcolor": "white",
            "gridwidth": 2,
            "linecolor": "white",
            "showbackground": true,
            "ticks": "",
            "zerolinecolor": "white"
           }
          },
          "shapedefaults": {
           "line": {
            "color": "#2a3f5f"
           }
          },
          "ternary": {
           "aaxis": {
            "gridcolor": "white",
            "linecolor": "white",
            "ticks": ""
           },
           "baxis": {
            "gridcolor": "white",
            "linecolor": "white",
            "ticks": ""
           },
           "bgcolor": "#E5ECF6",
           "caxis": {
            "gridcolor": "white",
            "linecolor": "white",
            "ticks": ""
           }
          },
          "title": {
           "x": 0.05
          },
          "xaxis": {
           "automargin": true,
           "gridcolor": "white",
           "linecolor": "white",
           "ticks": "",
           "title": {
            "standoff": 15
           },
           "zerolinecolor": "white",
           "zerolinewidth": 2
          },
          "yaxis": {
           "automargin": true,
           "gridcolor": "white",
           "linecolor": "white",
           "ticks": "",
           "title": {
            "standoff": 15
           },
           "zerolinecolor": "white",
           "zerolinewidth": 2
          }
         }
        },
        "xaxis": {
         "showgrid": false,
         "showticklabels": false,
         "zeroline": false
        },
        "yaxis": {
         "showgrid": false,
         "showticklabels": false,
         "zeroline": false
        }
       }
      }
     },
     "metadata": {},
     "output_type": "display_data"
    }
   ],
   "source": [
    "plot_dag(\n",
    "    functions=policy_functions,\n",
    "    selectors=[{\"node\": \"zu_verst_kapitaleink_tu\", \"type\": \"neighbors\"}],\n",
    "    orientation ='h',\n",
    "    show_labels=False,\n",
    ")"
   ]
  },
  {
   "cell_type": "code",
   "execution_count": 56,
   "id": "00f70e91",
   "metadata": {},
   "outputs": [
    {
     "data": {
      "application/vnd.plotly.v1+json": {
       "config": {
        "plotlyServerURL": "https://plot.ly"
       },
       "data": [
        {
         "hoverinfo": "none",
         "line": {
          "color": "blue",
          "width": 0.5
         },
         "mode": "lines",
         "showlegend": false,
         "type": "scatter",
         "uid": "ae410eef-efb3-404b-a81d-48f934622d13",
         "x": [
          -0.7777777777777778,
          -0.6296296296296297,
          "",
          -0.7777777777777778,
          -0.6296296296296297,
          "",
          -0.6296296296296297,
          -0.037037037037037035,
          "",
          -0.6296296296296297,
          0.4074074074074074,
          "",
          -0.6296296296296297,
          0.48148148148148145,
          "",
          -0.7777777777777778,
          -0.6296296296296297,
          "",
          -0.7777777777777778,
          -0.7037037037037037,
          "",
          -0.7777777777777778,
          -0.4074074074074074,
          "",
          -0.8518518518518519,
          -0.6296296296296297,
          "",
          -0.8518518518518519,
          -0.6296296296296297,
          "",
          -1,
          -0.7777777777777778,
          "",
          -1,
          -0.7777777777777778,
          "",
          -1,
          -0.8518518518518519,
          "",
          -1,
          -0.9259259259259259,
          "",
          -1,
          -0.7037037037037037,
          "",
          -1,
          -0.6296296296296297,
          "",
          -0.9259259259259259,
          -0.7777777777777778,
          "",
          -0.9259259259259259,
          -0.7777777777777778,
          "",
          -0.9259259259259259,
          -0.8518518518518519,
          "",
          -0.9259259259259259,
          -0.8518518518518519,
          "",
          -0.9259259259259259,
          -0.7037037037037037,
          "",
          -0.8518518518518519,
          -0.7777777777777778,
          "",
          -0.7777777777777778,
          -0.7037037037037037,
          "",
          -0.7037037037037037,
          -0.6296296296296297,
          "",
          -0.7037037037037037,
          -0.6296296296296297,
          "",
          -0.7037037037037037,
          -0.3333333333333333,
          "",
          -0.037037037037037035,
          0.5555555555555556,
          "",
          0.5555555555555556,
          0.7037037037037037,
          "",
          0.48148148148148145,
          0.5555555555555556,
          "",
          0.7037037037037037,
          0.8518518518518519,
          "",
          0.1111111111111111,
          0.18518518518518517,
          "",
          0.18518518518518517,
          0.25925925925925924,
          "",
          0.18518518518518517,
          0.3333333333333333,
          "",
          0.037037037037037035,
          0.1111111111111111,
          "",
          0.037037037037037035,
          0.18518518518518517,
          "",
          0.037037037037037035,
          0.3333333333333333,
          "",
          0.25925925925925924,
          0.3333333333333333,
          "",
          0.3333333333333333,
          0.4074074074074074,
          "",
          0.3333333333333333,
          0.4074074074074074,
          "",
          0.3333333333333333,
          0.4074074074074074,
          "",
          -0.037037037037037035,
          0.037037037037037035,
          "",
          0.4074074074074074,
          0.48148148148148145,
          "",
          0.8518518518518519,
          0.9259259259259259,
          "",
          0.8518518518518519,
          0.9259259259259259,
          "",
          0.8518518518518519,
          1,
          "",
          0.8518518518518519,
          1,
          "",
          0.8518518518518519,
          0.9259259259259259,
          "",
          0.8518518518518519,
          0.9259259259259259,
          "",
          0.9259259259259259,
          1,
          "",
          0.9259259259259259,
          1,
          "",
          0.9259259259259259,
          1,
          "",
          0.9259259259259259,
          1,
          "",
          0.9259259259259259,
          1,
          "",
          0.9259259259259259,
          1,
          "",
          0.9259259259259259,
          1,
          "",
          0.8518518518518519,
          0.9259259259259259,
          "",
          0.8518518518518519,
          0.9259259259259259,
          "",
          0.8518518518518519,
          0.9259259259259259,
          "",
          0.8518518518518519,
          1,
          "",
          0.4074074074074074,
          0.48148148148148145,
          "",
          0.4074074074074074,
          0.6296296296296297,
          "",
          0.48148148148148145,
          0.5555555555555556,
          "",
          0.6296296296296297,
          0.7037037037037037,
          "",
          -0.1111111111111111,
          -0.037037037037037035,
          "",
          -0.1111111111111111,
          0.4074074074074074,
          "",
          -0.1111111111111111,
          0.48148148148148145,
          "",
          -0.25925925925925924,
          -0.1111111111111111,
          "",
          -0.25925925925925924,
          -0.18518518518518517,
          "",
          -0.25925925925925924,
          -0.1111111111111111,
          "",
          -0.25925925925925924,
          -0.18518518518518517,
          "",
          -0.25925925925925924,
          -0.1111111111111111,
          "",
          -0.18518518518518517,
          -0.1111111111111111,
          "",
          -0.18518518518518517,
          0.4074074074074074,
          "",
          -0.6296296296296297,
          -0.5555555555555556,
          "",
          -0.6296296296296297,
          -0.18518518518518517,
          "",
          -0.7037037037037037,
          -0.6296296296296297,
          "",
          -0.4074074074074074,
          -0.25925925925925924,
          "",
          -0.4074074074074074,
          -0.3333333333333333,
          "",
          -0.5555555555555556,
          -0.48148148148148145,
          "",
          -0.3333333333333333,
          -0.25925925925925924,
          "",
          -0.5555555555555556,
          -0.48148148148148145,
          "",
          -0.1111111111111111,
          -0.037037037037037035,
          "",
          -0.1111111111111111,
          -0.037037037037037035,
          "",
          -0.1111111111111111,
          0.4074074074074074,
          "",
          -0.1111111111111111,
          0.48148148148148145,
          "",
          0.4074074074074074,
          0.48148148148148145,
          "",
          0.4074074074074074,
          0.48148148148148145,
          "",
          -0.6296296296296297,
          -0.5555555555555556,
          "",
          0.7777777777777778,
          0.8518518518518519,
          "",
          -0.4074074074074074,
          -0.037037037037037035,
          "",
          -0.3333333333333333,
          -0.037037037037037035,
          "",
          0.5555555555555556,
          0.8518518518518519,
          "",
          0.5555555555555556,
          0.6296296296296297,
          "",
          0.6296296296296297,
          0.7777777777777778,
          "",
          0.4074074074074074,
          0.48148148148148145,
          "",
          -0.48148148148148145,
          -0.4074074074074074,
          "",
          0.7037037037037037,
          0.7777777777777778,
          "",
          -0.18518518518518517,
          0.48148148148148145,
          "",
          0.48148148148148145,
          0.5555555555555556,
          "",
          -0.48148148148148145,
          -0.4074074074074074,
          "",
          0.48148148148148145,
          0.5555555555555556,
          "",
          0.48148148148148145,
          0.8518518518518519,
          ""
         ],
         "y": [
          0.985981308411215,
          0.7289719626168224,
          "",
          0.985981308411215,
          0.10747663551401869,
          "",
          0.7289719626168224,
          0.5654205607476636,
          "",
          0.7289719626168224,
          0.3925233644859813,
          "",
          0.7289719626168224,
          1,
          "",
          -0.45794392523364486,
          0.7289719626168224,
          "",
          -0.45794392523364486,
          -0.4532710280373832,
          "",
          -0.45794392523364486,
          -1,
          "",
          0.5700934579439252,
          0.7289719626168224,
          "",
          0.5700934579439252,
          0.10747663551401869,
          "",
          -0.07476635514018691,
          0.985981308411215,
          "",
          -0.07476635514018691,
          -0.45794392523364486,
          "",
          -0.07476635514018691,
          0.5700934579439252,
          "",
          -0.07476635514018691,
          0.1822429906542056,
          "",
          -0.07476635514018691,
          0.09813084112149532,
          "",
          -0.07476635514018691,
          -0.48598130841121495,
          "",
          0.1822429906542056,
          0.985981308411215,
          "",
          0.1822429906542056,
          -0.45794392523364486,
          "",
          0.1822429906542056,
          0.5700934579439252,
          "",
          0.1822429906542056,
          0.056074766355140186,
          "",
          0.1822429906542056,
          0.09813084112149532,
          "",
          0.056074766355140186,
          0.056074766355140186,
          "",
          0.056074766355140186,
          0.09813084112149532,
          "",
          0.09813084112149532,
          0.7289719626168224,
          "",
          0.09813084112149532,
          0.10747663551401869,
          "",
          0.09813084112149532,
          -0.7429906542056075,
          "",
          -0.8364485981308412,
          -0.5654205607476636,
          "",
          -0.5654205607476636,
          -0.2850467289719626,
          "",
          -0.5654205607476636,
          -0.5654205607476636,
          "",
          -0.2850467289719626,
          -0.1588785046728972,
          "",
          0.03271028037383177,
          0.12149532710280374,
          "",
          0.12149532710280374,
          0.03271028037383177,
          "",
          0.12149532710280374,
          0.3364485981308411,
          "",
          0.3177570093457944,
          0.03271028037383177,
          "",
          0.3177570093457944,
          0.12149532710280374,
          "",
          0.3177570093457944,
          0.3364485981308411,
          "",
          0.03271028037383177,
          0.3364485981308411,
          "",
          0.3364485981308411,
          0.3925233644859813,
          "",
          0.3364485981308411,
          0.7289719626168224,
          "",
          0.3364485981308411,
          -0.32242990654205606,
          "",
          0.5654205607476636,
          0.3177570093457944,
          "",
          0.3925233644859813,
          0.4485981308411215,
          "",
          0.9065420560747663,
          0.822429906542056,
          "",
          0.9065420560747663,
          0.308411214953271,
          "",
          0.9065420560747663,
          0.822429906542056,
          "",
          -0.1588785046728972,
          -0.028037383177570093,
          "",
          -0.1588785046728972,
          0.308411214953271,
          "",
          -0.1588785046728972,
          -0.028037383177570093,
          "",
          0.822429906542056,
          0.397196261682243,
          "",
          0.822429906542056,
          0.822429906542056,
          "",
          0.308411214953271,
          -0.028037383177570093,
          "",
          0.308411214953271,
          0.397196261682243,
          "",
          0.308411214953271,
          0.822429906542056,
          "",
          -0.028037383177570093,
          -0.028037383177570093,
          "",
          -0.028037383177570093,
          0.397196261682243,
          "",
          0.48598130841121495,
          0.822429906542056,
          "",
          0.48598130841121495,
          0.308411214953271,
          "",
          0.48598130841121495,
          -0.028037383177570093,
          "",
          0.48598130841121495,
          0.397196261682243,
          "",
          0.7289719626168224,
          1,
          "",
          0.7289719626168224,
          0.4719626168224299,
          "",
          1,
          0.985981308411215,
          "",
          0.985981308411215,
          0.985981308411215,
          "",
          0.822429906542056,
          0.5654205607476636,
          "",
          0.822429906542056,
          0.3925233644859813,
          "",
          0.822429906542056,
          1,
          "",
          0.2803738317757009,
          0.822429906542056,
          "",
          0.2803738317757009,
          -0.1542056074766355,
          "",
          0.2803738317757009,
          0.102803738317757,
          "",
          -0.056074766355140186,
          -0.1542056074766355,
          "",
          -0.056074766355140186,
          0.102803738317757,
          "",
          -0.1542056074766355,
          0.102803738317757,
          "",
          -0.1542056074766355,
          0.014018691588785047,
          "",
          -0.48598130841121495,
          -0.22897196261682243,
          "",
          -0.48598130841121495,
          -0.5186915887850467,
          "",
          -0.4532710280373832,
          0.10747663551401869,
          "",
          0.037383177570093455,
          -0.056074766355140186,
          "",
          0.037383177570093455,
          0.2616822429906542,
          "",
          0.10747663551401869,
          0.10747663551401869,
          "",
          0.2616822429906542,
          0.2803738317757009,
          "",
          -0.22897196261682243,
          -0.22897196261682243,
          "",
          0.102803738317757,
          -0.8364485981308412,
          "",
          0.102803738317757,
          0.5654205607476636,
          "",
          0.102803738317757,
          0.3925233644859813,
          "",
          0.102803738317757,
          1,
          "",
          0.014018691588785047,
          -0.22429906542056074,
          "",
          0.014018691588785047,
          0.11214953271028037,
          "",
          0.10747663551401869,
          0.10747663551401869,
          "",
          0.985981308411215,
          0.9065420560747663,
          "",
          -1,
          -0.8364485981308412,
          "",
          -0.7429906542056075,
          -0.8364485981308412,
          "",
          0.985981308411215,
          0.48598130841121495,
          "",
          0.985981308411215,
          0.985981308411215,
          "",
          0.4719626168224299,
          0.985981308411215,
          "",
          -0.32242990654205606,
          -0.5654205607476636,
          "",
          -0.22897196261682243,
          0.037383177570093455,
          "",
          0.985981308411215,
          0.985981308411215,
          "",
          -0.5186915887850467,
          -0.5654205607476636,
          "",
          0.4485981308411215,
          0.4485981308411215,
          "",
          0.10747663551401869,
          0.037383177570093455,
          "",
          0.11214953271028037,
          0.4485981308411215,
          "",
          0.11214953271028037,
          0.48598130841121495,
          ""
         ]
        },
        {
         "hoverinfo": "text",
         "marker": {
          "color": "red",
          "reversescale": true,
          "showscale": false,
          "size": 15
         },
         "mode": "markers",
         "showlegend": false,
         "text": [
          "arbeitsl_v_beitr_m",
          "sozialv_beitr_gesamt_m",
          "ges_rentenv_beitr_m",
          "ges_pflegev_beitr_m",
          "geringfügig_beschäftigt",
          "in_gleitzone",
          "_ges_krankenv_midi_job_arbeitg_m",
          "_ges_krankenv_midi_job_arbeitn_m",
          "ges_krankenv_beitr_m",
          "wohngeld_abzüge_m_tu",
          "wohngeld_eink_m",
          "wohngeld_eink_vor_abzug_m_tu",
          "wohngeld_m_hh",
          "wohngeld_vor_vermög_check_m_hh",
          "elterngeld_anteil_eink_erlass",
          "elterngeld_eink_erlass_m",
          "elterngeld_eink_relev_m",
          "elterngeld_geschw_bonus_m",
          "elterngeld_m",
          "elterngeld_nettolohn_m",
          "grunds_im_alter_eink_m",
          "grunds_im_alter_m_hh",
          "_kinderzuschl_nach_vermög_check_m_hh",
          "wohngeld_nach_vermög_check_m_hh",
          "kinderzuschl_vorrang_hh",
          "wohngeld_kinderzuschl_vorrang_hh",
          "wohngeld_vorrang_hh",
          "arbeitsl_geld_2_m_hh",
          "arbeitsl_geld_2_vor_vorrang_m_hh",
          "arbeitsl_geld_2_brutto_eink_m",
          "arbeitsl_geld_2_eink_m",
          "kinderzuschl_eink_anrechn_m",
          "kinderzuschl_m_hh",
          "soli_st_tu",
          "eink_st_mit_kinderfreib_tu",
          "eink_st_ohne_kinderfreib_tu",
          "kinderfreib_günstiger_tu",
          "eink_abhängig_beschäftigt",
          "vorsorgeaufw_alter_ab_2005",
          "_zu_verst_eink_ohne_kinderfreib_tu",
          "freibeträge",
          "zu_verst_eink_mit_kinderfreib_tu",
          "sum_eink",
          "eink_st_tu",
          "kindergeld_m",
          "vorsorgeaufw",
          "_kinderzuschl_vor_vermög_check_m_hh",
          "kindergeld_m_tu",
          "ges_rentenv_beitr_m_tu",
          "ges_krankenv_beitr_m_tu",
          "arbeitsl_geld_2_eink_m_hh",
          "arbeitsl_geld_2_brutto_eink_m_hh",
          "elterngeld_m_tu",
          "sum_eink_tu",
          "kinderzuschl_eink_anrechn_m_hh",
          "eink_abhängig_beschäftigt_tu",
          "grunds_im_alter_eink_m_hh",
          "freibeträge_tu",
          "kindergeld_m_hh"
         ],
         "textposition": "bottom center",
         "type": "scatter",
         "uid": "370814ba-680c-4771-b49f-37980ab6997d",
         "x": [
          -0.7777777777777778,
          -0.6296296296296297,
          -0.7777777777777778,
          -0.8518518518518519,
          -1,
          -0.9259259259259259,
          -0.8518518518518519,
          -0.7777777777777778,
          -0.7037037037037037,
          -0.037037037037037035,
          0.5555555555555556,
          0.48148148148148145,
          1,
          0.7037037037037037,
          0.1111111111111111,
          0.18518518518518517,
          0.037037037037037035,
          0.25925925925925924,
          0.3333333333333333,
          -0.037037037037037035,
          0.4074074074074074,
          0.5555555555555556,
          0.8518518518518519,
          0.8518518518518519,
          0.9259259259259259,
          0.9259259259259259,
          0.9259259259259259,
          1,
          0.8518518518518519,
          0.4074074074074074,
          0.48148148148148145,
          0.6296296296296297,
          1,
          -0.1111111111111111,
          -0.25925925925925924,
          -0.25925925925925924,
          -0.18518518518518517,
          -0.6296296296296297,
          -0.7037037037037037,
          -0.4074074074074074,
          -0.5555555555555556,
          -0.3333333333333333,
          -0.5555555555555556,
          -0.1111111111111111,
          0.4074074074074074,
          -0.6296296296296297,
          0.7777777777777778,
          0.48148148148148145,
          -0.4074074074074074,
          -0.3333333333333333,
          0.5555555555555556,
          0.6296296296296297,
          0.4074074074074074,
          -0.48148148148148145,
          0.7037037037037037,
          -0.18518518518518517,
          0.48148148148148145,
          -0.48148148148148145,
          0.48148148148148145
         ],
         "y": [
          0.985981308411215,
          0.7289719626168224,
          -0.45794392523364486,
          0.5700934579439252,
          -0.07476635514018691,
          0.1822429906542056,
          0.056074766355140186,
          0.056074766355140186,
          0.09813084112149532,
          -0.8364485981308412,
          -0.5654205607476636,
          -0.5654205607476636,
          -0.028037383177570093,
          -0.2850467289719626,
          0.03271028037383177,
          0.12149532710280374,
          0.3177570093457944,
          0.03271028037383177,
          0.3364485981308411,
          0.5654205607476636,
          0.3925233644859813,
          0.4485981308411215,
          0.9065420560747663,
          -0.1588785046728972,
          0.822429906542056,
          0.308411214953271,
          -0.028037383177570093,
          0.397196261682243,
          0.48598130841121495,
          0.7289719626168224,
          1,
          0.985981308411215,
          0.822429906542056,
          0.822429906542056,
          0.2803738317757009,
          -0.056074766355140186,
          -0.1542056074766355,
          -0.48598130841121495,
          -0.4532710280373832,
          0.037383177570093455,
          0.10747663551401869,
          0.2616822429906542,
          -0.22897196261682243,
          0.102803738317757,
          0.014018691588785047,
          0.10747663551401869,
          0.985981308411215,
          -0.22429906542056074,
          -1,
          -0.7429906542056075,
          0.985981308411215,
          0.4719626168224299,
          -0.32242990654205606,
          -0.22897196261682243,
          0.985981308411215,
          -0.5186915887850467,
          0.4485981308411215,
          0.10747663551401869,
          0.11214953271028037
         ]
        },
        {
         "hoverinfo": "skip",
         "marker": {
          "color": "red",
          "reversescale": true,
          "showscale": false,
          "size": 15
         },
         "mode": "markers",
         "showlegend": false,
         "text": [
          "arbeitsl_v_beitr_m",
          "sozialv_beitr_gesamt_m",
          "ges_rentenv_beitr_m",
          "ges_pflegev_beitr_m",
          "geringfügig_beschäftigt",
          "in_gleitzone",
          "_ges_krankenv_midi_job_arbeitg_m",
          "_ges_krankenv_midi_job_arbeitn_m",
          "ges_krankenv_beitr_m",
          "wohngeld_abzüge_m_tu",
          "wohngeld_eink_m",
          "wohngeld_eink_vor_abzug_m_tu",
          "wohngeld_m_hh",
          "wohngeld_vor_vermög_check_m_hh",
          "elterngeld_anteil_eink_erlass",
          "elterngeld_eink_erlass_m",
          "elterngeld_eink_relev_m",
          "elterngeld_geschw_bonus_m",
          "elterngeld_m",
          "elterngeld_nettolohn_m",
          "grunds_im_alter_eink_m",
          "grunds_im_alter_m_hh",
          "_kinderzuschl_nach_vermög_check_m_hh",
          "wohngeld_nach_vermög_check_m_hh",
          "kinderzuschl_vorrang_hh",
          "wohngeld_kinderzuschl_vorrang_hh",
          "wohngeld_vorrang_hh",
          "arbeitsl_geld_2_m_hh",
          "arbeitsl_geld_2_vor_vorrang_m_hh",
          "arbeitsl_geld_2_brutto_eink_m",
          "arbeitsl_geld_2_eink_m",
          "kinderzuschl_eink_anrechn_m",
          "kinderzuschl_m_hh",
          "soli_st_tu",
          "eink_st_mit_kinderfreib_tu",
          "eink_st_ohne_kinderfreib_tu",
          "kinderfreib_günstiger_tu",
          "eink_abhängig_beschäftigt",
          "vorsorgeaufw_alter_ab_2005",
          "_zu_verst_eink_ohne_kinderfreib_tu",
          "freibeträge",
          "zu_verst_eink_mit_kinderfreib_tu",
          "sum_eink",
          "eink_st_tu",
          "kindergeld_m",
          "vorsorgeaufw",
          "_kinderzuschl_vor_vermög_check_m_hh",
          "kindergeld_m_tu",
          "ges_rentenv_beitr_m_tu",
          "ges_krankenv_beitr_m_tu",
          "arbeitsl_geld_2_eink_m_hh",
          "arbeitsl_geld_2_brutto_eink_m_hh",
          "elterngeld_m_tu",
          "sum_eink_tu",
          "kinderzuschl_eink_anrechn_m_hh",
          "eink_abhängig_beschäftigt_tu",
          "grunds_im_alter_eink_m_hh",
          "freibeträge_tu",
          "kindergeld_m_hh"
         ],
         "textposition": "bottom center",
         "type": "scatter",
         "uid": "f745e574-6260-4bae-ab11-43b8531780f4",
         "x": [
          -0.7777777777777778,
          -0.6296296296296297,
          -0.7777777777777778,
          -0.8518518518518519,
          -1,
          -0.9259259259259259,
          -0.8518518518518519,
          -0.7777777777777778,
          -0.7037037037037037,
          -0.037037037037037035,
          0.5555555555555556,
          0.48148148148148145,
          1,
          0.7037037037037037,
          0.1111111111111111,
          0.18518518518518517,
          0.037037037037037035,
          0.25925925925925924,
          0.3333333333333333,
          -0.037037037037037035,
          0.4074074074074074,
          0.5555555555555556,
          0.8518518518518519,
          0.8518518518518519,
          0.9259259259259259,
          0.9259259259259259,
          0.9259259259259259,
          1,
          0.8518518518518519,
          0.4074074074074074,
          0.48148148148148145,
          0.6296296296296297,
          1,
          -0.1111111111111111,
          -0.25925925925925924,
          -0.25925925925925924,
          -0.18518518518518517,
          -0.6296296296296297,
          -0.7037037037037037,
          -0.4074074074074074,
          -0.5555555555555556,
          -0.3333333333333333,
          -0.5555555555555556,
          -0.1111111111111111,
          0.4074074074074074,
          -0.6296296296296297,
          0.7777777777777778,
          0.48148148148148145,
          -0.4074074074074074,
          -0.3333333333333333,
          0.5555555555555556,
          0.6296296296296297,
          0.4074074074074074,
          -0.48148148148148145,
          0.7037037037037037,
          -0.18518518518518517,
          0.48148148148148145,
          -0.48148148148148145,
          0.48148148148148145
         ],
         "y": [
          0.985981308411215,
          0.7289719626168224,
          -0.45794392523364486,
          0.5700934579439252,
          -0.07476635514018691,
          0.1822429906542056,
          0.056074766355140186,
          0.056074766355140186,
          0.09813084112149532,
          -0.8364485981308412,
          -0.5654205607476636,
          -0.5654205607476636,
          -0.028037383177570093,
          -0.2850467289719626,
          0.03271028037383177,
          0.12149532710280374,
          0.3177570093457944,
          0.03271028037383177,
          0.3364485981308411,
          0.5654205607476636,
          0.3925233644859813,
          0.4485981308411215,
          0.9065420560747663,
          -0.1588785046728972,
          0.822429906542056,
          0.308411214953271,
          -0.028037383177570093,
          0.397196261682243,
          0.48598130841121495,
          0.7289719626168224,
          1,
          0.985981308411215,
          0.822429906542056,
          0.822429906542056,
          0.2803738317757009,
          -0.056074766355140186,
          -0.1542056074766355,
          -0.48598130841121495,
          -0.4532710280373832,
          0.037383177570093455,
          0.10747663551401869,
          0.2616822429906542,
          -0.22897196261682243,
          0.102803738317757,
          0.014018691588785047,
          0.10747663551401869,
          0.985981308411215,
          -0.22429906542056074,
          -1,
          -0.7429906542056075,
          0.985981308411215,
          0.4719626168224299,
          -0.32242990654205606,
          -0.22897196261682243,
          0.985981308411215,
          -0.5186915887850467,
          0.4485981308411215,
          0.10747663551401869,
          0.11214953271028037
         ]
        }
       ],
       "layout": {
        "annotations": [
         {
          "arrowcolor": "gray",
          "arrowhead": 2,
          "arrowsize": 2,
          "ax": -0.7777777777777778,
          "axref": "x",
          "ay": 0.985981308411215,
          "ayref": "y",
          "showarrow": true,
          "standoff": 5,
          "startstandoff": 5,
          "text": "",
          "x": -0.6296296296296297,
          "xref": "x",
          "y": 0.7289719626168224,
          "yref": "y"
         },
         {
          "arrowcolor": "gray",
          "arrowhead": 2,
          "arrowsize": 2,
          "ax": -0.7777777777777778,
          "axref": "x",
          "ay": 0.985981308411215,
          "ayref": "y",
          "showarrow": true,
          "standoff": 5,
          "startstandoff": 5,
          "text": "",
          "x": -0.6296296296296297,
          "xref": "x",
          "y": 0.10747663551401869,
          "yref": "y"
         },
         {
          "arrowcolor": "gray",
          "arrowhead": 2,
          "arrowsize": 2,
          "ax": -0.6296296296296297,
          "axref": "x",
          "ay": 0.7289719626168224,
          "ayref": "y",
          "showarrow": true,
          "standoff": 5,
          "startstandoff": 5,
          "text": "",
          "x": -0.037037037037037035,
          "xref": "x",
          "y": 0.5654205607476636,
          "yref": "y"
         },
         {
          "arrowcolor": "gray",
          "arrowhead": 2,
          "arrowsize": 2,
          "ax": -0.6296296296296297,
          "axref": "x",
          "ay": 0.7289719626168224,
          "ayref": "y",
          "showarrow": true,
          "standoff": 5,
          "startstandoff": 5,
          "text": "",
          "x": 0.4074074074074074,
          "xref": "x",
          "y": 0.3925233644859813,
          "yref": "y"
         },
         {
          "arrowcolor": "gray",
          "arrowhead": 2,
          "arrowsize": 2,
          "ax": -0.6296296296296297,
          "axref": "x",
          "ay": 0.7289719626168224,
          "ayref": "y",
          "showarrow": true,
          "standoff": 5,
          "startstandoff": 5,
          "text": "",
          "x": 0.48148148148148145,
          "xref": "x",
          "y": 1,
          "yref": "y"
         },
         {
          "arrowcolor": "gray",
          "arrowhead": 2,
          "arrowsize": 2,
          "ax": -0.7777777777777778,
          "axref": "x",
          "ay": -0.45794392523364486,
          "ayref": "y",
          "showarrow": true,
          "standoff": 5,
          "startstandoff": 5,
          "text": "",
          "x": -0.6296296296296297,
          "xref": "x",
          "y": 0.7289719626168224,
          "yref": "y"
         },
         {
          "arrowcolor": "gray",
          "arrowhead": 2,
          "arrowsize": 2,
          "ax": -0.7777777777777778,
          "axref": "x",
          "ay": -0.45794392523364486,
          "ayref": "y",
          "showarrow": true,
          "standoff": 5,
          "startstandoff": 5,
          "text": "",
          "x": -0.7037037037037037,
          "xref": "x",
          "y": -0.4532710280373832,
          "yref": "y"
         },
         {
          "arrowcolor": "gray",
          "arrowhead": 2,
          "arrowsize": 2,
          "ax": -0.7777777777777778,
          "axref": "x",
          "ay": -0.45794392523364486,
          "ayref": "y",
          "showarrow": true,
          "standoff": 5,
          "startstandoff": 5,
          "text": "",
          "x": -0.4074074074074074,
          "xref": "x",
          "y": -1,
          "yref": "y"
         },
         {
          "arrowcolor": "gray",
          "arrowhead": 2,
          "arrowsize": 2,
          "ax": -0.8518518518518519,
          "axref": "x",
          "ay": 0.5700934579439252,
          "ayref": "y",
          "showarrow": true,
          "standoff": 5,
          "startstandoff": 5,
          "text": "",
          "x": -0.6296296296296297,
          "xref": "x",
          "y": 0.7289719626168224,
          "yref": "y"
         },
         {
          "arrowcolor": "gray",
          "arrowhead": 2,
          "arrowsize": 2,
          "ax": -0.8518518518518519,
          "axref": "x",
          "ay": 0.5700934579439252,
          "ayref": "y",
          "showarrow": true,
          "standoff": 5,
          "startstandoff": 5,
          "text": "",
          "x": -0.6296296296296297,
          "xref": "x",
          "y": 0.10747663551401869,
          "yref": "y"
         },
         {
          "arrowcolor": "gray",
          "arrowhead": 2,
          "arrowsize": 2,
          "ax": -1,
          "axref": "x",
          "ay": -0.07476635514018691,
          "ayref": "y",
          "showarrow": true,
          "standoff": 5,
          "startstandoff": 5,
          "text": "",
          "x": -0.7777777777777778,
          "xref": "x",
          "y": 0.985981308411215,
          "yref": "y"
         },
         {
          "arrowcolor": "gray",
          "arrowhead": 2,
          "arrowsize": 2,
          "ax": -1,
          "axref": "x",
          "ay": -0.07476635514018691,
          "ayref": "y",
          "showarrow": true,
          "standoff": 5,
          "startstandoff": 5,
          "text": "",
          "x": -0.7777777777777778,
          "xref": "x",
          "y": -0.45794392523364486,
          "yref": "y"
         },
         {
          "arrowcolor": "gray",
          "arrowhead": 2,
          "arrowsize": 2,
          "ax": -1,
          "axref": "x",
          "ay": -0.07476635514018691,
          "ayref": "y",
          "showarrow": true,
          "standoff": 5,
          "startstandoff": 5,
          "text": "",
          "x": -0.8518518518518519,
          "xref": "x",
          "y": 0.5700934579439252,
          "yref": "y"
         },
         {
          "arrowcolor": "gray",
          "arrowhead": 2,
          "arrowsize": 2,
          "ax": -1,
          "axref": "x",
          "ay": -0.07476635514018691,
          "ayref": "y",
          "showarrow": true,
          "standoff": 5,
          "startstandoff": 5,
          "text": "",
          "x": -0.9259259259259259,
          "xref": "x",
          "y": 0.1822429906542056,
          "yref": "y"
         },
         {
          "arrowcolor": "gray",
          "arrowhead": 2,
          "arrowsize": 2,
          "ax": -1,
          "axref": "x",
          "ay": -0.07476635514018691,
          "ayref": "y",
          "showarrow": true,
          "standoff": 5,
          "startstandoff": 5,
          "text": "",
          "x": -0.7037037037037037,
          "xref": "x",
          "y": 0.09813084112149532,
          "yref": "y"
         },
         {
          "arrowcolor": "gray",
          "arrowhead": 2,
          "arrowsize": 2,
          "ax": -1,
          "axref": "x",
          "ay": -0.07476635514018691,
          "ayref": "y",
          "showarrow": true,
          "standoff": 5,
          "startstandoff": 5,
          "text": "",
          "x": -0.6296296296296297,
          "xref": "x",
          "y": -0.48598130841121495,
          "yref": "y"
         },
         {
          "arrowcolor": "gray",
          "arrowhead": 2,
          "arrowsize": 2,
          "ax": -0.9259259259259259,
          "axref": "x",
          "ay": 0.1822429906542056,
          "ayref": "y",
          "showarrow": true,
          "standoff": 5,
          "startstandoff": 5,
          "text": "",
          "x": -0.7777777777777778,
          "xref": "x",
          "y": 0.985981308411215,
          "yref": "y"
         },
         {
          "arrowcolor": "gray",
          "arrowhead": 2,
          "arrowsize": 2,
          "ax": -0.9259259259259259,
          "axref": "x",
          "ay": 0.1822429906542056,
          "ayref": "y",
          "showarrow": true,
          "standoff": 5,
          "startstandoff": 5,
          "text": "",
          "x": -0.7777777777777778,
          "xref": "x",
          "y": -0.45794392523364486,
          "yref": "y"
         },
         {
          "arrowcolor": "gray",
          "arrowhead": 2,
          "arrowsize": 2,
          "ax": -0.9259259259259259,
          "axref": "x",
          "ay": 0.1822429906542056,
          "ayref": "y",
          "showarrow": true,
          "standoff": 5,
          "startstandoff": 5,
          "text": "",
          "x": -0.8518518518518519,
          "xref": "x",
          "y": 0.5700934579439252,
          "yref": "y"
         },
         {
          "arrowcolor": "gray",
          "arrowhead": 2,
          "arrowsize": 2,
          "ax": -0.9259259259259259,
          "axref": "x",
          "ay": 0.1822429906542056,
          "ayref": "y",
          "showarrow": true,
          "standoff": 5,
          "startstandoff": 5,
          "text": "",
          "x": -0.8518518518518519,
          "xref": "x",
          "y": 0.056074766355140186,
          "yref": "y"
         },
         {
          "arrowcolor": "gray",
          "arrowhead": 2,
          "arrowsize": 2,
          "ax": -0.9259259259259259,
          "axref": "x",
          "ay": 0.1822429906542056,
          "ayref": "y",
          "showarrow": true,
          "standoff": 5,
          "startstandoff": 5,
          "text": "",
          "x": -0.7037037037037037,
          "xref": "x",
          "y": 0.09813084112149532,
          "yref": "y"
         },
         {
          "arrowcolor": "gray",
          "arrowhead": 2,
          "arrowsize": 2,
          "ax": -0.8518518518518519,
          "axref": "x",
          "ay": 0.056074766355140186,
          "ayref": "y",
          "showarrow": true,
          "standoff": 5,
          "startstandoff": 5,
          "text": "",
          "x": -0.7777777777777778,
          "xref": "x",
          "y": 0.056074766355140186,
          "yref": "y"
         },
         {
          "arrowcolor": "gray",
          "arrowhead": 2,
          "arrowsize": 2,
          "ax": -0.7777777777777778,
          "axref": "x",
          "ay": 0.056074766355140186,
          "ayref": "y",
          "showarrow": true,
          "standoff": 5,
          "startstandoff": 5,
          "text": "",
          "x": -0.7037037037037037,
          "xref": "x",
          "y": 0.09813084112149532,
          "yref": "y"
         },
         {
          "arrowcolor": "gray",
          "arrowhead": 2,
          "arrowsize": 2,
          "ax": -0.7037037037037037,
          "axref": "x",
          "ay": 0.09813084112149532,
          "ayref": "y",
          "showarrow": true,
          "standoff": 5,
          "startstandoff": 5,
          "text": "",
          "x": -0.6296296296296297,
          "xref": "x",
          "y": 0.7289719626168224,
          "yref": "y"
         },
         {
          "arrowcolor": "gray",
          "arrowhead": 2,
          "arrowsize": 2,
          "ax": -0.7037037037037037,
          "axref": "x",
          "ay": 0.09813084112149532,
          "ayref": "y",
          "showarrow": true,
          "standoff": 5,
          "startstandoff": 5,
          "text": "",
          "x": -0.6296296296296297,
          "xref": "x",
          "y": 0.10747663551401869,
          "yref": "y"
         },
         {
          "arrowcolor": "gray",
          "arrowhead": 2,
          "arrowsize": 2,
          "ax": -0.7037037037037037,
          "axref": "x",
          "ay": 0.09813084112149532,
          "ayref": "y",
          "showarrow": true,
          "standoff": 5,
          "startstandoff": 5,
          "text": "",
          "x": -0.3333333333333333,
          "xref": "x",
          "y": -0.7429906542056075,
          "yref": "y"
         },
         {
          "arrowcolor": "gray",
          "arrowhead": 2,
          "arrowsize": 2,
          "ax": -0.037037037037037035,
          "axref": "x",
          "ay": -0.8364485981308412,
          "ayref": "y",
          "showarrow": true,
          "standoff": 5,
          "startstandoff": 5,
          "text": "",
          "x": 0.5555555555555556,
          "xref": "x",
          "y": -0.5654205607476636,
          "yref": "y"
         },
         {
          "arrowcolor": "gray",
          "arrowhead": 2,
          "arrowsize": 2,
          "ax": 0.5555555555555556,
          "axref": "x",
          "ay": -0.5654205607476636,
          "ayref": "y",
          "showarrow": true,
          "standoff": 5,
          "startstandoff": 5,
          "text": "",
          "x": 0.7037037037037037,
          "xref": "x",
          "y": -0.2850467289719626,
          "yref": "y"
         },
         {
          "arrowcolor": "gray",
          "arrowhead": 2,
          "arrowsize": 2,
          "ax": 0.48148148148148145,
          "axref": "x",
          "ay": -0.5654205607476636,
          "ayref": "y",
          "showarrow": true,
          "standoff": 5,
          "startstandoff": 5,
          "text": "",
          "x": 0.5555555555555556,
          "xref": "x",
          "y": -0.5654205607476636,
          "yref": "y"
         },
         {
          "arrowcolor": "gray",
          "arrowhead": 2,
          "arrowsize": 2,
          "ax": 0.7037037037037037,
          "axref": "x",
          "ay": -0.2850467289719626,
          "ayref": "y",
          "showarrow": true,
          "standoff": 5,
          "startstandoff": 5,
          "text": "",
          "x": 0.8518518518518519,
          "xref": "x",
          "y": -0.1588785046728972,
          "yref": "y"
         },
         {
          "arrowcolor": "gray",
          "arrowhead": 2,
          "arrowsize": 2,
          "ax": 0.1111111111111111,
          "axref": "x",
          "ay": 0.03271028037383177,
          "ayref": "y",
          "showarrow": true,
          "standoff": 5,
          "startstandoff": 5,
          "text": "",
          "x": 0.18518518518518517,
          "xref": "x",
          "y": 0.12149532710280374,
          "yref": "y"
         },
         {
          "arrowcolor": "gray",
          "arrowhead": 2,
          "arrowsize": 2,
          "ax": 0.18518518518518517,
          "axref": "x",
          "ay": 0.12149532710280374,
          "ayref": "y",
          "showarrow": true,
          "standoff": 5,
          "startstandoff": 5,
          "text": "",
          "x": 0.25925925925925924,
          "xref": "x",
          "y": 0.03271028037383177,
          "yref": "y"
         },
         {
          "arrowcolor": "gray",
          "arrowhead": 2,
          "arrowsize": 2,
          "ax": 0.18518518518518517,
          "axref": "x",
          "ay": 0.12149532710280374,
          "ayref": "y",
          "showarrow": true,
          "standoff": 5,
          "startstandoff": 5,
          "text": "",
          "x": 0.3333333333333333,
          "xref": "x",
          "y": 0.3364485981308411,
          "yref": "y"
         },
         {
          "arrowcolor": "gray",
          "arrowhead": 2,
          "arrowsize": 2,
          "ax": 0.037037037037037035,
          "axref": "x",
          "ay": 0.3177570093457944,
          "ayref": "y",
          "showarrow": true,
          "standoff": 5,
          "startstandoff": 5,
          "text": "",
          "x": 0.1111111111111111,
          "xref": "x",
          "y": 0.03271028037383177,
          "yref": "y"
         },
         {
          "arrowcolor": "gray",
          "arrowhead": 2,
          "arrowsize": 2,
          "ax": 0.037037037037037035,
          "axref": "x",
          "ay": 0.3177570093457944,
          "ayref": "y",
          "showarrow": true,
          "standoff": 5,
          "startstandoff": 5,
          "text": "",
          "x": 0.18518518518518517,
          "xref": "x",
          "y": 0.12149532710280374,
          "yref": "y"
         },
         {
          "arrowcolor": "gray",
          "arrowhead": 2,
          "arrowsize": 2,
          "ax": 0.037037037037037035,
          "axref": "x",
          "ay": 0.3177570093457944,
          "ayref": "y",
          "showarrow": true,
          "standoff": 5,
          "startstandoff": 5,
          "text": "",
          "x": 0.3333333333333333,
          "xref": "x",
          "y": 0.3364485981308411,
          "yref": "y"
         },
         {
          "arrowcolor": "gray",
          "arrowhead": 2,
          "arrowsize": 2,
          "ax": 0.25925925925925924,
          "axref": "x",
          "ay": 0.03271028037383177,
          "ayref": "y",
          "showarrow": true,
          "standoff": 5,
          "startstandoff": 5,
          "text": "",
          "x": 0.3333333333333333,
          "xref": "x",
          "y": 0.3364485981308411,
          "yref": "y"
         },
         {
          "arrowcolor": "gray",
          "arrowhead": 2,
          "arrowsize": 2,
          "ax": 0.3333333333333333,
          "axref": "x",
          "ay": 0.3364485981308411,
          "ayref": "y",
          "showarrow": true,
          "standoff": 5,
          "startstandoff": 5,
          "text": "",
          "x": 0.4074074074074074,
          "xref": "x",
          "y": 0.3925233644859813,
          "yref": "y"
         },
         {
          "arrowcolor": "gray",
          "arrowhead": 2,
          "arrowsize": 2,
          "ax": 0.3333333333333333,
          "axref": "x",
          "ay": 0.3364485981308411,
          "ayref": "y",
          "showarrow": true,
          "standoff": 5,
          "startstandoff": 5,
          "text": "",
          "x": 0.4074074074074074,
          "xref": "x",
          "y": 0.7289719626168224,
          "yref": "y"
         },
         {
          "arrowcolor": "gray",
          "arrowhead": 2,
          "arrowsize": 2,
          "ax": 0.3333333333333333,
          "axref": "x",
          "ay": 0.3364485981308411,
          "ayref": "y",
          "showarrow": true,
          "standoff": 5,
          "startstandoff": 5,
          "text": "",
          "x": 0.4074074074074074,
          "xref": "x",
          "y": -0.32242990654205606,
          "yref": "y"
         },
         {
          "arrowcolor": "gray",
          "arrowhead": 2,
          "arrowsize": 2,
          "ax": -0.037037037037037035,
          "axref": "x",
          "ay": 0.5654205607476636,
          "ayref": "y",
          "showarrow": true,
          "standoff": 5,
          "startstandoff": 5,
          "text": "",
          "x": 0.037037037037037035,
          "xref": "x",
          "y": 0.3177570093457944,
          "yref": "y"
         },
         {
          "arrowcolor": "gray",
          "arrowhead": 2,
          "arrowsize": 2,
          "ax": 0.4074074074074074,
          "axref": "x",
          "ay": 0.3925233644859813,
          "ayref": "y",
          "showarrow": true,
          "standoff": 5,
          "startstandoff": 5,
          "text": "",
          "x": 0.48148148148148145,
          "xref": "x",
          "y": 0.4485981308411215,
          "yref": "y"
         },
         {
          "arrowcolor": "gray",
          "arrowhead": 2,
          "arrowsize": 2,
          "ax": 0.8518518518518519,
          "axref": "x",
          "ay": 0.9065420560747663,
          "ayref": "y",
          "showarrow": true,
          "standoff": 5,
          "startstandoff": 5,
          "text": "",
          "x": 0.9259259259259259,
          "xref": "x",
          "y": 0.822429906542056,
          "yref": "y"
         },
         {
          "arrowcolor": "gray",
          "arrowhead": 2,
          "arrowsize": 2,
          "ax": 0.8518518518518519,
          "axref": "x",
          "ay": 0.9065420560747663,
          "ayref": "y",
          "showarrow": true,
          "standoff": 5,
          "startstandoff": 5,
          "text": "",
          "x": 0.9259259259259259,
          "xref": "x",
          "y": 0.308411214953271,
          "yref": "y"
         },
         {
          "arrowcolor": "gray",
          "arrowhead": 2,
          "arrowsize": 2,
          "ax": 0.8518518518518519,
          "axref": "x",
          "ay": 0.9065420560747663,
          "ayref": "y",
          "showarrow": true,
          "standoff": 5,
          "startstandoff": 5,
          "text": "",
          "x": 1,
          "xref": "x",
          "y": 0.822429906542056,
          "yref": "y"
         },
         {
          "arrowcolor": "gray",
          "arrowhead": 2,
          "arrowsize": 2,
          "ax": 0.8518518518518519,
          "axref": "x",
          "ay": -0.1588785046728972,
          "ayref": "y",
          "showarrow": true,
          "standoff": 5,
          "startstandoff": 5,
          "text": "",
          "x": 1,
          "xref": "x",
          "y": -0.028037383177570093,
          "yref": "y"
         },
         {
          "arrowcolor": "gray",
          "arrowhead": 2,
          "arrowsize": 2,
          "ax": 0.8518518518518519,
          "axref": "x",
          "ay": -0.1588785046728972,
          "ayref": "y",
          "showarrow": true,
          "standoff": 5,
          "startstandoff": 5,
          "text": "",
          "x": 0.9259259259259259,
          "xref": "x",
          "y": 0.308411214953271,
          "yref": "y"
         },
         {
          "arrowcolor": "gray",
          "arrowhead": 2,
          "arrowsize": 2,
          "ax": 0.8518518518518519,
          "axref": "x",
          "ay": -0.1588785046728972,
          "ayref": "y",
          "showarrow": true,
          "standoff": 5,
          "startstandoff": 5,
          "text": "",
          "x": 0.9259259259259259,
          "xref": "x",
          "y": -0.028037383177570093,
          "yref": "y"
         },
         {
          "arrowcolor": "gray",
          "arrowhead": 2,
          "arrowsize": 2,
          "ax": 0.9259259259259259,
          "axref": "x",
          "ay": 0.822429906542056,
          "ayref": "y",
          "showarrow": true,
          "standoff": 5,
          "startstandoff": 5,
          "text": "",
          "x": 1,
          "xref": "x",
          "y": 0.397196261682243,
          "yref": "y"
         },
         {
          "arrowcolor": "gray",
          "arrowhead": 2,
          "arrowsize": 2,
          "ax": 0.9259259259259259,
          "axref": "x",
          "ay": 0.822429906542056,
          "ayref": "y",
          "showarrow": true,
          "standoff": 5,
          "startstandoff": 5,
          "text": "",
          "x": 1,
          "xref": "x",
          "y": 0.822429906542056,
          "yref": "y"
         },
         {
          "arrowcolor": "gray",
          "arrowhead": 2,
          "arrowsize": 2,
          "ax": 0.9259259259259259,
          "axref": "x",
          "ay": 0.308411214953271,
          "ayref": "y",
          "showarrow": true,
          "standoff": 5,
          "startstandoff": 5,
          "text": "",
          "x": 1,
          "xref": "x",
          "y": -0.028037383177570093,
          "yref": "y"
         },
         {
          "arrowcolor": "gray",
          "arrowhead": 2,
          "arrowsize": 2,
          "ax": 0.9259259259259259,
          "axref": "x",
          "ay": 0.308411214953271,
          "ayref": "y",
          "showarrow": true,
          "standoff": 5,
          "startstandoff": 5,
          "text": "",
          "x": 1,
          "xref": "x",
          "y": 0.397196261682243,
          "yref": "y"
         },
         {
          "arrowcolor": "gray",
          "arrowhead": 2,
          "arrowsize": 2,
          "ax": 0.9259259259259259,
          "axref": "x",
          "ay": 0.308411214953271,
          "ayref": "y",
          "showarrow": true,
          "standoff": 5,
          "startstandoff": 5,
          "text": "",
          "x": 1,
          "xref": "x",
          "y": 0.822429906542056,
          "yref": "y"
         },
         {
          "arrowcolor": "gray",
          "arrowhead": 2,
          "arrowsize": 2,
          "ax": 0.9259259259259259,
          "axref": "x",
          "ay": -0.028037383177570093,
          "ayref": "y",
          "showarrow": true,
          "standoff": 5,
          "startstandoff": 5,
          "text": "",
          "x": 1,
          "xref": "x",
          "y": -0.028037383177570093,
          "yref": "y"
         },
         {
          "arrowcolor": "gray",
          "arrowhead": 2,
          "arrowsize": 2,
          "ax": 0.9259259259259259,
          "axref": "x",
          "ay": -0.028037383177570093,
          "ayref": "y",
          "showarrow": true,
          "standoff": 5,
          "startstandoff": 5,
          "text": "",
          "x": 1,
          "xref": "x",
          "y": 0.397196261682243,
          "yref": "y"
         },
         {
          "arrowcolor": "gray",
          "arrowhead": 2,
          "arrowsize": 2,
          "ax": 0.8518518518518519,
          "axref": "x",
          "ay": 0.48598130841121495,
          "ayref": "y",
          "showarrow": true,
          "standoff": 5,
          "startstandoff": 5,
          "text": "",
          "x": 0.9259259259259259,
          "xref": "x",
          "y": 0.822429906542056,
          "yref": "y"
         },
         {
          "arrowcolor": "gray",
          "arrowhead": 2,
          "arrowsize": 2,
          "ax": 0.8518518518518519,
          "axref": "x",
          "ay": 0.48598130841121495,
          "ayref": "y",
          "showarrow": true,
          "standoff": 5,
          "startstandoff": 5,
          "text": "",
          "x": 0.9259259259259259,
          "xref": "x",
          "y": 0.308411214953271,
          "yref": "y"
         },
         {
          "arrowcolor": "gray",
          "arrowhead": 2,
          "arrowsize": 2,
          "ax": 0.8518518518518519,
          "axref": "x",
          "ay": 0.48598130841121495,
          "ayref": "y",
          "showarrow": true,
          "standoff": 5,
          "startstandoff": 5,
          "text": "",
          "x": 0.9259259259259259,
          "xref": "x",
          "y": -0.028037383177570093,
          "yref": "y"
         },
         {
          "arrowcolor": "gray",
          "arrowhead": 2,
          "arrowsize": 2,
          "ax": 0.8518518518518519,
          "axref": "x",
          "ay": 0.48598130841121495,
          "ayref": "y",
          "showarrow": true,
          "standoff": 5,
          "startstandoff": 5,
          "text": "",
          "x": 1,
          "xref": "x",
          "y": 0.397196261682243,
          "yref": "y"
         },
         {
          "arrowcolor": "gray",
          "arrowhead": 2,
          "arrowsize": 2,
          "ax": 0.4074074074074074,
          "axref": "x",
          "ay": 0.7289719626168224,
          "ayref": "y",
          "showarrow": true,
          "standoff": 5,
          "startstandoff": 5,
          "text": "",
          "x": 0.48148148148148145,
          "xref": "x",
          "y": 1,
          "yref": "y"
         },
         {
          "arrowcolor": "gray",
          "arrowhead": 2,
          "arrowsize": 2,
          "ax": 0.4074074074074074,
          "axref": "x",
          "ay": 0.7289719626168224,
          "ayref": "y",
          "showarrow": true,
          "standoff": 5,
          "startstandoff": 5,
          "text": "",
          "x": 0.6296296296296297,
          "xref": "x",
          "y": 0.4719626168224299,
          "yref": "y"
         },
         {
          "arrowcolor": "gray",
          "arrowhead": 2,
          "arrowsize": 2,
          "ax": 0.48148148148148145,
          "axref": "x",
          "ay": 1,
          "ayref": "y",
          "showarrow": true,
          "standoff": 5,
          "startstandoff": 5,
          "text": "",
          "x": 0.5555555555555556,
          "xref": "x",
          "y": 0.985981308411215,
          "yref": "y"
         },
         {
          "arrowcolor": "gray",
          "arrowhead": 2,
          "arrowsize": 2,
          "ax": 0.6296296296296297,
          "axref": "x",
          "ay": 0.985981308411215,
          "ayref": "y",
          "showarrow": true,
          "standoff": 5,
          "startstandoff": 5,
          "text": "",
          "x": 0.7037037037037037,
          "xref": "x",
          "y": 0.985981308411215,
          "yref": "y"
         },
         {
          "arrowcolor": "gray",
          "arrowhead": 2,
          "arrowsize": 2,
          "ax": -0.1111111111111111,
          "axref": "x",
          "ay": 0.822429906542056,
          "ayref": "y",
          "showarrow": true,
          "standoff": 5,
          "startstandoff": 5,
          "text": "",
          "x": -0.037037037037037035,
          "xref": "x",
          "y": 0.5654205607476636,
          "yref": "y"
         },
         {
          "arrowcolor": "gray",
          "arrowhead": 2,
          "arrowsize": 2,
          "ax": -0.1111111111111111,
          "axref": "x",
          "ay": 0.822429906542056,
          "ayref": "y",
          "showarrow": true,
          "standoff": 5,
          "startstandoff": 5,
          "text": "",
          "x": 0.4074074074074074,
          "xref": "x",
          "y": 0.3925233644859813,
          "yref": "y"
         },
         {
          "arrowcolor": "gray",
          "arrowhead": 2,
          "arrowsize": 2,
          "ax": -0.1111111111111111,
          "axref": "x",
          "ay": 0.822429906542056,
          "ayref": "y",
          "showarrow": true,
          "standoff": 5,
          "startstandoff": 5,
          "text": "",
          "x": 0.48148148148148145,
          "xref": "x",
          "y": 1,
          "yref": "y"
         },
         {
          "arrowcolor": "gray",
          "arrowhead": 2,
          "arrowsize": 2,
          "ax": -0.25925925925925924,
          "axref": "x",
          "ay": 0.2803738317757009,
          "ayref": "y",
          "showarrow": true,
          "standoff": 5,
          "startstandoff": 5,
          "text": "",
          "x": -0.1111111111111111,
          "xref": "x",
          "y": 0.822429906542056,
          "yref": "y"
         },
         {
          "arrowcolor": "gray",
          "arrowhead": 2,
          "arrowsize": 2,
          "ax": -0.25925925925925924,
          "axref": "x",
          "ay": 0.2803738317757009,
          "ayref": "y",
          "showarrow": true,
          "standoff": 5,
          "startstandoff": 5,
          "text": "",
          "x": -0.18518518518518517,
          "xref": "x",
          "y": -0.1542056074766355,
          "yref": "y"
         },
         {
          "arrowcolor": "gray",
          "arrowhead": 2,
          "arrowsize": 2,
          "ax": -0.25925925925925924,
          "axref": "x",
          "ay": 0.2803738317757009,
          "ayref": "y",
          "showarrow": true,
          "standoff": 5,
          "startstandoff": 5,
          "text": "",
          "x": -0.1111111111111111,
          "xref": "x",
          "y": 0.102803738317757,
          "yref": "y"
         },
         {
          "arrowcolor": "gray",
          "arrowhead": 2,
          "arrowsize": 2,
          "ax": -0.25925925925925924,
          "axref": "x",
          "ay": -0.056074766355140186,
          "ayref": "y",
          "showarrow": true,
          "standoff": 5,
          "startstandoff": 5,
          "text": "",
          "x": -0.18518518518518517,
          "xref": "x",
          "y": -0.1542056074766355,
          "yref": "y"
         },
         {
          "arrowcolor": "gray",
          "arrowhead": 2,
          "arrowsize": 2,
          "ax": -0.25925925925925924,
          "axref": "x",
          "ay": -0.056074766355140186,
          "ayref": "y",
          "showarrow": true,
          "standoff": 5,
          "startstandoff": 5,
          "text": "",
          "x": -0.1111111111111111,
          "xref": "x",
          "y": 0.102803738317757,
          "yref": "y"
         },
         {
          "arrowcolor": "gray",
          "arrowhead": 2,
          "arrowsize": 2,
          "ax": -0.18518518518518517,
          "axref": "x",
          "ay": -0.1542056074766355,
          "ayref": "y",
          "showarrow": true,
          "standoff": 5,
          "startstandoff": 5,
          "text": "",
          "x": -0.1111111111111111,
          "xref": "x",
          "y": 0.102803738317757,
          "yref": "y"
         },
         {
          "arrowcolor": "gray",
          "arrowhead": 2,
          "arrowsize": 2,
          "ax": -0.18518518518518517,
          "axref": "x",
          "ay": -0.1542056074766355,
          "ayref": "y",
          "showarrow": true,
          "standoff": 5,
          "startstandoff": 5,
          "text": "",
          "x": 0.4074074074074074,
          "xref": "x",
          "y": 0.014018691588785047,
          "yref": "y"
         },
         {
          "arrowcolor": "gray",
          "arrowhead": 2,
          "arrowsize": 2,
          "ax": -0.6296296296296297,
          "axref": "x",
          "ay": -0.48598130841121495,
          "ayref": "y",
          "showarrow": true,
          "standoff": 5,
          "startstandoff": 5,
          "text": "",
          "x": -0.5555555555555556,
          "xref": "x",
          "y": -0.22897196261682243,
          "yref": "y"
         },
         {
          "arrowcolor": "gray",
          "arrowhead": 2,
          "arrowsize": 2,
          "ax": -0.6296296296296297,
          "axref": "x",
          "ay": -0.48598130841121495,
          "ayref": "y",
          "showarrow": true,
          "standoff": 5,
          "startstandoff": 5,
          "text": "",
          "x": -0.18518518518518517,
          "xref": "x",
          "y": -0.5186915887850467,
          "yref": "y"
         },
         {
          "arrowcolor": "gray",
          "arrowhead": 2,
          "arrowsize": 2,
          "ax": -0.7037037037037037,
          "axref": "x",
          "ay": -0.4532710280373832,
          "ayref": "y",
          "showarrow": true,
          "standoff": 5,
          "startstandoff": 5,
          "text": "",
          "x": -0.6296296296296297,
          "xref": "x",
          "y": 0.10747663551401869,
          "yref": "y"
         },
         {
          "arrowcolor": "gray",
          "arrowhead": 2,
          "arrowsize": 2,
          "ax": -0.4074074074074074,
          "axref": "x",
          "ay": 0.037383177570093455,
          "ayref": "y",
          "showarrow": true,
          "standoff": 5,
          "startstandoff": 5,
          "text": "",
          "x": -0.25925925925925924,
          "xref": "x",
          "y": -0.056074766355140186,
          "yref": "y"
         },
         {
          "arrowcolor": "gray",
          "arrowhead": 2,
          "arrowsize": 2,
          "ax": -0.4074074074074074,
          "axref": "x",
          "ay": 0.037383177570093455,
          "ayref": "y",
          "showarrow": true,
          "standoff": 5,
          "startstandoff": 5,
          "text": "",
          "x": -0.3333333333333333,
          "xref": "x",
          "y": 0.2616822429906542,
          "yref": "y"
         },
         {
          "arrowcolor": "gray",
          "arrowhead": 2,
          "arrowsize": 2,
          "ax": -0.5555555555555556,
          "axref": "x",
          "ay": 0.10747663551401869,
          "ayref": "y",
          "showarrow": true,
          "standoff": 5,
          "startstandoff": 5,
          "text": "",
          "x": -0.48148148148148145,
          "xref": "x",
          "y": 0.10747663551401869,
          "yref": "y"
         },
         {
          "arrowcolor": "gray",
          "arrowhead": 2,
          "arrowsize": 2,
          "ax": -0.3333333333333333,
          "axref": "x",
          "ay": 0.2616822429906542,
          "ayref": "y",
          "showarrow": true,
          "standoff": 5,
          "startstandoff": 5,
          "text": "",
          "x": -0.25925925925925924,
          "xref": "x",
          "y": 0.2803738317757009,
          "yref": "y"
         },
         {
          "arrowcolor": "gray",
          "arrowhead": 2,
          "arrowsize": 2,
          "ax": -0.5555555555555556,
          "axref": "x",
          "ay": -0.22897196261682243,
          "ayref": "y",
          "showarrow": true,
          "standoff": 5,
          "startstandoff": 5,
          "text": "",
          "x": -0.48148148148148145,
          "xref": "x",
          "y": -0.22897196261682243,
          "yref": "y"
         },
         {
          "arrowcolor": "gray",
          "arrowhead": 2,
          "arrowsize": 2,
          "ax": -0.1111111111111111,
          "axref": "x",
          "ay": 0.102803738317757,
          "ayref": "y",
          "showarrow": true,
          "standoff": 5,
          "startstandoff": 5,
          "text": "",
          "x": -0.037037037037037035,
          "xref": "x",
          "y": -0.8364485981308412,
          "yref": "y"
         },
         {
          "arrowcolor": "gray",
          "arrowhead": 2,
          "arrowsize": 2,
          "ax": -0.1111111111111111,
          "axref": "x",
          "ay": 0.102803738317757,
          "ayref": "y",
          "showarrow": true,
          "standoff": 5,
          "startstandoff": 5,
          "text": "",
          "x": -0.037037037037037035,
          "xref": "x",
          "y": 0.5654205607476636,
          "yref": "y"
         },
         {
          "arrowcolor": "gray",
          "arrowhead": 2,
          "arrowsize": 2,
          "ax": -0.1111111111111111,
          "axref": "x",
          "ay": 0.102803738317757,
          "ayref": "y",
          "showarrow": true,
          "standoff": 5,
          "startstandoff": 5,
          "text": "",
          "x": 0.4074074074074074,
          "xref": "x",
          "y": 0.3925233644859813,
          "yref": "y"
         },
         {
          "arrowcolor": "gray",
          "arrowhead": 2,
          "arrowsize": 2,
          "ax": -0.1111111111111111,
          "axref": "x",
          "ay": 0.102803738317757,
          "ayref": "y",
          "showarrow": true,
          "standoff": 5,
          "startstandoff": 5,
          "text": "",
          "x": 0.48148148148148145,
          "xref": "x",
          "y": 1,
          "yref": "y"
         },
         {
          "arrowcolor": "gray",
          "arrowhead": 2,
          "arrowsize": 2,
          "ax": 0.4074074074074074,
          "axref": "x",
          "ay": 0.014018691588785047,
          "ayref": "y",
          "showarrow": true,
          "standoff": 5,
          "startstandoff": 5,
          "text": "",
          "x": 0.48148148148148145,
          "xref": "x",
          "y": -0.22429906542056074,
          "yref": "y"
         },
         {
          "arrowcolor": "gray",
          "arrowhead": 2,
          "arrowsize": 2,
          "ax": 0.4074074074074074,
          "axref": "x",
          "ay": 0.014018691588785047,
          "ayref": "y",
          "showarrow": true,
          "standoff": 5,
          "startstandoff": 5,
          "text": "",
          "x": 0.48148148148148145,
          "xref": "x",
          "y": 0.11214953271028037,
          "yref": "y"
         },
         {
          "arrowcolor": "gray",
          "arrowhead": 2,
          "arrowsize": 2,
          "ax": -0.6296296296296297,
          "axref": "x",
          "ay": 0.10747663551401869,
          "ayref": "y",
          "showarrow": true,
          "standoff": 5,
          "startstandoff": 5,
          "text": "",
          "x": -0.5555555555555556,
          "xref": "x",
          "y": 0.10747663551401869,
          "yref": "y"
         },
         {
          "arrowcolor": "gray",
          "arrowhead": 2,
          "arrowsize": 2,
          "ax": 0.7777777777777778,
          "axref": "x",
          "ay": 0.985981308411215,
          "ayref": "y",
          "showarrow": true,
          "standoff": 5,
          "startstandoff": 5,
          "text": "",
          "x": 0.8518518518518519,
          "xref": "x",
          "y": 0.9065420560747663,
          "yref": "y"
         },
         {
          "arrowcolor": "gray",
          "arrowhead": 2,
          "arrowsize": 2,
          "ax": -0.4074074074074074,
          "axref": "x",
          "ay": -1,
          "ayref": "y",
          "showarrow": true,
          "standoff": 5,
          "startstandoff": 5,
          "text": "",
          "x": -0.037037037037037035,
          "xref": "x",
          "y": -0.8364485981308412,
          "yref": "y"
         },
         {
          "arrowcolor": "gray",
          "arrowhead": 2,
          "arrowsize": 2,
          "ax": -0.3333333333333333,
          "axref": "x",
          "ay": -0.7429906542056075,
          "ayref": "y",
          "showarrow": true,
          "standoff": 5,
          "startstandoff": 5,
          "text": "",
          "x": -0.037037037037037035,
          "xref": "x",
          "y": -0.8364485981308412,
          "yref": "y"
         },
         {
          "arrowcolor": "gray",
          "arrowhead": 2,
          "arrowsize": 2,
          "ax": 0.5555555555555556,
          "axref": "x",
          "ay": 0.985981308411215,
          "ayref": "y",
          "showarrow": true,
          "standoff": 5,
          "startstandoff": 5,
          "text": "",
          "x": 0.8518518518518519,
          "xref": "x",
          "y": 0.48598130841121495,
          "yref": "y"
         },
         {
          "arrowcolor": "gray",
          "arrowhead": 2,
          "arrowsize": 2,
          "ax": 0.5555555555555556,
          "axref": "x",
          "ay": 0.985981308411215,
          "ayref": "y",
          "showarrow": true,
          "standoff": 5,
          "startstandoff": 5,
          "text": "",
          "x": 0.6296296296296297,
          "xref": "x",
          "y": 0.985981308411215,
          "yref": "y"
         },
         {
          "arrowcolor": "gray",
          "arrowhead": 2,
          "arrowsize": 2,
          "ax": 0.6296296296296297,
          "axref": "x",
          "ay": 0.4719626168224299,
          "ayref": "y",
          "showarrow": true,
          "standoff": 5,
          "startstandoff": 5,
          "text": "",
          "x": 0.7777777777777778,
          "xref": "x",
          "y": 0.985981308411215,
          "yref": "y"
         },
         {
          "arrowcolor": "gray",
          "arrowhead": 2,
          "arrowsize": 2,
          "ax": 0.4074074074074074,
          "axref": "x",
          "ay": -0.32242990654205606,
          "ayref": "y",
          "showarrow": true,
          "standoff": 5,
          "startstandoff": 5,
          "text": "",
          "x": 0.48148148148148145,
          "xref": "x",
          "y": -0.5654205607476636,
          "yref": "y"
         },
         {
          "arrowcolor": "gray",
          "arrowhead": 2,
          "arrowsize": 2,
          "ax": -0.48148148148148145,
          "axref": "x",
          "ay": -0.22897196261682243,
          "ayref": "y",
          "showarrow": true,
          "standoff": 5,
          "startstandoff": 5,
          "text": "",
          "x": -0.4074074074074074,
          "xref": "x",
          "y": 0.037383177570093455,
          "yref": "y"
         },
         {
          "arrowcolor": "gray",
          "arrowhead": 2,
          "arrowsize": 2,
          "ax": 0.7037037037037037,
          "axref": "x",
          "ay": 0.985981308411215,
          "ayref": "y",
          "showarrow": true,
          "standoff": 5,
          "startstandoff": 5,
          "text": "",
          "x": 0.7777777777777778,
          "xref": "x",
          "y": 0.985981308411215,
          "yref": "y"
         },
         {
          "arrowcolor": "gray",
          "arrowhead": 2,
          "arrowsize": 2,
          "ax": -0.18518518518518517,
          "axref": "x",
          "ay": -0.5186915887850467,
          "ayref": "y",
          "showarrow": true,
          "standoff": 5,
          "startstandoff": 5,
          "text": "",
          "x": 0.48148148148148145,
          "xref": "x",
          "y": -0.5654205607476636,
          "yref": "y"
         },
         {
          "arrowcolor": "gray",
          "arrowhead": 2,
          "arrowsize": 2,
          "ax": 0.48148148148148145,
          "axref": "x",
          "ay": 0.4485981308411215,
          "ayref": "y",
          "showarrow": true,
          "standoff": 5,
          "startstandoff": 5,
          "text": "",
          "x": 0.5555555555555556,
          "xref": "x",
          "y": 0.4485981308411215,
          "yref": "y"
         },
         {
          "arrowcolor": "gray",
          "arrowhead": 2,
          "arrowsize": 2,
          "ax": -0.48148148148148145,
          "axref": "x",
          "ay": 0.10747663551401869,
          "ayref": "y",
          "showarrow": true,
          "standoff": 5,
          "startstandoff": 5,
          "text": "",
          "x": -0.4074074074074074,
          "xref": "x",
          "y": 0.037383177570093455,
          "yref": "y"
         },
         {
          "arrowcolor": "gray",
          "arrowhead": 2,
          "arrowsize": 2,
          "ax": 0.48148148148148145,
          "axref": "x",
          "ay": 0.11214953271028037,
          "ayref": "y",
          "showarrow": true,
          "standoff": 5,
          "startstandoff": 5,
          "text": "",
          "x": 0.5555555555555556,
          "xref": "x",
          "y": 0.4485981308411215,
          "yref": "y"
         },
         {
          "arrowcolor": "gray",
          "arrowhead": 2,
          "arrowsize": 2,
          "ax": 0.48148148148148145,
          "axref": "x",
          "ay": 0.11214953271028037,
          "ayref": "y",
          "showarrow": true,
          "standoff": 5,
          "startstandoff": 5,
          "text": "",
          "x": 0.8518518518518519,
          "xref": "x",
          "y": 0.48598130841121495,
          "yref": "y"
         }
        ],
        "hoverlabel": {
         "font": {
          "size": 10
         }
        },
        "hovermode": "closest",
        "margin": {
         "b": 20,
         "l": 5,
         "r": 5,
         "t": 40
        },
        "showlegend": false,
        "template": {
         "data": {
          "bar": [
           {
            "error_x": {
             "color": "#2a3f5f"
            },
            "error_y": {
             "color": "#2a3f5f"
            },
            "marker": {
             "line": {
              "color": "#E5ECF6",
              "width": 0.5
             },
             "pattern": {
              "fillmode": "overlay",
              "size": 10,
              "solidity": 0.2
             }
            },
            "type": "bar"
           }
          ],
          "barpolar": [
           {
            "marker": {
             "line": {
              "color": "#E5ECF6",
              "width": 0.5
             },
             "pattern": {
              "fillmode": "overlay",
              "size": 10,
              "solidity": 0.2
             }
            },
            "type": "barpolar"
           }
          ],
          "carpet": [
           {
            "aaxis": {
             "endlinecolor": "#2a3f5f",
             "gridcolor": "white",
             "linecolor": "white",
             "minorgridcolor": "white",
             "startlinecolor": "#2a3f5f"
            },
            "baxis": {
             "endlinecolor": "#2a3f5f",
             "gridcolor": "white",
             "linecolor": "white",
             "minorgridcolor": "white",
             "startlinecolor": "#2a3f5f"
            },
            "type": "carpet"
           }
          ],
          "choropleth": [
           {
            "colorbar": {
             "outlinewidth": 0,
             "ticks": ""
            },
            "type": "choropleth"
           }
          ],
          "contour": [
           {
            "colorbar": {
             "outlinewidth": 0,
             "ticks": ""
            },
            "colorscale": [
             [
              0,
              "#0d0887"
             ],
             [
              0.1111111111111111,
              "#46039f"
             ],
             [
              0.2222222222222222,
              "#7201a8"
             ],
             [
              0.3333333333333333,
              "#9c179e"
             ],
             [
              0.4444444444444444,
              "#bd3786"
             ],
             [
              0.5555555555555556,
              "#d8576b"
             ],
             [
              0.6666666666666666,
              "#ed7953"
             ],
             [
              0.7777777777777778,
              "#fb9f3a"
             ],
             [
              0.8888888888888888,
              "#fdca26"
             ],
             [
              1,
              "#f0f921"
             ]
            ],
            "type": "contour"
           }
          ],
          "contourcarpet": [
           {
            "colorbar": {
             "outlinewidth": 0,
             "ticks": ""
            },
            "type": "contourcarpet"
           }
          ],
          "heatmap": [
           {
            "colorbar": {
             "outlinewidth": 0,
             "ticks": ""
            },
            "colorscale": [
             [
              0,
              "#0d0887"
             ],
             [
              0.1111111111111111,
              "#46039f"
             ],
             [
              0.2222222222222222,
              "#7201a8"
             ],
             [
              0.3333333333333333,
              "#9c179e"
             ],
             [
              0.4444444444444444,
              "#bd3786"
             ],
             [
              0.5555555555555556,
              "#d8576b"
             ],
             [
              0.6666666666666666,
              "#ed7953"
             ],
             [
              0.7777777777777778,
              "#fb9f3a"
             ],
             [
              0.8888888888888888,
              "#fdca26"
             ],
             [
              1,
              "#f0f921"
             ]
            ],
            "type": "heatmap"
           }
          ],
          "heatmapgl": [
           {
            "colorbar": {
             "outlinewidth": 0,
             "ticks": ""
            },
            "colorscale": [
             [
              0,
              "#0d0887"
             ],
             [
              0.1111111111111111,
              "#46039f"
             ],
             [
              0.2222222222222222,
              "#7201a8"
             ],
             [
              0.3333333333333333,
              "#9c179e"
             ],
             [
              0.4444444444444444,
              "#bd3786"
             ],
             [
              0.5555555555555556,
              "#d8576b"
             ],
             [
              0.6666666666666666,
              "#ed7953"
             ],
             [
              0.7777777777777778,
              "#fb9f3a"
             ],
             [
              0.8888888888888888,
              "#fdca26"
             ],
             [
              1,
              "#f0f921"
             ]
            ],
            "type": "heatmapgl"
           }
          ],
          "histogram": [
           {
            "marker": {
             "pattern": {
              "fillmode": "overlay",
              "size": 10,
              "solidity": 0.2
             }
            },
            "type": "histogram"
           }
          ],
          "histogram2d": [
           {
            "colorbar": {
             "outlinewidth": 0,
             "ticks": ""
            },
            "colorscale": [
             [
              0,
              "#0d0887"
             ],
             [
              0.1111111111111111,
              "#46039f"
             ],
             [
              0.2222222222222222,
              "#7201a8"
             ],
             [
              0.3333333333333333,
              "#9c179e"
             ],
             [
              0.4444444444444444,
              "#bd3786"
             ],
             [
              0.5555555555555556,
              "#d8576b"
             ],
             [
              0.6666666666666666,
              "#ed7953"
             ],
             [
              0.7777777777777778,
              "#fb9f3a"
             ],
             [
              0.8888888888888888,
              "#fdca26"
             ],
             [
              1,
              "#f0f921"
             ]
            ],
            "type": "histogram2d"
           }
          ],
          "histogram2dcontour": [
           {
            "colorbar": {
             "outlinewidth": 0,
             "ticks": ""
            },
            "colorscale": [
             [
              0,
              "#0d0887"
             ],
             [
              0.1111111111111111,
              "#46039f"
             ],
             [
              0.2222222222222222,
              "#7201a8"
             ],
             [
              0.3333333333333333,
              "#9c179e"
             ],
             [
              0.4444444444444444,
              "#bd3786"
             ],
             [
              0.5555555555555556,
              "#d8576b"
             ],
             [
              0.6666666666666666,
              "#ed7953"
             ],
             [
              0.7777777777777778,
              "#fb9f3a"
             ],
             [
              0.8888888888888888,
              "#fdca26"
             ],
             [
              1,
              "#f0f921"
             ]
            ],
            "type": "histogram2dcontour"
           }
          ],
          "mesh3d": [
           {
            "colorbar": {
             "outlinewidth": 0,
             "ticks": ""
            },
            "type": "mesh3d"
           }
          ],
          "parcoords": [
           {
            "line": {
             "colorbar": {
              "outlinewidth": 0,
              "ticks": ""
             }
            },
            "type": "parcoords"
           }
          ],
          "pie": [
           {
            "automargin": true,
            "type": "pie"
           }
          ],
          "scatter": [
           {
            "fillpattern": {
             "fillmode": "overlay",
             "size": 10,
             "solidity": 0.2
            },
            "type": "scatter"
           }
          ],
          "scatter3d": [
           {
            "line": {
             "colorbar": {
              "outlinewidth": 0,
              "ticks": ""
             }
            },
            "marker": {
             "colorbar": {
              "outlinewidth": 0,
              "ticks": ""
             }
            },
            "type": "scatter3d"
           }
          ],
          "scattercarpet": [
           {
            "marker": {
             "colorbar": {
              "outlinewidth": 0,
              "ticks": ""
             }
            },
            "type": "scattercarpet"
           }
          ],
          "scattergeo": [
           {
            "marker": {
             "colorbar": {
              "outlinewidth": 0,
              "ticks": ""
             }
            },
            "type": "scattergeo"
           }
          ],
          "scattergl": [
           {
            "marker": {
             "colorbar": {
              "outlinewidth": 0,
              "ticks": ""
             }
            },
            "type": "scattergl"
           }
          ],
          "scattermapbox": [
           {
            "marker": {
             "colorbar": {
              "outlinewidth": 0,
              "ticks": ""
             }
            },
            "type": "scattermapbox"
           }
          ],
          "scatterpolar": [
           {
            "marker": {
             "colorbar": {
              "outlinewidth": 0,
              "ticks": ""
             }
            },
            "type": "scatterpolar"
           }
          ],
          "scatterpolargl": [
           {
            "marker": {
             "colorbar": {
              "outlinewidth": 0,
              "ticks": ""
             }
            },
            "type": "scatterpolargl"
           }
          ],
          "scatterternary": [
           {
            "marker": {
             "colorbar": {
              "outlinewidth": 0,
              "ticks": ""
             }
            },
            "type": "scatterternary"
           }
          ],
          "surface": [
           {
            "colorbar": {
             "outlinewidth": 0,
             "ticks": ""
            },
            "colorscale": [
             [
              0,
              "#0d0887"
             ],
             [
              0.1111111111111111,
              "#46039f"
             ],
             [
              0.2222222222222222,
              "#7201a8"
             ],
             [
              0.3333333333333333,
              "#9c179e"
             ],
             [
              0.4444444444444444,
              "#bd3786"
             ],
             [
              0.5555555555555556,
              "#d8576b"
             ],
             [
              0.6666666666666666,
              "#ed7953"
             ],
             [
              0.7777777777777778,
              "#fb9f3a"
             ],
             [
              0.8888888888888888,
              "#fdca26"
             ],
             [
              1,
              "#f0f921"
             ]
            ],
            "type": "surface"
           }
          ],
          "table": [
           {
            "cells": {
             "fill": {
              "color": "#EBF0F8"
             },
             "line": {
              "color": "white"
             }
            },
            "header": {
             "fill": {
              "color": "#C8D4E3"
             },
             "line": {
              "color": "white"
             }
            },
            "type": "table"
           }
          ]
         },
         "layout": {
          "annotationdefaults": {
           "arrowcolor": "#2a3f5f",
           "arrowhead": 0,
           "arrowwidth": 1
          },
          "autotypenumbers": "strict",
          "coloraxis": {
           "colorbar": {
            "outlinewidth": 0,
            "ticks": ""
           }
          },
          "colorscale": {
           "diverging": [
            [
             0,
             "#8e0152"
            ],
            [
             0.1,
             "#c51b7d"
            ],
            [
             0.2,
             "#de77ae"
            ],
            [
             0.3,
             "#f1b6da"
            ],
            [
             0.4,
             "#fde0ef"
            ],
            [
             0.5,
             "#f7f7f7"
            ],
            [
             0.6,
             "#e6f5d0"
            ],
            [
             0.7,
             "#b8e186"
            ],
            [
             0.8,
             "#7fbc41"
            ],
            [
             0.9,
             "#4d9221"
            ],
            [
             1,
             "#276419"
            ]
           ],
           "sequential": [
            [
             0,
             "#0d0887"
            ],
            [
             0.1111111111111111,
             "#46039f"
            ],
            [
             0.2222222222222222,
             "#7201a8"
            ],
            [
             0.3333333333333333,
             "#9c179e"
            ],
            [
             0.4444444444444444,
             "#bd3786"
            ],
            [
             0.5555555555555556,
             "#d8576b"
            ],
            [
             0.6666666666666666,
             "#ed7953"
            ],
            [
             0.7777777777777778,
             "#fb9f3a"
            ],
            [
             0.8888888888888888,
             "#fdca26"
            ],
            [
             1,
             "#f0f921"
            ]
           ],
           "sequentialminus": [
            [
             0,
             "#0d0887"
            ],
            [
             0.1111111111111111,
             "#46039f"
            ],
            [
             0.2222222222222222,
             "#7201a8"
            ],
            [
             0.3333333333333333,
             "#9c179e"
            ],
            [
             0.4444444444444444,
             "#bd3786"
            ],
            [
             0.5555555555555556,
             "#d8576b"
            ],
            [
             0.6666666666666666,
             "#ed7953"
            ],
            [
             0.7777777777777778,
             "#fb9f3a"
            ],
            [
             0.8888888888888888,
             "#fdca26"
            ],
            [
             1,
             "#f0f921"
            ]
           ]
          },
          "colorway": [
           "#636efa",
           "#EF553B",
           "#00cc96",
           "#ab63fa",
           "#FFA15A",
           "#19d3f3",
           "#FF6692",
           "#B6E880",
           "#FF97FF",
           "#FECB52"
          ],
          "font": {
           "color": "#2a3f5f"
          },
          "geo": {
           "bgcolor": "white",
           "lakecolor": "white",
           "landcolor": "#E5ECF6",
           "showlakes": true,
           "showland": true,
           "subunitcolor": "white"
          },
          "hoverlabel": {
           "align": "left"
          },
          "hovermode": "closest",
          "mapbox": {
           "style": "light"
          },
          "paper_bgcolor": "white",
          "plot_bgcolor": "#E5ECF6",
          "polar": {
           "angularaxis": {
            "gridcolor": "white",
            "linecolor": "white",
            "ticks": ""
           },
           "bgcolor": "#E5ECF6",
           "radialaxis": {
            "gridcolor": "white",
            "linecolor": "white",
            "ticks": ""
           }
          },
          "scene": {
           "xaxis": {
            "backgroundcolor": "#E5ECF6",
            "gridcolor": "white",
            "gridwidth": 2,
            "linecolor": "white",
            "showbackground": true,
            "ticks": "",
            "zerolinecolor": "white"
           },
           "yaxis": {
            "backgroundcolor": "#E5ECF6",
            "gridcolor": "white",
            "gridwidth": 2,
            "linecolor": "white",
            "showbackground": true,
            "ticks": "",
            "zerolinecolor": "white"
           },
           "zaxis": {
            "backgroundcolor": "#E5ECF6",
            "gridcolor": "white",
            "gridwidth": 2,
            "linecolor": "white",
            "showbackground": true,
            "ticks": "",
            "zerolinecolor": "white"
           }
          },
          "shapedefaults": {
           "line": {
            "color": "#2a3f5f"
           }
          },
          "ternary": {
           "aaxis": {
            "gridcolor": "white",
            "linecolor": "white",
            "ticks": ""
           },
           "baxis": {
            "gridcolor": "white",
            "linecolor": "white",
            "ticks": ""
           },
           "bgcolor": "#E5ECF6",
           "caxis": {
            "gridcolor": "white",
            "linecolor": "white",
            "ticks": ""
           }
          },
          "title": {
           "x": 0.05
          },
          "xaxis": {
           "automargin": true,
           "gridcolor": "white",
           "linecolor": "white",
           "ticks": "",
           "title": {
            "standoff": 15
           },
           "zerolinecolor": "white",
           "zerolinewidth": 2
          },
          "yaxis": {
           "automargin": true,
           "gridcolor": "white",
           "linecolor": "white",
           "ticks": "",
           "title": {
            "standoff": 15
           },
           "zerolinecolor": "white",
           "zerolinewidth": 2
          }
         }
        },
        "xaxis": {
         "showgrid": false,
         "showticklabels": false,
         "zeroline": false
        },
        "yaxis": {
         "showgrid": false,
         "showticklabels": false,
         "zeroline": false
        }
       }
      }
     },
     "metadata": {},
     "output_type": "display_data"
    }
   ],
   "source": [
    "selector = {\"type\": \"descendants\", \"node\": \"geringfügig_beschäftigt\"}\n",
    "plot_dag(functions=policy_functions,\n",
    "         show_labels=False,\n",
    "         selectors=selector, \n",
    "         orientation ='h')"
   ]
  },
  {
   "cell_type": "code",
   "execution_count": 57,
   "id": "45566b28",
   "metadata": {},
   "outputs": [
    {
     "data": {
      "application/vnd.plotly.v1+json": {
       "config": {
        "plotlyServerURL": "https://plot.ly"
       },
       "data": [
        {
         "hoverinfo": "none",
         "line": {
          "color": "blue",
          "width": 0.5
         },
         "mode": "lines",
         "showlegend": false,
         "type": "scatter",
         "uid": "22c1bdd7-a25b-4873-bcef-410cfff063ce",
         "x": [
          -0.7777777777777778,
          -0.6296296296296297,
          "",
          -0.7777777777777778,
          -0.6296296296296297,
          "",
          -0.6296296296296297,
          -0.037037037037037035,
          "",
          -0.6296296296296297,
          0.4074074074074074,
          "",
          -0.6296296296296297,
          0.48148148148148145,
          "",
          -0.7777777777777778,
          -0.6296296296296297,
          "",
          -0.7777777777777778,
          -0.7037037037037037,
          "",
          -0.7777777777777778,
          -0.4074074074074074,
          "",
          -0.8518518518518519,
          -0.6296296296296297,
          "",
          -0.8518518518518519,
          -0.6296296296296297,
          "",
          -1,
          -0.7777777777777778,
          "",
          -1,
          -0.7777777777777778,
          "",
          -1,
          -0.8518518518518519,
          "",
          -1,
          -0.9259259259259259,
          "",
          -1,
          -0.7037037037037037,
          "",
          -1,
          -0.6296296296296297,
          "",
          -0.9259259259259259,
          -0.7777777777777778,
          "",
          -0.9259259259259259,
          -0.7777777777777778,
          "",
          -0.9259259259259259,
          -0.8518518518518519,
          "",
          -0.9259259259259259,
          -0.8518518518518519,
          "",
          -0.9259259259259259,
          -0.7037037037037037,
          "",
          -0.8518518518518519,
          -0.7777777777777778,
          "",
          -0.7777777777777778,
          -0.7037037037037037,
          "",
          -0.7037037037037037,
          -0.6296296296296297,
          "",
          -0.7037037037037037,
          -0.6296296296296297,
          "",
          -0.7037037037037037,
          -0.3333333333333333,
          "",
          -0.037037037037037035,
          0.5555555555555556,
          "",
          0.5555555555555556,
          0.7037037037037037,
          "",
          0.48148148148148145,
          0.5555555555555556,
          "",
          0.7037037037037037,
          0.8518518518518519,
          "",
          0.1111111111111111,
          0.18518518518518517,
          "",
          0.18518518518518517,
          0.25925925925925924,
          "",
          0.18518518518518517,
          0.3333333333333333,
          "",
          0.037037037037037035,
          0.1111111111111111,
          "",
          0.037037037037037035,
          0.18518518518518517,
          "",
          0.037037037037037035,
          0.3333333333333333,
          "",
          0.25925925925925924,
          0.3333333333333333,
          "",
          0.3333333333333333,
          0.4074074074074074,
          "",
          0.3333333333333333,
          0.4074074074074074,
          "",
          0.3333333333333333,
          0.4074074074074074,
          "",
          -0.037037037037037035,
          0.037037037037037035,
          "",
          0.4074074074074074,
          0.48148148148148145,
          "",
          0.8518518518518519,
          0.9259259259259259,
          "",
          0.8518518518518519,
          0.9259259259259259,
          "",
          0.8518518518518519,
          1,
          "",
          0.8518518518518519,
          1,
          "",
          0.8518518518518519,
          0.9259259259259259,
          "",
          0.8518518518518519,
          0.9259259259259259,
          "",
          0.9259259259259259,
          1,
          "",
          0.9259259259259259,
          1,
          "",
          0.9259259259259259,
          1,
          "",
          0.9259259259259259,
          1,
          "",
          0.9259259259259259,
          1,
          "",
          0.9259259259259259,
          1,
          "",
          0.9259259259259259,
          1,
          "",
          0.8518518518518519,
          0.9259259259259259,
          "",
          0.8518518518518519,
          0.9259259259259259,
          "",
          0.8518518518518519,
          0.9259259259259259,
          "",
          0.8518518518518519,
          1,
          "",
          0.4074074074074074,
          0.48148148148148145,
          "",
          0.4074074074074074,
          0.6296296296296297,
          "",
          0.48148148148148145,
          0.5555555555555556,
          "",
          0.6296296296296297,
          0.7037037037037037,
          "",
          -0.1111111111111111,
          -0.037037037037037035,
          "",
          -0.1111111111111111,
          0.4074074074074074,
          "",
          -0.1111111111111111,
          0.48148148148148145,
          "",
          -0.25925925925925924,
          -0.1111111111111111,
          "",
          -0.25925925925925924,
          -0.18518518518518517,
          "",
          -0.25925925925925924,
          -0.1111111111111111,
          "",
          -0.25925925925925924,
          -0.18518518518518517,
          "",
          -0.25925925925925924,
          -0.1111111111111111,
          "",
          -0.18518518518518517,
          -0.1111111111111111,
          "",
          -0.18518518518518517,
          0.4074074074074074,
          "",
          -0.6296296296296297,
          -0.5555555555555556,
          "",
          -0.6296296296296297,
          -0.18518518518518517,
          "",
          -0.7037037037037037,
          -0.6296296296296297,
          "",
          -0.4074074074074074,
          -0.25925925925925924,
          "",
          -0.4074074074074074,
          -0.3333333333333333,
          "",
          -0.5555555555555556,
          -0.48148148148148145,
          "",
          -0.3333333333333333,
          -0.25925925925925924,
          "",
          -0.5555555555555556,
          -0.48148148148148145,
          "",
          -0.1111111111111111,
          -0.037037037037037035,
          "",
          -0.1111111111111111,
          -0.037037037037037035,
          "",
          -0.1111111111111111,
          0.4074074074074074,
          "",
          -0.1111111111111111,
          0.48148148148148145,
          "",
          0.4074074074074074,
          0.48148148148148145,
          "",
          0.4074074074074074,
          0.48148148148148145,
          "",
          -0.6296296296296297,
          -0.5555555555555556,
          "",
          0.7777777777777778,
          0.8518518518518519,
          "",
          -0.4074074074074074,
          -0.037037037037037035,
          "",
          -0.3333333333333333,
          -0.037037037037037035,
          "",
          0.5555555555555556,
          0.8518518518518519,
          "",
          0.5555555555555556,
          0.6296296296296297,
          "",
          0.6296296296296297,
          0.7777777777777778,
          "",
          0.4074074074074074,
          0.48148148148148145,
          "",
          -0.48148148148148145,
          -0.4074074074074074,
          "",
          0.7037037037037037,
          0.7777777777777778,
          "",
          -0.18518518518518517,
          0.48148148148148145,
          "",
          0.48148148148148145,
          0.5555555555555556,
          "",
          -0.48148148148148145,
          -0.4074074074074074,
          "",
          0.48148148148148145,
          0.5555555555555556,
          "",
          0.48148148148148145,
          0.8518518518518519,
          ""
         ],
         "y": [
          0.985981308411215,
          0.7289719626168224,
          "",
          0.985981308411215,
          0.10747663551401869,
          "",
          0.7289719626168224,
          0.5654205607476636,
          "",
          0.7289719626168224,
          0.3925233644859813,
          "",
          0.7289719626168224,
          1,
          "",
          -0.45794392523364486,
          0.7289719626168224,
          "",
          -0.45794392523364486,
          -0.4532710280373832,
          "",
          -0.45794392523364486,
          -1,
          "",
          0.5700934579439252,
          0.7289719626168224,
          "",
          0.5700934579439252,
          0.10747663551401869,
          "",
          -0.07476635514018691,
          0.985981308411215,
          "",
          -0.07476635514018691,
          -0.45794392523364486,
          "",
          -0.07476635514018691,
          0.5700934579439252,
          "",
          -0.07476635514018691,
          0.1822429906542056,
          "",
          -0.07476635514018691,
          0.09813084112149532,
          "",
          -0.07476635514018691,
          -0.48598130841121495,
          "",
          0.1822429906542056,
          0.985981308411215,
          "",
          0.1822429906542056,
          -0.45794392523364486,
          "",
          0.1822429906542056,
          0.5700934579439252,
          "",
          0.1822429906542056,
          0.056074766355140186,
          "",
          0.1822429906542056,
          0.09813084112149532,
          "",
          0.056074766355140186,
          0.056074766355140186,
          "",
          0.056074766355140186,
          0.09813084112149532,
          "",
          0.09813084112149532,
          0.7289719626168224,
          "",
          0.09813084112149532,
          0.10747663551401869,
          "",
          0.09813084112149532,
          -0.7429906542056075,
          "",
          -0.8364485981308412,
          -0.5654205607476636,
          "",
          -0.5654205607476636,
          -0.2850467289719626,
          "",
          -0.5654205607476636,
          -0.5654205607476636,
          "",
          -0.2850467289719626,
          -0.1588785046728972,
          "",
          0.03271028037383177,
          0.12149532710280374,
          "",
          0.12149532710280374,
          0.03271028037383177,
          "",
          0.12149532710280374,
          0.3364485981308411,
          "",
          0.3177570093457944,
          0.03271028037383177,
          "",
          0.3177570093457944,
          0.12149532710280374,
          "",
          0.3177570093457944,
          0.3364485981308411,
          "",
          0.03271028037383177,
          0.3364485981308411,
          "",
          0.3364485981308411,
          0.3925233644859813,
          "",
          0.3364485981308411,
          0.7289719626168224,
          "",
          0.3364485981308411,
          -0.32242990654205606,
          "",
          0.5654205607476636,
          0.3177570093457944,
          "",
          0.3925233644859813,
          0.4485981308411215,
          "",
          0.9065420560747663,
          0.822429906542056,
          "",
          0.9065420560747663,
          0.308411214953271,
          "",
          0.9065420560747663,
          0.822429906542056,
          "",
          -0.1588785046728972,
          -0.028037383177570093,
          "",
          -0.1588785046728972,
          0.308411214953271,
          "",
          -0.1588785046728972,
          -0.028037383177570093,
          "",
          0.822429906542056,
          0.397196261682243,
          "",
          0.822429906542056,
          0.822429906542056,
          "",
          0.308411214953271,
          -0.028037383177570093,
          "",
          0.308411214953271,
          0.397196261682243,
          "",
          0.308411214953271,
          0.822429906542056,
          "",
          -0.028037383177570093,
          -0.028037383177570093,
          "",
          -0.028037383177570093,
          0.397196261682243,
          "",
          0.48598130841121495,
          0.822429906542056,
          "",
          0.48598130841121495,
          0.308411214953271,
          "",
          0.48598130841121495,
          -0.028037383177570093,
          "",
          0.48598130841121495,
          0.397196261682243,
          "",
          0.7289719626168224,
          1,
          "",
          0.7289719626168224,
          0.4719626168224299,
          "",
          1,
          0.985981308411215,
          "",
          0.985981308411215,
          0.985981308411215,
          "",
          0.822429906542056,
          0.5654205607476636,
          "",
          0.822429906542056,
          0.3925233644859813,
          "",
          0.822429906542056,
          1,
          "",
          0.2803738317757009,
          0.822429906542056,
          "",
          0.2803738317757009,
          -0.1542056074766355,
          "",
          0.2803738317757009,
          0.102803738317757,
          "",
          -0.056074766355140186,
          -0.1542056074766355,
          "",
          -0.056074766355140186,
          0.102803738317757,
          "",
          -0.1542056074766355,
          0.102803738317757,
          "",
          -0.1542056074766355,
          0.014018691588785047,
          "",
          -0.48598130841121495,
          -0.22897196261682243,
          "",
          -0.48598130841121495,
          -0.5186915887850467,
          "",
          -0.4532710280373832,
          0.10747663551401869,
          "",
          0.037383177570093455,
          -0.056074766355140186,
          "",
          0.037383177570093455,
          0.2616822429906542,
          "",
          0.10747663551401869,
          0.10747663551401869,
          "",
          0.2616822429906542,
          0.2803738317757009,
          "",
          -0.22897196261682243,
          -0.22897196261682243,
          "",
          0.102803738317757,
          -0.8364485981308412,
          "",
          0.102803738317757,
          0.5654205607476636,
          "",
          0.102803738317757,
          0.3925233644859813,
          "",
          0.102803738317757,
          1,
          "",
          0.014018691588785047,
          -0.22429906542056074,
          "",
          0.014018691588785047,
          0.11214953271028037,
          "",
          0.10747663551401869,
          0.10747663551401869,
          "",
          0.985981308411215,
          0.9065420560747663,
          "",
          -1,
          -0.8364485981308412,
          "",
          -0.7429906542056075,
          -0.8364485981308412,
          "",
          0.985981308411215,
          0.48598130841121495,
          "",
          0.985981308411215,
          0.985981308411215,
          "",
          0.4719626168224299,
          0.985981308411215,
          "",
          -0.32242990654205606,
          -0.5654205607476636,
          "",
          -0.22897196261682243,
          0.037383177570093455,
          "",
          0.985981308411215,
          0.985981308411215,
          "",
          -0.5186915887850467,
          -0.5654205607476636,
          "",
          0.4485981308411215,
          0.4485981308411215,
          "",
          0.10747663551401869,
          0.037383177570093455,
          "",
          0.11214953271028037,
          0.4485981308411215,
          "",
          0.11214953271028037,
          0.48598130841121495,
          ""
         ]
        },
        {
         "hoverinfo": "text",
         "marker": {
          "color": "red",
          "reversescale": true,
          "showscale": false,
          "size": 15
         },
         "mode": "markers",
         "showlegend": false,
         "text": [
          "arbeitsl_v_beitr_m",
          "sozialv_beitr_gesamt_m",
          "ges_rentenv_beitr_m",
          "ges_pflegev_beitr_m",
          "geringfügig_beschäftigt",
          "in_gleitzone",
          "_ges_krankenv_midi_job_arbeitg_m",
          "_ges_krankenv_midi_job_arbeitn_m",
          "ges_krankenv_beitr_m",
          "wohngeld_abzüge_m_tu",
          "wohngeld_eink_m",
          "wohngeld_eink_vor_abzug_m_tu",
          "wohngeld_m_hh",
          "wohngeld_vor_vermög_check_m_hh",
          "elterngeld_anteil_eink_erlass",
          "elterngeld_eink_erlass_m",
          "elterngeld_eink_relev_m",
          "elterngeld_geschw_bonus_m",
          "elterngeld_m",
          "elterngeld_nettolohn_m",
          "grunds_im_alter_eink_m",
          "grunds_im_alter_m_hh",
          "_kinderzuschl_nach_vermög_check_m_hh",
          "wohngeld_nach_vermög_check_m_hh",
          "kinderzuschl_vorrang_hh",
          "wohngeld_kinderzuschl_vorrang_hh",
          "wohngeld_vorrang_hh",
          "arbeitsl_geld_2_m_hh",
          "arbeitsl_geld_2_vor_vorrang_m_hh",
          "arbeitsl_geld_2_brutto_eink_m",
          "arbeitsl_geld_2_eink_m",
          "kinderzuschl_eink_anrechn_m",
          "kinderzuschl_m_hh",
          "soli_st_tu",
          "eink_st_mit_kinderfreib_tu",
          "eink_st_ohne_kinderfreib_tu",
          "kinderfreib_günstiger_tu",
          "eink_abhängig_beschäftigt",
          "vorsorgeaufw_alter_ab_2005",
          "_zu_verst_eink_ohne_kinderfreib_tu",
          "freibeträge",
          "zu_verst_eink_mit_kinderfreib_tu",
          "sum_eink",
          "eink_st_tu",
          "kindergeld_m",
          "vorsorgeaufw",
          "_kinderzuschl_vor_vermög_check_m_hh",
          "kindergeld_m_tu",
          "ges_rentenv_beitr_m_tu",
          "ges_krankenv_beitr_m_tu",
          "arbeitsl_geld_2_eink_m_hh",
          "arbeitsl_geld_2_brutto_eink_m_hh",
          "elterngeld_m_tu",
          "sum_eink_tu",
          "kinderzuschl_eink_anrechn_m_hh",
          "eink_abhängig_beschäftigt_tu",
          "grunds_im_alter_eink_m_hh",
          "freibeträge_tu",
          "kindergeld_m_hh"
         ],
         "textposition": "bottom center",
         "type": "scatter",
         "uid": "33eacb95-bc8d-4838-903a-961879f27d0c",
         "x": [
          -0.7777777777777778,
          -0.6296296296296297,
          -0.7777777777777778,
          -0.8518518518518519,
          -1,
          -0.9259259259259259,
          -0.8518518518518519,
          -0.7777777777777778,
          -0.7037037037037037,
          -0.037037037037037035,
          0.5555555555555556,
          0.48148148148148145,
          1,
          0.7037037037037037,
          0.1111111111111111,
          0.18518518518518517,
          0.037037037037037035,
          0.25925925925925924,
          0.3333333333333333,
          -0.037037037037037035,
          0.4074074074074074,
          0.5555555555555556,
          0.8518518518518519,
          0.8518518518518519,
          0.9259259259259259,
          0.9259259259259259,
          0.9259259259259259,
          1,
          0.8518518518518519,
          0.4074074074074074,
          0.48148148148148145,
          0.6296296296296297,
          1,
          -0.1111111111111111,
          -0.25925925925925924,
          -0.25925925925925924,
          -0.18518518518518517,
          -0.6296296296296297,
          -0.7037037037037037,
          -0.4074074074074074,
          -0.5555555555555556,
          -0.3333333333333333,
          -0.5555555555555556,
          -0.1111111111111111,
          0.4074074074074074,
          -0.6296296296296297,
          0.7777777777777778,
          0.48148148148148145,
          -0.4074074074074074,
          -0.3333333333333333,
          0.5555555555555556,
          0.6296296296296297,
          0.4074074074074074,
          -0.48148148148148145,
          0.7037037037037037,
          -0.18518518518518517,
          0.48148148148148145,
          -0.48148148148148145,
          0.48148148148148145
         ],
         "y": [
          0.985981308411215,
          0.7289719626168224,
          -0.45794392523364486,
          0.5700934579439252,
          -0.07476635514018691,
          0.1822429906542056,
          0.056074766355140186,
          0.056074766355140186,
          0.09813084112149532,
          -0.8364485981308412,
          -0.5654205607476636,
          -0.5654205607476636,
          -0.028037383177570093,
          -0.2850467289719626,
          0.03271028037383177,
          0.12149532710280374,
          0.3177570093457944,
          0.03271028037383177,
          0.3364485981308411,
          0.5654205607476636,
          0.3925233644859813,
          0.4485981308411215,
          0.9065420560747663,
          -0.1588785046728972,
          0.822429906542056,
          0.308411214953271,
          -0.028037383177570093,
          0.397196261682243,
          0.48598130841121495,
          0.7289719626168224,
          1,
          0.985981308411215,
          0.822429906542056,
          0.822429906542056,
          0.2803738317757009,
          -0.056074766355140186,
          -0.1542056074766355,
          -0.48598130841121495,
          -0.4532710280373832,
          0.037383177570093455,
          0.10747663551401869,
          0.2616822429906542,
          -0.22897196261682243,
          0.102803738317757,
          0.014018691588785047,
          0.10747663551401869,
          0.985981308411215,
          -0.22429906542056074,
          -1,
          -0.7429906542056075,
          0.985981308411215,
          0.4719626168224299,
          -0.32242990654205606,
          -0.22897196261682243,
          0.985981308411215,
          -0.5186915887850467,
          0.4485981308411215,
          0.10747663551401869,
          0.11214953271028037
         ]
        },
        {
         "hoverinfo": "text",
         "hoverlabel": {
          "bgcolor": "lightgrey",
          "font": {
           "color": "black"
          }
         },
         "hovertext": "def arbeitsl_v_beitr_m(<br>    geringfügig_beschäftigt: bool,<br>    in_gleitzone: bool,<br>    _arbeitsl_v_beitr_midi_job_m: float,<br>    _ges_rentenv_beitr_bruttolohn_m: float,<br>    soz_vers_beitr_params: dict,<br>) -> float:<br>    \"\"\"Calculate the contribution for each individual to the unemployment insurance.<br><br>    Parameters<br>    ----------<br>    geringfügig_beschäftigt<br>        See :func:`geringfügig_beschäftigt`.<br>    in_gleitzone<br>        See :func:`in_gleitzone`.<br>    _arbeitsl_v_beitr_midi_job_m<br>        See :func:`_arbeitsl_v_beitr_midi_job_m`.<br>    _ges_rentenv_beitr_bruttolohn_m<br>        See :func:`_ges_rentenv_beitr_bruttolohn_m`.<br>    soz_vers_beitr_params<br>        See params documentation :ref:`soz_vers_beitr_params <soz_vers_beitr_params>`.<br><br>    Returns<br>    -------<br><br>    \"\"\"<br>    arbeitsl_v_regulär_beschäftigt_m = (<br>        _ges_rentenv_beitr_bruttolohn_m<br>        * soz_vers_beitr_params[\"beitr_satz\"][\"arbeitsl_v\"]<br>    )<br><br>    # Set to 0 for minijobs<br>    if geringfügig_beschäftigt:<br>        out = 0.0<br>    elif in_gleitzone:<br>        out = _arbeitsl_v_beitr_midi_job_m<br>    else:<br>        out = arbeitsl_v_regulär_beschäftigt_m<br><br>    return out<br>",
         "marker": {
          "color": "red",
          "reversescale": true,
          "showscale": false,
          "size": 15
         },
         "mode": "markers",
         "name": "arbeitsl_v_beitr_m",
         "showlegend": false,
         "text": "arbeitsl_v_beitr_m",
         "textposition": "bottom center",
         "type": "scatter",
         "uid": "0df65033-77df-45d4-807a-49a6d72eda0a",
         "x": [
          -0.7777777777777778
         ],
         "y": [
          0.985981308411215
         ]
        },
        {
         "hoverinfo": "text",
         "hoverlabel": {
          "bgcolor": "lightgrey",
          "font": {
           "color": "black"
          }
         },
         "hovertext": "def sozialv_beitr_gesamt_m(<br>    ges_pflegev_beitr_m: float,<br>    ges_krankenv_beitr_m: float,<br>    ges_rentenv_beitr_m: float,<br>    arbeitsl_v_beitr_m: float,<br>) -> float:<br>    \"\"\"Sum of all social insurance contributions.<br><br><br>    Parameters<br>    ----------<br>    ges_pflegev_beitr_m<br>        See :func:`ges_pflegev_beitr_m`.<br>    ges_krankenv_beitr_m<br>        See :func:`ges_krankenv_beitr_m`.<br>    ges_rentenv_beitr_m<br>        See :func:`ges_rentenv_beitr_m`.<br>    arbeitsl_v_beitr_m<br>        See :func:`arbeitsl_v_beitr_m`.<br><br>    Returns<br>    -------<br><br>    \"\"\"<br>    out = (<br>        ges_pflegev_beitr_m<br>        + ges_krankenv_beitr_m<br>        + ges_rentenv_beitr_m<br>        + arbeitsl_v_beitr_m<br>    )<br>    return out<br>",
         "marker": {
          "color": "red",
          "reversescale": true,
          "showscale": false,
          "size": 15
         },
         "mode": "markers",
         "name": "sozialv_beitr_gesamt_m",
         "showlegend": false,
         "text": "sozialv_beitr_gesamt_m",
         "textposition": "bottom center",
         "type": "scatter",
         "uid": "db29481e-c4ae-4c28-851d-e31bdfbf52db",
         "x": [
          -0.6296296296296297
         ],
         "y": [
          0.7289719626168224
         ]
        },
        {
         "hoverinfo": "text",
         "hoverlabel": {
          "bgcolor": "lightgrey",
          "font": {
           "color": "black"
          }
         },
         "hovertext": "def ges_rentenv_beitr_m(<br>    geringfügig_beschäftigt: bool,<br>    _ges_rentenv_beitr_midi_job_m_m: float,<br>    _ges_rentenv_beitr_bruttolohn_m: float,<br>    soz_vers_beitr_params: dict,<br>    in_gleitzone: bool,<br>) -> float:<br>    \"\"\"Contribution for each individual to the pension insurance.<br><br>    Parameters<br>    ----------<br>    geringfügig_beschäftigt<br>        See :func:`geringfügig_beschäftigt`.<br><br>    _ges_rentenv_beitr_midi_job_m_m<br>        See :func:`_ges_rentenv_beitr_midi_job_m_m`.<br>    _ges_rentenv_beitr_bruttolohn_m<br>        See :func:`_ges_rentenv_beitr_bruttolohn_m`.<br>    soz_vers_beitr_params<br>        See params documentation :ref:`soz_vers_beitr_params <soz_vers_beitr_params>`.<br>    in_gleitzone<br>        See :func:`in_gleitzone`.<br><br>    Returns<br>    -------<br><br>    \"\"\"<br>    ges_rentenv_beitr_regular_job_m = (<br>        _ges_rentenv_beitr_bruttolohn_m<br>        * soz_vers_beitr_params[\"beitr_satz\"][\"ges_rentenv\"]<br>    )<br><br>    if geringfügig_beschäftigt:<br>        out = 0.0<br>    elif in_gleitzone:<br>        out = _ges_rentenv_beitr_midi_job_m_m<br>    else:<br>        out = ges_rentenv_beitr_regular_job_m<br><br>    return out<br>",
         "marker": {
          "color": "red",
          "reversescale": true,
          "showscale": false,
          "size": 15
         },
         "mode": "markers",
         "name": "ges_rentenv_beitr_m",
         "showlegend": false,
         "text": "ges_rentenv_beitr_m",
         "textposition": "bottom center",
         "type": "scatter",
         "uid": "77f4ead0-a02e-4aec-af9f-64c9dce3d41f",
         "x": [
          -0.7777777777777778
         ],
         "y": [
          -0.45794392523364486
         ]
        },
        {
         "hoverinfo": "text",
         "hoverlabel": {
          "bgcolor": "lightgrey",
          "font": {
           "color": "black"
          }
         },
         "hovertext": "def ges_pflegev_beitr_m(<br>    geringfügig_beschäftigt: bool,<br>    ges_pflegev_beitr_rente_m: float,<br>    ges_pflegev_beitr_selbst_m: float,<br>    _ges_pflegev_beitr_midi_job_m_m: float,<br>    ges_pflegev_zusatz_kinderlos: bool,<br>    _ges_krankenv_bruttolohn_m: float,<br>    soz_vers_beitr_params: dict,<br>    in_gleitzone: bool,<br>    selbstständig: bool,<br>) -> float:<br>    \"\"\"Contribution for each individual to the public care insurance.<br><br>    Parameters<br>    ----------<br>    geringfügig_beschäftigt<br>        See :func:`geringfügig_beschäftigt`.<br>    ges_pflegev_beitr_rente_m<br>        See :func:`ges_pflegev_beitr_rente_m`.<br>    ges_pflegev_beitr_selbst_m<br>        See :func:`ges_pflegev_beitr_selbst_m`.<br>    _ges_pflegev_beitr_midi_job_m_m<br>        See :func:`_ges_pflegev_beitr_midi_job_m_m`.<br>    ges_pflegev_zusatz_kinderlos<br>        See :func:`ges_pflegev_zusatz_kinderlos`.<br>    _ges_krankenv_bruttolohn_m<br>        See :func:`_ges_krankenv_bruttolohn_m`.<br>    soz_vers_beitr_params<br>        See params documentation :ref:`soz_vers_beitr_params <soz_vers_beitr_params>`.<br>    in_gleitzone<br>        See :func:`in_gleitzone`.<br>    selbstständig<br>        See basic input variable :ref:`selbstständig <selbstständig>`.<br><br>    Returns<br>    -------<br><br>    \"\"\"<br><br>    # Calculate care insurance contributions for regular jobs.<br>    beitr_regulär_beschäftigt_m = (<br>        _ges_krankenv_bruttolohn_m<br>        * soz_vers_beitr_params[\"beitr_satz\"][\"ges_pflegev\"][\"standard\"]<br>    )<br><br>    # Add additional contribution for childless individuals<br>    if ges_pflegev_zusatz_kinderlos:<br>        beitr_regulär_beschäftigt_m += (<br>            _ges_krankenv_bruttolohn_m<br>            * soz_vers_beitr_params[\"beitr_satz\"][\"ges_pflegev\"][\"zusatz_kinderlos\"]<br>        )<br><br>    if selbstständig:<br>        out = ges_pflegev_beitr_selbst_m<br>    elif geringfügig_beschäftigt:<br>        out = 0.0<br>    elif in_gleitzone:<br>        out = _ges_pflegev_beitr_midi_job_m_m<br>    else:<br>        out = beitr_regulär_beschäftigt_m<br><br>    # Add the care insurance contribution for pensions<br>    return out + ges_pflegev_beitr_rente_m<br>",
         "marker": {
          "color": "red",
          "reversescale": true,
          "showscale": false,
          "size": 15
         },
         "mode": "markers",
         "name": "ges_pflegev_beitr_m",
         "showlegend": false,
         "text": "ges_pflegev_beitr_m",
         "textposition": "bottom center",
         "type": "scatter",
         "uid": "a14fe79f-8d8f-48b4-a42e-a87c6fdca427",
         "x": [
          -0.8518518518518519
         ],
         "y": [
          0.5700934579439252
         ]
        },
        {
         "hoverinfo": "text",
         "hoverlabel": {
          "bgcolor": "lightgrey",
          "font": {
           "color": "black"
          }
         },
         "hovertext": "def geringfügig_beschäftigt(bruttolohn_m: float, mini_job_grenze: float) -> bool:<br>    \"\"\"Check if individual earns less than marginal employment threshold.<br><br>    Marginal employed pay no social insurance contributions.<br><br>    Legal reference: § 8 Abs. 1 Satz 1 and 2 SGB IV<br><br>    Parameters<br>    ----------<br>    bruttolohn_m<br>        See basic input variable :ref:`bruttolohn_m <bruttolohn_m>`.<br>    mini_job_grenze<br>        See :func:`mini_job_grenze`.<br><br><br>    Returns<br>    -------<br>    Whether person earns less than marginal employment threshold.<br>    \"\"\"<br>    return bruttolohn_m <= mini_job_grenze<br>",
         "marker": {
          "color": "red",
          "reversescale": true,
          "showscale": false,
          "size": 15
         },
         "mode": "markers",
         "name": "geringfügig_beschäftigt",
         "showlegend": false,
         "text": "geringfügig_beschäftigt",
         "textposition": "bottom center",
         "type": "scatter",
         "uid": "ecc13fed-c84a-4eec-a77f-fc969749b6db",
         "x": [
          -1
         ],
         "y": [
          -0.07476635514018691
         ]
        },
        {
         "hoverinfo": "text",
         "hoverlabel": {
          "bgcolor": "lightgrey",
          "font": {
           "color": "black"
          }
         },
         "hovertext": "def in_gleitzone(<br>    bruttolohn_m: float,<br>    geringfügig_beschäftigt: bool,<br>    soz_vers_beitr_params: dict,<br>) -> bool:<br>    \"\"\"Check if individual's income is in midi-job range.<br><br>    Employed people with their wage in the range of gleitzone pay reduced social<br>    insurance contributions.<br><br>    Legal reference: § 20 Abs. 2 SGB IV<br><br>    Parameters<br>    ----------<br>    bruttolohn_m<br>        See basic input variable :ref:`bruttolohn_m <bruttolohn_m>`.<br>    geringfügig_beschäftigt<br>        See :func:`geringfügig_beschäftigt`.<br>    soz_vers_beitr_params<br>        See params documentation :ref:`soz_vers_beitr_params <soz_vers_beitr_params>`.<br><br>    Returns<br>    -------<br>    Whether individual's income is in midi-job range.<br>    \"\"\"<br>    out = (<br>        bruttolohn_m <= soz_vers_beitr_params[\"geringfügige_eink_grenzen_m\"][\"midi_job\"]<br>    ) and (not geringfügig_beschäftigt)<br>    return out<br>",
         "marker": {
          "color": "red",
          "reversescale": true,
          "showscale": false,
          "size": 15
         },
         "mode": "markers",
         "name": "in_gleitzone",
         "showlegend": false,
         "text": "in_gleitzone",
         "textposition": "bottom center",
         "type": "scatter",
         "uid": "2fed4e49-9b52-4bbc-9f42-6cba4fd33f01",
         "x": [
          -0.9259259259259259
         ],
         "y": [
          0.1822429906542056
         ]
        },
        {
         "hoverinfo": "text",
         "hoverlabel": {
          "bgcolor": "lightgrey",
          "font": {
           "color": "black"
          }
         },
         "hovertext": "def _ges_krankenv_midi_job_arbeitg_m(<br>    bruttolohn_m: float, in_gleitzone: bool, _ges_krankenv_beitr_satz_arbeitg: float<br>) -> float:<br>    \"\"\"Calculating the employer health insurance contribution for midi jobs.<br><br>    Parameters<br>    ----------<br>    bruttolohn_m<br>        See basic input variable :ref:`bruttolohn_m <bruttolohn_m>`.<br>    in_gleitzone<br>        See :func:`in_gleitzone`.<br>    _ges_krankenv_beitr_satz_arbeitg<br>        See :func:`_ges_krankenv_beitr_satz_arbeitg`.<br>    Returns<br>    -------<br><br>    \"\"\"<br>    if in_gleitzone:<br>        out = _ges_krankenv_beitr_satz_arbeitg * bruttolohn_m<br>    else:<br>        out = 0.0<br><br>    return out<br>",
         "marker": {
          "color": "red",
          "reversescale": true,
          "showscale": false,
          "size": 15
         },
         "mode": "markers",
         "name": "_ges_krankenv_midi_job_arbeitg_m",
         "showlegend": false,
         "text": "_ges_krankenv_midi_job_arbeitg_m",
         "textposition": "bottom center",
         "type": "scatter",
         "uid": "3d2f67ce-1414-4abd-8260-b50ea300852e",
         "x": [
          -0.8518518518518519
         ],
         "y": [
          0.056074766355140186
         ]
        },
        {
         "hoverinfo": "text",
         "hoverlabel": {
          "bgcolor": "lightgrey",
          "font": {
           "color": "black"
          }
         },
         "hovertext": "def _ges_krankenv_midi_job_arbeitn_m(<br>    _ges_krankenv_midi_job_sum_arbeitn_arbeitg_m: float,<br>    _ges_krankenv_midi_job_arbeitg_m: float,<br>) -> float:<br>    \"\"\"Calculating the employee health insurance contribution for midi jobs.<br><br><br>    Parameters<br>    ----------<br>    _ges_krankenv_midi_job_sum_arbeitn_arbeitg_m<br>        See :func:`_ges_krankenv_midi_job_sum_arbeitn_arbeitg_m`.<br>    _ges_krankenv_midi_job_arbeitg_m<br>        See :func:`_ges_krankenv_midi_job_arbeitg_m`.<br>    Returns<br>    -------<br><br>    \"\"\"<br>    return (<br>        _ges_krankenv_midi_job_sum_arbeitn_arbeitg_m - _ges_krankenv_midi_job_arbeitg_m<br>    )<br>",
         "marker": {
          "color": "red",
          "reversescale": true,
          "showscale": false,
          "size": 15
         },
         "mode": "markers",
         "name": "_ges_krankenv_midi_job_arbeitn_m",
         "showlegend": false,
         "text": "_ges_krankenv_midi_job_arbeitn_m",
         "textposition": "bottom center",
         "type": "scatter",
         "uid": "52961252-de0f-47b1-b99b-d3093ca6ebde",
         "x": [
          -0.7777777777777778
         ],
         "y": [
          0.056074766355140186
         ]
        },
        {
         "hoverinfo": "text",
         "hoverlabel": {
          "bgcolor": "lightgrey",
          "font": {
           "color": "black"
          }
         },
         "hovertext": "def ges_krankenv_beitr_m(<br>    geringfügig_beschäftigt: bool,<br>    ges_krankenv_beitr_rente_m: float,<br>    ges_krankenv_beitr_selbst_m: float,<br>    in_gleitzone: bool,<br>    _ges_krankenv_midi_job_arbeitn_m: float,<br>    _ges_krankenv_beitr_reg_beschäftigt: float,<br>    selbstständig: bool,<br>) -> float:<br>    \"\"\"Contribution for each individual to the public health insurance.<br><br>    Parameters<br>    ----------<br>    geringfügig_beschäftigt<br>        See :func:`geringfügig_beschäftigt`.<br>    ges_krankenv_beitr_rente_m<br>        See :func:`ges_krankenv_beitr_rente_m`.<br>    ges_krankenv_beitr_selbst_m<br>        See :func:`ges_krankenv_beitr_selbst_m`.<br>    _ges_krankenv_midi_job_arbeitn_m<br>        See :func:`_ges_krankenv_midi_job_arbeitn_m`.<br>    _ges_krankenv_beitr_reg_beschäftigt<br>        See :func:`_ges_krankenv_beitr_reg_beschäftigt`.<br>    in_gleitzone<br>        See :func:`in_gleitzone`.<br>    selbstständig<br>        See basic input variable :ref:`selbstständig <selbstständig>`.<br><br><br>    Returns<br>    -------<br><br>    \"\"\"<br><br>    if selbstständig:<br>        out = ges_krankenv_beitr_selbst_m<br>    elif geringfügig_beschäftigt:<br>        out = 0.0<br>    elif in_gleitzone:<br>        out = _ges_krankenv_midi_job_arbeitn_m<br>    else:<br>        out = _ges_krankenv_beitr_reg_beschäftigt<br><br>    # Add the health insurance contribution for pensions<br>    return out + ges_krankenv_beitr_rente_m<br>",
         "marker": {
          "color": "red",
          "reversescale": true,
          "showscale": false,
          "size": 15
         },
         "mode": "markers",
         "name": "ges_krankenv_beitr_m",
         "showlegend": false,
         "text": "ges_krankenv_beitr_m",
         "textposition": "bottom center",
         "type": "scatter",
         "uid": "5aa167c5-8ab6-43d6-a813-463cd26667cd",
         "x": [
          -0.7037037037037037
         ],
         "y": [
          0.09813084112149532
         ]
        },
        {
         "hoverinfo": "text",
         "hoverlabel": {
          "bgcolor": "lightgrey",
          "font": {
           "color": "black"
          }
         },
         "hovertext": "def wohngeld_abzüge_m_tu(<br>    eink_st_tu: float,<br>    ges_rentenv_beitr_m_tu: float,<br>    ges_krankenv_beitr_m_tu: float,<br>    wohngeld_params: dict,<br>) -> float:<br>    \"\"\"Calculate housing benefit subtractions.<br><br>    Parameters<br>    ----------<br>    eink_st_tu<br>        See :func:`eink_st_tu`.<br>    ges_rentenv_beitr_m_tu<br>        See :func:`ges_rentenv_beitr_m_tu`.<br>    ges_krankenv_beitr_m_tu<br>        See :func:`ges_krankenv_beitr_m_tu`.<br>    wohngeld_params<br>        See params documentation :ref:`wohngeld_params <wohngeld_params>`.<br><br>    Returns<br>    -------<br><br>    \"\"\"<br>    abzug_stufen = (<br>        (eink_st_tu > 0) + (ges_rentenv_beitr_m_tu > 0) + (ges_krankenv_beitr_m_tu > 0)<br>    )<br>    out = wohngeld_params[\"abzug_stufen\"][abzug_stufen]<br>    return out<br>",
         "marker": {
          "color": "red",
          "reversescale": true,
          "showscale": false,
          "size": 15
         },
         "mode": "markers",
         "name": "wohngeld_abzüge_m_tu",
         "showlegend": false,
         "text": "wohngeld_abzüge_m_tu",
         "textposition": "bottom center",
         "type": "scatter",
         "uid": "1d84adae-8f85-4462-8506-f9f9f8a42583",
         "x": [
          -0.037037037037037035
         ],
         "y": [
          -0.8364485981308412
         ]
        },
        {
         "hoverinfo": "text",
         "hoverlabel": {
          "bgcolor": "lightgrey",
          "font": {
           "color": "black"
          }
         },
         "hovertext": "def wohngeld_eink_m(<br>    haushaltsgröße_hh: int,<br>    wohngeld_eink_abzüge_m_tu: float,<br>    wohngeld_abzüge_m_tu: float,<br>    wohngeld_eink_vor_abzug_m_tu: float,<br>    wohngeld_params: dict,<br>) -> float:<br>    \"\"\"Calculate final income relevant for calculation of housing benefit.<br><br>    Parameters<br>    ----------<br>    haushaltsgröße_hh<br>        See :func:`haushaltsgröße_hh`.<br>    wohngeld_eink_abzüge_m_tu<br>        See :func:`wohngeld_eink_abzüge_m_tu`.<br>    wohngeld_abzüge_m_tu<br>        See :func:`wohngeld_abzüge_m_tu`.<br>    wohngeld_eink_vor_abzug_m_tu<br>        See :func:`wohngeld_eink_vor_abzug_m_tu`.<br>    wohngeld_params<br>        See params documentation :ref:`wohngeld_params <wohngeld_params>`.<br><br>    Returns<br>    -------<br><br>    \"\"\"<br>    vorläufiges_eink = (1 - wohngeld_abzüge_m_tu) * (<br>        wohngeld_eink_vor_abzug_m_tu - wohngeld_eink_abzüge_m_tu<br>    )<br><br>    unteres_eink = wohngeld_params[\"min_eink\"][<br>        min(haushaltsgröße_hh, max(wohngeld_params[\"min_eink\"]))<br>    ]<br><br>    out = max(vorläufiges_eink, unteres_eink)<br>    return out<br>",
         "marker": {
          "color": "red",
          "reversescale": true,
          "showscale": false,
          "size": 15
         },
         "mode": "markers",
         "name": "wohngeld_eink_m",
         "showlegend": false,
         "text": "wohngeld_eink_m",
         "textposition": "bottom center",
         "type": "scatter",
         "uid": "06f6a071-10da-4671-bf65-b18a4e6e2135",
         "x": [
          0.5555555555555556
         ],
         "y": [
          -0.5654205607476636
         ]
        },
        {
         "hoverinfo": "text",
         "hoverlabel": {
          "bgcolor": "lightgrey",
          "font": {
           "color": "black"
          }
         },
         "hovertext": "def wohngeld_eink_vor_abzug_m_tu(<br>    eink_selbst_tu: float,<br>    eink_abhängig_beschäftigt_tu: float,<br>    kapitaleink_brutto_tu: float,<br>    eink_vermietung_tu: float,<br>    arbeitsl_geld_m_tu: float,<br>    sonstig_eink_m_tu: float,<br>    eink_rente_zu_verst_m_tu: float,<br>    unterhaltsvors_m_tu: float,<br>    elterngeld_m_tu: float,<br>) -> float:<br>    \"\"\"Sum gross incomes relevant for housing benefit calculation per tax unit.<br><br>    Parameters<br>    ----------<br>    eink_selbst_tu<br>        See :func:`_eink_selbst_tu`.<br>    eink_abhängig_beschäftigt_tu<br>        See :func:`eink_abhängig_beschäftigt_tu`.<br>    kapitaleink_brutto_tu<br>        See :func:`kapitaleink_brutto_tu`.<br>    eink_vermietung_tu<br>        See :func:`eink_vermietung_tu`.<br>    arbeitsl_geld_m_tu<br>        See :func:`arbeitsl_geld_m_tu`.<br>    sonstig_eink_m_tu<br>        See :func:`sonstig_eink_m_tu`.<br>    eink_rente_zu_verst_m_tu<br>        See :func:`eink_rente_zu_verst_m_tu`.<br>    unterhaltsvors_m_tu<br>        See :func:`unterhaltsvors_m_tu`.<br>    elterngeld_m_tu<br>        See :func:`elterngeld_m_tu`.<br><br>    Returns<br>    -------<br><br>    \"\"\"<br>    einkommen_tu = (<br>        eink_selbst_tu<br>        + eink_abhängig_beschäftigt_tu<br>        + kapitaleink_brutto_tu<br>        + eink_vermietung_tu<br>    ) / 12<br><br>    transfers_tu = (<br>        arbeitsl_geld_m_tu<br>        + eink_rente_zu_verst_m_tu<br>        + unterhaltsvors_m_tu<br>        + elterngeld_m_tu<br>    )<br><br>    return einkommen_tu + transfers_tu + sonstig_eink_m_tu<br>",
         "marker": {
          "color": "red",
          "reversescale": true,
          "showscale": false,
          "size": 15
         },
         "mode": "markers",
         "name": "wohngeld_eink_vor_abzug_m_tu",
         "showlegend": false,
         "text": "wohngeld_eink_vor_abzug_m_tu",
         "textposition": "bottom center",
         "type": "scatter",
         "uid": "6d2c25e7-ef18-441a-8bad-d2b24311cdc2",
         "x": [
          0.48148148148148145
         ],
         "y": [
          -0.5654205607476636
         ]
        },
        {
         "hoverinfo": "text",
         "hoverlabel": {
          "bgcolor": "lightgrey",
          "font": {
           "color": "black"
          }
         },
         "hovertext": "def wohngeld_m_hh(<br>    wohngeld_nach_vermög_check_m_hh: float,<br>    wohngeld_vorrang_hh: bool,<br>    wohngeld_kinderzuschl_vorrang_hh: bool,<br>    erwachsene_alle_rentner_hh: bool,<br>) -> float:<br>    \"\"\"Calculate final housing benefit per household.<br><br>    Parameters<br>    ----------<br>    wohngeld_nach_vermög_check_m_hh<br>        See :func:`wohngeld_nach_vermög_check_m_hh`.<br>    wohngeld_vorrang_hh<br>        See :func:`wohngeld_vorrang_hh`.<br>    wohngeld_kinderzuschl_vorrang_hh<br>        See :func:`wohngeld_kinderzuschl_vorrang_hh`.<br>    erwachsene_alle_rentner_hh<br>        See :func:`erwachsene_alle_rentner_hh`.<br><br>    Returns<br>    -------<br><br>    \"\"\"<br>    if (<br>        (not wohngeld_vorrang_hh)<br>        and (not wohngeld_kinderzuschl_vorrang_hh)<br>        or erwachsene_alle_rentner_hh<br>    ):<br>        out = 0.0<br>    else:<br>        out = wohngeld_nach_vermög_check_m_hh<br><br>    return out<br>",
         "marker": {
          "color": "red",
          "reversescale": true,
          "showscale": false,
          "size": 15
         },
         "mode": "markers",
         "name": "wohngeld_m_hh",
         "showlegend": false,
         "text": "wohngeld_m_hh",
         "textposition": "bottom center",
         "type": "scatter",
         "uid": "5cd2a6f1-fde9-49e3-a8d1-15aec695d659",
         "x": [
          1
         ],
         "y": [
          -0.028037383177570093
         ]
        },
        {
         "hoverinfo": "text",
         "hoverlabel": {
          "bgcolor": "lightgrey",
          "font": {
           "color": "black"
          }
         },
         "hovertext": "def wohngeld_vor_vermög_check_m_hh(<br>    haushaltsgröße_hh: int,<br>    wohngeld_eink_m: float,<br>    wohngeld_miete_m: float,<br>    wohngeld_params: dict,<br>) -> float:<br>    \"\"\"Calcualte preliminary housing benefit.<br><br>    Parameters<br>    ----------<br>    haushaltsgröße_hh<br>        See :func:`haushaltsgröße_hh`.<br>    wohngeld_eink_m<br>        See :func:`wohngeld_eink_m`.<br>    wohngeld_miete_m<br>        See :func:`wohngeld_miete_m`.<br>    wohngeld_params<br>        See params documentation :ref:`wohngeld_params <wohngeld_params>`.<br><br>    Returns<br>    -------<br><br>    \"\"\"<br>    max_considered_hh_größe = max(wohngeld_params[\"min_eink\"])<br><br>    koeffizienten = wohngeld_params[\"koeffizienten_berechnungsformel\"][<br>        min(haushaltsgröße_hh, max_considered_hh_größe)<br>    ]<br>    out = wohngeld_params[\"faktor_berechnungsformel\"] * (<br>        wohngeld_miete_m<br>        - (<br>            (<br>                koeffizienten[\"a\"]<br>                + (koeffizienten[\"b\"] * wohngeld_miete_m)<br>                + (koeffizienten[\"c\"] * wohngeld_eink_m)<br>            )<br>            * wohngeld_eink_m<br>        )<br>    )<br>    out = max(out, 0.0)<br><br>    if haushaltsgröße_hh > max_considered_hh_größe:<br>        # If more than 12 persons, there is a lump-sum on top.<br>        # The maximum is still capped at `wohngeld_miete_m`.<br>        out += wohngeld_params[\"bonus_12_mehr\"] * (<br>            haushaltsgröße_hh - max_considered_hh_größe<br>        )<br>        out = min(out, wohngeld_miete_m)<br><br>    return out<br>",
         "marker": {
          "color": "red",
          "reversescale": true,
          "showscale": false,
          "size": 15
         },
         "mode": "markers",
         "name": "wohngeld_vor_vermög_check_m_hh",
         "showlegend": false,
         "text": "wohngeld_vor_vermög_check_m_hh",
         "textposition": "bottom center",
         "type": "scatter",
         "uid": "13ce6b8c-723f-4678-ad33-4ac48d315347",
         "x": [
          0.7037037037037037
         ],
         "y": [
          -0.2850467289719626
         ]
        },
        {
         "hoverinfo": "text",
         "hoverlabel": {
          "bgcolor": "lightgrey",
          "font": {
           "color": "black"
          }
         },
         "hovertext": "def elterngeld_anteil_eink_erlass(<br>    elterngeld_eink_relev_m: float, elterngeld_params: dict<br>) -> float:<br>    \"\"\"Calculate the share of net income which is reimbursed when receiving elterngeld.<br><br>    According to § 2 (2) BEEG the percentage increases below the first step and<br>    decreases above the second step until prozent_minimum.<br><br>    # ToDo: Split this function up in a function before and after 2011. Before 2011 the<br>    # ToDo: replacement rate was not lowered for high incomes.<br><br>    Parameters<br>    ----------<br>    elterngeld_eink_relev_m<br>        See :func:`elterngeld_eink_relev_m`.<br>    elterngeld_params<br>        See params documentation :ref:`elterngeld_params <elterngeld_params>`.<br>    Returns<br>    -------<br><br>    \"\"\"<br><br>    # Higher replacement rate if considered income is below a threshold<br>    if (<br>        elterngeld_eink_relev_m<br>        < elterngeld_params[\"nettoeinkommen_stufen\"][\"lower_threshold\"]<br>    ):<br>        out = (<br>            elterngeld_params[\"nettoeinkommen_stufen\"][\"lower_threshold\"]<br>            - elterngeld_eink_relev_m<br>        ) / elterngeld_params[\"eink_schritt_korrektur\"] * elterngeld_params[<br>            \"prozent_korrektur\"<br>        ] + elterngeld_params[<br>            \"faktor\"<br>        ]<br><br>    # Lower replacement rate if considered income is above a threshold<br>    elif (<br>        elterngeld_eink_relev_m<br>        > elterngeld_params[\"nettoeinkommen_stufen\"][\"upper_threshold\"]<br>    ):<br>        out = (<br>            elterngeld_params[\"faktor\"]<br>            - (<br>                elterngeld_eink_relev_m<br>                - elterngeld_params[\"nettoeinkommen_stufen\"][\"upper_threshold\"]<br>            )<br>            / elterngeld_params[\"eink_schritt_korrektur\"]<br>        )<br><br>        # Replacement rate is only lowered up to a specific value<br>        out = max(out, elterngeld_params[\"prozent_minimum\"])<br>    else:<br>        out = elterngeld_params[\"faktor\"]<br><br>    return out<br>",
         "marker": {
          "color": "red",
          "reversescale": true,
          "showscale": false,
          "size": 15
         },
         "mode": "markers",
         "name": "elterngeld_anteil_eink_erlass",
         "showlegend": false,
         "text": "elterngeld_anteil_eink_erlass",
         "textposition": "bottom center",
         "type": "scatter",
         "uid": "3abf10d0-3064-477d-89c0-345ca4560c49",
         "x": [
          0.1111111111111111
         ],
         "y": [
          0.03271028037383177
         ]
        },
        {
         "hoverinfo": "text",
         "hoverlabel": {
          "bgcolor": "lightgrey",
          "font": {
           "color": "black"
          }
         },
         "hovertext": "def elterngeld_eink_erlass_m(<br>    elterngeld_eink_relev_m: float, elterngeld_anteil_eink_erlass: float<br>) -> float:<br>    \"\"\"Calculate base parental leave benefit.<br><br>    Parameters<br>    ----------<br>    elterngeld_eink_relev_m<br>        See :func:`elterngeld_eink_relev_m`.<br>    elterngeld_anteil_eink_erlass<br>        See :func:`elterngeld_anteil_eink_erlass`.<br><br>    Returns<br>    -------<br><br>    \"\"\"<br>    return elterngeld_eink_relev_m * elterngeld_anteil_eink_erlass<br>",
         "marker": {
          "color": "red",
          "reversescale": true,
          "showscale": false,
          "size": 15
         },
         "mode": "markers",
         "name": "elterngeld_eink_erlass_m",
         "showlegend": false,
         "text": "elterngeld_eink_erlass_m",
         "textposition": "bottom center",
         "type": "scatter",
         "uid": "db38dc48-ff4c-4762-b155-6b92686358a2",
         "x": [
          0.18518518518518517
         ],
         "y": [
          0.12149532710280374
         ]
        },
        {
         "hoverinfo": "text",
         "hoverlabel": {
          "bgcolor": "lightgrey",
          "font": {
           "color": "black"
          }
         },
         "hovertext": "def elterngeld_eink_relev_m(<br>    _elterngeld_proxy_eink_vorj_elterngeld_m: float,<br>    elterngeld_nettolohn_m: float,<br>) -> float:<br>    \"\"\"Calculating the relevant wage for the calculation of elterngeld.<br><br>    According to § 2 (1) BEEG elterngeld is calculated by the loss of income due to<br>    child raising.<br><br><br>    Parameters<br>    ----------<br>    _elterngeld_proxy_eink_vorj_elterngeld_m<br>        See :func:`_elterngeld_proxy_eink_vorj_elterngeld_m`.<br>    elterngeld_nettolohn_m<br>        See :func:`elterngeld_nettolohn_m`.<br><br>    Returns<br>    -------<br><br><br>    \"\"\"<br>    return _elterngeld_proxy_eink_vorj_elterngeld_m - elterngeld_nettolohn_m<br>",
         "marker": {
          "color": "red",
          "reversescale": true,
          "showscale": false,
          "size": 15
         },
         "mode": "markers",
         "name": "elterngeld_eink_relev_m",
         "showlegend": false,
         "text": "elterngeld_eink_relev_m",
         "textposition": "bottom center",
         "type": "scatter",
         "uid": "71e23d9f-0bef-4d07-ae98-286970e77bf9",
         "x": [
          0.037037037037037035
         ],
         "y": [
          0.3177570093457944
         ]
        },
        {
         "hoverinfo": "text",
         "hoverlabel": {
          "bgcolor": "lightgrey",
          "font": {
           "color": "black"
          }
         },
         "hovertext": "def elterngeld_geschw_bonus_m(<br>    elterngeld_eink_erlass_m: float,<br>    elterngeld_geschw_bonus_anspruch: bool,<br>    elterngeld_params: dict,<br>) -> float:<br>    \"\"\"Calculate the bonus for siblings.<br><br>    According to § 2a parents of siblings get a bonus.<br><br>    Parameters<br>    ----------<br>    elterngeld_eink_erlass_m<br>        See :func:`elterngeld_eink_erlass_m`.<br>    elterngeld_geschw_bonus_anspruch<br>        See :func:`elterngeld_geschw_bonus_anspruch`.<br>    elterngeld_params<br>        See params documentation :ref:`elterngeld_params <elterngeld_params>`.<br><br>    Returns<br>    -------<br><br>    \"\"\"<br>    if elterngeld_geschw_bonus_anspruch:<br>        out = max(<br>            elterngeld_params[\"geschw_bonus_aufschlag\"] * elterngeld_eink_erlass_m,<br>            elterngeld_params[\"geschw_bonus_minimum\"],<br>        )<br>    else:<br>        out = 0.0<br>    return out<br>",
         "marker": {
          "color": "red",
          "reversescale": true,
          "showscale": false,
          "size": 15
         },
         "mode": "markers",
         "name": "elterngeld_geschw_bonus_m",
         "showlegend": false,
         "text": "elterngeld_geschw_bonus_m",
         "textposition": "bottom center",
         "type": "scatter",
         "uid": "1b80c278-27de-411e-a773-57ba55464c08",
         "x": [
          0.25925925925925924
         ],
         "y": [
          0.03271028037383177
         ]
        },
        {
         "hoverinfo": "text",
         "hoverlabel": {
          "bgcolor": "lightgrey",
          "font": {
           "color": "black"
          }
         },
         "hovertext": "def elterngeld_m(<br>    elterngeld_eink_relev_m: float,<br>    elternzeit_anspruch: bool,<br>    elterngeld_eink_erlass_m: float,<br>    elterngeld_geschw_bonus_m: float,<br>    elterngeld_mehrlinge_bonus_m: float,<br>    elterngeld_params: dict,<br>) -> float:<br>    \"\"\"Calculate parental leave benefit (elterngeld).<br><br>    For the calculation, the relevant wage and the eligibility for bonuses is needed.<br><br>    Parameters<br>    ----------<br>    elterngeld_eink_relev_m<br>        See :func:`elterngeld_eink_relev_m`.<br>    elternzeit_anspruch<br>        See :func:`elternzeit_anspruch`.<br>    elterngeld_eink_erlass_m<br>        See :func:`elterngeld_eink_erlass_m`.<br>    elterngeld_geschw_bonus_m<br>        See :func:`elterngeld_geschw_bonus_m`.<br>    elterngeld_mehrlinge_bonus_m<br>        See :func:`elterngeld_mehrlinge_bonus_m`.<br>    elterngeld_params<br>        See params documentation :ref:`elterngeld_params <elterngeld_params>`.<br><br>    Returns<br>    -------<br><br>    \"\"\"<br><br>    if (elterngeld_eink_relev_m < 0) or (not elternzeit_anspruch):<br>        out = 0.0<br>    else:<br>        # Bound from above and below<br>        elterngeld_eink_erlass_m = min(<br>            max(elterngeld_eink_erlass_m, elterngeld_params[\"mindestbetrag\"]),<br>            elterngeld_params[\"höchstbetrag\"],<br>        )<br><br>        out = (<br>            elterngeld_eink_erlass_m<br>            + elterngeld_geschw_bonus_m<br>            + elterngeld_mehrlinge_bonus_m<br>        )<br><br>    return out<br>",
         "marker": {
          "color": "red",
          "reversescale": true,
          "showscale": false,
          "size": 15
         },
         "mode": "markers",
         "name": "elterngeld_m",
         "showlegend": false,
         "text": "elterngeld_m",
         "textposition": "bottom center",
         "type": "scatter",
         "uid": "259c0884-c49e-4978-b38e-741191ba5316",
         "x": [
          0.3333333333333333
         ],
         "y": [
          0.3364485981308411
         ]
        },
        {
         "hoverinfo": "text",
         "hoverlabel": {
          "bgcolor": "lightgrey",
          "font": {
           "color": "black"
          }
         },
         "hovertext": "def elterngeld_nettolohn_m(<br>    bruttolohn_m: float,<br>    eink_st_tu: float,<br>    soli_st_tu: float,<br>    anz_erwachsene_tu: int,<br>    sozialv_beitr_gesamt_m: float,<br>) -> float:<br>    \"\"\"Calculate the net wage.<br><br>    Taxes and social insurance contributions are needed for the calculation.<br><br><br>    Parameters<br>    ----------<br>    bruttolohn_m<br>        See basic input variable :ref:`bruttolohn_m <bruttolohn_m>`.<br>    eink_st_tu<br>        See :func:`eink_st_tu`.<br>    soli_st_tu<br>        See :func:`soli_st_tu`.<br>    anz_erwachsene_tu<br>        See :func:`anz_erwachsene_tu`.<br>    sozialv_beitr_gesamt_m<br>        See :func:`sozialv_beitr_gesamt_m`.<br><br>    Returns<br>    -------<br><br>    \"\"\"<br>    out = (<br>        bruttolohn_m<br>        - (eink_st_tu / anz_erwachsene_tu / 12)<br>        - (soli_st_tu / anz_erwachsene_tu / 12)<br>        - sozialv_beitr_gesamt_m<br>    )<br><br>    return max(out, 0.0)<br>",
         "marker": {
          "color": "red",
          "reversescale": true,
          "showscale": false,
          "size": 15
         },
         "mode": "markers",
         "name": "elterngeld_nettolohn_m",
         "showlegend": false,
         "text": "elterngeld_nettolohn_m",
         "textposition": "bottom center",
         "type": "scatter",
         "uid": "14a8e484-e3d5-4c2e-8a40-d0df254b21e4",
         "x": [
          -0.037037037037037035
         ],
         "y": [
          0.5654205607476636
         ]
        },
        {
         "hoverinfo": "text",
         "hoverlabel": {
          "bgcolor": "lightgrey",
          "font": {
           "color": "black"
          }
         },
         "hovertext": "def grunds_im_alter_eink_m(<br>    grunds_im_alter_erwerbseink_m: float,<br>    grunds_im_alter_priv_rente_m: float,<br>    grunds_im_alter_ges_rente_m: float,<br>    sonstig_eink_m: float,<br>    eink_vermietung_m: float,<br>    _grunds_im_alter_kapitaleink_brutto_m: float,<br>    elterngeld_m: float,<br>    eink_st_tu: float,<br>    soli_st_tu: float,<br>    anz_erwachsene_tu: int,<br>    sozialv_beitr_gesamt_m: float,<br>    grunds_im_alter_params: dict,<br>) -> float:<br>    \"\"\"Calculate income considered in the calculation of Grundsicherung im<br>    Alter.<br><br>    Parameters<br>    ----------<br>    grunds_im_alter_erwerbseink_m<br>        See :func:`grunds_im_alter_erwerbseink_m`.<br>    grunds_im_alter_priv_rente_m<br>        See :func:`grunds_im_alter_priv_rente_m`.<br>    grunds_im_alter_ges_rente_m<br>        See :func:`grunds_im_alter_ges_rente_m`.<br>    sonstig_eink_m<br>        See :func:`sonstig_eink_m`.<br>    eink_vermietung_m<br>        See :func:`eink_vermietung_m`.<br>    _grunds_im_alter_kapitaleink_brutto_m<br>        See :func:`_grunds_im_alter_kapitaleink_brutto_m`.<br>    elterngeld_m<br>        See :func:`elterngeld_m`.<br>    eink_st_tu<br>        See :func:`eink_st_tu`.<br>    soli_st_tu<br>        See :func:`soli_st_tu`.<br>    anz_erwachsene_tu<br>        See :func:`anz_erwachsene_tu`.<br>    sozialv_beitr_gesamt_m<br>        See :func:`sozialv_beitr_gesamt_m`.<br>    grunds_im_alter_params<br>        See params documentation<br>        :ref:`grunds_im_alter_params <grunds_im_alter_params>`.<br><br>    Returns<br>    -------<br><br>    \"\"\"<br><br>    # Consider Elterngeld that is larger than 300<br>    elterngeld_grunds_im_alter_m = max(<br>        0.0, elterngeld_m - grunds_im_alter_params[\"elterngeld_anr_frei\"]<br>    )<br><br>    # Income<br>    total_income = (<br>        grunds_im_alter_erwerbseink_m<br>        + grunds_im_alter_ges_rente_m<br>        + grunds_im_alter_priv_rente_m<br>        + sonstig_eink_m<br>        + eink_vermietung_m<br>        + _grunds_im_alter_kapitaleink_brutto_m<br>        + elterngeld_grunds_im_alter_m<br>    )<br><br>    # subtract taxes and social insurance contributions<br>    # TODO: Change this to lohn_steuer<br>    out = (<br>        total_income<br>        - (eink_st_tu / anz_erwachsene_tu / 12)<br>        - (soli_st_tu / anz_erwachsene_tu / 12)<br>        - sozialv_beitr_gesamt_m<br>    )<br><br>    return max(out, 0.0)<br>",
         "marker": {
          "color": "red",
          "reversescale": true,
          "showscale": false,
          "size": 15
         },
         "mode": "markers",
         "name": "grunds_im_alter_eink_m",
         "showlegend": false,
         "text": "grunds_im_alter_eink_m",
         "textposition": "bottom center",
         "type": "scatter",
         "uid": "503a1ac3-d2ee-40f9-a967-a7d7b8416387",
         "x": [
          0.4074074074074074
         ],
         "y": [
          0.3925233644859813
         ]
        },
        {
         "hoverinfo": "text",
         "hoverlabel": {
          "bgcolor": "lightgrey",
          "font": {
           "color": "black"
          }
         },
         "hovertext": "def grunds_im_alter_m_hh(<br>    arbeitsl_geld_2_regelbedarf_m_hh: float,<br>    _grunds_im_alter_mehrbedarf_schwerbeh_g_m_hh: float,<br>    kindergeld_m_hh: float,<br>    unterhaltsvors_m_hh: float,<br>    grunds_im_alter_eink_m_hh: float,<br>    erwachsene_alle_rentner_hh: bool,<br>    vermögen_hh: float,<br>    grunds_im_alter_vermög_freib_hh: float,<br>) -> float:<br>    \"\"\"Calculate Grundsicherung im Alter on household level.<br><br>    # ToDo: There is no check for Wohngeld included as Wohngeld is<br>    # ToDo: currently not implemented for retirees.<br><br>    # ToDo: Grundsicherung im Alter is only paid if all adults in the household<br>    # ToDo: are retired. Other households get ALG 2 (This is a simplification by<br>    # ToDo: GETTSIM)<br><br>    Parameters<br>    ----------<br>    arbeitsl_geld_2_regelbedarf_m_hh<br>        See :func:`arbeitsl_geld_2_regelbedarf_m_hh`.<br>    _grunds_im_alter_mehrbedarf_schwerbeh_g_m_hh<br>        See :func:`_grunds_im_alter_mehrbedarf_schwerbeh_g_m_hh`.<br>    kindergeld_m_hh<br>        See :func:`kindergeld_m_hh`.<br>    unterhaltsvors_m_hh<br>        See :func:`unterhaltsvors_m_hh`.<br>    grunds_im_alter_eink_m_hh<br>        See :func:`grunds_im_alter_eink_m_hh`.<br>    erwachsene_alle_rentner_hh<br>        See :func:`erwachsene_alle_rentner_hh`.<br>    vermögen_hh<br>        See basic input variable :ref:`vermögen_hh`.<br>    grunds_im_alter_vermög_freib_hh<br>        See :func:`grunds_im_alter_vermög_freib_hh`.<br>    Returns<br>    -------<br><br>    \"\"\"<br><br>    # Wealth check<br>    # Only pay Grundsicherung im Alter if all adults are retired (see docstring)<br>    if (vermögen_hh >= grunds_im_alter_vermög_freib_hh) or (<br>        not erwachsene_alle_rentner_hh<br>    ):<br>        out = 0.0<br>    else:<br>        # Subtract income<br>        out = (<br>            arbeitsl_geld_2_regelbedarf_m_hh<br>            + _grunds_im_alter_mehrbedarf_schwerbeh_g_m_hh<br>            - grunds_im_alter_eink_m_hh<br>            - unterhaltsvors_m_hh<br>            - kindergeld_m_hh<br>        )<br>        out = max(out, 0.0)<br><br>    return out<br>",
         "marker": {
          "color": "red",
          "reversescale": true,
          "showscale": false,
          "size": 15
         },
         "mode": "markers",
         "name": "grunds_im_alter_m_hh",
         "showlegend": false,
         "text": "grunds_im_alter_m_hh",
         "textposition": "bottom center",
         "type": "scatter",
         "uid": "9f3f4c21-af27-4d42-a153-35fbc75cbc5e",
         "x": [
          0.5555555555555556
         ],
         "y": [
          0.4485981308411215
         ]
        },
        {
         "hoverinfo": "text",
         "hoverlabel": {
          "bgcolor": "lightgrey",
          "font": {
           "color": "black"
          }
         },
         "hovertext": "def _kinderzuschl_nach_vermög_check_m_hh(<br>    _kinderzuschl_vor_vermög_check_m_hh: float,<br>    vermögen_hh: float,<br>    arbeitsl_geld_2_vermög_freib_hh: float,<br>) -> float:<br>    \"\"\"Set preliminary child benefit to zero if it exceeds the wealth exemption.<br><br>    Parameters<br>    ----------<br>    _kinderzuschl_vor_vermög_check_m_hh<br>        See :func:`_kinderzuschl_vor_vermög_check_m_hh`.<br>    vermögen_hh<br>        See basic input variable :ref:`vermögen_hh <vermögen_hh>`.<br>    arbeitsl_geld_2_vermög_freib_hh<br>        See :func:`arbeitsl_geld_2_vermög_freib_hh`.<br><br>    Returns<br>    -------<br><br>    \"\"\"<br><br>    if vermögen_hh > arbeitsl_geld_2_vermög_freib_hh:<br>        out = 0.0<br>    else:<br>        out = _kinderzuschl_vor_vermög_check_m_hh<br>    return out<br>",
         "marker": {
          "color": "red",
          "reversescale": true,
          "showscale": false,
          "size": 15
         },
         "mode": "markers",
         "name": "_kinderzuschl_nach_vermög_check_m_hh",
         "showlegend": false,
         "text": "_kinderzuschl_nach_vermög_check_m_hh",
         "textposition": "bottom center",
         "type": "scatter",
         "uid": "ee494df6-1ea6-431a-8ae2-ce9ad619bad6",
         "x": [
          0.8518518518518519
         ],
         "y": [
          0.9065420560747663
         ]
        },
        {
         "hoverinfo": "text",
         "hoverlabel": {
          "bgcolor": "lightgrey",
          "font": {
           "color": "black"
          }
         },
         "hovertext": "def wohngeld_nach_vermög_check_m_hh(<br>    wohngeld_vor_vermög_check_m_hh: float,<br>    vermögen_hh: float,<br>    haushaltsgröße_hh: int,<br>    wohngeld_params: dict,<br>) -> float:<br>    \"\"\"Set preliminary housing benefit to zero if it exceeds the wealth exemption.<br><br>    The payment depends on the wealth of the household and the number of household<br>    members.<br><br>    Parameters<br>    ----------<br>    wohngeld_vor_vermög_check_m_hh<br>        See :func:`wohngeld_vor_vermög_check_m_hh`.<br>    vermögen_hh<br>        See basic input variable :ref:`vermögen_hh <vermögen_hh>`.<br>    haushaltsgröße_hh<br>        See :func:`haushaltsgröße_hh`.<br>    wohngeld_params<br>        See params documentation :ref:`wohngeld_params <wohngeld_params>`.<br><br>    Returns<br>    -------<br><br>    \"\"\"<br><br>    if vermögen_hh <= (<br>        wohngeld_params[\"vermögensgrundfreibetrag\"]<br>        + (wohngeld_params[\"vermögensfreibetrag_pers\"] * (haushaltsgröße_hh - 1))<br>    ):<br>        out = wohngeld_vor_vermög_check_m_hh<br>    else:<br>        out = 0.0<br><br>    return out<br>",
         "marker": {
          "color": "red",
          "reversescale": true,
          "showscale": false,
          "size": 15
         },
         "mode": "markers",
         "name": "wohngeld_nach_vermög_check_m_hh",
         "showlegend": false,
         "text": "wohngeld_nach_vermög_check_m_hh",
         "textposition": "bottom center",
         "type": "scatter",
         "uid": "64e47aa4-3d1c-4d02-ad70-b381801dfd28",
         "x": [
          0.8518518518518519
         ],
         "y": [
          -0.1588785046728972
         ]
        },
        {
         "hoverinfo": "text",
         "hoverlabel": {
          "bgcolor": "lightgrey",
          "font": {
           "color": "black"
          }
         },
         "hovertext": "def kinderzuschl_vorrang_hh(<br>    _kinderzuschl_nach_vermög_check_m_hh: float,<br>    arbeitsl_geld_2_vor_vorrang_m_hh: float,<br>) -> bool:<br>    \"\"\"Check if child benefit has priority.<br><br>    Parameters<br>    ----------<br>    _kinderzuschl_nach_vermög_check_m_hh<br>        See :func:`_kinderzuschl_nach_vermög_check_m_hh`.<br>    arbeitsl_geld_2_vor_vorrang_m_hh<br>        See :func:`arbeitsl_geld_2_vor_vorrang_m_hh`.<br><br>    Returns<br>    -------<br><br>    \"\"\"<br>    return _kinderzuschl_nach_vermög_check_m_hh >= arbeitsl_geld_2_vor_vorrang_m_hh<br>",
         "marker": {
          "color": "red",
          "reversescale": true,
          "showscale": false,
          "size": 15
         },
         "mode": "markers",
         "name": "kinderzuschl_vorrang_hh",
         "showlegend": false,
         "text": "kinderzuschl_vorrang_hh",
         "textposition": "bottom center",
         "type": "scatter",
         "uid": "683c4329-08a3-43b9-90b1-1edf875b7906",
         "x": [
          0.9259259259259259
         ],
         "y": [
          0.822429906542056
         ]
        },
        {
         "hoverinfo": "text",
         "hoverlabel": {
          "bgcolor": "lightgrey",
          "font": {
           "color": "black"
          }
         },
         "hovertext": "def wohngeld_kinderzuschl_vorrang_hh(<br>    wohngeld_nach_vermög_check_m_hh: float,<br>    _kinderzuschl_nach_vermög_check_m_hh: float,<br>    arbeitsl_geld_2_vor_vorrang_m_hh: float,<br>) -> bool:<br>    \"\"\"Check if housing and child benefit have priority.<br><br>    Parameters<br>    ----------<br>    wohngeld_nach_vermög_check_m_hh<br>        See :func:`wohngeld_nach_vermög_check_m_hh`.<br>    _kinderzuschl_nach_vermög_check_m_hh<br>        See :func:`_kinderzuschl_nach_vermög_check_m_hh`.<br>    arbeitsl_geld_2_vor_vorrang_m_hh<br>        See :func:`arbeitsl_geld_2_vor_vorrang_m_hh`.<br><br>    Returns<br>    -------<br><br>    \"\"\"<br>    sum_wohngeld_kinderzuschl = (<br>        wohngeld_nach_vermög_check_m_hh + _kinderzuschl_nach_vermög_check_m_hh<br>    )<br>    return sum_wohngeld_kinderzuschl >= arbeitsl_geld_2_vor_vorrang_m_hh<br>",
         "marker": {
          "color": "red",
          "reversescale": true,
          "showscale": false,
          "size": 15
         },
         "mode": "markers",
         "name": "wohngeld_kinderzuschl_vorrang_hh",
         "showlegend": false,
         "text": "wohngeld_kinderzuschl_vorrang_hh",
         "textposition": "bottom center",
         "type": "scatter",
         "uid": "1bb48cf1-4d89-4d98-87a5-731493381250",
         "x": [
          0.9259259259259259
         ],
         "y": [
          0.308411214953271
         ]
        },
        {
         "hoverinfo": "text",
         "hoverlabel": {
          "bgcolor": "lightgrey",
          "font": {
           "color": "black"
          }
         },
         "hovertext": "def wohngeld_vorrang_hh(<br>    wohngeld_nach_vermög_check_m_hh: float,<br>    arbeitsl_geld_2_vor_vorrang_m_hh: float,<br>) -> bool:<br>    \"\"\"Check if housing benefit has priority.<br><br>    Parameters<br>    ----------<br>    wohngeld_nach_vermög_check_m_hh<br>        See :func:`wohngeld_nach_vermög_check_m_hh`.<br>    arbeitsl_geld_2_vor_vorrang_m_hh<br>        See :func:`arbeitsl_geld_2_vor_vorrang_m_hh`.<br><br>    Returns<br>    -------<br><br>    \"\"\"<br>    return wohngeld_nach_vermög_check_m_hh >= arbeitsl_geld_2_vor_vorrang_m_hh<br>",
         "marker": {
          "color": "red",
          "reversescale": true,
          "showscale": false,
          "size": 15
         },
         "mode": "markers",
         "name": "wohngeld_vorrang_hh",
         "showlegend": false,
         "text": "wohngeld_vorrang_hh",
         "textposition": "bottom center",
         "type": "scatter",
         "uid": "10afcdb8-5078-475a-8e84-4bcb3d75e472",
         "x": [
          0.9259259259259259
         ],
         "y": [
          -0.028037383177570093
         ]
        },
        {
         "hoverinfo": "text",
         "hoverlabel": {
          "bgcolor": "lightgrey",
          "font": {
           "color": "black"
          }
         },
         "hovertext": "def arbeitsl_geld_2_m_hh(<br>    arbeitsl_geld_2_vor_vorrang_m_hh: float,<br>    wohngeld_vorrang_hh: bool,<br>    kinderzuschl_vorrang_hh: bool,<br>    wohngeld_kinderzuschl_vorrang_hh: bool,<br>    erwachsene_alle_rentner_hh: bool,<br>) -> float:<br><br>    \"\"\"Calculate final monthly subsistence payment on household level.<br><br>    Parameters<br>    ----------<br>    arbeitsl_geld_2_vor_vorrang_m_hh<br>        See :func:`arbeitsl_geld_2_vor_vorrang_m_hh`.<br>    wohngeld_vorrang_hh<br>        See :func:`wohngeld_vorrang_hh`.<br>    kinderzuschl_vorrang_hh<br>        See :func:`kinderzuschl_vorrang_hh`.<br>    wohngeld_kinderzuschl_vorrang_hh<br>        See :func:`wohngeld_kinderzuschl_vorrang_hh`.<br>    erwachsene_alle_rentner_hh<br>        See :func:`erwachsene_alle_rentner_hh   `.<br><br>    Returns<br>    -------<br>    float with the income by unemployment insurance per household.<br>    \"\"\"<br>    if (<br>        wohngeld_vorrang_hh<br>        or kinderzuschl_vorrang_hh<br>        or wohngeld_kinderzuschl_vorrang_hh<br>        or erwachsene_alle_rentner_hh<br>    ):<br>        out = 0.0<br>    else:<br>        out = arbeitsl_geld_2_vor_vorrang_m_hh<br><br>    return out<br>",
         "marker": {
          "color": "red",
          "reversescale": true,
          "showscale": false,
          "size": 15
         },
         "mode": "markers",
         "name": "arbeitsl_geld_2_m_hh",
         "showlegend": false,
         "text": "arbeitsl_geld_2_m_hh",
         "textposition": "bottom center",
         "type": "scatter",
         "uid": "14bd1542-a615-469c-87fb-316cb990bb33",
         "x": [
          1
         ],
         "y": [
          0.397196261682243
         ]
        },
        {
         "hoverinfo": "text",
         "hoverlabel": {
          "bgcolor": "lightgrey",
          "font": {
           "color": "black"
          }
         },
         "hovertext": "def arbeitsl_geld_2_vor_vorrang_m_hh(<br>    arbeitsl_geld_2_regelbedarf_m_hh: float,<br>    kindergeld_m_hh: float,<br>    unterhaltsvors_m_hh: float,<br>    arbeitsl_geld_2_eink_m_hh: float,<br>    vermögen_hh: float,<br>    arbeitsl_geld_2_vermög_freib_hh: float,<br>) -> float:<br>    \"\"\"Calculate potential basic subsistence (after income deduction and<br>    wealth check).<br><br>    Parameters<br>    ----------<br>    arbeitsl_geld_2_regelbedarf_m_hh<br>        See :func:`arbeitsl_geld_2_regelbedarf_m_hh`.<br>    kindergeld_m_hh<br>        See :func:`kindergeld_m_hh`.<br>    unterhaltsvors_m_hh<br>        See :func:`unterhaltsvors_m_hh`.<br>    arbeitsl_geld_2_eink_m_hh<br>        See :func:`arbeitsl_geld_2_eink_m_hh`.<br>    arbeitsl_geld_2_vermög_freib_hh<br>        See :func:`arbeitsl_geld_2_vermög_freib_hh`.<br>    vermögen_hh<br>        See basic input variable :ref:`vermögen_hh <vermögen_hh>`.<br><br>    Returns<br>    -------<br><br>    \"\"\"<br><br>    # Check wealth exemption<br>    if vermögen_hh > arbeitsl_geld_2_vermög_freib_hh:<br>        out = 0.0<br>    else:<br>        # Deduct income from various sources<br>        out = (<br>            arbeitsl_geld_2_regelbedarf_m_hh<br>            - arbeitsl_geld_2_eink_m_hh<br>            - unterhaltsvors_m_hh<br>            - kindergeld_m_hh<br>        )<br>        out = max(out, 0.0)<br><br>    return out<br>",
         "marker": {
          "color": "red",
          "reversescale": true,
          "showscale": false,
          "size": 15
         },
         "mode": "markers",
         "name": "arbeitsl_geld_2_vor_vorrang_m_hh",
         "showlegend": false,
         "text": "arbeitsl_geld_2_vor_vorrang_m_hh",
         "textposition": "bottom center",
         "type": "scatter",
         "uid": "6499f610-6eb0-484f-8efb-1dc9861d926a",
         "x": [
          0.8518518518518519
         ],
         "y": [
          0.48598130841121495
         ]
        },
        {
         "hoverinfo": "text",
         "hoverlabel": {
          "bgcolor": "lightgrey",
          "font": {
           "color": "black"
          }
         },
         "hovertext": "def arbeitsl_geld_2_brutto_eink_m(<br>    bruttolohn_m: float,<br>    sonstig_eink_m: float,<br>    eink_selbst_m: float,<br>    eink_vermietung_m: float,<br>    kapitaleink_brutto_m: float,<br>    sum_ges_rente_priv_rente_m: float,<br>    arbeitsl_geld_m: float,<br>    elterngeld_m: float,<br>) -> float:<br><br>    \"\"\"Sum up the income before tax for calculation of basic subsistence.<br><br>    Parameters<br>    ----------<br>    bruttolohn_m<br>        See basic input variable :ref:`hh_id <hh_id>`.<br>    sonstig_eink_m<br>        See basic input variable :ref:`sonstig_eink_m <sonstig_eink_m>`.<br>    eink_selbst_m<br>        See basic input variable :ref:`eink_selbst_m <eink_selbst_m>`.<br>    eink_vermietung_m<br>        See basic input variable :ref:`eink_vermietung_m <eink_vermietung_m>`.<br>    kapitaleink_brutto_m<br>        See basic input variable :ref:`kapitaleink_brutto_m <kapitaleink_brutto_m>`.<br>    sum_ges_rente_priv_rente_m<br>        See basic input variable :ref:`sum_ges_rente_priv_rente_m<br>        <sum_ges_rente_priv_rente_m>`.<br>    arbeitsl_geld_m<br>        See :func:`arbeitsl_geld_m`.<br>    elterngeld_m<br>        See :func:`elterngeld_m`.<br><br>    Returns<br>    -------<br>    Income by unemployment insurance before tax.<br>    \"\"\"<br>    out = (<br>        bruttolohn_m<br>        + sonstig_eink_m<br>        + eink_selbst_m<br>        + eink_vermietung_m<br>        + kapitaleink_brutto_m<br>        + sum_ges_rente_priv_rente_m<br>        + arbeitsl_geld_m<br>        + elterngeld_m<br>    )<br><br>    return out<br>",
         "marker": {
          "color": "red",
          "reversescale": true,
          "showscale": false,
          "size": 15
         },
         "mode": "markers",
         "name": "arbeitsl_geld_2_brutto_eink_m",
         "showlegend": false,
         "text": "arbeitsl_geld_2_brutto_eink_m",
         "textposition": "bottom center",
         "type": "scatter",
         "uid": "67fee041-4127-4c09-bdf0-c8b01fcfd34b",
         "x": [
          0.4074074074074074
         ],
         "y": [
          0.7289719626168224
         ]
        },
        {
         "hoverinfo": "text",
         "hoverlabel": {
          "bgcolor": "lightgrey",
          "font": {
           "color": "black"
          }
         },
         "hovertext": "def arbeitsl_geld_2_eink_m(<br>    arbeitsl_geld_2_brutto_eink_m: float,<br>    eink_st_tu: float,<br>    soli_st_tu: float,<br>    anz_erwachsene_tu: int,<br>    sozialv_beitr_gesamt_m: float,<br>    arbeitsl_geld_2_eink_anr_frei_m: float,<br>) -> float:<br><br>    \"\"\"Sum up the income for calculation of basic subsistence.<br><br>    Parameters<br>    ----------<br>    arbeitsl_geld_2_brutto_eink_m<br>        See :func:`arbeitsl_geld_2_eink_m`.<br>    sozialv_beitr_gesamt_m<br>        See :func:`sozialv_beitr_gesamt_m`.<br>    eink_st_tu<br>        See :func:`eink_st_tu`.<br>    soli_st_tu<br>        See :func:`soli_st_tu`.<br>    anz_erwachsene_tu<br>        See :func:`anz_erwachsene_tu`.<br>    arbeitsl_geld_2_eink_anr_frei_m<br>        See :func:`arbeitsl_geld_2_eink_anr_frei_m`.<br><br>    Returns<br>    -------<br>    Income of a person by unemployment insurance.<br>    \"\"\"<br><br>    out = (<br>        arbeitsl_geld_2_brutto_eink_m<br>        - (eink_st_tu / anz_erwachsene_tu / 12)<br>        - (soli_st_tu / anz_erwachsene_tu / 12)<br>        - sozialv_beitr_gesamt_m<br>        - arbeitsl_geld_2_eink_anr_frei_m<br>    )<br><br>    return max(out, 0.0)<br>",
         "marker": {
          "color": "red",
          "reversescale": true,
          "showscale": false,
          "size": 15
         },
         "mode": "markers",
         "name": "arbeitsl_geld_2_eink_m",
         "showlegend": false,
         "text": "arbeitsl_geld_2_eink_m",
         "textposition": "bottom center",
         "type": "scatter",
         "uid": "a2f68558-f3c7-4750-8d69-17230dde6b82",
         "x": [
          0.48148148148148145
         ],
         "y": [
          1
         ]
        },
        {
         "hoverinfo": "text",
         "hoverlabel": {
          "bgcolor": "lightgrey",
          "font": {
           "color": "black"
          }
         },
         "hovertext": "def kinderzuschl_eink_anrechn_m(<br>    arbeitsl_geld_2_eink_m_hh: float,<br>    kinderzuschl_eink_relev_m: float,<br>    kinderzuschl_params: dict,<br>) -> float:<br>    \"\"\"Calculate parental income subtracted from child benefit.<br><br>    (§6a (6) S. 3 BKGG)<br><br>    Parameters<br>    ----------<br>    arbeitsl_geld_2_eink_m_hh<br>        See :func:`arbeitsl_geld_2_eink_m_hh`.<br>    kinderzuschl_eink_relev_m<br>        See :func:`kinderzuschl_eink_relev_m`.<br>    kinderzuschl_params<br>        See params documentation :ref:`kinderzuschl_params <kinderzuschl_params>`.<br><br>    Returns<br>    -------<br><br>    \"\"\"<br>    out = kinderzuschl_params[\"entzugsrate_eltern\"] * (<br>        arbeitsl_geld_2_eink_m_hh - kinderzuschl_eink_relev_m<br>    )<br><br>    return max(out, 0.0)<br>",
         "marker": {
          "color": "red",
          "reversescale": true,
          "showscale": false,
          "size": 15
         },
         "mode": "markers",
         "name": "kinderzuschl_eink_anrechn_m",
         "showlegend": false,
         "text": "kinderzuschl_eink_anrechn_m",
         "textposition": "bottom center",
         "type": "scatter",
         "uid": "2cdc4150-b894-4f6f-927c-c41ef289fe9d",
         "x": [
          0.6296296296296297
         ],
         "y": [
          0.985981308411215
         ]
        },
        {
         "hoverinfo": "text",
         "hoverlabel": {
          "bgcolor": "lightgrey",
          "font": {
           "color": "black"
          }
         },
         "hovertext": "def kinderzuschl_m_hh(<br>    _kinderzuschl_nach_vermög_check_m_hh: float,<br>    kinderzuschl_vorrang_hh: bool,<br>    wohngeld_kinderzuschl_vorrang_hh: bool,<br>    anz_rentner_hh: int,<br>) -> float:<br>    \"\"\"Aggregate child benefit on household level.<br><br>    Parameters<br>    ----------<br>    _kinderzuschl_nach_vermög_check_m_hh<br>        See :func:`_kinderzuschl_nach_vermög_check_m_hh`.<br>    kinderzuschl_vorrang_hh<br>        See :func:`kinderzuschl_vorrang_hh`.<br>    wohngeld_kinderzuschl_vorrang_hh<br>        See :func:`wohngeld_kinderzuschl_vorrang_hh`.<br>    anz_rentner_hh<br>        See :func:`anz_rentner_hh`.<br><br>    Returns<br>    -------<br><br>    \"\"\"<br>    if ((not kinderzuschl_vorrang_hh) and (not wohngeld_kinderzuschl_vorrang_hh)) or (<br>        anz_rentner_hh > 0<br>    ):<br>        out = 0.0<br>    else:<br>        out = _kinderzuschl_nach_vermög_check_m_hh<br><br>    return out<br>",
         "marker": {
          "color": "red",
          "reversescale": true,
          "showscale": false,
          "size": 15
         },
         "mode": "markers",
         "name": "kinderzuschl_m_hh",
         "showlegend": false,
         "text": "kinderzuschl_m_hh",
         "textposition": "bottom center",
         "type": "scatter",
         "uid": "5a08fc23-cfb5-466c-bde2-e28c90f87bea",
         "x": [
          1
         ],
         "y": [
          0.822429906542056
         ]
        },
        {
         "hoverinfo": "text",
         "hoverlabel": {
          "bgcolor": "lightgrey",
          "font": {
           "color": "black"
          }
         },
         "hovertext": "def soli_st_tu(<br>    eink_st_mit_kinderfreib_tu: float,<br>    anz_erwachsene_tu: int,<br>    abgelt_st_tu: float,<br>    soli_st_params: dict,<br>) -> float:<br>    \"\"\"Calculate the Solidarity Surcharge.<br><br>    Solidaritätszuschlaggesetz (SolZG) in 1991 and 1992.<br>    Solidaritätszuschlaggesetz 1995 (SolZG 1995) since 1995.<br><br>    The Solidarity Surcharge is an additional tax on top of the income tax which<br>    is the tax base. As opposed to the 'standard' income tax, child allowance is<br>    always deducted for tax base calculation.<br><br>    There is also Solidarity Surcharge on the Capital Income Tax, but always<br>    with Solidarity Surcharge tax rate and no tax exempt level. §3 (3) S.2<br>    SolzG 1995.<br><br>    Parameters<br>    ----------<br>    eink_st_mit_kinderfreib_tu<br>        See :func:`eink_st_mit_kinderfreib_tu`.<br>    anz_erwachsene_tu<br>        See :func:`anz_erwachsene_tu`.<br>    abgelt_st_tu<br>        See :func:`abgelt_st_tu`.<br>    soli_st_params<br>        See params documentation :ref:`soli_st_params <soli_st_params>`.<br><br>    Returns<br>    -------<br><br>    \"\"\"<br>    eink_st_per_individual = eink_st_mit_kinderfreib_tu / anz_erwachsene_tu<br>    out = (<br>        anz_erwachsene_tu<br>        * piecewise_polynomial(<br>            eink_st_per_individual,<br>            thresholds=soli_st_params[\"soli_st\"][\"thresholds\"],<br>            rates=soli_st_params[\"soli_st\"][\"rates\"],<br>            intercepts_at_lower_thresholds=soli_st_params[\"soli_st\"][<br>                \"intercepts_at_lower_thresholds\"<br>            ],<br>        )<br>        + soli_st_params[\"soli_st\"][\"rates\"][0, -1] * abgelt_st_tu<br>    )<br><br>    return out<br>",
         "marker": {
          "color": "red",
          "reversescale": true,
          "showscale": false,
          "size": 15
         },
         "mode": "markers",
         "name": "soli_st_tu",
         "showlegend": false,
         "text": "soli_st_tu",
         "textposition": "bottom center",
         "type": "scatter",
         "uid": "b83415d8-7d23-4ff6-9cf9-7c7f3d5bd553",
         "x": [
          -0.1111111111111111
         ],
         "y": [
          0.822429906542056
         ]
        },
        {
         "hoverinfo": "text",
         "hoverlabel": {
          "bgcolor": "lightgrey",
          "font": {
           "color": "black"
          }
         },
         "hovertext": "def eink_st_mit_kinderfreib_tu(<br>    zu_verst_eink_mit_kinderfreib_tu: float,<br>    anz_erwachsene_tu: int,<br>    eink_st_params: dict,<br>) -> float:<br>    \"\"\"Taxes with child allowance.<br><br>    Parameters<br>    ----------<br>    zu_verst_eink_mit_kinderfreib_tu<br>        See :func:`zu_verst_eink_mit_kinderfreib_tu`.<br>    anz_erwachsene_tu<br>        See :func:`anz_erwachsene_tu`.<br>    eink_st_params<br>        See params documentation :ref:`eink_st_params <eink_st_params>`.<br><br>    Returns<br>    -------<br><br>    \"\"\"<br>    zu_verst_eink_per_indiv = zu_verst_eink_mit_kinderfreib_tu / anz_erwachsene_tu<br>    out = anz_erwachsene_tu * _eink_st_tarif(<br>        zu_verst_eink_per_indiv, params=eink_st_params<br>    )<br><br>    return out<br>",
         "marker": {
          "color": "red",
          "reversescale": true,
          "showscale": false,
          "size": 15
         },
         "mode": "markers",
         "name": "eink_st_mit_kinderfreib_tu",
         "showlegend": false,
         "text": "eink_st_mit_kinderfreib_tu",
         "textposition": "bottom center",
         "type": "scatter",
         "uid": "b7c1ec52-ecae-46ae-a773-0f691973d432",
         "x": [
          -0.25925925925925924
         ],
         "y": [
          0.2803738317757009
         ]
        },
        {
         "hoverinfo": "text",
         "hoverlabel": {
          "bgcolor": "lightgrey",
          "font": {
           "color": "black"
          }
         },
         "hovertext": "def eink_st_ohne_kinderfreib_tu(<br>    _zu_verst_eink_ohne_kinderfreib_tu: float,<br>    anz_erwachsene_tu: int,<br>    eink_st_params: dict,<br>) -> float:<br>    \"\"\"Taxes without child allowance.<br><br>    Parameters<br>    ----------<br>    _zu_verst_eink_ohne_kinderfreib_tu<br>        See :func:`_zu_verst_eink_ohne_kinderfreib_tu`.<br>    anz_erwachsene_tu<br>        See :func:`anz_erwachsene_tu`.<br>    eink_st_params<br>        See params documentation :ref:`eink_st_params <eink_st_params>`.<br><br>    Returns<br>    -------<br><br>    \"\"\"<br>    zu_verst_eink_per_indiv = _zu_verst_eink_ohne_kinderfreib_tu / anz_erwachsene_tu<br>    out = anz_erwachsene_tu * _eink_st_tarif(<br>        zu_verst_eink_per_indiv, params=eink_st_params<br>    )<br><br>    return out<br>",
         "marker": {
          "color": "red",
          "reversescale": true,
          "showscale": false,
          "size": 15
         },
         "mode": "markers",
         "name": "eink_st_ohne_kinderfreib_tu",
         "showlegend": false,
         "text": "eink_st_ohne_kinderfreib_tu",
         "textposition": "bottom center",
         "type": "scatter",
         "uid": "93cfa82b-e101-4e4c-bab2-892d3c9aea6c",
         "x": [
          -0.25925925925925924
         ],
         "y": [
          -0.056074766355140186
         ]
        },
        {
         "hoverinfo": "text",
         "hoverlabel": {
          "bgcolor": "lightgrey",
          "font": {
           "color": "black"
          }
         },
         "hovertext": "def kinderfreib_günstiger_tu(<br>    eink_st_ohne_kinderfreib_tu: float,<br>    kindergeld_basis_m_tu: float,<br>    kinderbonus_basis_m_tu: float,<br>    eink_st_mit_kinderfreib_tu: float,<br>) -> bool:<br>    \"\"\"Return whether Kinderfreibetrag is more favorable than Kindergeld.<br><br>    Parameters<br>    ----------<br>    eink_st_ohne_kinderfreib_tu<br>        See :func:`eink_st_ohne_kinderfreib_tu`.<br>    kindergeld_basis_m_tu<br>        See :func:`kindergeld_basis_m_tu`.<br>    kinderbonus_basis_m_tu<br>        See :func:`kinderbonus_basis_m_tu`.<br>    eink_st_mit_kinderfreib_tu<br>        See :func:`eink_st_mit_kinderfreib_tu`.<br><br>    Returns<br>    -------<br><br>    \"\"\"<br>    eink_st_kein_kinderfreib = eink_st_ohne_kinderfreib_tu - 12 * (<br>        kindergeld_basis_m_tu + kinderbonus_basis_m_tu<br>    )<br>    out = eink_st_kein_kinderfreib > eink_st_mit_kinderfreib_tu<br>    return out<br>",
         "marker": {
          "color": "red",
          "reversescale": true,
          "showscale": false,
          "size": 15
         },
         "mode": "markers",
         "name": "kinderfreib_günstiger_tu",
         "showlegend": false,
         "text": "kinderfreib_günstiger_tu",
         "textposition": "bottom center",
         "type": "scatter",
         "uid": "ac1a7c44-ce2b-4e83-a3b0-8c46613b2d91",
         "x": [
          -0.18518518518518517
         ],
         "y": [
          -0.1542056074766355
         ]
        },
        {
         "hoverinfo": "text",
         "hoverlabel": {
          "bgcolor": "lightgrey",
          "font": {
           "color": "black"
          }
         },
         "hovertext": "def eink_abhängig_beschäftigt(<br>    bruttolohn_m: float,<br>    geringfügig_beschäftigt: bool,<br>    eink_st_abzuege_params: dict,<br>) -> float:<br>    \"\"\"Aggregate monthly gross wage to yearly income and deduct<br>    'Werbungskostenpauschale'.<br><br>    The wage is reducted by a lump sum payment for 'Werbungskosten'<br><br>    Parameters<br>    ----------<br>    bruttolohn_m<br>        See basic input variable :ref:`bruttolohn_m <bruttolohn_m>`.<br>    geringfügig_beschäftigt<br>        See :func:`geringfügig_beschäftigt`.<br>    eink_st_abzuege_params<br>        See params documentation :ref:`eink_st_abzuege_params <eink_st_abzuege_params>`.<br><br>    Returns<br>    -------<br><br>    \"\"\"<br>    abzug = eink_st_abzuege_params[\"werbungskostenpauschale\"]<br><br>    if geringfügig_beschäftigt:<br>        out = 0.0<br>    else:<br>        out = 12 * bruttolohn_m - abzug<br><br>    return out<br>",
         "marker": {
          "color": "red",
          "reversescale": true,
          "showscale": false,
          "size": 15
         },
         "mode": "markers",
         "name": "eink_abhängig_beschäftigt",
         "showlegend": false,
         "text": "eink_abhängig_beschäftigt",
         "textposition": "bottom center",
         "type": "scatter",
         "uid": "8d7670da-c2dd-4382-8b9b-7ca552012118",
         "x": [
          -0.6296296296296297
         ],
         "y": [
          -0.48598130841121495
         ]
        },
        {
         "hoverinfo": "text",
         "hoverlabel": {
          "bgcolor": "lightgrey",
          "font": {
           "color": "black"
          }
         },
         "hovertext": "def vorsorgeaufw_alter_ab_2005(<br>    kind: bool,<br>    ges_rentenv_beitr_m: float,<br>    priv_rentenv_beitr_m: float,<br>    eink_st_abzuege_params: dict,<br>) -> float:<br>    \"\"\"Determine contributions to retirement savings deductible from taxable income.<br><br>    This function becomes relevant in 2005, do not use it for prior<br>    year.<br><br>    The share of deductible contributions increases each year from 60% in 2005 to 100%<br>    in 2025.<br><br>    Parameters<br>    ----------<br>    kind<br>        See basic input variable :ref:`kind <kind>`.<br>    ges_rentenv_beitr_m<br>        See :func:`ges_rentenv_beitr_m`.<br>    priv_rentenv_beitr_m<br>        See basic input variable :ref:`priv_rentenv_beitr_m <priv_rentenv_beitr_m>`.<br>    eink_st_abzuege_params<br>        See params documentation :ref:`eink_st_abzuege_params <eink_st_abzuege_params>`.<br><br>    Returns<br>    -------<br><br>    \"\"\"<br><br>    if kind:<br>        out = 0.0<br>    else:<br>        out = (<br>            eink_st_abzuege_params[\"einführungsfaktor_vorsorgeaufw_alter_ab_2005\"]<br>            * (2 * ges_rentenv_beitr_m + priv_rentenv_beitr_m)<br>            - ges_rentenv_beitr_m<br>        ) * 12<br>        out = min(out, eink_st_abzuege_params[\"vorsorge_altersaufw_max\"])<br><br>    return out<br>",
         "marker": {
          "color": "red",
          "reversescale": true,
          "showscale": false,
          "size": 15
         },
         "mode": "markers",
         "name": "vorsorgeaufw_alter_ab_2005",
         "showlegend": false,
         "text": "vorsorgeaufw_alter_ab_2005",
         "textposition": "bottom center",
         "type": "scatter",
         "uid": "d67518af-391f-4c0f-ace2-a9fd82841d5c",
         "x": [
          -0.7037037037037037
         ],
         "y": [
          -0.4532710280373832
         ]
        },
        {
         "hoverinfo": "text",
         "hoverlabel": {
          "bgcolor": "lightgrey",
          "font": {
           "color": "black"
          }
         },
         "hovertext": "def _zu_verst_eink_ohne_kinderfreib_tu(<br>    sum_eink_tu: float,<br>    freibeträge_tu: float,<br>) -> float:<br>    \"\"\"Calculate taxable income without child allowance.<br><br>    Parameters<br>    ----------<br>    sum_eink_tu<br>        See :func:`sum_eink_tu`.<br>    freibeträge_tu<br>        See :func:`freibeträge_tu`.<br><br><br>    Returns<br>    -------<br><br>    \"\"\"<br>    out = sum_eink_tu - freibeträge_tu<br><br>    return max(out, 0.0)<br>",
         "marker": {
          "color": "red",
          "reversescale": true,
          "showscale": false,
          "size": 15
         },
         "mode": "markers",
         "name": "_zu_verst_eink_ohne_kinderfreib_tu",
         "showlegend": false,
         "text": "_zu_verst_eink_ohne_kinderfreib_tu",
         "textposition": "bottom center",
         "type": "scatter",
         "uid": "79c3cfea-cf9f-42db-a03c-4c3fe84e62a5",
         "x": [
          -0.4074074074074074
         ],
         "y": [
          0.037383177570093455
         ]
        },
        {
         "hoverinfo": "text",
         "hoverlabel": {
          "bgcolor": "lightgrey",
          "font": {
           "color": "black"
          }
         },
         "hovertext": "def freibeträge(<br>    vorsorgeaufw: float,<br>    sonderausgaben: float,<br>    _eink_st_behinderungsgrad_pauschbetrag: float,<br>    alleinerz_freib_tu: float,<br>    eink_st_altersfreib: float,<br>) -> float:<br>    \"\"\"Calculate allowances.<br><br>    Parameters<br>    ----------<br><br>    vorsorgeaufw<br>        See :func:`vorsorgeaufw`.<br>    sonderausgaben<br>        See :func:`sonderausgaben`.<br>    _eink_st_behinderungsgrad_pauschbetrag<br>        See :func:`_eink_st_behinderungsgrad_pauschbetrag`.<br>    alleinerz_freib_tu<br>        See :func:`alleinerz_freib_tu`.<br>    eink_st_altersfreib<br>        See :func:`eink_st_altersfreib`.<br><br>    Returns<br>    -------<br><br>    \"\"\"<br>    out = (<br>        vorsorgeaufw<br>        + sonderausgaben<br>        + _eink_st_behinderungsgrad_pauschbetrag<br>        + alleinerz_freib_tu<br>        + eink_st_altersfreib<br>    )<br>    return out<br>",
         "marker": {
          "color": "red",
          "reversescale": true,
          "showscale": false,
          "size": 15
         },
         "mode": "markers",
         "name": "freibeträge",
         "showlegend": false,
         "text": "freibeträge",
         "textposition": "bottom center",
         "type": "scatter",
         "uid": "55f2ef11-1633-48e1-b633-c78c0d73322c",
         "x": [
          -0.5555555555555556
         ],
         "y": [
          0.10747663551401869
         ]
        },
        {
         "hoverinfo": "text",
         "hoverlabel": {
          "bgcolor": "lightgrey",
          "font": {
           "color": "black"
          }
         },
         "hovertext": "def zu_verst_eink_mit_kinderfreib_tu(<br>    _zu_verst_eink_ohne_kinderfreib_tu: float, eink_st_kinderfreib_tu: float<br>) -> float:<br>    \"\"\"Calculate taxable income with child allowance.<br><br>    Parameters<br>    ----------<br>    _zu_verst_eink_ohne_kinderfreib_tu<br>        See :func:`_zu_verst_eink_ohne_kinderfreib_tu`.<br>    eink_st_kinderfreib_tu<br>        See :func:`eink_st_kinderfreib_tu`.<br><br>    Returns<br>    -------<br><br>    \"\"\"<br>    return _zu_verst_eink_ohne_kinderfreib_tu - eink_st_kinderfreib_tu<br>",
         "marker": {
          "color": "red",
          "reversescale": true,
          "showscale": false,
          "size": 15
         },
         "mode": "markers",
         "name": "zu_verst_eink_mit_kinderfreib_tu",
         "showlegend": false,
         "text": "zu_verst_eink_mit_kinderfreib_tu",
         "textposition": "bottom center",
         "type": "scatter",
         "uid": "2f731cb8-e4e8-49e7-b3d2-57f313a5d3b3",
         "x": [
          -0.3333333333333333
         ],
         "y": [
          0.2616822429906542
         ]
        },
        {
         "hoverinfo": "text",
         "hoverlabel": {
          "bgcolor": "lightgrey",
          "font": {
           "color": "black"
          }
         },
         "hovertext": "def sum_eink_ohne_kapital(<br>    eink_selbst: float,<br>    eink_abhängig_beschäftigt: float,<br>    eink_vermietung: float,<br>    eink_rente_zu_verst: float,<br>) -> float:<br>    \"\"\"Sum of gross incomes without capital income.<br><br>    Since 2009 capital income is not subject to normal taxation.<br>    Parameters<br>    ----------<br>    eink_selbst<br>        See :func:`eink_selbst`.<br>    eink_abhängig_beschäftigt<br>        See :func:`eink_abhängig_beschäftigt`.<br>    eink_vermietung<br>        See :func:`eink_vermietung`.<br>    eink_rente_zu_verst<br>        See :func:`eink_rente_zu_verst`.<br><br>    Returns<br>    -------<br><br>    \"\"\"<br>    out = (<br>        eink_selbst + eink_abhängig_beschäftigt + eink_vermietung + eink_rente_zu_verst<br>    )<br>    return out<br>",
         "marker": {
          "color": "red",
          "reversescale": true,
          "showscale": false,
          "size": 15
         },
         "mode": "markers",
         "name": "sum_eink",
         "showlegend": false,
         "text": "sum_eink",
         "textposition": "bottom center",
         "type": "scatter",
         "uid": "5973e2e8-cad9-45bc-8990-5ae39ddda051",
         "x": [
          -0.5555555555555556
         ],
         "y": [
          -0.22897196261682243
         ]
        },
        {
         "hoverinfo": "text",
         "hoverlabel": {
          "bgcolor": "lightgrey",
          "font": {
           "color": "black"
          }
         },
         "hovertext": "@add_rounding_spec(params_key=\"eink_st\")<br>def eink_st_tu_ab_1997(<br>    eink_st_ohne_kinderfreib_tu: float,<br>    eink_st_mit_kinderfreib_tu: float,<br>    kinderfreib_günstiger_tu: bool,<br>) -> float:<br>    \"\"\"Income tax calculation since 1997.<br><br>    Parameters<br>    ----------<br>    eink_st_ohne_kinderfreib_tu<br>        See :func:`eink_st_ohne_kinderfreib_tu`.<br>    eink_st_mit_kinderfreib_tu<br>        See :func:`eink_st_mit_kinderfreib_tu`.<br>    kinderfreib_günstiger_tu<br>        See :func:`kinderfreib_günstiger_tu`.<br><br>    Returns<br>    -------<br><br>    \"\"\"<br>    if kinderfreib_günstiger_tu:<br>        out = eink_st_mit_kinderfreib_tu<br>    else:<br>        out = eink_st_ohne_kinderfreib_tu<br><br>    return out<br>",
         "marker": {
          "color": "red",
          "reversescale": true,
          "showscale": false,
          "size": 15
         },
         "mode": "markers",
         "name": "eink_st_tu",
         "showlegend": false,
         "text": "eink_st_tu",
         "textposition": "bottom center",
         "type": "scatter",
         "uid": "bc4a1591-43a2-420f-b158-bc1dcff7949c",
         "x": [
          -0.1111111111111111
         ],
         "y": [
          0.102803738317757
         ]
        },
        {
         "hoverinfo": "text",
         "hoverlabel": {
          "bgcolor": "lightgrey",
          "font": {
           "color": "black"
          }
         },
         "hovertext": "def kindergeld_m_ab_1997(<br>    kinderfreib_günstiger_tu: bool,<br>    kindergeld_basis_m: float,<br>) -> float:<br>    \"\"\"Kindergeld calculation since 1997.<br><br>    Parameters<br>    ----------<br>    kinderfreib_günstiger_tu<br>        See :func:`kinderfreib_günstiger_tu`.<br>    kindergeld_basis_m<br>        See :func:`kindergeld_basis_m`.<br>    tu_id<br>        See basic input variable :ref:`tu_id <tu_id>`.<br><br>    Returns<br>    -------<br><br>    \"\"\"<br>    out = 0 if kinderfreib_günstiger_tu else kindergeld_basis_m<br>    return out<br>",
         "marker": {
          "color": "red",
          "reversescale": true,
          "showscale": false,
          "size": 15
         },
         "mode": "markers",
         "name": "kindergeld_m",
         "showlegend": false,
         "text": "kindergeld_m",
         "textposition": "bottom center",
         "type": "scatter",
         "uid": "9fac9a97-828e-4215-8fc0-872e4dbe1b9c",
         "x": [
          0.4074074074074074
         ],
         "y": [
          0.014018691588785047
         ]
        },
        {
         "hoverinfo": "text",
         "hoverlabel": {
          "bgcolor": "lightgrey",
          "font": {
           "color": "black"
          }
         },
         "hovertext": "@add_rounding_spec(params_key=\"eink_st_abzuege\")<br>def vorsorgeaufw_ab_2020(<br>    vorsorgeaufw_alter_ab_2005: float,<br>    ges_pflegev_beitr_m: float,<br>    ges_krankenv_beitr_m: float,<br>    arbeitsl_v_beitr_m: float,<br>    kind: bool,<br>    eink_st_abzuege_params: dict,<br>) -> float:<br>    \"\"\"Calculate Vorsorgeaufwendungen since 2020.<br><br>    Vorsorgeaufwendungen after the regime implemented in 2010 is in full effect,<br>    see § 10 (3) EStG.<br><br>    Parameters<br>    ----------<br>    vorsorgeaufw_alter_ab_2005<br>        See :func:`vorsorgeaufw_alter_ab_2005`.<br>    ges_pflegev_beitr_m<br>        See :func:`ges_pflegev_beitr_m`.<br>    ges_krankenv_beitr_m<br>        See :func:`ges_krankenv_beitr_m`.<br>    arbeitsl_v_beitr_m<br>        See :func:`arbeitsl_v_beitr_m`.<br>    eink_st_abzuege_params<br>        See params documentation :ref:`eink_st_abzuege_params <eink_st_abzuege_params>`.<br><br>    Returns<br>    -------<br><br>    \"\"\"<br>    # maybe add unemployment insurance, but do not exceed 1900€.<br>    if kind:<br>        out = 0.0<br>    else:<br>        sonstige_vors = 12 * (<br>            ges_pflegev_beitr_m<br>            + (1 - eink_st_abzuege_params[\"vorsorge_kranken_minderung\"])<br>            * ges_krankenv_beitr_m<br>        )<br>        limit_below = sonstige_vors + 12 * arbeitsl_v_beitr_m<br>        limit_above = eink_st_abzuege_params[\"vorsorge_sonstige_aufw_max\"]<br><br>        out = min(max(sonstige_vors, limit_below), limit_above)<br>        out += vorsorgeaufw_alter_ab_2005<br>    return out<br>",
         "marker": {
          "color": "red",
          "reversescale": true,
          "showscale": false,
          "size": 15
         },
         "mode": "markers",
         "name": "vorsorgeaufw",
         "showlegend": false,
         "text": "vorsorgeaufw",
         "textposition": "bottom center",
         "type": "scatter",
         "uid": "5924fdfb-98a8-45c3-b4bc-f296af6c807e",
         "x": [
          -0.6296296296296297
         ],
         "y": [
          0.10747663551401869
         ]
        },
        {
         "hoverinfo": "text",
         "hoverlabel": {
          "bgcolor": "lightgrey",
          "font": {
           "color": "black"
          }
         },
         "hovertext": "def _kinderzuschl_vor_vermög_check_m_hh_ab_07_2019(<br>    arbeitsl_geld_2_brutto_eink_m_hh: float,<br>    kinderzuschl_eink_min_m_hh: float,<br>    kinderzuschl_kindereink_abzug_m_hh: float,<br>    kinderzuschl_eink_anrechn_m_hh: float,<br>) -> float:<br>    \"\"\"Calculate Kinderzuschlag since 07/2019. Whether Kinderzuschlag or<br>    Arbeitslosengeld 2 applies will be checked later.<br><br>    Parameters<br>    ----------<br>    hh_id<br>        See basic input variable :ref:`hh_id <hh_id>`.<br>    arbeitsl_geld_2_brutto_eink_m_hh<br>        See :func:`arbeitsl_geld_2_brutto_eink_m_hh`.<br>    kinderzuschl_eink_min_m_hh<br>        See :func:`kinderzuschl_eink_min_m_hh`.<br>    kinderzuschl_kindereink_abzug_m_hh<br>        See :func:`kinderzuschl_kindereink_abzug_m_hh`.<br>    kinderzuschl_eink_anrechn_m_hh<br>        See :func:`kinderzuschl_eink_anrechn_m_hh`.<br><br>    Returns<br>    -------<br><br>    \"\"\"<br>    if arbeitsl_geld_2_brutto_eink_m_hh >= kinderzuschl_eink_min_m_hh:<br>        out = max(<br>            kinderzuschl_kindereink_abzug_m_hh - kinderzuschl_eink_anrechn_m_hh, 0.0<br>        )<br>    else:<br>        out = 0.0<br><br>    return out<br>",
         "marker": {
          "color": "red",
          "reversescale": true,
          "showscale": false,
          "size": 15
         },
         "mode": "markers",
         "name": "_kinderzuschl_vor_vermög_check_m_hh",
         "showlegend": false,
         "text": "_kinderzuschl_vor_vermög_check_m_hh",
         "textposition": "bottom center",
         "type": "scatter",
         "uid": "7b5f266a-48db-41b3-99fe-cc101d6851ce",
         "x": [
          0.7777777777777778
         ],
         "y": [
          0.985981308411215
         ]
        },
        {
         "hoverinfo": "text",
         "hoverlabel": {
          "bgcolor": "lightgrey",
          "font": {
           "color": "black"
          }
         },
         "hovertext": "        @rename_arguments(<br>            mapper={\"source_col\": source_col, \"group_id\": group_id},<br>            annotations=annotations,<br>        )<br>        def aggregation_func(source_col, group_id):<br>            return grouped_sum(source_col, group_id)<br>",
         "marker": {
          "color": "red",
          "reversescale": true,
          "showscale": false,
          "size": 15
         },
         "mode": "markers",
         "name": "kindergeld_m_tu",
         "showlegend": false,
         "text": "kindergeld_m_tu",
         "textposition": "bottom center",
         "type": "scatter",
         "uid": "cec8ca67-0088-4b68-8cb7-a405e7386cc1",
         "x": [
          0.48148148148148145
         ],
         "y": [
          -0.22429906542056074
         ]
        },
        {
         "hoverinfo": "text",
         "hoverlabel": {
          "bgcolor": "lightgrey",
          "font": {
           "color": "black"
          }
         },
         "hovertext": "        @rename_arguments(<br>            mapper={\"source_col\": source_col, \"group_id\": group_id},<br>            annotations=annotations,<br>        )<br>        def aggregation_func(source_col, group_id):<br>            return grouped_sum(source_col, group_id)<br>",
         "marker": {
          "color": "red",
          "reversescale": true,
          "showscale": false,
          "size": 15
         },
         "mode": "markers",
         "name": "ges_rentenv_beitr_m_tu",
         "showlegend": false,
         "text": "ges_rentenv_beitr_m_tu",
         "textposition": "bottom center",
         "type": "scatter",
         "uid": "8b34251a-15dc-40b7-abeb-5099719a932f",
         "x": [
          -0.4074074074074074
         ],
         "y": [
          -1
         ]
        },
        {
         "hoverinfo": "text",
         "hoverlabel": {
          "bgcolor": "lightgrey",
          "font": {
           "color": "black"
          }
         },
         "hovertext": "        @rename_arguments(<br>            mapper={\"source_col\": source_col, \"group_id\": group_id},<br>            annotations=annotations,<br>        )<br>        def aggregation_func(source_col, group_id):<br>            return grouped_sum(source_col, group_id)<br>",
         "marker": {
          "color": "red",
          "reversescale": true,
          "showscale": false,
          "size": 15
         },
         "mode": "markers",
         "name": "ges_krankenv_beitr_m_tu",
         "showlegend": false,
         "text": "ges_krankenv_beitr_m_tu",
         "textposition": "bottom center",
         "type": "scatter",
         "uid": "f259b359-acc0-4290-ac04-0a08d1b1ba44",
         "x": [
          -0.3333333333333333
         ],
         "y": [
          -0.7429906542056075
         ]
        },
        {
         "hoverinfo": "text",
         "hoverlabel": {
          "bgcolor": "lightgrey",
          "font": {
           "color": "black"
          }
         },
         "hovertext": "        @rename_arguments(<br>            mapper={\"source_col\": source_col, \"group_id\": group_id},<br>            annotations=annotations,<br>        )<br>        def aggregation_func(source_col, group_id):<br>            return grouped_sum(source_col, group_id)<br>",
         "marker": {
          "color": "red",
          "reversescale": true,
          "showscale": false,
          "size": 15
         },
         "mode": "markers",
         "name": "arbeitsl_geld_2_eink_m_hh",
         "showlegend": false,
         "text": "arbeitsl_geld_2_eink_m_hh",
         "textposition": "bottom center",
         "type": "scatter",
         "uid": "8ce6313d-a6db-4874-a24b-73552995f27d",
         "x": [
          0.5555555555555556
         ],
         "y": [
          0.985981308411215
         ]
        },
        {
         "hoverinfo": "text",
         "hoverlabel": {
          "bgcolor": "lightgrey",
          "font": {
           "color": "black"
          }
         },
         "hovertext": "        @rename_arguments(<br>            mapper={\"source_col\": source_col, \"group_id\": group_id},<br>            annotations=annotations,<br>        )<br>        def aggregation_func(source_col, group_id):<br>            return grouped_sum(source_col, group_id)<br>",
         "marker": {
          "color": "red",
          "reversescale": true,
          "showscale": false,
          "size": 15
         },
         "mode": "markers",
         "name": "arbeitsl_geld_2_brutto_eink_m_hh",
         "showlegend": false,
         "text": "arbeitsl_geld_2_brutto_eink_m_hh",
         "textposition": "bottom center",
         "type": "scatter",
         "uid": "7b33f5c9-b0db-4ec7-9389-7c239a074641",
         "x": [
          0.6296296296296297
         ],
         "y": [
          0.4719626168224299
         ]
        },
        {
         "hoverinfo": "text",
         "hoverlabel": {
          "bgcolor": "lightgrey",
          "font": {
           "color": "black"
          }
         },
         "hovertext": "        @rename_arguments(<br>            mapper={\"source_col\": source_col, \"group_id\": group_id},<br>            annotations=annotations,<br>        )<br>        def aggregation_func(source_col, group_id):<br>            return grouped_sum(source_col, group_id)<br>",
         "marker": {
          "color": "red",
          "reversescale": true,
          "showscale": false,
          "size": 15
         },
         "mode": "markers",
         "name": "elterngeld_m_tu",
         "showlegend": false,
         "text": "elterngeld_m_tu",
         "textposition": "bottom center",
         "type": "scatter",
         "uid": "34fae1dd-cb12-4928-a7aa-ef8fd0549fcf",
         "x": [
          0.4074074074074074
         ],
         "y": [
          -0.32242990654205606
         ]
        },
        {
         "hoverinfo": "text",
         "hoverlabel": {
          "bgcolor": "lightgrey",
          "font": {
           "color": "black"
          }
         },
         "hovertext": "        @rename_arguments(<br>            mapper={\"source_col\": source_col, \"group_id\": group_id},<br>            annotations=annotations,<br>        )<br>        def aggregation_func(source_col, group_id):<br>            return grouped_sum(source_col, group_id)<br>",
         "marker": {
          "color": "red",
          "reversescale": true,
          "showscale": false,
          "size": 15
         },
         "mode": "markers",
         "name": "sum_eink_tu",
         "showlegend": false,
         "text": "sum_eink_tu",
         "textposition": "bottom center",
         "type": "scatter",
         "uid": "74f84fae-ceb6-4e0c-96d0-d2a53985a44a",
         "x": [
          -0.48148148148148145
         ],
         "y": [
          -0.22897196261682243
         ]
        },
        {
         "hoverinfo": "text",
         "hoverlabel": {
          "bgcolor": "lightgrey",
          "font": {
           "color": "black"
          }
         },
         "hovertext": "        @rename_arguments(<br>            mapper={\"source_col\": source_col, \"group_id\": group_id},<br>            annotations=annotations,<br>        )<br>        def aggregation_func(source_col, group_id):<br>            return grouped_sum(source_col, group_id)<br>",
         "marker": {
          "color": "red",
          "reversescale": true,
          "showscale": false,
          "size": 15
         },
         "mode": "markers",
         "name": "kinderzuschl_eink_anrechn_m_hh",
         "showlegend": false,
         "text": "kinderzuschl_eink_anrechn_m_hh",
         "textposition": "bottom center",
         "type": "scatter",
         "uid": "55fb0b5c-ef1c-4f5b-9dad-d5b224fa0273",
         "x": [
          0.7037037037037037
         ],
         "y": [
          0.985981308411215
         ]
        },
        {
         "hoverinfo": "text",
         "hoverlabel": {
          "bgcolor": "lightgrey",
          "font": {
           "color": "black"
          }
         },
         "hovertext": "        @rename_arguments(<br>            mapper={\"source_col\": source_col, \"group_id\": group_id},<br>            annotations=annotations,<br>        )<br>        def aggregation_func(source_col, group_id):<br>            return grouped_sum(source_col, group_id)<br>",
         "marker": {
          "color": "red",
          "reversescale": true,
          "showscale": false,
          "size": 15
         },
         "mode": "markers",
         "name": "eink_abhängig_beschäftigt_tu",
         "showlegend": false,
         "text": "eink_abhängig_beschäftigt_tu",
         "textposition": "bottom center",
         "type": "scatter",
         "uid": "0bf8b336-38c0-44ee-82b1-880b2670f74f",
         "x": [
          -0.18518518518518517
         ],
         "y": [
          -0.5186915887850467
         ]
        },
        {
         "hoverinfo": "text",
         "hoverlabel": {
          "bgcolor": "lightgrey",
          "font": {
           "color": "black"
          }
         },
         "hovertext": "        @rename_arguments(<br>            mapper={\"source_col\": source_col, \"group_id\": group_id},<br>            annotations=annotations,<br>        )<br>        def aggregation_func(source_col, group_id):<br>            return grouped_sum(source_col, group_id)<br>",
         "marker": {
          "color": "red",
          "reversescale": true,
          "showscale": false,
          "size": 15
         },
         "mode": "markers",
         "name": "grunds_im_alter_eink_m_hh",
         "showlegend": false,
         "text": "grunds_im_alter_eink_m_hh",
         "textposition": "bottom center",
         "type": "scatter",
         "uid": "392c6d05-37b1-4462-ad9f-2ceca37fa4a5",
         "x": [
          0.48148148148148145
         ],
         "y": [
          0.4485981308411215
         ]
        },
        {
         "hoverinfo": "text",
         "hoverlabel": {
          "bgcolor": "lightgrey",
          "font": {
           "color": "black"
          }
         },
         "hovertext": "        @rename_arguments(<br>            mapper={\"source_col\": source_col, \"group_id\": group_id},<br>            annotations=annotations,<br>        )<br>        def aggregation_func(source_col, group_id):<br>            return grouped_sum(source_col, group_id)<br>",
         "marker": {
          "color": "red",
          "reversescale": true,
          "showscale": false,
          "size": 15
         },
         "mode": "markers",
         "name": "freibeträge_tu",
         "showlegend": false,
         "text": "freibeträge_tu",
         "textposition": "bottom center",
         "type": "scatter",
         "uid": "b8b33f83-fabe-461a-abc9-a4f65da0863c",
         "x": [
          -0.48148148148148145
         ],
         "y": [
          0.10747663551401869
         ]
        },
        {
         "hoverinfo": "text",
         "hoverlabel": {
          "bgcolor": "lightgrey",
          "font": {
           "color": "black"
          }
         },
         "hovertext": "        @rename_arguments(<br>            mapper={\"source_col\": source_col, \"group_id\": group_id},<br>            annotations=annotations,<br>        )<br>        def aggregation_func(source_col, group_id):<br>            return grouped_sum(source_col, group_id)<br>",
         "marker": {
          "color": "red",
          "reversescale": true,
          "showscale": false,
          "size": 15
         },
         "mode": "markers",
         "name": "kindergeld_m_hh",
         "showlegend": false,
         "text": "kindergeld_m_hh",
         "textposition": "bottom center",
         "type": "scatter",
         "uid": "e9d7a564-972a-4099-bf4c-ccedbc8f2b47",
         "x": [
          0.48148148148148145
         ],
         "y": [
          0.11214953271028037
         ]
        }
       ],
       "layout": {
        "annotations": [
         {
          "arrowcolor": "gray",
          "arrowhead": 2,
          "arrowsize": 2,
          "ax": -0.7777777777777778,
          "axref": "x",
          "ay": 0.985981308411215,
          "ayref": "y",
          "showarrow": true,
          "standoff": 5,
          "startstandoff": 5,
          "text": "",
          "x": -0.6296296296296297,
          "xref": "x",
          "y": 0.7289719626168224,
          "yref": "y"
         },
         {
          "arrowcolor": "gray",
          "arrowhead": 2,
          "arrowsize": 2,
          "ax": -0.7777777777777778,
          "axref": "x",
          "ay": 0.985981308411215,
          "ayref": "y",
          "showarrow": true,
          "standoff": 5,
          "startstandoff": 5,
          "text": "",
          "x": -0.6296296296296297,
          "xref": "x",
          "y": 0.10747663551401869,
          "yref": "y"
         },
         {
          "arrowcolor": "gray",
          "arrowhead": 2,
          "arrowsize": 2,
          "ax": -0.6296296296296297,
          "axref": "x",
          "ay": 0.7289719626168224,
          "ayref": "y",
          "showarrow": true,
          "standoff": 5,
          "startstandoff": 5,
          "text": "",
          "x": -0.037037037037037035,
          "xref": "x",
          "y": 0.5654205607476636,
          "yref": "y"
         },
         {
          "arrowcolor": "gray",
          "arrowhead": 2,
          "arrowsize": 2,
          "ax": -0.6296296296296297,
          "axref": "x",
          "ay": 0.7289719626168224,
          "ayref": "y",
          "showarrow": true,
          "standoff": 5,
          "startstandoff": 5,
          "text": "",
          "x": 0.4074074074074074,
          "xref": "x",
          "y": 0.3925233644859813,
          "yref": "y"
         },
         {
          "arrowcolor": "gray",
          "arrowhead": 2,
          "arrowsize": 2,
          "ax": -0.6296296296296297,
          "axref": "x",
          "ay": 0.7289719626168224,
          "ayref": "y",
          "showarrow": true,
          "standoff": 5,
          "startstandoff": 5,
          "text": "",
          "x": 0.48148148148148145,
          "xref": "x",
          "y": 1,
          "yref": "y"
         },
         {
          "arrowcolor": "gray",
          "arrowhead": 2,
          "arrowsize": 2,
          "ax": -0.7777777777777778,
          "axref": "x",
          "ay": -0.45794392523364486,
          "ayref": "y",
          "showarrow": true,
          "standoff": 5,
          "startstandoff": 5,
          "text": "",
          "x": -0.6296296296296297,
          "xref": "x",
          "y": 0.7289719626168224,
          "yref": "y"
         },
         {
          "arrowcolor": "gray",
          "arrowhead": 2,
          "arrowsize": 2,
          "ax": -0.7777777777777778,
          "axref": "x",
          "ay": -0.45794392523364486,
          "ayref": "y",
          "showarrow": true,
          "standoff": 5,
          "startstandoff": 5,
          "text": "",
          "x": -0.7037037037037037,
          "xref": "x",
          "y": -0.4532710280373832,
          "yref": "y"
         },
         {
          "arrowcolor": "gray",
          "arrowhead": 2,
          "arrowsize": 2,
          "ax": -0.7777777777777778,
          "axref": "x",
          "ay": -0.45794392523364486,
          "ayref": "y",
          "showarrow": true,
          "standoff": 5,
          "startstandoff": 5,
          "text": "",
          "x": -0.4074074074074074,
          "xref": "x",
          "y": -1,
          "yref": "y"
         },
         {
          "arrowcolor": "gray",
          "arrowhead": 2,
          "arrowsize": 2,
          "ax": -0.8518518518518519,
          "axref": "x",
          "ay": 0.5700934579439252,
          "ayref": "y",
          "showarrow": true,
          "standoff": 5,
          "startstandoff": 5,
          "text": "",
          "x": -0.6296296296296297,
          "xref": "x",
          "y": 0.7289719626168224,
          "yref": "y"
         },
         {
          "arrowcolor": "gray",
          "arrowhead": 2,
          "arrowsize": 2,
          "ax": -0.8518518518518519,
          "axref": "x",
          "ay": 0.5700934579439252,
          "ayref": "y",
          "showarrow": true,
          "standoff": 5,
          "startstandoff": 5,
          "text": "",
          "x": -0.6296296296296297,
          "xref": "x",
          "y": 0.10747663551401869,
          "yref": "y"
         },
         {
          "arrowcolor": "gray",
          "arrowhead": 2,
          "arrowsize": 2,
          "ax": -1,
          "axref": "x",
          "ay": -0.07476635514018691,
          "ayref": "y",
          "showarrow": true,
          "standoff": 5,
          "startstandoff": 5,
          "text": "",
          "x": -0.7777777777777778,
          "xref": "x",
          "y": 0.985981308411215,
          "yref": "y"
         },
         {
          "arrowcolor": "gray",
          "arrowhead": 2,
          "arrowsize": 2,
          "ax": -1,
          "axref": "x",
          "ay": -0.07476635514018691,
          "ayref": "y",
          "showarrow": true,
          "standoff": 5,
          "startstandoff": 5,
          "text": "",
          "x": -0.7777777777777778,
          "xref": "x",
          "y": -0.45794392523364486,
          "yref": "y"
         },
         {
          "arrowcolor": "gray",
          "arrowhead": 2,
          "arrowsize": 2,
          "ax": -1,
          "axref": "x",
          "ay": -0.07476635514018691,
          "ayref": "y",
          "showarrow": true,
          "standoff": 5,
          "startstandoff": 5,
          "text": "",
          "x": -0.8518518518518519,
          "xref": "x",
          "y": 0.5700934579439252,
          "yref": "y"
         },
         {
          "arrowcolor": "gray",
          "arrowhead": 2,
          "arrowsize": 2,
          "ax": -1,
          "axref": "x",
          "ay": -0.07476635514018691,
          "ayref": "y",
          "showarrow": true,
          "standoff": 5,
          "startstandoff": 5,
          "text": "",
          "x": -0.9259259259259259,
          "xref": "x",
          "y": 0.1822429906542056,
          "yref": "y"
         },
         {
          "arrowcolor": "gray",
          "arrowhead": 2,
          "arrowsize": 2,
          "ax": -1,
          "axref": "x",
          "ay": -0.07476635514018691,
          "ayref": "y",
          "showarrow": true,
          "standoff": 5,
          "startstandoff": 5,
          "text": "",
          "x": -0.7037037037037037,
          "xref": "x",
          "y": 0.09813084112149532,
          "yref": "y"
         },
         {
          "arrowcolor": "gray",
          "arrowhead": 2,
          "arrowsize": 2,
          "ax": -1,
          "axref": "x",
          "ay": -0.07476635514018691,
          "ayref": "y",
          "showarrow": true,
          "standoff": 5,
          "startstandoff": 5,
          "text": "",
          "x": -0.6296296296296297,
          "xref": "x",
          "y": -0.48598130841121495,
          "yref": "y"
         },
         {
          "arrowcolor": "gray",
          "arrowhead": 2,
          "arrowsize": 2,
          "ax": -0.9259259259259259,
          "axref": "x",
          "ay": 0.1822429906542056,
          "ayref": "y",
          "showarrow": true,
          "standoff": 5,
          "startstandoff": 5,
          "text": "",
          "x": -0.7777777777777778,
          "xref": "x",
          "y": 0.985981308411215,
          "yref": "y"
         },
         {
          "arrowcolor": "gray",
          "arrowhead": 2,
          "arrowsize": 2,
          "ax": -0.9259259259259259,
          "axref": "x",
          "ay": 0.1822429906542056,
          "ayref": "y",
          "showarrow": true,
          "standoff": 5,
          "startstandoff": 5,
          "text": "",
          "x": -0.7777777777777778,
          "xref": "x",
          "y": -0.45794392523364486,
          "yref": "y"
         },
         {
          "arrowcolor": "gray",
          "arrowhead": 2,
          "arrowsize": 2,
          "ax": -0.9259259259259259,
          "axref": "x",
          "ay": 0.1822429906542056,
          "ayref": "y",
          "showarrow": true,
          "standoff": 5,
          "startstandoff": 5,
          "text": "",
          "x": -0.8518518518518519,
          "xref": "x",
          "y": 0.5700934579439252,
          "yref": "y"
         },
         {
          "arrowcolor": "gray",
          "arrowhead": 2,
          "arrowsize": 2,
          "ax": -0.9259259259259259,
          "axref": "x",
          "ay": 0.1822429906542056,
          "ayref": "y",
          "showarrow": true,
          "standoff": 5,
          "startstandoff": 5,
          "text": "",
          "x": -0.8518518518518519,
          "xref": "x",
          "y": 0.056074766355140186,
          "yref": "y"
         },
         {
          "arrowcolor": "gray",
          "arrowhead": 2,
          "arrowsize": 2,
          "ax": -0.9259259259259259,
          "axref": "x",
          "ay": 0.1822429906542056,
          "ayref": "y",
          "showarrow": true,
          "standoff": 5,
          "startstandoff": 5,
          "text": "",
          "x": -0.7037037037037037,
          "xref": "x",
          "y": 0.09813084112149532,
          "yref": "y"
         },
         {
          "arrowcolor": "gray",
          "arrowhead": 2,
          "arrowsize": 2,
          "ax": -0.8518518518518519,
          "axref": "x",
          "ay": 0.056074766355140186,
          "ayref": "y",
          "showarrow": true,
          "standoff": 5,
          "startstandoff": 5,
          "text": "",
          "x": -0.7777777777777778,
          "xref": "x",
          "y": 0.056074766355140186,
          "yref": "y"
         },
         {
          "arrowcolor": "gray",
          "arrowhead": 2,
          "arrowsize": 2,
          "ax": -0.7777777777777778,
          "axref": "x",
          "ay": 0.056074766355140186,
          "ayref": "y",
          "showarrow": true,
          "standoff": 5,
          "startstandoff": 5,
          "text": "",
          "x": -0.7037037037037037,
          "xref": "x",
          "y": 0.09813084112149532,
          "yref": "y"
         },
         {
          "arrowcolor": "gray",
          "arrowhead": 2,
          "arrowsize": 2,
          "ax": -0.7037037037037037,
          "axref": "x",
          "ay": 0.09813084112149532,
          "ayref": "y",
          "showarrow": true,
          "standoff": 5,
          "startstandoff": 5,
          "text": "",
          "x": -0.6296296296296297,
          "xref": "x",
          "y": 0.7289719626168224,
          "yref": "y"
         },
         {
          "arrowcolor": "gray",
          "arrowhead": 2,
          "arrowsize": 2,
          "ax": -0.7037037037037037,
          "axref": "x",
          "ay": 0.09813084112149532,
          "ayref": "y",
          "showarrow": true,
          "standoff": 5,
          "startstandoff": 5,
          "text": "",
          "x": -0.6296296296296297,
          "xref": "x",
          "y": 0.10747663551401869,
          "yref": "y"
         },
         {
          "arrowcolor": "gray",
          "arrowhead": 2,
          "arrowsize": 2,
          "ax": -0.7037037037037037,
          "axref": "x",
          "ay": 0.09813084112149532,
          "ayref": "y",
          "showarrow": true,
          "standoff": 5,
          "startstandoff": 5,
          "text": "",
          "x": -0.3333333333333333,
          "xref": "x",
          "y": -0.7429906542056075,
          "yref": "y"
         },
         {
          "arrowcolor": "gray",
          "arrowhead": 2,
          "arrowsize": 2,
          "ax": -0.037037037037037035,
          "axref": "x",
          "ay": -0.8364485981308412,
          "ayref": "y",
          "showarrow": true,
          "standoff": 5,
          "startstandoff": 5,
          "text": "",
          "x": 0.5555555555555556,
          "xref": "x",
          "y": -0.5654205607476636,
          "yref": "y"
         },
         {
          "arrowcolor": "gray",
          "arrowhead": 2,
          "arrowsize": 2,
          "ax": 0.5555555555555556,
          "axref": "x",
          "ay": -0.5654205607476636,
          "ayref": "y",
          "showarrow": true,
          "standoff": 5,
          "startstandoff": 5,
          "text": "",
          "x": 0.7037037037037037,
          "xref": "x",
          "y": -0.2850467289719626,
          "yref": "y"
         },
         {
          "arrowcolor": "gray",
          "arrowhead": 2,
          "arrowsize": 2,
          "ax": 0.48148148148148145,
          "axref": "x",
          "ay": -0.5654205607476636,
          "ayref": "y",
          "showarrow": true,
          "standoff": 5,
          "startstandoff": 5,
          "text": "",
          "x": 0.5555555555555556,
          "xref": "x",
          "y": -0.5654205607476636,
          "yref": "y"
         },
         {
          "arrowcolor": "gray",
          "arrowhead": 2,
          "arrowsize": 2,
          "ax": 0.7037037037037037,
          "axref": "x",
          "ay": -0.2850467289719626,
          "ayref": "y",
          "showarrow": true,
          "standoff": 5,
          "startstandoff": 5,
          "text": "",
          "x": 0.8518518518518519,
          "xref": "x",
          "y": -0.1588785046728972,
          "yref": "y"
         },
         {
          "arrowcolor": "gray",
          "arrowhead": 2,
          "arrowsize": 2,
          "ax": 0.1111111111111111,
          "axref": "x",
          "ay": 0.03271028037383177,
          "ayref": "y",
          "showarrow": true,
          "standoff": 5,
          "startstandoff": 5,
          "text": "",
          "x": 0.18518518518518517,
          "xref": "x",
          "y": 0.12149532710280374,
          "yref": "y"
         },
         {
          "arrowcolor": "gray",
          "arrowhead": 2,
          "arrowsize": 2,
          "ax": 0.18518518518518517,
          "axref": "x",
          "ay": 0.12149532710280374,
          "ayref": "y",
          "showarrow": true,
          "standoff": 5,
          "startstandoff": 5,
          "text": "",
          "x": 0.25925925925925924,
          "xref": "x",
          "y": 0.03271028037383177,
          "yref": "y"
         },
         {
          "arrowcolor": "gray",
          "arrowhead": 2,
          "arrowsize": 2,
          "ax": 0.18518518518518517,
          "axref": "x",
          "ay": 0.12149532710280374,
          "ayref": "y",
          "showarrow": true,
          "standoff": 5,
          "startstandoff": 5,
          "text": "",
          "x": 0.3333333333333333,
          "xref": "x",
          "y": 0.3364485981308411,
          "yref": "y"
         },
         {
          "arrowcolor": "gray",
          "arrowhead": 2,
          "arrowsize": 2,
          "ax": 0.037037037037037035,
          "axref": "x",
          "ay": 0.3177570093457944,
          "ayref": "y",
          "showarrow": true,
          "standoff": 5,
          "startstandoff": 5,
          "text": "",
          "x": 0.1111111111111111,
          "xref": "x",
          "y": 0.03271028037383177,
          "yref": "y"
         },
         {
          "arrowcolor": "gray",
          "arrowhead": 2,
          "arrowsize": 2,
          "ax": 0.037037037037037035,
          "axref": "x",
          "ay": 0.3177570093457944,
          "ayref": "y",
          "showarrow": true,
          "standoff": 5,
          "startstandoff": 5,
          "text": "",
          "x": 0.18518518518518517,
          "xref": "x",
          "y": 0.12149532710280374,
          "yref": "y"
         },
         {
          "arrowcolor": "gray",
          "arrowhead": 2,
          "arrowsize": 2,
          "ax": 0.037037037037037035,
          "axref": "x",
          "ay": 0.3177570093457944,
          "ayref": "y",
          "showarrow": true,
          "standoff": 5,
          "startstandoff": 5,
          "text": "",
          "x": 0.3333333333333333,
          "xref": "x",
          "y": 0.3364485981308411,
          "yref": "y"
         },
         {
          "arrowcolor": "gray",
          "arrowhead": 2,
          "arrowsize": 2,
          "ax": 0.25925925925925924,
          "axref": "x",
          "ay": 0.03271028037383177,
          "ayref": "y",
          "showarrow": true,
          "standoff": 5,
          "startstandoff": 5,
          "text": "",
          "x": 0.3333333333333333,
          "xref": "x",
          "y": 0.3364485981308411,
          "yref": "y"
         },
         {
          "arrowcolor": "gray",
          "arrowhead": 2,
          "arrowsize": 2,
          "ax": 0.3333333333333333,
          "axref": "x",
          "ay": 0.3364485981308411,
          "ayref": "y",
          "showarrow": true,
          "standoff": 5,
          "startstandoff": 5,
          "text": "",
          "x": 0.4074074074074074,
          "xref": "x",
          "y": 0.3925233644859813,
          "yref": "y"
         },
         {
          "arrowcolor": "gray",
          "arrowhead": 2,
          "arrowsize": 2,
          "ax": 0.3333333333333333,
          "axref": "x",
          "ay": 0.3364485981308411,
          "ayref": "y",
          "showarrow": true,
          "standoff": 5,
          "startstandoff": 5,
          "text": "",
          "x": 0.4074074074074074,
          "xref": "x",
          "y": 0.7289719626168224,
          "yref": "y"
         },
         {
          "arrowcolor": "gray",
          "arrowhead": 2,
          "arrowsize": 2,
          "ax": 0.3333333333333333,
          "axref": "x",
          "ay": 0.3364485981308411,
          "ayref": "y",
          "showarrow": true,
          "standoff": 5,
          "startstandoff": 5,
          "text": "",
          "x": 0.4074074074074074,
          "xref": "x",
          "y": -0.32242990654205606,
          "yref": "y"
         },
         {
          "arrowcolor": "gray",
          "arrowhead": 2,
          "arrowsize": 2,
          "ax": -0.037037037037037035,
          "axref": "x",
          "ay": 0.5654205607476636,
          "ayref": "y",
          "showarrow": true,
          "standoff": 5,
          "startstandoff": 5,
          "text": "",
          "x": 0.037037037037037035,
          "xref": "x",
          "y": 0.3177570093457944,
          "yref": "y"
         },
         {
          "arrowcolor": "gray",
          "arrowhead": 2,
          "arrowsize": 2,
          "ax": 0.4074074074074074,
          "axref": "x",
          "ay": 0.3925233644859813,
          "ayref": "y",
          "showarrow": true,
          "standoff": 5,
          "startstandoff": 5,
          "text": "",
          "x": 0.48148148148148145,
          "xref": "x",
          "y": 0.4485981308411215,
          "yref": "y"
         },
         {
          "arrowcolor": "gray",
          "arrowhead": 2,
          "arrowsize": 2,
          "ax": 0.8518518518518519,
          "axref": "x",
          "ay": 0.9065420560747663,
          "ayref": "y",
          "showarrow": true,
          "standoff": 5,
          "startstandoff": 5,
          "text": "",
          "x": 0.9259259259259259,
          "xref": "x",
          "y": 0.822429906542056,
          "yref": "y"
         },
         {
          "arrowcolor": "gray",
          "arrowhead": 2,
          "arrowsize": 2,
          "ax": 0.8518518518518519,
          "axref": "x",
          "ay": 0.9065420560747663,
          "ayref": "y",
          "showarrow": true,
          "standoff": 5,
          "startstandoff": 5,
          "text": "",
          "x": 0.9259259259259259,
          "xref": "x",
          "y": 0.308411214953271,
          "yref": "y"
         },
         {
          "arrowcolor": "gray",
          "arrowhead": 2,
          "arrowsize": 2,
          "ax": 0.8518518518518519,
          "axref": "x",
          "ay": 0.9065420560747663,
          "ayref": "y",
          "showarrow": true,
          "standoff": 5,
          "startstandoff": 5,
          "text": "",
          "x": 1,
          "xref": "x",
          "y": 0.822429906542056,
          "yref": "y"
         },
         {
          "arrowcolor": "gray",
          "arrowhead": 2,
          "arrowsize": 2,
          "ax": 0.8518518518518519,
          "axref": "x",
          "ay": -0.1588785046728972,
          "ayref": "y",
          "showarrow": true,
          "standoff": 5,
          "startstandoff": 5,
          "text": "",
          "x": 1,
          "xref": "x",
          "y": -0.028037383177570093,
          "yref": "y"
         },
         {
          "arrowcolor": "gray",
          "arrowhead": 2,
          "arrowsize": 2,
          "ax": 0.8518518518518519,
          "axref": "x",
          "ay": -0.1588785046728972,
          "ayref": "y",
          "showarrow": true,
          "standoff": 5,
          "startstandoff": 5,
          "text": "",
          "x": 0.9259259259259259,
          "xref": "x",
          "y": 0.308411214953271,
          "yref": "y"
         },
         {
          "arrowcolor": "gray",
          "arrowhead": 2,
          "arrowsize": 2,
          "ax": 0.8518518518518519,
          "axref": "x",
          "ay": -0.1588785046728972,
          "ayref": "y",
          "showarrow": true,
          "standoff": 5,
          "startstandoff": 5,
          "text": "",
          "x": 0.9259259259259259,
          "xref": "x",
          "y": -0.028037383177570093,
          "yref": "y"
         },
         {
          "arrowcolor": "gray",
          "arrowhead": 2,
          "arrowsize": 2,
          "ax": 0.9259259259259259,
          "axref": "x",
          "ay": 0.822429906542056,
          "ayref": "y",
          "showarrow": true,
          "standoff": 5,
          "startstandoff": 5,
          "text": "",
          "x": 1,
          "xref": "x",
          "y": 0.397196261682243,
          "yref": "y"
         },
         {
          "arrowcolor": "gray",
          "arrowhead": 2,
          "arrowsize": 2,
          "ax": 0.9259259259259259,
          "axref": "x",
          "ay": 0.822429906542056,
          "ayref": "y",
          "showarrow": true,
          "standoff": 5,
          "startstandoff": 5,
          "text": "",
          "x": 1,
          "xref": "x",
          "y": 0.822429906542056,
          "yref": "y"
         },
         {
          "arrowcolor": "gray",
          "arrowhead": 2,
          "arrowsize": 2,
          "ax": 0.9259259259259259,
          "axref": "x",
          "ay": 0.308411214953271,
          "ayref": "y",
          "showarrow": true,
          "standoff": 5,
          "startstandoff": 5,
          "text": "",
          "x": 1,
          "xref": "x",
          "y": -0.028037383177570093,
          "yref": "y"
         },
         {
          "arrowcolor": "gray",
          "arrowhead": 2,
          "arrowsize": 2,
          "ax": 0.9259259259259259,
          "axref": "x",
          "ay": 0.308411214953271,
          "ayref": "y",
          "showarrow": true,
          "standoff": 5,
          "startstandoff": 5,
          "text": "",
          "x": 1,
          "xref": "x",
          "y": 0.397196261682243,
          "yref": "y"
         },
         {
          "arrowcolor": "gray",
          "arrowhead": 2,
          "arrowsize": 2,
          "ax": 0.9259259259259259,
          "axref": "x",
          "ay": 0.308411214953271,
          "ayref": "y",
          "showarrow": true,
          "standoff": 5,
          "startstandoff": 5,
          "text": "",
          "x": 1,
          "xref": "x",
          "y": 0.822429906542056,
          "yref": "y"
         },
         {
          "arrowcolor": "gray",
          "arrowhead": 2,
          "arrowsize": 2,
          "ax": 0.9259259259259259,
          "axref": "x",
          "ay": -0.028037383177570093,
          "ayref": "y",
          "showarrow": true,
          "standoff": 5,
          "startstandoff": 5,
          "text": "",
          "x": 1,
          "xref": "x",
          "y": -0.028037383177570093,
          "yref": "y"
         },
         {
          "arrowcolor": "gray",
          "arrowhead": 2,
          "arrowsize": 2,
          "ax": 0.9259259259259259,
          "axref": "x",
          "ay": -0.028037383177570093,
          "ayref": "y",
          "showarrow": true,
          "standoff": 5,
          "startstandoff": 5,
          "text": "",
          "x": 1,
          "xref": "x",
          "y": 0.397196261682243,
          "yref": "y"
         },
         {
          "arrowcolor": "gray",
          "arrowhead": 2,
          "arrowsize": 2,
          "ax": 0.8518518518518519,
          "axref": "x",
          "ay": 0.48598130841121495,
          "ayref": "y",
          "showarrow": true,
          "standoff": 5,
          "startstandoff": 5,
          "text": "",
          "x": 0.9259259259259259,
          "xref": "x",
          "y": 0.822429906542056,
          "yref": "y"
         },
         {
          "arrowcolor": "gray",
          "arrowhead": 2,
          "arrowsize": 2,
          "ax": 0.8518518518518519,
          "axref": "x",
          "ay": 0.48598130841121495,
          "ayref": "y",
          "showarrow": true,
          "standoff": 5,
          "startstandoff": 5,
          "text": "",
          "x": 0.9259259259259259,
          "xref": "x",
          "y": 0.308411214953271,
          "yref": "y"
         },
         {
          "arrowcolor": "gray",
          "arrowhead": 2,
          "arrowsize": 2,
          "ax": 0.8518518518518519,
          "axref": "x",
          "ay": 0.48598130841121495,
          "ayref": "y",
          "showarrow": true,
          "standoff": 5,
          "startstandoff": 5,
          "text": "",
          "x": 0.9259259259259259,
          "xref": "x",
          "y": -0.028037383177570093,
          "yref": "y"
         },
         {
          "arrowcolor": "gray",
          "arrowhead": 2,
          "arrowsize": 2,
          "ax": 0.8518518518518519,
          "axref": "x",
          "ay": 0.48598130841121495,
          "ayref": "y",
          "showarrow": true,
          "standoff": 5,
          "startstandoff": 5,
          "text": "",
          "x": 1,
          "xref": "x",
          "y": 0.397196261682243,
          "yref": "y"
         },
         {
          "arrowcolor": "gray",
          "arrowhead": 2,
          "arrowsize": 2,
          "ax": 0.4074074074074074,
          "axref": "x",
          "ay": 0.7289719626168224,
          "ayref": "y",
          "showarrow": true,
          "standoff": 5,
          "startstandoff": 5,
          "text": "",
          "x": 0.48148148148148145,
          "xref": "x",
          "y": 1,
          "yref": "y"
         },
         {
          "arrowcolor": "gray",
          "arrowhead": 2,
          "arrowsize": 2,
          "ax": 0.4074074074074074,
          "axref": "x",
          "ay": 0.7289719626168224,
          "ayref": "y",
          "showarrow": true,
          "standoff": 5,
          "startstandoff": 5,
          "text": "",
          "x": 0.6296296296296297,
          "xref": "x",
          "y": 0.4719626168224299,
          "yref": "y"
         },
         {
          "arrowcolor": "gray",
          "arrowhead": 2,
          "arrowsize": 2,
          "ax": 0.48148148148148145,
          "axref": "x",
          "ay": 1,
          "ayref": "y",
          "showarrow": true,
          "standoff": 5,
          "startstandoff": 5,
          "text": "",
          "x": 0.5555555555555556,
          "xref": "x",
          "y": 0.985981308411215,
          "yref": "y"
         },
         {
          "arrowcolor": "gray",
          "arrowhead": 2,
          "arrowsize": 2,
          "ax": 0.6296296296296297,
          "axref": "x",
          "ay": 0.985981308411215,
          "ayref": "y",
          "showarrow": true,
          "standoff": 5,
          "startstandoff": 5,
          "text": "",
          "x": 0.7037037037037037,
          "xref": "x",
          "y": 0.985981308411215,
          "yref": "y"
         },
         {
          "arrowcolor": "gray",
          "arrowhead": 2,
          "arrowsize": 2,
          "ax": -0.1111111111111111,
          "axref": "x",
          "ay": 0.822429906542056,
          "ayref": "y",
          "showarrow": true,
          "standoff": 5,
          "startstandoff": 5,
          "text": "",
          "x": -0.037037037037037035,
          "xref": "x",
          "y": 0.5654205607476636,
          "yref": "y"
         },
         {
          "arrowcolor": "gray",
          "arrowhead": 2,
          "arrowsize": 2,
          "ax": -0.1111111111111111,
          "axref": "x",
          "ay": 0.822429906542056,
          "ayref": "y",
          "showarrow": true,
          "standoff": 5,
          "startstandoff": 5,
          "text": "",
          "x": 0.4074074074074074,
          "xref": "x",
          "y": 0.3925233644859813,
          "yref": "y"
         },
         {
          "arrowcolor": "gray",
          "arrowhead": 2,
          "arrowsize": 2,
          "ax": -0.1111111111111111,
          "axref": "x",
          "ay": 0.822429906542056,
          "ayref": "y",
          "showarrow": true,
          "standoff": 5,
          "startstandoff": 5,
          "text": "",
          "x": 0.48148148148148145,
          "xref": "x",
          "y": 1,
          "yref": "y"
         },
         {
          "arrowcolor": "gray",
          "arrowhead": 2,
          "arrowsize": 2,
          "ax": -0.25925925925925924,
          "axref": "x",
          "ay": 0.2803738317757009,
          "ayref": "y",
          "showarrow": true,
          "standoff": 5,
          "startstandoff": 5,
          "text": "",
          "x": -0.1111111111111111,
          "xref": "x",
          "y": 0.822429906542056,
          "yref": "y"
         },
         {
          "arrowcolor": "gray",
          "arrowhead": 2,
          "arrowsize": 2,
          "ax": -0.25925925925925924,
          "axref": "x",
          "ay": 0.2803738317757009,
          "ayref": "y",
          "showarrow": true,
          "standoff": 5,
          "startstandoff": 5,
          "text": "",
          "x": -0.18518518518518517,
          "xref": "x",
          "y": -0.1542056074766355,
          "yref": "y"
         },
         {
          "arrowcolor": "gray",
          "arrowhead": 2,
          "arrowsize": 2,
          "ax": -0.25925925925925924,
          "axref": "x",
          "ay": 0.2803738317757009,
          "ayref": "y",
          "showarrow": true,
          "standoff": 5,
          "startstandoff": 5,
          "text": "",
          "x": -0.1111111111111111,
          "xref": "x",
          "y": 0.102803738317757,
          "yref": "y"
         },
         {
          "arrowcolor": "gray",
          "arrowhead": 2,
          "arrowsize": 2,
          "ax": -0.25925925925925924,
          "axref": "x",
          "ay": -0.056074766355140186,
          "ayref": "y",
          "showarrow": true,
          "standoff": 5,
          "startstandoff": 5,
          "text": "",
          "x": -0.18518518518518517,
          "xref": "x",
          "y": -0.1542056074766355,
          "yref": "y"
         },
         {
          "arrowcolor": "gray",
          "arrowhead": 2,
          "arrowsize": 2,
          "ax": -0.25925925925925924,
          "axref": "x",
          "ay": -0.056074766355140186,
          "ayref": "y",
          "showarrow": true,
          "standoff": 5,
          "startstandoff": 5,
          "text": "",
          "x": -0.1111111111111111,
          "xref": "x",
          "y": 0.102803738317757,
          "yref": "y"
         },
         {
          "arrowcolor": "gray",
          "arrowhead": 2,
          "arrowsize": 2,
          "ax": -0.18518518518518517,
          "axref": "x",
          "ay": -0.1542056074766355,
          "ayref": "y",
          "showarrow": true,
          "standoff": 5,
          "startstandoff": 5,
          "text": "",
          "x": -0.1111111111111111,
          "xref": "x",
          "y": 0.102803738317757,
          "yref": "y"
         },
         {
          "arrowcolor": "gray",
          "arrowhead": 2,
          "arrowsize": 2,
          "ax": -0.18518518518518517,
          "axref": "x",
          "ay": -0.1542056074766355,
          "ayref": "y",
          "showarrow": true,
          "standoff": 5,
          "startstandoff": 5,
          "text": "",
          "x": 0.4074074074074074,
          "xref": "x",
          "y": 0.014018691588785047,
          "yref": "y"
         },
         {
          "arrowcolor": "gray",
          "arrowhead": 2,
          "arrowsize": 2,
          "ax": -0.6296296296296297,
          "axref": "x",
          "ay": -0.48598130841121495,
          "ayref": "y",
          "showarrow": true,
          "standoff": 5,
          "startstandoff": 5,
          "text": "",
          "x": -0.5555555555555556,
          "xref": "x",
          "y": -0.22897196261682243,
          "yref": "y"
         },
         {
          "arrowcolor": "gray",
          "arrowhead": 2,
          "arrowsize": 2,
          "ax": -0.6296296296296297,
          "axref": "x",
          "ay": -0.48598130841121495,
          "ayref": "y",
          "showarrow": true,
          "standoff": 5,
          "startstandoff": 5,
          "text": "",
          "x": -0.18518518518518517,
          "xref": "x",
          "y": -0.5186915887850467,
          "yref": "y"
         },
         {
          "arrowcolor": "gray",
          "arrowhead": 2,
          "arrowsize": 2,
          "ax": -0.7037037037037037,
          "axref": "x",
          "ay": -0.4532710280373832,
          "ayref": "y",
          "showarrow": true,
          "standoff": 5,
          "startstandoff": 5,
          "text": "",
          "x": -0.6296296296296297,
          "xref": "x",
          "y": 0.10747663551401869,
          "yref": "y"
         },
         {
          "arrowcolor": "gray",
          "arrowhead": 2,
          "arrowsize": 2,
          "ax": -0.4074074074074074,
          "axref": "x",
          "ay": 0.037383177570093455,
          "ayref": "y",
          "showarrow": true,
          "standoff": 5,
          "startstandoff": 5,
          "text": "",
          "x": -0.25925925925925924,
          "xref": "x",
          "y": -0.056074766355140186,
          "yref": "y"
         },
         {
          "arrowcolor": "gray",
          "arrowhead": 2,
          "arrowsize": 2,
          "ax": -0.4074074074074074,
          "axref": "x",
          "ay": 0.037383177570093455,
          "ayref": "y",
          "showarrow": true,
          "standoff": 5,
          "startstandoff": 5,
          "text": "",
          "x": -0.3333333333333333,
          "xref": "x",
          "y": 0.2616822429906542,
          "yref": "y"
         },
         {
          "arrowcolor": "gray",
          "arrowhead": 2,
          "arrowsize": 2,
          "ax": -0.5555555555555556,
          "axref": "x",
          "ay": 0.10747663551401869,
          "ayref": "y",
          "showarrow": true,
          "standoff": 5,
          "startstandoff": 5,
          "text": "",
          "x": -0.48148148148148145,
          "xref": "x",
          "y": 0.10747663551401869,
          "yref": "y"
         },
         {
          "arrowcolor": "gray",
          "arrowhead": 2,
          "arrowsize": 2,
          "ax": -0.3333333333333333,
          "axref": "x",
          "ay": 0.2616822429906542,
          "ayref": "y",
          "showarrow": true,
          "standoff": 5,
          "startstandoff": 5,
          "text": "",
          "x": -0.25925925925925924,
          "xref": "x",
          "y": 0.2803738317757009,
          "yref": "y"
         },
         {
          "arrowcolor": "gray",
          "arrowhead": 2,
          "arrowsize": 2,
          "ax": -0.5555555555555556,
          "axref": "x",
          "ay": -0.22897196261682243,
          "ayref": "y",
          "showarrow": true,
          "standoff": 5,
          "startstandoff": 5,
          "text": "",
          "x": -0.48148148148148145,
          "xref": "x",
          "y": -0.22897196261682243,
          "yref": "y"
         },
         {
          "arrowcolor": "gray",
          "arrowhead": 2,
          "arrowsize": 2,
          "ax": -0.1111111111111111,
          "axref": "x",
          "ay": 0.102803738317757,
          "ayref": "y",
          "showarrow": true,
          "standoff": 5,
          "startstandoff": 5,
          "text": "",
          "x": -0.037037037037037035,
          "xref": "x",
          "y": -0.8364485981308412,
          "yref": "y"
         },
         {
          "arrowcolor": "gray",
          "arrowhead": 2,
          "arrowsize": 2,
          "ax": -0.1111111111111111,
          "axref": "x",
          "ay": 0.102803738317757,
          "ayref": "y",
          "showarrow": true,
          "standoff": 5,
          "startstandoff": 5,
          "text": "",
          "x": -0.037037037037037035,
          "xref": "x",
          "y": 0.5654205607476636,
          "yref": "y"
         },
         {
          "arrowcolor": "gray",
          "arrowhead": 2,
          "arrowsize": 2,
          "ax": -0.1111111111111111,
          "axref": "x",
          "ay": 0.102803738317757,
          "ayref": "y",
          "showarrow": true,
          "standoff": 5,
          "startstandoff": 5,
          "text": "",
          "x": 0.4074074074074074,
          "xref": "x",
          "y": 0.3925233644859813,
          "yref": "y"
         },
         {
          "arrowcolor": "gray",
          "arrowhead": 2,
          "arrowsize": 2,
          "ax": -0.1111111111111111,
          "axref": "x",
          "ay": 0.102803738317757,
          "ayref": "y",
          "showarrow": true,
          "standoff": 5,
          "startstandoff": 5,
          "text": "",
          "x": 0.48148148148148145,
          "xref": "x",
          "y": 1,
          "yref": "y"
         },
         {
          "arrowcolor": "gray",
          "arrowhead": 2,
          "arrowsize": 2,
          "ax": 0.4074074074074074,
          "axref": "x",
          "ay": 0.014018691588785047,
          "ayref": "y",
          "showarrow": true,
          "standoff": 5,
          "startstandoff": 5,
          "text": "",
          "x": 0.48148148148148145,
          "xref": "x",
          "y": -0.22429906542056074,
          "yref": "y"
         },
         {
          "arrowcolor": "gray",
          "arrowhead": 2,
          "arrowsize": 2,
          "ax": 0.4074074074074074,
          "axref": "x",
          "ay": 0.014018691588785047,
          "ayref": "y",
          "showarrow": true,
          "standoff": 5,
          "startstandoff": 5,
          "text": "",
          "x": 0.48148148148148145,
          "xref": "x",
          "y": 0.11214953271028037,
          "yref": "y"
         },
         {
          "arrowcolor": "gray",
          "arrowhead": 2,
          "arrowsize": 2,
          "ax": -0.6296296296296297,
          "axref": "x",
          "ay": 0.10747663551401869,
          "ayref": "y",
          "showarrow": true,
          "standoff": 5,
          "startstandoff": 5,
          "text": "",
          "x": -0.5555555555555556,
          "xref": "x",
          "y": 0.10747663551401869,
          "yref": "y"
         },
         {
          "arrowcolor": "gray",
          "arrowhead": 2,
          "arrowsize": 2,
          "ax": 0.7777777777777778,
          "axref": "x",
          "ay": 0.985981308411215,
          "ayref": "y",
          "showarrow": true,
          "standoff": 5,
          "startstandoff": 5,
          "text": "",
          "x": 0.8518518518518519,
          "xref": "x",
          "y": 0.9065420560747663,
          "yref": "y"
         },
         {
          "arrowcolor": "gray",
          "arrowhead": 2,
          "arrowsize": 2,
          "ax": -0.4074074074074074,
          "axref": "x",
          "ay": -1,
          "ayref": "y",
          "showarrow": true,
          "standoff": 5,
          "startstandoff": 5,
          "text": "",
          "x": -0.037037037037037035,
          "xref": "x",
          "y": -0.8364485981308412,
          "yref": "y"
         },
         {
          "arrowcolor": "gray",
          "arrowhead": 2,
          "arrowsize": 2,
          "ax": -0.3333333333333333,
          "axref": "x",
          "ay": -0.7429906542056075,
          "ayref": "y",
          "showarrow": true,
          "standoff": 5,
          "startstandoff": 5,
          "text": "",
          "x": -0.037037037037037035,
          "xref": "x",
          "y": -0.8364485981308412,
          "yref": "y"
         },
         {
          "arrowcolor": "gray",
          "arrowhead": 2,
          "arrowsize": 2,
          "ax": 0.5555555555555556,
          "axref": "x",
          "ay": 0.985981308411215,
          "ayref": "y",
          "showarrow": true,
          "standoff": 5,
          "startstandoff": 5,
          "text": "",
          "x": 0.8518518518518519,
          "xref": "x",
          "y": 0.48598130841121495,
          "yref": "y"
         },
         {
          "arrowcolor": "gray",
          "arrowhead": 2,
          "arrowsize": 2,
          "ax": 0.5555555555555556,
          "axref": "x",
          "ay": 0.985981308411215,
          "ayref": "y",
          "showarrow": true,
          "standoff": 5,
          "startstandoff": 5,
          "text": "",
          "x": 0.6296296296296297,
          "xref": "x",
          "y": 0.985981308411215,
          "yref": "y"
         },
         {
          "arrowcolor": "gray",
          "arrowhead": 2,
          "arrowsize": 2,
          "ax": 0.6296296296296297,
          "axref": "x",
          "ay": 0.4719626168224299,
          "ayref": "y",
          "showarrow": true,
          "standoff": 5,
          "startstandoff": 5,
          "text": "",
          "x": 0.7777777777777778,
          "xref": "x",
          "y": 0.985981308411215,
          "yref": "y"
         },
         {
          "arrowcolor": "gray",
          "arrowhead": 2,
          "arrowsize": 2,
          "ax": 0.4074074074074074,
          "axref": "x",
          "ay": -0.32242990654205606,
          "ayref": "y",
          "showarrow": true,
          "standoff": 5,
          "startstandoff": 5,
          "text": "",
          "x": 0.48148148148148145,
          "xref": "x",
          "y": -0.5654205607476636,
          "yref": "y"
         },
         {
          "arrowcolor": "gray",
          "arrowhead": 2,
          "arrowsize": 2,
          "ax": -0.48148148148148145,
          "axref": "x",
          "ay": -0.22897196261682243,
          "ayref": "y",
          "showarrow": true,
          "standoff": 5,
          "startstandoff": 5,
          "text": "",
          "x": -0.4074074074074074,
          "xref": "x",
          "y": 0.037383177570093455,
          "yref": "y"
         },
         {
          "arrowcolor": "gray",
          "arrowhead": 2,
          "arrowsize": 2,
          "ax": 0.7037037037037037,
          "axref": "x",
          "ay": 0.985981308411215,
          "ayref": "y",
          "showarrow": true,
          "standoff": 5,
          "startstandoff": 5,
          "text": "",
          "x": 0.7777777777777778,
          "xref": "x",
          "y": 0.985981308411215,
          "yref": "y"
         },
         {
          "arrowcolor": "gray",
          "arrowhead": 2,
          "arrowsize": 2,
          "ax": -0.18518518518518517,
          "axref": "x",
          "ay": -0.5186915887850467,
          "ayref": "y",
          "showarrow": true,
          "standoff": 5,
          "startstandoff": 5,
          "text": "",
          "x": 0.48148148148148145,
          "xref": "x",
          "y": -0.5654205607476636,
          "yref": "y"
         },
         {
          "arrowcolor": "gray",
          "arrowhead": 2,
          "arrowsize": 2,
          "ax": 0.48148148148148145,
          "axref": "x",
          "ay": 0.4485981308411215,
          "ayref": "y",
          "showarrow": true,
          "standoff": 5,
          "startstandoff": 5,
          "text": "",
          "x": 0.5555555555555556,
          "xref": "x",
          "y": 0.4485981308411215,
          "yref": "y"
         },
         {
          "arrowcolor": "gray",
          "arrowhead": 2,
          "arrowsize": 2,
          "ax": -0.48148148148148145,
          "axref": "x",
          "ay": 0.10747663551401869,
          "ayref": "y",
          "showarrow": true,
          "standoff": 5,
          "startstandoff": 5,
          "text": "",
          "x": -0.4074074074074074,
          "xref": "x",
          "y": 0.037383177570093455,
          "yref": "y"
         },
         {
          "arrowcolor": "gray",
          "arrowhead": 2,
          "arrowsize": 2,
          "ax": 0.48148148148148145,
          "axref": "x",
          "ay": 0.11214953271028037,
          "ayref": "y",
          "showarrow": true,
          "standoff": 5,
          "startstandoff": 5,
          "text": "",
          "x": 0.5555555555555556,
          "xref": "x",
          "y": 0.4485981308411215,
          "yref": "y"
         },
         {
          "arrowcolor": "gray",
          "arrowhead": 2,
          "arrowsize": 2,
          "ax": 0.48148148148148145,
          "axref": "x",
          "ay": 0.11214953271028037,
          "ayref": "y",
          "showarrow": true,
          "standoff": 5,
          "startstandoff": 5,
          "text": "",
          "x": 0.8518518518518519,
          "xref": "x",
          "y": 0.48598130841121495,
          "yref": "y"
         }
        ],
        "hoverlabel": {
         "font": {
          "size": 10
         }
        },
        "hovermode": "closest",
        "margin": {
         "b": 20,
         "l": 5,
         "r": 5,
         "t": 40
        },
        "showlegend": false,
        "template": {
         "data": {
          "bar": [
           {
            "error_x": {
             "color": "#2a3f5f"
            },
            "error_y": {
             "color": "#2a3f5f"
            },
            "marker": {
             "line": {
              "color": "#E5ECF6",
              "width": 0.5
             },
             "pattern": {
              "fillmode": "overlay",
              "size": 10,
              "solidity": 0.2
             }
            },
            "type": "bar"
           }
          ],
          "barpolar": [
           {
            "marker": {
             "line": {
              "color": "#E5ECF6",
              "width": 0.5
             },
             "pattern": {
              "fillmode": "overlay",
              "size": 10,
              "solidity": 0.2
             }
            },
            "type": "barpolar"
           }
          ],
          "carpet": [
           {
            "aaxis": {
             "endlinecolor": "#2a3f5f",
             "gridcolor": "white",
             "linecolor": "white",
             "minorgridcolor": "white",
             "startlinecolor": "#2a3f5f"
            },
            "baxis": {
             "endlinecolor": "#2a3f5f",
             "gridcolor": "white",
             "linecolor": "white",
             "minorgridcolor": "white",
             "startlinecolor": "#2a3f5f"
            },
            "type": "carpet"
           }
          ],
          "choropleth": [
           {
            "colorbar": {
             "outlinewidth": 0,
             "ticks": ""
            },
            "type": "choropleth"
           }
          ],
          "contour": [
           {
            "colorbar": {
             "outlinewidth": 0,
             "ticks": ""
            },
            "colorscale": [
             [
              0,
              "#0d0887"
             ],
             [
              0.1111111111111111,
              "#46039f"
             ],
             [
              0.2222222222222222,
              "#7201a8"
             ],
             [
              0.3333333333333333,
              "#9c179e"
             ],
             [
              0.4444444444444444,
              "#bd3786"
             ],
             [
              0.5555555555555556,
              "#d8576b"
             ],
             [
              0.6666666666666666,
              "#ed7953"
             ],
             [
              0.7777777777777778,
              "#fb9f3a"
             ],
             [
              0.8888888888888888,
              "#fdca26"
             ],
             [
              1,
              "#f0f921"
             ]
            ],
            "type": "contour"
           }
          ],
          "contourcarpet": [
           {
            "colorbar": {
             "outlinewidth": 0,
             "ticks": ""
            },
            "type": "contourcarpet"
           }
          ],
          "heatmap": [
           {
            "colorbar": {
             "outlinewidth": 0,
             "ticks": ""
            },
            "colorscale": [
             [
              0,
              "#0d0887"
             ],
             [
              0.1111111111111111,
              "#46039f"
             ],
             [
              0.2222222222222222,
              "#7201a8"
             ],
             [
              0.3333333333333333,
              "#9c179e"
             ],
             [
              0.4444444444444444,
              "#bd3786"
             ],
             [
              0.5555555555555556,
              "#d8576b"
             ],
             [
              0.6666666666666666,
              "#ed7953"
             ],
             [
              0.7777777777777778,
              "#fb9f3a"
             ],
             [
              0.8888888888888888,
              "#fdca26"
             ],
             [
              1,
              "#f0f921"
             ]
            ],
            "type": "heatmap"
           }
          ],
          "heatmapgl": [
           {
            "colorbar": {
             "outlinewidth": 0,
             "ticks": ""
            },
            "colorscale": [
             [
              0,
              "#0d0887"
             ],
             [
              0.1111111111111111,
              "#46039f"
             ],
             [
              0.2222222222222222,
              "#7201a8"
             ],
             [
              0.3333333333333333,
              "#9c179e"
             ],
             [
              0.4444444444444444,
              "#bd3786"
             ],
             [
              0.5555555555555556,
              "#d8576b"
             ],
             [
              0.6666666666666666,
              "#ed7953"
             ],
             [
              0.7777777777777778,
              "#fb9f3a"
             ],
             [
              0.8888888888888888,
              "#fdca26"
             ],
             [
              1,
              "#f0f921"
             ]
            ],
            "type": "heatmapgl"
           }
          ],
          "histogram": [
           {
            "marker": {
             "pattern": {
              "fillmode": "overlay",
              "size": 10,
              "solidity": 0.2
             }
            },
            "type": "histogram"
           }
          ],
          "histogram2d": [
           {
            "colorbar": {
             "outlinewidth": 0,
             "ticks": ""
            },
            "colorscale": [
             [
              0,
              "#0d0887"
             ],
             [
              0.1111111111111111,
              "#46039f"
             ],
             [
              0.2222222222222222,
              "#7201a8"
             ],
             [
              0.3333333333333333,
              "#9c179e"
             ],
             [
              0.4444444444444444,
              "#bd3786"
             ],
             [
              0.5555555555555556,
              "#d8576b"
             ],
             [
              0.6666666666666666,
              "#ed7953"
             ],
             [
              0.7777777777777778,
              "#fb9f3a"
             ],
             [
              0.8888888888888888,
              "#fdca26"
             ],
             [
              1,
              "#f0f921"
             ]
            ],
            "type": "histogram2d"
           }
          ],
          "histogram2dcontour": [
           {
            "colorbar": {
             "outlinewidth": 0,
             "ticks": ""
            },
            "colorscale": [
             [
              0,
              "#0d0887"
             ],
             [
              0.1111111111111111,
              "#46039f"
             ],
             [
              0.2222222222222222,
              "#7201a8"
             ],
             [
              0.3333333333333333,
              "#9c179e"
             ],
             [
              0.4444444444444444,
              "#bd3786"
             ],
             [
              0.5555555555555556,
              "#d8576b"
             ],
             [
              0.6666666666666666,
              "#ed7953"
             ],
             [
              0.7777777777777778,
              "#fb9f3a"
             ],
             [
              0.8888888888888888,
              "#fdca26"
             ],
             [
              1,
              "#f0f921"
             ]
            ],
            "type": "histogram2dcontour"
           }
          ],
          "mesh3d": [
           {
            "colorbar": {
             "outlinewidth": 0,
             "ticks": ""
            },
            "type": "mesh3d"
           }
          ],
          "parcoords": [
           {
            "line": {
             "colorbar": {
              "outlinewidth": 0,
              "ticks": ""
             }
            },
            "type": "parcoords"
           }
          ],
          "pie": [
           {
            "automargin": true,
            "type": "pie"
           }
          ],
          "scatter": [
           {
            "fillpattern": {
             "fillmode": "overlay",
             "size": 10,
             "solidity": 0.2
            },
            "type": "scatter"
           }
          ],
          "scatter3d": [
           {
            "line": {
             "colorbar": {
              "outlinewidth": 0,
              "ticks": ""
             }
            },
            "marker": {
             "colorbar": {
              "outlinewidth": 0,
              "ticks": ""
             }
            },
            "type": "scatter3d"
           }
          ],
          "scattercarpet": [
           {
            "marker": {
             "colorbar": {
              "outlinewidth": 0,
              "ticks": ""
             }
            },
            "type": "scattercarpet"
           }
          ],
          "scattergeo": [
           {
            "marker": {
             "colorbar": {
              "outlinewidth": 0,
              "ticks": ""
             }
            },
            "type": "scattergeo"
           }
          ],
          "scattergl": [
           {
            "marker": {
             "colorbar": {
              "outlinewidth": 0,
              "ticks": ""
             }
            },
            "type": "scattergl"
           }
          ],
          "scattermapbox": [
           {
            "marker": {
             "colorbar": {
              "outlinewidth": 0,
              "ticks": ""
             }
            },
            "type": "scattermapbox"
           }
          ],
          "scatterpolar": [
           {
            "marker": {
             "colorbar": {
              "outlinewidth": 0,
              "ticks": ""
             }
            },
            "type": "scatterpolar"
           }
          ],
          "scatterpolargl": [
           {
            "marker": {
             "colorbar": {
              "outlinewidth": 0,
              "ticks": ""
             }
            },
            "type": "scatterpolargl"
           }
          ],
          "scatterternary": [
           {
            "marker": {
             "colorbar": {
              "outlinewidth": 0,
              "ticks": ""
             }
            },
            "type": "scatterternary"
           }
          ],
          "surface": [
           {
            "colorbar": {
             "outlinewidth": 0,
             "ticks": ""
            },
            "colorscale": [
             [
              0,
              "#0d0887"
             ],
             [
              0.1111111111111111,
              "#46039f"
             ],
             [
              0.2222222222222222,
              "#7201a8"
             ],
             [
              0.3333333333333333,
              "#9c179e"
             ],
             [
              0.4444444444444444,
              "#bd3786"
             ],
             [
              0.5555555555555556,
              "#d8576b"
             ],
             [
              0.6666666666666666,
              "#ed7953"
             ],
             [
              0.7777777777777778,
              "#fb9f3a"
             ],
             [
              0.8888888888888888,
              "#fdca26"
             ],
             [
              1,
              "#f0f921"
             ]
            ],
            "type": "surface"
           }
          ],
          "table": [
           {
            "cells": {
             "fill": {
              "color": "#EBF0F8"
             },
             "line": {
              "color": "white"
             }
            },
            "header": {
             "fill": {
              "color": "#C8D4E3"
             },
             "line": {
              "color": "white"
             }
            },
            "type": "table"
           }
          ]
         },
         "layout": {
          "annotationdefaults": {
           "arrowcolor": "#2a3f5f",
           "arrowhead": 0,
           "arrowwidth": 1
          },
          "autotypenumbers": "strict",
          "coloraxis": {
           "colorbar": {
            "outlinewidth": 0,
            "ticks": ""
           }
          },
          "colorscale": {
           "diverging": [
            [
             0,
             "#8e0152"
            ],
            [
             0.1,
             "#c51b7d"
            ],
            [
             0.2,
             "#de77ae"
            ],
            [
             0.3,
             "#f1b6da"
            ],
            [
             0.4,
             "#fde0ef"
            ],
            [
             0.5,
             "#f7f7f7"
            ],
            [
             0.6,
             "#e6f5d0"
            ],
            [
             0.7,
             "#b8e186"
            ],
            [
             0.8,
             "#7fbc41"
            ],
            [
             0.9,
             "#4d9221"
            ],
            [
             1,
             "#276419"
            ]
           ],
           "sequential": [
            [
             0,
             "#0d0887"
            ],
            [
             0.1111111111111111,
             "#46039f"
            ],
            [
             0.2222222222222222,
             "#7201a8"
            ],
            [
             0.3333333333333333,
             "#9c179e"
            ],
            [
             0.4444444444444444,
             "#bd3786"
            ],
            [
             0.5555555555555556,
             "#d8576b"
            ],
            [
             0.6666666666666666,
             "#ed7953"
            ],
            [
             0.7777777777777778,
             "#fb9f3a"
            ],
            [
             0.8888888888888888,
             "#fdca26"
            ],
            [
             1,
             "#f0f921"
            ]
           ],
           "sequentialminus": [
            [
             0,
             "#0d0887"
            ],
            [
             0.1111111111111111,
             "#46039f"
            ],
            [
             0.2222222222222222,
             "#7201a8"
            ],
            [
             0.3333333333333333,
             "#9c179e"
            ],
            [
             0.4444444444444444,
             "#bd3786"
            ],
            [
             0.5555555555555556,
             "#d8576b"
            ],
            [
             0.6666666666666666,
             "#ed7953"
            ],
            [
             0.7777777777777778,
             "#fb9f3a"
            ],
            [
             0.8888888888888888,
             "#fdca26"
            ],
            [
             1,
             "#f0f921"
            ]
           ]
          },
          "colorway": [
           "#636efa",
           "#EF553B",
           "#00cc96",
           "#ab63fa",
           "#FFA15A",
           "#19d3f3",
           "#FF6692",
           "#B6E880",
           "#FF97FF",
           "#FECB52"
          ],
          "font": {
           "color": "#2a3f5f"
          },
          "geo": {
           "bgcolor": "white",
           "lakecolor": "white",
           "landcolor": "#E5ECF6",
           "showlakes": true,
           "showland": true,
           "subunitcolor": "white"
          },
          "hoverlabel": {
           "align": "left"
          },
          "hovermode": "closest",
          "mapbox": {
           "style": "light"
          },
          "paper_bgcolor": "white",
          "plot_bgcolor": "#E5ECF6",
          "polar": {
           "angularaxis": {
            "gridcolor": "white",
            "linecolor": "white",
            "ticks": ""
           },
           "bgcolor": "#E5ECF6",
           "radialaxis": {
            "gridcolor": "white",
            "linecolor": "white",
            "ticks": ""
           }
          },
          "scene": {
           "xaxis": {
            "backgroundcolor": "#E5ECF6",
            "gridcolor": "white",
            "gridwidth": 2,
            "linecolor": "white",
            "showbackground": true,
            "ticks": "",
            "zerolinecolor": "white"
           },
           "yaxis": {
            "backgroundcolor": "#E5ECF6",
            "gridcolor": "white",
            "gridwidth": 2,
            "linecolor": "white",
            "showbackground": true,
            "ticks": "",
            "zerolinecolor": "white"
           },
           "zaxis": {
            "backgroundcolor": "#E5ECF6",
            "gridcolor": "white",
            "gridwidth": 2,
            "linecolor": "white",
            "showbackground": true,
            "ticks": "",
            "zerolinecolor": "white"
           }
          },
          "shapedefaults": {
           "line": {
            "color": "#2a3f5f"
           }
          },
          "ternary": {
           "aaxis": {
            "gridcolor": "white",
            "linecolor": "white",
            "ticks": ""
           },
           "baxis": {
            "gridcolor": "white",
            "linecolor": "white",
            "ticks": ""
           },
           "bgcolor": "#E5ECF6",
           "caxis": {
            "gridcolor": "white",
            "linecolor": "white",
            "ticks": ""
           }
          },
          "title": {
           "x": 0.05
          },
          "xaxis": {
           "automargin": true,
           "gridcolor": "white",
           "linecolor": "white",
           "ticks": "",
           "title": {
            "standoff": 15
           },
           "zerolinecolor": "white",
           "zerolinewidth": 2
          },
          "yaxis": {
           "automargin": true,
           "gridcolor": "white",
           "linecolor": "white",
           "ticks": "",
           "title": {
            "standoff": 15
           },
           "zerolinecolor": "white",
           "zerolinewidth": 2
          }
         }
        },
        "xaxis": {
         "showgrid": false,
         "showticklabels": false,
         "zeroline": false
        },
        "yaxis": {
         "showgrid": false,
         "showticklabels": false,
         "zeroline": false
        }
       }
      }
     },
     "metadata": {},
     "output_type": "display_data"
    }
   ],
   "source": [
    "selector = {\"type\": \"descendants\", \"node\": \"geringfügig_beschäftigt\"}\n",
    "plot_dag(functions=policy_functions,\n",
    "         show_labels=False,\n",
    "         selectors=selector, \n",
    "         orientation ='h',\n",
    "         hover_source_code=True)"
   ]
  },
  {
   "cell_type": "markdown",
   "id": "60a39aae",
   "metadata": {},
   "source": [
    "# Hover info (source code)"
   ]
  },
  {
   "cell_type": "markdown",
   "id": "c4ec7b75",
   "metadata": {},
   "source": [
    "It is also possible to address the source code of the function. By setting `plot_dag(..., hover_source_code=True)`"
   ]
  },
  {
   "cell_type": "code",
   "execution_count": 58,
   "id": "32dd7895",
   "metadata": {
    "scrolled": true
   },
   "outputs": [
    {
     "data": {
      "application/vnd.plotly.v1+json": {
       "config": {
        "plotlyServerURL": "https://plot.ly"
       },
       "data": [
        {
         "hoverinfo": "none",
         "line": {
          "color": "blue",
          "width": 0.5
         },
         "mode": "lines",
         "showlegend": false,
         "type": "scatter",
         "uid": "3773872c-2a3e-4e93-b676-26ac04d5d455",
         "x": [
          0,
          1,
          "",
          -1,
          0,
          "",
          -1,
          0,
          ""
         ],
         "y": [
          0,
          0,
          "",
          -1,
          0,
          "",
          1,
          0,
          ""
         ]
        },
        {
         "hoverinfo": "skip",
         "marker": {
          "color": "red",
          "reversescale": true,
          "showscale": false,
          "size": 15
         },
         "mode": "markers+text",
         "showlegend": false,
         "text": [
          "abgelt_st_tu",
          "zu_verst_kapitaleink_tu",
          "kapitaleink_brutto_tu",
          "anz_erwachsene_tu"
         ],
         "textposition": "bottom center",
         "type": "scatter",
         "uid": "4ae15070-996e-4a56-bbc8-748228c9a257",
         "x": [
          1,
          0,
          -1,
          -1
         ],
         "y": [
          0,
          0,
          -1,
          1
         ]
        },
        {
         "hoverinfo": "text",
         "hoverlabel": {
          "bgcolor": "lightgrey",
          "font": {
           "color": "black"
          }
         },
         "hovertext": "def abgelt_st_tu(zu_verst_kapitaleink_tu: float, abgelt_st_params: dict) -> float:<br>    \"\"\"Calculate abgeltungssteuer per tax unit.<br><br>    Parameters<br>    ----------<br>    zu_verst_kapitaleink_tu<br>        See :func:`zu_verst_kapitaleink_tu`.<br>    abgelt_st_params<br>        See params documentation :ref:`abgelt_st_params <abgelt_st_params>`.<br><br>    Returns<br>    -------<br><br>    \"\"\"<br>    return abgelt_st_params[\"satz\"] * zu_verst_kapitaleink_tu<br>",
         "marker": {
          "color": "red",
          "reversescale": true,
          "showscale": false,
          "size": 15
         },
         "mode": "markers+text",
         "name": "abgelt_st_tu",
         "showlegend": false,
         "text": "abgelt_st_tu",
         "textposition": "bottom center",
         "type": "scatter",
         "uid": "3de97cc4-75e5-4c74-bc4c-eb3c1aa4dc36",
         "x": [
          1
         ],
         "y": [
          0
         ]
        },
        {
         "hoverinfo": "text",
         "hoverlabel": {
          "bgcolor": "lightgrey",
          "font": {
           "color": "black"
          }
         },
         "hovertext": "def zu_verst_kapitaleink_tu(<br>    kapitaleink_brutto_tu: float,<br>    anz_erwachsene_tu: int,<br>    eink_st_abzuege_params: dict,<br>) -> float:<br>    \"\"\"Calculate taxable income per tax unit.<br><br>    Parameters<br>    ----------<br>    kapitaleink_brutto_tu<br>        See :func:`kapitaleink_brutto_tu`.<br>    anz_erwachsene_tu<br>        See :func:`anz_erwachsene_tu`.<br>    eink_st_abzuege_params<br>        See params documentation :ref:`eink_st_abzuege_params <eink_st_abzuege_params>`.<br><br>    Returns<br>    -------<br><br>    \"\"\"<br>    out = kapitaleink_brutto_tu - anz_erwachsene_tu * (<br>        eink_st_abzuege_params[\"sparerpauschbetrag\"]<br>        + eink_st_abzuege_params[\"sparer_werbungskosten_pauschbetrag\"]<br>    )<br><br>    return max(out, 0.0)<br>",
         "marker": {
          "color": "red",
          "reversescale": true,
          "showscale": false,
          "size": 15
         },
         "mode": "markers+text",
         "name": "zu_verst_kapitaleink_tu",
         "showlegend": false,
         "text": "zu_verst_kapitaleink_tu",
         "textposition": "bottom center",
         "type": "scatter",
         "uid": "2204fb65-e39a-463b-97a8-a84fabc03472",
         "x": [
          0
         ],
         "y": [
          0
         ]
        },
        {
         "hoverinfo": "text",
         "hoverlabel": {
          "bgcolor": "lightgrey",
          "font": {
           "color": "black"
          }
         },
         "hovertext": "        @rename_arguments(<br>            mapper={\"source_col\": source_col, \"group_id\": group_id},<br>            annotations=annotations,<br>        )<br>        def aggregation_func(source_col, group_id):<br>            return grouped_sum(source_col, group_id)<br>",
         "marker": {
          "color": "red",
          "reversescale": true,
          "showscale": false,
          "size": 15
         },
         "mode": "markers+text",
         "name": "kapitaleink_brutto_tu",
         "showlegend": false,
         "text": "kapitaleink_brutto_tu",
         "textposition": "bottom center",
         "type": "scatter",
         "uid": "e853351c-0d7f-4b9f-a130-d9c15bcef07e",
         "x": [
          -1
         ],
         "y": [
          -1
         ]
        },
        {
         "hoverinfo": "text",
         "hoverlabel": {
          "bgcolor": "lightgrey",
          "font": {
           "color": "black"
          }
         },
         "hovertext": "        @rename_arguments(<br>            mapper={\"source_col\": source_col, \"group_id\": group_id},<br>            annotations=annotations,<br>        )<br>        def aggregation_func(source_col, group_id):<br>            return grouped_sum(source_col, group_id)<br>",
         "marker": {
          "color": "red",
          "reversescale": true,
          "showscale": false,
          "size": 15
         },
         "mode": "markers+text",
         "name": "anz_erwachsene_tu",
         "showlegend": false,
         "text": "anz_erwachsene_tu",
         "textposition": "bottom center",
         "type": "scatter",
         "uid": "010d44e7-3709-4b6d-9cdf-c1ba3585a0d7",
         "x": [
          -1
         ],
         "y": [
          1
         ]
        }
       ],
       "layout": {
        "annotations": [
         {
          "arrowcolor": "gray",
          "arrowhead": 2,
          "arrowsize": 2,
          "ax": 0,
          "axref": "x",
          "ay": 0,
          "ayref": "y",
          "showarrow": true,
          "standoff": 5,
          "startstandoff": 5,
          "text": "",
          "x": 1,
          "xref": "x",
          "y": 0,
          "yref": "y"
         },
         {
          "arrowcolor": "gray",
          "arrowhead": 2,
          "arrowsize": 2,
          "ax": -1,
          "axref": "x",
          "ay": -1,
          "ayref": "y",
          "showarrow": true,
          "standoff": 5,
          "startstandoff": 5,
          "text": "",
          "x": 0,
          "xref": "x",
          "y": 0,
          "yref": "y"
         },
         {
          "arrowcolor": "gray",
          "arrowhead": 2,
          "arrowsize": 2,
          "ax": -1,
          "axref": "x",
          "ay": 1,
          "ayref": "y",
          "showarrow": true,
          "standoff": 5,
          "startstandoff": 5,
          "text": "",
          "x": 0,
          "xref": "x",
          "y": 0,
          "yref": "y"
         }
        ],
        "hoverlabel": {
         "font": {
          "size": 10
         }
        },
        "hovermode": "closest",
        "margin": {
         "b": 20,
         "l": 5,
         "r": 5,
         "t": 40
        },
        "showlegend": false,
        "template": {
         "data": {
          "bar": [
           {
            "error_x": {
             "color": "#2a3f5f"
            },
            "error_y": {
             "color": "#2a3f5f"
            },
            "marker": {
             "line": {
              "color": "#E5ECF6",
              "width": 0.5
             },
             "pattern": {
              "fillmode": "overlay",
              "size": 10,
              "solidity": 0.2
             }
            },
            "type": "bar"
           }
          ],
          "barpolar": [
           {
            "marker": {
             "line": {
              "color": "#E5ECF6",
              "width": 0.5
             },
             "pattern": {
              "fillmode": "overlay",
              "size": 10,
              "solidity": 0.2
             }
            },
            "type": "barpolar"
           }
          ],
          "carpet": [
           {
            "aaxis": {
             "endlinecolor": "#2a3f5f",
             "gridcolor": "white",
             "linecolor": "white",
             "minorgridcolor": "white",
             "startlinecolor": "#2a3f5f"
            },
            "baxis": {
             "endlinecolor": "#2a3f5f",
             "gridcolor": "white",
             "linecolor": "white",
             "minorgridcolor": "white",
             "startlinecolor": "#2a3f5f"
            },
            "type": "carpet"
           }
          ],
          "choropleth": [
           {
            "colorbar": {
             "outlinewidth": 0,
             "ticks": ""
            },
            "type": "choropleth"
           }
          ],
          "contour": [
           {
            "colorbar": {
             "outlinewidth": 0,
             "ticks": ""
            },
            "colorscale": [
             [
              0,
              "#0d0887"
             ],
             [
              0.1111111111111111,
              "#46039f"
             ],
             [
              0.2222222222222222,
              "#7201a8"
             ],
             [
              0.3333333333333333,
              "#9c179e"
             ],
             [
              0.4444444444444444,
              "#bd3786"
             ],
             [
              0.5555555555555556,
              "#d8576b"
             ],
             [
              0.6666666666666666,
              "#ed7953"
             ],
             [
              0.7777777777777778,
              "#fb9f3a"
             ],
             [
              0.8888888888888888,
              "#fdca26"
             ],
             [
              1,
              "#f0f921"
             ]
            ],
            "type": "contour"
           }
          ],
          "contourcarpet": [
           {
            "colorbar": {
             "outlinewidth": 0,
             "ticks": ""
            },
            "type": "contourcarpet"
           }
          ],
          "heatmap": [
           {
            "colorbar": {
             "outlinewidth": 0,
             "ticks": ""
            },
            "colorscale": [
             [
              0,
              "#0d0887"
             ],
             [
              0.1111111111111111,
              "#46039f"
             ],
             [
              0.2222222222222222,
              "#7201a8"
             ],
             [
              0.3333333333333333,
              "#9c179e"
             ],
             [
              0.4444444444444444,
              "#bd3786"
             ],
             [
              0.5555555555555556,
              "#d8576b"
             ],
             [
              0.6666666666666666,
              "#ed7953"
             ],
             [
              0.7777777777777778,
              "#fb9f3a"
             ],
             [
              0.8888888888888888,
              "#fdca26"
             ],
             [
              1,
              "#f0f921"
             ]
            ],
            "type": "heatmap"
           }
          ],
          "heatmapgl": [
           {
            "colorbar": {
             "outlinewidth": 0,
             "ticks": ""
            },
            "colorscale": [
             [
              0,
              "#0d0887"
             ],
             [
              0.1111111111111111,
              "#46039f"
             ],
             [
              0.2222222222222222,
              "#7201a8"
             ],
             [
              0.3333333333333333,
              "#9c179e"
             ],
             [
              0.4444444444444444,
              "#bd3786"
             ],
             [
              0.5555555555555556,
              "#d8576b"
             ],
             [
              0.6666666666666666,
              "#ed7953"
             ],
             [
              0.7777777777777778,
              "#fb9f3a"
             ],
             [
              0.8888888888888888,
              "#fdca26"
             ],
             [
              1,
              "#f0f921"
             ]
            ],
            "type": "heatmapgl"
           }
          ],
          "histogram": [
           {
            "marker": {
             "pattern": {
              "fillmode": "overlay",
              "size": 10,
              "solidity": 0.2
             }
            },
            "type": "histogram"
           }
          ],
          "histogram2d": [
           {
            "colorbar": {
             "outlinewidth": 0,
             "ticks": ""
            },
            "colorscale": [
             [
              0,
              "#0d0887"
             ],
             [
              0.1111111111111111,
              "#46039f"
             ],
             [
              0.2222222222222222,
              "#7201a8"
             ],
             [
              0.3333333333333333,
              "#9c179e"
             ],
             [
              0.4444444444444444,
              "#bd3786"
             ],
             [
              0.5555555555555556,
              "#d8576b"
             ],
             [
              0.6666666666666666,
              "#ed7953"
             ],
             [
              0.7777777777777778,
              "#fb9f3a"
             ],
             [
              0.8888888888888888,
              "#fdca26"
             ],
             [
              1,
              "#f0f921"
             ]
            ],
            "type": "histogram2d"
           }
          ],
          "histogram2dcontour": [
           {
            "colorbar": {
             "outlinewidth": 0,
             "ticks": ""
            },
            "colorscale": [
             [
              0,
              "#0d0887"
             ],
             [
              0.1111111111111111,
              "#46039f"
             ],
             [
              0.2222222222222222,
              "#7201a8"
             ],
             [
              0.3333333333333333,
              "#9c179e"
             ],
             [
              0.4444444444444444,
              "#bd3786"
             ],
             [
              0.5555555555555556,
              "#d8576b"
             ],
             [
              0.6666666666666666,
              "#ed7953"
             ],
             [
              0.7777777777777778,
              "#fb9f3a"
             ],
             [
              0.8888888888888888,
              "#fdca26"
             ],
             [
              1,
              "#f0f921"
             ]
            ],
            "type": "histogram2dcontour"
           }
          ],
          "mesh3d": [
           {
            "colorbar": {
             "outlinewidth": 0,
             "ticks": ""
            },
            "type": "mesh3d"
           }
          ],
          "parcoords": [
           {
            "line": {
             "colorbar": {
              "outlinewidth": 0,
              "ticks": ""
             }
            },
            "type": "parcoords"
           }
          ],
          "pie": [
           {
            "automargin": true,
            "type": "pie"
           }
          ],
          "scatter": [
           {
            "fillpattern": {
             "fillmode": "overlay",
             "size": 10,
             "solidity": 0.2
            },
            "type": "scatter"
           }
          ],
          "scatter3d": [
           {
            "line": {
             "colorbar": {
              "outlinewidth": 0,
              "ticks": ""
             }
            },
            "marker": {
             "colorbar": {
              "outlinewidth": 0,
              "ticks": ""
             }
            },
            "type": "scatter3d"
           }
          ],
          "scattercarpet": [
           {
            "marker": {
             "colorbar": {
              "outlinewidth": 0,
              "ticks": ""
             }
            },
            "type": "scattercarpet"
           }
          ],
          "scattergeo": [
           {
            "marker": {
             "colorbar": {
              "outlinewidth": 0,
              "ticks": ""
             }
            },
            "type": "scattergeo"
           }
          ],
          "scattergl": [
           {
            "marker": {
             "colorbar": {
              "outlinewidth": 0,
              "ticks": ""
             }
            },
            "type": "scattergl"
           }
          ],
          "scattermapbox": [
           {
            "marker": {
             "colorbar": {
              "outlinewidth": 0,
              "ticks": ""
             }
            },
            "type": "scattermapbox"
           }
          ],
          "scatterpolar": [
           {
            "marker": {
             "colorbar": {
              "outlinewidth": 0,
              "ticks": ""
             }
            },
            "type": "scatterpolar"
           }
          ],
          "scatterpolargl": [
           {
            "marker": {
             "colorbar": {
              "outlinewidth": 0,
              "ticks": ""
             }
            },
            "type": "scatterpolargl"
           }
          ],
          "scatterternary": [
           {
            "marker": {
             "colorbar": {
              "outlinewidth": 0,
              "ticks": ""
             }
            },
            "type": "scatterternary"
           }
          ],
          "surface": [
           {
            "colorbar": {
             "outlinewidth": 0,
             "ticks": ""
            },
            "colorscale": [
             [
              0,
              "#0d0887"
             ],
             [
              0.1111111111111111,
              "#46039f"
             ],
             [
              0.2222222222222222,
              "#7201a8"
             ],
             [
              0.3333333333333333,
              "#9c179e"
             ],
             [
              0.4444444444444444,
              "#bd3786"
             ],
             [
              0.5555555555555556,
              "#d8576b"
             ],
             [
              0.6666666666666666,
              "#ed7953"
             ],
             [
              0.7777777777777778,
              "#fb9f3a"
             ],
             [
              0.8888888888888888,
              "#fdca26"
             ],
             [
              1,
              "#f0f921"
             ]
            ],
            "type": "surface"
           }
          ],
          "table": [
           {
            "cells": {
             "fill": {
              "color": "#EBF0F8"
             },
             "line": {
              "color": "white"
             }
            },
            "header": {
             "fill": {
              "color": "#C8D4E3"
             },
             "line": {
              "color": "white"
             }
            },
            "type": "table"
           }
          ]
         },
         "layout": {
          "annotationdefaults": {
           "arrowcolor": "#2a3f5f",
           "arrowhead": 0,
           "arrowwidth": 1
          },
          "autotypenumbers": "strict",
          "coloraxis": {
           "colorbar": {
            "outlinewidth": 0,
            "ticks": ""
           }
          },
          "colorscale": {
           "diverging": [
            [
             0,
             "#8e0152"
            ],
            [
             0.1,
             "#c51b7d"
            ],
            [
             0.2,
             "#de77ae"
            ],
            [
             0.3,
             "#f1b6da"
            ],
            [
             0.4,
             "#fde0ef"
            ],
            [
             0.5,
             "#f7f7f7"
            ],
            [
             0.6,
             "#e6f5d0"
            ],
            [
             0.7,
             "#b8e186"
            ],
            [
             0.8,
             "#7fbc41"
            ],
            [
             0.9,
             "#4d9221"
            ],
            [
             1,
             "#276419"
            ]
           ],
           "sequential": [
            [
             0,
             "#0d0887"
            ],
            [
             0.1111111111111111,
             "#46039f"
            ],
            [
             0.2222222222222222,
             "#7201a8"
            ],
            [
             0.3333333333333333,
             "#9c179e"
            ],
            [
             0.4444444444444444,
             "#bd3786"
            ],
            [
             0.5555555555555556,
             "#d8576b"
            ],
            [
             0.6666666666666666,
             "#ed7953"
            ],
            [
             0.7777777777777778,
             "#fb9f3a"
            ],
            [
             0.8888888888888888,
             "#fdca26"
            ],
            [
             1,
             "#f0f921"
            ]
           ],
           "sequentialminus": [
            [
             0,
             "#0d0887"
            ],
            [
             0.1111111111111111,
             "#46039f"
            ],
            [
             0.2222222222222222,
             "#7201a8"
            ],
            [
             0.3333333333333333,
             "#9c179e"
            ],
            [
             0.4444444444444444,
             "#bd3786"
            ],
            [
             0.5555555555555556,
             "#d8576b"
            ],
            [
             0.6666666666666666,
             "#ed7953"
            ],
            [
             0.7777777777777778,
             "#fb9f3a"
            ],
            [
             0.8888888888888888,
             "#fdca26"
            ],
            [
             1,
             "#f0f921"
            ]
           ]
          },
          "colorway": [
           "#636efa",
           "#EF553B",
           "#00cc96",
           "#ab63fa",
           "#FFA15A",
           "#19d3f3",
           "#FF6692",
           "#B6E880",
           "#FF97FF",
           "#FECB52"
          ],
          "font": {
           "color": "#2a3f5f"
          },
          "geo": {
           "bgcolor": "white",
           "lakecolor": "white",
           "landcolor": "#E5ECF6",
           "showlakes": true,
           "showland": true,
           "subunitcolor": "white"
          },
          "hoverlabel": {
           "align": "left"
          },
          "hovermode": "closest",
          "mapbox": {
           "style": "light"
          },
          "paper_bgcolor": "white",
          "plot_bgcolor": "#E5ECF6",
          "polar": {
           "angularaxis": {
            "gridcolor": "white",
            "linecolor": "white",
            "ticks": ""
           },
           "bgcolor": "#E5ECF6",
           "radialaxis": {
            "gridcolor": "white",
            "linecolor": "white",
            "ticks": ""
           }
          },
          "scene": {
           "xaxis": {
            "backgroundcolor": "#E5ECF6",
            "gridcolor": "white",
            "gridwidth": 2,
            "linecolor": "white",
            "showbackground": true,
            "ticks": "",
            "zerolinecolor": "white"
           },
           "yaxis": {
            "backgroundcolor": "#E5ECF6",
            "gridcolor": "white",
            "gridwidth": 2,
            "linecolor": "white",
            "showbackground": true,
            "ticks": "",
            "zerolinecolor": "white"
           },
           "zaxis": {
            "backgroundcolor": "#E5ECF6",
            "gridcolor": "white",
            "gridwidth": 2,
            "linecolor": "white",
            "showbackground": true,
            "ticks": "",
            "zerolinecolor": "white"
           }
          },
          "shapedefaults": {
           "line": {
            "color": "#2a3f5f"
           }
          },
          "ternary": {
           "aaxis": {
            "gridcolor": "white",
            "linecolor": "white",
            "ticks": ""
           },
           "baxis": {
            "gridcolor": "white",
            "linecolor": "white",
            "ticks": ""
           },
           "bgcolor": "#E5ECF6",
           "caxis": {
            "gridcolor": "white",
            "linecolor": "white",
            "ticks": ""
           }
          },
          "title": {
           "x": 0.05
          },
          "xaxis": {
           "automargin": true,
           "gridcolor": "white",
           "linecolor": "white",
           "ticks": "",
           "title": {
            "standoff": 15
           },
           "zerolinecolor": "white",
           "zerolinewidth": 2
          },
          "yaxis": {
           "automargin": true,
           "gridcolor": "white",
           "linecolor": "white",
           "ticks": "",
           "title": {
            "standoff": 15
           },
           "zerolinecolor": "white",
           "zerolinewidth": 2
          }
         }
        },
        "xaxis": {
         "showgrid": false,
         "showticklabels": false,
         "zeroline": false
        },
        "yaxis": {
         "showgrid": false,
         "showticklabels": false,
         "zeroline": false
        }
       }
      }
     },
     "metadata": {},
     "output_type": "display_data"
    }
   ],
   "source": [
    "plot_dag(\n",
    "    functions=policy_functions,\n",
    "    selectors=[{\"node\": \"zu_verst_kapitaleink_tu\", \"type\": \"neighbors\"}],\n",
    "    orientation ='h',\n",
    "    hover_source_code=True)"
   ]
  },
  {
   "cell_type": "markdown",
   "id": "5c75961d",
   "metadata": {},
   "source": [
    "## Selectors\n",
    "\n",
    "Selectors allow you to visualize only a subset of the complete graph of the tax and transfer systems. They can be passed to the `selectors` argument of the `plot_dag()` function. There exist some ways to define a selector and they can be combined with one another. Let us discuss each selector on its own first.\n",
    "\n",
    "## Basics\n",
    "\n",
    "It is always possible to pass a string or a list of strings to `selectors`. In this case only the given nodes are displayed in the plot."
   ]
  },
  {
   "cell_type": "code",
   "execution_count": 13,
   "id": "33f7fbc9",
   "metadata": {},
   "outputs": [
    {
     "data": {
      "application/vnd.plotly.v1+json": {
       "config": {
        "plotlyServerURL": "https://plot.ly"
       },
       "data": [
        {
         "hoverinfo": "none",
         "line": {
          "color": "blue",
          "width": 0.5
         },
         "mode": "lines",
         "showlegend": false,
         "type": "scatter",
         "uid": "dd8dc9b6-7b55-4da3-a90c-7ce65b1723c8",
         "x": [],
         "y": []
        },
        {
         "hoverinfo": "skip",
         "marker": {
          "color": "red",
          "reversescale": true,
          "showscale": false,
          "size": 15
         },
         "mode": "markers+text",
         "showlegend": false,
         "text": [
          "kapitaleink_brutto_tu"
         ],
         "textposition": "bottom center",
         "type": "scatter",
         "uid": "8feaba8a-8884-43c9-9eab-f43a3a6a5c2f",
         "x": [
          0
         ],
         "y": [
          0
         ]
        },
        {
         "hoverinfo": "skip",
         "marker": {
          "color": "red",
          "reversescale": true,
          "showscale": false,
          "size": 15
         },
         "mode": "markers+text",
         "showlegend": false,
         "text": [
          "kapitaleink_brutto_tu"
         ],
         "textposition": "bottom center",
         "type": "scatter",
         "uid": "23c84f0c-b099-4993-8dbf-2cce2540c05d",
         "x": [
          0
         ],
         "y": [
          0
         ]
        }
       ],
       "layout": {
        "hoverlabel": {
         "font": {
          "size": 10
         }
        },
        "hovermode": "closest",
        "margin": {
         "b": 20,
         "l": 5,
         "r": 5,
         "t": 40
        },
        "showlegend": false,
        "template": {
         "data": {
          "bar": [
           {
            "error_x": {
             "color": "#2a3f5f"
            },
            "error_y": {
             "color": "#2a3f5f"
            },
            "marker": {
             "line": {
              "color": "#E5ECF6",
              "width": 0.5
             },
             "pattern": {
              "fillmode": "overlay",
              "size": 10,
              "solidity": 0.2
             }
            },
            "type": "bar"
           }
          ],
          "barpolar": [
           {
            "marker": {
             "line": {
              "color": "#E5ECF6",
              "width": 0.5
             },
             "pattern": {
              "fillmode": "overlay",
              "size": 10,
              "solidity": 0.2
             }
            },
            "type": "barpolar"
           }
          ],
          "carpet": [
           {
            "aaxis": {
             "endlinecolor": "#2a3f5f",
             "gridcolor": "white",
             "linecolor": "white",
             "minorgridcolor": "white",
             "startlinecolor": "#2a3f5f"
            },
            "baxis": {
             "endlinecolor": "#2a3f5f",
             "gridcolor": "white",
             "linecolor": "white",
             "minorgridcolor": "white",
             "startlinecolor": "#2a3f5f"
            },
            "type": "carpet"
           }
          ],
          "choropleth": [
           {
            "colorbar": {
             "outlinewidth": 0,
             "ticks": ""
            },
            "type": "choropleth"
           }
          ],
          "contour": [
           {
            "colorbar": {
             "outlinewidth": 0,
             "ticks": ""
            },
            "colorscale": [
             [
              0,
              "#0d0887"
             ],
             [
              0.1111111111111111,
              "#46039f"
             ],
             [
              0.2222222222222222,
              "#7201a8"
             ],
             [
              0.3333333333333333,
              "#9c179e"
             ],
             [
              0.4444444444444444,
              "#bd3786"
             ],
             [
              0.5555555555555556,
              "#d8576b"
             ],
             [
              0.6666666666666666,
              "#ed7953"
             ],
             [
              0.7777777777777778,
              "#fb9f3a"
             ],
             [
              0.8888888888888888,
              "#fdca26"
             ],
             [
              1,
              "#f0f921"
             ]
            ],
            "type": "contour"
           }
          ],
          "contourcarpet": [
           {
            "colorbar": {
             "outlinewidth": 0,
             "ticks": ""
            },
            "type": "contourcarpet"
           }
          ],
          "heatmap": [
           {
            "colorbar": {
             "outlinewidth": 0,
             "ticks": ""
            },
            "colorscale": [
             [
              0,
              "#0d0887"
             ],
             [
              0.1111111111111111,
              "#46039f"
             ],
             [
              0.2222222222222222,
              "#7201a8"
             ],
             [
              0.3333333333333333,
              "#9c179e"
             ],
             [
              0.4444444444444444,
              "#bd3786"
             ],
             [
              0.5555555555555556,
              "#d8576b"
             ],
             [
              0.6666666666666666,
              "#ed7953"
             ],
             [
              0.7777777777777778,
              "#fb9f3a"
             ],
             [
              0.8888888888888888,
              "#fdca26"
             ],
             [
              1,
              "#f0f921"
             ]
            ],
            "type": "heatmap"
           }
          ],
          "heatmapgl": [
           {
            "colorbar": {
             "outlinewidth": 0,
             "ticks": ""
            },
            "colorscale": [
             [
              0,
              "#0d0887"
             ],
             [
              0.1111111111111111,
              "#46039f"
             ],
             [
              0.2222222222222222,
              "#7201a8"
             ],
             [
              0.3333333333333333,
              "#9c179e"
             ],
             [
              0.4444444444444444,
              "#bd3786"
             ],
             [
              0.5555555555555556,
              "#d8576b"
             ],
             [
              0.6666666666666666,
              "#ed7953"
             ],
             [
              0.7777777777777778,
              "#fb9f3a"
             ],
             [
              0.8888888888888888,
              "#fdca26"
             ],
             [
              1,
              "#f0f921"
             ]
            ],
            "type": "heatmapgl"
           }
          ],
          "histogram": [
           {
            "marker": {
             "pattern": {
              "fillmode": "overlay",
              "size": 10,
              "solidity": 0.2
             }
            },
            "type": "histogram"
           }
          ],
          "histogram2d": [
           {
            "colorbar": {
             "outlinewidth": 0,
             "ticks": ""
            },
            "colorscale": [
             [
              0,
              "#0d0887"
             ],
             [
              0.1111111111111111,
              "#46039f"
             ],
             [
              0.2222222222222222,
              "#7201a8"
             ],
             [
              0.3333333333333333,
              "#9c179e"
             ],
             [
              0.4444444444444444,
              "#bd3786"
             ],
             [
              0.5555555555555556,
              "#d8576b"
             ],
             [
              0.6666666666666666,
              "#ed7953"
             ],
             [
              0.7777777777777778,
              "#fb9f3a"
             ],
             [
              0.8888888888888888,
              "#fdca26"
             ],
             [
              1,
              "#f0f921"
             ]
            ],
            "type": "histogram2d"
           }
          ],
          "histogram2dcontour": [
           {
            "colorbar": {
             "outlinewidth": 0,
             "ticks": ""
            },
            "colorscale": [
             [
              0,
              "#0d0887"
             ],
             [
              0.1111111111111111,
              "#46039f"
             ],
             [
              0.2222222222222222,
              "#7201a8"
             ],
             [
              0.3333333333333333,
              "#9c179e"
             ],
             [
              0.4444444444444444,
              "#bd3786"
             ],
             [
              0.5555555555555556,
              "#d8576b"
             ],
             [
              0.6666666666666666,
              "#ed7953"
             ],
             [
              0.7777777777777778,
              "#fb9f3a"
             ],
             [
              0.8888888888888888,
              "#fdca26"
             ],
             [
              1,
              "#f0f921"
             ]
            ],
            "type": "histogram2dcontour"
           }
          ],
          "mesh3d": [
           {
            "colorbar": {
             "outlinewidth": 0,
             "ticks": ""
            },
            "type": "mesh3d"
           }
          ],
          "parcoords": [
           {
            "line": {
             "colorbar": {
              "outlinewidth": 0,
              "ticks": ""
             }
            },
            "type": "parcoords"
           }
          ],
          "pie": [
           {
            "automargin": true,
            "type": "pie"
           }
          ],
          "scatter": [
           {
            "fillpattern": {
             "fillmode": "overlay",
             "size": 10,
             "solidity": 0.2
            },
            "type": "scatter"
           }
          ],
          "scatter3d": [
           {
            "line": {
             "colorbar": {
              "outlinewidth": 0,
              "ticks": ""
             }
            },
            "marker": {
             "colorbar": {
              "outlinewidth": 0,
              "ticks": ""
             }
            },
            "type": "scatter3d"
           }
          ],
          "scattercarpet": [
           {
            "marker": {
             "colorbar": {
              "outlinewidth": 0,
              "ticks": ""
             }
            },
            "type": "scattercarpet"
           }
          ],
          "scattergeo": [
           {
            "marker": {
             "colorbar": {
              "outlinewidth": 0,
              "ticks": ""
             }
            },
            "type": "scattergeo"
           }
          ],
          "scattergl": [
           {
            "marker": {
             "colorbar": {
              "outlinewidth": 0,
              "ticks": ""
             }
            },
            "type": "scattergl"
           }
          ],
          "scattermapbox": [
           {
            "marker": {
             "colorbar": {
              "outlinewidth": 0,
              "ticks": ""
             }
            },
            "type": "scattermapbox"
           }
          ],
          "scatterpolar": [
           {
            "marker": {
             "colorbar": {
              "outlinewidth": 0,
              "ticks": ""
             }
            },
            "type": "scatterpolar"
           }
          ],
          "scatterpolargl": [
           {
            "marker": {
             "colorbar": {
              "outlinewidth": 0,
              "ticks": ""
             }
            },
            "type": "scatterpolargl"
           }
          ],
          "scatterternary": [
           {
            "marker": {
             "colorbar": {
              "outlinewidth": 0,
              "ticks": ""
             }
            },
            "type": "scatterternary"
           }
          ],
          "surface": [
           {
            "colorbar": {
             "outlinewidth": 0,
             "ticks": ""
            },
            "colorscale": [
             [
              0,
              "#0d0887"
             ],
             [
              0.1111111111111111,
              "#46039f"
             ],
             [
              0.2222222222222222,
              "#7201a8"
             ],
             [
              0.3333333333333333,
              "#9c179e"
             ],
             [
              0.4444444444444444,
              "#bd3786"
             ],
             [
              0.5555555555555556,
              "#d8576b"
             ],
             [
              0.6666666666666666,
              "#ed7953"
             ],
             [
              0.7777777777777778,
              "#fb9f3a"
             ],
             [
              0.8888888888888888,
              "#fdca26"
             ],
             [
              1,
              "#f0f921"
             ]
            ],
            "type": "surface"
           }
          ],
          "table": [
           {
            "cells": {
             "fill": {
              "color": "#EBF0F8"
             },
             "line": {
              "color": "white"
             }
            },
            "header": {
             "fill": {
              "color": "#C8D4E3"
             },
             "line": {
              "color": "white"
             }
            },
            "type": "table"
           }
          ]
         },
         "layout": {
          "annotationdefaults": {
           "arrowcolor": "#2a3f5f",
           "arrowhead": 0,
           "arrowwidth": 1
          },
          "autotypenumbers": "strict",
          "coloraxis": {
           "colorbar": {
            "outlinewidth": 0,
            "ticks": ""
           }
          },
          "colorscale": {
           "diverging": [
            [
             0,
             "#8e0152"
            ],
            [
             0.1,
             "#c51b7d"
            ],
            [
             0.2,
             "#de77ae"
            ],
            [
             0.3,
             "#f1b6da"
            ],
            [
             0.4,
             "#fde0ef"
            ],
            [
             0.5,
             "#f7f7f7"
            ],
            [
             0.6,
             "#e6f5d0"
            ],
            [
             0.7,
             "#b8e186"
            ],
            [
             0.8,
             "#7fbc41"
            ],
            [
             0.9,
             "#4d9221"
            ],
            [
             1,
             "#276419"
            ]
           ],
           "sequential": [
            [
             0,
             "#0d0887"
            ],
            [
             0.1111111111111111,
             "#46039f"
            ],
            [
             0.2222222222222222,
             "#7201a8"
            ],
            [
             0.3333333333333333,
             "#9c179e"
            ],
            [
             0.4444444444444444,
             "#bd3786"
            ],
            [
             0.5555555555555556,
             "#d8576b"
            ],
            [
             0.6666666666666666,
             "#ed7953"
            ],
            [
             0.7777777777777778,
             "#fb9f3a"
            ],
            [
             0.8888888888888888,
             "#fdca26"
            ],
            [
             1,
             "#f0f921"
            ]
           ],
           "sequentialminus": [
            [
             0,
             "#0d0887"
            ],
            [
             0.1111111111111111,
             "#46039f"
            ],
            [
             0.2222222222222222,
             "#7201a8"
            ],
            [
             0.3333333333333333,
             "#9c179e"
            ],
            [
             0.4444444444444444,
             "#bd3786"
            ],
            [
             0.5555555555555556,
             "#d8576b"
            ],
            [
             0.6666666666666666,
             "#ed7953"
            ],
            [
             0.7777777777777778,
             "#fb9f3a"
            ],
            [
             0.8888888888888888,
             "#fdca26"
            ],
            [
             1,
             "#f0f921"
            ]
           ]
          },
          "colorway": [
           "#636efa",
           "#EF553B",
           "#00cc96",
           "#ab63fa",
           "#FFA15A",
           "#19d3f3",
           "#FF6692",
           "#B6E880",
           "#FF97FF",
           "#FECB52"
          ],
          "font": {
           "color": "#2a3f5f"
          },
          "geo": {
           "bgcolor": "white",
           "lakecolor": "white",
           "landcolor": "#E5ECF6",
           "showlakes": true,
           "showland": true,
           "subunitcolor": "white"
          },
          "hoverlabel": {
           "align": "left"
          },
          "hovermode": "closest",
          "mapbox": {
           "style": "light"
          },
          "paper_bgcolor": "white",
          "plot_bgcolor": "#E5ECF6",
          "polar": {
           "angularaxis": {
            "gridcolor": "white",
            "linecolor": "white",
            "ticks": ""
           },
           "bgcolor": "#E5ECF6",
           "radialaxis": {
            "gridcolor": "white",
            "linecolor": "white",
            "ticks": ""
           }
          },
          "scene": {
           "xaxis": {
            "backgroundcolor": "#E5ECF6",
            "gridcolor": "white",
            "gridwidth": 2,
            "linecolor": "white",
            "showbackground": true,
            "ticks": "",
            "zerolinecolor": "white"
           },
           "yaxis": {
            "backgroundcolor": "#E5ECF6",
            "gridcolor": "white",
            "gridwidth": 2,
            "linecolor": "white",
            "showbackground": true,
            "ticks": "",
            "zerolinecolor": "white"
           },
           "zaxis": {
            "backgroundcolor": "#E5ECF6",
            "gridcolor": "white",
            "gridwidth": 2,
            "linecolor": "white",
            "showbackground": true,
            "ticks": "",
            "zerolinecolor": "white"
           }
          },
          "shapedefaults": {
           "line": {
            "color": "#2a3f5f"
           }
          },
          "ternary": {
           "aaxis": {
            "gridcolor": "white",
            "linecolor": "white",
            "ticks": ""
           },
           "baxis": {
            "gridcolor": "white",
            "linecolor": "white",
            "ticks": ""
           },
           "bgcolor": "#E5ECF6",
           "caxis": {
            "gridcolor": "white",
            "linecolor": "white",
            "ticks": ""
           }
          },
          "title": {
           "x": 0.05
          },
          "xaxis": {
           "automargin": true,
           "gridcolor": "white",
           "linecolor": "white",
           "ticks": "",
           "title": {
            "standoff": 15
           },
           "zerolinecolor": "white",
           "zerolinewidth": 2
          },
          "yaxis": {
           "automargin": true,
           "gridcolor": "white",
           "linecolor": "white",
           "ticks": "",
           "title": {
            "standoff": 15
           },
           "zerolinecolor": "white",
           "zerolinewidth": 2
          }
         }
        },
        "xaxis": {
         "showgrid": false,
         "showticklabels": false,
         "zeroline": false
        },
        "yaxis": {
         "showgrid": false,
         "showticklabels": false,
         "zeroline": false
        }
       }
      }
     },
     "metadata": {},
     "output_type": "display_data"
    }
   ],
   "source": [
    "selectors = \"kapitaleink_brutto_tu\"\n",
    "\n",
    "plot_dag(functions=policy_functions,selectors=selectors, orientation ='h')"
   ]
  },
  {
   "cell_type": "markdown",
   "id": "7c8ccb9b",
   "metadata": {},
   "source": [
    "Using a list of variable names, we can select multiple nodes."
   ]
  },
  {
   "cell_type": "code",
   "execution_count": 14,
   "id": "eb89b27b",
   "metadata": {},
   "outputs": [
    {
     "data": {
      "application/vnd.plotly.v1+json": {
       "config": {
        "plotlyServerURL": "https://plot.ly"
       },
       "data": [
        {
         "hoverinfo": "none",
         "line": {
          "color": "blue",
          "width": 0.5
         },
         "mode": "lines",
         "showlegend": false,
         "type": "scatter",
         "uid": "8fe8cd89-d3bb-4041-b4a1-26de328e7879",
         "x": [
          -1,
          1,
          ""
         ],
         "y": [
          0,
          0,
          ""
         ]
        },
        {
         "hoverinfo": "skip",
         "marker": {
          "color": "red",
          "reversescale": true,
          "showscale": false,
          "size": 15
         },
         "mode": "markers+text",
         "showlegend": false,
         "text": [
          "zu_verst_kapitaleink_tu",
          "kapitaleink_brutto_tu"
         ],
         "textposition": "bottom center",
         "type": "scatter",
         "uid": "113b342a-0290-4064-b263-b84ca15e88f6",
         "x": [
          1,
          -1
         ],
         "y": [
          0,
          0
         ]
        },
        {
         "hoverinfo": "skip",
         "marker": {
          "color": "red",
          "reversescale": true,
          "showscale": false,
          "size": 15
         },
         "mode": "markers+text",
         "showlegend": false,
         "text": [
          "zu_verst_kapitaleink_tu",
          "kapitaleink_brutto_tu"
         ],
         "textposition": "bottom center",
         "type": "scatter",
         "uid": "832d9633-d150-4da4-a92e-90399beb3cfb",
         "x": [
          1,
          -1
         ],
         "y": [
          0,
          0
         ]
        }
       ],
       "layout": {
        "annotations": [
         {
          "arrowcolor": "gray",
          "arrowhead": 2,
          "arrowsize": 2,
          "ax": -1,
          "axref": "x",
          "ay": 0,
          "ayref": "y",
          "showarrow": true,
          "standoff": 5,
          "startstandoff": 5,
          "text": "",
          "x": 1,
          "xref": "x",
          "y": 0,
          "yref": "y"
         }
        ],
        "hoverlabel": {
         "font": {
          "size": 10
         }
        },
        "hovermode": "closest",
        "margin": {
         "b": 20,
         "l": 5,
         "r": 5,
         "t": 40
        },
        "showlegend": false,
        "template": {
         "data": {
          "bar": [
           {
            "error_x": {
             "color": "#2a3f5f"
            },
            "error_y": {
             "color": "#2a3f5f"
            },
            "marker": {
             "line": {
              "color": "#E5ECF6",
              "width": 0.5
             },
             "pattern": {
              "fillmode": "overlay",
              "size": 10,
              "solidity": 0.2
             }
            },
            "type": "bar"
           }
          ],
          "barpolar": [
           {
            "marker": {
             "line": {
              "color": "#E5ECF6",
              "width": 0.5
             },
             "pattern": {
              "fillmode": "overlay",
              "size": 10,
              "solidity": 0.2
             }
            },
            "type": "barpolar"
           }
          ],
          "carpet": [
           {
            "aaxis": {
             "endlinecolor": "#2a3f5f",
             "gridcolor": "white",
             "linecolor": "white",
             "minorgridcolor": "white",
             "startlinecolor": "#2a3f5f"
            },
            "baxis": {
             "endlinecolor": "#2a3f5f",
             "gridcolor": "white",
             "linecolor": "white",
             "minorgridcolor": "white",
             "startlinecolor": "#2a3f5f"
            },
            "type": "carpet"
           }
          ],
          "choropleth": [
           {
            "colorbar": {
             "outlinewidth": 0,
             "ticks": ""
            },
            "type": "choropleth"
           }
          ],
          "contour": [
           {
            "colorbar": {
             "outlinewidth": 0,
             "ticks": ""
            },
            "colorscale": [
             [
              0,
              "#0d0887"
             ],
             [
              0.1111111111111111,
              "#46039f"
             ],
             [
              0.2222222222222222,
              "#7201a8"
             ],
             [
              0.3333333333333333,
              "#9c179e"
             ],
             [
              0.4444444444444444,
              "#bd3786"
             ],
             [
              0.5555555555555556,
              "#d8576b"
             ],
             [
              0.6666666666666666,
              "#ed7953"
             ],
             [
              0.7777777777777778,
              "#fb9f3a"
             ],
             [
              0.8888888888888888,
              "#fdca26"
             ],
             [
              1,
              "#f0f921"
             ]
            ],
            "type": "contour"
           }
          ],
          "contourcarpet": [
           {
            "colorbar": {
             "outlinewidth": 0,
             "ticks": ""
            },
            "type": "contourcarpet"
           }
          ],
          "heatmap": [
           {
            "colorbar": {
             "outlinewidth": 0,
             "ticks": ""
            },
            "colorscale": [
             [
              0,
              "#0d0887"
             ],
             [
              0.1111111111111111,
              "#46039f"
             ],
             [
              0.2222222222222222,
              "#7201a8"
             ],
             [
              0.3333333333333333,
              "#9c179e"
             ],
             [
              0.4444444444444444,
              "#bd3786"
             ],
             [
              0.5555555555555556,
              "#d8576b"
             ],
             [
              0.6666666666666666,
              "#ed7953"
             ],
             [
              0.7777777777777778,
              "#fb9f3a"
             ],
             [
              0.8888888888888888,
              "#fdca26"
             ],
             [
              1,
              "#f0f921"
             ]
            ],
            "type": "heatmap"
           }
          ],
          "heatmapgl": [
           {
            "colorbar": {
             "outlinewidth": 0,
             "ticks": ""
            },
            "colorscale": [
             [
              0,
              "#0d0887"
             ],
             [
              0.1111111111111111,
              "#46039f"
             ],
             [
              0.2222222222222222,
              "#7201a8"
             ],
             [
              0.3333333333333333,
              "#9c179e"
             ],
             [
              0.4444444444444444,
              "#bd3786"
             ],
             [
              0.5555555555555556,
              "#d8576b"
             ],
             [
              0.6666666666666666,
              "#ed7953"
             ],
             [
              0.7777777777777778,
              "#fb9f3a"
             ],
             [
              0.8888888888888888,
              "#fdca26"
             ],
             [
              1,
              "#f0f921"
             ]
            ],
            "type": "heatmapgl"
           }
          ],
          "histogram": [
           {
            "marker": {
             "pattern": {
              "fillmode": "overlay",
              "size": 10,
              "solidity": 0.2
             }
            },
            "type": "histogram"
           }
          ],
          "histogram2d": [
           {
            "colorbar": {
             "outlinewidth": 0,
             "ticks": ""
            },
            "colorscale": [
             [
              0,
              "#0d0887"
             ],
             [
              0.1111111111111111,
              "#46039f"
             ],
             [
              0.2222222222222222,
              "#7201a8"
             ],
             [
              0.3333333333333333,
              "#9c179e"
             ],
             [
              0.4444444444444444,
              "#bd3786"
             ],
             [
              0.5555555555555556,
              "#d8576b"
             ],
             [
              0.6666666666666666,
              "#ed7953"
             ],
             [
              0.7777777777777778,
              "#fb9f3a"
             ],
             [
              0.8888888888888888,
              "#fdca26"
             ],
             [
              1,
              "#f0f921"
             ]
            ],
            "type": "histogram2d"
           }
          ],
          "histogram2dcontour": [
           {
            "colorbar": {
             "outlinewidth": 0,
             "ticks": ""
            },
            "colorscale": [
             [
              0,
              "#0d0887"
             ],
             [
              0.1111111111111111,
              "#46039f"
             ],
             [
              0.2222222222222222,
              "#7201a8"
             ],
             [
              0.3333333333333333,
              "#9c179e"
             ],
             [
              0.4444444444444444,
              "#bd3786"
             ],
             [
              0.5555555555555556,
              "#d8576b"
             ],
             [
              0.6666666666666666,
              "#ed7953"
             ],
             [
              0.7777777777777778,
              "#fb9f3a"
             ],
             [
              0.8888888888888888,
              "#fdca26"
             ],
             [
              1,
              "#f0f921"
             ]
            ],
            "type": "histogram2dcontour"
           }
          ],
          "mesh3d": [
           {
            "colorbar": {
             "outlinewidth": 0,
             "ticks": ""
            },
            "type": "mesh3d"
           }
          ],
          "parcoords": [
           {
            "line": {
             "colorbar": {
              "outlinewidth": 0,
              "ticks": ""
             }
            },
            "type": "parcoords"
           }
          ],
          "pie": [
           {
            "automargin": true,
            "type": "pie"
           }
          ],
          "scatter": [
           {
            "fillpattern": {
             "fillmode": "overlay",
             "size": 10,
             "solidity": 0.2
            },
            "type": "scatter"
           }
          ],
          "scatter3d": [
           {
            "line": {
             "colorbar": {
              "outlinewidth": 0,
              "ticks": ""
             }
            },
            "marker": {
             "colorbar": {
              "outlinewidth": 0,
              "ticks": ""
             }
            },
            "type": "scatter3d"
           }
          ],
          "scattercarpet": [
           {
            "marker": {
             "colorbar": {
              "outlinewidth": 0,
              "ticks": ""
             }
            },
            "type": "scattercarpet"
           }
          ],
          "scattergeo": [
           {
            "marker": {
             "colorbar": {
              "outlinewidth": 0,
              "ticks": ""
             }
            },
            "type": "scattergeo"
           }
          ],
          "scattergl": [
           {
            "marker": {
             "colorbar": {
              "outlinewidth": 0,
              "ticks": ""
             }
            },
            "type": "scattergl"
           }
          ],
          "scattermapbox": [
           {
            "marker": {
             "colorbar": {
              "outlinewidth": 0,
              "ticks": ""
             }
            },
            "type": "scattermapbox"
           }
          ],
          "scatterpolar": [
           {
            "marker": {
             "colorbar": {
              "outlinewidth": 0,
              "ticks": ""
             }
            },
            "type": "scatterpolar"
           }
          ],
          "scatterpolargl": [
           {
            "marker": {
             "colorbar": {
              "outlinewidth": 0,
              "ticks": ""
             }
            },
            "type": "scatterpolargl"
           }
          ],
          "scatterternary": [
           {
            "marker": {
             "colorbar": {
              "outlinewidth": 0,
              "ticks": ""
             }
            },
            "type": "scatterternary"
           }
          ],
          "surface": [
           {
            "colorbar": {
             "outlinewidth": 0,
             "ticks": ""
            },
            "colorscale": [
             [
              0,
              "#0d0887"
             ],
             [
              0.1111111111111111,
              "#46039f"
             ],
             [
              0.2222222222222222,
              "#7201a8"
             ],
             [
              0.3333333333333333,
              "#9c179e"
             ],
             [
              0.4444444444444444,
              "#bd3786"
             ],
             [
              0.5555555555555556,
              "#d8576b"
             ],
             [
              0.6666666666666666,
              "#ed7953"
             ],
             [
              0.7777777777777778,
              "#fb9f3a"
             ],
             [
              0.8888888888888888,
              "#fdca26"
             ],
             [
              1,
              "#f0f921"
             ]
            ],
            "type": "surface"
           }
          ],
          "table": [
           {
            "cells": {
             "fill": {
              "color": "#EBF0F8"
             },
             "line": {
              "color": "white"
             }
            },
            "header": {
             "fill": {
              "color": "#C8D4E3"
             },
             "line": {
              "color": "white"
             }
            },
            "type": "table"
           }
          ]
         },
         "layout": {
          "annotationdefaults": {
           "arrowcolor": "#2a3f5f",
           "arrowhead": 0,
           "arrowwidth": 1
          },
          "autotypenumbers": "strict",
          "coloraxis": {
           "colorbar": {
            "outlinewidth": 0,
            "ticks": ""
           }
          },
          "colorscale": {
           "diverging": [
            [
             0,
             "#8e0152"
            ],
            [
             0.1,
             "#c51b7d"
            ],
            [
             0.2,
             "#de77ae"
            ],
            [
             0.3,
             "#f1b6da"
            ],
            [
             0.4,
             "#fde0ef"
            ],
            [
             0.5,
             "#f7f7f7"
            ],
            [
             0.6,
             "#e6f5d0"
            ],
            [
             0.7,
             "#b8e186"
            ],
            [
             0.8,
             "#7fbc41"
            ],
            [
             0.9,
             "#4d9221"
            ],
            [
             1,
             "#276419"
            ]
           ],
           "sequential": [
            [
             0,
             "#0d0887"
            ],
            [
             0.1111111111111111,
             "#46039f"
            ],
            [
             0.2222222222222222,
             "#7201a8"
            ],
            [
             0.3333333333333333,
             "#9c179e"
            ],
            [
             0.4444444444444444,
             "#bd3786"
            ],
            [
             0.5555555555555556,
             "#d8576b"
            ],
            [
             0.6666666666666666,
             "#ed7953"
            ],
            [
             0.7777777777777778,
             "#fb9f3a"
            ],
            [
             0.8888888888888888,
             "#fdca26"
            ],
            [
             1,
             "#f0f921"
            ]
           ],
           "sequentialminus": [
            [
             0,
             "#0d0887"
            ],
            [
             0.1111111111111111,
             "#46039f"
            ],
            [
             0.2222222222222222,
             "#7201a8"
            ],
            [
             0.3333333333333333,
             "#9c179e"
            ],
            [
             0.4444444444444444,
             "#bd3786"
            ],
            [
             0.5555555555555556,
             "#d8576b"
            ],
            [
             0.6666666666666666,
             "#ed7953"
            ],
            [
             0.7777777777777778,
             "#fb9f3a"
            ],
            [
             0.8888888888888888,
             "#fdca26"
            ],
            [
             1,
             "#f0f921"
            ]
           ]
          },
          "colorway": [
           "#636efa",
           "#EF553B",
           "#00cc96",
           "#ab63fa",
           "#FFA15A",
           "#19d3f3",
           "#FF6692",
           "#B6E880",
           "#FF97FF",
           "#FECB52"
          ],
          "font": {
           "color": "#2a3f5f"
          },
          "geo": {
           "bgcolor": "white",
           "lakecolor": "white",
           "landcolor": "#E5ECF6",
           "showlakes": true,
           "showland": true,
           "subunitcolor": "white"
          },
          "hoverlabel": {
           "align": "left"
          },
          "hovermode": "closest",
          "mapbox": {
           "style": "light"
          },
          "paper_bgcolor": "white",
          "plot_bgcolor": "#E5ECF6",
          "polar": {
           "angularaxis": {
            "gridcolor": "white",
            "linecolor": "white",
            "ticks": ""
           },
           "bgcolor": "#E5ECF6",
           "radialaxis": {
            "gridcolor": "white",
            "linecolor": "white",
            "ticks": ""
           }
          },
          "scene": {
           "xaxis": {
            "backgroundcolor": "#E5ECF6",
            "gridcolor": "white",
            "gridwidth": 2,
            "linecolor": "white",
            "showbackground": true,
            "ticks": "",
            "zerolinecolor": "white"
           },
           "yaxis": {
            "backgroundcolor": "#E5ECF6",
            "gridcolor": "white",
            "gridwidth": 2,
            "linecolor": "white",
            "showbackground": true,
            "ticks": "",
            "zerolinecolor": "white"
           },
           "zaxis": {
            "backgroundcolor": "#E5ECF6",
            "gridcolor": "white",
            "gridwidth": 2,
            "linecolor": "white",
            "showbackground": true,
            "ticks": "",
            "zerolinecolor": "white"
           }
          },
          "shapedefaults": {
           "line": {
            "color": "#2a3f5f"
           }
          },
          "ternary": {
           "aaxis": {
            "gridcolor": "white",
            "linecolor": "white",
            "ticks": ""
           },
           "baxis": {
            "gridcolor": "white",
            "linecolor": "white",
            "ticks": ""
           },
           "bgcolor": "#E5ECF6",
           "caxis": {
            "gridcolor": "white",
            "linecolor": "white",
            "ticks": ""
           }
          },
          "title": {
           "x": 0.05
          },
          "xaxis": {
           "automargin": true,
           "gridcolor": "white",
           "linecolor": "white",
           "ticks": "",
           "title": {
            "standoff": 15
           },
           "zerolinecolor": "white",
           "zerolinewidth": 2
          },
          "yaxis": {
           "automargin": true,
           "gridcolor": "white",
           "linecolor": "white",
           "ticks": "",
           "title": {
            "standoff": 15
           },
           "zerolinecolor": "white",
           "zerolinewidth": 2
          }
         }
        },
        "xaxis": {
         "showgrid": false,
         "showticklabels": false,
         "zeroline": false
        },
        "yaxis": {
         "showgrid": false,
         "showticklabels": false,
         "zeroline": false
        }
       }
      }
     },
     "metadata": {},
     "output_type": "display_data"
    }
   ],
   "source": [
    "selectors = [\"kapitaleink_brutto_tu\", \"zu_verst_kapitaleink_tu\"]\n",
    "\n",
    "plot_dag(functions=policy_functions,selectors=selectors, orientation ='h')"
   ]
  },
  {
   "cell_type": "markdown",
   "id": "15687552",
   "metadata": {},
   "source": [
    "Passing a string or a list of strings to `selectors` is actually a shortcut for the richer interface for selecting nodes. Selectors are usually represented as dictionaries. The corresponding dictionary for selecting a list of nodes is"
   ]
  },
  {
   "cell_type": "code",
   "execution_count": 15,
   "id": "d84819f3",
   "metadata": {},
   "outputs": [],
   "source": [
    "selector = {\n",
    "    \"type\": \"nodes\",\n",
    "    \"node\": [\"kapitaleink_brutto_tu\", \"zu_verst_kapitaleink_tu\"],\n",
    "    \"select\": True,   # optional\n",
    "}"
   ]
  },
  {
   "cell_type": "markdown",
   "id": "cd794e7e",
   "metadata": {},
   "source": [
    "Let us go through the keys of the dictionary one by one.\n",
    "\n",
    "1. `\"type\"` specifies the type of the selector. For a single node or a list of nodes the type is `\"nodes\"`.\n",
    "2. `\"node\"` always refers to the node or nodes to which the selector is applied. In this case, it is the list of node names.\n",
    "3. `\"select\"` specifies whether the nodes should be selected or de-selected. If you do not specify `\"select\"` it is assumed to be `True`.Let us go through the keys of the dictionary one by one.\n"
   ]
  },
  {
   "cell_type": "markdown",
   "id": "1ba6c2ac",
   "metadata": {},
   "source": [
    "### De-selecting Nodes\n",
    "\n",
    "It is also possible to specify selectors which de-select some nodes. Note that,\n",
    "\n",
    "- De-selectors are applied after nodes have been selected.\n",
    "- If no selectors are provided, de-selectors de-select nodes from the complete DAG.\n",
    "- Selection and de-selection works for all selector types which follow.\n",
    "\n",
    "For a simple and silly example, we want to reproduce the graph with the single node for `kapitaleink_brutto_tu` after, but starting from the last plot which also showed `zu_verst_kapitaleink_tu`.\n",
    "\n",
    "First, we define the selectors. The first selector or dictionary in the list selects the two nodes. Note that the `\"select\"` key is `True` by default. The second key in the de-selects `\"zu_verst_kapitaleink_tu\"`."
   ]
  },
  {
   "cell_type": "code",
   "execution_count": 13,
   "id": "92ee044b",
   "metadata": {},
   "outputs": [
    {
     "data": {
      "application/vnd.plotly.v1+json": {
       "config": {
        "plotlyServerURL": "https://plot.ly"
       },
       "data": [
        {
         "hoverinfo": "none",
         "line": {
          "color": "blue",
          "width": 0.5
         },
         "mode": "lines",
         "showlegend": false,
         "type": "scatter",
         "uid": "26783cfa-cfdd-4f92-aedb-50ecc851946b",
         "x": [],
         "y": []
        },
        {
         "hoverinfo": "skip",
         "marker": {
          "color": "red",
          "reversescale": true,
          "showscale": false,
          "size": 15
         },
         "mode": "markers+text",
         "showlegend": false,
         "text": [
          "kapitaleink_brutto_tu"
         ],
         "textposition": "bottom center",
         "type": "scatter",
         "uid": "6d6fce57-cf97-455e-8875-162ce0d5fb8a",
         "x": [
          0
         ],
         "y": [
          0
         ]
        },
        {
         "hoverinfo": "skip",
         "marker": {
          "color": "red",
          "reversescale": true,
          "showscale": false,
          "size": 15
         },
         "mode": "markers+text",
         "showlegend": false,
         "text": [
          "kapitaleink_brutto_tu"
         ],
         "textposition": "bottom center",
         "type": "scatter",
         "uid": "a0cf0652-75c8-4119-b7ac-0f7b239482dd",
         "x": [
          0
         ],
         "y": [
          0
         ]
        }
       ],
       "layout": {
        "hoverlabel": {
         "font": {
          "size": 10
         }
        },
        "hovermode": "closest",
        "margin": {
         "b": 20,
         "l": 5,
         "r": 5,
         "t": 40
        },
        "showlegend": false,
        "template": {
         "data": {
          "bar": [
           {
            "error_x": {
             "color": "#2a3f5f"
            },
            "error_y": {
             "color": "#2a3f5f"
            },
            "marker": {
             "line": {
              "color": "#E5ECF6",
              "width": 0.5
             },
             "pattern": {
              "fillmode": "overlay",
              "size": 10,
              "solidity": 0.2
             }
            },
            "type": "bar"
           }
          ],
          "barpolar": [
           {
            "marker": {
             "line": {
              "color": "#E5ECF6",
              "width": 0.5
             },
             "pattern": {
              "fillmode": "overlay",
              "size": 10,
              "solidity": 0.2
             }
            },
            "type": "barpolar"
           }
          ],
          "carpet": [
           {
            "aaxis": {
             "endlinecolor": "#2a3f5f",
             "gridcolor": "white",
             "linecolor": "white",
             "minorgridcolor": "white",
             "startlinecolor": "#2a3f5f"
            },
            "baxis": {
             "endlinecolor": "#2a3f5f",
             "gridcolor": "white",
             "linecolor": "white",
             "minorgridcolor": "white",
             "startlinecolor": "#2a3f5f"
            },
            "type": "carpet"
           }
          ],
          "choropleth": [
           {
            "colorbar": {
             "outlinewidth": 0,
             "ticks": ""
            },
            "type": "choropleth"
           }
          ],
          "contour": [
           {
            "colorbar": {
             "outlinewidth": 0,
             "ticks": ""
            },
            "colorscale": [
             [
              0,
              "#0d0887"
             ],
             [
              0.1111111111111111,
              "#46039f"
             ],
             [
              0.2222222222222222,
              "#7201a8"
             ],
             [
              0.3333333333333333,
              "#9c179e"
             ],
             [
              0.4444444444444444,
              "#bd3786"
             ],
             [
              0.5555555555555556,
              "#d8576b"
             ],
             [
              0.6666666666666666,
              "#ed7953"
             ],
             [
              0.7777777777777778,
              "#fb9f3a"
             ],
             [
              0.8888888888888888,
              "#fdca26"
             ],
             [
              1,
              "#f0f921"
             ]
            ],
            "type": "contour"
           }
          ],
          "contourcarpet": [
           {
            "colorbar": {
             "outlinewidth": 0,
             "ticks": ""
            },
            "type": "contourcarpet"
           }
          ],
          "heatmap": [
           {
            "colorbar": {
             "outlinewidth": 0,
             "ticks": ""
            },
            "colorscale": [
             [
              0,
              "#0d0887"
             ],
             [
              0.1111111111111111,
              "#46039f"
             ],
             [
              0.2222222222222222,
              "#7201a8"
             ],
             [
              0.3333333333333333,
              "#9c179e"
             ],
             [
              0.4444444444444444,
              "#bd3786"
             ],
             [
              0.5555555555555556,
              "#d8576b"
             ],
             [
              0.6666666666666666,
              "#ed7953"
             ],
             [
              0.7777777777777778,
              "#fb9f3a"
             ],
             [
              0.8888888888888888,
              "#fdca26"
             ],
             [
              1,
              "#f0f921"
             ]
            ],
            "type": "heatmap"
           }
          ],
          "heatmapgl": [
           {
            "colorbar": {
             "outlinewidth": 0,
             "ticks": ""
            },
            "colorscale": [
             [
              0,
              "#0d0887"
             ],
             [
              0.1111111111111111,
              "#46039f"
             ],
             [
              0.2222222222222222,
              "#7201a8"
             ],
             [
              0.3333333333333333,
              "#9c179e"
             ],
             [
              0.4444444444444444,
              "#bd3786"
             ],
             [
              0.5555555555555556,
              "#d8576b"
             ],
             [
              0.6666666666666666,
              "#ed7953"
             ],
             [
              0.7777777777777778,
              "#fb9f3a"
             ],
             [
              0.8888888888888888,
              "#fdca26"
             ],
             [
              1,
              "#f0f921"
             ]
            ],
            "type": "heatmapgl"
           }
          ],
          "histogram": [
           {
            "marker": {
             "pattern": {
              "fillmode": "overlay",
              "size": 10,
              "solidity": 0.2
             }
            },
            "type": "histogram"
           }
          ],
          "histogram2d": [
           {
            "colorbar": {
             "outlinewidth": 0,
             "ticks": ""
            },
            "colorscale": [
             [
              0,
              "#0d0887"
             ],
             [
              0.1111111111111111,
              "#46039f"
             ],
             [
              0.2222222222222222,
              "#7201a8"
             ],
             [
              0.3333333333333333,
              "#9c179e"
             ],
             [
              0.4444444444444444,
              "#bd3786"
             ],
             [
              0.5555555555555556,
              "#d8576b"
             ],
             [
              0.6666666666666666,
              "#ed7953"
             ],
             [
              0.7777777777777778,
              "#fb9f3a"
             ],
             [
              0.8888888888888888,
              "#fdca26"
             ],
             [
              1,
              "#f0f921"
             ]
            ],
            "type": "histogram2d"
           }
          ],
          "histogram2dcontour": [
           {
            "colorbar": {
             "outlinewidth": 0,
             "ticks": ""
            },
            "colorscale": [
             [
              0,
              "#0d0887"
             ],
             [
              0.1111111111111111,
              "#46039f"
             ],
             [
              0.2222222222222222,
              "#7201a8"
             ],
             [
              0.3333333333333333,
              "#9c179e"
             ],
             [
              0.4444444444444444,
              "#bd3786"
             ],
             [
              0.5555555555555556,
              "#d8576b"
             ],
             [
              0.6666666666666666,
              "#ed7953"
             ],
             [
              0.7777777777777778,
              "#fb9f3a"
             ],
             [
              0.8888888888888888,
              "#fdca26"
             ],
             [
              1,
              "#f0f921"
             ]
            ],
            "type": "histogram2dcontour"
           }
          ],
          "mesh3d": [
           {
            "colorbar": {
             "outlinewidth": 0,
             "ticks": ""
            },
            "type": "mesh3d"
           }
          ],
          "parcoords": [
           {
            "line": {
             "colorbar": {
              "outlinewidth": 0,
              "ticks": ""
             }
            },
            "type": "parcoords"
           }
          ],
          "pie": [
           {
            "automargin": true,
            "type": "pie"
           }
          ],
          "scatter": [
           {
            "fillpattern": {
             "fillmode": "overlay",
             "size": 10,
             "solidity": 0.2
            },
            "type": "scatter"
           }
          ],
          "scatter3d": [
           {
            "line": {
             "colorbar": {
              "outlinewidth": 0,
              "ticks": ""
             }
            },
            "marker": {
             "colorbar": {
              "outlinewidth": 0,
              "ticks": ""
             }
            },
            "type": "scatter3d"
           }
          ],
          "scattercarpet": [
           {
            "marker": {
             "colorbar": {
              "outlinewidth": 0,
              "ticks": ""
             }
            },
            "type": "scattercarpet"
           }
          ],
          "scattergeo": [
           {
            "marker": {
             "colorbar": {
              "outlinewidth": 0,
              "ticks": ""
             }
            },
            "type": "scattergeo"
           }
          ],
          "scattergl": [
           {
            "marker": {
             "colorbar": {
              "outlinewidth": 0,
              "ticks": ""
             }
            },
            "type": "scattergl"
           }
          ],
          "scattermapbox": [
           {
            "marker": {
             "colorbar": {
              "outlinewidth": 0,
              "ticks": ""
             }
            },
            "type": "scattermapbox"
           }
          ],
          "scatterpolar": [
           {
            "marker": {
             "colorbar": {
              "outlinewidth": 0,
              "ticks": ""
             }
            },
            "type": "scatterpolar"
           }
          ],
          "scatterpolargl": [
           {
            "marker": {
             "colorbar": {
              "outlinewidth": 0,
              "ticks": ""
             }
            },
            "type": "scatterpolargl"
           }
          ],
          "scatterternary": [
           {
            "marker": {
             "colorbar": {
              "outlinewidth": 0,
              "ticks": ""
             }
            },
            "type": "scatterternary"
           }
          ],
          "surface": [
           {
            "colorbar": {
             "outlinewidth": 0,
             "ticks": ""
            },
            "colorscale": [
             [
              0,
              "#0d0887"
             ],
             [
              0.1111111111111111,
              "#46039f"
             ],
             [
              0.2222222222222222,
              "#7201a8"
             ],
             [
              0.3333333333333333,
              "#9c179e"
             ],
             [
              0.4444444444444444,
              "#bd3786"
             ],
             [
              0.5555555555555556,
              "#d8576b"
             ],
             [
              0.6666666666666666,
              "#ed7953"
             ],
             [
              0.7777777777777778,
              "#fb9f3a"
             ],
             [
              0.8888888888888888,
              "#fdca26"
             ],
             [
              1,
              "#f0f921"
             ]
            ],
            "type": "surface"
           }
          ],
          "table": [
           {
            "cells": {
             "fill": {
              "color": "#EBF0F8"
             },
             "line": {
              "color": "white"
             }
            },
            "header": {
             "fill": {
              "color": "#C8D4E3"
             },
             "line": {
              "color": "white"
             }
            },
            "type": "table"
           }
          ]
         },
         "layout": {
          "annotationdefaults": {
           "arrowcolor": "#2a3f5f",
           "arrowhead": 0,
           "arrowwidth": 1
          },
          "autotypenumbers": "strict",
          "coloraxis": {
           "colorbar": {
            "outlinewidth": 0,
            "ticks": ""
           }
          },
          "colorscale": {
           "diverging": [
            [
             0,
             "#8e0152"
            ],
            [
             0.1,
             "#c51b7d"
            ],
            [
             0.2,
             "#de77ae"
            ],
            [
             0.3,
             "#f1b6da"
            ],
            [
             0.4,
             "#fde0ef"
            ],
            [
             0.5,
             "#f7f7f7"
            ],
            [
             0.6,
             "#e6f5d0"
            ],
            [
             0.7,
             "#b8e186"
            ],
            [
             0.8,
             "#7fbc41"
            ],
            [
             0.9,
             "#4d9221"
            ],
            [
             1,
             "#276419"
            ]
           ],
           "sequential": [
            [
             0,
             "#0d0887"
            ],
            [
             0.1111111111111111,
             "#46039f"
            ],
            [
             0.2222222222222222,
             "#7201a8"
            ],
            [
             0.3333333333333333,
             "#9c179e"
            ],
            [
             0.4444444444444444,
             "#bd3786"
            ],
            [
             0.5555555555555556,
             "#d8576b"
            ],
            [
             0.6666666666666666,
             "#ed7953"
            ],
            [
             0.7777777777777778,
             "#fb9f3a"
            ],
            [
             0.8888888888888888,
             "#fdca26"
            ],
            [
             1,
             "#f0f921"
            ]
           ],
           "sequentialminus": [
            [
             0,
             "#0d0887"
            ],
            [
             0.1111111111111111,
             "#46039f"
            ],
            [
             0.2222222222222222,
             "#7201a8"
            ],
            [
             0.3333333333333333,
             "#9c179e"
            ],
            [
             0.4444444444444444,
             "#bd3786"
            ],
            [
             0.5555555555555556,
             "#d8576b"
            ],
            [
             0.6666666666666666,
             "#ed7953"
            ],
            [
             0.7777777777777778,
             "#fb9f3a"
            ],
            [
             0.8888888888888888,
             "#fdca26"
            ],
            [
             1,
             "#f0f921"
            ]
           ]
          },
          "colorway": [
           "#636efa",
           "#EF553B",
           "#00cc96",
           "#ab63fa",
           "#FFA15A",
           "#19d3f3",
           "#FF6692",
           "#B6E880",
           "#FF97FF",
           "#FECB52"
          ],
          "font": {
           "color": "#2a3f5f"
          },
          "geo": {
           "bgcolor": "white",
           "lakecolor": "white",
           "landcolor": "#E5ECF6",
           "showlakes": true,
           "showland": true,
           "subunitcolor": "white"
          },
          "hoverlabel": {
           "align": "left"
          },
          "hovermode": "closest",
          "mapbox": {
           "style": "light"
          },
          "paper_bgcolor": "white",
          "plot_bgcolor": "#E5ECF6",
          "polar": {
           "angularaxis": {
            "gridcolor": "white",
            "linecolor": "white",
            "ticks": ""
           },
           "bgcolor": "#E5ECF6",
           "radialaxis": {
            "gridcolor": "white",
            "linecolor": "white",
            "ticks": ""
           }
          },
          "scene": {
           "xaxis": {
            "backgroundcolor": "#E5ECF6",
            "gridcolor": "white",
            "gridwidth": 2,
            "linecolor": "white",
            "showbackground": true,
            "ticks": "",
            "zerolinecolor": "white"
           },
           "yaxis": {
            "backgroundcolor": "#E5ECF6",
            "gridcolor": "white",
            "gridwidth": 2,
            "linecolor": "white",
            "showbackground": true,
            "ticks": "",
            "zerolinecolor": "white"
           },
           "zaxis": {
            "backgroundcolor": "#E5ECF6",
            "gridcolor": "white",
            "gridwidth": 2,
            "linecolor": "white",
            "showbackground": true,
            "ticks": "",
            "zerolinecolor": "white"
           }
          },
          "shapedefaults": {
           "line": {
            "color": "#2a3f5f"
           }
          },
          "ternary": {
           "aaxis": {
            "gridcolor": "white",
            "linecolor": "white",
            "ticks": ""
           },
           "baxis": {
            "gridcolor": "white",
            "linecolor": "white",
            "ticks": ""
           },
           "bgcolor": "#E5ECF6",
           "caxis": {
            "gridcolor": "white",
            "linecolor": "white",
            "ticks": ""
           }
          },
          "title": {
           "x": 0.05
          },
          "xaxis": {
           "automargin": true,
           "gridcolor": "white",
           "linecolor": "white",
           "ticks": "",
           "title": {
            "standoff": 15
           },
           "zerolinecolor": "white",
           "zerolinewidth": 2
          },
          "yaxis": {
           "automargin": true,
           "gridcolor": "white",
           "linecolor": "white",
           "ticks": "",
           "title": {
            "standoff": 15
           },
           "zerolinecolor": "white",
           "zerolinewidth": 2
          }
         }
        },
        "xaxis": {
         "showgrid": false,
         "showticklabels": false,
         "zeroline": false
        },
        "yaxis": {
         "showgrid": false,
         "showticklabels": false,
         "zeroline": false
        }
       }
      },
      "text/html": [
       "<div>                            <div id=\"5bf46ee1-a179-44a9-82dd-088168189c59\" class=\"plotly-graph-div\" style=\"height:525px; width:100%;\"></div>            <script type=\"text/javascript\">                require([\"plotly\"], function(Plotly) {                    window.PLOTLYENV=window.PLOTLYENV || {};                                    if (document.getElementById(\"5bf46ee1-a179-44a9-82dd-088168189c59\")) {                    Plotly.newPlot(                        \"5bf46ee1-a179-44a9-82dd-088168189c59\",                        [{\"hoverinfo\":\"none\",\"line\":{\"color\":\"blue\",\"width\":0.5},\"mode\":\"lines\",\"showlegend\":false,\"x\":[],\"y\":[],\"type\":\"scatter\",\"uid\":\"26783cfa-cfdd-4f92-aedb-50ecc851946b\"},{\"hoverinfo\":\"skip\",\"marker\":{\"color\":\"red\",\"reversescale\":true,\"showscale\":false,\"size\":15},\"mode\":\"markers+text\",\"showlegend\":false,\"text\":[\"kapitaleink_brutto_tu\"],\"textposition\":\"bottom center\",\"x\":[0.0],\"y\":[0.0],\"type\":\"scatter\",\"uid\":\"6d6fce57-cf97-455e-8875-162ce0d5fb8a\"},{\"hoverinfo\":\"skip\",\"marker\":{\"color\":\"red\",\"reversescale\":true,\"showscale\":false,\"size\":15},\"mode\":\"markers+text\",\"showlegend\":false,\"text\":[\"kapitaleink_brutto_tu\"],\"textposition\":\"bottom center\",\"x\":[0.0],\"y\":[0.0],\"type\":\"scatter\",\"uid\":\"a0cf0652-75c8-4119-b7ac-0f7b239482dd\"}],                        {\"hoverlabel\":{\"font\":{\"size\":10}},\"hovermode\":\"closest\",\"margin\":{\"b\":20,\"l\":5,\"r\":5,\"t\":40},\"showlegend\":false,\"xaxis\":{\"showgrid\":false,\"showticklabels\":false,\"zeroline\":false},\"yaxis\":{\"showgrid\":false,\"showticklabels\":false,\"zeroline\":false},\"template\":{\"data\":{\"barpolar\":[{\"marker\":{\"line\":{\"color\":\"#E5ECF6\",\"width\":0.5},\"pattern\":{\"fillmode\":\"overlay\",\"size\":10,\"solidity\":0.2}},\"type\":\"barpolar\"}],\"bar\":[{\"error_x\":{\"color\":\"#2a3f5f\"},\"error_y\":{\"color\":\"#2a3f5f\"},\"marker\":{\"line\":{\"color\":\"#E5ECF6\",\"width\":0.5},\"pattern\":{\"fillmode\":\"overlay\",\"size\":10,\"solidity\":0.2}},\"type\":\"bar\"}],\"carpet\":[{\"aaxis\":{\"endlinecolor\":\"#2a3f5f\",\"gridcolor\":\"white\",\"linecolor\":\"white\",\"minorgridcolor\":\"white\",\"startlinecolor\":\"#2a3f5f\"},\"baxis\":{\"endlinecolor\":\"#2a3f5f\",\"gridcolor\":\"white\",\"linecolor\":\"white\",\"minorgridcolor\":\"white\",\"startlinecolor\":\"#2a3f5f\"},\"type\":\"carpet\"}],\"choropleth\":[{\"colorbar\":{\"outlinewidth\":0,\"ticks\":\"\"},\"type\":\"choropleth\"}],\"contourcarpet\":[{\"colorbar\":{\"outlinewidth\":0,\"ticks\":\"\"},\"type\":\"contourcarpet\"}],\"contour\":[{\"colorbar\":{\"outlinewidth\":0,\"ticks\":\"\"},\"colorscale\":[[0.0,\"#0d0887\"],[0.1111111111111111,\"#46039f\"],[0.2222222222222222,\"#7201a8\"],[0.3333333333333333,\"#9c179e\"],[0.4444444444444444,\"#bd3786\"],[0.5555555555555556,\"#d8576b\"],[0.6666666666666666,\"#ed7953\"],[0.7777777777777778,\"#fb9f3a\"],[0.8888888888888888,\"#fdca26\"],[1.0,\"#f0f921\"]],\"type\":\"contour\"}],\"heatmapgl\":[{\"colorbar\":{\"outlinewidth\":0,\"ticks\":\"\"},\"colorscale\":[[0.0,\"#0d0887\"],[0.1111111111111111,\"#46039f\"],[0.2222222222222222,\"#7201a8\"],[0.3333333333333333,\"#9c179e\"],[0.4444444444444444,\"#bd3786\"],[0.5555555555555556,\"#d8576b\"],[0.6666666666666666,\"#ed7953\"],[0.7777777777777778,\"#fb9f3a\"],[0.8888888888888888,\"#fdca26\"],[1.0,\"#f0f921\"]],\"type\":\"heatmapgl\"}],\"heatmap\":[{\"colorbar\":{\"outlinewidth\":0,\"ticks\":\"\"},\"colorscale\":[[0.0,\"#0d0887\"],[0.1111111111111111,\"#46039f\"],[0.2222222222222222,\"#7201a8\"],[0.3333333333333333,\"#9c179e\"],[0.4444444444444444,\"#bd3786\"],[0.5555555555555556,\"#d8576b\"],[0.6666666666666666,\"#ed7953\"],[0.7777777777777778,\"#fb9f3a\"],[0.8888888888888888,\"#fdca26\"],[1.0,\"#f0f921\"]],\"type\":\"heatmap\"}],\"histogram2dcontour\":[{\"colorbar\":{\"outlinewidth\":0,\"ticks\":\"\"},\"colorscale\":[[0.0,\"#0d0887\"],[0.1111111111111111,\"#46039f\"],[0.2222222222222222,\"#7201a8\"],[0.3333333333333333,\"#9c179e\"],[0.4444444444444444,\"#bd3786\"],[0.5555555555555556,\"#d8576b\"],[0.6666666666666666,\"#ed7953\"],[0.7777777777777778,\"#fb9f3a\"],[0.8888888888888888,\"#fdca26\"],[1.0,\"#f0f921\"]],\"type\":\"histogram2dcontour\"}],\"histogram2d\":[{\"colorbar\":{\"outlinewidth\":0,\"ticks\":\"\"},\"colorscale\":[[0.0,\"#0d0887\"],[0.1111111111111111,\"#46039f\"],[0.2222222222222222,\"#7201a8\"],[0.3333333333333333,\"#9c179e\"],[0.4444444444444444,\"#bd3786\"],[0.5555555555555556,\"#d8576b\"],[0.6666666666666666,\"#ed7953\"],[0.7777777777777778,\"#fb9f3a\"],[0.8888888888888888,\"#fdca26\"],[1.0,\"#f0f921\"]],\"type\":\"histogram2d\"}],\"histogram\":[{\"marker\":{\"pattern\":{\"fillmode\":\"overlay\",\"size\":10,\"solidity\":0.2}},\"type\":\"histogram\"}],\"mesh3d\":[{\"colorbar\":{\"outlinewidth\":0,\"ticks\":\"\"},\"type\":\"mesh3d\"}],\"parcoords\":[{\"line\":{\"colorbar\":{\"outlinewidth\":0,\"ticks\":\"\"}},\"type\":\"parcoords\"}],\"pie\":[{\"automargin\":true,\"type\":\"pie\"}],\"scatter3d\":[{\"line\":{\"colorbar\":{\"outlinewidth\":0,\"ticks\":\"\"}},\"marker\":{\"colorbar\":{\"outlinewidth\":0,\"ticks\":\"\"}},\"type\":\"scatter3d\"}],\"scattercarpet\":[{\"marker\":{\"colorbar\":{\"outlinewidth\":0,\"ticks\":\"\"}},\"type\":\"scattercarpet\"}],\"scattergeo\":[{\"marker\":{\"colorbar\":{\"outlinewidth\":0,\"ticks\":\"\"}},\"type\":\"scattergeo\"}],\"scattergl\":[{\"marker\":{\"colorbar\":{\"outlinewidth\":0,\"ticks\":\"\"}},\"type\":\"scattergl\"}],\"scattermapbox\":[{\"marker\":{\"colorbar\":{\"outlinewidth\":0,\"ticks\":\"\"}},\"type\":\"scattermapbox\"}],\"scatterpolargl\":[{\"marker\":{\"colorbar\":{\"outlinewidth\":0,\"ticks\":\"\"}},\"type\":\"scatterpolargl\"}],\"scatterpolar\":[{\"marker\":{\"colorbar\":{\"outlinewidth\":0,\"ticks\":\"\"}},\"type\":\"scatterpolar\"}],\"scatter\":[{\"fillpattern\":{\"fillmode\":\"overlay\",\"size\":10,\"solidity\":0.2},\"type\":\"scatter\"}],\"scatterternary\":[{\"marker\":{\"colorbar\":{\"outlinewidth\":0,\"ticks\":\"\"}},\"type\":\"scatterternary\"}],\"surface\":[{\"colorbar\":{\"outlinewidth\":0,\"ticks\":\"\"},\"colorscale\":[[0.0,\"#0d0887\"],[0.1111111111111111,\"#46039f\"],[0.2222222222222222,\"#7201a8\"],[0.3333333333333333,\"#9c179e\"],[0.4444444444444444,\"#bd3786\"],[0.5555555555555556,\"#d8576b\"],[0.6666666666666666,\"#ed7953\"],[0.7777777777777778,\"#fb9f3a\"],[0.8888888888888888,\"#fdca26\"],[1.0,\"#f0f921\"]],\"type\":\"surface\"}],\"table\":[{\"cells\":{\"fill\":{\"color\":\"#EBF0F8\"},\"line\":{\"color\":\"white\"}},\"header\":{\"fill\":{\"color\":\"#C8D4E3\"},\"line\":{\"color\":\"white\"}},\"type\":\"table\"}]},\"layout\":{\"annotationdefaults\":{\"arrowcolor\":\"#2a3f5f\",\"arrowhead\":0,\"arrowwidth\":1},\"autotypenumbers\":\"strict\",\"coloraxis\":{\"colorbar\":{\"outlinewidth\":0,\"ticks\":\"\"}},\"colorscale\":{\"diverging\":[[0,\"#8e0152\"],[0.1,\"#c51b7d\"],[0.2,\"#de77ae\"],[0.3,\"#f1b6da\"],[0.4,\"#fde0ef\"],[0.5,\"#f7f7f7\"],[0.6,\"#e6f5d0\"],[0.7,\"#b8e186\"],[0.8,\"#7fbc41\"],[0.9,\"#4d9221\"],[1,\"#276419\"]],\"sequential\":[[0.0,\"#0d0887\"],[0.1111111111111111,\"#46039f\"],[0.2222222222222222,\"#7201a8\"],[0.3333333333333333,\"#9c179e\"],[0.4444444444444444,\"#bd3786\"],[0.5555555555555556,\"#d8576b\"],[0.6666666666666666,\"#ed7953\"],[0.7777777777777778,\"#fb9f3a\"],[0.8888888888888888,\"#fdca26\"],[1.0,\"#f0f921\"]],\"sequentialminus\":[[0.0,\"#0d0887\"],[0.1111111111111111,\"#46039f\"],[0.2222222222222222,\"#7201a8\"],[0.3333333333333333,\"#9c179e\"],[0.4444444444444444,\"#bd3786\"],[0.5555555555555556,\"#d8576b\"],[0.6666666666666666,\"#ed7953\"],[0.7777777777777778,\"#fb9f3a\"],[0.8888888888888888,\"#fdca26\"],[1.0,\"#f0f921\"]]},\"colorway\":[\"#636efa\",\"#EF553B\",\"#00cc96\",\"#ab63fa\",\"#FFA15A\",\"#19d3f3\",\"#FF6692\",\"#B6E880\",\"#FF97FF\",\"#FECB52\"],\"font\":{\"color\":\"#2a3f5f\"},\"geo\":{\"bgcolor\":\"white\",\"lakecolor\":\"white\",\"landcolor\":\"#E5ECF6\",\"showlakes\":true,\"showland\":true,\"subunitcolor\":\"white\"},\"hoverlabel\":{\"align\":\"left\"},\"hovermode\":\"closest\",\"mapbox\":{\"style\":\"light\"},\"paper_bgcolor\":\"white\",\"plot_bgcolor\":\"#E5ECF6\",\"polar\":{\"angularaxis\":{\"gridcolor\":\"white\",\"linecolor\":\"white\",\"ticks\":\"\"},\"bgcolor\":\"#E5ECF6\",\"radialaxis\":{\"gridcolor\":\"white\",\"linecolor\":\"white\",\"ticks\":\"\"}},\"scene\":{\"xaxis\":{\"backgroundcolor\":\"#E5ECF6\",\"gridcolor\":\"white\",\"gridwidth\":2,\"linecolor\":\"white\",\"showbackground\":true,\"ticks\":\"\",\"zerolinecolor\":\"white\"},\"yaxis\":{\"backgroundcolor\":\"#E5ECF6\",\"gridcolor\":\"white\",\"gridwidth\":2,\"linecolor\":\"white\",\"showbackground\":true,\"ticks\":\"\",\"zerolinecolor\":\"white\"},\"zaxis\":{\"backgroundcolor\":\"#E5ECF6\",\"gridcolor\":\"white\",\"gridwidth\":2,\"linecolor\":\"white\",\"showbackground\":true,\"ticks\":\"\",\"zerolinecolor\":\"white\"}},\"shapedefaults\":{\"line\":{\"color\":\"#2a3f5f\"}},\"ternary\":{\"aaxis\":{\"gridcolor\":\"white\",\"linecolor\":\"white\",\"ticks\":\"\"},\"baxis\":{\"gridcolor\":\"white\",\"linecolor\":\"white\",\"ticks\":\"\"},\"bgcolor\":\"#E5ECF6\",\"caxis\":{\"gridcolor\":\"white\",\"linecolor\":\"white\",\"ticks\":\"\"}},\"title\":{\"x\":0.05},\"xaxis\":{\"automargin\":true,\"gridcolor\":\"white\",\"linecolor\":\"white\",\"ticks\":\"\",\"title\":{\"standoff\":15},\"zerolinecolor\":\"white\",\"zerolinewidth\":2},\"yaxis\":{\"automargin\":true,\"gridcolor\":\"white\",\"linecolor\":\"white\",\"ticks\":\"\",\"title\":{\"standoff\":15},\"zerolinecolor\":\"white\",\"zerolinewidth\":2}}}},                        {\"responsive\": true}                    ).then(function(){\n",
       "                            \n",
       "var gd = document.getElementById('5bf46ee1-a179-44a9-82dd-088168189c59');\n",
       "var x = new MutationObserver(function (mutations, observer) {{\n",
       "        var display = window.getComputedStyle(gd).display;\n",
       "        if (!display || display === 'none') {{\n",
       "            console.log([gd, 'removed!']);\n",
       "            Plotly.purge(gd);\n",
       "            observer.disconnect();\n",
       "        }}\n",
       "}});\n",
       "\n",
       "// Listen for the removal of the full notebook cells\n",
       "var notebookContainer = gd.closest('#notebook-container');\n",
       "if (notebookContainer) {{\n",
       "    x.observe(notebookContainer, {childList: true});\n",
       "}}\n",
       "\n",
       "// Listen for the clearing of the current output cell\n",
       "var outputEl = gd.closest('.output');\n",
       "if (outputEl) {{\n",
       "    x.observe(outputEl, {childList: true});\n",
       "}}\n",
       "\n",
       "                        })                };                });            </script>        </div>"
      ]
     },
     "metadata": {},
     "output_type": "display_data"
    }
   ],
   "source": [
    "selectors = [\n",
    "    {\"type\": \"nodes\", \"node\": [\"kapitaleink_brutto_tu\", \"zu_verst_kapitaleink_tu\"],},\n",
    "    {\"type\": \"nodes\", \"node\": \"zu_verst_kapitaleink_tu\", \"select\": False,},\n",
    "]\n",
    "plot_dag(functions=policy_functions,selectors=selectors, orientation ='v')"
   ]
  },
  {
   "cell_type": "markdown",
   "id": "017dd71a",
   "metadata": {},
   "source": [
    "### Ancestors and Descendants\n",
    "\n",
    "Two other types of selectors allow you to pick one node and all nodes which appear before or after this node. We call the nodes ancestors or descendants, respectively. To select `\"zu_verst_kapitaleink_tu\"` which is the calculated taxable capital income per tax unit and all its ancestors, do the following."
   ]
  },
  {
   "cell_type": "code",
   "execution_count": 14,
   "id": "71df48f5",
   "metadata": {},
   "outputs": [
    {
     "data": {
      "application/vnd.plotly.v1+json": {
       "config": {
        "plotlyServerURL": "https://plot.ly"
       },
       "data": [
        {
         "hoverinfo": "none",
         "line": {
          "color": "blue",
          "width": 0.5
         },
         "mode": "lines",
         "showlegend": false,
         "type": "scatter",
         "uid": "f22d5284-e5ce-4f9d-ad1f-649c62d34d8d",
         "x": [
          -0.3333333333333333,
          0.3333333333333333,
          "",
          -0.3333333333333333,
          0.3333333333333333,
          "",
          0.3333333333333333,
          1,
          "",
          0.3333333333333333,
          1,
          "",
          -1,
          -0.3333333333333333,
          "",
          -1,
          -0.3333333333333333,
          "",
          -0.3333333333333333,
          0.3333333333333333,
          "",
          -0.3333333333333333,
          0.3333333333333333,
          ""
         ],
         "y": [
          -1,
          -0.5,
          "",
          1,
          0.5,
          "",
          -0.5,
          0,
          "",
          0.5,
          0,
          "",
          1,
          1,
          "",
          -1,
          -1,
          "",
          0,
          -0.5,
          "",
          0,
          0.5,
          ""
         ]
        },
        {
         "hoverinfo": "skip",
         "marker": {
          "color": "red",
          "reversescale": true,
          "showscale": false,
          "size": 15
         },
         "mode": "markers+text",
         "showlegend": false,
         "text": [
          "zu_verst_kapitaleink_tu",
          "kapitaleink_brutto",
          "erwachsen",
          "kapitaleink_brutto_tu",
          "anz_erwachsene_tu",
          "kind",
          "kapitaleink_brutto_m",
          "tu_id"
         ],
         "textposition": "bottom center",
         "type": "scatter",
         "uid": "fcb364c2-a618-4776-ba15-5b398389df01",
         "x": [
          1,
          -0.3333333333333333,
          -0.3333333333333333,
          0.3333333333333333,
          0.3333333333333333,
          -1,
          -1,
          -0.3333333333333333
         ],
         "y": [
          0,
          -1,
          1,
          -0.5,
          0.5,
          1,
          -1,
          0
         ]
        },
        {
         "hoverinfo": "skip",
         "marker": {
          "color": "red",
          "reversescale": true,
          "showscale": false,
          "size": 15
         },
         "mode": "markers+text",
         "showlegend": false,
         "text": [
          "zu_verst_kapitaleink_tu",
          "kapitaleink_brutto",
          "erwachsen",
          "kapitaleink_brutto_tu",
          "anz_erwachsene_tu",
          "kind",
          "kapitaleink_brutto_m",
          "tu_id"
         ],
         "textposition": "bottom center",
         "type": "scatter",
         "uid": "be4edbd8-0f55-49b5-b2d8-0cbf1100d8b6",
         "x": [
          1,
          -0.3333333333333333,
          -0.3333333333333333,
          0.3333333333333333,
          0.3333333333333333,
          -1,
          -1,
          -0.3333333333333333
         ],
         "y": [
          0,
          -1,
          1,
          -0.5,
          0.5,
          1,
          -1,
          0
         ]
        }
       ],
       "layout": {
        "annotations": [
         {
          "arrowcolor": "gray",
          "arrowhead": 2,
          "arrowsize": 2,
          "ax": -0.3333333333333333,
          "axref": "x",
          "ay": -1,
          "ayref": "y",
          "showarrow": true,
          "standoff": 5,
          "startstandoff": 5,
          "text": "",
          "x": 0.3333333333333333,
          "xref": "x",
          "y": -0.5,
          "yref": "y"
         },
         {
          "arrowcolor": "gray",
          "arrowhead": 2,
          "arrowsize": 2,
          "ax": -0.3333333333333333,
          "axref": "x",
          "ay": 1,
          "ayref": "y",
          "showarrow": true,
          "standoff": 5,
          "startstandoff": 5,
          "text": "",
          "x": 0.3333333333333333,
          "xref": "x",
          "y": 0.5,
          "yref": "y"
         },
         {
          "arrowcolor": "gray",
          "arrowhead": 2,
          "arrowsize": 2,
          "ax": 0.3333333333333333,
          "axref": "x",
          "ay": -0.5,
          "ayref": "y",
          "showarrow": true,
          "standoff": 5,
          "startstandoff": 5,
          "text": "",
          "x": 1,
          "xref": "x",
          "y": 0,
          "yref": "y"
         },
         {
          "arrowcolor": "gray",
          "arrowhead": 2,
          "arrowsize": 2,
          "ax": 0.3333333333333333,
          "axref": "x",
          "ay": 0.5,
          "ayref": "y",
          "showarrow": true,
          "standoff": 5,
          "startstandoff": 5,
          "text": "",
          "x": 1,
          "xref": "x",
          "y": 0,
          "yref": "y"
         },
         {
          "arrowcolor": "gray",
          "arrowhead": 2,
          "arrowsize": 2,
          "ax": -1,
          "axref": "x",
          "ay": 1,
          "ayref": "y",
          "showarrow": true,
          "standoff": 5,
          "startstandoff": 5,
          "text": "",
          "x": -0.3333333333333333,
          "xref": "x",
          "y": 1,
          "yref": "y"
         },
         {
          "arrowcolor": "gray",
          "arrowhead": 2,
          "arrowsize": 2,
          "ax": -1,
          "axref": "x",
          "ay": -1,
          "ayref": "y",
          "showarrow": true,
          "standoff": 5,
          "startstandoff": 5,
          "text": "",
          "x": -0.3333333333333333,
          "xref": "x",
          "y": -1,
          "yref": "y"
         },
         {
          "arrowcolor": "gray",
          "arrowhead": 2,
          "arrowsize": 2,
          "ax": -0.3333333333333333,
          "axref": "x",
          "ay": 0,
          "ayref": "y",
          "showarrow": true,
          "standoff": 5,
          "startstandoff": 5,
          "text": "",
          "x": 0.3333333333333333,
          "xref": "x",
          "y": -0.5,
          "yref": "y"
         },
         {
          "arrowcolor": "gray",
          "arrowhead": 2,
          "arrowsize": 2,
          "ax": -0.3333333333333333,
          "axref": "x",
          "ay": 0,
          "ayref": "y",
          "showarrow": true,
          "standoff": 5,
          "startstandoff": 5,
          "text": "",
          "x": 0.3333333333333333,
          "xref": "x",
          "y": 0.5,
          "yref": "y"
         }
        ],
        "hoverlabel": {
         "font": {
          "size": 10
         }
        },
        "hovermode": "closest",
        "margin": {
         "b": 20,
         "l": 5,
         "r": 5,
         "t": 40
        },
        "showlegend": false,
        "template": {
         "data": {
          "bar": [
           {
            "error_x": {
             "color": "#2a3f5f"
            },
            "error_y": {
             "color": "#2a3f5f"
            },
            "marker": {
             "line": {
              "color": "#E5ECF6",
              "width": 0.5
             },
             "pattern": {
              "fillmode": "overlay",
              "size": 10,
              "solidity": 0.2
             }
            },
            "type": "bar"
           }
          ],
          "barpolar": [
           {
            "marker": {
             "line": {
              "color": "#E5ECF6",
              "width": 0.5
             },
             "pattern": {
              "fillmode": "overlay",
              "size": 10,
              "solidity": 0.2
             }
            },
            "type": "barpolar"
           }
          ],
          "carpet": [
           {
            "aaxis": {
             "endlinecolor": "#2a3f5f",
             "gridcolor": "white",
             "linecolor": "white",
             "minorgridcolor": "white",
             "startlinecolor": "#2a3f5f"
            },
            "baxis": {
             "endlinecolor": "#2a3f5f",
             "gridcolor": "white",
             "linecolor": "white",
             "minorgridcolor": "white",
             "startlinecolor": "#2a3f5f"
            },
            "type": "carpet"
           }
          ],
          "choropleth": [
           {
            "colorbar": {
             "outlinewidth": 0,
             "ticks": ""
            },
            "type": "choropleth"
           }
          ],
          "contour": [
           {
            "colorbar": {
             "outlinewidth": 0,
             "ticks": ""
            },
            "colorscale": [
             [
              0,
              "#0d0887"
             ],
             [
              0.1111111111111111,
              "#46039f"
             ],
             [
              0.2222222222222222,
              "#7201a8"
             ],
             [
              0.3333333333333333,
              "#9c179e"
             ],
             [
              0.4444444444444444,
              "#bd3786"
             ],
             [
              0.5555555555555556,
              "#d8576b"
             ],
             [
              0.6666666666666666,
              "#ed7953"
             ],
             [
              0.7777777777777778,
              "#fb9f3a"
             ],
             [
              0.8888888888888888,
              "#fdca26"
             ],
             [
              1,
              "#f0f921"
             ]
            ],
            "type": "contour"
           }
          ],
          "contourcarpet": [
           {
            "colorbar": {
             "outlinewidth": 0,
             "ticks": ""
            },
            "type": "contourcarpet"
           }
          ],
          "heatmap": [
           {
            "colorbar": {
             "outlinewidth": 0,
             "ticks": ""
            },
            "colorscale": [
             [
              0,
              "#0d0887"
             ],
             [
              0.1111111111111111,
              "#46039f"
             ],
             [
              0.2222222222222222,
              "#7201a8"
             ],
             [
              0.3333333333333333,
              "#9c179e"
             ],
             [
              0.4444444444444444,
              "#bd3786"
             ],
             [
              0.5555555555555556,
              "#d8576b"
             ],
             [
              0.6666666666666666,
              "#ed7953"
             ],
             [
              0.7777777777777778,
              "#fb9f3a"
             ],
             [
              0.8888888888888888,
              "#fdca26"
             ],
             [
              1,
              "#f0f921"
             ]
            ],
            "type": "heatmap"
           }
          ],
          "heatmapgl": [
           {
            "colorbar": {
             "outlinewidth": 0,
             "ticks": ""
            },
            "colorscale": [
             [
              0,
              "#0d0887"
             ],
             [
              0.1111111111111111,
              "#46039f"
             ],
             [
              0.2222222222222222,
              "#7201a8"
             ],
             [
              0.3333333333333333,
              "#9c179e"
             ],
             [
              0.4444444444444444,
              "#bd3786"
             ],
             [
              0.5555555555555556,
              "#d8576b"
             ],
             [
              0.6666666666666666,
              "#ed7953"
             ],
             [
              0.7777777777777778,
              "#fb9f3a"
             ],
             [
              0.8888888888888888,
              "#fdca26"
             ],
             [
              1,
              "#f0f921"
             ]
            ],
            "type": "heatmapgl"
           }
          ],
          "histogram": [
           {
            "marker": {
             "pattern": {
              "fillmode": "overlay",
              "size": 10,
              "solidity": 0.2
             }
            },
            "type": "histogram"
           }
          ],
          "histogram2d": [
           {
            "colorbar": {
             "outlinewidth": 0,
             "ticks": ""
            },
            "colorscale": [
             [
              0,
              "#0d0887"
             ],
             [
              0.1111111111111111,
              "#46039f"
             ],
             [
              0.2222222222222222,
              "#7201a8"
             ],
             [
              0.3333333333333333,
              "#9c179e"
             ],
             [
              0.4444444444444444,
              "#bd3786"
             ],
             [
              0.5555555555555556,
              "#d8576b"
             ],
             [
              0.6666666666666666,
              "#ed7953"
             ],
             [
              0.7777777777777778,
              "#fb9f3a"
             ],
             [
              0.8888888888888888,
              "#fdca26"
             ],
             [
              1,
              "#f0f921"
             ]
            ],
            "type": "histogram2d"
           }
          ],
          "histogram2dcontour": [
           {
            "colorbar": {
             "outlinewidth": 0,
             "ticks": ""
            },
            "colorscale": [
             [
              0,
              "#0d0887"
             ],
             [
              0.1111111111111111,
              "#46039f"
             ],
             [
              0.2222222222222222,
              "#7201a8"
             ],
             [
              0.3333333333333333,
              "#9c179e"
             ],
             [
              0.4444444444444444,
              "#bd3786"
             ],
             [
              0.5555555555555556,
              "#d8576b"
             ],
             [
              0.6666666666666666,
              "#ed7953"
             ],
             [
              0.7777777777777778,
              "#fb9f3a"
             ],
             [
              0.8888888888888888,
              "#fdca26"
             ],
             [
              1,
              "#f0f921"
             ]
            ],
            "type": "histogram2dcontour"
           }
          ],
          "mesh3d": [
           {
            "colorbar": {
             "outlinewidth": 0,
             "ticks": ""
            },
            "type": "mesh3d"
           }
          ],
          "parcoords": [
           {
            "line": {
             "colorbar": {
              "outlinewidth": 0,
              "ticks": ""
             }
            },
            "type": "parcoords"
           }
          ],
          "pie": [
           {
            "automargin": true,
            "type": "pie"
           }
          ],
          "scatter": [
           {
            "fillpattern": {
             "fillmode": "overlay",
             "size": 10,
             "solidity": 0.2
            },
            "type": "scatter"
           }
          ],
          "scatter3d": [
           {
            "line": {
             "colorbar": {
              "outlinewidth": 0,
              "ticks": ""
             }
            },
            "marker": {
             "colorbar": {
              "outlinewidth": 0,
              "ticks": ""
             }
            },
            "type": "scatter3d"
           }
          ],
          "scattercarpet": [
           {
            "marker": {
             "colorbar": {
              "outlinewidth": 0,
              "ticks": ""
             }
            },
            "type": "scattercarpet"
           }
          ],
          "scattergeo": [
           {
            "marker": {
             "colorbar": {
              "outlinewidth": 0,
              "ticks": ""
             }
            },
            "type": "scattergeo"
           }
          ],
          "scattergl": [
           {
            "marker": {
             "colorbar": {
              "outlinewidth": 0,
              "ticks": ""
             }
            },
            "type": "scattergl"
           }
          ],
          "scattermapbox": [
           {
            "marker": {
             "colorbar": {
              "outlinewidth": 0,
              "ticks": ""
             }
            },
            "type": "scattermapbox"
           }
          ],
          "scatterpolar": [
           {
            "marker": {
             "colorbar": {
              "outlinewidth": 0,
              "ticks": ""
             }
            },
            "type": "scatterpolar"
           }
          ],
          "scatterpolargl": [
           {
            "marker": {
             "colorbar": {
              "outlinewidth": 0,
              "ticks": ""
             }
            },
            "type": "scatterpolargl"
           }
          ],
          "scatterternary": [
           {
            "marker": {
             "colorbar": {
              "outlinewidth": 0,
              "ticks": ""
             }
            },
            "type": "scatterternary"
           }
          ],
          "surface": [
           {
            "colorbar": {
             "outlinewidth": 0,
             "ticks": ""
            },
            "colorscale": [
             [
              0,
              "#0d0887"
             ],
             [
              0.1111111111111111,
              "#46039f"
             ],
             [
              0.2222222222222222,
              "#7201a8"
             ],
             [
              0.3333333333333333,
              "#9c179e"
             ],
             [
              0.4444444444444444,
              "#bd3786"
             ],
             [
              0.5555555555555556,
              "#d8576b"
             ],
             [
              0.6666666666666666,
              "#ed7953"
             ],
             [
              0.7777777777777778,
              "#fb9f3a"
             ],
             [
              0.8888888888888888,
              "#fdca26"
             ],
             [
              1,
              "#f0f921"
             ]
            ],
            "type": "surface"
           }
          ],
          "table": [
           {
            "cells": {
             "fill": {
              "color": "#EBF0F8"
             },
             "line": {
              "color": "white"
             }
            },
            "header": {
             "fill": {
              "color": "#C8D4E3"
             },
             "line": {
              "color": "white"
             }
            },
            "type": "table"
           }
          ]
         },
         "layout": {
          "annotationdefaults": {
           "arrowcolor": "#2a3f5f",
           "arrowhead": 0,
           "arrowwidth": 1
          },
          "autotypenumbers": "strict",
          "coloraxis": {
           "colorbar": {
            "outlinewidth": 0,
            "ticks": ""
           }
          },
          "colorscale": {
           "diverging": [
            [
             0,
             "#8e0152"
            ],
            [
             0.1,
             "#c51b7d"
            ],
            [
             0.2,
             "#de77ae"
            ],
            [
             0.3,
             "#f1b6da"
            ],
            [
             0.4,
             "#fde0ef"
            ],
            [
             0.5,
             "#f7f7f7"
            ],
            [
             0.6,
             "#e6f5d0"
            ],
            [
             0.7,
             "#b8e186"
            ],
            [
             0.8,
             "#7fbc41"
            ],
            [
             0.9,
             "#4d9221"
            ],
            [
             1,
             "#276419"
            ]
           ],
           "sequential": [
            [
             0,
             "#0d0887"
            ],
            [
             0.1111111111111111,
             "#46039f"
            ],
            [
             0.2222222222222222,
             "#7201a8"
            ],
            [
             0.3333333333333333,
             "#9c179e"
            ],
            [
             0.4444444444444444,
             "#bd3786"
            ],
            [
             0.5555555555555556,
             "#d8576b"
            ],
            [
             0.6666666666666666,
             "#ed7953"
            ],
            [
             0.7777777777777778,
             "#fb9f3a"
            ],
            [
             0.8888888888888888,
             "#fdca26"
            ],
            [
             1,
             "#f0f921"
            ]
           ],
           "sequentialminus": [
            [
             0,
             "#0d0887"
            ],
            [
             0.1111111111111111,
             "#46039f"
            ],
            [
             0.2222222222222222,
             "#7201a8"
            ],
            [
             0.3333333333333333,
             "#9c179e"
            ],
            [
             0.4444444444444444,
             "#bd3786"
            ],
            [
             0.5555555555555556,
             "#d8576b"
            ],
            [
             0.6666666666666666,
             "#ed7953"
            ],
            [
             0.7777777777777778,
             "#fb9f3a"
            ],
            [
             0.8888888888888888,
             "#fdca26"
            ],
            [
             1,
             "#f0f921"
            ]
           ]
          },
          "colorway": [
           "#636efa",
           "#EF553B",
           "#00cc96",
           "#ab63fa",
           "#FFA15A",
           "#19d3f3",
           "#FF6692",
           "#B6E880",
           "#FF97FF",
           "#FECB52"
          ],
          "font": {
           "color": "#2a3f5f"
          },
          "geo": {
           "bgcolor": "white",
           "lakecolor": "white",
           "landcolor": "#E5ECF6",
           "showlakes": true,
           "showland": true,
           "subunitcolor": "white"
          },
          "hoverlabel": {
           "align": "left"
          },
          "hovermode": "closest",
          "mapbox": {
           "style": "light"
          },
          "paper_bgcolor": "white",
          "plot_bgcolor": "#E5ECF6",
          "polar": {
           "angularaxis": {
            "gridcolor": "white",
            "linecolor": "white",
            "ticks": ""
           },
           "bgcolor": "#E5ECF6",
           "radialaxis": {
            "gridcolor": "white",
            "linecolor": "white",
            "ticks": ""
           }
          },
          "scene": {
           "xaxis": {
            "backgroundcolor": "#E5ECF6",
            "gridcolor": "white",
            "gridwidth": 2,
            "linecolor": "white",
            "showbackground": true,
            "ticks": "",
            "zerolinecolor": "white"
           },
           "yaxis": {
            "backgroundcolor": "#E5ECF6",
            "gridcolor": "white",
            "gridwidth": 2,
            "linecolor": "white",
            "showbackground": true,
            "ticks": "",
            "zerolinecolor": "white"
           },
           "zaxis": {
            "backgroundcolor": "#E5ECF6",
            "gridcolor": "white",
            "gridwidth": 2,
            "linecolor": "white",
            "showbackground": true,
            "ticks": "",
            "zerolinecolor": "white"
           }
          },
          "shapedefaults": {
           "line": {
            "color": "#2a3f5f"
           }
          },
          "ternary": {
           "aaxis": {
            "gridcolor": "white",
            "linecolor": "white",
            "ticks": ""
           },
           "baxis": {
            "gridcolor": "white",
            "linecolor": "white",
            "ticks": ""
           },
           "bgcolor": "#E5ECF6",
           "caxis": {
            "gridcolor": "white",
            "linecolor": "white",
            "ticks": ""
           }
          },
          "title": {
           "x": 0.05
          },
          "xaxis": {
           "automargin": true,
           "gridcolor": "white",
           "linecolor": "white",
           "ticks": "",
           "title": {
            "standoff": 15
           },
           "zerolinecolor": "white",
           "zerolinewidth": 2
          },
          "yaxis": {
           "automargin": true,
           "gridcolor": "white",
           "linecolor": "white",
           "ticks": "",
           "title": {
            "standoff": 15
           },
           "zerolinecolor": "white",
           "zerolinewidth": 2
          }
         }
        },
        "xaxis": {
         "showgrid": false,
         "showticklabels": false,
         "zeroline": false
        },
        "yaxis": {
         "showgrid": false,
         "showticklabels": false,
         "zeroline": false
        }
       }
      },
      "text/html": [
       "<div>                            <div id=\"c8effdd2-eba2-4084-b680-d0a4a8a0658a\" class=\"plotly-graph-div\" style=\"height:525px; width:100%;\"></div>            <script type=\"text/javascript\">                require([\"plotly\"], function(Plotly) {                    window.PLOTLYENV=window.PLOTLYENV || {};                                    if (document.getElementById(\"c8effdd2-eba2-4084-b680-d0a4a8a0658a\")) {                    Plotly.newPlot(                        \"c8effdd2-eba2-4084-b680-d0a4a8a0658a\",                        [{\"hoverinfo\":\"none\",\"line\":{\"color\":\"blue\",\"width\":0.5},\"mode\":\"lines\",\"showlegend\":false,\"x\":[-0.3333333333333333,0.3333333333333333,\"\",-0.3333333333333333,0.3333333333333333,\"\",0.3333333333333333,1.0,\"\",0.3333333333333333,1.0,\"\",-1.0,-0.3333333333333333,\"\",-1.0,-0.3333333333333333,\"\",-0.3333333333333333,0.3333333333333333,\"\",-0.3333333333333333,0.3333333333333333,\"\"],\"y\":[-1.0,-0.5,\"\",1.0,0.5,\"\",-0.5,0.0,\"\",0.5,0.0,\"\",1.0,1.0,\"\",-1.0,-1.0,\"\",0.0,-0.5,\"\",0.0,0.5,\"\"],\"type\":\"scatter\",\"uid\":\"f22d5284-e5ce-4f9d-ad1f-649c62d34d8d\"},{\"hoverinfo\":\"skip\",\"marker\":{\"color\":\"red\",\"reversescale\":true,\"showscale\":false,\"size\":15},\"mode\":\"markers+text\",\"showlegend\":false,\"text\":[\"zu_verst_kapitaleink_tu\",\"kapitaleink_brutto\",\"erwachsen\",\"kapitaleink_brutto_tu\",\"anz_erwachsene_tu\",\"kind\",\"kapitaleink_brutto_m\",\"tu_id\"],\"textposition\":\"bottom center\",\"x\":[1.0,-0.3333333333333333,-0.3333333333333333,0.3333333333333333,0.3333333333333333,-1.0,-1.0,-0.3333333333333333],\"y\":[0.0,-1.0,1.0,-0.5,0.5,1.0,-1.0,0.0],\"type\":\"scatter\",\"uid\":\"fcb364c2-a618-4776-ba15-5b398389df01\"},{\"hoverinfo\":\"skip\",\"marker\":{\"color\":\"red\",\"reversescale\":true,\"showscale\":false,\"size\":15},\"mode\":\"markers+text\",\"showlegend\":false,\"text\":[\"zu_verst_kapitaleink_tu\",\"kapitaleink_brutto\",\"erwachsen\",\"kapitaleink_brutto_tu\",\"anz_erwachsene_tu\",\"kind\",\"kapitaleink_brutto_m\",\"tu_id\"],\"textposition\":\"bottom center\",\"x\":[1.0,-0.3333333333333333,-0.3333333333333333,0.3333333333333333,0.3333333333333333,-1.0,-1.0,-0.3333333333333333],\"y\":[0.0,-1.0,1.0,-0.5,0.5,1.0,-1.0,0.0],\"type\":\"scatter\",\"uid\":\"be4edbd8-0f55-49b5-b2d8-0cbf1100d8b6\"}],                        {\"annotations\":[{\"arrowcolor\":\"gray\",\"arrowhead\":2,\"arrowsize\":2,\"ax\":-0.3333333333333333,\"axref\":\"x\",\"ay\":-1.0,\"ayref\":\"y\",\"showarrow\":true,\"standoff\":5,\"startstandoff\":5,\"text\":\"\",\"x\":0.3333333333333333,\"xref\":\"x\",\"y\":-0.5,\"yref\":\"y\"},{\"arrowcolor\":\"gray\",\"arrowhead\":2,\"arrowsize\":2,\"ax\":-0.3333333333333333,\"axref\":\"x\",\"ay\":1.0,\"ayref\":\"y\",\"showarrow\":true,\"standoff\":5,\"startstandoff\":5,\"text\":\"\",\"x\":0.3333333333333333,\"xref\":\"x\",\"y\":0.5,\"yref\":\"y\"},{\"arrowcolor\":\"gray\",\"arrowhead\":2,\"arrowsize\":2,\"ax\":0.3333333333333333,\"axref\":\"x\",\"ay\":-0.5,\"ayref\":\"y\",\"showarrow\":true,\"standoff\":5,\"startstandoff\":5,\"text\":\"\",\"x\":1.0,\"xref\":\"x\",\"y\":0.0,\"yref\":\"y\"},{\"arrowcolor\":\"gray\",\"arrowhead\":2,\"arrowsize\":2,\"ax\":0.3333333333333333,\"axref\":\"x\",\"ay\":0.5,\"ayref\":\"y\",\"showarrow\":true,\"standoff\":5,\"startstandoff\":5,\"text\":\"\",\"x\":1.0,\"xref\":\"x\",\"y\":0.0,\"yref\":\"y\"},{\"arrowcolor\":\"gray\",\"arrowhead\":2,\"arrowsize\":2,\"ax\":-1.0,\"axref\":\"x\",\"ay\":1.0,\"ayref\":\"y\",\"showarrow\":true,\"standoff\":5,\"startstandoff\":5,\"text\":\"\",\"x\":-0.3333333333333333,\"xref\":\"x\",\"y\":1.0,\"yref\":\"y\"},{\"arrowcolor\":\"gray\",\"arrowhead\":2,\"arrowsize\":2,\"ax\":-1.0,\"axref\":\"x\",\"ay\":-1.0,\"ayref\":\"y\",\"showarrow\":true,\"standoff\":5,\"startstandoff\":5,\"text\":\"\",\"x\":-0.3333333333333333,\"xref\":\"x\",\"y\":-1.0,\"yref\":\"y\"},{\"arrowcolor\":\"gray\",\"arrowhead\":2,\"arrowsize\":2,\"ax\":-0.3333333333333333,\"axref\":\"x\",\"ay\":0.0,\"ayref\":\"y\",\"showarrow\":true,\"standoff\":5,\"startstandoff\":5,\"text\":\"\",\"x\":0.3333333333333333,\"xref\":\"x\",\"y\":-0.5,\"yref\":\"y\"},{\"arrowcolor\":\"gray\",\"arrowhead\":2,\"arrowsize\":2,\"ax\":-0.3333333333333333,\"axref\":\"x\",\"ay\":0.0,\"ayref\":\"y\",\"showarrow\":true,\"standoff\":5,\"startstandoff\":5,\"text\":\"\",\"x\":0.3333333333333333,\"xref\":\"x\",\"y\":0.5,\"yref\":\"y\"}],\"hoverlabel\":{\"font\":{\"size\":10}},\"hovermode\":\"closest\",\"margin\":{\"b\":20,\"l\":5,\"r\":5,\"t\":40},\"showlegend\":false,\"xaxis\":{\"showgrid\":false,\"showticklabels\":false,\"zeroline\":false},\"yaxis\":{\"showgrid\":false,\"showticklabels\":false,\"zeroline\":false},\"template\":{\"data\":{\"barpolar\":[{\"marker\":{\"line\":{\"color\":\"#E5ECF6\",\"width\":0.5},\"pattern\":{\"fillmode\":\"overlay\",\"size\":10,\"solidity\":0.2}},\"type\":\"barpolar\"}],\"bar\":[{\"error_x\":{\"color\":\"#2a3f5f\"},\"error_y\":{\"color\":\"#2a3f5f\"},\"marker\":{\"line\":{\"color\":\"#E5ECF6\",\"width\":0.5},\"pattern\":{\"fillmode\":\"overlay\",\"size\":10,\"solidity\":0.2}},\"type\":\"bar\"}],\"carpet\":[{\"aaxis\":{\"endlinecolor\":\"#2a3f5f\",\"gridcolor\":\"white\",\"linecolor\":\"white\",\"minorgridcolor\":\"white\",\"startlinecolor\":\"#2a3f5f\"},\"baxis\":{\"endlinecolor\":\"#2a3f5f\",\"gridcolor\":\"white\",\"linecolor\":\"white\",\"minorgridcolor\":\"white\",\"startlinecolor\":\"#2a3f5f\"},\"type\":\"carpet\"}],\"choropleth\":[{\"colorbar\":{\"outlinewidth\":0,\"ticks\":\"\"},\"type\":\"choropleth\"}],\"contourcarpet\":[{\"colorbar\":{\"outlinewidth\":0,\"ticks\":\"\"},\"type\":\"contourcarpet\"}],\"contour\":[{\"colorbar\":{\"outlinewidth\":0,\"ticks\":\"\"},\"colorscale\":[[0.0,\"#0d0887\"],[0.1111111111111111,\"#46039f\"],[0.2222222222222222,\"#7201a8\"],[0.3333333333333333,\"#9c179e\"],[0.4444444444444444,\"#bd3786\"],[0.5555555555555556,\"#d8576b\"],[0.6666666666666666,\"#ed7953\"],[0.7777777777777778,\"#fb9f3a\"],[0.8888888888888888,\"#fdca26\"],[1.0,\"#f0f921\"]],\"type\":\"contour\"}],\"heatmapgl\":[{\"colorbar\":{\"outlinewidth\":0,\"ticks\":\"\"},\"colorscale\":[[0.0,\"#0d0887\"],[0.1111111111111111,\"#46039f\"],[0.2222222222222222,\"#7201a8\"],[0.3333333333333333,\"#9c179e\"],[0.4444444444444444,\"#bd3786\"],[0.5555555555555556,\"#d8576b\"],[0.6666666666666666,\"#ed7953\"],[0.7777777777777778,\"#fb9f3a\"],[0.8888888888888888,\"#fdca26\"],[1.0,\"#f0f921\"]],\"type\":\"heatmapgl\"}],\"heatmap\":[{\"colorbar\":{\"outlinewidth\":0,\"ticks\":\"\"},\"colorscale\":[[0.0,\"#0d0887\"],[0.1111111111111111,\"#46039f\"],[0.2222222222222222,\"#7201a8\"],[0.3333333333333333,\"#9c179e\"],[0.4444444444444444,\"#bd3786\"],[0.5555555555555556,\"#d8576b\"],[0.6666666666666666,\"#ed7953\"],[0.7777777777777778,\"#fb9f3a\"],[0.8888888888888888,\"#fdca26\"],[1.0,\"#f0f921\"]],\"type\":\"heatmap\"}],\"histogram2dcontour\":[{\"colorbar\":{\"outlinewidth\":0,\"ticks\":\"\"},\"colorscale\":[[0.0,\"#0d0887\"],[0.1111111111111111,\"#46039f\"],[0.2222222222222222,\"#7201a8\"],[0.3333333333333333,\"#9c179e\"],[0.4444444444444444,\"#bd3786\"],[0.5555555555555556,\"#d8576b\"],[0.6666666666666666,\"#ed7953\"],[0.7777777777777778,\"#fb9f3a\"],[0.8888888888888888,\"#fdca26\"],[1.0,\"#f0f921\"]],\"type\":\"histogram2dcontour\"}],\"histogram2d\":[{\"colorbar\":{\"outlinewidth\":0,\"ticks\":\"\"},\"colorscale\":[[0.0,\"#0d0887\"],[0.1111111111111111,\"#46039f\"],[0.2222222222222222,\"#7201a8\"],[0.3333333333333333,\"#9c179e\"],[0.4444444444444444,\"#bd3786\"],[0.5555555555555556,\"#d8576b\"],[0.6666666666666666,\"#ed7953\"],[0.7777777777777778,\"#fb9f3a\"],[0.8888888888888888,\"#fdca26\"],[1.0,\"#f0f921\"]],\"type\":\"histogram2d\"}],\"histogram\":[{\"marker\":{\"pattern\":{\"fillmode\":\"overlay\",\"size\":10,\"solidity\":0.2}},\"type\":\"histogram\"}],\"mesh3d\":[{\"colorbar\":{\"outlinewidth\":0,\"ticks\":\"\"},\"type\":\"mesh3d\"}],\"parcoords\":[{\"line\":{\"colorbar\":{\"outlinewidth\":0,\"ticks\":\"\"}},\"type\":\"parcoords\"}],\"pie\":[{\"automargin\":true,\"type\":\"pie\"}],\"scatter3d\":[{\"line\":{\"colorbar\":{\"outlinewidth\":0,\"ticks\":\"\"}},\"marker\":{\"colorbar\":{\"outlinewidth\":0,\"ticks\":\"\"}},\"type\":\"scatter3d\"}],\"scattercarpet\":[{\"marker\":{\"colorbar\":{\"outlinewidth\":0,\"ticks\":\"\"}},\"type\":\"scattercarpet\"}],\"scattergeo\":[{\"marker\":{\"colorbar\":{\"outlinewidth\":0,\"ticks\":\"\"}},\"type\":\"scattergeo\"}],\"scattergl\":[{\"marker\":{\"colorbar\":{\"outlinewidth\":0,\"ticks\":\"\"}},\"type\":\"scattergl\"}],\"scattermapbox\":[{\"marker\":{\"colorbar\":{\"outlinewidth\":0,\"ticks\":\"\"}},\"type\":\"scattermapbox\"}],\"scatterpolargl\":[{\"marker\":{\"colorbar\":{\"outlinewidth\":0,\"ticks\":\"\"}},\"type\":\"scatterpolargl\"}],\"scatterpolar\":[{\"marker\":{\"colorbar\":{\"outlinewidth\":0,\"ticks\":\"\"}},\"type\":\"scatterpolar\"}],\"scatter\":[{\"fillpattern\":{\"fillmode\":\"overlay\",\"size\":10,\"solidity\":0.2},\"type\":\"scatter\"}],\"scatterternary\":[{\"marker\":{\"colorbar\":{\"outlinewidth\":0,\"ticks\":\"\"}},\"type\":\"scatterternary\"}],\"surface\":[{\"colorbar\":{\"outlinewidth\":0,\"ticks\":\"\"},\"colorscale\":[[0.0,\"#0d0887\"],[0.1111111111111111,\"#46039f\"],[0.2222222222222222,\"#7201a8\"],[0.3333333333333333,\"#9c179e\"],[0.4444444444444444,\"#bd3786\"],[0.5555555555555556,\"#d8576b\"],[0.6666666666666666,\"#ed7953\"],[0.7777777777777778,\"#fb9f3a\"],[0.8888888888888888,\"#fdca26\"],[1.0,\"#f0f921\"]],\"type\":\"surface\"}],\"table\":[{\"cells\":{\"fill\":{\"color\":\"#EBF0F8\"},\"line\":{\"color\":\"white\"}},\"header\":{\"fill\":{\"color\":\"#C8D4E3\"},\"line\":{\"color\":\"white\"}},\"type\":\"table\"}]},\"layout\":{\"annotationdefaults\":{\"arrowcolor\":\"#2a3f5f\",\"arrowhead\":0,\"arrowwidth\":1},\"autotypenumbers\":\"strict\",\"coloraxis\":{\"colorbar\":{\"outlinewidth\":0,\"ticks\":\"\"}},\"colorscale\":{\"diverging\":[[0,\"#8e0152\"],[0.1,\"#c51b7d\"],[0.2,\"#de77ae\"],[0.3,\"#f1b6da\"],[0.4,\"#fde0ef\"],[0.5,\"#f7f7f7\"],[0.6,\"#e6f5d0\"],[0.7,\"#b8e186\"],[0.8,\"#7fbc41\"],[0.9,\"#4d9221\"],[1,\"#276419\"]],\"sequential\":[[0.0,\"#0d0887\"],[0.1111111111111111,\"#46039f\"],[0.2222222222222222,\"#7201a8\"],[0.3333333333333333,\"#9c179e\"],[0.4444444444444444,\"#bd3786\"],[0.5555555555555556,\"#d8576b\"],[0.6666666666666666,\"#ed7953\"],[0.7777777777777778,\"#fb9f3a\"],[0.8888888888888888,\"#fdca26\"],[1.0,\"#f0f921\"]],\"sequentialminus\":[[0.0,\"#0d0887\"],[0.1111111111111111,\"#46039f\"],[0.2222222222222222,\"#7201a8\"],[0.3333333333333333,\"#9c179e\"],[0.4444444444444444,\"#bd3786\"],[0.5555555555555556,\"#d8576b\"],[0.6666666666666666,\"#ed7953\"],[0.7777777777777778,\"#fb9f3a\"],[0.8888888888888888,\"#fdca26\"],[1.0,\"#f0f921\"]]},\"colorway\":[\"#636efa\",\"#EF553B\",\"#00cc96\",\"#ab63fa\",\"#FFA15A\",\"#19d3f3\",\"#FF6692\",\"#B6E880\",\"#FF97FF\",\"#FECB52\"],\"font\":{\"color\":\"#2a3f5f\"},\"geo\":{\"bgcolor\":\"white\",\"lakecolor\":\"white\",\"landcolor\":\"#E5ECF6\",\"showlakes\":true,\"showland\":true,\"subunitcolor\":\"white\"},\"hoverlabel\":{\"align\":\"left\"},\"hovermode\":\"closest\",\"mapbox\":{\"style\":\"light\"},\"paper_bgcolor\":\"white\",\"plot_bgcolor\":\"#E5ECF6\",\"polar\":{\"angularaxis\":{\"gridcolor\":\"white\",\"linecolor\":\"white\",\"ticks\":\"\"},\"bgcolor\":\"#E5ECF6\",\"radialaxis\":{\"gridcolor\":\"white\",\"linecolor\":\"white\",\"ticks\":\"\"}},\"scene\":{\"xaxis\":{\"backgroundcolor\":\"#E5ECF6\",\"gridcolor\":\"white\",\"gridwidth\":2,\"linecolor\":\"white\",\"showbackground\":true,\"ticks\":\"\",\"zerolinecolor\":\"white\"},\"yaxis\":{\"backgroundcolor\":\"#E5ECF6\",\"gridcolor\":\"white\",\"gridwidth\":2,\"linecolor\":\"white\",\"showbackground\":true,\"ticks\":\"\",\"zerolinecolor\":\"white\"},\"zaxis\":{\"backgroundcolor\":\"#E5ECF6\",\"gridcolor\":\"white\",\"gridwidth\":2,\"linecolor\":\"white\",\"showbackground\":true,\"ticks\":\"\",\"zerolinecolor\":\"white\"}},\"shapedefaults\":{\"line\":{\"color\":\"#2a3f5f\"}},\"ternary\":{\"aaxis\":{\"gridcolor\":\"white\",\"linecolor\":\"white\",\"ticks\":\"\"},\"baxis\":{\"gridcolor\":\"white\",\"linecolor\":\"white\",\"ticks\":\"\"},\"bgcolor\":\"#E5ECF6\",\"caxis\":{\"gridcolor\":\"white\",\"linecolor\":\"white\",\"ticks\":\"\"}},\"title\":{\"x\":0.05},\"xaxis\":{\"automargin\":true,\"gridcolor\":\"white\",\"linecolor\":\"white\",\"ticks\":\"\",\"title\":{\"standoff\":15},\"zerolinecolor\":\"white\",\"zerolinewidth\":2},\"yaxis\":{\"automargin\":true,\"gridcolor\":\"white\",\"linecolor\":\"white\",\"ticks\":\"\",\"title\":{\"standoff\":15},\"zerolinecolor\":\"white\",\"zerolinewidth\":2}}}},                        {\"responsive\": true}                    ).then(function(){\n",
       "                            \n",
       "var gd = document.getElementById('c8effdd2-eba2-4084-b680-d0a4a8a0658a');\n",
       "var x = new MutationObserver(function (mutations, observer) {{\n",
       "        var display = window.getComputedStyle(gd).display;\n",
       "        if (!display || display === 'none') {{\n",
       "            console.log([gd, 'removed!']);\n",
       "            Plotly.purge(gd);\n",
       "            observer.disconnect();\n",
       "        }}\n",
       "}});\n",
       "\n",
       "// Listen for the removal of the full notebook cells\n",
       "var notebookContainer = gd.closest('#notebook-container');\n",
       "if (notebookContainer) {{\n",
       "    x.observe(notebookContainer, {childList: true});\n",
       "}}\n",
       "\n",
       "// Listen for the clearing of the current output cell\n",
       "var outputEl = gd.closest('.output');\n",
       "if (outputEl) {{\n",
       "    x.observe(outputEl, {childList: true});\n",
       "}}\n",
       "\n",
       "                        })                };                });            </script>        </div>"
      ]
     },
     "metadata": {},
     "output_type": "display_data"
    }
   ],
   "source": [
    "selector = {\"type\": \"ancestors\", \"node\": \"zu_verst_kapitaleink_tu\"}\n",
    "plot_dag(functions=policy_functions,selectors=selector, orientation ='h')"
   ]
  },
  {
   "cell_type": "markdown",
   "id": "b00954c4",
   "metadata": {},
   "source": [
    "To see the variables which are explicitly and implicitly dependent on the information in `\"geringfügig_beschäftigt\"` use the type `\"descendants\"`."
   ]
  },
  {
   "cell_type": "code",
   "execution_count": 15,
   "id": "abfa6495",
   "metadata": {
    "scrolled": false
   },
   "outputs": [
    {
     "data": {
      "application/vnd.plotly.v1+json": {
       "config": {
        "plotlyServerURL": "https://plot.ly"
       },
       "data": [
        {
         "hoverinfo": "none",
         "line": {
          "color": "blue",
          "width": 0.5
         },
         "mode": "lines",
         "showlegend": false,
         "type": "scatter",
         "uid": "e320bfee-ef28-4107-807a-176dfc39a1fb",
         "x": [
          -0.8518518518518519,
          -0.6296296296296297,
          "",
          -0.8518518518518519,
          -0.6296296296296297,
          "",
          -0.6296296296296297,
          -0.037037037037037035,
          "",
          -0.6296296296296297,
          0.4074074074074074,
          "",
          -0.6296296296296297,
          0.48148148148148145,
          "",
          -0.7777777777777778,
          -0.6296296296296297,
          "",
          -0.7777777777777778,
          -0.7037037037037037,
          "",
          -0.7777777777777778,
          -0.4074074074074074,
          "",
          -0.7777777777777778,
          -0.6296296296296297,
          "",
          -0.7777777777777778,
          -0.6296296296296297,
          "",
          -1,
          -0.8518518518518519,
          "",
          -1,
          -0.7777777777777778,
          "",
          -1,
          -0.7777777777777778,
          "",
          -1,
          -0.9259259259259259,
          "",
          -1,
          -0.7037037037037037,
          "",
          -1,
          -0.6296296296296297,
          "",
          -0.9259259259259259,
          -0.8518518518518519,
          "",
          -0.9259259259259259,
          -0.7777777777777778,
          "",
          -0.9259259259259259,
          -0.7777777777777778,
          "",
          -0.9259259259259259,
          -0.8518518518518519,
          "",
          -0.9259259259259259,
          -0.7037037037037037,
          "",
          -0.8518518518518519,
          -0.7777777777777778,
          "",
          -0.7777777777777778,
          -0.7037037037037037,
          "",
          -0.7037037037037037,
          -0.6296296296296297,
          "",
          -0.7037037037037037,
          -0.6296296296296297,
          "",
          -0.7037037037037037,
          -0.3333333333333333,
          "",
          -0.037037037037037035,
          0.5555555555555556,
          "",
          0.5555555555555556,
          0.7037037037037037,
          "",
          0.48148148148148145,
          0.5555555555555556,
          "",
          0.7037037037037037,
          0.8518518518518519,
          "",
          0.1111111111111111,
          0.18518518518518517,
          "",
          0.18518518518518517,
          0.25925925925925924,
          "",
          0.18518518518518517,
          0.3333333333333333,
          "",
          0.037037037037037035,
          0.1111111111111111,
          "",
          0.037037037037037035,
          0.18518518518518517,
          "",
          0.037037037037037035,
          0.3333333333333333,
          "",
          0.25925925925925924,
          0.3333333333333333,
          "",
          0.3333333333333333,
          0.4074074074074074,
          "",
          0.3333333333333333,
          0.4074074074074074,
          "",
          0.3333333333333333,
          0.4074074074074074,
          "",
          -0.037037037037037035,
          0.037037037037037035,
          "",
          0.4074074074074074,
          0.48148148148148145,
          "",
          0.8518518518518519,
          0.9259259259259259,
          "",
          0.8518518518518519,
          0.9259259259259259,
          "",
          0.8518518518518519,
          1,
          "",
          0.8518518518518519,
          1,
          "",
          0.8518518518518519,
          0.9259259259259259,
          "",
          0.8518518518518519,
          0.9259259259259259,
          "",
          0.9259259259259259,
          1,
          "",
          0.9259259259259259,
          1,
          "",
          0.9259259259259259,
          1,
          "",
          0.9259259259259259,
          1,
          "",
          0.9259259259259259,
          1,
          "",
          0.9259259259259259,
          1,
          "",
          0.9259259259259259,
          1,
          "",
          0.8518518518518519,
          0.9259259259259259,
          "",
          0.8518518518518519,
          0.9259259259259259,
          "",
          0.8518518518518519,
          0.9259259259259259,
          "",
          0.8518518518518519,
          1,
          "",
          0.4074074074074074,
          0.48148148148148145,
          "",
          0.4074074074074074,
          0.6296296296296297,
          "",
          0.48148148148148145,
          0.5555555555555556,
          "",
          0.6296296296296297,
          0.7037037037037037,
          "",
          -0.1111111111111111,
          -0.037037037037037035,
          "",
          -0.1111111111111111,
          0.4074074074074074,
          "",
          -0.1111111111111111,
          0.48148148148148145,
          "",
          -0.25925925925925924,
          -0.1111111111111111,
          "",
          -0.25925925925925924,
          -0.18518518518518517,
          "",
          -0.25925925925925924,
          -0.1111111111111111,
          "",
          -0.25925925925925924,
          -0.18518518518518517,
          "",
          -0.25925925925925924,
          -0.1111111111111111,
          "",
          -0.18518518518518517,
          -0.1111111111111111,
          "",
          -0.18518518518518517,
          0.4074074074074074,
          "",
          -0.6296296296296297,
          -0.5555555555555556,
          "",
          -0.6296296296296297,
          -0.18518518518518517,
          "",
          -0.7037037037037037,
          -0.6296296296296297,
          "",
          -0.4074074074074074,
          -0.25925925925925924,
          "",
          -0.4074074074074074,
          -0.3333333333333333,
          "",
          -0.5555555555555556,
          -0.48148148148148145,
          "",
          -0.3333333333333333,
          -0.25925925925925924,
          "",
          -0.5555555555555556,
          -0.48148148148148145,
          "",
          -0.1111111111111111,
          -0.037037037037037035,
          "",
          -0.1111111111111111,
          -0.037037037037037035,
          "",
          -0.1111111111111111,
          0.4074074074074074,
          "",
          -0.1111111111111111,
          0.48148148148148145,
          "",
          0.4074074074074074,
          0.48148148148148145,
          "",
          0.4074074074074074,
          0.48148148148148145,
          "",
          -0.6296296296296297,
          -0.5555555555555556,
          "",
          0.7777777777777778,
          0.8518518518518519,
          "",
          0.48148148148148145,
          0.5555555555555556,
          "",
          0.48148148148148145,
          0.8518518518518519,
          "",
          0.4074074074074074,
          0.48148148148148145,
          "",
          0.5555555555555556,
          0.8518518518518519,
          "",
          0.5555555555555556,
          0.6296296296296297,
          "",
          0.6296296296296297,
          0.7777777777777778,
          "",
          0.48148148148148145,
          0.5555555555555556,
          "",
          0.7037037037037037,
          0.7777777777777778,
          "",
          -0.3333333333333333,
          -0.037037037037037035,
          "",
          -0.48148148148148145,
          -0.4074074074074074,
          "",
          -0.18518518518518517,
          0.48148148148148145,
          "",
          -0.4074074074074074,
          -0.037037037037037035,
          "",
          -0.48148148148148145,
          -0.4074074074074074,
          ""
         ],
         "y": [
          -0.5302325581395348,
          -0.627906976744186,
          "",
          -0.5302325581395348,
          -0.10232558139534884,
          "",
          -0.627906976744186,
          -0.5674418604651162,
          "",
          -0.627906976744186,
          -0.40930232558139534,
          "",
          -0.627906976744186,
          -1,
          "",
          0.4930232558139535,
          -0.627906976744186,
          "",
          0.4930232558139535,
          0.4883720930232558,
          "",
          0.4930232558139535,
          1,
          "",
          -0.9255813953488372,
          -0.627906976744186,
          "",
          -0.9255813953488372,
          -0.10232558139534884,
          "",
          0.10697674418604651,
          -0.5302325581395348,
          "",
          0.10697674418604651,
          0.4930232558139535,
          "",
          0.10697674418604651,
          -0.9255813953488372,
          "",
          0.10697674418604651,
          -0.10697674418604651,
          "",
          0.10697674418604651,
          -0.09302325581395349,
          "",
          0.10697674418604651,
          0.4883720930232558,
          "",
          -0.10697674418604651,
          -0.5302325581395348,
          "",
          -0.10697674418604651,
          0.4930232558139535,
          "",
          -0.10697674418604651,
          -0.9255813953488372,
          "",
          -0.10697674418604651,
          -0.19534883720930232,
          "",
          -0.10697674418604651,
          -0.09302325581395349,
          "",
          -0.19534883720930232,
          -0.19534883720930232,
          "",
          -0.19534883720930232,
          -0.09302325581395349,
          "",
          -0.09302325581395349,
          -0.627906976744186,
          "",
          -0.09302325581395349,
          -0.10232558139534884,
          "",
          -0.09302325581395349,
          0.7441860465116279,
          "",
          0.827906976744186,
          0.5627906976744186,
          "",
          0.5627906976744186,
          0.20465116279069767,
          "",
          0.5627906976744186,
          0.5627906976744186,
          "",
          0.20465116279069767,
          0.023255813953488372,
          "",
          -0.39069767441860465,
          -0.3023255813953488,
          "",
          -0.3023255813953488,
          -0.39069767441860465,
          "",
          -0.3023255813953488,
          -0.26046511627906976,
          "",
          -0.2,
          -0.39069767441860465,
          "",
          -0.2,
          -0.3023255813953488,
          "",
          -0.2,
          -0.26046511627906976,
          "",
          -0.39069767441860465,
          -0.26046511627906976,
          "",
          -0.26046511627906976,
          -0.40930232558139534,
          "",
          -0.26046511627906976,
          -0.7441860465116279,
          "",
          -0.26046511627906976,
          0.31627906976744186,
          "",
          -0.5674418604651162,
          -0.2,
          "",
          -0.40930232558139534,
          -0.4511627906976744,
          "",
          -0.9255813953488372,
          -0.8465116279069768,
          "",
          -0.9255813953488372,
          -0.5116279069767442,
          "",
          -0.9255813953488372,
          -0.8465116279069768,
          "",
          0.023255813953488372,
          0,
          "",
          0.023255813953488372,
          -0.5116279069767442,
          "",
          0.023255813953488372,
          0,
          "",
          -0.8465116279069768,
          -0.4232558139534884,
          "",
          -0.8465116279069768,
          -0.8465116279069768,
          "",
          -0.5116279069767442,
          0,
          "",
          -0.5116279069767442,
          -0.4232558139534884,
          "",
          -0.5116279069767442,
          -0.8465116279069768,
          "",
          0,
          0,
          "",
          0,
          -0.4232558139534884,
          "",
          -0.4,
          -0.8465116279069768,
          "",
          -0.4,
          -0.5116279069767442,
          "",
          -0.4,
          0,
          "",
          -0.4,
          -0.4232558139534884,
          "",
          -0.7441860465116279,
          -1,
          "",
          -0.7441860465116279,
          -0.4604651162790698,
          "",
          -1,
          -0.9720930232558139,
          "",
          -0.9720930232558139,
          -0.9720930232558139,
          "",
          -0.8232558139534883,
          -0.5674418604651162,
          "",
          -0.8232558139534883,
          -0.40930232558139534,
          "",
          -0.8232558139534883,
          -1,
          "",
          -0.2930232558139535,
          -0.8232558139534883,
          "",
          -0.2930232558139535,
          0.13953488372093023,
          "",
          -0.2930232558139535,
          -0.11627906976744186,
          "",
          0.04186046511627907,
          0.13953488372093023,
          "",
          0.04186046511627907,
          -0.11627906976744186,
          "",
          0.13953488372093023,
          -0.11627906976744186,
          "",
          0.13953488372093023,
          -0.018604651162790697,
          "",
          0.4883720930232558,
          0.23255813953488372,
          "",
          0.4883720930232558,
          0.5116279069767442,
          "",
          0.4883720930232558,
          -0.10232558139534884,
          "",
          -0.08837209302325581,
          0.04186046511627907,
          "",
          -0.08837209302325581,
          -0.2558139534883721,
          "",
          -0.10232558139534884,
          -0.10232558139534884,
          "",
          -0.2558139534883721,
          -0.2930232558139535,
          "",
          0.23255813953488372,
          0.23255813953488372,
          "",
          -0.11627906976744186,
          0.827906976744186,
          "",
          -0.11627906976744186,
          -0.5674418604651162,
          "",
          -0.11627906976744186,
          -0.40930232558139534,
          "",
          -0.11627906976744186,
          -1,
          "",
          -0.018604651162790697,
          -0.11627906976744186,
          "",
          -0.018604651162790697,
          0.2186046511627907,
          "",
          -0.10232558139534884,
          -0.10232558139534884,
          "",
          -0.9720930232558139,
          -0.9255813953488372,
          "",
          -0.11627906976744186,
          -0.4418604651162791,
          "",
          -0.11627906976744186,
          -0.4,
          "",
          0.31627906976744186,
          0.5627906976744186,
          "",
          -0.9720930232558139,
          -0.4,
          "",
          -0.9720930232558139,
          -0.9720930232558139,
          "",
          -0.4604651162790698,
          -0.9720930232558139,
          "",
          -0.4511627906976744,
          -0.4418604651162791,
          "",
          -0.9720930232558139,
          -0.9720930232558139,
          "",
          0.7441860465116279,
          0.827906976744186,
          "",
          -0.10232558139534884,
          -0.08837209302325581,
          "",
          0.5116279069767442,
          0.5627906976744186,
          "",
          1,
          0.827906976744186,
          "",
          0.23255813953488372,
          -0.08837209302325581,
          ""
         ]
        },
        {
         "hoverinfo": "text",
         "marker": {
          "color": "red",
          "reversescale": true,
          "showscale": false,
          "size": 15
         },
         "mode": "markers",
         "showlegend": false,
         "text": [
          "arbeitsl_v_beitr_m",
          "sozialv_beitr_gesamt_m",
          "ges_rentenv_beitr_m",
          "ges_pflegev_beitr_m",
          "geringfügig_beschäftigt",
          "in_gleitzone",
          "_ges_krankenv_midi_job_arbeitg_m",
          "_ges_krankenv_midi_job_arbeitn_m",
          "ges_krankenv_beitr_m",
          "wohngeld_abzüge_m_tu",
          "wohngeld_eink_m",
          "wohngeld_eink_vor_abzug_m_tu",
          "wohngeld_m_hh",
          "wohngeld_vor_vermög_check_m_hh",
          "elterngeld_anteil_eink_erlass",
          "elterngeld_eink_erlass_m",
          "elterngeld_eink_relev_m",
          "elterngeld_geschw_bonus_m",
          "elterngeld_m",
          "elterngeld_nettolohn_m",
          "grunds_im_alter_eink_m",
          "grunds_im_alter_m_hh",
          "_kinderzuschl_nach_vermög_check_m_hh",
          "wohngeld_nach_vermög_check_m_hh",
          "kinderzuschl_vorrang_hh",
          "wohngeld_kinderzuschl_vorrang_hh",
          "wohngeld_vorrang_hh",
          "arbeitsl_geld_2_m_hh",
          "arbeitsl_geld_2_vor_vorrang_m_hh",
          "arbeitsl_geld_2_brutto_eink_m",
          "arbeitsl_geld_2_eink_m",
          "kinderzuschl_eink_anrechn_m",
          "kinderzuschl_m_hh",
          "soli_st_tu",
          "eink_st_mit_kinderfreib_tu",
          "eink_st_ohne_kinderfreib_tu",
          "kinderfreib_günstiger_tu",
          "eink_abhängig_beschäftigt",
          "vorsorgeaufw_alter_ab_2005",
          "_zu_verst_eink_ohne_kinderfreib_tu",
          "freibeträge",
          "zu_verst_eink_mit_kinderfreib_tu",
          "sum_eink",
          "eink_st_tu",
          "kindergeld_m",
          "vorsorgeaufw",
          "_kinderzuschl_vor_vermög_check_m_hh",
          "kindergeld_m_hh",
          "elterngeld_m_tu",
          "arbeitsl_geld_2_eink_m_hh",
          "arbeitsl_geld_2_brutto_eink_m_hh",
          "grunds_im_alter_eink_m_hh",
          "kindergeld_m_tu",
          "kinderzuschl_eink_anrechn_m_hh",
          "ges_krankenv_beitr_m_tu",
          "freibeträge_tu",
          "eink_abhängig_beschäftigt_tu",
          "ges_rentenv_beitr_m_tu",
          "sum_eink_tu"
         ],
         "textposition": "bottom center",
         "type": "scatter",
         "uid": "4904accc-a9d8-4cdb-b5bc-338f72968d97",
         "x": [
          -0.8518518518518519,
          -0.6296296296296297,
          -0.7777777777777778,
          -0.7777777777777778,
          -1,
          -0.9259259259259259,
          -0.8518518518518519,
          -0.7777777777777778,
          -0.7037037037037037,
          -0.037037037037037035,
          0.5555555555555556,
          0.48148148148148145,
          1,
          0.7037037037037037,
          0.1111111111111111,
          0.18518518518518517,
          0.037037037037037035,
          0.25925925925925924,
          0.3333333333333333,
          -0.037037037037037035,
          0.4074074074074074,
          0.5555555555555556,
          0.8518518518518519,
          0.8518518518518519,
          0.9259259259259259,
          0.9259259259259259,
          0.9259259259259259,
          1,
          0.8518518518518519,
          0.4074074074074074,
          0.48148148148148145,
          0.6296296296296297,
          1,
          -0.1111111111111111,
          -0.25925925925925924,
          -0.25925925925925924,
          -0.18518518518518517,
          -0.6296296296296297,
          -0.7037037037037037,
          -0.4074074074074074,
          -0.5555555555555556,
          -0.3333333333333333,
          -0.5555555555555556,
          -0.1111111111111111,
          0.4074074074074074,
          -0.6296296296296297,
          0.7777777777777778,
          0.48148148148148145,
          0.4074074074074074,
          0.5555555555555556,
          0.6296296296296297,
          0.48148148148148145,
          0.48148148148148145,
          0.7037037037037037,
          -0.3333333333333333,
          -0.48148148148148145,
          -0.18518518518518517,
          -0.4074074074074074,
          -0.48148148148148145
         ],
         "y": [
          -0.5302325581395348,
          -0.627906976744186,
          0.4930232558139535,
          -0.9255813953488372,
          0.10697674418604651,
          -0.10697674418604651,
          -0.19534883720930232,
          -0.19534883720930232,
          -0.09302325581395349,
          0.827906976744186,
          0.5627906976744186,
          0.5627906976744186,
          0,
          0.20465116279069767,
          -0.39069767441860465,
          -0.3023255813953488,
          -0.2,
          -0.39069767441860465,
          -0.26046511627906976,
          -0.5674418604651162,
          -0.40930232558139534,
          -0.4418604651162791,
          -0.9255813953488372,
          0.023255813953488372,
          -0.8465116279069768,
          -0.5116279069767442,
          0,
          -0.4232558139534884,
          -0.4,
          -0.7441860465116279,
          -1,
          -0.9720930232558139,
          -0.8465116279069768,
          -0.8232558139534883,
          -0.2930232558139535,
          0.04186046511627907,
          0.13953488372093023,
          0.4883720930232558,
          0.4883720930232558,
          -0.08837209302325581,
          -0.10232558139534884,
          -0.2558139534883721,
          0.23255813953488372,
          -0.11627906976744186,
          -0.018604651162790697,
          -0.10232558139534884,
          -0.9720930232558139,
          -0.11627906976744186,
          0.31627906976744186,
          -0.9720930232558139,
          -0.4604651162790698,
          -0.4511627906976744,
          0.2186046511627907,
          -0.9720930232558139,
          0.7441860465116279,
          -0.10232558139534884,
          0.5116279069767442,
          1,
          0.23255813953488372
         ]
        },
        {
         "hoverinfo": "skip",
         "marker": {
          "color": "red",
          "reversescale": true,
          "showscale": false,
          "size": 15
         },
         "mode": "markers",
         "showlegend": false,
         "text": [
          "arbeitsl_v_beitr_m",
          "sozialv_beitr_gesamt_m",
          "ges_rentenv_beitr_m",
          "ges_pflegev_beitr_m",
          "geringfügig_beschäftigt",
          "in_gleitzone",
          "_ges_krankenv_midi_job_arbeitg_m",
          "_ges_krankenv_midi_job_arbeitn_m",
          "ges_krankenv_beitr_m",
          "wohngeld_abzüge_m_tu",
          "wohngeld_eink_m",
          "wohngeld_eink_vor_abzug_m_tu",
          "wohngeld_m_hh",
          "wohngeld_vor_vermög_check_m_hh",
          "elterngeld_anteil_eink_erlass",
          "elterngeld_eink_erlass_m",
          "elterngeld_eink_relev_m",
          "elterngeld_geschw_bonus_m",
          "elterngeld_m",
          "elterngeld_nettolohn_m",
          "grunds_im_alter_eink_m",
          "grunds_im_alter_m_hh",
          "_kinderzuschl_nach_vermög_check_m_hh",
          "wohngeld_nach_vermög_check_m_hh",
          "kinderzuschl_vorrang_hh",
          "wohngeld_kinderzuschl_vorrang_hh",
          "wohngeld_vorrang_hh",
          "arbeitsl_geld_2_m_hh",
          "arbeitsl_geld_2_vor_vorrang_m_hh",
          "arbeitsl_geld_2_brutto_eink_m",
          "arbeitsl_geld_2_eink_m",
          "kinderzuschl_eink_anrechn_m",
          "kinderzuschl_m_hh",
          "soli_st_tu",
          "eink_st_mit_kinderfreib_tu",
          "eink_st_ohne_kinderfreib_tu",
          "kinderfreib_günstiger_tu",
          "eink_abhängig_beschäftigt",
          "vorsorgeaufw_alter_ab_2005",
          "_zu_verst_eink_ohne_kinderfreib_tu",
          "freibeträge",
          "zu_verst_eink_mit_kinderfreib_tu",
          "sum_eink",
          "eink_st_tu",
          "kindergeld_m",
          "vorsorgeaufw",
          "_kinderzuschl_vor_vermög_check_m_hh",
          "kindergeld_m_hh",
          "elterngeld_m_tu",
          "arbeitsl_geld_2_eink_m_hh",
          "arbeitsl_geld_2_brutto_eink_m_hh",
          "grunds_im_alter_eink_m_hh",
          "kindergeld_m_tu",
          "kinderzuschl_eink_anrechn_m_hh",
          "ges_krankenv_beitr_m_tu",
          "freibeträge_tu",
          "eink_abhängig_beschäftigt_tu",
          "ges_rentenv_beitr_m_tu",
          "sum_eink_tu"
         ],
         "textposition": "bottom center",
         "type": "scatter",
         "uid": "902d83ba-a954-4d20-af62-242848fe8ae8",
         "x": [
          -0.8518518518518519,
          -0.6296296296296297,
          -0.7777777777777778,
          -0.7777777777777778,
          -1,
          -0.9259259259259259,
          -0.8518518518518519,
          -0.7777777777777778,
          -0.7037037037037037,
          -0.037037037037037035,
          0.5555555555555556,
          0.48148148148148145,
          1,
          0.7037037037037037,
          0.1111111111111111,
          0.18518518518518517,
          0.037037037037037035,
          0.25925925925925924,
          0.3333333333333333,
          -0.037037037037037035,
          0.4074074074074074,
          0.5555555555555556,
          0.8518518518518519,
          0.8518518518518519,
          0.9259259259259259,
          0.9259259259259259,
          0.9259259259259259,
          1,
          0.8518518518518519,
          0.4074074074074074,
          0.48148148148148145,
          0.6296296296296297,
          1,
          -0.1111111111111111,
          -0.25925925925925924,
          -0.25925925925925924,
          -0.18518518518518517,
          -0.6296296296296297,
          -0.7037037037037037,
          -0.4074074074074074,
          -0.5555555555555556,
          -0.3333333333333333,
          -0.5555555555555556,
          -0.1111111111111111,
          0.4074074074074074,
          -0.6296296296296297,
          0.7777777777777778,
          0.48148148148148145,
          0.4074074074074074,
          0.5555555555555556,
          0.6296296296296297,
          0.48148148148148145,
          0.48148148148148145,
          0.7037037037037037,
          -0.3333333333333333,
          -0.48148148148148145,
          -0.18518518518518517,
          -0.4074074074074074,
          -0.48148148148148145
         ],
         "y": [
          -0.5302325581395348,
          -0.627906976744186,
          0.4930232558139535,
          -0.9255813953488372,
          0.10697674418604651,
          -0.10697674418604651,
          -0.19534883720930232,
          -0.19534883720930232,
          -0.09302325581395349,
          0.827906976744186,
          0.5627906976744186,
          0.5627906976744186,
          0,
          0.20465116279069767,
          -0.39069767441860465,
          -0.3023255813953488,
          -0.2,
          -0.39069767441860465,
          -0.26046511627906976,
          -0.5674418604651162,
          -0.40930232558139534,
          -0.4418604651162791,
          -0.9255813953488372,
          0.023255813953488372,
          -0.8465116279069768,
          -0.5116279069767442,
          0,
          -0.4232558139534884,
          -0.4,
          -0.7441860465116279,
          -1,
          -0.9720930232558139,
          -0.8465116279069768,
          -0.8232558139534883,
          -0.2930232558139535,
          0.04186046511627907,
          0.13953488372093023,
          0.4883720930232558,
          0.4883720930232558,
          -0.08837209302325581,
          -0.10232558139534884,
          -0.2558139534883721,
          0.23255813953488372,
          -0.11627906976744186,
          -0.018604651162790697,
          -0.10232558139534884,
          -0.9720930232558139,
          -0.11627906976744186,
          0.31627906976744186,
          -0.9720930232558139,
          -0.4604651162790698,
          -0.4511627906976744,
          0.2186046511627907,
          -0.9720930232558139,
          0.7441860465116279,
          -0.10232558139534884,
          0.5116279069767442,
          1,
          0.23255813953488372
         ]
        }
       ],
       "layout": {
        "annotations": [
         {
          "arrowcolor": "gray",
          "arrowhead": 2,
          "arrowsize": 2,
          "ax": -0.8518518518518519,
          "axref": "x",
          "ay": -0.5302325581395348,
          "ayref": "y",
          "showarrow": true,
          "standoff": 5,
          "startstandoff": 5,
          "text": "",
          "x": -0.6296296296296297,
          "xref": "x",
          "y": -0.627906976744186,
          "yref": "y"
         },
         {
          "arrowcolor": "gray",
          "arrowhead": 2,
          "arrowsize": 2,
          "ax": -0.8518518518518519,
          "axref": "x",
          "ay": -0.5302325581395348,
          "ayref": "y",
          "showarrow": true,
          "standoff": 5,
          "startstandoff": 5,
          "text": "",
          "x": -0.6296296296296297,
          "xref": "x",
          "y": -0.10232558139534884,
          "yref": "y"
         },
         {
          "arrowcolor": "gray",
          "arrowhead": 2,
          "arrowsize": 2,
          "ax": -0.6296296296296297,
          "axref": "x",
          "ay": -0.627906976744186,
          "ayref": "y",
          "showarrow": true,
          "standoff": 5,
          "startstandoff": 5,
          "text": "",
          "x": -0.037037037037037035,
          "xref": "x",
          "y": -0.5674418604651162,
          "yref": "y"
         },
         {
          "arrowcolor": "gray",
          "arrowhead": 2,
          "arrowsize": 2,
          "ax": -0.6296296296296297,
          "axref": "x",
          "ay": -0.627906976744186,
          "ayref": "y",
          "showarrow": true,
          "standoff": 5,
          "startstandoff": 5,
          "text": "",
          "x": 0.4074074074074074,
          "xref": "x",
          "y": -0.40930232558139534,
          "yref": "y"
         },
         {
          "arrowcolor": "gray",
          "arrowhead": 2,
          "arrowsize": 2,
          "ax": -0.6296296296296297,
          "axref": "x",
          "ay": -0.627906976744186,
          "ayref": "y",
          "showarrow": true,
          "standoff": 5,
          "startstandoff": 5,
          "text": "",
          "x": 0.48148148148148145,
          "xref": "x",
          "y": -1,
          "yref": "y"
         },
         {
          "arrowcolor": "gray",
          "arrowhead": 2,
          "arrowsize": 2,
          "ax": -0.7777777777777778,
          "axref": "x",
          "ay": 0.4930232558139535,
          "ayref": "y",
          "showarrow": true,
          "standoff": 5,
          "startstandoff": 5,
          "text": "",
          "x": -0.6296296296296297,
          "xref": "x",
          "y": -0.627906976744186,
          "yref": "y"
         },
         {
          "arrowcolor": "gray",
          "arrowhead": 2,
          "arrowsize": 2,
          "ax": -0.7777777777777778,
          "axref": "x",
          "ay": 0.4930232558139535,
          "ayref": "y",
          "showarrow": true,
          "standoff": 5,
          "startstandoff": 5,
          "text": "",
          "x": -0.7037037037037037,
          "xref": "x",
          "y": 0.4883720930232558,
          "yref": "y"
         },
         {
          "arrowcolor": "gray",
          "arrowhead": 2,
          "arrowsize": 2,
          "ax": -0.7777777777777778,
          "axref": "x",
          "ay": 0.4930232558139535,
          "ayref": "y",
          "showarrow": true,
          "standoff": 5,
          "startstandoff": 5,
          "text": "",
          "x": -0.4074074074074074,
          "xref": "x",
          "y": 1,
          "yref": "y"
         },
         {
          "arrowcolor": "gray",
          "arrowhead": 2,
          "arrowsize": 2,
          "ax": -0.7777777777777778,
          "axref": "x",
          "ay": -0.9255813953488372,
          "ayref": "y",
          "showarrow": true,
          "standoff": 5,
          "startstandoff": 5,
          "text": "",
          "x": -0.6296296296296297,
          "xref": "x",
          "y": -0.627906976744186,
          "yref": "y"
         },
         {
          "arrowcolor": "gray",
          "arrowhead": 2,
          "arrowsize": 2,
          "ax": -0.7777777777777778,
          "axref": "x",
          "ay": -0.9255813953488372,
          "ayref": "y",
          "showarrow": true,
          "standoff": 5,
          "startstandoff": 5,
          "text": "",
          "x": -0.6296296296296297,
          "xref": "x",
          "y": -0.10232558139534884,
          "yref": "y"
         },
         {
          "arrowcolor": "gray",
          "arrowhead": 2,
          "arrowsize": 2,
          "ax": -1,
          "axref": "x",
          "ay": 0.10697674418604651,
          "ayref": "y",
          "showarrow": true,
          "standoff": 5,
          "startstandoff": 5,
          "text": "",
          "x": -0.8518518518518519,
          "xref": "x",
          "y": -0.5302325581395348,
          "yref": "y"
         },
         {
          "arrowcolor": "gray",
          "arrowhead": 2,
          "arrowsize": 2,
          "ax": -1,
          "axref": "x",
          "ay": 0.10697674418604651,
          "ayref": "y",
          "showarrow": true,
          "standoff": 5,
          "startstandoff": 5,
          "text": "",
          "x": -0.7777777777777778,
          "xref": "x",
          "y": 0.4930232558139535,
          "yref": "y"
         },
         {
          "arrowcolor": "gray",
          "arrowhead": 2,
          "arrowsize": 2,
          "ax": -1,
          "axref": "x",
          "ay": 0.10697674418604651,
          "ayref": "y",
          "showarrow": true,
          "standoff": 5,
          "startstandoff": 5,
          "text": "",
          "x": -0.7777777777777778,
          "xref": "x",
          "y": -0.9255813953488372,
          "yref": "y"
         },
         {
          "arrowcolor": "gray",
          "arrowhead": 2,
          "arrowsize": 2,
          "ax": -1,
          "axref": "x",
          "ay": 0.10697674418604651,
          "ayref": "y",
          "showarrow": true,
          "standoff": 5,
          "startstandoff": 5,
          "text": "",
          "x": -0.9259259259259259,
          "xref": "x",
          "y": -0.10697674418604651,
          "yref": "y"
         },
         {
          "arrowcolor": "gray",
          "arrowhead": 2,
          "arrowsize": 2,
          "ax": -1,
          "axref": "x",
          "ay": 0.10697674418604651,
          "ayref": "y",
          "showarrow": true,
          "standoff": 5,
          "startstandoff": 5,
          "text": "",
          "x": -0.7037037037037037,
          "xref": "x",
          "y": -0.09302325581395349,
          "yref": "y"
         },
         {
          "arrowcolor": "gray",
          "arrowhead": 2,
          "arrowsize": 2,
          "ax": -1,
          "axref": "x",
          "ay": 0.10697674418604651,
          "ayref": "y",
          "showarrow": true,
          "standoff": 5,
          "startstandoff": 5,
          "text": "",
          "x": -0.6296296296296297,
          "xref": "x",
          "y": 0.4883720930232558,
          "yref": "y"
         },
         {
          "arrowcolor": "gray",
          "arrowhead": 2,
          "arrowsize": 2,
          "ax": -0.9259259259259259,
          "axref": "x",
          "ay": -0.10697674418604651,
          "ayref": "y",
          "showarrow": true,
          "standoff": 5,
          "startstandoff": 5,
          "text": "",
          "x": -0.8518518518518519,
          "xref": "x",
          "y": -0.5302325581395348,
          "yref": "y"
         },
         {
          "arrowcolor": "gray",
          "arrowhead": 2,
          "arrowsize": 2,
          "ax": -0.9259259259259259,
          "axref": "x",
          "ay": -0.10697674418604651,
          "ayref": "y",
          "showarrow": true,
          "standoff": 5,
          "startstandoff": 5,
          "text": "",
          "x": -0.7777777777777778,
          "xref": "x",
          "y": 0.4930232558139535,
          "yref": "y"
         },
         {
          "arrowcolor": "gray",
          "arrowhead": 2,
          "arrowsize": 2,
          "ax": -0.9259259259259259,
          "axref": "x",
          "ay": -0.10697674418604651,
          "ayref": "y",
          "showarrow": true,
          "standoff": 5,
          "startstandoff": 5,
          "text": "",
          "x": -0.7777777777777778,
          "xref": "x",
          "y": -0.9255813953488372,
          "yref": "y"
         },
         {
          "arrowcolor": "gray",
          "arrowhead": 2,
          "arrowsize": 2,
          "ax": -0.9259259259259259,
          "axref": "x",
          "ay": -0.10697674418604651,
          "ayref": "y",
          "showarrow": true,
          "standoff": 5,
          "startstandoff": 5,
          "text": "",
          "x": -0.8518518518518519,
          "xref": "x",
          "y": -0.19534883720930232,
          "yref": "y"
         },
         {
          "arrowcolor": "gray",
          "arrowhead": 2,
          "arrowsize": 2,
          "ax": -0.9259259259259259,
          "axref": "x",
          "ay": -0.10697674418604651,
          "ayref": "y",
          "showarrow": true,
          "standoff": 5,
          "startstandoff": 5,
          "text": "",
          "x": -0.7037037037037037,
          "xref": "x",
          "y": -0.09302325581395349,
          "yref": "y"
         },
         {
          "arrowcolor": "gray",
          "arrowhead": 2,
          "arrowsize": 2,
          "ax": -0.8518518518518519,
          "axref": "x",
          "ay": -0.19534883720930232,
          "ayref": "y",
          "showarrow": true,
          "standoff": 5,
          "startstandoff": 5,
          "text": "",
          "x": -0.7777777777777778,
          "xref": "x",
          "y": -0.19534883720930232,
          "yref": "y"
         },
         {
          "arrowcolor": "gray",
          "arrowhead": 2,
          "arrowsize": 2,
          "ax": -0.7777777777777778,
          "axref": "x",
          "ay": -0.19534883720930232,
          "ayref": "y",
          "showarrow": true,
          "standoff": 5,
          "startstandoff": 5,
          "text": "",
          "x": -0.7037037037037037,
          "xref": "x",
          "y": -0.09302325581395349,
          "yref": "y"
         },
         {
          "arrowcolor": "gray",
          "arrowhead": 2,
          "arrowsize": 2,
          "ax": -0.7037037037037037,
          "axref": "x",
          "ay": -0.09302325581395349,
          "ayref": "y",
          "showarrow": true,
          "standoff": 5,
          "startstandoff": 5,
          "text": "",
          "x": -0.6296296296296297,
          "xref": "x",
          "y": -0.627906976744186,
          "yref": "y"
         },
         {
          "arrowcolor": "gray",
          "arrowhead": 2,
          "arrowsize": 2,
          "ax": -0.7037037037037037,
          "axref": "x",
          "ay": -0.09302325581395349,
          "ayref": "y",
          "showarrow": true,
          "standoff": 5,
          "startstandoff": 5,
          "text": "",
          "x": -0.6296296296296297,
          "xref": "x",
          "y": -0.10232558139534884,
          "yref": "y"
         },
         {
          "arrowcolor": "gray",
          "arrowhead": 2,
          "arrowsize": 2,
          "ax": -0.7037037037037037,
          "axref": "x",
          "ay": -0.09302325581395349,
          "ayref": "y",
          "showarrow": true,
          "standoff": 5,
          "startstandoff": 5,
          "text": "",
          "x": -0.3333333333333333,
          "xref": "x",
          "y": 0.7441860465116279,
          "yref": "y"
         },
         {
          "arrowcolor": "gray",
          "arrowhead": 2,
          "arrowsize": 2,
          "ax": -0.037037037037037035,
          "axref": "x",
          "ay": 0.827906976744186,
          "ayref": "y",
          "showarrow": true,
          "standoff": 5,
          "startstandoff": 5,
          "text": "",
          "x": 0.5555555555555556,
          "xref": "x",
          "y": 0.5627906976744186,
          "yref": "y"
         },
         {
          "arrowcolor": "gray",
          "arrowhead": 2,
          "arrowsize": 2,
          "ax": 0.5555555555555556,
          "axref": "x",
          "ay": 0.5627906976744186,
          "ayref": "y",
          "showarrow": true,
          "standoff": 5,
          "startstandoff": 5,
          "text": "",
          "x": 0.7037037037037037,
          "xref": "x",
          "y": 0.20465116279069767,
          "yref": "y"
         },
         {
          "arrowcolor": "gray",
          "arrowhead": 2,
          "arrowsize": 2,
          "ax": 0.48148148148148145,
          "axref": "x",
          "ay": 0.5627906976744186,
          "ayref": "y",
          "showarrow": true,
          "standoff": 5,
          "startstandoff": 5,
          "text": "",
          "x": 0.5555555555555556,
          "xref": "x",
          "y": 0.5627906976744186,
          "yref": "y"
         },
         {
          "arrowcolor": "gray",
          "arrowhead": 2,
          "arrowsize": 2,
          "ax": 0.7037037037037037,
          "axref": "x",
          "ay": 0.20465116279069767,
          "ayref": "y",
          "showarrow": true,
          "standoff": 5,
          "startstandoff": 5,
          "text": "",
          "x": 0.8518518518518519,
          "xref": "x",
          "y": 0.023255813953488372,
          "yref": "y"
         },
         {
          "arrowcolor": "gray",
          "arrowhead": 2,
          "arrowsize": 2,
          "ax": 0.1111111111111111,
          "axref": "x",
          "ay": -0.39069767441860465,
          "ayref": "y",
          "showarrow": true,
          "standoff": 5,
          "startstandoff": 5,
          "text": "",
          "x": 0.18518518518518517,
          "xref": "x",
          "y": -0.3023255813953488,
          "yref": "y"
         },
         {
          "arrowcolor": "gray",
          "arrowhead": 2,
          "arrowsize": 2,
          "ax": 0.18518518518518517,
          "axref": "x",
          "ay": -0.3023255813953488,
          "ayref": "y",
          "showarrow": true,
          "standoff": 5,
          "startstandoff": 5,
          "text": "",
          "x": 0.25925925925925924,
          "xref": "x",
          "y": -0.39069767441860465,
          "yref": "y"
         },
         {
          "arrowcolor": "gray",
          "arrowhead": 2,
          "arrowsize": 2,
          "ax": 0.18518518518518517,
          "axref": "x",
          "ay": -0.3023255813953488,
          "ayref": "y",
          "showarrow": true,
          "standoff": 5,
          "startstandoff": 5,
          "text": "",
          "x": 0.3333333333333333,
          "xref": "x",
          "y": -0.26046511627906976,
          "yref": "y"
         },
         {
          "arrowcolor": "gray",
          "arrowhead": 2,
          "arrowsize": 2,
          "ax": 0.037037037037037035,
          "axref": "x",
          "ay": -0.2,
          "ayref": "y",
          "showarrow": true,
          "standoff": 5,
          "startstandoff": 5,
          "text": "",
          "x": 0.1111111111111111,
          "xref": "x",
          "y": -0.39069767441860465,
          "yref": "y"
         },
         {
          "arrowcolor": "gray",
          "arrowhead": 2,
          "arrowsize": 2,
          "ax": 0.037037037037037035,
          "axref": "x",
          "ay": -0.2,
          "ayref": "y",
          "showarrow": true,
          "standoff": 5,
          "startstandoff": 5,
          "text": "",
          "x": 0.18518518518518517,
          "xref": "x",
          "y": -0.3023255813953488,
          "yref": "y"
         },
         {
          "arrowcolor": "gray",
          "arrowhead": 2,
          "arrowsize": 2,
          "ax": 0.037037037037037035,
          "axref": "x",
          "ay": -0.2,
          "ayref": "y",
          "showarrow": true,
          "standoff": 5,
          "startstandoff": 5,
          "text": "",
          "x": 0.3333333333333333,
          "xref": "x",
          "y": -0.26046511627906976,
          "yref": "y"
         },
         {
          "arrowcolor": "gray",
          "arrowhead": 2,
          "arrowsize": 2,
          "ax": 0.25925925925925924,
          "axref": "x",
          "ay": -0.39069767441860465,
          "ayref": "y",
          "showarrow": true,
          "standoff": 5,
          "startstandoff": 5,
          "text": "",
          "x": 0.3333333333333333,
          "xref": "x",
          "y": -0.26046511627906976,
          "yref": "y"
         },
         {
          "arrowcolor": "gray",
          "arrowhead": 2,
          "arrowsize": 2,
          "ax": 0.3333333333333333,
          "axref": "x",
          "ay": -0.26046511627906976,
          "ayref": "y",
          "showarrow": true,
          "standoff": 5,
          "startstandoff": 5,
          "text": "",
          "x": 0.4074074074074074,
          "xref": "x",
          "y": -0.40930232558139534,
          "yref": "y"
         },
         {
          "arrowcolor": "gray",
          "arrowhead": 2,
          "arrowsize": 2,
          "ax": 0.3333333333333333,
          "axref": "x",
          "ay": -0.26046511627906976,
          "ayref": "y",
          "showarrow": true,
          "standoff": 5,
          "startstandoff": 5,
          "text": "",
          "x": 0.4074074074074074,
          "xref": "x",
          "y": -0.7441860465116279,
          "yref": "y"
         },
         {
          "arrowcolor": "gray",
          "arrowhead": 2,
          "arrowsize": 2,
          "ax": 0.3333333333333333,
          "axref": "x",
          "ay": -0.26046511627906976,
          "ayref": "y",
          "showarrow": true,
          "standoff": 5,
          "startstandoff": 5,
          "text": "",
          "x": 0.4074074074074074,
          "xref": "x",
          "y": 0.31627906976744186,
          "yref": "y"
         },
         {
          "arrowcolor": "gray",
          "arrowhead": 2,
          "arrowsize": 2,
          "ax": -0.037037037037037035,
          "axref": "x",
          "ay": -0.5674418604651162,
          "ayref": "y",
          "showarrow": true,
          "standoff": 5,
          "startstandoff": 5,
          "text": "",
          "x": 0.037037037037037035,
          "xref": "x",
          "y": -0.2,
          "yref": "y"
         },
         {
          "arrowcolor": "gray",
          "arrowhead": 2,
          "arrowsize": 2,
          "ax": 0.4074074074074074,
          "axref": "x",
          "ay": -0.40930232558139534,
          "ayref": "y",
          "showarrow": true,
          "standoff": 5,
          "startstandoff": 5,
          "text": "",
          "x": 0.48148148148148145,
          "xref": "x",
          "y": -0.4511627906976744,
          "yref": "y"
         },
         {
          "arrowcolor": "gray",
          "arrowhead": 2,
          "arrowsize": 2,
          "ax": 0.8518518518518519,
          "axref": "x",
          "ay": -0.9255813953488372,
          "ayref": "y",
          "showarrow": true,
          "standoff": 5,
          "startstandoff": 5,
          "text": "",
          "x": 0.9259259259259259,
          "xref": "x",
          "y": -0.8465116279069768,
          "yref": "y"
         },
         {
          "arrowcolor": "gray",
          "arrowhead": 2,
          "arrowsize": 2,
          "ax": 0.8518518518518519,
          "axref": "x",
          "ay": -0.9255813953488372,
          "ayref": "y",
          "showarrow": true,
          "standoff": 5,
          "startstandoff": 5,
          "text": "",
          "x": 0.9259259259259259,
          "xref": "x",
          "y": -0.5116279069767442,
          "yref": "y"
         },
         {
          "arrowcolor": "gray",
          "arrowhead": 2,
          "arrowsize": 2,
          "ax": 0.8518518518518519,
          "axref": "x",
          "ay": -0.9255813953488372,
          "ayref": "y",
          "showarrow": true,
          "standoff": 5,
          "startstandoff": 5,
          "text": "",
          "x": 1,
          "xref": "x",
          "y": -0.8465116279069768,
          "yref": "y"
         },
         {
          "arrowcolor": "gray",
          "arrowhead": 2,
          "arrowsize": 2,
          "ax": 0.8518518518518519,
          "axref": "x",
          "ay": 0.023255813953488372,
          "ayref": "y",
          "showarrow": true,
          "standoff": 5,
          "startstandoff": 5,
          "text": "",
          "x": 1,
          "xref": "x",
          "y": 0,
          "yref": "y"
         },
         {
          "arrowcolor": "gray",
          "arrowhead": 2,
          "arrowsize": 2,
          "ax": 0.8518518518518519,
          "axref": "x",
          "ay": 0.023255813953488372,
          "ayref": "y",
          "showarrow": true,
          "standoff": 5,
          "startstandoff": 5,
          "text": "",
          "x": 0.9259259259259259,
          "xref": "x",
          "y": -0.5116279069767442,
          "yref": "y"
         },
         {
          "arrowcolor": "gray",
          "arrowhead": 2,
          "arrowsize": 2,
          "ax": 0.8518518518518519,
          "axref": "x",
          "ay": 0.023255813953488372,
          "ayref": "y",
          "showarrow": true,
          "standoff": 5,
          "startstandoff": 5,
          "text": "",
          "x": 0.9259259259259259,
          "xref": "x",
          "y": 0,
          "yref": "y"
         },
         {
          "arrowcolor": "gray",
          "arrowhead": 2,
          "arrowsize": 2,
          "ax": 0.9259259259259259,
          "axref": "x",
          "ay": -0.8465116279069768,
          "ayref": "y",
          "showarrow": true,
          "standoff": 5,
          "startstandoff": 5,
          "text": "",
          "x": 1,
          "xref": "x",
          "y": -0.4232558139534884,
          "yref": "y"
         },
         {
          "arrowcolor": "gray",
          "arrowhead": 2,
          "arrowsize": 2,
          "ax": 0.9259259259259259,
          "axref": "x",
          "ay": -0.8465116279069768,
          "ayref": "y",
          "showarrow": true,
          "standoff": 5,
          "startstandoff": 5,
          "text": "",
          "x": 1,
          "xref": "x",
          "y": -0.8465116279069768,
          "yref": "y"
         },
         {
          "arrowcolor": "gray",
          "arrowhead": 2,
          "arrowsize": 2,
          "ax": 0.9259259259259259,
          "axref": "x",
          "ay": -0.5116279069767442,
          "ayref": "y",
          "showarrow": true,
          "standoff": 5,
          "startstandoff": 5,
          "text": "",
          "x": 1,
          "xref": "x",
          "y": 0,
          "yref": "y"
         },
         {
          "arrowcolor": "gray",
          "arrowhead": 2,
          "arrowsize": 2,
          "ax": 0.9259259259259259,
          "axref": "x",
          "ay": -0.5116279069767442,
          "ayref": "y",
          "showarrow": true,
          "standoff": 5,
          "startstandoff": 5,
          "text": "",
          "x": 1,
          "xref": "x",
          "y": -0.4232558139534884,
          "yref": "y"
         },
         {
          "arrowcolor": "gray",
          "arrowhead": 2,
          "arrowsize": 2,
          "ax": 0.9259259259259259,
          "axref": "x",
          "ay": -0.5116279069767442,
          "ayref": "y",
          "showarrow": true,
          "standoff": 5,
          "startstandoff": 5,
          "text": "",
          "x": 1,
          "xref": "x",
          "y": -0.8465116279069768,
          "yref": "y"
         },
         {
          "arrowcolor": "gray",
          "arrowhead": 2,
          "arrowsize": 2,
          "ax": 0.9259259259259259,
          "axref": "x",
          "ay": 0,
          "ayref": "y",
          "showarrow": true,
          "standoff": 5,
          "startstandoff": 5,
          "text": "",
          "x": 1,
          "xref": "x",
          "y": 0,
          "yref": "y"
         },
         {
          "arrowcolor": "gray",
          "arrowhead": 2,
          "arrowsize": 2,
          "ax": 0.9259259259259259,
          "axref": "x",
          "ay": 0,
          "ayref": "y",
          "showarrow": true,
          "standoff": 5,
          "startstandoff": 5,
          "text": "",
          "x": 1,
          "xref": "x",
          "y": -0.4232558139534884,
          "yref": "y"
         },
         {
          "arrowcolor": "gray",
          "arrowhead": 2,
          "arrowsize": 2,
          "ax": 0.8518518518518519,
          "axref": "x",
          "ay": -0.4,
          "ayref": "y",
          "showarrow": true,
          "standoff": 5,
          "startstandoff": 5,
          "text": "",
          "x": 0.9259259259259259,
          "xref": "x",
          "y": -0.8465116279069768,
          "yref": "y"
         },
         {
          "arrowcolor": "gray",
          "arrowhead": 2,
          "arrowsize": 2,
          "ax": 0.8518518518518519,
          "axref": "x",
          "ay": -0.4,
          "ayref": "y",
          "showarrow": true,
          "standoff": 5,
          "startstandoff": 5,
          "text": "",
          "x": 0.9259259259259259,
          "xref": "x",
          "y": -0.5116279069767442,
          "yref": "y"
         },
         {
          "arrowcolor": "gray",
          "arrowhead": 2,
          "arrowsize": 2,
          "ax": 0.8518518518518519,
          "axref": "x",
          "ay": -0.4,
          "ayref": "y",
          "showarrow": true,
          "standoff": 5,
          "startstandoff": 5,
          "text": "",
          "x": 0.9259259259259259,
          "xref": "x",
          "y": 0,
          "yref": "y"
         },
         {
          "arrowcolor": "gray",
          "arrowhead": 2,
          "arrowsize": 2,
          "ax": 0.8518518518518519,
          "axref": "x",
          "ay": -0.4,
          "ayref": "y",
          "showarrow": true,
          "standoff": 5,
          "startstandoff": 5,
          "text": "",
          "x": 1,
          "xref": "x",
          "y": -0.4232558139534884,
          "yref": "y"
         },
         {
          "arrowcolor": "gray",
          "arrowhead": 2,
          "arrowsize": 2,
          "ax": 0.4074074074074074,
          "axref": "x",
          "ay": -0.7441860465116279,
          "ayref": "y",
          "showarrow": true,
          "standoff": 5,
          "startstandoff": 5,
          "text": "",
          "x": 0.48148148148148145,
          "xref": "x",
          "y": -1,
          "yref": "y"
         },
         {
          "arrowcolor": "gray",
          "arrowhead": 2,
          "arrowsize": 2,
          "ax": 0.4074074074074074,
          "axref": "x",
          "ay": -0.7441860465116279,
          "ayref": "y",
          "showarrow": true,
          "standoff": 5,
          "startstandoff": 5,
          "text": "",
          "x": 0.6296296296296297,
          "xref": "x",
          "y": -0.4604651162790698,
          "yref": "y"
         },
         {
          "arrowcolor": "gray",
          "arrowhead": 2,
          "arrowsize": 2,
          "ax": 0.48148148148148145,
          "axref": "x",
          "ay": -1,
          "ayref": "y",
          "showarrow": true,
          "standoff": 5,
          "startstandoff": 5,
          "text": "",
          "x": 0.5555555555555556,
          "xref": "x",
          "y": -0.9720930232558139,
          "yref": "y"
         },
         {
          "arrowcolor": "gray",
          "arrowhead": 2,
          "arrowsize": 2,
          "ax": 0.6296296296296297,
          "axref": "x",
          "ay": -0.9720930232558139,
          "ayref": "y",
          "showarrow": true,
          "standoff": 5,
          "startstandoff": 5,
          "text": "",
          "x": 0.7037037037037037,
          "xref": "x",
          "y": -0.9720930232558139,
          "yref": "y"
         },
         {
          "arrowcolor": "gray",
          "arrowhead": 2,
          "arrowsize": 2,
          "ax": -0.1111111111111111,
          "axref": "x",
          "ay": -0.8232558139534883,
          "ayref": "y",
          "showarrow": true,
          "standoff": 5,
          "startstandoff": 5,
          "text": "",
          "x": -0.037037037037037035,
          "xref": "x",
          "y": -0.5674418604651162,
          "yref": "y"
         },
         {
          "arrowcolor": "gray",
          "arrowhead": 2,
          "arrowsize": 2,
          "ax": -0.1111111111111111,
          "axref": "x",
          "ay": -0.8232558139534883,
          "ayref": "y",
          "showarrow": true,
          "standoff": 5,
          "startstandoff": 5,
          "text": "",
          "x": 0.4074074074074074,
          "xref": "x",
          "y": -0.40930232558139534,
          "yref": "y"
         },
         {
          "arrowcolor": "gray",
          "arrowhead": 2,
          "arrowsize": 2,
          "ax": -0.1111111111111111,
          "axref": "x",
          "ay": -0.8232558139534883,
          "ayref": "y",
          "showarrow": true,
          "standoff": 5,
          "startstandoff": 5,
          "text": "",
          "x": 0.48148148148148145,
          "xref": "x",
          "y": -1,
          "yref": "y"
         },
         {
          "arrowcolor": "gray",
          "arrowhead": 2,
          "arrowsize": 2,
          "ax": -0.25925925925925924,
          "axref": "x",
          "ay": -0.2930232558139535,
          "ayref": "y",
          "showarrow": true,
          "standoff": 5,
          "startstandoff": 5,
          "text": "",
          "x": -0.1111111111111111,
          "xref": "x",
          "y": -0.8232558139534883,
          "yref": "y"
         },
         {
          "arrowcolor": "gray",
          "arrowhead": 2,
          "arrowsize": 2,
          "ax": -0.25925925925925924,
          "axref": "x",
          "ay": -0.2930232558139535,
          "ayref": "y",
          "showarrow": true,
          "standoff": 5,
          "startstandoff": 5,
          "text": "",
          "x": -0.18518518518518517,
          "xref": "x",
          "y": 0.13953488372093023,
          "yref": "y"
         },
         {
          "arrowcolor": "gray",
          "arrowhead": 2,
          "arrowsize": 2,
          "ax": -0.25925925925925924,
          "axref": "x",
          "ay": -0.2930232558139535,
          "ayref": "y",
          "showarrow": true,
          "standoff": 5,
          "startstandoff": 5,
          "text": "",
          "x": -0.1111111111111111,
          "xref": "x",
          "y": -0.11627906976744186,
          "yref": "y"
         },
         {
          "arrowcolor": "gray",
          "arrowhead": 2,
          "arrowsize": 2,
          "ax": -0.25925925925925924,
          "axref": "x",
          "ay": 0.04186046511627907,
          "ayref": "y",
          "showarrow": true,
          "standoff": 5,
          "startstandoff": 5,
          "text": "",
          "x": -0.18518518518518517,
          "xref": "x",
          "y": 0.13953488372093023,
          "yref": "y"
         },
         {
          "arrowcolor": "gray",
          "arrowhead": 2,
          "arrowsize": 2,
          "ax": -0.25925925925925924,
          "axref": "x",
          "ay": 0.04186046511627907,
          "ayref": "y",
          "showarrow": true,
          "standoff": 5,
          "startstandoff": 5,
          "text": "",
          "x": -0.1111111111111111,
          "xref": "x",
          "y": -0.11627906976744186,
          "yref": "y"
         },
         {
          "arrowcolor": "gray",
          "arrowhead": 2,
          "arrowsize": 2,
          "ax": -0.18518518518518517,
          "axref": "x",
          "ay": 0.13953488372093023,
          "ayref": "y",
          "showarrow": true,
          "standoff": 5,
          "startstandoff": 5,
          "text": "",
          "x": -0.1111111111111111,
          "xref": "x",
          "y": -0.11627906976744186,
          "yref": "y"
         },
         {
          "arrowcolor": "gray",
          "arrowhead": 2,
          "arrowsize": 2,
          "ax": -0.18518518518518517,
          "axref": "x",
          "ay": 0.13953488372093023,
          "ayref": "y",
          "showarrow": true,
          "standoff": 5,
          "startstandoff": 5,
          "text": "",
          "x": 0.4074074074074074,
          "xref": "x",
          "y": -0.018604651162790697,
          "yref": "y"
         },
         {
          "arrowcolor": "gray",
          "arrowhead": 2,
          "arrowsize": 2,
          "ax": -0.6296296296296297,
          "axref": "x",
          "ay": 0.4883720930232558,
          "ayref": "y",
          "showarrow": true,
          "standoff": 5,
          "startstandoff": 5,
          "text": "",
          "x": -0.5555555555555556,
          "xref": "x",
          "y": 0.23255813953488372,
          "yref": "y"
         },
         {
          "arrowcolor": "gray",
          "arrowhead": 2,
          "arrowsize": 2,
          "ax": -0.6296296296296297,
          "axref": "x",
          "ay": 0.4883720930232558,
          "ayref": "y",
          "showarrow": true,
          "standoff": 5,
          "startstandoff": 5,
          "text": "",
          "x": -0.18518518518518517,
          "xref": "x",
          "y": 0.5116279069767442,
          "yref": "y"
         },
         {
          "arrowcolor": "gray",
          "arrowhead": 2,
          "arrowsize": 2,
          "ax": -0.7037037037037037,
          "axref": "x",
          "ay": 0.4883720930232558,
          "ayref": "y",
          "showarrow": true,
          "standoff": 5,
          "startstandoff": 5,
          "text": "",
          "x": -0.6296296296296297,
          "xref": "x",
          "y": -0.10232558139534884,
          "yref": "y"
         },
         {
          "arrowcolor": "gray",
          "arrowhead": 2,
          "arrowsize": 2,
          "ax": -0.4074074074074074,
          "axref": "x",
          "ay": -0.08837209302325581,
          "ayref": "y",
          "showarrow": true,
          "standoff": 5,
          "startstandoff": 5,
          "text": "",
          "x": -0.25925925925925924,
          "xref": "x",
          "y": 0.04186046511627907,
          "yref": "y"
         },
         {
          "arrowcolor": "gray",
          "arrowhead": 2,
          "arrowsize": 2,
          "ax": -0.4074074074074074,
          "axref": "x",
          "ay": -0.08837209302325581,
          "ayref": "y",
          "showarrow": true,
          "standoff": 5,
          "startstandoff": 5,
          "text": "",
          "x": -0.3333333333333333,
          "xref": "x",
          "y": -0.2558139534883721,
          "yref": "y"
         },
         {
          "arrowcolor": "gray",
          "arrowhead": 2,
          "arrowsize": 2,
          "ax": -0.5555555555555556,
          "axref": "x",
          "ay": -0.10232558139534884,
          "ayref": "y",
          "showarrow": true,
          "standoff": 5,
          "startstandoff": 5,
          "text": "",
          "x": -0.48148148148148145,
          "xref": "x",
          "y": -0.10232558139534884,
          "yref": "y"
         },
         {
          "arrowcolor": "gray",
          "arrowhead": 2,
          "arrowsize": 2,
          "ax": -0.3333333333333333,
          "axref": "x",
          "ay": -0.2558139534883721,
          "ayref": "y",
          "showarrow": true,
          "standoff": 5,
          "startstandoff": 5,
          "text": "",
          "x": -0.25925925925925924,
          "xref": "x",
          "y": -0.2930232558139535,
          "yref": "y"
         },
         {
          "arrowcolor": "gray",
          "arrowhead": 2,
          "arrowsize": 2,
          "ax": -0.5555555555555556,
          "axref": "x",
          "ay": 0.23255813953488372,
          "ayref": "y",
          "showarrow": true,
          "standoff": 5,
          "startstandoff": 5,
          "text": "",
          "x": -0.48148148148148145,
          "xref": "x",
          "y": 0.23255813953488372,
          "yref": "y"
         },
         {
          "arrowcolor": "gray",
          "arrowhead": 2,
          "arrowsize": 2,
          "ax": -0.1111111111111111,
          "axref": "x",
          "ay": -0.11627906976744186,
          "ayref": "y",
          "showarrow": true,
          "standoff": 5,
          "startstandoff": 5,
          "text": "",
          "x": -0.037037037037037035,
          "xref": "x",
          "y": 0.827906976744186,
          "yref": "y"
         },
         {
          "arrowcolor": "gray",
          "arrowhead": 2,
          "arrowsize": 2,
          "ax": -0.1111111111111111,
          "axref": "x",
          "ay": -0.11627906976744186,
          "ayref": "y",
          "showarrow": true,
          "standoff": 5,
          "startstandoff": 5,
          "text": "",
          "x": -0.037037037037037035,
          "xref": "x",
          "y": -0.5674418604651162,
          "yref": "y"
         },
         {
          "arrowcolor": "gray",
          "arrowhead": 2,
          "arrowsize": 2,
          "ax": -0.1111111111111111,
          "axref": "x",
          "ay": -0.11627906976744186,
          "ayref": "y",
          "showarrow": true,
          "standoff": 5,
          "startstandoff": 5,
          "text": "",
          "x": 0.4074074074074074,
          "xref": "x",
          "y": -0.40930232558139534,
          "yref": "y"
         },
         {
          "arrowcolor": "gray",
          "arrowhead": 2,
          "arrowsize": 2,
          "ax": -0.1111111111111111,
          "axref": "x",
          "ay": -0.11627906976744186,
          "ayref": "y",
          "showarrow": true,
          "standoff": 5,
          "startstandoff": 5,
          "text": "",
          "x": 0.48148148148148145,
          "xref": "x",
          "y": -1,
          "yref": "y"
         },
         {
          "arrowcolor": "gray",
          "arrowhead": 2,
          "arrowsize": 2,
          "ax": 0.4074074074074074,
          "axref": "x",
          "ay": -0.018604651162790697,
          "ayref": "y",
          "showarrow": true,
          "standoff": 5,
          "startstandoff": 5,
          "text": "",
          "x": 0.48148148148148145,
          "xref": "x",
          "y": -0.11627906976744186,
          "yref": "y"
         },
         {
          "arrowcolor": "gray",
          "arrowhead": 2,
          "arrowsize": 2,
          "ax": 0.4074074074074074,
          "axref": "x",
          "ay": -0.018604651162790697,
          "ayref": "y",
          "showarrow": true,
          "standoff": 5,
          "startstandoff": 5,
          "text": "",
          "x": 0.48148148148148145,
          "xref": "x",
          "y": 0.2186046511627907,
          "yref": "y"
         },
         {
          "arrowcolor": "gray",
          "arrowhead": 2,
          "arrowsize": 2,
          "ax": -0.6296296296296297,
          "axref": "x",
          "ay": -0.10232558139534884,
          "ayref": "y",
          "showarrow": true,
          "standoff": 5,
          "startstandoff": 5,
          "text": "",
          "x": -0.5555555555555556,
          "xref": "x",
          "y": -0.10232558139534884,
          "yref": "y"
         },
         {
          "arrowcolor": "gray",
          "arrowhead": 2,
          "arrowsize": 2,
          "ax": 0.7777777777777778,
          "axref": "x",
          "ay": -0.9720930232558139,
          "ayref": "y",
          "showarrow": true,
          "standoff": 5,
          "startstandoff": 5,
          "text": "",
          "x": 0.8518518518518519,
          "xref": "x",
          "y": -0.9255813953488372,
          "yref": "y"
         },
         {
          "arrowcolor": "gray",
          "arrowhead": 2,
          "arrowsize": 2,
          "ax": 0.48148148148148145,
          "axref": "x",
          "ay": -0.11627906976744186,
          "ayref": "y",
          "showarrow": true,
          "standoff": 5,
          "startstandoff": 5,
          "text": "",
          "x": 0.5555555555555556,
          "xref": "x",
          "y": -0.4418604651162791,
          "yref": "y"
         },
         {
          "arrowcolor": "gray",
          "arrowhead": 2,
          "arrowsize": 2,
          "ax": 0.48148148148148145,
          "axref": "x",
          "ay": -0.11627906976744186,
          "ayref": "y",
          "showarrow": true,
          "standoff": 5,
          "startstandoff": 5,
          "text": "",
          "x": 0.8518518518518519,
          "xref": "x",
          "y": -0.4,
          "yref": "y"
         },
         {
          "arrowcolor": "gray",
          "arrowhead": 2,
          "arrowsize": 2,
          "ax": 0.4074074074074074,
          "axref": "x",
          "ay": 0.31627906976744186,
          "ayref": "y",
          "showarrow": true,
          "standoff": 5,
          "startstandoff": 5,
          "text": "",
          "x": 0.48148148148148145,
          "xref": "x",
          "y": 0.5627906976744186,
          "yref": "y"
         },
         {
          "arrowcolor": "gray",
          "arrowhead": 2,
          "arrowsize": 2,
          "ax": 0.5555555555555556,
          "axref": "x",
          "ay": -0.9720930232558139,
          "ayref": "y",
          "showarrow": true,
          "standoff": 5,
          "startstandoff": 5,
          "text": "",
          "x": 0.8518518518518519,
          "xref": "x",
          "y": -0.4,
          "yref": "y"
         },
         {
          "arrowcolor": "gray",
          "arrowhead": 2,
          "arrowsize": 2,
          "ax": 0.5555555555555556,
          "axref": "x",
          "ay": -0.9720930232558139,
          "ayref": "y",
          "showarrow": true,
          "standoff": 5,
          "startstandoff": 5,
          "text": "",
          "x": 0.6296296296296297,
          "xref": "x",
          "y": -0.9720930232558139,
          "yref": "y"
         },
         {
          "arrowcolor": "gray",
          "arrowhead": 2,
          "arrowsize": 2,
          "ax": 0.6296296296296297,
          "axref": "x",
          "ay": -0.4604651162790698,
          "ayref": "y",
          "showarrow": true,
          "standoff": 5,
          "startstandoff": 5,
          "text": "",
          "x": 0.7777777777777778,
          "xref": "x",
          "y": -0.9720930232558139,
          "yref": "y"
         },
         {
          "arrowcolor": "gray",
          "arrowhead": 2,
          "arrowsize": 2,
          "ax": 0.48148148148148145,
          "axref": "x",
          "ay": -0.4511627906976744,
          "ayref": "y",
          "showarrow": true,
          "standoff": 5,
          "startstandoff": 5,
          "text": "",
          "x": 0.5555555555555556,
          "xref": "x",
          "y": -0.4418604651162791,
          "yref": "y"
         },
         {
          "arrowcolor": "gray",
          "arrowhead": 2,
          "arrowsize": 2,
          "ax": 0.7037037037037037,
          "axref": "x",
          "ay": -0.9720930232558139,
          "ayref": "y",
          "showarrow": true,
          "standoff": 5,
          "startstandoff": 5,
          "text": "",
          "x": 0.7777777777777778,
          "xref": "x",
          "y": -0.9720930232558139,
          "yref": "y"
         },
         {
          "arrowcolor": "gray",
          "arrowhead": 2,
          "arrowsize": 2,
          "ax": -0.3333333333333333,
          "axref": "x",
          "ay": 0.7441860465116279,
          "ayref": "y",
          "showarrow": true,
          "standoff": 5,
          "startstandoff": 5,
          "text": "",
          "x": -0.037037037037037035,
          "xref": "x",
          "y": 0.827906976744186,
          "yref": "y"
         },
         {
          "arrowcolor": "gray",
          "arrowhead": 2,
          "arrowsize": 2,
          "ax": -0.48148148148148145,
          "axref": "x",
          "ay": -0.10232558139534884,
          "ayref": "y",
          "showarrow": true,
          "standoff": 5,
          "startstandoff": 5,
          "text": "",
          "x": -0.4074074074074074,
          "xref": "x",
          "y": -0.08837209302325581,
          "yref": "y"
         },
         {
          "arrowcolor": "gray",
          "arrowhead": 2,
          "arrowsize": 2,
          "ax": -0.18518518518518517,
          "axref": "x",
          "ay": 0.5116279069767442,
          "ayref": "y",
          "showarrow": true,
          "standoff": 5,
          "startstandoff": 5,
          "text": "",
          "x": 0.48148148148148145,
          "xref": "x",
          "y": 0.5627906976744186,
          "yref": "y"
         },
         {
          "arrowcolor": "gray",
          "arrowhead": 2,
          "arrowsize": 2,
          "ax": -0.4074074074074074,
          "axref": "x",
          "ay": 1,
          "ayref": "y",
          "showarrow": true,
          "standoff": 5,
          "startstandoff": 5,
          "text": "",
          "x": -0.037037037037037035,
          "xref": "x",
          "y": 0.827906976744186,
          "yref": "y"
         },
         {
          "arrowcolor": "gray",
          "arrowhead": 2,
          "arrowsize": 2,
          "ax": -0.48148148148148145,
          "axref": "x",
          "ay": 0.23255813953488372,
          "ayref": "y",
          "showarrow": true,
          "standoff": 5,
          "startstandoff": 5,
          "text": "",
          "x": -0.4074074074074074,
          "xref": "x",
          "y": -0.08837209302325581,
          "yref": "y"
         }
        ],
        "hoverlabel": {
         "font": {
          "size": 10
         }
        },
        "hovermode": "closest",
        "margin": {
         "b": 20,
         "l": 5,
         "r": 5,
         "t": 40
        },
        "showlegend": false,
        "template": {
         "data": {
          "bar": [
           {
            "error_x": {
             "color": "#2a3f5f"
            },
            "error_y": {
             "color": "#2a3f5f"
            },
            "marker": {
             "line": {
              "color": "#E5ECF6",
              "width": 0.5
             },
             "pattern": {
              "fillmode": "overlay",
              "size": 10,
              "solidity": 0.2
             }
            },
            "type": "bar"
           }
          ],
          "barpolar": [
           {
            "marker": {
             "line": {
              "color": "#E5ECF6",
              "width": 0.5
             },
             "pattern": {
              "fillmode": "overlay",
              "size": 10,
              "solidity": 0.2
             }
            },
            "type": "barpolar"
           }
          ],
          "carpet": [
           {
            "aaxis": {
             "endlinecolor": "#2a3f5f",
             "gridcolor": "white",
             "linecolor": "white",
             "minorgridcolor": "white",
             "startlinecolor": "#2a3f5f"
            },
            "baxis": {
             "endlinecolor": "#2a3f5f",
             "gridcolor": "white",
             "linecolor": "white",
             "minorgridcolor": "white",
             "startlinecolor": "#2a3f5f"
            },
            "type": "carpet"
           }
          ],
          "choropleth": [
           {
            "colorbar": {
             "outlinewidth": 0,
             "ticks": ""
            },
            "type": "choropleth"
           }
          ],
          "contour": [
           {
            "colorbar": {
             "outlinewidth": 0,
             "ticks": ""
            },
            "colorscale": [
             [
              0,
              "#0d0887"
             ],
             [
              0.1111111111111111,
              "#46039f"
             ],
             [
              0.2222222222222222,
              "#7201a8"
             ],
             [
              0.3333333333333333,
              "#9c179e"
             ],
             [
              0.4444444444444444,
              "#bd3786"
             ],
             [
              0.5555555555555556,
              "#d8576b"
             ],
             [
              0.6666666666666666,
              "#ed7953"
             ],
             [
              0.7777777777777778,
              "#fb9f3a"
             ],
             [
              0.8888888888888888,
              "#fdca26"
             ],
             [
              1,
              "#f0f921"
             ]
            ],
            "type": "contour"
           }
          ],
          "contourcarpet": [
           {
            "colorbar": {
             "outlinewidth": 0,
             "ticks": ""
            },
            "type": "contourcarpet"
           }
          ],
          "heatmap": [
           {
            "colorbar": {
             "outlinewidth": 0,
             "ticks": ""
            },
            "colorscale": [
             [
              0,
              "#0d0887"
             ],
             [
              0.1111111111111111,
              "#46039f"
             ],
             [
              0.2222222222222222,
              "#7201a8"
             ],
             [
              0.3333333333333333,
              "#9c179e"
             ],
             [
              0.4444444444444444,
              "#bd3786"
             ],
             [
              0.5555555555555556,
              "#d8576b"
             ],
             [
              0.6666666666666666,
              "#ed7953"
             ],
             [
              0.7777777777777778,
              "#fb9f3a"
             ],
             [
              0.8888888888888888,
              "#fdca26"
             ],
             [
              1,
              "#f0f921"
             ]
            ],
            "type": "heatmap"
           }
          ],
          "heatmapgl": [
           {
            "colorbar": {
             "outlinewidth": 0,
             "ticks": ""
            },
            "colorscale": [
             [
              0,
              "#0d0887"
             ],
             [
              0.1111111111111111,
              "#46039f"
             ],
             [
              0.2222222222222222,
              "#7201a8"
             ],
             [
              0.3333333333333333,
              "#9c179e"
             ],
             [
              0.4444444444444444,
              "#bd3786"
             ],
             [
              0.5555555555555556,
              "#d8576b"
             ],
             [
              0.6666666666666666,
              "#ed7953"
             ],
             [
              0.7777777777777778,
              "#fb9f3a"
             ],
             [
              0.8888888888888888,
              "#fdca26"
             ],
             [
              1,
              "#f0f921"
             ]
            ],
            "type": "heatmapgl"
           }
          ],
          "histogram": [
           {
            "marker": {
             "pattern": {
              "fillmode": "overlay",
              "size": 10,
              "solidity": 0.2
             }
            },
            "type": "histogram"
           }
          ],
          "histogram2d": [
           {
            "colorbar": {
             "outlinewidth": 0,
             "ticks": ""
            },
            "colorscale": [
             [
              0,
              "#0d0887"
             ],
             [
              0.1111111111111111,
              "#46039f"
             ],
             [
              0.2222222222222222,
              "#7201a8"
             ],
             [
              0.3333333333333333,
              "#9c179e"
             ],
             [
              0.4444444444444444,
              "#bd3786"
             ],
             [
              0.5555555555555556,
              "#d8576b"
             ],
             [
              0.6666666666666666,
              "#ed7953"
             ],
             [
              0.7777777777777778,
              "#fb9f3a"
             ],
             [
              0.8888888888888888,
              "#fdca26"
             ],
             [
              1,
              "#f0f921"
             ]
            ],
            "type": "histogram2d"
           }
          ],
          "histogram2dcontour": [
           {
            "colorbar": {
             "outlinewidth": 0,
             "ticks": ""
            },
            "colorscale": [
             [
              0,
              "#0d0887"
             ],
             [
              0.1111111111111111,
              "#46039f"
             ],
             [
              0.2222222222222222,
              "#7201a8"
             ],
             [
              0.3333333333333333,
              "#9c179e"
             ],
             [
              0.4444444444444444,
              "#bd3786"
             ],
             [
              0.5555555555555556,
              "#d8576b"
             ],
             [
              0.6666666666666666,
              "#ed7953"
             ],
             [
              0.7777777777777778,
              "#fb9f3a"
             ],
             [
              0.8888888888888888,
              "#fdca26"
             ],
             [
              1,
              "#f0f921"
             ]
            ],
            "type": "histogram2dcontour"
           }
          ],
          "mesh3d": [
           {
            "colorbar": {
             "outlinewidth": 0,
             "ticks": ""
            },
            "type": "mesh3d"
           }
          ],
          "parcoords": [
           {
            "line": {
             "colorbar": {
              "outlinewidth": 0,
              "ticks": ""
             }
            },
            "type": "parcoords"
           }
          ],
          "pie": [
           {
            "automargin": true,
            "type": "pie"
           }
          ],
          "scatter": [
           {
            "fillpattern": {
             "fillmode": "overlay",
             "size": 10,
             "solidity": 0.2
            },
            "type": "scatter"
           }
          ],
          "scatter3d": [
           {
            "line": {
             "colorbar": {
              "outlinewidth": 0,
              "ticks": ""
             }
            },
            "marker": {
             "colorbar": {
              "outlinewidth": 0,
              "ticks": ""
             }
            },
            "type": "scatter3d"
           }
          ],
          "scattercarpet": [
           {
            "marker": {
             "colorbar": {
              "outlinewidth": 0,
              "ticks": ""
             }
            },
            "type": "scattercarpet"
           }
          ],
          "scattergeo": [
           {
            "marker": {
             "colorbar": {
              "outlinewidth": 0,
              "ticks": ""
             }
            },
            "type": "scattergeo"
           }
          ],
          "scattergl": [
           {
            "marker": {
             "colorbar": {
              "outlinewidth": 0,
              "ticks": ""
             }
            },
            "type": "scattergl"
           }
          ],
          "scattermapbox": [
           {
            "marker": {
             "colorbar": {
              "outlinewidth": 0,
              "ticks": ""
             }
            },
            "type": "scattermapbox"
           }
          ],
          "scatterpolar": [
           {
            "marker": {
             "colorbar": {
              "outlinewidth": 0,
              "ticks": ""
             }
            },
            "type": "scatterpolar"
           }
          ],
          "scatterpolargl": [
           {
            "marker": {
             "colorbar": {
              "outlinewidth": 0,
              "ticks": ""
             }
            },
            "type": "scatterpolargl"
           }
          ],
          "scatterternary": [
           {
            "marker": {
             "colorbar": {
              "outlinewidth": 0,
              "ticks": ""
             }
            },
            "type": "scatterternary"
           }
          ],
          "surface": [
           {
            "colorbar": {
             "outlinewidth": 0,
             "ticks": ""
            },
            "colorscale": [
             [
              0,
              "#0d0887"
             ],
             [
              0.1111111111111111,
              "#46039f"
             ],
             [
              0.2222222222222222,
              "#7201a8"
             ],
             [
              0.3333333333333333,
              "#9c179e"
             ],
             [
              0.4444444444444444,
              "#bd3786"
             ],
             [
              0.5555555555555556,
              "#d8576b"
             ],
             [
              0.6666666666666666,
              "#ed7953"
             ],
             [
              0.7777777777777778,
              "#fb9f3a"
             ],
             [
              0.8888888888888888,
              "#fdca26"
             ],
             [
              1,
              "#f0f921"
             ]
            ],
            "type": "surface"
           }
          ],
          "table": [
           {
            "cells": {
             "fill": {
              "color": "#EBF0F8"
             },
             "line": {
              "color": "white"
             }
            },
            "header": {
             "fill": {
              "color": "#C8D4E3"
             },
             "line": {
              "color": "white"
             }
            },
            "type": "table"
           }
          ]
         },
         "layout": {
          "annotationdefaults": {
           "arrowcolor": "#2a3f5f",
           "arrowhead": 0,
           "arrowwidth": 1
          },
          "autotypenumbers": "strict",
          "coloraxis": {
           "colorbar": {
            "outlinewidth": 0,
            "ticks": ""
           }
          },
          "colorscale": {
           "diverging": [
            [
             0,
             "#8e0152"
            ],
            [
             0.1,
             "#c51b7d"
            ],
            [
             0.2,
             "#de77ae"
            ],
            [
             0.3,
             "#f1b6da"
            ],
            [
             0.4,
             "#fde0ef"
            ],
            [
             0.5,
             "#f7f7f7"
            ],
            [
             0.6,
             "#e6f5d0"
            ],
            [
             0.7,
             "#b8e186"
            ],
            [
             0.8,
             "#7fbc41"
            ],
            [
             0.9,
             "#4d9221"
            ],
            [
             1,
             "#276419"
            ]
           ],
           "sequential": [
            [
             0,
             "#0d0887"
            ],
            [
             0.1111111111111111,
             "#46039f"
            ],
            [
             0.2222222222222222,
             "#7201a8"
            ],
            [
             0.3333333333333333,
             "#9c179e"
            ],
            [
             0.4444444444444444,
             "#bd3786"
            ],
            [
             0.5555555555555556,
             "#d8576b"
            ],
            [
             0.6666666666666666,
             "#ed7953"
            ],
            [
             0.7777777777777778,
             "#fb9f3a"
            ],
            [
             0.8888888888888888,
             "#fdca26"
            ],
            [
             1,
             "#f0f921"
            ]
           ],
           "sequentialminus": [
            [
             0,
             "#0d0887"
            ],
            [
             0.1111111111111111,
             "#46039f"
            ],
            [
             0.2222222222222222,
             "#7201a8"
            ],
            [
             0.3333333333333333,
             "#9c179e"
            ],
            [
             0.4444444444444444,
             "#bd3786"
            ],
            [
             0.5555555555555556,
             "#d8576b"
            ],
            [
             0.6666666666666666,
             "#ed7953"
            ],
            [
             0.7777777777777778,
             "#fb9f3a"
            ],
            [
             0.8888888888888888,
             "#fdca26"
            ],
            [
             1,
             "#f0f921"
            ]
           ]
          },
          "colorway": [
           "#636efa",
           "#EF553B",
           "#00cc96",
           "#ab63fa",
           "#FFA15A",
           "#19d3f3",
           "#FF6692",
           "#B6E880",
           "#FF97FF",
           "#FECB52"
          ],
          "font": {
           "color": "#2a3f5f"
          },
          "geo": {
           "bgcolor": "white",
           "lakecolor": "white",
           "landcolor": "#E5ECF6",
           "showlakes": true,
           "showland": true,
           "subunitcolor": "white"
          },
          "hoverlabel": {
           "align": "left"
          },
          "hovermode": "closest",
          "mapbox": {
           "style": "light"
          },
          "paper_bgcolor": "white",
          "plot_bgcolor": "#E5ECF6",
          "polar": {
           "angularaxis": {
            "gridcolor": "white",
            "linecolor": "white",
            "ticks": ""
           },
           "bgcolor": "#E5ECF6",
           "radialaxis": {
            "gridcolor": "white",
            "linecolor": "white",
            "ticks": ""
           }
          },
          "scene": {
           "xaxis": {
            "backgroundcolor": "#E5ECF6",
            "gridcolor": "white",
            "gridwidth": 2,
            "linecolor": "white",
            "showbackground": true,
            "ticks": "",
            "zerolinecolor": "white"
           },
           "yaxis": {
            "backgroundcolor": "#E5ECF6",
            "gridcolor": "white",
            "gridwidth": 2,
            "linecolor": "white",
            "showbackground": true,
            "ticks": "",
            "zerolinecolor": "white"
           },
           "zaxis": {
            "backgroundcolor": "#E5ECF6",
            "gridcolor": "white",
            "gridwidth": 2,
            "linecolor": "white",
            "showbackground": true,
            "ticks": "",
            "zerolinecolor": "white"
           }
          },
          "shapedefaults": {
           "line": {
            "color": "#2a3f5f"
           }
          },
          "ternary": {
           "aaxis": {
            "gridcolor": "white",
            "linecolor": "white",
            "ticks": ""
           },
           "baxis": {
            "gridcolor": "white",
            "linecolor": "white",
            "ticks": ""
           },
           "bgcolor": "#E5ECF6",
           "caxis": {
            "gridcolor": "white",
            "linecolor": "white",
            "ticks": ""
           }
          },
          "title": {
           "x": 0.05
          },
          "xaxis": {
           "automargin": true,
           "gridcolor": "white",
           "linecolor": "white",
           "ticks": "",
           "title": {
            "standoff": 15
           },
           "zerolinecolor": "white",
           "zerolinewidth": 2
          },
          "yaxis": {
           "automargin": true,
           "gridcolor": "white",
           "linecolor": "white",
           "ticks": "",
           "title": {
            "standoff": 15
           },
           "zerolinecolor": "white",
           "zerolinewidth": 2
          }
         }
        },
        "xaxis": {
         "showgrid": false,
         "showticklabels": false,
         "zeroline": false
        },
        "yaxis": {
         "showgrid": false,
         "showticklabels": false,
         "zeroline": false
        }
       }
      },
      "text/html": [
       "<div>                            <div id=\"41fb63a0-fd39-4d38-8823-055bf8690e44\" class=\"plotly-graph-div\" style=\"height:525px; width:100%;\"></div>            <script type=\"text/javascript\">                require([\"plotly\"], function(Plotly) {                    window.PLOTLYENV=window.PLOTLYENV || {};                                    if (document.getElementById(\"41fb63a0-fd39-4d38-8823-055bf8690e44\")) {                    Plotly.newPlot(                        \"41fb63a0-fd39-4d38-8823-055bf8690e44\",                        [{\"hoverinfo\":\"none\",\"line\":{\"color\":\"blue\",\"width\":0.5},\"mode\":\"lines\",\"showlegend\":false,\"x\":[-0.8518518518518519,-0.6296296296296297,\"\",-0.8518518518518519,-0.6296296296296297,\"\",-0.6296296296296297,-0.037037037037037035,\"\",-0.6296296296296297,0.4074074074074074,\"\",-0.6296296296296297,0.48148148148148145,\"\",-0.7777777777777778,-0.6296296296296297,\"\",-0.7777777777777778,-0.7037037037037037,\"\",-0.7777777777777778,-0.4074074074074074,\"\",-0.7777777777777778,-0.6296296296296297,\"\",-0.7777777777777778,-0.6296296296296297,\"\",-1.0,-0.8518518518518519,\"\",-1.0,-0.7777777777777778,\"\",-1.0,-0.7777777777777778,\"\",-1.0,-0.9259259259259259,\"\",-1.0,-0.7037037037037037,\"\",-1.0,-0.6296296296296297,\"\",-0.9259259259259259,-0.8518518518518519,\"\",-0.9259259259259259,-0.7777777777777778,\"\",-0.9259259259259259,-0.7777777777777778,\"\",-0.9259259259259259,-0.8518518518518519,\"\",-0.9259259259259259,-0.7037037037037037,\"\",-0.8518518518518519,-0.7777777777777778,\"\",-0.7777777777777778,-0.7037037037037037,\"\",-0.7037037037037037,-0.6296296296296297,\"\",-0.7037037037037037,-0.6296296296296297,\"\",-0.7037037037037037,-0.3333333333333333,\"\",-0.037037037037037035,0.5555555555555556,\"\",0.5555555555555556,0.7037037037037037,\"\",0.48148148148148145,0.5555555555555556,\"\",0.7037037037037037,0.8518518518518519,\"\",0.1111111111111111,0.18518518518518517,\"\",0.18518518518518517,0.25925925925925924,\"\",0.18518518518518517,0.3333333333333333,\"\",0.037037037037037035,0.1111111111111111,\"\",0.037037037037037035,0.18518518518518517,\"\",0.037037037037037035,0.3333333333333333,\"\",0.25925925925925924,0.3333333333333333,\"\",0.3333333333333333,0.4074074074074074,\"\",0.3333333333333333,0.4074074074074074,\"\",0.3333333333333333,0.4074074074074074,\"\",-0.037037037037037035,0.037037037037037035,\"\",0.4074074074074074,0.48148148148148145,\"\",0.8518518518518519,0.9259259259259259,\"\",0.8518518518518519,0.9259259259259259,\"\",0.8518518518518519,1.0,\"\",0.8518518518518519,1.0,\"\",0.8518518518518519,0.9259259259259259,\"\",0.8518518518518519,0.9259259259259259,\"\",0.9259259259259259,1.0,\"\",0.9259259259259259,1.0,\"\",0.9259259259259259,1.0,\"\",0.9259259259259259,1.0,\"\",0.9259259259259259,1.0,\"\",0.9259259259259259,1.0,\"\",0.9259259259259259,1.0,\"\",0.8518518518518519,0.9259259259259259,\"\",0.8518518518518519,0.9259259259259259,\"\",0.8518518518518519,0.9259259259259259,\"\",0.8518518518518519,1.0,\"\",0.4074074074074074,0.48148148148148145,\"\",0.4074074074074074,0.6296296296296297,\"\",0.48148148148148145,0.5555555555555556,\"\",0.6296296296296297,0.7037037037037037,\"\",-0.1111111111111111,-0.037037037037037035,\"\",-0.1111111111111111,0.4074074074074074,\"\",-0.1111111111111111,0.48148148148148145,\"\",-0.25925925925925924,-0.1111111111111111,\"\",-0.25925925925925924,-0.18518518518518517,\"\",-0.25925925925925924,-0.1111111111111111,\"\",-0.25925925925925924,-0.18518518518518517,\"\",-0.25925925925925924,-0.1111111111111111,\"\",-0.18518518518518517,-0.1111111111111111,\"\",-0.18518518518518517,0.4074074074074074,\"\",-0.6296296296296297,-0.5555555555555556,\"\",-0.6296296296296297,-0.18518518518518517,\"\",-0.7037037037037037,-0.6296296296296297,\"\",-0.4074074074074074,-0.25925925925925924,\"\",-0.4074074074074074,-0.3333333333333333,\"\",-0.5555555555555556,-0.48148148148148145,\"\",-0.3333333333333333,-0.25925925925925924,\"\",-0.5555555555555556,-0.48148148148148145,\"\",-0.1111111111111111,-0.037037037037037035,\"\",-0.1111111111111111,-0.037037037037037035,\"\",-0.1111111111111111,0.4074074074074074,\"\",-0.1111111111111111,0.48148148148148145,\"\",0.4074074074074074,0.48148148148148145,\"\",0.4074074074074074,0.48148148148148145,\"\",-0.6296296296296297,-0.5555555555555556,\"\",0.7777777777777778,0.8518518518518519,\"\",0.48148148148148145,0.5555555555555556,\"\",0.48148148148148145,0.8518518518518519,\"\",0.4074074074074074,0.48148148148148145,\"\",0.5555555555555556,0.8518518518518519,\"\",0.5555555555555556,0.6296296296296297,\"\",0.6296296296296297,0.7777777777777778,\"\",0.48148148148148145,0.5555555555555556,\"\",0.7037037037037037,0.7777777777777778,\"\",-0.3333333333333333,-0.037037037037037035,\"\",-0.48148148148148145,-0.4074074074074074,\"\",-0.18518518518518517,0.48148148148148145,\"\",-0.4074074074074074,-0.037037037037037035,\"\",-0.48148148148148145,-0.4074074074074074,\"\"],\"y\":[-0.5302325581395348,-0.627906976744186,\"\",-0.5302325581395348,-0.10232558139534884,\"\",-0.627906976744186,-0.5674418604651162,\"\",-0.627906976744186,-0.40930232558139534,\"\",-0.627906976744186,-1.0,\"\",0.4930232558139535,-0.627906976744186,\"\",0.4930232558139535,0.4883720930232558,\"\",0.4930232558139535,1.0,\"\",-0.9255813953488372,-0.627906976744186,\"\",-0.9255813953488372,-0.10232558139534884,\"\",0.10697674418604651,-0.5302325581395348,\"\",0.10697674418604651,0.4930232558139535,\"\",0.10697674418604651,-0.9255813953488372,\"\",0.10697674418604651,-0.10697674418604651,\"\",0.10697674418604651,-0.09302325581395349,\"\",0.10697674418604651,0.4883720930232558,\"\",-0.10697674418604651,-0.5302325581395348,\"\",-0.10697674418604651,0.4930232558139535,\"\",-0.10697674418604651,-0.9255813953488372,\"\",-0.10697674418604651,-0.19534883720930232,\"\",-0.10697674418604651,-0.09302325581395349,\"\",-0.19534883720930232,-0.19534883720930232,\"\",-0.19534883720930232,-0.09302325581395349,\"\",-0.09302325581395349,-0.627906976744186,\"\",-0.09302325581395349,-0.10232558139534884,\"\",-0.09302325581395349,0.7441860465116279,\"\",0.827906976744186,0.5627906976744186,\"\",0.5627906976744186,0.20465116279069767,\"\",0.5627906976744186,0.5627906976744186,\"\",0.20465116279069767,0.023255813953488372,\"\",-0.39069767441860465,-0.3023255813953488,\"\",-0.3023255813953488,-0.39069767441860465,\"\",-0.3023255813953488,-0.26046511627906976,\"\",-0.2,-0.39069767441860465,\"\",-0.2,-0.3023255813953488,\"\",-0.2,-0.26046511627906976,\"\",-0.39069767441860465,-0.26046511627906976,\"\",-0.26046511627906976,-0.40930232558139534,\"\",-0.26046511627906976,-0.7441860465116279,\"\",-0.26046511627906976,0.31627906976744186,\"\",-0.5674418604651162,-0.2,\"\",-0.40930232558139534,-0.4511627906976744,\"\",-0.9255813953488372,-0.8465116279069768,\"\",-0.9255813953488372,-0.5116279069767442,\"\",-0.9255813953488372,-0.8465116279069768,\"\",0.023255813953488372,0.0,\"\",0.023255813953488372,-0.5116279069767442,\"\",0.023255813953488372,0.0,\"\",-0.8465116279069768,-0.4232558139534884,\"\",-0.8465116279069768,-0.8465116279069768,\"\",-0.5116279069767442,0.0,\"\",-0.5116279069767442,-0.4232558139534884,\"\",-0.5116279069767442,-0.8465116279069768,\"\",0.0,0.0,\"\",0.0,-0.4232558139534884,\"\",-0.4,-0.8465116279069768,\"\",-0.4,-0.5116279069767442,\"\",-0.4,0.0,\"\",-0.4,-0.4232558139534884,\"\",-0.7441860465116279,-1.0,\"\",-0.7441860465116279,-0.4604651162790698,\"\",-1.0,-0.9720930232558139,\"\",-0.9720930232558139,-0.9720930232558139,\"\",-0.8232558139534883,-0.5674418604651162,\"\",-0.8232558139534883,-0.40930232558139534,\"\",-0.8232558139534883,-1.0,\"\",-0.2930232558139535,-0.8232558139534883,\"\",-0.2930232558139535,0.13953488372093023,\"\",-0.2930232558139535,-0.11627906976744186,\"\",0.04186046511627907,0.13953488372093023,\"\",0.04186046511627907,-0.11627906976744186,\"\",0.13953488372093023,-0.11627906976744186,\"\",0.13953488372093023,-0.018604651162790697,\"\",0.4883720930232558,0.23255813953488372,\"\",0.4883720930232558,0.5116279069767442,\"\",0.4883720930232558,-0.10232558139534884,\"\",-0.08837209302325581,0.04186046511627907,\"\",-0.08837209302325581,-0.2558139534883721,\"\",-0.10232558139534884,-0.10232558139534884,\"\",-0.2558139534883721,-0.2930232558139535,\"\",0.23255813953488372,0.23255813953488372,\"\",-0.11627906976744186,0.827906976744186,\"\",-0.11627906976744186,-0.5674418604651162,\"\",-0.11627906976744186,-0.40930232558139534,\"\",-0.11627906976744186,-1.0,\"\",-0.018604651162790697,-0.11627906976744186,\"\",-0.018604651162790697,0.2186046511627907,\"\",-0.10232558139534884,-0.10232558139534884,\"\",-0.9720930232558139,-0.9255813953488372,\"\",-0.11627906976744186,-0.4418604651162791,\"\",-0.11627906976744186,-0.4,\"\",0.31627906976744186,0.5627906976744186,\"\",-0.9720930232558139,-0.4,\"\",-0.9720930232558139,-0.9720930232558139,\"\",-0.4604651162790698,-0.9720930232558139,\"\",-0.4511627906976744,-0.4418604651162791,\"\",-0.9720930232558139,-0.9720930232558139,\"\",0.7441860465116279,0.827906976744186,\"\",-0.10232558139534884,-0.08837209302325581,\"\",0.5116279069767442,0.5627906976744186,\"\",1.0,0.827906976744186,\"\",0.23255813953488372,-0.08837209302325581,\"\"],\"type\":\"scatter\",\"uid\":\"e320bfee-ef28-4107-807a-176dfc39a1fb\"},{\"hoverinfo\":\"text\",\"marker\":{\"color\":\"red\",\"reversescale\":true,\"showscale\":false,\"size\":15},\"mode\":\"markers\",\"showlegend\":false,\"text\":[\"arbeitsl_v_beitr_m\",\"sozialv_beitr_gesamt_m\",\"ges_rentenv_beitr_m\",\"ges_pflegev_beitr_m\",\"geringf\\u00fcgig_besch\\u00e4ftigt\",\"in_gleitzone\",\"_ges_krankenv_midi_job_arbeitg_m\",\"_ges_krankenv_midi_job_arbeitn_m\",\"ges_krankenv_beitr_m\",\"wohngeld_abz\\u00fcge_m_tu\",\"wohngeld_eink_m\",\"wohngeld_eink_vor_abzug_m_tu\",\"wohngeld_m_hh\",\"wohngeld_vor_verm\\u00f6g_check_m_hh\",\"elterngeld_anteil_eink_erlass\",\"elterngeld_eink_erlass_m\",\"elterngeld_eink_relev_m\",\"elterngeld_geschw_bonus_m\",\"elterngeld_m\",\"elterngeld_nettolohn_m\",\"grunds_im_alter_eink_m\",\"grunds_im_alter_m_hh\",\"_kinderzuschl_nach_verm\\u00f6g_check_m_hh\",\"wohngeld_nach_verm\\u00f6g_check_m_hh\",\"kinderzuschl_vorrang_hh\",\"wohngeld_kinderzuschl_vorrang_hh\",\"wohngeld_vorrang_hh\",\"arbeitsl_geld_2_m_hh\",\"arbeitsl_geld_2_vor_vorrang_m_hh\",\"arbeitsl_geld_2_brutto_eink_m\",\"arbeitsl_geld_2_eink_m\",\"kinderzuschl_eink_anrechn_m\",\"kinderzuschl_m_hh\",\"soli_st_tu\",\"eink_st_mit_kinderfreib_tu\",\"eink_st_ohne_kinderfreib_tu\",\"kinderfreib_g\\u00fcnstiger_tu\",\"eink_abh\\u00e4ngig_besch\\u00e4ftigt\",\"vorsorgeaufw_alter_ab_2005\",\"_zu_verst_eink_ohne_kinderfreib_tu\",\"freibetr\\u00e4ge\",\"zu_verst_eink_mit_kinderfreib_tu\",\"sum_eink\",\"eink_st_tu\",\"kindergeld_m\",\"vorsorgeaufw\",\"_kinderzuschl_vor_verm\\u00f6g_check_m_hh\",\"kindergeld_m_hh\",\"elterngeld_m_tu\",\"arbeitsl_geld_2_eink_m_hh\",\"arbeitsl_geld_2_brutto_eink_m_hh\",\"grunds_im_alter_eink_m_hh\",\"kindergeld_m_tu\",\"kinderzuschl_eink_anrechn_m_hh\",\"ges_krankenv_beitr_m_tu\",\"freibetr\\u00e4ge_tu\",\"eink_abh\\u00e4ngig_besch\\u00e4ftigt_tu\",\"ges_rentenv_beitr_m_tu\",\"sum_eink_tu\"],\"textposition\":\"bottom center\",\"x\":[-0.8518518518518519,-0.6296296296296297,-0.7777777777777778,-0.7777777777777778,-1.0,-0.9259259259259259,-0.8518518518518519,-0.7777777777777778,-0.7037037037037037,-0.037037037037037035,0.5555555555555556,0.48148148148148145,1.0,0.7037037037037037,0.1111111111111111,0.18518518518518517,0.037037037037037035,0.25925925925925924,0.3333333333333333,-0.037037037037037035,0.4074074074074074,0.5555555555555556,0.8518518518518519,0.8518518518518519,0.9259259259259259,0.9259259259259259,0.9259259259259259,1.0,0.8518518518518519,0.4074074074074074,0.48148148148148145,0.6296296296296297,1.0,-0.1111111111111111,-0.25925925925925924,-0.25925925925925924,-0.18518518518518517,-0.6296296296296297,-0.7037037037037037,-0.4074074074074074,-0.5555555555555556,-0.3333333333333333,-0.5555555555555556,-0.1111111111111111,0.4074074074074074,-0.6296296296296297,0.7777777777777778,0.48148148148148145,0.4074074074074074,0.5555555555555556,0.6296296296296297,0.48148148148148145,0.48148148148148145,0.7037037037037037,-0.3333333333333333,-0.48148148148148145,-0.18518518518518517,-0.4074074074074074,-0.48148148148148145],\"y\":[-0.5302325581395348,-0.627906976744186,0.4930232558139535,-0.9255813953488372,0.10697674418604651,-0.10697674418604651,-0.19534883720930232,-0.19534883720930232,-0.09302325581395349,0.827906976744186,0.5627906976744186,0.5627906976744186,0.0,0.20465116279069767,-0.39069767441860465,-0.3023255813953488,-0.2,-0.39069767441860465,-0.26046511627906976,-0.5674418604651162,-0.40930232558139534,-0.4418604651162791,-0.9255813953488372,0.023255813953488372,-0.8465116279069768,-0.5116279069767442,0.0,-0.4232558139534884,-0.4,-0.7441860465116279,-1.0,-0.9720930232558139,-0.8465116279069768,-0.8232558139534883,-0.2930232558139535,0.04186046511627907,0.13953488372093023,0.4883720930232558,0.4883720930232558,-0.08837209302325581,-0.10232558139534884,-0.2558139534883721,0.23255813953488372,-0.11627906976744186,-0.018604651162790697,-0.10232558139534884,-0.9720930232558139,-0.11627906976744186,0.31627906976744186,-0.9720930232558139,-0.4604651162790698,-0.4511627906976744,0.2186046511627907,-0.9720930232558139,0.7441860465116279,-0.10232558139534884,0.5116279069767442,1.0,0.23255813953488372],\"type\":\"scatter\",\"uid\":\"4904accc-a9d8-4cdb-b5bc-338f72968d97\"},{\"hoverinfo\":\"skip\",\"marker\":{\"color\":\"red\",\"reversescale\":true,\"showscale\":false,\"size\":15},\"mode\":\"markers\",\"showlegend\":false,\"text\":[\"arbeitsl_v_beitr_m\",\"sozialv_beitr_gesamt_m\",\"ges_rentenv_beitr_m\",\"ges_pflegev_beitr_m\",\"geringf\\u00fcgig_besch\\u00e4ftigt\",\"in_gleitzone\",\"_ges_krankenv_midi_job_arbeitg_m\",\"_ges_krankenv_midi_job_arbeitn_m\",\"ges_krankenv_beitr_m\",\"wohngeld_abz\\u00fcge_m_tu\",\"wohngeld_eink_m\",\"wohngeld_eink_vor_abzug_m_tu\",\"wohngeld_m_hh\",\"wohngeld_vor_verm\\u00f6g_check_m_hh\",\"elterngeld_anteil_eink_erlass\",\"elterngeld_eink_erlass_m\",\"elterngeld_eink_relev_m\",\"elterngeld_geschw_bonus_m\",\"elterngeld_m\",\"elterngeld_nettolohn_m\",\"grunds_im_alter_eink_m\",\"grunds_im_alter_m_hh\",\"_kinderzuschl_nach_verm\\u00f6g_check_m_hh\",\"wohngeld_nach_verm\\u00f6g_check_m_hh\",\"kinderzuschl_vorrang_hh\",\"wohngeld_kinderzuschl_vorrang_hh\",\"wohngeld_vorrang_hh\",\"arbeitsl_geld_2_m_hh\",\"arbeitsl_geld_2_vor_vorrang_m_hh\",\"arbeitsl_geld_2_brutto_eink_m\",\"arbeitsl_geld_2_eink_m\",\"kinderzuschl_eink_anrechn_m\",\"kinderzuschl_m_hh\",\"soli_st_tu\",\"eink_st_mit_kinderfreib_tu\",\"eink_st_ohne_kinderfreib_tu\",\"kinderfreib_g\\u00fcnstiger_tu\",\"eink_abh\\u00e4ngig_besch\\u00e4ftigt\",\"vorsorgeaufw_alter_ab_2005\",\"_zu_verst_eink_ohne_kinderfreib_tu\",\"freibetr\\u00e4ge\",\"zu_verst_eink_mit_kinderfreib_tu\",\"sum_eink\",\"eink_st_tu\",\"kindergeld_m\",\"vorsorgeaufw\",\"_kinderzuschl_vor_verm\\u00f6g_check_m_hh\",\"kindergeld_m_hh\",\"elterngeld_m_tu\",\"arbeitsl_geld_2_eink_m_hh\",\"arbeitsl_geld_2_brutto_eink_m_hh\",\"grunds_im_alter_eink_m_hh\",\"kindergeld_m_tu\",\"kinderzuschl_eink_anrechn_m_hh\",\"ges_krankenv_beitr_m_tu\",\"freibetr\\u00e4ge_tu\",\"eink_abh\\u00e4ngig_besch\\u00e4ftigt_tu\",\"ges_rentenv_beitr_m_tu\",\"sum_eink_tu\"],\"textposition\":\"bottom center\",\"x\":[-0.8518518518518519,-0.6296296296296297,-0.7777777777777778,-0.7777777777777778,-1.0,-0.9259259259259259,-0.8518518518518519,-0.7777777777777778,-0.7037037037037037,-0.037037037037037035,0.5555555555555556,0.48148148148148145,1.0,0.7037037037037037,0.1111111111111111,0.18518518518518517,0.037037037037037035,0.25925925925925924,0.3333333333333333,-0.037037037037037035,0.4074074074074074,0.5555555555555556,0.8518518518518519,0.8518518518518519,0.9259259259259259,0.9259259259259259,0.9259259259259259,1.0,0.8518518518518519,0.4074074074074074,0.48148148148148145,0.6296296296296297,1.0,-0.1111111111111111,-0.25925925925925924,-0.25925925925925924,-0.18518518518518517,-0.6296296296296297,-0.7037037037037037,-0.4074074074074074,-0.5555555555555556,-0.3333333333333333,-0.5555555555555556,-0.1111111111111111,0.4074074074074074,-0.6296296296296297,0.7777777777777778,0.48148148148148145,0.4074074074074074,0.5555555555555556,0.6296296296296297,0.48148148148148145,0.48148148148148145,0.7037037037037037,-0.3333333333333333,-0.48148148148148145,-0.18518518518518517,-0.4074074074074074,-0.48148148148148145],\"y\":[-0.5302325581395348,-0.627906976744186,0.4930232558139535,-0.9255813953488372,0.10697674418604651,-0.10697674418604651,-0.19534883720930232,-0.19534883720930232,-0.09302325581395349,0.827906976744186,0.5627906976744186,0.5627906976744186,0.0,0.20465116279069767,-0.39069767441860465,-0.3023255813953488,-0.2,-0.39069767441860465,-0.26046511627906976,-0.5674418604651162,-0.40930232558139534,-0.4418604651162791,-0.9255813953488372,0.023255813953488372,-0.8465116279069768,-0.5116279069767442,0.0,-0.4232558139534884,-0.4,-0.7441860465116279,-1.0,-0.9720930232558139,-0.8465116279069768,-0.8232558139534883,-0.2930232558139535,0.04186046511627907,0.13953488372093023,0.4883720930232558,0.4883720930232558,-0.08837209302325581,-0.10232558139534884,-0.2558139534883721,0.23255813953488372,-0.11627906976744186,-0.018604651162790697,-0.10232558139534884,-0.9720930232558139,-0.11627906976744186,0.31627906976744186,-0.9720930232558139,-0.4604651162790698,-0.4511627906976744,0.2186046511627907,-0.9720930232558139,0.7441860465116279,-0.10232558139534884,0.5116279069767442,1.0,0.23255813953488372],\"type\":\"scatter\",\"uid\":\"902d83ba-a954-4d20-af62-242848fe8ae8\"}],                        {\"annotations\":[{\"arrowcolor\":\"gray\",\"arrowhead\":2,\"arrowsize\":2,\"ax\":-0.8518518518518519,\"axref\":\"x\",\"ay\":-0.5302325581395348,\"ayref\":\"y\",\"showarrow\":true,\"standoff\":5,\"startstandoff\":5,\"text\":\"\",\"x\":-0.6296296296296297,\"xref\":\"x\",\"y\":-0.627906976744186,\"yref\":\"y\"},{\"arrowcolor\":\"gray\",\"arrowhead\":2,\"arrowsize\":2,\"ax\":-0.8518518518518519,\"axref\":\"x\",\"ay\":-0.5302325581395348,\"ayref\":\"y\",\"showarrow\":true,\"standoff\":5,\"startstandoff\":5,\"text\":\"\",\"x\":-0.6296296296296297,\"xref\":\"x\",\"y\":-0.10232558139534884,\"yref\":\"y\"},{\"arrowcolor\":\"gray\",\"arrowhead\":2,\"arrowsize\":2,\"ax\":-0.6296296296296297,\"axref\":\"x\",\"ay\":-0.627906976744186,\"ayref\":\"y\",\"showarrow\":true,\"standoff\":5,\"startstandoff\":5,\"text\":\"\",\"x\":-0.037037037037037035,\"xref\":\"x\",\"y\":-0.5674418604651162,\"yref\":\"y\"},{\"arrowcolor\":\"gray\",\"arrowhead\":2,\"arrowsize\":2,\"ax\":-0.6296296296296297,\"axref\":\"x\",\"ay\":-0.627906976744186,\"ayref\":\"y\",\"showarrow\":true,\"standoff\":5,\"startstandoff\":5,\"text\":\"\",\"x\":0.4074074074074074,\"xref\":\"x\",\"y\":-0.40930232558139534,\"yref\":\"y\"},{\"arrowcolor\":\"gray\",\"arrowhead\":2,\"arrowsize\":2,\"ax\":-0.6296296296296297,\"axref\":\"x\",\"ay\":-0.627906976744186,\"ayref\":\"y\",\"showarrow\":true,\"standoff\":5,\"startstandoff\":5,\"text\":\"\",\"x\":0.48148148148148145,\"xref\":\"x\",\"y\":-1.0,\"yref\":\"y\"},{\"arrowcolor\":\"gray\",\"arrowhead\":2,\"arrowsize\":2,\"ax\":-0.7777777777777778,\"axref\":\"x\",\"ay\":0.4930232558139535,\"ayref\":\"y\",\"showarrow\":true,\"standoff\":5,\"startstandoff\":5,\"text\":\"\",\"x\":-0.6296296296296297,\"xref\":\"x\",\"y\":-0.627906976744186,\"yref\":\"y\"},{\"arrowcolor\":\"gray\",\"arrowhead\":2,\"arrowsize\":2,\"ax\":-0.7777777777777778,\"axref\":\"x\",\"ay\":0.4930232558139535,\"ayref\":\"y\",\"showarrow\":true,\"standoff\":5,\"startstandoff\":5,\"text\":\"\",\"x\":-0.7037037037037037,\"xref\":\"x\",\"y\":0.4883720930232558,\"yref\":\"y\"},{\"arrowcolor\":\"gray\",\"arrowhead\":2,\"arrowsize\":2,\"ax\":-0.7777777777777778,\"axref\":\"x\",\"ay\":0.4930232558139535,\"ayref\":\"y\",\"showarrow\":true,\"standoff\":5,\"startstandoff\":5,\"text\":\"\",\"x\":-0.4074074074074074,\"xref\":\"x\",\"y\":1.0,\"yref\":\"y\"},{\"arrowcolor\":\"gray\",\"arrowhead\":2,\"arrowsize\":2,\"ax\":-0.7777777777777778,\"axref\":\"x\",\"ay\":-0.9255813953488372,\"ayref\":\"y\",\"showarrow\":true,\"standoff\":5,\"startstandoff\":5,\"text\":\"\",\"x\":-0.6296296296296297,\"xref\":\"x\",\"y\":-0.627906976744186,\"yref\":\"y\"},{\"arrowcolor\":\"gray\",\"arrowhead\":2,\"arrowsize\":2,\"ax\":-0.7777777777777778,\"axref\":\"x\",\"ay\":-0.9255813953488372,\"ayref\":\"y\",\"showarrow\":true,\"standoff\":5,\"startstandoff\":5,\"text\":\"\",\"x\":-0.6296296296296297,\"xref\":\"x\",\"y\":-0.10232558139534884,\"yref\":\"y\"},{\"arrowcolor\":\"gray\",\"arrowhead\":2,\"arrowsize\":2,\"ax\":-1.0,\"axref\":\"x\",\"ay\":0.10697674418604651,\"ayref\":\"y\",\"showarrow\":true,\"standoff\":5,\"startstandoff\":5,\"text\":\"\",\"x\":-0.8518518518518519,\"xref\":\"x\",\"y\":-0.5302325581395348,\"yref\":\"y\"},{\"arrowcolor\":\"gray\",\"arrowhead\":2,\"arrowsize\":2,\"ax\":-1.0,\"axref\":\"x\",\"ay\":0.10697674418604651,\"ayref\":\"y\",\"showarrow\":true,\"standoff\":5,\"startstandoff\":5,\"text\":\"\",\"x\":-0.7777777777777778,\"xref\":\"x\",\"y\":0.4930232558139535,\"yref\":\"y\"},{\"arrowcolor\":\"gray\",\"arrowhead\":2,\"arrowsize\":2,\"ax\":-1.0,\"axref\":\"x\",\"ay\":0.10697674418604651,\"ayref\":\"y\",\"showarrow\":true,\"standoff\":5,\"startstandoff\":5,\"text\":\"\",\"x\":-0.7777777777777778,\"xref\":\"x\",\"y\":-0.9255813953488372,\"yref\":\"y\"},{\"arrowcolor\":\"gray\",\"arrowhead\":2,\"arrowsize\":2,\"ax\":-1.0,\"axref\":\"x\",\"ay\":0.10697674418604651,\"ayref\":\"y\",\"showarrow\":true,\"standoff\":5,\"startstandoff\":5,\"text\":\"\",\"x\":-0.9259259259259259,\"xref\":\"x\",\"y\":-0.10697674418604651,\"yref\":\"y\"},{\"arrowcolor\":\"gray\",\"arrowhead\":2,\"arrowsize\":2,\"ax\":-1.0,\"axref\":\"x\",\"ay\":0.10697674418604651,\"ayref\":\"y\",\"showarrow\":true,\"standoff\":5,\"startstandoff\":5,\"text\":\"\",\"x\":-0.7037037037037037,\"xref\":\"x\",\"y\":-0.09302325581395349,\"yref\":\"y\"},{\"arrowcolor\":\"gray\",\"arrowhead\":2,\"arrowsize\":2,\"ax\":-1.0,\"axref\":\"x\",\"ay\":0.10697674418604651,\"ayref\":\"y\",\"showarrow\":true,\"standoff\":5,\"startstandoff\":5,\"text\":\"\",\"x\":-0.6296296296296297,\"xref\":\"x\",\"y\":0.4883720930232558,\"yref\":\"y\"},{\"arrowcolor\":\"gray\",\"arrowhead\":2,\"arrowsize\":2,\"ax\":-0.9259259259259259,\"axref\":\"x\",\"ay\":-0.10697674418604651,\"ayref\":\"y\",\"showarrow\":true,\"standoff\":5,\"startstandoff\":5,\"text\":\"\",\"x\":-0.8518518518518519,\"xref\":\"x\",\"y\":-0.5302325581395348,\"yref\":\"y\"},{\"arrowcolor\":\"gray\",\"arrowhead\":2,\"arrowsize\":2,\"ax\":-0.9259259259259259,\"axref\":\"x\",\"ay\":-0.10697674418604651,\"ayref\":\"y\",\"showarrow\":true,\"standoff\":5,\"startstandoff\":5,\"text\":\"\",\"x\":-0.7777777777777778,\"xref\":\"x\",\"y\":0.4930232558139535,\"yref\":\"y\"},{\"arrowcolor\":\"gray\",\"arrowhead\":2,\"arrowsize\":2,\"ax\":-0.9259259259259259,\"axref\":\"x\",\"ay\":-0.10697674418604651,\"ayref\":\"y\",\"showarrow\":true,\"standoff\":5,\"startstandoff\":5,\"text\":\"\",\"x\":-0.7777777777777778,\"xref\":\"x\",\"y\":-0.9255813953488372,\"yref\":\"y\"},{\"arrowcolor\":\"gray\",\"arrowhead\":2,\"arrowsize\":2,\"ax\":-0.9259259259259259,\"axref\":\"x\",\"ay\":-0.10697674418604651,\"ayref\":\"y\",\"showarrow\":true,\"standoff\":5,\"startstandoff\":5,\"text\":\"\",\"x\":-0.8518518518518519,\"xref\":\"x\",\"y\":-0.19534883720930232,\"yref\":\"y\"},{\"arrowcolor\":\"gray\",\"arrowhead\":2,\"arrowsize\":2,\"ax\":-0.9259259259259259,\"axref\":\"x\",\"ay\":-0.10697674418604651,\"ayref\":\"y\",\"showarrow\":true,\"standoff\":5,\"startstandoff\":5,\"text\":\"\",\"x\":-0.7037037037037037,\"xref\":\"x\",\"y\":-0.09302325581395349,\"yref\":\"y\"},{\"arrowcolor\":\"gray\",\"arrowhead\":2,\"arrowsize\":2,\"ax\":-0.8518518518518519,\"axref\":\"x\",\"ay\":-0.19534883720930232,\"ayref\":\"y\",\"showarrow\":true,\"standoff\":5,\"startstandoff\":5,\"text\":\"\",\"x\":-0.7777777777777778,\"xref\":\"x\",\"y\":-0.19534883720930232,\"yref\":\"y\"},{\"arrowcolor\":\"gray\",\"arrowhead\":2,\"arrowsize\":2,\"ax\":-0.7777777777777778,\"axref\":\"x\",\"ay\":-0.19534883720930232,\"ayref\":\"y\",\"showarrow\":true,\"standoff\":5,\"startstandoff\":5,\"text\":\"\",\"x\":-0.7037037037037037,\"xref\":\"x\",\"y\":-0.09302325581395349,\"yref\":\"y\"},{\"arrowcolor\":\"gray\",\"arrowhead\":2,\"arrowsize\":2,\"ax\":-0.7037037037037037,\"axref\":\"x\",\"ay\":-0.09302325581395349,\"ayref\":\"y\",\"showarrow\":true,\"standoff\":5,\"startstandoff\":5,\"text\":\"\",\"x\":-0.6296296296296297,\"xref\":\"x\",\"y\":-0.627906976744186,\"yref\":\"y\"},{\"arrowcolor\":\"gray\",\"arrowhead\":2,\"arrowsize\":2,\"ax\":-0.7037037037037037,\"axref\":\"x\",\"ay\":-0.09302325581395349,\"ayref\":\"y\",\"showarrow\":true,\"standoff\":5,\"startstandoff\":5,\"text\":\"\",\"x\":-0.6296296296296297,\"xref\":\"x\",\"y\":-0.10232558139534884,\"yref\":\"y\"},{\"arrowcolor\":\"gray\",\"arrowhead\":2,\"arrowsize\":2,\"ax\":-0.7037037037037037,\"axref\":\"x\",\"ay\":-0.09302325581395349,\"ayref\":\"y\",\"showarrow\":true,\"standoff\":5,\"startstandoff\":5,\"text\":\"\",\"x\":-0.3333333333333333,\"xref\":\"x\",\"y\":0.7441860465116279,\"yref\":\"y\"},{\"arrowcolor\":\"gray\",\"arrowhead\":2,\"arrowsize\":2,\"ax\":-0.037037037037037035,\"axref\":\"x\",\"ay\":0.827906976744186,\"ayref\":\"y\",\"showarrow\":true,\"standoff\":5,\"startstandoff\":5,\"text\":\"\",\"x\":0.5555555555555556,\"xref\":\"x\",\"y\":0.5627906976744186,\"yref\":\"y\"},{\"arrowcolor\":\"gray\",\"arrowhead\":2,\"arrowsize\":2,\"ax\":0.5555555555555556,\"axref\":\"x\",\"ay\":0.5627906976744186,\"ayref\":\"y\",\"showarrow\":true,\"standoff\":5,\"startstandoff\":5,\"text\":\"\",\"x\":0.7037037037037037,\"xref\":\"x\",\"y\":0.20465116279069767,\"yref\":\"y\"},{\"arrowcolor\":\"gray\",\"arrowhead\":2,\"arrowsize\":2,\"ax\":0.48148148148148145,\"axref\":\"x\",\"ay\":0.5627906976744186,\"ayref\":\"y\",\"showarrow\":true,\"standoff\":5,\"startstandoff\":5,\"text\":\"\",\"x\":0.5555555555555556,\"xref\":\"x\",\"y\":0.5627906976744186,\"yref\":\"y\"},{\"arrowcolor\":\"gray\",\"arrowhead\":2,\"arrowsize\":2,\"ax\":0.7037037037037037,\"axref\":\"x\",\"ay\":0.20465116279069767,\"ayref\":\"y\",\"showarrow\":true,\"standoff\":5,\"startstandoff\":5,\"text\":\"\",\"x\":0.8518518518518519,\"xref\":\"x\",\"y\":0.023255813953488372,\"yref\":\"y\"},{\"arrowcolor\":\"gray\",\"arrowhead\":2,\"arrowsize\":2,\"ax\":0.1111111111111111,\"axref\":\"x\",\"ay\":-0.39069767441860465,\"ayref\":\"y\",\"showarrow\":true,\"standoff\":5,\"startstandoff\":5,\"text\":\"\",\"x\":0.18518518518518517,\"xref\":\"x\",\"y\":-0.3023255813953488,\"yref\":\"y\"},{\"arrowcolor\":\"gray\",\"arrowhead\":2,\"arrowsize\":2,\"ax\":0.18518518518518517,\"axref\":\"x\",\"ay\":-0.3023255813953488,\"ayref\":\"y\",\"showarrow\":true,\"standoff\":5,\"startstandoff\":5,\"text\":\"\",\"x\":0.25925925925925924,\"xref\":\"x\",\"y\":-0.39069767441860465,\"yref\":\"y\"},{\"arrowcolor\":\"gray\",\"arrowhead\":2,\"arrowsize\":2,\"ax\":0.18518518518518517,\"axref\":\"x\",\"ay\":-0.3023255813953488,\"ayref\":\"y\",\"showarrow\":true,\"standoff\":5,\"startstandoff\":5,\"text\":\"\",\"x\":0.3333333333333333,\"xref\":\"x\",\"y\":-0.26046511627906976,\"yref\":\"y\"},{\"arrowcolor\":\"gray\",\"arrowhead\":2,\"arrowsize\":2,\"ax\":0.037037037037037035,\"axref\":\"x\",\"ay\":-0.2,\"ayref\":\"y\",\"showarrow\":true,\"standoff\":5,\"startstandoff\":5,\"text\":\"\",\"x\":0.1111111111111111,\"xref\":\"x\",\"y\":-0.39069767441860465,\"yref\":\"y\"},{\"arrowcolor\":\"gray\",\"arrowhead\":2,\"arrowsize\":2,\"ax\":0.037037037037037035,\"axref\":\"x\",\"ay\":-0.2,\"ayref\":\"y\",\"showarrow\":true,\"standoff\":5,\"startstandoff\":5,\"text\":\"\",\"x\":0.18518518518518517,\"xref\":\"x\",\"y\":-0.3023255813953488,\"yref\":\"y\"},{\"arrowcolor\":\"gray\",\"arrowhead\":2,\"arrowsize\":2,\"ax\":0.037037037037037035,\"axref\":\"x\",\"ay\":-0.2,\"ayref\":\"y\",\"showarrow\":true,\"standoff\":5,\"startstandoff\":5,\"text\":\"\",\"x\":0.3333333333333333,\"xref\":\"x\",\"y\":-0.26046511627906976,\"yref\":\"y\"},{\"arrowcolor\":\"gray\",\"arrowhead\":2,\"arrowsize\":2,\"ax\":0.25925925925925924,\"axref\":\"x\",\"ay\":-0.39069767441860465,\"ayref\":\"y\",\"showarrow\":true,\"standoff\":5,\"startstandoff\":5,\"text\":\"\",\"x\":0.3333333333333333,\"xref\":\"x\",\"y\":-0.26046511627906976,\"yref\":\"y\"},{\"arrowcolor\":\"gray\",\"arrowhead\":2,\"arrowsize\":2,\"ax\":0.3333333333333333,\"axref\":\"x\",\"ay\":-0.26046511627906976,\"ayref\":\"y\",\"showarrow\":true,\"standoff\":5,\"startstandoff\":5,\"text\":\"\",\"x\":0.4074074074074074,\"xref\":\"x\",\"y\":-0.40930232558139534,\"yref\":\"y\"},{\"arrowcolor\":\"gray\",\"arrowhead\":2,\"arrowsize\":2,\"ax\":0.3333333333333333,\"axref\":\"x\",\"ay\":-0.26046511627906976,\"ayref\":\"y\",\"showarrow\":true,\"standoff\":5,\"startstandoff\":5,\"text\":\"\",\"x\":0.4074074074074074,\"xref\":\"x\",\"y\":-0.7441860465116279,\"yref\":\"y\"},{\"arrowcolor\":\"gray\",\"arrowhead\":2,\"arrowsize\":2,\"ax\":0.3333333333333333,\"axref\":\"x\",\"ay\":-0.26046511627906976,\"ayref\":\"y\",\"showarrow\":true,\"standoff\":5,\"startstandoff\":5,\"text\":\"\",\"x\":0.4074074074074074,\"xref\":\"x\",\"y\":0.31627906976744186,\"yref\":\"y\"},{\"arrowcolor\":\"gray\",\"arrowhead\":2,\"arrowsize\":2,\"ax\":-0.037037037037037035,\"axref\":\"x\",\"ay\":-0.5674418604651162,\"ayref\":\"y\",\"showarrow\":true,\"standoff\":5,\"startstandoff\":5,\"text\":\"\",\"x\":0.037037037037037035,\"xref\":\"x\",\"y\":-0.2,\"yref\":\"y\"},{\"arrowcolor\":\"gray\",\"arrowhead\":2,\"arrowsize\":2,\"ax\":0.4074074074074074,\"axref\":\"x\",\"ay\":-0.40930232558139534,\"ayref\":\"y\",\"showarrow\":true,\"standoff\":5,\"startstandoff\":5,\"text\":\"\",\"x\":0.48148148148148145,\"xref\":\"x\",\"y\":-0.4511627906976744,\"yref\":\"y\"},{\"arrowcolor\":\"gray\",\"arrowhead\":2,\"arrowsize\":2,\"ax\":0.8518518518518519,\"axref\":\"x\",\"ay\":-0.9255813953488372,\"ayref\":\"y\",\"showarrow\":true,\"standoff\":5,\"startstandoff\":5,\"text\":\"\",\"x\":0.9259259259259259,\"xref\":\"x\",\"y\":-0.8465116279069768,\"yref\":\"y\"},{\"arrowcolor\":\"gray\",\"arrowhead\":2,\"arrowsize\":2,\"ax\":0.8518518518518519,\"axref\":\"x\",\"ay\":-0.9255813953488372,\"ayref\":\"y\",\"showarrow\":true,\"standoff\":5,\"startstandoff\":5,\"text\":\"\",\"x\":0.9259259259259259,\"xref\":\"x\",\"y\":-0.5116279069767442,\"yref\":\"y\"},{\"arrowcolor\":\"gray\",\"arrowhead\":2,\"arrowsize\":2,\"ax\":0.8518518518518519,\"axref\":\"x\",\"ay\":-0.9255813953488372,\"ayref\":\"y\",\"showarrow\":true,\"standoff\":5,\"startstandoff\":5,\"text\":\"\",\"x\":1.0,\"xref\":\"x\",\"y\":-0.8465116279069768,\"yref\":\"y\"},{\"arrowcolor\":\"gray\",\"arrowhead\":2,\"arrowsize\":2,\"ax\":0.8518518518518519,\"axref\":\"x\",\"ay\":0.023255813953488372,\"ayref\":\"y\",\"showarrow\":true,\"standoff\":5,\"startstandoff\":5,\"text\":\"\",\"x\":1.0,\"xref\":\"x\",\"y\":0.0,\"yref\":\"y\"},{\"arrowcolor\":\"gray\",\"arrowhead\":2,\"arrowsize\":2,\"ax\":0.8518518518518519,\"axref\":\"x\",\"ay\":0.023255813953488372,\"ayref\":\"y\",\"showarrow\":true,\"standoff\":5,\"startstandoff\":5,\"text\":\"\",\"x\":0.9259259259259259,\"xref\":\"x\",\"y\":-0.5116279069767442,\"yref\":\"y\"},{\"arrowcolor\":\"gray\",\"arrowhead\":2,\"arrowsize\":2,\"ax\":0.8518518518518519,\"axref\":\"x\",\"ay\":0.023255813953488372,\"ayref\":\"y\",\"showarrow\":true,\"standoff\":5,\"startstandoff\":5,\"text\":\"\",\"x\":0.9259259259259259,\"xref\":\"x\",\"y\":0.0,\"yref\":\"y\"},{\"arrowcolor\":\"gray\",\"arrowhead\":2,\"arrowsize\":2,\"ax\":0.9259259259259259,\"axref\":\"x\",\"ay\":-0.8465116279069768,\"ayref\":\"y\",\"showarrow\":true,\"standoff\":5,\"startstandoff\":5,\"text\":\"\",\"x\":1.0,\"xref\":\"x\",\"y\":-0.4232558139534884,\"yref\":\"y\"},{\"arrowcolor\":\"gray\",\"arrowhead\":2,\"arrowsize\":2,\"ax\":0.9259259259259259,\"axref\":\"x\",\"ay\":-0.8465116279069768,\"ayref\":\"y\",\"showarrow\":true,\"standoff\":5,\"startstandoff\":5,\"text\":\"\",\"x\":1.0,\"xref\":\"x\",\"y\":-0.8465116279069768,\"yref\":\"y\"},{\"arrowcolor\":\"gray\",\"arrowhead\":2,\"arrowsize\":2,\"ax\":0.9259259259259259,\"axref\":\"x\",\"ay\":-0.5116279069767442,\"ayref\":\"y\",\"showarrow\":true,\"standoff\":5,\"startstandoff\":5,\"text\":\"\",\"x\":1.0,\"xref\":\"x\",\"y\":0.0,\"yref\":\"y\"},{\"arrowcolor\":\"gray\",\"arrowhead\":2,\"arrowsize\":2,\"ax\":0.9259259259259259,\"axref\":\"x\",\"ay\":-0.5116279069767442,\"ayref\":\"y\",\"showarrow\":true,\"standoff\":5,\"startstandoff\":5,\"text\":\"\",\"x\":1.0,\"xref\":\"x\",\"y\":-0.4232558139534884,\"yref\":\"y\"},{\"arrowcolor\":\"gray\",\"arrowhead\":2,\"arrowsize\":2,\"ax\":0.9259259259259259,\"axref\":\"x\",\"ay\":-0.5116279069767442,\"ayref\":\"y\",\"showarrow\":true,\"standoff\":5,\"startstandoff\":5,\"text\":\"\",\"x\":1.0,\"xref\":\"x\",\"y\":-0.8465116279069768,\"yref\":\"y\"},{\"arrowcolor\":\"gray\",\"arrowhead\":2,\"arrowsize\":2,\"ax\":0.9259259259259259,\"axref\":\"x\",\"ay\":0.0,\"ayref\":\"y\",\"showarrow\":true,\"standoff\":5,\"startstandoff\":5,\"text\":\"\",\"x\":1.0,\"xref\":\"x\",\"y\":0.0,\"yref\":\"y\"},{\"arrowcolor\":\"gray\",\"arrowhead\":2,\"arrowsize\":2,\"ax\":0.9259259259259259,\"axref\":\"x\",\"ay\":0.0,\"ayref\":\"y\",\"showarrow\":true,\"standoff\":5,\"startstandoff\":5,\"text\":\"\",\"x\":1.0,\"xref\":\"x\",\"y\":-0.4232558139534884,\"yref\":\"y\"},{\"arrowcolor\":\"gray\",\"arrowhead\":2,\"arrowsize\":2,\"ax\":0.8518518518518519,\"axref\":\"x\",\"ay\":-0.4,\"ayref\":\"y\",\"showarrow\":true,\"standoff\":5,\"startstandoff\":5,\"text\":\"\",\"x\":0.9259259259259259,\"xref\":\"x\",\"y\":-0.8465116279069768,\"yref\":\"y\"},{\"arrowcolor\":\"gray\",\"arrowhead\":2,\"arrowsize\":2,\"ax\":0.8518518518518519,\"axref\":\"x\",\"ay\":-0.4,\"ayref\":\"y\",\"showarrow\":true,\"standoff\":5,\"startstandoff\":5,\"text\":\"\",\"x\":0.9259259259259259,\"xref\":\"x\",\"y\":-0.5116279069767442,\"yref\":\"y\"},{\"arrowcolor\":\"gray\",\"arrowhead\":2,\"arrowsize\":2,\"ax\":0.8518518518518519,\"axref\":\"x\",\"ay\":-0.4,\"ayref\":\"y\",\"showarrow\":true,\"standoff\":5,\"startstandoff\":5,\"text\":\"\",\"x\":0.9259259259259259,\"xref\":\"x\",\"y\":0.0,\"yref\":\"y\"},{\"arrowcolor\":\"gray\",\"arrowhead\":2,\"arrowsize\":2,\"ax\":0.8518518518518519,\"axref\":\"x\",\"ay\":-0.4,\"ayref\":\"y\",\"showarrow\":true,\"standoff\":5,\"startstandoff\":5,\"text\":\"\",\"x\":1.0,\"xref\":\"x\",\"y\":-0.4232558139534884,\"yref\":\"y\"},{\"arrowcolor\":\"gray\",\"arrowhead\":2,\"arrowsize\":2,\"ax\":0.4074074074074074,\"axref\":\"x\",\"ay\":-0.7441860465116279,\"ayref\":\"y\",\"showarrow\":true,\"standoff\":5,\"startstandoff\":5,\"text\":\"\",\"x\":0.48148148148148145,\"xref\":\"x\",\"y\":-1.0,\"yref\":\"y\"},{\"arrowcolor\":\"gray\",\"arrowhead\":2,\"arrowsize\":2,\"ax\":0.4074074074074074,\"axref\":\"x\",\"ay\":-0.7441860465116279,\"ayref\":\"y\",\"showarrow\":true,\"standoff\":5,\"startstandoff\":5,\"text\":\"\",\"x\":0.6296296296296297,\"xref\":\"x\",\"y\":-0.4604651162790698,\"yref\":\"y\"},{\"arrowcolor\":\"gray\",\"arrowhead\":2,\"arrowsize\":2,\"ax\":0.48148148148148145,\"axref\":\"x\",\"ay\":-1.0,\"ayref\":\"y\",\"showarrow\":true,\"standoff\":5,\"startstandoff\":5,\"text\":\"\",\"x\":0.5555555555555556,\"xref\":\"x\",\"y\":-0.9720930232558139,\"yref\":\"y\"},{\"arrowcolor\":\"gray\",\"arrowhead\":2,\"arrowsize\":2,\"ax\":0.6296296296296297,\"axref\":\"x\",\"ay\":-0.9720930232558139,\"ayref\":\"y\",\"showarrow\":true,\"standoff\":5,\"startstandoff\":5,\"text\":\"\",\"x\":0.7037037037037037,\"xref\":\"x\",\"y\":-0.9720930232558139,\"yref\":\"y\"},{\"arrowcolor\":\"gray\",\"arrowhead\":2,\"arrowsize\":2,\"ax\":-0.1111111111111111,\"axref\":\"x\",\"ay\":-0.8232558139534883,\"ayref\":\"y\",\"showarrow\":true,\"standoff\":5,\"startstandoff\":5,\"text\":\"\",\"x\":-0.037037037037037035,\"xref\":\"x\",\"y\":-0.5674418604651162,\"yref\":\"y\"},{\"arrowcolor\":\"gray\",\"arrowhead\":2,\"arrowsize\":2,\"ax\":-0.1111111111111111,\"axref\":\"x\",\"ay\":-0.8232558139534883,\"ayref\":\"y\",\"showarrow\":true,\"standoff\":5,\"startstandoff\":5,\"text\":\"\",\"x\":0.4074074074074074,\"xref\":\"x\",\"y\":-0.40930232558139534,\"yref\":\"y\"},{\"arrowcolor\":\"gray\",\"arrowhead\":2,\"arrowsize\":2,\"ax\":-0.1111111111111111,\"axref\":\"x\",\"ay\":-0.8232558139534883,\"ayref\":\"y\",\"showarrow\":true,\"standoff\":5,\"startstandoff\":5,\"text\":\"\",\"x\":0.48148148148148145,\"xref\":\"x\",\"y\":-1.0,\"yref\":\"y\"},{\"arrowcolor\":\"gray\",\"arrowhead\":2,\"arrowsize\":2,\"ax\":-0.25925925925925924,\"axref\":\"x\",\"ay\":-0.2930232558139535,\"ayref\":\"y\",\"showarrow\":true,\"standoff\":5,\"startstandoff\":5,\"text\":\"\",\"x\":-0.1111111111111111,\"xref\":\"x\",\"y\":-0.8232558139534883,\"yref\":\"y\"},{\"arrowcolor\":\"gray\",\"arrowhead\":2,\"arrowsize\":2,\"ax\":-0.25925925925925924,\"axref\":\"x\",\"ay\":-0.2930232558139535,\"ayref\":\"y\",\"showarrow\":true,\"standoff\":5,\"startstandoff\":5,\"text\":\"\",\"x\":-0.18518518518518517,\"xref\":\"x\",\"y\":0.13953488372093023,\"yref\":\"y\"},{\"arrowcolor\":\"gray\",\"arrowhead\":2,\"arrowsize\":2,\"ax\":-0.25925925925925924,\"axref\":\"x\",\"ay\":-0.2930232558139535,\"ayref\":\"y\",\"showarrow\":true,\"standoff\":5,\"startstandoff\":5,\"text\":\"\",\"x\":-0.1111111111111111,\"xref\":\"x\",\"y\":-0.11627906976744186,\"yref\":\"y\"},{\"arrowcolor\":\"gray\",\"arrowhead\":2,\"arrowsize\":2,\"ax\":-0.25925925925925924,\"axref\":\"x\",\"ay\":0.04186046511627907,\"ayref\":\"y\",\"showarrow\":true,\"standoff\":5,\"startstandoff\":5,\"text\":\"\",\"x\":-0.18518518518518517,\"xref\":\"x\",\"y\":0.13953488372093023,\"yref\":\"y\"},{\"arrowcolor\":\"gray\",\"arrowhead\":2,\"arrowsize\":2,\"ax\":-0.25925925925925924,\"axref\":\"x\",\"ay\":0.04186046511627907,\"ayref\":\"y\",\"showarrow\":true,\"standoff\":5,\"startstandoff\":5,\"text\":\"\",\"x\":-0.1111111111111111,\"xref\":\"x\",\"y\":-0.11627906976744186,\"yref\":\"y\"},{\"arrowcolor\":\"gray\",\"arrowhead\":2,\"arrowsize\":2,\"ax\":-0.18518518518518517,\"axref\":\"x\",\"ay\":0.13953488372093023,\"ayref\":\"y\",\"showarrow\":true,\"standoff\":5,\"startstandoff\":5,\"text\":\"\",\"x\":-0.1111111111111111,\"xref\":\"x\",\"y\":-0.11627906976744186,\"yref\":\"y\"},{\"arrowcolor\":\"gray\",\"arrowhead\":2,\"arrowsize\":2,\"ax\":-0.18518518518518517,\"axref\":\"x\",\"ay\":0.13953488372093023,\"ayref\":\"y\",\"showarrow\":true,\"standoff\":5,\"startstandoff\":5,\"text\":\"\",\"x\":0.4074074074074074,\"xref\":\"x\",\"y\":-0.018604651162790697,\"yref\":\"y\"},{\"arrowcolor\":\"gray\",\"arrowhead\":2,\"arrowsize\":2,\"ax\":-0.6296296296296297,\"axref\":\"x\",\"ay\":0.4883720930232558,\"ayref\":\"y\",\"showarrow\":true,\"standoff\":5,\"startstandoff\":5,\"text\":\"\",\"x\":-0.5555555555555556,\"xref\":\"x\",\"y\":0.23255813953488372,\"yref\":\"y\"},{\"arrowcolor\":\"gray\",\"arrowhead\":2,\"arrowsize\":2,\"ax\":-0.6296296296296297,\"axref\":\"x\",\"ay\":0.4883720930232558,\"ayref\":\"y\",\"showarrow\":true,\"standoff\":5,\"startstandoff\":5,\"text\":\"\",\"x\":-0.18518518518518517,\"xref\":\"x\",\"y\":0.5116279069767442,\"yref\":\"y\"},{\"arrowcolor\":\"gray\",\"arrowhead\":2,\"arrowsize\":2,\"ax\":-0.7037037037037037,\"axref\":\"x\",\"ay\":0.4883720930232558,\"ayref\":\"y\",\"showarrow\":true,\"standoff\":5,\"startstandoff\":5,\"text\":\"\",\"x\":-0.6296296296296297,\"xref\":\"x\",\"y\":-0.10232558139534884,\"yref\":\"y\"},{\"arrowcolor\":\"gray\",\"arrowhead\":2,\"arrowsize\":2,\"ax\":-0.4074074074074074,\"axref\":\"x\",\"ay\":-0.08837209302325581,\"ayref\":\"y\",\"showarrow\":true,\"standoff\":5,\"startstandoff\":5,\"text\":\"\",\"x\":-0.25925925925925924,\"xref\":\"x\",\"y\":0.04186046511627907,\"yref\":\"y\"},{\"arrowcolor\":\"gray\",\"arrowhead\":2,\"arrowsize\":2,\"ax\":-0.4074074074074074,\"axref\":\"x\",\"ay\":-0.08837209302325581,\"ayref\":\"y\",\"showarrow\":true,\"standoff\":5,\"startstandoff\":5,\"text\":\"\",\"x\":-0.3333333333333333,\"xref\":\"x\",\"y\":-0.2558139534883721,\"yref\":\"y\"},{\"arrowcolor\":\"gray\",\"arrowhead\":2,\"arrowsize\":2,\"ax\":-0.5555555555555556,\"axref\":\"x\",\"ay\":-0.10232558139534884,\"ayref\":\"y\",\"showarrow\":true,\"standoff\":5,\"startstandoff\":5,\"text\":\"\",\"x\":-0.48148148148148145,\"xref\":\"x\",\"y\":-0.10232558139534884,\"yref\":\"y\"},{\"arrowcolor\":\"gray\",\"arrowhead\":2,\"arrowsize\":2,\"ax\":-0.3333333333333333,\"axref\":\"x\",\"ay\":-0.2558139534883721,\"ayref\":\"y\",\"showarrow\":true,\"standoff\":5,\"startstandoff\":5,\"text\":\"\",\"x\":-0.25925925925925924,\"xref\":\"x\",\"y\":-0.2930232558139535,\"yref\":\"y\"},{\"arrowcolor\":\"gray\",\"arrowhead\":2,\"arrowsize\":2,\"ax\":-0.5555555555555556,\"axref\":\"x\",\"ay\":0.23255813953488372,\"ayref\":\"y\",\"showarrow\":true,\"standoff\":5,\"startstandoff\":5,\"text\":\"\",\"x\":-0.48148148148148145,\"xref\":\"x\",\"y\":0.23255813953488372,\"yref\":\"y\"},{\"arrowcolor\":\"gray\",\"arrowhead\":2,\"arrowsize\":2,\"ax\":-0.1111111111111111,\"axref\":\"x\",\"ay\":-0.11627906976744186,\"ayref\":\"y\",\"showarrow\":true,\"standoff\":5,\"startstandoff\":5,\"text\":\"\",\"x\":-0.037037037037037035,\"xref\":\"x\",\"y\":0.827906976744186,\"yref\":\"y\"},{\"arrowcolor\":\"gray\",\"arrowhead\":2,\"arrowsize\":2,\"ax\":-0.1111111111111111,\"axref\":\"x\",\"ay\":-0.11627906976744186,\"ayref\":\"y\",\"showarrow\":true,\"standoff\":5,\"startstandoff\":5,\"text\":\"\",\"x\":-0.037037037037037035,\"xref\":\"x\",\"y\":-0.5674418604651162,\"yref\":\"y\"},{\"arrowcolor\":\"gray\",\"arrowhead\":2,\"arrowsize\":2,\"ax\":-0.1111111111111111,\"axref\":\"x\",\"ay\":-0.11627906976744186,\"ayref\":\"y\",\"showarrow\":true,\"standoff\":5,\"startstandoff\":5,\"text\":\"\",\"x\":0.4074074074074074,\"xref\":\"x\",\"y\":-0.40930232558139534,\"yref\":\"y\"},{\"arrowcolor\":\"gray\",\"arrowhead\":2,\"arrowsize\":2,\"ax\":-0.1111111111111111,\"axref\":\"x\",\"ay\":-0.11627906976744186,\"ayref\":\"y\",\"showarrow\":true,\"standoff\":5,\"startstandoff\":5,\"text\":\"\",\"x\":0.48148148148148145,\"xref\":\"x\",\"y\":-1.0,\"yref\":\"y\"},{\"arrowcolor\":\"gray\",\"arrowhead\":2,\"arrowsize\":2,\"ax\":0.4074074074074074,\"axref\":\"x\",\"ay\":-0.018604651162790697,\"ayref\":\"y\",\"showarrow\":true,\"standoff\":5,\"startstandoff\":5,\"text\":\"\",\"x\":0.48148148148148145,\"xref\":\"x\",\"y\":-0.11627906976744186,\"yref\":\"y\"},{\"arrowcolor\":\"gray\",\"arrowhead\":2,\"arrowsize\":2,\"ax\":0.4074074074074074,\"axref\":\"x\",\"ay\":-0.018604651162790697,\"ayref\":\"y\",\"showarrow\":true,\"standoff\":5,\"startstandoff\":5,\"text\":\"\",\"x\":0.48148148148148145,\"xref\":\"x\",\"y\":0.2186046511627907,\"yref\":\"y\"},{\"arrowcolor\":\"gray\",\"arrowhead\":2,\"arrowsize\":2,\"ax\":-0.6296296296296297,\"axref\":\"x\",\"ay\":-0.10232558139534884,\"ayref\":\"y\",\"showarrow\":true,\"standoff\":5,\"startstandoff\":5,\"text\":\"\",\"x\":-0.5555555555555556,\"xref\":\"x\",\"y\":-0.10232558139534884,\"yref\":\"y\"},{\"arrowcolor\":\"gray\",\"arrowhead\":2,\"arrowsize\":2,\"ax\":0.7777777777777778,\"axref\":\"x\",\"ay\":-0.9720930232558139,\"ayref\":\"y\",\"showarrow\":true,\"standoff\":5,\"startstandoff\":5,\"text\":\"\",\"x\":0.8518518518518519,\"xref\":\"x\",\"y\":-0.9255813953488372,\"yref\":\"y\"},{\"arrowcolor\":\"gray\",\"arrowhead\":2,\"arrowsize\":2,\"ax\":0.48148148148148145,\"axref\":\"x\",\"ay\":-0.11627906976744186,\"ayref\":\"y\",\"showarrow\":true,\"standoff\":5,\"startstandoff\":5,\"text\":\"\",\"x\":0.5555555555555556,\"xref\":\"x\",\"y\":-0.4418604651162791,\"yref\":\"y\"},{\"arrowcolor\":\"gray\",\"arrowhead\":2,\"arrowsize\":2,\"ax\":0.48148148148148145,\"axref\":\"x\",\"ay\":-0.11627906976744186,\"ayref\":\"y\",\"showarrow\":true,\"standoff\":5,\"startstandoff\":5,\"text\":\"\",\"x\":0.8518518518518519,\"xref\":\"x\",\"y\":-0.4,\"yref\":\"y\"},{\"arrowcolor\":\"gray\",\"arrowhead\":2,\"arrowsize\":2,\"ax\":0.4074074074074074,\"axref\":\"x\",\"ay\":0.31627906976744186,\"ayref\":\"y\",\"showarrow\":true,\"standoff\":5,\"startstandoff\":5,\"text\":\"\",\"x\":0.48148148148148145,\"xref\":\"x\",\"y\":0.5627906976744186,\"yref\":\"y\"},{\"arrowcolor\":\"gray\",\"arrowhead\":2,\"arrowsize\":2,\"ax\":0.5555555555555556,\"axref\":\"x\",\"ay\":-0.9720930232558139,\"ayref\":\"y\",\"showarrow\":true,\"standoff\":5,\"startstandoff\":5,\"text\":\"\",\"x\":0.8518518518518519,\"xref\":\"x\",\"y\":-0.4,\"yref\":\"y\"},{\"arrowcolor\":\"gray\",\"arrowhead\":2,\"arrowsize\":2,\"ax\":0.5555555555555556,\"axref\":\"x\",\"ay\":-0.9720930232558139,\"ayref\":\"y\",\"showarrow\":true,\"standoff\":5,\"startstandoff\":5,\"text\":\"\",\"x\":0.6296296296296297,\"xref\":\"x\",\"y\":-0.9720930232558139,\"yref\":\"y\"},{\"arrowcolor\":\"gray\",\"arrowhead\":2,\"arrowsize\":2,\"ax\":0.6296296296296297,\"axref\":\"x\",\"ay\":-0.4604651162790698,\"ayref\":\"y\",\"showarrow\":true,\"standoff\":5,\"startstandoff\":5,\"text\":\"\",\"x\":0.7777777777777778,\"xref\":\"x\",\"y\":-0.9720930232558139,\"yref\":\"y\"},{\"arrowcolor\":\"gray\",\"arrowhead\":2,\"arrowsize\":2,\"ax\":0.48148148148148145,\"axref\":\"x\",\"ay\":-0.4511627906976744,\"ayref\":\"y\",\"showarrow\":true,\"standoff\":5,\"startstandoff\":5,\"text\":\"\",\"x\":0.5555555555555556,\"xref\":\"x\",\"y\":-0.4418604651162791,\"yref\":\"y\"},{\"arrowcolor\":\"gray\",\"arrowhead\":2,\"arrowsize\":2,\"ax\":0.7037037037037037,\"axref\":\"x\",\"ay\":-0.9720930232558139,\"ayref\":\"y\",\"showarrow\":true,\"standoff\":5,\"startstandoff\":5,\"text\":\"\",\"x\":0.7777777777777778,\"xref\":\"x\",\"y\":-0.9720930232558139,\"yref\":\"y\"},{\"arrowcolor\":\"gray\",\"arrowhead\":2,\"arrowsize\":2,\"ax\":-0.3333333333333333,\"axref\":\"x\",\"ay\":0.7441860465116279,\"ayref\":\"y\",\"showarrow\":true,\"standoff\":5,\"startstandoff\":5,\"text\":\"\",\"x\":-0.037037037037037035,\"xref\":\"x\",\"y\":0.827906976744186,\"yref\":\"y\"},{\"arrowcolor\":\"gray\",\"arrowhead\":2,\"arrowsize\":2,\"ax\":-0.48148148148148145,\"axref\":\"x\",\"ay\":-0.10232558139534884,\"ayref\":\"y\",\"showarrow\":true,\"standoff\":5,\"startstandoff\":5,\"text\":\"\",\"x\":-0.4074074074074074,\"xref\":\"x\",\"y\":-0.08837209302325581,\"yref\":\"y\"},{\"arrowcolor\":\"gray\",\"arrowhead\":2,\"arrowsize\":2,\"ax\":-0.18518518518518517,\"axref\":\"x\",\"ay\":0.5116279069767442,\"ayref\":\"y\",\"showarrow\":true,\"standoff\":5,\"startstandoff\":5,\"text\":\"\",\"x\":0.48148148148148145,\"xref\":\"x\",\"y\":0.5627906976744186,\"yref\":\"y\"},{\"arrowcolor\":\"gray\",\"arrowhead\":2,\"arrowsize\":2,\"ax\":-0.4074074074074074,\"axref\":\"x\",\"ay\":1.0,\"ayref\":\"y\",\"showarrow\":true,\"standoff\":5,\"startstandoff\":5,\"text\":\"\",\"x\":-0.037037037037037035,\"xref\":\"x\",\"y\":0.827906976744186,\"yref\":\"y\"},{\"arrowcolor\":\"gray\",\"arrowhead\":2,\"arrowsize\":2,\"ax\":-0.48148148148148145,\"axref\":\"x\",\"ay\":0.23255813953488372,\"ayref\":\"y\",\"showarrow\":true,\"standoff\":5,\"startstandoff\":5,\"text\":\"\",\"x\":-0.4074074074074074,\"xref\":\"x\",\"y\":-0.08837209302325581,\"yref\":\"y\"}],\"hoverlabel\":{\"font\":{\"size\":10}},\"hovermode\":\"closest\",\"margin\":{\"b\":20,\"l\":5,\"r\":5,\"t\":40},\"showlegend\":false,\"xaxis\":{\"showgrid\":false,\"showticklabels\":false,\"zeroline\":false},\"yaxis\":{\"showgrid\":false,\"showticklabels\":false,\"zeroline\":false},\"template\":{\"data\":{\"barpolar\":[{\"marker\":{\"line\":{\"color\":\"#E5ECF6\",\"width\":0.5},\"pattern\":{\"fillmode\":\"overlay\",\"size\":10,\"solidity\":0.2}},\"type\":\"barpolar\"}],\"bar\":[{\"error_x\":{\"color\":\"#2a3f5f\"},\"error_y\":{\"color\":\"#2a3f5f\"},\"marker\":{\"line\":{\"color\":\"#E5ECF6\",\"width\":0.5},\"pattern\":{\"fillmode\":\"overlay\",\"size\":10,\"solidity\":0.2}},\"type\":\"bar\"}],\"carpet\":[{\"aaxis\":{\"endlinecolor\":\"#2a3f5f\",\"gridcolor\":\"white\",\"linecolor\":\"white\",\"minorgridcolor\":\"white\",\"startlinecolor\":\"#2a3f5f\"},\"baxis\":{\"endlinecolor\":\"#2a3f5f\",\"gridcolor\":\"white\",\"linecolor\":\"white\",\"minorgridcolor\":\"white\",\"startlinecolor\":\"#2a3f5f\"},\"type\":\"carpet\"}],\"choropleth\":[{\"colorbar\":{\"outlinewidth\":0,\"ticks\":\"\"},\"type\":\"choropleth\"}],\"contourcarpet\":[{\"colorbar\":{\"outlinewidth\":0,\"ticks\":\"\"},\"type\":\"contourcarpet\"}],\"contour\":[{\"colorbar\":{\"outlinewidth\":0,\"ticks\":\"\"},\"colorscale\":[[0.0,\"#0d0887\"],[0.1111111111111111,\"#46039f\"],[0.2222222222222222,\"#7201a8\"],[0.3333333333333333,\"#9c179e\"],[0.4444444444444444,\"#bd3786\"],[0.5555555555555556,\"#d8576b\"],[0.6666666666666666,\"#ed7953\"],[0.7777777777777778,\"#fb9f3a\"],[0.8888888888888888,\"#fdca26\"],[1.0,\"#f0f921\"]],\"type\":\"contour\"}],\"heatmapgl\":[{\"colorbar\":{\"outlinewidth\":0,\"ticks\":\"\"},\"colorscale\":[[0.0,\"#0d0887\"],[0.1111111111111111,\"#46039f\"],[0.2222222222222222,\"#7201a8\"],[0.3333333333333333,\"#9c179e\"],[0.4444444444444444,\"#bd3786\"],[0.5555555555555556,\"#d8576b\"],[0.6666666666666666,\"#ed7953\"],[0.7777777777777778,\"#fb9f3a\"],[0.8888888888888888,\"#fdca26\"],[1.0,\"#f0f921\"]],\"type\":\"heatmapgl\"}],\"heatmap\":[{\"colorbar\":{\"outlinewidth\":0,\"ticks\":\"\"},\"colorscale\":[[0.0,\"#0d0887\"],[0.1111111111111111,\"#46039f\"],[0.2222222222222222,\"#7201a8\"],[0.3333333333333333,\"#9c179e\"],[0.4444444444444444,\"#bd3786\"],[0.5555555555555556,\"#d8576b\"],[0.6666666666666666,\"#ed7953\"],[0.7777777777777778,\"#fb9f3a\"],[0.8888888888888888,\"#fdca26\"],[1.0,\"#f0f921\"]],\"type\":\"heatmap\"}],\"histogram2dcontour\":[{\"colorbar\":{\"outlinewidth\":0,\"ticks\":\"\"},\"colorscale\":[[0.0,\"#0d0887\"],[0.1111111111111111,\"#46039f\"],[0.2222222222222222,\"#7201a8\"],[0.3333333333333333,\"#9c179e\"],[0.4444444444444444,\"#bd3786\"],[0.5555555555555556,\"#d8576b\"],[0.6666666666666666,\"#ed7953\"],[0.7777777777777778,\"#fb9f3a\"],[0.8888888888888888,\"#fdca26\"],[1.0,\"#f0f921\"]],\"type\":\"histogram2dcontour\"}],\"histogram2d\":[{\"colorbar\":{\"outlinewidth\":0,\"ticks\":\"\"},\"colorscale\":[[0.0,\"#0d0887\"],[0.1111111111111111,\"#46039f\"],[0.2222222222222222,\"#7201a8\"],[0.3333333333333333,\"#9c179e\"],[0.4444444444444444,\"#bd3786\"],[0.5555555555555556,\"#d8576b\"],[0.6666666666666666,\"#ed7953\"],[0.7777777777777778,\"#fb9f3a\"],[0.8888888888888888,\"#fdca26\"],[1.0,\"#f0f921\"]],\"type\":\"histogram2d\"}],\"histogram\":[{\"marker\":{\"pattern\":{\"fillmode\":\"overlay\",\"size\":10,\"solidity\":0.2}},\"type\":\"histogram\"}],\"mesh3d\":[{\"colorbar\":{\"outlinewidth\":0,\"ticks\":\"\"},\"type\":\"mesh3d\"}],\"parcoords\":[{\"line\":{\"colorbar\":{\"outlinewidth\":0,\"ticks\":\"\"}},\"type\":\"parcoords\"}],\"pie\":[{\"automargin\":true,\"type\":\"pie\"}],\"scatter3d\":[{\"line\":{\"colorbar\":{\"outlinewidth\":0,\"ticks\":\"\"}},\"marker\":{\"colorbar\":{\"outlinewidth\":0,\"ticks\":\"\"}},\"type\":\"scatter3d\"}],\"scattercarpet\":[{\"marker\":{\"colorbar\":{\"outlinewidth\":0,\"ticks\":\"\"}},\"type\":\"scattercarpet\"}],\"scattergeo\":[{\"marker\":{\"colorbar\":{\"outlinewidth\":0,\"ticks\":\"\"}},\"type\":\"scattergeo\"}],\"scattergl\":[{\"marker\":{\"colorbar\":{\"outlinewidth\":0,\"ticks\":\"\"}},\"type\":\"scattergl\"}],\"scattermapbox\":[{\"marker\":{\"colorbar\":{\"outlinewidth\":0,\"ticks\":\"\"}},\"type\":\"scattermapbox\"}],\"scatterpolargl\":[{\"marker\":{\"colorbar\":{\"outlinewidth\":0,\"ticks\":\"\"}},\"type\":\"scatterpolargl\"}],\"scatterpolar\":[{\"marker\":{\"colorbar\":{\"outlinewidth\":0,\"ticks\":\"\"}},\"type\":\"scatterpolar\"}],\"scatter\":[{\"fillpattern\":{\"fillmode\":\"overlay\",\"size\":10,\"solidity\":0.2},\"type\":\"scatter\"}],\"scatterternary\":[{\"marker\":{\"colorbar\":{\"outlinewidth\":0,\"ticks\":\"\"}},\"type\":\"scatterternary\"}],\"surface\":[{\"colorbar\":{\"outlinewidth\":0,\"ticks\":\"\"},\"colorscale\":[[0.0,\"#0d0887\"],[0.1111111111111111,\"#46039f\"],[0.2222222222222222,\"#7201a8\"],[0.3333333333333333,\"#9c179e\"],[0.4444444444444444,\"#bd3786\"],[0.5555555555555556,\"#d8576b\"],[0.6666666666666666,\"#ed7953\"],[0.7777777777777778,\"#fb9f3a\"],[0.8888888888888888,\"#fdca26\"],[1.0,\"#f0f921\"]],\"type\":\"surface\"}],\"table\":[{\"cells\":{\"fill\":{\"color\":\"#EBF0F8\"},\"line\":{\"color\":\"white\"}},\"header\":{\"fill\":{\"color\":\"#C8D4E3\"},\"line\":{\"color\":\"white\"}},\"type\":\"table\"}]},\"layout\":{\"annotationdefaults\":{\"arrowcolor\":\"#2a3f5f\",\"arrowhead\":0,\"arrowwidth\":1},\"autotypenumbers\":\"strict\",\"coloraxis\":{\"colorbar\":{\"outlinewidth\":0,\"ticks\":\"\"}},\"colorscale\":{\"diverging\":[[0,\"#8e0152\"],[0.1,\"#c51b7d\"],[0.2,\"#de77ae\"],[0.3,\"#f1b6da\"],[0.4,\"#fde0ef\"],[0.5,\"#f7f7f7\"],[0.6,\"#e6f5d0\"],[0.7,\"#b8e186\"],[0.8,\"#7fbc41\"],[0.9,\"#4d9221\"],[1,\"#276419\"]],\"sequential\":[[0.0,\"#0d0887\"],[0.1111111111111111,\"#46039f\"],[0.2222222222222222,\"#7201a8\"],[0.3333333333333333,\"#9c179e\"],[0.4444444444444444,\"#bd3786\"],[0.5555555555555556,\"#d8576b\"],[0.6666666666666666,\"#ed7953\"],[0.7777777777777778,\"#fb9f3a\"],[0.8888888888888888,\"#fdca26\"],[1.0,\"#f0f921\"]],\"sequentialminus\":[[0.0,\"#0d0887\"],[0.1111111111111111,\"#46039f\"],[0.2222222222222222,\"#7201a8\"],[0.3333333333333333,\"#9c179e\"],[0.4444444444444444,\"#bd3786\"],[0.5555555555555556,\"#d8576b\"],[0.6666666666666666,\"#ed7953\"],[0.7777777777777778,\"#fb9f3a\"],[0.8888888888888888,\"#fdca26\"],[1.0,\"#f0f921\"]]},\"colorway\":[\"#636efa\",\"#EF553B\",\"#00cc96\",\"#ab63fa\",\"#FFA15A\",\"#19d3f3\",\"#FF6692\",\"#B6E880\",\"#FF97FF\",\"#FECB52\"],\"font\":{\"color\":\"#2a3f5f\"},\"geo\":{\"bgcolor\":\"white\",\"lakecolor\":\"white\",\"landcolor\":\"#E5ECF6\",\"showlakes\":true,\"showland\":true,\"subunitcolor\":\"white\"},\"hoverlabel\":{\"align\":\"left\"},\"hovermode\":\"closest\",\"mapbox\":{\"style\":\"light\"},\"paper_bgcolor\":\"white\",\"plot_bgcolor\":\"#E5ECF6\",\"polar\":{\"angularaxis\":{\"gridcolor\":\"white\",\"linecolor\":\"white\",\"ticks\":\"\"},\"bgcolor\":\"#E5ECF6\",\"radialaxis\":{\"gridcolor\":\"white\",\"linecolor\":\"white\",\"ticks\":\"\"}},\"scene\":{\"xaxis\":{\"backgroundcolor\":\"#E5ECF6\",\"gridcolor\":\"white\",\"gridwidth\":2,\"linecolor\":\"white\",\"showbackground\":true,\"ticks\":\"\",\"zerolinecolor\":\"white\"},\"yaxis\":{\"backgroundcolor\":\"#E5ECF6\",\"gridcolor\":\"white\",\"gridwidth\":2,\"linecolor\":\"white\",\"showbackground\":true,\"ticks\":\"\",\"zerolinecolor\":\"white\"},\"zaxis\":{\"backgroundcolor\":\"#E5ECF6\",\"gridcolor\":\"white\",\"gridwidth\":2,\"linecolor\":\"white\",\"showbackground\":true,\"ticks\":\"\",\"zerolinecolor\":\"white\"}},\"shapedefaults\":{\"line\":{\"color\":\"#2a3f5f\"}},\"ternary\":{\"aaxis\":{\"gridcolor\":\"white\",\"linecolor\":\"white\",\"ticks\":\"\"},\"baxis\":{\"gridcolor\":\"white\",\"linecolor\":\"white\",\"ticks\":\"\"},\"bgcolor\":\"#E5ECF6\",\"caxis\":{\"gridcolor\":\"white\",\"linecolor\":\"white\",\"ticks\":\"\"}},\"title\":{\"x\":0.05},\"xaxis\":{\"automargin\":true,\"gridcolor\":\"white\",\"linecolor\":\"white\",\"ticks\":\"\",\"title\":{\"standoff\":15},\"zerolinecolor\":\"white\",\"zerolinewidth\":2},\"yaxis\":{\"automargin\":true,\"gridcolor\":\"white\",\"linecolor\":\"white\",\"ticks\":\"\",\"title\":{\"standoff\":15},\"zerolinecolor\":\"white\",\"zerolinewidth\":2}}}},                        {\"responsive\": true}                    ).then(function(){\n",
       "                            \n",
       "var gd = document.getElementById('41fb63a0-fd39-4d38-8823-055bf8690e44');\n",
       "var x = new MutationObserver(function (mutations, observer) {{\n",
       "        var display = window.getComputedStyle(gd).display;\n",
       "        if (!display || display === 'none') {{\n",
       "            console.log([gd, 'removed!']);\n",
       "            Plotly.purge(gd);\n",
       "            observer.disconnect();\n",
       "        }}\n",
       "}});\n",
       "\n",
       "// Listen for the removal of the full notebook cells\n",
       "var notebookContainer = gd.closest('#notebook-container');\n",
       "if (notebookContainer) {{\n",
       "    x.observe(notebookContainer, {childList: true});\n",
       "}}\n",
       "\n",
       "// Listen for the clearing of the current output cell\n",
       "var outputEl = gd.closest('.output');\n",
       "if (outputEl) {{\n",
       "    x.observe(outputEl, {childList: true});\n",
       "}}\n",
       "\n",
       "                        })                };                });            </script>        </div>"
      ]
     },
     "metadata": {},
     "output_type": "display_data"
    }
   ],
   "source": [
    "selector = {\"type\": \"descendants\", \"node\": \"geringfügig_beschäftigt\"}\n",
    "plot_dag(functions=policy_functions, selectors=selector, orientation ='h')"
   ]
  },
  {
   "cell_type": "markdown",
   "id": "ae73c540",
   "metadata": {},
   "source": [
    "### Neighbors\n",
    "\n",
    "Another common way to look at a graph is to visualize a node and its neighbors, its ancestors and descendants. Let us take a look at `\"kapitaleink_brutto_tu\"` again and visualize its direct neighbors."
   ]
  },
  {
   "cell_type": "code",
   "execution_count": 16,
   "id": "1eb0204e",
   "metadata": {
    "scrolled": false
   },
   "outputs": [
    {
     "data": {
      "application/vnd.plotly.v1+json": {
       "config": {
        "plotlyServerURL": "https://plot.ly"
       },
       "data": [
        {
         "hoverinfo": "none",
         "line": {
          "color": "blue",
          "width": 0.5
         },
         "mode": "lines",
         "showlegend": false,
         "type": "scatter",
         "uid": "aee85129-e9dd-460d-8320-fce42f930c59",
         "x": [
          -1,
          0,
          "",
          0,
          1,
          "",
          0,
          1,
          "",
          -1,
          0,
          ""
         ],
         "y": [
          -1,
          0,
          "",
          0,
          -1,
          "",
          0,
          1,
          "",
          1,
          0,
          ""
         ]
        },
        {
         "hoverinfo": "skip",
         "marker": {
          "color": "red",
          "reversescale": true,
          "showscale": false,
          "size": 15
         },
         "mode": "markers+text",
         "showlegend": false,
         "text": [
          "wohngeld_eink_vor_abzug_m_tu",
          "zu_verst_kapitaleink_tu",
          "kapitaleink_brutto",
          "kapitaleink_brutto_tu",
          "tu_id"
         ],
         "textposition": "bottom center",
         "type": "scatter",
         "uid": "aeecd2c4-335e-47aa-90b5-cd64dbe41227",
         "x": [
          1,
          1,
          -1,
          0,
          -1
         ],
         "y": [
          -1,
          1,
          -1,
          0,
          1
         ]
        },
        {
         "hoverinfo": "skip",
         "marker": {
          "color": "red",
          "reversescale": true,
          "showscale": false,
          "size": 15
         },
         "mode": "markers+text",
         "showlegend": false,
         "text": [
          "wohngeld_eink_vor_abzug_m_tu",
          "zu_verst_kapitaleink_tu",
          "kapitaleink_brutto",
          "kapitaleink_brutto_tu",
          "tu_id"
         ],
         "textposition": "bottom center",
         "type": "scatter",
         "uid": "fb99ccb4-69a1-4b29-954d-b0409e198e89",
         "x": [
          1,
          1,
          -1,
          0,
          -1
         ],
         "y": [
          -1,
          1,
          -1,
          0,
          1
         ]
        }
       ],
       "layout": {
        "annotations": [
         {
          "arrowcolor": "gray",
          "arrowhead": 2,
          "arrowsize": 2,
          "ax": -1,
          "axref": "x",
          "ay": -1,
          "ayref": "y",
          "showarrow": true,
          "standoff": 5,
          "startstandoff": 5,
          "text": "",
          "x": 0,
          "xref": "x",
          "y": 0,
          "yref": "y"
         },
         {
          "arrowcolor": "gray",
          "arrowhead": 2,
          "arrowsize": 2,
          "ax": 0,
          "axref": "x",
          "ay": 0,
          "ayref": "y",
          "showarrow": true,
          "standoff": 5,
          "startstandoff": 5,
          "text": "",
          "x": 1,
          "xref": "x",
          "y": -1,
          "yref": "y"
         },
         {
          "arrowcolor": "gray",
          "arrowhead": 2,
          "arrowsize": 2,
          "ax": 0,
          "axref": "x",
          "ay": 0,
          "ayref": "y",
          "showarrow": true,
          "standoff": 5,
          "startstandoff": 5,
          "text": "",
          "x": 1,
          "xref": "x",
          "y": 1,
          "yref": "y"
         },
         {
          "arrowcolor": "gray",
          "arrowhead": 2,
          "arrowsize": 2,
          "ax": -1,
          "axref": "x",
          "ay": 1,
          "ayref": "y",
          "showarrow": true,
          "standoff": 5,
          "startstandoff": 5,
          "text": "",
          "x": 0,
          "xref": "x",
          "y": 0,
          "yref": "y"
         }
        ],
        "hoverlabel": {
         "font": {
          "size": 10
         }
        },
        "hovermode": "closest",
        "margin": {
         "b": 20,
         "l": 5,
         "r": 5,
         "t": 40
        },
        "showlegend": false,
        "template": {
         "data": {
          "bar": [
           {
            "error_x": {
             "color": "#2a3f5f"
            },
            "error_y": {
             "color": "#2a3f5f"
            },
            "marker": {
             "line": {
              "color": "#E5ECF6",
              "width": 0.5
             },
             "pattern": {
              "fillmode": "overlay",
              "size": 10,
              "solidity": 0.2
             }
            },
            "type": "bar"
           }
          ],
          "barpolar": [
           {
            "marker": {
             "line": {
              "color": "#E5ECF6",
              "width": 0.5
             },
             "pattern": {
              "fillmode": "overlay",
              "size": 10,
              "solidity": 0.2
             }
            },
            "type": "barpolar"
           }
          ],
          "carpet": [
           {
            "aaxis": {
             "endlinecolor": "#2a3f5f",
             "gridcolor": "white",
             "linecolor": "white",
             "minorgridcolor": "white",
             "startlinecolor": "#2a3f5f"
            },
            "baxis": {
             "endlinecolor": "#2a3f5f",
             "gridcolor": "white",
             "linecolor": "white",
             "minorgridcolor": "white",
             "startlinecolor": "#2a3f5f"
            },
            "type": "carpet"
           }
          ],
          "choropleth": [
           {
            "colorbar": {
             "outlinewidth": 0,
             "ticks": ""
            },
            "type": "choropleth"
           }
          ],
          "contour": [
           {
            "colorbar": {
             "outlinewidth": 0,
             "ticks": ""
            },
            "colorscale": [
             [
              0,
              "#0d0887"
             ],
             [
              0.1111111111111111,
              "#46039f"
             ],
             [
              0.2222222222222222,
              "#7201a8"
             ],
             [
              0.3333333333333333,
              "#9c179e"
             ],
             [
              0.4444444444444444,
              "#bd3786"
             ],
             [
              0.5555555555555556,
              "#d8576b"
             ],
             [
              0.6666666666666666,
              "#ed7953"
             ],
             [
              0.7777777777777778,
              "#fb9f3a"
             ],
             [
              0.8888888888888888,
              "#fdca26"
             ],
             [
              1,
              "#f0f921"
             ]
            ],
            "type": "contour"
           }
          ],
          "contourcarpet": [
           {
            "colorbar": {
             "outlinewidth": 0,
             "ticks": ""
            },
            "type": "contourcarpet"
           }
          ],
          "heatmap": [
           {
            "colorbar": {
             "outlinewidth": 0,
             "ticks": ""
            },
            "colorscale": [
             [
              0,
              "#0d0887"
             ],
             [
              0.1111111111111111,
              "#46039f"
             ],
             [
              0.2222222222222222,
              "#7201a8"
             ],
             [
              0.3333333333333333,
              "#9c179e"
             ],
             [
              0.4444444444444444,
              "#bd3786"
             ],
             [
              0.5555555555555556,
              "#d8576b"
             ],
             [
              0.6666666666666666,
              "#ed7953"
             ],
             [
              0.7777777777777778,
              "#fb9f3a"
             ],
             [
              0.8888888888888888,
              "#fdca26"
             ],
             [
              1,
              "#f0f921"
             ]
            ],
            "type": "heatmap"
           }
          ],
          "heatmapgl": [
           {
            "colorbar": {
             "outlinewidth": 0,
             "ticks": ""
            },
            "colorscale": [
             [
              0,
              "#0d0887"
             ],
             [
              0.1111111111111111,
              "#46039f"
             ],
             [
              0.2222222222222222,
              "#7201a8"
             ],
             [
              0.3333333333333333,
              "#9c179e"
             ],
             [
              0.4444444444444444,
              "#bd3786"
             ],
             [
              0.5555555555555556,
              "#d8576b"
             ],
             [
              0.6666666666666666,
              "#ed7953"
             ],
             [
              0.7777777777777778,
              "#fb9f3a"
             ],
             [
              0.8888888888888888,
              "#fdca26"
             ],
             [
              1,
              "#f0f921"
             ]
            ],
            "type": "heatmapgl"
           }
          ],
          "histogram": [
           {
            "marker": {
             "pattern": {
              "fillmode": "overlay",
              "size": 10,
              "solidity": 0.2
             }
            },
            "type": "histogram"
           }
          ],
          "histogram2d": [
           {
            "colorbar": {
             "outlinewidth": 0,
             "ticks": ""
            },
            "colorscale": [
             [
              0,
              "#0d0887"
             ],
             [
              0.1111111111111111,
              "#46039f"
             ],
             [
              0.2222222222222222,
              "#7201a8"
             ],
             [
              0.3333333333333333,
              "#9c179e"
             ],
             [
              0.4444444444444444,
              "#bd3786"
             ],
             [
              0.5555555555555556,
              "#d8576b"
             ],
             [
              0.6666666666666666,
              "#ed7953"
             ],
             [
              0.7777777777777778,
              "#fb9f3a"
             ],
             [
              0.8888888888888888,
              "#fdca26"
             ],
             [
              1,
              "#f0f921"
             ]
            ],
            "type": "histogram2d"
           }
          ],
          "histogram2dcontour": [
           {
            "colorbar": {
             "outlinewidth": 0,
             "ticks": ""
            },
            "colorscale": [
             [
              0,
              "#0d0887"
             ],
             [
              0.1111111111111111,
              "#46039f"
             ],
             [
              0.2222222222222222,
              "#7201a8"
             ],
             [
              0.3333333333333333,
              "#9c179e"
             ],
             [
              0.4444444444444444,
              "#bd3786"
             ],
             [
              0.5555555555555556,
              "#d8576b"
             ],
             [
              0.6666666666666666,
              "#ed7953"
             ],
             [
              0.7777777777777778,
              "#fb9f3a"
             ],
             [
              0.8888888888888888,
              "#fdca26"
             ],
             [
              1,
              "#f0f921"
             ]
            ],
            "type": "histogram2dcontour"
           }
          ],
          "mesh3d": [
           {
            "colorbar": {
             "outlinewidth": 0,
             "ticks": ""
            },
            "type": "mesh3d"
           }
          ],
          "parcoords": [
           {
            "line": {
             "colorbar": {
              "outlinewidth": 0,
              "ticks": ""
             }
            },
            "type": "parcoords"
           }
          ],
          "pie": [
           {
            "automargin": true,
            "type": "pie"
           }
          ],
          "scatter": [
           {
            "fillpattern": {
             "fillmode": "overlay",
             "size": 10,
             "solidity": 0.2
            },
            "type": "scatter"
           }
          ],
          "scatter3d": [
           {
            "line": {
             "colorbar": {
              "outlinewidth": 0,
              "ticks": ""
             }
            },
            "marker": {
             "colorbar": {
              "outlinewidth": 0,
              "ticks": ""
             }
            },
            "type": "scatter3d"
           }
          ],
          "scattercarpet": [
           {
            "marker": {
             "colorbar": {
              "outlinewidth": 0,
              "ticks": ""
             }
            },
            "type": "scattercarpet"
           }
          ],
          "scattergeo": [
           {
            "marker": {
             "colorbar": {
              "outlinewidth": 0,
              "ticks": ""
             }
            },
            "type": "scattergeo"
           }
          ],
          "scattergl": [
           {
            "marker": {
             "colorbar": {
              "outlinewidth": 0,
              "ticks": ""
             }
            },
            "type": "scattergl"
           }
          ],
          "scattermapbox": [
           {
            "marker": {
             "colorbar": {
              "outlinewidth": 0,
              "ticks": ""
             }
            },
            "type": "scattermapbox"
           }
          ],
          "scatterpolar": [
           {
            "marker": {
             "colorbar": {
              "outlinewidth": 0,
              "ticks": ""
             }
            },
            "type": "scatterpolar"
           }
          ],
          "scatterpolargl": [
           {
            "marker": {
             "colorbar": {
              "outlinewidth": 0,
              "ticks": ""
             }
            },
            "type": "scatterpolargl"
           }
          ],
          "scatterternary": [
           {
            "marker": {
             "colorbar": {
              "outlinewidth": 0,
              "ticks": ""
             }
            },
            "type": "scatterternary"
           }
          ],
          "surface": [
           {
            "colorbar": {
             "outlinewidth": 0,
             "ticks": ""
            },
            "colorscale": [
             [
              0,
              "#0d0887"
             ],
             [
              0.1111111111111111,
              "#46039f"
             ],
             [
              0.2222222222222222,
              "#7201a8"
             ],
             [
              0.3333333333333333,
              "#9c179e"
             ],
             [
              0.4444444444444444,
              "#bd3786"
             ],
             [
              0.5555555555555556,
              "#d8576b"
             ],
             [
              0.6666666666666666,
              "#ed7953"
             ],
             [
              0.7777777777777778,
              "#fb9f3a"
             ],
             [
              0.8888888888888888,
              "#fdca26"
             ],
             [
              1,
              "#f0f921"
             ]
            ],
            "type": "surface"
           }
          ],
          "table": [
           {
            "cells": {
             "fill": {
              "color": "#EBF0F8"
             },
             "line": {
              "color": "white"
             }
            },
            "header": {
             "fill": {
              "color": "#C8D4E3"
             },
             "line": {
              "color": "white"
             }
            },
            "type": "table"
           }
          ]
         },
         "layout": {
          "annotationdefaults": {
           "arrowcolor": "#2a3f5f",
           "arrowhead": 0,
           "arrowwidth": 1
          },
          "autotypenumbers": "strict",
          "coloraxis": {
           "colorbar": {
            "outlinewidth": 0,
            "ticks": ""
           }
          },
          "colorscale": {
           "diverging": [
            [
             0,
             "#8e0152"
            ],
            [
             0.1,
             "#c51b7d"
            ],
            [
             0.2,
             "#de77ae"
            ],
            [
             0.3,
             "#f1b6da"
            ],
            [
             0.4,
             "#fde0ef"
            ],
            [
             0.5,
             "#f7f7f7"
            ],
            [
             0.6,
             "#e6f5d0"
            ],
            [
             0.7,
             "#b8e186"
            ],
            [
             0.8,
             "#7fbc41"
            ],
            [
             0.9,
             "#4d9221"
            ],
            [
             1,
             "#276419"
            ]
           ],
           "sequential": [
            [
             0,
             "#0d0887"
            ],
            [
             0.1111111111111111,
             "#46039f"
            ],
            [
             0.2222222222222222,
             "#7201a8"
            ],
            [
             0.3333333333333333,
             "#9c179e"
            ],
            [
             0.4444444444444444,
             "#bd3786"
            ],
            [
             0.5555555555555556,
             "#d8576b"
            ],
            [
             0.6666666666666666,
             "#ed7953"
            ],
            [
             0.7777777777777778,
             "#fb9f3a"
            ],
            [
             0.8888888888888888,
             "#fdca26"
            ],
            [
             1,
             "#f0f921"
            ]
           ],
           "sequentialminus": [
            [
             0,
             "#0d0887"
            ],
            [
             0.1111111111111111,
             "#46039f"
            ],
            [
             0.2222222222222222,
             "#7201a8"
            ],
            [
             0.3333333333333333,
             "#9c179e"
            ],
            [
             0.4444444444444444,
             "#bd3786"
            ],
            [
             0.5555555555555556,
             "#d8576b"
            ],
            [
             0.6666666666666666,
             "#ed7953"
            ],
            [
             0.7777777777777778,
             "#fb9f3a"
            ],
            [
             0.8888888888888888,
             "#fdca26"
            ],
            [
             1,
             "#f0f921"
            ]
           ]
          },
          "colorway": [
           "#636efa",
           "#EF553B",
           "#00cc96",
           "#ab63fa",
           "#FFA15A",
           "#19d3f3",
           "#FF6692",
           "#B6E880",
           "#FF97FF",
           "#FECB52"
          ],
          "font": {
           "color": "#2a3f5f"
          },
          "geo": {
           "bgcolor": "white",
           "lakecolor": "white",
           "landcolor": "#E5ECF6",
           "showlakes": true,
           "showland": true,
           "subunitcolor": "white"
          },
          "hoverlabel": {
           "align": "left"
          },
          "hovermode": "closest",
          "mapbox": {
           "style": "light"
          },
          "paper_bgcolor": "white",
          "plot_bgcolor": "#E5ECF6",
          "polar": {
           "angularaxis": {
            "gridcolor": "white",
            "linecolor": "white",
            "ticks": ""
           },
           "bgcolor": "#E5ECF6",
           "radialaxis": {
            "gridcolor": "white",
            "linecolor": "white",
            "ticks": ""
           }
          },
          "scene": {
           "xaxis": {
            "backgroundcolor": "#E5ECF6",
            "gridcolor": "white",
            "gridwidth": 2,
            "linecolor": "white",
            "showbackground": true,
            "ticks": "",
            "zerolinecolor": "white"
           },
           "yaxis": {
            "backgroundcolor": "#E5ECF6",
            "gridcolor": "white",
            "gridwidth": 2,
            "linecolor": "white",
            "showbackground": true,
            "ticks": "",
            "zerolinecolor": "white"
           },
           "zaxis": {
            "backgroundcolor": "#E5ECF6",
            "gridcolor": "white",
            "gridwidth": 2,
            "linecolor": "white",
            "showbackground": true,
            "ticks": "",
            "zerolinecolor": "white"
           }
          },
          "shapedefaults": {
           "line": {
            "color": "#2a3f5f"
           }
          },
          "ternary": {
           "aaxis": {
            "gridcolor": "white",
            "linecolor": "white",
            "ticks": ""
           },
           "baxis": {
            "gridcolor": "white",
            "linecolor": "white",
            "ticks": ""
           },
           "bgcolor": "#E5ECF6",
           "caxis": {
            "gridcolor": "white",
            "linecolor": "white",
            "ticks": ""
           }
          },
          "title": {
           "x": 0.05
          },
          "xaxis": {
           "automargin": true,
           "gridcolor": "white",
           "linecolor": "white",
           "ticks": "",
           "title": {
            "standoff": 15
           },
           "zerolinecolor": "white",
           "zerolinewidth": 2
          },
          "yaxis": {
           "automargin": true,
           "gridcolor": "white",
           "linecolor": "white",
           "ticks": "",
           "title": {
            "standoff": 15
           },
           "zerolinecolor": "white",
           "zerolinewidth": 2
          }
         }
        },
        "xaxis": {
         "showgrid": false,
         "showticklabels": false,
         "zeroline": false
        },
        "yaxis": {
         "showgrid": false,
         "showticklabels": false,
         "zeroline": false
        }
       }
      },
      "text/html": [
       "<div>                            <div id=\"fd021807-d19a-4e4c-8686-a1d3063b96df\" class=\"plotly-graph-div\" style=\"height:525px; width:100%;\"></div>            <script type=\"text/javascript\">                require([\"plotly\"], function(Plotly) {                    window.PLOTLYENV=window.PLOTLYENV || {};                                    if (document.getElementById(\"fd021807-d19a-4e4c-8686-a1d3063b96df\")) {                    Plotly.newPlot(                        \"fd021807-d19a-4e4c-8686-a1d3063b96df\",                        [{\"hoverinfo\":\"none\",\"line\":{\"color\":\"blue\",\"width\":0.5},\"mode\":\"lines\",\"showlegend\":false,\"x\":[-1.0,-0.0,\"\",-0.0,1.0,\"\",-0.0,1.0,\"\",-1.0,-0.0,\"\"],\"y\":[-1.0,0.0,\"\",0.0,-1.0,\"\",0.0,1.0,\"\",1.0,0.0,\"\"],\"type\":\"scatter\",\"uid\":\"aee85129-e9dd-460d-8320-fce42f930c59\"},{\"hoverinfo\":\"skip\",\"marker\":{\"color\":\"red\",\"reversescale\":true,\"showscale\":false,\"size\":15},\"mode\":\"markers+text\",\"showlegend\":false,\"text\":[\"wohngeld_eink_vor_abzug_m_tu\",\"zu_verst_kapitaleink_tu\",\"kapitaleink_brutto\",\"kapitaleink_brutto_tu\",\"tu_id\"],\"textposition\":\"bottom center\",\"x\":[1.0,1.0,-1.0,-0.0,-1.0],\"y\":[-1.0,1.0,-1.0,0.0,1.0],\"type\":\"scatter\",\"uid\":\"aeecd2c4-335e-47aa-90b5-cd64dbe41227\"},{\"hoverinfo\":\"skip\",\"marker\":{\"color\":\"red\",\"reversescale\":true,\"showscale\":false,\"size\":15},\"mode\":\"markers+text\",\"showlegend\":false,\"text\":[\"wohngeld_eink_vor_abzug_m_tu\",\"zu_verst_kapitaleink_tu\",\"kapitaleink_brutto\",\"kapitaleink_brutto_tu\",\"tu_id\"],\"textposition\":\"bottom center\",\"x\":[1.0,1.0,-1.0,-0.0,-1.0],\"y\":[-1.0,1.0,-1.0,0.0,1.0],\"type\":\"scatter\",\"uid\":\"fb99ccb4-69a1-4b29-954d-b0409e198e89\"}],                        {\"annotations\":[{\"arrowcolor\":\"gray\",\"arrowhead\":2,\"arrowsize\":2,\"ax\":-1.0,\"axref\":\"x\",\"ay\":-1.0,\"ayref\":\"y\",\"showarrow\":true,\"standoff\":5,\"startstandoff\":5,\"text\":\"\",\"x\":-0.0,\"xref\":\"x\",\"y\":0.0,\"yref\":\"y\"},{\"arrowcolor\":\"gray\",\"arrowhead\":2,\"arrowsize\":2,\"ax\":-0.0,\"axref\":\"x\",\"ay\":0.0,\"ayref\":\"y\",\"showarrow\":true,\"standoff\":5,\"startstandoff\":5,\"text\":\"\",\"x\":1.0,\"xref\":\"x\",\"y\":-1.0,\"yref\":\"y\"},{\"arrowcolor\":\"gray\",\"arrowhead\":2,\"arrowsize\":2,\"ax\":-0.0,\"axref\":\"x\",\"ay\":0.0,\"ayref\":\"y\",\"showarrow\":true,\"standoff\":5,\"startstandoff\":5,\"text\":\"\",\"x\":1.0,\"xref\":\"x\",\"y\":1.0,\"yref\":\"y\"},{\"arrowcolor\":\"gray\",\"arrowhead\":2,\"arrowsize\":2,\"ax\":-1.0,\"axref\":\"x\",\"ay\":1.0,\"ayref\":\"y\",\"showarrow\":true,\"standoff\":5,\"startstandoff\":5,\"text\":\"\",\"x\":-0.0,\"xref\":\"x\",\"y\":0.0,\"yref\":\"y\"}],\"hoverlabel\":{\"font\":{\"size\":10}},\"hovermode\":\"closest\",\"margin\":{\"b\":20,\"l\":5,\"r\":5,\"t\":40},\"showlegend\":false,\"xaxis\":{\"showgrid\":false,\"showticklabels\":false,\"zeroline\":false},\"yaxis\":{\"showgrid\":false,\"showticklabels\":false,\"zeroline\":false},\"template\":{\"data\":{\"barpolar\":[{\"marker\":{\"line\":{\"color\":\"#E5ECF6\",\"width\":0.5},\"pattern\":{\"fillmode\":\"overlay\",\"size\":10,\"solidity\":0.2}},\"type\":\"barpolar\"}],\"bar\":[{\"error_x\":{\"color\":\"#2a3f5f\"},\"error_y\":{\"color\":\"#2a3f5f\"},\"marker\":{\"line\":{\"color\":\"#E5ECF6\",\"width\":0.5},\"pattern\":{\"fillmode\":\"overlay\",\"size\":10,\"solidity\":0.2}},\"type\":\"bar\"}],\"carpet\":[{\"aaxis\":{\"endlinecolor\":\"#2a3f5f\",\"gridcolor\":\"white\",\"linecolor\":\"white\",\"minorgridcolor\":\"white\",\"startlinecolor\":\"#2a3f5f\"},\"baxis\":{\"endlinecolor\":\"#2a3f5f\",\"gridcolor\":\"white\",\"linecolor\":\"white\",\"minorgridcolor\":\"white\",\"startlinecolor\":\"#2a3f5f\"},\"type\":\"carpet\"}],\"choropleth\":[{\"colorbar\":{\"outlinewidth\":0,\"ticks\":\"\"},\"type\":\"choropleth\"}],\"contourcarpet\":[{\"colorbar\":{\"outlinewidth\":0,\"ticks\":\"\"},\"type\":\"contourcarpet\"}],\"contour\":[{\"colorbar\":{\"outlinewidth\":0,\"ticks\":\"\"},\"colorscale\":[[0.0,\"#0d0887\"],[0.1111111111111111,\"#46039f\"],[0.2222222222222222,\"#7201a8\"],[0.3333333333333333,\"#9c179e\"],[0.4444444444444444,\"#bd3786\"],[0.5555555555555556,\"#d8576b\"],[0.6666666666666666,\"#ed7953\"],[0.7777777777777778,\"#fb9f3a\"],[0.8888888888888888,\"#fdca26\"],[1.0,\"#f0f921\"]],\"type\":\"contour\"}],\"heatmapgl\":[{\"colorbar\":{\"outlinewidth\":0,\"ticks\":\"\"},\"colorscale\":[[0.0,\"#0d0887\"],[0.1111111111111111,\"#46039f\"],[0.2222222222222222,\"#7201a8\"],[0.3333333333333333,\"#9c179e\"],[0.4444444444444444,\"#bd3786\"],[0.5555555555555556,\"#d8576b\"],[0.6666666666666666,\"#ed7953\"],[0.7777777777777778,\"#fb9f3a\"],[0.8888888888888888,\"#fdca26\"],[1.0,\"#f0f921\"]],\"type\":\"heatmapgl\"}],\"heatmap\":[{\"colorbar\":{\"outlinewidth\":0,\"ticks\":\"\"},\"colorscale\":[[0.0,\"#0d0887\"],[0.1111111111111111,\"#46039f\"],[0.2222222222222222,\"#7201a8\"],[0.3333333333333333,\"#9c179e\"],[0.4444444444444444,\"#bd3786\"],[0.5555555555555556,\"#d8576b\"],[0.6666666666666666,\"#ed7953\"],[0.7777777777777778,\"#fb9f3a\"],[0.8888888888888888,\"#fdca26\"],[1.0,\"#f0f921\"]],\"type\":\"heatmap\"}],\"histogram2dcontour\":[{\"colorbar\":{\"outlinewidth\":0,\"ticks\":\"\"},\"colorscale\":[[0.0,\"#0d0887\"],[0.1111111111111111,\"#46039f\"],[0.2222222222222222,\"#7201a8\"],[0.3333333333333333,\"#9c179e\"],[0.4444444444444444,\"#bd3786\"],[0.5555555555555556,\"#d8576b\"],[0.6666666666666666,\"#ed7953\"],[0.7777777777777778,\"#fb9f3a\"],[0.8888888888888888,\"#fdca26\"],[1.0,\"#f0f921\"]],\"type\":\"histogram2dcontour\"}],\"histogram2d\":[{\"colorbar\":{\"outlinewidth\":0,\"ticks\":\"\"},\"colorscale\":[[0.0,\"#0d0887\"],[0.1111111111111111,\"#46039f\"],[0.2222222222222222,\"#7201a8\"],[0.3333333333333333,\"#9c179e\"],[0.4444444444444444,\"#bd3786\"],[0.5555555555555556,\"#d8576b\"],[0.6666666666666666,\"#ed7953\"],[0.7777777777777778,\"#fb9f3a\"],[0.8888888888888888,\"#fdca26\"],[1.0,\"#f0f921\"]],\"type\":\"histogram2d\"}],\"histogram\":[{\"marker\":{\"pattern\":{\"fillmode\":\"overlay\",\"size\":10,\"solidity\":0.2}},\"type\":\"histogram\"}],\"mesh3d\":[{\"colorbar\":{\"outlinewidth\":0,\"ticks\":\"\"},\"type\":\"mesh3d\"}],\"parcoords\":[{\"line\":{\"colorbar\":{\"outlinewidth\":0,\"ticks\":\"\"}},\"type\":\"parcoords\"}],\"pie\":[{\"automargin\":true,\"type\":\"pie\"}],\"scatter3d\":[{\"line\":{\"colorbar\":{\"outlinewidth\":0,\"ticks\":\"\"}},\"marker\":{\"colorbar\":{\"outlinewidth\":0,\"ticks\":\"\"}},\"type\":\"scatter3d\"}],\"scattercarpet\":[{\"marker\":{\"colorbar\":{\"outlinewidth\":0,\"ticks\":\"\"}},\"type\":\"scattercarpet\"}],\"scattergeo\":[{\"marker\":{\"colorbar\":{\"outlinewidth\":0,\"ticks\":\"\"}},\"type\":\"scattergeo\"}],\"scattergl\":[{\"marker\":{\"colorbar\":{\"outlinewidth\":0,\"ticks\":\"\"}},\"type\":\"scattergl\"}],\"scattermapbox\":[{\"marker\":{\"colorbar\":{\"outlinewidth\":0,\"ticks\":\"\"}},\"type\":\"scattermapbox\"}],\"scatterpolargl\":[{\"marker\":{\"colorbar\":{\"outlinewidth\":0,\"ticks\":\"\"}},\"type\":\"scatterpolargl\"}],\"scatterpolar\":[{\"marker\":{\"colorbar\":{\"outlinewidth\":0,\"ticks\":\"\"}},\"type\":\"scatterpolar\"}],\"scatter\":[{\"fillpattern\":{\"fillmode\":\"overlay\",\"size\":10,\"solidity\":0.2},\"type\":\"scatter\"}],\"scatterternary\":[{\"marker\":{\"colorbar\":{\"outlinewidth\":0,\"ticks\":\"\"}},\"type\":\"scatterternary\"}],\"surface\":[{\"colorbar\":{\"outlinewidth\":0,\"ticks\":\"\"},\"colorscale\":[[0.0,\"#0d0887\"],[0.1111111111111111,\"#46039f\"],[0.2222222222222222,\"#7201a8\"],[0.3333333333333333,\"#9c179e\"],[0.4444444444444444,\"#bd3786\"],[0.5555555555555556,\"#d8576b\"],[0.6666666666666666,\"#ed7953\"],[0.7777777777777778,\"#fb9f3a\"],[0.8888888888888888,\"#fdca26\"],[1.0,\"#f0f921\"]],\"type\":\"surface\"}],\"table\":[{\"cells\":{\"fill\":{\"color\":\"#EBF0F8\"},\"line\":{\"color\":\"white\"}},\"header\":{\"fill\":{\"color\":\"#C8D4E3\"},\"line\":{\"color\":\"white\"}},\"type\":\"table\"}]},\"layout\":{\"annotationdefaults\":{\"arrowcolor\":\"#2a3f5f\",\"arrowhead\":0,\"arrowwidth\":1},\"autotypenumbers\":\"strict\",\"coloraxis\":{\"colorbar\":{\"outlinewidth\":0,\"ticks\":\"\"}},\"colorscale\":{\"diverging\":[[0,\"#8e0152\"],[0.1,\"#c51b7d\"],[0.2,\"#de77ae\"],[0.3,\"#f1b6da\"],[0.4,\"#fde0ef\"],[0.5,\"#f7f7f7\"],[0.6,\"#e6f5d0\"],[0.7,\"#b8e186\"],[0.8,\"#7fbc41\"],[0.9,\"#4d9221\"],[1,\"#276419\"]],\"sequential\":[[0.0,\"#0d0887\"],[0.1111111111111111,\"#46039f\"],[0.2222222222222222,\"#7201a8\"],[0.3333333333333333,\"#9c179e\"],[0.4444444444444444,\"#bd3786\"],[0.5555555555555556,\"#d8576b\"],[0.6666666666666666,\"#ed7953\"],[0.7777777777777778,\"#fb9f3a\"],[0.8888888888888888,\"#fdca26\"],[1.0,\"#f0f921\"]],\"sequentialminus\":[[0.0,\"#0d0887\"],[0.1111111111111111,\"#46039f\"],[0.2222222222222222,\"#7201a8\"],[0.3333333333333333,\"#9c179e\"],[0.4444444444444444,\"#bd3786\"],[0.5555555555555556,\"#d8576b\"],[0.6666666666666666,\"#ed7953\"],[0.7777777777777778,\"#fb9f3a\"],[0.8888888888888888,\"#fdca26\"],[1.0,\"#f0f921\"]]},\"colorway\":[\"#636efa\",\"#EF553B\",\"#00cc96\",\"#ab63fa\",\"#FFA15A\",\"#19d3f3\",\"#FF6692\",\"#B6E880\",\"#FF97FF\",\"#FECB52\"],\"font\":{\"color\":\"#2a3f5f\"},\"geo\":{\"bgcolor\":\"white\",\"lakecolor\":\"white\",\"landcolor\":\"#E5ECF6\",\"showlakes\":true,\"showland\":true,\"subunitcolor\":\"white\"},\"hoverlabel\":{\"align\":\"left\"},\"hovermode\":\"closest\",\"mapbox\":{\"style\":\"light\"},\"paper_bgcolor\":\"white\",\"plot_bgcolor\":\"#E5ECF6\",\"polar\":{\"angularaxis\":{\"gridcolor\":\"white\",\"linecolor\":\"white\",\"ticks\":\"\"},\"bgcolor\":\"#E5ECF6\",\"radialaxis\":{\"gridcolor\":\"white\",\"linecolor\":\"white\",\"ticks\":\"\"}},\"scene\":{\"xaxis\":{\"backgroundcolor\":\"#E5ECF6\",\"gridcolor\":\"white\",\"gridwidth\":2,\"linecolor\":\"white\",\"showbackground\":true,\"ticks\":\"\",\"zerolinecolor\":\"white\"},\"yaxis\":{\"backgroundcolor\":\"#E5ECF6\",\"gridcolor\":\"white\",\"gridwidth\":2,\"linecolor\":\"white\",\"showbackground\":true,\"ticks\":\"\",\"zerolinecolor\":\"white\"},\"zaxis\":{\"backgroundcolor\":\"#E5ECF6\",\"gridcolor\":\"white\",\"gridwidth\":2,\"linecolor\":\"white\",\"showbackground\":true,\"ticks\":\"\",\"zerolinecolor\":\"white\"}},\"shapedefaults\":{\"line\":{\"color\":\"#2a3f5f\"}},\"ternary\":{\"aaxis\":{\"gridcolor\":\"white\",\"linecolor\":\"white\",\"ticks\":\"\"},\"baxis\":{\"gridcolor\":\"white\",\"linecolor\":\"white\",\"ticks\":\"\"},\"bgcolor\":\"#E5ECF6\",\"caxis\":{\"gridcolor\":\"white\",\"linecolor\":\"white\",\"ticks\":\"\"}},\"title\":{\"x\":0.05},\"xaxis\":{\"automargin\":true,\"gridcolor\":\"white\",\"linecolor\":\"white\",\"ticks\":\"\",\"title\":{\"standoff\":15},\"zerolinecolor\":\"white\",\"zerolinewidth\":2},\"yaxis\":{\"automargin\":true,\"gridcolor\":\"white\",\"linecolor\":\"white\",\"ticks\":\"\",\"title\":{\"standoff\":15},\"zerolinecolor\":\"white\",\"zerolinewidth\":2}}}},                        {\"responsive\": true}                    ).then(function(){\n",
       "                            \n",
       "var gd = document.getElementById('fd021807-d19a-4e4c-8686-a1d3063b96df');\n",
       "var x = new MutationObserver(function (mutations, observer) {{\n",
       "        var display = window.getComputedStyle(gd).display;\n",
       "        if (!display || display === 'none') {{\n",
       "            console.log([gd, 'removed!']);\n",
       "            Plotly.purge(gd);\n",
       "            observer.disconnect();\n",
       "        }}\n",
       "}});\n",
       "\n",
       "// Listen for the removal of the full notebook cells\n",
       "var notebookContainer = gd.closest('#notebook-container');\n",
       "if (notebookContainer) {{\n",
       "    x.observe(notebookContainer, {childList: true});\n",
       "}}\n",
       "\n",
       "// Listen for the clearing of the current output cell\n",
       "var outputEl = gd.closest('.output');\n",
       "if (outputEl) {{\n",
       "    x.observe(outputEl, {childList: true});\n",
       "}}\n",
       "\n",
       "                        })                };                });            </script>        </div>"
      ]
     },
     "metadata": {},
     "output_type": "display_data"
    }
   ],
   "source": [
    "selector = {\"type\": \"neighbors\", \"node\": \"kapitaleink_brutto_tu\"}\n",
    "plot_dag(functions=policy_functions,selectors=selector, orientation ='h')"
   ]
  },
  {
   "cell_type": "markdown",
   "id": "513ef1d1",
   "metadata": {},
   "source": [
    "It is also possible to look at more distant neighbors or neighbors of order 2, 3, ... . This can be done by the `\"order\"` key which is 1 by default."
   ]
  },
  {
   "cell_type": "code",
   "execution_count": 17,
   "id": "892085cc",
   "metadata": {
    "scrolled": true
   },
   "outputs": [
    {
     "data": {
      "application/vnd.plotly.v1+json": {
       "config": {
        "plotlyServerURL": "https://plot.ly"
       },
       "data": [
        {
         "hoverinfo": "none",
         "line": {
          "color": "blue",
          "width": 0.5
         },
         "mode": "lines",
         "showlegend": false,
         "type": "scatter",
         "uid": "b1dd6898-422f-4d4e-b677-8fb268933682",
         "x": [
          0.5,
          1,
          "",
          0.5,
          1,
          "",
          -0.5,
          0,
          "",
          0,
          0.5,
          "",
          0,
          0.5,
          "",
          -1,
          -0.5,
          "",
          -0.5,
          0,
          ""
         ],
         "y": [
          -1,
          -1,
          "",
          1,
          1,
          "",
          -1,
          0,
          "",
          0,
          -1,
          "",
          0,
          1,
          "",
          -1,
          -1,
          "",
          1,
          0,
          ""
         ]
        },
        {
         "hoverinfo": "skip",
         "marker": {
          "color": "red",
          "reversescale": true,
          "showscale": false,
          "size": 15
         },
         "mode": "markers+text",
         "showlegend": false,
         "text": [
          "wohngeld_eink_m",
          "wohngeld_eink_vor_abzug_m_tu",
          "abgelt_st_tu",
          "zu_verst_kapitaleink_tu",
          "kapitaleink_brutto",
          "kapitaleink_brutto_tu",
          "kapitaleink_brutto_m",
          "tu_id"
         ],
         "textposition": "bottom center",
         "type": "scatter",
         "uid": "4d9c6f27-3367-418d-9fd9-206959e4bcbd",
         "x": [
          1,
          0.5,
          1,
          0.5,
          -0.5,
          0,
          -1,
          -0.5
         ],
         "y": [
          -1,
          -1,
          1,
          1,
          -1,
          0,
          -1,
          1
         ]
        },
        {
         "hoverinfo": "skip",
         "marker": {
          "color": "red",
          "reversescale": true,
          "showscale": false,
          "size": 15
         },
         "mode": "markers+text",
         "showlegend": false,
         "text": [
          "wohngeld_eink_m",
          "wohngeld_eink_vor_abzug_m_tu",
          "abgelt_st_tu",
          "zu_verst_kapitaleink_tu",
          "kapitaleink_brutto",
          "kapitaleink_brutto_tu",
          "kapitaleink_brutto_m",
          "tu_id"
         ],
         "textposition": "bottom center",
         "type": "scatter",
         "uid": "72389990-7273-48a3-9eb2-79f2ac7e8f71",
         "x": [
          1,
          0.5,
          1,
          0.5,
          -0.5,
          0,
          -1,
          -0.5
         ],
         "y": [
          -1,
          -1,
          1,
          1,
          -1,
          0,
          -1,
          1
         ]
        }
       ],
       "layout": {
        "annotations": [
         {
          "arrowcolor": "gray",
          "arrowhead": 2,
          "arrowsize": 2,
          "ax": 0.5,
          "axref": "x",
          "ay": -1,
          "ayref": "y",
          "showarrow": true,
          "standoff": 5,
          "startstandoff": 5,
          "text": "",
          "x": 1,
          "xref": "x",
          "y": -1,
          "yref": "y"
         },
         {
          "arrowcolor": "gray",
          "arrowhead": 2,
          "arrowsize": 2,
          "ax": 0.5,
          "axref": "x",
          "ay": 1,
          "ayref": "y",
          "showarrow": true,
          "standoff": 5,
          "startstandoff": 5,
          "text": "",
          "x": 1,
          "xref": "x",
          "y": 1,
          "yref": "y"
         },
         {
          "arrowcolor": "gray",
          "arrowhead": 2,
          "arrowsize": 2,
          "ax": -0.5,
          "axref": "x",
          "ay": -1,
          "ayref": "y",
          "showarrow": true,
          "standoff": 5,
          "startstandoff": 5,
          "text": "",
          "x": 0,
          "xref": "x",
          "y": 0,
          "yref": "y"
         },
         {
          "arrowcolor": "gray",
          "arrowhead": 2,
          "arrowsize": 2,
          "ax": 0,
          "axref": "x",
          "ay": 0,
          "ayref": "y",
          "showarrow": true,
          "standoff": 5,
          "startstandoff": 5,
          "text": "",
          "x": 0.5,
          "xref": "x",
          "y": -1,
          "yref": "y"
         },
         {
          "arrowcolor": "gray",
          "arrowhead": 2,
          "arrowsize": 2,
          "ax": 0,
          "axref": "x",
          "ay": 0,
          "ayref": "y",
          "showarrow": true,
          "standoff": 5,
          "startstandoff": 5,
          "text": "",
          "x": 0.5,
          "xref": "x",
          "y": 1,
          "yref": "y"
         },
         {
          "arrowcolor": "gray",
          "arrowhead": 2,
          "arrowsize": 2,
          "ax": -1,
          "axref": "x",
          "ay": -1,
          "ayref": "y",
          "showarrow": true,
          "standoff": 5,
          "startstandoff": 5,
          "text": "",
          "x": -0.5,
          "xref": "x",
          "y": -1,
          "yref": "y"
         },
         {
          "arrowcolor": "gray",
          "arrowhead": 2,
          "arrowsize": 2,
          "ax": -0.5,
          "axref": "x",
          "ay": 1,
          "ayref": "y",
          "showarrow": true,
          "standoff": 5,
          "startstandoff": 5,
          "text": "",
          "x": 0,
          "xref": "x",
          "y": 0,
          "yref": "y"
         }
        ],
        "hoverlabel": {
         "font": {
          "size": 10
         }
        },
        "hovermode": "closest",
        "margin": {
         "b": 20,
         "l": 5,
         "r": 5,
         "t": 40
        },
        "showlegend": false,
        "template": {
         "data": {
          "bar": [
           {
            "error_x": {
             "color": "#2a3f5f"
            },
            "error_y": {
             "color": "#2a3f5f"
            },
            "marker": {
             "line": {
              "color": "#E5ECF6",
              "width": 0.5
             },
             "pattern": {
              "fillmode": "overlay",
              "size": 10,
              "solidity": 0.2
             }
            },
            "type": "bar"
           }
          ],
          "barpolar": [
           {
            "marker": {
             "line": {
              "color": "#E5ECF6",
              "width": 0.5
             },
             "pattern": {
              "fillmode": "overlay",
              "size": 10,
              "solidity": 0.2
             }
            },
            "type": "barpolar"
           }
          ],
          "carpet": [
           {
            "aaxis": {
             "endlinecolor": "#2a3f5f",
             "gridcolor": "white",
             "linecolor": "white",
             "minorgridcolor": "white",
             "startlinecolor": "#2a3f5f"
            },
            "baxis": {
             "endlinecolor": "#2a3f5f",
             "gridcolor": "white",
             "linecolor": "white",
             "minorgridcolor": "white",
             "startlinecolor": "#2a3f5f"
            },
            "type": "carpet"
           }
          ],
          "choropleth": [
           {
            "colorbar": {
             "outlinewidth": 0,
             "ticks": ""
            },
            "type": "choropleth"
           }
          ],
          "contour": [
           {
            "colorbar": {
             "outlinewidth": 0,
             "ticks": ""
            },
            "colorscale": [
             [
              0,
              "#0d0887"
             ],
             [
              0.1111111111111111,
              "#46039f"
             ],
             [
              0.2222222222222222,
              "#7201a8"
             ],
             [
              0.3333333333333333,
              "#9c179e"
             ],
             [
              0.4444444444444444,
              "#bd3786"
             ],
             [
              0.5555555555555556,
              "#d8576b"
             ],
             [
              0.6666666666666666,
              "#ed7953"
             ],
             [
              0.7777777777777778,
              "#fb9f3a"
             ],
             [
              0.8888888888888888,
              "#fdca26"
             ],
             [
              1,
              "#f0f921"
             ]
            ],
            "type": "contour"
           }
          ],
          "contourcarpet": [
           {
            "colorbar": {
             "outlinewidth": 0,
             "ticks": ""
            },
            "type": "contourcarpet"
           }
          ],
          "heatmap": [
           {
            "colorbar": {
             "outlinewidth": 0,
             "ticks": ""
            },
            "colorscale": [
             [
              0,
              "#0d0887"
             ],
             [
              0.1111111111111111,
              "#46039f"
             ],
             [
              0.2222222222222222,
              "#7201a8"
             ],
             [
              0.3333333333333333,
              "#9c179e"
             ],
             [
              0.4444444444444444,
              "#bd3786"
             ],
             [
              0.5555555555555556,
              "#d8576b"
             ],
             [
              0.6666666666666666,
              "#ed7953"
             ],
             [
              0.7777777777777778,
              "#fb9f3a"
             ],
             [
              0.8888888888888888,
              "#fdca26"
             ],
             [
              1,
              "#f0f921"
             ]
            ],
            "type": "heatmap"
           }
          ],
          "heatmapgl": [
           {
            "colorbar": {
             "outlinewidth": 0,
             "ticks": ""
            },
            "colorscale": [
             [
              0,
              "#0d0887"
             ],
             [
              0.1111111111111111,
              "#46039f"
             ],
             [
              0.2222222222222222,
              "#7201a8"
             ],
             [
              0.3333333333333333,
              "#9c179e"
             ],
             [
              0.4444444444444444,
              "#bd3786"
             ],
             [
              0.5555555555555556,
              "#d8576b"
             ],
             [
              0.6666666666666666,
              "#ed7953"
             ],
             [
              0.7777777777777778,
              "#fb9f3a"
             ],
             [
              0.8888888888888888,
              "#fdca26"
             ],
             [
              1,
              "#f0f921"
             ]
            ],
            "type": "heatmapgl"
           }
          ],
          "histogram": [
           {
            "marker": {
             "pattern": {
              "fillmode": "overlay",
              "size": 10,
              "solidity": 0.2
             }
            },
            "type": "histogram"
           }
          ],
          "histogram2d": [
           {
            "colorbar": {
             "outlinewidth": 0,
             "ticks": ""
            },
            "colorscale": [
             [
              0,
              "#0d0887"
             ],
             [
              0.1111111111111111,
              "#46039f"
             ],
             [
              0.2222222222222222,
              "#7201a8"
             ],
             [
              0.3333333333333333,
              "#9c179e"
             ],
             [
              0.4444444444444444,
              "#bd3786"
             ],
             [
              0.5555555555555556,
              "#d8576b"
             ],
             [
              0.6666666666666666,
              "#ed7953"
             ],
             [
              0.7777777777777778,
              "#fb9f3a"
             ],
             [
              0.8888888888888888,
              "#fdca26"
             ],
             [
              1,
              "#f0f921"
             ]
            ],
            "type": "histogram2d"
           }
          ],
          "histogram2dcontour": [
           {
            "colorbar": {
             "outlinewidth": 0,
             "ticks": ""
            },
            "colorscale": [
             [
              0,
              "#0d0887"
             ],
             [
              0.1111111111111111,
              "#46039f"
             ],
             [
              0.2222222222222222,
              "#7201a8"
             ],
             [
              0.3333333333333333,
              "#9c179e"
             ],
             [
              0.4444444444444444,
              "#bd3786"
             ],
             [
              0.5555555555555556,
              "#d8576b"
             ],
             [
              0.6666666666666666,
              "#ed7953"
             ],
             [
              0.7777777777777778,
              "#fb9f3a"
             ],
             [
              0.8888888888888888,
              "#fdca26"
             ],
             [
              1,
              "#f0f921"
             ]
            ],
            "type": "histogram2dcontour"
           }
          ],
          "mesh3d": [
           {
            "colorbar": {
             "outlinewidth": 0,
             "ticks": ""
            },
            "type": "mesh3d"
           }
          ],
          "parcoords": [
           {
            "line": {
             "colorbar": {
              "outlinewidth": 0,
              "ticks": ""
             }
            },
            "type": "parcoords"
           }
          ],
          "pie": [
           {
            "automargin": true,
            "type": "pie"
           }
          ],
          "scatter": [
           {
            "fillpattern": {
             "fillmode": "overlay",
             "size": 10,
             "solidity": 0.2
            },
            "type": "scatter"
           }
          ],
          "scatter3d": [
           {
            "line": {
             "colorbar": {
              "outlinewidth": 0,
              "ticks": ""
             }
            },
            "marker": {
             "colorbar": {
              "outlinewidth": 0,
              "ticks": ""
             }
            },
            "type": "scatter3d"
           }
          ],
          "scattercarpet": [
           {
            "marker": {
             "colorbar": {
              "outlinewidth": 0,
              "ticks": ""
             }
            },
            "type": "scattercarpet"
           }
          ],
          "scattergeo": [
           {
            "marker": {
             "colorbar": {
              "outlinewidth": 0,
              "ticks": ""
             }
            },
            "type": "scattergeo"
           }
          ],
          "scattergl": [
           {
            "marker": {
             "colorbar": {
              "outlinewidth": 0,
              "ticks": ""
             }
            },
            "type": "scattergl"
           }
          ],
          "scattermapbox": [
           {
            "marker": {
             "colorbar": {
              "outlinewidth": 0,
              "ticks": ""
             }
            },
            "type": "scattermapbox"
           }
          ],
          "scatterpolar": [
           {
            "marker": {
             "colorbar": {
              "outlinewidth": 0,
              "ticks": ""
             }
            },
            "type": "scatterpolar"
           }
          ],
          "scatterpolargl": [
           {
            "marker": {
             "colorbar": {
              "outlinewidth": 0,
              "ticks": ""
             }
            },
            "type": "scatterpolargl"
           }
          ],
          "scatterternary": [
           {
            "marker": {
             "colorbar": {
              "outlinewidth": 0,
              "ticks": ""
             }
            },
            "type": "scatterternary"
           }
          ],
          "surface": [
           {
            "colorbar": {
             "outlinewidth": 0,
             "ticks": ""
            },
            "colorscale": [
             [
              0,
              "#0d0887"
             ],
             [
              0.1111111111111111,
              "#46039f"
             ],
             [
              0.2222222222222222,
              "#7201a8"
             ],
             [
              0.3333333333333333,
              "#9c179e"
             ],
             [
              0.4444444444444444,
              "#bd3786"
             ],
             [
              0.5555555555555556,
              "#d8576b"
             ],
             [
              0.6666666666666666,
              "#ed7953"
             ],
             [
              0.7777777777777778,
              "#fb9f3a"
             ],
             [
              0.8888888888888888,
              "#fdca26"
             ],
             [
              1,
              "#f0f921"
             ]
            ],
            "type": "surface"
           }
          ],
          "table": [
           {
            "cells": {
             "fill": {
              "color": "#EBF0F8"
             },
             "line": {
              "color": "white"
             }
            },
            "header": {
             "fill": {
              "color": "#C8D4E3"
             },
             "line": {
              "color": "white"
             }
            },
            "type": "table"
           }
          ]
         },
         "layout": {
          "annotationdefaults": {
           "arrowcolor": "#2a3f5f",
           "arrowhead": 0,
           "arrowwidth": 1
          },
          "autotypenumbers": "strict",
          "coloraxis": {
           "colorbar": {
            "outlinewidth": 0,
            "ticks": ""
           }
          },
          "colorscale": {
           "diverging": [
            [
             0,
             "#8e0152"
            ],
            [
             0.1,
             "#c51b7d"
            ],
            [
             0.2,
             "#de77ae"
            ],
            [
             0.3,
             "#f1b6da"
            ],
            [
             0.4,
             "#fde0ef"
            ],
            [
             0.5,
             "#f7f7f7"
            ],
            [
             0.6,
             "#e6f5d0"
            ],
            [
             0.7,
             "#b8e186"
            ],
            [
             0.8,
             "#7fbc41"
            ],
            [
             0.9,
             "#4d9221"
            ],
            [
             1,
             "#276419"
            ]
           ],
           "sequential": [
            [
             0,
             "#0d0887"
            ],
            [
             0.1111111111111111,
             "#46039f"
            ],
            [
             0.2222222222222222,
             "#7201a8"
            ],
            [
             0.3333333333333333,
             "#9c179e"
            ],
            [
             0.4444444444444444,
             "#bd3786"
            ],
            [
             0.5555555555555556,
             "#d8576b"
            ],
            [
             0.6666666666666666,
             "#ed7953"
            ],
            [
             0.7777777777777778,
             "#fb9f3a"
            ],
            [
             0.8888888888888888,
             "#fdca26"
            ],
            [
             1,
             "#f0f921"
            ]
           ],
           "sequentialminus": [
            [
             0,
             "#0d0887"
            ],
            [
             0.1111111111111111,
             "#46039f"
            ],
            [
             0.2222222222222222,
             "#7201a8"
            ],
            [
             0.3333333333333333,
             "#9c179e"
            ],
            [
             0.4444444444444444,
             "#bd3786"
            ],
            [
             0.5555555555555556,
             "#d8576b"
            ],
            [
             0.6666666666666666,
             "#ed7953"
            ],
            [
             0.7777777777777778,
             "#fb9f3a"
            ],
            [
             0.8888888888888888,
             "#fdca26"
            ],
            [
             1,
             "#f0f921"
            ]
           ]
          },
          "colorway": [
           "#636efa",
           "#EF553B",
           "#00cc96",
           "#ab63fa",
           "#FFA15A",
           "#19d3f3",
           "#FF6692",
           "#B6E880",
           "#FF97FF",
           "#FECB52"
          ],
          "font": {
           "color": "#2a3f5f"
          },
          "geo": {
           "bgcolor": "white",
           "lakecolor": "white",
           "landcolor": "#E5ECF6",
           "showlakes": true,
           "showland": true,
           "subunitcolor": "white"
          },
          "hoverlabel": {
           "align": "left"
          },
          "hovermode": "closest",
          "mapbox": {
           "style": "light"
          },
          "paper_bgcolor": "white",
          "plot_bgcolor": "#E5ECF6",
          "polar": {
           "angularaxis": {
            "gridcolor": "white",
            "linecolor": "white",
            "ticks": ""
           },
           "bgcolor": "#E5ECF6",
           "radialaxis": {
            "gridcolor": "white",
            "linecolor": "white",
            "ticks": ""
           }
          },
          "scene": {
           "xaxis": {
            "backgroundcolor": "#E5ECF6",
            "gridcolor": "white",
            "gridwidth": 2,
            "linecolor": "white",
            "showbackground": true,
            "ticks": "",
            "zerolinecolor": "white"
           },
           "yaxis": {
            "backgroundcolor": "#E5ECF6",
            "gridcolor": "white",
            "gridwidth": 2,
            "linecolor": "white",
            "showbackground": true,
            "ticks": "",
            "zerolinecolor": "white"
           },
           "zaxis": {
            "backgroundcolor": "#E5ECF6",
            "gridcolor": "white",
            "gridwidth": 2,
            "linecolor": "white",
            "showbackground": true,
            "ticks": "",
            "zerolinecolor": "white"
           }
          },
          "shapedefaults": {
           "line": {
            "color": "#2a3f5f"
           }
          },
          "ternary": {
           "aaxis": {
            "gridcolor": "white",
            "linecolor": "white",
            "ticks": ""
           },
           "baxis": {
            "gridcolor": "white",
            "linecolor": "white",
            "ticks": ""
           },
           "bgcolor": "#E5ECF6",
           "caxis": {
            "gridcolor": "white",
            "linecolor": "white",
            "ticks": ""
           }
          },
          "title": {
           "x": 0.05
          },
          "xaxis": {
           "automargin": true,
           "gridcolor": "white",
           "linecolor": "white",
           "ticks": "",
           "title": {
            "standoff": 15
           },
           "zerolinecolor": "white",
           "zerolinewidth": 2
          },
          "yaxis": {
           "automargin": true,
           "gridcolor": "white",
           "linecolor": "white",
           "ticks": "",
           "title": {
            "standoff": 15
           },
           "zerolinecolor": "white",
           "zerolinewidth": 2
          }
         }
        },
        "xaxis": {
         "showgrid": false,
         "showticklabels": false,
         "zeroline": false
        },
        "yaxis": {
         "showgrid": false,
         "showticklabels": false,
         "zeroline": false
        }
       }
      },
      "text/html": [
       "<div>                            <div id=\"56fe997d-e0c4-4ff9-aad0-a6d6a1a80e15\" class=\"plotly-graph-div\" style=\"height:525px; width:100%;\"></div>            <script type=\"text/javascript\">                require([\"plotly\"], function(Plotly) {                    window.PLOTLYENV=window.PLOTLYENV || {};                                    if (document.getElementById(\"56fe997d-e0c4-4ff9-aad0-a6d6a1a80e15\")) {                    Plotly.newPlot(                        \"56fe997d-e0c4-4ff9-aad0-a6d6a1a80e15\",                        [{\"hoverinfo\":\"none\",\"line\":{\"color\":\"blue\",\"width\":0.5},\"mode\":\"lines\",\"showlegend\":false,\"x\":[0.5,1.0,\"\",0.5,1.0,\"\",-0.5,-0.0,\"\",-0.0,0.5,\"\",-0.0,0.5,\"\",-1.0,-0.5,\"\",-0.5,-0.0,\"\"],\"y\":[-1.0,-1.0,\"\",1.0,1.0,\"\",-1.0,0.0,\"\",0.0,-1.0,\"\",0.0,1.0,\"\",-1.0,-1.0,\"\",1.0,0.0,\"\"],\"type\":\"scatter\",\"uid\":\"b1dd6898-422f-4d4e-b677-8fb268933682\"},{\"hoverinfo\":\"skip\",\"marker\":{\"color\":\"red\",\"reversescale\":true,\"showscale\":false,\"size\":15},\"mode\":\"markers+text\",\"showlegend\":false,\"text\":[\"wohngeld_eink_m\",\"wohngeld_eink_vor_abzug_m_tu\",\"abgelt_st_tu\",\"zu_verst_kapitaleink_tu\",\"kapitaleink_brutto\",\"kapitaleink_brutto_tu\",\"kapitaleink_brutto_m\",\"tu_id\"],\"textposition\":\"bottom center\",\"x\":[1.0,0.5,1.0,0.5,-0.5,-0.0,-1.0,-0.5],\"y\":[-1.0,-1.0,1.0,1.0,-1.0,0.0,-1.0,1.0],\"type\":\"scatter\",\"uid\":\"4d9c6f27-3367-418d-9fd9-206959e4bcbd\"},{\"hoverinfo\":\"skip\",\"marker\":{\"color\":\"red\",\"reversescale\":true,\"showscale\":false,\"size\":15},\"mode\":\"markers+text\",\"showlegend\":false,\"text\":[\"wohngeld_eink_m\",\"wohngeld_eink_vor_abzug_m_tu\",\"abgelt_st_tu\",\"zu_verst_kapitaleink_tu\",\"kapitaleink_brutto\",\"kapitaleink_brutto_tu\",\"kapitaleink_brutto_m\",\"tu_id\"],\"textposition\":\"bottom center\",\"x\":[1.0,0.5,1.0,0.5,-0.5,-0.0,-1.0,-0.5],\"y\":[-1.0,-1.0,1.0,1.0,-1.0,0.0,-1.0,1.0],\"type\":\"scatter\",\"uid\":\"72389990-7273-48a3-9eb2-79f2ac7e8f71\"}],                        {\"annotations\":[{\"arrowcolor\":\"gray\",\"arrowhead\":2,\"arrowsize\":2,\"ax\":0.5,\"axref\":\"x\",\"ay\":-1.0,\"ayref\":\"y\",\"showarrow\":true,\"standoff\":5,\"startstandoff\":5,\"text\":\"\",\"x\":1.0,\"xref\":\"x\",\"y\":-1.0,\"yref\":\"y\"},{\"arrowcolor\":\"gray\",\"arrowhead\":2,\"arrowsize\":2,\"ax\":0.5,\"axref\":\"x\",\"ay\":1.0,\"ayref\":\"y\",\"showarrow\":true,\"standoff\":5,\"startstandoff\":5,\"text\":\"\",\"x\":1.0,\"xref\":\"x\",\"y\":1.0,\"yref\":\"y\"},{\"arrowcolor\":\"gray\",\"arrowhead\":2,\"arrowsize\":2,\"ax\":-0.5,\"axref\":\"x\",\"ay\":-1.0,\"ayref\":\"y\",\"showarrow\":true,\"standoff\":5,\"startstandoff\":5,\"text\":\"\",\"x\":-0.0,\"xref\":\"x\",\"y\":0.0,\"yref\":\"y\"},{\"arrowcolor\":\"gray\",\"arrowhead\":2,\"arrowsize\":2,\"ax\":-0.0,\"axref\":\"x\",\"ay\":0.0,\"ayref\":\"y\",\"showarrow\":true,\"standoff\":5,\"startstandoff\":5,\"text\":\"\",\"x\":0.5,\"xref\":\"x\",\"y\":-1.0,\"yref\":\"y\"},{\"arrowcolor\":\"gray\",\"arrowhead\":2,\"arrowsize\":2,\"ax\":-0.0,\"axref\":\"x\",\"ay\":0.0,\"ayref\":\"y\",\"showarrow\":true,\"standoff\":5,\"startstandoff\":5,\"text\":\"\",\"x\":0.5,\"xref\":\"x\",\"y\":1.0,\"yref\":\"y\"},{\"arrowcolor\":\"gray\",\"arrowhead\":2,\"arrowsize\":2,\"ax\":-1.0,\"axref\":\"x\",\"ay\":-1.0,\"ayref\":\"y\",\"showarrow\":true,\"standoff\":5,\"startstandoff\":5,\"text\":\"\",\"x\":-0.5,\"xref\":\"x\",\"y\":-1.0,\"yref\":\"y\"},{\"arrowcolor\":\"gray\",\"arrowhead\":2,\"arrowsize\":2,\"ax\":-0.5,\"axref\":\"x\",\"ay\":1.0,\"ayref\":\"y\",\"showarrow\":true,\"standoff\":5,\"startstandoff\":5,\"text\":\"\",\"x\":-0.0,\"xref\":\"x\",\"y\":0.0,\"yref\":\"y\"}],\"hoverlabel\":{\"font\":{\"size\":10}},\"hovermode\":\"closest\",\"margin\":{\"b\":20,\"l\":5,\"r\":5,\"t\":40},\"showlegend\":false,\"xaxis\":{\"showgrid\":false,\"showticklabels\":false,\"zeroline\":false},\"yaxis\":{\"showgrid\":false,\"showticklabels\":false,\"zeroline\":false},\"template\":{\"data\":{\"barpolar\":[{\"marker\":{\"line\":{\"color\":\"#E5ECF6\",\"width\":0.5},\"pattern\":{\"fillmode\":\"overlay\",\"size\":10,\"solidity\":0.2}},\"type\":\"barpolar\"}],\"bar\":[{\"error_x\":{\"color\":\"#2a3f5f\"},\"error_y\":{\"color\":\"#2a3f5f\"},\"marker\":{\"line\":{\"color\":\"#E5ECF6\",\"width\":0.5},\"pattern\":{\"fillmode\":\"overlay\",\"size\":10,\"solidity\":0.2}},\"type\":\"bar\"}],\"carpet\":[{\"aaxis\":{\"endlinecolor\":\"#2a3f5f\",\"gridcolor\":\"white\",\"linecolor\":\"white\",\"minorgridcolor\":\"white\",\"startlinecolor\":\"#2a3f5f\"},\"baxis\":{\"endlinecolor\":\"#2a3f5f\",\"gridcolor\":\"white\",\"linecolor\":\"white\",\"minorgridcolor\":\"white\",\"startlinecolor\":\"#2a3f5f\"},\"type\":\"carpet\"}],\"choropleth\":[{\"colorbar\":{\"outlinewidth\":0,\"ticks\":\"\"},\"type\":\"choropleth\"}],\"contourcarpet\":[{\"colorbar\":{\"outlinewidth\":0,\"ticks\":\"\"},\"type\":\"contourcarpet\"}],\"contour\":[{\"colorbar\":{\"outlinewidth\":0,\"ticks\":\"\"},\"colorscale\":[[0.0,\"#0d0887\"],[0.1111111111111111,\"#46039f\"],[0.2222222222222222,\"#7201a8\"],[0.3333333333333333,\"#9c179e\"],[0.4444444444444444,\"#bd3786\"],[0.5555555555555556,\"#d8576b\"],[0.6666666666666666,\"#ed7953\"],[0.7777777777777778,\"#fb9f3a\"],[0.8888888888888888,\"#fdca26\"],[1.0,\"#f0f921\"]],\"type\":\"contour\"}],\"heatmapgl\":[{\"colorbar\":{\"outlinewidth\":0,\"ticks\":\"\"},\"colorscale\":[[0.0,\"#0d0887\"],[0.1111111111111111,\"#46039f\"],[0.2222222222222222,\"#7201a8\"],[0.3333333333333333,\"#9c179e\"],[0.4444444444444444,\"#bd3786\"],[0.5555555555555556,\"#d8576b\"],[0.6666666666666666,\"#ed7953\"],[0.7777777777777778,\"#fb9f3a\"],[0.8888888888888888,\"#fdca26\"],[1.0,\"#f0f921\"]],\"type\":\"heatmapgl\"}],\"heatmap\":[{\"colorbar\":{\"outlinewidth\":0,\"ticks\":\"\"},\"colorscale\":[[0.0,\"#0d0887\"],[0.1111111111111111,\"#46039f\"],[0.2222222222222222,\"#7201a8\"],[0.3333333333333333,\"#9c179e\"],[0.4444444444444444,\"#bd3786\"],[0.5555555555555556,\"#d8576b\"],[0.6666666666666666,\"#ed7953\"],[0.7777777777777778,\"#fb9f3a\"],[0.8888888888888888,\"#fdca26\"],[1.0,\"#f0f921\"]],\"type\":\"heatmap\"}],\"histogram2dcontour\":[{\"colorbar\":{\"outlinewidth\":0,\"ticks\":\"\"},\"colorscale\":[[0.0,\"#0d0887\"],[0.1111111111111111,\"#46039f\"],[0.2222222222222222,\"#7201a8\"],[0.3333333333333333,\"#9c179e\"],[0.4444444444444444,\"#bd3786\"],[0.5555555555555556,\"#d8576b\"],[0.6666666666666666,\"#ed7953\"],[0.7777777777777778,\"#fb9f3a\"],[0.8888888888888888,\"#fdca26\"],[1.0,\"#f0f921\"]],\"type\":\"histogram2dcontour\"}],\"histogram2d\":[{\"colorbar\":{\"outlinewidth\":0,\"ticks\":\"\"},\"colorscale\":[[0.0,\"#0d0887\"],[0.1111111111111111,\"#46039f\"],[0.2222222222222222,\"#7201a8\"],[0.3333333333333333,\"#9c179e\"],[0.4444444444444444,\"#bd3786\"],[0.5555555555555556,\"#d8576b\"],[0.6666666666666666,\"#ed7953\"],[0.7777777777777778,\"#fb9f3a\"],[0.8888888888888888,\"#fdca26\"],[1.0,\"#f0f921\"]],\"type\":\"histogram2d\"}],\"histogram\":[{\"marker\":{\"pattern\":{\"fillmode\":\"overlay\",\"size\":10,\"solidity\":0.2}},\"type\":\"histogram\"}],\"mesh3d\":[{\"colorbar\":{\"outlinewidth\":0,\"ticks\":\"\"},\"type\":\"mesh3d\"}],\"parcoords\":[{\"line\":{\"colorbar\":{\"outlinewidth\":0,\"ticks\":\"\"}},\"type\":\"parcoords\"}],\"pie\":[{\"automargin\":true,\"type\":\"pie\"}],\"scatter3d\":[{\"line\":{\"colorbar\":{\"outlinewidth\":0,\"ticks\":\"\"}},\"marker\":{\"colorbar\":{\"outlinewidth\":0,\"ticks\":\"\"}},\"type\":\"scatter3d\"}],\"scattercarpet\":[{\"marker\":{\"colorbar\":{\"outlinewidth\":0,\"ticks\":\"\"}},\"type\":\"scattercarpet\"}],\"scattergeo\":[{\"marker\":{\"colorbar\":{\"outlinewidth\":0,\"ticks\":\"\"}},\"type\":\"scattergeo\"}],\"scattergl\":[{\"marker\":{\"colorbar\":{\"outlinewidth\":0,\"ticks\":\"\"}},\"type\":\"scattergl\"}],\"scattermapbox\":[{\"marker\":{\"colorbar\":{\"outlinewidth\":0,\"ticks\":\"\"}},\"type\":\"scattermapbox\"}],\"scatterpolargl\":[{\"marker\":{\"colorbar\":{\"outlinewidth\":0,\"ticks\":\"\"}},\"type\":\"scatterpolargl\"}],\"scatterpolar\":[{\"marker\":{\"colorbar\":{\"outlinewidth\":0,\"ticks\":\"\"}},\"type\":\"scatterpolar\"}],\"scatter\":[{\"fillpattern\":{\"fillmode\":\"overlay\",\"size\":10,\"solidity\":0.2},\"type\":\"scatter\"}],\"scatterternary\":[{\"marker\":{\"colorbar\":{\"outlinewidth\":0,\"ticks\":\"\"}},\"type\":\"scatterternary\"}],\"surface\":[{\"colorbar\":{\"outlinewidth\":0,\"ticks\":\"\"},\"colorscale\":[[0.0,\"#0d0887\"],[0.1111111111111111,\"#46039f\"],[0.2222222222222222,\"#7201a8\"],[0.3333333333333333,\"#9c179e\"],[0.4444444444444444,\"#bd3786\"],[0.5555555555555556,\"#d8576b\"],[0.6666666666666666,\"#ed7953\"],[0.7777777777777778,\"#fb9f3a\"],[0.8888888888888888,\"#fdca26\"],[1.0,\"#f0f921\"]],\"type\":\"surface\"}],\"table\":[{\"cells\":{\"fill\":{\"color\":\"#EBF0F8\"},\"line\":{\"color\":\"white\"}},\"header\":{\"fill\":{\"color\":\"#C8D4E3\"},\"line\":{\"color\":\"white\"}},\"type\":\"table\"}]},\"layout\":{\"annotationdefaults\":{\"arrowcolor\":\"#2a3f5f\",\"arrowhead\":0,\"arrowwidth\":1},\"autotypenumbers\":\"strict\",\"coloraxis\":{\"colorbar\":{\"outlinewidth\":0,\"ticks\":\"\"}},\"colorscale\":{\"diverging\":[[0,\"#8e0152\"],[0.1,\"#c51b7d\"],[0.2,\"#de77ae\"],[0.3,\"#f1b6da\"],[0.4,\"#fde0ef\"],[0.5,\"#f7f7f7\"],[0.6,\"#e6f5d0\"],[0.7,\"#b8e186\"],[0.8,\"#7fbc41\"],[0.9,\"#4d9221\"],[1,\"#276419\"]],\"sequential\":[[0.0,\"#0d0887\"],[0.1111111111111111,\"#46039f\"],[0.2222222222222222,\"#7201a8\"],[0.3333333333333333,\"#9c179e\"],[0.4444444444444444,\"#bd3786\"],[0.5555555555555556,\"#d8576b\"],[0.6666666666666666,\"#ed7953\"],[0.7777777777777778,\"#fb9f3a\"],[0.8888888888888888,\"#fdca26\"],[1.0,\"#f0f921\"]],\"sequentialminus\":[[0.0,\"#0d0887\"],[0.1111111111111111,\"#46039f\"],[0.2222222222222222,\"#7201a8\"],[0.3333333333333333,\"#9c179e\"],[0.4444444444444444,\"#bd3786\"],[0.5555555555555556,\"#d8576b\"],[0.6666666666666666,\"#ed7953\"],[0.7777777777777778,\"#fb9f3a\"],[0.8888888888888888,\"#fdca26\"],[1.0,\"#f0f921\"]]},\"colorway\":[\"#636efa\",\"#EF553B\",\"#00cc96\",\"#ab63fa\",\"#FFA15A\",\"#19d3f3\",\"#FF6692\",\"#B6E880\",\"#FF97FF\",\"#FECB52\"],\"font\":{\"color\":\"#2a3f5f\"},\"geo\":{\"bgcolor\":\"white\",\"lakecolor\":\"white\",\"landcolor\":\"#E5ECF6\",\"showlakes\":true,\"showland\":true,\"subunitcolor\":\"white\"},\"hoverlabel\":{\"align\":\"left\"},\"hovermode\":\"closest\",\"mapbox\":{\"style\":\"light\"},\"paper_bgcolor\":\"white\",\"plot_bgcolor\":\"#E5ECF6\",\"polar\":{\"angularaxis\":{\"gridcolor\":\"white\",\"linecolor\":\"white\",\"ticks\":\"\"},\"bgcolor\":\"#E5ECF6\",\"radialaxis\":{\"gridcolor\":\"white\",\"linecolor\":\"white\",\"ticks\":\"\"}},\"scene\":{\"xaxis\":{\"backgroundcolor\":\"#E5ECF6\",\"gridcolor\":\"white\",\"gridwidth\":2,\"linecolor\":\"white\",\"showbackground\":true,\"ticks\":\"\",\"zerolinecolor\":\"white\"},\"yaxis\":{\"backgroundcolor\":\"#E5ECF6\",\"gridcolor\":\"white\",\"gridwidth\":2,\"linecolor\":\"white\",\"showbackground\":true,\"ticks\":\"\",\"zerolinecolor\":\"white\"},\"zaxis\":{\"backgroundcolor\":\"#E5ECF6\",\"gridcolor\":\"white\",\"gridwidth\":2,\"linecolor\":\"white\",\"showbackground\":true,\"ticks\":\"\",\"zerolinecolor\":\"white\"}},\"shapedefaults\":{\"line\":{\"color\":\"#2a3f5f\"}},\"ternary\":{\"aaxis\":{\"gridcolor\":\"white\",\"linecolor\":\"white\",\"ticks\":\"\"},\"baxis\":{\"gridcolor\":\"white\",\"linecolor\":\"white\",\"ticks\":\"\"},\"bgcolor\":\"#E5ECF6\",\"caxis\":{\"gridcolor\":\"white\",\"linecolor\":\"white\",\"ticks\":\"\"}},\"title\":{\"x\":0.05},\"xaxis\":{\"automargin\":true,\"gridcolor\":\"white\",\"linecolor\":\"white\",\"ticks\":\"\",\"title\":{\"standoff\":15},\"zerolinecolor\":\"white\",\"zerolinewidth\":2},\"yaxis\":{\"automargin\":true,\"gridcolor\":\"white\",\"linecolor\":\"white\",\"ticks\":\"\",\"title\":{\"standoff\":15},\"zerolinecolor\":\"white\",\"zerolinewidth\":2}}}},                        {\"responsive\": true}                    ).then(function(){\n",
       "                            \n",
       "var gd = document.getElementById('56fe997d-e0c4-4ff9-aad0-a6d6a1a80e15');\n",
       "var x = new MutationObserver(function (mutations, observer) {{\n",
       "        var display = window.getComputedStyle(gd).display;\n",
       "        if (!display || display === 'none') {{\n",
       "            console.log([gd, 'removed!']);\n",
       "            Plotly.purge(gd);\n",
       "            observer.disconnect();\n",
       "        }}\n",
       "}});\n",
       "\n",
       "// Listen for the removal of the full notebook cells\n",
       "var notebookContainer = gd.closest('#notebook-container');\n",
       "if (notebookContainer) {{\n",
       "    x.observe(notebookContainer, {childList: true});\n",
       "}}\n",
       "\n",
       "// Listen for the clearing of the current output cell\n",
       "var outputEl = gd.closest('.output');\n",
       "if (outputEl) {{\n",
       "    x.observe(outputEl, {childList: true});\n",
       "}}\n",
       "\n",
       "                        })                };                });            </script>        </div>"
      ]
     },
     "metadata": {},
     "output_type": "display_data"
    }
   ],
   "source": [
    "selector = {\"type\": \"neighbors\", \"node\": \"kapitaleink_brutto_tu\", \"order\": 2}\n",
    "plot_dag(functions=policy_functions, selectors=selector, orientation ='h')"
   ]
  },
  {
   "cell_type": "code",
   "execution_count": null,
   "id": "44ad2521",
   "metadata": {},
   "outputs": [],
   "source": []
  }
 ],
 "metadata": {
  "hide_input": false,
  "kernelspec": {
   "display_name": "Python 3.9.10 ('gettsim')",
   "language": "python",
   "name": "python3"
  },
  "language_info": {
   "codemirror_mode": {
    "name": "ipython",
    "version": 3
   },
   "file_extension": ".py",
   "mimetype": "text/x-python",
   "name": "python",
   "nbconvert_exporter": "python",
   "pygments_lexer": "ipython3",
   "version": "3.9.13"
  },
  "toc": {
   "base_numbering": 1,
   "nav_menu": {},
   "number_sections": false,
   "sideBar": true,
   "skip_h1_title": false,
   "title_cell": "Table of Contents",
   "title_sidebar": "Contents",
   "toc_cell": false,
   "toc_position": {
    "height": "calc(100% - 180px)",
    "left": "10px",
    "top": "150px",
    "width": "304px"
   },
   "toc_section_display": true,
   "toc_window_display": false
  },
  "vscode": {
   "interpreter": {
    "hash": "e801ed0d18e126a401e4a4664675a364556320607a5484f64c5b35b04c9b6927"
   }
  }
 },
 "nbformat": 4,
 "nbformat_minor": 5
}
