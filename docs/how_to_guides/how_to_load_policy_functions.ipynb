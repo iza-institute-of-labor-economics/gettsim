{
 "cells": [
  {
   "cell_type": "markdown",
   "metadata": {},
   "source": [
    "# How to load policy functions\n",
    "\n",
    "## Introduction\n",
    "\n",
    "This how-to guide is purely about the different ways you can pass policy functions to the `functions` argument of `compute_taxes_and_transfers()` which will extend or replace parts of the current policy environment."
   ]
  },
  {
   "cell_type": "code",
   "execution_count": 1,
   "metadata": {},
   "outputs": [],
   "source": [
    "from pathlib import Path\n",
    "from gettsim import ROOT_DIR\n",
    "from gettsim import compute_taxes_and_transfers\n",
    "from gettsim import set_up_policy_environment"
   ]
  },
  {
   "cell_type": "markdown",
   "metadata": {},
   "source": [
    "This tutorial starts after the user called `set_up_policy_environment` and received the `policy_parameters` and `policy_functions`."
   ]
  },
  {
   "cell_type": "code",
   "execution_count": 2,
   "metadata": {},
   "outputs": [],
   "source": [
    "policy_params, policy_functions = set_up_policy_environment(2020)"
   ]
  },
  {
   "cell_type": "markdown",
   "metadata": {},
   "source": [
    "## A single function\n",
    "\n",
    "One way to pass a single function to the tax and transfer system is alongside the `policy_functions`. As an example, we create a function called `kindergeld_m_hh`. The function has no body because it is irrelevant for this guide. The function can be passed to `compute_taxes_and_transfers` alongside the `policy_functions` by placing both objects in a list."
   ]
  },
  {
   "cell_type": "code",
   "execution_count": 3,
   "metadata": {},
   "outputs": [],
   "source": [
    "def kindergeld_m_hh():\n",
    "    pass"
   ]
  },
  {
   "cell_type": "markdown",
   "metadata": {},
   "source": [
    "Here is how you would call `compute_taxes_and_transfers`:\n",
    "\n",
    "```python\n",
    "df = compute_taxes_and_transfers(\n",
    "    data=data,\n",
    "    params=policy_params,\n",
    "    functions=[policy_functions, kindergeld_m_hh],\n",
    "    targets=\"kindergeld_m\",\n",
    ")\n",
    "```\n",
    "\n",
    "There are three important points.\n",
    "\n",
    "1. Note that, `kindergeld_m_hh` has the same function name as a [pre-defined function](https://gettsim.readthedocs.io/en/latest/functions.html#gettsim.functions.kindergeld_m_hh) inside gettsim. Thus, the internal function will be replaced with this version.\n",
    "\n",
    "2. In general, if there are multiple functions with the same name, internal functions have the lowest precedence. After that, the elements in the list passed to the `functions` argument are evaluated element by element. The leftmost element has the lowest precedence and the rightmost element the highest.\n",
    "\n",
    "3. If `policy_functions` would not be necessary for this example, you can also directly pass the `kindergeld_m_hh` function to the `functions` argument.\n",
    "\n",
    "   ```python\n",
    "   df = compute_taxes_and_transfers(\n",
    "       ...,\n",
    "       functions=kindergeld_m_hh,\n",
    "       ...,\n",
    "   )\n",
    "   ```\n",
    "   \n",
    "## Multiple functions\n",
    "\n",
    "If you want to pass multiple functions to `compute_taxes_and_transfers`, add all functions to the list. Assume we also want to override `kindergeld_m` and have a function for that as well. Then, the call looks like this:\n",
    "\n",
    "```python\n",
    "df = compute_taxes_and_transfers(\n",
    "    data=data,\n",
    "    params=policy_params,\n",
    "    functions=[policy_functions, kindergeld_m_hh, kindergeld_m],\n",
    "    targets=\"kindergeld_m\",\n",
    ")\n",
    "```"
   ]
  },
  {
   "cell_type": "markdown",
   "metadata": {},
   "source": [
    "## Renaming functions\n",
    "\n",
    "Assume you want to analyze the effects of multiple different child benefit policies with different functions. Usually, you would group them in one module, say `kindergeld.py`. You cannot give them all the same name and it is also preferred to give them self-explanatory names."
   ]
  },
  {
   "cell_type": "code",
   "execution_count": 4,
   "metadata": {},
   "outputs": [],
   "source": [
    "# Content of kindergeld.py\n",
    "\n",
    "def kindergeld_m_hh_constant_per_hh():\n",
    "    pass\n",
    "\n",
    "\n",
    "def kindergeld_m_hh_constant_per_child():\n",
    "    pass"
   ]
  },
  {
   "cell_type": "markdown",
   "metadata": {},
   "source": [
    "Since the functions do not have the same name as the original function `kindergeld_m_hh`, they would not override this function if we pass one of them to `compute_taxes_and_transfers`. To solve this issue, we can use dictionaries.\n",
    "\n",
    "The keys of the dictionary are the names which will be used for the functions which are the values of the dictionary. The following code snippet shows the pseudo-code for the task.\n",
    "\n",
    "```python\n",
    "simulated_data = []\n",
    "for func in [\n",
    "    kindergeld_m_hh_constant_per_hh,\n",
    "    kindergeld_m_hh_constant_per_child,\n",
    "]:\n",
    "    df = compute_taxes_and_transfers(\n",
    "        data=data,\n",
    "        params=policy_params,\n",
    "        functions=[policy_functions, {\"kindergeld_m_hh\": func}],\n",
    "        targets=\"kindergeld_m\",\n",
    "    )\n",
    "    simulated_data.append(df)\n",
    "```"
   ]
  },
  {
   "cell_type": "markdown",
   "metadata": {},
   "source": [
    "## Paths to packages or modules\n",
    "\n",
    "If you have heavily extended the tax and transfer system to your needs, you might have a `.py` file with several functions or even several `.py` files with several functions. Assume you have a folder `taxes` which has the following directory structure:\n",
    "\n",
    "```bash\n",
    "taxes\n",
    "│   abgelt_st.py\n",
    "│   eink_st.py\n",
    "│   favorability_check.py\n",
    "│   kindergeld.py\n",
    "│   soli_st.py\n",
    "│   __init__.py\n",
    "│\n",
    "├───zu_verst_eink\n",
    "│       eink.py\n",
    "│       freibetraege.py\n",
    "│       vorsorge.py\n",
    "│       zu_verst_eink.py\n",
    "│       __init__.py\n",
    "```\n",
    "\n",
    "Indeed, the folder structure exists inside gettsim and we can locate it with"
   ]
  },
  {
   "cell_type": "code",
   "execution_count": 5,
   "metadata": {},
   "outputs": [
    {
     "data": {
      "text/plain": [
       "WindowsPath('C:/Users/tobia/git/gettsim/gettsim/taxes')"
      ]
     },
     "execution_count": 5,
     "metadata": {},
     "output_type": "execute_result"
    }
   ],
   "source": [
    "path = ROOT_DIR.joinpath(\"taxes\")\n",
    "path"
   ]
  },
  {
   "cell_type": "markdown",
   "metadata": {},
   "source": [
    "To collect only functions from `abgelt_st.py`, you can pass the path to the file as a string or as a `pathlib.Path`."
   ]
  },
  {
   "cell_type": "code",
   "execution_count": 6,
   "metadata": {},
   "outputs": [
    {
     "data": {
      "text/plain": [
       "'C:\\xxx\\gettsim\\\\gettsim\\\\taxes'"
      ]
     },
     "execution_count": 6,
     "metadata": {},
     "output_type": "execute_result"
    }
   ],
   "source": [
    "path_str = str(path)\n",
    "path_str"
   ]
  },
  {
   "cell_type": "code",
   "execution_count": 7,
   "metadata": {},
   "outputs": [
    {
     "data": {
      "text/plain": [
       "'C:\\xxx\\gettsim\\\\gettsim\\\\taxes\\\\abgelt_st.py'"
      ]
     },
     "execution_count": 7,
     "metadata": {},
     "output_type": "execute_result"
    }
   ],
   "source": [
    "# Path as string.\n",
    "functions = path_str + \"\\\\abgelt_st.py\"\n",
    "functions"
   ]
  },
  {
   "cell_type": "code",
   "execution_count": 8,
   "metadata": {},
   "outputs": [
    {
     "data": {
      "text/plain": [
       "WindowsPath('C:/Users/tobia/git/gettsim/gettsim/taxes/abgelt_st.py')"
      ]
     },
     "execution_count": 8,
     "metadata": {},
     "output_type": "execute_result"
    }
   ],
   "source": [
    "functions = path / \"abgelt_st.py\"\n",
    "functions"
   ]
  },
  {
   "cell_type": "markdown",
   "metadata": {},
   "source": [
    "To collect multiple Python files, use a list of paths or strings."
   ]
  },
  {
   "cell_type": "code",
   "execution_count": 9,
   "metadata": {},
   "outputs": [
    {
     "data": {
      "text/plain": [
       "[WindowsPath('C:/Users/tobia/git/gettsim/gettsim/taxes/eink_st.py'),\n",
       " WindowsPath('C:/Users/tobia/git/gettsim/gettsim/taxes/zu_verst_eink/eink.py')]"
      ]
     },
     "execution_count": 9,
     "metadata": {},
     "output_type": "execute_result"
    }
   ],
   "source": [
    "functions = [\n",
    "    path / \"eink_st.py\",\n",
    "    path / \"zu_verst_eink\" / \"eink.py\"\n",
    "]\n",
    "functions"
   ]
  },
  {
   "cell_type": "markdown",
   "metadata": {},
   "source": [
    "To collect all Python files in the folder `taxes`, use"
   ]
  },
  {
   "cell_type": "code",
   "execution_count": 10,
   "metadata": {},
   "outputs": [
    {
     "data": {
      "text/plain": [
       "[WindowsPath('C:/Users/tobia/git/gettsim/gettsim/taxes/abgelt_st.py'),\n",
       " WindowsPath('C:/Users/tobia/git/gettsim/gettsim/taxes/eink_st.py'),\n",
       " WindowsPath('C:/Users/tobia/git/gettsim/gettsim/taxes/favorability_check.py'),\n",
       " WindowsPath('C:/Users/tobia/git/gettsim/gettsim/taxes/kindergeld.py'),\n",
       " WindowsPath('C:/Users/tobia/git/gettsim/gettsim/taxes/soli_st.py'),\n",
       " WindowsPath('C:/Users/tobia/git/gettsim/gettsim/taxes/__init__.py')]"
      ]
     },
     "execution_count": 10,
     "metadata": {},
     "output_type": "execute_result"
    }
   ],
   "source": [
    "functions = list(path.glob(\"*.py\"))\n",
    "functions"
   ]
  },
  {
   "cell_type": "markdown",
   "metadata": {},
   "source": [
    "If you want to pass all functions defined in Python files in `taxes` and directories below, you can simply pass a directory as the function. Paths to directories will be recursively searched for Python files."
   ]
  },
  {
   "cell_type": "code",
   "execution_count": 11,
   "metadata": {},
   "outputs": [
    {
     "data": {
      "text/plain": [
       "'C:\\xxx\\gettsim\\\\gettsim\\\\taxes'"
      ]
     },
     "execution_count": 11,
     "metadata": {},
     "output_type": "execute_result"
    }
   ],
   "source": [
    "functions = str(path)\n",
    "functions"
   ]
  },
  {
   "cell_type": "code",
   "execution_count": 12,
   "metadata": {},
   "outputs": [
    {
     "data": {
      "text/plain": [
       "WindowsPath('C:/Users/tobia/git/gettsim/gettsim/taxes')"
      ]
     },
     "execution_count": 12,
     "metadata": {},
     "output_type": "execute_result"
    }
   ],
   "source": [
    "functions = path\n",
    "functions"
   ]
  },
  {
   "cell_type": "markdown",
   "metadata": {},
   "source": [
    "## Modules\n",
    "\n",
    "You can also pass a module name; all functions in this module will be loaded. Assume you have import `abgelt_st.py`, you can pass all of its functions as functions with"
   ]
  },
  {
   "cell_type": "code",
   "execution_count": 13,
   "metadata": {},
   "outputs": [],
   "source": [
    "from gettsim.taxes import abgelt_st"
   ]
  },
  {
   "cell_type": "code",
   "execution_count": 14,
   "metadata": {},
   "outputs": [
    {
     "data": {
      "text/plain": [
       "<module 'gettsim.taxes.abgelt_st' from 'C:\\xxx\\gettsim\\\\gettsim\\\\taxes\\\\abgelt_st.py'>"
      ]
     },
     "execution_count": 14,
     "metadata": {},
     "output_type": "execute_result"
    }
   ],
   "source": [
    "functions = abgelt_st\n",
    "functions"
   ]
  },
  {
   "cell_type": "markdown",
   "metadata": {},
   "source": [
    "Instead of importing modules, you can also provide an import statement as a string. The following would yield the same result as the solution before."
   ]
  },
  {
   "cell_type": "code",
   "execution_count": 15,
   "metadata": {},
   "outputs": [
    {
     "data": {
      "text/plain": [
       "'gettsim.taxes.abgelt_st'"
      ]
     },
     "execution_count": 15,
     "metadata": {},
     "output_type": "execute_result"
    }
   ],
   "source": [
    "functions = \"gettsim.taxes.abgelt_st\"\n",
    "functions"
   ]
  }
 ],
 "metadata": {
  "kernelspec": {
   "display_name": "Python 3",
   "language": "python",
   "name": "python3"
  },
  "language_info": {
   "codemirror_mode": {
    "name": "ipython",
    "version": 3
   },
   "file_extension": ".py",
   "mimetype": "text/x-python",
   "name": "python",
   "nbconvert_exporter": "python",
   "pygments_lexer": "ipython3",
   "version": "3.7.7"
  }
 },
 "nbformat": 4,
 "nbformat_minor": 4
}
