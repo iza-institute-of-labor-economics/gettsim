{
 "cells": [
  {
   "cell_type": "markdown",
   "metadata": {},
   "source": [
    "# Changing Parameters of the Taxes and Transfers System"
   ]
  },
  {
   "cell_type": "markdown",
   "metadata": {},
   "source": [
    "This tutorial focuses on the `policy_params` of GETTSIM, one of the two objects returned by the function `set_up_policy_environment`. It is a dictionary that contains all the date-specific parameters (e.g. level of unemployment benefit) that are necessary to compute the target variables we are interested in. GETTSIM not only provides current and past policy environments, but also allows users to alter policies for instance by changing parameters."
   ]
  },
  {
   "cell_type": "code",
   "execution_count": 1,
   "metadata": {},
   "outputs": [],
   "source": [
    "import copy\n",
    "import pandas as pd\n",
    "import numpy as np\n",
    "import plotly.express as px\n",
    "\n",
    "from gettsim import set_up_policy_environment\n",
    "from gettsim import compute_taxes_and_transfers\n",
    "from gettsim import create_synthetic_data"
   ]
  },
  {
   "cell_type": "markdown",
   "metadata": {},
   "source": [
    "## Example: Increasing Child Benefit\n",
    "\n",
    "In this tutorial, we will implement such a policy change: a raise of the child benefit by 20 € for each child.\n",
    "\n",
    "*Small Recap: Kindergeld is a child benefit that can be claimed by parents in Germany. Mainly lower-income families benefit from Kindergeld. For higher-income families, the tax credits for children are more advantageous, so that they do not receive Kindergeld. The child benefit and how they are implemented in GETTSIM is explained in more detail in the* [advanced usage tutorial](advanced_usage.ipynb).\n",
    "\n",
    "To implement the raise in GETTSIM, we will change relevant parameters in the existing system by editing the policy parameters that shape the policy environment."
   ]
  },
  {
   "cell_type": "markdown",
   "metadata": {},
   "source": [
    "## Finding the Relevant Parameter\n",
    "\n",
    "Firstly, we can load the existing policy environment for the year 2020 using the function `set_up_policy_environment`."
   ]
  },
  {
   "cell_type": "code",
   "execution_count": 2,
   "metadata": {},
   "outputs": [],
   "source": [
    "policy_params, policy_functions = set_up_policy_environment(\"2020\")"
   ]
  },
  {
   "cell_type": "markdown",
   "metadata": {},
   "source": [
    "We can open the dictionary with all the parameters by typing `policy_params`. The parameters are saved to a nested dictionary, meaning that the dictionary consists of multiple further dictionaries. This can make displaying the parameter values look confusing at first sight.\n",
    "\n",
    "To get an idea of the structure of the dictionary, we will work us through it step by step. First we take a look at the `keys` of the `dict`. The first layer of keys represent different policy groups."
   ]
  },
  {
   "cell_type": "code",
   "execution_count": 3,
   "metadata": {},
   "outputs": [
    {
     "name": "stdout",
     "output_type": "stream",
     "text": [
      "eink_st\n",
      "eink_st_abzuege\n",
      "soli_st\n",
      "arbeitsl_geld\n",
      "soz_vers_beitr\n",
      "unterhalt\n",
      "abgelt_st\n",
      "wohngeld\n",
      "kinderzuschl\n",
      "kindergeld\n",
      "elterngeld\n",
      "ges_rente\n",
      "arbeitsl_geld_2\n",
      "grunds_im_alter\n"
     ]
    }
   ],
   "source": [
    "print(*policy_params.keys(), sep=\"\\n\")"
   ]
  },
  {
   "cell_type": "markdown",
   "metadata": {},
   "source": [
    "Since we are interested in altering child benefits, we will select the key \"kindergeld\" to inspect the according parameters further. The parameters are saved to a sub-dictionary which can be selected using `policy_params[\"kindergeld\"]`. It contains the keys to different parameter groups that affect child benefits in the German system:"
   ]
  },
  {
   "cell_type": "code",
   "execution_count": 4,
   "metadata": {},
   "outputs": [
    {
     "name": "stdout",
     "output_type": "stream",
     "text": [
      "altersgrenze\n",
      "kindergeld\n",
      "einkommensgrenze\n",
      "stundengrenze\n",
      "kinderbonus\n",
      "datum\n"
     ]
    }
   ],
   "source": [
    "print(*policy_params[\"kindergeld\"].keys(), sep=\"\\n\")"
   ]
  },
  {
   "cell_type": "markdown",
   "metadata": {},
   "source": [
    "- **kindergeld_altersgrenze** is the maximum age of a child that is entitled to *Kindergeld*.\n",
    "\n",
    "- **kindergeld** is the amount of money that parents receive for their children.\n",
    "\n",
    "- **kindergeld_einkommensgrenze** is the maximum annual income of a child that is still entitled to *Kindergeld*.\n",
    "\n",
    "- **kindergeld_stundengrenze** is the maximum number of weekly working hours of a child that is entitled to *Kindergeld*.\n",
    "\n",
    "- **datum** specifies the date to which the parameters apply in the German taxes and transfers system. \n",
    "\n",
    "The reform we are simulating influences the amount of money that parents receive for their children. Let us take a look at the value of this parameter:"
   ]
  },
  {
   "cell_type": "code",
   "execution_count": 5,
   "metadata": {},
   "outputs": [
    {
     "data": {
      "text/plain": [
       "{1: 204, 2: 204, 3: 210, 4: 235}"
      ]
     },
     "execution_count": 5,
     "metadata": {},
     "output_type": "execute_result"
    }
   ],
   "source": [
    "policy_params[\"kindergeld\"][\"kindergeld\"]"
   ]
  },
  {
   "cell_type": "markdown",
   "metadata": {},
   "source": [
    "For the first and second child, the monthly *Kindergeld* is 204€. For the third child, monthly *Kindergeld* is 210€. For each additional child, *Kindergeld* is 235€.\n",
    "\n",
    "## Changing the Parameter\n",
    "\n",
    "To implement the bonus, we create a new parameter dictionary by creating a copy of the original which we can then alter."
   ]
  },
  {
   "cell_type": "code",
   "execution_count": 6,
   "metadata": {},
   "outputs": [],
   "source": [
    "policy_params_new = copy.deepcopy(policy_params)"
   ]
  },
  {
   "cell_type": "markdown",
   "metadata": {},
   "source": [
    "Using a loop, we add the 100€ to each entry of our new `policy_params_with_bonus[\"kindergeld\"][\"kindergeld\"]`."
   ]
  },
  {
   "cell_type": "code",
   "execution_count": 7,
   "metadata": {},
   "outputs": [],
   "source": [
    "# Loop through policy paramaters to add the special child bonus.\n",
    "for n in policy_params_new[\"kindergeld\"][\"kindergeld\"]:\n",
    "    policy_params_new[\"kindergeld\"][\"kindergeld\"][n] += 20"
   ]
  },
  {
   "cell_type": "markdown",
   "metadata": {},
   "source": [
    "Now we can check if the ```[\"kindergeld\"][\"kindergeld\"]``` entries in the new parameter dictionary (```policy_params_new```) are as expected:"
   ]
  },
  {
   "cell_type": "code",
   "execution_count": 8,
   "metadata": {},
   "outputs": [
    {
     "data": {
      "text/plain": [
       "{1: 224, 2: 224, 3: 230, 4: 255}"
      ]
     },
     "execution_count": 8,
     "metadata": {},
     "output_type": "execute_result"
    }
   ],
   "source": [
    "policy_params_new[\"kindergeld\"][\"kindergeld\"]"
   ]
  },
  {
   "cell_type": "markdown",
   "metadata": {},
   "source": [
    "It worked, we raised all values by 20!"
   ]
  },
  {
   "cell_type": "markdown",
   "metadata": {},
   "source": [
    "## Applying the Edited Parameter Dictionary to Simulated Households\n",
    "\n",
    "We use simulated data to illustrate the impact of the bonus we added to the *Kindergeld* parameters. For simplicity, we will only look at households with two children and two parents. "
   ]
  },
  {
   "cell_type": "code",
   "execution_count": 9,
   "metadata": {
    "scrolled": true
   },
   "outputs": [
    {
     "data": {
      "text/html": [
       "<div>\n",
       "<style scoped>\n",
       "    .dataframe tbody tr th:only-of-type {\n",
       "        vertical-align: middle;\n",
       "    }\n",
       "\n",
       "    .dataframe tbody tr th {\n",
       "        vertical-align: top;\n",
       "    }\n",
       "\n",
       "    .dataframe thead th {\n",
       "        text-align: right;\n",
       "    }\n",
       "</style>\n",
       "<table border=\"1\" class=\"dataframe\">\n",
       "  <thead>\n",
       "    <tr style=\"text-align: right;\">\n",
       "      <th></th>\n",
       "      <th>p_id</th>\n",
       "      <th>hh_id</th>\n",
       "      <th>tu_id</th>\n",
       "      <th>hh_typ</th>\n",
       "      <th>kind</th>\n",
       "      <th>bruttolohn_m</th>\n",
       "      <th>alter</th>\n",
       "      <th>weiblich</th>\n",
       "      <th>rentner</th>\n",
       "      <th>alleinerz</th>\n",
       "      <th>...</th>\n",
       "      <th>m_ausbild_suche</th>\n",
       "      <th>m_schul_ausbild</th>\n",
       "      <th>m_geringf_beschäft</th>\n",
       "      <th>m_alg1_übergang</th>\n",
       "      <th>m_ersatzzeit</th>\n",
       "      <th>m_kind_berücks_zeit</th>\n",
       "      <th>m_pfleg_berücks_zeit</th>\n",
       "      <th>y_pflichtbeitr_ab_40</th>\n",
       "      <th>anz_kinder_bis_17_hh</th>\n",
       "      <th>sum_ges_rente_priv_rente_m</th>\n",
       "    </tr>\n",
       "  </thead>\n",
       "  <tbody>\n",
       "    <tr>\n",
       "      <th>0</th>\n",
       "      <td>0</td>\n",
       "      <td>0</td>\n",
       "      <td>0</td>\n",
       "      <td>couple_2_children</td>\n",
       "      <td>False</td>\n",
       "      <td>1500.000000</td>\n",
       "      <td>50</td>\n",
       "      <td>False</td>\n",
       "      <td>False</td>\n",
       "      <td>False</td>\n",
       "      <td>...</td>\n",
       "      <td>0.0</td>\n",
       "      <td>10.0</td>\n",
       "      <td>0.0</td>\n",
       "      <td>0.0</td>\n",
       "      <td>0.0</td>\n",
       "      <td>24.0</td>\n",
       "      <td>1.0</td>\n",
       "      <td>120.0</td>\n",
       "      <td>2</td>\n",
       "      <td>0.0</td>\n",
       "    </tr>\n",
       "    <tr>\n",
       "      <th>1</th>\n",
       "      <td>1</td>\n",
       "      <td>0</td>\n",
       "      <td>0</td>\n",
       "      <td>couple_2_children</td>\n",
       "      <td>False</td>\n",
       "      <td>0.000000</td>\n",
       "      <td>50</td>\n",
       "      <td>True</td>\n",
       "      <td>False</td>\n",
       "      <td>False</td>\n",
       "      <td>...</td>\n",
       "      <td>0.0</td>\n",
       "      <td>10.0</td>\n",
       "      <td>0.0</td>\n",
       "      <td>0.0</td>\n",
       "      <td>0.0</td>\n",
       "      <td>24.0</td>\n",
       "      <td>1.0</td>\n",
       "      <td>120.0</td>\n",
       "      <td>2</td>\n",
       "      <td>0.0</td>\n",
       "    </tr>\n",
       "    <tr>\n",
       "      <th>2</th>\n",
       "      <td>2</td>\n",
       "      <td>0</td>\n",
       "      <td>0</td>\n",
       "      <td>couple_2_children</td>\n",
       "      <td>True</td>\n",
       "      <td>0.000000</td>\n",
       "      <td>10</td>\n",
       "      <td>False</td>\n",
       "      <td>False</td>\n",
       "      <td>False</td>\n",
       "      <td>...</td>\n",
       "      <td>0.0</td>\n",
       "      <td>10.0</td>\n",
       "      <td>0.0</td>\n",
       "      <td>0.0</td>\n",
       "      <td>0.0</td>\n",
       "      <td>24.0</td>\n",
       "      <td>1.0</td>\n",
       "      <td>0.0</td>\n",
       "      <td>2</td>\n",
       "      <td>0.0</td>\n",
       "    </tr>\n",
       "    <tr>\n",
       "      <th>3</th>\n",
       "      <td>3</td>\n",
       "      <td>0</td>\n",
       "      <td>0</td>\n",
       "      <td>couple_2_children</td>\n",
       "      <td>True</td>\n",
       "      <td>0.000000</td>\n",
       "      <td>5</td>\n",
       "      <td>False</td>\n",
       "      <td>False</td>\n",
       "      <td>False</td>\n",
       "      <td>...</td>\n",
       "      <td>0.0</td>\n",
       "      <td>10.0</td>\n",
       "      <td>0.0</td>\n",
       "      <td>0.0</td>\n",
       "      <td>0.0</td>\n",
       "      <td>24.0</td>\n",
       "      <td>1.0</td>\n",
       "      <td>0.0</td>\n",
       "      <td>2</td>\n",
       "      <td>0.0</td>\n",
       "    </tr>\n",
       "    <tr>\n",
       "      <th>4</th>\n",
       "      <td>4</td>\n",
       "      <td>1</td>\n",
       "      <td>1</td>\n",
       "      <td>couple_2_children</td>\n",
       "      <td>False</td>\n",
       "      <td>1542.168675</td>\n",
       "      <td>50</td>\n",
       "      <td>False</td>\n",
       "      <td>False</td>\n",
       "      <td>False</td>\n",
       "      <td>...</td>\n",
       "      <td>0.0</td>\n",
       "      <td>10.0</td>\n",
       "      <td>0.0</td>\n",
       "      <td>0.0</td>\n",
       "      <td>0.0</td>\n",
       "      <td>24.0</td>\n",
       "      <td>1.0</td>\n",
       "      <td>120.0</td>\n",
       "      <td>2</td>\n",
       "      <td>0.0</td>\n",
       "    </tr>\n",
       "  </tbody>\n",
       "</table>\n",
       "<p>5 rows × 63 columns</p>\n",
       "</div>"
      ],
      "text/plain": [
       "   p_id  hh_id  tu_id             hh_typ   kind  bruttolohn_m  alter  \\\n",
       "0     0      0      0  couple_2_children  False   1500.000000     50   \n",
       "1     1      0      0  couple_2_children  False      0.000000     50   \n",
       "2     2      0      0  couple_2_children   True      0.000000     10   \n",
       "3     3      0      0  couple_2_children   True      0.000000      5   \n",
       "4     4      1      1  couple_2_children  False   1542.168675     50   \n",
       "\n",
       "   weiblich  rentner  alleinerz  ...  m_ausbild_suche  m_schul_ausbild  \\\n",
       "0     False    False      False  ...              0.0             10.0   \n",
       "1      True    False      False  ...              0.0             10.0   \n",
       "2     False    False      False  ...              0.0             10.0   \n",
       "3     False    False      False  ...              0.0             10.0   \n",
       "4     False    False      False  ...              0.0             10.0   \n",
       "\n",
       "   m_geringf_beschäft  m_alg1_übergang  m_ersatzzeit  m_kind_berücks_zeit  \\\n",
       "0                 0.0              0.0           0.0                 24.0   \n",
       "1                 0.0              0.0           0.0                 24.0   \n",
       "2                 0.0              0.0           0.0                 24.0   \n",
       "3                 0.0              0.0           0.0                 24.0   \n",
       "4                 0.0              0.0           0.0                 24.0   \n",
       "\n",
       "   m_pfleg_berücks_zeit  y_pflichtbeitr_ab_40  anz_kinder_bis_17_hh  \\\n",
       "0                   1.0                 120.0                     2   \n",
       "1                   1.0                 120.0                     2   \n",
       "2                   1.0                   0.0                     2   \n",
       "3                   1.0                   0.0                     2   \n",
       "4                   1.0                 120.0                     2   \n",
       "\n",
       "   sum_ges_rente_priv_rente_m  \n",
       "0                         0.0  \n",
       "1                         0.0  \n",
       "2                         0.0  \n",
       "3                         0.0  \n",
       "4                         0.0  \n",
       "\n",
       "[5 rows x 63 columns]"
      ]
     },
     "execution_count": 9,
     "metadata": {},
     "output_type": "execute_result"
    }
   ],
   "source": [
    "data = create_synthetic_data(\n",
    "    hh_typen=[\"couple\"],\n",
    "    n_children=[2],\n",
    "    age_adults=[50, 50],\n",
    "    age_children=[10, 5],\n",
    "    heterogeneous_vars={\"bruttolohn_m\": np.linspace(1500, 12000, 250)},\n",
    ")\n",
    "\n",
    "# Compute number of children in household and add it to data.\n",
    "children = compute_taxes_and_transfers(\n",
    "    data=data,\n",
    "    params=policy_params,\n",
    "    targets=\"anz_kinder_bis_17_hh\",\n",
    "    functions=policy_functions,\n",
    ")\n",
    "# Compute sum of pension contributions in household and add it to data.\n",
    "sum_ges_rente_priv_rente_m = compute_taxes_and_transfers(\n",
    "    data=data,\n",
    "    params=policy_params,\n",
    "    targets=\"sum_ges_rente_priv_rente_m\",\n",
    "    functions=policy_functions,\n",
    ")\n",
    "data[\"anz_kinder_bis_17_hh\"] = children[\"anz_kinder_bis_17_hh\"]\n",
    "data[\"sum_ges_rente_priv_rente_m\"] = sum_ges_rente_priv_rente_m[\n",
    "    \"sum_ges_rente_priv_rente_m\"\n",
    "]\n",
    "data.head()"
   ]
  },
  {
   "cell_type": "markdown",
   "metadata": {},
   "source": [
    "This simulated data set shows 168 households with each two  50 year old parents and their 5 & 10 year old children. The households/tax units only vary in their income.\n",
    "\n",
    "First, we compute the *Kindergeld* with the original parameters:"
   ]
  },
  {
   "cell_type": "code",
   "execution_count": 10,
   "metadata": {},
   "outputs": [
    {
     "data": {
      "text/html": [
       "<div>\n",
       "<style scoped>\n",
       "    .dataframe tbody tr th:only-of-type {\n",
       "        vertical-align: middle;\n",
       "    }\n",
       "\n",
       "    .dataframe tbody tr th {\n",
       "        vertical-align: top;\n",
       "    }\n",
       "\n",
       "    .dataframe thead th {\n",
       "        text-align: right;\n",
       "    }\n",
       "</style>\n",
       "<table border=\"1\" class=\"dataframe\">\n",
       "  <thead>\n",
       "    <tr style=\"text-align: right;\">\n",
       "      <th></th>\n",
       "      <th>hh_id</th>\n",
       "      <th>tu_id</th>\n",
       "      <th>p_id</th>\n",
       "      <th>anz_erwachsene_tu</th>\n",
       "      <th>zu_verst_eink_mit_kinderfreib_tu</th>\n",
       "    </tr>\n",
       "  </thead>\n",
       "  <tbody>\n",
       "    <tr>\n",
       "      <th>0</th>\n",
       "      <td>0</td>\n",
       "      <td>0</td>\n",
       "      <td>0</td>\n",
       "      <td>2</td>\n",
       "      <td>0.000000</td>\n",
       "    </tr>\n",
       "    <tr>\n",
       "      <th>1</th>\n",
       "      <td>0</td>\n",
       "      <td>0</td>\n",
       "      <td>1</td>\n",
       "      <td>2</td>\n",
       "      <td>0.000000</td>\n",
       "    </tr>\n",
       "    <tr>\n",
       "      <th>2</th>\n",
       "      <td>0</td>\n",
       "      <td>0</td>\n",
       "      <td>2</td>\n",
       "      <td>2</td>\n",
       "      <td>0.000000</td>\n",
       "    </tr>\n",
       "    <tr>\n",
       "      <th>3</th>\n",
       "      <td>0</td>\n",
       "      <td>0</td>\n",
       "      <td>3</td>\n",
       "      <td>2</td>\n",
       "      <td>0.000000</td>\n",
       "    </tr>\n",
       "    <tr>\n",
       "      <th>4</th>\n",
       "      <td>1</td>\n",
       "      <td>1</td>\n",
       "      <td>4</td>\n",
       "      <td>2</td>\n",
       "      <td>0.000000</td>\n",
       "    </tr>\n",
       "    <tr>\n",
       "      <th>...</th>\n",
       "      <td>...</td>\n",
       "      <td>...</td>\n",
       "      <td>...</td>\n",
       "      <td>...</td>\n",
       "      <td>...</td>\n",
       "    </tr>\n",
       "    <tr>\n",
       "      <th>995</th>\n",
       "      <td>248</td>\n",
       "      <td>248</td>\n",
       "      <td>995</td>\n",
       "      <td>2</td>\n",
       "      <td>118737.655904</td>\n",
       "    </tr>\n",
       "    <tr>\n",
       "      <th>996</th>\n",
       "      <td>249</td>\n",
       "      <td>249</td>\n",
       "      <td>996</td>\n",
       "      <td>2</td>\n",
       "      <td>119243.680000</td>\n",
       "    </tr>\n",
       "    <tr>\n",
       "      <th>997</th>\n",
       "      <td>249</td>\n",
       "      <td>249</td>\n",
       "      <td>997</td>\n",
       "      <td>2</td>\n",
       "      <td>119243.680000</td>\n",
       "    </tr>\n",
       "    <tr>\n",
       "      <th>998</th>\n",
       "      <td>249</td>\n",
       "      <td>249</td>\n",
       "      <td>998</td>\n",
       "      <td>2</td>\n",
       "      <td>119243.680000</td>\n",
       "    </tr>\n",
       "    <tr>\n",
       "      <th>999</th>\n",
       "      <td>249</td>\n",
       "      <td>249</td>\n",
       "      <td>999</td>\n",
       "      <td>2</td>\n",
       "      <td>119243.680000</td>\n",
       "    </tr>\n",
       "  </tbody>\n",
       "</table>\n",
       "<p>1000 rows × 5 columns</p>\n",
       "</div>"
      ],
      "text/plain": [
       "     hh_id  tu_id  p_id  anz_erwachsene_tu  zu_verst_eink_mit_kinderfreib_tu\n",
       "0        0      0     0                  2                          0.000000\n",
       "1        0      0     1                  2                          0.000000\n",
       "2        0      0     2                  2                          0.000000\n",
       "3        0      0     3                  2                          0.000000\n",
       "4        1      1     4                  2                          0.000000\n",
       "..     ...    ...   ...                ...                               ...\n",
       "995    248    248   995                  2                     118737.655904\n",
       "996    249    249   996                  2                     119243.680000\n",
       "997    249    249   997                  2                     119243.680000\n",
       "998    249    249   998                  2                     119243.680000\n",
       "999    249    249   999                  2                     119243.680000\n",
       "\n",
       "[1000 rows x 5 columns]"
      ]
     },
     "execution_count": 10,
     "metadata": {},
     "output_type": "execute_result"
    }
   ],
   "source": [
    "kindergeld_status_quo = compute_taxes_and_transfers(\n",
    "    data=data,\n",
    "    params=policy_params,\n",
    "    functions=policy_functions,\n",
    "    targets=[\"anz_erwachsene_tu\", \"zu_verst_eink_mit_kinderfreib_tu\"],\n",
    "    columns_overriding_functions=[\"anz_kinder_bis_17_hh\", \"sum_ges_rente_priv_rente_m\"],\n",
    ")\n",
    "\n",
    "kindergeld_status_quo"
   ]
  },
  {
   "cell_type": "code",
   "execution_count": 11,
   "metadata": {},
   "outputs": [
    {
     "data": {
      "text/html": [
       "<div>\n",
       "<style scoped>\n",
       "    .dataframe tbody tr th:only-of-type {\n",
       "        vertical-align: middle;\n",
       "    }\n",
       "\n",
       "    .dataframe tbody tr th {\n",
       "        vertical-align: top;\n",
       "    }\n",
       "\n",
       "    .dataframe thead th {\n",
       "        text-align: right;\n",
       "    }\n",
       "</style>\n",
       "<table border=\"1\" class=\"dataframe\">\n",
       "  <thead>\n",
       "    <tr style=\"text-align: right;\">\n",
       "      <th></th>\n",
       "      <th>kindergeld_m_tu</th>\n",
       "    </tr>\n",
       "  </thead>\n",
       "  <tbody>\n",
       "    <tr>\n",
       "      <th>0</th>\n",
       "      <td>408.0</td>\n",
       "    </tr>\n",
       "    <tr>\n",
       "      <th>1</th>\n",
       "      <td>408.0</td>\n",
       "    </tr>\n",
       "    <tr>\n",
       "      <th>2</th>\n",
       "      <td>408.0</td>\n",
       "    </tr>\n",
       "    <tr>\n",
       "      <th>3</th>\n",
       "      <td>408.0</td>\n",
       "    </tr>\n",
       "    <tr>\n",
       "      <th>4</th>\n",
       "      <td>408.0</td>\n",
       "    </tr>\n",
       "    <tr>\n",
       "      <th>...</th>\n",
       "      <td>...</td>\n",
       "    </tr>\n",
       "    <tr>\n",
       "      <th>995</th>\n",
       "      <td>0.0</td>\n",
       "    </tr>\n",
       "    <tr>\n",
       "      <th>996</th>\n",
       "      <td>0.0</td>\n",
       "    </tr>\n",
       "    <tr>\n",
       "      <th>997</th>\n",
       "      <td>0.0</td>\n",
       "    </tr>\n",
       "    <tr>\n",
       "      <th>998</th>\n",
       "      <td>0.0</td>\n",
       "    </tr>\n",
       "    <tr>\n",
       "      <th>999</th>\n",
       "      <td>0.0</td>\n",
       "    </tr>\n",
       "  </tbody>\n",
       "</table>\n",
       "<p>1000 rows × 1 columns</p>\n",
       "</div>"
      ],
      "text/plain": [
       "     kindergeld_m_tu\n",
       "0              408.0\n",
       "1              408.0\n",
       "2              408.0\n",
       "3              408.0\n",
       "4              408.0\n",
       "..               ...\n",
       "995              0.0\n",
       "996              0.0\n",
       "997              0.0\n",
       "998              0.0\n",
       "999              0.0\n",
       "\n",
       "[1000 rows x 1 columns]"
      ]
     },
     "execution_count": 11,
     "metadata": {},
     "output_type": "execute_result"
    }
   ],
   "source": [
    "kindergeld_status_quo = compute_taxes_and_transfers(\n",
    "    data=data,\n",
    "    params=policy_params,\n",
    "    functions=policy_functions,\n",
    "    targets=\"kindergeld_m_tu\",\n",
    "    columns_overriding_functions=[\"anz_kinder_bis_17_hh\", \"sum_ges_rente_priv_rente_m\"],\n",
    ")\n",
    "\n",
    "kindergeld_status_quo[[\"kindergeld_m_tu\"]]"
   ]
  },
  {
   "cell_type": "markdown",
   "metadata": {},
   "source": [
    "Now we do exactly the same, but using the `policy_params_new`."
   ]
  },
  {
   "cell_type": "code",
   "execution_count": 12,
   "metadata": {},
   "outputs": [
    {
     "data": {
      "text/html": [
       "<div>\n",
       "<style scoped>\n",
       "    .dataframe tbody tr th:only-of-type {\n",
       "        vertical-align: middle;\n",
       "    }\n",
       "\n",
       "    .dataframe tbody tr th {\n",
       "        vertical-align: top;\n",
       "    }\n",
       "\n",
       "    .dataframe thead th {\n",
       "        text-align: right;\n",
       "    }\n",
       "</style>\n",
       "<table border=\"1\" class=\"dataframe\">\n",
       "  <thead>\n",
       "    <tr style=\"text-align: right;\">\n",
       "      <th></th>\n",
       "      <th>kindergeld_m_tu</th>\n",
       "    </tr>\n",
       "  </thead>\n",
       "  <tbody>\n",
       "    <tr>\n",
       "      <th>0</th>\n",
       "      <td>448.0</td>\n",
       "    </tr>\n",
       "    <tr>\n",
       "      <th>1</th>\n",
       "      <td>448.0</td>\n",
       "    </tr>\n",
       "    <tr>\n",
       "      <th>2</th>\n",
       "      <td>448.0</td>\n",
       "    </tr>\n",
       "    <tr>\n",
       "      <th>3</th>\n",
       "      <td>448.0</td>\n",
       "    </tr>\n",
       "    <tr>\n",
       "      <th>4</th>\n",
       "      <td>448.0</td>\n",
       "    </tr>\n",
       "    <tr>\n",
       "      <th>...</th>\n",
       "      <td>...</td>\n",
       "    </tr>\n",
       "    <tr>\n",
       "      <th>995</th>\n",
       "      <td>0.0</td>\n",
       "    </tr>\n",
       "    <tr>\n",
       "      <th>996</th>\n",
       "      <td>0.0</td>\n",
       "    </tr>\n",
       "    <tr>\n",
       "      <th>997</th>\n",
       "      <td>0.0</td>\n",
       "    </tr>\n",
       "    <tr>\n",
       "      <th>998</th>\n",
       "      <td>0.0</td>\n",
       "    </tr>\n",
       "    <tr>\n",
       "      <th>999</th>\n",
       "      <td>0.0</td>\n",
       "    </tr>\n",
       "  </tbody>\n",
       "</table>\n",
       "<p>1000 rows × 1 columns</p>\n",
       "</div>"
      ],
      "text/plain": [
       "     kindergeld_m_tu\n",
       "0              448.0\n",
       "1              448.0\n",
       "2              448.0\n",
       "3              448.0\n",
       "4              448.0\n",
       "..               ...\n",
       "995              0.0\n",
       "996              0.0\n",
       "997              0.0\n",
       "998              0.0\n",
       "999              0.0\n",
       "\n",
       "[1000 rows x 1 columns]"
      ]
     },
     "execution_count": 12,
     "metadata": {},
     "output_type": "execute_result"
    }
   ],
   "source": [
    "kindergeld_new = compute_taxes_and_transfers(\n",
    "    data=data,\n",
    "    functions=policy_functions,\n",
    "    params=policy_params_new,\n",
    "    targets=\"kindergeld_m_tu\",\n",
    "    columns_overriding_functions=[\"anz_kinder_bis_17_hh\", \"sum_ges_rente_priv_rente_m\"],\n",
    ")\n",
    "kindergeld_new[[\"kindergeld_m_tu\"]]"
   ]
  },
  {
   "cell_type": "markdown",
   "metadata": {},
   "source": [
    "## Compare Results\n",
    "\n",
    "Using the results shown above, we can now easily visualize and compare the amount of *Kindergeld* for different income groups in the two scenarios. Therefore, we reorganize our data. We create a DataFrame with the total monthly income of each tax unit and the *Kindergeld* they receive with the `policy_params_new` and the `policy_params`:"
   ]
  },
  {
   "cell_type": "code",
   "execution_count": 13,
   "metadata": {},
   "outputs": [
    {
     "data": {
      "text/plain": [
       "tu_id\n",
       "240    11620.481928\n",
       "241    11662.650602\n",
       "242    11704.819277\n",
       "243    11746.987952\n",
       "244    11789.156627\n",
       "245    11831.325301\n",
       "246    11873.493976\n",
       "247    11915.662651\n",
       "248    11957.831325\n",
       "249    12000.000000\n",
       "Name: bruttolohn_m, dtype: float64"
      ]
     },
     "execution_count": 13,
     "metadata": {},
     "output_type": "execute_result"
    }
   ],
   "source": [
    "# Group data by tax unit id and sum the gross monthly income.\n",
    "total_income_m_tu = data.groupby(\"tu_id\")[\"bruttolohn_m\"].sum()\n",
    "total_income_m_tu.tail(10)"
   ]
  },
  {
   "cell_type": "code",
   "execution_count": 14,
   "metadata": {},
   "outputs": [],
   "source": [
    "# Create DataFrame with relevant columns for plotting.\n",
    "df = pd.DataFrame()\n",
    "df[\"Status Quo\"] = kindergeld_status_quo[\"kindergeld_m_tu\"]\n",
    "df[\"After raise\"] = kindergeld_new[\"kindergeld_m_tu\"]\n",
    "df[\"tu_id\"] = data[\"tu_id\"]\n",
    "df = df.drop_duplicates(\"tu_id\").set_index(\"tu_id\")\n",
    "df[\"Income (per tax unit)\"] = total_income_m_tu"
   ]
  },
  {
   "cell_type": "markdown",
   "metadata": {},
   "source": [
    "We can illustrate the effect of the special child bonus of 2020 by plotting the monthly *Kindergeld* against the income on tax unit level."
   ]
  },
  {
   "cell_type": "code",
   "execution_count": 15,
   "metadata": {},
   "outputs": [
    {
     "data": {
      "application/vnd.plotly.v1+json": {
       "config": {
        "plotlyServerURL": "https://plot.ly"
       },
       "data": [
        {
         "hovertemplate": "variable=Status Quo<br>Income (per tax unit)=%{x}<br>value=%{y}<extra></extra>",
         "legendgroup": "Status Quo",
         "line": {
          "color": "#636efa",
          "dash": "solid"
         },
         "marker": {
          "symbol": "circle"
         },
         "mode": "lines",
         "name": "Status Quo",
         "orientation": "v",
         "showlegend": true,
         "type": "scatter",
         "x": [
          1500,
          1542.1686746987953,
          1584.3373493975903,
          1626.5060240963855,
          1668.6746987951808,
          1710.8433734939758,
          1753.012048192771,
          1795.1807228915663,
          1837.3493975903614,
          1879.5180722891566,
          1921.6867469879517,
          1963.855421686747,
          2006.0240963855422,
          2048.1927710843374,
          2090.3614457831327,
          2132.530120481928,
          2174.6987951807228,
          2216.867469879518,
          2259.0361445783133,
          2301.2048192771085,
          2343.3734939759033,
          2385.5421686746986,
          2427.710843373494,
          2469.879518072289,
          2512.0481927710844,
          2554.2168674698796,
          2596.385542168675,
          2638.55421686747,
          2680.722891566265,
          2722.89156626506,
          2765.0602409638554,
          2807.2289156626503,
          2849.3975903614455,
          2891.5662650602408,
          2933.734939759036,
          2975.9036144578313,
          3018.0722891566265,
          3060.240963855422,
          3102.409638554217,
          3144.5783132530123,
          3186.746987951807,
          3228.9156626506024,
          3271.0843373493976,
          3313.2530120481924,
          3355.4216867469877,
          3397.590361445783,
          3439.759036144578,
          3481.9277108433735,
          3524.0963855421687,
          3566.265060240964,
          3608.433734939759,
          3650.602409638554,
          3692.7710843373493,
          3734.9397590361446,
          3777.10843373494,
          3819.277108433735,
          3861.44578313253,
          3903.614457831325,
          3945.7831325301204,
          3987.9518072289156,
          4030.120481927711,
          4072.289156626506,
          4114.4578313253005,
          4156.626506024097,
          4198.795180722891,
          4240.963855421687,
          4283.1325301204815,
          4325.301204819277,
          4367.469879518072,
          4409.638554216867,
          4451.807228915663,
          4493.975903614458,
          4536.144578313253,
          4578.313253012047,
          4620.481927710844,
          4662.650602409638,
          4704.819277108434,
          4746.9879518072285,
          4789.156626506025,
          4831.325301204819,
          4873.493975903614,
          4915.6626506024095,
          4957.831325301205,
          5000,
          5042.168674698795,
          5084.3373493975905,
          5126.506024096385,
          5168.674698795181,
          5210.843373493975,
          5253.0120481927715,
          5295.180722891566,
          5337.349397590361,
          5379.518072289156,
          5421.686746987952,
          5463.855421686747,
          5506.024096385542,
          5548.192771084337,
          5590.361445783132,
          5632.530120481928,
          5674.698795180722,
          5716.867469879518,
          5759.036144578313,
          5801.204819277108,
          5843.373493975903,
          5885.542168674699,
          5927.710843373494,
          5969.879518072289,
          6012.048192771084,
          6054.21686746988,
          6096.385542168675,
          6138.55421686747,
          6180.7228915662645,
          6222.89156626506,
          6265.060240963855,
          6307.22891566265,
          6349.3975903614455,
          6391.566265060241,
          6433.734939759036,
          6475.903614457831,
          6518.0722891566265,
          6560.240963855422,
          6602.409638554217,
          6644.578313253012,
          6686.746987951807,
          6728.915662650602,
          6771.084337349397,
          6813.253012048192,
          6855.421686746988,
          6897.590361445783,
          6939.759036144578,
          6981.9277108433735,
          7024.096385542169,
          7066.265060240964,
          7108.433734939759,
          7150.602409638554,
          7192.771084337349,
          7234.939759036144,
          7277.108433734939,
          7319.277108433735,
          7361.44578313253,
          7403.614457831325,
          7445.78313253012,
          7487.951807228916,
          7530.120481927711,
          7572.289156626506,
          7614.457831325301,
          7656.626506024096,
          7698.795180722891,
          7740.963855421686,
          7783.1325301204815,
          7825.301204819277,
          7867.469879518072,
          7909.638554216867,
          7951.807228915663,
          7993.975903614458,
          8036.144578313253,
          8078.313253012048,
          8120.481927710844,
          8162.650602409638,
          8204.819277108432,
          8246.987951807228,
          8289.156626506025,
          8331.325301204819,
          8373.493975903613,
          8415.66265060241,
          8457.831325301206,
          8500,
          8542.168674698794,
          8584.33734939759,
          8626.506024096385,
          8668.674698795181,
          8710.843373493975,
          8753.01204819277,
          8795.180722891566,
          8837.349397590362,
          8879.518072289156,
          8921.68674698795,
          8963.855421686747,
          9006.024096385543,
          9048.192771084337,
          9090.361445783132,
          9132.530120481926,
          9174.698795180722,
          9216.867469879518,
          9259.036144578313,
          9301.204819277107,
          9343.373493975903,
          9385.5421686747,
          9427.710843373494,
          9469.879518072288,
          9512.048192771084,
          9554.21686746988,
          9596.385542168675,
          9638.55421686747,
          9680.722891566264,
          9722.89156626506,
          9765.060240963856,
          9807.22891566265,
          9849.397590361445,
          9891.56626506024,
          9933.734939759035,
          9975.903614457831,
          10018.072289156626,
          10060.240963855422,
          10102.409638554216,
          10144.578313253012,
          10186.746987951807,
          10228.915662650603,
          10271.084337349397,
          10313.253012048193,
          10355.421686746988,
          10397.590361445782,
          10439.759036144578,
          10481.927710843373,
          10524.096385542169,
          10566.265060240963,
          10608.43373493976,
          10650.602409638554,
          10692.77108433735,
          10734.939759036144,
          10777.10843373494,
          10819.277108433735,
          10861.445783132529,
          10903.614457831325,
          10945.78313253012,
          10987.951807228916,
          11030.12048192771,
          11072.289156626506,
          11114.4578313253,
          11156.626506024097,
          11198.795180722891,
          11240.963855421687,
          11283.132530120482,
          11325.301204819276,
          11367.469879518072,
          11409.638554216866,
          11451.807228915663,
          11493.975903614457,
          11536.144578313253,
          11578.313253012047,
          11620.481927710844,
          11662.650602409638,
          11704.819277108434,
          11746.987951807228,
          11789.156626506025,
          11831.325301204819,
          11873.493975903613,
          11915.66265060241,
          11957.831325301204,
          12000
         ],
         "xaxis": "x",
         "y": [
          408,
          408,
          408,
          408,
          408,
          408,
          408,
          408,
          408,
          408,
          408,
          408,
          408,
          408,
          408,
          408,
          408,
          408,
          408,
          408,
          408,
          408,
          408,
          408,
          408,
          408,
          408,
          408,
          408,
          408,
          408,
          408,
          408,
          408,
          408,
          408,
          408,
          408,
          408,
          408,
          408,
          408,
          408,
          408,
          408,
          408,
          408,
          408,
          408,
          408,
          408,
          408,
          408,
          408,
          408,
          408,
          408,
          408,
          408,
          408,
          408,
          408,
          408,
          408,
          408,
          408,
          408,
          408,
          408,
          408,
          408,
          408,
          408,
          408,
          408,
          408,
          408,
          408,
          408,
          408,
          408,
          408,
          408,
          408,
          408,
          408,
          408,
          408,
          408,
          408,
          408,
          408,
          408,
          408,
          408,
          408,
          408,
          408,
          408,
          408,
          408,
          408,
          408,
          408,
          408,
          408,
          408,
          408,
          408,
          408,
          408,
          408,
          408,
          408,
          408,
          408,
          408,
          408,
          408,
          408,
          408,
          408,
          408,
          408,
          408,
          408,
          408,
          408,
          408,
          408,
          408,
          408,
          408,
          408,
          408,
          408,
          408,
          408,
          408,
          408,
          408,
          408,
          408,
          408,
          408,
          408,
          408,
          408,
          408,
          408,
          408,
          408,
          408,
          408,
          408,
          408,
          408,
          408,
          408,
          408,
          0,
          0,
          0,
          0,
          0,
          0,
          0,
          0,
          0,
          0,
          0,
          0,
          0,
          0,
          0,
          0,
          0,
          0,
          0,
          0,
          0,
          0,
          0,
          0,
          0,
          0,
          0,
          0,
          0,
          0,
          0,
          0,
          0,
          0,
          0,
          0,
          0,
          0,
          0,
          0,
          0,
          0,
          0,
          0,
          0,
          0,
          0,
          0,
          0,
          0,
          0,
          0,
          0,
          0,
          0,
          0,
          0,
          0,
          0,
          0,
          0,
          0,
          0,
          0,
          0,
          0,
          0,
          0,
          0,
          0,
          0,
          0,
          0,
          0,
          0,
          0,
          0,
          0,
          0,
          0,
          0,
          0,
          0,
          0,
          0,
          0,
          0,
          0,
          0,
          0
         ],
         "yaxis": "y"
        },
        {
         "hovertemplate": "variable=After raise<br>Income (per tax unit)=%{x}<br>value=%{y}<extra></extra>",
         "legendgroup": "After raise",
         "line": {
          "color": "#EF553B",
          "dash": "solid"
         },
         "marker": {
          "symbol": "circle"
         },
         "mode": "lines",
         "name": "After raise",
         "orientation": "v",
         "showlegend": true,
         "type": "scatter",
         "x": [
          1500,
          1542.1686746987953,
          1584.3373493975903,
          1626.5060240963855,
          1668.6746987951808,
          1710.8433734939758,
          1753.012048192771,
          1795.1807228915663,
          1837.3493975903614,
          1879.5180722891566,
          1921.6867469879517,
          1963.855421686747,
          2006.0240963855422,
          2048.1927710843374,
          2090.3614457831327,
          2132.530120481928,
          2174.6987951807228,
          2216.867469879518,
          2259.0361445783133,
          2301.2048192771085,
          2343.3734939759033,
          2385.5421686746986,
          2427.710843373494,
          2469.879518072289,
          2512.0481927710844,
          2554.2168674698796,
          2596.385542168675,
          2638.55421686747,
          2680.722891566265,
          2722.89156626506,
          2765.0602409638554,
          2807.2289156626503,
          2849.3975903614455,
          2891.5662650602408,
          2933.734939759036,
          2975.9036144578313,
          3018.0722891566265,
          3060.240963855422,
          3102.409638554217,
          3144.5783132530123,
          3186.746987951807,
          3228.9156626506024,
          3271.0843373493976,
          3313.2530120481924,
          3355.4216867469877,
          3397.590361445783,
          3439.759036144578,
          3481.9277108433735,
          3524.0963855421687,
          3566.265060240964,
          3608.433734939759,
          3650.602409638554,
          3692.7710843373493,
          3734.9397590361446,
          3777.10843373494,
          3819.277108433735,
          3861.44578313253,
          3903.614457831325,
          3945.7831325301204,
          3987.9518072289156,
          4030.120481927711,
          4072.289156626506,
          4114.4578313253005,
          4156.626506024097,
          4198.795180722891,
          4240.963855421687,
          4283.1325301204815,
          4325.301204819277,
          4367.469879518072,
          4409.638554216867,
          4451.807228915663,
          4493.975903614458,
          4536.144578313253,
          4578.313253012047,
          4620.481927710844,
          4662.650602409638,
          4704.819277108434,
          4746.9879518072285,
          4789.156626506025,
          4831.325301204819,
          4873.493975903614,
          4915.6626506024095,
          4957.831325301205,
          5000,
          5042.168674698795,
          5084.3373493975905,
          5126.506024096385,
          5168.674698795181,
          5210.843373493975,
          5253.0120481927715,
          5295.180722891566,
          5337.349397590361,
          5379.518072289156,
          5421.686746987952,
          5463.855421686747,
          5506.024096385542,
          5548.192771084337,
          5590.361445783132,
          5632.530120481928,
          5674.698795180722,
          5716.867469879518,
          5759.036144578313,
          5801.204819277108,
          5843.373493975903,
          5885.542168674699,
          5927.710843373494,
          5969.879518072289,
          6012.048192771084,
          6054.21686746988,
          6096.385542168675,
          6138.55421686747,
          6180.7228915662645,
          6222.89156626506,
          6265.060240963855,
          6307.22891566265,
          6349.3975903614455,
          6391.566265060241,
          6433.734939759036,
          6475.903614457831,
          6518.0722891566265,
          6560.240963855422,
          6602.409638554217,
          6644.578313253012,
          6686.746987951807,
          6728.915662650602,
          6771.084337349397,
          6813.253012048192,
          6855.421686746988,
          6897.590361445783,
          6939.759036144578,
          6981.9277108433735,
          7024.096385542169,
          7066.265060240964,
          7108.433734939759,
          7150.602409638554,
          7192.771084337349,
          7234.939759036144,
          7277.108433734939,
          7319.277108433735,
          7361.44578313253,
          7403.614457831325,
          7445.78313253012,
          7487.951807228916,
          7530.120481927711,
          7572.289156626506,
          7614.457831325301,
          7656.626506024096,
          7698.795180722891,
          7740.963855421686,
          7783.1325301204815,
          7825.301204819277,
          7867.469879518072,
          7909.638554216867,
          7951.807228915663,
          7993.975903614458,
          8036.144578313253,
          8078.313253012048,
          8120.481927710844,
          8162.650602409638,
          8204.819277108432,
          8246.987951807228,
          8289.156626506025,
          8331.325301204819,
          8373.493975903613,
          8415.66265060241,
          8457.831325301206,
          8500,
          8542.168674698794,
          8584.33734939759,
          8626.506024096385,
          8668.674698795181,
          8710.843373493975,
          8753.01204819277,
          8795.180722891566,
          8837.349397590362,
          8879.518072289156,
          8921.68674698795,
          8963.855421686747,
          9006.024096385543,
          9048.192771084337,
          9090.361445783132,
          9132.530120481926,
          9174.698795180722,
          9216.867469879518,
          9259.036144578313,
          9301.204819277107,
          9343.373493975903,
          9385.5421686747,
          9427.710843373494,
          9469.879518072288,
          9512.048192771084,
          9554.21686746988,
          9596.385542168675,
          9638.55421686747,
          9680.722891566264,
          9722.89156626506,
          9765.060240963856,
          9807.22891566265,
          9849.397590361445,
          9891.56626506024,
          9933.734939759035,
          9975.903614457831,
          10018.072289156626,
          10060.240963855422,
          10102.409638554216,
          10144.578313253012,
          10186.746987951807,
          10228.915662650603,
          10271.084337349397,
          10313.253012048193,
          10355.421686746988,
          10397.590361445782,
          10439.759036144578,
          10481.927710843373,
          10524.096385542169,
          10566.265060240963,
          10608.43373493976,
          10650.602409638554,
          10692.77108433735,
          10734.939759036144,
          10777.10843373494,
          10819.277108433735,
          10861.445783132529,
          10903.614457831325,
          10945.78313253012,
          10987.951807228916,
          11030.12048192771,
          11072.289156626506,
          11114.4578313253,
          11156.626506024097,
          11198.795180722891,
          11240.963855421687,
          11283.132530120482,
          11325.301204819276,
          11367.469879518072,
          11409.638554216866,
          11451.807228915663,
          11493.975903614457,
          11536.144578313253,
          11578.313253012047,
          11620.481927710844,
          11662.650602409638,
          11704.819277108434,
          11746.987951807228,
          11789.156626506025,
          11831.325301204819,
          11873.493975903613,
          11915.66265060241,
          11957.831325301204,
          12000
         ],
         "xaxis": "x",
         "y": [
          448,
          448,
          448,
          448,
          448,
          448,
          448,
          448,
          448,
          448,
          448,
          448,
          448,
          448,
          448,
          448,
          448,
          448,
          448,
          448,
          448,
          448,
          448,
          448,
          448,
          448,
          448,
          448,
          448,
          448,
          448,
          448,
          448,
          448,
          448,
          448,
          448,
          448,
          448,
          448,
          448,
          448,
          448,
          448,
          448,
          448,
          448,
          448,
          448,
          448,
          448,
          448,
          448,
          448,
          448,
          448,
          448,
          448,
          448,
          448,
          448,
          448,
          448,
          448,
          448,
          448,
          448,
          448,
          448,
          448,
          448,
          448,
          448,
          448,
          448,
          448,
          448,
          448,
          448,
          448,
          448,
          448,
          448,
          448,
          448,
          448,
          448,
          448,
          448,
          448,
          448,
          448,
          448,
          448,
          448,
          448,
          448,
          448,
          448,
          448,
          448,
          448,
          448,
          448,
          448,
          448,
          448,
          448,
          448,
          448,
          448,
          448,
          448,
          448,
          448,
          448,
          448,
          448,
          448,
          448,
          448,
          448,
          448,
          448,
          448,
          448,
          448,
          448,
          448,
          448,
          448,
          448,
          448,
          448,
          448,
          448,
          448,
          448,
          448,
          448,
          448,
          448,
          448,
          448,
          448,
          448,
          448,
          448,
          448,
          448,
          448,
          448,
          448,
          448,
          448,
          448,
          448,
          448,
          448,
          448,
          448,
          448,
          448,
          448,
          448,
          448,
          448,
          448,
          448,
          448,
          448,
          448,
          448,
          448,
          448,
          448,
          448,
          448,
          448,
          448,
          448,
          448,
          448,
          448,
          448,
          448,
          448,
          448,
          448,
          0,
          0,
          0,
          0,
          0,
          0,
          0,
          0,
          0,
          0,
          0,
          0,
          0,
          0,
          0,
          0,
          0,
          0,
          0,
          0,
          0,
          0,
          0,
          0,
          0,
          0,
          0,
          0,
          0,
          0,
          0,
          0,
          0,
          0,
          0,
          0,
          0,
          0,
          0,
          0,
          0,
          0,
          0,
          0,
          0,
          0,
          0,
          0,
          0,
          0,
          0,
          0,
          0,
          0,
          0,
          0,
          0,
          0,
          0,
          0,
          0
         ],
         "yaxis": "y"
        }
       ],
       "layout": {
        "legend": {
         "title": {
          "text": "variable"
         },
         "tracegroupgap": 0
        },
        "template": {
         "data": {
          "bar": [
           {
            "error_x": {
             "color": "#2a3f5f"
            },
            "error_y": {
             "color": "#2a3f5f"
            },
            "marker": {
             "line": {
              "color": "#E5ECF6",
              "width": 0.5
             },
             "pattern": {
              "fillmode": "overlay",
              "size": 10,
              "solidity": 0.2
             }
            },
            "type": "bar"
           }
          ],
          "barpolar": [
           {
            "marker": {
             "line": {
              "color": "#E5ECF6",
              "width": 0.5
             },
             "pattern": {
              "fillmode": "overlay",
              "size": 10,
              "solidity": 0.2
             }
            },
            "type": "barpolar"
           }
          ],
          "carpet": [
           {
            "aaxis": {
             "endlinecolor": "#2a3f5f",
             "gridcolor": "white",
             "linecolor": "white",
             "minorgridcolor": "white",
             "startlinecolor": "#2a3f5f"
            },
            "baxis": {
             "endlinecolor": "#2a3f5f",
             "gridcolor": "white",
             "linecolor": "white",
             "minorgridcolor": "white",
             "startlinecolor": "#2a3f5f"
            },
            "type": "carpet"
           }
          ],
          "choropleth": [
           {
            "colorbar": {
             "outlinewidth": 0,
             "ticks": ""
            },
            "type": "choropleth"
           }
          ],
          "contour": [
           {
            "colorbar": {
             "outlinewidth": 0,
             "ticks": ""
            },
            "colorscale": [
             [
              0,
              "#0d0887"
             ],
             [
              0.1111111111111111,
              "#46039f"
             ],
             [
              0.2222222222222222,
              "#7201a8"
             ],
             [
              0.3333333333333333,
              "#9c179e"
             ],
             [
              0.4444444444444444,
              "#bd3786"
             ],
             [
              0.5555555555555556,
              "#d8576b"
             ],
             [
              0.6666666666666666,
              "#ed7953"
             ],
             [
              0.7777777777777778,
              "#fb9f3a"
             ],
             [
              0.8888888888888888,
              "#fdca26"
             ],
             [
              1,
              "#f0f921"
             ]
            ],
            "type": "contour"
           }
          ],
          "contourcarpet": [
           {
            "colorbar": {
             "outlinewidth": 0,
             "ticks": ""
            },
            "type": "contourcarpet"
           }
          ],
          "heatmap": [
           {
            "colorbar": {
             "outlinewidth": 0,
             "ticks": ""
            },
            "colorscale": [
             [
              0,
              "#0d0887"
             ],
             [
              0.1111111111111111,
              "#46039f"
             ],
             [
              0.2222222222222222,
              "#7201a8"
             ],
             [
              0.3333333333333333,
              "#9c179e"
             ],
             [
              0.4444444444444444,
              "#bd3786"
             ],
             [
              0.5555555555555556,
              "#d8576b"
             ],
             [
              0.6666666666666666,
              "#ed7953"
             ],
             [
              0.7777777777777778,
              "#fb9f3a"
             ],
             [
              0.8888888888888888,
              "#fdca26"
             ],
             [
              1,
              "#f0f921"
             ]
            ],
            "type": "heatmap"
           }
          ],
          "heatmapgl": [
           {
            "colorbar": {
             "outlinewidth": 0,
             "ticks": ""
            },
            "colorscale": [
             [
              0,
              "#0d0887"
             ],
             [
              0.1111111111111111,
              "#46039f"
             ],
             [
              0.2222222222222222,
              "#7201a8"
             ],
             [
              0.3333333333333333,
              "#9c179e"
             ],
             [
              0.4444444444444444,
              "#bd3786"
             ],
             [
              0.5555555555555556,
              "#d8576b"
             ],
             [
              0.6666666666666666,
              "#ed7953"
             ],
             [
              0.7777777777777778,
              "#fb9f3a"
             ],
             [
              0.8888888888888888,
              "#fdca26"
             ],
             [
              1,
              "#f0f921"
             ]
            ],
            "type": "heatmapgl"
           }
          ],
          "histogram": [
           {
            "marker": {
             "pattern": {
              "fillmode": "overlay",
              "size": 10,
              "solidity": 0.2
             }
            },
            "type": "histogram"
           }
          ],
          "histogram2d": [
           {
            "colorbar": {
             "outlinewidth": 0,
             "ticks": ""
            },
            "colorscale": [
             [
              0,
              "#0d0887"
             ],
             [
              0.1111111111111111,
              "#46039f"
             ],
             [
              0.2222222222222222,
              "#7201a8"
             ],
             [
              0.3333333333333333,
              "#9c179e"
             ],
             [
              0.4444444444444444,
              "#bd3786"
             ],
             [
              0.5555555555555556,
              "#d8576b"
             ],
             [
              0.6666666666666666,
              "#ed7953"
             ],
             [
              0.7777777777777778,
              "#fb9f3a"
             ],
             [
              0.8888888888888888,
              "#fdca26"
             ],
             [
              1,
              "#f0f921"
             ]
            ],
            "type": "histogram2d"
           }
          ],
          "histogram2dcontour": [
           {
            "colorbar": {
             "outlinewidth": 0,
             "ticks": ""
            },
            "colorscale": [
             [
              0,
              "#0d0887"
             ],
             [
              0.1111111111111111,
              "#46039f"
             ],
             [
              0.2222222222222222,
              "#7201a8"
             ],
             [
              0.3333333333333333,
              "#9c179e"
             ],
             [
              0.4444444444444444,
              "#bd3786"
             ],
             [
              0.5555555555555556,
              "#d8576b"
             ],
             [
              0.6666666666666666,
              "#ed7953"
             ],
             [
              0.7777777777777778,
              "#fb9f3a"
             ],
             [
              0.8888888888888888,
              "#fdca26"
             ],
             [
              1,
              "#f0f921"
             ]
            ],
            "type": "histogram2dcontour"
           }
          ],
          "mesh3d": [
           {
            "colorbar": {
             "outlinewidth": 0,
             "ticks": ""
            },
            "type": "mesh3d"
           }
          ],
          "parcoords": [
           {
            "line": {
             "colorbar": {
              "outlinewidth": 0,
              "ticks": ""
             }
            },
            "type": "parcoords"
           }
          ],
          "pie": [
           {
            "automargin": true,
            "type": "pie"
           }
          ],
          "scatter": [
           {
            "fillpattern": {
             "fillmode": "overlay",
             "size": 10,
             "solidity": 0.2
            },
            "type": "scatter"
           }
          ],
          "scatter3d": [
           {
            "line": {
             "colorbar": {
              "outlinewidth": 0,
              "ticks": ""
             }
            },
            "marker": {
             "colorbar": {
              "outlinewidth": 0,
              "ticks": ""
             }
            },
            "type": "scatter3d"
           }
          ],
          "scattercarpet": [
           {
            "marker": {
             "colorbar": {
              "outlinewidth": 0,
              "ticks": ""
             }
            },
            "type": "scattercarpet"
           }
          ],
          "scattergeo": [
           {
            "marker": {
             "colorbar": {
              "outlinewidth": 0,
              "ticks": ""
             }
            },
            "type": "scattergeo"
           }
          ],
          "scattergl": [
           {
            "marker": {
             "colorbar": {
              "outlinewidth": 0,
              "ticks": ""
             }
            },
            "type": "scattergl"
           }
          ],
          "scattermapbox": [
           {
            "marker": {
             "colorbar": {
              "outlinewidth": 0,
              "ticks": ""
             }
            },
            "type": "scattermapbox"
           }
          ],
          "scatterpolar": [
           {
            "marker": {
             "colorbar": {
              "outlinewidth": 0,
              "ticks": ""
             }
            },
            "type": "scatterpolar"
           }
          ],
          "scatterpolargl": [
           {
            "marker": {
             "colorbar": {
              "outlinewidth": 0,
              "ticks": ""
             }
            },
            "type": "scatterpolargl"
           }
          ],
          "scatterternary": [
           {
            "marker": {
             "colorbar": {
              "outlinewidth": 0,
              "ticks": ""
             }
            },
            "type": "scatterternary"
           }
          ],
          "surface": [
           {
            "colorbar": {
             "outlinewidth": 0,
             "ticks": ""
            },
            "colorscale": [
             [
              0,
              "#0d0887"
             ],
             [
              0.1111111111111111,
              "#46039f"
             ],
             [
              0.2222222222222222,
              "#7201a8"
             ],
             [
              0.3333333333333333,
              "#9c179e"
             ],
             [
              0.4444444444444444,
              "#bd3786"
             ],
             [
              0.5555555555555556,
              "#d8576b"
             ],
             [
              0.6666666666666666,
              "#ed7953"
             ],
             [
              0.7777777777777778,
              "#fb9f3a"
             ],
             [
              0.8888888888888888,
              "#fdca26"
             ],
             [
              1,
              "#f0f921"
             ]
            ],
            "type": "surface"
           }
          ],
          "table": [
           {
            "cells": {
             "fill": {
              "color": "#EBF0F8"
             },
             "line": {
              "color": "white"
             }
            },
            "header": {
             "fill": {
              "color": "#C8D4E3"
             },
             "line": {
              "color": "white"
             }
            },
            "type": "table"
           }
          ]
         },
         "layout": {
          "annotationdefaults": {
           "arrowcolor": "#2a3f5f",
           "arrowhead": 0,
           "arrowwidth": 1
          },
          "autotypenumbers": "strict",
          "coloraxis": {
           "colorbar": {
            "outlinewidth": 0,
            "ticks": ""
           }
          },
          "colorscale": {
           "diverging": [
            [
             0,
             "#8e0152"
            ],
            [
             0.1,
             "#c51b7d"
            ],
            [
             0.2,
             "#de77ae"
            ],
            [
             0.3,
             "#f1b6da"
            ],
            [
             0.4,
             "#fde0ef"
            ],
            [
             0.5,
             "#f7f7f7"
            ],
            [
             0.6,
             "#e6f5d0"
            ],
            [
             0.7,
             "#b8e186"
            ],
            [
             0.8,
             "#7fbc41"
            ],
            [
             0.9,
             "#4d9221"
            ],
            [
             1,
             "#276419"
            ]
           ],
           "sequential": [
            [
             0,
             "#0d0887"
            ],
            [
             0.1111111111111111,
             "#46039f"
            ],
            [
             0.2222222222222222,
             "#7201a8"
            ],
            [
             0.3333333333333333,
             "#9c179e"
            ],
            [
             0.4444444444444444,
             "#bd3786"
            ],
            [
             0.5555555555555556,
             "#d8576b"
            ],
            [
             0.6666666666666666,
             "#ed7953"
            ],
            [
             0.7777777777777778,
             "#fb9f3a"
            ],
            [
             0.8888888888888888,
             "#fdca26"
            ],
            [
             1,
             "#f0f921"
            ]
           ],
           "sequentialminus": [
            [
             0,
             "#0d0887"
            ],
            [
             0.1111111111111111,
             "#46039f"
            ],
            [
             0.2222222222222222,
             "#7201a8"
            ],
            [
             0.3333333333333333,
             "#9c179e"
            ],
            [
             0.4444444444444444,
             "#bd3786"
            ],
            [
             0.5555555555555556,
             "#d8576b"
            ],
            [
             0.6666666666666666,
             "#ed7953"
            ],
            [
             0.7777777777777778,
             "#fb9f3a"
            ],
            [
             0.8888888888888888,
             "#fdca26"
            ],
            [
             1,
             "#f0f921"
            ]
           ]
          },
          "colorway": [
           "#636efa",
           "#EF553B",
           "#00cc96",
           "#ab63fa",
           "#FFA15A",
           "#19d3f3",
           "#FF6692",
           "#B6E880",
           "#FF97FF",
           "#FECB52"
          ],
          "font": {
           "color": "#2a3f5f"
          },
          "geo": {
           "bgcolor": "white",
           "lakecolor": "white",
           "landcolor": "#E5ECF6",
           "showlakes": true,
           "showland": true,
           "subunitcolor": "white"
          },
          "hoverlabel": {
           "align": "left"
          },
          "hovermode": "closest",
          "mapbox": {
           "style": "light"
          },
          "paper_bgcolor": "white",
          "plot_bgcolor": "#E5ECF6",
          "polar": {
           "angularaxis": {
            "gridcolor": "white",
            "linecolor": "white",
            "ticks": ""
           },
           "bgcolor": "#E5ECF6",
           "radialaxis": {
            "gridcolor": "white",
            "linecolor": "white",
            "ticks": ""
           }
          },
          "scene": {
           "xaxis": {
            "backgroundcolor": "#E5ECF6",
            "gridcolor": "white",
            "gridwidth": 2,
            "linecolor": "white",
            "showbackground": true,
            "ticks": "",
            "zerolinecolor": "white"
           },
           "yaxis": {
            "backgroundcolor": "#E5ECF6",
            "gridcolor": "white",
            "gridwidth": 2,
            "linecolor": "white",
            "showbackground": true,
            "ticks": "",
            "zerolinecolor": "white"
           },
           "zaxis": {
            "backgroundcolor": "#E5ECF6",
            "gridcolor": "white",
            "gridwidth": 2,
            "linecolor": "white",
            "showbackground": true,
            "ticks": "",
            "zerolinecolor": "white"
           }
          },
          "shapedefaults": {
           "line": {
            "color": "#2a3f5f"
           }
          },
          "ternary": {
           "aaxis": {
            "gridcolor": "white",
            "linecolor": "white",
            "ticks": ""
           },
           "baxis": {
            "gridcolor": "white",
            "linecolor": "white",
            "ticks": ""
           },
           "bgcolor": "#E5ECF6",
           "caxis": {
            "gridcolor": "white",
            "linecolor": "white",
            "ticks": ""
           }
          },
          "title": {
           "x": 0.05
          },
          "xaxis": {
           "automargin": true,
           "gridcolor": "white",
           "linecolor": "white",
           "ticks": "",
           "title": {
            "standoff": 15
           },
           "zerolinecolor": "white",
           "zerolinewidth": 2
          },
          "yaxis": {
           "automargin": true,
           "gridcolor": "white",
           "linecolor": "white",
           "ticks": "",
           "title": {
            "standoff": 15
           },
           "zerolinecolor": "white",
           "zerolinewidth": 2
          }
         }
        },
        "title": {
         "text": "Effects of hypothetical raise of Kindergeld"
        },
        "xaxis": {
         "anchor": "y",
         "domain": [
          0,
          1
         ],
         "title": {
          "text": "Monthly gross income in € (per tax unit)"
         }
        },
        "yaxis": {
         "anchor": "x",
         "domain": [
          0,
          1
         ],
         "title": {
          "text": "Kindergeld in € per month"
         }
        }
       }
      }
     },
     "metadata": {},
     "output_type": "display_data"
    }
   ],
   "source": [
    "fig = px.line(\n",
    "    data_frame=df, \n",
    "    x=\"Income (per tax unit)\",\n",
    "    y=[\"Status Quo\", \"After raise\"],\n",
    "    title=\"Effects of hypothetical raise of Kindergeld\"\n",
    ")\n",
    "fig.update_layout(\n",
    "    xaxis_title=\"Monthly gross income in € (per tax unit)\",\n",
    "    yaxis_title=\"Kindergeld in € per month\",\n",
    ")"
   ]
  },
  {
   "cell_type": "markdown",
   "metadata": {},
   "source": [
    "Unsurprisingly, the policy reform increases the amount of money that tax units receive if they are entitled to *Kindergeld*. Also, more tax units are entitled to *Kindergeld* as the threshold at which tax credits become more advantageous moves up.\n",
    "\n",
    "Of course this is a *very* basic visualization and analysis. Have a look at the [policy functions tutorial](policy_functions.ipynb) to see a more sophisticated approach for this example taking into account the interaction with ALG-II. At the same time you will learn learn how to change and add functions to a policy environment!\n"
   ]
  }
 ],
 "metadata": {
  "kernelspec": {
   "display_name": "Python 3",
   "language": "python",
   "name": "python3"
  },
  "language_info": {
   "codemirror_mode": {
    "name": "ipython",
    "version": 3
   },
   "file_extension": ".py",
   "mimetype": "text/x-python",
   "name": "python",
   "nbconvert_exporter": "python",
   "pygments_lexer": "ipython3",
   "version": "3.11.0"
  },
  "vscode": {
   "interpreter": {
    "hash": "a7ef7df5bd47ff490cfd86bc52beab30c1673a29666f06a073dff89a54c46fe5"
   }
  }
 },
 "nbformat": 4,
 "nbformat_minor": 4
}
