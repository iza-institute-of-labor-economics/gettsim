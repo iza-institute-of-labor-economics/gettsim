{
 "cells": [
  {
   "cell_type": "markdown",
   "metadata": {},
   "source": [
    "# Changing Parameters of the Taxes and Transfers System"
   ]
  },
  {
   "cell_type": "markdown",
   "metadata": {},
   "source": [
    "This tutorial focuses on the `policy_params` of GETTSIM, one of the two objects returned by the function `set_up_policy_environment`. It is a dictionary that contains all the date-specific parameters (e.g. level of unemployment benefit) that are necessary to compute the target variables we are interested in. GETTSIM not only provides current and past policy environments, but also allows users to alter policies for instance by changing parameters."
   ]
  },
  {
   "cell_type": "code",
   "execution_count": 1,
   "metadata": {},
   "outputs": [],
   "source": [
    "import copy\n",
    "import pandas as pd\n",
    "import numpy as np\n",
    "\n",
    "import matplotlib.pyplot as plt\n",
    "\n",
    "from gettsim import set_up_policy_environment\n",
    "from gettsim import compute_taxes_and_transfers"
   ]
  },
  {
   "cell_type": "markdown",
   "metadata": {},
   "source": [
    "## Example: Special Child Bonus from 2020 for Families who do not Receive ALG-II\n",
    "\n",
    "In this tutorial, we will implement such a policy change using the example of an actual child bonus policy implemented in 2020. For this policy, the German government pays a special child bonus of 300€ per child to households with children as part of a stimulus package. The households will receive the special child bonus as part of the *Kindergeld* which is an established part of the German taxes and transfers system.\n",
    "\n",
    "*Small Recap: Kindergeld is a child benefit that can be claimed by parents in Germany. Mainly lower-income families benefit from Kindergeld. For higher-income families, the tax credits for children are more advantageous, so that they do not receive Kindergeld. The child benefit and how they are implemented in GETTSIM is explained in more detail in the* [advanced usage tutorial](advanced_usage.ipynb).\n",
    "\n",
    "To implement the bonus in GETTSIM, we will change relevant parameters in the existing system by editing the policy parameters that shape the policy environment."
   ]
  },
  {
   "cell_type": "markdown",
   "metadata": {},
   "source": [
    "## Finding the Relevant Parameter\n",
    "\n",
    "Firstly, we can load the existing policy environment for the year 2020 using the function `set_up_policy_environment`."
   ]
  },
  {
   "cell_type": "code",
   "execution_count": 2,
   "metadata": {},
   "outputs": [],
   "source": [
    "policy_params, policy_functions = set_up_policy_environment(\"2020\")"
   ]
  },
  {
   "cell_type": "markdown",
   "metadata": {},
   "source": [
    "We can open the dictionary with all the parameters by typing `policy_params`. The parameters are saved to a nested dictionary, meaning that the dictionary consists of multiple further dictionaries. This can make displaying the parameter values look confusing at first sight.\n",
    "\n",
    "To get an idea of the structure of the dictionary, we will work us through it step by step. First we take a look at the `keys` of the `dict`. The first layer of keys represent different policy groups."
   ]
  },
  {
   "cell_type": "code",
   "execution_count": 3,
   "metadata": {},
   "outputs": [
    {
     "name": "stdout",
     "output_type": "stream",
     "text": [
      "eink_st\n",
      "eink_st_abzuege\n",
      "soli_st\n",
      "arbeitsl_geld_2\n",
      "arbeitsl_geld\n",
      "soz_vers_beitr\n",
      "unterhalt\n",
      "abgelt_st\n",
      "wohngeld\n",
      "kinderzuschlag\n",
      "kindergeld\n",
      "elterngeld\n",
      "ges_renten_vers\n"
     ]
    }
   ],
   "source": [
    "print(*policy_params.keys(), sep=\"\\n\")"
   ]
  },
  {
   "cell_type": "markdown",
   "metadata": {},
   "source": [
    "Since we are interested in altering child benefits, we will select the key \"kindergeld\" to inspect the according parameters further. The parameters are saved to a sub-dictionary which can be selected using `policy_params[\"kindergeld\"]`. It contains the keys to different parameter groups that affect child benefits in the German system:"
   ]
  },
  {
   "cell_type": "code",
   "execution_count": 4,
   "metadata": {},
   "outputs": [
    {
     "name": "stdout",
     "output_type": "stream",
     "text": [
      "kindergeld_hoechstalter\n",
      "kindergeld\n",
      "kindergeld_einkommensgrenze\n",
      "kindergeld_stundengrenze\n",
      "datum\n"
     ]
    }
   ],
   "source": [
    "print(*policy_params[\"kindergeld\"].keys(), sep=\"\\n\")"
   ]
  },
  {
   "cell_type": "markdown",
   "metadata": {},
   "source": [
    "- **kindergeld_hoechstalter** is the maximum age of a child that is entitled to *Kindergeld*.\n",
    "\n",
    "- **kindergeld** is the amount of money that parents receive for their children.\n",
    "\n",
    "- **kindergeld_einkommensgrenze** is the maximum annual income of a child that is still entitled to *Kindergeld*.\n",
    "\n",
    "- **kindergeld_stundengrenze** is the maximum number of weekly working hours of a child that is entitled to *Kindergeld*.\n",
    "\n",
    "- **datum** specifies the date to which the parameters apply in the German taxes and transfers system. \n",
    "\n",
    "The reform we are simulating influences the amount of money that parents receive for their children. Let us take a look at the value of this parameter:"
   ]
  },
  {
   "cell_type": "code",
   "execution_count": 5,
   "metadata": {},
   "outputs": [
    {
     "data": {
      "text/plain": [
       "{1: 204, 2: 204, 3: 210, 4: 235}"
      ]
     },
     "execution_count": 5,
     "metadata": {},
     "output_type": "execute_result"
    }
   ],
   "source": [
    "policy_params[\"kindergeld\"][\"kindergeld\"]"
   ]
  },
  {
   "cell_type": "markdown",
   "metadata": {},
   "source": [
    "For the first and second child, the monthly *Kindergeld* is 204€. For the third child, monthly *Kindergeld* is 210€. For each additional child, *Kindergeld* is 235€.\n",
    "\n",
    "## Changing the Parameter\n",
    "\n",
    "To implement the bonus, we create a new parameter dictionary by creating a copy of the original which we can then alter."
   ]
  },
  {
   "cell_type": "code",
   "execution_count": 6,
   "metadata": {},
   "outputs": [],
   "source": [
    "policy_params_with_bonus = copy.deepcopy(policy_params)"
   ]
  },
  {
   "cell_type": "markdown",
   "metadata": {},
   "source": [
    "Using a loop, we add the 300€ to each entry of our new `policy_params_with_bonus[\"kindergeld\"][\"kindergeld\"]`. As the parameter is defined on a monthly level, we divide 300€ by 12. (In reality, the special child bonus will be paid in two seperate payments of 200€ and 100€ in the fall of 2020.)"
   ]
  },
  {
   "cell_type": "code",
   "execution_count": 7,
   "metadata": {},
   "outputs": [],
   "source": [
    "# Loop through policy paramaters to add the special child bonus.\n",
    "for n in policy_params_with_bonus[\"kindergeld\"][\"kindergeld\"]:\n",
    "    policy_params_with_bonus[\"kindergeld\"][\"kindergeld\"][n] += 300 / 12"
   ]
  },
  {
   "cell_type": "markdown",
   "metadata": {},
   "source": [
    "Now we can check if the ```policy_params_with_bonus``` shows different values for the ```[\"kindergeld\"][\"kindergeld\"]``` entries:"
   ]
  },
  {
   "cell_type": "code",
   "execution_count": 8,
   "metadata": {},
   "outputs": [
    {
     "data": {
      "text/plain": [
       "{1: 229.0, 2: 229.0, 3: 235.0, 4: 260.0}"
      ]
     },
     "execution_count": 8,
     "metadata": {},
     "output_type": "execute_result"
    }
   ],
   "source": [
    "policy_params_with_bonus[\"kindergeld\"][\"kindergeld\"] "
   ]
  },
  {
   "cell_type": "markdown",
   "metadata": {},
   "source": [
    "It worked, we raised all values by 300/12.\n",
    "\n",
    "------\n",
    "\n",
    "\n",
    "**Remark**: In the same way, we can also add new parameters to the `policy_params`, e.g. we could implement the special child bonus as a separate parameter:"
   ]
  },
  {
   "cell_type": "code",
   "execution_count": 9,
   "metadata": {},
   "outputs": [],
   "source": [
    "policy_params_with_bonus[\"kindergeld\"][\"kinderbonus\"] = 300 / 12"
   ]
  },
  {
   "cell_type": "markdown",
   "metadata": {},
   "source": [
    "Of course this is only useful if we edit the `policy_functions` as well. Otherwise the new parameter will not be taken into account by any function. Check out [this example](https://gettsim.readthedocs.io/en/stable/tutorials/policy_functions.html#Adding-a-New-Function) of the ``policy_functions`` tutorial to learn about a more general approach to this example. There we add a new function for the Kinderbonus instead of changing the parameters of an existing function.\n",
    "\n",
    "------"
   ]
  },
  {
   "cell_type": "markdown",
   "metadata": {},
   "source": [
    "## Applying the Edited Parameter Dictionary to Simulated Households\n",
    "\n",
    "We can use the simulated data from the [advanced usage tutorial](advanced_usage.ipynb) to illustrate the impact of the bonus we added to the *Kindergeld* parameters. For simplicity, we will only look at households with two children and two parents. "
   ]
  },
  {
   "cell_type": "code",
   "execution_count": 10,
   "metadata": {
    "scrolled": true
   },
   "outputs": [
    {
     "data": {
      "text/html": [
       "<div>\n",
       "<style scoped>\n",
       "    .dataframe tbody tr th:only-of-type {\n",
       "        vertical-align: middle;\n",
       "    }\n",
       "\n",
       "    .dataframe tbody tr th {\n",
       "        vertical-align: top;\n",
       "    }\n",
       "\n",
       "    .dataframe thead th {\n",
       "        text-align: right;\n",
       "    }\n",
       "</style>\n",
       "<table border=\"1\" class=\"dataframe\">\n",
       "  <thead>\n",
       "    <tr style=\"text-align: right;\">\n",
       "      <th></th>\n",
       "      <th>hh_id</th>\n",
       "      <th>tu_id</th>\n",
       "      <th>bruttolohn_m</th>\n",
       "      <th>vermögen_hh</th>\n",
       "      <th>prv_krankenv</th>\n",
       "      <th>alter</th>\n",
       "      <th>hat_kinder</th>\n",
       "      <th>kind</th>\n",
       "      <th>selbstständig</th>\n",
       "      <th>eink_selbst_m</th>\n",
       "      <th>...</th>\n",
       "      <th>kapital_eink_m</th>\n",
       "      <th>prv_rente_beitr_m</th>\n",
       "      <th>wohnort_ost</th>\n",
       "      <th>jahr_renteneintr</th>\n",
       "      <th>betreuungskost_m</th>\n",
       "      <th>in_ausbildung</th>\n",
       "      <th>behinderungsgrad</th>\n",
       "      <th>arbeitsstunden_w</th>\n",
       "      <th>alleinerziehend</th>\n",
       "      <th>anz_minderj_hh</th>\n",
       "    </tr>\n",
       "    <tr>\n",
       "      <th>p_id</th>\n",
       "      <th></th>\n",
       "      <th></th>\n",
       "      <th></th>\n",
       "      <th></th>\n",
       "      <th></th>\n",
       "      <th></th>\n",
       "      <th></th>\n",
       "      <th></th>\n",
       "      <th></th>\n",
       "      <th></th>\n",
       "      <th></th>\n",
       "      <th></th>\n",
       "      <th></th>\n",
       "      <th></th>\n",
       "      <th></th>\n",
       "      <th></th>\n",
       "      <th></th>\n",
       "      <th></th>\n",
       "      <th></th>\n",
       "      <th></th>\n",
       "      <th></th>\n",
       "    </tr>\n",
       "  </thead>\n",
       "  <tbody>\n",
       "    <tr>\n",
       "      <th>2000</th>\n",
       "      <td>2000</td>\n",
       "      <td>2000</td>\n",
       "      <td>1500.0</td>\n",
       "      <td>0</td>\n",
       "      <td>False</td>\n",
       "      <td>50</td>\n",
       "      <td>True</td>\n",
       "      <td>False</td>\n",
       "      <td>False</td>\n",
       "      <td>0.0</td>\n",
       "      <td>...</td>\n",
       "      <td>0.0</td>\n",
       "      <td>0.0</td>\n",
       "      <td>False</td>\n",
       "      <td>2100</td>\n",
       "      <td>0.0</td>\n",
       "      <td>False</td>\n",
       "      <td>0</td>\n",
       "      <td>0</td>\n",
       "      <td>False</td>\n",
       "      <td>2</td>\n",
       "    </tr>\n",
       "    <tr>\n",
       "      <th>2001</th>\n",
       "      <td>2000</td>\n",
       "      <td>2000</td>\n",
       "      <td>1500.0</td>\n",
       "      <td>0</td>\n",
       "      <td>False</td>\n",
       "      <td>50</td>\n",
       "      <td>True</td>\n",
       "      <td>False</td>\n",
       "      <td>False</td>\n",
       "      <td>0.0</td>\n",
       "      <td>...</td>\n",
       "      <td>0.0</td>\n",
       "      <td>0.0</td>\n",
       "      <td>False</td>\n",
       "      <td>2100</td>\n",
       "      <td>0.0</td>\n",
       "      <td>False</td>\n",
       "      <td>0</td>\n",
       "      <td>0</td>\n",
       "      <td>False</td>\n",
       "      <td>2</td>\n",
       "    </tr>\n",
       "    <tr>\n",
       "      <th>2002</th>\n",
       "      <td>2000</td>\n",
       "      <td>2000</td>\n",
       "      <td>NaN</td>\n",
       "      <td>0</td>\n",
       "      <td>False</td>\n",
       "      <td>10</td>\n",
       "      <td>False</td>\n",
       "      <td>True</td>\n",
       "      <td>False</td>\n",
       "      <td>NaN</td>\n",
       "      <td>...</td>\n",
       "      <td>NaN</td>\n",
       "      <td>NaN</td>\n",
       "      <td>False</td>\n",
       "      <td>2100</td>\n",
       "      <td>NaN</td>\n",
       "      <td>False</td>\n",
       "      <td>0</td>\n",
       "      <td>0</td>\n",
       "      <td>False</td>\n",
       "      <td>2</td>\n",
       "    </tr>\n",
       "    <tr>\n",
       "      <th>2003</th>\n",
       "      <td>2000</td>\n",
       "      <td>2000</td>\n",
       "      <td>NaN</td>\n",
       "      <td>0</td>\n",
       "      <td>False</td>\n",
       "      <td>5</td>\n",
       "      <td>False</td>\n",
       "      <td>True</td>\n",
       "      <td>False</td>\n",
       "      <td>NaN</td>\n",
       "      <td>...</td>\n",
       "      <td>NaN</td>\n",
       "      <td>NaN</td>\n",
       "      <td>False</td>\n",
       "      <td>2100</td>\n",
       "      <td>NaN</td>\n",
       "      <td>False</td>\n",
       "      <td>0</td>\n",
       "      <td>0</td>\n",
       "      <td>False</td>\n",
       "      <td>2</td>\n",
       "    </tr>\n",
       "    <tr>\n",
       "      <th>2004</th>\n",
       "      <td>2001</td>\n",
       "      <td>2001</td>\n",
       "      <td>1550.0</td>\n",
       "      <td>0</td>\n",
       "      <td>False</td>\n",
       "      <td>50</td>\n",
       "      <td>True</td>\n",
       "      <td>False</td>\n",
       "      <td>False</td>\n",
       "      <td>0.0</td>\n",
       "      <td>...</td>\n",
       "      <td>0.0</td>\n",
       "      <td>0.0</td>\n",
       "      <td>False</td>\n",
       "      <td>2100</td>\n",
       "      <td>0.0</td>\n",
       "      <td>False</td>\n",
       "      <td>0</td>\n",
       "      <td>0</td>\n",
       "      <td>False</td>\n",
       "      <td>2</td>\n",
       "    </tr>\n",
       "  </tbody>\n",
       "</table>\n",
       "<p>5 rows × 22 columns</p>\n",
       "</div>"
      ],
      "text/plain": [
       "      hh_id  tu_id  bruttolohn_m  vermögen_hh  prv_krankenv  alter  \\\n",
       "p_id                                                                 \n",
       "2000   2000   2000        1500.0            0         False     50   \n",
       "2001   2000   2000        1500.0            0         False     50   \n",
       "2002   2000   2000           NaN            0         False     10   \n",
       "2003   2000   2000           NaN            0         False      5   \n",
       "2004   2001   2001        1550.0            0         False     50   \n",
       "\n",
       "      hat_kinder   kind  selbstständig  eink_selbst_m  ...  kapital_eink_m  \\\n",
       "p_id                                                   ...                   \n",
       "2000        True  False          False            0.0  ...             0.0   \n",
       "2001        True  False          False            0.0  ...             0.0   \n",
       "2002       False   True          False            NaN  ...             NaN   \n",
       "2003       False   True          False            NaN  ...             NaN   \n",
       "2004        True  False          False            0.0  ...             0.0   \n",
       "\n",
       "      prv_rente_beitr_m  wohnort_ost  jahr_renteneintr  betreuungskost_m  \\\n",
       "p_id                                                                       \n",
       "2000                0.0        False              2100               0.0   \n",
       "2001                0.0        False              2100               0.0   \n",
       "2002                NaN        False              2100               NaN   \n",
       "2003                NaN        False              2100               NaN   \n",
       "2004                0.0        False              2100               0.0   \n",
       "\n",
       "      in_ausbildung  behinderungsgrad  arbeitsstunden_w  alleinerziehend  \\\n",
       "p_id                                                                       \n",
       "2000          False                 0                 0            False   \n",
       "2001          False                 0                 0            False   \n",
       "2002          False                 0                 0            False   \n",
       "2003          False                 0                 0            False   \n",
       "2004          False                 0                 0            False   \n",
       "\n",
       "      anz_minderj_hh  \n",
       "p_id                  \n",
       "2000               2  \n",
       "2001               2  \n",
       "2002               2  \n",
       "2003               2  \n",
       "2004               2  \n",
       "\n",
       "[5 rows x 22 columns]"
      ]
     },
     "execution_count": 10,
     "metadata": {},
     "output_type": "execute_result"
    }
   ],
   "source": [
    "# Load data from .csv-file.\n",
    "data = pd.read_csv(\"household_data_kindergeld.csv\", index_col=[0])\n",
    "# Compute number of children in household and add it to data.\n",
    "children = compute_taxes_and_transfers(\n",
    "    data=data,\n",
    "    params=policy_params,\n",
    "    targets = \"anz_minderj_hh\",\n",
    "    functions=policy_functions\n",
    ")\n",
    "data[\"anz_minderj_hh\"] = children[\"anz_minderj_hh\"]\n",
    "# Filter data to include only households with 2 children.\n",
    "data = data[data.anz_minderj_hh == 2]\n",
    "data.head()"
   ]
  },
  {
   "cell_type": "markdown",
   "metadata": {},
   "source": [
    "This simulated data set shows 130 households with each two  50 year old parents and their 5 & 10 year old children. The households/tax units only vary in their income.\n",
    "\n",
    "First, we compute the *Kindergeld* with the original parameters:"
   ]
  },
  {
   "cell_type": "code",
   "execution_count": 11,
   "metadata": {},
   "outputs": [
    {
     "data": {
      "text/html": [
       "<div>\n",
       "<style scoped>\n",
       "    .dataframe tbody tr th:only-of-type {\n",
       "        vertical-align: middle;\n",
       "    }\n",
       "\n",
       "    .dataframe tbody tr th {\n",
       "        vertical-align: top;\n",
       "    }\n",
       "\n",
       "    .dataframe thead th {\n",
       "        text-align: right;\n",
       "    }\n",
       "</style>\n",
       "<table border=\"1\" class=\"dataframe\">\n",
       "  <thead>\n",
       "    <tr style=\"text-align: right;\">\n",
       "      <th></th>\n",
       "      <th>kindergeld_m_tu</th>\n",
       "    </tr>\n",
       "    <tr>\n",
       "      <th>p_id</th>\n",
       "      <th></th>\n",
       "    </tr>\n",
       "  </thead>\n",
       "  <tbody>\n",
       "    <tr>\n",
       "      <th>2000</th>\n",
       "      <td>408</td>\n",
       "    </tr>\n",
       "    <tr>\n",
       "      <th>2001</th>\n",
       "      <td>408</td>\n",
       "    </tr>\n",
       "    <tr>\n",
       "      <th>2002</th>\n",
       "      <td>408</td>\n",
       "    </tr>\n",
       "    <tr>\n",
       "      <th>2003</th>\n",
       "      <td>408</td>\n",
       "    </tr>\n",
       "    <tr>\n",
       "      <th>2004</th>\n",
       "      <td>408</td>\n",
       "    </tr>\n",
       "    <tr>\n",
       "      <th>...</th>\n",
       "      <td>...</td>\n",
       "    </tr>\n",
       "    <tr>\n",
       "      <th>2519</th>\n",
       "      <td>0</td>\n",
       "    </tr>\n",
       "    <tr>\n",
       "      <th>2520</th>\n",
       "      <td>0</td>\n",
       "    </tr>\n",
       "    <tr>\n",
       "      <th>2521</th>\n",
       "      <td>0</td>\n",
       "    </tr>\n",
       "    <tr>\n",
       "      <th>2522</th>\n",
       "      <td>0</td>\n",
       "    </tr>\n",
       "    <tr>\n",
       "      <th>2523</th>\n",
       "      <td>0</td>\n",
       "    </tr>\n",
       "  </tbody>\n",
       "</table>\n",
       "<p>524 rows × 1 columns</p>\n",
       "</div>"
      ],
      "text/plain": [
       "      kindergeld_m_tu\n",
       "p_id                 \n",
       "2000              408\n",
       "2001              408\n",
       "2002              408\n",
       "2003              408\n",
       "2004              408\n",
       "...               ...\n",
       "2519                0\n",
       "2520                0\n",
       "2521                0\n",
       "2522                0\n",
       "2523                0\n",
       "\n",
       "[524 rows x 1 columns]"
      ]
     },
     "execution_count": 11,
     "metadata": {},
     "output_type": "execute_result"
    }
   ],
   "source": [
    "kindergeld_no_bonus = compute_taxes_and_transfers(\n",
    "    data = data,\n",
    "    params=policy_params,\n",
    "    functions=policy_functions,\n",
    "    targets=\"kindergeld_m_tu\",\n",
    "    columns_overriding_functions=\"anz_minderj_hh\"\n",
    "    )\n",
    "\n",
    "kindergeld_no_bonus"
   ]
  },
  {
   "cell_type": "markdown",
   "metadata": {},
   "source": [
    "Now we do exactly the same, but using the `policy_params_with_bonus`."
   ]
  },
  {
   "cell_type": "code",
   "execution_count": 12,
   "metadata": {},
   "outputs": [
    {
     "data": {
      "text/html": [
       "<div>\n",
       "<style scoped>\n",
       "    .dataframe tbody tr th:only-of-type {\n",
       "        vertical-align: middle;\n",
       "    }\n",
       "\n",
       "    .dataframe tbody tr th {\n",
       "        vertical-align: top;\n",
       "    }\n",
       "\n",
       "    .dataframe thead th {\n",
       "        text-align: right;\n",
       "    }\n",
       "</style>\n",
       "<table border=\"1\" class=\"dataframe\">\n",
       "  <thead>\n",
       "    <tr style=\"text-align: right;\">\n",
       "      <th></th>\n",
       "      <th>kindergeld_m_tu</th>\n",
       "    </tr>\n",
       "    <tr>\n",
       "      <th>p_id</th>\n",
       "      <th></th>\n",
       "    </tr>\n",
       "  </thead>\n",
       "  <tbody>\n",
       "    <tr>\n",
       "      <th>2000</th>\n",
       "      <td>458.0</td>\n",
       "    </tr>\n",
       "    <tr>\n",
       "      <th>2001</th>\n",
       "      <td>458.0</td>\n",
       "    </tr>\n",
       "    <tr>\n",
       "      <th>2002</th>\n",
       "      <td>458.0</td>\n",
       "    </tr>\n",
       "    <tr>\n",
       "      <th>2003</th>\n",
       "      <td>458.0</td>\n",
       "    </tr>\n",
       "    <tr>\n",
       "      <th>2004</th>\n",
       "      <td>458.0</td>\n",
       "    </tr>\n",
       "    <tr>\n",
       "      <th>...</th>\n",
       "      <td>...</td>\n",
       "    </tr>\n",
       "    <tr>\n",
       "      <th>2519</th>\n",
       "      <td>0.0</td>\n",
       "    </tr>\n",
       "    <tr>\n",
       "      <th>2520</th>\n",
       "      <td>0.0</td>\n",
       "    </tr>\n",
       "    <tr>\n",
       "      <th>2521</th>\n",
       "      <td>0.0</td>\n",
       "    </tr>\n",
       "    <tr>\n",
       "      <th>2522</th>\n",
       "      <td>0.0</td>\n",
       "    </tr>\n",
       "    <tr>\n",
       "      <th>2523</th>\n",
       "      <td>0.0</td>\n",
       "    </tr>\n",
       "  </tbody>\n",
       "</table>\n",
       "<p>524 rows × 1 columns</p>\n",
       "</div>"
      ],
      "text/plain": [
       "      kindergeld_m_tu\n",
       "p_id                 \n",
       "2000            458.0\n",
       "2001            458.0\n",
       "2002            458.0\n",
       "2003            458.0\n",
       "2004            458.0\n",
       "...               ...\n",
       "2519              0.0\n",
       "2520              0.0\n",
       "2521              0.0\n",
       "2522              0.0\n",
       "2523              0.0\n",
       "\n",
       "[524 rows x 1 columns]"
      ]
     },
     "execution_count": 12,
     "metadata": {},
     "output_type": "execute_result"
    }
   ],
   "source": [
    "kindergeld_bonus = compute_taxes_and_transfers(\n",
    "    data = data,\n",
    "    functions=policy_functions,\n",
    "    params=policy_params_with_bonus,\n",
    "    targets=\"kindergeld_m_tu\",\n",
    "    columns_overriding_functions=\"anz_minderj_hh\"\n",
    "    )\n",
    "kindergeld_bonus"
   ]
  },
  {
   "cell_type": "markdown",
   "metadata": {},
   "source": [
    "## Compare Results\n",
    "\n",
    "Using the results shown above, we can now easily visualize and compare the amount of *Kindergeld* for different income groups in the two scenarios. Therefore, we reorganize our data. We create a DataFrame with the total monthly income of each tax unit and the *Kindergeld* they receive with the `policy_params_with_bonus` and the `policy_params`:"
   ]
  },
  {
   "cell_type": "code",
   "execution_count": 13,
   "metadata": {},
   "outputs": [
    {
     "data": {
      "text/plain": [
       "tu_id\n",
       "2000     3000.0\n",
       "2001     3100.0\n",
       "2002     3200.0\n",
       "2003     3300.0\n",
       "2004     3400.0\n",
       "         ...   \n",
       "2126    15600.0\n",
       "2127    15700.0\n",
       "2128    15800.0\n",
       "2129    15900.0\n",
       "2130    16000.0\n",
       "Name: bruttolohn_m, Length: 131, dtype: float64"
      ]
     },
     "execution_count": 13,
     "metadata": {},
     "output_type": "execute_result"
    }
   ],
   "source": [
    "# Group data by tax unit id and sum the gross monthly income.\n",
    "total_income_m_tu = data.groupby(\"tu_id\")[\"bruttolohn_m\"].sum()\n",
    "total_income_m_tu"
   ]
  },
  {
   "cell_type": "code",
   "execution_count": 14,
   "metadata": {},
   "outputs": [],
   "source": [
    "# Create DataFrame with relevant columns for plotting.\n",
    "df = pd.DataFrame() \n",
    "df[\"Kindergeld without bonus\"] = kindergeld_no_bonus[\"kindergeld_m_tu\"]\n",
    "df[\"Kindergeld with bonus\"] = kindergeld_bonus[\"kindergeld_m_tu\"]\n",
    "df[\"tu_id\"] = data[\"tu_id\"]\n",
    "df = df.drop_duplicates(\"tu_id\").set_index(\"tu_id\")\n",
    "df[\"Income (per tax unit)\"] = total_income_m_tu"
   ]
  },
  {
   "cell_type": "markdown",
   "metadata": {},
   "source": [
    "We can illustrate the effect of the special child bonus of 2020 by plotting the monthly *Kindergeld* against the income on tax unit level."
   ]
  },
  {
   "cell_type": "code",
   "execution_count": 15,
   "metadata": {
    "scrolled": false
   },
   "outputs": [
    {
     "data": {
      "image/png": "[encoded data removed]",
      "text/plain": [
       "<Figure size 432x288 with 1 Axes>"
      ]
     },
     "metadata": {
      "needs_background": "light"
     },
     "output_type": "display_data"
    }
   ],
   "source": [
    "df.plot(x=\"Income (per tax unit)\", y=[\"Kindergeld without bonus\", \"Kindergeld with bonus\"]);\n",
    "plt.xlabel(\"Monthly gross income in € (per tax unit)\");\n",
    "plt.ylabel(\"€ per month\");"
   ]
  },
  {
   "cell_type": "markdown",
   "metadata": {},
   "source": [
    "Unsurprisingly, the special child bonus increases the amount of money that tax units receive if they are entitled to *Kindergeld*. Also, more tax units are entitled to *Kindergeld* as the threshold at which tax credits become more advantageous moves up.\n",
    "\n",
    "Of course this is a *very* basic visualization and analysis. Have a look at the [policy functions tutorial](policy_functions.ipynb) to see a more sophisticated approach for this example taking into account the interaction with ALG-II. At the same time you will learn learn how to change and add functions to a policy environment!\n"
   ]
  }
 ],
 "metadata": {
  "kernelspec": {
   "display_name": "Python 3",
   "language": "python",
   "name": "python3"
  },
  "language_info": {
   "codemirror_mode": {
    "name": "ipython",
    "version": 3
   },
   "file_extension": ".py",
   "mimetype": "text/x-python",
   "name": "python",
   "nbconvert_exporter": "python",
   "pygments_lexer": "ipython3",
   "version": "3.8.5"
  }
 },
 "nbformat": 4,
 "nbformat_minor": 4
}
