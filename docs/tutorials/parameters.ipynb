{
 "cells": [
  {
   "cell_type": "markdown",
   "metadata": {},
   "source": [
    "# Changing Parameters of the Taxes and Transfers System"
   ]
  },
  {
   "cell_type": "markdown",
   "metadata": {},
   "source": [
    "This tutorial focuses on the `policy_params` of GETTSIM, one of the two objects returned by the function `set_up_policy_environment`. It is a dictionary that contains all the date-specific parameters (e.g. level of unemployment benefit) that are necessary to compute the target variables we are interested in. GETTSIM not only provides current and past policy environments, but also allows users to alter policies for instance by changing parameters."
   ]
  },
  {
   "cell_type": "code",
   "execution_count": null,
   "metadata": {},
   "outputs": [],
   "source": [
    "import copy\n",
    "\n",
    "import numpy as np\n",
    "import pandas as pd\n",
    "import plotly.express as px\n",
    "from gettsim import (\n",
    "    compute_taxes_and_transfers,\n",
    "    create_synthetic_data,\n",
    "    set_up_policy_environment,\n",
    ")"
   ]
  },
  {
   "cell_type": "markdown",
   "metadata": {},
   "source": [
    "## Example: Increasing Child Benefit\n",
    "\n",
    "In this tutorial, we will implement such a policy change: a raise of the child benefit by 20 € for each child.\n",
    "\n",
    "*Small Recap: Kindergeld is a child benefit that can be claimed by parents in Germany. Mainly lower-income families benefit from Kindergeld. For higher-income families, the tax credits for children are more advantageous, so that they do not receive Kindergeld. The child benefit and how they are implemented in GETTSIM is explained in more detail in the* [advanced usage tutorial](advanced_usage.ipynb).\n",
    "\n",
    "To implement the raise in GETTSIM, we will change relevant parameters in the existing system by editing the policy parameters that shape the policy environment."
   ]
  },
  {
   "cell_type": "markdown",
   "metadata": {},
   "source": [
    "## Finding the Relevant Parameter\n",
    "\n",
    "Firstly, we can load the existing policy environment for the year 2020 using the function `set_up_policy_environment`."
   ]
  },
  {
   "cell_type": "code",
   "execution_count": null,
   "metadata": {},
   "outputs": [],
   "source": [
    "policy_params, policy_functions = set_up_policy_environment(\"2020\")"
   ]
  },
  {
   "cell_type": "markdown",
   "metadata": {},
   "source": [
    "We can open the dictionary with all the parameters by typing `policy_params`. The parameters are saved to a nested dictionary, meaning that the dictionary consists of multiple further dictionaries. This can make displaying the parameter values look confusing at first sight.\n",
    "\n",
    "To get an idea of the structure of the dictionary, we will work us through it step by step. First we take a look at the `keys` of the `dict`. The first layer of keys represent different policy groups."
   ]
  },
  {
   "cell_type": "code",
   "execution_count": null,
   "metadata": {},
   "outputs": [],
   "source": [
    "print(*policy_params.keys(), sep=\"\\n\")"
   ]
  },
  {
   "cell_type": "markdown",
   "metadata": {},
   "source": [
    "Since we are interested in altering child benefits, we will select the key \"kindergeld\" to inspect the according parameters further. The parameters are saved to a sub-dictionary which can be selected using `policy_params[\"kindergeld\"]`. It contains the keys to different parameter groups that affect child benefits in the German system:"
   ]
  },
  {
   "cell_type": "code",
   "execution_count": null,
   "metadata": {},
   "outputs": [],
   "source": [
    "print(*policy_params[\"kindergeld\"].keys(), sep=\"\\n\")"
   ]
  },
  {
   "cell_type": "markdown",
   "metadata": {},
   "source": [
    "- **kindergeld_altersgrenze** is the maximum age of a child that is entitled to *Kindergeld*.\n",
    "\n",
    "- **kindergeld** is the amount of money that parents receive for their children.\n",
    "\n",
    "- **kindergeld_einkommensgrenze** is the maximum annual income of a child that is still entitled to *Kindergeld*.\n",
    "\n",
    "- **kindergeld_stundengrenze** is the maximum number of weekly working hours of a child that is entitled to *Kindergeld*.\n",
    "\n",
    "- **datum** specifies the date to which the parameters apply in the German taxes and transfers system. \n",
    "\n",
    "The reform we are simulating influences the amount of money that parents receive for their children. Let us take a look at the value of this parameter:"
   ]
  },
  {
   "cell_type": "code",
   "execution_count": null,
   "metadata": {},
   "outputs": [],
   "source": [
    "policy_params[\"kindergeld\"][\"kindergeld\"]"
   ]
  },
  {
   "cell_type": "markdown",
   "metadata": {},
   "source": [
    "For the first and second child, the monthly *Kindergeld* is 204€. For the third child, monthly *Kindergeld* is 210€. For each additional child, *Kindergeld* is 235€.\n",
    "\n",
    "## Changing the Parameter\n",
    "\n",
    "To implement the bonus, we create a new parameter dictionary by creating a copy of the original which we can then alter."
   ]
  },
  {
   "cell_type": "code",
   "execution_count": null,
   "metadata": {},
   "outputs": [],
   "source": [
    "policy_params_new = copy.deepcopy(policy_params)"
   ]
  },
  {
   "cell_type": "markdown",
   "metadata": {},
   "source": [
    "Using a loop, we add the 100€ to each entry of our new `policy_params_with_bonus[\"kindergeld\"][\"kindergeld\"]`."
   ]
  },
  {
   "cell_type": "code",
   "execution_count": null,
   "metadata": {},
   "outputs": [],
   "source": [
    "# Loop through policy paramaters to add the special child bonus.\n",
    "for n in policy_params_new[\"kindergeld\"][\"kindergeld\"]:\n",
    "    policy_params_new[\"kindergeld\"][\"kindergeld\"][n] += 20"
   ]
  },
  {
   "cell_type": "markdown",
   "metadata": {},
   "source": [
    "Now we can check if the ```[\"kindergeld\"][\"kindergeld\"]``` entries in the new parameter dictionary (```policy_params_new```) are as expected:"
   ]
  },
  {
   "cell_type": "code",
   "execution_count": null,
   "metadata": {},
   "outputs": [],
   "source": [
    "policy_params_new[\"kindergeld\"][\"kindergeld\"]"
   ]
  },
  {
   "cell_type": "markdown",
   "metadata": {},
   "source": [
    "It worked, we raised all values by 20!"
   ]
  },
  {
   "cell_type": "markdown",
   "metadata": {},
   "source": [
    "## Applying the Edited Parameter Dictionary to Simulated Households\n",
    "\n",
    "We use simulated data to illustrate the impact of the bonus we added to the *Kindergeld* parameters. For simplicity, we will only look at households with two children and two parents. "
   ]
  },
  {
   "cell_type": "code",
   "execution_count": null,
   "metadata": {},
   "outputs": [],
   "source": [
    "data = create_synthetic_data(\n",
    "    n_adults=2,\n",
    "    n_children=2,\n",
    "    specs_heterogeneous={\n",
    "        \"bruttolohn_m\": [[i, 0, 0, 0] for i in np.linspace(1000, 8000, 701)]\n",
    "    },\n",
    ")\n",
    "\n",
    "# Compute number of children in household and add it to data.\n",
    "children = compute_taxes_and_transfers(\n",
    "    data=data,\n",
    "    params=policy_params,\n",
    "    targets=\"anz_kinder_bis_17_hh\",\n",
    "    functions=policy_functions,\n",
    ")\n",
    "# Compute sum of pension contributions in household and add it to data.\n",
    "sum_ges_rente_priv_rente_m = compute_taxes_and_transfers(\n",
    "    data=data,\n",
    "    params=policy_params,\n",
    "    targets=\"sum_ges_rente_priv_rente_m\",\n",
    "    functions=policy_functions,\n",
    ")\n",
    "data[\"anz_kinder_bis_17_hh\"] = children[\"anz_kinder_bis_17_hh\"]\n",
    "data[\"sum_ges_rente_priv_rente_m\"] = sum_ges_rente_priv_rente_m[\n",
    "    \"sum_ges_rente_priv_rente_m\"\n",
    "]\n",
    "data.head()"
   ]
  },
  {
   "attachments": {},
   "cell_type": "markdown",
   "metadata": {},
   "source": [
    "This simulated data set shows 701 households of two adults and their two children. The households/tax units only vary in their income.\n",
    "\n",
    "First, we compute the *Kindergeld* with the original parameters:"
   ]
  },
  {
   "cell_type": "code",
   "execution_count": null,
   "metadata": {},
   "outputs": [],
   "source": [
    "kindergeld_status_quo = compute_taxes_and_transfers(\n",
    "    data=data,\n",
    "    params=policy_params,\n",
    "    functions=policy_functions,\n",
    "    targets=[\"anz_erwachsene_tu\", \"zu_verst_eink_mit_kinderfreib_tu\"],\n",
    "    columns_overriding_functions=[\"anz_kinder_bis_17_hh\", \"sum_ges_rente_priv_rente_m\"],\n",
    ")\n",
    "\n",
    "kindergeld_status_quo"
   ]
  },
  {
   "cell_type": "code",
   "execution_count": null,
   "metadata": {},
   "outputs": [],
   "source": [
    "kindergeld_status_quo = compute_taxes_and_transfers(\n",
    "    data=data,\n",
    "    params=policy_params,\n",
    "    functions=policy_functions,\n",
    "    targets=\"kindergeld_m_tu\",\n",
    "    columns_overriding_functions=[\"anz_kinder_bis_17_hh\", \"sum_ges_rente_priv_rente_m\"],\n",
    ")\n",
    "\n",
    "kindergeld_status_quo[[\"kindergeld_m_tu\"]]"
   ]
  },
  {
   "cell_type": "markdown",
   "metadata": {},
   "source": [
    "Now we do exactly the same, but using the `policy_params_new`."
   ]
  },
  {
   "cell_type": "code",
   "execution_count": null,
   "metadata": {},
   "outputs": [],
   "source": [
    "kindergeld_new = compute_taxes_and_transfers(\n",
    "    data=data,\n",
    "    functions=policy_functions,\n",
    "    params=policy_params_new,\n",
    "    targets=\"kindergeld_m_tu\",\n",
    "    columns_overriding_functions=[\"anz_kinder_bis_17_hh\", \"sum_ges_rente_priv_rente_m\"],\n",
    ")\n",
    "kindergeld_new[[\"kindergeld_m_tu\"]]"
   ]
  },
  {
   "cell_type": "markdown",
   "metadata": {},
   "source": [
    "## Compare Results\n",
    "\n",
    "Using the results shown above, we can now easily visualize and compare the amount of *Kindergeld* for different income groups in the two scenarios. Therefore, we reorganize our data. We create a DataFrame with the total monthly income of each tax unit and the *Kindergeld* they receive with the `policy_params_new` and the `policy_params`:"
   ]
  },
  {
   "cell_type": "code",
   "execution_count": null,
   "metadata": {},
   "outputs": [],
   "source": [
    "# Group data by tax unit id and sum the gross monthly income.\n",
    "total_income_m_tu = data.groupby(\"tu_id\")[\"bruttolohn_m\"].sum()\n",
    "total_income_m_tu.tail(10)"
   ]
  },
  {
   "cell_type": "code",
   "execution_count": null,
   "metadata": {},
   "outputs": [],
   "source": [
    "# Create DataFrame with relevant columns for plotting.\n",
    "df = pd.DataFrame()\n",
    "df[\"Status Quo\"] = kindergeld_status_quo[\"kindergeld_m_tu\"]\n",
    "df[\"After raise\"] = kindergeld_new[\"kindergeld_m_tu\"]\n",
    "df[\"tu_id\"] = data[\"tu_id\"]\n",
    "df = df.drop_duplicates(\"tu_id\").set_index(\"tu_id\")\n",
    "df[\"Income (per tax unit)\"] = total_income_m_tu"
   ]
  },
  {
   "cell_type": "markdown",
   "metadata": {},
   "source": [
    "We can illustrate the effect of the special child bonus of 2020 by plotting the monthly *Kindergeld* against the income on tax unit level."
   ]
  },
  {
   "cell_type": "code",
   "execution_count": null,
   "metadata": {},
   "outputs": [],
   "source": [
    "fig = px.line(\n",
    "    data_frame=df,\n",
    "    x=\"Income (per tax unit)\",\n",
    "    y=[\"Status Quo\", \"After raise\"],\n",
    "    title=\"Effects of hypothetical raise of Kindergeld\",\n",
    ")\n",
    "fig.update_layout(\n",
    "    xaxis_title=\"Monthly gross income in € (per tax unit)\",\n",
    "    yaxis_title=\"Kindergeld in € per month\",\n",
    ")"
   ]
  },
  {
   "cell_type": "markdown",
   "metadata": {},
   "source": [
    "Unsurprisingly, the policy reform increases the amount of money that tax units receive if they are entitled to *Kindergeld*.\n",
    "\n",
    "Of course this is a *very* basic visualization and analysis. Have a look at the [policy functions tutorial](policy_functions.ipynb) to see a more sophisticated approach for this example taking into account the interaction with ALG-II. At the same time you will learn learn how to change and add functions to a policy environment!\n"
   ]
  }
 ],
 "metadata": {
  "language_info": {
   "codemirror_mode": {
    "name": "ipython",
    "version": 3
   },
   "file_extension": ".py",
   "mimetype": "text/x-python",
   "name": "python",
   "nbconvert_exporter": "python",
   "pygments_lexer": "ipython3"
  }
 },
 "nbformat": 4,
 "nbformat_minor": 4
}
