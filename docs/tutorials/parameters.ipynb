{
 "cells": [
  {
   "cell_type": "markdown",
   "metadata": {},
   "source": [
    "# Changing Parameters of the Taxes and Transfers System"
   ]
  },
  {
   "cell_type": "markdown",
   "metadata": {},
   "source": [
    "This tutorial focuses on the `policy_params` of GETTSIM, one of the two objects returned by the function `set_up_policy_environment`. It is a dictionary that contains all the date-specific parameters (e.g. level of unemployment benefit) that are necessary to compute the target variables we are interested in. GETTSIM not only provides current and past policy environments, but also allows users to alter policies for instance by changing parameters."
   ]
  },
  {
   "cell_type": "code",
   "execution_count": 1,
   "metadata": {},
   "outputs": [],
   "source": [
    "import copy\n",
    "import pandas as pd\n",
    "import numpy as np\n",
    "\n",
    "import matplotlib.pyplot as plt\n",
    "\n",
    "from gettsim import set_up_policy_environment\n",
    "from gettsim import compute_taxes_and_transfers"
   ]
  },
  {
   "cell_type": "markdown",
   "metadata": {},
   "source": [
    "## Example: Special Child Bonus from 2020\n",
    "\n",
    "In this tutorial, we will implement such a policy change using the example of an actual child bonus policy implemented in 2020. For this policy, the German government pays a special child bonus of 300€ per child to households with children as part of a stimulus package. The households will receive the special child bonus as part of the *Kindergeld* which is an established part of the German taxes and transfers system.\n",
    "\n",
    "*Small Recap: Kindergeld is a child benefit that can be claimed by parents in Germany. Mainly lower-income families benefit from Kindergeld. For higher-income families, the tax credits for children are more advantageous, so that they do not receive Kindergeld. The child benefit and how they are implemented in GETTSIM is explained in more detail in the* [advanced usage tutorial](advanced_usage.ipynb).\n",
    "\n",
    "To implement the reform in GETTSIM, we will change relevant parameters in the existing system by editing the policy parameters that shape the policy environment."
   ]
  },
  {
   "cell_type": "markdown",
   "metadata": {},
   "source": [
    "## Finding the relevant parameter\n",
    "\n",
    "Firstly, we can load the existing policy environment for the year 2020 using the function `set_up_policy_environment`."
   ]
  },
  {
   "cell_type": "code",
   "execution_count": 2,
   "metadata": {},
   "outputs": [],
   "source": [
    "policy_params, policy_functions = set_up_policy_environment(\"2020\")"
   ]
  },
  {
   "cell_type": "markdown",
   "metadata": {},
   "source": [
    "We can open the dictionary with all the parameters by typing `policy_params`. The parameters are saved to a nested dictionary, meaning that the dictionary consists of multiple further dictionaries. This can make displaying the parameter values look confusing at first sight.\n",
    "\n",
    "To get an idea of the structure of the dictionary, we will work us through it step by step. First we take a look at the `keys` of the `dict`. The first layer of keys represent different policy groups."
   ]
  },
  {
   "cell_type": "code",
   "execution_count": 3,
   "metadata": {},
   "outputs": [
    {
     "name": "stdout",
     "output_type": "stream",
     "text": [
      "eink_st\n",
      "eink_st_abzuege\n",
      "soli_st\n",
      "arbeitsl_geld_2\n",
      "arbeitsl_geld\n",
      "soz_vers_beitr\n",
      "unterhalt\n",
      "abgelt_st\n",
      "wohngeld\n",
      "kinderzuschlag\n",
      "kindergeld\n",
      "elterngeld\n"
     ]
    }
   ],
   "source": [
    "print(*policy_params.keys(), sep=\"\\n\")"
   ]
  },
  {
   "cell_type": "markdown",
   "metadata": {},
   "source": [
    "Since we are interested in altering child benefits, we will select the key \"kindergeld\" to inspect the according parameters further. The parameters are saved to a sub-dictionary which can be selected using `policy_params[\"kindergeld\"]`. It contains the keys to different parameter groups that affect child benefits in the German system:"
   ]
  },
  {
   "cell_type": "code",
   "execution_count": 4,
   "metadata": {},
   "outputs": [
    {
     "name": "stdout",
     "output_type": "stream",
     "text": [
      "kindergeld_hoechstalter\n",
      "kindergeld\n",
      "kindergeld_einkommensgrenze\n",
      "kindergeld_stundengrenze\n",
      "datum\n"
     ]
    }
   ],
   "source": [
    "print(*policy_params[\"kindergeld\"].keys(), sep=\"\\n\")"
   ]
  },
  {
   "cell_type": "markdown",
   "metadata": {},
   "source": [
    "- **kindergeld_hoechstalter** is the maximum age of a child that is entitled to *Kindergeld*.\n",
    "\n",
    "- **kindergeld** is the amount of money that parents receive for their children.\n",
    "\n",
    "- **kindergeld_einkommensgrenze** is the maximum annual income of a child that is still entitled to *Kindergeld*.\n",
    "\n",
    "- **kindergeld_stundengrenze** is the maximum number of weekly working hours of a child that is entitled to *Kindergeld*.\n",
    "\n",
    "- **datum** specify the date to which the parameters apply in the German taxes and transfers system. \n",
    "\n",
    "The reform we are simulating influences the amount of money that parents receive for their children. Let´s take a look at the value of this parameter:"
   ]
  },
  {
   "cell_type": "code",
   "execution_count": 5,
   "metadata": {},
   "outputs": [
    {
     "data": {
      "text/plain": [
       "{1: 204, 2: 204, 3: 210, 4: 235}"
      ]
     },
     "execution_count": 5,
     "metadata": {},
     "output_type": "execute_result"
    }
   ],
   "source": [
    "policy_params[\"kindergeld\"][\"kindergeld\"]"
   ]
  },
  {
   "cell_type": "markdown",
   "metadata": {},
   "source": [
    "For the first and second child, the monthly *Kindergeld* is 204€. For the third child, monthly *Kindergeld* is 210€. For each additional child, *Kindergeld* is 235€.\n",
    "\n",
    "## Changing the parameter\n",
    "\n",
    "To implement the reform, we create a new parameter dictionary by creating a copy of the original which we can then alter."
   ]
  },
  {
   "cell_type": "code",
   "execution_count": 6,
   "metadata": {},
   "outputs": [],
   "source": [
    "policy_params_reformed = copy.deepcopy(policy_params)"
   ]
  },
  {
   "cell_type": "markdown",
   "metadata": {},
   "source": [
    "Using a loop, we add the 300€ to each entry of our new `policy_params_reformed[\"kindergeld\"][\"kindergeld\"]`. As the parameter is defined on a monthly level, we divide 300€ by 12. (In reality, the special child bonus will be paid in two seperate payments of 200€ and 100€ in the fall of 2020.)"
   ]
  },
  {
   "cell_type": "code",
   "execution_count": 7,
   "metadata": {},
   "outputs": [],
   "source": [
    "# Loop through policy paramaters to add the special child bonus.\n",
    "for n in policy_params_reformed[\"kindergeld\"][\"kindergeld\"]:\n",
    "    policy_params_reformed[\"kindergeld\"][\"kindergeld\"][n] += 300 / 12"
   ]
  },
  {
   "cell_type": "markdown",
   "metadata": {},
   "source": [
    "Now we can check if the ```params_dict_reformed``` shows different values for the ```[\"kindergeld\"][\"kindergeld\"]``` entries:"
   ]
  },
  {
   "cell_type": "code",
   "execution_count": 8,
   "metadata": {},
   "outputs": [
    {
     "data": {
      "text/plain": [
       "{1: 229.0, 2: 229.0, 3: 235.0, 4: 260.0}"
      ]
     },
     "execution_count": 8,
     "metadata": {},
     "output_type": "execute_result"
    }
   ],
   "source": [
    "policy_params_reformed[\"kindergeld\"][\"kindergeld\"] "
   ]
  },
  {
   "cell_type": "markdown",
   "metadata": {},
   "source": [
    "It worked, we raised all values by 300/12.\n",
    "\n",
    "------\n",
    "\n",
    "\n",
    "**Remark**: In the same way, we can also add new parameters to the `policy_params`, e.g. we could implement the special child bonus as a separate parameter:"
   ]
  },
  {
   "cell_type": "code",
   "execution_count": 9,
   "metadata": {},
   "outputs": [],
   "source": [
    "policy_params_reformed[\"kindergeld\"][\"kinderbonus\"] = 300 / 12"
   ]
  },
  {
   "cell_type": "markdown",
   "metadata": {},
   "source": [
    "Of course this is only useful if we edit the `policy_functions` as well. Otherwise the new parameter will not be taken into account by any function. Check out the [policy functions tutorial](policy_functions.ipynb) for more information on changing or adding policy functions to a policy environment in GETTSIM.\n",
    "\n",
    "------"
   ]
  },
  {
   "cell_type": "markdown",
   "metadata": {},
   "source": [
    "## Applying the edited parameter dictionary to simulated households\n",
    "\n",
    "We can use the simulated data from the [advanced usage tutorial](advanced_usage.ipynb) to illustrate the the impact of the reform we implemented above. For simplicity, we will only look at households with two children and two parents. "
   ]
  },
  {
   "cell_type": "code",
   "execution_count": 10,
   "metadata": {
    "scrolled": true
   },
   "outputs": [
    {
     "data": {
      "text/html": [
       "<div>\n",
       "<style scoped>\n",
       "    .dataframe tbody tr th:only-of-type {\n",
       "        vertical-align: middle;\n",
       "    }\n",
       "\n",
       "    .dataframe tbody tr th {\n",
       "        vertical-align: top;\n",
       "    }\n",
       "\n",
       "    .dataframe thead th {\n",
       "        text-align: right;\n",
       "    }\n",
       "</style>\n",
       "<table border=\"1\" class=\"dataframe\">\n",
       "  <thead>\n",
       "    <tr style=\"text-align: right;\">\n",
       "      <th></th>\n",
       "      <th>p_id</th>\n",
       "      <th>hh_id</th>\n",
       "      <th>tu_id</th>\n",
       "      <th>bruttolohn_m</th>\n",
       "      <th>vermögen_hh</th>\n",
       "      <th>prv_krankenv</th>\n",
       "      <th>alter</th>\n",
       "      <th>hat_kinder</th>\n",
       "      <th>kind</th>\n",
       "      <th>anz_minderj_hh</th>\n",
       "      <th>...</th>\n",
       "      <th>vermiet_eink_m</th>\n",
       "      <th>kapital_eink_m</th>\n",
       "      <th>prv_rente_beitr_m</th>\n",
       "      <th>wohnort_ost</th>\n",
       "      <th>jahr_renteneintr</th>\n",
       "      <th>betreuungskost_m</th>\n",
       "      <th>in_ausbildung</th>\n",
       "      <th>behinderungsgrad</th>\n",
       "      <th>arbeitsstunden_w</th>\n",
       "      <th>alleinerziehend</th>\n",
       "    </tr>\n",
       "  </thead>\n",
       "  <tbody>\n",
       "    <tr>\n",
       "      <th>655</th>\n",
       "      <td>2000</td>\n",
       "      <td>2000</td>\n",
       "      <td>2000</td>\n",
       "      <td>1500.0</td>\n",
       "      <td>0</td>\n",
       "      <td>False</td>\n",
       "      <td>50</td>\n",
       "      <td>True</td>\n",
       "      <td>False</td>\n",
       "      <td>2</td>\n",
       "      <td>...</td>\n",
       "      <td>0.0</td>\n",
       "      <td>0.0</td>\n",
       "      <td>0.0</td>\n",
       "      <td>False</td>\n",
       "      <td>2100.0</td>\n",
       "      <td>0.0</td>\n",
       "      <td>False</td>\n",
       "      <td>0.0</td>\n",
       "      <td>40.0</td>\n",
       "      <td>False</td>\n",
       "    </tr>\n",
       "    <tr>\n",
       "      <th>656</th>\n",
       "      <td>2001</td>\n",
       "      <td>2000</td>\n",
       "      <td>2000</td>\n",
       "      <td>1500.0</td>\n",
       "      <td>0</td>\n",
       "      <td>False</td>\n",
       "      <td>50</td>\n",
       "      <td>True</td>\n",
       "      <td>False</td>\n",
       "      <td>2</td>\n",
       "      <td>...</td>\n",
       "      <td>0.0</td>\n",
       "      <td>0.0</td>\n",
       "      <td>0.0</td>\n",
       "      <td>False</td>\n",
       "      <td>2100.0</td>\n",
       "      <td>0.0</td>\n",
       "      <td>False</td>\n",
       "      <td>0.0</td>\n",
       "      <td>40.0</td>\n",
       "      <td>False</td>\n",
       "    </tr>\n",
       "    <tr>\n",
       "      <th>657</th>\n",
       "      <td>2002</td>\n",
       "      <td>2000</td>\n",
       "      <td>2000</td>\n",
       "      <td>NaN</td>\n",
       "      <td>0</td>\n",
       "      <td>False</td>\n",
       "      <td>10</td>\n",
       "      <td>False</td>\n",
       "      <td>True</td>\n",
       "      <td>2</td>\n",
       "      <td>...</td>\n",
       "      <td>NaN</td>\n",
       "      <td>NaN</td>\n",
       "      <td>NaN</td>\n",
       "      <td>NaN</td>\n",
       "      <td>NaN</td>\n",
       "      <td>NaN</td>\n",
       "      <td>NaN</td>\n",
       "      <td>NaN</td>\n",
       "      <td>NaN</td>\n",
       "      <td>False</td>\n",
       "    </tr>\n",
       "    <tr>\n",
       "      <th>658</th>\n",
       "      <td>2003</td>\n",
       "      <td>2000</td>\n",
       "      <td>2000</td>\n",
       "      <td>NaN</td>\n",
       "      <td>0</td>\n",
       "      <td>False</td>\n",
       "      <td>5</td>\n",
       "      <td>False</td>\n",
       "      <td>True</td>\n",
       "      <td>2</td>\n",
       "      <td>...</td>\n",
       "      <td>NaN</td>\n",
       "      <td>NaN</td>\n",
       "      <td>NaN</td>\n",
       "      <td>NaN</td>\n",
       "      <td>NaN</td>\n",
       "      <td>NaN</td>\n",
       "      <td>NaN</td>\n",
       "      <td>NaN</td>\n",
       "      <td>NaN</td>\n",
       "      <td>False</td>\n",
       "    </tr>\n",
       "    <tr>\n",
       "      <th>659</th>\n",
       "      <td>2004</td>\n",
       "      <td>2001</td>\n",
       "      <td>2001</td>\n",
       "      <td>1550.0</td>\n",
       "      <td>0</td>\n",
       "      <td>False</td>\n",
       "      <td>50</td>\n",
       "      <td>True</td>\n",
       "      <td>False</td>\n",
       "      <td>2</td>\n",
       "      <td>...</td>\n",
       "      <td>0.0</td>\n",
       "      <td>0.0</td>\n",
       "      <td>0.0</td>\n",
       "      <td>False</td>\n",
       "      <td>2100.0</td>\n",
       "      <td>0.0</td>\n",
       "      <td>False</td>\n",
       "      <td>0.0</td>\n",
       "      <td>40.0</td>\n",
       "      <td>False</td>\n",
       "    </tr>\n",
       "  </tbody>\n",
       "</table>\n",
       "<p>5 rows × 23 columns</p>\n",
       "</div>"
      ],
      "text/plain": [
       "     p_id  hh_id  tu_id  bruttolohn_m  vermögen_hh  prv_krankenv  alter  \\\n",
       "655  2000   2000   2000        1500.0            0         False     50   \n",
       "656  2001   2000   2000        1500.0            0         False     50   \n",
       "657  2002   2000   2000           NaN            0         False     10   \n",
       "658  2003   2000   2000           NaN            0         False      5   \n",
       "659  2004   2001   2001        1550.0            0         False     50   \n",
       "\n",
       "     hat_kinder   kind  anz_minderj_hh  ... vermiet_eink_m  kapital_eink_m  \\\n",
       "655        True  False               2  ...            0.0             0.0   \n",
       "656        True  False               2  ...            0.0             0.0   \n",
       "657       False   True               2  ...            NaN             NaN   \n",
       "658       False   True               2  ...            NaN             NaN   \n",
       "659        True  False               2  ...            0.0             0.0   \n",
       "\n",
       "     prv_rente_beitr_m  wohnort_ost  jahr_renteneintr  betreuungskost_m  \\\n",
       "655                0.0        False            2100.0               0.0   \n",
       "656                0.0        False            2100.0               0.0   \n",
       "657                NaN          NaN               NaN               NaN   \n",
       "658                NaN          NaN               NaN               NaN   \n",
       "659                0.0        False            2100.0               0.0   \n",
       "\n",
       "    in_ausbildung  behinderungsgrad  arbeitsstunden_w alleinerziehend  \n",
       "655         False               0.0              40.0           False  \n",
       "656         False               0.0              40.0           False  \n",
       "657           NaN               NaN               NaN           False  \n",
       "658           NaN               NaN               NaN           False  \n",
       "659         False               0.0              40.0           False  \n",
       "\n",
       "[5 rows x 23 columns]"
      ]
     },
     "execution_count": 10,
     "metadata": {},
     "output_type": "execute_result"
    }
   ],
   "source": [
    "# Load data from .csv-file.\n",
    "data = pd.read_csv(\"household_data_kindergeld.csv\")\n",
    "# Filter data to include only households with 2 children.\n",
    "data = data[data.anz_minderj_hh == 2]\n",
    "data.head()"
   ]
  },
  {
   "cell_type": "markdown",
   "metadata": {},
   "source": [
    "This simulated data set shows 130 households with each two  50 year old parents and their 5 & 10 year old children. The households/tax units only vary in their income.\n",
    "\n",
    "First, we compute the *Kindergeld* with the original parameters:"
   ]
  },
  {
   "cell_type": "code",
   "execution_count": 11,
   "metadata": {},
   "outputs": [
    {
     "data": {
      "text/html": [
       "<div>\n",
       "<style scoped>\n",
       "    .dataframe tbody tr th:only-of-type {\n",
       "        vertical-align: middle;\n",
       "    }\n",
       "\n",
       "    .dataframe tbody tr th {\n",
       "        vertical-align: top;\n",
       "    }\n",
       "\n",
       "    .dataframe thead th {\n",
       "        text-align: right;\n",
       "    }\n",
       "</style>\n",
       "<table border=\"1\" class=\"dataframe\">\n",
       "  <thead>\n",
       "    <tr style=\"text-align: right;\">\n",
       "      <th></th>\n",
       "      <th>kindergeld_m_tu</th>\n",
       "    </tr>\n",
       "  </thead>\n",
       "  <tbody>\n",
       "    <tr>\n",
       "      <th>655</th>\n",
       "      <td>408</td>\n",
       "    </tr>\n",
       "    <tr>\n",
       "      <th>656</th>\n",
       "      <td>408</td>\n",
       "    </tr>\n",
       "    <tr>\n",
       "      <th>657</th>\n",
       "      <td>408</td>\n",
       "    </tr>\n",
       "    <tr>\n",
       "      <th>658</th>\n",
       "      <td>408</td>\n",
       "    </tr>\n",
       "    <tr>\n",
       "      <th>659</th>\n",
       "      <td>408</td>\n",
       "    </tr>\n",
       "    <tr>\n",
       "      <th>...</th>\n",
       "      <td>...</td>\n",
       "    </tr>\n",
       "    <tr>\n",
       "      <th>1174</th>\n",
       "      <td>0</td>\n",
       "    </tr>\n",
       "    <tr>\n",
       "      <th>1175</th>\n",
       "      <td>0</td>\n",
       "    </tr>\n",
       "    <tr>\n",
       "      <th>1176</th>\n",
       "      <td>0</td>\n",
       "    </tr>\n",
       "    <tr>\n",
       "      <th>1177</th>\n",
       "      <td>0</td>\n",
       "    </tr>\n",
       "    <tr>\n",
       "      <th>1178</th>\n",
       "      <td>0</td>\n",
       "    </tr>\n",
       "  </tbody>\n",
       "</table>\n",
       "<p>524 rows × 1 columns</p>\n",
       "</div>"
      ],
      "text/plain": [
       "      kindergeld_m_tu\n",
       "655               408\n",
       "656               408\n",
       "657               408\n",
       "658               408\n",
       "659               408\n",
       "...               ...\n",
       "1174                0\n",
       "1175                0\n",
       "1176                0\n",
       "1177                0\n",
       "1178                0\n",
       "\n",
       "[524 rows x 1 columns]"
      ]
     },
     "execution_count": 11,
     "metadata": {},
     "output_type": "execute_result"
    }
   ],
   "source": [
    "result_no_reform = compute_taxes_and_transfers(\n",
    "    data = data,\n",
    "    params=policy_params,\n",
    "    functions=policy_functions,\n",
    "    targets=\"kindergeld_m_tu\",\n",
    "    )\n",
    "\n",
    "result_no_reform"
   ]
  },
  {
   "cell_type": "markdown",
   "metadata": {},
   "source": [
    "Now we do exactly the same, but using the `policy_params_reformed`."
   ]
  },
  {
   "cell_type": "code",
   "execution_count": 12,
   "metadata": {},
   "outputs": [
    {
     "data": {
      "text/html": [
       "<div>\n",
       "<style scoped>\n",
       "    .dataframe tbody tr th:only-of-type {\n",
       "        vertical-align: middle;\n",
       "    }\n",
       "\n",
       "    .dataframe tbody tr th {\n",
       "        vertical-align: top;\n",
       "    }\n",
       "\n",
       "    .dataframe thead th {\n",
       "        text-align: right;\n",
       "    }\n",
       "</style>\n",
       "<table border=\"1\" class=\"dataframe\">\n",
       "  <thead>\n",
       "    <tr style=\"text-align: right;\">\n",
       "      <th></th>\n",
       "      <th>kindergeld_m_tu</th>\n",
       "    </tr>\n",
       "  </thead>\n",
       "  <tbody>\n",
       "    <tr>\n",
       "      <th>655</th>\n",
       "      <td>458.0</td>\n",
       "    </tr>\n",
       "    <tr>\n",
       "      <th>656</th>\n",
       "      <td>458.0</td>\n",
       "    </tr>\n",
       "    <tr>\n",
       "      <th>657</th>\n",
       "      <td>458.0</td>\n",
       "    </tr>\n",
       "    <tr>\n",
       "      <th>658</th>\n",
       "      <td>458.0</td>\n",
       "    </tr>\n",
       "    <tr>\n",
       "      <th>659</th>\n",
       "      <td>458.0</td>\n",
       "    </tr>\n",
       "    <tr>\n",
       "      <th>...</th>\n",
       "      <td>...</td>\n",
       "    </tr>\n",
       "    <tr>\n",
       "      <th>1174</th>\n",
       "      <td>0.0</td>\n",
       "    </tr>\n",
       "    <tr>\n",
       "      <th>1175</th>\n",
       "      <td>0.0</td>\n",
       "    </tr>\n",
       "    <tr>\n",
       "      <th>1176</th>\n",
       "      <td>0.0</td>\n",
       "    </tr>\n",
       "    <tr>\n",
       "      <th>1177</th>\n",
       "      <td>0.0</td>\n",
       "    </tr>\n",
       "    <tr>\n",
       "      <th>1178</th>\n",
       "      <td>0.0</td>\n",
       "    </tr>\n",
       "  </tbody>\n",
       "</table>\n",
       "<p>524 rows × 1 columns</p>\n",
       "</div>"
      ],
      "text/plain": [
       "      kindergeld_m_tu\n",
       "655             458.0\n",
       "656             458.0\n",
       "657             458.0\n",
       "658             458.0\n",
       "659             458.0\n",
       "...               ...\n",
       "1174              0.0\n",
       "1175              0.0\n",
       "1176              0.0\n",
       "1177              0.0\n",
       "1178              0.0\n",
       "\n",
       "[524 rows x 1 columns]"
      ]
     },
     "execution_count": 12,
     "metadata": {},
     "output_type": "execute_result"
    }
   ],
   "source": [
    "result_reform = compute_taxes_and_transfers(\n",
    "    data = data,\n",
    "    functions=policy_functions,\n",
    "    params=policy_params_reformed,\n",
    "    targets=\"kindergeld_m_tu\"\n",
    "    )\n",
    "result_reform"
   ]
  },
  {
   "cell_type": "markdown",
   "metadata": {},
   "source": [
    "## Visualization / Further Analysis\n",
    "\n",
    "Our results so far offer a good starting point to analyze the reform in further detail, though this would lead away from the introduction into GETTSIM. Still, we can easily visualize and compare the amount of *Kindergeld* in the two different scenarios.\n",
    "\n",
    "Therefore, we reorganize our data. We create a pandas.DataFrame with the total monthly income of each tax unit and the *Kindergeld* they receive with the `policy_params_reformed` and the `policy_params`:"
   ]
  },
  {
   "cell_type": "code",
   "execution_count": 13,
   "metadata": {},
   "outputs": [
    {
     "data": {
      "text/plain": [
       "tu_id\n",
       "2000     3000.0\n",
       "2001     3100.0\n",
       "2002     3200.0\n",
       "2003     3300.0\n",
       "2004     3400.0\n",
       "         ...   \n",
       "2126    15600.0\n",
       "2127    15700.0\n",
       "2128    15800.0\n",
       "2129    15900.0\n",
       "2130    16000.0\n",
       "Name: bruttolohn_m, Length: 131, dtype: float64"
      ]
     },
     "execution_count": 13,
     "metadata": {},
     "output_type": "execute_result"
    }
   ],
   "source": [
    "# Group data by tax unit id and sum the gross monthly income.\n",
    "total_income_tu = data.groupby(\"tu_id\")[\"bruttolohn_m\"].sum()\n",
    "total_income_tu"
   ]
  },
  {
   "cell_type": "code",
   "execution_count": 14,
   "metadata": {},
   "outputs": [],
   "source": [
    "# Create DataFrame with relevant columns for plotting.\n",
    "data_plot = pd.DataFrame() \n",
    "data_plot[\"Kindergeld no reform\"] = result_no_reform[\"kindergeld_m_tu\"]\n",
    "data_plot[\"Kindergeld reformed\"] = result_reform[\"kindergeld_m_tu\"]\n",
    "data_plot[\"tu_id\"] = data[\"tu_id\"]\n",
    "data_plot = data_plot.drop_duplicates(\"tu_id\").set_index(\"tu_id\")\n",
    "data_plot[\"income\"] = total_income_tu"
   ]
  },
  {
   "cell_type": "markdown",
   "metadata": {},
   "source": [
    "We can illustrate the effect of the special child bonus of 2020 by plotting the *Kindergeld* of the two scenarios:"
   ]
  },
  {
   "cell_type": "code",
   "execution_count": 15,
   "metadata": {
    "scrolled": false
   },
   "outputs": [
    {
     "data": {
      "text/plain": [
       "<AxesSubplot:xlabel='income'>"
      ]
     },
     "execution_count": 15,
     "metadata": {},
     "output_type": "execute_result"
    },
    {
     "data": {
      "image/png": "[encoded data removed]",
      "text/plain": [
       "<Figure size 432x288 with 1 Axes>"
      ]
     },
     "metadata": {
      "needs_background": "light"
     },
     "output_type": "display_data"
    }
   ],
   "source": [
    "data_plot.plot(x=\"income\", y=[\"Kindergeld no reform\", \"Kindergeld reformed\"])"
   ]
  },
  {
   "cell_type": "markdown",
   "metadata": {},
   "source": [
    "Unsurprisingly, the special child bonus increases the amount of money that tax units receive if they are entitled to *Kindergeld*. At the same time, more tax units are entitled to *Kindergeld* as the threshold at which tax allowances become more advantageous moves up.\n",
    "\n",
    "Of course this is a *very* basic visualization and analysis. If we take into account basic social security (e.g. unemployment benefit) our approach would lead to wrong results. Usually *Kindergeld* is considered as income, so that social security payments are lowered by the amount of the received *Kindergeld*. In contrast, in the case of the special child bonus, recipients of social security payments receive the special child bonus on top of other payments. \n",
    "\n",
    "For a correct simulation of these effects it would be necessary to additionally change the `policy_functions`. You can take a look at [this](https://gettsim.readthedocs.io/en/latest/tutorials/policy_functions.html) tutorial to learn more about the `policy_functions`."
   ]
  }
 ],
 "metadata": {
  "kernelspec": {
   "display_name": "Python 3",
   "language": "python",
   "name": "python3"
  },
  "language_info": {
   "codemirror_mode": {
    "name": "ipython",
    "version": 3
   },
   "file_extension": ".py",
   "mimetype": "text/x-python",
   "name": "python",
   "nbconvert_exporter": "python",
   "pygments_lexer": "ipython3",
   "version": "3.7.9"
  }
 },
 "nbformat": 4,
 "nbformat_minor": 4
}
