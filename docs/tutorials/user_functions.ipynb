{
 "cells": [
  {
   "cell_type": "markdown",
   "metadata": {},
   "source": [
    "# User Functions\n",
    "\n",
    "User functions allow to add or overwrite functions in the tax and transfer system provided by gettsim. There are several ways to pass functions to the `user_functions` keyword of `compute_taxes_and_transfers()`.\n",
    "\n",
    "## Functions\n",
    "\n",
    "One way to alter the tax and transfer system is to pass a function."
   ]
  },
  {
   "cell_type": "code",
   "execution_count": 1,
   "metadata": {},
   "outputs": [],
   "source": [
    "from gettsim.functions_loader import load_functions"
   ]
  },
  {
   "cell_type": "code",
   "execution_count": 24,
   "metadata": {},
   "outputs": [],
   "source": [
    "import importlib\n",
    "from pathlib import Path"
   ]
  },
  {
   "cell_type": "code",
   "execution_count": 32,
   "metadata": {},
   "outputs": [],
   "source": [
    "p = Path(\"../../gettsim/soz_vers/krankenv_pflegev.py\")"
   ]
  },
  {
   "cell_type": "code",
   "execution_count": 37,
   "metadata": {},
   "outputs": [],
   "source": [
    "a = importlib.util.spec_from_file_location(p)"
   ]
  },
  {
   "cell_type": "code",
   "execution_count": 38,
   "metadata": {},
   "outputs": [],
   "source": [
    "a"
   ]
  },
  {
   "cell_type": "code",
   "execution_count": 23,
   "metadata": {},
   "outputs": [
    {
     "data": {
      "text/plain": [
       "<module 'gettsim.soz_vers.krankenv_pflegev' from 'C:\\\\Users\\\\tobia\\\\git\\\\gettsim\\\\gettsim\\\\soz_vers\\\\krankenv_pflegev.py'>"
      ]
     },
     "execution_count": 23,
     "metadata": {},
     "output_type": "execute_result"
    }
   ],
   "source": [
    "aimportlib.import_module(\"gettsim.soz_vers.krankenv_pflegev\")"
   ]
  },
  {
   "cell_type": "code",
   "execution_count": 17,
   "metadata": {},
   "outputs": [
    {
     "data": {
      "text/plain": [
       "<module 'gettsim.soz_vers.krankenv_pflegev' from 'C:\\\\Users\\\\tobia\\\\git\\\\gettsim\\\\gettsim\\\\soz_vers\\\\krankenv_pflegev.py'>"
      ]
     },
     "execution_count": 17,
     "metadata": {},
     "output_type": "execute_result"
    }
   ],
   "source": [
    "a"
   ]
  },
  {
   "cell_type": "code",
   "execution_count": null,
   "metadata": {},
   "outputs": [],
   "source": [
    "def _yield_functions_from_import(import_string):\n",
    "    spec = importlib.util.spec_from_file_location(\n",
    "        source.name, source.as_posix()\n",
    "    )\n",
    "    source = importlib.util.module_from_spec(spec)\n",
    "    spec.loader.exec_module(source)"
   ]
  }
 ],
 "metadata": {
  "kernelspec": {
   "display_name": "Python 3",
   "language": "python",
   "name": "python3"
  },
  "language_info": {
   "codemirror_mode": {
    "name": "ipython",
    "version": 3
   },
   "file_extension": ".py",
   "mimetype": "text/x-python",
   "name": "python",
   "nbconvert_exporter": "python",
   "pygments_lexer": "ipython3",
   "version": "3.7.7"
  }
 },
 "nbformat": 4,
 "nbformat_minor": 4
}
