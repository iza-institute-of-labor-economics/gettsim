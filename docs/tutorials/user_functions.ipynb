{
 "cells": [
  {
   "cell_type": "markdown",
   "metadata": {},
   "source": [
    "# User Functions\n",
    "\n",
    "User functions allow to add or overwrite functions in the tax and transfer system provided by gettsim. There are several ways to pass functions to the `user_functions` argument of `compute_taxes_and_transfers()`."
   ]
  },
  {
   "cell_type": "code",
   "execution_count": 1,
   "metadata": {},
   "outputs": [],
   "source": [
    "from pathlib import Path\n",
    "from gettsim import ROOT_DIR"
   ]
  },
  {
   "cell_type": "markdown",
   "metadata": {},
   "source": [
    "## Functions\n",
    "\n",
    "One way to alter the tax and transfer system is to pass a function."
   ]
  },
  {
   "cell_type": "code",
   "execution_count": 2,
   "metadata": {},
   "outputs": [
    {
     "data": {
      "text/plain": [
       "<function __main__.kindergeld()>"
      ]
     },
     "execution_count": 2,
     "metadata": {},
     "output_type": "execute_result"
    }
   ],
   "source": [
    "def kindergeld():\n",
    "    pass\n",
    "\n",
    "user_functions = kindergeld\n",
    "user_functions"
   ]
  },
  {
   "cell_type": "markdown",
   "metadata": {},
   "source": [
    "If you want to assign a name to the value the function produces which is not the same as the function name, wrap the function in a dictionary. The dictionary key determines the name of the output. If the name of the return value should be `\"kindergeld_erweitert\"`, pass"
   ]
  },
  {
   "cell_type": "code",
   "execution_count": 3,
   "metadata": {},
   "outputs": [
    {
     "data": {
      "text/plain": [
       "{'kindergeld_erweitert': <function __main__.kindergeld()>}"
      ]
     },
     "execution_count": 3,
     "metadata": {},
     "output_type": "execute_result"
    }
   ],
   "source": [
    "user_functions = {\"kindergeld_erweitert\": kindergeld}\n",
    "user_functions"
   ]
  },
  {
   "cell_type": "markdown",
   "metadata": {},
   "source": [
    "## Paths to packages or modules\n",
    "\n",
    "If you have heavily extended the tax and transfer system to your needs, you might have a `.py` file with several functions or even several `.py` files with several functions. Assume you have a folder `taxes` which has the following directory structure:\n",
    "\n",
    "```bash\n",
    "taxes\n",
    "│   abgelt_st.py\n",
    "│   eink_st.py\n",
    "│   favorability_check.py\n",
    "│   kindergeld.py\n",
    "│   soli_st.py\n",
    "│   __init__.py\n",
    "│\n",
    "├───zu_verst_eink\n",
    "│       eink.py\n",
    "│       freibetraege.py\n",
    "│       vorsorge.py\n",
    "│       zu_verst_eink.py\n",
    "│       __init__.py\n",
    "```\n",
    "\n",
    "Indeed, the folder structure exists inside gettsim and we can locate it with"
   ]
  },
  {
   "cell_type": "code",
   "execution_count": 4,
   "metadata": {},
   "outputs": [
    {
     "data": {
      "text/plain": [
       "WindowsPath('C:/gettsim/gettsim/taxes')"
      ]
     },
     "execution_count": 4,
     "metadata": {},
     "output_type": "execute_result"
    }
   ],
   "source": [
    "path = ROOT_DIR.joinpath(\"taxes\")\n",
    "path"
   ]
  },
  {
   "cell_type": "markdown",
   "metadata": {},
   "source": [
    "To collect only functions from `abgelt_st.py`, you can pass the path to the file as a string or as a `pathlib.Path`."
   ]
  },
  {
   "cell_type": "code",
   "execution_count": 5,
   "metadata": {},
   "outputs": [
    {
     "data": {
      "text/plain": [
       "'C:\\\\gettsim\\\\gettsim\\\\taxes'"
      ]
     },
     "execution_count": 5,
     "metadata": {},
     "output_type": "execute_result"
    }
   ],
   "source": [
    "path_str = str(path)\n",
    "path_str"
   ]
  },
  {
   "cell_type": "code",
   "execution_count": 6,
   "metadata": {},
   "outputs": [
    {
     "data": {
      "text/plain": [
       "'C:\\\\gettsim\\\\gettsim\\\\taxes\\\\abgelt_st.py'"
      ]
     },
     "execution_count": 6,
     "metadata": {},
     "output_type": "execute_result"
    }
   ],
   "source": [
    "# Path as string.\n",
    "user_functions = path_str + \"\\\\abgelt_st.py\"\n",
    "user_functions"
   ]
  },
  {
   "cell_type": "code",
   "execution_count": 7,
   "metadata": {},
   "outputs": [
    {
     "data": {
      "text/plain": [
       "WindowsPath('C:/gettsim/gettsim/taxes/abgelt_st.py')"
      ]
     },
     "execution_count": 7,
     "metadata": {},
     "output_type": "execute_result"
    }
   ],
   "source": [
    "user_functions = path / \"abgelt_st.py\"\n",
    "user_functions"
   ]
  },
  {
   "cell_type": "markdown",
   "metadata": {},
   "source": [
    "To collect multiple Python files, use a list of paths or strings."
   ]
  },
  {
   "cell_type": "code",
   "execution_count": 8,
   "metadata": {},
   "outputs": [
    {
     "data": {
      "text/plain": [
       "[WindowsPath('C:/gettsim/gettsim/taxes/eink_st.py'),\n",
       " WindowsPath('C:/gettsim/gettsim/taxes/zu_verst_eink/eink.py')]"
      ]
     },
     "execution_count": 8,
     "metadata": {},
     "output_type": "execute_result"
    }
   ],
   "source": [
    "user_functions = [\n",
    "    path / \"eink_st.py\",\n",
    "    path / \"zu_verst_eink\" / \"eink.py\"\n",
    "]\n",
    "user_functions"
   ]
  },
  {
   "cell_type": "markdown",
   "metadata": {},
   "source": [
    "To collect all Python files in the folder `taxes`, use"
   ]
  },
  {
   "cell_type": "code",
   "execution_count": 9,
   "metadata": {},
   "outputs": [
    {
     "data": {
      "text/plain": [
       "[WindowsPath('C:/gettsim/gettsim/taxes/abgelt_st.py'),\n",
       " WindowsPath('C:/gettsim/gettsim/taxes/eink_st.py'),\n",
       " WindowsPath('C:/gettsim/gettsim/taxes/favorability_check.py'),\n",
       " WindowsPath('C:/gettsim/gettsim/taxes/kindergeld.py'),\n",
       " WindowsPath('C:/gettsim/gettsim/taxes/soli_st.py'),\n",
       " WindowsPath('C:/gettsim/gettsim/taxes/__init__.py')]"
      ]
     },
     "execution_count": 9,
     "metadata": {},
     "output_type": "execute_result"
    }
   ],
   "source": [
    "user_functions = list(path.glob(\"*.py\"))\n",
    "user_functions"
   ]
  },
  {
   "cell_type": "markdown",
   "metadata": {},
   "source": [
    "If you want to pass all functions defined in Python files in `taxes` and directories below, you can simply pass a directory as the user function. Paths to directories will be recursively searched for Python files."
   ]
  },
  {
   "cell_type": "code",
   "execution_count": 10,
   "metadata": {},
   "outputs": [
    {
     "data": {
      "text/plain": [
       "'C:\\\\gettsim\\\\gettsim\\\\taxes'"
      ]
     },
     "execution_count": 10,
     "metadata": {},
     "output_type": "execute_result"
    }
   ],
   "source": [
    "user_functions = str(path)\n",
    "user_functions"
   ]
  },
  {
   "cell_type": "code",
   "execution_count": 11,
   "metadata": {},
   "outputs": [
    {
     "data": {
      "text/plain": [
       "WindowsPath('C:/gettsim/gettsim/taxes')"
      ]
     },
     "execution_count": 11,
     "metadata": {},
     "output_type": "execute_result"
    }
   ],
   "source": [
    "user_functions = path\n",
    "user_functions"
   ]
  },
  {
   "cell_type": "markdown",
   "metadata": {},
   "source": [
    "## Modules\n",
    "\n",
    "You can also pass a module name; all functions in this module will be loaded. Assume you have import `abgelt_st.py`, you can pass all of its functions as user functions with"
   ]
  },
  {
   "cell_type": "code",
   "execution_count": 12,
   "metadata": {},
   "outputs": [],
   "source": [
    "from gettsim.taxes import abgelt_st"
   ]
  },
  {
   "cell_type": "code",
   "execution_count": 13,
   "metadata": {},
   "outputs": [
    {
     "data": {
      "text/plain": [
       "<module 'gettsim.taxes.abgelt_st' from 'C:\\\\gettsim\\\\gettsim\\\\taxes\\\\abgelt_st.py'>"
      ]
     },
     "execution_count": 13,
     "metadata": {},
     "output_type": "execute_result"
    }
   ],
   "source": [
    "user_functions = abgelt_st\n",
    "user_functions"
   ]
  },
  {
   "cell_type": "markdown",
   "metadata": {},
   "source": [
    "Instead of importing modules, you can also provide an import statement as a string. The following would yield the same result as the solution before."
   ]
  },
  {
   "cell_type": "code",
   "execution_count": 14,
   "metadata": {},
   "outputs": [
    {
     "data": {
      "text/plain": [
       "'gettsim.taxes.abgelt_st'"
      ]
     },
     "execution_count": 14,
     "metadata": {},
     "output_type": "execute_result"
    }
   ],
   "source": [
    "user_functions = \"gettsim.taxes.abgelt_st\"\n",
    "user_functions"
   ]
  },
  {
   "cell_type": "markdown",
   "metadata": {},
   "source": [
    "## Combinations\n",
    "\n",
    "All previously shown methods can be combined to provide user functions for a user-defined tax and transfer system. Just combine all elements in a single list like the following example."
   ]
  },
  {
   "cell_type": "code",
   "execution_count": 15,
   "metadata": {},
   "outputs": [
    {
     "data": {
      "text/plain": [
       "[<function __main__.kindergeld()>,\n",
       " {'kindergeld_erweitert': <function __main__.kindergeld()>},\n",
       " WindowsPath('C:/gettsim/gettsim/taxes/abgelt_st.py'),\n",
       " WindowsPath('C:/gettsim/gettsim/taxes/zu_verst_eink')]"
      ]
     },
     "execution_count": 15,
     "metadata": {},
     "output_type": "execute_result"
    }
   ],
   "source": [
    "user_functions = [\n",
    "    kindergeld,                            # Load function kindergeld.\n",
    "    {\"kindergeld_erweitert\": kindergeld},  # Load function with different name.\n",
    "    path / \"abgelt_st.py\",                 # Load all functions in module.\n",
    "    path / \"zu_verst_eink\"                 # Load all functions from directory.\n",
    "]\n",
    "user_functions"
   ]
  }
 ],
 "metadata": {
  "kernelspec": {
   "display_name": "Python 3",
   "language": "python",
   "name": "python3"
  },
  "language_info": {
   "codemirror_mode": {
    "name": "ipython",
    "version": 3
   },
   "file_extension": ".py",
   "mimetype": "text/x-python",
   "name": "python",
   "nbconvert_exporter": "python",
   "pygments_lexer": "ipython3",
   "version": "3.7.7"
  }
 },
 "nbformat": 4,
 "nbformat_minor": 4
}
