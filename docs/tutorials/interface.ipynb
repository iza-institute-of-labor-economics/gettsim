{
 "cells": [
  {
   "cell_type": "markdown",
   "metadata": {},
   "source": [
    "# The interface\n",
    "\n",
    "This notebook gives a short introduction to the main parts of gettsim's interface. gettsim has two main functions which are imported in the following cell."
   ]
  },
  {
   "cell_type": "code",
   "execution_count": 1,
   "metadata": {},
   "outputs": [],
   "source": [
    "import pandas as pd\n",
    "from gettsim import compute_taxes_and_transfers\n",
    "from gettsim import get_policies_for_date"
   ]
  },
  {
   "cell_type": "markdown",
   "metadata": {},
   "source": [
    "To run the example, here is some data of one individual."
   ]
  },
  {
   "cell_type": "code",
   "execution_count": 2,
   "metadata": {},
   "outputs": [
    {
     "data": {
      "text/html": [
       "<div>\n",
       "<style scoped>\n",
       "    .dataframe tbody tr th:only-of-type {\n",
       "        vertical-align: middle;\n",
       "    }\n",
       "\n",
       "    .dataframe tbody tr th {\n",
       "        vertical-align: top;\n",
       "    }\n",
       "\n",
       "    .dataframe thead th {\n",
       "        text-align: right;\n",
       "    }\n",
       "</style>\n",
       "<table border=\"1\" class=\"dataframe\">\n",
       "  <thead>\n",
       "    <tr style=\"text-align: right;\">\n",
       "      <th></th>\n",
       "      <th>p_id</th>\n",
       "      <th>tu_id</th>\n",
       "      <th>hh_id</th>\n",
       "      <th>bruttolohn_m</th>\n",
       "      <th>wohnort_ost</th>\n",
       "      <th>kind</th>\n",
       "      <th>alter</th>\n",
       "      <th>selbstständig</th>\n",
       "      <th>hat_kinder</th>\n",
       "      <th>eink_selbst_m</th>\n",
       "      <th>ges_rente_m</th>\n",
       "      <th>prv_krankenv</th>\n",
       "      <th>_zu_verst_eink_kein_kinderfreib_tu</th>\n",
       "      <th>_zu_verst_kapital_eink_tu</th>\n",
       "      <th>kinderfreib_tu</th>\n",
       "      <th>_kindergeld_m_tu_basis</th>\n",
       "    </tr>\n",
       "  </thead>\n",
       "  <tbody>\n",
       "    <tr>\n",
       "      <th>0</th>\n",
       "      <td>1</td>\n",
       "      <td>1</td>\n",
       "      <td>1</td>\n",
       "      <td>1000</td>\n",
       "      <td>False</td>\n",
       "      <td>False</td>\n",
       "      <td>35</td>\n",
       "      <td>False</td>\n",
       "      <td>False</td>\n",
       "      <td>0</td>\n",
       "      <td>0</td>\n",
       "      <td>False</td>\n",
       "      <td>12000</td>\n",
       "      <td>0</td>\n",
       "      <td>0</td>\n",
       "      <td>0</td>\n",
       "    </tr>\n",
       "  </tbody>\n",
       "</table>\n",
       "</div>"
      ],
      "text/plain": [
       "   p_id  tu_id  hh_id  bruttolohn_m  wohnort_ost   kind  alter  selbstständig  \\\n",
       "0     1      1      1          1000        False  False     35          False   \n",
       "\n",
       "   hat_kinder  eink_selbst_m  ges_rente_m  prv_krankenv  \\\n",
       "0       False              0            0         False   \n",
       "\n",
       "   _zu_verst_eink_kein_kinderfreib_tu  _zu_verst_kapital_eink_tu  \\\n",
       "0                               12000                          0   \n",
       "\n",
       "   kinderfreib_tu  _kindergeld_m_tu_basis  \n",
       "0               0                       0  "
      ]
     },
     "execution_count": 2,
     "metadata": {},
     "output_type": "execute_result"
    }
   ],
   "source": [
    "data = pd.DataFrame(\n",
    "    {\n",
    "        \"p_id\": 1,\n",
    "        \"tu_id\": 1,\n",
    "        \"hh_id\": 1,\n",
    "        \"bruttolohn_m\": 1000,\n",
    "        \"wohnort_ost\": False,\n",
    "        \"kind\": False,\n",
    "        \"alter\": 35,\n",
    "        \"selbstständig\": False,\n",
    "        \"hat_kinder\": False,\n",
    "        \"eink_selbst_m\": 0,\n",
    "        \"ges_rente_m\": 0,\n",
    "        \"prv_krankenv\": False,\n",
    "        \"_zu_verst_eink_kein_kinderfreib_tu\": 12000,\n",
    "        \"_zu_verst_kapital_eink_tu\": 0,\n",
    "        \"kinderfreib_tu\": 0,\n",
    "        \"_kindergeld_m_tu_basis\": 0,\n",
    "    },\n",
    "    index=[0],\n",
    ")\n",
    "data"
   ]
  },
  {
   "cell_type": "markdown",
   "metadata": {},
   "source": [
    "To load the parameters for the tax and transfer system, you have to provide a date to the function `get_policies_for_date` which can be given as a string. `\"2020\"` loads the correct parameters for the year 2020. It is equivalent to `\"2020-01-01\"` meaning the state of the tax and transfer system at the first day of 2020.\n",
    "\n",
    "The function has two return values.\n",
    "\n",
    "- `params_dict` is a dictionary containing date-specific parameters.\n",
    "- `policy_func_dict` is a dictionary containing functions which are necessary to compute quantities in the tax and transfer system on the provided date."
   ]
  },
  {
   "cell_type": "code",
   "execution_count": 3,
   "metadata": {},
   "outputs": [],
   "source": [
    "params_dict, policy_func_dict = get_policies_for_date(2020)"
   ]
  },
  {
   "cell_type": "markdown",
   "metadata": {},
   "source": [
    "gettsim is able to compute many quantities internally. If you want gettsim to take some variables in the data as given and proceed computations from thereon, you have to pass the variable names as a list."
   ]
  },
  {
   "cell_type": "code",
   "execution_count": 4,
   "metadata": {},
   "outputs": [],
   "source": [
    "user_columns = [\n",
    "    \"_kindergeld_m_tu_basis\",\n",
    "    \"kinderfreib_tu\",\n",
    "    \"_zu_verst_kapital_eink_tu\",\n",
    "    \"_zu_verst_eink_kein_kinderfreib_tu\",\n",
    "]"
   ]
  },
  {
   "cell_type": "markdown",
   "metadata": {},
   "source": [
    "At last, we have to define the targets or the variables we would like to compute. `targets` can be a string or a list of strings.\n",
    "\n",
    "If you pass no targets, gettsim attempts to compute all possible variables in the tax and transfer system which requires more input data."
   ]
  },
  {
   "cell_type": "code",
   "execution_count": 5,
   "metadata": {},
   "outputs": [],
   "source": [
    "targets = [\n",
    "    \"eink_st_tu\",\n",
    "    \"soli_st_tu\",\n",
    "    \"ges_krankenv_beitr_m\",\n",
    "    \"rentenv_beitr_m\",\n",
    "    \"arbeitsl_v_beitr_m\",\n",
    "    \"rentenv_beitr_m\",\n",
    "]"
   ]
  },
  {
   "cell_type": "markdown",
   "metadata": {},
   "source": [
    "To compute the target variables, call `compute_taxes_and_transfers` with the correct inputs."
   ]
  },
  {
   "cell_type": "code",
   "execution_count": 6,
   "metadata": {},
   "outputs": [],
   "source": [
    "df = compute_taxes_and_transfers(\n",
    "    data=data,\n",
    "    user_functions=policy_func_dict,\n",
    "    user_columns=user_columns,\n",
    "    params=params_dict,\n",
    "    targets=targets,\n",
    ")"
   ]
  },
  {
   "cell_type": "code",
   "execution_count": 7,
   "metadata": {},
   "outputs": [
    {
     "data": {
      "text/html": [
       "<div>\n",
       "<style scoped>\n",
       "    .dataframe tbody tr th:only-of-type {\n",
       "        vertical-align: middle;\n",
       "    }\n",
       "\n",
       "    .dataframe tbody tr th {\n",
       "        vertical-align: top;\n",
       "    }\n",
       "\n",
       "    .dataframe thead th {\n",
       "        text-align: right;\n",
       "    }\n",
       "</style>\n",
       "<table border=\"1\" class=\"dataframe\">\n",
       "  <thead>\n",
       "    <tr style=\"text-align: right;\">\n",
       "      <th></th>\n",
       "      <th>eink_st_tu</th>\n",
       "      <th>soli_st_tu</th>\n",
       "      <th>ges_krankenv_beitr_m</th>\n",
       "      <th>rentenv_beitr_m</th>\n",
       "      <th>arbeitsl_v_beitr_m</th>\n",
       "      <th>rentenv_beitr_m</th>\n",
       "    </tr>\n",
       "  </thead>\n",
       "  <tbody>\n",
       "    <tr>\n",
       "      <th>0</th>\n",
       "      <td>428.242106</td>\n",
       "      <td>0.0</td>\n",
       "      <td>72.383372</td>\n",
       "      <td>85.753549</td>\n",
       "      <td>11.064974</td>\n",
       "      <td>85.753549</td>\n",
       "    </tr>\n",
       "  </tbody>\n",
       "</table>\n",
       "</div>"
      ],
      "text/plain": [
       "   eink_st_tu  soli_st_tu  ges_krankenv_beitr_m  rentenv_beitr_m  \\\n",
       "0  428.242106         0.0             72.383372        85.753549   \n",
       "\n",
       "   arbeitsl_v_beitr_m  rentenv_beitr_m  \n",
       "0           11.064974        85.753549  "
      ]
     },
     "execution_count": 7,
     "metadata": {},
     "output_type": "execute_result"
    }
   ],
   "source": [
    "df"
   ]
  }
 ],
 "metadata": {
  "kernelspec": {
   "display_name": "Python 3",
   "language": "python",
   "name": "python3"
  },
  "language_info": {
   "codemirror_mode": {
    "name": "ipython",
    "version": 3
   },
   "file_extension": ".py",
   "mimetype": "text/x-python",
   "name": "python",
   "nbconvert_exporter": "python",
   "pygments_lexer": "ipython3",
   "version": "3.7.7"
  }
 },
 "nbformat": 4,
 "nbformat_minor": 4
}
