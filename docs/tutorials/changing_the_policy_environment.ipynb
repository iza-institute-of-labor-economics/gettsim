{
 "cells": [
  {
   "cell_type": "markdown",
   "metadata": {},
   "source": [
    "# Changing the policy environment\n",
    "\n",
    "## Introduction\n",
    "\n",
    "This tutorial shows you how to change the environment of the tax and transfer system which is implemented in gettsim. Let us import some modules and, then, start right away."
   ]
  },
  {
   "cell_type": "code",
   "execution_count": 13,
   "metadata": {},
   "outputs": [],
   "source": [
    "import pandas as pd\n",
    "from pathlib import Path\n",
    "\n",
    "from gettsim import ROOT_DIR\n",
    "from gettsim import set_up_policy_environment"
   ]
  },
  {
   "cell_type": "markdown",
   "metadata": {},
   "source": [
    "## The policy environment\n",
    "\n",
    "The policy environment consists of two components.\n",
    "\n",
    "1. `policy_params` is a dictionary of parameters like the amount of child benefits (`policy_params[\"kindergeld\"]`).\n",
    "2. `policy_functions` is a dictionary of date-dependent functions which compute quanitities in the tax and transfer system like [monthly child benefits per household](https://gettsim.readthedocs.io/en/stable/functions.html#gettsim.functions.kindergeld_m_hh).\n",
    "\n",
    "Both can be used to alter the pre-defined tax and transfer system in gettsim.\n",
    "\n",
    "You get access to both objects by setting up the policy environment with `set_up_policy_environment`."
   ]
  },
  {
   "cell_type": "code",
   "execution_count": null,
   "metadata": {},
   "outputs": [],
   "source": [
    "policy_params, policy_functions = set_up_policy_environment(2020)"
   ]
  },
  {
   "cell_type": "markdown",
   "metadata": {},
   "source": [
    "The `policy_params` have an underlying topic-based structure which becomes clear from the top-level keys."
   ]
  },
  {
   "cell_type": "code",
   "execution_count": 9,
   "metadata": {},
   "outputs": [
    {
     "data": {
      "text/plain": [
       "dict_keys(['eink_st', 'eink_st_abzuege', 'soli_st', 'arbeitsl_geld_2', 'arbeitsl_geld', 'soz_vers_beitr', 'unterhalt', 'abgelt_st', 'wohngeld', 'kinderzuschlag', 'kindergeld', 'elterngeld'])"
      ]
     },
     "execution_count": 9,
     "metadata": {},
     "output_type": "execute_result"
    }
   ],
   "source": [
    "policy_params.keys()"
   ]
  },
  {
   "cell_type": "markdown",
   "metadata": {},
   "source": [
    "Each key has a nested dictionary structure underneath it to organize the parameters in this topic.\n",
    "\n",
    "`policy_functions` is a dictionary where keys are the names of variables and values are functions which compute these variables. The `policy_functions` do not cover all functions which are used inside gettsim to compute relevant quantities, but just the one's which are date-dependent.\n",
    "\n",
    "\n",
    "## How to change the policy environment\n",
    "\n"
   ]
  },
  {
   "cell_type": "code",
   "execution_count": 14,
   "metadata": {},
   "outputs": [],
   "source": [
    "df = pd.read_csv(ROOT_DIR / \"tests\" / \"test_data\" / \"test_dfs_prio.csv\")"
   ]
  }
 ],
 "metadata": {
  "kernelspec": {
   "display_name": "Python 3",
   "language": "python",
   "name": "python3"
  },
  "language_info": {
   "codemirror_mode": {
    "name": "ipython",
    "version": 3
   },
   "file_extension": ".py",
   "mimetype": "text/x-python",
   "name": "python",
   "nbconvert_exporter": "python",
   "pygments_lexer": "ipython3",
   "version": "3.7.7"
  }
 },
 "nbformat": 4,
 "nbformat_minor": 4
}
