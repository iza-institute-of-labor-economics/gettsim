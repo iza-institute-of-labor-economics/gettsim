{
 "cells": [
  {
   "cell_type": "markdown",
   "metadata": {},
   "source": [
    "# Advanced Interface Tutorial\n",
    "\n",
    "This tutorial showcases advanced functionalities and applications of GETTSIM's interface. For an introductory tutorial see [here](https://gettsim.readthedocs.io/en/latest/tutorials/basic_interface.html). The introductory tutorial showcases GETTSIM's two main functions using a minimal working example:\n",
    "\n",
    "1. `set_up_policy_environment` which loads a policy environment for a specified date.\n",
    "\n",
    "2. `compute_taxes_and_transfers` which allows you to compute taxes and transfers given a specified policy environment for household or individual observations.\n",
    "\n",
    "This tutorial dives deeper into the GETTSIM interface to acquaintance you with further useful functionalities. Specifically, this tutorial shows how to navigate the numerous [input and target](https://gettsim.readthedocs.io/en/latest/crosswalk.html) variables that the package supports as well as how GETTSIM processes them internally using the example of child benefits in the German tax and transfer system."
   ]
  },
  {
   "cell_type": "code",
   "execution_count": 13,
   "metadata": {
    "ExecuteTime": {
     "end_time": "2020-10-02T09:18:07.227548Z",
     "start_time": "2020-10-02T09:18:07.223319Z"
    }
   },
   "outputs": [],
   "source": [
    "import pandas as pd\n",
    "import numpy as np\n",
    "import matplotlib.pyplot as plt\n",
    "\n",
    "from gettsim import set_up_policy_environment\n",
    "from gettsim import compute_taxes_and_transfers\n",
    "from gettsim import plot_dag"
   ]
  },
  {
   "cell_type": "markdown",
   "metadata": {},
   "source": [
    "## Example: Kindergeld (Child Benefits)\n",
    "\n",
    "For this tutorial, we will focus on the *Kindergeld* which is a child benefit that can be claimed by parents in Germany. *Kindergeld* can be claimed in different ways and eligibility for families to receive it depends on various variables. For instance, *Kindergeld* can be claimed as a monthly payment but also as a tax credit (*Kinderfreibetrag*) which is more advantageous for higher income groups. Additionally, eligibility depends on factors like the age and work status of children. These factors make it a more complex feature of the German tax and transfer system than one might initially believe.  \n",
    "\n",
    "In the following, we will inspect in detail how the German *Kindergeld* is implemented in GETTSIM to showcase further functionalities of the package. To start off, we load a policy environment to work with."
   ]
  },
  {
   "cell_type": "code",
   "execution_count": 14,
   "metadata": {
    "ExecuteTime": {
     "end_time": "2020-10-02T09:18:07.947529Z",
     "start_time": "2020-10-02T09:18:07.588763Z"
    }
   },
   "outputs": [],
   "source": [
    "policy_params, policy_functions = set_up_policy_environment(\"2020\")"
   ]
  },
  {
   "cell_type": "markdown",
   "metadata": {},
   "source": [
    "The according policy parameters are saved under the key `kindergeld`."
   ]
  },
  {
   "cell_type": "code",
   "execution_count": 15,
   "metadata": {
    "ExecuteTime": {
     "end_time": "2020-10-02T09:18:08.088738Z",
     "start_time": "2020-10-02T09:18:08.077527Z"
    }
   },
   "outputs": [
    {
     "data": {
      "text/plain": [
       "{'kindergeld_hoechstalter': 25,\n",
       " 'kindergeld': {1: 204, 2: 204, 3: 210, 4: 235},\n",
       " 'kindergeld_einkommensgrenze': 8004,\n",
       " 'kindergeld_stundengrenze': 20,\n",
       " 'datum': datetime.date(2020, 1, 1)}"
      ]
     },
     "execution_count": 15,
     "metadata": {},
     "output_type": "execute_result"
    }
   ],
   "source": [
    "policy_params[\"kindergeld\"]"
   ]
  },
  {
   "cell_type": "code",
   "execution_count": null,
   "metadata": {},
   "outputs": [],
   "source": []
  },
  {
   "cell_type": "markdown",
   "metadata": {},
   "source": [
    "## DAG plots for visualization\n",
    "\n",
    "To get a better picture of how the *Kindergeld* is implemented in GETTSIM, we can utilize GETTSIM's visualization capabilities which are concentrated in the function `plot_dag`. This function creates a directed acyclic graph (DAG) for the tax and transfer system. It offers many different visualization possibilities. See [here](https://gettsim.readthedocs.io/en/latest/tutorials/visualizing_the_system.html) for an extensive tutorial.\n",
    "\n",
    "\n",
    "To figure out which variables are relevant for the child benefit, we plot an according slice of the entire tax and transfer system implemented in GETTSIM using `plot_dag`. The function was already imported with all other relevant packages at the beginning of this tutorial. To select the relevant plot, we have to define selectors that we can pass as arguments to the function. We can check the possible output variables [here](https://refersgettsim.readthedocs.io/en/stable/crosswalk.html) to find the relevant variable name for our application."
   ]
  },
  {
   "cell_type": "code",
   "execution_count": null,
   "metadata": {},
   "outputs": [],
   "source": [
    "selectors = {\"type\": \"ancestors\", \"node\": \"kindergeld_m\"}"
   ]
  },
  {
   "cell_type": "markdown",
   "metadata": {},
   "source": [
    "Since we are interested in the child benefits, we select the node `kindergeld_m` and plot its `ancestors`, which are all the nodes `kindergeld_m` directly or indirectly depends on. As the plot below shows, the variable depends on many other nodes and generates a very large DAG. Clicking on a node links to the according function or variable."
   ]
  },
  {
   "cell_type": "code",
   "execution_count": 17,
   "metadata": {
    "ExecuteTime": {
     "end_time": "2020-10-02T09:18:10.100625Z",
     "start_time": "2020-10-02T09:18:09.756437Z"
    }
   },
   "outputs": [],
   "source": [
    "plot_dag(functions=policy_functions, selectors=selectors)"
   ]
  },
  {
   "cell_type": "markdown",
   "metadata": {},
   "source": [
    "An alternative way to inspect the variable is by looking at its neighbors in the DAG. This depiction shows the related variables and functions up to two nodes away from `kindergeld_m`. This depiction for example also reveals `descendants` of `kindergeld_m`: `kindergeld_m_tu` and `kindergeld_m_hh`. These variables contain the child benefits on tax unit and household level respectively."
   ]
  },
  {
   "cell_type": "code",
   "execution_count": 27,
   "metadata": {},
   "outputs": [
    {
     "data": {
      "text/html": [
       "\n",
       "    <div class=\"bk-root\">\n",
       "        <a href=\"https://bokeh.org\" target=\"_blank\" class=\"bk-logo bk-logo-small bk-logo-notebook\"></a>\n",
       "        <span id=\"2087\">Loading BokehJS ...</span>\n",
       "    </div>"
      ]
     },
     "metadata": {},
     "output_type": "display_data"
    },
    {
     "data": {
      "application/javascript": [
       "\n",
       "(function(root) {\n",
       "  function now() {\n",
       "    return new Date();\n",
       "  }\n",
       "\n",
       "  var force = true;\n",
       "\n",
       "  if (typeof root._bokeh_onload_callbacks === \"undefined\" || force === true) {\n",
       "    root._bokeh_onload_callbacks = [];\n",
       "    root._bokeh_is_loading = undefined;\n",
       "  }\n",
       "\n",
       "  var JS_MIME_TYPE = 'application/javascript';\n",
       "  var HTML_MIME_TYPE = 'text/html';\n",
       "  var EXEC_MIME_TYPE = 'application/vnd.bokehjs_exec.v0+json';\n",
       "  var CLASS_NAME = 'output_bokeh rendered_html';\n",
       "\n",
       "  /**\n",
       "   * Render data to the DOM node\n",
       "   */\n",
       "  function render(props, node) {\n",
       "    var script = document.createElement(\"script\");\n",
       "    node.appendChild(script);\n",
       "  }\n",
       "\n",
       "  /**\n",
       "   * Handle when an output is cleared or removed\n",
       "   */\n",
       "  function handleClearOutput(event, handle) {\n",
       "    var cell = handle.cell;\n",
       "\n",
       "    var id = cell.output_area._bokeh_element_id;\n",
       "    var server_id = cell.output_area._bokeh_server_id;\n",
       "    // Clean up Bokeh references\n",
       "    if (id != null && id in Bokeh.index) {\n",
       "      Bokeh.index[id].model.document.clear();\n",
       "      delete Bokeh.index[id];\n",
       "    }\n",
       "\n",
       "    if (server_id !== undefined) {\n",
       "      // Clean up Bokeh references\n",
       "      var cmd = \"from bokeh.io.state import curstate; print(curstate().uuid_to_server['\" + server_id + \"'].get_sessions()[0].document.roots[0]._id)\";\n",
       "      cell.notebook.kernel.execute(cmd, {\n",
       "        iopub: {\n",
       "          output: function(msg) {\n",
       "            var id = msg.content.text.trim();\n",
       "            if (id in Bokeh.index) {\n",
       "              Bokeh.index[id].model.document.clear();\n",
       "              delete Bokeh.index[id];\n",
       "            }\n",
       "          }\n",
       "        }\n",
       "      });\n",
       "      // Destroy server and session\n",
       "      var cmd = \"import bokeh.io.notebook as ion; ion.destroy_server('\" + server_id + \"')\";\n",
       "      cell.notebook.kernel.execute(cmd);\n",
       "    }\n",
       "  }\n",
       "\n",
       "  /**\n",
       "   * Handle when a new output is added\n",
       "   */\n",
       "  function handleAddOutput(event, handle) {\n",
       "    var output_area = handle.output_area;\n",
       "    var output = handle.output;\n",
       "\n",
       "    // limit handleAddOutput to display_data with EXEC_MIME_TYPE content only\n",
       "    if ((output.output_type != \"display_data\") || (!output.data.hasOwnProperty(EXEC_MIME_TYPE))) {\n",
       "      return\n",
       "    }\n",
       "\n",
       "    var toinsert = output_area.element.find(\".\" + CLASS_NAME.split(' ')[0]);\n",
       "\n",
       "    if (output.metadata[EXEC_MIME_TYPE][\"id\"] !== undefined) {\n",
       "      toinsert[toinsert.length - 1].firstChild.textContent = output.data[JS_MIME_TYPE];\n",
       "      // store reference to embed id on output_area\n",
       "      output_area._bokeh_element_id = output.metadata[EXEC_MIME_TYPE][\"id\"];\n",
       "    }\n",
       "    if (output.metadata[EXEC_MIME_TYPE][\"server_id\"] !== undefined) {\n",
       "      var bk_div = document.createElement(\"div\");\n",
       "      bk_div.innerHTML = output.data[HTML_MIME_TYPE];\n",
       "      var script_attrs = bk_div.children[0].attributes;\n",
       "      for (var i = 0; i < script_attrs.length; i++) {\n",
       "        toinsert[toinsert.length - 1].firstChild.setAttribute(script_attrs[i].name, script_attrs[i].value);\n",
       "        toinsert[toinsert.length - 1].firstChild.textContent = bk_div.children[0].textContent\n",
       "      }\n",
       "      // store reference to server id on output_area\n",
       "      output_area._bokeh_server_id = output.metadata[EXEC_MIME_TYPE][\"server_id\"];\n",
       "    }\n",
       "  }\n",
       "\n",
       "  function register_renderer(events, OutputArea) {\n",
       "\n",
       "    function append_mime(data, metadata, element) {\n",
       "      // create a DOM node to render to\n",
       "      var toinsert = this.create_output_subarea(\n",
       "        metadata,\n",
       "        CLASS_NAME,\n",
       "        EXEC_MIME_TYPE\n",
       "      );\n",
       "      this.keyboard_manager.register_events(toinsert);\n",
       "      // Render to node\n",
       "      var props = {data: data, metadata: metadata[EXEC_MIME_TYPE]};\n",
       "      render(props, toinsert[toinsert.length - 1]);\n",
       "      element.append(toinsert);\n",
       "      return toinsert\n",
       "    }\n",
       "\n",
       "    /* Handle when an output is cleared or removed */\n",
       "    events.on('clear_output.CodeCell', handleClearOutput);\n",
       "    events.on('delete.Cell', handleClearOutput);\n",
       "\n",
       "    /* Handle when a new output is added */\n",
       "    events.on('output_added.OutputArea', handleAddOutput);\n",
       "\n",
       "    /**\n",
       "     * Register the mime type and append_mime function with output_area\n",
       "     */\n",
       "    OutputArea.prototype.register_mime_type(EXEC_MIME_TYPE, append_mime, {\n",
       "      /* Is output safe? */\n",
       "      safe: true,\n",
       "      /* Index of renderer in `output_area.display_order` */\n",
       "      index: 0\n",
       "    });\n",
       "  }\n",
       "\n",
       "  // register the mime type if in Jupyter Notebook environment and previously unregistered\n",
       "  if (root.Jupyter !== undefined) {\n",
       "    var events = require('base/js/events');\n",
       "    var OutputArea = require('notebook/js/outputarea').OutputArea;\n",
       "\n",
       "    if (OutputArea.prototype.mime_types().indexOf(EXEC_MIME_TYPE) == -1) {\n",
       "      register_renderer(events, OutputArea);\n",
       "    }\n",
       "  }\n",
       "\n",
       "  \n",
       "  if (typeof (root._bokeh_timeout) === \"undefined\" || force === true) {\n",
       "    root._bokeh_timeout = Date.now() + 5000;\n",
       "    root._bokeh_failed_load = false;\n",
       "  }\n",
       "\n",
       "  var NB_LOAD_WARNING = {'data': {'text/html':\n",
       "     \"<div style='background-color: #fdd'>\\n\"+\n",
       "     \"<p>\\n\"+\n",
       "     \"BokehJS does not appear to have successfully loaded. If loading BokehJS from CDN, this \\n\"+\n",
       "     \"may be due to a slow or bad network connection. Possible fixes:\\n\"+\n",
       "     \"</p>\\n\"+\n",
       "     \"<ul>\\n\"+\n",
       "     \"<li>re-rerun `output_notebook()` to attempt to load from CDN again, or</li>\\n\"+\n",
       "     \"<li>use INLINE resources instead, as so:</li>\\n\"+\n",
       "     \"</ul>\\n\"+\n",
       "     \"<code>\\n\"+\n",
       "     \"from bokeh.resources import INLINE\\n\"+\n",
       "     \"output_notebook(resources=INLINE)\\n\"+\n",
       "     \"</code>\\n\"+\n",
       "     \"</div>\"}};\n",
       "\n",
       "  function display_loaded() {\n",
       "    var el = document.getElementById(\"2087\");\n",
       "    if (el != null) {\n",
       "      el.textContent = \"BokehJS is loading...\";\n",
       "    }\n",
       "    if (root.Bokeh !== undefined) {\n",
       "      if (el != null) {\n",
       "        el.textContent = \"BokehJS \" + root.Bokeh.version + \" successfully loaded.\";\n",
       "      }\n",
       "    } else if (Date.now() < root._bokeh_timeout) {\n",
       "      setTimeout(display_loaded, 100)\n",
       "    }\n",
       "  }\n",
       "\n",
       "\n",
       "  function run_callbacks() {\n",
       "    try {\n",
       "      root._bokeh_onload_callbacks.forEach(function(callback) {\n",
       "        if (callback != null)\n",
       "          callback();\n",
       "      });\n",
       "    } finally {\n",
       "      delete root._bokeh_onload_callbacks\n",
       "    }\n",
       "    console.debug(\"Bokeh: all callbacks have finished\");\n",
       "  }\n",
       "\n",
       "  function load_libs(css_urls, js_urls, callback) {\n",
       "    if (css_urls == null) css_urls = [];\n",
       "    if (js_urls == null) js_urls = [];\n",
       "\n",
       "    root._bokeh_onload_callbacks.push(callback);\n",
       "    if (root._bokeh_is_loading > 0) {\n",
       "      console.debug(\"Bokeh: BokehJS is being loaded, scheduling callback at\", now());\n",
       "      return null;\n",
       "    }\n",
       "    if (js_urls == null || js_urls.length === 0) {\n",
       "      run_callbacks();\n",
       "      return null;\n",
       "    }\n",
       "    console.debug(\"Bokeh: BokehJS not loaded, scheduling load and callback at\", now());\n",
       "    root._bokeh_is_loading = css_urls.length + js_urls.length;\n",
       "\n",
       "    function on_load() {\n",
       "      root._bokeh_is_loading--;\n",
       "      if (root._bokeh_is_loading === 0) {\n",
       "        console.debug(\"Bokeh: all BokehJS libraries/stylesheets loaded\");\n",
       "        run_callbacks()\n",
       "      }\n",
       "    }\n",
       "\n",
       "    function on_error() {\n",
       "      console.error(\"failed to load \" + url);\n",
       "    }\n",
       "\n",
       "    for (var i = 0; i < css_urls.length; i++) {\n",
       "      var url = css_urls[i];\n",
       "      const element = document.createElement(\"link\");\n",
       "      element.onload = on_load;\n",
       "      element.onerror = on_error;\n",
       "      element.rel = \"stylesheet\";\n",
       "      element.type = \"text/css\";\n",
       "      element.href = url;\n",
       "      console.debug(\"Bokeh: injecting link tag for BokehJS stylesheet: \", url);\n",
       "      document.body.appendChild(element);\n",
       "    }\n",
       "\n",
       "    const hashes = {\"https://cdn.bokeh.org/bokeh/release/bokeh-2.1.1.min.js\": \"kLr4fYcqcSpbuI95brIH3vnnYCquzzSxHPU6XGQCIkQRGJwhg0StNbj1eegrHs12\", \"https://cdn.bokeh.org/bokeh/release/bokeh-widgets-2.1.1.min.js\": \"xIGPmVtaOm+z0BqfSOMn4lOR6ciex448GIKG4eE61LsAvmGj48XcMQZtKcE/UXZe\", \"https://cdn.bokeh.org/bokeh/release/bokeh-tables-2.1.1.min.js\": \"Dc9u1wF/0zApGIWoBbH77iWEHtdmkuYWG839Uzmv8y8yBLXebjO9ZnERsde5Ln/P\", \"https://cdn.bokeh.org/bokeh/release/bokeh-gl-2.1.1.min.js\": \"cT9JaBz7GiRXdENrJLZNSC6eMNF3nh3fa5fTF51Svp+ukxPdwcU5kGXGPBgDCa2j\"};\n",
       "\n",
       "    for (var i = 0; i < js_urls.length; i++) {\n",
       "      var url = js_urls[i];\n",
       "      var element = document.createElement('script');\n",
       "      element.onload = on_load;\n",
       "      element.onerror = on_error;\n",
       "      element.async = false;\n",
       "      element.src = url;\n",
       "      if (url in hashes) {\n",
       "        element.crossOrigin = \"anonymous\";\n",
       "        element.integrity = \"sha384-\" + hashes[url];\n",
       "      }\n",
       "      console.debug(\"Bokeh: injecting script tag for BokehJS library: \", url);\n",
       "      document.head.appendChild(element);\n",
       "    }\n",
       "  };\n",
       "\n",
       "  function inject_raw_css(css) {\n",
       "    const element = document.createElement(\"style\");\n",
       "    element.appendChild(document.createTextNode(css));\n",
       "    document.body.appendChild(element);\n",
       "  }\n",
       "\n",
       "  \n",
       "  var js_urls = [\"https://cdn.bokeh.org/bokeh/release/bokeh-2.1.1.min.js\", \"https://cdn.bokeh.org/bokeh/release/bokeh-widgets-2.1.1.min.js\", \"https://cdn.bokeh.org/bokeh/release/bokeh-tables-2.1.1.min.js\", \"https://cdn.bokeh.org/bokeh/release/bokeh-gl-2.1.1.min.js\"];\n",
       "  var css_urls = [];\n",
       "  \n",
       "\n",
       "  var inline_js = [\n",
       "    function(Bokeh) {\n",
       "      Bokeh.set_log_level(\"info\");\n",
       "    },\n",
       "    function(Bokeh) {\n",
       "    \n",
       "    \n",
       "    }\n",
       "  ];\n",
       "\n",
       "  function run_inline_js() {\n",
       "    \n",
       "    if (root.Bokeh !== undefined || force === true) {\n",
       "      \n",
       "    for (var i = 0; i < inline_js.length; i++) {\n",
       "      inline_js[i].call(root, root.Bokeh);\n",
       "    }\n",
       "    if (force === true) {\n",
       "        display_loaded();\n",
       "      }} else if (Date.now() < root._bokeh_timeout) {\n",
       "      setTimeout(run_inline_js, 100);\n",
       "    } else if (!root._bokeh_failed_load) {\n",
       "      console.log(\"Bokeh: BokehJS failed to load within specified timeout.\");\n",
       "      root._bokeh_failed_load = true;\n",
       "    } else if (force !== true) {\n",
       "      var cell = $(document.getElementById(\"2087\")).parents('.cell').data().cell;\n",
       "      cell.output_area.append_execute_result(NB_LOAD_WARNING)\n",
       "    }\n",
       "\n",
       "  }\n",
       "\n",
       "  if (root._bokeh_is_loading === 0) {\n",
       "    console.debug(\"Bokeh: BokehJS loaded, going straight to plotting\");\n",
       "    run_inline_js();\n",
       "  } else {\n",
       "    load_libs(css_urls, js_urls, function() {\n",
       "      console.debug(\"Bokeh: BokehJS plotting callback run at\", now());\n",
       "      run_inline_js();\n",
       "    });\n",
       "  }\n",
       "}(window));"
      ],
      "application/vnd.bokehjs_load.v0+json": "\n(function(root) {\n  function now() {\n    return new Date();\n  }\n\n  var force = true;\n\n  if (typeof root._bokeh_onload_callbacks === \"undefined\" || force === true) {\n    root._bokeh_onload_callbacks = [];\n    root._bokeh_is_loading = undefined;\n  }\n\n  \n\n  \n  if (typeof (root._bokeh_timeout) === \"undefined\" || force === true) {\n    root._bokeh_timeout = Date.now() + 5000;\n    root._bokeh_failed_load = false;\n  }\n\n  var NB_LOAD_WARNING = {'data': {'text/html':\n     \"<div style='background-color: #fdd'>\\n\"+\n     \"<p>\\n\"+\n     \"BokehJS does not appear to have successfully loaded. If loading BokehJS from CDN, this \\n\"+\n     \"may be due to a slow or bad network connection. Possible fixes:\\n\"+\n     \"</p>\\n\"+\n     \"<ul>\\n\"+\n     \"<li>re-rerun `output_notebook()` to attempt to load from CDN again, or</li>\\n\"+\n     \"<li>use INLINE resources instead, as so:</li>\\n\"+\n     \"</ul>\\n\"+\n     \"<code>\\n\"+\n     \"from bokeh.resources import INLINE\\n\"+\n     \"output_notebook(resources=INLINE)\\n\"+\n     \"</code>\\n\"+\n     \"</div>\"}};\n\n  function display_loaded() {\n    var el = document.getElementById(\"2087\");\n    if (el != null) {\n      el.textContent = \"BokehJS is loading...\";\n    }\n    if (root.Bokeh !== undefined) {\n      if (el != null) {\n        el.textContent = \"BokehJS \" + root.Bokeh.version + \" successfully loaded.\";\n      }\n    } else if (Date.now() < root._bokeh_timeout) {\n      setTimeout(display_loaded, 100)\n    }\n  }\n\n\n  function run_callbacks() {\n    try {\n      root._bokeh_onload_callbacks.forEach(function(callback) {\n        if (callback != null)\n          callback();\n      });\n    } finally {\n      delete root._bokeh_onload_callbacks\n    }\n    console.debug(\"Bokeh: all callbacks have finished\");\n  }\n\n  function load_libs(css_urls, js_urls, callback) {\n    if (css_urls == null) css_urls = [];\n    if (js_urls == null) js_urls = [];\n\n    root._bokeh_onload_callbacks.push(callback);\n    if (root._bokeh_is_loading > 0) {\n      console.debug(\"Bokeh: BokehJS is being loaded, scheduling callback at\", now());\n      return null;\n    }\n    if (js_urls == null || js_urls.length === 0) {\n      run_callbacks();\n      return null;\n    }\n    console.debug(\"Bokeh: BokehJS not loaded, scheduling load and callback at\", now());\n    root._bokeh_is_loading = css_urls.length + js_urls.length;\n\n    function on_load() {\n      root._bokeh_is_loading--;\n      if (root._bokeh_is_loading === 0) {\n        console.debug(\"Bokeh: all BokehJS libraries/stylesheets loaded\");\n        run_callbacks()\n      }\n    }\n\n    function on_error() {\n      console.error(\"failed to load \" + url);\n    }\n\n    for (var i = 0; i < css_urls.length; i++) {\n      var url = css_urls[i];\n      const element = document.createElement(\"link\");\n      element.onload = on_load;\n      element.onerror = on_error;\n      element.rel = \"stylesheet\";\n      element.type = \"text/css\";\n      element.href = url;\n      console.debug(\"Bokeh: injecting link tag for BokehJS stylesheet: \", url);\n      document.body.appendChild(element);\n    }\n\n    const hashes = {\"https://cdn.bokeh.org/bokeh/release/bokeh-2.1.1.min.js\": \"kLr4fYcqcSpbuI95brIH3vnnYCquzzSxHPU6XGQCIkQRGJwhg0StNbj1eegrHs12\", \"https://cdn.bokeh.org/bokeh/release/bokeh-widgets-2.1.1.min.js\": \"xIGPmVtaOm+z0BqfSOMn4lOR6ciex448GIKG4eE61LsAvmGj48XcMQZtKcE/UXZe\", \"https://cdn.bokeh.org/bokeh/release/bokeh-tables-2.1.1.min.js\": \"Dc9u1wF/0zApGIWoBbH77iWEHtdmkuYWG839Uzmv8y8yBLXebjO9ZnERsde5Ln/P\", \"https://cdn.bokeh.org/bokeh/release/bokeh-gl-2.1.1.min.js\": \"cT9JaBz7GiRXdENrJLZNSC6eMNF3nh3fa5fTF51Svp+ukxPdwcU5kGXGPBgDCa2j\"};\n\n    for (var i = 0; i < js_urls.length; i++) {\n      var url = js_urls[i];\n      var element = document.createElement('script');\n      element.onload = on_load;\n      element.onerror = on_error;\n      element.async = false;\n      element.src = url;\n      if (url in hashes) {\n        element.crossOrigin = \"anonymous\";\n        element.integrity = \"sha384-\" + hashes[url];\n      }\n      console.debug(\"Bokeh: injecting script tag for BokehJS library: \", url);\n      document.head.appendChild(element);\n    }\n  };\n\n  function inject_raw_css(css) {\n    const element = document.createElement(\"style\");\n    element.appendChild(document.createTextNode(css));\n    document.body.appendChild(element);\n  }\n\n  \n  var js_urls = [\"https://cdn.bokeh.org/bokeh/release/bokeh-2.1.1.min.js\", \"https://cdn.bokeh.org/bokeh/release/bokeh-widgets-2.1.1.min.js\", \"https://cdn.bokeh.org/bokeh/release/bokeh-tables-2.1.1.min.js\", \"https://cdn.bokeh.org/bokeh/release/bokeh-gl-2.1.1.min.js\"];\n  var css_urls = [];\n  \n\n  var inline_js = [\n    function(Bokeh) {\n      Bokeh.set_log_level(\"info\");\n    },\n    function(Bokeh) {\n    \n    \n    }\n  ];\n\n  function run_inline_js() {\n    \n    if (root.Bokeh !== undefined || force === true) {\n      \n    for (var i = 0; i < inline_js.length; i++) {\n      inline_js[i].call(root, root.Bokeh);\n    }\n    if (force === true) {\n        display_loaded();\n      }} else if (Date.now() < root._bokeh_timeout) {\n      setTimeout(run_inline_js, 100);\n    } else if (!root._bokeh_failed_load) {\n      console.log(\"Bokeh: BokehJS failed to load within specified timeout.\");\n      root._bokeh_failed_load = true;\n    } else if (force !== true) {\n      var cell = $(document.getElementById(\"2087\")).parents('.cell').data().cell;\n      cell.output_area.append_execute_result(NB_LOAD_WARNING)\n    }\n\n  }\n\n  if (root._bokeh_is_loading === 0) {\n    console.debug(\"Bokeh: BokehJS loaded, going straight to plotting\");\n    run_inline_js();\n  } else {\n    load_libs(css_urls, js_urls, function() {\n      console.debug(\"Bokeh: BokehJS plotting callback run at\", now());\n      run_inline_js();\n    });\n  }\n}(window));"
     },
     "metadata": {},
     "output_type": "display_data"
    },
    {
     "data": {
      "text/html": [
       "\n",
       "\n",
       "\n",
       "\n",
       "\n",
       "\n",
       "  <div class=\"bk-root\" id=\"32f4e78d-211f-45f3-86bb-327fff7eb41d\" data-root-id=\"2004\"></div>\n"
      ]
     },
     "metadata": {},
     "output_type": "display_data"
    },
    {
     "data": {
      "application/javascript": [
       "(function(root) {\n",
       "  function embed_document(root) {\n",
       "    \n",
       "  var docs_json = {\"82f572e5-4987-450e-b75b-72a0de0d54f6\":{\"roots\":{\"references\":[{\"attributes\":{\"center\":[{\"id\":\"2036\"},{\"id\":\"2039\"},{\"id\":\"2042\"},{\"id\":\"2045\"},{\"id\":\"2048\"},{\"id\":\"2051\"},{\"id\":\"2054\"},{\"id\":\"2057\"},{\"id\":\"2060\"},{\"id\":\"2063\"},{\"id\":\"2066\"},{\"id\":\"2069\"},{\"id\":\"2072\"},{\"id\":\"2075\"},{\"id\":\"2085\"}],\"renderers\":[{\"id\":\"2008\"}],\"title\":{\"id\":\"2003\"},\"toolbar\":{\"id\":\"2081\"},\"x_range\":{\"id\":\"1001\"},\"x_scale\":{\"id\":\"2130\"},\"y_range\":{\"id\":\"1002\"},\"y_scale\":{\"id\":\"2129\"}},\"id\":\"2004\",\"type\":\"Plot\"},{\"attributes\":{},\"id\":\"2139\",\"type\":\"NodesOnly\"},{\"attributes\":{\"edge_renderer\":{\"id\":\"2015\"},\"inspection_policy\":{\"id\":\"2140\"},\"layout_provider\":{\"id\":\"2021\"},\"node_renderer\":{\"id\":\"2011\"},\"selection_policy\":{\"id\":\"2139\"}},\"id\":\"2008\",\"type\":\"GraphRenderer\"},{\"attributes\":{\"end\":{\"id\":\"2053\"},\"line_color\":{\"value\":\"red\"},\"source\":null,\"start\":null,\"x_end\":{\"value\":-0.22258065610629515},\"x_start\":{\"value\":0.2492210113110314},\"y_end\":{\"value\":0.019230611439033027},\"y_start\":{\"value\":0.3141027218943003}},\"id\":\"2054\",\"type\":\"Arrow\"},{\"attributes\":{},\"id\":\"2140\",\"type\":\"NodesOnly\"},{\"attributes\":{\"fill_color\":\"red\",\"size\":7},\"id\":\"2035\",\"type\":\"NormalHead\"},{\"attributes\":{\"end\":{\"id\":\"2035\"},\"line_color\":{\"value\":\"red\"},\"source\":null,\"start\":null,\"x_end\":{\"value\":-0.26547137922619707},\"x_start\":{\"value\":-0.3478967990161793},\"y_end\":{\"value\":0.03787866544106506},\"y_start\":{\"value\":0.29545466789226826}},\"id\":\"2036\",\"type\":\"Arrow\"},{\"attributes\":{\"bottom_units\":\"screen\",\"fill_alpha\":0.5,\"fill_color\":\"lightgrey\",\"left_units\":\"screen\",\"level\":\"overlay\",\"line_alpha\":1.0,\"line_color\":\"black\",\"line_dash\":[4,4],\"line_width\":2,\"right_units\":\"screen\",\"top_units\":\"screen\"},\"id\":\"2141\",\"type\":\"BoxAnnotation\"},{\"attributes\":{\"end\":{\"id\":\"2038\"},\"line_color\":{\"value\":\"red\"},\"source\":null,\"start\":null,\"x_end\":{\"value\":-0.28791770711021314},\"x_start\":{\"value\":-0.9654323375570489},\"y_end\":{\"value\":0.015432337557048967},\"y_start\":{\"value\":0.31790099577628433}},\"id\":\"2039\",\"type\":\"Arrow\"},{\"attributes\":{\"overlay\":{\"id\":\"2141\"}},\"id\":\"2077\",\"type\":\"BoxZoomTool\"},{\"attributes\":{},\"id\":\"2129\",\"type\":\"LinearScale\"},{\"attributes\":{\"fill_color\":\"red\",\"size\":7},\"id\":\"2053\",\"type\":\"NormalHead\"},{\"attributes\":{\"source\":{\"id\":\"2084\"},\"text\":{\"field\":\"index\"},\"text_font_size\":{\"value\":\"12px\"},\"x\":{\"field\":\"x\"},\"x_offset\":{\"value\":-30},\"y\":{\"field\":\"y\"},\"y_offset\":{\"value\":8}},\"id\":\"2085\",\"type\":\"LabelSet\"},{\"attributes\":{\"active_drag\":\"auto\",\"active_inspect\":\"auto\",\"active_multi\":null,\"active_scroll\":\"auto\",\"active_tap\":\"auto\",\"tools\":[{\"id\":\"2077\"},{\"id\":\"2078\"},{\"id\":\"2080\"}]},\"id\":\"2081\",\"type\":\"Toolbar\"},{\"attributes\":{},\"id\":\"2078\",\"type\":\"ResetTool\"},{\"attributes\":{\"data\":{\"index\":[\"arbeitsl_geld_2_m_minus_eink_hh\",\"_st_kein_kind_freib_tu\",\"_st_kind_freib_tu\",\"_beantrage_kind_freib_tu\",\"kindergeld_m_hh\",\"kindergeld_m_tu\",\"_kindergeld_m_basis\",\"_kindergeld_m_tu_basis\",\"kindergeld_m\",\"kindergeld_anspruch\",\"tu_id\"],\"x\":{\"__ndarray__\":\"cUZCK8wJqb9IA2t/iQrXvwAAAAAAAPC/UU4SG+M20L9xRkIrzAmpvwAAAAAAAPA/wGl9w+WWrb+AOqnaXOvRP3FGQivMCam/wGl9w+WWrb9ZPvfPtHnlPw==\",\"dtype\":\"float64\",\"order\":\"little\",\"shape\":[11]},\"y\":{\"__ndarray__\":\"AAAAAAAA8L9VVVVVVVXVP1VVVVVVVdU/AAAAAAAAAABVVVVVVVXlv1VVVVVVVeW/VVVVVVVV5T9VVVVVVVXVP1VVVVVVVdW/AAAAAAAA8D8AAAAAAADwPw==\",\"dtype\":\"float64\",\"order\":\"little\",\"shape\":[11]}},\"selected\":{\"id\":\"2142\"},\"selection_policy\":{\"id\":\"2143\"}},\"id\":\"2084\",\"type\":\"ColumnDataSource\"},{\"attributes\":{\"end\":1.3,\"start\":-1.3},\"id\":\"1001\",\"type\":\"Range1d\"},{\"attributes\":{\"fill_color\":\"red\",\"size\":7},\"id\":\"2038\",\"type\":\"NormalHead\"},{\"attributes\":{\"url\":\"@url\"},\"id\":\"2079\",\"type\":\"OpenURL\"},{\"attributes\":{\"end\":1.3,\"start\":-1.3},\"id\":\"1002\",\"type\":\"Range1d\"},{\"attributes\":{\"end\":{\"id\":\"2065\"},\"line_color\":{\"value\":\"red\"},\"source\":null,\"start\":null,\"x_end\":{\"value\":0.9917593737124022},\"x_start\":{\"value\":0.6793473521550538},\"y_end\":{\"value\":-0.6249072929542645},\"y_start\":{\"value\":0.9582406262875979}},\"id\":\"2066\",\"type\":\"Arrow\"},{\"attributes\":{\"end\":{\"id\":\"2074\"},\"line_color\":{\"value\":\"red\"},\"source\":null,\"start\":null,\"x_end\":{\"value\":-0.03137025493050814},\"x_start\":{\"value\":0.6535741065374185},\"y_end\":{\"value\":-0.3008659526633708},\"y_start\":{\"value\":0.9675326193300375}},\"id\":\"2075\",\"type\":\"Arrow\"},{\"attributes\":{},\"id\":\"2130\",\"type\":\"LinearScale\"},{\"attributes\":{\"callback\":{\"id\":\"2079\"}},\"id\":\"2080\",\"type\":\"TapTool\"},{\"attributes\":{\"fill_color\":\"red\",\"size\":7},\"id\":\"2059\",\"type\":\"NormalHead\"},{\"attributes\":{\"graph_layout\":{\"_beantrage_kind_freib_tu\":[-0.25335004466726213,0.0],\"_kindergeld_m_basis\":[-0.05779188166953331,0.6666666666666666],\"_kindergeld_m_tu_basis\":[0.27999039987199836,0.3333333333333333],\"_st_kein_kind_freib_tu\":[-0.36001813357511425,0.3333333333333333],\"_st_kind_freib_tu\":[-1.0,0.3333333333333333],\"arbeitsl_geld_2_m_minus_eink_hh\":[-0.04890287426054563,-1.0],\"kindergeld_anspruch\":[-0.05779188166953331,1.0],\"kindergeld_m\":[-0.04890287426054563,-0.3333333333333333],\"kindergeld_m_hh\":[-0.04890287426054563,-0.6666666666666666],\"kindergeld_m_tu\":[1.0,-0.6666666666666666],\"tu_id\":[0.671106725867456,1.0]}},\"id\":\"2021\",\"type\":\"StaticLayoutProvider\"},{\"attributes\":{\"end\":{\"id\":\"2062\"},\"line_color\":{\"value\":\"red\"},\"source\":null,\"start\":null,\"x_end\":{\"value\":-0.05779188166953331},\"x_start\":{\"value\":-0.05779188166953331},\"y_end\":{\"value\":0.7166666666666667},\"y_start\":{\"value\":0.95}},\"id\":\"2063\",\"type\":\"Arrow\"},{\"attributes\":{\"end\":{\"id\":\"2059\"},\"line_color\":{\"value\":\"red\"},\"source\":null,\"start\":null,\"x_end\":{\"value\":0.9620577558127197},\"x_start\":{\"value\":-0.010960630073265282},\"y_end\":{\"value\":-0.654608910853947},\"y_start\":{\"value\":-0.345391089146053}},\"id\":\"2060\",\"type\":\"Arrow\"},{\"attributes\":{\"fill_color\":\"red\",\"size\":7},\"id\":\"2062\",\"type\":\"NormalHead\"},{\"attributes\":{},\"id\":\"2146\",\"type\":\"Selection\"},{\"attributes\":{\"fill_color\":\"red\",\"size\":7},\"id\":\"2074\",\"type\":\"NormalHead\"},{\"attributes\":{\"data_source\":{\"id\":\"2014\"},\"glyph\":{\"id\":\"2013\"},\"hover_glyph\":null,\"muted_glyph\":null,\"view\":{\"id\":\"2016\"},\"visible\":false},\"id\":\"2015\",\"type\":\"GlyphRenderer\"},{\"attributes\":{\"end\":{\"id\":\"2047\"},\"line_color\":{\"value\":\"red\"},\"source\":null,\"start\":null,\"x_end\":{\"value\":0.25482467029763034},\"x_start\":{\"value\":-0.032626152095165256},\"y_end\":{\"value\":0.3581676037589653},\"y_start\":{\"value\":0.6418323962410347}},\"id\":\"2048\",\"type\":\"Arrow\"},{\"attributes\":{\"source\":{\"id\":\"2014\"}},\"id\":\"2016\",\"type\":\"CDSView\"},{\"attributes\":{\"fill_color\":\"red\",\"size\":7},\"id\":\"2056\",\"type\":\"NormalHead\"},{\"attributes\":{\"fill_color\":\"red\",\"size\":7},\"id\":\"2065\",\"type\":\"NormalHead\"},{\"attributes\":{},\"id\":\"2144\",\"type\":\"Selection\"},{\"attributes\":{\"fill_color\":\"red\",\"size\":7},\"id\":\"2068\",\"type\":\"NormalHead\"},{\"attributes\":{},\"id\":\"2142\",\"type\":\"Selection\"},{\"attributes\":{\"fill_color\":\"red\",\"size\":7},\"id\":\"2047\",\"type\":\"NormalHead\"},{\"attributes\":{},\"id\":\"2145\",\"type\":\"UnionRenderers\"},{\"attributes\":{\"end\":{\"id\":\"2050\"},\"line_color\":{\"value\":\"red\"},\"source\":null,\"start\":null,\"x_end\":{\"value\":-0.04934340871694814},\"x_start\":{\"value\":-0.0573513472131308},\"y_end\":{\"value\":-0.2837738677897358},\"y_start\":{\"value\":0.6171072011230692}},\"id\":\"2051\",\"type\":\"Arrow\"},{\"attributes\":{},\"id\":\"2013\",\"type\":\"MultiLine\"},{\"attributes\":{\"fill_color\":\"red\",\"size\":7},\"id\":\"2041\",\"type\":\"NormalHead\"},{\"attributes\":{\"source\":{\"id\":\"2010\"}},\"id\":\"2012\",\"type\":\"CDSView\"},{\"attributes\":{\"data_source\":{\"id\":\"2010\"},\"glyph\":{\"id\":\"2022\"},\"hover_glyph\":null,\"muted_glyph\":null,\"view\":{\"id\":\"2012\"}},\"id\":\"2011\",\"type\":\"GlyphRenderer\"},{\"attributes\":{\"end\":{\"id\":\"2068\"},\"line_color\":{\"value\":\"red\"},\"source\":null,\"start\":null,\"x_end\":{\"value\":-0.023482114683060558},\"x_start\":{\"value\":0.6367969588809833},\"y_end\":{\"value\":0.6823568996801939},\"y_start\":{\"value\":0.9843097669864728}},\"id\":\"2069\",\"type\":\"Arrow\"},{\"attributes\":{\"end\":{\"id\":\"2056\"},\"line_color\":{\"value\":\"red\"},\"source\":null,\"start\":null,\"x_end\":{\"value\":-0.04890287426054563},\"x_start\":{\"value\":-0.04890287426054563},\"y_end\":{\"value\":-0.6166666666666666},\"y_start\":{\"value\":-0.3833333333333333}},\"id\":\"2057\",\"type\":\"Arrow\"},{\"attributes\":{},\"id\":\"2143\",\"type\":\"UnionRenderers\"},{\"attributes\":{\"data\":{\"end\":[\"_beantrage_kind_freib_tu\",\"_beantrage_kind_freib_tu\",\"kindergeld_m\",\"arbeitsl_geld_2_m_minus_eink_hh\",\"_kindergeld_m_tu_basis\",\"kindergeld_m\",\"_beantrage_kind_freib_tu\",\"kindergeld_m_hh\",\"kindergeld_m_tu\",\"_kindergeld_m_basis\",\"kindergeld_m_tu\",\"_kindergeld_m_basis\",\"_kindergeld_m_tu_basis\",\"kindergeld_m\"],\"start\":[\"_st_kein_kind_freib_tu\",\"_st_kind_freib_tu\",\"_beantrage_kind_freib_tu\",\"kindergeld_m_hh\",\"_kindergeld_m_basis\",\"_kindergeld_m_basis\",\"_kindergeld_m_tu_basis\",\"kindergeld_m\",\"kindergeld_m\",\"kindergeld_anspruch\",\"tu_id\",\"tu_id\",\"tu_id\",\"tu_id\"]},\"selected\":{\"id\":\"2146\"},\"selection_policy\":{\"id\":\"2147\"}},\"id\":\"2014\",\"type\":\"ColumnDataSource\"},{\"attributes\":{\"fill_color\":\"red\",\"size\":7},\"id\":\"2071\",\"type\":\"NormalHead\"},{\"attributes\":{\"data\":{\"index\":[\"arbeitsl_geld_2_m_minus_eink_hh\",\"_st_kein_kind_freib_tu\",\"_st_kind_freib_tu\",\"_beantrage_kind_freib_tu\",\"kindergeld_m_hh\",\"kindergeld_m_tu\",\"_kindergeld_m_basis\",\"_kindergeld_m_tu_basis\",\"kindergeld_m\",\"kindergeld_anspruch\",\"tu_id\"],\"source_code\":[\"<!DOCTYPE html PUBLIC \\\"-//W3C//DTD HTML 4.01//EN\\\"\\n   \\\"http://www.w3.org/TR/html4/strict.dtd\\\">\\n<!--\\ngenerated by Pygments <https://pygments.org/>\\nCopyright 2006-2019 by the Pygments team.\\nLicensed under the BSD license, see LICENSE for details.\\n-->\\n<html>\\n<head>\\n  <title></title>\\n  <meta http-equiv=\\\"content-type\\\" content=\\\"text/html; charset=None\\\">\\n  <style type=\\\"text/css\\\">\\n/*\\ngenerated by Pygments <https://pygments.org/>\\nCopyright 2006-2019 by the Pygments team.\\nLicensed under the BSD license, see LICENSE for details.\\n*/\\ntd.linenos { background-color: #f0f0f0; padding-right: 10px; }\\nspan.lineno { background-color: #f0f0f0; padding: 0 5px 0 5px; }\\npre { line-height: 125%; }\\nbody .hll { background-color: #ffffcc }\\nbody  { background: #f8f8f8; }\\nbody .c { color: #408080; font-style: italic } /* Comment */\\nbody .err { border: 1px solid #FF0000 } /* Error */\\nbody .k { color: #008000; font-weight: bold } /* Keyword */\\nbody .o { color: #666666 } /* Operator */\\nbody .ch { color: #408080; font-style: italic } /* Comment.Hashbang */\\nbody .cm { color: #408080; font-style: italic } /* Comment.Multiline */\\nbody .cp { color: #BC7A00 } /* Comment.Preproc */\\nbody .cpf { color: #408080; font-style: italic } /* Comment.PreprocFile */\\nbody .c1 { color: #408080; font-style: italic } /* Comment.Single */\\nbody .cs { color: #408080; font-style: italic } /* Comment.Special */\\nbody .gd { color: #A00000 } /* Generic.Deleted */\\nbody .ge { font-style: italic } /* Generic.Emph */\\nbody .gr { color: #FF0000 } /* Generic.Error */\\nbody .gh { color: #000080; font-weight: bold } /* Generic.Heading */\\nbody .gi { color: #00A000 } /* Generic.Inserted */\\nbody .go { color: #888888 } /* Generic.Output */\\nbody .gp { color: #000080; font-weight: bold } /* Generic.Prompt */\\nbody .gs { font-weight: bold } /* Generic.Strong */\\nbody .gu { color: #800080; font-weight: bold } /* Generic.Subheading */\\nbody .gt { color: #0044DD } /* Generic.Traceback */\\nbody .kc { color: #008000; font-weight: bold } /* Keyword.Constant */\\nbody .kd { color: #008000; font-weight: bold } /* Keyword.Declaration */\\nbody .kn { color: #008000; font-weight: bold } /* Keyword.Namespace */\\nbody .kp { color: #008000 } /* Keyword.Pseudo */\\nbody .kr { color: #008000; font-weight: bold } /* Keyword.Reserved */\\nbody .kt { color: #B00040 } /* Keyword.Type */\\nbody .m { color: #666666 } /* Literal.Number */\\nbody .s { color: #BA2121 } /* Literal.String */\\nbody .na { color: #7D9029 } /* Name.Attribute */\\nbody .nb { color: #008000 } /* Name.Builtin */\\nbody .nc { color: #0000FF; font-weight: bold } /* Name.Class */\\nbody .no { color: #880000 } /* Name.Constant */\\nbody .nd { color: #AA22FF } /* Name.Decorator */\\nbody .ni { color: #999999; font-weight: bold } /* Name.Entity */\\nbody .ne { color: #D2413A; font-weight: bold } /* Name.Exception */\\nbody .nf { color: #0000FF } /* Name.Function */\\nbody .nl { color: #A0A000 } /* Name.Label */\\nbody .nn { color: #0000FF; font-weight: bold } /* Name.Namespace */\\nbody .nt { color: #008000; font-weight: bold } /* Name.Tag */\\nbody .nv { color: #19177C } /* Name.Variable */\\nbody .ow { color: #AA22FF; font-weight: bold } /* Operator.Word */\\nbody .w { color: #bbbbbb } /* Text.Whitespace */\\nbody .mb { color: #666666 } /* Literal.Number.Bin */\\nbody .mf { color: #666666 } /* Literal.Number.Float */\\nbody .mh { color: #666666 } /* Literal.Number.Hex */\\nbody .mi { color: #666666 } /* Literal.Number.Integer */\\nbody .mo { color: #666666 } /* Literal.Number.Oct */\\nbody .sa { color: #BA2121 } /* Literal.String.Affix */\\nbody .sb { color: #BA2121 } /* Literal.String.Backtick */\\nbody .sc { color: #BA2121 } /* Literal.String.Char */\\nbody .dl { color: #BA2121 } /* Literal.String.Delimiter */\\nbody .sd { color: #BA2121; font-style: italic } /* Literal.String.Doc */\\nbody .s2 { color: #BA2121 } /* Literal.String.Double */\\nbody .se { color: #BB6622; font-weight: bold } /* Literal.String.Escape */\\nbody .sh { color: #BA2121 } /* Literal.String.Heredoc */\\nbody .si { color: #BB6688; font-weight: bold } /* Literal.String.Interpol */\\nbody .sx { color: #008000 } /* Literal.String.Other */\\nbody .sr { color: #BB6688 } /* Literal.String.Regex */\\nbody .s1 { color: #BA2121 } /* Literal.String.Single */\\nbody .ss { color: #19177C } /* Literal.String.Symbol */\\nbody .bp { color: #008000 } /* Name.Builtin.Pseudo */\\nbody .fm { color: #0000FF } /* Name.Function.Magic */\\nbody .vc { color: #19177C } /* Name.Variable.Class */\\nbody .vg { color: #19177C } /* Name.Variable.Global */\\nbody .vi { color: #19177C } /* Name.Variable.Instance */\\nbody .vm { color: #19177C } /* Name.Variable.Magic */\\nbody .il { color: #666666 } /* Literal.Number.Integer.Long */\\n\\n  </style>\\n</head>\\n<body>\\n<h2></h2>\\n\\n<div class=\\\"highlight\\\"><pre><span></span><span class=\\\"k\\\">def</span> <span class=\\\"nf\\\">arbeitsl_geld_2_m_minus_eink_hh</span><span class=\\\"p\\\">(</span>\\n    <span class=\\\"n\\\">_regelbedarf_m_verm\\u00f6gens_check_hh</span><span class=\\\"p\\\">,</span>\\n    <span class=\\\"n\\\">kindergeld_m_hh</span><span class=\\\"p\\\">,</span>\\n    <span class=\\\"n\\\">unterhaltsvors_m_hh</span><span class=\\\"p\\\">,</span>\\n    <span class=\\\"n\\\">arbeitsl_geld_2_eink_hh</span><span class=\\\"p\\\">,</span>\\n<span class=\\\"p\\\">):</span>\\n    <span class=\\\"n\\\">out</span> <span class=\\\"o\\\">=</span> <span class=\\\"p\\\">(</span>\\n        <span class=\\\"n\\\">_regelbedarf_m_verm\\u00f6gens_check_hh</span>\\n        <span class=\\\"o\\\">-</span> <span class=\\\"n\\\">arbeitsl_geld_2_eink_hh</span>\\n        <span class=\\\"o\\\">-</span> <span class=\\\"n\\\">unterhaltsvors_m_hh</span>\\n        <span class=\\\"o\\\">-</span> <span class=\\\"n\\\">kindergeld_m_hh</span>\\n    <span class=\\\"p\\\">)</span>\\n    <span class=\\\"k\\\">return</span> <span class=\\\"n\\\">out</span>\\n</pre></div>\\n</body>\\n</html>\\n\",\"<!DOCTYPE html PUBLIC \\\"-//W3C//DTD HTML 4.01//EN\\\"\\n   \\\"http://www.w3.org/TR/html4/strict.dtd\\\">\\n<!--\\ngenerated by Pygments <https://pygments.org/>\\nCopyright 2006-2019 by the Pygments team.\\nLicensed under the BSD license, see LICENSE for details.\\n-->\\n<html>\\n<head>\\n  <title></title>\\n  <meta http-equiv=\\\"content-type\\\" content=\\\"text/html; charset=None\\\">\\n  <style type=\\\"text/css\\\">\\n/*\\ngenerated by Pygments <https://pygments.org/>\\nCopyright 2006-2019 by the Pygments team.\\nLicensed under the BSD license, see LICENSE for details.\\n*/\\ntd.linenos { background-color: #f0f0f0; padding-right: 10px; }\\nspan.lineno { background-color: #f0f0f0; padding: 0 5px 0 5px; }\\npre { line-height: 125%; }\\nbody .hll { background-color: #ffffcc }\\nbody  { background: #f8f8f8; }\\nbody .c { color: #408080; font-style: italic } /* Comment */\\nbody .err { border: 1px solid #FF0000 } /* Error */\\nbody .k { color: #008000; font-weight: bold } /* Keyword */\\nbody .o { color: #666666 } /* Operator */\\nbody .ch { color: #408080; font-style: italic } /* Comment.Hashbang */\\nbody .cm { color: #408080; font-style: italic } /* Comment.Multiline */\\nbody .cp { color: #BC7A00 } /* Comment.Preproc */\\nbody .cpf { color: #408080; font-style: italic } /* Comment.PreprocFile */\\nbody .c1 { color: #408080; font-style: italic } /* Comment.Single */\\nbody .cs { color: #408080; font-style: italic } /* Comment.Special */\\nbody .gd { color: #A00000 } /* Generic.Deleted */\\nbody .ge { font-style: italic } /* Generic.Emph */\\nbody .gr { color: #FF0000 } /* Generic.Error */\\nbody .gh { color: #000080; font-weight: bold } /* Generic.Heading */\\nbody .gi { color: #00A000 } /* Generic.Inserted */\\nbody .go { color: #888888 } /* Generic.Output */\\nbody .gp { color: #000080; font-weight: bold } /* Generic.Prompt */\\nbody .gs { font-weight: bold } /* Generic.Strong */\\nbody .gu { color: #800080; font-weight: bold } /* Generic.Subheading */\\nbody .gt { color: #0044DD } /* Generic.Traceback */\\nbody .kc { color: #008000; font-weight: bold } /* Keyword.Constant */\\nbody .kd { color: #008000; font-weight: bold } /* Keyword.Declaration */\\nbody .kn { color: #008000; font-weight: bold } /* Keyword.Namespace */\\nbody .kp { color: #008000 } /* Keyword.Pseudo */\\nbody .kr { color: #008000; font-weight: bold } /* Keyword.Reserved */\\nbody .kt { color: #B00040 } /* Keyword.Type */\\nbody .m { color: #666666 } /* Literal.Number */\\nbody .s { color: #BA2121 } /* Literal.String */\\nbody .na { color: #7D9029 } /* Name.Attribute */\\nbody .nb { color: #008000 } /* Name.Builtin */\\nbody .nc { color: #0000FF; font-weight: bold } /* Name.Class */\\nbody .no { color: #880000 } /* Name.Constant */\\nbody .nd { color: #AA22FF } /* Name.Decorator */\\nbody .ni { color: #999999; font-weight: bold } /* Name.Entity */\\nbody .ne { color: #D2413A; font-weight: bold } /* Name.Exception */\\nbody .nf { color: #0000FF } /* Name.Function */\\nbody .nl { color: #A0A000 } /* Name.Label */\\nbody .nn { color: #0000FF; font-weight: bold } /* Name.Namespace */\\nbody .nt { color: #008000; font-weight: bold } /* Name.Tag */\\nbody .nv { color: #19177C } /* Name.Variable */\\nbody .ow { color: #AA22FF; font-weight: bold } /* Operator.Word */\\nbody .w { color: #bbbbbb } /* Text.Whitespace */\\nbody .mb { color: #666666 } /* Literal.Number.Bin */\\nbody .mf { color: #666666 } /* Literal.Number.Float */\\nbody .mh { color: #666666 } /* Literal.Number.Hex */\\nbody .mi { color: #666666 } /* Literal.Number.Integer */\\nbody .mo { color: #666666 } /* Literal.Number.Oct */\\nbody .sa { color: #BA2121 } /* Literal.String.Affix */\\nbody .sb { color: #BA2121 } /* Literal.String.Backtick */\\nbody .sc { color: #BA2121 } /* Literal.String.Char */\\nbody .dl { color: #BA2121 } /* Literal.String.Delimiter */\\nbody .sd { color: #BA2121; font-style: italic } /* Literal.String.Doc */\\nbody .s2 { color: #BA2121 } /* Literal.String.Double */\\nbody .se { color: #BB6622; font-weight: bold } /* Literal.String.Escape */\\nbody .sh { color: #BA2121 } /* Literal.String.Heredoc */\\nbody .si { color: #BB6688; font-weight: bold } /* Literal.String.Interpol */\\nbody .sx { color: #008000 } /* Literal.String.Other */\\nbody .sr { color: #BB6688 } /* Literal.String.Regex */\\nbody .s1 { color: #BA2121 } /* Literal.String.Single */\\nbody .ss { color: #19177C } /* Literal.String.Symbol */\\nbody .bp { color: #008000 } /* Name.Builtin.Pseudo */\\nbody .fm { color: #0000FF } /* Name.Function.Magic */\\nbody .vc { color: #19177C } /* Name.Variable.Class */\\nbody .vg { color: #19177C } /* Name.Variable.Global */\\nbody .vi { color: #19177C } /* Name.Variable.Instance */\\nbody .vm { color: #19177C } /* Name.Variable.Magic */\\nbody .il { color: #666666 } /* Literal.Number.Integer.Long */\\n\\n  </style>\\n</head>\\n<body>\\n<h2></h2>\\n\\n<div class=\\\"highlight\\\"><pre><span></span><span class=\\\"k\\\">def</span> <span class=\\\"nf\\\">_st_kein_kind_freib_tu</span><span class=\\\"p\\\">(</span>\\n    <span class=\\\"n\\\">_zu_verst_eink_kein_kinderfreib_tu</span><span class=\\\"p\\\">,</span> <span class=\\\"n\\\">anz_erwachsene_tu</span><span class=\\\"p\\\">,</span> <span class=\\\"n\\\">eink_st_params</span>\\n<span class=\\\"p\\\">):</span>\\n    <span class=\\\"sd\\\">&quot;&quot;&quot; Taxes without child allowance.</span>\\n\\n<span class=\\\"sd\\\">    Parameters</span>\\n<span class=\\\"sd\\\">    ----------</span>\\n<span class=\\\"sd\\\">    _zu_verst_eink_kein_kinderfreib_tu</span>\\n<span class=\\\"sd\\\">    anz_erwachsene_tu</span>\\n<span class=\\\"sd\\\">    eink_st_params</span>\\n\\n<span class=\\\"sd\\\">    Returns</span>\\n<span class=\\\"sd\\\">    -------</span>\\n\\n<span class=\\\"sd\\\">    &quot;&quot;&quot;</span>\\n    <span class=\\\"n\\\">zu_verst_eink_per_indiv</span> <span class=\\\"o\\\">=</span> <span class=\\\"n\\\">_zu_verst_eink_kein_kinderfreib_tu</span> <span class=\\\"o\\\">/</span> <span class=\\\"n\\\">anz_erwachsene_tu</span>\\n\\n    <span class=\\\"k\\\">return</span> <span class=\\\"n\\\">anz_erwachsene_tu</span> <span class=\\\"o\\\">*</span> <span class=\\\"n\\\">_st_tarif</span><span class=\\\"p\\\">(</span><span class=\\\"n\\\">zu_verst_eink_per_indiv</span><span class=\\\"p\\\">,</span> <span class=\\\"n\\\">params</span><span class=\\\"o\\\">=</span><span class=\\\"n\\\">eink_st_params</span><span class=\\\"p\\\">)</span>\\n</pre></div>\\n</body>\\n</html>\\n\",\"<!DOCTYPE html PUBLIC \\\"-//W3C//DTD HTML 4.01//EN\\\"\\n   \\\"http://www.w3.org/TR/html4/strict.dtd\\\">\\n<!--\\ngenerated by Pygments <https://pygments.org/>\\nCopyright 2006-2019 by the Pygments team.\\nLicensed under the BSD license, see LICENSE for details.\\n-->\\n<html>\\n<head>\\n  <title></title>\\n  <meta http-equiv=\\\"content-type\\\" content=\\\"text/html; charset=None\\\">\\n  <style type=\\\"text/css\\\">\\n/*\\ngenerated by Pygments <https://pygments.org/>\\nCopyright 2006-2019 by the Pygments team.\\nLicensed under the BSD license, see LICENSE for details.\\n*/\\ntd.linenos { background-color: #f0f0f0; padding-right: 10px; }\\nspan.lineno { background-color: #f0f0f0; padding: 0 5px 0 5px; }\\npre { line-height: 125%; }\\nbody .hll { background-color: #ffffcc }\\nbody  { background: #f8f8f8; }\\nbody .c { color: #408080; font-style: italic } /* Comment */\\nbody .err { border: 1px solid #FF0000 } /* Error */\\nbody .k { color: #008000; font-weight: bold } /* Keyword */\\nbody .o { color: #666666 } /* Operator */\\nbody .ch { color: #408080; font-style: italic } /* Comment.Hashbang */\\nbody .cm { color: #408080; font-style: italic } /* Comment.Multiline */\\nbody .cp { color: #BC7A00 } /* Comment.Preproc */\\nbody .cpf { color: #408080; font-style: italic } /* Comment.PreprocFile */\\nbody .c1 { color: #408080; font-style: italic } /* Comment.Single */\\nbody .cs { color: #408080; font-style: italic } /* Comment.Special */\\nbody .gd { color: #A00000 } /* Generic.Deleted */\\nbody .ge { font-style: italic } /* Generic.Emph */\\nbody .gr { color: #FF0000 } /* Generic.Error */\\nbody .gh { color: #000080; font-weight: bold } /* Generic.Heading */\\nbody .gi { color: #00A000 } /* Generic.Inserted */\\nbody .go { color: #888888 } /* Generic.Output */\\nbody .gp { color: #000080; font-weight: bold } /* Generic.Prompt */\\nbody .gs { font-weight: bold } /* Generic.Strong */\\nbody .gu { color: #800080; font-weight: bold } /* Generic.Subheading */\\nbody .gt { color: #0044DD } /* Generic.Traceback */\\nbody .kc { color: #008000; font-weight: bold } /* Keyword.Constant */\\nbody .kd { color: #008000; font-weight: bold } /* Keyword.Declaration */\\nbody .kn { color: #008000; font-weight: bold } /* Keyword.Namespace */\\nbody .kp { color: #008000 } /* Keyword.Pseudo */\\nbody .kr { color: #008000; font-weight: bold } /* Keyword.Reserved */\\nbody .kt { color: #B00040 } /* Keyword.Type */\\nbody .m { color: #666666 } /* Literal.Number */\\nbody .s { color: #BA2121 } /* Literal.String */\\nbody .na { color: #7D9029 } /* Name.Attribute */\\nbody .nb { color: #008000 } /* Name.Builtin */\\nbody .nc { color: #0000FF; font-weight: bold } /* Name.Class */\\nbody .no { color: #880000 } /* Name.Constant */\\nbody .nd { color: #AA22FF } /* Name.Decorator */\\nbody .ni { color: #999999; font-weight: bold } /* Name.Entity */\\nbody .ne { color: #D2413A; font-weight: bold } /* Name.Exception */\\nbody .nf { color: #0000FF } /* Name.Function */\\nbody .nl { color: #A0A000 } /* Name.Label */\\nbody .nn { color: #0000FF; font-weight: bold } /* Name.Namespace */\\nbody .nt { color: #008000; font-weight: bold } /* Name.Tag */\\nbody .nv { color: #19177C } /* Name.Variable */\\nbody .ow { color: #AA22FF; font-weight: bold } /* Operator.Word */\\nbody .w { color: #bbbbbb } /* Text.Whitespace */\\nbody .mb { color: #666666 } /* Literal.Number.Bin */\\nbody .mf { color: #666666 } /* Literal.Number.Float */\\nbody .mh { color: #666666 } /* Literal.Number.Hex */\\nbody .mi { color: #666666 } /* Literal.Number.Integer */\\nbody .mo { color: #666666 } /* Literal.Number.Oct */\\nbody .sa { color: #BA2121 } /* Literal.String.Affix */\\nbody .sb { color: #BA2121 } /* Literal.String.Backtick */\\nbody .sc { color: #BA2121 } /* Literal.String.Char */\\nbody .dl { color: #BA2121 } /* Literal.String.Delimiter */\\nbody .sd { color: #BA2121; font-style: italic } /* Literal.String.Doc */\\nbody .s2 { color: #BA2121 } /* Literal.String.Double */\\nbody .se { color: #BB6622; font-weight: bold } /* Literal.String.Escape */\\nbody .sh { color: #BA2121 } /* Literal.String.Heredoc */\\nbody .si { color: #BB6688; font-weight: bold } /* Literal.String.Interpol */\\nbody .sx { color: #008000 } /* Literal.String.Other */\\nbody .sr { color: #BB6688 } /* Literal.String.Regex */\\nbody .s1 { color: #BA2121 } /* Literal.String.Single */\\nbody .ss { color: #19177C } /* Literal.String.Symbol */\\nbody .bp { color: #008000 } /* Name.Builtin.Pseudo */\\nbody .fm { color: #0000FF } /* Name.Function.Magic */\\nbody .vc { color: #19177C } /* Name.Variable.Class */\\nbody .vg { color: #19177C } /* Name.Variable.Global */\\nbody .vi { color: #19177C } /* Name.Variable.Instance */\\nbody .vm { color: #19177C } /* Name.Variable.Magic */\\nbody .il { color: #666666 } /* Literal.Number.Integer.Long */\\n\\n  </style>\\n</head>\\n<body>\\n<h2></h2>\\n\\n<div class=\\\"highlight\\\"><pre><span></span><span class=\\\"k\\\">def</span> <span class=\\\"nf\\\">_st_kind_freib_tu</span><span class=\\\"p\\\">(</span><span class=\\\"n\\\">_zu_verst_eink_kinderfreib_tu</span><span class=\\\"p\\\">,</span> <span class=\\\"n\\\">anz_erwachsene_tu</span><span class=\\\"p\\\">,</span> <span class=\\\"n\\\">eink_st_params</span><span class=\\\"p\\\">):</span>\\n    <span class=\\\"sd\\\">&quot;&quot;&quot;Taxes with child allowance.</span>\\n\\n<span class=\\\"sd\\\">    Parameters</span>\\n<span class=\\\"sd\\\">    ----------</span>\\n<span class=\\\"sd\\\">    _zu_verst_eink_kinderfreib_tu</span>\\n<span class=\\\"sd\\\">    anz_erwachsene_tu</span>\\n<span class=\\\"sd\\\">    eink_st_params</span>\\n\\n<span class=\\\"sd\\\">    Returns</span>\\n<span class=\\\"sd\\\">    -------</span>\\n\\n<span class=\\\"sd\\\">    &quot;&quot;&quot;</span>\\n    <span class=\\\"n\\\">zu_verst_eink_per_indiv</span> <span class=\\\"o\\\">=</span> <span class=\\\"n\\\">_zu_verst_eink_kinderfreib_tu</span> <span class=\\\"o\\\">/</span> <span class=\\\"n\\\">anz_erwachsene_tu</span>\\n\\n    <span class=\\\"k\\\">return</span> <span class=\\\"n\\\">anz_erwachsene_tu</span> <span class=\\\"o\\\">*</span> <span class=\\\"n\\\">_st_tarif</span><span class=\\\"p\\\">(</span><span class=\\\"n\\\">zu_verst_eink_per_indiv</span><span class=\\\"p\\\">,</span> <span class=\\\"n\\\">params</span><span class=\\\"o\\\">=</span><span class=\\\"n\\\">eink_st_params</span><span class=\\\"p\\\">)</span>\\n</pre></div>\\n</body>\\n</html>\\n\",\"<!DOCTYPE html PUBLIC \\\"-//W3C//DTD HTML 4.01//EN\\\"\\n   \\\"http://www.w3.org/TR/html4/strict.dtd\\\">\\n<!--\\ngenerated by Pygments <https://pygments.org/>\\nCopyright 2006-2019 by the Pygments team.\\nLicensed under the BSD license, see LICENSE for details.\\n-->\\n<html>\\n<head>\\n  <title></title>\\n  <meta http-equiv=\\\"content-type\\\" content=\\\"text/html; charset=None\\\">\\n  <style type=\\\"text/css\\\">\\n/*\\ngenerated by Pygments <https://pygments.org/>\\nCopyright 2006-2019 by the Pygments team.\\nLicensed under the BSD license, see LICENSE for details.\\n*/\\ntd.linenos { background-color: #f0f0f0; padding-right: 10px; }\\nspan.lineno { background-color: #f0f0f0; padding: 0 5px 0 5px; }\\npre { line-height: 125%; }\\nbody .hll { background-color: #ffffcc }\\nbody  { background: #f8f8f8; }\\nbody .c { color: #408080; font-style: italic } /* Comment */\\nbody .err { border: 1px solid #FF0000 } /* Error */\\nbody .k { color: #008000; font-weight: bold } /* Keyword */\\nbody .o { color: #666666 } /* Operator */\\nbody .ch { color: #408080; font-style: italic } /* Comment.Hashbang */\\nbody .cm { color: #408080; font-style: italic } /* Comment.Multiline */\\nbody .cp { color: #BC7A00 } /* Comment.Preproc */\\nbody .cpf { color: #408080; font-style: italic } /* Comment.PreprocFile */\\nbody .c1 { color: #408080; font-style: italic } /* Comment.Single */\\nbody .cs { color: #408080; font-style: italic } /* Comment.Special */\\nbody .gd { color: #A00000 } /* Generic.Deleted */\\nbody .ge { font-style: italic } /* Generic.Emph */\\nbody .gr { color: #FF0000 } /* Generic.Error */\\nbody .gh { color: #000080; font-weight: bold } /* Generic.Heading */\\nbody .gi { color: #00A000 } /* Generic.Inserted */\\nbody .go { color: #888888 } /* Generic.Output */\\nbody .gp { color: #000080; font-weight: bold } /* Generic.Prompt */\\nbody .gs { font-weight: bold } /* Generic.Strong */\\nbody .gu { color: #800080; font-weight: bold } /* Generic.Subheading */\\nbody .gt { color: #0044DD } /* Generic.Traceback */\\nbody .kc { color: #008000; font-weight: bold } /* Keyword.Constant */\\nbody .kd { color: #008000; font-weight: bold } /* Keyword.Declaration */\\nbody .kn { color: #008000; font-weight: bold } /* Keyword.Namespace */\\nbody .kp { color: #008000 } /* Keyword.Pseudo */\\nbody .kr { color: #008000; font-weight: bold } /* Keyword.Reserved */\\nbody .kt { color: #B00040 } /* Keyword.Type */\\nbody .m { color: #666666 } /* Literal.Number */\\nbody .s { color: #BA2121 } /* Literal.String */\\nbody .na { color: #7D9029 } /* Name.Attribute */\\nbody .nb { color: #008000 } /* Name.Builtin */\\nbody .nc { color: #0000FF; font-weight: bold } /* Name.Class */\\nbody .no { color: #880000 } /* Name.Constant */\\nbody .nd { color: #AA22FF } /* Name.Decorator */\\nbody .ni { color: #999999; font-weight: bold } /* Name.Entity */\\nbody .ne { color: #D2413A; font-weight: bold } /* Name.Exception */\\nbody .nf { color: #0000FF } /* Name.Function */\\nbody .nl { color: #A0A000 } /* Name.Label */\\nbody .nn { color: #0000FF; font-weight: bold } /* Name.Namespace */\\nbody .nt { color: #008000; font-weight: bold } /* Name.Tag */\\nbody .nv { color: #19177C } /* Name.Variable */\\nbody .ow { color: #AA22FF; font-weight: bold } /* Operator.Word */\\nbody .w { color: #bbbbbb } /* Text.Whitespace */\\nbody .mb { color: #666666 } /* Literal.Number.Bin */\\nbody .mf { color: #666666 } /* Literal.Number.Float */\\nbody .mh { color: #666666 } /* Literal.Number.Hex */\\nbody .mi { color: #666666 } /* Literal.Number.Integer */\\nbody .mo { color: #666666 } /* Literal.Number.Oct */\\nbody .sa { color: #BA2121 } /* Literal.String.Affix */\\nbody .sb { color: #BA2121 } /* Literal.String.Backtick */\\nbody .sc { color: #BA2121 } /* Literal.String.Char */\\nbody .dl { color: #BA2121 } /* Literal.String.Delimiter */\\nbody .sd { color: #BA2121; font-style: italic } /* Literal.String.Doc */\\nbody .s2 { color: #BA2121 } /* Literal.String.Double */\\nbody .se { color: #BB6622; font-weight: bold } /* Literal.String.Escape */\\nbody .sh { color: #BA2121 } /* Literal.String.Heredoc */\\nbody .si { color: #BB6688; font-weight: bold } /* Literal.String.Interpol */\\nbody .sx { color: #008000 } /* Literal.String.Other */\\nbody .sr { color: #BB6688 } /* Literal.String.Regex */\\nbody .s1 { color: #BA2121 } /* Literal.String.Single */\\nbody .ss { color: #19177C } /* Literal.String.Symbol */\\nbody .bp { color: #008000 } /* Name.Builtin.Pseudo */\\nbody .fm { color: #0000FF } /* Name.Function.Magic */\\nbody .vc { color: #19177C } /* Name.Variable.Class */\\nbody .vg { color: #19177C } /* Name.Variable.Global */\\nbody .vi { color: #19177C } /* Name.Variable.Instance */\\nbody .vm { color: #19177C } /* Name.Variable.Magic */\\nbody .il { color: #666666 } /* Literal.Number.Integer.Long */\\n\\n  </style>\\n</head>\\n<body>\\n<h2></h2>\\n\\n<div class=\\\"highlight\\\"><pre><span></span><span class=\\\"k\\\">def</span> <span class=\\\"nf\\\">_beantrage_kind_freib_tu</span><span class=\\\"p\\\">(</span>\\n    <span class=\\\"n\\\">_st_kein_kind_freib_tu</span><span class=\\\"p\\\">,</span> <span class=\\\"n\\\">_kindergeld_m_tu_basis</span><span class=\\\"p\\\">,</span> <span class=\\\"n\\\">_st_kind_freib_tu</span>\\n<span class=\\\"p\\\">):</span>\\n    <span class=\\\"sd\\\">&quot;&quot;&quot;Check if individual claims child allowance.</span>\\n\\n<span class=\\\"sd\\\">    Parameters</span>\\n<span class=\\\"sd\\\">    ----------</span>\\n<span class=\\\"sd\\\">    _st_kein_kind_freib_tu</span>\\n<span class=\\\"sd\\\">    _kindergeld_m_tu_basis</span>\\n<span class=\\\"sd\\\">    _st_kind_freib_tu</span>\\n\\n<span class=\\\"sd\\\">    Returns</span>\\n<span class=\\\"sd\\\">    -------</span>\\n\\n<span class=\\\"sd\\\">    &quot;&quot;&quot;</span>\\n    <span class=\\\"n\\\">st_kein_kind_freib</span> <span class=\\\"o\\\">=</span> <span class=\\\"n\\\">_st_kein_kind_freib_tu</span> <span class=\\\"o\\\">-</span> <span class=\\\"mi\\\">12</span> <span class=\\\"o\\\">*</span> <span class=\\\"n\\\">_kindergeld_m_tu_basis</span>\\n    <span class=\\\"k\\\">return</span> <span class=\\\"n\\\">st_kein_kind_freib</span> <span class=\\\"o\\\">&gt;</span> <span class=\\\"n\\\">_st_kind_freib_tu</span>\\n</pre></div>\\n</body>\\n</html>\\n\",\"<!DOCTYPE html PUBLIC \\\"-//W3C//DTD HTML 4.01//EN\\\"\\n   \\\"http://www.w3.org/TR/html4/strict.dtd\\\">\\n<!--\\ngenerated by Pygments <https://pygments.org/>\\nCopyright 2006-2019 by the Pygments team.\\nLicensed under the BSD license, see LICENSE for details.\\n-->\\n<html>\\n<head>\\n  <title></title>\\n  <meta http-equiv=\\\"content-type\\\" content=\\\"text/html; charset=None\\\">\\n  <style type=\\\"text/css\\\">\\n/*\\ngenerated by Pygments <https://pygments.org/>\\nCopyright 2006-2019 by the Pygments team.\\nLicensed under the BSD license, see LICENSE for details.\\n*/\\ntd.linenos { background-color: #f0f0f0; padding-right: 10px; }\\nspan.lineno { background-color: #f0f0f0; padding: 0 5px 0 5px; }\\npre { line-height: 125%; }\\nbody .hll { background-color: #ffffcc }\\nbody  { background: #f8f8f8; }\\nbody .c { color: #408080; font-style: italic } /* Comment */\\nbody .err { border: 1px solid #FF0000 } /* Error */\\nbody .k { color: #008000; font-weight: bold } /* Keyword */\\nbody .o { color: #666666 } /* Operator */\\nbody .ch { color: #408080; font-style: italic } /* Comment.Hashbang */\\nbody .cm { color: #408080; font-style: italic } /* Comment.Multiline */\\nbody .cp { color: #BC7A00 } /* Comment.Preproc */\\nbody .cpf { color: #408080; font-style: italic } /* Comment.PreprocFile */\\nbody .c1 { color: #408080; font-style: italic } /* Comment.Single */\\nbody .cs { color: #408080; font-style: italic } /* Comment.Special */\\nbody .gd { color: #A00000 } /* Generic.Deleted */\\nbody .ge { font-style: italic } /* Generic.Emph */\\nbody .gr { color: #FF0000 } /* Generic.Error */\\nbody .gh { color: #000080; font-weight: bold } /* Generic.Heading */\\nbody .gi { color: #00A000 } /* Generic.Inserted */\\nbody .go { color: #888888 } /* Generic.Output */\\nbody .gp { color: #000080; font-weight: bold } /* Generic.Prompt */\\nbody .gs { font-weight: bold } /* Generic.Strong */\\nbody .gu { color: #800080; font-weight: bold } /* Generic.Subheading */\\nbody .gt { color: #0044DD } /* Generic.Traceback */\\nbody .kc { color: #008000; font-weight: bold } /* Keyword.Constant */\\nbody .kd { color: #008000; font-weight: bold } /* Keyword.Declaration */\\nbody .kn { color: #008000; font-weight: bold } /* Keyword.Namespace */\\nbody .kp { color: #008000 } /* Keyword.Pseudo */\\nbody .kr { color: #008000; font-weight: bold } /* Keyword.Reserved */\\nbody .kt { color: #B00040 } /* Keyword.Type */\\nbody .m { color: #666666 } /* Literal.Number */\\nbody .s { color: #BA2121 } /* Literal.String */\\nbody .na { color: #7D9029 } /* Name.Attribute */\\nbody .nb { color: #008000 } /* Name.Builtin */\\nbody .nc { color: #0000FF; font-weight: bold } /* Name.Class */\\nbody .no { color: #880000 } /* Name.Constant */\\nbody .nd { color: #AA22FF } /* Name.Decorator */\\nbody .ni { color: #999999; font-weight: bold } /* Name.Entity */\\nbody .ne { color: #D2413A; font-weight: bold } /* Name.Exception */\\nbody .nf { color: #0000FF } /* Name.Function */\\nbody .nl { color: #A0A000 } /* Name.Label */\\nbody .nn { color: #0000FF; font-weight: bold } /* Name.Namespace */\\nbody .nt { color: #008000; font-weight: bold } /* Name.Tag */\\nbody .nv { color: #19177C } /* Name.Variable */\\nbody .ow { color: #AA22FF; font-weight: bold } /* Operator.Word */\\nbody .w { color: #bbbbbb } /* Text.Whitespace */\\nbody .mb { color: #666666 } /* Literal.Number.Bin */\\nbody .mf { color: #666666 } /* Literal.Number.Float */\\nbody .mh { color: #666666 } /* Literal.Number.Hex */\\nbody .mi { color: #666666 } /* Literal.Number.Integer */\\nbody .mo { color: #666666 } /* Literal.Number.Oct */\\nbody .sa { color: #BA2121 } /* Literal.String.Affix */\\nbody .sb { color: #BA2121 } /* Literal.String.Backtick */\\nbody .sc { color: #BA2121 } /* Literal.String.Char */\\nbody .dl { color: #BA2121 } /* Literal.String.Delimiter */\\nbody .sd { color: #BA2121; font-style: italic } /* Literal.String.Doc */\\nbody .s2 { color: #BA2121 } /* Literal.String.Double */\\nbody .se { color: #BB6622; font-weight: bold } /* Literal.String.Escape */\\nbody .sh { color: #BA2121 } /* Literal.String.Heredoc */\\nbody .si { color: #BB6688; font-weight: bold } /* Literal.String.Interpol */\\nbody .sx { color: #008000 } /* Literal.String.Other */\\nbody .sr { color: #BB6688 } /* Literal.String.Regex */\\nbody .s1 { color: #BA2121 } /* Literal.String.Single */\\nbody .ss { color: #19177C } /* Literal.String.Symbol */\\nbody .bp { color: #008000 } /* Name.Builtin.Pseudo */\\nbody .fm { color: #0000FF } /* Name.Function.Magic */\\nbody .vc { color: #19177C } /* Name.Variable.Class */\\nbody .vg { color: #19177C } /* Name.Variable.Global */\\nbody .vi { color: #19177C } /* Name.Variable.Instance */\\nbody .vm { color: #19177C } /* Name.Variable.Magic */\\nbody .il { color: #666666 } /* Literal.Number.Integer.Long */\\n\\n  </style>\\n</head>\\n<body>\\n<h2></h2>\\n\\n<div class=\\\"highlight\\\"><pre><span></span><span class=\\\"k\\\">def</span> <span class=\\\"nf\\\">kindergeld_m_hh</span><span class=\\\"p\\\">(</span><span class=\\\"n\\\">kindergeld_m</span><span class=\\\"p\\\">,</span> <span class=\\\"n\\\">hh_id</span><span class=\\\"p\\\">):</span>\\n    <span class=\\\"sd\\\">&quot;&quot;&quot;Aggregate Child benefit on the household level.</span>\\n\\n<span class=\\\"sd\\\">    Aggregate Child benefit on the household level, as we could have several tax_units</span>\\n<span class=\\\"sd\\\">    in one household.</span>\\n\\n<span class=\\\"sd\\\">    Parameters</span>\\n<span class=\\\"sd\\\">    ----------</span>\\n<span class=\\\"sd\\\">    kindergeld_m</span>\\n<span class=\\\"sd\\\">    hh_id</span>\\n\\n<span class=\\\"sd\\\">    Returns</span>\\n<span class=\\\"sd\\\">    -------</span>\\n\\n<span class=\\\"sd\\\">    &quot;&quot;&quot;</span>\\n    <span class=\\\"k\\\">return</span> <span class=\\\"n\\\">kindergeld_m</span><span class=\\\"o\\\">.</span><span class=\\\"n\\\">groupby</span><span class=\\\"p\\\">(</span><span class=\\\"n\\\">hh_id</span><span class=\\\"p\\\">)</span><span class=\\\"o\\\">.</span><span class=\\\"n\\\">sum</span><span class=\\\"p\\\">()</span>\\n</pre></div>\\n</body>\\n</html>\\n\",\"<!DOCTYPE html PUBLIC \\\"-//W3C//DTD HTML 4.01//EN\\\"\\n   \\\"http://www.w3.org/TR/html4/strict.dtd\\\">\\n<!--\\ngenerated by Pygments <https://pygments.org/>\\nCopyright 2006-2019 by the Pygments team.\\nLicensed under the BSD license, see LICENSE for details.\\n-->\\n<html>\\n<head>\\n  <title></title>\\n  <meta http-equiv=\\\"content-type\\\" content=\\\"text/html; charset=None\\\">\\n  <style type=\\\"text/css\\\">\\n/*\\ngenerated by Pygments <https://pygments.org/>\\nCopyright 2006-2019 by the Pygments team.\\nLicensed under the BSD license, see LICENSE for details.\\n*/\\ntd.linenos { background-color: #f0f0f0; padding-right: 10px; }\\nspan.lineno { background-color: #f0f0f0; padding: 0 5px 0 5px; }\\npre { line-height: 125%; }\\nbody .hll { background-color: #ffffcc }\\nbody  { background: #f8f8f8; }\\nbody .c { color: #408080; font-style: italic } /* Comment */\\nbody .err { border: 1px solid #FF0000 } /* Error */\\nbody .k { color: #008000; font-weight: bold } /* Keyword */\\nbody .o { color: #666666 } /* Operator */\\nbody .ch { color: #408080; font-style: italic } /* Comment.Hashbang */\\nbody .cm { color: #408080; font-style: italic } /* Comment.Multiline */\\nbody .cp { color: #BC7A00 } /* Comment.Preproc */\\nbody .cpf { color: #408080; font-style: italic } /* Comment.PreprocFile */\\nbody .c1 { color: #408080; font-style: italic } /* Comment.Single */\\nbody .cs { color: #408080; font-style: italic } /* Comment.Special */\\nbody .gd { color: #A00000 } /* Generic.Deleted */\\nbody .ge { font-style: italic } /* Generic.Emph */\\nbody .gr { color: #FF0000 } /* Generic.Error */\\nbody .gh { color: #000080; font-weight: bold } /* Generic.Heading */\\nbody .gi { color: #00A000 } /* Generic.Inserted */\\nbody .go { color: #888888 } /* Generic.Output */\\nbody .gp { color: #000080; font-weight: bold } /* Generic.Prompt */\\nbody .gs { font-weight: bold } /* Generic.Strong */\\nbody .gu { color: #800080; font-weight: bold } /* Generic.Subheading */\\nbody .gt { color: #0044DD } /* Generic.Traceback */\\nbody .kc { color: #008000; font-weight: bold } /* Keyword.Constant */\\nbody .kd { color: #008000; font-weight: bold } /* Keyword.Declaration */\\nbody .kn { color: #008000; font-weight: bold } /* Keyword.Namespace */\\nbody .kp { color: #008000 } /* Keyword.Pseudo */\\nbody .kr { color: #008000; font-weight: bold } /* Keyword.Reserved */\\nbody .kt { color: #B00040 } /* Keyword.Type */\\nbody .m { color: #666666 } /* Literal.Number */\\nbody .s { color: #BA2121 } /* Literal.String */\\nbody .na { color: #7D9029 } /* Name.Attribute */\\nbody .nb { color: #008000 } /* Name.Builtin */\\nbody .nc { color: #0000FF; font-weight: bold } /* Name.Class */\\nbody .no { color: #880000 } /* Name.Constant */\\nbody .nd { color: #AA22FF } /* Name.Decorator */\\nbody .ni { color: #999999; font-weight: bold } /* Name.Entity */\\nbody .ne { color: #D2413A; font-weight: bold } /* Name.Exception */\\nbody .nf { color: #0000FF } /* Name.Function */\\nbody .nl { color: #A0A000 } /* Name.Label */\\nbody .nn { color: #0000FF; font-weight: bold } /* Name.Namespace */\\nbody .nt { color: #008000; font-weight: bold } /* Name.Tag */\\nbody .nv { color: #19177C } /* Name.Variable */\\nbody .ow { color: #AA22FF; font-weight: bold } /* Operator.Word */\\nbody .w { color: #bbbbbb } /* Text.Whitespace */\\nbody .mb { color: #666666 } /* Literal.Number.Bin */\\nbody .mf { color: #666666 } /* Literal.Number.Float */\\nbody .mh { color: #666666 } /* Literal.Number.Hex */\\nbody .mi { color: #666666 } /* Literal.Number.Integer */\\nbody .mo { color: #666666 } /* Literal.Number.Oct */\\nbody .sa { color: #BA2121 } /* Literal.String.Affix */\\nbody .sb { color: #BA2121 } /* Literal.String.Backtick */\\nbody .sc { color: #BA2121 } /* Literal.String.Char */\\nbody .dl { color: #BA2121 } /* Literal.String.Delimiter */\\nbody .sd { color: #BA2121; font-style: italic } /* Literal.String.Doc */\\nbody .s2 { color: #BA2121 } /* Literal.String.Double */\\nbody .se { color: #BB6622; font-weight: bold } /* Literal.String.Escape */\\nbody .sh { color: #BA2121 } /* Literal.String.Heredoc */\\nbody .si { color: #BB6688; font-weight: bold } /* Literal.String.Interpol */\\nbody .sx { color: #008000 } /* Literal.String.Other */\\nbody .sr { color: #BB6688 } /* Literal.String.Regex */\\nbody .s1 { color: #BA2121 } /* Literal.String.Single */\\nbody .ss { color: #19177C } /* Literal.String.Symbol */\\nbody .bp { color: #008000 } /* Name.Builtin.Pseudo */\\nbody .fm { color: #0000FF } /* Name.Function.Magic */\\nbody .vc { color: #19177C } /* Name.Variable.Class */\\nbody .vg { color: #19177C } /* Name.Variable.Global */\\nbody .vi { color: #19177C } /* Name.Variable.Instance */\\nbody .vm { color: #19177C } /* Name.Variable.Magic */\\nbody .il { color: #666666 } /* Literal.Number.Integer.Long */\\n\\n  </style>\\n</head>\\n<body>\\n<h2></h2>\\n\\n<div class=\\\"highlight\\\"><pre><span></span><span class=\\\"k\\\">def</span> <span class=\\\"nf\\\">kindergeld_m_tu</span><span class=\\\"p\\\">(</span><span class=\\\"n\\\">kindergeld_m</span><span class=\\\"p\\\">,</span> <span class=\\\"n\\\">tu_id</span><span class=\\\"p\\\">):</span>\\n    <span class=\\\"sd\\\">&quot;&quot;&quot;Aggregate Child benefit on the tax unit level.</span>\\n\\n<span class=\\\"sd\\\">    Parameters</span>\\n<span class=\\\"sd\\\">    ----------</span>\\n<span class=\\\"sd\\\">    kindergeld_m</span>\\n<span class=\\\"sd\\\">    tu_id</span>\\n\\n<span class=\\\"sd\\\">    Returns</span>\\n<span class=\\\"sd\\\">    -------</span>\\n\\n<span class=\\\"sd\\\">    &quot;&quot;&quot;</span>\\n    <span class=\\\"k\\\">return</span> <span class=\\\"n\\\">kindergeld_m</span><span class=\\\"o\\\">.</span><span class=\\\"n\\\">groupby</span><span class=\\\"p\\\">(</span><span class=\\\"n\\\">tu_id</span><span class=\\\"p\\\">)</span><span class=\\\"o\\\">.</span><span class=\\\"n\\\">sum</span><span class=\\\"p\\\">()</span>\\n</pre></div>\\n</body>\\n</html>\\n\",\"<!DOCTYPE html PUBLIC \\\"-//W3C//DTD HTML 4.01//EN\\\"\\n   \\\"http://www.w3.org/TR/html4/strict.dtd\\\">\\n<!--\\ngenerated by Pygments <https://pygments.org/>\\nCopyright 2006-2019 by the Pygments team.\\nLicensed under the BSD license, see LICENSE for details.\\n-->\\n<html>\\n<head>\\n  <title></title>\\n  <meta http-equiv=\\\"content-type\\\" content=\\\"text/html; charset=None\\\">\\n  <style type=\\\"text/css\\\">\\n/*\\ngenerated by Pygments <https://pygments.org/>\\nCopyright 2006-2019 by the Pygments team.\\nLicensed under the BSD license, see LICENSE for details.\\n*/\\ntd.linenos { background-color: #f0f0f0; padding-right: 10px; }\\nspan.lineno { background-color: #f0f0f0; padding: 0 5px 0 5px; }\\npre { line-height: 125%; }\\nbody .hll { background-color: #ffffcc }\\nbody  { background: #f8f8f8; }\\nbody .c { color: #408080; font-style: italic } /* Comment */\\nbody .err { border: 1px solid #FF0000 } /* Error */\\nbody .k { color: #008000; font-weight: bold } /* Keyword */\\nbody .o { color: #666666 } /* Operator */\\nbody .ch { color: #408080; font-style: italic } /* Comment.Hashbang */\\nbody .cm { color: #408080; font-style: italic } /* Comment.Multiline */\\nbody .cp { color: #BC7A00 } /* Comment.Preproc */\\nbody .cpf { color: #408080; font-style: italic } /* Comment.PreprocFile */\\nbody .c1 { color: #408080; font-style: italic } /* Comment.Single */\\nbody .cs { color: #408080; font-style: italic } /* Comment.Special */\\nbody .gd { color: #A00000 } /* Generic.Deleted */\\nbody .ge { font-style: italic } /* Generic.Emph */\\nbody .gr { color: #FF0000 } /* Generic.Error */\\nbody .gh { color: #000080; font-weight: bold } /* Generic.Heading */\\nbody .gi { color: #00A000 } /* Generic.Inserted */\\nbody .go { color: #888888 } /* Generic.Output */\\nbody .gp { color: #000080; font-weight: bold } /* Generic.Prompt */\\nbody .gs { font-weight: bold } /* Generic.Strong */\\nbody .gu { color: #800080; font-weight: bold } /* Generic.Subheading */\\nbody .gt { color: #0044DD } /* Generic.Traceback */\\nbody .kc { color: #008000; font-weight: bold } /* Keyword.Constant */\\nbody .kd { color: #008000; font-weight: bold } /* Keyword.Declaration */\\nbody .kn { color: #008000; font-weight: bold } /* Keyword.Namespace */\\nbody .kp { color: #008000 } /* Keyword.Pseudo */\\nbody .kr { color: #008000; font-weight: bold } /* Keyword.Reserved */\\nbody .kt { color: #B00040 } /* Keyword.Type */\\nbody .m { color: #666666 } /* Literal.Number */\\nbody .s { color: #BA2121 } /* Literal.String */\\nbody .na { color: #7D9029 } /* Name.Attribute */\\nbody .nb { color: #008000 } /* Name.Builtin */\\nbody .nc { color: #0000FF; font-weight: bold } /* Name.Class */\\nbody .no { color: #880000 } /* Name.Constant */\\nbody .nd { color: #AA22FF } /* Name.Decorator */\\nbody .ni { color: #999999; font-weight: bold } /* Name.Entity */\\nbody .ne { color: #D2413A; font-weight: bold } /* Name.Exception */\\nbody .nf { color: #0000FF } /* Name.Function */\\nbody .nl { color: #A0A000 } /* Name.Label */\\nbody .nn { color: #0000FF; font-weight: bold } /* Name.Namespace */\\nbody .nt { color: #008000; font-weight: bold } /* Name.Tag */\\nbody .nv { color: #19177C } /* Name.Variable */\\nbody .ow { color: #AA22FF; font-weight: bold } /* Operator.Word */\\nbody .w { color: #bbbbbb } /* Text.Whitespace */\\nbody .mb { color: #666666 } /* Literal.Number.Bin */\\nbody .mf { color: #666666 } /* Literal.Number.Float */\\nbody .mh { color: #666666 } /* Literal.Number.Hex */\\nbody .mi { color: #666666 } /* Literal.Number.Integer */\\nbody .mo { color: #666666 } /* Literal.Number.Oct */\\nbody .sa { color: #BA2121 } /* Literal.String.Affix */\\nbody .sb { color: #BA2121 } /* Literal.String.Backtick */\\nbody .sc { color: #BA2121 } /* Literal.String.Char */\\nbody .dl { color: #BA2121 } /* Literal.String.Delimiter */\\nbody .sd { color: #BA2121; font-style: italic } /* Literal.String.Doc */\\nbody .s2 { color: #BA2121 } /* Literal.String.Double */\\nbody .se { color: #BB6622; font-weight: bold } /* Literal.String.Escape */\\nbody .sh { color: #BA2121 } /* Literal.String.Heredoc */\\nbody .si { color: #BB6688; font-weight: bold } /* Literal.String.Interpol */\\nbody .sx { color: #008000 } /* Literal.String.Other */\\nbody .sr { color: #BB6688 } /* Literal.String.Regex */\\nbody .s1 { color: #BA2121 } /* Literal.String.Single */\\nbody .ss { color: #19177C } /* Literal.String.Symbol */\\nbody .bp { color: #008000 } /* Name.Builtin.Pseudo */\\nbody .fm { color: #0000FF } /* Name.Function.Magic */\\nbody .vc { color: #19177C } /* Name.Variable.Class */\\nbody .vg { color: #19177C } /* Name.Variable.Global */\\nbody .vi { color: #19177C } /* Name.Variable.Instance */\\nbody .vm { color: #19177C } /* Name.Variable.Magic */\\nbody .il { color: #666666 } /* Literal.Number.Integer.Long */\\n\\n  </style>\\n</head>\\n<body>\\n<h2></h2>\\n\\n<div class=\\\"highlight\\\"><pre><span></span><span class=\\\"k\\\">def</span> <span class=\\\"nf\\\">_kindergeld_m_basis</span><span class=\\\"p\\\">(</span><span class=\\\"n\\\">tu_id</span><span class=\\\"p\\\">,</span> <span class=\\\"n\\\">kindergeld_anspruch</span><span class=\\\"p\\\">,</span> <span class=\\\"n\\\">kindergeld_params</span><span class=\\\"p\\\">):</span>\\n    <span class=\\\"sd\\\">&quot;&quot;&quot;Calculate the preliminary kindergeld.</span>\\n\\n<span class=\\\"sd\\\">    Parameters</span>\\n<span class=\\\"sd\\\">    ----------</span>\\n<span class=\\\"sd\\\">    tu_id</span>\\n<span class=\\\"sd\\\">    kindergeld_anspruch</span>\\n<span class=\\\"sd\\\">    kindergeld_params</span>\\n\\n<span class=\\\"sd\\\">    Returns</span>\\n<span class=\\\"sd\\\">    -------</span>\\n\\n<span class=\\\"sd\\\">    &quot;&quot;&quot;</span>\\n    <span class=\\\"c1\\\"># Kindergeld_Anspruch is the cumulative sum of eligible children.</span>\\n    <span class=\\\"n\\\">kumulativer_anspruch</span> <span class=\\\"o\\\">=</span> <span class=\\\"p\\\">(</span>\\n        <span class=\\\"p\\\">(</span><span class=\\\"n\\\">kindergeld_anspruch</span><span class=\\\"o\\\">.</span><span class=\\\"n\\\">astype</span><span class=\\\"p\\\">(</span><span class=\\\"nb\\\">int</span><span class=\\\"p\\\">))</span><span class=\\\"o\\\">.</span><span class=\\\"n\\\">groupby</span><span class=\\\"p\\\">(</span><span class=\\\"n\\\">tu_id</span><span class=\\\"p\\\">)</span><span class=\\\"o\\\">.</span><span class=\\\"n\\\">transform</span><span class=\\\"p\\\">(</span><span class=\\\"s2\\\">&quot;cumsum&quot;</span><span class=\\\"p\\\">)</span>\\n    <span class=\\\"p\\\">)</span>\\n    <span class=\\\"c1\\\"># Make sure that only eligible children get assigned kindergeld</span>\\n    <span class=\\\"n\\\">kumulativer_anspruch</span><span class=\\\"o\\\">.</span><span class=\\\"n\\\">loc</span><span class=\\\"p\\\">[</span><span class=\\\"o\\\">~</span><span class=\\\"n\\\">kindergeld_anspruch</span><span class=\\\"p\\\">]</span> <span class=\\\"o\\\">=</span> <span class=\\\"mi\\\">0</span>\\n    <span class=\\\"n\\\">out</span> <span class=\\\"o\\\">=</span> <span class=\\\"n\\\">kumulativer_anspruch</span><span class=\\\"o\\\">.</span><span class=\\\"n\\\">clip</span><span class=\\\"p\\\">(</span><span class=\\\"n\\\">upper</span><span class=\\\"o\\\">=</span><span class=\\\"mi\\\">4</span><span class=\\\"p\\\">)</span><span class=\\\"o\\\">.</span><span class=\\\"n\\\">replace</span><span class=\\\"p\\\">(</span><span class=\\\"n\\\">kindergeld_params</span><span class=\\\"p\\\">[</span><span class=\\\"s2\\\">&quot;kindergeld&quot;</span><span class=\\\"p\\\">])</span>\\n    <span class=\\\"k\\\">return</span> <span class=\\\"n\\\">out</span>\\n</pre></div>\\n</body>\\n</html>\\n\",\"<!DOCTYPE html PUBLIC \\\"-//W3C//DTD HTML 4.01//EN\\\"\\n   \\\"http://www.w3.org/TR/html4/strict.dtd\\\">\\n<!--\\ngenerated by Pygments <https://pygments.org/>\\nCopyright 2006-2019 by the Pygments team.\\nLicensed under the BSD license, see LICENSE for details.\\n-->\\n<html>\\n<head>\\n  <title></title>\\n  <meta http-equiv=\\\"content-type\\\" content=\\\"text/html; charset=None\\\">\\n  <style type=\\\"text/css\\\">\\n/*\\ngenerated by Pygments <https://pygments.org/>\\nCopyright 2006-2019 by the Pygments team.\\nLicensed under the BSD license, see LICENSE for details.\\n*/\\ntd.linenos { background-color: #f0f0f0; padding-right: 10px; }\\nspan.lineno { background-color: #f0f0f0; padding: 0 5px 0 5px; }\\npre { line-height: 125%; }\\nbody .hll { background-color: #ffffcc }\\nbody  { background: #f8f8f8; }\\nbody .c { color: #408080; font-style: italic } /* Comment */\\nbody .err { border: 1px solid #FF0000 } /* Error */\\nbody .k { color: #008000; font-weight: bold } /* Keyword */\\nbody .o { color: #666666 } /* Operator */\\nbody .ch { color: #408080; font-style: italic } /* Comment.Hashbang */\\nbody .cm { color: #408080; font-style: italic } /* Comment.Multiline */\\nbody .cp { color: #BC7A00 } /* Comment.Preproc */\\nbody .cpf { color: #408080; font-style: italic } /* Comment.PreprocFile */\\nbody .c1 { color: #408080; font-style: italic } /* Comment.Single */\\nbody .cs { color: #408080; font-style: italic } /* Comment.Special */\\nbody .gd { color: #A00000 } /* Generic.Deleted */\\nbody .ge { font-style: italic } /* Generic.Emph */\\nbody .gr { color: #FF0000 } /* Generic.Error */\\nbody .gh { color: #000080; font-weight: bold } /* Generic.Heading */\\nbody .gi { color: #00A000 } /* Generic.Inserted */\\nbody .go { color: #888888 } /* Generic.Output */\\nbody .gp { color: #000080; font-weight: bold } /* Generic.Prompt */\\nbody .gs { font-weight: bold } /* Generic.Strong */\\nbody .gu { color: #800080; font-weight: bold } /* Generic.Subheading */\\nbody .gt { color: #0044DD } /* Generic.Traceback */\\nbody .kc { color: #008000; font-weight: bold } /* Keyword.Constant */\\nbody .kd { color: #008000; font-weight: bold } /* Keyword.Declaration */\\nbody .kn { color: #008000; font-weight: bold } /* Keyword.Namespace */\\nbody .kp { color: #008000 } /* Keyword.Pseudo */\\nbody .kr { color: #008000; font-weight: bold } /* Keyword.Reserved */\\nbody .kt { color: #B00040 } /* Keyword.Type */\\nbody .m { color: #666666 } /* Literal.Number */\\nbody .s { color: #BA2121 } /* Literal.String */\\nbody .na { color: #7D9029 } /* Name.Attribute */\\nbody .nb { color: #008000 } /* Name.Builtin */\\nbody .nc { color: #0000FF; font-weight: bold } /* Name.Class */\\nbody .no { color: #880000 } /* Name.Constant */\\nbody .nd { color: #AA22FF } /* Name.Decorator */\\nbody .ni { color: #999999; font-weight: bold } /* Name.Entity */\\nbody .ne { color: #D2413A; font-weight: bold } /* Name.Exception */\\nbody .nf { color: #0000FF } /* Name.Function */\\nbody .nl { color: #A0A000 } /* Name.Label */\\nbody .nn { color: #0000FF; font-weight: bold } /* Name.Namespace */\\nbody .nt { color: #008000; font-weight: bold } /* Name.Tag */\\nbody .nv { color: #19177C } /* Name.Variable */\\nbody .ow { color: #AA22FF; font-weight: bold } /* Operator.Word */\\nbody .w { color: #bbbbbb } /* Text.Whitespace */\\nbody .mb { color: #666666 } /* Literal.Number.Bin */\\nbody .mf { color: #666666 } /* Literal.Number.Float */\\nbody .mh { color: #666666 } /* Literal.Number.Hex */\\nbody .mi { color: #666666 } /* Literal.Number.Integer */\\nbody .mo { color: #666666 } /* Literal.Number.Oct */\\nbody .sa { color: #BA2121 } /* Literal.String.Affix */\\nbody .sb { color: #BA2121 } /* Literal.String.Backtick */\\nbody .sc { color: #BA2121 } /* Literal.String.Char */\\nbody .dl { color: #BA2121 } /* Literal.String.Delimiter */\\nbody .sd { color: #BA2121; font-style: italic } /* Literal.String.Doc */\\nbody .s2 { color: #BA2121 } /* Literal.String.Double */\\nbody .se { color: #BB6622; font-weight: bold } /* Literal.String.Escape */\\nbody .sh { color: #BA2121 } /* Literal.String.Heredoc */\\nbody .si { color: #BB6688; font-weight: bold } /* Literal.String.Interpol */\\nbody .sx { color: #008000 } /* Literal.String.Other */\\nbody .sr { color: #BB6688 } /* Literal.String.Regex */\\nbody .s1 { color: #BA2121 } /* Literal.String.Single */\\nbody .ss { color: #19177C } /* Literal.String.Symbol */\\nbody .bp { color: #008000 } /* Name.Builtin.Pseudo */\\nbody .fm { color: #0000FF } /* Name.Function.Magic */\\nbody .vc { color: #19177C } /* Name.Variable.Class */\\nbody .vg { color: #19177C } /* Name.Variable.Global */\\nbody .vi { color: #19177C } /* Name.Variable.Instance */\\nbody .vm { color: #19177C } /* Name.Variable.Magic */\\nbody .il { color: #666666 } /* Literal.Number.Integer.Long */\\n\\n  </style>\\n</head>\\n<body>\\n<h2></h2>\\n\\n<div class=\\\"highlight\\\"><pre><span></span><span class=\\\"k\\\">def</span> <span class=\\\"nf\\\">_kindergeld_m_tu_basis</span><span class=\\\"p\\\">(</span><span class=\\\"n\\\">_kindergeld_m_basis</span><span class=\\\"p\\\">,</span> <span class=\\\"n\\\">tu_id</span><span class=\\\"p\\\">):</span>\\n    <span class=\\\"sd\\\">&quot;&quot;&quot;Aggregate the preliminary kindergeld on tax unit level.</span>\\n\\n<span class=\\\"sd\\\">    Parameters</span>\\n<span class=\\\"sd\\\">    ----------</span>\\n<span class=\\\"sd\\\">    _kindergeld_m_basis</span>\\n<span class=\\\"sd\\\">    tu_id</span>\\n\\n<span class=\\\"sd\\\">    Returns</span>\\n<span class=\\\"sd\\\">    -------</span>\\n\\n<span class=\\\"sd\\\">    &quot;&quot;&quot;</span>\\n    <span class=\\\"k\\\">return</span> <span class=\\\"n\\\">_kindergeld_m_basis</span><span class=\\\"o\\\">.</span><span class=\\\"n\\\">groupby</span><span class=\\\"p\\\">(</span><span class=\\\"n\\\">tu_id</span><span class=\\\"p\\\">)</span><span class=\\\"o\\\">.</span><span class=\\\"n\\\">sum</span><span class=\\\"p\\\">()</span>\\n</pre></div>\\n</body>\\n</html>\\n\",\"<!DOCTYPE html PUBLIC \\\"-//W3C//DTD HTML 4.01//EN\\\"\\n   \\\"http://www.w3.org/TR/html4/strict.dtd\\\">\\n<!--\\ngenerated by Pygments <https://pygments.org/>\\nCopyright 2006-2019 by the Pygments team.\\nLicensed under the BSD license, see LICENSE for details.\\n-->\\n<html>\\n<head>\\n  <title></title>\\n  <meta http-equiv=\\\"content-type\\\" content=\\\"text/html; charset=None\\\">\\n  <style type=\\\"text/css\\\">\\n/*\\ngenerated by Pygments <https://pygments.org/>\\nCopyright 2006-2019 by the Pygments team.\\nLicensed under the BSD license, see LICENSE for details.\\n*/\\ntd.linenos { background-color: #f0f0f0; padding-right: 10px; }\\nspan.lineno { background-color: #f0f0f0; padding: 0 5px 0 5px; }\\npre { line-height: 125%; }\\nbody .hll { background-color: #ffffcc }\\nbody  { background: #f8f8f8; }\\nbody .c { color: #408080; font-style: italic } /* Comment */\\nbody .err { border: 1px solid #FF0000 } /* Error */\\nbody .k { color: #008000; font-weight: bold } /* Keyword */\\nbody .o { color: #666666 } /* Operator */\\nbody .ch { color: #408080; font-style: italic } /* Comment.Hashbang */\\nbody .cm { color: #408080; font-style: italic } /* Comment.Multiline */\\nbody .cp { color: #BC7A00 } /* Comment.Preproc */\\nbody .cpf { color: #408080; font-style: italic } /* Comment.PreprocFile */\\nbody .c1 { color: #408080; font-style: italic } /* Comment.Single */\\nbody .cs { color: #408080; font-style: italic } /* Comment.Special */\\nbody .gd { color: #A00000 } /* Generic.Deleted */\\nbody .ge { font-style: italic } /* Generic.Emph */\\nbody .gr { color: #FF0000 } /* Generic.Error */\\nbody .gh { color: #000080; font-weight: bold } /* Generic.Heading */\\nbody .gi { color: #00A000 } /* Generic.Inserted */\\nbody .go { color: #888888 } /* Generic.Output */\\nbody .gp { color: #000080; font-weight: bold } /* Generic.Prompt */\\nbody .gs { font-weight: bold } /* Generic.Strong */\\nbody .gu { color: #800080; font-weight: bold } /* Generic.Subheading */\\nbody .gt { color: #0044DD } /* Generic.Traceback */\\nbody .kc { color: #008000; font-weight: bold } /* Keyword.Constant */\\nbody .kd { color: #008000; font-weight: bold } /* Keyword.Declaration */\\nbody .kn { color: #008000; font-weight: bold } /* Keyword.Namespace */\\nbody .kp { color: #008000 } /* Keyword.Pseudo */\\nbody .kr { color: #008000; font-weight: bold } /* Keyword.Reserved */\\nbody .kt { color: #B00040 } /* Keyword.Type */\\nbody .m { color: #666666 } /* Literal.Number */\\nbody .s { color: #BA2121 } /* Literal.String */\\nbody .na { color: #7D9029 } /* Name.Attribute */\\nbody .nb { color: #008000 } /* Name.Builtin */\\nbody .nc { color: #0000FF; font-weight: bold } /* Name.Class */\\nbody .no { color: #880000 } /* Name.Constant */\\nbody .nd { color: #AA22FF } /* Name.Decorator */\\nbody .ni { color: #999999; font-weight: bold } /* Name.Entity */\\nbody .ne { color: #D2413A; font-weight: bold } /* Name.Exception */\\nbody .nf { color: #0000FF } /* Name.Function */\\nbody .nl { color: #A0A000 } /* Name.Label */\\nbody .nn { color: #0000FF; font-weight: bold } /* Name.Namespace */\\nbody .nt { color: #008000; font-weight: bold } /* Name.Tag */\\nbody .nv { color: #19177C } /* Name.Variable */\\nbody .ow { color: #AA22FF; font-weight: bold } /* Operator.Word */\\nbody .w { color: #bbbbbb } /* Text.Whitespace */\\nbody .mb { color: #666666 } /* Literal.Number.Bin */\\nbody .mf { color: #666666 } /* Literal.Number.Float */\\nbody .mh { color: #666666 } /* Literal.Number.Hex */\\nbody .mi { color: #666666 } /* Literal.Number.Integer */\\nbody .mo { color: #666666 } /* Literal.Number.Oct */\\nbody .sa { color: #BA2121 } /* Literal.String.Affix */\\nbody .sb { color: #BA2121 } /* Literal.String.Backtick */\\nbody .sc { color: #BA2121 } /* Literal.String.Char */\\nbody .dl { color: #BA2121 } /* Literal.String.Delimiter */\\nbody .sd { color: #BA2121; font-style: italic } /* Literal.String.Doc */\\nbody .s2 { color: #BA2121 } /* Literal.String.Double */\\nbody .se { color: #BB6622; font-weight: bold } /* Literal.String.Escape */\\nbody .sh { color: #BA2121 } /* Literal.String.Heredoc */\\nbody .si { color: #BB6688; font-weight: bold } /* Literal.String.Interpol */\\nbody .sx { color: #008000 } /* Literal.String.Other */\\nbody .sr { color: #BB6688 } /* Literal.String.Regex */\\nbody .s1 { color: #BA2121 } /* Literal.String.Single */\\nbody .ss { color: #19177C } /* Literal.String.Symbol */\\nbody .bp { color: #008000 } /* Name.Builtin.Pseudo */\\nbody .fm { color: #0000FF } /* Name.Function.Magic */\\nbody .vc { color: #19177C } /* Name.Variable.Class */\\nbody .vg { color: #19177C } /* Name.Variable.Global */\\nbody .vi { color: #19177C } /* Name.Variable.Instance */\\nbody .vm { color: #19177C } /* Name.Variable.Magic */\\nbody .il { color: #666666 } /* Literal.Number.Integer.Long */\\n\\n  </style>\\n</head>\\n<body>\\n<h2></h2>\\n\\n<div class=\\\"highlight\\\"><pre><span></span><span class=\\\"k\\\">def</span> <span class=\\\"nf\\\">kindergeld_m_ab_1997</span><span class=\\\"p\\\">(</span>\\n    <span class=\\\"n\\\">_beantrage_kind_freib_tu</span><span class=\\\"p\\\">,</span> <span class=\\\"n\\\">_kindergeld_m_basis</span><span class=\\\"p\\\">,</span> <span class=\\\"n\\\">tu_id</span><span class=\\\"p\\\">,</span>\\n<span class=\\\"p\\\">):</span>\\n    <span class=\\\"sd\\\">&quot;&quot;&quot;Kindergeld calculation since 1997.</span>\\n\\n<span class=\\\"sd\\\">    Parameters</span>\\n<span class=\\\"sd\\\">    ----------</span>\\n<span class=\\\"sd\\\">    _beantrage_kind_freib_tu</span>\\n<span class=\\\"sd\\\">    _kindergeld_m_basis</span>\\n<span class=\\\"sd\\\">    tu_id</span>\\n\\n<span class=\\\"sd\\\">    Returns</span>\\n<span class=\\\"sd\\\">    -------</span>\\n\\n<span class=\\\"sd\\\">    &quot;&quot;&quot;</span>\\n    <span class=\\\"n\\\">_beantrage_kind_freib</span> <span class=\\\"o\\\">=</span> <span class=\\\"n\\\">tu_id</span><span class=\\\"o\\\">.</span><span class=\\\"n\\\">replace</span><span class=\\\"p\\\">(</span><span class=\\\"n\\\">_beantrage_kind_freib_tu</span><span class=\\\"p\\\">)</span>\\n    <span class=\\\"n\\\">out</span> <span class=\\\"o\\\">=</span> <span class=\\\"n\\\">_kindergeld_m_basis</span>\\n    <span class=\\\"n\\\">out</span><span class=\\\"o\\\">.</span><span class=\\\"n\\\">loc</span><span class=\\\"p\\\">[</span><span class=\\\"n\\\">_beantrage_kind_freib</span><span class=\\\"p\\\">]</span> <span class=\\\"o\\\">=</span> <span class=\\\"mi\\\">0</span>\\n    <span class=\\\"k\\\">return</span> <span class=\\\"n\\\">out</span>\\n</pre></div>\\n</body>\\n</html>\\n\",\"<!DOCTYPE html PUBLIC \\\"-//W3C//DTD HTML 4.01//EN\\\"\\n   \\\"http://www.w3.org/TR/html4/strict.dtd\\\">\\n<!--\\ngenerated by Pygments <https://pygments.org/>\\nCopyright 2006-2019 by the Pygments team.\\nLicensed under the BSD license, see LICENSE for details.\\n-->\\n<html>\\n<head>\\n  <title></title>\\n  <meta http-equiv=\\\"content-type\\\" content=\\\"text/html; charset=None\\\">\\n  <style type=\\\"text/css\\\">\\n/*\\ngenerated by Pygments <https://pygments.org/>\\nCopyright 2006-2019 by the Pygments team.\\nLicensed under the BSD license, see LICENSE for details.\\n*/\\ntd.linenos { background-color: #f0f0f0; padding-right: 10px; }\\nspan.lineno { background-color: #f0f0f0; padding: 0 5px 0 5px; }\\npre { line-height: 125%; }\\nbody .hll { background-color: #ffffcc }\\nbody  { background: #f8f8f8; }\\nbody .c { color: #408080; font-style: italic } /* Comment */\\nbody .err { border: 1px solid #FF0000 } /* Error */\\nbody .k { color: #008000; font-weight: bold } /* Keyword */\\nbody .o { color: #666666 } /* Operator */\\nbody .ch { color: #408080; font-style: italic } /* Comment.Hashbang */\\nbody .cm { color: #408080; font-style: italic } /* Comment.Multiline */\\nbody .cp { color: #BC7A00 } /* Comment.Preproc */\\nbody .cpf { color: #408080; font-style: italic } /* Comment.PreprocFile */\\nbody .c1 { color: #408080; font-style: italic } /* Comment.Single */\\nbody .cs { color: #408080; font-style: italic } /* Comment.Special */\\nbody .gd { color: #A00000 } /* Generic.Deleted */\\nbody .ge { font-style: italic } /* Generic.Emph */\\nbody .gr { color: #FF0000 } /* Generic.Error */\\nbody .gh { color: #000080; font-weight: bold } /* Generic.Heading */\\nbody .gi { color: #00A000 } /* Generic.Inserted */\\nbody .go { color: #888888 } /* Generic.Output */\\nbody .gp { color: #000080; font-weight: bold } /* Generic.Prompt */\\nbody .gs { font-weight: bold } /* Generic.Strong */\\nbody .gu { color: #800080; font-weight: bold } /* Generic.Subheading */\\nbody .gt { color: #0044DD } /* Generic.Traceback */\\nbody .kc { color: #008000; font-weight: bold } /* Keyword.Constant */\\nbody .kd { color: #008000; font-weight: bold } /* Keyword.Declaration */\\nbody .kn { color: #008000; font-weight: bold } /* Keyword.Namespace */\\nbody .kp { color: #008000 } /* Keyword.Pseudo */\\nbody .kr { color: #008000; font-weight: bold } /* Keyword.Reserved */\\nbody .kt { color: #B00040 } /* Keyword.Type */\\nbody .m { color: #666666 } /* Literal.Number */\\nbody .s { color: #BA2121 } /* Literal.String */\\nbody .na { color: #7D9029 } /* Name.Attribute */\\nbody .nb { color: #008000 } /* Name.Builtin */\\nbody .nc { color: #0000FF; font-weight: bold } /* Name.Class */\\nbody .no { color: #880000 } /* Name.Constant */\\nbody .nd { color: #AA22FF } /* Name.Decorator */\\nbody .ni { color: #999999; font-weight: bold } /* Name.Entity */\\nbody .ne { color: #D2413A; font-weight: bold } /* Name.Exception */\\nbody .nf { color: #0000FF } /* Name.Function */\\nbody .nl { color: #A0A000 } /* Name.Label */\\nbody .nn { color: #0000FF; font-weight: bold } /* Name.Namespace */\\nbody .nt { color: #008000; font-weight: bold } /* Name.Tag */\\nbody .nv { color: #19177C } /* Name.Variable */\\nbody .ow { color: #AA22FF; font-weight: bold } /* Operator.Word */\\nbody .w { color: #bbbbbb } /* Text.Whitespace */\\nbody .mb { color: #666666 } /* Literal.Number.Bin */\\nbody .mf { color: #666666 } /* Literal.Number.Float */\\nbody .mh { color: #666666 } /* Literal.Number.Hex */\\nbody .mi { color: #666666 } /* Literal.Number.Integer */\\nbody .mo { color: #666666 } /* Literal.Number.Oct */\\nbody .sa { color: #BA2121 } /* Literal.String.Affix */\\nbody .sb { color: #BA2121 } /* Literal.String.Backtick */\\nbody .sc { color: #BA2121 } /* Literal.String.Char */\\nbody .dl { color: #BA2121 } /* Literal.String.Delimiter */\\nbody .sd { color: #BA2121; font-style: italic } /* Literal.String.Doc */\\nbody .s2 { color: #BA2121 } /* Literal.String.Double */\\nbody .se { color: #BB6622; font-weight: bold } /* Literal.String.Escape */\\nbody .sh { color: #BA2121 } /* Literal.String.Heredoc */\\nbody .si { color: #BB6688; font-weight: bold } /* Literal.String.Interpol */\\nbody .sx { color: #008000 } /* Literal.String.Other */\\nbody .sr { color: #BB6688 } /* Literal.String.Regex */\\nbody .s1 { color: #BA2121 } /* Literal.String.Single */\\nbody .ss { color: #19177C } /* Literal.String.Symbol */\\nbody .bp { color: #008000 } /* Name.Builtin.Pseudo */\\nbody .fm { color: #0000FF } /* Name.Function.Magic */\\nbody .vc { color: #19177C } /* Name.Variable.Class */\\nbody .vg { color: #19177C } /* Name.Variable.Global */\\nbody .vi { color: #19177C } /* Name.Variable.Instance */\\nbody .vm { color: #19177C } /* Name.Variable.Magic */\\nbody .il { color: #666666 } /* Literal.Number.Integer.Long */\\n\\n  </style>\\n</head>\\n<body>\\n<h2></h2>\\n\\n<div class=\\\"highlight\\\"><pre><span></span><span class=\\\"k\\\">def</span> <span class=\\\"nf\\\">kindergeld_anspruch_nach_stunden</span><span class=\\\"p\\\">(</span>\\n    <span class=\\\"n\\\">alter</span><span class=\\\"p\\\">,</span> <span class=\\\"n\\\">in_ausbildung</span><span class=\\\"p\\\">,</span> <span class=\\\"n\\\">arbeitsstunden_w</span><span class=\\\"p\\\">,</span> <span class=\\\"n\\\">kindergeld_params</span>\\n<span class=\\\"p\\\">):</span>\\n    <span class=\\\"sd\\\">&quot;&quot;&quot;</span>\\n<span class=\\\"sd\\\">    Nowadays, kids must not work more than 20 hour</span>\\n<span class=\\\"sd\\\">    returns a boolean variable whether a specific person is a child eligible for</span>\\n<span class=\\\"sd\\\">    child benefit</span>\\n\\n<span class=\\\"sd\\\">    Parameters</span>\\n<span class=\\\"sd\\\">    ----------</span>\\n<span class=\\\"sd\\\">    alter</span>\\n<span class=\\\"sd\\\">    in_ausbildung</span>\\n<span class=\\\"sd\\\">    arbeitsstunden_w</span>\\n<span class=\\\"sd\\\">    kindergeld_params</span>\\n\\n<span class=\\\"sd\\\">    Returns</span>\\n<span class=\\\"sd\\\">    -------</span>\\n\\n<span class=\\\"sd\\\">    &quot;&quot;&quot;</span>\\n    <span class=\\\"n\\\">out</span> <span class=\\\"o\\\">=</span> <span class=\\\"n\\\">alter</span> <span class=\\\"o\\\">&lt;=</span> <span class=\\\"mi\\\">18</span>\\n    <span class=\\\"n\\\">out</span> <span class=\\\"o\\\">=</span> <span class=\\\"n\\\">out</span> <span class=\\\"o\\\">|</span> <span class=\\\"p\\\">(</span>\\n        <span class=\\\"p\\\">(</span><span class=\\\"mi\\\">19</span> <span class=\\\"o\\\">&lt;=</span> <span class=\\\"n\\\">alter</span><span class=\\\"p\\\">)</span>\\n        <span class=\\\"o\\\">&amp;</span> <span class=\\\"p\\\">(</span><span class=\\\"n\\\">alter</span> <span class=\\\"o\\\">&lt;=</span> <span class=\\\"n\\\">kindergeld_params</span><span class=\\\"p\\\">[</span><span class=\\\"s2\\\">&quot;kindergeld_hoechstalter&quot;</span><span class=\\\"p\\\">])</span>\\n        <span class=\\\"o\\\">&amp;</span> <span class=\\\"n\\\">in_ausbildung</span>\\n        <span class=\\\"o\\\">&amp;</span> <span class=\\\"p\\\">(</span><span class=\\\"n\\\">arbeitsstunden_w</span> <span class=\\\"o\\\">&lt;=</span> <span class=\\\"n\\\">kindergeld_params</span><span class=\\\"p\\\">[</span><span class=\\\"s2\\\">&quot;kindergeld_stundengrenze&quot;</span><span class=\\\"p\\\">])</span>\\n    <span class=\\\"p\\\">)</span>\\n\\n    <span class=\\\"k\\\">return</span> <span class=\\\"n\\\">out</span>\\n</pre></div>\\n</body>\\n</html>\\n\",\"Column in data\"],\"url\":[\"https://gettsim.readthedocs.io/en/v0.3.4/functions.html#gettsim.functions.arbeitsl_geld_2_m_minus_eink_hh\",\"https://gettsim.readthedocs.io/en/v0.3.4/functions.html#gettsim.functions._st_kein_kind_freib_tu\",\"https://gettsim.readthedocs.io/en/v0.3.4/functions.html#gettsim.functions._st_kind_freib_tu\",\"https://gettsim.readthedocs.io/en/v0.3.4/functions.html#gettsim.functions._beantrage_kind_freib_tu\",\"https://gettsim.readthedocs.io/en/v0.3.4/functions.html#gettsim.functions.kindergeld_m_hh\",\"https://gettsim.readthedocs.io/en/v0.3.4/functions.html#gettsim.functions.kindergeld_m_tu\",\"https://gettsim.readthedocs.io/en/v0.3.4/functions.html#gettsim.functions._kindergeld_m_basis\",\"https://gettsim.readthedocs.io/en/v0.3.4/functions.html#gettsim.functions._kindergeld_m_tu_basis\",\"https://gettsim.readthedocs.io/en/v0.3.4/functions.html#gettsim.functions.kindergeld_m_ab_1997\",\"https://gettsim.readthedocs.io/en/v0.3.4/functions.html#gettsim.functions.kindergeld_anspruch_nach_stunden\",\"https://gettsim.readthedocs.io/en/v0.3.4/functions.html#gettsim.functions.tu_id\"]},\"selected\":{\"id\":\"2144\"},\"selection_policy\":{\"id\":\"2145\"}},\"id\":\"2010\",\"type\":\"ColumnDataSource\"},{\"attributes\":{\"fill_color\":\"red\",\"size\":7},\"id\":\"2050\",\"type\":\"NormalHead\"},{\"attributes\":{\"end\":{\"id\":\"2044\"},\"line_color\":{\"value\":\"red\"},\"source\":null,\"start\":null,\"x_end\":{\"value\":-0.04890287426054563},\"x_start\":{\"value\":-0.04890287426054563},\"y_end\":{\"value\":-0.95},\"y_start\":{\"value\":-0.7166666666666667}},\"id\":\"2045\",\"type\":\"Arrow\"},{\"attributes\":{},\"id\":\"2147\",\"type\":\"UnionRenderers\"},{\"attributes\":{\"fill_color\":{\"value\":\"blue\"},\"size\":{\"units\":\"screen\",\"value\":15}},\"id\":\"2022\",\"type\":\"Circle\"},{\"attributes\":{\"fill_color\":\"red\",\"size\":7},\"id\":\"2044\",\"type\":\"NormalHead\"},{\"attributes\":{\"end\":{\"id\":\"2071\"},\"line_color\":{\"value\":\"red\"},\"source\":null,\"start\":null,\"x_end\":{\"value\":0.29847795018754725},\"x_start\":{\"value\":0.6526191755519072},\"y_end\":{\"value\":0.3648457830177845},\"y_start\":{\"value\":0.9684875503155489}},\"id\":\"2072\",\"type\":\"Arrow\"},{\"attributes\":{\"text\":\"Tax and Transfer System\"},\"id\":\"2003\",\"type\":\"Title\"},{\"attributes\":{\"end\":{\"id\":\"2041\"},\"line_color\":{\"value\":\"red\"},\"source\":null,\"start\":null,\"x_end\":{\"value\":-0.06791129581774859},\"x_start\":{\"value\":-0.23434162311005918},\"y_end\":{\"value\":-0.3023417548905363},\"y_start\":{\"value\":-0.030991578442797048}},\"id\":\"2042\",\"type\":\"Arrow\"}],\"root_ids\":[\"2004\"]},\"title\":\"Bokeh Application\",\"version\":\"2.1.1\"}};\n",
       "  var render_items = [{\"docid\":\"82f572e5-4987-450e-b75b-72a0de0d54f6\",\"root_ids\":[\"2004\"],\"roots\":{\"2004\":\"32f4e78d-211f-45f3-86bb-327fff7eb41d\"}}];\n",
       "  root.Bokeh.embed.embed_items_notebook(docs_json, render_items);\n",
       "\n",
       "  }\n",
       "  if (root.Bokeh !== undefined) {\n",
       "    embed_document(root);\n",
       "  } else {\n",
       "    var attempts = 0;\n",
       "    var timer = setInterval(function(root) {\n",
       "      if (root.Bokeh !== undefined) {\n",
       "        clearInterval(timer);\n",
       "        embed_document(root);\n",
       "      } else {\n",
       "        attempts++;\n",
       "        if (attempts > 100) {\n",
       "          clearInterval(timer);\n",
       "          console.log(\"Bokeh: ERROR: Unable to run BokehJS code because BokehJS library is missing\");\n",
       "        }\n",
       "      }\n",
       "    }, 10, root)\n",
       "  }\n",
       "})(window);"
      ],
      "application/vnd.bokehjs_exec.v0+json": ""
     },
     "metadata": {
      "application/vnd.bokehjs_exec.v0+json": {
       "id": "2004"
      }
     },
     "output_type": "display_data"
    },
    {
     "data": {
      "text/html": [
       "<div style=\"display: table;\"><div style=\"display: table-row;\"><div style=\"display: table-cell;\"><b title=\"bokeh.models.plots.Plot\">Plot</b>(</div><div style=\"display: table-cell;\">id&nbsp;=&nbsp;'2004', <span id=\"2289\" style=\"cursor: pointer;\">&hellip;)</span></div></div><div class=\"2288\" style=\"display: none;\"><div style=\"display: table-cell;\"></div><div style=\"display: table-cell;\">above&nbsp;=&nbsp;[],</div></div><div class=\"2288\" style=\"display: none;\"><div style=\"display: table-cell;\"></div><div style=\"display: table-cell;\">align&nbsp;=&nbsp;'start',</div></div><div class=\"2288\" style=\"display: none;\"><div style=\"display: table-cell;\"></div><div style=\"display: table-cell;\">aspect_ratio&nbsp;=&nbsp;None,</div></div><div class=\"2288\" style=\"display: none;\"><div style=\"display: table-cell;\"></div><div style=\"display: table-cell;\">aspect_scale&nbsp;=&nbsp;1,</div></div><div class=\"2288\" style=\"display: none;\"><div style=\"display: table-cell;\"></div><div style=\"display: table-cell;\">background&nbsp;=&nbsp;None,</div></div><div class=\"2288\" style=\"display: none;\"><div style=\"display: table-cell;\"></div><div style=\"display: table-cell;\">background_fill_alpha&nbsp;=&nbsp;1.0,</div></div><div class=\"2288\" style=\"display: none;\"><div style=\"display: table-cell;\"></div><div style=\"display: table-cell;\">background_fill_color&nbsp;=&nbsp;'#ffffff',</div></div><div class=\"2288\" style=\"display: none;\"><div style=\"display: table-cell;\"></div><div style=\"display: table-cell;\">below&nbsp;=&nbsp;[],</div></div><div class=\"2288\" style=\"display: none;\"><div style=\"display: table-cell;\"></div><div style=\"display: table-cell;\">border_fill_alpha&nbsp;=&nbsp;1.0,</div></div><div class=\"2288\" style=\"display: none;\"><div style=\"display: table-cell;\"></div><div style=\"display: table-cell;\">border_fill_color&nbsp;=&nbsp;'#ffffff',</div></div><div class=\"2288\" style=\"display: none;\"><div style=\"display: table-cell;\"></div><div style=\"display: table-cell;\">center&nbsp;=&nbsp;[Arrow(id='2036', ...), Arrow(id='2039', ...), Arrow(id='2042', ...), Arrow(id='2045', ...), Arrow(id='2048', ...), Arrow(id='2051', ...), Arrow(id='2054', ...), Arrow(id='2057', ...), Arrow(id='2060', ...), Arrow(id='2063', ...), Arrow(id='2066', ...), Arrow(id='2069', ...), Arrow(id='2072', ...), Arrow(id='2075', ...), LabelSet(id='2085', ...)],</div></div><div class=\"2288\" style=\"display: none;\"><div style=\"display: table-cell;\"></div><div style=\"display: table-cell;\">css_classes&nbsp;=&nbsp;[],</div></div><div class=\"2288\" style=\"display: none;\"><div style=\"display: table-cell;\"></div><div style=\"display: table-cell;\">disabled&nbsp;=&nbsp;False,</div></div><div class=\"2288\" style=\"display: none;\"><div style=\"display: table-cell;\"></div><div style=\"display: table-cell;\">extra_x_ranges&nbsp;=&nbsp;{},</div></div><div class=\"2288\" style=\"display: none;\"><div style=\"display: table-cell;\"></div><div style=\"display: table-cell;\">extra_y_ranges&nbsp;=&nbsp;{},</div></div><div class=\"2288\" style=\"display: none;\"><div style=\"display: table-cell;\"></div><div style=\"display: table-cell;\">frame_height&nbsp;=&nbsp;None,</div></div><div class=\"2288\" style=\"display: none;\"><div style=\"display: table-cell;\"></div><div style=\"display: table-cell;\">frame_width&nbsp;=&nbsp;None,</div></div><div class=\"2288\" style=\"display: none;\"><div style=\"display: table-cell;\"></div><div style=\"display: table-cell;\">height&nbsp;=&nbsp;None,</div></div><div class=\"2288\" style=\"display: none;\"><div style=\"display: table-cell;\"></div><div style=\"display: table-cell;\">height_policy&nbsp;=&nbsp;'auto',</div></div><div class=\"2288\" style=\"display: none;\"><div style=\"display: table-cell;\"></div><div style=\"display: table-cell;\">hidpi&nbsp;=&nbsp;True,</div></div><div class=\"2288\" style=\"display: none;\"><div style=\"display: table-cell;\"></div><div style=\"display: table-cell;\">js_event_callbacks&nbsp;=&nbsp;{},</div></div><div class=\"2288\" style=\"display: none;\"><div style=\"display: table-cell;\"></div><div style=\"display: table-cell;\">js_property_callbacks&nbsp;=&nbsp;{},</div></div><div class=\"2288\" style=\"display: none;\"><div style=\"display: table-cell;\"></div><div style=\"display: table-cell;\">left&nbsp;=&nbsp;[],</div></div><div class=\"2288\" style=\"display: none;\"><div style=\"display: table-cell;\"></div><div style=\"display: table-cell;\">lod_factor&nbsp;=&nbsp;10,</div></div><div class=\"2288\" style=\"display: none;\"><div style=\"display: table-cell;\"></div><div style=\"display: table-cell;\">lod_interval&nbsp;=&nbsp;300,</div></div><div class=\"2288\" style=\"display: none;\"><div style=\"display: table-cell;\"></div><div style=\"display: table-cell;\">lod_threshold&nbsp;=&nbsp;2000,</div></div><div class=\"2288\" style=\"display: none;\"><div style=\"display: table-cell;\"></div><div style=\"display: table-cell;\">lod_timeout&nbsp;=&nbsp;500,</div></div><div class=\"2288\" style=\"display: none;\"><div style=\"display: table-cell;\"></div><div style=\"display: table-cell;\">margin&nbsp;=&nbsp;(0, 0, 0, 0),</div></div><div class=\"2288\" style=\"display: none;\"><div style=\"display: table-cell;\"></div><div style=\"display: table-cell;\">match_aspect&nbsp;=&nbsp;False,</div></div><div class=\"2288\" style=\"display: none;\"><div style=\"display: table-cell;\"></div><div style=\"display: table-cell;\">max_height&nbsp;=&nbsp;None,</div></div><div class=\"2288\" style=\"display: none;\"><div style=\"display: table-cell;\"></div><div style=\"display: table-cell;\">max_width&nbsp;=&nbsp;None,</div></div><div class=\"2288\" style=\"display: none;\"><div style=\"display: table-cell;\"></div><div style=\"display: table-cell;\">min_border&nbsp;=&nbsp;5,</div></div><div class=\"2288\" style=\"display: none;\"><div style=\"display: table-cell;\"></div><div style=\"display: table-cell;\">min_border_bottom&nbsp;=&nbsp;None,</div></div><div class=\"2288\" style=\"display: none;\"><div style=\"display: table-cell;\"></div><div style=\"display: table-cell;\">min_border_left&nbsp;=&nbsp;None,</div></div><div class=\"2288\" style=\"display: none;\"><div style=\"display: table-cell;\"></div><div style=\"display: table-cell;\">min_border_right&nbsp;=&nbsp;None,</div></div><div class=\"2288\" style=\"display: none;\"><div style=\"display: table-cell;\"></div><div style=\"display: table-cell;\">min_border_top&nbsp;=&nbsp;None,</div></div><div class=\"2288\" style=\"display: none;\"><div style=\"display: table-cell;\"></div><div style=\"display: table-cell;\">min_height&nbsp;=&nbsp;None,</div></div><div class=\"2288\" style=\"display: none;\"><div style=\"display: table-cell;\"></div><div style=\"display: table-cell;\">min_width&nbsp;=&nbsp;None,</div></div><div class=\"2288\" style=\"display: none;\"><div style=\"display: table-cell;\"></div><div style=\"display: table-cell;\">name&nbsp;=&nbsp;None,</div></div><div class=\"2288\" style=\"display: none;\"><div style=\"display: table-cell;\"></div><div style=\"display: table-cell;\">outline_line_alpha&nbsp;=&nbsp;1.0,</div></div><div class=\"2288\" style=\"display: none;\"><div style=\"display: table-cell;\"></div><div style=\"display: table-cell;\">outline_line_cap&nbsp;=&nbsp;'butt',</div></div><div class=\"2288\" style=\"display: none;\"><div style=\"display: table-cell;\"></div><div style=\"display: table-cell;\">outline_line_color&nbsp;=&nbsp;'#e5e5e5',</div></div><div class=\"2288\" style=\"display: none;\"><div style=\"display: table-cell;\"></div><div style=\"display: table-cell;\">outline_line_dash&nbsp;=&nbsp;[],</div></div><div class=\"2288\" style=\"display: none;\"><div style=\"display: table-cell;\"></div><div style=\"display: table-cell;\">outline_line_dash_offset&nbsp;=&nbsp;0,</div></div><div class=\"2288\" style=\"display: none;\"><div style=\"display: table-cell;\"></div><div style=\"display: table-cell;\">outline_line_join&nbsp;=&nbsp;'bevel',</div></div><div class=\"2288\" style=\"display: none;\"><div style=\"display: table-cell;\"></div><div style=\"display: table-cell;\">outline_line_width&nbsp;=&nbsp;1,</div></div><div class=\"2288\" style=\"display: none;\"><div style=\"display: table-cell;\"></div><div style=\"display: table-cell;\">output_backend&nbsp;=&nbsp;'canvas',</div></div><div class=\"2288\" style=\"display: none;\"><div style=\"display: table-cell;\"></div><div style=\"display: table-cell;\">plot_height&nbsp;=&nbsp;600,</div></div><div class=\"2288\" style=\"display: none;\"><div style=\"display: table-cell;\"></div><div style=\"display: table-cell;\">plot_width&nbsp;=&nbsp;600,</div></div><div class=\"2288\" style=\"display: none;\"><div style=\"display: table-cell;\"></div><div style=\"display: table-cell;\">renderers&nbsp;=&nbsp;[GraphRenderer(id='2008', ...)],</div></div><div class=\"2288\" style=\"display: none;\"><div style=\"display: table-cell;\"></div><div style=\"display: table-cell;\">reset_policy&nbsp;=&nbsp;'standard',</div></div><div class=\"2288\" style=\"display: none;\"><div style=\"display: table-cell;\"></div><div style=\"display: table-cell;\">right&nbsp;=&nbsp;[],</div></div><div class=\"2288\" style=\"display: none;\"><div style=\"display: table-cell;\"></div><div style=\"display: table-cell;\">sizing_mode&nbsp;=&nbsp;None,</div></div><div class=\"2288\" style=\"display: none;\"><div style=\"display: table-cell;\"></div><div style=\"display: table-cell;\">subscribed_events&nbsp;=&nbsp;[],</div></div><div class=\"2288\" style=\"display: none;\"><div style=\"display: table-cell;\"></div><div style=\"display: table-cell;\">tags&nbsp;=&nbsp;[],</div></div><div class=\"2288\" style=\"display: none;\"><div style=\"display: table-cell;\"></div><div style=\"display: table-cell;\">title&nbsp;=&nbsp;Title(id='2003', ...),</div></div><div class=\"2288\" style=\"display: none;\"><div style=\"display: table-cell;\"></div><div style=\"display: table-cell;\">title_location&nbsp;=&nbsp;'above',</div></div><div class=\"2288\" style=\"display: none;\"><div style=\"display: table-cell;\"></div><div style=\"display: table-cell;\">toolbar&nbsp;=&nbsp;Toolbar(id='2081', ...),</div></div><div class=\"2288\" style=\"display: none;\"><div style=\"display: table-cell;\"></div><div style=\"display: table-cell;\">toolbar_location&nbsp;=&nbsp;'right',</div></div><div class=\"2288\" style=\"display: none;\"><div style=\"display: table-cell;\"></div><div style=\"display: table-cell;\">toolbar_sticky&nbsp;=&nbsp;True,</div></div><div class=\"2288\" style=\"display: none;\"><div style=\"display: table-cell;\"></div><div style=\"display: table-cell;\">visible&nbsp;=&nbsp;True,</div></div><div class=\"2288\" style=\"display: none;\"><div style=\"display: table-cell;\"></div><div style=\"display: table-cell;\">width&nbsp;=&nbsp;None,</div></div><div class=\"2288\" style=\"display: none;\"><div style=\"display: table-cell;\"></div><div style=\"display: table-cell;\">width_policy&nbsp;=&nbsp;'auto',</div></div><div class=\"2288\" style=\"display: none;\"><div style=\"display: table-cell;\"></div><div style=\"display: table-cell;\">x_range&nbsp;=&nbsp;Range1d(id='1001', ...),</div></div><div class=\"2288\" style=\"display: none;\"><div style=\"display: table-cell;\"></div><div style=\"display: table-cell;\">x_scale&nbsp;=&nbsp;LinearScale(id='2130', ...),</div></div><div class=\"2288\" style=\"display: none;\"><div style=\"display: table-cell;\"></div><div style=\"display: table-cell;\">y_range&nbsp;=&nbsp;Range1d(id='1002', ...),</div></div><div class=\"2288\" style=\"display: none;\"><div style=\"display: table-cell;\"></div><div style=\"display: table-cell;\">y_scale&nbsp;=&nbsp;LinearScale(id='2129', ...))</div></div></div>\n",
       "<script>\n",
       "(function() {\n",
       "  var expanded = false;\n",
       "  var ellipsis = document.getElementById(\"2289\");\n",
       "  ellipsis.addEventListener(\"click\", function() {\n",
       "    var rows = document.getElementsByClassName(\"2288\");\n",
       "    for (var i = 0; i < rows.length; i++) {\n",
       "      var el = rows[i];\n",
       "      el.style.display = expanded ? \"none\" : \"table-row\";\n",
       "    }\n",
       "    ellipsis.innerHTML = expanded ? \"&hellip;)\" : \"&lsaquo;&lsaquo;&lsaquo;\";\n",
       "    expanded = !expanded;\n",
       "  });\n",
       "})();\n",
       "</script>\n"
      ],
      "text/plain": [
       "Plot(id='2004', ...)"
      ]
     },
     "execution_count": 27,
     "metadata": {},
     "output_type": "execute_result"
    },
    {
     "data": {
      "application/javascript": [
       "\n",
       "            setTimeout(function() {\n",
       "                var nbb_cell_id = 27;\n",
       "                var nbb_unformatted_code = \"selectors = {\\\"type\\\": \\\"neighbors\\\", \\\"node\\\": \\\"kindergeld_m\\\", \\\"order\\\": 2}\\nplot_dag(functions=policy_functions, selectors=selectors)\";\n",
       "                var nbb_formatted_code = \"selectors = {\\\"type\\\": \\\"neighbors\\\", \\\"node\\\": \\\"kindergeld_m\\\", \\\"order\\\": 2}\\nplot_dag(functions=policy_functions, selectors=selectors)\";\n",
       "                var nbb_cells = Jupyter.notebook.get_cells();\n",
       "                for (var i = 0; i < nbb_cells.length; ++i) {\n",
       "                    if (nbb_cells[i].input_prompt_number == nbb_cell_id) {\n",
       "                        if (nbb_cells[i].get_text() == nbb_unformatted_code) {\n",
       "                             nbb_cells[i].set_text(nbb_formatted_code);\n",
       "                        }\n",
       "                        break;\n",
       "                    }\n",
       "                }\n",
       "            }, 500);\n",
       "            "
      ],
      "text/plain": [
       "<IPython.core.display.Javascript object>"
      ]
     },
     "metadata": {},
     "output_type": "display_data"
    }
   ],
   "source": [
    "selectors = {\"type\": \"neighbors\", \"node\": \"kindergeld_m\", \"order\": 2}\n",
    "plot_dag(functions=policy_functions, selectors=selectors)"
   ]
  },
  {
   "cell_type": "markdown",
   "metadata": {},
   "source": [
    "## Computing variables of interest\n",
    "\n",
    "Once we have inspected the DAG, we now have an impression of the various input variables and functions that influence our variable  of interest. As a next step, we will load a set of simulated household data and inspect how we can compute the *Kindergeld* using `compute_taxes_and_transfers` and use the function's features and error messages to aid us in this process."
   ]
  },
  {
   "cell_type": "markdown",
   "metadata": {},
   "source": [
    "### Simulated data\n",
    "\n",
    "We load a pre-defined simulated data set from a .csv-file. It contains information on households with two adults (age 50) and zero, one, or two children which are either 5 or 10 years old. Each household type occurs with the same frequency in the data. \n",
    "\n",
    "The household observations are otherwise identical i.e. the households with children are just replications of the child-free households and for each set of adults with a given income, there are two counterparts, a set of adults with one child and and a set of adults with two children. \n",
    "\n",
    "The loaded dataset is sorted accordingly. The first observations only contain child-free individuals while the last observations show the two-child households.\n",
    "\n",
    "You can look up the meaning of the various column names [here](https://refersgettsim.readthedocs.io/en/stable/crosswalk.html)."
   ]
  },
  {
   "cell_type": "code",
   "execution_count": 27,
   "metadata": {},
   "outputs": [
    {
     "data": {
      "text/html": [
       "<div>\n",
       "<style scoped>\n",
       "    .dataframe tbody tr th:only-of-type {\n",
       "        vertical-align: middle;\n",
       "    }\n",
       "\n",
       "    .dataframe tbody tr th {\n",
       "        vertical-align: top;\n",
       "    }\n",
       "\n",
       "    .dataframe thead th {\n",
       "        text-align: right;\n",
       "    }\n",
       "</style>\n",
       "<table border=\"1\" class=\"dataframe\">\n",
       "  <thead>\n",
       "    <tr style=\"text-align: right;\">\n",
       "      <th></th>\n",
       "      <th>p_id</th>\n",
       "      <th>hh_id</th>\n",
       "      <th>tu_id</th>\n",
       "      <th>bruttolohn_m</th>\n",
       "      <th>vermögen_hh</th>\n",
       "      <th>prv_krankenv</th>\n",
       "      <th>alter</th>\n",
       "      <th>hat_kinder</th>\n",
       "      <th>kind</th>\n",
       "      <th>anz_minderj_hh</th>\n",
       "      <th>...</th>\n",
       "      <th>vermiet_eink_m</th>\n",
       "      <th>kapital_eink_m</th>\n",
       "      <th>prv_rente_beitr_m</th>\n",
       "      <th>wohnort_ost</th>\n",
       "      <th>jahr_renteneintr</th>\n",
       "      <th>betreuungskost_m</th>\n",
       "      <th>in_ausbildung</th>\n",
       "      <th>behinderungsgrad</th>\n",
       "      <th>arbeitsstunden_w</th>\n",
       "      <th>alleinerziehend</th>\n",
       "    </tr>\n",
       "  </thead>\n",
       "  <tbody>\n",
       "    <tr>\n",
       "      <th>0</th>\n",
       "      <td>0</td>\n",
       "      <td>0</td>\n",
       "      <td>0</td>\n",
       "      <td>1500.0</td>\n",
       "      <td>0</td>\n",
       "      <td>False</td>\n",
       "      <td>50</td>\n",
       "      <td>False</td>\n",
       "      <td>False</td>\n",
       "      <td>0</td>\n",
       "      <td>...</td>\n",
       "      <td>0.0</td>\n",
       "      <td>0.0</td>\n",
       "      <td>0.0</td>\n",
       "      <td>False</td>\n",
       "      <td>2100.0</td>\n",
       "      <td>0.0</td>\n",
       "      <td>False</td>\n",
       "      <td>0.0</td>\n",
       "      <td>40.0</td>\n",
       "      <td>False</td>\n",
       "    </tr>\n",
       "    <tr>\n",
       "      <th>1</th>\n",
       "      <td>1</td>\n",
       "      <td>0</td>\n",
       "      <td>0</td>\n",
       "      <td>1500.0</td>\n",
       "      <td>0</td>\n",
       "      <td>False</td>\n",
       "      <td>50</td>\n",
       "      <td>False</td>\n",
       "      <td>False</td>\n",
       "      <td>0</td>\n",
       "      <td>...</td>\n",
       "      <td>0.0</td>\n",
       "      <td>0.0</td>\n",
       "      <td>0.0</td>\n",
       "      <td>False</td>\n",
       "      <td>2100.0</td>\n",
       "      <td>0.0</td>\n",
       "      <td>False</td>\n",
       "      <td>0.0</td>\n",
       "      <td>40.0</td>\n",
       "      <td>False</td>\n",
       "    </tr>\n",
       "    <tr>\n",
       "      <th>2</th>\n",
       "      <td>4</td>\n",
       "      <td>1</td>\n",
       "      <td>1</td>\n",
       "      <td>1550.0</td>\n",
       "      <td>0</td>\n",
       "      <td>False</td>\n",
       "      <td>50</td>\n",
       "      <td>False</td>\n",
       "      <td>False</td>\n",
       "      <td>0</td>\n",
       "      <td>...</td>\n",
       "      <td>0.0</td>\n",
       "      <td>0.0</td>\n",
       "      <td>0.0</td>\n",
       "      <td>False</td>\n",
       "      <td>2100.0</td>\n",
       "      <td>0.0</td>\n",
       "      <td>False</td>\n",
       "      <td>0.0</td>\n",
       "      <td>40.0</td>\n",
       "      <td>False</td>\n",
       "    </tr>\n",
       "    <tr>\n",
       "      <th>3</th>\n",
       "      <td>5</td>\n",
       "      <td>1</td>\n",
       "      <td>1</td>\n",
       "      <td>1550.0</td>\n",
       "      <td>0</td>\n",
       "      <td>False</td>\n",
       "      <td>50</td>\n",
       "      <td>False</td>\n",
       "      <td>False</td>\n",
       "      <td>0</td>\n",
       "      <td>...</td>\n",
       "      <td>0.0</td>\n",
       "      <td>0.0</td>\n",
       "      <td>0.0</td>\n",
       "      <td>False</td>\n",
       "      <td>2100.0</td>\n",
       "      <td>0.0</td>\n",
       "      <td>False</td>\n",
       "      <td>0.0</td>\n",
       "      <td>40.0</td>\n",
       "      <td>False</td>\n",
       "    </tr>\n",
       "    <tr>\n",
       "      <th>4</th>\n",
       "      <td>8</td>\n",
       "      <td>2</td>\n",
       "      <td>2</td>\n",
       "      <td>1600.0</td>\n",
       "      <td>0</td>\n",
       "      <td>False</td>\n",
       "      <td>50</td>\n",
       "      <td>False</td>\n",
       "      <td>False</td>\n",
       "      <td>0</td>\n",
       "      <td>...</td>\n",
       "      <td>0.0</td>\n",
       "      <td>0.0</td>\n",
       "      <td>0.0</td>\n",
       "      <td>False</td>\n",
       "      <td>2100.0</td>\n",
       "      <td>0.0</td>\n",
       "      <td>False</td>\n",
       "      <td>0.0</td>\n",
       "      <td>40.0</td>\n",
       "      <td>False</td>\n",
       "    </tr>\n",
       "    <tr>\n",
       "      <th>...</th>\n",
       "      <td>...</td>\n",
       "      <td>...</td>\n",
       "      <td>...</td>\n",
       "      <td>...</td>\n",
       "      <td>...</td>\n",
       "      <td>...</td>\n",
       "      <td>...</td>\n",
       "      <td>...</td>\n",
       "      <td>...</td>\n",
       "      <td>...</td>\n",
       "      <td>...</td>\n",
       "      <td>...</td>\n",
       "      <td>...</td>\n",
       "      <td>...</td>\n",
       "      <td>...</td>\n",
       "      <td>...</td>\n",
       "      <td>...</td>\n",
       "      <td>...</td>\n",
       "      <td>...</td>\n",
       "      <td>...</td>\n",
       "      <td>...</td>\n",
       "    </tr>\n",
       "    <tr>\n",
       "      <th>1174</th>\n",
       "      <td>2519</td>\n",
       "      <td>2129</td>\n",
       "      <td>2129</td>\n",
       "      <td>NaN</td>\n",
       "      <td>0</td>\n",
       "      <td>False</td>\n",
       "      <td>5</td>\n",
       "      <td>False</td>\n",
       "      <td>True</td>\n",
       "      <td>2</td>\n",
       "      <td>...</td>\n",
       "      <td>NaN</td>\n",
       "      <td>NaN</td>\n",
       "      <td>NaN</td>\n",
       "      <td>NaN</td>\n",
       "      <td>NaN</td>\n",
       "      <td>NaN</td>\n",
       "      <td>NaN</td>\n",
       "      <td>NaN</td>\n",
       "      <td>NaN</td>\n",
       "      <td>False</td>\n",
       "    </tr>\n",
       "    <tr>\n",
       "      <th>1175</th>\n",
       "      <td>2520</td>\n",
       "      <td>2130</td>\n",
       "      <td>2130</td>\n",
       "      <td>8000.0</td>\n",
       "      <td>0</td>\n",
       "      <td>False</td>\n",
       "      <td>50</td>\n",
       "      <td>True</td>\n",
       "      <td>False</td>\n",
       "      <td>2</td>\n",
       "      <td>...</td>\n",
       "      <td>0.0</td>\n",
       "      <td>0.0</td>\n",
       "      <td>0.0</td>\n",
       "      <td>False</td>\n",
       "      <td>2100.0</td>\n",
       "      <td>0.0</td>\n",
       "      <td>False</td>\n",
       "      <td>0.0</td>\n",
       "      <td>40.0</td>\n",
       "      <td>False</td>\n",
       "    </tr>\n",
       "    <tr>\n",
       "      <th>1176</th>\n",
       "      <td>2521</td>\n",
       "      <td>2130</td>\n",
       "      <td>2130</td>\n",
       "      <td>8000.0</td>\n",
       "      <td>0</td>\n",
       "      <td>False</td>\n",
       "      <td>50</td>\n",
       "      <td>True</td>\n",
       "      <td>False</td>\n",
       "      <td>2</td>\n",
       "      <td>...</td>\n",
       "      <td>0.0</td>\n",
       "      <td>0.0</td>\n",
       "      <td>0.0</td>\n",
       "      <td>False</td>\n",
       "      <td>2100.0</td>\n",
       "      <td>0.0</td>\n",
       "      <td>False</td>\n",
       "      <td>0.0</td>\n",
       "      <td>40.0</td>\n",
       "      <td>False</td>\n",
       "    </tr>\n",
       "    <tr>\n",
       "      <th>1177</th>\n",
       "      <td>2522</td>\n",
       "      <td>2130</td>\n",
       "      <td>2130</td>\n",
       "      <td>NaN</td>\n",
       "      <td>0</td>\n",
       "      <td>False</td>\n",
       "      <td>10</td>\n",
       "      <td>False</td>\n",
       "      <td>True</td>\n",
       "      <td>2</td>\n",
       "      <td>...</td>\n",
       "      <td>NaN</td>\n",
       "      <td>NaN</td>\n",
       "      <td>NaN</td>\n",
       "      <td>NaN</td>\n",
       "      <td>NaN</td>\n",
       "      <td>NaN</td>\n",
       "      <td>NaN</td>\n",
       "      <td>NaN</td>\n",
       "      <td>NaN</td>\n",
       "      <td>False</td>\n",
       "    </tr>\n",
       "    <tr>\n",
       "      <th>1178</th>\n",
       "      <td>2523</td>\n",
       "      <td>2130</td>\n",
       "      <td>2130</td>\n",
       "      <td>NaN</td>\n",
       "      <td>0</td>\n",
       "      <td>False</td>\n",
       "      <td>5</td>\n",
       "      <td>False</td>\n",
       "      <td>True</td>\n",
       "      <td>2</td>\n",
       "      <td>...</td>\n",
       "      <td>NaN</td>\n",
       "      <td>NaN</td>\n",
       "      <td>NaN</td>\n",
       "      <td>NaN</td>\n",
       "      <td>NaN</td>\n",
       "      <td>NaN</td>\n",
       "      <td>NaN</td>\n",
       "      <td>NaN</td>\n",
       "      <td>NaN</td>\n",
       "      <td>False</td>\n",
       "    </tr>\n",
       "  </tbody>\n",
       "</table>\n",
       "<p>1179 rows × 23 columns</p>\n",
       "</div>"
      ],
      "text/plain": [
       "      p_id  hh_id  tu_id  bruttolohn_m  vermögen_hh  prv_krankenv  alter  \\\n",
       "0        0      0      0        1500.0            0         False     50   \n",
       "1        1      0      0        1500.0            0         False     50   \n",
       "2        4      1      1        1550.0            0         False     50   \n",
       "3        5      1      1        1550.0            0         False     50   \n",
       "4        8      2      2        1600.0            0         False     50   \n",
       "...    ...    ...    ...           ...          ...           ...    ...   \n",
       "1174  2519   2129   2129           NaN            0         False      5   \n",
       "1175  2520   2130   2130        8000.0            0         False     50   \n",
       "1176  2521   2130   2130        8000.0            0         False     50   \n",
       "1177  2522   2130   2130           NaN            0         False     10   \n",
       "1178  2523   2130   2130           NaN            0         False      5   \n",
       "\n",
       "      hat_kinder   kind  anz_minderj_hh  ... vermiet_eink_m  kapital_eink_m  \\\n",
       "0          False  False               0  ...            0.0             0.0   \n",
       "1          False  False               0  ...            0.0             0.0   \n",
       "2          False  False               0  ...            0.0             0.0   \n",
       "3          False  False               0  ...            0.0             0.0   \n",
       "4          False  False               0  ...            0.0             0.0   \n",
       "...          ...    ...             ...  ...            ...             ...   \n",
       "1174       False   True               2  ...            NaN             NaN   \n",
       "1175        True  False               2  ...            0.0             0.0   \n",
       "1176        True  False               2  ...            0.0             0.0   \n",
       "1177       False   True               2  ...            NaN             NaN   \n",
       "1178       False   True               2  ...            NaN             NaN   \n",
       "\n",
       "      prv_rente_beitr_m  wohnort_ost  jahr_renteneintr  betreuungskost_m  \\\n",
       "0                   0.0        False            2100.0               0.0   \n",
       "1                   0.0        False            2100.0               0.0   \n",
       "2                   0.0        False            2100.0               0.0   \n",
       "3                   0.0        False            2100.0               0.0   \n",
       "4                   0.0        False            2100.0               0.0   \n",
       "...                 ...          ...               ...               ...   \n",
       "1174                NaN          NaN               NaN               NaN   \n",
       "1175                0.0        False            2100.0               0.0   \n",
       "1176                0.0        False            2100.0               0.0   \n",
       "1177                NaN          NaN               NaN               NaN   \n",
       "1178                NaN          NaN               NaN               NaN   \n",
       "\n",
       "     in_ausbildung  behinderungsgrad  arbeitsstunden_w alleinerziehend  \n",
       "0            False               0.0              40.0           False  \n",
       "1            False               0.0              40.0           False  \n",
       "2            False               0.0              40.0           False  \n",
       "3            False               0.0              40.0           False  \n",
       "4            False               0.0              40.0           False  \n",
       "...            ...               ...               ...             ...  \n",
       "1174           NaN               NaN               NaN           False  \n",
       "1175         False               0.0              40.0           False  \n",
       "1176         False               0.0              40.0           False  \n",
       "1177           NaN               NaN               NaN           False  \n",
       "1178           NaN               NaN               NaN           False  \n",
       "\n",
       "[1179 rows x 23 columns]"
      ]
     },
     "execution_count": 27,
     "metadata": {},
     "output_type": "execute_result"
    }
   ],
   "source": [
    "data = pd.read_csv(\"household_data_kindergeld.csv\")\n",
    "data"
   ]
  },
  {
   "cell_type": "markdown",
   "metadata": {},
   "source": [
    "Adults' monthly gross earnings range between €1,500 and €8,000. It is captured in the variable `bruttolohn_m`."
   ]
  },
  {
   "cell_type": "code",
   "execution_count": 28,
   "metadata": {
    "scrolled": true
   },
   "outputs": [
    {
     "data": {
      "text/plain": [
       "count     786.000000\n",
       "mean     4750.000000\n",
       "std      1891.970967\n",
       "min      1500.000000\n",
       "25%      3100.000000\n",
       "50%      4750.000000\n",
       "75%      6400.000000\n",
       "max      8000.000000\n",
       "Name: bruttolohn_m, dtype: float64"
      ]
     },
     "execution_count": 28,
     "metadata": {},
     "output_type": "execute_result"
    }
   ],
   "source": [
    "data.bruttolohn_m.describe()"
   ]
  },
  {
   "cell_type": "markdown",
   "metadata": {},
   "source": [
    "The columns contain all the input variables needed to compute `kindergeld_m`."
   ]
  },
  {
   "cell_type": "code",
   "execution_count": 29,
   "metadata": {},
   "outputs": [
    {
     "data": {
      "text/plain": [
       "Index(['p_id', 'hh_id', 'tu_id', 'bruttolohn_m', 'vermögen_hh', 'prv_krankenv',\n",
       "       'alter', 'hat_kinder', 'kind', 'anz_minderj_hh', 'selbstständig',\n",
       "       'eink_selbst_m', 'ges_rente_m', 'vermiet_eink_m', 'kapital_eink_m',\n",
       "       'prv_rente_beitr_m', 'wohnort_ost', 'jahr_renteneintr',\n",
       "       'betreuungskost_m', 'in_ausbildung', 'behinderungsgrad',\n",
       "       'arbeitsstunden_w', 'alleinerziehend'],\n",
       "      dtype='object')"
      ]
     },
     "execution_count": 29,
     "metadata": {},
     "output_type": "execute_result"
    }
   ],
   "source": [
    "data.columns"
   ]
  },
  {
   "cell_type": "markdown",
   "metadata": {},
   "source": [
    "### Using errors and warnings\n",
    "\n",
    "As the DAG and column list above show, a large number of inputs is required to compute child benefits for a family. While the DAG is very useful to understand the structure within GETTSIM behind a variable or function, it might be difficult to infer which inputs exactly are needed in the data to compute a desired output. The function `compute_taxes_and_transfers` thus directly provides multiple mechanisms that help you identify the required input variables to compute certain taxes and transfers.\n",
    "\n",
    "As shown in the introductory tutorial [here](https://gettsim.readthedocs.io/en/latest/tutorials/basic_interface.html), the function requires `data`, one or multiple `targets`, and `policy_params` as well as `policy_functions` to compute taxes and transfers for a given policy environment. \n",
    "\n",
    "Since our data set includes all required input columns already, the function does so without problems."
   ]
  },
  {
   "cell_type": "code",
   "execution_count": 32,
   "metadata": {},
   "outputs": [
    {
     "data": {
      "text/html": [
       "<div>\n",
       "<style scoped>\n",
       "    .dataframe tbody tr th:only-of-type {\n",
       "        vertical-align: middle;\n",
       "    }\n",
       "\n",
       "    .dataframe tbody tr th {\n",
       "        vertical-align: top;\n",
       "    }\n",
       "\n",
       "    .dataframe thead th {\n",
       "        text-align: right;\n",
       "    }\n",
       "</style>\n",
       "<table border=\"1\" class=\"dataframe\">\n",
       "  <thead>\n",
       "    <tr style=\"text-align: right;\">\n",
       "      <th></th>\n",
       "      <th>kindergeld_m</th>\n",
       "    </tr>\n",
       "  </thead>\n",
       "  <tbody>\n",
       "    <tr>\n",
       "      <th>0</th>\n",
       "      <td>0</td>\n",
       "    </tr>\n",
       "    <tr>\n",
       "      <th>1</th>\n",
       "      <td>0</td>\n",
       "    </tr>\n",
       "    <tr>\n",
       "      <th>2</th>\n",
       "      <td>0</td>\n",
       "    </tr>\n",
       "  </tbody>\n",
       "</table>\n",
       "</div>"
      ],
      "text/plain": [
       "   kindergeld_m\n",
       "0             0\n",
       "1             0\n",
       "2             0"
      ]
     },
     "execution_count": 32,
     "metadata": {},
     "output_type": "execute_result"
    }
   ],
   "source": [
    "result = compute_taxes_and_transfers(\n",
    "    data=data,\n",
    "    params=policy_params,\n",
    "    targets=\"kindergeld_m\",\n",
    "    functions=policy_functions,\n",
    ")\n",
    "result.head(3)"
   ]
  },
  {
   "cell_type": "markdown",
   "metadata": {},
   "source": [
    "#### Error messages: Missing inputs\n",
    "\n",
    "However, if we have failed to add a required column, the function throws an error with a message that specifies which columns are missing. For example, the variable `bruttolohn_m` holds information on monthly gross earnings and is required to compute child benefits. Dropping it from the data triggers the error."
   ]
  },
  {
   "cell_type": "code",
   "execution_count": 30,
   "metadata": {},
   "outputs": [
    {
     "ename": "ValueError",
     "evalue": "The following data columns are missing.\n\n[\n    \"bruttolohn_m\",\n]\n",
     "output_type": "error",
     "traceback": [
      "\u001b[0;31m---------------------------------------------------------------------------\u001b[0m",
      "\u001b[0;31mValueError\u001b[0m                                Traceback (most recent call last)",
      "\u001b[0;32m<ipython-input-30-5c53b0967d06>\u001b[0m in \u001b[0;36m<module>\u001b[0;34m\u001b[0m\n\u001b[1;32m      4\u001b[0m     \u001b[0mparams\u001b[0m\u001b[0;34m=\u001b[0m\u001b[0mpolicy_params\u001b[0m\u001b[0;34m,\u001b[0m\u001b[0;34m\u001b[0m\u001b[0;34m\u001b[0m\u001b[0m\n\u001b[1;32m      5\u001b[0m     \u001b[0mtargets\u001b[0m\u001b[0;34m=\u001b[0m\u001b[0;34m\"kindergeld_m\"\u001b[0m\u001b[0;34m,\u001b[0m\u001b[0;34m\u001b[0m\u001b[0;34m\u001b[0m\u001b[0m\n\u001b[0;32m----> 6\u001b[0;31m     \u001b[0mfunctions\u001b[0m\u001b[0;34m=\u001b[0m\u001b[0mpolicy_functions\u001b[0m\u001b[0;34m,\u001b[0m\u001b[0;34m\u001b[0m\u001b[0;34m\u001b[0m\u001b[0m\n\u001b[0m\u001b[1;32m      7\u001b[0m )\n",
      "\u001b[0;32m~/bin/anaconda3/lib/python3.7/site-packages/gettsim/interface.py\u001b[0m in \u001b[0;36mcompute_taxes_and_transfers\u001b[0;34m(data, params, functions, targets, columns_overriding_functions, check_minimal_specification, debug)\u001b[0m\n\u001b[1;32m     95\u001b[0m         \u001b[0mfunctions\u001b[0m\u001b[0;34m,\u001b[0m \u001b[0mtargets\u001b[0m\u001b[0;34m,\u001b[0m \u001b[0mcolumns_overriding_functions\u001b[0m\u001b[0;34m,\u001b[0m \u001b[0mcheck_minimal_specification\u001b[0m\u001b[0;34m\u001b[0m\u001b[0;34m\u001b[0m\u001b[0m\n\u001b[1;32m     96\u001b[0m     )\n\u001b[0;32m---> 97\u001b[0;31m     \u001b[0m_fail_if_root_nodes_are_missing\u001b[0m\u001b[0;34m(\u001b[0m\u001b[0mdag\u001b[0m\u001b[0;34m,\u001b[0m \u001b[0mdata\u001b[0m\u001b[0;34m)\u001b[0m\u001b[0;34m\u001b[0m\u001b[0;34m\u001b[0m\u001b[0m\n\u001b[0m\u001b[1;32m     98\u001b[0m     \u001b[0m_fail_if_more_than_necessary_data_is_passed\u001b[0m\u001b[0;34m(\u001b[0m\u001b[0mdag\u001b[0m\u001b[0;34m,\u001b[0m \u001b[0mdata\u001b[0m\u001b[0;34m,\u001b[0m \u001b[0mcheck_minimal_specification\u001b[0m\u001b[0;34m)\u001b[0m\u001b[0;34m\u001b[0m\u001b[0;34m\u001b[0m\u001b[0m\n\u001b[1;32m     99\u001b[0m \u001b[0;34m\u001b[0m\u001b[0m\n",
      "\u001b[0;32m~/bin/anaconda3/lib/python3.7/site-packages/gettsim/interface.py\u001b[0m in \u001b[0;36m_fail_if_root_nodes_are_missing\u001b[0;34m(dag, data)\u001b[0m\n\u001b[1;32m    440\u001b[0m     \u001b[0;32mif\u001b[0m \u001b[0mmissing_nodes\u001b[0m\u001b[0;34m:\u001b[0m\u001b[0;34m\u001b[0m\u001b[0;34m\u001b[0m\u001b[0m\n\u001b[1;32m    441\u001b[0m         \u001b[0mformatted\u001b[0m \u001b[0;34m=\u001b[0m \u001b[0mformat_list_linewise\u001b[0m\u001b[0;34m(\u001b[0m\u001b[0mmissing_nodes\u001b[0m\u001b[0;34m)\u001b[0m\u001b[0;34m\u001b[0m\u001b[0;34m\u001b[0m\u001b[0m\n\u001b[0;32m--> 442\u001b[0;31m         \u001b[0;32mraise\u001b[0m \u001b[0mValueError\u001b[0m\u001b[0;34m(\u001b[0m\u001b[0;34mf\"The following data columns are missing.\\n{formatted}\"\u001b[0m\u001b[0;34m)\u001b[0m\u001b[0;34m\u001b[0m\u001b[0;34m\u001b[0m\u001b[0m\n\u001b[0m\u001b[1;32m    443\u001b[0m \u001b[0;34m\u001b[0m\u001b[0m\n\u001b[1;32m    444\u001b[0m \u001b[0;34m\u001b[0m\u001b[0m\n",
      "\u001b[0;31mValueError\u001b[0m: The following data columns are missing.\n\n[\n    \"bruttolohn_m\",\n]\n"
     ]
    }
   ],
   "source": [
    "incomplete_data = data.drop(\"bruttolohn_m\", axis=1)\n",
    "result = compute_taxes_and_transfers(\n",
    "    data=incomplete_data,\n",
    "    params=policy_params,\n",
    "    targets=\"kindergeld_m\",\n",
    "    functions=policy_functions,\n",
    ")"
   ]
  },
  {
   "cell_type": "markdown",
   "metadata": {},
   "source": [
    "Similarly, we can pass an empty pandas.DataFrame to the function to get a list of all the necessary input columns to compute the desired target(s). You can look up their meaning [here](https://gettsim.readthedocs.io/en/latest/crosswalk.html)."
   ]
  },
  {
   "cell_type": "code",
   "execution_count": 31,
   "metadata": {},
   "outputs": [
    {
     "ename": "ValueError",
     "evalue": "The following data columns are missing.\n\n[\n    \"bruttolohn_m\",\n    \"wohnort_ost\",\n    \"tu_id\",\n    \"eink_selbst_m\",\n    \"ges_rente_m\",\n    \"hat_kinder\",\n    \"alter\",\n    \"selbstständig\",\n    \"prv_krankenv\",\n    \"behinderungsgrad\",\n    \"alleinerziehend\",\n    \"kind\",\n    \"kapital_eink_m\",\n    \"vermiet_eink_m\",\n    \"arbeitsstunden_w\",\n    \"in_ausbildung\",\n    \"prv_rente_beitr_m\",\n    \"betreuungskost_m\",\n    \"jahr_renteneintr\",\n]\n",
     "output_type": "error",
     "traceback": [
      "\u001b[0;31m---------------------------------------------------------------------------\u001b[0m",
      "\u001b[0;31mValueError\u001b[0m                                Traceback (most recent call last)",
      "\u001b[0;32m<ipython-input-31-c746c1928c06>\u001b[0m in \u001b[0;36m<module>\u001b[0;34m\u001b[0m\n\u001b[1;32m      3\u001b[0m     \u001b[0mparams\u001b[0m\u001b[0;34m=\u001b[0m\u001b[0mpolicy_params\u001b[0m\u001b[0;34m,\u001b[0m\u001b[0;34m\u001b[0m\u001b[0;34m\u001b[0m\u001b[0m\n\u001b[1;32m      4\u001b[0m     \u001b[0mtargets\u001b[0m\u001b[0;34m=\u001b[0m\u001b[0;34m\"kindergeld_m\"\u001b[0m\u001b[0;34m,\u001b[0m\u001b[0;34m\u001b[0m\u001b[0;34m\u001b[0m\u001b[0m\n\u001b[0;32m----> 5\u001b[0;31m     \u001b[0mfunctions\u001b[0m\u001b[0;34m=\u001b[0m\u001b[0mpolicy_functions\u001b[0m\u001b[0;34m,\u001b[0m\u001b[0;34m\u001b[0m\u001b[0;34m\u001b[0m\u001b[0m\n\u001b[0m\u001b[1;32m      6\u001b[0m )\n",
      "\u001b[0;32m~/bin/anaconda3/lib/python3.7/site-packages/gettsim/interface.py\u001b[0m in \u001b[0;36mcompute_taxes_and_transfers\u001b[0;34m(data, params, functions, targets, columns_overriding_functions, check_minimal_specification, debug)\u001b[0m\n\u001b[1;32m     95\u001b[0m         \u001b[0mfunctions\u001b[0m\u001b[0;34m,\u001b[0m \u001b[0mtargets\u001b[0m\u001b[0;34m,\u001b[0m \u001b[0mcolumns_overriding_functions\u001b[0m\u001b[0;34m,\u001b[0m \u001b[0mcheck_minimal_specification\u001b[0m\u001b[0;34m\u001b[0m\u001b[0;34m\u001b[0m\u001b[0m\n\u001b[1;32m     96\u001b[0m     )\n\u001b[0;32m---> 97\u001b[0;31m     \u001b[0m_fail_if_root_nodes_are_missing\u001b[0m\u001b[0;34m(\u001b[0m\u001b[0mdag\u001b[0m\u001b[0;34m,\u001b[0m \u001b[0mdata\u001b[0m\u001b[0;34m)\u001b[0m\u001b[0;34m\u001b[0m\u001b[0;34m\u001b[0m\u001b[0m\n\u001b[0m\u001b[1;32m     98\u001b[0m     \u001b[0m_fail_if_more_than_necessary_data_is_passed\u001b[0m\u001b[0;34m(\u001b[0m\u001b[0mdag\u001b[0m\u001b[0;34m,\u001b[0m \u001b[0mdata\u001b[0m\u001b[0;34m,\u001b[0m \u001b[0mcheck_minimal_specification\u001b[0m\u001b[0;34m)\u001b[0m\u001b[0;34m\u001b[0m\u001b[0;34m\u001b[0m\u001b[0m\n\u001b[1;32m     99\u001b[0m \u001b[0;34m\u001b[0m\u001b[0m\n",
      "\u001b[0;32m~/bin/anaconda3/lib/python3.7/site-packages/gettsim/interface.py\u001b[0m in \u001b[0;36m_fail_if_root_nodes_are_missing\u001b[0;34m(dag, data)\u001b[0m\n\u001b[1;32m    440\u001b[0m     \u001b[0;32mif\u001b[0m \u001b[0mmissing_nodes\u001b[0m\u001b[0;34m:\u001b[0m\u001b[0;34m\u001b[0m\u001b[0;34m\u001b[0m\u001b[0m\n\u001b[1;32m    441\u001b[0m         \u001b[0mformatted\u001b[0m \u001b[0;34m=\u001b[0m \u001b[0mformat_list_linewise\u001b[0m\u001b[0;34m(\u001b[0m\u001b[0mmissing_nodes\u001b[0m\u001b[0;34m)\u001b[0m\u001b[0;34m\u001b[0m\u001b[0;34m\u001b[0m\u001b[0m\n\u001b[0;32m--> 442\u001b[0;31m         \u001b[0;32mraise\u001b[0m \u001b[0mValueError\u001b[0m\u001b[0;34m(\u001b[0m\u001b[0;34mf\"The following data columns are missing.\\n{formatted}\"\u001b[0m\u001b[0;34m)\u001b[0m\u001b[0;34m\u001b[0m\u001b[0;34m\u001b[0m\u001b[0m\n\u001b[0m\u001b[1;32m    443\u001b[0m \u001b[0;34m\u001b[0m\u001b[0m\n\u001b[1;32m    444\u001b[0m \u001b[0;34m\u001b[0m\u001b[0m\n",
      "\u001b[0;31mValueError\u001b[0m: The following data columns are missing.\n\n[\n    \"bruttolohn_m\",\n    \"wohnort_ost\",\n    \"tu_id\",\n    \"eink_selbst_m\",\n    \"ges_rente_m\",\n    \"hat_kinder\",\n    \"alter\",\n    \"selbstständig\",\n    \"prv_krankenv\",\n    \"behinderungsgrad\",\n    \"alleinerziehend\",\n    \"kind\",\n    \"kapital_eink_m\",\n    \"vermiet_eink_m\",\n    \"arbeitsstunden_w\",\n    \"in_ausbildung\",\n    \"prv_rente_beitr_m\",\n    \"betreuungskost_m\",\n    \"jahr_renteneintr\",\n]\n"
     ]
    }
   ],
   "source": [
    "result = compute_taxes_and_transfers(\n",
    "    data=pd.DataFrame(),\n",
    "    params=policy_params,\n",
    "    targets=\"kindergeld_m\",\n",
    "    functions=policy_functions,\n",
    ")"
   ]
  },
  {
   "cell_type": "markdown",
   "metadata": {},
   "source": [
    "#### Error messages and warnings: Unused inputs\n",
    "\n",
    "The function `compute_taxes_and_transfers` also has an option that allows you to check for unused inputs in your data. This functionality is controlled through the argument `check_minimal_specification`. By default, it is set to `ignore`, meaning no check is conduced. However, it can also be set to `warn` to trigger a warning or `raise` and error that includes a message stating the unused inputs."
   ]
  },
  {
   "cell_type": "code",
   "execution_count": 33,
   "metadata": {},
   "outputs": [
    {
     "ename": "ValueError",
     "evalue": "The following columns in 'data' are unused.\n\n\n[\n    \"p_id\",\n    \"hh_id\",\n    \"anz_minderj_hh\",\n    \"vermögen_hh\",\n]\n",
     "output_type": "error",
     "traceback": [
      "\u001b[0;31m---------------------------------------------------------------------------\u001b[0m",
      "\u001b[0;31mValueError\u001b[0m                                Traceback (most recent call last)",
      "\u001b[0;32m<ipython-input-33-fe50779dedb0>\u001b[0m in \u001b[0;36m<module>\u001b[0;34m\u001b[0m\n\u001b[1;32m      4\u001b[0m     \u001b[0mtargets\u001b[0m\u001b[0;34m=\u001b[0m\u001b[0;34m\"kindergeld_m\"\u001b[0m\u001b[0;34m,\u001b[0m\u001b[0;34m\u001b[0m\u001b[0;34m\u001b[0m\u001b[0m\n\u001b[1;32m      5\u001b[0m     \u001b[0mfunctions\u001b[0m\u001b[0;34m=\u001b[0m\u001b[0mpolicy_functions\u001b[0m\u001b[0;34m,\u001b[0m\u001b[0;34m\u001b[0m\u001b[0;34m\u001b[0m\u001b[0m\n\u001b[0;32m----> 6\u001b[0;31m     \u001b[0mcheck_minimal_specification\u001b[0m\u001b[0;34m=\u001b[0m\u001b[0;34m\"raise\"\u001b[0m\u001b[0;34m,\u001b[0m\u001b[0;34m\u001b[0m\u001b[0;34m\u001b[0m\u001b[0m\n\u001b[0m\u001b[1;32m      7\u001b[0m )\n",
      "\u001b[0;32m~/bin/anaconda3/lib/python3.7/site-packages/gettsim/interface.py\u001b[0m in \u001b[0;36mcompute_taxes_and_transfers\u001b[0;34m(data, params, functions, targets, columns_overriding_functions, check_minimal_specification, debug)\u001b[0m\n\u001b[1;32m     96\u001b[0m     )\n\u001b[1;32m     97\u001b[0m     \u001b[0m_fail_if_root_nodes_are_missing\u001b[0m\u001b[0;34m(\u001b[0m\u001b[0mdag\u001b[0m\u001b[0;34m,\u001b[0m \u001b[0mdata\u001b[0m\u001b[0;34m)\u001b[0m\u001b[0;34m\u001b[0m\u001b[0;34m\u001b[0m\u001b[0m\n\u001b[0;32m---> 98\u001b[0;31m     \u001b[0m_fail_if_more_than_necessary_data_is_passed\u001b[0m\u001b[0;34m(\u001b[0m\u001b[0mdag\u001b[0m\u001b[0;34m,\u001b[0m \u001b[0mdata\u001b[0m\u001b[0;34m,\u001b[0m \u001b[0mcheck_minimal_specification\u001b[0m\u001b[0;34m)\u001b[0m\u001b[0;34m\u001b[0m\u001b[0;34m\u001b[0m\u001b[0m\n\u001b[0m\u001b[1;32m     99\u001b[0m \u001b[0;34m\u001b[0m\u001b[0m\n\u001b[1;32m    100\u001b[0m     \u001b[0;31m# We delay the data preparation as long as possible such that other checks can fail\u001b[0m\u001b[0;34m\u001b[0m\u001b[0;34m\u001b[0m\u001b[0;34m\u001b[0m\u001b[0m\n",
      "\u001b[0;32m~/bin/anaconda3/lib/python3.7/site-packages/gettsim/interface.py\u001b[0m in \u001b[0;36m_fail_if_more_than_necessary_data_is_passed\u001b[0;34m(dag, data, check_minimal_specification)\u001b[0m\n\u001b[1;32m    451\u001b[0m         \u001b[0mwarnings\u001b[0m\u001b[0;34m.\u001b[0m\u001b[0mwarn\u001b[0m\u001b[0;34m(\u001b[0m\u001b[0mmessage\u001b[0m\u001b[0;34m)\u001b[0m\u001b[0;34m\u001b[0m\u001b[0;34m\u001b[0m\u001b[0m\n\u001b[1;32m    452\u001b[0m     \u001b[0;32melif\u001b[0m \u001b[0munnecessary_data\u001b[0m \u001b[0;32mand\u001b[0m \u001b[0mcheck_minimal_specification\u001b[0m \u001b[0;34m==\u001b[0m \u001b[0;34m\"raise\"\u001b[0m\u001b[0;34m:\u001b[0m\u001b[0;34m\u001b[0m\u001b[0;34m\u001b[0m\u001b[0m\n\u001b[0;32m--> 453\u001b[0;31m         \u001b[0;32mraise\u001b[0m \u001b[0mValueError\u001b[0m\u001b[0;34m(\u001b[0m\u001b[0mmessage\u001b[0m\u001b[0;34m)\u001b[0m\u001b[0;34m\u001b[0m\u001b[0;34m\u001b[0m\u001b[0m\n\u001b[0m\u001b[1;32m    454\u001b[0m \u001b[0;34m\u001b[0m\u001b[0m\n\u001b[1;32m    455\u001b[0m \u001b[0;34m\u001b[0m\u001b[0m\n",
      "\u001b[0;31mValueError\u001b[0m: The following columns in 'data' are unused.\n\n\n[\n    \"p_id\",\n    \"hh_id\",\n    \"anz_minderj_hh\",\n    \"vermögen_hh\",\n]\n"
     ]
    }
   ],
   "source": [
    "result = compute_taxes_and_transfers(\n",
    "    data=data,\n",
    "    params=policy_params,\n",
    "    targets=\"kindergeld_m\",\n",
    "    functions=policy_functions,\n",
    "    check_minimal_specification=\"raise\",\n",
    ")"
   ]
  },
  {
   "cell_type": "markdown",
   "metadata": {},
   "source": [
    "### Debug mode\n",
    "\n",
    "In addition to errors and warnings `compute_taxes_and_transfers` can also be used in debug mode by setting the argument `debug=True`. In this mode, the function returns all inputs and outputs that can be computed while issuing error messages for the parts where the code fails. It is thus a very useful tool to help you set up your code correctly and detect the sources of problems that might arise in the process. An extensive tutorial on the debugging feature is available [here](https://gettsim.readthedocs.io/en/v0.3.4/tutorials/debugging.html)."
   ]
  },
  {
   "cell_type": "markdown",
   "metadata": {},
   "source": [
    "### Computing child benefits and taxes\n",
    "\n",
    "In this section we will compute the *Kindergeld* for our synthetic households. Since households can also claim a tax credit instead of the child benefit (the *Kinderfreibetrag*), we will also compute the income taxes for each household. By default, GETTSIM chooses the financially more favorable option for each case. The results will thus let us inspect how the policy affects different income levels in our data. \n",
    "\n",
    "#### Child Benefit\n",
    "\n",
    "After ensuring all necessary inputs are defined using the features described above, we can compute the *Kindergeld* for our household `data` given the policy environment specified by `policy_params` and `policy_functions`. We compute the variables `kindergeld_m`, which indicates the *Kindergeld* on individual level, `kindergeld_m_tu`, which computes it on tax unit level, and `kindergeld_m_hh`, which computes it on household level."
   ]
  },
  {
   "cell_type": "code",
   "execution_count": 34,
   "metadata": {},
   "outputs": [],
   "source": [
    "kindergeld = compute_taxes_and_transfers(\n",
    "    data=data,\n",
    "    params=policy_params,\n",
    "    targets=[\"kindergeld_m\", \"kindergeld_m_tu\", \"kindergeld_m_hh\"],\n",
    "    functions=policy_functions,\n",
    ")"
   ]
  },
  {
   "cell_type": "markdown",
   "metadata": {},
   "source": [
    "Computing the value frequencies in the data shows that the function assigns either no *Kindergeld* or €204 to individuals. In the data, the child benefit gets assigned to the child who it accounts for. As the `policy_params` shown above reveal, families receive €204 for the first and second child, €210 for the third, and €235 for every following child. Since the data includes only up to two children households, there are only two possible values for *Kindergeld* payments."
   ]
  },
  {
   "cell_type": "code",
   "execution_count": 35,
   "metadata": {
    "scrolled": true
   },
   "outputs": [
    {
     "data": {
      "text/plain": [
       "0      0.89\n",
       "204    0.11\n",
       "Name: kindergeld_m, dtype: float64"
      ]
     },
     "execution_count": 35,
     "metadata": {},
     "output_type": "execute_result"
    }
   ],
   "source": [
    "kindergeld.kindergeld_m.value_counts(normalize=True).round(2)"
   ]
  },
  {
   "cell_type": "markdown",
   "metadata": {},
   "source": [
    "We can now look at the household and tax unit level to assess how much child benefits the families receive in total. In this example, the household id (`hh_id`) and tax unit id (`tu_id`) is identical for all households. However, even though the household types are distributed evenly in the data, the computed child benefit claims are not. A disproportionately large amount of tax units receives no child benefit even though there are children in the household. \n",
    "\n",
    "This difference stems from the variation in incomes. For higher income families, it is more advantageous to claim the *Kinderfreibetrag* which constitutes a tax credit. As GETTSIM by default always chooses the most beneficial taxes and transfers for households, it thus does not assign child benefits to the families for which the tax credit is more favorable."
   ]
  },
  {
   "cell_type": "code",
   "execution_count": 36,
   "metadata": {},
   "outputs": [
    {
     "data": {
      "text/plain": [
       "0      0.75\n",
       "408    0.15\n",
       "204    0.10\n",
       "Name: kindergeld_m_tu, dtype: float64"
      ]
     },
     "execution_count": 36,
     "metadata": {},
     "output_type": "execute_result"
    }
   ],
   "source": [
    "kindergeld.kindergeld_m_tu.value_counts(normalize=True).round(2)"
   ]
  },
  {
   "cell_type": "code",
   "execution_count": 37,
   "metadata": {},
   "outputs": [
    {
     "data": {
      "text/plain": [
       "0      0.75\n",
       "408    0.15\n",
       "204    0.10\n",
       "Name: kindergeld_m_hh, dtype: float64"
      ]
     },
     "execution_count": 37,
     "metadata": {},
     "output_type": "execute_result"
    }
   ],
   "source": [
    "kindergeld.kindergeld_m_hh.value_counts(normalize=True).round(2)"
   ]
  },
  {
   "cell_type": "markdown",
   "metadata": {},
   "source": [
    "#### Income taxes\n",
    "\n",
    "As the results above shows, GETTSIM only computes the child benefit if it is more beneficial for the family than claiming the tax credit. To compare, we can additionally compute the income taxes for our data set `eink_st_tu`. We also compute the variable `bruttolohn_m_tu`, which gives the monthly gross income per tax unit (in our case, this is the combined income of the two adults in the household). "
   ]
  },
  {
   "cell_type": "code",
   "execution_count": 38,
   "metadata": {},
   "outputs": [],
   "source": [
    "income = compute_taxes_and_transfers(\n",
    "    data=data,\n",
    "    params=policy_params,\n",
    "    targets=[\"eink_st_tu\", \"bruttolohn_m_tu\"],\n",
    "    functions=policy_functions,\n",
    ")"
   ]
  },
  {
   "cell_type": "markdown",
   "metadata": {},
   "source": [
    "Since the gross income and child benefit per tax unit is computed on a monthly level while taxes are computed for the time unit of one year, we multiply the former by 12 and drop unused variables as well as duplicates from our DataFrame. The final DataFrame contains the yearly gross income, income tax, child benefit, and number of children in the household."
   ]
  },
  {
   "cell_type": "code",
   "execution_count": 39,
   "metadata": {},
   "outputs": [
    {
     "data": {
      "text/html": [
       "<div>\n",
       "<style scoped>\n",
       "    .dataframe tbody tr th:only-of-type {\n",
       "        vertical-align: middle;\n",
       "    }\n",
       "\n",
       "    .dataframe tbody tr th {\n",
       "        vertical-align: top;\n",
       "    }\n",
       "\n",
       "    .dataframe thead th {\n",
       "        text-align: right;\n",
       "    }\n",
       "</style>\n",
       "<table border=\"1\" class=\"dataframe\">\n",
       "  <thead>\n",
       "    <tr style=\"text-align: right;\">\n",
       "      <th></th>\n",
       "      <th>bruttolohn_tu</th>\n",
       "      <th>eink_st_tu</th>\n",
       "      <th>kindergeld_tu</th>\n",
       "      <th>anz_minderj_hh</th>\n",
       "    </tr>\n",
       "    <tr>\n",
       "      <th>tu_id</th>\n",
       "      <th></th>\n",
       "      <th></th>\n",
       "      <th></th>\n",
       "      <th></th>\n",
       "    </tr>\n",
       "  </thead>\n",
       "  <tbody>\n",
       "    <tr>\n",
       "      <th>0</th>\n",
       "      <td>36000.0</td>\n",
       "      <td>1591.047180</td>\n",
       "      <td>0</td>\n",
       "      <td>0</td>\n",
       "    </tr>\n",
       "    <tr>\n",
       "      <th>1</th>\n",
       "      <td>37200.0</td>\n",
       "      <td>1843.015567</td>\n",
       "      <td>0</td>\n",
       "      <td>0</td>\n",
       "    </tr>\n",
       "    <tr>\n",
       "      <th>2</th>\n",
       "      <td>38400.0</td>\n",
       "      <td>2108.837502</td>\n",
       "      <td>0</td>\n",
       "      <td>0</td>\n",
       "    </tr>\n",
       "    <tr>\n",
       "      <th>3</th>\n",
       "      <td>39600.0</td>\n",
       "      <td>2377.984073</td>\n",
       "      <td>0</td>\n",
       "      <td>0</td>\n",
       "    </tr>\n",
       "    <tr>\n",
       "      <th>4</th>\n",
       "      <td>40800.0</td>\n",
       "      <td>2649.746369</td>\n",
       "      <td>0</td>\n",
       "      <td>0</td>\n",
       "    </tr>\n",
       "  </tbody>\n",
       "</table>\n",
       "</div>"
      ],
      "text/plain": [
       "       bruttolohn_tu   eink_st_tu  kindergeld_tu  anz_minderj_hh\n",
       "tu_id                                                           \n",
       "0            36000.0  1591.047180              0               0\n",
       "1            37200.0  1843.015567              0               0\n",
       "2            38400.0  2108.837502              0               0\n",
       "3            39600.0  2377.984073              0               0\n",
       "4            40800.0  2649.746369              0               0"
      ]
     },
     "execution_count": 39,
     "metadata": {},
     "output_type": "execute_result"
    }
   ],
   "source": [
    "df = kindergeld.join([income, data.anz_minderj_hh]).set_index(data.tu_id)\n",
    "df[[\"bruttolohn_tu\", \"kindergeld_tu\"]] = df[[\"bruttolohn_m_tu\", \"kindergeld_m_tu\"]] * 12\n",
    "df = df[\n",
    "    [\"bruttolohn_tu\", \"eink_st_tu\", \"kindergeld_tu\", \"anz_minderj_hh\"]\n",
    "].drop_duplicates()\n",
    "df.head()"
   ]
  },
  {
   "cell_type": "markdown",
   "metadata": {},
   "source": [
    "We can plot the results for our different household types. The plots below show how GETTSIM computes *Kindergeld* for our families. At a certain income level (around €80,000-€90,000) the tax credit becomes more favorable and GETTSIM assigns the tax break instead of the child benefit. "
   ]
  },
  {
   "cell_type": "code",
   "execution_count": 40,
   "metadata": {},
   "outputs": [],
   "source": [
    "def plot_kindergeld(df):\n",
    "    plt.figure(figsize=[6, 10])\n",
    "    for i in 0, 1, 2:\n",
    "        plt.subplot(3, 1, i + 1)\n",
    "        df_slice = df[df.anz_minderj_hh == i].reset_index().drop_duplicates()\n",
    "        plt.plot(df_slice.bruttolohn_tu, df_slice[\"eink_st_tu\"], label=\"Income tax\")\n",
    "        plt.plot(\n",
    "            df_slice.bruttolohn_tu,\n",
    "            df_slice[\"kindergeld_tu\"],\n",
    "            label=\"Child benefit\",\n",
    "        )\n",
    "        plt.title(f\"{i} child(ren)\")\n",
    "        plt.ylabel(\"€ per year\")\n",
    "        plt.xlabel(\"Yearly gross income in € (per tax unit)\")\n",
    "        plt.legend()\n",
    "        plt.tight_layout()"
   ]
  },
  {
   "cell_type": "code",
   "execution_count": 41,
   "metadata": {},
   "outputs": [
    {
     "data": {
      "image/png": "[encoded data removed]",
      "text/plain": [
       "<Figure size 432x720 with 3 Axes>"
      ]
     },
     "metadata": {
      "needs_background": "light"
     },
     "output_type": "display_data"
    }
   ],
   "source": [
    "plot_kindergeld(df)"
   ]
  },
  {
   "cell_type": "markdown",
   "metadata": {},
   "source": [
    "### Columns overriding functions\n",
    "\n",
    "Lastly, it is also possible to substitute internally computed variables using input columns in the data. To override an internal function, it is necessary to specify a column with the same name and pass it to `compute_taxes_and_transfers` using the argument `columns_overriding_functions`.\n",
    "\n",
    "For instance, for this application we could override the internal function `_kindergeld_m_basis` and set the child benefit to 0. "
   ]
  },
  {
   "cell_type": "code",
   "execution_count": 42,
   "metadata": {},
   "outputs": [],
   "source": [
    "new_data = data.copy()\n",
    "new_data[\"_kindergeld_m_basis\"] = 0"
   ]
  },
  {
   "cell_type": "markdown",
   "metadata": {},
   "source": [
    "Again, we compute the child benefit and income tax by tax unit. The argument `columns_overriding_functions` also accepts lists of columns to overwrite multiple functions."
   ]
  },
  {
   "cell_type": "code",
   "execution_count": 43,
   "metadata": {},
   "outputs": [],
   "source": [
    "outputs = compute_taxes_and_transfers(\n",
    "    data=new_data,\n",
    "    params=policy_params,\n",
    "    targets=[\"kindergeld_m_tu\", \"eink_st_tu\", \"bruttolohn_m_tu\"],\n",
    "    functions=policy_functions,\n",
    "    columns_overriding_functions=\"_kindergeld_m_basis\",\n",
    ")"
   ]
  },
  {
   "cell_type": "code",
   "execution_count": 44,
   "metadata": {},
   "outputs": [],
   "source": [
    "df_new = outputs.join(new_data[\"anz_minderj_hh\"]).set_index(new_data.tu_id)\n",
    "df_new[[\"bruttolohn_tu\", \"kindergeld_tu\"]] = (\n",
    "    df_new[[\"bruttolohn_m_tu\", \"kindergeld_m_tu\"]] * 12\n",
    ")\n",
    "df_new = df_new[\n",
    "    [\"bruttolohn_tu\", \"eink_st_tu\", \"kindergeld_tu\", \"anz_minderj_hh\"]\n",
    "].drop_duplicates()"
   ]
  },
  {
   "cell_type": "markdown",
   "metadata": {},
   "source": [
    "Since the child benefits are set to zero, GETTSIM computes the tax credit for all households instead. "
   ]
  },
  {
   "cell_type": "code",
   "execution_count": 45,
   "metadata": {},
   "outputs": [
    {
     "data": {
      "image/png": "[encoded data removed]",
      "text/plain": [
       "<Figure size 432x720 with 3 Axes>"
      ]
     },
     "metadata": {
      "needs_background": "light"
     },
     "output_type": "display_data"
    }
   ],
   "source": [
    "plot_kindergeld(df_new)"
   ]
  },
  {
   "cell_type": "markdown",
   "metadata": {},
   "source": [
    "Aside from overriding internal function outputs using data columns, it is also possible to substitute the functions entirely. To learn how to change policy functions, see [here](https://gettsim.readthedocs.io/en/latest/tutorials/policy_functions.html)."
   ]
  }
 ],
 "metadata": {
  "kernelspec": {
   "display_name": "Python 3",
   "language": "python",
   "name": "python3"
  },
  "language_info": {
   "codemirror_mode": {
    "name": "ipython",
    "version": 3
   },
   "file_extension": ".py",
   "mimetype": "text/x-python",
   "name": "python",
   "nbconvert_exporter": "python",
   "pygments_lexer": "ipython3",
   "version": "3.7.7"
  },
  "toc": {
   "base_numbering": 1,
   "nav_menu": {},
   "number_sections": true,
   "sideBar": true,
   "skip_h1_title": false,
   "title_cell": "Table of Contents",
   "title_sidebar": "Contents",
   "toc_cell": false,
   "toc_position": {},
   "toc_section_display": true,
   "toc_window_display": false
  },
  "varInspector": {
   "cols": {
    "lenName": 16,
    "lenType": 16,
    "lenVar": 40
   },
   "kernels_config": {
    "python": {
     "delete_cmd_postfix": "",
     "delete_cmd_prefix": "del ",
     "library": "var_list.py",
     "varRefreshCmd": "print(var_dic_list())"
    },
    "r": {
     "delete_cmd_postfix": ") ",
     "delete_cmd_prefix": "rm(",
     "library": "var_list.r",
     "varRefreshCmd": "cat(var_dic_list()) "
    }
   },
   "types_to_exclude": [
    "module",
    "function",
    "builtin_function_or_method",
    "instance",
    "_Feature"
   ],
   "window_display": false
  }
 },
 "nbformat": 4,
 "nbformat_minor": 4
}
