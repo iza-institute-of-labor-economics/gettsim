{
  "cells": [
    {
      "cell_type": "markdown",
      "metadata": {},
      "source": [
        "# Advanced Usage\n",
        "\n",
        "This tutorial showcases advanced functionalities and applications of GETTSIM's interface. For an introductory tutorial see [here](basic_usage.ipynb). The introductory tutorial showcases GETTSIM's two main functions using a minimal working example:\n",
        "\n",
        "1. `set_up_policy_environment` which loads a policy environment for a specified date.\n",
        "\n",
        "2. `compute_taxes_and_transfers` which allows you to compute taxes and transfers given a specified policy environment for household or individual observations.\n",
        "\n",
        "This tutorial dives deeper into the GETTSIM interface to acquaintance you with further useful functionalities. Specifically, this tutorial shows how to navigate the numerous [input and target](../gettsim_objects/input_variables.rst) variables that the package supports as well as how GETTSIM processes them internally using the example of child benefits in the German taxes and transfers system."
      ]
    },
    {
      "cell_type": "code",
      "execution_count": 22,
      "metadata": {},
      "outputs": [],
      "source": [
        "import pandas as pd\n",
        "import numpy as np\n",
        "# import matplotlib.pyplot as plt\n",
        "\n",
        "from gettsim import set_up_policy_environment\n",
        "from gettsim import compute_taxes_and_transfers\n",
        "from gettsim import plot_dag\n",
        "from gettsim import create_synthetic_data"
      ]
    },
    {
      "cell_type": "markdown",
      "metadata": {},
      "source": [
        "\n",
        "## Example: Kindergeld (Child Benefits)    \n",
        "    \n",
        "For this tutorial, we will focus on *Kindergeld*, which is a child benefit that can be claimed by parents in Germany. *Kindergeld* can be claimed in different ways and eligibility for families to receive it depends on various variables. For instance, *Kindergeld* can be claimed as a monthly payment but also as a tax credit (*Kinderfreibetrag*) which is more advantageous for higher income groups. Additionally, eligibility depends on factors like the age and work status of children. These factors make it a more complex feature of the German taxes and transfers system than one might initially believe.  \n",
        "\n",
        "In the following, we will inspect in detail how the German *Kindergeld* is implemented in GETTSIM to showcase further functionalities of the package. To start off, we load a policy environment to work with."
      ]
    },
    {
      "cell_type": "code",
      "execution_count": 23,
      "metadata": {
        "ExecuteTime": {
          "end_time": "2020-10-02T09:18:07.947529Z",
          "start_time": "2020-10-02T09:18:07.588763Z"
        }
      },
      "outputs": [],
      "source": [
        "policy_params, policy_functions = set_up_policy_environment(\"2020\")"
      ]
    },
    {
      "cell_type": "code",
      "execution_count": 24,
      "metadata": {},
      "outputs": [
        {
          "data": {
            "text/plain": [
              "{'faktor_berechnungsformel': 1.15,\n",
              " 'koeffizienten_berechnungsformel': {1: {'a': 0.04,\n",
              "   'b': 0.00058,\n",
              "   'c': 0.000118},\n",
              "  2: {'a': 0.03, 'b': 0.000405, 'c': 8.8e-05},\n",
              "  3: {'a': 0.02, 'b': 0.00035, 'c': 7.09e-05},\n",
              "  4: {'a': 0.01, 'b': 0.000313, 'c': 3.68e-05},\n",
              "  5: {'a': 0, 'b': 0.000276, 'c': 3.59e-05},\n",
              "  6: {'a': -0.01, 'b': 0.000258, 'c': 3.08e-05},\n",
              "  7: {'a': -0.02, 'b': 0.000239, 'c': 3.16e-05},\n",
              "  8: {'a': -0.03, 'b': 0.000212, 'c': 3.16e-05},\n",
              "  9: {'a': -0.04, 'b': 0.000184, 'c': 3.33e-05},\n",
              "  10: {'a': -0.06, 'b': 0.000147, 'c': 3.85e-05},\n",
              "  11: {'a': -0.1, 'b': 0.00011, 'c': 4.53e-05},\n",
              "  12: {'a': -0.14, 'b': 0.000101, 'c': 5.13e-05}},\n",
              " 'haushaltsgröße_hhn': {1: 5, 2: 12},\n",
              " 'bonus_sehr_große_haushalte': {'max_anz_personen_normale_berechnung': 12,\n",
              "  'bonus_jede_weitere_person': 51},\n",
              " 'abzug_stufen': {0: 0.0, 1: 0.1, 2: 0.2, 3: 0.3},\n",
              " 'min_miete': {1: 52,\n",
              "  2: 64,\n",
              "  3: 76,\n",
              "  4: 88,\n",
              "  5: 99,\n",
              "  6: 99,\n",
              "  7: 111,\n",
              "  8: 123,\n",
              "  9: 135,\n",
              "  10: 146,\n",
              "  11: 180,\n",
              "  12: 286},\n",
              " 'min_eink': {1: 275,\n",
              "  2: 357,\n",
              "  3: 414,\n",
              "  4: 447,\n",
              "  5: 532,\n",
              "  6: 618,\n",
              "  7: 702,\n",
              "  8: 787,\n",
              "  9: 872,\n",
              "  10: 957,\n",
              "  11: 1248,\n",
              "  12: 1443},\n",
              " 'freib_kinder_m': {'alleinerz': 110, 'arbeitendes_kind': 100},\n",
              " 'freib_behinderung': 1800,\n",
              " 'behinderungsgrad': {1: 0, 2: 80},\n",
              " 'max_miete': {1: {1: 338, 2: 381, 3: 426, 4: 478, 5: 525, 6: 575, 7: 633},\n",
              "  2: {1: 409, 2: 461, 3: 516, 4: 579, 5: 636, 6: 697, 7: 767},\n",
              "  3: {1: 487, 2: 549, 3: 614, 4: 689, 5: 757, 6: 830, 7: 912},\n",
              "  4: {1: 568, 2: 641, 3: 716, 4: 803, 5: 884, 6: 968, 7: 1065},\n",
              "  5: {1: 649, 2: 732, 3: 818, 4: 918, 5: 1010, 6: 1106, 7: 1217},\n",
              "  'jede_weitere_person': {1: 77,\n",
              "   2: 88,\n",
              "   3: 99,\n",
              "   4: 111,\n",
              "   5: 121,\n",
              "   6: 139,\n",
              "   7: 153}},\n",
              " 'vermögensgrundfreibetrag': 60000,\n",
              " 'vermögensfreibetrag_pers': 30000,\n",
              " 'datum': numpy.datetime64('2020-01-01')}"
            ]
          },
          "execution_count": 24,
          "metadata": {},
          "output_type": "execute_result"
        }
      ],
      "source": [
        "policy_params[\"wohngeld\"]"
      ]
    },
    {
      "cell_type": "markdown",
      "metadata": {},
      "source": [
        "The according policy parameters are saved under the key `kindergeld`."
      ]
    },
    {
      "cell_type": "code",
      "execution_count": 25,
      "metadata": {
        "ExecuteTime": {
          "end_time": "2020-10-02T09:18:08.088738Z",
          "start_time": "2020-10-02T09:18:08.077527Z"
        }
      },
      "outputs": [
        {
          "data": {
            "text/plain": [
              "{'altersgrenze': {'mit_bedingungen': 25, 'ohne_bedingungen': 18},\n",
              " 'kindergeld': {1: 204, 2: 204, 3: 210, 4: 235},\n",
              " 'einkommensgrenze': 8004,\n",
              " 'stundengrenze': 20,\n",
              " 'kinderbonus': 300,\n",
              " 'datum': numpy.datetime64('2020-01-01')}"
            ]
          },
          "execution_count": 25,
          "metadata": {},
          "output_type": "execute_result"
        }
      ],
      "source": [
        "policy_params[\"kindergeld\"]"
      ]
    },
    {
      "cell_type": "markdown",
      "metadata": {},
      "source": [
        "## DAG Plots for Visualization of the Taxes and Transfers System\n",
        "\n",
        "To get a better picture of how *Kindergeld* is implemented in GETTSIM and, meanwhile, of the structure of the German taxes and transfers system, we can utilize GETTSIM's visualization capabilities which are concentrated in the function `plot_dag`. This function creates a directed acyclic graph (DAG) for the taxes and transfers system. It offers many different visualization possibilities. The [guide on visualizing the taxes and transfers system](../how_to_guides/visualizing_the_system.ipynb) gives an in depth explanation of the function. \n",
        "\n",
        "To figure out which variables are relevant for the child benefit, we plot an according slice of the entire taxes and transfers system implemented in GETTSIM using `plot_dag`. The function was already imported with all other relevant packages at the beginning of this tutorial. To select the relevant plot, we have to define selectors that we can pass as arguments to the function. We can check the possible output variables [here](../gettsim_objects/variables_out.rst) to find the relevant variable name for our application."
      ]
    },
    {
      "cell_type": "code",
      "execution_count": 26,
      "metadata": {},
      "outputs": [],
      "source": [
        "selectors = {\"type\": \"ancestors\", \"node\": \"kindergeld_m\"}"
      ]
    },
    {
      "cell_type": "markdown",
      "metadata": {},
      "source": [
        "Since we are interested in the child benefits, we select the node `kindergeld_m` and plot its `ancestors`, which are all the nodes `kindergeld_m` directly or indirectly depends on. As the plot below shows, the variable depends on many other nodes and generates a very large DAG. Clicking on a node links to the according function or variable."
      ]
    },
    {
      "cell_type": "code",
      "execution_count": 27,
      "metadata": {
        "ExecuteTime": {
          "end_time": "2020-10-02T09:18:10.100625Z",
          "start_time": "2020-10-02T09:18:09.756437Z"
        }
      },
      "outputs": [
        {
          "data": {
            "application/vnd.jupyter.widget-view+json": {
              "model_id": "f612ff2c35334914b12fe4cace23385a",
              "version_major": 2,
              "version_minor": 0
            },
            "text/plain": [
              "FigureWidget({\n",
              "    'data': [{'hoverinfo': 'none',\n",
              "              'line': {'color': 'blue', 'width': 0.5},\n",
              "     …"
            ]
          },
          "metadata": {},
          "output_type": "display_data"
        }
      ],
      "source": [
        "plot_dag(functions=policy_functions, selectors=selectors)"
      ]
    },
    {
      "cell_type": "markdown",
      "metadata": {},
      "source": [
        "An alternative way to inspect the variable is by looking at its neighbors in the DAG. This depiction shows the related variables and functions up to two nodes away from `kindergeld_m`. It reveals `descendants` of `kindergeld_m`: `kindergeld_m_tu` and `kindergeld_m_hh`. These variables contain the child benefits on tax unit and household level respectively."
      ]
    },
    {
      "cell_type": "code",
      "execution_count": 28,
      "metadata": {},
      "outputs": [
        {
          "data": {
            "application/vnd.jupyter.widget-view+json": {
              "model_id": "4d3aa8759b2c45af97fa9c8f95746b70",
              "version_major": 2,
              "version_minor": 0
            },
            "text/plain": [
              "FigureWidget({\n",
              "    'data': [{'hoverinfo': 'none',\n",
              "              'line': {'color': 'blue', 'width': 0.5},\n",
              "     …"
            ]
          },
          "metadata": {},
          "output_type": "display_data"
        }
      ],
      "source": [
        "selectors = {\"type\": \"neighbors\", \"node\": \"kindergeld_m\", \"order\": 2}\n",
        "plot_dag(functions=policy_functions, selectors=selectors)"
      ]
    },
    {
      "cell_type": "markdown",
      "metadata": {},
      "source": [
        "## Computing Variables of Interest\n",
        "\n",
        "Once we have inspected the DAG, we now have an impression of the various input variables and functions that influence our variable  of interest. As a next step, we will load a set of simulated household data and inspect how we can compute the *Kindergeld* using `compute_taxes_and_transfers` and use the function's features and error messages to aid us in this process."
      ]
    },
    {
      "cell_type": "markdown",
      "metadata": {},
      "source": [
        "### Simulated Data\n",
        "\n",
        "We simulate ad dataset using `create_synthetic_data`. It contains information on households with two adults (age 50) and zero, one, or two children which are either 5 or 10 years old. Each household type occurs with the same frequency in the data. \n",
        "\n",
        "The household observations are otherwise identical i.e. the households with children are just replications of the child-free households and for each set of adults with a given income, there are two counterparts, a set of adults with one child and and a set of adults with two children. \n",
        "\n",
        "The dataset is sorted accordingly. The first observations only contain child-free individuals while the last observations show the two-child households."
      ]
    },
    {
      "cell_type": "code",
      "execution_count": 29,
      "metadata": {},
      "outputs": [],
      "source": [
        "data = create_synthetic_data(\n",
        "    hh_typen=[\"couple\"],\n",
        "    n_children=[0, 1, 2],\n",
        "    age_adults=[50, 50],\n",
        "    age_children=[10, 5],\n",
        "    heterogeneous_vars={\"bruttolohn_m\": np.linspace(1500, 8000, 250)},\n",
        ")"
      ]
    },
    {
      "cell_type": "code",
      "execution_count": 30,
      "metadata": {},
      "outputs": [
        {
          "data": {
            "text/html": [
              "<div>\n",
              "<style scoped>\n",
              "    .dataframe tbody tr th:only-of-type {\n",
              "        vertical-align: middle;\n",
              "    }\n",
              "\n",
              "    .dataframe tbody tr th {\n",
              "        vertical-align: top;\n",
              "    }\n",
              "\n",
              "    .dataframe thead th {\n",
              "        text-align: right;\n",
              "    }\n",
              "</style>\n",
              "<table border=\"1\" class=\"dataframe\">\n",
              "  <thead>\n",
              "    <tr style=\"text-align: right;\">\n",
              "      <th></th>\n",
              "      <th>hh_id</th>\n",
              "      <th>hh_typ</th>\n",
              "      <th>alter</th>\n",
              "      <th>kind</th>\n",
              "      <th>bruttolohn_m</th>\n",
              "    </tr>\n",
              "  </thead>\n",
              "  <tbody>\n",
              "    <tr>\n",
              "      <th>0</th>\n",
              "      <td>0</td>\n",
              "      <td>couple_0_children</td>\n",
              "      <td>50</td>\n",
              "      <td>False</td>\n",
              "      <td>1500.0</td>\n",
              "    </tr>\n",
              "    <tr>\n",
              "      <th>1</th>\n",
              "      <td>0</td>\n",
              "      <td>couple_0_children</td>\n",
              "      <td>50</td>\n",
              "      <td>False</td>\n",
              "      <td>0.0</td>\n",
              "    </tr>\n",
              "    <tr>\n",
              "      <th>2</th>\n",
              "      <td>1</td>\n",
              "      <td>couple_1_children</td>\n",
              "      <td>50</td>\n",
              "      <td>False</td>\n",
              "      <td>1500.0</td>\n",
              "    </tr>\n",
              "    <tr>\n",
              "      <th>3</th>\n",
              "      <td>1</td>\n",
              "      <td>couple_1_children</td>\n",
              "      <td>50</td>\n",
              "      <td>False</td>\n",
              "      <td>0.0</td>\n",
              "    </tr>\n",
              "    <tr>\n",
              "      <th>4</th>\n",
              "      <td>1</td>\n",
              "      <td>couple_1_children</td>\n",
              "      <td>10</td>\n",
              "      <td>True</td>\n",
              "      <td>0.0</td>\n",
              "    </tr>\n",
              "    <tr>\n",
              "      <th>...</th>\n",
              "      <td>...</td>\n",
              "      <td>...</td>\n",
              "      <td>...</td>\n",
              "      <td>...</td>\n",
              "      <td>...</td>\n",
              "    </tr>\n",
              "    <tr>\n",
              "      <th>2245</th>\n",
              "      <td>748</td>\n",
              "      <td>couple_1_children</td>\n",
              "      <td>10</td>\n",
              "      <td>True</td>\n",
              "      <td>0.0</td>\n",
              "    </tr>\n",
              "    <tr>\n",
              "      <th>2246</th>\n",
              "      <td>749</td>\n",
              "      <td>couple_2_children</td>\n",
              "      <td>50</td>\n",
              "      <td>False</td>\n",
              "      <td>8000.0</td>\n",
              "    </tr>\n",
              "    <tr>\n",
              "      <th>2247</th>\n",
              "      <td>749</td>\n",
              "      <td>couple_2_children</td>\n",
              "      <td>50</td>\n",
              "      <td>False</td>\n",
              "      <td>0.0</td>\n",
              "    </tr>\n",
              "    <tr>\n",
              "      <th>2248</th>\n",
              "      <td>749</td>\n",
              "      <td>couple_2_children</td>\n",
              "      <td>10</td>\n",
              "      <td>True</td>\n",
              "      <td>0.0</td>\n",
              "    </tr>\n",
              "    <tr>\n",
              "      <th>2249</th>\n",
              "      <td>749</td>\n",
              "      <td>couple_2_children</td>\n",
              "      <td>5</td>\n",
              "      <td>True</td>\n",
              "      <td>0.0</td>\n",
              "    </tr>\n",
              "  </tbody>\n",
              "</table>\n",
              "<p>2250 rows × 5 columns</p>\n",
              "</div>"
            ],
            "text/plain": [
              "      hh_id             hh_typ  alter   kind  bruttolohn_m\n",
              "0         0  couple_0_children     50  False        1500.0\n",
              "1         0  couple_0_children     50  False           0.0\n",
              "2         1  couple_1_children     50  False        1500.0\n",
              "3         1  couple_1_children     50  False           0.0\n",
              "4         1  couple_1_children     10   True           0.0\n",
              "...     ...                ...    ...    ...           ...\n",
              "2245    748  couple_1_children     10   True           0.0\n",
              "2246    749  couple_2_children     50  False        8000.0\n",
              "2247    749  couple_2_children     50  False           0.0\n",
              "2248    749  couple_2_children     10   True           0.0\n",
              "2249    749  couple_2_children      5   True           0.0\n",
              "\n",
              "[2250 rows x 5 columns]"
            ]
          },
          "execution_count": 30,
          "metadata": {},
          "output_type": "execute_result"
        }
      ],
      "source": [
        "data[[\"hh_id\", \"hh_typ\", \"alter\", \"kind\", \"bruttolohn_m\"]]"
      ]
    },
    {
      "cell_type": "markdown",
      "metadata": {},
      "source": [
        "Adults' monthly gross earnings range between €1,500 and €8,000. It is captured in the variable `bruttolohn_m`. We can use the pandas function [pandas.DataFrame.describe](https://pandas.pydata.org/pandas-docs/stable/reference/api/pandas.Series.describe.html) to assess the variable in detail."
      ]
    },
    {
      "cell_type": "code",
      "execution_count": 31,
      "metadata": {
        "scrolled": true
      },
      "outputs": [
        {
          "data": {
            "text/plain": [
              "count    2250.000000\n",
              "mean     1583.333333\n",
              "std      2489.916065\n",
              "min         0.000000\n",
              "25%         0.000000\n",
              "50%         0.000000\n",
              "75%      3118.473896\n",
              "max      8000.000000\n",
              "Name: bruttolohn_m, dtype: float64"
            ]
          },
          "execution_count": 31,
          "metadata": {},
          "output_type": "execute_result"
        }
      ],
      "source": [
        "data.bruttolohn_m.describe()"
      ]
    },
    {
      "cell_type": "markdown",
      "metadata": {},
      "source": [
        "The columns contain all the input variables needed to compute `kindergeld_m`."
      ]
    },
    {
      "cell_type": "code",
      "execution_count": 32,
      "metadata": {},
      "outputs": [
        {
          "data": {
            "text/plain": [
              "Index(['p_id', 'hh_id', 'tu_id', 'hh_typ', 'kind', 'bruttolohn_m', 'alter',\n",
              "       'weiblich', 'rentner', 'alleinerz', 'wohnort_ost', 'in_priv_krankenv',\n",
              "       'priv_rentenv_beitr_m', 'in_ausbildung', 'selbstständig', 'hat_kinder',\n",
              "       'betreuungskost_m', 'sonstig_eink_m', 'eink_selbst_m',\n",
              "       'eink_vermietung_m', 'kapitaleink_brutto_m', 'bruttokaltmiete_m_hh',\n",
              "       'heizkosten_m_hh', 'wohnfläche_hh', 'bewohnt_eigentum_hh',\n",
              "       'arbeitsl_monate_lfdj', 'arbeitsl_monate_vorj', 'arbeitsl_monate_v2j',\n",
              "       'arbeitsstunden_w', 'bruttolohn_vorj_m', 'geburtstag', 'geburtsmonat',\n",
              "       'geburtsjahr', 'jahr_renteneintr', 'm_elterngeld',\n",
              "       'm_elterngeld_mut_hh', 'm_elterngeld_vat_hh', 'behinderungsgrad',\n",
              "       'mietstufe', 'immobilie_baujahr', 'vermögen_bedürft_hh', 'entgeltp',\n",
              "       'grundr_bew_zeiten', 'grundr_entgeltp', 'grundr_zeiten', 'priv_rente_m',\n",
              "       'schwerbeh_g', 'm_pflichtbeitrag', 'm_freiw_beitrag', 'm_mutterschutz',\n",
              "       'm_arbeitsunfähig', 'm_krank_ab_16_bis_24', 'm_arbeitslos',\n",
              "       'm_ausbild_suche', 'm_schul_ausbild', 'm_geringf_beschäft',\n",
              "       'm_alg1_übergang', 'm_ersatzzeit', 'm_kind_berücks_zeit',\n",
              "       'm_pfleg_berücks_zeit', 'y_pflichtbeitr_ab_40'],\n",
              "      dtype='object')"
            ]
          },
          "execution_count": 32,
          "metadata": {},
          "output_type": "execute_result"
        }
      ],
      "source": [
        "data.columns"
      ]
    },
    {
      "cell_type": "markdown",
      "metadata": {},
      "source": [
        "### Using Errors and Warnings\n",
        "\n",
        "As the DAG and column list above show, a large number of inputs is required to compute child benefits for a family. While the DAG is very useful to understand the structure within GETTSIM behind a variable or function, it might be difficult to infer which inputs exactly are needed in the data to compute a desired output. The function `compute_taxes_and_transfers` thus directly provides multiple mechanisms that help you identify the required input variables to compute certain taxes and transfers.\n",
        "\n",
        "As shown in the [basic usage tutorial](basic_usage.ipynb), the function requires `data`, one or multiple `targets`, and `policy_params` as well as `policy_functions` to compute taxes and transfers for a given policy environment. \n",
        "\n",
        "Since our data set includes all required input columns already, the function does so without problems."
      ]
    },
    {
      "cell_type": "code",
      "execution_count": 33,
      "metadata": {},
      "outputs": [
        {
          "data": {
            "text/html": [
              "<div>\n",
              "<style scoped>\n",
              "    .dataframe tbody tr th:only-of-type {\n",
              "        vertical-align: middle;\n",
              "    }\n",
              "\n",
              "    .dataframe tbody tr th {\n",
              "        vertical-align: top;\n",
              "    }\n",
              "\n",
              "    .dataframe thead th {\n",
              "        text-align: right;\n",
              "    }\n",
              "</style>\n",
              "<table border=\"1\" class=\"dataframe\">\n",
              "  <thead>\n",
              "    <tr style=\"text-align: right;\">\n",
              "      <th></th>\n",
              "      <th>hh_id</th>\n",
              "      <th>tu_id</th>\n",
              "      <th>p_id</th>\n",
              "      <th>kindergeld_m</th>\n",
              "    </tr>\n",
              "  </thead>\n",
              "  <tbody>\n",
              "    <tr>\n",
              "      <th>0</th>\n",
              "      <td>0</td>\n",
              "      <td>0</td>\n",
              "      <td>0</td>\n",
              "      <td>0.0</td>\n",
              "    </tr>\n",
              "    <tr>\n",
              "      <th>1</th>\n",
              "      <td>0</td>\n",
              "      <td>0</td>\n",
              "      <td>1</td>\n",
              "      <td>0.0</td>\n",
              "    </tr>\n",
              "    <tr>\n",
              "      <th>2</th>\n",
              "      <td>1</td>\n",
              "      <td>1</td>\n",
              "      <td>2</td>\n",
              "      <td>0.0</td>\n",
              "    </tr>\n",
              "  </tbody>\n",
              "</table>\n",
              "</div>"
            ],
            "text/plain": [
              "   hh_id  tu_id  p_id  kindergeld_m\n",
              "0      0      0     0           0.0\n",
              "1      0      0     1           0.0\n",
              "2      1      1     2           0.0"
            ]
          },
          "execution_count": 33,
          "metadata": {},
          "output_type": "execute_result"
        }
      ],
      "source": [
        "result = compute_taxes_and_transfers(\n",
        "    data=data, params=policy_params, targets=\"kindergeld_m\", functions=policy_functions\n",
        ")\n",
        "result.head(3)"
      ]
    },
    {
      "cell_type": "markdown",
      "metadata": {},
      "source": [
        "#### Error Messages: Missing Inputs\n",
        "\n",
        "However, if we have failed to add a required column, the function throws an error with a message that specifies which columns are missing. For example, the variable `bruttolohn_m` holds information on monthly gross earnings and is required to compute child benefits. Dropping it from the data triggers the error."
      ]
    },
    {
      "cell_type": "code",
      "execution_count": 34,
      "metadata": {},
      "outputs": [
        {
          "ename": "ValueError",
          "evalue": "The following data columns are missing.\n\n[\n    \"bruttolohn_m\",\n]\n",
          "output_type": "error",
          "traceback": [
            "\u001b[0;31m---------------------------------------------------------------------------\u001b[0m",
            "\u001b[0;31mValueError\u001b[0m                                Traceback (most recent call last)",
            "Cell \u001b[0;32mIn[34], line 2\u001b[0m\n\u001b[1;32m      1\u001b[0m incomplete_data \u001b[39m=\u001b[39m data\u001b[39m.\u001b[39mdrop(\u001b[39m\"\u001b[39m\u001b[39mbruttolohn_m\u001b[39m\u001b[39m\"\u001b[39m, axis\u001b[39m=\u001b[39m\u001b[39m1\u001b[39m)\n\u001b[0;32m----> 2\u001b[0m result \u001b[39m=\u001b[39m compute_taxes_and_transfers(\n\u001b[1;32m      3\u001b[0m     data\u001b[39m=\u001b[39;49mincomplete_data,\n\u001b[1;32m      4\u001b[0m     params\u001b[39m=\u001b[39;49mpolicy_params,\n\u001b[1;32m      5\u001b[0m     targets\u001b[39m=\u001b[39;49m\u001b[39m\"\u001b[39;49m\u001b[39mkindergeld_m\u001b[39;49m\u001b[39m\"\u001b[39;49m,\n\u001b[1;32m      6\u001b[0m     functions\u001b[39m=\u001b[39;49mpolicy_functions\n\u001b[1;32m      7\u001b[0m )\n",
            "File \u001b[0;32m/mnt/econ/gettsim/gettsim/src/_gettsim/interface.py:116\u001b[0m, in \u001b[0;36mcompute_taxes_and_transfers\u001b[0;34m(data, params, functions, aggregation_specs, targets, columns_overriding_functions, check_minimal_specification, rounding, debug)\u001b[0m\n\u001b[1;32m    111\u001b[0m processed_functions \u001b[39m=\u001b[39m _round_and_partial_parameters_to_functions(\n\u001b[1;32m    112\u001b[0m     necessary_functions, params, rounding\n\u001b[1;32m    113\u001b[0m )\n\u001b[1;32m    115\u001b[0m \u001b[39m# Create input data.\u001b[39;00m\n\u001b[0;32m--> 116\u001b[0m input_data \u001b[39m=\u001b[39m _create_input_data(\n\u001b[1;32m    117\u001b[0m     data\u001b[39m=\u001b[39;49mdata,\n\u001b[1;32m    118\u001b[0m     processed_functions\u001b[39m=\u001b[39;49mprocessed_functions,\n\u001b[1;32m    119\u001b[0m     targets\u001b[39m=\u001b[39;49mtargets,\n\u001b[1;32m    120\u001b[0m     columns_overriding_functions\u001b[39m=\u001b[39;49mcolumns_overriding_functions,\n\u001b[1;32m    121\u001b[0m     check_minimal_specification\u001b[39m=\u001b[39;49mcheck_minimal_specification,\n\u001b[1;32m    122\u001b[0m )\n\u001b[1;32m    124\u001b[0m \u001b[39m# Calculate results.\u001b[39;00m\n\u001b[1;32m    125\u001b[0m tax_transfer_function \u001b[39m=\u001b[39m dags\u001b[39m.\u001b[39mconcatenate_functions(\n\u001b[1;32m    126\u001b[0m     processed_functions,\n\u001b[1;32m    127\u001b[0m     targets,\n\u001b[0;32m   (...)\u001b[0m\n\u001b[1;32m    130\u001b[0m     enforce_signature\u001b[39m=\u001b[39m\u001b[39mTrue\u001b[39;00m,\n\u001b[1;32m    131\u001b[0m )\n",
            "File \u001b[0;32m/mnt/econ/gettsim/gettsim/src/_gettsim/interface.py:346\u001b[0m, in \u001b[0;36m_create_input_data\u001b[0;34m(data, processed_functions, targets, columns_overriding_functions, check_minimal_specification)\u001b[0m\n\u001b[1;32m    339\u001b[0m dag \u001b[39m=\u001b[39m set_up_dag(\n\u001b[1;32m    340\u001b[0m     all_functions\u001b[39m=\u001b[39mprocessed_functions,\n\u001b[1;32m    341\u001b[0m     targets\u001b[39m=\u001b[39mtargets,\n\u001b[1;32m    342\u001b[0m     columns_overriding_functions\u001b[39m=\u001b[39mcolumns_overriding_functions,\n\u001b[1;32m    343\u001b[0m     check_minimal_specification\u001b[39m=\u001b[39mcheck_minimal_specification,\n\u001b[1;32m    344\u001b[0m )\n\u001b[1;32m    345\u001b[0m root_nodes \u001b[39m=\u001b[39m {n \u001b[39mfor\u001b[39;00m n \u001b[39min\u001b[39;00m dag\u001b[39m.\u001b[39mnodes \u001b[39mif\u001b[39;00m \u001b[39mlist\u001b[39m(dag\u001b[39m.\u001b[39mpredecessors(n)) \u001b[39m==\u001b[39m []}\n\u001b[0;32m--> 346\u001b[0m _fail_if_root_nodes_are_missing(root_nodes, data, processed_functions)\n\u001b[1;32m    347\u001b[0m data \u001b[39m=\u001b[39m _reduce_to_necessary_data(root_nodes, data, check_minimal_specification)\n\u001b[1;32m    349\u001b[0m \u001b[39m# Convert series to numpy arrays\u001b[39;00m\n",
            "File \u001b[0;32m/mnt/econ/gettsim/gettsim/src/_gettsim/interface.py:475\u001b[0m, in \u001b[0;36m_fail_if_root_nodes_are_missing\u001b[0;34m(root_nodes, data, functions)\u001b[0m\n\u001b[1;32m    473\u001b[0m \u001b[39mif\u001b[39;00m missing_nodes:\n\u001b[1;32m    474\u001b[0m     formatted \u001b[39m=\u001b[39m format_list_linewise(missing_nodes)\n\u001b[0;32m--> 475\u001b[0m     \u001b[39mraise\u001b[39;00m \u001b[39mValueError\u001b[39;00m(\u001b[39mf\u001b[39m\u001b[39m\"\u001b[39m\u001b[39mThe following data columns are missing.\u001b[39m\u001b[39m\\n\u001b[39;00m\u001b[39m{\u001b[39;00mformatted\u001b[39m}\u001b[39;00m\u001b[39m\"\u001b[39m)\n",
            "\u001b[0;31mValueError\u001b[0m: The following data columns are missing.\n\n[\n    \"bruttolohn_m\",\n]\n"
          ]
        }
      ],
      "source": [
        "incomplete_data = data.drop(\"bruttolohn_m\", axis=1)\n",
        "result = compute_taxes_and_transfers(\n",
        "    data=incomplete_data,\n",
        "    params=policy_params,\n",
        "    targets=\"kindergeld_m\",\n",
        "    functions=policy_functions\n",
        ")"
      ]
    },
    {
      "cell_type": "markdown",
      "metadata": {},
      "source": [
        "Similarly, we can pass an empty pandas.DataFrame to the function to get a list of all the necessary input columns to compute the desired target(s)."
      ]
    },
    {
      "cell_type": "code",
      "execution_count": 35,
      "metadata": {},
      "outputs": [
        {
          "ename": "ValueError",
          "evalue": "The input data must contain the column p_id",
          "output_type": "error",
          "traceback": [
            "\u001b[0;31m---------------------------------------------------------------------------\u001b[0m",
            "\u001b[0;31mValueError\u001b[0m                                Traceback (most recent call last)",
            "Cell \u001b[0;32mIn[35], line 1\u001b[0m\n\u001b[0;32m----> 1\u001b[0m result \u001b[39m=\u001b[39m compute_taxes_and_transfers(\n\u001b[1;32m      2\u001b[0m     data\u001b[39m=\u001b[39;49mpd\u001b[39m.\u001b[39;49mDataFrame(),\n\u001b[1;32m      3\u001b[0m     params\u001b[39m=\u001b[39;49mpolicy_params,\n\u001b[1;32m      4\u001b[0m     targets\u001b[39m=\u001b[39;49m\u001b[39m\"\u001b[39;49m\u001b[39mkindergeld_m\u001b[39;49m\u001b[39m\"\u001b[39;49m,\n\u001b[1;32m      5\u001b[0m     functions\u001b[39m=\u001b[39;49mpolicy_functions,\n\u001b[1;32m      6\u001b[0m )\n",
            "File \u001b[0;32m/mnt/econ/gettsim/gettsim/src/_gettsim/interface.py:87\u001b[0m, in \u001b[0;36mcompute_taxes_and_transfers\u001b[0;34m(data, params, functions, aggregation_specs, targets, columns_overriding_functions, check_minimal_specification, rounding, debug)\u001b[0m\n\u001b[1;32m     84\u001b[0m aggregation_specs \u001b[39m=\u001b[39m {} \u001b[39mif\u001b[39;00m aggregation_specs \u001b[39mis\u001b[39;00m \u001b[39mNone\u001b[39;00m \u001b[39melse\u001b[39;00m aggregation_specs\n\u001b[1;32m     86\u001b[0m \u001b[39m# Process data and load dictionaries with functions.\u001b[39;00m\n\u001b[0;32m---> 87\u001b[0m data \u001b[39m=\u001b[39m _process_and_check_data(\n\u001b[1;32m     88\u001b[0m     data\u001b[39m=\u001b[39;49mdata, columns_overriding_functions\u001b[39m=\u001b[39;49mcolumns_overriding_functions\n\u001b[1;32m     89\u001b[0m )\n\u001b[1;32m     90\u001b[0m functions_not_overridden, functions_overridden \u001b[39m=\u001b[39m load_and_check_functions(\n\u001b[1;32m     91\u001b[0m     user_functions_raw\u001b[39m=\u001b[39mfunctions,\n\u001b[1;32m     92\u001b[0m     columns_overriding_functions\u001b[39m=\u001b[39mcolumns_overriding_functions,\n\u001b[0;32m   (...)\u001b[0m\n\u001b[1;32m     95\u001b[0m     aggregation_specs\u001b[39m=\u001b[39maggregation_specs,\n\u001b[1;32m     96\u001b[0m )\n\u001b[1;32m     97\u001b[0m data \u001b[39m=\u001b[39m _convert_data_to_correct_types(data, functions_overridden)\n",
            "File \u001b[0;32m/mnt/econ/gettsim/gettsim/src/_gettsim/interface.py:229\u001b[0m, in \u001b[0;36m_process_and_check_data\u001b[0;34m(data, columns_overriding_functions)\u001b[0m\n\u001b[1;32m    222\u001b[0m     \u001b[39massert\u001b[39;00m (\n\u001b[1;32m    223\u001b[0m         \u001b[39mnot\u001b[39;00m data[\u001b[39m\"\u001b[39m\u001b[39mtu_id\u001b[39m\u001b[39m\"\u001b[39m]\u001b[39m.\u001b[39mgroupby(data[\u001b[39m\"\u001b[39m\u001b[39mhh_id\u001b[39m\u001b[39m\"\u001b[39m])\u001b[39m.\u001b[39mstd()\u001b[39m.\u001b[39mmax() \u001b[39m>\u001b[39m \u001b[39m0\u001b[39m\n\u001b[1;32m    224\u001b[0m     ), \u001b[39m\"\u001b[39m\u001b[39mWe currently allow for only one tax unit within each household\u001b[39m\u001b[39m\"\u001b[39m\n\u001b[1;32m    226\u001b[0m _fail_if_columns_overriding_functions_are_not_in_data(\n\u001b[1;32m    227\u001b[0m     \u001b[39mlist\u001b[39m(data), columns_overriding_functions\n\u001b[1;32m    228\u001b[0m )\n\u001b[0;32m--> 229\u001b[0m _fail_if_pid_is_non_unique(data)\n\u001b[1;32m    231\u001b[0m \u001b[39mreturn\u001b[39;00m data\n",
            "File \u001b[0;32m/mnt/econ/gettsim/gettsim/src/_gettsim/interface.py:448\u001b[0m, in \u001b[0;36m_fail_if_pid_is_non_unique\u001b[0;34m(data)\u001b[0m\n\u001b[1;32m    446\u001b[0m \u001b[39mif\u001b[39;00m \u001b[39m\"\u001b[39m\u001b[39mp_id\u001b[39m\u001b[39m\"\u001b[39m \u001b[39mnot\u001b[39;00m \u001b[39min\u001b[39;00m data:\n\u001b[1;32m    447\u001b[0m     message \u001b[39m=\u001b[39m \u001b[39m\"\u001b[39m\u001b[39mThe input data must contain the column p_id\u001b[39m\u001b[39m\"\u001b[39m\n\u001b[0;32m--> 448\u001b[0m     \u001b[39mraise\u001b[39;00m \u001b[39mValueError\u001b[39;00m(message)\n\u001b[1;32m    449\u001b[0m \u001b[39melif\u001b[39;00m \u001b[39mnot\u001b[39;00m data[\u001b[39m\"\u001b[39m\u001b[39mp_id\u001b[39m\u001b[39m\"\u001b[39m]\u001b[39m.\u001b[39mis_unique:\n\u001b[1;32m    450\u001b[0m     list_of_nunique_ids \u001b[39m=\u001b[39m \u001b[39mlist\u001b[39m(data[\u001b[39m\"\u001b[39m\u001b[39mp_id\u001b[39m\u001b[39m\"\u001b[39m]\u001b[39m.\u001b[39mloc[data[\u001b[39m\"\u001b[39m\u001b[39mp_id\u001b[39m\u001b[39m\"\u001b[39m]\u001b[39m.\u001b[39mduplicated()])\n",
            "\u001b[0;31mValueError\u001b[0m: The input data must contain the column p_id"
          ]
        }
      ],
      "source": [
        "result = compute_taxes_and_transfers(\n",
        "    data=pd.DataFrame(),\n",
        "    params=policy_params,\n",
        "    targets=\"kindergeld_m\",\n",
        "    functions=policy_functions,\n",
        ")"
      ]
    },
    {
      "cell_type": "markdown",
      "metadata": {},
      "source": [
        "#### Error Messages and Warnings: Unused Inputs\n",
        "\n",
        "The function `compute_taxes_and_transfers` also has an option that allows you to check for unused inputs in your data. This functionality is controlled through the argument `check_minimal_specification`. By default, it is set to `ignore`, meaning no check is conduced. However, it can also be set to `warn` to trigger a warning or `raise` an error that includes a message stating the unused inputs."
      ]
    },
    {
      "cell_type": "code",
      "execution_count": 36,
      "metadata": {},
      "outputs": [
        {
          "ename": "ValueError",
          "evalue": "The following columns in 'data' are unused.\n\n\n[\n    \"m_elterngeld\",\n    \"grundr_entgeltp\",\n    \"immobilie_baujahr\",\n    \"vermögen_bedürft_hh\",\n    \"bruttolohn_vorj_m\",\n    \"sonstig_eink_m\",\n    \"m_elterngeld_vat_hh\",\n    \"arbeitsl_monate_v2j\",\n    \"bewohnt_eigentum_hh\",\n    \"m_elterngeld_mut_hh\",\n    \"heizkosten_m_hh\",\n    \"grundr_bew_zeiten\",\n    \"grundr_zeiten\",\n    \"wohnfläche_hh\",\n    \"bruttokaltmiete_m_hh\",\n    \"hh_typ\",\n    \"hh_id\",\n    \"geburtstag\",\n    \"mietstufe\",\n    \"arbeitsl_monate_lfdj\",\n    \"p_id\",\n    \"schwerbeh_g\",\n    \"arbeitsl_monate_vorj\",\n]\n",
          "output_type": "error",
          "traceback": [
            "\u001b[0;31m---------------------------------------------------------------------------\u001b[0m",
            "\u001b[0;31mValueError\u001b[0m                                Traceback (most recent call last)",
            "Cell \u001b[0;32mIn[36], line 1\u001b[0m\n\u001b[0;32m----> 1\u001b[0m result \u001b[39m=\u001b[39m compute_taxes_and_transfers(\n\u001b[1;32m      2\u001b[0m     data\u001b[39m=\u001b[39;49mdata,\n\u001b[1;32m      3\u001b[0m     params\u001b[39m=\u001b[39;49mpolicy_params,\n\u001b[1;32m      4\u001b[0m     targets\u001b[39m=\u001b[39;49m\u001b[39m\"\u001b[39;49m\u001b[39mkindergeld_m\u001b[39;49m\u001b[39m\"\u001b[39;49m,\n\u001b[1;32m      5\u001b[0m     functions\u001b[39m=\u001b[39;49mpolicy_functions,\n\u001b[1;32m      6\u001b[0m     check_minimal_specification\u001b[39m=\u001b[39;49m\u001b[39m\"\u001b[39;49m\u001b[39mraise\u001b[39;49m\u001b[39m\"\u001b[39;49m,\n\u001b[1;32m      7\u001b[0m )\n",
            "File \u001b[0;32m/mnt/econ/gettsim/gettsim/src/_gettsim/interface.py:116\u001b[0m, in \u001b[0;36mcompute_taxes_and_transfers\u001b[0;34m(data, params, functions, aggregation_specs, targets, columns_overriding_functions, check_minimal_specification, rounding, debug)\u001b[0m\n\u001b[1;32m    111\u001b[0m processed_functions \u001b[39m=\u001b[39m _round_and_partial_parameters_to_functions(\n\u001b[1;32m    112\u001b[0m     necessary_functions, params, rounding\n\u001b[1;32m    113\u001b[0m )\n\u001b[1;32m    115\u001b[0m \u001b[39m# Create input data.\u001b[39;00m\n\u001b[0;32m--> 116\u001b[0m input_data \u001b[39m=\u001b[39m _create_input_data(\n\u001b[1;32m    117\u001b[0m     data\u001b[39m=\u001b[39;49mdata,\n\u001b[1;32m    118\u001b[0m     processed_functions\u001b[39m=\u001b[39;49mprocessed_functions,\n\u001b[1;32m    119\u001b[0m     targets\u001b[39m=\u001b[39;49mtargets,\n\u001b[1;32m    120\u001b[0m     columns_overriding_functions\u001b[39m=\u001b[39;49mcolumns_overriding_functions,\n\u001b[1;32m    121\u001b[0m     check_minimal_specification\u001b[39m=\u001b[39;49mcheck_minimal_specification,\n\u001b[1;32m    122\u001b[0m )\n\u001b[1;32m    124\u001b[0m \u001b[39m# Calculate results.\u001b[39;00m\n\u001b[1;32m    125\u001b[0m tax_transfer_function \u001b[39m=\u001b[39m dags\u001b[39m.\u001b[39mconcatenate_functions(\n\u001b[1;32m    126\u001b[0m     processed_functions,\n\u001b[1;32m    127\u001b[0m     targets,\n\u001b[0;32m   (...)\u001b[0m\n\u001b[1;32m    130\u001b[0m     enforce_signature\u001b[39m=\u001b[39m\u001b[39mTrue\u001b[39;00m,\n\u001b[1;32m    131\u001b[0m )\n",
            "File \u001b[0;32m/mnt/econ/gettsim/gettsim/src/_gettsim/interface.py:347\u001b[0m, in \u001b[0;36m_create_input_data\u001b[0;34m(data, processed_functions, targets, columns_overriding_functions, check_minimal_specification)\u001b[0m\n\u001b[1;32m    345\u001b[0m root_nodes \u001b[39m=\u001b[39m {n \u001b[39mfor\u001b[39;00m n \u001b[39min\u001b[39;00m dag\u001b[39m.\u001b[39mnodes \u001b[39mif\u001b[39;00m \u001b[39mlist\u001b[39m(dag\u001b[39m.\u001b[39mpredecessors(n)) \u001b[39m==\u001b[39m []}\n\u001b[1;32m    346\u001b[0m _fail_if_root_nodes_are_missing(root_nodes, data, processed_functions)\n\u001b[0;32m--> 347\u001b[0m data \u001b[39m=\u001b[39m _reduce_to_necessary_data(root_nodes, data, check_minimal_specification)\n\u001b[1;32m    349\u001b[0m \u001b[39m# Convert series to numpy arrays\u001b[39;00m\n\u001b[1;32m    350\u001b[0m data \u001b[39m=\u001b[39m {key: series\u001b[39m.\u001b[39mvalues \u001b[39mfor\u001b[39;00m key, series \u001b[39min\u001b[39;00m data\u001b[39m.\u001b[39mitems()}\n",
            "File \u001b[0;32m/mnt/econ/gettsim/gettsim/src/_gettsim/interface.py:486\u001b[0m, in \u001b[0;36m_reduce_to_necessary_data\u001b[0;34m(root_nodes, data, check_minimal_specification)\u001b[0m\n\u001b[1;32m    484\u001b[0m     warnings\u001b[39m.\u001b[39mwarn(message)\n\u001b[1;32m    485\u001b[0m \u001b[39melif\u001b[39;00m unnecessary_data \u001b[39mand\u001b[39;00m check_minimal_specification \u001b[39m==\u001b[39m \u001b[39m\"\u001b[39m\u001b[39mraise\u001b[39m\u001b[39m\"\u001b[39m:\n\u001b[0;32m--> 486\u001b[0m     \u001b[39mraise\u001b[39;00m \u001b[39mValueError\u001b[39;00m(message)\n\u001b[1;32m    488\u001b[0m \u001b[39mreturn\u001b[39;00m {k: v \u001b[39mfor\u001b[39;00m k, v \u001b[39min\u001b[39;00m data\u001b[39m.\u001b[39mitems() \u001b[39mif\u001b[39;00m k \u001b[39mnot\u001b[39;00m \u001b[39min\u001b[39;00m unnecessary_data}\n",
            "\u001b[0;31mValueError\u001b[0m: The following columns in 'data' are unused.\n\n\n[\n    \"m_elterngeld\",\n    \"grundr_entgeltp\",\n    \"immobilie_baujahr\",\n    \"vermögen_bedürft_hh\",\n    \"bruttolohn_vorj_m\",\n    \"sonstig_eink_m\",\n    \"m_elterngeld_vat_hh\",\n    \"arbeitsl_monate_v2j\",\n    \"bewohnt_eigentum_hh\",\n    \"m_elterngeld_mut_hh\",\n    \"heizkosten_m_hh\",\n    \"grundr_bew_zeiten\",\n    \"grundr_zeiten\",\n    \"wohnfläche_hh\",\n    \"bruttokaltmiete_m_hh\",\n    \"hh_typ\",\n    \"hh_id\",\n    \"geburtstag\",\n    \"mietstufe\",\n    \"arbeitsl_monate_lfdj\",\n    \"p_id\",\n    \"schwerbeh_g\",\n    \"arbeitsl_monate_vorj\",\n]\n"
          ]
        }
      ],
      "source": [
        "result = compute_taxes_and_transfers(\n",
        "    data=data,\n",
        "    params=policy_params,\n",
        "    targets=\"kindergeld_m\",\n",
        "    functions=policy_functions,\n",
        "    check_minimal_specification=\"raise\",\n",
        ")"
      ]
    },
    {
      "cell_type": "markdown",
      "metadata": {},
      "source": [
        "### Debug Mode\n",
        "\n",
        "In addition to errors and warnings `compute_taxes_and_transfers` can also be used in debug mode by setting the argument `debug=True`. In this mode, the function returns all inputs and outputs that can be computed while issuing error messages for the parts where the code fails. It is thus a very useful tool to help you set up your code correctly and detect the sources of problems that might arise in the process. Check out the [troubleshooting tutorial](debugging.ipynb) for more information."
      ]
    },
    {
      "cell_type": "markdown",
      "metadata": {},
      "source": [
        "### Computing Child Benefits and Taxes\n",
        "\n",
        "In this section we will compute the *Kindergeld* for our synthetic households. Since households can also claim a tax credit instead of the child benefit (the *Kinderfreibetrag*), we will also compute the income taxes for each household. By default, GETTSIM chooses the financially more favorable option for each case. The results will thus let us inspect how the policy affects different income levels in our data. \n",
        "\n",
        "#### Child Benefit\n",
        "\n",
        "After ensuring all necessary inputs are defined using the features described above, we can compute the *Kindergeld* for our household `data` given the policy environment specified by `policy_params` and `policy_functions`. We compute the variables `kindergeld_m`, which indicates the *Kindergeld* on individual level, `kindergeld_m_tu`, which computes it on tax unit level, and `kindergeld_m_hh`, which computes it on household level."
      ]
    },
    {
      "cell_type": "code",
      "execution_count": 37,
      "metadata": {},
      "outputs": [],
      "source": [
        "kindergeld = compute_taxes_and_transfers(\n",
        "    data=data,\n",
        "    params=policy_params,\n",
        "    targets=[\"kindergeld_m\", \"kindergeld_m_tu\", \"kindergeld_m_hh\"],\n",
        "    functions=policy_functions,\n",
        ")"
      ]
    },
    {
      "cell_type": "markdown",
      "metadata": {},
      "source": [
        "\n",
        "We can use the pandas function [pandas.Series.value_counts](https://pandas.pydata.org/pandas-docs/stable/reference/api/pandas.Series.value_counts.html) to assess the results. Computing the value frequencies in the data shows that the function assigns either no *Kindergeld* or €204 to individuals. In the data, the child benefit gets assigned to the child who it accounts for. As the `policy_params` shown above reveal, families receive €204 for the first and second child, €210 for the third, and €235 for every following child. Since the data includes only one- or two-child households, there are only two possible values for *Kindergeld* payments."
      ]
    },
    {
      "cell_type": "code",
      "execution_count": 38,
      "metadata": {
        "scrolled": true
      },
      "outputs": [
        {
          "data": {
            "text/plain": [
              "0.0      0.67\n",
              "204.0    0.33\n",
              "Name: kindergeld_m, dtype: float64"
            ]
          },
          "execution_count": 38,
          "metadata": {},
          "output_type": "execute_result"
        }
      ],
      "source": [
        "kindergeld.kindergeld_m.value_counts(normalize=True).round(2)"
      ]
    },
    {
      "cell_type": "markdown",
      "metadata": {},
      "source": [
        "We can now look at the household and tax unit level to assess how much child benefits the families receive in total. In this example, the household id (`hh_id`) and tax unit id (`tu_id`) is identical for all households. However, even though the household types are distributed evenly in the data, the computed child benefit claims are not. A disproportionately large amount of tax units receives no child benefit even though there are children in the household. \n",
        "\n",
        "This difference stems from the variation in incomes. For higher income families, it is more advantageous to claim the *Kinderfreibetrag* which constitutes a tax credit. As GETTSIM by default always chooses the most beneficial taxes and transfers for households, it thus does not assign child benefits to the families for which the tax credit is more favorable."
      ]
    },
    {
      "cell_type": "code",
      "execution_count": 39,
      "metadata": {},
      "outputs": [
        {
          "data": {
            "text/plain": [
              "408.0    0.44\n",
              "204.0    0.33\n",
              "0.0      0.23\n",
              "Name: kindergeld_m_tu, dtype: float64"
            ]
          },
          "execution_count": 39,
          "metadata": {},
          "output_type": "execute_result"
        }
      ],
      "source": [
        "kindergeld.kindergeld_m_tu.value_counts(normalize=True).round(2)"
      ]
    },
    {
      "cell_type": "code",
      "execution_count": 40,
      "metadata": {},
      "outputs": [
        {
          "data": {
            "text/plain": [
              "408.0    0.44\n",
              "204.0    0.33\n",
              "0.0      0.23\n",
              "Name: kindergeld_m_hh, dtype: float64"
            ]
          },
          "execution_count": 40,
          "metadata": {},
          "output_type": "execute_result"
        }
      ],
      "source": [
        "kindergeld.kindergeld_m_hh.value_counts(normalize=True).round(2)"
      ]
    },
    {
      "cell_type": "markdown",
      "metadata": {},
      "source": [
        "#### Income Taxes\n",
        "\n",
        "As the results above show, GETTSIM only computes the child benefit if it is more beneficial for the family than claiming the tax credit. To compare, we can additionally compute the income taxes for our data set `eink_st_tu`. We also compute the variable `bruttolohn_m_tu`, which gives the monthly gross income per tax unit (in our case, this is the combined income of the two adults in the household). "
      ]
    },
    {
      "cell_type": "code",
      "execution_count": 41,
      "metadata": {},
      "outputs": [],
      "source": [
        "income = compute_taxes_and_transfers(\n",
        "    data=data,\n",
        "    params=policy_params,\n",
        "    targets=[\"eink_st_tu\", \"bruttolohn_m_tu\"],\n",
        "    functions=policy_functions,\n",
        ")"
      ]
    },
    {
      "cell_type": "markdown",
      "metadata": {},
      "source": [
        "For a better analysis of our data, we now create a column that indicates the number of children in a household. We can let GETTSIM do this for us by using ``anz_kinder_bis_17_hh`` as our target."
      ]
    },
    {
      "cell_type": "code",
      "execution_count": 42,
      "metadata": {},
      "outputs": [],
      "source": [
        "children = compute_taxes_and_transfers(\n",
        "    data=data,\n",
        "    params=policy_params,\n",
        "    targets=\"anz_kinder_bis_17_hh\",\n",
        "    functions=policy_functions,\n",
        ")"
      ]
    },
    {
      "cell_type": "markdown",
      "metadata": {},
      "source": [
        "Since the gross income and child benefit per tax unit is computed on a monthly level while taxes are computed for the time unit of one year, we multiply the former by 12 and drop unused variables as well as duplicates from our DataFrame. The final DataFrame contains the yearly gross income, income tax, child benefit, and number of children in the household."
      ]
    },
    {
      "cell_type": "code",
      "execution_count": 43,
      "metadata": {},
      "outputs": [
        {
          "ename": "ValueError",
          "evalue": "Indexes have overlapping values: Index(['hh_id', 'tu_id', 'p_id'], dtype='object')",
          "output_type": "error",
          "traceback": [
            "\u001b[0;31m---------------------------------------------------------------------------\u001b[0m",
            "\u001b[0;31mValueError\u001b[0m                                Traceback (most recent call last)",
            "Cell \u001b[0;32mIn[43], line 2\u001b[0m\n\u001b[1;32m      1\u001b[0m \u001b[39m# Join results in one DataFrame.\u001b[39;00m\n\u001b[0;32m----> 2\u001b[0m df \u001b[39m=\u001b[39m kindergeld\u001b[39m.\u001b[39;49mjoin([income, children\u001b[39m.\u001b[39;49manz_kinder_bis_17_hh])\u001b[39m.\u001b[39mset_index(data\u001b[39m.\u001b[39mtu_id)\n\u001b[1;32m      3\u001b[0m \u001b[39m# Multiply variables by 12 to generate yearly values.\u001b[39;00m\n\u001b[1;32m      4\u001b[0m df[[\u001b[39m\"\u001b[39m\u001b[39mbruttolohn_tu\u001b[39m\u001b[39m\"\u001b[39m, \u001b[39m\"\u001b[39m\u001b[39mkindergeld_tu\u001b[39m\u001b[39m\"\u001b[39m]] \u001b[39m=\u001b[39m df[[\u001b[39m\"\u001b[39m\u001b[39mbruttolohn_m_tu\u001b[39m\u001b[39m\"\u001b[39m, \u001b[39m\"\u001b[39m\u001b[39mkindergeld_m_tu\u001b[39m\u001b[39m\"\u001b[39m]] \u001b[39m*\u001b[39m \u001b[39m12\u001b[39m\n",
            "File \u001b[0;32m~/miniconda3/envs/gettsim/lib/python3.11/site-packages/pandas/core/frame.py:9976\u001b[0m, in \u001b[0;36mDataFrame.join\u001b[0;34m(self, other, on, how, lsuffix, rsuffix, sort, validate)\u001b[0m\n\u001b[1;32m   9813\u001b[0m \u001b[39mdef\u001b[39;00m \u001b[39mjoin\u001b[39m(\n\u001b[1;32m   9814\u001b[0m     \u001b[39mself\u001b[39m,\n\u001b[1;32m   9815\u001b[0m     other: DataFrame \u001b[39m|\u001b[39m Series \u001b[39m|\u001b[39m \u001b[39mlist\u001b[39m[DataFrame \u001b[39m|\u001b[39m Series],\n\u001b[0;32m   (...)\u001b[0m\n\u001b[1;32m   9821\u001b[0m     validate: \u001b[39mstr\u001b[39m \u001b[39m|\u001b[39m \u001b[39mNone\u001b[39;00m \u001b[39m=\u001b[39m \u001b[39mNone\u001b[39;00m,\n\u001b[1;32m   9822\u001b[0m ) \u001b[39m-\u001b[39m\u001b[39m>\u001b[39m DataFrame:\n\u001b[1;32m   9823\u001b[0m     \u001b[39m\"\"\"\u001b[39;00m\n\u001b[1;32m   9824\u001b[0m \u001b[39m    Join columns of another DataFrame.\u001b[39;00m\n\u001b[1;32m   9825\u001b[0m \n\u001b[0;32m   (...)\u001b[0m\n\u001b[1;32m   9974\u001b[0m \u001b[39m    5  K1  A5   B1\u001b[39;00m\n\u001b[1;32m   9975\u001b[0m \u001b[39m    \"\"\"\u001b[39;00m\n\u001b[0;32m-> 9976\u001b[0m     \u001b[39mreturn\u001b[39;00m \u001b[39mself\u001b[39;49m\u001b[39m.\u001b[39;49m_join_compat(\n\u001b[1;32m   9977\u001b[0m         other,\n\u001b[1;32m   9978\u001b[0m         on\u001b[39m=\u001b[39;49mon,\n\u001b[1;32m   9979\u001b[0m         how\u001b[39m=\u001b[39;49mhow,\n\u001b[1;32m   9980\u001b[0m         lsuffix\u001b[39m=\u001b[39;49mlsuffix,\n\u001b[1;32m   9981\u001b[0m         rsuffix\u001b[39m=\u001b[39;49mrsuffix,\n\u001b[1;32m   9982\u001b[0m         sort\u001b[39m=\u001b[39;49msort,\n\u001b[1;32m   9983\u001b[0m         validate\u001b[39m=\u001b[39;49mvalidate,\n\u001b[1;32m   9984\u001b[0m     )\n",
            "File \u001b[0;32m~/miniconda3/envs/gettsim/lib/python3.11/site-packages/pandas/core/frame.py:10048\u001b[0m, in \u001b[0;36mDataFrame._join_compat\u001b[0;34m(self, other, on, how, lsuffix, rsuffix, sort, validate)\u001b[0m\n\u001b[1;32m  10046\u001b[0m \u001b[39mif\u001b[39;00m can_concat:\n\u001b[1;32m  10047\u001b[0m     \u001b[39mif\u001b[39;00m how \u001b[39m==\u001b[39m \u001b[39m\"\u001b[39m\u001b[39mleft\u001b[39m\u001b[39m\"\u001b[39m:\n\u001b[0;32m> 10048\u001b[0m         res \u001b[39m=\u001b[39m concat(\n\u001b[1;32m  10049\u001b[0m             frames, axis\u001b[39m=\u001b[39;49m\u001b[39m1\u001b[39;49m, join\u001b[39m=\u001b[39;49m\u001b[39m\"\u001b[39;49m\u001b[39mouter\u001b[39;49m\u001b[39m\"\u001b[39;49m, verify_integrity\u001b[39m=\u001b[39;49m\u001b[39mTrue\u001b[39;49;00m, sort\u001b[39m=\u001b[39;49msort\n\u001b[1;32m  10050\u001b[0m         )\n\u001b[1;32m  10051\u001b[0m         \u001b[39mreturn\u001b[39;00m res\u001b[39m.\u001b[39mreindex(\u001b[39mself\u001b[39m\u001b[39m.\u001b[39mindex, copy\u001b[39m=\u001b[39m\u001b[39mFalse\u001b[39;00m)\n\u001b[1;32m  10052\u001b[0m     \u001b[39melse\u001b[39;00m:\n",
            "File \u001b[0;32m~/miniconda3/envs/gettsim/lib/python3.11/site-packages/pandas/util/_decorators.py:331\u001b[0m, in \u001b[0;36mdeprecate_nonkeyword_arguments.<locals>.decorate.<locals>.wrapper\u001b[0;34m(*args, **kwargs)\u001b[0m\n\u001b[1;32m    325\u001b[0m \u001b[39mif\u001b[39;00m \u001b[39mlen\u001b[39m(args) \u001b[39m>\u001b[39m num_allow_args:\n\u001b[1;32m    326\u001b[0m     warnings\u001b[39m.\u001b[39mwarn(\n\u001b[1;32m    327\u001b[0m         msg\u001b[39m.\u001b[39mformat(arguments\u001b[39m=\u001b[39m_format_argument_list(allow_args)),\n\u001b[1;32m    328\u001b[0m         \u001b[39mFutureWarning\u001b[39;00m,\n\u001b[1;32m    329\u001b[0m         stacklevel\u001b[39m=\u001b[39mfind_stack_level(),\n\u001b[1;32m    330\u001b[0m     )\n\u001b[0;32m--> 331\u001b[0m \u001b[39mreturn\u001b[39;00m func(\u001b[39m*\u001b[39;49margs, \u001b[39m*\u001b[39;49m\u001b[39m*\u001b[39;49mkwargs)\n",
            "File \u001b[0;32m~/miniconda3/envs/gettsim/lib/python3.11/site-packages/pandas/core/reshape/concat.py:368\u001b[0m, in \u001b[0;36mconcat\u001b[0;34m(objs, axis, join, ignore_index, keys, levels, names, verify_integrity, sort, copy)\u001b[0m\n\u001b[1;32m    146\u001b[0m \u001b[39m@deprecate_nonkeyword_arguments\u001b[39m(version\u001b[39m=\u001b[39m\u001b[39mNone\u001b[39;00m, allowed_args\u001b[39m=\u001b[39m[\u001b[39m\"\u001b[39m\u001b[39mobjs\u001b[39m\u001b[39m\"\u001b[39m])\n\u001b[1;32m    147\u001b[0m \u001b[39mdef\u001b[39;00m \u001b[39mconcat\u001b[39m(\n\u001b[1;32m    148\u001b[0m     objs: Iterable[NDFrame] \u001b[39m|\u001b[39m Mapping[HashableT, NDFrame],\n\u001b[0;32m   (...)\u001b[0m\n\u001b[1;32m    157\u001b[0m     copy: \u001b[39mbool\u001b[39m \u001b[39m=\u001b[39m \u001b[39mTrue\u001b[39;00m,\n\u001b[1;32m    158\u001b[0m ) \u001b[39m-\u001b[39m\u001b[39m>\u001b[39m DataFrame \u001b[39m|\u001b[39m Series:\n\u001b[1;32m    159\u001b[0m     \u001b[39m\"\"\"\u001b[39;00m\n\u001b[1;32m    160\u001b[0m \u001b[39m    Concatenate pandas objects along a particular axis.\u001b[39;00m\n\u001b[1;32m    161\u001b[0m \n\u001b[0;32m   (...)\u001b[0m\n\u001b[1;32m    366\u001b[0m \u001b[39m    1   3   4\u001b[39;00m\n\u001b[1;32m    367\u001b[0m \u001b[39m    \"\"\"\u001b[39;00m\n\u001b[0;32m--> 368\u001b[0m     op \u001b[39m=\u001b[39m _Concatenator(\n\u001b[1;32m    369\u001b[0m         objs,\n\u001b[1;32m    370\u001b[0m         axis\u001b[39m=\u001b[39;49maxis,\n\u001b[1;32m    371\u001b[0m         ignore_index\u001b[39m=\u001b[39;49mignore_index,\n\u001b[1;32m    372\u001b[0m         join\u001b[39m=\u001b[39;49mjoin,\n\u001b[1;32m    373\u001b[0m         keys\u001b[39m=\u001b[39;49mkeys,\n\u001b[1;32m    374\u001b[0m         levels\u001b[39m=\u001b[39;49mlevels,\n\u001b[1;32m    375\u001b[0m         names\u001b[39m=\u001b[39;49mnames,\n\u001b[1;32m    376\u001b[0m         verify_integrity\u001b[39m=\u001b[39;49mverify_integrity,\n\u001b[1;32m    377\u001b[0m         copy\u001b[39m=\u001b[39;49mcopy,\n\u001b[1;32m    378\u001b[0m         sort\u001b[39m=\u001b[39;49msort,\n\u001b[1;32m    379\u001b[0m     )\n\u001b[1;32m    381\u001b[0m     \u001b[39mreturn\u001b[39;00m op\u001b[39m.\u001b[39mget_result()\n",
            "File \u001b[0;32m~/miniconda3/envs/gettsim/lib/python3.11/site-packages/pandas/core/reshape/concat.py:563\u001b[0m, in \u001b[0;36m_Concatenator.__init__\u001b[0;34m(self, objs, axis, join, keys, levels, names, ignore_index, verify_integrity, copy, sort)\u001b[0m\n\u001b[1;32m    560\u001b[0m \u001b[39mself\u001b[39m\u001b[39m.\u001b[39mverify_integrity \u001b[39m=\u001b[39m verify_integrity\n\u001b[1;32m    561\u001b[0m \u001b[39mself\u001b[39m\u001b[39m.\u001b[39mcopy \u001b[39m=\u001b[39m copy\n\u001b[0;32m--> 563\u001b[0m \u001b[39mself\u001b[39m\u001b[39m.\u001b[39mnew_axes \u001b[39m=\u001b[39m \u001b[39mself\u001b[39;49m\u001b[39m.\u001b[39;49m_get_new_axes()\n",
            "File \u001b[0;32m~/miniconda3/envs/gettsim/lib/python3.11/site-packages/pandas/core/reshape/concat.py:633\u001b[0m, in \u001b[0;36m_Concatenator._get_new_axes\u001b[0;34m(self)\u001b[0m\n\u001b[1;32m    631\u001b[0m \u001b[39mdef\u001b[39;00m \u001b[39m_get_new_axes\u001b[39m(\u001b[39mself\u001b[39m) \u001b[39m-\u001b[39m\u001b[39m>\u001b[39m \u001b[39mlist\u001b[39m[Index]:\n\u001b[1;32m    632\u001b[0m     ndim \u001b[39m=\u001b[39m \u001b[39mself\u001b[39m\u001b[39m.\u001b[39m_get_result_dim()\n\u001b[0;32m--> 633\u001b[0m     \u001b[39mreturn\u001b[39;00m [\n\u001b[1;32m    634\u001b[0m         \u001b[39mself\u001b[39;49m\u001b[39m.\u001b[39;49m_get_concat_axis \u001b[39mif\u001b[39;49;00m i \u001b[39m==\u001b[39;49m \u001b[39mself\u001b[39;49m\u001b[39m.\u001b[39;49mbm_axis \u001b[39melse\u001b[39;49;00m \u001b[39mself\u001b[39;49m\u001b[39m.\u001b[39;49m_get_comb_axis(i)\n\u001b[1;32m    635\u001b[0m         \u001b[39mfor\u001b[39;49;00m i \u001b[39min\u001b[39;49;00m \u001b[39mrange\u001b[39;49m(ndim)\n\u001b[1;32m    636\u001b[0m     ]\n",
            "File \u001b[0;32m~/miniconda3/envs/gettsim/lib/python3.11/site-packages/pandas/core/reshape/concat.py:634\u001b[0m, in \u001b[0;36m<listcomp>\u001b[0;34m(.0)\u001b[0m\n\u001b[1;32m    631\u001b[0m \u001b[39mdef\u001b[39;00m \u001b[39m_get_new_axes\u001b[39m(\u001b[39mself\u001b[39m) \u001b[39m-\u001b[39m\u001b[39m>\u001b[39m \u001b[39mlist\u001b[39m[Index]:\n\u001b[1;32m    632\u001b[0m     ndim \u001b[39m=\u001b[39m \u001b[39mself\u001b[39m\u001b[39m.\u001b[39m_get_result_dim()\n\u001b[1;32m    633\u001b[0m     \u001b[39mreturn\u001b[39;00m [\n\u001b[0;32m--> 634\u001b[0m         \u001b[39mself\u001b[39;49m\u001b[39m.\u001b[39;49m_get_concat_axis \u001b[39mif\u001b[39;00m i \u001b[39m==\u001b[39m \u001b[39mself\u001b[39m\u001b[39m.\u001b[39mbm_axis \u001b[39melse\u001b[39;00m \u001b[39mself\u001b[39m\u001b[39m.\u001b[39m_get_comb_axis(i)\n\u001b[1;32m    635\u001b[0m         \u001b[39mfor\u001b[39;00m i \u001b[39min\u001b[39;00m \u001b[39mrange\u001b[39m(ndim)\n\u001b[1;32m    636\u001b[0m     ]\n",
            "File \u001b[0;32m~/miniconda3/envs/gettsim/lib/python3.11/site-packages/pandas/_libs/properties.pyx:36\u001b[0m, in \u001b[0;36mpandas._libs.properties.CachedProperty.__get__\u001b[0;34m()\u001b[0m\n",
            "File \u001b[0;32m~/miniconda3/envs/gettsim/lib/python3.11/site-packages/pandas/core/reshape/concat.py:697\u001b[0m, in \u001b[0;36m_Concatenator._get_concat_axis\u001b[0;34m(self)\u001b[0m\n\u001b[1;32m    692\u001b[0m \u001b[39melse\u001b[39;00m:\n\u001b[1;32m    693\u001b[0m     concat_axis \u001b[39m=\u001b[39m _make_concat_multiindex(\n\u001b[1;32m    694\u001b[0m         indexes, \u001b[39mself\u001b[39m\u001b[39m.\u001b[39mkeys, \u001b[39mself\u001b[39m\u001b[39m.\u001b[39mlevels, \u001b[39mself\u001b[39m\u001b[39m.\u001b[39mnames\n\u001b[1;32m    695\u001b[0m     )\n\u001b[0;32m--> 697\u001b[0m \u001b[39mself\u001b[39;49m\u001b[39m.\u001b[39;49m_maybe_check_integrity(concat_axis)\n\u001b[1;32m    699\u001b[0m \u001b[39mreturn\u001b[39;00m concat_axis\n",
            "File \u001b[0;32m~/miniconda3/envs/gettsim/lib/python3.11/site-packages/pandas/core/reshape/concat.py:705\u001b[0m, in \u001b[0;36m_Concatenator._maybe_check_integrity\u001b[0;34m(self, concat_index)\u001b[0m\n\u001b[1;32m    703\u001b[0m \u001b[39mif\u001b[39;00m \u001b[39mnot\u001b[39;00m concat_index\u001b[39m.\u001b[39mis_unique:\n\u001b[1;32m    704\u001b[0m     overlap \u001b[39m=\u001b[39m concat_index[concat_index\u001b[39m.\u001b[39mduplicated()]\u001b[39m.\u001b[39munique()\n\u001b[0;32m--> 705\u001b[0m     \u001b[39mraise\u001b[39;00m \u001b[39mValueError\u001b[39;00m(\u001b[39mf\u001b[39m\u001b[39m\"\u001b[39m\u001b[39mIndexes have overlapping values: \u001b[39m\u001b[39m{\u001b[39;00moverlap\u001b[39m}\u001b[39;00m\u001b[39m\"\u001b[39m)\n",
            "\u001b[0;31mValueError\u001b[0m: Indexes have overlapping values: Index(['hh_id', 'tu_id', 'p_id'], dtype='object')"
          ]
        }
      ],
      "source": [
        "# Join results in one DataFrame.\n",
        "df = kindergeld.join([income, children.anz_kinder_bis_17_hh]).set_index(data.tu_id)\n",
        "# Multiply variables by 12 to generate yearly values.\n",
        "df[[\"bruttolohn_tu\", \"kindergeld_tu\"]] = df[[\"bruttolohn_m_tu\", \"kindergeld_m_tu\"]] * 12\n",
        "# Select variables of interest for further steps.\n",
        "df = df[\n",
        "    [\"bruttolohn_tu\", \"eink_st_tu\", \"kindergeld_tu\", \"anz_kinder_bis_17_hh\"]\n",
        "].drop_duplicates()\n",
        "df.head()"
      ]
    },
    {
      "cell_type": "markdown",
      "metadata": {},
      "source": [
        "We can plot the results for our different household types. The plots below show how GETTSIM computes *Kindergeld* for our families. At a certain income level (around €80,000-€90,000) the tax credit becomes more favorable and GETTSIM assigns the tax break instead of the child benefit. "
      ]
    },
    {
      "cell_type": "code",
      "execution_count": null,
      "metadata": {},
      "outputs": [],
      "source": [
        "def plot_kindergeld(df):\n",
        "    \"\"\"Plot the child benefit and income taxes by household type. \"\"\"\n",
        "    plt.figure(figsize=[6, 10])\n",
        "    for i in 0, 1, 2:\n",
        "        # Create three subplots for each household type.\n",
        "        plt.subplot(3, 1, i + 1)\n",
        "        # Slice df according to household type.\n",
        "        df_slice = df[df.anz_kinder_bis_17_hh == i].reset_index().drop_duplicates()\n",
        "        # Plot income tax against gross income by tax unit.\n",
        "        plt.plot(df_slice.bruttolohn_tu, df_slice[\"eink_st_tu\"], label=\"Income tax\")\n",
        "        # Plot child benefit agains gross income by tax unit.\n",
        "        plt.plot(\n",
        "            df_slice.bruttolohn_tu, df_slice[\"kindergeld_tu\"], label=\"Child benefit\",\n",
        "        )\n",
        "        # Set title, axis labels, and legend.\n",
        "        plt.title(f\"{i} child(ren)\")\n",
        "        plt.ylabel(\"€ per year\")\n",
        "        plt.xlabel(\"Yearly gross income in € (per tax unit)\")\n",
        "        plt.legend()\n",
        "        plt.tight_layout()"
      ]
    },
    {
      "cell_type": "code",
      "execution_count": null,
      "metadata": {},
      "outputs": [],
      "source": [
        "plot_kindergeld(df)"
      ]
    },
    {
      "cell_type": "markdown",
      "metadata": {},
      "source": [
        "### Columns Overriding Functions\n",
        "\n",
        "Lastly, it is also possible to substitute internally computed variables using input columns in the data. To override an internal function, it is necessary to specify a column with the same name and pass it to `compute_taxes_and_transfers` using the argument `columns_overriding_functions`.\n",
        "\n",
        "For instance, for this application we could override the internal function `_kindergeld_basis_m` and set the child benefit to 0. "
      ]
    },
    {
      "cell_type": "code",
      "execution_count": null,
      "metadata": {},
      "outputs": [],
      "source": [
        "new_data = data.copy()\n",
        "new_data[\"kindergeld_basis_m\"] = 0"
      ]
    },
    {
      "cell_type": "markdown",
      "metadata": {},
      "source": [
        "Again, we compute the child benefit and income tax by tax unit. The argument `columns_overriding_functions` also accepts lists of columns to overwrite multiple functions."
      ]
    },
    {
      "cell_type": "code",
      "execution_count": null,
      "metadata": {},
      "outputs": [],
      "source": [
        "outputs = compute_taxes_and_transfers(\n",
        "    data=new_data,\n",
        "    params=policy_params,\n",
        "    targets=[\"kindergeld_m_tu\", \"eink_st_tu\", \"bruttolohn_m_tu\"],\n",
        "    functions=policy_functions,\n",
        "    columns_overriding_functions=[\"kindergeld_basis_m\"],\n",
        ")"
      ]
    },
    {
      "cell_type": "code",
      "execution_count": null,
      "metadata": {},
      "outputs": [],
      "source": [
        "df_new = outputs.join(children[\"anz_kinder_bis_17_hh\"]).set_index(new_data.tu_id)\n",
        "df_new[[\"bruttolohn_tu\", \"kindergeld_tu\"]] = (\n",
        "    df_new[[\"bruttolohn_m_tu\", \"kindergeld_m_tu\"]] * 12\n",
        ")\n",
        "df_new = df_new[\n",
        "    [\"bruttolohn_tu\", \"eink_st_tu\", \"kindergeld_tu\", \"anz_kinder_bis_17_hh\"]\n",
        "].drop_duplicates()"
      ]
    },
    {
      "cell_type": "markdown",
      "metadata": {},
      "source": [
        "Since the child benefits are set to zero, GETTSIM computes the tax credit for all households instead. "
      ]
    },
    {
      "cell_type": "code",
      "execution_count": null,
      "metadata": {},
      "outputs": [],
      "source": [
        "plot_kindergeld(df_new)"
      ]
    },
    {
      "cell_type": "markdown",
      "metadata": {},
      "source": [
        "Aside from overriding internal function outputs using data columns, it is also possible to substitute the functions entirely. Please refer to the [policy functions tutorial](policy_functions.ipynb) for more information."
      ]
    },
    {
      "cell_type": "markdown",
      "metadata": {},
      "source": [
        "#### Use Case for Columns Overriding Functions: Retirement Earnings"
      ]
    },
    {
      "cell_type": "markdown",
      "metadata": {},
      "source": [
        "Retirement earnings (`ges_rente_m`) can be calculated by GETTSIM which requires several input variables including `entgeltp` or `grundr_zeiten`. \n",
        "\n",
        "However, in most data sets (e.g. the SOEP) retirement earnings are observed and those input variables are not. For some applications, it is, hence, more straight-forward to specify `columns_overriding_functions=[\"ges_rente_m\"]` and use the measured retirement earnings directly. Then the pension-specific input variables like `entgeltp` or `grundr_zeiten` are not needed as input variables.\n",
        "\n"
      ]
    }
  ],
  "metadata": {
    "kernelspec": {
      "display_name": "gettsim",
      "language": "python",
      "name": "python3"
    },
    "language_info": {
      "codemirror_mode": {
        "name": "ipython",
        "version": 3
      },
      "file_extension": ".py",
      "mimetype": "text/x-python",
      "name": "python",
      "nbconvert_exporter": "python",
      "pygments_lexer": "ipython3",
      "version": "3.11.0"
    },
    "toc": {
      "base_numbering": 1,
      "nav_menu": {},
      "number_sections": true,
      "sideBar": true,
      "skip_h1_title": false,
      "title_cell": "Table of Contents",
      "title_sidebar": "Contents",
      "toc_cell": false,
      "toc_position": {},
      "toc_section_display": true,
      "toc_window_display": false
    },
    "toc-autonumbering": true,
    "varInspector": {
      "cols": {
        "lenName": 16,
        "lenType": 16,
        "lenVar": 40
      },
      "kernels_config": {
        "python": {
          "delete_cmd_postfix": "",
          "delete_cmd_prefix": "del ",
          "library": "var_list.py",
          "varRefreshCmd": "print(var_dic_list())"
        },
        "r": {
          "delete_cmd_postfix": ") ",
          "delete_cmd_prefix": "rm(",
          "library": "var_list.r",
          "varRefreshCmd": "cat(var_dic_list()) "
        }
      },
      "types_to_exclude": [
        "module",
        "function",
        "builtin_function_or_method",
        "instance",
        "_Feature"
      ],
      "window_display": false
    },
    "vscode": {
      "interpreter": {
        "hash": "a7ef7df5bd47ff490cfd86bc52beab30c1673a29666f06a073dff89a54c46fe5"
      }
    }
  },
  "nbformat": 4,
  "nbformat_minor": 4
}
