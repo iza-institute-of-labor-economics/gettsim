{
 "cells": [
  {
   "cell_type": "markdown",
   "metadata": {},
   "source": [
    "# Changing Functions of the Taxes and Transfers System\n",
    "\n",
    "This tutorial focuses on the policy functions of GETTSIM, one of the two objects returned by the function `set_up_policy_environment`. Alongside policy parameters, these functions help GETTSIM define a date-specific policy environment based on which it can compute taxes and transfers for individual and household data. \n",
    "\n",
    "Just like [parameters](parameters.ipynb), policy functions can be replaced, added or removed to make changes to the existing policy environment. This way, you can design a new tax or transfer for any specific group of people, e.g. invent a new tax for people that have income from renting an apartment, or change the conditions for receiving already existing transfers.\n",
    "\n",
    "This tutorial showcases the policy functions using a concrete example. For a more comprehensive and abstract discussion of the feature, check out the [how-to guide on Different Ways to Load Policy Functions](../how_to_guides/different_ways_to_load_policy_functions.ipynb).\n"
   ]
  },
  {
   "cell_type": "code",
   "execution_count": 1,
   "metadata": {},
   "outputs": [],
   "source": [
    "import copy\n",
    "import pandas as pd\n",
    "import numpy as np\n",
    "import plotly.express as px\n",
    "\n",
    "from copy import deepcopy\n",
    "\n",
    "from gettsim import set_up_policy_environment\n",
    "from gettsim import compute_taxes_and_transfers\n",
    "from gettsim import create_synthetic_data"
   ]
  },
  {
   "cell_type": "markdown",
   "metadata": {},
   "source": [
    "## Changing  and Replacing Existing Function(s)\n",
    "\n",
    "### Example: Receiving Multiple Transfers\n",
    "\n",
    "In the German system, there are some transfers for low-income families that cannot be received in combination. Per default, GETTSIM will always choose the most favorable transfers and set other transfers to zero. This assumption could model the behavior of households/families in a wrong way, if they do not always choose the optimal transfers (from a monetary perspective). For example, there could be a social stigma connected to certain transfers or some people simply do not know about some of the available transfers.\n",
    "\n",
    "To account for these frictions, we can turn off this aspect of GETTSIM so that we see all the transfers a family/household is entitled to, even if the transfers cannot be received in combination. This can be useful for further analysis. For example you could speculate which transfers Germans receive in reality and implement this in GETTSIM.\n",
    "\n",
    "### Find the Function\n",
    "\n",
    "[Here](../gettsim_objects/functions.rst) we can look for the function that implements the aspect we want to change."
   ]
  },
  {
   "cell_type": "code",
   "execution_count": 2,
   "metadata": {},
   "outputs": [],
   "source": [
    "policy_params, policy_functions = set_up_policy_environment(\"2020\")"
   ]
  },
  {
   "cell_type": "markdown",
   "metadata": {},
   "source": [
    "### Define Changes to the Function\n",
    "\n",
    "After you found the function that you want to change, copy the source code from the website to your notebook and change it just as you like:"
   ]
  },
  {
   "cell_type": "code",
   "execution_count": 3,
   "metadata": {},
   "outputs": [],
   "source": [
    "def arbeitsl_geld_2_m_hh(\n",
    "    arbeitsl_geld_2_vor_vorrang_m_hh,\n",
    "    wohngeld_vorrang_hh,\n",
    "    kinderzuschl_vorrang_hh,\n",
    "    wohngeld_kinderzuschl_vorrang_hh,\n",
    "    erwachsene_alle_rentner_hh,\n",
    "):\n",
    "    if (\n",
    "        # wohngeld_vorrang_hh\n",
    "        # | kinderzuschl_vorrang_hh\n",
    "        # | wohngeld_kinderzuschl_vorrang_hh\n",
    "        erwachsene_alle_rentner_hh\n",
    "    ):\n",
    "        out = 0.0\n",
    "    else:\n",
    "        out = arbeitsl_geld_2_vor_vorrang_m_hh\n",
    "\n",
    "    return out"
   ]
  },
  {
   "cell_type": "markdown",
   "metadata": {},
   "source": [
    "The lines of the cell above that start with \"#\" usually do the priority check as described above. With the hash, the lines become a comment and do not influence the code anymore.\n",
    "\n",
    "### Make GETTSIM Incorporate your Changes \n",
    "\n",
    "There are different ways to make GETTSIM incorporate your edited function. \n",
    "\n",
    "#### Alternative 1:\n",
    "\n",
    "One way is to copy the `policy_functions` and replace the \"old\" function with the function we defined before."
   ]
  },
  {
   "cell_type": "code",
   "execution_count": 4,
   "metadata": {},
   "outputs": [],
   "source": [
    "policy_functions_no_check = copy.deepcopy(policy_functions)\n",
    "policy_functions_no_check[\"arbeitsl_geld_2_m_hh\"] = arbeitsl_geld_2_m_hh"
   ]
  },
  {
   "cell_type": "markdown",
   "metadata": {},
   "source": [
    "Computations with the new `policy_functions_no_check` will now have the characteristic of showing the value of all available transfers without checking which ones cannot be received in combination and without choosing the most profitable combination. \n",
    "\n",
    "Let´s test if this works! \n",
    "\n",
    "We import simulated data for households with two parents and two children. These households only vary in their income:"
   ]
  },
  {
   "cell_type": "code",
   "execution_count": 5,
   "metadata": {},
   "outputs": [
    {
     "data": {
      "text/html": [
       "<div>\n",
       "<style scoped>\n",
       "    .dataframe tbody tr th:only-of-type {\n",
       "        vertical-align: middle;\n",
       "    }\n",
       "\n",
       "    .dataframe tbody tr th {\n",
       "        vertical-align: top;\n",
       "    }\n",
       "\n",
       "    .dataframe thead th {\n",
       "        text-align: right;\n",
       "    }\n",
       "</style>\n",
       "<table border=\"1\" class=\"dataframe\">\n",
       "  <thead>\n",
       "    <tr style=\"text-align: right;\">\n",
       "      <th></th>\n",
       "      <th>p_id</th>\n",
       "      <th>hh_id</th>\n",
       "      <th>tu_id</th>\n",
       "      <th>hh_typ</th>\n",
       "      <th>kind</th>\n",
       "      <th>bruttolohn_m</th>\n",
       "      <th>alter</th>\n",
       "      <th>weiblich</th>\n",
       "      <th>rentner</th>\n",
       "      <th>alleinerz</th>\n",
       "      <th>...</th>\n",
       "      <th>m_arbeitslos</th>\n",
       "      <th>m_ausbild_suche</th>\n",
       "      <th>m_schul_ausbild</th>\n",
       "      <th>m_geringf_beschäft</th>\n",
       "      <th>m_alg1_übergang</th>\n",
       "      <th>m_ersatzzeit</th>\n",
       "      <th>m_kind_berücks_zeit</th>\n",
       "      <th>m_pfleg_berücks_zeit</th>\n",
       "      <th>y_pflichtbeitr_ab_40</th>\n",
       "      <th>sum_ges_rente_priv_rente_m</th>\n",
       "    </tr>\n",
       "  </thead>\n",
       "  <tbody>\n",
       "    <tr>\n",
       "      <th>0</th>\n",
       "      <td>0</td>\n",
       "      <td>0</td>\n",
       "      <td>0</td>\n",
       "      <td>couple_2_children</td>\n",
       "      <td>False</td>\n",
       "      <td>500.000000</td>\n",
       "      <td>35</td>\n",
       "      <td>False</td>\n",
       "      <td>False</td>\n",
       "      <td>False</td>\n",
       "      <td>...</td>\n",
       "      <td>0.0</td>\n",
       "      <td>0.0</td>\n",
       "      <td>10.0</td>\n",
       "      <td>0.0</td>\n",
       "      <td>0.0</td>\n",
       "      <td>0.0</td>\n",
       "      <td>24.0</td>\n",
       "      <td>1.0</td>\n",
       "      <td>0.0</td>\n",
       "      <td>0.0</td>\n",
       "    </tr>\n",
       "    <tr>\n",
       "      <th>1</th>\n",
       "      <td>1</td>\n",
       "      <td>0</td>\n",
       "      <td>0</td>\n",
       "      <td>couple_2_children</td>\n",
       "      <td>False</td>\n",
       "      <td>0.000000</td>\n",
       "      <td>35</td>\n",
       "      <td>True</td>\n",
       "      <td>False</td>\n",
       "      <td>False</td>\n",
       "      <td>...</td>\n",
       "      <td>0.0</td>\n",
       "      <td>0.0</td>\n",
       "      <td>10.0</td>\n",
       "      <td>0.0</td>\n",
       "      <td>0.0</td>\n",
       "      <td>0.0</td>\n",
       "      <td>24.0</td>\n",
       "      <td>1.0</td>\n",
       "      <td>0.0</td>\n",
       "      <td>0.0</td>\n",
       "    </tr>\n",
       "    <tr>\n",
       "      <th>2</th>\n",
       "      <td>2</td>\n",
       "      <td>0</td>\n",
       "      <td>0</td>\n",
       "      <td>couple_2_children</td>\n",
       "      <td>True</td>\n",
       "      <td>0.000000</td>\n",
       "      <td>3</td>\n",
       "      <td>False</td>\n",
       "      <td>False</td>\n",
       "      <td>False</td>\n",
       "      <td>...</td>\n",
       "      <td>0.0</td>\n",
       "      <td>0.0</td>\n",
       "      <td>10.0</td>\n",
       "      <td>0.0</td>\n",
       "      <td>0.0</td>\n",
       "      <td>0.0</td>\n",
       "      <td>24.0</td>\n",
       "      <td>1.0</td>\n",
       "      <td>0.0</td>\n",
       "      <td>0.0</td>\n",
       "    </tr>\n",
       "    <tr>\n",
       "      <th>3</th>\n",
       "      <td>3</td>\n",
       "      <td>0</td>\n",
       "      <td>0</td>\n",
       "      <td>couple_2_children</td>\n",
       "      <td>True</td>\n",
       "      <td>0.000000</td>\n",
       "      <td>8</td>\n",
       "      <td>False</td>\n",
       "      <td>False</td>\n",
       "      <td>False</td>\n",
       "      <td>...</td>\n",
       "      <td>0.0</td>\n",
       "      <td>0.0</td>\n",
       "      <td>10.0</td>\n",
       "      <td>0.0</td>\n",
       "      <td>0.0</td>\n",
       "      <td>0.0</td>\n",
       "      <td>24.0</td>\n",
       "      <td>1.0</td>\n",
       "      <td>0.0</td>\n",
       "      <td>0.0</td>\n",
       "    </tr>\n",
       "    <tr>\n",
       "      <th>4</th>\n",
       "      <td>4</td>\n",
       "      <td>1</td>\n",
       "      <td>1</td>\n",
       "      <td>couple_2_children</td>\n",
       "      <td>False</td>\n",
       "      <td>518.072289</td>\n",
       "      <td>35</td>\n",
       "      <td>False</td>\n",
       "      <td>False</td>\n",
       "      <td>False</td>\n",
       "      <td>...</td>\n",
       "      <td>0.0</td>\n",
       "      <td>0.0</td>\n",
       "      <td>10.0</td>\n",
       "      <td>0.0</td>\n",
       "      <td>0.0</td>\n",
       "      <td>0.0</td>\n",
       "      <td>24.0</td>\n",
       "      <td>1.0</td>\n",
       "      <td>0.0</td>\n",
       "      <td>0.0</td>\n",
       "    </tr>\n",
       "  </tbody>\n",
       "</table>\n",
       "<p>5 rows × 62 columns</p>\n",
       "</div>"
      ],
      "text/plain": [
       "   p_id  hh_id  tu_id             hh_typ   kind  bruttolohn_m  alter  \\\n",
       "0     0      0      0  couple_2_children  False    500.000000     35   \n",
       "1     1      0      0  couple_2_children  False      0.000000     35   \n",
       "2     2      0      0  couple_2_children   True      0.000000      3   \n",
       "3     3      0      0  couple_2_children   True      0.000000      8   \n",
       "4     4      1      1  couple_2_children  False    518.072289     35   \n",
       "\n",
       "   weiblich  rentner  alleinerz  ...  m_arbeitslos  m_ausbild_suche  \\\n",
       "0     False    False      False  ...           0.0              0.0   \n",
       "1      True    False      False  ...           0.0              0.0   \n",
       "2     False    False      False  ...           0.0              0.0   \n",
       "3     False    False      False  ...           0.0              0.0   \n",
       "4     False    False      False  ...           0.0              0.0   \n",
       "\n",
       "   m_schul_ausbild  m_geringf_beschäft  m_alg1_übergang  m_ersatzzeit  \\\n",
       "0             10.0                 0.0              0.0           0.0   \n",
       "1             10.0                 0.0              0.0           0.0   \n",
       "2             10.0                 0.0              0.0           0.0   \n",
       "3             10.0                 0.0              0.0           0.0   \n",
       "4             10.0                 0.0              0.0           0.0   \n",
       "\n",
       "   m_kind_berücks_zeit  m_pfleg_berücks_zeit  y_pflichtbeitr_ab_40  \\\n",
       "0                 24.0                   1.0                   0.0   \n",
       "1                 24.0                   1.0                   0.0   \n",
       "2                 24.0                   1.0                   0.0   \n",
       "3                 24.0                   1.0                   0.0   \n",
       "4                 24.0                   1.0                   0.0   \n",
       "\n",
       "   sum_ges_rente_priv_rente_m  \n",
       "0                         0.0  \n",
       "1                         0.0  \n",
       "2                         0.0  \n",
       "3                         0.0  \n",
       "4                         0.0  \n",
       "\n",
       "[5 rows x 62 columns]"
      ]
     },
     "execution_count": 5,
     "metadata": {},
     "output_type": "execute_result"
    }
   ],
   "source": [
    "## idea for use of synthetical data\n",
    "data = create_synthetic_data(\n",
    "    hh_typen=[\"couple\"],\n",
    "    n_children=[2],\n",
    "    heterogeneous_vars={\"bruttolohn_m\": np.linspace(500, 5000, 250)},\n",
    ")\n",
    "\n",
    "# Compute sum of pension contributions in household and add it to data.\n",
    "sum_ges_rente_priv_rente_m = compute_taxes_and_transfers(\n",
    "    data=data,\n",
    "    params=policy_params,\n",
    "    targets=\"sum_ges_rente_priv_rente_m\",\n",
    "    functions=policy_functions,\n",
    ")\n",
    "\n",
    "data[\"sum_ges_rente_priv_rente_m\"] = sum_ges_rente_priv_rente_m[\n",
    "    \"sum_ges_rente_priv_rente_m\"\n",
    "]\n",
    "data.head(5)"
   ]
  },
  {
   "cell_type": "markdown",
   "metadata": {},
   "source": [
    "For this data we can now compare the results of using GETTSIM with the `policy_functions_no_check` and the usual `policy_functions`. \n",
    "\n",
    "We should expect to see positive values for `wohngeld_m_hh`, `kindergeld_basis_m` and `arbeitsl_geld_2_m_hh` at the same time if we do not check which combination of transfers is optimal (`policy_functions_no_check`).\n",
    "\n",
    "On the other hand, if we use the default version of the `policy_functions`, `wohngeld_m_hh` and `kindergeld_basis_m` should be zero as long as `arbeitsl_geld_2_m_hh` is positive (and the other way around), as it is a characteristic of the German taxes and transfers system that *Wohngeld* and *Kinderzuschlag* cannot be received in combination with *Arbeitslosengeld 2*."
   ]
  },
  {
   "cell_type": "code",
   "execution_count": 6,
   "metadata": {},
   "outputs": [],
   "source": [
    "targets = [\"wohngeld_m_hh\", \"kindergeld_basis_m\", \"arbeitsl_geld_2_m_hh\"]"
   ]
  },
  {
   "cell_type": "code",
   "execution_count": 7,
   "metadata": {},
   "outputs": [],
   "source": [
    "policies = {\n",
    "    \"Checked Favorability\": policy_functions,\n",
    "    \"No Check of Favorabilty\": policy_functions_no_check,\n",
    "}"
   ]
  },
  {
   "cell_type": "code",
   "execution_count": 8,
   "metadata": {},
   "outputs": [
    {
     "data": {
      "application/vnd.plotly.v1+json": {
       "config": {
        "plotlyServerURL": "https://plot.ly"
       },
       "data": [
        {
         "hovertemplate": "variable=wohngeld_m_hh<br>bruttolohn_m=%{x}<br>value=%{y}<extra></extra>",
         "legendgroup": "wohngeld_m_hh",
         "line": {
          "color": "#636efa",
          "dash": "solid"
         },
         "marker": {
          "symbol": "circle"
         },
         "mode": "lines",
         "name": "wohngeld_m_hh",
         "orientation": "v",
         "showlegend": true,
         "type": "scatter",
         "x": [
          500,
          518.0722891566265,
          536.144578313253,
          554.2168674698795,
          572.289156626506,
          590.3614457831326,
          608.433734939759,
          626.5060240963855,
          644.5783132530121,
          662.6506024096386,
          680.722891566265,
          698.7951807228916,
          716.867469879518,
          734.9397590361446,
          753.0120481927711,
          771.0843373493976,
          789.1566265060242,
          807.2289156626506,
          825.3012048192771,
          843.3734939759036,
          861.4457831325301,
          879.5180722891566,
          897.5903614457832,
          915.6626506024097,
          933.7349397590361,
          951.8072289156627,
          969.8795180722891,
          987.9518072289156,
          1006.0240963855422,
          1024.0963855421687,
          1042.1686746987953,
          1060.2409638554218,
          1078.3132530120483,
          1096.3855421686749,
          1114.4578313253012,
          1132.5301204819277,
          1150.6024096385543,
          1168.6746987951808,
          1186.7469879518071,
          1204.8192771084337,
          1222.8915662650602,
          1240.9638554216867,
          1259.0361445783133,
          1277.1084337349398,
          1295.1807228915663,
          1313.2530120481929,
          1331.3253012048194,
          1349.397590361446,
          1367.4698795180723,
          1385.5421686746988,
          1403.6144578313254,
          1421.686746987952,
          1439.7590361445782,
          1457.8313253012047,
          1475.9036144578313,
          1493.9759036144578,
          1512.0481927710844,
          1530.120481927711,
          1548.1927710843374,
          1566.265060240964,
          1584.3373493975905,
          1602.4096385542168,
          1620.4819277108434,
          1638.55421686747,
          1656.6265060240964,
          1674.698795180723,
          1692.7710843373495,
          1710.843373493976,
          1728.9156626506024,
          1746.987951807229,
          1765.0602409638554,
          1783.132530120482,
          1801.2048192771085,
          1819.277108433735,
          1837.3493975903616,
          1855.421686746988,
          1873.4939759036145,
          1891.566265060241,
          1909.6385542168675,
          1927.710843373494,
          1945.7831325301206,
          1963.8554216867471,
          1981.9277108433735,
          2000,
          2018.0722891566265,
          2036.144578313253,
          2054.2168674698796,
          2072.289156626506,
          2090.3614457831327,
          2108.4337349397592,
          2126.5060240963858,
          2144.5783132530123,
          2162.650602409639,
          2180.7228915662654,
          2198.795180722892,
          2216.8674698795185,
          2234.9397590361446,
          2253.012048192771,
          2271.0843373493976,
          2289.156626506024,
          2307.2289156626507,
          2325.3012048192772,
          2343.373493975904,
          2361.4457831325303,
          2379.5180722891564,
          2397.590361445783,
          2415.6626506024095,
          2433.734939759036,
          2451.8072289156626,
          2469.879518072289,
          2487.9518072289156,
          2506.024096385542,
          2524.0963855421687,
          2542.1686746987953,
          2560.240963855422,
          2578.3132530120483,
          2596.385542168675,
          2614.4578313253014,
          2632.530120481928,
          2650.6024096385545,
          2668.674698795181,
          2686.746987951807,
          2704.8192771084337,
          2722.89156626506,
          2740.9638554216867,
          2759.0361445783133,
          2777.10843373494,
          2795.1807228915663,
          2813.253012048193,
          2831.3253012048194,
          2849.397590361446,
          2867.4698795180725,
          2885.542168674699,
          2903.6144578313256,
          2921.686746987952,
          2939.7590361445787,
          2957.8313253012047,
          2975.9036144578313,
          2993.975903614458,
          3012.0481927710844,
          3030.120481927711,
          3048.1927710843374,
          3066.265060240964,
          3084.3373493975905,
          3102.409638554217,
          3120.4819277108436,
          3138.55421686747,
          3156.6265060240967,
          3174.698795180723,
          3192.7710843373497,
          3210.843373493976,
          3228.9156626506024,
          3246.987951807229,
          3265.0602409638554,
          3283.132530120482,
          3301.2048192771085,
          3319.277108433735,
          3337.3493975903616,
          3355.421686746988,
          3373.4939759036147,
          3391.566265060241,
          3409.6385542168678,
          3427.7108433734943,
          3445.783132530121,
          3463.855421686747,
          3481.9277108433735,
          3500,
          3518.0722891566265,
          3536.144578313253,
          3554.2168674698796,
          3572.289156626506,
          3590.3614457831327,
          3608.4337349397592,
          3626.5060240963858,
          3644.5783132530123,
          3662.650602409639,
          3680.7228915662654,
          3698.795180722892,
          3716.867469879518,
          3734.9397590361446,
          3753.012048192771,
          3771.0843373493976,
          3789.156626506024,
          3807.2289156626507,
          3825.3012048192772,
          3843.373493975904,
          3861.4457831325303,
          3879.518072289157,
          3897.5903614457834,
          3915.66265060241,
          3933.7349397590365,
          3951.807228915663,
          3969.879518072289,
          3987.9518072289156,
          4006.024096385542,
          4024.0963855421687,
          4042.1686746987953,
          4060.240963855422,
          4078.3132530120483,
          4096.385542168675,
          4114.457831325301,
          4132.530120481928,
          4150.6024096385545,
          4168.674698795181,
          4186.746987951808,
          4204.819277108434,
          4222.891566265061,
          4240.963855421687,
          4259.036144578313,
          4277.10843373494,
          4295.180722891566,
          4313.253012048193,
          4331.325301204819,
          4349.397590361446,
          4367.469879518072,
          4385.5421686746995,
          4403.614457831325,
          4421.686746987953,
          4439.759036144578,
          4457.831325301206,
          4475.903614457831,
          4493.975903614458,
          4512.048192771084,
          4530.120481927711,
          4548.192771084337,
          4566.265060240964,
          4584.3373493975905,
          4602.409638554217,
          4620.481927710844,
          4638.55421686747,
          4656.626506024097,
          4674.698795180723,
          4692.77108433735,
          4710.843373493976,
          4728.915662650603,
          4746.987951807229,
          4765.060240963856,
          4783.132530120482,
          4801.204819277109,
          4819.2771084337355,
          4837.349397590362,
          4855.421686746989,
          4873.493975903614,
          4891.566265060241,
          4909.638554216867,
          4927.710843373494,
          4945.78313253012,
          4963.855421686747,
          4981.9277108433735,
          5000
         ],
         "xaxis": "x",
         "y": [
          0,
          0,
          0,
          0,
          0,
          0,
          0,
          0,
          0,
          0,
          0,
          0,
          0,
          0,
          0,
          0,
          0,
          0,
          0,
          0,
          0,
          0,
          0,
          0,
          0,
          0,
          0,
          0,
          0,
          426.0348925179432,
          421.29831391727544,
          416.5440431116432,
          411.77208010104664,
          406.98242488548556,
          402.17507746496017,
          397.35003783947025,
          392.5073060090159,
          387.64688197359703,
          382.768765733214,
          377.8729572878662,
          372.9594566375541,
          368.0282637822776,
          363.0793787220366,
          358.1128014568312,
          353.12853198666136,
          348.126570311527,
          343.1069164314284,
          338.0695703463652,
          333.01453205633766,
          327.94180156134564,
          322.8513788613892,
          317.7432639564683,
          312.617456846583,
          307.4739575317332,
          302.31276601191905,
          297.1338822871404,
          291.9373063573973,
          286.7230382226898,
          281.49107788301785,
          276.2414253383815,
          270.9740805887807,
          265.6890436342155,
          260.38631447468583,
          255.0658931101916,
          249.72777954073308,
          244.37197376631008,
          238.99847578692265,
          233.60728560257084,
          228.19840321325452,
          222.7718286189737,
          217.32756181972863,
          211.86560281551897,
          206.38595160634492,
          200.8886081922064,
          195.37357257310353,
          189.84084474903617,
          184.2904247200044,
          178.7223124860081,
          173.13650804704744,
          167.53301140312237,
          161.91182255423286,
          239.43946958189778,
          234.7244142687173,
          229.99581336111106,
          225.25366685907883,
          220.4979747626207,
          215.72873707173662,
          210.9459537864267,
          206.14962490669086,
          201.33975043252926,
          196.51633036394156,
          191.6793647009282,
          186.82885344348867,
          181.96479659162344,
          177.08719414533215,
          172.19604610461522,
          167.29135246947217,
          162.37311323990335,
          157.44132841590846,
          152.49599799748796,
          147.53712198464126,
          142.56470037736884,
          137.5787331756704,
          132.57922037954623,
          127.56616198899609,
          122.5395580040201,
          117.49940842461825,
          112.4457132507903,
          107.37847248253651,
          102.297686119857,
          97.20335416275138,
          92.09547661122005,
          86.97405346526261,
          81.83908472487946,
          76.69057039007019,
          71.52851046083521,
          66.35290493717437,
          61.163753819087574,
          55.96105710657492,
          50.74481479963629,
          45.515026898271685,
          40.27169340248149,
          35.01481431226506,
          29.74438962762265,
          24.460419348554915,
          19.162903475060812,
          13.851842007140993,
          8.527234944795065,
          3.1890822880234224,
          0,
          0,
          0,
          0,
          0,
          0,
          0,
          0,
          0,
          0,
          0,
          0,
          0,
          0,
          0,
          0,
          0,
          0,
          0,
          0,
          0,
          0,
          0,
          0,
          0,
          0,
          0,
          0,
          0,
          0,
          0,
          0,
          0,
          0,
          0,
          0,
          0,
          0,
          0,
          0,
          0,
          0,
          0,
          0,
          0,
          0,
          0,
          0,
          0,
          0,
          0,
          0,
          0,
          0,
          0,
          0,
          0,
          0,
          0,
          0,
          0,
          0,
          0,
          0,
          0,
          0,
          0,
          0,
          0,
          0,
          0,
          0,
          0,
          0,
          0,
          0,
          0,
          0,
          0,
          0,
          0,
          0,
          0,
          0,
          0,
          0,
          0,
          0,
          0,
          0,
          0,
          0,
          0,
          0,
          0,
          0,
          0,
          0,
          0,
          0,
          0,
          0,
          0,
          0,
          0,
          0,
          0,
          0,
          0,
          0,
          0,
          0,
          0,
          0,
          0,
          0,
          0,
          0,
          0,
          0,
          0
         ],
         "yaxis": "y"
        },
        {
         "hovertemplate": "variable=kindergeld_basis_m<br>bruttolohn_m=%{x}<br>value=%{y}<extra></extra>",
         "legendgroup": "kindergeld_basis_m",
         "line": {
          "color": "#EF553B",
          "dash": "solid"
         },
         "marker": {
          "symbol": "circle"
         },
         "mode": "lines",
         "name": "kindergeld_basis_m",
         "orientation": "v",
         "showlegend": true,
         "type": "scatter",
         "x": [
          500,
          518.0722891566265,
          536.144578313253,
          554.2168674698795,
          572.289156626506,
          590.3614457831326,
          608.433734939759,
          626.5060240963855,
          644.5783132530121,
          662.6506024096386,
          680.722891566265,
          698.7951807228916,
          716.867469879518,
          734.9397590361446,
          753.0120481927711,
          771.0843373493976,
          789.1566265060242,
          807.2289156626506,
          825.3012048192771,
          843.3734939759036,
          861.4457831325301,
          879.5180722891566,
          897.5903614457832,
          915.6626506024097,
          933.7349397590361,
          951.8072289156627,
          969.8795180722891,
          987.9518072289156,
          1006.0240963855422,
          1024.0963855421687,
          1042.1686746987953,
          1060.2409638554218,
          1078.3132530120483,
          1096.3855421686749,
          1114.4578313253012,
          1132.5301204819277,
          1150.6024096385543,
          1168.6746987951808,
          1186.7469879518071,
          1204.8192771084337,
          1222.8915662650602,
          1240.9638554216867,
          1259.0361445783133,
          1277.1084337349398,
          1295.1807228915663,
          1313.2530120481929,
          1331.3253012048194,
          1349.397590361446,
          1367.4698795180723,
          1385.5421686746988,
          1403.6144578313254,
          1421.686746987952,
          1439.7590361445782,
          1457.8313253012047,
          1475.9036144578313,
          1493.9759036144578,
          1512.0481927710844,
          1530.120481927711,
          1548.1927710843374,
          1566.265060240964,
          1584.3373493975905,
          1602.4096385542168,
          1620.4819277108434,
          1638.55421686747,
          1656.6265060240964,
          1674.698795180723,
          1692.7710843373495,
          1710.843373493976,
          1728.9156626506024,
          1746.987951807229,
          1765.0602409638554,
          1783.132530120482,
          1801.2048192771085,
          1819.277108433735,
          1837.3493975903616,
          1855.421686746988,
          1873.4939759036145,
          1891.566265060241,
          1909.6385542168675,
          1927.710843373494,
          1945.7831325301206,
          1963.8554216867471,
          1981.9277108433735,
          2000,
          2018.0722891566265,
          2036.144578313253,
          2054.2168674698796,
          2072.289156626506,
          2090.3614457831327,
          2108.4337349397592,
          2126.5060240963858,
          2144.5783132530123,
          2162.650602409639,
          2180.7228915662654,
          2198.795180722892,
          2216.8674698795185,
          2234.9397590361446,
          2253.012048192771,
          2271.0843373493976,
          2289.156626506024,
          2307.2289156626507,
          2325.3012048192772,
          2343.373493975904,
          2361.4457831325303,
          2379.5180722891564,
          2397.590361445783,
          2415.6626506024095,
          2433.734939759036,
          2451.8072289156626,
          2469.879518072289,
          2487.9518072289156,
          2506.024096385542,
          2524.0963855421687,
          2542.1686746987953,
          2560.240963855422,
          2578.3132530120483,
          2596.385542168675,
          2614.4578313253014,
          2632.530120481928,
          2650.6024096385545,
          2668.674698795181,
          2686.746987951807,
          2704.8192771084337,
          2722.89156626506,
          2740.9638554216867,
          2759.0361445783133,
          2777.10843373494,
          2795.1807228915663,
          2813.253012048193,
          2831.3253012048194,
          2849.397590361446,
          2867.4698795180725,
          2885.542168674699,
          2903.6144578313256,
          2921.686746987952,
          2939.7590361445787,
          2957.8313253012047,
          2975.9036144578313,
          2993.975903614458,
          3012.0481927710844,
          3030.120481927711,
          3048.1927710843374,
          3066.265060240964,
          3084.3373493975905,
          3102.409638554217,
          3120.4819277108436,
          3138.55421686747,
          3156.6265060240967,
          3174.698795180723,
          3192.7710843373497,
          3210.843373493976,
          3228.9156626506024,
          3246.987951807229,
          3265.0602409638554,
          3283.132530120482,
          3301.2048192771085,
          3319.277108433735,
          3337.3493975903616,
          3355.421686746988,
          3373.4939759036147,
          3391.566265060241,
          3409.6385542168678,
          3427.7108433734943,
          3445.783132530121,
          3463.855421686747,
          3481.9277108433735,
          3500,
          3518.0722891566265,
          3536.144578313253,
          3554.2168674698796,
          3572.289156626506,
          3590.3614457831327,
          3608.4337349397592,
          3626.5060240963858,
          3644.5783132530123,
          3662.650602409639,
          3680.7228915662654,
          3698.795180722892,
          3716.867469879518,
          3734.9397590361446,
          3753.012048192771,
          3771.0843373493976,
          3789.156626506024,
          3807.2289156626507,
          3825.3012048192772,
          3843.373493975904,
          3861.4457831325303,
          3879.518072289157,
          3897.5903614457834,
          3915.66265060241,
          3933.7349397590365,
          3951.807228915663,
          3969.879518072289,
          3987.9518072289156,
          4006.024096385542,
          4024.0963855421687,
          4042.1686746987953,
          4060.240963855422,
          4078.3132530120483,
          4096.385542168675,
          4114.457831325301,
          4132.530120481928,
          4150.6024096385545,
          4168.674698795181,
          4186.746987951808,
          4204.819277108434,
          4222.891566265061,
          4240.963855421687,
          4259.036144578313,
          4277.10843373494,
          4295.180722891566,
          4313.253012048193,
          4331.325301204819,
          4349.397590361446,
          4367.469879518072,
          4385.5421686746995,
          4403.614457831325,
          4421.686746987953,
          4439.759036144578,
          4457.831325301206,
          4475.903614457831,
          4493.975903614458,
          4512.048192771084,
          4530.120481927711,
          4548.192771084337,
          4566.265060240964,
          4584.3373493975905,
          4602.409638554217,
          4620.481927710844,
          4638.55421686747,
          4656.626506024097,
          4674.698795180723,
          4692.77108433735,
          4710.843373493976,
          4728.915662650603,
          4746.987951807229,
          4765.060240963856,
          4783.132530120482,
          4801.204819277109,
          4819.2771084337355,
          4837.349397590362,
          4855.421686746989,
          4873.493975903614,
          4891.566265060241,
          4909.638554216867,
          4927.710843373494,
          4945.78313253012,
          4963.855421686747,
          4981.9277108433735,
          5000
         ],
         "xaxis": "x",
         "y": [
          204,
          204,
          204,
          204,
          204,
          204,
          204,
          204,
          204,
          204,
          204,
          204,
          204,
          204,
          204,
          204,
          204,
          204,
          204,
          204,
          204,
          204,
          204,
          204,
          204,
          204,
          204,
          204,
          204,
          204,
          204,
          204,
          204,
          204,
          204,
          204,
          204,
          204,
          204,
          204,
          204,
          204,
          204,
          204,
          204,
          204,
          204,
          204,
          204,
          204,
          204,
          204,
          204,
          204,
          204,
          204,
          204,
          204,
          204,
          204,
          204,
          204,
          204,
          204,
          204,
          204,
          204,
          204,
          204,
          204,
          204,
          204,
          204,
          204,
          204,
          204,
          204,
          204,
          204,
          204,
          204,
          204,
          204,
          204,
          204,
          204,
          204,
          204,
          204,
          204,
          204,
          204,
          204,
          204,
          204,
          204,
          204,
          204,
          204,
          204,
          204,
          204,
          204,
          204,
          204,
          204,
          204,
          204,
          204,
          204,
          204,
          204,
          204,
          204,
          204,
          204,
          204,
          204,
          204,
          204,
          204,
          204,
          204,
          204,
          204,
          204,
          204,
          204,
          204,
          204,
          204,
          204,
          204,
          204,
          204,
          204,
          204,
          204,
          204,
          204,
          204,
          204,
          204,
          204,
          204,
          204,
          204,
          204,
          204,
          204,
          204,
          204,
          204,
          204,
          204,
          204,
          204,
          204,
          204,
          204,
          204,
          204,
          204,
          204,
          204,
          204,
          204,
          204,
          204,
          204,
          204,
          204,
          204,
          204,
          204,
          204,
          204,
          204,
          204,
          204,
          204,
          204,
          204,
          204,
          204,
          204,
          204,
          204,
          204,
          204,
          204,
          204,
          204,
          204,
          204,
          204,
          204,
          204,
          204,
          204,
          204,
          204,
          204,
          204,
          204,
          204,
          204,
          204,
          204,
          204,
          204,
          204,
          204,
          204,
          204,
          204,
          204,
          204,
          204,
          204,
          204,
          204,
          204,
          204,
          204,
          204,
          204,
          204,
          204,
          204,
          204,
          204,
          204,
          204,
          204,
          204,
          204,
          204,
          204,
          204,
          204,
          204,
          204,
          204,
          204,
          204,
          204,
          204,
          204,
          204
         ],
         "yaxis": "y"
        },
        {
         "hovertemplate": "variable=arbeitsl_geld_2_m_hh<br>bruttolohn_m=%{x}<br>value=%{y}<extra></extra>",
         "legendgroup": "arbeitsl_geld_2_m_hh",
         "line": {
          "color": "#00cc96",
          "dash": "solid"
         },
         "marker": {
          "symbol": "circle"
         },
         "mode": "lines",
         "name": "arbeitsl_geld_2_m_hh",
         "orientation": "v",
         "showlegend": true,
         "type": "scatter",
         "x": [
          500,
          518.0722891566265,
          536.144578313253,
          554.2168674698795,
          572.289156626506,
          590.3614457831326,
          608.433734939759,
          626.5060240963855,
          644.5783132530121,
          662.6506024096386,
          680.722891566265,
          698.7951807228916,
          716.867469879518,
          734.9397590361446,
          753.0120481927711,
          771.0843373493976,
          789.1566265060242,
          807.2289156626506,
          825.3012048192771,
          843.3734939759036,
          861.4457831325301,
          879.5180722891566,
          897.5903614457832,
          915.6626506024097,
          933.7349397590361,
          951.8072289156627,
          969.8795180722891,
          987.9518072289156,
          1006.0240963855422,
          1024.0963855421687,
          1042.1686746987953,
          1060.2409638554218,
          1078.3132530120483,
          1096.3855421686749,
          1114.4578313253012,
          1132.5301204819277,
          1150.6024096385543,
          1168.6746987951808,
          1186.7469879518071,
          1204.8192771084337,
          1222.8915662650602,
          1240.9638554216867,
          1259.0361445783133,
          1277.1084337349398,
          1295.1807228915663,
          1313.2530120481929,
          1331.3253012048194,
          1349.397590361446,
          1367.4698795180723,
          1385.5421686746988,
          1403.6144578313254,
          1421.686746987952,
          1439.7590361445782,
          1457.8313253012047,
          1475.9036144578313,
          1493.9759036144578,
          1512.0481927710844,
          1530.120481927711,
          1548.1927710843374,
          1566.265060240964,
          1584.3373493975905,
          1602.4096385542168,
          1620.4819277108434,
          1638.55421686747,
          1656.6265060240964,
          1674.698795180723,
          1692.7710843373495,
          1710.843373493976,
          1728.9156626506024,
          1746.987951807229,
          1765.0602409638554,
          1783.132530120482,
          1801.2048192771085,
          1819.277108433735,
          1837.3493975903616,
          1855.421686746988,
          1873.4939759036145,
          1891.566265060241,
          1909.6385542168675,
          1927.710843373494,
          1945.7831325301206,
          1963.8554216867471,
          1981.9277108433735,
          2000,
          2018.0722891566265,
          2036.144578313253,
          2054.2168674698796,
          2072.289156626506,
          2090.3614457831327,
          2108.4337349397592,
          2126.5060240963858,
          2144.5783132530123,
          2162.650602409639,
          2180.7228915662654,
          2198.795180722892,
          2216.8674698795185,
          2234.9397590361446,
          2253.012048192771,
          2271.0843373493976,
          2289.156626506024,
          2307.2289156626507,
          2325.3012048192772,
          2343.373493975904,
          2361.4457831325303,
          2379.5180722891564,
          2397.590361445783,
          2415.6626506024095,
          2433.734939759036,
          2451.8072289156626,
          2469.879518072289,
          2487.9518072289156,
          2506.024096385542,
          2524.0963855421687,
          2542.1686746987953,
          2560.240963855422,
          2578.3132530120483,
          2596.385542168675,
          2614.4578313253014,
          2632.530120481928,
          2650.6024096385545,
          2668.674698795181,
          2686.746987951807,
          2704.8192771084337,
          2722.89156626506,
          2740.9638554216867,
          2759.0361445783133,
          2777.10843373494,
          2795.1807228915663,
          2813.253012048193,
          2831.3253012048194,
          2849.397590361446,
          2867.4698795180725,
          2885.542168674699,
          2903.6144578313256,
          2921.686746987952,
          2939.7590361445787,
          2957.8313253012047,
          2975.9036144578313,
          2993.975903614458,
          3012.0481927710844,
          3030.120481927711,
          3048.1927710843374,
          3066.265060240964,
          3084.3373493975905,
          3102.409638554217,
          3120.4819277108436,
          3138.55421686747,
          3156.6265060240967,
          3174.698795180723,
          3192.7710843373497,
          3210.843373493976,
          3228.9156626506024,
          3246.987951807229,
          3265.0602409638554,
          3283.132530120482,
          3301.2048192771085,
          3319.277108433735,
          3337.3493975903616,
          3355.421686746988,
          3373.4939759036147,
          3391.566265060241,
          3409.6385542168678,
          3427.7108433734943,
          3445.783132530121,
          3463.855421686747,
          3481.9277108433735,
          3500,
          3518.0722891566265,
          3536.144578313253,
          3554.2168674698796,
          3572.289156626506,
          3590.3614457831327,
          3608.4337349397592,
          3626.5060240963858,
          3644.5783132530123,
          3662.650602409639,
          3680.7228915662654,
          3698.795180722892,
          3716.867469879518,
          3734.9397590361446,
          3753.012048192771,
          3771.0843373493976,
          3789.156626506024,
          3807.2289156626507,
          3825.3012048192772,
          3843.373493975904,
          3861.4457831325303,
          3879.518072289157,
          3897.5903614457834,
          3915.66265060241,
          3933.7349397590365,
          3951.807228915663,
          3969.879518072289,
          3987.9518072289156,
          4006.024096385542,
          4024.0963855421687,
          4042.1686746987953,
          4060.240963855422,
          4078.3132530120483,
          4096.385542168675,
          4114.457831325301,
          4132.530120481928,
          4150.6024096385545,
          4168.674698795181,
          4186.746987951808,
          4204.819277108434,
          4222.891566265061,
          4240.963855421687,
          4259.036144578313,
          4277.10843373494,
          4295.180722891566,
          4313.253012048193,
          4331.325301204819,
          4349.397590361446,
          4367.469879518072,
          4385.5421686746995,
          4403.614457831325,
          4421.686746987953,
          4439.759036144578,
          4457.831325301206,
          4475.903614457831,
          4493.975903614458,
          4512.048192771084,
          4530.120481927711,
          4548.192771084337,
          4566.265060240964,
          4584.3373493975905,
          4602.409638554217,
          4620.481927710844,
          4638.55421686747,
          4656.626506024097,
          4674.698795180723,
          4692.77108433735,
          4710.843373493976,
          4728.915662650603,
          4746.987951807229,
          4765.060240963856,
          4783.132530120482,
          4801.204819277109,
          4819.2771084337355,
          4837.349397590362,
          4855.421686746989,
          4873.493975903614,
          4891.566265060241,
          4909.638554216867,
          4927.710843373494,
          4945.78313253012,
          4963.855421686747,
          4981.9277108433735,
          5000
         ],
         "xaxis": "x",
         "y": [
          1082.078023529412,
          1072.1449732990786,
          1062.2119230687456,
          1052.2788728384126,
          1042.3458226080793,
          1032.4127723777463,
          1022.4797221474132,
          1012.54667191708,
          1002.6136216867469,
          992.6805714564139,
          982.7475212260808,
          972.8144709957478,
          962.8814207654145,
          952.9483705350815,
          943.0153203047485,
          933.0822700744152,
          923.1492198440822,
          913.2161696137491,
          903.2831193834161,
          893.350069153083,
          883.4170189227498,
          873.4839686924167,
          863.5509184620837,
          853.6178682317504,
          843.6848180014174,
          833.7517677710844,
          823.8187175407511,
          813.8856673104183,
          803.3502074415308,
          0,
          0,
          0,
          0,
          0,
          0,
          0,
          0,
          0,
          0,
          0,
          0,
          0,
          0,
          0,
          0,
          0,
          0,
          0,
          0,
          0,
          0,
          0,
          0,
          0,
          0,
          0,
          0,
          0,
          0,
          0,
          0,
          0,
          0,
          0,
          0,
          0,
          0,
          0,
          0,
          0,
          0,
          0,
          0,
          0,
          0,
          0,
          0,
          0,
          0,
          0,
          0,
          0,
          0,
          0,
          0,
          0,
          0,
          0,
          0,
          0,
          0,
          0,
          0,
          0,
          0,
          0,
          0,
          0,
          0,
          0,
          0,
          0,
          0,
          0,
          0,
          0,
          0,
          0,
          0,
          0,
          0,
          0,
          0,
          0,
          0,
          0,
          0,
          0,
          0,
          0,
          0,
          0,
          0,
          0,
          0,
          0,
          0,
          0,
          0,
          0,
          0,
          0,
          0,
          0,
          0,
          0,
          0,
          0,
          0,
          0,
          0,
          0,
          0,
          0,
          0,
          0,
          0,
          0,
          0,
          0,
          0,
          0,
          0,
          0,
          0,
          0,
          0,
          0,
          0,
          0,
          0,
          0,
          0,
          0,
          0,
          0,
          0,
          0,
          0,
          0,
          0,
          0,
          0,
          0,
          0,
          0,
          0,
          0,
          0,
          0,
          0,
          0,
          0,
          0,
          0,
          0,
          0,
          0,
          0,
          0,
          0,
          0,
          0,
          0,
          0,
          0,
          0,
          0,
          0,
          0,
          0,
          0,
          0,
          0,
          0,
          0,
          0,
          0,
          0,
          0,
          0,
          0,
          0,
          0,
          0,
          0,
          0,
          0,
          0,
          0,
          0,
          0,
          0,
          0,
          0,
          0,
          0,
          0,
          0,
          0,
          0,
          0,
          0,
          0,
          0,
          0,
          0,
          0,
          0,
          0,
          0,
          0,
          0,
          0,
          0,
          0,
          0,
          0,
          0,
          0
         ],
         "yaxis": "y"
        }
       ],
       "layout": {
        "legend": {
         "title": {
          "text": "variable"
         },
         "tracegroupgap": 0
        },
        "template": {
         "data": {
          "bar": [
           {
            "error_x": {
             "color": "#2a3f5f"
            },
            "error_y": {
             "color": "#2a3f5f"
            },
            "marker": {
             "line": {
              "color": "#E5ECF6",
              "width": 0.5
             },
             "pattern": {
              "fillmode": "overlay",
              "size": 10,
              "solidity": 0.2
             }
            },
            "type": "bar"
           }
          ],
          "barpolar": [
           {
            "marker": {
             "line": {
              "color": "#E5ECF6",
              "width": 0.5
             },
             "pattern": {
              "fillmode": "overlay",
              "size": 10,
              "solidity": 0.2
             }
            },
            "type": "barpolar"
           }
          ],
          "carpet": [
           {
            "aaxis": {
             "endlinecolor": "#2a3f5f",
             "gridcolor": "white",
             "linecolor": "white",
             "minorgridcolor": "white",
             "startlinecolor": "#2a3f5f"
            },
            "baxis": {
             "endlinecolor": "#2a3f5f",
             "gridcolor": "white",
             "linecolor": "white",
             "minorgridcolor": "white",
             "startlinecolor": "#2a3f5f"
            },
            "type": "carpet"
           }
          ],
          "choropleth": [
           {
            "colorbar": {
             "outlinewidth": 0,
             "ticks": ""
            },
            "type": "choropleth"
           }
          ],
          "contour": [
           {
            "colorbar": {
             "outlinewidth": 0,
             "ticks": ""
            },
            "colorscale": [
             [
              0,
              "#0d0887"
             ],
             [
              0.1111111111111111,
              "#46039f"
             ],
             [
              0.2222222222222222,
              "#7201a8"
             ],
             [
              0.3333333333333333,
              "#9c179e"
             ],
             [
              0.4444444444444444,
              "#bd3786"
             ],
             [
              0.5555555555555556,
              "#d8576b"
             ],
             [
              0.6666666666666666,
              "#ed7953"
             ],
             [
              0.7777777777777778,
              "#fb9f3a"
             ],
             [
              0.8888888888888888,
              "#fdca26"
             ],
             [
              1,
              "#f0f921"
             ]
            ],
            "type": "contour"
           }
          ],
          "contourcarpet": [
           {
            "colorbar": {
             "outlinewidth": 0,
             "ticks": ""
            },
            "type": "contourcarpet"
           }
          ],
          "heatmap": [
           {
            "colorbar": {
             "outlinewidth": 0,
             "ticks": ""
            },
            "colorscale": [
             [
              0,
              "#0d0887"
             ],
             [
              0.1111111111111111,
              "#46039f"
             ],
             [
              0.2222222222222222,
              "#7201a8"
             ],
             [
              0.3333333333333333,
              "#9c179e"
             ],
             [
              0.4444444444444444,
              "#bd3786"
             ],
             [
              0.5555555555555556,
              "#d8576b"
             ],
             [
              0.6666666666666666,
              "#ed7953"
             ],
             [
              0.7777777777777778,
              "#fb9f3a"
             ],
             [
              0.8888888888888888,
              "#fdca26"
             ],
             [
              1,
              "#f0f921"
             ]
            ],
            "type": "heatmap"
           }
          ],
          "heatmapgl": [
           {
            "colorbar": {
             "outlinewidth": 0,
             "ticks": ""
            },
            "colorscale": [
             [
              0,
              "#0d0887"
             ],
             [
              0.1111111111111111,
              "#46039f"
             ],
             [
              0.2222222222222222,
              "#7201a8"
             ],
             [
              0.3333333333333333,
              "#9c179e"
             ],
             [
              0.4444444444444444,
              "#bd3786"
             ],
             [
              0.5555555555555556,
              "#d8576b"
             ],
             [
              0.6666666666666666,
              "#ed7953"
             ],
             [
              0.7777777777777778,
              "#fb9f3a"
             ],
             [
              0.8888888888888888,
              "#fdca26"
             ],
             [
              1,
              "#f0f921"
             ]
            ],
            "type": "heatmapgl"
           }
          ],
          "histogram": [
           {
            "marker": {
             "pattern": {
              "fillmode": "overlay",
              "size": 10,
              "solidity": 0.2
             }
            },
            "type": "histogram"
           }
          ],
          "histogram2d": [
           {
            "colorbar": {
             "outlinewidth": 0,
             "ticks": ""
            },
            "colorscale": [
             [
              0,
              "#0d0887"
             ],
             [
              0.1111111111111111,
              "#46039f"
             ],
             [
              0.2222222222222222,
              "#7201a8"
             ],
             [
              0.3333333333333333,
              "#9c179e"
             ],
             [
              0.4444444444444444,
              "#bd3786"
             ],
             [
              0.5555555555555556,
              "#d8576b"
             ],
             [
              0.6666666666666666,
              "#ed7953"
             ],
             [
              0.7777777777777778,
              "#fb9f3a"
             ],
             [
              0.8888888888888888,
              "#fdca26"
             ],
             [
              1,
              "#f0f921"
             ]
            ],
            "type": "histogram2d"
           }
          ],
          "histogram2dcontour": [
           {
            "colorbar": {
             "outlinewidth": 0,
             "ticks": ""
            },
            "colorscale": [
             [
              0,
              "#0d0887"
             ],
             [
              0.1111111111111111,
              "#46039f"
             ],
             [
              0.2222222222222222,
              "#7201a8"
             ],
             [
              0.3333333333333333,
              "#9c179e"
             ],
             [
              0.4444444444444444,
              "#bd3786"
             ],
             [
              0.5555555555555556,
              "#d8576b"
             ],
             [
              0.6666666666666666,
              "#ed7953"
             ],
             [
              0.7777777777777778,
              "#fb9f3a"
             ],
             [
              0.8888888888888888,
              "#fdca26"
             ],
             [
              1,
              "#f0f921"
             ]
            ],
            "type": "histogram2dcontour"
           }
          ],
          "mesh3d": [
           {
            "colorbar": {
             "outlinewidth": 0,
             "ticks": ""
            },
            "type": "mesh3d"
           }
          ],
          "parcoords": [
           {
            "line": {
             "colorbar": {
              "outlinewidth": 0,
              "ticks": ""
             }
            },
            "type": "parcoords"
           }
          ],
          "pie": [
           {
            "automargin": true,
            "type": "pie"
           }
          ],
          "scatter": [
           {
            "fillpattern": {
             "fillmode": "overlay",
             "size": 10,
             "solidity": 0.2
            },
            "type": "scatter"
           }
          ],
          "scatter3d": [
           {
            "line": {
             "colorbar": {
              "outlinewidth": 0,
              "ticks": ""
             }
            },
            "marker": {
             "colorbar": {
              "outlinewidth": 0,
              "ticks": ""
             }
            },
            "type": "scatter3d"
           }
          ],
          "scattercarpet": [
           {
            "marker": {
             "colorbar": {
              "outlinewidth": 0,
              "ticks": ""
             }
            },
            "type": "scattercarpet"
           }
          ],
          "scattergeo": [
           {
            "marker": {
             "colorbar": {
              "outlinewidth": 0,
              "ticks": ""
             }
            },
            "type": "scattergeo"
           }
          ],
          "scattergl": [
           {
            "marker": {
             "colorbar": {
              "outlinewidth": 0,
              "ticks": ""
             }
            },
            "type": "scattergl"
           }
          ],
          "scattermapbox": [
           {
            "marker": {
             "colorbar": {
              "outlinewidth": 0,
              "ticks": ""
             }
            },
            "type": "scattermapbox"
           }
          ],
          "scatterpolar": [
           {
            "marker": {
             "colorbar": {
              "outlinewidth": 0,
              "ticks": ""
             }
            },
            "type": "scatterpolar"
           }
          ],
          "scatterpolargl": [
           {
            "marker": {
             "colorbar": {
              "outlinewidth": 0,
              "ticks": ""
             }
            },
            "type": "scatterpolargl"
           }
          ],
          "scatterternary": [
           {
            "marker": {
             "colorbar": {
              "outlinewidth": 0,
              "ticks": ""
             }
            },
            "type": "scatterternary"
           }
          ],
          "surface": [
           {
            "colorbar": {
             "outlinewidth": 0,
             "ticks": ""
            },
            "colorscale": [
             [
              0,
              "#0d0887"
             ],
             [
              0.1111111111111111,
              "#46039f"
             ],
             [
              0.2222222222222222,
              "#7201a8"
             ],
             [
              0.3333333333333333,
              "#9c179e"
             ],
             [
              0.4444444444444444,
              "#bd3786"
             ],
             [
              0.5555555555555556,
              "#d8576b"
             ],
             [
              0.6666666666666666,
              "#ed7953"
             ],
             [
              0.7777777777777778,
              "#fb9f3a"
             ],
             [
              0.8888888888888888,
              "#fdca26"
             ],
             [
              1,
              "#f0f921"
             ]
            ],
            "type": "surface"
           }
          ],
          "table": [
           {
            "cells": {
             "fill": {
              "color": "#EBF0F8"
             },
             "line": {
              "color": "white"
             }
            },
            "header": {
             "fill": {
              "color": "#C8D4E3"
             },
             "line": {
              "color": "white"
             }
            },
            "type": "table"
           }
          ]
         },
         "layout": {
          "annotationdefaults": {
           "arrowcolor": "#2a3f5f",
           "arrowhead": 0,
           "arrowwidth": 1
          },
          "autotypenumbers": "strict",
          "coloraxis": {
           "colorbar": {
            "outlinewidth": 0,
            "ticks": ""
           }
          },
          "colorscale": {
           "diverging": [
            [
             0,
             "#8e0152"
            ],
            [
             0.1,
             "#c51b7d"
            ],
            [
             0.2,
             "#de77ae"
            ],
            [
             0.3,
             "#f1b6da"
            ],
            [
             0.4,
             "#fde0ef"
            ],
            [
             0.5,
             "#f7f7f7"
            ],
            [
             0.6,
             "#e6f5d0"
            ],
            [
             0.7,
             "#b8e186"
            ],
            [
             0.8,
             "#7fbc41"
            ],
            [
             0.9,
             "#4d9221"
            ],
            [
             1,
             "#276419"
            ]
           ],
           "sequential": [
            [
             0,
             "#0d0887"
            ],
            [
             0.1111111111111111,
             "#46039f"
            ],
            [
             0.2222222222222222,
             "#7201a8"
            ],
            [
             0.3333333333333333,
             "#9c179e"
            ],
            [
             0.4444444444444444,
             "#bd3786"
            ],
            [
             0.5555555555555556,
             "#d8576b"
            ],
            [
             0.6666666666666666,
             "#ed7953"
            ],
            [
             0.7777777777777778,
             "#fb9f3a"
            ],
            [
             0.8888888888888888,
             "#fdca26"
            ],
            [
             1,
             "#f0f921"
            ]
           ],
           "sequentialminus": [
            [
             0,
             "#0d0887"
            ],
            [
             0.1111111111111111,
             "#46039f"
            ],
            [
             0.2222222222222222,
             "#7201a8"
            ],
            [
             0.3333333333333333,
             "#9c179e"
            ],
            [
             0.4444444444444444,
             "#bd3786"
            ],
            [
             0.5555555555555556,
             "#d8576b"
            ],
            [
             0.6666666666666666,
             "#ed7953"
            ],
            [
             0.7777777777777778,
             "#fb9f3a"
            ],
            [
             0.8888888888888888,
             "#fdca26"
            ],
            [
             1,
             "#f0f921"
            ]
           ]
          },
          "colorway": [
           "#636efa",
           "#EF553B",
           "#00cc96",
           "#ab63fa",
           "#FFA15A",
           "#19d3f3",
           "#FF6692",
           "#B6E880",
           "#FF97FF",
           "#FECB52"
          ],
          "font": {
           "color": "#2a3f5f"
          },
          "geo": {
           "bgcolor": "white",
           "lakecolor": "white",
           "landcolor": "#E5ECF6",
           "showlakes": true,
           "showland": true,
           "subunitcolor": "white"
          },
          "hoverlabel": {
           "align": "left"
          },
          "hovermode": "closest",
          "mapbox": {
           "style": "light"
          },
          "paper_bgcolor": "white",
          "plot_bgcolor": "#E5ECF6",
          "polar": {
           "angularaxis": {
            "gridcolor": "white",
            "linecolor": "white",
            "ticks": ""
           },
           "bgcolor": "#E5ECF6",
           "radialaxis": {
            "gridcolor": "white",
            "linecolor": "white",
            "ticks": ""
           }
          },
          "scene": {
           "xaxis": {
            "backgroundcolor": "#E5ECF6",
            "gridcolor": "white",
            "gridwidth": 2,
            "linecolor": "white",
            "showbackground": true,
            "ticks": "",
            "zerolinecolor": "white"
           },
           "yaxis": {
            "backgroundcolor": "#E5ECF6",
            "gridcolor": "white",
            "gridwidth": 2,
            "linecolor": "white",
            "showbackground": true,
            "ticks": "",
            "zerolinecolor": "white"
           },
           "zaxis": {
            "backgroundcolor": "#E5ECF6",
            "gridcolor": "white",
            "gridwidth": 2,
            "linecolor": "white",
            "showbackground": true,
            "ticks": "",
            "zerolinecolor": "white"
           }
          },
          "shapedefaults": {
           "line": {
            "color": "#2a3f5f"
           }
          },
          "ternary": {
           "aaxis": {
            "gridcolor": "white",
            "linecolor": "white",
            "ticks": ""
           },
           "baxis": {
            "gridcolor": "white",
            "linecolor": "white",
            "ticks": ""
           },
           "bgcolor": "#E5ECF6",
           "caxis": {
            "gridcolor": "white",
            "linecolor": "white",
            "ticks": ""
           }
          },
          "title": {
           "x": 0.05
          },
          "xaxis": {
           "automargin": true,
           "gridcolor": "white",
           "linecolor": "white",
           "ticks": "",
           "title": {
            "standoff": 15
           },
           "zerolinecolor": "white",
           "zerolinewidth": 2
          },
          "yaxis": {
           "automargin": true,
           "gridcolor": "white",
           "linecolor": "white",
           "ticks": "",
           "title": {
            "standoff": 15
           },
           "zerolinecolor": "white",
           "zerolinewidth": 2
          }
         }
        },
        "title": {
         "text": "Checked Favorability"
        },
        "xaxis": {
         "anchor": "y",
         "domain": [
          0,
          1
         ],
         "title": {
          "text": "Monthly gross income in € (per household)"
         }
        },
        "yaxis": {
         "anchor": "x",
         "domain": [
          0,
          1
         ],
         "title": {
          "text": "€ per month"
         }
        }
       }
      }
     },
     "metadata": {},
     "output_type": "display_data"
    },
    {
     "data": {
      "application/vnd.plotly.v1+json": {
       "config": {
        "plotlyServerURL": "https://plot.ly"
       },
       "data": [
        {
         "hovertemplate": "variable=wohngeld_m_hh<br>bruttolohn_m=%{x}<br>value=%{y}<extra></extra>",
         "legendgroup": "wohngeld_m_hh",
         "line": {
          "color": "#636efa",
          "dash": "solid"
         },
         "marker": {
          "symbol": "circle"
         },
         "mode": "lines",
         "name": "wohngeld_m_hh",
         "orientation": "v",
         "showlegend": true,
         "type": "scatter",
         "x": [
          500,
          518.0722891566265,
          536.144578313253,
          554.2168674698795,
          572.289156626506,
          590.3614457831326,
          608.433734939759,
          626.5060240963855,
          644.5783132530121,
          662.6506024096386,
          680.722891566265,
          698.7951807228916,
          716.867469879518,
          734.9397590361446,
          753.0120481927711,
          771.0843373493976,
          789.1566265060242,
          807.2289156626506,
          825.3012048192771,
          843.3734939759036,
          861.4457831325301,
          879.5180722891566,
          897.5903614457832,
          915.6626506024097,
          933.7349397590361,
          951.8072289156627,
          969.8795180722891,
          987.9518072289156,
          1006.0240963855422,
          1024.0963855421687,
          1042.1686746987953,
          1060.2409638554218,
          1078.3132530120483,
          1096.3855421686749,
          1114.4578313253012,
          1132.5301204819277,
          1150.6024096385543,
          1168.6746987951808,
          1186.7469879518071,
          1204.8192771084337,
          1222.8915662650602,
          1240.9638554216867,
          1259.0361445783133,
          1277.1084337349398,
          1295.1807228915663,
          1313.2530120481929,
          1331.3253012048194,
          1349.397590361446,
          1367.4698795180723,
          1385.5421686746988,
          1403.6144578313254,
          1421.686746987952,
          1439.7590361445782,
          1457.8313253012047,
          1475.9036144578313,
          1493.9759036144578,
          1512.0481927710844,
          1530.120481927711,
          1548.1927710843374,
          1566.265060240964,
          1584.3373493975905,
          1602.4096385542168,
          1620.4819277108434,
          1638.55421686747,
          1656.6265060240964,
          1674.698795180723,
          1692.7710843373495,
          1710.843373493976,
          1728.9156626506024,
          1746.987951807229,
          1765.0602409638554,
          1783.132530120482,
          1801.2048192771085,
          1819.277108433735,
          1837.3493975903616,
          1855.421686746988,
          1873.4939759036145,
          1891.566265060241,
          1909.6385542168675,
          1927.710843373494,
          1945.7831325301206,
          1963.8554216867471,
          1981.9277108433735,
          2000,
          2018.0722891566265,
          2036.144578313253,
          2054.2168674698796,
          2072.289156626506,
          2090.3614457831327,
          2108.4337349397592,
          2126.5060240963858,
          2144.5783132530123,
          2162.650602409639,
          2180.7228915662654,
          2198.795180722892,
          2216.8674698795185,
          2234.9397590361446,
          2253.012048192771,
          2271.0843373493976,
          2289.156626506024,
          2307.2289156626507,
          2325.3012048192772,
          2343.373493975904,
          2361.4457831325303,
          2379.5180722891564,
          2397.590361445783,
          2415.6626506024095,
          2433.734939759036,
          2451.8072289156626,
          2469.879518072289,
          2487.9518072289156,
          2506.024096385542,
          2524.0963855421687,
          2542.1686746987953,
          2560.240963855422,
          2578.3132530120483,
          2596.385542168675,
          2614.4578313253014,
          2632.530120481928,
          2650.6024096385545,
          2668.674698795181,
          2686.746987951807,
          2704.8192771084337,
          2722.89156626506,
          2740.9638554216867,
          2759.0361445783133,
          2777.10843373494,
          2795.1807228915663,
          2813.253012048193,
          2831.3253012048194,
          2849.397590361446,
          2867.4698795180725,
          2885.542168674699,
          2903.6144578313256,
          2921.686746987952,
          2939.7590361445787,
          2957.8313253012047,
          2975.9036144578313,
          2993.975903614458,
          3012.0481927710844,
          3030.120481927711,
          3048.1927710843374,
          3066.265060240964,
          3084.3373493975905,
          3102.409638554217,
          3120.4819277108436,
          3138.55421686747,
          3156.6265060240967,
          3174.698795180723,
          3192.7710843373497,
          3210.843373493976,
          3228.9156626506024,
          3246.987951807229,
          3265.0602409638554,
          3283.132530120482,
          3301.2048192771085,
          3319.277108433735,
          3337.3493975903616,
          3355.421686746988,
          3373.4939759036147,
          3391.566265060241,
          3409.6385542168678,
          3427.7108433734943,
          3445.783132530121,
          3463.855421686747,
          3481.9277108433735,
          3500,
          3518.0722891566265,
          3536.144578313253,
          3554.2168674698796,
          3572.289156626506,
          3590.3614457831327,
          3608.4337349397592,
          3626.5060240963858,
          3644.5783132530123,
          3662.650602409639,
          3680.7228915662654,
          3698.795180722892,
          3716.867469879518,
          3734.9397590361446,
          3753.012048192771,
          3771.0843373493976,
          3789.156626506024,
          3807.2289156626507,
          3825.3012048192772,
          3843.373493975904,
          3861.4457831325303,
          3879.518072289157,
          3897.5903614457834,
          3915.66265060241,
          3933.7349397590365,
          3951.807228915663,
          3969.879518072289,
          3987.9518072289156,
          4006.024096385542,
          4024.0963855421687,
          4042.1686746987953,
          4060.240963855422,
          4078.3132530120483,
          4096.385542168675,
          4114.457831325301,
          4132.530120481928,
          4150.6024096385545,
          4168.674698795181,
          4186.746987951808,
          4204.819277108434,
          4222.891566265061,
          4240.963855421687,
          4259.036144578313,
          4277.10843373494,
          4295.180722891566,
          4313.253012048193,
          4331.325301204819,
          4349.397590361446,
          4367.469879518072,
          4385.5421686746995,
          4403.614457831325,
          4421.686746987953,
          4439.759036144578,
          4457.831325301206,
          4475.903614457831,
          4493.975903614458,
          4512.048192771084,
          4530.120481927711,
          4548.192771084337,
          4566.265060240964,
          4584.3373493975905,
          4602.409638554217,
          4620.481927710844,
          4638.55421686747,
          4656.626506024097,
          4674.698795180723,
          4692.77108433735,
          4710.843373493976,
          4728.915662650603,
          4746.987951807229,
          4765.060240963856,
          4783.132530120482,
          4801.204819277109,
          4819.2771084337355,
          4837.349397590362,
          4855.421686746989,
          4873.493975903614,
          4891.566265060241,
          4909.638554216867,
          4927.710843373494,
          4945.78313253012,
          4963.855421686747,
          4981.9277108433735,
          5000
         ],
         "xaxis": "x",
         "y": [
          0,
          0,
          0,
          0,
          0,
          0,
          0,
          0,
          0,
          0,
          0,
          0,
          0,
          0,
          0,
          0,
          0,
          0,
          0,
          0,
          0,
          0,
          0,
          0,
          0,
          0,
          0,
          0,
          0,
          426.0348925179432,
          421.29831391727544,
          416.5440431116432,
          411.77208010104664,
          406.98242488548556,
          402.17507746496017,
          397.35003783947025,
          392.5073060090159,
          387.64688197359703,
          382.768765733214,
          377.8729572878662,
          372.9594566375541,
          368.0282637822776,
          363.0793787220366,
          358.1128014568312,
          353.12853198666136,
          348.126570311527,
          343.1069164314284,
          338.0695703463652,
          333.01453205633766,
          327.94180156134564,
          322.8513788613892,
          317.7432639564683,
          312.617456846583,
          307.4739575317332,
          302.31276601191905,
          297.1338822871404,
          291.9373063573973,
          286.7230382226898,
          281.49107788301785,
          276.2414253383815,
          270.9740805887807,
          265.6890436342155,
          260.38631447468583,
          255.0658931101916,
          249.72777954073308,
          244.37197376631008,
          238.99847578692265,
          233.60728560257084,
          228.19840321325452,
          222.7718286189737,
          217.32756181972863,
          211.86560281551897,
          206.38595160634492,
          200.8886081922064,
          195.37357257310353,
          189.84084474903617,
          184.2904247200044,
          178.7223124860081,
          173.13650804704744,
          167.53301140312237,
          161.91182255423286,
          239.43946958189778,
          234.7244142687173,
          229.99581336111106,
          225.25366685907883,
          220.4979747626207,
          215.72873707173662,
          210.9459537864267,
          206.14962490669086,
          201.33975043252926,
          196.51633036394156,
          191.6793647009282,
          186.82885344348867,
          181.96479659162344,
          177.08719414533215,
          172.19604610461522,
          167.29135246947217,
          162.37311323990335,
          157.44132841590846,
          152.49599799748796,
          147.53712198464126,
          142.56470037736884,
          137.5787331756704,
          132.57922037954623,
          127.56616198899609,
          122.5395580040201,
          117.49940842461825,
          112.4457132507903,
          107.37847248253651,
          102.297686119857,
          97.20335416275138,
          92.09547661122005,
          86.97405346526261,
          81.83908472487946,
          76.69057039007019,
          71.52851046083521,
          66.35290493717437,
          61.163753819087574,
          55.96105710657492,
          50.74481479963629,
          45.515026898271685,
          40.27169340248149,
          35.01481431226506,
          29.74438962762265,
          24.460419348554915,
          19.162903475060812,
          13.851842007140993,
          8.527234944795065,
          3.1890822880234224,
          0,
          0,
          0,
          0,
          0,
          0,
          0,
          0,
          0,
          0,
          0,
          0,
          0,
          0,
          0,
          0,
          0,
          0,
          0,
          0,
          0,
          0,
          0,
          0,
          0,
          0,
          0,
          0,
          0,
          0,
          0,
          0,
          0,
          0,
          0,
          0,
          0,
          0,
          0,
          0,
          0,
          0,
          0,
          0,
          0,
          0,
          0,
          0,
          0,
          0,
          0,
          0,
          0,
          0,
          0,
          0,
          0,
          0,
          0,
          0,
          0,
          0,
          0,
          0,
          0,
          0,
          0,
          0,
          0,
          0,
          0,
          0,
          0,
          0,
          0,
          0,
          0,
          0,
          0,
          0,
          0,
          0,
          0,
          0,
          0,
          0,
          0,
          0,
          0,
          0,
          0,
          0,
          0,
          0,
          0,
          0,
          0,
          0,
          0,
          0,
          0,
          0,
          0,
          0,
          0,
          0,
          0,
          0,
          0,
          0,
          0,
          0,
          0,
          0,
          0,
          0,
          0,
          0,
          0,
          0,
          0
         ],
         "yaxis": "y"
        },
        {
         "hovertemplate": "variable=kindergeld_basis_m<br>bruttolohn_m=%{x}<br>value=%{y}<extra></extra>",
         "legendgroup": "kindergeld_basis_m",
         "line": {
          "color": "#EF553B",
          "dash": "solid"
         },
         "marker": {
          "symbol": "circle"
         },
         "mode": "lines",
         "name": "kindergeld_basis_m",
         "orientation": "v",
         "showlegend": true,
         "type": "scatter",
         "x": [
          500,
          518.0722891566265,
          536.144578313253,
          554.2168674698795,
          572.289156626506,
          590.3614457831326,
          608.433734939759,
          626.5060240963855,
          644.5783132530121,
          662.6506024096386,
          680.722891566265,
          698.7951807228916,
          716.867469879518,
          734.9397590361446,
          753.0120481927711,
          771.0843373493976,
          789.1566265060242,
          807.2289156626506,
          825.3012048192771,
          843.3734939759036,
          861.4457831325301,
          879.5180722891566,
          897.5903614457832,
          915.6626506024097,
          933.7349397590361,
          951.8072289156627,
          969.8795180722891,
          987.9518072289156,
          1006.0240963855422,
          1024.0963855421687,
          1042.1686746987953,
          1060.2409638554218,
          1078.3132530120483,
          1096.3855421686749,
          1114.4578313253012,
          1132.5301204819277,
          1150.6024096385543,
          1168.6746987951808,
          1186.7469879518071,
          1204.8192771084337,
          1222.8915662650602,
          1240.9638554216867,
          1259.0361445783133,
          1277.1084337349398,
          1295.1807228915663,
          1313.2530120481929,
          1331.3253012048194,
          1349.397590361446,
          1367.4698795180723,
          1385.5421686746988,
          1403.6144578313254,
          1421.686746987952,
          1439.7590361445782,
          1457.8313253012047,
          1475.9036144578313,
          1493.9759036144578,
          1512.0481927710844,
          1530.120481927711,
          1548.1927710843374,
          1566.265060240964,
          1584.3373493975905,
          1602.4096385542168,
          1620.4819277108434,
          1638.55421686747,
          1656.6265060240964,
          1674.698795180723,
          1692.7710843373495,
          1710.843373493976,
          1728.9156626506024,
          1746.987951807229,
          1765.0602409638554,
          1783.132530120482,
          1801.2048192771085,
          1819.277108433735,
          1837.3493975903616,
          1855.421686746988,
          1873.4939759036145,
          1891.566265060241,
          1909.6385542168675,
          1927.710843373494,
          1945.7831325301206,
          1963.8554216867471,
          1981.9277108433735,
          2000,
          2018.0722891566265,
          2036.144578313253,
          2054.2168674698796,
          2072.289156626506,
          2090.3614457831327,
          2108.4337349397592,
          2126.5060240963858,
          2144.5783132530123,
          2162.650602409639,
          2180.7228915662654,
          2198.795180722892,
          2216.8674698795185,
          2234.9397590361446,
          2253.012048192771,
          2271.0843373493976,
          2289.156626506024,
          2307.2289156626507,
          2325.3012048192772,
          2343.373493975904,
          2361.4457831325303,
          2379.5180722891564,
          2397.590361445783,
          2415.6626506024095,
          2433.734939759036,
          2451.8072289156626,
          2469.879518072289,
          2487.9518072289156,
          2506.024096385542,
          2524.0963855421687,
          2542.1686746987953,
          2560.240963855422,
          2578.3132530120483,
          2596.385542168675,
          2614.4578313253014,
          2632.530120481928,
          2650.6024096385545,
          2668.674698795181,
          2686.746987951807,
          2704.8192771084337,
          2722.89156626506,
          2740.9638554216867,
          2759.0361445783133,
          2777.10843373494,
          2795.1807228915663,
          2813.253012048193,
          2831.3253012048194,
          2849.397590361446,
          2867.4698795180725,
          2885.542168674699,
          2903.6144578313256,
          2921.686746987952,
          2939.7590361445787,
          2957.8313253012047,
          2975.9036144578313,
          2993.975903614458,
          3012.0481927710844,
          3030.120481927711,
          3048.1927710843374,
          3066.265060240964,
          3084.3373493975905,
          3102.409638554217,
          3120.4819277108436,
          3138.55421686747,
          3156.6265060240967,
          3174.698795180723,
          3192.7710843373497,
          3210.843373493976,
          3228.9156626506024,
          3246.987951807229,
          3265.0602409638554,
          3283.132530120482,
          3301.2048192771085,
          3319.277108433735,
          3337.3493975903616,
          3355.421686746988,
          3373.4939759036147,
          3391.566265060241,
          3409.6385542168678,
          3427.7108433734943,
          3445.783132530121,
          3463.855421686747,
          3481.9277108433735,
          3500,
          3518.0722891566265,
          3536.144578313253,
          3554.2168674698796,
          3572.289156626506,
          3590.3614457831327,
          3608.4337349397592,
          3626.5060240963858,
          3644.5783132530123,
          3662.650602409639,
          3680.7228915662654,
          3698.795180722892,
          3716.867469879518,
          3734.9397590361446,
          3753.012048192771,
          3771.0843373493976,
          3789.156626506024,
          3807.2289156626507,
          3825.3012048192772,
          3843.373493975904,
          3861.4457831325303,
          3879.518072289157,
          3897.5903614457834,
          3915.66265060241,
          3933.7349397590365,
          3951.807228915663,
          3969.879518072289,
          3987.9518072289156,
          4006.024096385542,
          4024.0963855421687,
          4042.1686746987953,
          4060.240963855422,
          4078.3132530120483,
          4096.385542168675,
          4114.457831325301,
          4132.530120481928,
          4150.6024096385545,
          4168.674698795181,
          4186.746987951808,
          4204.819277108434,
          4222.891566265061,
          4240.963855421687,
          4259.036144578313,
          4277.10843373494,
          4295.180722891566,
          4313.253012048193,
          4331.325301204819,
          4349.397590361446,
          4367.469879518072,
          4385.5421686746995,
          4403.614457831325,
          4421.686746987953,
          4439.759036144578,
          4457.831325301206,
          4475.903614457831,
          4493.975903614458,
          4512.048192771084,
          4530.120481927711,
          4548.192771084337,
          4566.265060240964,
          4584.3373493975905,
          4602.409638554217,
          4620.481927710844,
          4638.55421686747,
          4656.626506024097,
          4674.698795180723,
          4692.77108433735,
          4710.843373493976,
          4728.915662650603,
          4746.987951807229,
          4765.060240963856,
          4783.132530120482,
          4801.204819277109,
          4819.2771084337355,
          4837.349397590362,
          4855.421686746989,
          4873.493975903614,
          4891.566265060241,
          4909.638554216867,
          4927.710843373494,
          4945.78313253012,
          4963.855421686747,
          4981.9277108433735,
          5000
         ],
         "xaxis": "x",
         "y": [
          204,
          204,
          204,
          204,
          204,
          204,
          204,
          204,
          204,
          204,
          204,
          204,
          204,
          204,
          204,
          204,
          204,
          204,
          204,
          204,
          204,
          204,
          204,
          204,
          204,
          204,
          204,
          204,
          204,
          204,
          204,
          204,
          204,
          204,
          204,
          204,
          204,
          204,
          204,
          204,
          204,
          204,
          204,
          204,
          204,
          204,
          204,
          204,
          204,
          204,
          204,
          204,
          204,
          204,
          204,
          204,
          204,
          204,
          204,
          204,
          204,
          204,
          204,
          204,
          204,
          204,
          204,
          204,
          204,
          204,
          204,
          204,
          204,
          204,
          204,
          204,
          204,
          204,
          204,
          204,
          204,
          204,
          204,
          204,
          204,
          204,
          204,
          204,
          204,
          204,
          204,
          204,
          204,
          204,
          204,
          204,
          204,
          204,
          204,
          204,
          204,
          204,
          204,
          204,
          204,
          204,
          204,
          204,
          204,
          204,
          204,
          204,
          204,
          204,
          204,
          204,
          204,
          204,
          204,
          204,
          204,
          204,
          204,
          204,
          204,
          204,
          204,
          204,
          204,
          204,
          204,
          204,
          204,
          204,
          204,
          204,
          204,
          204,
          204,
          204,
          204,
          204,
          204,
          204,
          204,
          204,
          204,
          204,
          204,
          204,
          204,
          204,
          204,
          204,
          204,
          204,
          204,
          204,
          204,
          204,
          204,
          204,
          204,
          204,
          204,
          204,
          204,
          204,
          204,
          204,
          204,
          204,
          204,
          204,
          204,
          204,
          204,
          204,
          204,
          204,
          204,
          204,
          204,
          204,
          204,
          204,
          204,
          204,
          204,
          204,
          204,
          204,
          204,
          204,
          204,
          204,
          204,
          204,
          204,
          204,
          204,
          204,
          204,
          204,
          204,
          204,
          204,
          204,
          204,
          204,
          204,
          204,
          204,
          204,
          204,
          204,
          204,
          204,
          204,
          204,
          204,
          204,
          204,
          204,
          204,
          204,
          204,
          204,
          204,
          204,
          204,
          204,
          204,
          204,
          204,
          204,
          204,
          204,
          204,
          204,
          204,
          204,
          204,
          204,
          204,
          204,
          204,
          204,
          204,
          204
         ],
         "yaxis": "y"
        },
        {
         "hovertemplate": "variable=arbeitsl_geld_2_m_hh<br>bruttolohn_m=%{x}<br>value=%{y}<extra></extra>",
         "legendgroup": "arbeitsl_geld_2_m_hh",
         "line": {
          "color": "#00cc96",
          "dash": "solid"
         },
         "marker": {
          "symbol": "circle"
         },
         "mode": "lines",
         "name": "arbeitsl_geld_2_m_hh",
         "orientation": "v",
         "showlegend": true,
         "type": "scatter",
         "x": [
          500,
          518.0722891566265,
          536.144578313253,
          554.2168674698795,
          572.289156626506,
          590.3614457831326,
          608.433734939759,
          626.5060240963855,
          644.5783132530121,
          662.6506024096386,
          680.722891566265,
          698.7951807228916,
          716.867469879518,
          734.9397590361446,
          753.0120481927711,
          771.0843373493976,
          789.1566265060242,
          807.2289156626506,
          825.3012048192771,
          843.3734939759036,
          861.4457831325301,
          879.5180722891566,
          897.5903614457832,
          915.6626506024097,
          933.7349397590361,
          951.8072289156627,
          969.8795180722891,
          987.9518072289156,
          1006.0240963855422,
          1024.0963855421687,
          1042.1686746987953,
          1060.2409638554218,
          1078.3132530120483,
          1096.3855421686749,
          1114.4578313253012,
          1132.5301204819277,
          1150.6024096385543,
          1168.6746987951808,
          1186.7469879518071,
          1204.8192771084337,
          1222.8915662650602,
          1240.9638554216867,
          1259.0361445783133,
          1277.1084337349398,
          1295.1807228915663,
          1313.2530120481929,
          1331.3253012048194,
          1349.397590361446,
          1367.4698795180723,
          1385.5421686746988,
          1403.6144578313254,
          1421.686746987952,
          1439.7590361445782,
          1457.8313253012047,
          1475.9036144578313,
          1493.9759036144578,
          1512.0481927710844,
          1530.120481927711,
          1548.1927710843374,
          1566.265060240964,
          1584.3373493975905,
          1602.4096385542168,
          1620.4819277108434,
          1638.55421686747,
          1656.6265060240964,
          1674.698795180723,
          1692.7710843373495,
          1710.843373493976,
          1728.9156626506024,
          1746.987951807229,
          1765.0602409638554,
          1783.132530120482,
          1801.2048192771085,
          1819.277108433735,
          1837.3493975903616,
          1855.421686746988,
          1873.4939759036145,
          1891.566265060241,
          1909.6385542168675,
          1927.710843373494,
          1945.7831325301206,
          1963.8554216867471,
          1981.9277108433735,
          2000,
          2018.0722891566265,
          2036.144578313253,
          2054.2168674698796,
          2072.289156626506,
          2090.3614457831327,
          2108.4337349397592,
          2126.5060240963858,
          2144.5783132530123,
          2162.650602409639,
          2180.7228915662654,
          2198.795180722892,
          2216.8674698795185,
          2234.9397590361446,
          2253.012048192771,
          2271.0843373493976,
          2289.156626506024,
          2307.2289156626507,
          2325.3012048192772,
          2343.373493975904,
          2361.4457831325303,
          2379.5180722891564,
          2397.590361445783,
          2415.6626506024095,
          2433.734939759036,
          2451.8072289156626,
          2469.879518072289,
          2487.9518072289156,
          2506.024096385542,
          2524.0963855421687,
          2542.1686746987953,
          2560.240963855422,
          2578.3132530120483,
          2596.385542168675,
          2614.4578313253014,
          2632.530120481928,
          2650.6024096385545,
          2668.674698795181,
          2686.746987951807,
          2704.8192771084337,
          2722.89156626506,
          2740.9638554216867,
          2759.0361445783133,
          2777.10843373494,
          2795.1807228915663,
          2813.253012048193,
          2831.3253012048194,
          2849.397590361446,
          2867.4698795180725,
          2885.542168674699,
          2903.6144578313256,
          2921.686746987952,
          2939.7590361445787,
          2957.8313253012047,
          2975.9036144578313,
          2993.975903614458,
          3012.0481927710844,
          3030.120481927711,
          3048.1927710843374,
          3066.265060240964,
          3084.3373493975905,
          3102.409638554217,
          3120.4819277108436,
          3138.55421686747,
          3156.6265060240967,
          3174.698795180723,
          3192.7710843373497,
          3210.843373493976,
          3228.9156626506024,
          3246.987951807229,
          3265.0602409638554,
          3283.132530120482,
          3301.2048192771085,
          3319.277108433735,
          3337.3493975903616,
          3355.421686746988,
          3373.4939759036147,
          3391.566265060241,
          3409.6385542168678,
          3427.7108433734943,
          3445.783132530121,
          3463.855421686747,
          3481.9277108433735,
          3500,
          3518.0722891566265,
          3536.144578313253,
          3554.2168674698796,
          3572.289156626506,
          3590.3614457831327,
          3608.4337349397592,
          3626.5060240963858,
          3644.5783132530123,
          3662.650602409639,
          3680.7228915662654,
          3698.795180722892,
          3716.867469879518,
          3734.9397590361446,
          3753.012048192771,
          3771.0843373493976,
          3789.156626506024,
          3807.2289156626507,
          3825.3012048192772,
          3843.373493975904,
          3861.4457831325303,
          3879.518072289157,
          3897.5903614457834,
          3915.66265060241,
          3933.7349397590365,
          3951.807228915663,
          3969.879518072289,
          3987.9518072289156,
          4006.024096385542,
          4024.0963855421687,
          4042.1686746987953,
          4060.240963855422,
          4078.3132530120483,
          4096.385542168675,
          4114.457831325301,
          4132.530120481928,
          4150.6024096385545,
          4168.674698795181,
          4186.746987951808,
          4204.819277108434,
          4222.891566265061,
          4240.963855421687,
          4259.036144578313,
          4277.10843373494,
          4295.180722891566,
          4313.253012048193,
          4331.325301204819,
          4349.397590361446,
          4367.469879518072,
          4385.5421686746995,
          4403.614457831325,
          4421.686746987953,
          4439.759036144578,
          4457.831325301206,
          4475.903614457831,
          4493.975903614458,
          4512.048192771084,
          4530.120481927711,
          4548.192771084337,
          4566.265060240964,
          4584.3373493975905,
          4602.409638554217,
          4620.481927710844,
          4638.55421686747,
          4656.626506024097,
          4674.698795180723,
          4692.77108433735,
          4710.843373493976,
          4728.915662650603,
          4746.987951807229,
          4765.060240963856,
          4783.132530120482,
          4801.204819277109,
          4819.2771084337355,
          4837.349397590362,
          4855.421686746989,
          4873.493975903614,
          4891.566265060241,
          4909.638554216867,
          4927.710843373494,
          4945.78313253012,
          4963.855421686747,
          4981.9277108433735,
          5000
         ],
         "xaxis": "x",
         "y": [
          1082.078023529412,
          1072.1449732990786,
          1062.2119230687456,
          1052.2788728384126,
          1042.3458226080793,
          1032.4127723777463,
          1022.4797221474132,
          1012.54667191708,
          1002.6136216867469,
          992.6805714564139,
          982.7475212260808,
          972.8144709957478,
          962.8814207654145,
          952.9483705350815,
          943.0153203047485,
          933.0822700744152,
          923.1492198440822,
          913.2161696137491,
          903.2831193834161,
          893.350069153083,
          883.4170189227498,
          873.4839686924167,
          863.5509184620837,
          853.6178682317504,
          843.6848180014174,
          833.7517677710844,
          823.8187175407511,
          813.8856673104183,
          803.3502074415308,
          791.6099282955349,
          779.8696491495393,
          768.1293700035435,
          756.3890908575477,
          744.6488117115518,
          732.9085325655565,
          721.1682534195606,
          709.4279742735648,
          697.687695127569,
          685.9474159815732,
          674.2071368355778,
          662.466857689582,
          650.7265785435861,
          638.9862993975903,
          627.2460202515945,
          615.5057411055989,
          603.0813253012047,
          590.4081325301204,
          577.734939759036,
          565.0617469879517,
          552.3885542168675,
          539.715361445783,
          527.0421686746988,
          514.3689759036147,
          501.6957831325303,
          489.02259036144574,
          476.3493975903614,
          462.4713855421687,
          447.99096385542157,
          433.51054216867465,
          419.0301204819275,
          404.5496987951806,
          390.06927710843365,
          375.58885542168673,
          361.1084337349398,
          346.62801204819266,
          332.14759036144574,
          317.6671686746986,
          303.18674698795166,
          288.70632530120474,
          274.2259036144578,
          259.7454819277109,
          245.26506024096375,
          230.78463855421683,
          216.30421686746968,
          201.82379518072275,
          187.34337349397583,
          172.8629518072289,
          158.382530120482,
          143.90210843373484,
          129.42168674698792,
          114.94126506024077,
          100.71084337349384,
          88.56375502008063,
          76.5,
          64.43624497991937,
          52.45582329317244,
          40.47540160642575,
          28.4949799196786,
          16.597891566264934,
          4.70080321285127,
          0,
          0,
          0,
          0,
          0,
          0,
          0,
          0,
          0,
          0,
          0,
          0,
          0,
          0,
          0,
          0,
          0,
          0,
          0,
          0,
          0,
          0,
          0,
          0,
          0,
          0,
          0,
          0,
          0,
          0,
          0,
          0,
          0,
          0,
          0,
          0,
          0,
          0,
          0,
          0,
          0,
          0,
          0,
          0,
          0,
          0,
          0,
          0,
          0,
          0,
          0,
          0,
          0,
          0,
          0,
          0,
          0,
          0,
          0,
          0,
          0,
          0,
          0,
          0,
          0,
          0,
          0,
          0,
          0,
          0,
          0,
          0,
          0,
          0,
          0,
          0,
          0,
          0,
          0,
          0,
          0,
          0,
          0,
          0,
          0,
          0,
          0,
          0,
          0,
          0,
          0,
          0,
          0,
          0,
          0,
          0,
          0,
          0,
          0,
          0,
          0,
          0,
          0,
          0,
          0,
          0,
          0,
          0,
          0,
          0,
          0,
          0,
          0,
          0,
          0,
          0,
          0,
          0,
          0,
          0,
          0,
          0,
          0,
          0,
          0,
          0,
          0,
          0,
          0,
          0,
          0,
          0,
          0,
          0,
          0,
          0,
          0,
          0,
          0,
          0,
          0,
          0,
          0,
          0,
          0,
          0,
          0,
          0,
          0,
          0,
          0,
          0,
          0,
          0,
          0,
          0,
          0,
          0,
          0,
          0
         ],
         "yaxis": "y"
        }
       ],
       "layout": {
        "legend": {
         "title": {
          "text": "variable"
         },
         "tracegroupgap": 0
        },
        "template": {
         "data": {
          "bar": [
           {
            "error_x": {
             "color": "#2a3f5f"
            },
            "error_y": {
             "color": "#2a3f5f"
            },
            "marker": {
             "line": {
              "color": "#E5ECF6",
              "width": 0.5
             },
             "pattern": {
              "fillmode": "overlay",
              "size": 10,
              "solidity": 0.2
             }
            },
            "type": "bar"
           }
          ],
          "barpolar": [
           {
            "marker": {
             "line": {
              "color": "#E5ECF6",
              "width": 0.5
             },
             "pattern": {
              "fillmode": "overlay",
              "size": 10,
              "solidity": 0.2
             }
            },
            "type": "barpolar"
           }
          ],
          "carpet": [
           {
            "aaxis": {
             "endlinecolor": "#2a3f5f",
             "gridcolor": "white",
             "linecolor": "white",
             "minorgridcolor": "white",
             "startlinecolor": "#2a3f5f"
            },
            "baxis": {
             "endlinecolor": "#2a3f5f",
             "gridcolor": "white",
             "linecolor": "white",
             "minorgridcolor": "white",
             "startlinecolor": "#2a3f5f"
            },
            "type": "carpet"
           }
          ],
          "choropleth": [
           {
            "colorbar": {
             "outlinewidth": 0,
             "ticks": ""
            },
            "type": "choropleth"
           }
          ],
          "contour": [
           {
            "colorbar": {
             "outlinewidth": 0,
             "ticks": ""
            },
            "colorscale": [
             [
              0,
              "#0d0887"
             ],
             [
              0.1111111111111111,
              "#46039f"
             ],
             [
              0.2222222222222222,
              "#7201a8"
             ],
             [
              0.3333333333333333,
              "#9c179e"
             ],
             [
              0.4444444444444444,
              "#bd3786"
             ],
             [
              0.5555555555555556,
              "#d8576b"
             ],
             [
              0.6666666666666666,
              "#ed7953"
             ],
             [
              0.7777777777777778,
              "#fb9f3a"
             ],
             [
              0.8888888888888888,
              "#fdca26"
             ],
             [
              1,
              "#f0f921"
             ]
            ],
            "type": "contour"
           }
          ],
          "contourcarpet": [
           {
            "colorbar": {
             "outlinewidth": 0,
             "ticks": ""
            },
            "type": "contourcarpet"
           }
          ],
          "heatmap": [
           {
            "colorbar": {
             "outlinewidth": 0,
             "ticks": ""
            },
            "colorscale": [
             [
              0,
              "#0d0887"
             ],
             [
              0.1111111111111111,
              "#46039f"
             ],
             [
              0.2222222222222222,
              "#7201a8"
             ],
             [
              0.3333333333333333,
              "#9c179e"
             ],
             [
              0.4444444444444444,
              "#bd3786"
             ],
             [
              0.5555555555555556,
              "#d8576b"
             ],
             [
              0.6666666666666666,
              "#ed7953"
             ],
             [
              0.7777777777777778,
              "#fb9f3a"
             ],
             [
              0.8888888888888888,
              "#fdca26"
             ],
             [
              1,
              "#f0f921"
             ]
            ],
            "type": "heatmap"
           }
          ],
          "heatmapgl": [
           {
            "colorbar": {
             "outlinewidth": 0,
             "ticks": ""
            },
            "colorscale": [
             [
              0,
              "#0d0887"
             ],
             [
              0.1111111111111111,
              "#46039f"
             ],
             [
              0.2222222222222222,
              "#7201a8"
             ],
             [
              0.3333333333333333,
              "#9c179e"
             ],
             [
              0.4444444444444444,
              "#bd3786"
             ],
             [
              0.5555555555555556,
              "#d8576b"
             ],
             [
              0.6666666666666666,
              "#ed7953"
             ],
             [
              0.7777777777777778,
              "#fb9f3a"
             ],
             [
              0.8888888888888888,
              "#fdca26"
             ],
             [
              1,
              "#f0f921"
             ]
            ],
            "type": "heatmapgl"
           }
          ],
          "histogram": [
           {
            "marker": {
             "pattern": {
              "fillmode": "overlay",
              "size": 10,
              "solidity": 0.2
             }
            },
            "type": "histogram"
           }
          ],
          "histogram2d": [
           {
            "colorbar": {
             "outlinewidth": 0,
             "ticks": ""
            },
            "colorscale": [
             [
              0,
              "#0d0887"
             ],
             [
              0.1111111111111111,
              "#46039f"
             ],
             [
              0.2222222222222222,
              "#7201a8"
             ],
             [
              0.3333333333333333,
              "#9c179e"
             ],
             [
              0.4444444444444444,
              "#bd3786"
             ],
             [
              0.5555555555555556,
              "#d8576b"
             ],
             [
              0.6666666666666666,
              "#ed7953"
             ],
             [
              0.7777777777777778,
              "#fb9f3a"
             ],
             [
              0.8888888888888888,
              "#fdca26"
             ],
             [
              1,
              "#f0f921"
             ]
            ],
            "type": "histogram2d"
           }
          ],
          "histogram2dcontour": [
           {
            "colorbar": {
             "outlinewidth": 0,
             "ticks": ""
            },
            "colorscale": [
             [
              0,
              "#0d0887"
             ],
             [
              0.1111111111111111,
              "#46039f"
             ],
             [
              0.2222222222222222,
              "#7201a8"
             ],
             [
              0.3333333333333333,
              "#9c179e"
             ],
             [
              0.4444444444444444,
              "#bd3786"
             ],
             [
              0.5555555555555556,
              "#d8576b"
             ],
             [
              0.6666666666666666,
              "#ed7953"
             ],
             [
              0.7777777777777778,
              "#fb9f3a"
             ],
             [
              0.8888888888888888,
              "#fdca26"
             ],
             [
              1,
              "#f0f921"
             ]
            ],
            "type": "histogram2dcontour"
           }
          ],
          "mesh3d": [
           {
            "colorbar": {
             "outlinewidth": 0,
             "ticks": ""
            },
            "type": "mesh3d"
           }
          ],
          "parcoords": [
           {
            "line": {
             "colorbar": {
              "outlinewidth": 0,
              "ticks": ""
             }
            },
            "type": "parcoords"
           }
          ],
          "pie": [
           {
            "automargin": true,
            "type": "pie"
           }
          ],
          "scatter": [
           {
            "fillpattern": {
             "fillmode": "overlay",
             "size": 10,
             "solidity": 0.2
            },
            "type": "scatter"
           }
          ],
          "scatter3d": [
           {
            "line": {
             "colorbar": {
              "outlinewidth": 0,
              "ticks": ""
             }
            },
            "marker": {
             "colorbar": {
              "outlinewidth": 0,
              "ticks": ""
             }
            },
            "type": "scatter3d"
           }
          ],
          "scattercarpet": [
           {
            "marker": {
             "colorbar": {
              "outlinewidth": 0,
              "ticks": ""
             }
            },
            "type": "scattercarpet"
           }
          ],
          "scattergeo": [
           {
            "marker": {
             "colorbar": {
              "outlinewidth": 0,
              "ticks": ""
             }
            },
            "type": "scattergeo"
           }
          ],
          "scattergl": [
           {
            "marker": {
             "colorbar": {
              "outlinewidth": 0,
              "ticks": ""
             }
            },
            "type": "scattergl"
           }
          ],
          "scattermapbox": [
           {
            "marker": {
             "colorbar": {
              "outlinewidth": 0,
              "ticks": ""
             }
            },
            "type": "scattermapbox"
           }
          ],
          "scatterpolar": [
           {
            "marker": {
             "colorbar": {
              "outlinewidth": 0,
              "ticks": ""
             }
            },
            "type": "scatterpolar"
           }
          ],
          "scatterpolargl": [
           {
            "marker": {
             "colorbar": {
              "outlinewidth": 0,
              "ticks": ""
             }
            },
            "type": "scatterpolargl"
           }
          ],
          "scatterternary": [
           {
            "marker": {
             "colorbar": {
              "outlinewidth": 0,
              "ticks": ""
             }
            },
            "type": "scatterternary"
           }
          ],
          "surface": [
           {
            "colorbar": {
             "outlinewidth": 0,
             "ticks": ""
            },
            "colorscale": [
             [
              0,
              "#0d0887"
             ],
             [
              0.1111111111111111,
              "#46039f"
             ],
             [
              0.2222222222222222,
              "#7201a8"
             ],
             [
              0.3333333333333333,
              "#9c179e"
             ],
             [
              0.4444444444444444,
              "#bd3786"
             ],
             [
              0.5555555555555556,
              "#d8576b"
             ],
             [
              0.6666666666666666,
              "#ed7953"
             ],
             [
              0.7777777777777778,
              "#fb9f3a"
             ],
             [
              0.8888888888888888,
              "#fdca26"
             ],
             [
              1,
              "#f0f921"
             ]
            ],
            "type": "surface"
           }
          ],
          "table": [
           {
            "cells": {
             "fill": {
              "color": "#EBF0F8"
             },
             "line": {
              "color": "white"
             }
            },
            "header": {
             "fill": {
              "color": "#C8D4E3"
             },
             "line": {
              "color": "white"
             }
            },
            "type": "table"
           }
          ]
         },
         "layout": {
          "annotationdefaults": {
           "arrowcolor": "#2a3f5f",
           "arrowhead": 0,
           "arrowwidth": 1
          },
          "autotypenumbers": "strict",
          "coloraxis": {
           "colorbar": {
            "outlinewidth": 0,
            "ticks": ""
           }
          },
          "colorscale": {
           "diverging": [
            [
             0,
             "#8e0152"
            ],
            [
             0.1,
             "#c51b7d"
            ],
            [
             0.2,
             "#de77ae"
            ],
            [
             0.3,
             "#f1b6da"
            ],
            [
             0.4,
             "#fde0ef"
            ],
            [
             0.5,
             "#f7f7f7"
            ],
            [
             0.6,
             "#e6f5d0"
            ],
            [
             0.7,
             "#b8e186"
            ],
            [
             0.8,
             "#7fbc41"
            ],
            [
             0.9,
             "#4d9221"
            ],
            [
             1,
             "#276419"
            ]
           ],
           "sequential": [
            [
             0,
             "#0d0887"
            ],
            [
             0.1111111111111111,
             "#46039f"
            ],
            [
             0.2222222222222222,
             "#7201a8"
            ],
            [
             0.3333333333333333,
             "#9c179e"
            ],
            [
             0.4444444444444444,
             "#bd3786"
            ],
            [
             0.5555555555555556,
             "#d8576b"
            ],
            [
             0.6666666666666666,
             "#ed7953"
            ],
            [
             0.7777777777777778,
             "#fb9f3a"
            ],
            [
             0.8888888888888888,
             "#fdca26"
            ],
            [
             1,
             "#f0f921"
            ]
           ],
           "sequentialminus": [
            [
             0,
             "#0d0887"
            ],
            [
             0.1111111111111111,
             "#46039f"
            ],
            [
             0.2222222222222222,
             "#7201a8"
            ],
            [
             0.3333333333333333,
             "#9c179e"
            ],
            [
             0.4444444444444444,
             "#bd3786"
            ],
            [
             0.5555555555555556,
             "#d8576b"
            ],
            [
             0.6666666666666666,
             "#ed7953"
            ],
            [
             0.7777777777777778,
             "#fb9f3a"
            ],
            [
             0.8888888888888888,
             "#fdca26"
            ],
            [
             1,
             "#f0f921"
            ]
           ]
          },
          "colorway": [
           "#636efa",
           "#EF553B",
           "#00cc96",
           "#ab63fa",
           "#FFA15A",
           "#19d3f3",
           "#FF6692",
           "#B6E880",
           "#FF97FF",
           "#FECB52"
          ],
          "font": {
           "color": "#2a3f5f"
          },
          "geo": {
           "bgcolor": "white",
           "lakecolor": "white",
           "landcolor": "#E5ECF6",
           "showlakes": true,
           "showland": true,
           "subunitcolor": "white"
          },
          "hoverlabel": {
           "align": "left"
          },
          "hovermode": "closest",
          "mapbox": {
           "style": "light"
          },
          "paper_bgcolor": "white",
          "plot_bgcolor": "#E5ECF6",
          "polar": {
           "angularaxis": {
            "gridcolor": "white",
            "linecolor": "white",
            "ticks": ""
           },
           "bgcolor": "#E5ECF6",
           "radialaxis": {
            "gridcolor": "white",
            "linecolor": "white",
            "ticks": ""
           }
          },
          "scene": {
           "xaxis": {
            "backgroundcolor": "#E5ECF6",
            "gridcolor": "white",
            "gridwidth": 2,
            "linecolor": "white",
            "showbackground": true,
            "ticks": "",
            "zerolinecolor": "white"
           },
           "yaxis": {
            "backgroundcolor": "#E5ECF6",
            "gridcolor": "white",
            "gridwidth": 2,
            "linecolor": "white",
            "showbackground": true,
            "ticks": "",
            "zerolinecolor": "white"
           },
           "zaxis": {
            "backgroundcolor": "#E5ECF6",
            "gridcolor": "white",
            "gridwidth": 2,
            "linecolor": "white",
            "showbackground": true,
            "ticks": "",
            "zerolinecolor": "white"
           }
          },
          "shapedefaults": {
           "line": {
            "color": "#2a3f5f"
           }
          },
          "ternary": {
           "aaxis": {
            "gridcolor": "white",
            "linecolor": "white",
            "ticks": ""
           },
           "baxis": {
            "gridcolor": "white",
            "linecolor": "white",
            "ticks": ""
           },
           "bgcolor": "#E5ECF6",
           "caxis": {
            "gridcolor": "white",
            "linecolor": "white",
            "ticks": ""
           }
          },
          "title": {
           "x": 0.05
          },
          "xaxis": {
           "automargin": true,
           "gridcolor": "white",
           "linecolor": "white",
           "ticks": "",
           "title": {
            "standoff": 15
           },
           "zerolinecolor": "white",
           "zerolinewidth": 2
          },
          "yaxis": {
           "automargin": true,
           "gridcolor": "white",
           "linecolor": "white",
           "ticks": "",
           "title": {
            "standoff": 15
           },
           "zerolinecolor": "white",
           "zerolinewidth": 2
          }
         }
        },
        "title": {
         "text": "No Check of Favorabilty"
        },
        "xaxis": {
         "anchor": "y",
         "domain": [
          0,
          1
         ],
         "title": {
          "text": "Monthly gross income in € (per household)"
         }
        },
        "yaxis": {
         "anchor": "x",
         "domain": [
          0,
          1
         ],
         "title": {
          "text": "€ per month"
         }
        }
       }
      }
     },
     "metadata": {},
     "output_type": "display_data"
    }
   ],
   "source": [
    "# Loop through keys to plot both scenarios.\n",
    "for k in policies:\n",
    "    # Compute taxes and transfers.\n",
    "    result = compute_taxes_and_transfers(\n",
    "        data=data,\n",
    "        functions=policies[k],\n",
    "        params=policy_params,\n",
    "        targets=targets,\n",
    "        columns_overriding_functions=[\"sum_ges_rente_priv_rente_m\"],\n",
    "    )\n",
    "    # Add earnings and index to result DataFrame.\n",
    "    result[\"bruttolohn_m\"] = data[\"bruttolohn_m\"]\n",
    "    result.index = data[\"hh_id\"]\n",
    "    # Create DataFrame that contains the maximum value of the target variables\n",
    "    # in the household and the household gross income.\n",
    "    result = (\n",
    "        result.groupby(\"hh_id\")[targets]\n",
    "        .max()\n",
    "        .join(result.groupby(\"hh_id\")[\"bruttolohn_m\"].sum())\n",
    "    )\n",
    "    # Plot the results.\n",
    "    fig = px.line(\n",
    "        data_frame=result,\n",
    "        x=\"bruttolohn_m\",\n",
    "        y=targets,\n",
    "        title=k,\n",
    "    )\n",
    "    fig.update_layout(\n",
    "        xaxis_title=\"Monthly gross income in € (per household)\",\n",
    "        yaxis_title=\"€ per month\",\n",
    "    )\n",
    "    fig.show()"
   ]
  },
  {
   "cell_type": "markdown",
   "metadata": {},
   "source": [
    "On first glance, both figures look quite confusing because of the complexity of the German taxes and transfers system. But if we take a closer look, the figures confirm our expectations. If we let GETTSIM check for the most favorable combination of transfers, ```wohngeld_m_hh``` and ```kinderzuschl_m_hh``` are zero as long as `arbeitsl_geld_2_m_hh` is positive(i.e. the best option for the household) and the other way around. \n",
    "\n",
    "If we do not let GETTSIM do this check, this does not hold any longer and all transfers can be positive at the same time (which is what we were trying to achieve). \n",
    "\n",
    "#### Alternative 2:\n",
    "\n",
    "Another way would be to mention the changed function in our ```compute_taxes_and_transfers```-function. This works as follows: "
   ]
  },
  {
   "cell_type": "code",
   "execution_count": 9,
   "metadata": {
    "scrolled": true
   },
   "outputs": [],
   "source": [
    "result_no_check_p = compute_taxes_and_transfers(\n",
    "    data=data,\n",
    "    params=policy_params,\n",
    "    functions=[policy_functions, arbeitsl_geld_2_m_hh],\n",
    "    targets=[\"wohngeld_m_hh\", \"kinderzuschl_m_hh\", \"arbeitsl_geld_2_m_hh\",],\n",
    "    columns_overriding_functions=[\"sum_ges_rente_priv_rente_m\"],\n",
    ")"
   ]
  },
  {
   "cell_type": "markdown",
   "metadata": {},
   "source": [
    "Executing this cell will allow you to reproduce the same analysis we did above. We do not want to do it twice, so we skip it. \n",
    "\n",
    "There are three important points:\n",
    "\n",
    "1. Note that ```arbeitsl_geld_2_m_hh``` has the same function name as a pre-defined function inside GETTSIM. Thus, the internal function will be replaced with this version.\n",
    "\n",
    "2. In general, if there are multiple functions with the same name, internal functions have the lowest precedence. After that, the elements in the list passed to the ```functions``` argument are evaluated element by element. The functions in the leftmost element have the lowest precedence and the functions in the rightmost element have the highest.\n",
    "\n",
    "3. If ```policy_functions``` would not be necessary for this example, you can also directly pass the ```arbeitsl_geld_2_m_hh``` function to the ```functions``` argument.\n",
    "\n",
    "### Multiple Functions\n",
    "\n",
    "You can use exactly the same approach if you want to change more than one function of GETTSIM. But first, for our example we need to invent some changes to another function of GETTSIM. Imagine, we want to double the amount of *Kindergeld* every household receives in addition to the previously implemented function change."
   ]
  },
  {
   "cell_type": "code",
   "execution_count": 10,
   "metadata": {},
   "outputs": [],
   "source": [
    "def kindergeld_basis_m(\n",
    "    kindergeld_anspruch, kumulativer_kindergeld_anspruch_tu, kindergeld_params\n",
    "):\n",
    "    \"\"\"Calculate the preliminary kindergeld.\n",
    "\n",
    "    Parameters\n",
    "    ----------\n",
    "    kindergeld_anspruch\n",
    "        See :func:`kindergeld_anspruch`.\n",
    "    kumulativer_kindergeld_anspruch_tu\n",
    "        See :func:`kumulativer_kindergeld_anspruch_tu`.\n",
    "    kindergeld_params\n",
    "        See params documentation :ref:`kindergeld_params <kindergeld_params>`.\n",
    "\n",
    "    Returns\n",
    "    -------\n",
    "\n",
    "    \"\"\"\n",
    "    # Make sure that only eligible children get assigned kindergeld\n",
    "    if not kindergeld_anspruch:\n",
    "        out = 0.0\n",
    "    else:\n",
    "        # Kindergeld_Anspruch is the cumulative sum of eligible children.\n",
    "        kumulativer_anspruch_wins = min(\n",
    "            kumulativer_kindergeld_anspruch_tu, max(kindergeld_params[\"kindergeld\"])\n",
    "        )\n",
    "        out = kindergeld_params[\"kindergeld\"][kumulativer_anspruch_wins]\n",
    "    return out * 2"
   ]
  },
  {
   "cell_type": "markdown",
   "metadata": {},
   "source": [
    "If you edit ```arbeitsl_geld_2_m_hh``` and ```kindergeld_basis_m```, your two options to make GETTSIM incorporate your changes would be:\n",
    "\n",
    "**Alternative 1:**"
   ]
  },
  {
   "cell_type": "code",
   "execution_count": 11,
   "metadata": {},
   "outputs": [],
   "source": [
    "policy_functions_reformed = copy.deepcopy(policy_functions)\n",
    "policy_functions_reformed[\"arbeitsl_geld_2_m_hh\"] = arbeitsl_geld_2_m_hh\n",
    "policy_functions_reformed[\"kindergeld_basis_m\"] = kindergeld_basis_m"
   ]
  },
  {
   "cell_type": "markdown",
   "metadata": {},
   "source": [
    " **Alternative 2:**"
   ]
  },
  {
   "cell_type": "code",
   "execution_count": 12,
   "metadata": {},
   "outputs": [],
   "source": [
    "df = compute_taxes_and_transfers(\n",
    "    data=data,\n",
    "    params=policy_params,\n",
    "    functions=[policy_functions, arbeitsl_geld_2_m_hh, kindergeld_basis_m],\n",
    "    targets=[\n",
    "        \"wohngeld_m_hh\",\n",
    "        \"kinderzuschl_m_hh\",\n",
    "        \"arbeitsl_geld_2_m_hh\",\n",
    "        \"kindergeld_basis_m\",\n",
    "    ],\n",
    "    columns_overriding_functions=[\"sum_ges_rente_priv_rente_m\"],\n",
    ")"
   ]
  },
  {
   "cell_type": "markdown",
   "metadata": {},
   "source": [
    "## Adding a New Function\n",
    "\n",
    "Instead of replacing existing functions, we can similarly define completely new functions and add them to the policy environment."
   ]
  },
  {
   "cell_type": "markdown",
   "metadata": {},
   "source": [
    "## Aggregation Functions\n",
    "\n",
    "Functions which aggregate a column on the tax unit or household level are treated differently in GETTSIM. \n",
    "\n",
    "If we would like to add (or replace) such functions, we need to specify them in a dictionary which we provide to `compute_taxes_and_transfers` via the `aggregation_specs` argument. An example dictionary is as follows:\n",
    "\n",
    "\n",
    "```\n",
    "aggregation_specs = {\n",
    "    \"anz_erwachsene_tu\": {\"source_col\": \"erwachsen\", \"aggr\": \"sum\"},\n",
    "    \"haushaltsgröße_hh\": {\"aggr\": \"count\"},\n",
    "}\n",
    "```\n",
    "\n",
    "See [GEP 4](https://gettsim.readthedocs.io/en/stable/geps/gep-04.html) for more information on aggregation functions."
   ]
  }
 ],
 "metadata": {
  "kernelspec": {
   "display_name": "Python 3",
   "language": "python",
   "name": "python3"
  },
  "language_info": {
   "codemirror_mode": {
    "name": "ipython",
    "version": 3
   },
   "file_extension": ".py",
   "mimetype": "text/x-python",
   "name": "python",
   "nbconvert_exporter": "python",
   "pygments_lexer": "ipython3",
   "version": "3.11.0"
  },
  "vscode": {
   "interpreter": {
    "hash": "a7ef7df5bd47ff490cfd86bc52beab30c1673a29666f06a073dff89a54c46fe5"
   }
  }
 },
 "nbformat": 4,
 "nbformat_minor": 4
}
