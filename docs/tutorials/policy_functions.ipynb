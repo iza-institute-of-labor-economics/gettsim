{
 "cells": [
  {
   "cell_type": "markdown",
   "metadata": {},
   "source": [
    "# Changing Functions of the Taxes and Transfers System\n",
    "\n",
    "This tutorial focuses on the policy functions of GETTSIM, one of the two objects returned by the function `set_up_policy_environment`. Alongside policy parameters, these functions help GETTSIM define a date-specific policy environment based on which it can compute taxes and transfers for individual and household data. \n",
    "\n",
    "Just like [parameters](parameters.ipynb), policy functions can be replaced, added or removed to make changes to the existing policy environment. This way, you can design a new tax or transfer for any specific group of people, e.g. invent a new tax for people that have income from renting an apartment, or change the conditions for receiving already existing transfers.\n",
    "\n",
    "This tutorial showcases the policy functions using a concrete example. For a more comprehensive and abstract discussion of the feature, check out the [how-to guide on Different Ways to Load Policy Functions](../how_to_guides/different_ways_to_load_policy_functions.ipynb).\n"
   ]
  },
  {
   "cell_type": "code",
   "execution_count": null,
   "metadata": {},
   "outputs": [],
   "source": [
    "import copy\n",
    "import warnings\n",
    "\n",
    "import numpy as np\n",
    "import plotly.express as px\n",
    "from gettsim import (\n",
    "    FunctionsAndColumnsOverlapWarning,\n",
    "    compute_taxes_and_transfers,\n",
    "    create_synthetic_data,\n",
    "    set_up_policy_environment,\n",
    ")\n",
    "\n",
    "warnings.filterwarnings(\"ignore\", category=FunctionsAndColumnsOverlapWarning)"
   ]
  },
  {
   "cell_type": "markdown",
   "metadata": {},
   "source": [
    "## Changing  and Replacing Existing Function(s)\n",
    "\n",
    "### Example: Receiving Multiple Transfers\n",
    "\n",
    "In the German system, there are some transfers for low-income families that cannot be received in combination. Per default, GETTSIM will always choose the most favorable transfers and set other transfers to zero. This assumption could model the behavior of households/families in a wrong way, if they do not always choose the optimal transfers (from a monetary perspective). For example, there could be a social stigma connected to certain transfers or some people simply do not know about some of the available transfers.\n",
    "\n",
    "To account for these frictions, we can turn off this aspect of GETTSIM so that we see all the transfers a family/household is entitled to, even if the transfers cannot be received in combination. This can be useful for further analysis. For example you could speculate which transfers Germans receive in reality and implement this in GETTSIM.\n",
    "\n",
    "### Find the Function\n",
    "\n",
    "[Here](../gettsim_objects/functions.rst) we can look for the function that implements the aspect we want to change."
   ]
  },
  {
   "cell_type": "code",
   "execution_count": null,
   "metadata": {},
   "outputs": [],
   "source": [
    "policy_params, policy_functions = set_up_policy_environment(\"2020\")"
   ]
  },
  {
   "cell_type": "markdown",
   "metadata": {},
   "source": [
    "### Define Changes to the Function\n",
    "\n",
    "After you found the function that you want to change, copy the source code from the website to your notebook and change it just as you like:"
   ]
  },
  {
   "cell_type": "code",
   "execution_count": null,
   "metadata": {},
   "outputs": [],
   "source": [
    "def arbeitsl_geld_2_m_bg(\n",
    "    arbeitsl_geld_2_vor_vorrang_m_bg,\n",
    "    # wohngeld_vorrang_bg,\n",
    "    # kinderzuschl_vorrang_bg,\n",
    "    # wohngeld_kinderzuschl_vorrang_bg,\n",
    "    erwachsene_alle_rentner_hh,\n",
    "):\n",
    "    if (\n",
    "        # wohngeld_vorrang_bg\n",
    "        # | kinderzuschl_vorrang_bg\n",
    "        # | wohngeld_kinderzuschl_vorrang_bg\n",
    "        erwachsene_alle_rentner_hh\n",
    "    ):\n",
    "        out = 0.0\n",
    "    else:\n",
    "        out = arbeitsl_geld_2_vor_vorrang_m_bg\n",
    "\n",
    "    return out"
   ]
  },
  {
   "cell_type": "markdown",
   "metadata": {},
   "source": [
    "The lines of the cell above that start with \"#\" usually do the priority check as described above. With the hash, the lines become a comment and do not influence the code anymore.\n",
    "\n",
    "### Make GETTSIM Incorporate your Changes \n",
    "\n",
    "There are different ways to make GETTSIM incorporate your edited function. \n",
    "\n",
    "#### Alternative 1:\n",
    "\n",
    "One way is to copy the `policy_functions` and replace the \"old\" function with the function we defined before."
   ]
  },
  {
   "cell_type": "code",
   "execution_count": null,
   "metadata": {},
   "outputs": [],
   "source": [
    "policy_functions_no_check = copy.deepcopy(policy_functions)\n",
    "policy_functions_no_check[\"arbeitsl_geld_2_m_bg\"] = arbeitsl_geld_2_m_bg"
   ]
  },
  {
   "cell_type": "markdown",
   "metadata": {},
   "source": [
    "Computations with the new `policy_functions_no_check` will now have the characteristic of showing the value of all available transfers without checking which ones cannot be received in combination and without choosing the most profitable combination. \n",
    "\n",
    "Let´s test if this works! \n",
    "\n",
    "We import simulated data for households with two parents and two children. These households only vary in their income:"
   ]
  },
  {
   "cell_type": "code",
   "execution_count": null,
   "metadata": {},
   "outputs": [],
   "source": [
    "## idea for use of synthetical data\n",
    "data = create_synthetic_data(\n",
    "    n_adults=2,\n",
    "    n_children=2,\n",
    "    specs_heterogeneous={\n",
    "        \"bruttolohn_m\": [[i, 0, 0, 0] for i in np.linspace(500, 5000, 250)]\n",
    "    },\n",
    ")\n",
    "\n",
    "# Compute sum of pension contributions in household and add it to data.\n",
    "sum_ges_rente_priv_rente_m = compute_taxes_and_transfers(\n",
    "    data=data,\n",
    "    params=policy_params,\n",
    "    targets=\"sum_ges_rente_priv_rente_m\",\n",
    "    functions=policy_functions,\n",
    ")\n",
    "\n",
    "data[\"sum_ges_rente_priv_rente_m\"] = sum_ges_rente_priv_rente_m[\n",
    "    \"sum_ges_rente_priv_rente_m\"\n",
    "]\n",
    "data.head(5)"
   ]
  },
  {
   "cell_type": "markdown",
   "metadata": {},
   "source": [
    "For this data we can now compare the results of using GETTSIM with the `policy_functions_no_check` and the usual `policy_functions`. \n",
    "\n",
    "We should expect to see positive values for `wohngeld_m_wthh`, `kinderzuschl_m_bg` and\n",
    "`arbeitsl_geld_2_m_bg` at the same time if we do not check which combination of\n",
    "transfers is optimal (`policy_functions_no_check`).\n",
    "\n",
    "On the other hand, if we use the default version of the `policy_functions`,\n",
    "`wohngeld_m_wthh` and `kinderzuschl_m_bg` should be zero as long as\n",
    "`arbeitsl_geld_2_m_bg` is positive (and the other way around), as it is a characteristic\n",
    "of the German taxes and transfers system that *Wohngeld* and *Kinderzuschlag* cannot be\n",
    "received in combination with *Arbeitslosengeld 2*."
   ]
  },
  {
   "cell_type": "code",
   "execution_count": null,
   "metadata": {},
   "outputs": [],
   "source": [
    "targets = [\"wohngeld_m_wthh\", \"kinderzuschl_m_bg\", \"arbeitsl_geld_2_m_bg\"]"
   ]
  },
  {
   "cell_type": "code",
   "execution_count": null,
   "metadata": {},
   "outputs": [],
   "source": [
    "policies = {\n",
    "    \"Checked Favorability\": policy_functions,\n",
    "    \"No Check of Favorabilty\": policy_functions_no_check,\n",
    "}"
   ]
  },
  {
   "cell_type": "code",
   "execution_count": null,
   "metadata": {},
   "outputs": [],
   "source": [
    "# Loop through keys to plot both scenarios.\n",
    "for k in policies:\n",
    "    # Compute taxes and transfers.\n",
    "    result = compute_taxes_and_transfers(\n",
    "        data=data,\n",
    "        functions=policies[k],\n",
    "        params=policy_params,\n",
    "        targets=targets,\n",
    "    )\n",
    "    # Add earnings and index to result DataFrame.\n",
    "    result[\"bruttolohn_m\"] = data[\"bruttolohn_m\"]\n",
    "    result.index = data[\"hh_id\"]\n",
    "    # Create DataFrame that contains the maximum value of the target variables\n",
    "    # in the household and the household gross income.\n",
    "    result = (\n",
    "        result.groupby(\"hh_id\")[targets]\n",
    "        .max()\n",
    "        .join(result.groupby(\"hh_id\")[\"bruttolohn_m\"].sum())\n",
    "    )\n",
    "    # Plot the results.\n",
    "    fig = px.line(\n",
    "        data_frame=result,\n",
    "        x=\"bruttolohn_m\",\n",
    "        y=targets,\n",
    "        title=k,\n",
    "    )\n",
    "    fig.update_layout(\n",
    "        xaxis_title=\"Monthly gross income in € (per household)\",\n",
    "        yaxis_title=\"€ per month\",\n",
    "    )\n",
    "    fig.show()"
   ]
  },
  {
   "cell_type": "markdown",
   "metadata": {},
   "source": [
    "On first glance, both figures look quite confusing because of the complexity of the German taxes and transfers system. But if we take a closer look, the figures confirm our expectations. If we let GETTSIM check for the most favorable combination of transfers, ```wohngeld_m_wthh``` and ```kinderzuschl_m_bg``` are zero as long as `arbeitsl_geld_2_m_bg` is positive (i.e. the best option for the household) and the other way around. \n",
    "\n",
    "If we do not let GETTSIM do this check, this does not hold any longer and all transfers can be positive at the same time (which is what we were trying to achieve). \n",
    "\n",
    "#### Alternative 2:\n",
    "\n",
    "Another way would be to mention the changed function in our ```compute_taxes_and_transfers```-function. This works as follows: "
   ]
  },
  {
   "cell_type": "code",
   "execution_count": null,
   "metadata": {},
   "outputs": [],
   "source": [
    "result_no_check_p = compute_taxes_and_transfers(\n",
    "    data=data,\n",
    "    params=policy_params,\n",
    "    functions=[policy_functions, arbeitsl_geld_2_m_bg],\n",
    "    targets=[\n",
    "        \"wohngeld_m_wthh\",\n",
    "        \"kinderzuschl_m_bg\",\n",
    "        \"arbeitsl_geld_2_m_bg\",\n",
    "    ],\n",
    ")"
   ]
  },
  {
   "cell_type": "markdown",
   "metadata": {},
   "source": [
    "Executing this cell will allow you to reproduce the same analysis we did above. We do not want to do it twice, so we skip it. \n",
    "\n",
    "There are three important points:\n",
    "\n",
    "1. Note that ```arbeitsl_geld_2_m_bg``` has the same function name as a pre-defined function inside GETTSIM. Thus, the internal function will be replaced with this version.\n",
    "\n",
    "2. In general, if there are multiple functions with the same name, internal functions have the lowest precedence. After that, the elements in the list passed to the ```functions``` argument are evaluated element by element. The functions in the leftmost element have the lowest precedence and the functions in the rightmost element have the highest.\n",
    "\n",
    "3. If ```policy_functions``` would not be necessary for this example, you can also directly pass the ```arbeitsl_geld_2_m_bg``` function to the ```functions``` argument.\n",
    "\n",
    "### Multiple Functions\n",
    "\n",
    "You can use exactly the same approach if you want to change more than one function of GETTSIM. But first, for our example we need to invent some changes to another function of GETTSIM. Imagine, we want to double the amount of *Kindergeld* every household receives in addition to the previously implemented function change."
   ]
  },
  {
   "cell_type": "code",
   "execution_count": null,
   "metadata": {},
   "outputs": [],
   "source": [
    "def kindergeld_m(\n",
    "    kindergeld_anz_ansprüche: bool,\n",
    "    kindergeld_params: dict,\n",
    ") -> float:\n",
    "    \"\"\"Sum of Kindergeld for eligible children.\n",
    "\n",
    "    Kindergeld claim for each child depends on the number of children Kindergeld is\n",
    "    being claimed for.\n",
    "\n",
    "    Parameters\n",
    "    ----------\n",
    "    kindergeld_anz_ansprüche\n",
    "        See :func:`kindergeld_anz_ansprüche`.\n",
    "    kindergeld_params\n",
    "        See params documentation :ref:`kindergeld_params <kindergeld_params>`.\n",
    "\n",
    "    Returns\n",
    "    -------\n",
    "\n",
    "    \"\"\"\n",
    "\n",
    "    if kindergeld_anz_ansprüche == 0:\n",
    "        sum_kindergeld = 0.0\n",
    "    else:\n",
    "        sum_kindergeld = sum(\n",
    "            kindergeld_params[\"kindergeld\"][\n",
    "                (\n",
    "                    i\n",
    "                    if i <= max(kindergeld_params[\"kindergeld\"])\n",
    "                    else max(kindergeld_params[\"kindergeld\"])\n",
    "                )\n",
    "            ]\n",
    "            for i in range(1, kindergeld_anz_ansprüche + 1)\n",
    "        )\n",
    "\n",
    "    return sum_kindergeld * 2"
   ]
  },
  {
   "cell_type": "markdown",
   "metadata": {},
   "source": [
    "If you edit ```arbeitsl_geld_2_m_bg``` and ```kindergeld_m```, your two options to make GETTSIM incorporate your changes would be:\n",
    "\n",
    "**Alternative 1:**"
   ]
  },
  {
   "cell_type": "code",
   "execution_count": null,
   "metadata": {},
   "outputs": [],
   "source": [
    "policy_functions_reformed = copy.deepcopy(policy_functions)\n",
    "policy_functions_reformed[\"arbeitsl_geld_2_m_bg\"] = arbeitsl_geld_2_m_bg\n",
    "policy_functions_reformed[\"kindergeld_m\"] = kindergeld_m"
   ]
  },
  {
   "cell_type": "markdown",
   "metadata": {},
   "source": [
    " **Alternative 2:**"
   ]
  },
  {
   "cell_type": "code",
   "execution_count": null,
   "metadata": {},
   "outputs": [],
   "source": [
    "df = compute_taxes_and_transfers(\n",
    "    data=data,\n",
    "    params=policy_params,\n",
    "    functions=[policy_functions, arbeitsl_geld_2_m_bg, kindergeld_m],\n",
    "    targets=[\n",
    "        \"wohngeld_m_wthh\",\n",
    "        \"kinderzuschl_m_bg\",\n",
    "        \"arbeitsl_geld_2_m_bg\",\n",
    "        \"kindergeld_m\",\n",
    "    ],\n",
    ")"
   ]
  },
  {
   "cell_type": "markdown",
   "metadata": {},
   "source": [
    "## Adding a New Function\n",
    "\n",
    "Instead of replacing existing functions, we can similarly define completely new functions and add them to the policy environment."
   ]
  },
  {
   "cell_type": "markdown",
   "metadata": {},
   "source": [
    "## Aggregation Functions\n",
    "\n",
    "Functions that aggregate columns are treated differently in GETTSIM. Column can be\n",
    "aggregated based on a group ID (e.g. on the household level) or based on the individual\n",
    "identifier `p_id`.\n",
    "\n",
    "### Aggregation Based on Group ID\n",
    "\n",
    "\n",
    "If we would like to add (or replace) such functions, we need to specify them in a\n",
    "dictionary which we provide to `compute_taxes_and_transfers` via the\n",
    "`aggregate_by_group_specs` argument. An example dictionary is as follows:\n",
    "\n",
    "\n",
    "```python\n",
    "aggregate_by_group_specs = {\n",
    "    \"anz_erwachsene_sn\": {\"source_col\": \"erwachsen\", \"aggr\": \"sum\"},\n",
    "    \"anz_personen_hh\": {\"aggr\": \"count\"},\n",
    "}\n",
    "```\n",
    "\n",
    "### Aggregation Based on `p_id`\n",
    "\n",
    "Similarly to above, aggregation functions based on `p_id` are specified in a dictionary\n",
    "which can be provided to `compute_taxes_and_transfers` via the `aggregate_by_p_id_specs`\n",
    "argument. An example dictionary is as follows:\n",
    "\n",
    "```python\n",
    "aggregate_by_p_id_kindergeld = {\n",
    "    \"kindergeld_anz_ansprüche\": {\n",
    "        \"p_id_to_aggregate_by\": \"p_id_kindergeld_empf\",\n",
    "        \"source_col\": \"kindergeld_anspruch\",\n",
    "        \"aggr\": \"sum\",\n",
    "    },\n",
    "}\n",
    "```\n",
    "\n",
    "See [GEP 4](https://gettsim.readthedocs.io/en/stable/geps/gep-04.html) for more\n",
    "information on aggregation functions."
   ]
  }
 ],
 "metadata": {
  "language_info": {
   "codemirror_mode": {
    "name": "ipython",
    "version": 3
   },
   "file_extension": ".py",
   "mimetype": "text/x-python",
   "name": "python",
   "nbconvert_exporter": "python",
   "pygments_lexer": "ipython3"
  }
 },
 "nbformat": 4,
 "nbformat_minor": 4
}
