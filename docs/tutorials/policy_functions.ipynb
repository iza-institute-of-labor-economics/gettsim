{
 "cells": [
  {
   "cell_type": "markdown",
   "metadata": {},
   "source": [
    "# Policy Functions Tutorial\n",
    "\n",
    "This tutorial focuses on the policy functions of GETTSIM, one of the two objects returned by the function `set_up_policy_environment`. Alongside policy parameters, these functions help GETTSIM define a date-specific policy environment based on which it can compute taxes and transfers for individual and household data. \n",
    "\n",
    "Just like parameters, which are discussed in further detail in [this](https://gettsim.readthedocs.io/en/latest/tutorials/parameters.html) tutorial, policy functions can be replaced, added or removed to make changes to the existing policy environment. This way, you design a new tax or transfer for any specific group of people, e.g. invent a new tax for people that have income from renting an apartment, or change the conditions for receiving already existing transfers."
   ]
  },
  {
   "cell_type": "code",
   "execution_count": 1,
   "metadata": {},
   "outputs": [],
   "source": [
    "import copy\n",
    "import pandas as pd\n",
    "import numpy as np\n",
    "\n",
    "import matplotlib.pyplot as plt\n",
    "\n",
    "from gettsim import set_up_policy_environment\n",
    "from gettsim import compute_taxes_and_transfers"
   ]
  },
  {
   "cell_type": "markdown",
   "metadata": {},
   "source": [
    "## Changing  & replacing existing function(s)\n",
    "\n",
    "We illustrate how to change a function using an example. The steps will be the same for similar tasks. \n",
    "\n",
    "**Context of the example:** *In the German system, there are some transfers for low-income families that cannot be received in combination. Per default, GETTSIM will always choose the most favorable transfers and set other transfers to zero. This assumption could model the behavior of households/families in a wrong way, if they do not always choose the optimal transfers (from a monetary perspective). E.g. there could be a social stigma connected to certain transfers or some people simply do not know about some of the available transfers.*\n",
    "\n",
    "*To account for these frictions, we can turn off this aspect of GETTSIM so that we see all the transfers a family/household is entitled to, even if the transfers cannot be received in combination. This can be useful for further analysis. For example you could speculate which transfers Germans receive in reality and implement this in GETTSIM.*\n",
    "\n",
    "### Find the Function\n",
    "\n",
    "[Here](https://gettsim.readthedocs.io/en/stable/functions.html) we can look for the function that implements the aspect we want to change."
   ]
  },
  {
   "cell_type": "code",
   "execution_count": 2,
   "metadata": {},
   "outputs": [],
   "source": [
    "policy_params, policy_functions = set_up_policy_environment(\"2020\")"
   ]
  },
  {
   "cell_type": "markdown",
   "metadata": {},
   "source": [
    "### Define Changes to the Function\n",
    "\n",
    "After you found the function that you want to change, copy the source code from the website to your notebook and change it just as you like:"
   ]
  },
  {
   "cell_type": "code",
   "execution_count": 3,
   "metadata": {},
   "outputs": [],
   "source": [
    "def arbeitsl_geld_2_m_hh(\n",
    "    arbeitsl_geld_2_m_minus_eink_hh,\n",
    "    wohngeld_vorrang_hh,\n",
    "    kinderzuschlag_vorrang_hh,\n",
    "    wohngeld_kinderzuschlag_vorrang_hh,\n",
    "    rentner_in_hh,\n",
    "):\n",
    "    out = arbeitsl_geld_2_m_minus_eink_hh.clip(lower=0)\n",
    "    cond = (\n",
    "        #wohngeld_vorrang_hh\n",
    "        #| kinderzuschlag_vorrang_hh\n",
    "        #| wohngeld_kinderzuschlag_vorrang_hh\n",
    "         rentner_in_hh\n",
    "    )\n",
    "    out.loc[cond] = 0\n",
    "    return out"
   ]
  },
  {
   "cell_type": "markdown",
   "metadata": {},
   "source": [
    "The lines of the cell above that start with \"#\" usually do the priority check as described above. With the hash, the lines become a comment and do not influence the code anymore.\n",
    "\n",
    "### Make GETTSIM incorporate your Changes \n",
    "\n",
    "There are different ways to make GETTSIM incorporate your edited function. \n",
    "\n",
    "#### Alternative 1:\n",
    "\n",
    "One way is to copy the `policy_functions` and replace the \"old\" function with the function we defined before."
   ]
  },
  {
   "cell_type": "code",
   "execution_count": 4,
   "metadata": {},
   "outputs": [],
   "source": [
    "policy_functions_no_check = copy.deepcopy(policy_functions)\n",
    "policy_functions_no_check[\"arbeitsl_geld_2_m_hh\"] = arbeitsl_geld_2_m_hh"
   ]
  },
  {
   "cell_type": "markdown",
   "metadata": {},
   "source": [
    "Computations with the new `policy_functions_no_check` will now have the characteristic of showing the value of all available transfers without checking which ones cannot be received in combination and without choosing the most profitable combination. \n",
    "\n",
    "Let´s test if this works! \n",
    "\n",
    "We import simulated data for households with two parents and three children. These households only vary in their income:"
   ]
  },
  {
   "cell_type": "code",
   "execution_count": 17,
   "metadata": {},
   "outputs": [
    {
     "data": {
      "text/html": [
       "<div>\n",
       "<style scoped>\n",
       "    .dataframe tbody tr th:only-of-type {\n",
       "        vertical-align: middle;\n",
       "    }\n",
       "\n",
       "    .dataframe tbody tr th {\n",
       "        vertical-align: top;\n",
       "    }\n",
       "\n",
       "    .dataframe thead th {\n",
       "        text-align: right;\n",
       "    }\n",
       "</style>\n",
       "<table border=\"1\" class=\"dataframe\">\n",
       "  <thead>\n",
       "    <tr style=\"text-align: right;\">\n",
       "      <th></th>\n",
       "      <th>p_id</th>\n",
       "      <th>hh_typ</th>\n",
       "      <th>hh_id</th>\n",
       "      <th>tu_id</th>\n",
       "      <th>bruttolohn_m</th>\n",
       "      <th>bruttolohn_vorj_m</th>\n",
       "      <th>arbeitsl_lfdj_m</th>\n",
       "      <th>arbeitsl_vorj_m</th>\n",
       "      <th>arbeitsl_vor2j_m</th>\n",
       "      <th>arbeitsstunden_w</th>\n",
       "      <th>...</th>\n",
       "      <th>prv_rente_beitr_m</th>\n",
       "      <th>miete_unterstellt</th>\n",
       "      <th>kapital_eink_m</th>\n",
       "      <th>vermiet_eink_m</th>\n",
       "      <th>jahr_renteneintr</th>\n",
       "      <th>in_ausbildung</th>\n",
       "      <th>behinderungsgrad</th>\n",
       "      <th>alleinerziehend</th>\n",
       "      <th>mietstufe</th>\n",
       "      <th>sonstig_eink_m</th>\n",
       "    </tr>\n",
       "  </thead>\n",
       "  <tbody>\n",
       "    <tr>\n",
       "      <th>0</th>\n",
       "      <td>2004</td>\n",
       "      <td>2 adults, 3 children</td>\n",
       "      <td>1002</td>\n",
       "      <td>1002</td>\n",
       "      <td>0.0</td>\n",
       "      <td>0.0</td>\n",
       "      <td>0</td>\n",
       "      <td>0</td>\n",
       "      <td>0</td>\n",
       "      <td>5.0</td>\n",
       "      <td>...</td>\n",
       "      <td>0</td>\n",
       "      <td>0</td>\n",
       "      <td>0</td>\n",
       "      <td>0</td>\n",
       "      <td>2061</td>\n",
       "      <td>False</td>\n",
       "      <td>0</td>\n",
       "      <td>False</td>\n",
       "      <td>5</td>\n",
       "      <td>0</td>\n",
       "    </tr>\n",
       "    <tr>\n",
       "      <th>1</th>\n",
       "      <td>2005</td>\n",
       "      <td>2 adults, 3 children</td>\n",
       "      <td>1002</td>\n",
       "      <td>1002</td>\n",
       "      <td>250.0</td>\n",
       "      <td>0.0</td>\n",
       "      <td>0</td>\n",
       "      <td>0</td>\n",
       "      <td>0</td>\n",
       "      <td>5.0</td>\n",
       "      <td>...</td>\n",
       "      <td>0</td>\n",
       "      <td>0</td>\n",
       "      <td>0</td>\n",
       "      <td>0</td>\n",
       "      <td>2061</td>\n",
       "      <td>False</td>\n",
       "      <td>0</td>\n",
       "      <td>False</td>\n",
       "      <td>5</td>\n",
       "      <td>0</td>\n",
       "    </tr>\n",
       "    <tr>\n",
       "      <th>2</th>\n",
       "      <td>2006</td>\n",
       "      <td>2 adults, 3 children</td>\n",
       "      <td>1002</td>\n",
       "      <td>1002</td>\n",
       "      <td>250.0</td>\n",
       "      <td>0.0</td>\n",
       "      <td>0</td>\n",
       "      <td>0</td>\n",
       "      <td>0</td>\n",
       "      <td>5.0</td>\n",
       "      <td>...</td>\n",
       "      <td>0</td>\n",
       "      <td>0</td>\n",
       "      <td>0</td>\n",
       "      <td>0</td>\n",
       "      <td>2061</td>\n",
       "      <td>False</td>\n",
       "      <td>0</td>\n",
       "      <td>False</td>\n",
       "      <td>5</td>\n",
       "      <td>0</td>\n",
       "    </tr>\n",
       "    <tr>\n",
       "      <th>3</th>\n",
       "      <td>2007</td>\n",
       "      <td>2 adults, 3 children</td>\n",
       "      <td>1002</td>\n",
       "      <td>1002</td>\n",
       "      <td>0.0</td>\n",
       "      <td>0.0</td>\n",
       "      <td>0</td>\n",
       "      <td>0</td>\n",
       "      <td>0</td>\n",
       "      <td>5.0</td>\n",
       "      <td>...</td>\n",
       "      <td>0</td>\n",
       "      <td>0</td>\n",
       "      <td>0</td>\n",
       "      <td>0</td>\n",
       "      <td>2061</td>\n",
       "      <td>False</td>\n",
       "      <td>0</td>\n",
       "      <td>False</td>\n",
       "      <td>5</td>\n",
       "      <td>0</td>\n",
       "    </tr>\n",
       "    <tr>\n",
       "      <th>4</th>\n",
       "      <td>2008</td>\n",
       "      <td>2 adults, 3 children</td>\n",
       "      <td>1002</td>\n",
       "      <td>1002</td>\n",
       "      <td>0.0</td>\n",
       "      <td>0.0</td>\n",
       "      <td>0</td>\n",
       "      <td>0</td>\n",
       "      <td>0</td>\n",
       "      <td>5.0</td>\n",
       "      <td>...</td>\n",
       "      <td>0</td>\n",
       "      <td>0</td>\n",
       "      <td>0</td>\n",
       "      <td>0</td>\n",
       "      <td>2061</td>\n",
       "      <td>False</td>\n",
       "      <td>0</td>\n",
       "      <td>False</td>\n",
       "      <td>5</td>\n",
       "      <td>0</td>\n",
       "    </tr>\n",
       "  </tbody>\n",
       "</table>\n",
       "<p>5 rows × 45 columns</p>\n",
       "</div>"
      ],
      "text/plain": [
       "   p_id                hh_typ  hh_id  tu_id  bruttolohn_m  bruttolohn_vorj_m  \\\n",
       "0  2004  2 adults, 3 children   1002   1002           0.0                0.0   \n",
       "1  2005  2 adults, 3 children   1002   1002         250.0                0.0   \n",
       "2  2006  2 adults, 3 children   1002   1002         250.0                0.0   \n",
       "3  2007  2 adults, 3 children   1002   1002           0.0                0.0   \n",
       "4  2008  2 adults, 3 children   1002   1002           0.0                0.0   \n",
       "\n",
       "   arbeitsl_lfdj_m  arbeitsl_vorj_m  arbeitsl_vor2j_m  arbeitsstunden_w  ...  \\\n",
       "0                0                0                 0               5.0  ...   \n",
       "1                0                0                 0               5.0  ...   \n",
       "2                0                0                 0               5.0  ...   \n",
       "3                0                0                 0               5.0  ...   \n",
       "4                0                0                 0               5.0  ...   \n",
       "\n",
       "   prv_rente_beitr_m  miete_unterstellt  kapital_eink_m  vermiet_eink_m  \\\n",
       "0                  0                  0               0               0   \n",
       "1                  0                  0               0               0   \n",
       "2                  0                  0               0               0   \n",
       "3                  0                  0               0               0   \n",
       "4                  0                  0               0               0   \n",
       "\n",
       "   jahr_renteneintr  in_ausbildung  behinderungsgrad  alleinerziehend  \\\n",
       "0              2061          False                 0            False   \n",
       "1              2061          False                 0            False   \n",
       "2              2061          False                 0            False   \n",
       "3              2061          False                 0            False   \n",
       "4              2061          False                 0            False   \n",
       "\n",
       "   mietstufe  sonstig_eink_m  \n",
       "0          5               0  \n",
       "1          5               0  \n",
       "2          5               0  \n",
       "3          5               0  \n",
       "4          5               0  \n",
       "\n",
       "[5 rows x 45 columns]"
      ]
     },
     "execution_count": 17,
     "metadata": {},
     "output_type": "execute_result"
    }
   ],
   "source": [
    "data = pd.read_csv(\"household_data_favorability.csv\")\n",
    "data.head(5)"
   ]
  },
  {
   "cell_type": "markdown",
   "metadata": {},
   "source": [
    "For this data we can now compare the results of using GETTSIM with the `policy_functions_no_check` and the usual `policy_functions`. \n",
    "\n",
    "We should expect to see positive values for `wohngeld_m_hh`, `kinderzuschlag_m_hh` and `arbeitsl_geld_2_m_hh` at the same time if we do not check which combination of transfers is optimal (`policy_functions_no_check`).\n",
    "\n",
    "On the other hand, if we use the default version of the `policy_functions`, `wohngeld_m_hh` and `kinderzuschlag_m_hh` should be zero as long as `arbeitsl_geld_2_m_hh` is positive (and the other way around), as it is a characteristic of the German tax and transfer system that *Wohngeld* and *Kinderzuschlag* cannot be received in combination with *Arbeitslosengeld 2*."
   ]
  },
  {
   "cell_type": "code",
   "execution_count": 6,
   "metadata": {},
   "outputs": [],
   "source": [
    "targets = [\"wohngeld_m_hh\", \"kinderzuschlag_m_hh\", \"arbeitsl_geld_2_m_hh\"]"
   ]
  },
  {
   "cell_type": "code",
   "execution_count": 7,
   "metadata": {},
   "outputs": [],
   "source": [
    "policies = {\"Checked Favorability\": policy_functions, \"No Check of Favorabilty\": policy_functions_no_check}"
   ]
  },
  {
   "cell_type": "code",
   "execution_count": 8,
   "metadata": {},
   "outputs": [
    {
     "data": {
      "image/png": "[encoded data removed]",
      "text/plain": [
       "<Figure size 432x288 with 1 Axes>"
      ]
     },
     "metadata": {
      "needs_background": "light"
     },
     "output_type": "display_data"
    },
    {
     "data": {
      "image/png": "[encoded data removed]",
      "text/plain": [
       "<Figure size 432x288 with 1 Axes>"
      ]
     },
     "metadata": {
      "needs_background": "light"
     },
     "output_type": "display_data"
    }
   ],
   "source": [
    "for k in policies:\n",
    "    result = compute_taxes_and_transfers(\n",
    "        data=data,\n",
    "        functions=policies[k],\n",
    "        params=policy_params,\n",
    "        targets=targets\n",
    "    )\n",
    "\n",
    "    result[\"bruttolohn_m\"] = data[\"bruttolohn_m\"]\n",
    "    result.index = data[\"hh_id\"]\n",
    "    result = result.groupby('hh_id')[targets].max().join(result.groupby('hh_id')[\"bruttolohn_m\"].sum())\n",
    "    result.plot(x=\"bruttolohn_m\", title=k)"
   ]
  },
  {
   "cell_type": "markdown",
   "metadata": {},
   "source": [
    "On first glance, both figures look quite confusing because of the complexity of the German tax and transfer system. But if we take a closer look, the figures confirm our expectations. If we let GETTSIM check for the most favorable combination of transfers, ```wohngeld_m_hh``` and ```kinderzuschlag_m_hh``` are zero as long as `arbeitsl_geld_2_m_hh` is positive(i.e. the best option for the household) and the other way around. \n",
    "\n",
    "If we do not let GETTSIM do this check, this does not hold any longer and all transfers can be positive at the same time (which is what we were trying to achieve). \n",
    "\n",
    "#### Alternative 2:\n",
    "\n",
    "Another way would be to mention the changed function in our ```compute_taxes_and_transfers```-function. This works as follows: "
   ]
  },
  {
   "cell_type": "code",
   "execution_count": 9,
   "metadata": {
    "scrolled": true
   },
   "outputs": [],
   "source": [
    "result_no_check_p = compute_taxes_and_transfers(\n",
    "    data=data,\n",
    "    params=policy_params,\n",
    "    functions=[policy_functions, arbeitsl_geld_2_m_hh],\n",
    "    targets=[\n",
    "        \"wohngeld_m_hh\",\n",
    "        \"kinderzuschlag_m_hh\",\n",
    "        \"arbeitsl_geld_2_m_hh\",\n",
    "    ],\n",
    ")"
   ]
  },
  {
   "cell_type": "markdown",
   "metadata": {},
   "source": [
    "Executing this cell will allow you to reproduce the same analysis we did above. We do not want to do it twice, so we skip it. \n",
    "\n",
    "There are three important points:\n",
    "\n",
    "1. Note that ```arbeitsl_geld_2_m_hh``` has the same function name as a pre-defined function inside GETTSIM. Thus, the internal function will be replaced with this version.\n",
    "\n",
    "2. In general, if there are multiple functions with the same name, internal functions have the lowest precedence. After that, the elements in the list passed to the ```functions``` argument are evaluated element by element. The functions in the leftmost element have the lowest precedence and the functions in the rightmost element have the highest.\n",
    "\n",
    "3. If ```policy_functions``` would not be necessary for this example, you can also directly pass the ```arbeitsl_geld_2_m_hh``` function to the ```functions``` argument.\n",
    "\n",
    "### Multiple Functions\n",
    "\n",
    "You can use exactly the same approach if you want to change more than one function of GETTSIM. But first, for our example we need to invent some changes to another function of GETTSIM. Imagine, we want to double the amount of *Kindergeld* every household receives in addition to the previously implemented function change."
   ]
  },
  {
   "cell_type": "code",
   "execution_count": 10,
   "metadata": {},
   "outputs": [],
   "source": [
    "def kindergeld_m_hh(kindergeld_m, hh_id):\n",
    "    \"\"\"Aggregate child benefit on the household level.\n",
    "\n",
    "    Aggregate child benefit on the household level, as we could have several tax_units\n",
    "    in one household.\n",
    "\n",
    "    Parameters\n",
    "    ----------\n",
    "    kindergeld_m\n",
    "    hh_id\n",
    "\n",
    "    Returns\n",
    "    -------\n",
    "\n",
    "    \"\"\"\n",
    "    return kindergeld_m.groupby(hh_id).sum() * 2"
   ]
  },
  {
   "cell_type": "markdown",
   "metadata": {},
   "source": [
    "If you edit ```arbeitsl_geld_2_m_hh``` and ```kindergeld_m_hh```, your two options to make GETTSIM incorporate your changes would be:\n",
    "\n",
    "**Alternative 1:**"
   ]
  },
  {
   "cell_type": "code",
   "execution_count": 11,
   "metadata": {},
   "outputs": [],
   "source": [
    "policy_functions_reformed = copy.deepcopy(policy_functions)\n",
    "policy_functions_reformed[\"arbeitsl_geld_2_m_hh\"] = arbeitsl_geld_2_m_hh\n",
    "policy_functions_reformed[\"kindergeld_m_hh\"] = kindergeld_m_hh"
   ]
  },
  {
   "cell_type": "markdown",
   "metadata": {},
   "source": [
    " **Alternative 2:**"
   ]
  },
  {
   "cell_type": "code",
   "execution_count": 12,
   "metadata": {},
   "outputs": [],
   "source": [
    "df = compute_taxes_and_transfers(\n",
    "    data=data,\n",
    "    params=policy_params,\n",
    "    functions=[policy_functions, arbeitsl_geld_2_m_hh, kindergeld_m_hh],\n",
    "    targets=[\n",
    "        \"wohngeld_m_hh\",\n",
    "        \"kinderzuschlag_m_hh\",\n",
    "        \"arbeitsl_geld_2_m_hh\",\n",
    "        \"kindergeld_m_hh\",\n",
    "    ],\n",
    ")"
   ]
  },
  {
   "cell_type": "markdown",
   "metadata": {},
   "source": [
    "## Adding a new function\n",
    "\n",
    "### Define Function\n",
    "\n",
    "One transfer that does not exist in reality, but is easy to implement in GETTSIM could be a unconditional basic income for every citizen. Every household receives the unconditional basic income multiplied by the size of the household. We set the unconditional basic income to 1000€ per month: "
   ]
  },
  {
   "cell_type": "code",
   "execution_count": 13,
   "metadata": {},
   "outputs": [],
   "source": [
    "def basic_income_m_hh(hh_id):\n",
    "     return hh_id.groupby(hh_id).size() * 1000 "
   ]
  },
  {
   "cell_type": "markdown",
   "metadata": {},
   "source": [
    "Maybe it can be helpful to use an existing function as a template and change the parameters and the body of the function accordingly. You can find suitable templates [here](https://gettsim.readthedocs.io/en/stable/functions.html).\n",
    "\n",
    "### Add Function to Dictionary"
   ]
  },
  {
   "cell_type": "code",
   "execution_count": 14,
   "metadata": {},
   "outputs": [],
   "source": [
    "policy_functions_with_basic_income = copy.deepcopy(policy_functions)\n",
    "policy_functions_with_basic_income[\"basic_income_m_hh\"] = basic_income_m_hh"
   ]
  },
  {
   "cell_type": "markdown",
   "metadata": {},
   "source": [
    "### (Check if it Works)\n",
    "\n",
    "We can define some exemplary data easily. All we need is a  ```p_id``` and a ```hh_id```. Everything else is irrelevant for this example, because the transfer does not depend on any conditions. As a result we should see 4000€, because the simulated household has four members."
   ]
  },
  {
   "cell_type": "code",
   "execution_count": 15,
   "metadata": {
    "scrolled": true
   },
   "outputs": [
    {
     "data": {
      "text/html": [
       "<div>\n",
       "<style scoped>\n",
       "    .dataframe tbody tr th:only-of-type {\n",
       "        vertical-align: middle;\n",
       "    }\n",
       "\n",
       "    .dataframe tbody tr th {\n",
       "        vertical-align: top;\n",
       "    }\n",
       "\n",
       "    .dataframe thead th {\n",
       "        text-align: right;\n",
       "    }\n",
       "</style>\n",
       "<table border=\"1\" class=\"dataframe\">\n",
       "  <thead>\n",
       "    <tr style=\"text-align: right;\">\n",
       "      <th></th>\n",
       "      <th>p_id</th>\n",
       "      <th>hh_id</th>\n",
       "    </tr>\n",
       "  </thead>\n",
       "  <tbody>\n",
       "    <tr>\n",
       "      <th>0</th>\n",
       "      <td>0</td>\n",
       "      <td>1</td>\n",
       "    </tr>\n",
       "    <tr>\n",
       "      <th>1</th>\n",
       "      <td>1</td>\n",
       "      <td>1</td>\n",
       "    </tr>\n",
       "    <tr>\n",
       "      <th>2</th>\n",
       "      <td>2</td>\n",
       "      <td>1</td>\n",
       "    </tr>\n",
       "    <tr>\n",
       "      <th>3</th>\n",
       "      <td>3</td>\n",
       "      <td>1</td>\n",
       "    </tr>\n",
       "  </tbody>\n",
       "</table>\n",
       "</div>"
      ],
      "text/plain": [
       "  p_id hh_id\n",
       "0    0     1\n",
       "1    1     1\n",
       "2    2     1\n",
       "3    3     1"
      ]
     },
     "execution_count": 15,
     "metadata": {},
     "output_type": "execute_result"
    }
   ],
   "source": [
    "data = pd.DataFrame(index=np.arange(0, 4), columns=('p_id', 'hh_id') )\n",
    "\n",
    "for x in np.arange(0, 4):\n",
    "    data.loc[x] = [x, \"1\"]\n",
    "    \n",
    "data"
   ]
  },
  {
   "cell_type": "code",
   "execution_count": 16,
   "metadata": {},
   "outputs": [
    {
     "data": {
      "text/html": [
       "<div>\n",
       "<style scoped>\n",
       "    .dataframe tbody tr th:only-of-type {\n",
       "        vertical-align: middle;\n",
       "    }\n",
       "\n",
       "    .dataframe tbody tr th {\n",
       "        vertical-align: top;\n",
       "    }\n",
       "\n",
       "    .dataframe thead th {\n",
       "        text-align: right;\n",
       "    }\n",
       "</style>\n",
       "<table border=\"1\" class=\"dataframe\">\n",
       "  <thead>\n",
       "    <tr style=\"text-align: right;\">\n",
       "      <th></th>\n",
       "      <th>basic_income_m_hh</th>\n",
       "    </tr>\n",
       "  </thead>\n",
       "  <tbody>\n",
       "    <tr>\n",
       "      <th>0</th>\n",
       "      <td>4000</td>\n",
       "    </tr>\n",
       "    <tr>\n",
       "      <th>1</th>\n",
       "      <td>4000</td>\n",
       "    </tr>\n",
       "    <tr>\n",
       "      <th>2</th>\n",
       "      <td>4000</td>\n",
       "    </tr>\n",
       "    <tr>\n",
       "      <th>3</th>\n",
       "      <td>4000</td>\n",
       "    </tr>\n",
       "  </tbody>\n",
       "</table>\n",
       "</div>"
      ],
      "text/plain": [
       "   basic_income_m_hh\n",
       "0               4000\n",
       "1               4000\n",
       "2               4000\n",
       "3               4000"
      ]
     },
     "execution_count": 16,
     "metadata": {},
     "output_type": "execute_result"
    }
   ],
   "source": [
    "df = compute_taxes_and_transfers(\n",
    "    data=data,\n",
    "    functions=policy_functions_with_basic_income,\n",
    "    params=policy_params,\n",
    "    targets=\"basic_income_m_hh\",\n",
    ")\n",
    "df"
   ]
  },
  {
   "cell_type": "markdown",
   "metadata": {},
   "source": [
    "Looks like we implemented our new transfer correctly!"
   ]
  }
 ],
 "metadata": {
  "kernelspec": {
   "display_name": "Python 3",
   "language": "python",
   "name": "python3"
  },
  "language_info": {
   "codemirror_mode": {
    "name": "ipython",
    "version": 3
   },
   "file_extension": ".py",
   "mimetype": "text/x-python",
   "name": "python",
   "nbconvert_exporter": "python",
   "pygments_lexer": "ipython3",
   "version": "3.8.3"
  }
 },
 "nbformat": 4,
 "nbformat_minor": 4
}
