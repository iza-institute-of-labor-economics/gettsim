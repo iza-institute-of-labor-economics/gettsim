{
 "cells": [
  {
   "cell_type": "markdown",
   "metadata": {},
   "source": [
    "# Changing Functions of the Taxes and Transfers System\n",
    "\n",
    "This tutorial focuses on the policy functions of GETTSIM, one of the two objects returned by the function `set_up_policy_environment`. Alongside policy parameters, these functions help GETTSIM define a date-specific policy environment based on which it can compute taxes and transfers for individual and household data. \n",
    "\n",
    "Just like [parameters](parameters.ipynb), policy functions can be replaced, added or removed to make changes to the existing policy environment. This way, you can design a new tax or transfer for any specific group of people, e.g. invent a new tax for people that have income from renting an apartment, or change the conditions for receiving already existing transfers.\n",
    "\n",
    "This tutorial showcases the policy functions using a concrete example. For a more comprehensive and abstract discussion of the feature, check out the [how-to guide on Different Ways to Load Policy Functions](../how_to_guides/different_ways_to_load_policy_functions.ipynb).\n"
   ]
  },
  {
   "cell_type": "code",
   "execution_count": 2,
   "metadata": {},
   "outputs": [],
   "source": [
    "import copy\n",
    "import pandas as pd\n",
    "import numpy as np\n",
    "\n",
    "from copy import deepcopy\n",
    "\n",
    "import matplotlib.pyplot as plt\n",
    "\n",
    "from gettsim import set_up_policy_environment\n",
    "from gettsim import compute_taxes_and_transfers\n",
    "from gettsim.synthetic_data.synthetic import create_synthetic_data"
   ]
  },
  {
   "cell_type": "markdown",
   "metadata": {},
   "source": [
    "## Changing  and Replacing Existing Function(s)\n",
    "\n",
    "### Example: Receiving Multiple Transfers\n",
    "\n",
    "In the German system, there are some transfers for low-income families that cannot be received in combination. Per default, GETTSIM will always choose the most favorable transfers and set other transfers to zero. This assumption could model the behavior of households/families in a wrong way, if they do not always choose the optimal transfers (from a monetary perspective). For example, there could be a social stigma connected to certain transfers or some people simply do not know about some of the available transfers.\n",
    "\n",
    "To account for these frictions, we can turn off this aspect of GETTSIM so that we see all the transfers a family/household is entitled to, even if the transfers cannot be received in combination. This can be useful for further analysis. For example you could speculate which transfers Germans receive in reality and implement this in GETTSIM.\n",
    "\n",
    "### Find the Function\n",
    "\n",
    "[Here](../gettsim_objects/functions.rst) we can look for the function that implements the aspect we want to change."
   ]
  },
  {
   "cell_type": "code",
   "execution_count": 3,
   "metadata": {},
   "outputs": [],
   "source": [
    "policy_params, policy_functions = set_up_policy_environment(\"2020\")"
   ]
  },
  {
   "cell_type": "markdown",
   "metadata": {},
   "source": [
    "### Define Changes to the Function\n",
    "\n",
    "After you found the function that you want to change, copy the source code from the website to your notebook and change it just as you like:"
   ]
  },
  {
   "cell_type": "code",
   "execution_count": 4,
   "metadata": {},
   "outputs": [],
   "source": [
    "def arbeitsl_geld_2_m_hh(\n",
    "    arbeitsl_geld_2_vor_vorrang_m_hh,\n",
    "    wohngeld_vorrang_hh,\n",
    "    kinderzuschl_vorrang_hh,\n",
    "    wohngeld_kinderzuschl_vorrang_hh,\n",
    "    erwachsene_alle_rentner_hh,\n",
    "):\n",
    "    if (\n",
    "        # wohngeld_vorrang_hh\n",
    "        # | kinderzuschl_vorrang_hh\n",
    "        # | wohngeld_kinderzuschl_vorrang_hh\n",
    "        erwachsene_alle_rentner_hh\n",
    "    ):\n",
    "        out = 0.0\n",
    "    else:\n",
    "        out = arbeitsl_geld_2_vor_vorrang_m_hh\n",
    "\n",
    "    return out"
   ]
  },
  {
   "cell_type": "markdown",
   "metadata": {},
   "source": [
    "The lines of the cell above that start with \"#\" usually do the priority check as described above. With the hash, the lines become a comment and do not influence the code anymore.\n",
    "\n",
    "### Make GETTSIM Incorporate your Changes \n",
    "\n",
    "There are different ways to make GETTSIM incorporate your edited function. \n",
    "\n",
    "#### Alternative 1:\n",
    "\n",
    "One way is to copy the `policy_functions` and replace the \"old\" function with the function we defined before."
   ]
  },
  {
   "cell_type": "code",
   "execution_count": 5,
   "metadata": {},
   "outputs": [],
   "source": [
    "policy_functions_no_check = copy.deepcopy(policy_functions)\n",
    "policy_functions_no_check[\"arbeitsl_geld_2_m_hh\"] = arbeitsl_geld_2_m_hh"
   ]
  },
  {
   "cell_type": "markdown",
   "metadata": {},
   "source": [
    "Computations with the new `policy_functions_no_check` will now have the characteristic of showing the value of all available transfers without checking which ones cannot be received in combination and without choosing the most profitable combination. \n",
    "\n",
    "Let´s test if this works! \n",
    "\n",
    "We import simulated data for households with two parents and two children. These households only vary in their income:"
   ]
  },
  {
   "cell_type": "code",
   "execution_count": 6,
   "metadata": {},
   "outputs": [
    {
     "data": {
      "text/html": [
       "<div>\n",
       "<style scoped>\n",
       "    .dataframe tbody tr th:only-of-type {\n",
       "        vertical-align: middle;\n",
       "    }\n",
       "\n",
       "    .dataframe tbody tr th {\n",
       "        vertical-align: top;\n",
       "    }\n",
       "\n",
       "    .dataframe thead th {\n",
       "        text-align: right;\n",
       "    }\n",
       "</style>\n",
       "<table border=\"1\" class=\"dataframe\">\n",
       "  <thead>\n",
       "    <tr style=\"text-align: right;\">\n",
       "      <th></th>\n",
       "      <th>index</th>\n",
       "      <th>hh_id</th>\n",
       "      <th>tu_id</th>\n",
       "      <th>p_id</th>\n",
       "      <th>hh_typ</th>\n",
       "      <th>kind</th>\n",
       "      <th>bruttolohn_m</th>\n",
       "      <th>alter</th>\n",
       "      <th>rentner</th>\n",
       "      <th>alleinerz</th>\n",
       "      <th>...</th>\n",
       "      <th>mietstufe</th>\n",
       "      <th>immobilie_baujahr</th>\n",
       "      <th>vermögen_hh</th>\n",
       "      <th>entgeltp</th>\n",
       "      <th>grundr_bew_zeiten</th>\n",
       "      <th>grundr_entgeltp</th>\n",
       "      <th>grundr_zeiten</th>\n",
       "      <th>priv_rente_m</th>\n",
       "      <th>schwerbeh_g</th>\n",
       "      <th>sum_ges_rente_priv_rente_m</th>\n",
       "    </tr>\n",
       "  </thead>\n",
       "  <tbody>\n",
       "    <tr>\n",
       "      <th>0</th>\n",
       "      <td>0</td>\n",
       "      <td>0</td>\n",
       "      <td>0</td>\n",
       "      <td>0</td>\n",
       "      <td>couple_2_children</td>\n",
       "      <td>False</td>\n",
       "      <td>500</td>\n",
       "      <td>35</td>\n",
       "      <td>False</td>\n",
       "      <td>False</td>\n",
       "      <td>...</td>\n",
       "      <td>3</td>\n",
       "      <td>1980</td>\n",
       "      <td>0</td>\n",
       "      <td>15.0</td>\n",
       "      <td>180</td>\n",
       "      <td>15.0</td>\n",
       "      <td>180</td>\n",
       "      <td>0.0</td>\n",
       "      <td>False</td>\n",
       "      <td>0.0</td>\n",
       "    </tr>\n",
       "    <tr>\n",
       "      <th>1</th>\n",
       "      <td>1</td>\n",
       "      <td>0</td>\n",
       "      <td>0</td>\n",
       "      <td>1</td>\n",
       "      <td>couple_2_children</td>\n",
       "      <td>False</td>\n",
       "      <td>0</td>\n",
       "      <td>35</td>\n",
       "      <td>False</td>\n",
       "      <td>False</td>\n",
       "      <td>...</td>\n",
       "      <td>3</td>\n",
       "      <td>1980</td>\n",
       "      <td>0</td>\n",
       "      <td>15.0</td>\n",
       "      <td>180</td>\n",
       "      <td>15.0</td>\n",
       "      <td>180</td>\n",
       "      <td>0.0</td>\n",
       "      <td>False</td>\n",
       "      <td>0.0</td>\n",
       "    </tr>\n",
       "    <tr>\n",
       "      <th>2</th>\n",
       "      <td>2</td>\n",
       "      <td>0</td>\n",
       "      <td>0</td>\n",
       "      <td>2</td>\n",
       "      <td>couple_2_children</td>\n",
       "      <td>True</td>\n",
       "      <td>0</td>\n",
       "      <td>3</td>\n",
       "      <td>False</td>\n",
       "      <td>False</td>\n",
       "      <td>...</td>\n",
       "      <td>3</td>\n",
       "      <td>1980</td>\n",
       "      <td>0</td>\n",
       "      <td>0.0</td>\n",
       "      <td>0</td>\n",
       "      <td>0.0</td>\n",
       "      <td>0</td>\n",
       "      <td>0.0</td>\n",
       "      <td>False</td>\n",
       "      <td>0.0</td>\n",
       "    </tr>\n",
       "    <tr>\n",
       "      <th>3</th>\n",
       "      <td>3</td>\n",
       "      <td>0</td>\n",
       "      <td>0</td>\n",
       "      <td>3</td>\n",
       "      <td>couple_2_children</td>\n",
       "      <td>True</td>\n",
       "      <td>0</td>\n",
       "      <td>8</td>\n",
       "      <td>False</td>\n",
       "      <td>False</td>\n",
       "      <td>...</td>\n",
       "      <td>3</td>\n",
       "      <td>1980</td>\n",
       "      <td>0</td>\n",
       "      <td>0.0</td>\n",
       "      <td>0</td>\n",
       "      <td>0.0</td>\n",
       "      <td>0</td>\n",
       "      <td>0.0</td>\n",
       "      <td>False</td>\n",
       "      <td>0.0</td>\n",
       "    </tr>\n",
       "    <tr>\n",
       "      <th>4</th>\n",
       "      <td>0</td>\n",
       "      <td>100</td>\n",
       "      <td>100</td>\n",
       "      <td>4</td>\n",
       "      <td>couple_2_children</td>\n",
       "      <td>False</td>\n",
       "      <td>750</td>\n",
       "      <td>35</td>\n",
       "      <td>False</td>\n",
       "      <td>False</td>\n",
       "      <td>...</td>\n",
       "      <td>3</td>\n",
       "      <td>1980</td>\n",
       "      <td>0</td>\n",
       "      <td>15.0</td>\n",
       "      <td>180</td>\n",
       "      <td>15.0</td>\n",
       "      <td>180</td>\n",
       "      <td>0.0</td>\n",
       "      <td>False</td>\n",
       "      <td>0.0</td>\n",
       "    </tr>\n",
       "  </tbody>\n",
       "</table>\n",
       "<p>5 rows × 48 columns</p>\n",
       "</div>"
      ],
      "text/plain": [
       "   index  hh_id  tu_id  p_id             hh_typ   kind  bruttolohn_m  alter  \\\n",
       "0      0      0      0     0  couple_2_children  False           500     35   \n",
       "1      1      0      0     1  couple_2_children  False             0     35   \n",
       "2      2      0      0     2  couple_2_children   True             0      3   \n",
       "3      3      0      0     3  couple_2_children   True             0      8   \n",
       "4      0    100    100     4  couple_2_children  False           750     35   \n",
       "\n",
       "   rentner  alleinerz  ...  mietstufe  immobilie_baujahr  vermögen_hh  \\\n",
       "0    False      False  ...          3               1980            0   \n",
       "1    False      False  ...          3               1980            0   \n",
       "2    False      False  ...          3               1980            0   \n",
       "3    False      False  ...          3               1980            0   \n",
       "4    False      False  ...          3               1980            0   \n",
       "\n",
       "   entgeltp  grundr_bew_zeiten  grundr_entgeltp  grundr_zeiten  priv_rente_m  \\\n",
       "0      15.0                180             15.0            180           0.0   \n",
       "1      15.0                180             15.0            180           0.0   \n",
       "2       0.0                  0              0.0              0           0.0   \n",
       "3       0.0                  0              0.0              0           0.0   \n",
       "4      15.0                180             15.0            180           0.0   \n",
       "\n",
       "   schwerbeh_g  sum_ges_rente_priv_rente_m  \n",
       "0        False                         0.0  \n",
       "1        False                         0.0  \n",
       "2        False                         0.0  \n",
       "3        False                         0.0  \n",
       "4        False                         0.0  \n",
       "\n",
       "[5 rows x 48 columns]"
      ]
     },
     "execution_count": 6,
     "metadata": {},
     "output_type": "execute_result"
    }
   ],
   "source": [
    "## idea for use of synthetical data\n",
    "data = create_synthetic_data(\n",
    "    hh_typen=[\"couple\"],\n",
    "    n_children=[2],\n",
    "    heterogeneous_vars={\"bruttolohn_m\": np.arange(500, 5000, 250)},\n",
    ")\n",
    "\n",
    "# Compute sum of pension contributions in household and add it to data.\n",
    "sum_ges_rente_priv_rente_m = compute_taxes_and_transfers(\n",
    "    data=data,\n",
    "    params=policy_params,\n",
    "    targets=\"sum_ges_rente_priv_rente_m\",\n",
    "    functions=policy_functions,\n",
    ")\n",
    "\n",
    "data[\"sum_ges_rente_priv_rente_m\"] = sum_ges_rente_priv_rente_m[\n",
    "    \"sum_ges_rente_priv_rente_m\"\n",
    "]\n",
    "data.head(5)"
   ]
  },
  {
   "cell_type": "markdown",
   "metadata": {},
   "source": [
    "For this data we can now compare the results of using GETTSIM with the `policy_functions_no_check` and the usual `policy_functions`. \n",
    "\n",
    "We should expect to see positive values for `wohngeld_m_hh`, `kindergeld_basis_m` and `arbeitsl_geld_2_m_hh` at the same time if we do not check which combination of transfers is optimal (`policy_functions_no_check`).\n",
    "\n",
    "On the other hand, if we use the default version of the `policy_functions`, `wohngeld_m_hh` and `kindergeld_basis_m` should be zero as long as `arbeitsl_geld_2_m_hh` is positive (and the other way around), as it is a characteristic of the German taxes and transfers system that *Wohngeld* and *Kinderzuschlag* cannot be received in combination with *Arbeitslosengeld 2*."
   ]
  },
  {
   "cell_type": "code",
   "execution_count": 7,
   "metadata": {},
   "outputs": [],
   "source": [
    "targets = [\"wohngeld_m_hh\", \"kindergeld_basis_m\", \"arbeitsl_geld_2_m_hh\"]"
   ]
  },
  {
   "cell_type": "code",
   "execution_count": 8,
   "metadata": {},
   "outputs": [],
   "source": [
    "policies = {\n",
    "    \"Checked Favorability\": policy_functions,\n",
    "    \"No Check of Favorabilty\": policy_functions_no_check,\n",
    "}"
   ]
  },
  {
   "cell_type": "code",
   "execution_count": 9,
   "metadata": {},
   "outputs": [
    {
     "data": {
      "image/png": "[encoded data removed]",
      "text/plain": [
       "<Figure size 432x288 with 1 Axes>"
      ]
     },
     "metadata": {
      "needs_background": "light"
     },
     "output_type": "display_data"
    },
    {
     "data": {
      "image/png": "[encoded data removed]",
      "text/plain": [
       "<Figure size 432x288 with 1 Axes>"
      ]
     },
     "metadata": {
      "needs_background": "light"
     },
     "output_type": "display_data"
    }
   ],
   "source": [
    "# Loop through keys to plot both scenarios.\n",
    "for k in policies:\n",
    "    # Compute taxes and transfers.\n",
    "    result = compute_taxes_and_transfers(\n",
    "        data=data,\n",
    "        functions=policies[k],\n",
    "        params=policy_params,\n",
    "        targets=targets,\n",
    "        columns_overriding_functions=[\"sum_ges_rente_priv_rente_m\"],\n",
    "    )\n",
    "    # Add earnings and index to result DataFrame.\n",
    "    result[\"bruttolohn_m\"] = data[\"bruttolohn_m\"]\n",
    "    result.index = data[\"hh_id\"]\n",
    "    # Create DataFrame that contains the maximum value of the target variables\n",
    "    # in the household and the household gross income.\n",
    "    result = (\n",
    "        result.groupby(\"hh_id\")[targets]\n",
    "        .max()\n",
    "        .join(result.groupby(\"hh_id\")[\"bruttolohn_m\"].sum())\n",
    "    )\n",
    "    # Plot the results.\n",
    "    result.plot(x=\"bruttolohn_m\", title=k)\n",
    "    plt.xlabel(\"Monthly gross income in € (per household)\")\n",
    "    plt.ylabel(\"€ per month\")"
   ]
  },
  {
   "cell_type": "markdown",
   "metadata": {},
   "source": [
    "On first glance, both figures look quite confusing because of the complexity of the German taxes and transfers system. But if we take a closer look, the figures confirm our expectations. If we let GETTSIM check for the most favorable combination of transfers, ```wohngeld_m_hh``` and ```kinderzuschl_m_hh``` are zero as long as `arbeitsl_geld_2_m_hh` is positive(i.e. the best option for the household) and the other way around. \n",
    "\n",
    "If we do not let GETTSIM do this check, this does not hold any longer and all transfers can be positive at the same time (which is what we were trying to achieve). \n",
    "\n",
    "#### Alternative 2:\n",
    "\n",
    "Another way would be to mention the changed function in our ```compute_taxes_and_transfers```-function. This works as follows: "
   ]
  },
  {
   "cell_type": "code",
   "execution_count": 10,
   "metadata": {
    "scrolled": true
   },
   "outputs": [],
   "source": [
    "result_no_check_p = compute_taxes_and_transfers(\n",
    "    data=data,\n",
    "    params=policy_params,\n",
    "    functions=[policy_functions, arbeitsl_geld_2_m_hh],\n",
    "    targets=[\"wohngeld_m_hh\", \"kinderzuschl_m_hh\", \"arbeitsl_geld_2_m_hh\",],\n",
    "    columns_overriding_functions=[\"sum_ges_rente_priv_rente_m\"],\n",
    ")"
   ]
  },
  {
   "cell_type": "markdown",
   "metadata": {},
   "source": [
    "Executing this cell will allow you to reproduce the same analysis we did above. We do not want to do it twice, so we skip it. \n",
    "\n",
    "There are three important points:\n",
    "\n",
    "1. Note that ```arbeitsl_geld_2_m_hh``` has the same function name as a pre-defined function inside GETTSIM. Thus, the internal function will be replaced with this version.\n",
    "\n",
    "2. In general, if there are multiple functions with the same name, internal functions have the lowest precedence. After that, the elements in the list passed to the ```functions``` argument are evaluated element by element. The functions in the leftmost element have the lowest precedence and the functions in the rightmost element have the highest.\n",
    "\n",
    "3. If ```policy_functions``` would not be necessary for this example, you can also directly pass the ```arbeitsl_geld_2_m_hh``` function to the ```functions``` argument.\n",
    "\n",
    "### Multiple Functions\n",
    "\n",
    "You can use exactly the same approach if you want to change more than one function of GETTSIM. But first, for our example we need to invent some changes to another function of GETTSIM. Imagine, we want to double the amount of *Kindergeld* every household receives in addition to the previously implemented function change."
   ]
  },
  {
   "cell_type": "code",
   "execution_count": 11,
   "metadata": {},
   "outputs": [],
   "source": [
    "def kindergeld_basis_m(\n",
    "    kindergeld_anspruch, kumulativer_kindergeld_anspruch_tu, kindergeld_params\n",
    "):\n",
    "    \"\"\"Calculate the preliminary kindergeld.\n",
    "\n",
    "    Parameters\n",
    "    ----------\n",
    "    kindergeld_anspruch\n",
    "        See :func:`kindergeld_anspruch`.\n",
    "    kumulativer_kindergeld_anspruch_tu\n",
    "        See :func:`kumulativer_kindergeld_anspruch_tu`.\n",
    "    kindergeld_params\n",
    "        See params documentation :ref:`kindergeld_params <kindergeld_params>`.\n",
    "\n",
    "    Returns\n",
    "    -------\n",
    "\n",
    "    \"\"\"\n",
    "    # Make sure that only eligible children get assigned kindergeld\n",
    "    if not kindergeld_anspruch:\n",
    "        out = 0.0\n",
    "    else:\n",
    "        # Kindergeld_Anspruch is the cumulative sum of eligible children.\n",
    "        kumulativer_anspruch_wins = min(\n",
    "            kumulativer_kindergeld_anspruch_tu, max(kindergeld_params[\"kindergeld\"])\n",
    "        )\n",
    "        out = kindergeld_params[\"kindergeld\"][kumulativer_anspruch_wins]\n",
    "    return out * 2"
   ]
  },
  {
   "cell_type": "markdown",
   "metadata": {},
   "source": [
    "If you edit ```arbeitsl_geld_2_m_hh``` and ```kindergeld_basis_m```, your two options to make GETTSIM incorporate your changes would be:\n",
    "\n",
    "**Alternative 1:**"
   ]
  },
  {
   "cell_type": "code",
   "execution_count": 12,
   "metadata": {},
   "outputs": [],
   "source": [
    "policy_functions_reformed = copy.deepcopy(policy_functions)\n",
    "policy_functions_reformed[\"arbeitsl_geld_2_m_hh\"] = arbeitsl_geld_2_m_hh\n",
    "policy_functions_reformed[\"kindergeld_basis_m\"] = kindergeld_basis_m"
   ]
  },
  {
   "cell_type": "markdown",
   "metadata": {},
   "source": [
    " **Alternative 2:**"
   ]
  },
  {
   "cell_type": "code",
   "execution_count": 13,
   "metadata": {},
   "outputs": [],
   "source": [
    "df = compute_taxes_and_transfers(\n",
    "    data=data,\n",
    "    params=policy_params,\n",
    "    functions=[policy_functions, arbeitsl_geld_2_m_hh, kindergeld_basis_m],\n",
    "    targets=[\n",
    "        \"wohngeld_m_hh\",\n",
    "        \"kinderzuschl_m_hh\",\n",
    "        \"arbeitsl_geld_2_m_hh\",\n",
    "        \"kindergeld_basis_m\",\n",
    "    ],\n",
    "    columns_overriding_functions=[\"sum_ges_rente_priv_rente_m\"],\n",
    ")"
   ]
  },
  {
   "cell_type": "markdown",
   "metadata": {},
   "source": [
    "## Adding a New Function\n",
    "\n",
    "Instead of replacing existing functions, we can similarly define completely new functions and add them to the policy environment."
   ]
  }
 ],
 "metadata": {
  "kernelspec": {
   "display_name": "Python 3 (ipykernel)",
   "language": "python",
   "name": "python3"
  },
  "language_info": {
   "codemirror_mode": {
    "name": "ipython",
    "version": 3
   },
   "file_extension": ".py",
   "mimetype": "text/x-python",
   "name": "python",
   "nbconvert_exporter": "python",
   "pygments_lexer": "ipython3",
   "version": "3.9.12"
  }
 },
 "nbformat": 4,
 "nbformat_minor": 4
}
