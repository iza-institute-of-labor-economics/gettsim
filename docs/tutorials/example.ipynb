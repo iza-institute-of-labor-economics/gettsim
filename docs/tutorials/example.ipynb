{
 "cells": [
  {
   "cell_type": "code",
   "execution_count": 1,
   "metadata": {},
   "outputs": [],
   "source": [
    "import pandas as pd\n",
    "from gettsim.interface import compute_taxes_and_transfers\n",
    "from gettsim.pre_processing.policy_for_date import get_policies_for_date"
   ]
  },
  {
   "cell_type": "code",
   "execution_count": 2,
   "metadata": {},
   "outputs": [],
   "source": [
    "df = pd.DataFrame(\n",
    "    {\n",
    "        \"p_id\": 1,\n",
    "        \"tu_id\": 1,\n",
    "        \"hh_id\": 1,\n",
    "        \"bruttolohn_m\": 1000,\n",
    "        \"wohnort_ost\": False,\n",
    "        \"kind\": False,\n",
    "        \"alter\": 35,\n",
    "        \"selbstständig\": False,\n",
    "        \"hat_kinder\": False,\n",
    "        \"eink_selbst_m\": 0,\n",
    "        \"ges_rente_m\": 0,\n",
    "        \"prv_krankenv\": False,\n",
    "        \"_zu_verst_eink_kein_kinderfreib_tu\": 12000,\n",
    "        \"_zu_verst_kapital_eink_tu\": 0,\n",
    "        \"kinderfreib_tu\": 0,\n",
    "        \"_kindergeld_m_tu_basis\": 0,\n",
    "    },\n",
    "    index=[0],\n",
    ")"
   ]
  },
  {
   "cell_type": "code",
   "execution_count": 3,
   "metadata": {},
   "outputs": [
    {
     "data": {
      "text/html": [
       "<div>\n",
       "<style scoped>\n",
       "    .dataframe tbody tr th:only-of-type {\n",
       "        vertical-align: middle;\n",
       "    }\n",
       "\n",
       "    .dataframe tbody tr th {\n",
       "        vertical-align: top;\n",
       "    }\n",
       "\n",
       "    .dataframe thead th {\n",
       "        text-align: right;\n",
       "    }\n",
       "</style>\n",
       "<table border=\"1\" class=\"dataframe\">\n",
       "  <thead>\n",
       "    <tr style=\"text-align: right;\">\n",
       "      <th></th>\n",
       "      <th>p_id</th>\n",
       "      <th>tu_id</th>\n",
       "      <th>hh_id</th>\n",
       "      <th>bruttolohn_m</th>\n",
       "      <th>wohnort_ost</th>\n",
       "      <th>kind</th>\n",
       "      <th>alter</th>\n",
       "      <th>selbstständig</th>\n",
       "      <th>hat_kinder</th>\n",
       "      <th>eink_selbst_m</th>\n",
       "      <th>ges_rente_m</th>\n",
       "      <th>prv_krankenv</th>\n",
       "      <th>_zu_verst_eink_kein_kinderfreib_tu</th>\n",
       "      <th>_zu_verst_kapital_eink_tu</th>\n",
       "      <th>kinderfreib_tu</th>\n",
       "      <th>_kindergeld_m_tu_basis</th>\n",
       "    </tr>\n",
       "  </thead>\n",
       "  <tbody>\n",
       "    <tr>\n",
       "      <th>0</th>\n",
       "      <td>1</td>\n",
       "      <td>1</td>\n",
       "      <td>1</td>\n",
       "      <td>1000</td>\n",
       "      <td>False</td>\n",
       "      <td>False</td>\n",
       "      <td>35</td>\n",
       "      <td>False</td>\n",
       "      <td>False</td>\n",
       "      <td>0</td>\n",
       "      <td>0</td>\n",
       "      <td>False</td>\n",
       "      <td>12000</td>\n",
       "      <td>0</td>\n",
       "      <td>0</td>\n",
       "      <td>0</td>\n",
       "    </tr>\n",
       "  </tbody>\n",
       "</table>\n",
       "</div>"
      ],
      "text/plain": [
       "   p_id  tu_id  hh_id  bruttolohn_m  wohnort_ost   kind  alter  selbstständig  \\\n",
       "0     1      1      1          1000        False  False     35          False   \n",
       "\n",
       "   hat_kinder  eink_selbst_m  ges_rente_m  prv_krankenv  \\\n",
       "0       False              0            0         False   \n",
       "\n",
       "   _zu_verst_eink_kein_kinderfreib_tu  _zu_verst_kapital_eink_tu  \\\n",
       "0                               12000                          0   \n",
       "\n",
       "   kinderfreib_tu  _kindergeld_m_tu_basis  \n",
       "0               0                       0  "
      ]
     },
     "execution_count": 3,
     "metadata": {},
     "output_type": "execute_result"
    }
   ],
   "source": [
    "df"
   ]
  },
  {
   "cell_type": "code",
   "execution_count": 4,
   "metadata": {},
   "outputs": [],
   "source": [
    "params_dict, policy_dict = get_policies_for_date(\"2020-01-01\")"
   ]
  },
  {
   "cell_type": "code",
   "execution_count": 5,
   "metadata": {},
   "outputs": [],
   "source": [
    "columns = [\n",
    "    \"_kindergeld_m_tu_basis\",\n",
    "    \"kinderfreib_tu\",\n",
    "    \"_zu_verst_kapital_eink_tu\",\n",
    "    \"_zu_verst_eink_kein_kinderfreib_tu\",\n",
    "]"
   ]
  },
  {
   "cell_type": "code",
   "execution_count": 6,
   "metadata": {},
   "outputs": [],
   "source": [
    "result_df = compute_taxes_and_transfers(\n",
    "    df,\n",
    "    user_functions=policy_dict,\n",
    "    user_columns=columns,\n",
    "    params=params_dict,\n",
    "    targets=[\n",
    "        \"eink_st_tu\",\n",
    "        \"soli_st_tu\",\n",
    "        \"ges_krankenv_beitr_m\",\n",
    "        \"rentenv_beitr_m\",\n",
    "        \"arbeitsl_v_beitr_m\",\n",
    "        \"rentenv_beitr_m\",\n",
    "    ],\n",
    ")"
   ]
  },
  {
   "cell_type": "code",
   "execution_count": 8,
   "metadata": {},
   "outputs": [
    {
     "data": {
      "text/html": [
       "<div>\n",
       "<style scoped>\n",
       "    .dataframe tbody tr th:only-of-type {\n",
       "        vertical-align: middle;\n",
       "    }\n",
       "\n",
       "    .dataframe tbody tr th {\n",
       "        vertical-align: top;\n",
       "    }\n",
       "\n",
       "    .dataframe thead th {\n",
       "        text-align: right;\n",
       "    }\n",
       "</style>\n",
       "<table border=\"1\" class=\"dataframe\">\n",
       "  <thead>\n",
       "    <tr style=\"text-align: right;\">\n",
       "      <th></th>\n",
       "      <th>tu_id</th>\n",
       "      <th>hh_id</th>\n",
       "      <th>p_id</th>\n",
       "      <th>abgelt_st_tu</th>\n",
       "      <th>_beantrage_kind_freib_tu</th>\n",
       "      <th>ges_krankenv_beitr_rente</th>\n",
       "      <th>ges_krankenv_beitr_selbst</th>\n",
       "      <th>krankenv_beitr_regulär_beschäftigt</th>\n",
       "      <th>_rentenv_beitr_regular_job</th>\n",
       "      <th>_arbeitsl_v_regular_job</th>\n",
       "      <th>an_beitr_krankenv_midi_job</th>\n",
       "      <th>_an_beitr_rentenv_midi_job</th>\n",
       "      <th>_an_beitr_arbeitsl_v_midi_job</th>\n",
       "    </tr>\n",
       "  </thead>\n",
       "  <tbody>\n",
       "    <tr>\n",
       "      <th>0</th>\n",
       "      <td>1</td>\n",
       "      <td>1</td>\n",
       "      <td>1</td>\n",
       "      <td>0.0</td>\n",
       "      <td>False</td>\n",
       "      <td>0.0</td>\n",
       "      <td>NaN</td>\n",
       "      <td>NaN</td>\n",
       "      <td>NaN</td>\n",
       "      <td>NaN</td>\n",
       "      <td>72.383372</td>\n",
       "      <td>85.753549</td>\n",
       "      <td>11.064974</td>\n",
       "    </tr>\n",
       "  </tbody>\n",
       "</table>\n",
       "</div>"
      ],
      "text/plain": [
       "   tu_id  hh_id  p_id  abgelt_st_tu  _beantrage_kind_freib_tu  \\\n",
       "0      1      1     1           0.0                     False   \n",
       "\n",
       "   ges_krankenv_beitr_rente  ges_krankenv_beitr_selbst  \\\n",
       "0                       0.0                        NaN   \n",
       "\n",
       "   krankenv_beitr_regulär_beschäftigt  _rentenv_beitr_regular_job  \\\n",
       "0                                 NaN                         NaN   \n",
       "\n",
       "   _arbeitsl_v_regular_job  an_beitr_krankenv_midi_job  \\\n",
       "0                      NaN                   72.383372   \n",
       "\n",
       "   _an_beitr_rentenv_midi_job  _an_beitr_arbeitsl_v_midi_job  \n",
       "0                   85.753549                      11.064974  "
      ]
     },
     "execution_count": 8,
     "metadata": {},
     "output_type": "execute_result"
    }
   ],
   "source": [
    "result_df"
   ]
  }
 ],
 "metadata": {
  "kernelspec": {
   "display_name": "Python 3",
   "language": "python",
   "name": "python3"
  },
  "language_info": {
   "codemirror_mode": {
    "name": "ipython",
    "version": 3
   },
   "file_extension": ".py",
   "mimetype": "text/x-python",
   "name": "python",
   "nbconvert_exporter": "python",
   "pygments_lexer": "ipython3",
   "version": "3.7.7"
  }
 },
 "nbformat": 4,
 "nbformat_minor": 4
}
