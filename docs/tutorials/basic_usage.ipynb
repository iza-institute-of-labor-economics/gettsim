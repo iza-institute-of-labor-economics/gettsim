{
  "cells": [
    {
      "cell_type": "markdown",
      "metadata": {},
      "source": [
        "# Basic Usage"
      ]
    },
    {
      "cell_type": "markdown",
      "metadata": {},
      "source": [
        "This tutorial covers the basics of GETTSIM's interface to get you started with the package. GETTSIM enables an almost complete simulation of the German taxes and transfers system which makes it interesting for both students and researchers. Its extensive coverage of taxes and social policies in Germany makes it a valuable educational tool to learn about the current and past German policy environment. Simultaneously, GETTSIM's capabilities to process household data and compute according taxes and transfers make it a powerful tool that can be used for advanced microsimulations.\n",
        "\n",
        "The interface consists of two central functions:\n",
        "\n",
        "1. `set_up_policy_environment` which loads a policy environment for a specified date.\n",
        "\n",
        "2. `compute_taxes_and_transfers` which allows you to compute taxes and transfers given a specified policy environment for household or individual observations.\n",
        "\n",
        "The following sections give a brief introduction to these two functions using a minimal working example. The necessary packages and GETTSIM functions can be imported into your notebook as follows."
      ]
    },
    {
      "cell_type": "code",
      "execution_count": 1,
      "metadata": {
        "ExecuteTime": {
          "end_time": "2020-10-02T09:05:19.643558Z",
          "start_time": "2020-10-02T09:05:19.639743Z"
        }
      },
      "outputs": [],
      "source": [
        "import json\n",
        "import pandas as pd\n",
        "\n",
        "from gettsim import set_up_policy_environment\n",
        "from gettsim import compute_taxes_and_transfers\n",
        "\n",
        "from gettsim import create_synthetic_data"
      ]
    },
    {
      "cell_type": "markdown",
      "metadata": {},
      "source": [
        "## Loading Policies with `set_up_policy_environment`"
      ]
    },
    {
      "cell_type": "markdown",
      "metadata": {},
      "source": [
        "The function `set_up_policy_environment` allows you to load the policy environment in Germany for a given date. The function returns two objects: \n",
        "\n",
        "- `policy_params` which is a dictionary containing date-specific parameters for the policy environment.\n",
        "\n",
        "- `policy_functions` which is a dictionary containing functions that are necessary to compute quantities in the taxes and transfers system on the provided date and data.\n",
        "\n",
        "Below, we load the policy environment for the year 2020. The exact date for this input will be January 1st, 2020. An exact date would be accepted as an input, too."
      ]
    },
    {
      "cell_type": "code",
      "execution_count": 2,
      "metadata": {},
      "outputs": [],
      "source": [
        "policy_params, policy_functions = set_up_policy_environment(2020)"
      ]
    },
    {
      "cell_type": "markdown",
      "metadata": {},
      "source": [
        "The two objects can be passed on to `compute_taxes_and_transfers` with a number of further inputs to compute outputs for a set of data. Both objects are Python dictionaries that hold information required to set up the  policy environment for the specified date.\n",
        "\n",
        "\n",
        "**Policy Parameters**\n",
        "\n",
        "`policy_params` is a nested dictionary of parameters grouped by different policy types they capture. The output below shows the keys of the main dictionary. The names indicate the policy group."
      ]
    },
    {
      "cell_type": "code",
      "execution_count": 3,
      "metadata": {},
      "outputs": [
        {
          "name": "stdout",
          "output_type": "stream",
          "text": [
            "eink_st\n",
            "eink_st_abzuege\n",
            "soli_st\n",
            "arbeitsl_geld\n",
            "soz_vers_beitr\n",
            "unterhalt\n",
            "abgelt_st\n",
            "wohngeld\n",
            "kinderzuschl\n",
            "kindergeld\n",
            "elterngeld\n",
            "ges_rente\n",
            "arbeitsl_geld_2\n",
            "grunds_im_alter\n"
          ]
        }
      ],
      "source": [
        "print(*policy_params.keys(), sep=\"\\n\")"
      ]
    },
    {
      "cell_type": "markdown",
      "metadata": {},
      "source": [
        "These keys can be used to extract the exact parametrizations for a given policy group. The example below for instance shows the parameters that concern social insurance saved under the key `soz_vers_beitr`."
      ]
    },
    {
      "cell_type": "code",
      "execution_count": 4,
      "metadata": {},
      "outputs": [
        {
          "name": "stdout",
          "output_type": "stream",
          "text": [
            "{\n",
            "    \"beitr_satz\": {\n",
            "        \"ges_krankenv\": {\n",
            "            \"allgemein\": 0.146,\n",
            "            \"ermäßigt\": 0.14,\n",
            "            \"mean_zusatzbeitrag\": 0.011\n",
            "        },\n",
            "        \"ges_pflegev\": {\n",
            "            \"standard\": 0.01525,\n",
            "            \"zusatz_kinderlos\": 0.0025\n",
            "        },\n",
            "        \"arbeitsl_v\": 0.012,\n",
            "        \"ges_rentenv\": 0.093\n",
            "    },\n",
            "    \"beitr_bemess_grenze_m\": {\n",
            "        \"ges_krankenv\": {\n",
            "            \"west\": 4687.5,\n",
            "            \"ost\": 4687.5\n",
            "        },\n",
            "        \"ges_rentenv\": {\n",
            "            \"west\": 6900,\n",
            "            \"ost\": 6450\n",
            "        }\n",
            "    },\n",
            "    \"bezugsgröße_selbst_m\": {\n",
            "        \"west\": 3185,\n",
            "        \"ost\": 3010\n",
            "    },\n",
            "    \"bezugsgröße_selbst_anteil\": 0.75,\n",
            "    \"geringfügige_eink_grenzen_m\": {\n",
            "        \"minijob\": {\n",
            "            \"west\": 450,\n",
            "            \"ost\": 450\n",
            "        },\n",
            "        \"midijob\": 1300\n",
            "    },\n",
            "    \"ag_abgaben_geringf\": {\n",
            "        \"ges_krankenv\": 0.13,\n",
            "        \"ges_rentenv\": 0.15,\n",
            "        \"st\": 0.02\n",
            "    },\n",
            "    \"ges_pflegev_zusatz_kinderlos_mindestalter\": 23,\n",
            "    \"mindestlohn\": 9.35,\n",
            "    \"datum\": \"2020-01-01\",\n",
            "    \"rounding\": {\n",
            "        \"midijob_faktor_f\": {\n",
            "            \"base\": 0.0001,\n",
            "            \"direction\": \"nearest\"\n",
            "        },\n",
            "        \"minijob_grenze_west\": {\n",
            "            \"base\": 1,\n",
            "            \"direction\": \"up\"\n",
            "        },\n",
            "        \"minijob_grenze_ost\": {\n",
            "            \"base\": 1,\n",
            "            \"direction\": \"up\"\n",
            "        }\n",
            "    }\n",
            "}\n"
          ]
        }
      ],
      "source": [
        "params_soz_vers_beitr = policy_params[\"soz_vers_beitr\"]\n",
        "\n",
        "# Print parameters in a nice way\n",
        "print(json.dumps(params_soz_vers_beitr, indent=4, default=str, ensure_ascii=False))"
      ]
    },
    {
      "cell_type": "markdown",
      "metadata": {},
      "source": [
        "**Policy Functions**\n",
        "\n",
        "The dictionary `policy_functions` contains functions of policy reforms that correspond to the chosen date. The dictionary keys correspond to the variables they help compute for input data."
      ]
    },
    {
      "cell_type": "code",
      "execution_count": 5,
      "metadata": {},
      "outputs": [
        {
          "name": "stdout",
          "output_type": "stream",
          "text": [
            "sum_eink\n",
            "alleinerz_freib_tu\n",
            "eink_st_altersfreib\n",
            "eink_st_tu\n",
            "kindergeld_m\n",
            "kindergeld_anspruch\n",
            "eink_st_sonderausgaben_tu\n",
            "vorsorgeaufw\n",
            "wohngeld_eink_freib_m\n",
            "wohngeld_miete_m_hh\n",
            "kinderzuschl_eink_regel_m_tu\n",
            "arbeitsl_geld_2_vermög_freib_hh\n",
            "arbeitsl_geld_2_kost_unterk_m_hh\n",
            "_kinderzuschl_vor_vermög_check_m_tu\n",
            "arbeitsl_geld_2_kindersatz_m_hh\n",
            "arbeitsl_geld_2_regelsatz_m_hh\n",
            "minijob_grenze_west\n",
            "minijob_grenze_ost\n",
            "midijob_faktor_f\n",
            "_arbeitsl_v_beitr_midijob_arbeitg_m\n",
            "_arbeitsl_v_beitr_midijob_arbeitn_m\n",
            "_ges_krankenv_midijob_arbeitg_m\n",
            "_ges_krankenv_midijob_arbeitn_m\n",
            "_ges_pflegev_beitr_midijob_sum_arbeitn_arbeitg_m\n",
            "_ges_pflegev_beitr_midijob_arbeitg_m\n",
            "_ges_pflegev_beitr_midijob_arbeitn_m\n",
            "_ges_rentenv_beitr_midijob_arbeitg_m\n",
            "_ges_rentenv_beitr_midijob_arbeitn_m\n",
            "midijob_bemessungsentgelt_m\n",
            "arbeitsl_geld_2_eink_anr_frei_m\n",
            "ges_rente_m\n",
            "grunds_im_alter_ges_rente_m\n",
            "ges_krankenv_beitr_satz\n",
            "_ges_krankenv_beitr_satz_arbeitg\n"
          ]
        }
      ],
      "source": [
        "print(*policy_functions.keys(), sep=\"\\n\")"
      ]
    },
    {
      "cell_type": "markdown",
      "metadata": {},
      "source": [
        "Both parameters and policy functions are mutable, meaning that GETTSIM not only provides the actual policy environments in Germany for a large range of dates, but also supports changing policies. An extended tutorial on parameters can be found [here](parameters.ipynb) and a tutorial on policy functions is provided [here](policy_functions.ipynb)."
      ]
    },
    {
      "cell_type": "markdown",
      "metadata": {},
      "source": [
        "### Specifying the Date\n",
        "\n",
        "Dates can be specified in various ways. The function `set_up_policy_environment` accepts objects of type str, int, and [datetime](https://docs.python.org/3/library/datetime.html) as inputs to specify a date. If only a year is specified, the policy date will be set to the first day of the year i.e. the inputs `\"2020\"` and `2020` will both return the policy environment for January 1st, 2020. The input `\"2020/03\"` on the other hand will set up the policy environment for March 1st, 2020 since a month and year are specified. Lastly, it is also possible to use a specific day such as `\"2020/03/21\"`, which will return the policy environment for March 21st, 2020."
      ]
    },
    {
      "cell_type": "markdown",
      "metadata": {},
      "source": [
        "## Computing Outputs with `compute_taxes_and_transfers`\n",
        "\n",
        "The policy environment specified by `policy_params` and `policy_functions` can then be applied to simulated or empirical data to compute taxes and transfers for individuals, tax units, and households. This is done via the function `compute_taxes_and_transfers`. The function requires input data and some further arguments to be specified."
      ]
    },
    {
      "cell_type": "markdown",
      "metadata": {},
      "source": [
        "### Data Requirements, Input Columns, and Targets\n",
        "\n",
        "The data has to fulfill certain requirements in order for GETTSIM to be able to process it properly. Specifically, GETTSIM requires data to be specified as a [pandas.DataFrame](https://pandas.pydata.org/pandas-docs/stable/reference/api/pandas.DataFrame.html) with  columns marking different input variables. GETTSIM parses the column names, which means that the data columns must be named in a specific way for GETTSIM to recognize them as input variables.\n",
        "\n",
        "There are a total of 45 input names that GETTSIM recognizes, as especially transfers in the German system depend on many different variables. There is a detailed list of them [here](https://gettsim.readthedocs.io/en/latest/gettsim_objects/variables.html). The information specified in these inputs can be used to compute taxes and transfers for the selected household, tax unit, or individual data. The required inputs depend on the desired outputs i.e. the data set does not necessarily have to contain all 45 input variables. A small example is illustrated below. \n",
        "\n",
        "#### Exemplary Data Set\n",
        "\n",
        "For exemplary purposes, we now create a data set with five observations."
      ]
    },
    {
      "cell_type": "code",
      "execution_count": 6,
      "metadata": {},
      "outputs": [
        {
          "data": {
            "text/html": [
              "<div>\n",
              "<style scoped>\n",
              "    .dataframe tbody tr th:only-of-type {\n",
              "        vertical-align: middle;\n",
              "    }\n",
              "\n",
              "    .dataframe tbody tr th {\n",
              "        vertical-align: top;\n",
              "    }\n",
              "\n",
              "    .dataframe thead th {\n",
              "        text-align: right;\n",
              "    }\n",
              "</style>\n",
              "<table border=\"1\" class=\"dataframe\">\n",
              "  <thead>\n",
              "    <tr style=\"text-align: right;\">\n",
              "      <th></th>\n",
              "      <th>0</th>\n",
              "      <th>1</th>\n",
              "      <th>2</th>\n",
              "      <th>3</th>\n",
              "      <th>4</th>\n",
              "    </tr>\n",
              "  </thead>\n",
              "  <tbody>\n",
              "    <tr>\n",
              "      <th>p_id</th>\n",
              "      <td>0</td>\n",
              "      <td>1</td>\n",
              "      <td>2</td>\n",
              "      <td>3</td>\n",
              "      <td>4</td>\n",
              "    </tr>\n",
              "    <tr>\n",
              "      <th>hh_id</th>\n",
              "      <td>0</td>\n",
              "      <td>0</td>\n",
              "      <td>1</td>\n",
              "      <td>1</td>\n",
              "      <td>1</td>\n",
              "    </tr>\n",
              "    <tr>\n",
              "      <th>tu_id</th>\n",
              "      <td>0</td>\n",
              "      <td>0</td>\n",
              "      <td>1</td>\n",
              "      <td>1</td>\n",
              "      <td>1</td>\n",
              "    </tr>\n",
              "    <tr>\n",
              "      <th>hh_typ</th>\n",
              "      <td>single_1_children</td>\n",
              "      <td>single_1_children</td>\n",
              "      <td>couple_1_children</td>\n",
              "      <td>couple_1_children</td>\n",
              "      <td>couple_1_children</td>\n",
              "    </tr>\n",
              "    <tr>\n",
              "      <th>kind</th>\n",
              "      <td>False</td>\n",
              "      <td>True</td>\n",
              "      <td>False</td>\n",
              "      <td>False</td>\n",
              "      <td>True</td>\n",
              "    </tr>\n",
              "    <tr>\n",
              "      <th>...</th>\n",
              "      <td>...</td>\n",
              "      <td>...</td>\n",
              "      <td>...</td>\n",
              "      <td>...</td>\n",
              "      <td>...</td>\n",
              "    </tr>\n",
              "    <tr>\n",
              "      <th>m_alg1_übergang</th>\n",
              "      <td>0.0</td>\n",
              "      <td>0.0</td>\n",
              "      <td>0.0</td>\n",
              "      <td>0.0</td>\n",
              "      <td>0.0</td>\n",
              "    </tr>\n",
              "    <tr>\n",
              "      <th>m_ersatzzeit</th>\n",
              "      <td>0.0</td>\n",
              "      <td>0.0</td>\n",
              "      <td>0.0</td>\n",
              "      <td>0.0</td>\n",
              "      <td>0.0</td>\n",
              "    </tr>\n",
              "    <tr>\n",
              "      <th>m_kind_berücks_zeit</th>\n",
              "      <td>24.0</td>\n",
              "      <td>24.0</td>\n",
              "      <td>24.0</td>\n",
              "      <td>24.0</td>\n",
              "      <td>24.0</td>\n",
              "    </tr>\n",
              "    <tr>\n",
              "      <th>m_pfleg_berücks_zeit</th>\n",
              "      <td>1.0</td>\n",
              "      <td>1.0</td>\n",
              "      <td>1.0</td>\n",
              "      <td>1.0</td>\n",
              "      <td>1.0</td>\n",
              "    </tr>\n",
              "    <tr>\n",
              "      <th>y_pflichtbeitr_ab_40</th>\n",
              "      <td>0.0</td>\n",
              "      <td>0.0</td>\n",
              "      <td>0.0</td>\n",
              "      <td>0.0</td>\n",
              "      <td>0.0</td>\n",
              "    </tr>\n",
              "  </tbody>\n",
              "</table>\n",
              "<p>61 rows × 5 columns</p>\n",
              "</div>"
            ],
            "text/plain": [
              "                                      0                  1                  2  \\\n",
              "p_id                                  0                  1                  2   \n",
              "hh_id                                 0                  0                  1   \n",
              "tu_id                                 0                  0                  1   \n",
              "hh_typ                single_1_children  single_1_children  couple_1_children   \n",
              "kind                              False               True              False   \n",
              "...                                 ...                ...                ...   \n",
              "m_alg1_übergang                     0.0                0.0                0.0   \n",
              "m_ersatzzeit                        0.0                0.0                0.0   \n",
              "m_kind_berücks_zeit                24.0               24.0               24.0   \n",
              "m_pfleg_berücks_zeit                1.0                1.0                1.0   \n",
              "y_pflichtbeitr_ab_40                0.0                0.0                0.0   \n",
              "\n",
              "                                      3                  4  \n",
              "p_id                                  3                  4  \n",
              "hh_id                                 1                  1  \n",
              "tu_id                                 1                  1  \n",
              "hh_typ                couple_1_children  couple_1_children  \n",
              "kind                              False               True  \n",
              "...                                 ...                ...  \n",
              "m_alg1_übergang                     0.0                0.0  \n",
              "m_ersatzzeit                        0.0                0.0  \n",
              "m_kind_berücks_zeit                24.0               24.0  \n",
              "m_pfleg_berücks_zeit                1.0                1.0  \n",
              "y_pflichtbeitr_ab_40                0.0                0.0  \n",
              "\n",
              "[61 rows x 5 columns]"
            ]
          },
          "execution_count": 6,
          "metadata": {},
          "output_type": "execute_result"
        }
      ],
      "source": [
        "data = create_synthetic_data(hh_typen=[\"single\", \"couple\"], n_children=[1], bruttolohn=2000.0)\n",
        "# Transpose data for better readability\n",
        "data.T"
      ]
    },
    {
      "cell_type": "markdown",
      "metadata": {},
      "source": [
        "This minimal example illustrates some of the naming conventions of input columns:\n",
        "\n",
        "* There are three identifiers: `p_id` identifies a person, `tu_id` a tax unit, and `hh_id` a household. In this case, we data consists of two households.\n",
        "\n",
        "* `_m` means, that the variable labeled with this suffix is a monthly variable. Variables without this suffix are always on a yearly basis.\n",
        "\n",
        "* `_tu` and `_hh` mean, that the variable is to be interpreted on tax unit level, or on household level, respectively. Variables without these suffixes are always on individual level."
      ]
    },
    {
      "cell_type": "markdown",
      "metadata": {},
      "source": [
        "#### Defining Targets\n",
        "\n",
        "We first have to select targets i.e. output variables that should be computed for our exemplary observation. In this case we select the four types of social insurance contributions the individuals will have to pay based on their specified information."
      ]
    },
    {
      "cell_type": "code",
      "execution_count": 7,
      "metadata": {},
      "outputs": [],
      "source": [
        "# Create list of target variables.\n",
        "targets = [\n",
        "    \"ges_krankenv_beitr_m\",\n",
        "    \"ges_rentenv_beitr_m\",\n",
        "    \"arbeitsl_v_beitr_m\",\n",
        "    \"ges_pflegev_beitr_m\",\n",
        "]"
      ]
    },
    {
      "cell_type": "markdown",
      "metadata": {},
      "source": [
        "### Applying `compute_taxes_and_transfers` to Calculate Outputs\n",
        "\n",
        "Given the information specified above, we now use `compute_taxes_and_transfers` to compute the variables of interest given by `targets` for our `data` in the selected policy environment given by `policy_params` and `policy_functions`. The function returns a pandas.DataFrame where the columns contain the target variables."
      ]
    },
    {
      "cell_type": "code",
      "execution_count": 8,
      "metadata": {},
      "outputs": [
        {
          "data": {
            "text/html": [
              "<div>\n",
              "<style scoped>\n",
              "    .dataframe tbody tr th:only-of-type {\n",
              "        vertical-align: middle;\n",
              "    }\n",
              "\n",
              "    .dataframe tbody tr th {\n",
              "        vertical-align: top;\n",
              "    }\n",
              "\n",
              "    .dataframe thead th {\n",
              "        text-align: right;\n",
              "    }\n",
              "</style>\n",
              "<table border=\"1\" class=\"dataframe\">\n",
              "  <thead>\n",
              "    <tr style=\"text-align: right;\">\n",
              "      <th></th>\n",
              "      <th>hh_id</th>\n",
              "      <th>tu_id</th>\n",
              "      <th>p_id</th>\n",
              "      <th>arbeitsl_v_beitr_m</th>\n",
              "      <th>ges_krankenv_beitr_m</th>\n",
              "      <th>ges_pflegev_beitr_m</th>\n",
              "      <th>ges_rentenv_beitr_m</th>\n",
              "    </tr>\n",
              "  </thead>\n",
              "  <tbody>\n",
              "    <tr>\n",
              "      <th>0</th>\n",
              "      <td>0</td>\n",
              "      <td>0</td>\n",
              "      <td>0</td>\n",
              "      <td>24.0</td>\n",
              "      <td>157.0</td>\n",
              "      <td>30.5</td>\n",
              "      <td>186.0</td>\n",
              "    </tr>\n",
              "    <tr>\n",
              "      <th>1</th>\n",
              "      <td>0</td>\n",
              "      <td>0</td>\n",
              "      <td>1</td>\n",
              "      <td>0.0</td>\n",
              "      <td>0.0</td>\n",
              "      <td>0.0</td>\n",
              "      <td>0.0</td>\n",
              "    </tr>\n",
              "    <tr>\n",
              "      <th>2</th>\n",
              "      <td>1</td>\n",
              "      <td>1</td>\n",
              "      <td>2</td>\n",
              "      <td>24.0</td>\n",
              "      <td>157.0</td>\n",
              "      <td>30.5</td>\n",
              "      <td>186.0</td>\n",
              "    </tr>\n",
              "    <tr>\n",
              "      <th>3</th>\n",
              "      <td>1</td>\n",
              "      <td>1</td>\n",
              "      <td>3</td>\n",
              "      <td>0.0</td>\n",
              "      <td>0.0</td>\n",
              "      <td>0.0</td>\n",
              "      <td>0.0</td>\n",
              "    </tr>\n",
              "    <tr>\n",
              "      <th>4</th>\n",
              "      <td>1</td>\n",
              "      <td>1</td>\n",
              "      <td>4</td>\n",
              "      <td>0.0</td>\n",
              "      <td>0.0</td>\n",
              "      <td>0.0</td>\n",
              "      <td>0.0</td>\n",
              "    </tr>\n",
              "  </tbody>\n",
              "</table>\n",
              "</div>"
            ],
            "text/plain": [
              "   hh_id  tu_id  p_id  arbeitsl_v_beitr_m  ges_krankenv_beitr_m  \\\n",
              "0      0      0     0                24.0                 157.0   \n",
              "1      0      0     1                 0.0                   0.0   \n",
              "2      1      1     2                24.0                 157.0   \n",
              "3      1      1     3                 0.0                   0.0   \n",
              "4      1      1     4                 0.0                   0.0   \n",
              "\n",
              "   ges_pflegev_beitr_m  ges_rentenv_beitr_m  \n",
              "0                 30.5                186.0  \n",
              "1                  0.0                  0.0  \n",
              "2                 30.5                186.0  \n",
              "3                  0.0                  0.0  \n",
              "4                  0.0                  0.0  "
            ]
          },
          "execution_count": 8,
          "metadata": {},
          "output_type": "execute_result"
        }
      ],
      "source": [
        "result = compute_taxes_and_transfers(\n",
        "    data=data, functions=policy_functions, params=policy_params, targets=targets,\n",
        ")\n",
        "result.round(2)"
      ]
    },
    {
      "cell_type": "markdown",
      "metadata": {},
      "source": [
        "Lastly, we can join the results with the input data to save everything in a single pandas.DataFrame."
      ]
    },
    {
      "cell_type": "code",
      "execution_count": 9,
      "metadata": {},
      "outputs": [
        {
          "ename": "ValueError",
          "evalue": "columns overlap but no suffix specified: Index(['p_id', 'hh_id', 'tu_id'], dtype='object')",
          "output_type": "error",
          "traceback": [
            "\u001b[0;31m---------------------------------------------------------------------------\u001b[0m",
            "\u001b[0;31mValueError\u001b[0m                                Traceback (most recent call last)",
            "Cell \u001b[0;32mIn[9], line 1\u001b[0m\n\u001b[0;32m----> 1\u001b[0m data\u001b[39m.\u001b[39;49mjoin(result)\u001b[39m.\u001b[39mT\n",
            "File \u001b[0;32m~/miniconda3/envs/gettsim/lib/python3.11/site-packages/pandas/core/frame.py:9976\u001b[0m, in \u001b[0;36mDataFrame.join\u001b[0;34m(self, other, on, how, lsuffix, rsuffix, sort, validate)\u001b[0m\n\u001b[1;32m   9813\u001b[0m \u001b[39mdef\u001b[39;00m \u001b[39mjoin\u001b[39m(\n\u001b[1;32m   9814\u001b[0m     \u001b[39mself\u001b[39m,\n\u001b[1;32m   9815\u001b[0m     other: DataFrame \u001b[39m|\u001b[39m Series \u001b[39m|\u001b[39m \u001b[39mlist\u001b[39m[DataFrame \u001b[39m|\u001b[39m Series],\n\u001b[0;32m   (...)\u001b[0m\n\u001b[1;32m   9821\u001b[0m     validate: \u001b[39mstr\u001b[39m \u001b[39m|\u001b[39m \u001b[39mNone\u001b[39;00m \u001b[39m=\u001b[39m \u001b[39mNone\u001b[39;00m,\n\u001b[1;32m   9822\u001b[0m ) \u001b[39m-\u001b[39m\u001b[39m>\u001b[39m DataFrame:\n\u001b[1;32m   9823\u001b[0m     \u001b[39m\"\"\"\u001b[39;00m\n\u001b[1;32m   9824\u001b[0m \u001b[39m    Join columns of another DataFrame.\u001b[39;00m\n\u001b[1;32m   9825\u001b[0m \n\u001b[0;32m   (...)\u001b[0m\n\u001b[1;32m   9974\u001b[0m \u001b[39m    5  K1  A5   B1\u001b[39;00m\n\u001b[1;32m   9975\u001b[0m \u001b[39m    \"\"\"\u001b[39;00m\n\u001b[0;32m-> 9976\u001b[0m     \u001b[39mreturn\u001b[39;00m \u001b[39mself\u001b[39;49m\u001b[39m.\u001b[39;49m_join_compat(\n\u001b[1;32m   9977\u001b[0m         other,\n\u001b[1;32m   9978\u001b[0m         on\u001b[39m=\u001b[39;49mon,\n\u001b[1;32m   9979\u001b[0m         how\u001b[39m=\u001b[39;49mhow,\n\u001b[1;32m   9980\u001b[0m         lsuffix\u001b[39m=\u001b[39;49mlsuffix,\n\u001b[1;32m   9981\u001b[0m         rsuffix\u001b[39m=\u001b[39;49mrsuffix,\n\u001b[1;32m   9982\u001b[0m         sort\u001b[39m=\u001b[39;49msort,\n\u001b[1;32m   9983\u001b[0m         validate\u001b[39m=\u001b[39;49mvalidate,\n\u001b[1;32m   9984\u001b[0m     )\n",
            "File \u001b[0;32m~/miniconda3/envs/gettsim/lib/python3.11/site-packages/pandas/core/frame.py:10015\u001b[0m, in \u001b[0;36mDataFrame._join_compat\u001b[0;34m(self, other, on, how, lsuffix, rsuffix, sort, validate)\u001b[0m\n\u001b[1;32m  10005\u001b[0m     \u001b[39mif\u001b[39;00m how \u001b[39m==\u001b[39m \u001b[39m\"\u001b[39m\u001b[39mcross\u001b[39m\u001b[39m\"\u001b[39m:\n\u001b[1;32m  10006\u001b[0m         \u001b[39mreturn\u001b[39;00m merge(\n\u001b[1;32m  10007\u001b[0m             \u001b[39mself\u001b[39m,\n\u001b[1;32m  10008\u001b[0m             other,\n\u001b[0;32m   (...)\u001b[0m\n\u001b[1;32m  10013\u001b[0m             validate\u001b[39m=\u001b[39mvalidate,\n\u001b[1;32m  10014\u001b[0m         )\n\u001b[0;32m> 10015\u001b[0m     \u001b[39mreturn\u001b[39;00m merge(\n\u001b[1;32m  10016\u001b[0m         \u001b[39mself\u001b[39;49m,\n\u001b[1;32m  10017\u001b[0m         other,\n\u001b[1;32m  10018\u001b[0m         left_on\u001b[39m=\u001b[39;49mon,\n\u001b[1;32m  10019\u001b[0m         how\u001b[39m=\u001b[39;49mhow,\n\u001b[1;32m  10020\u001b[0m         left_index\u001b[39m=\u001b[39;49mon \u001b[39mis\u001b[39;49;00m \u001b[39mNone\u001b[39;49;00m,\n\u001b[1;32m  10021\u001b[0m         right_index\u001b[39m=\u001b[39;49m\u001b[39mTrue\u001b[39;49;00m,\n\u001b[1;32m  10022\u001b[0m         suffixes\u001b[39m=\u001b[39;49m(lsuffix, rsuffix),\n\u001b[1;32m  10023\u001b[0m         sort\u001b[39m=\u001b[39;49msort,\n\u001b[1;32m  10024\u001b[0m         validate\u001b[39m=\u001b[39;49mvalidate,\n\u001b[1;32m  10025\u001b[0m     )\n\u001b[1;32m  10026\u001b[0m \u001b[39melse\u001b[39;00m:\n\u001b[1;32m  10027\u001b[0m     \u001b[39mif\u001b[39;00m on \u001b[39mis\u001b[39;00m \u001b[39mnot\u001b[39;00m \u001b[39mNone\u001b[39;00m:\n",
            "File \u001b[0;32m~/miniconda3/envs/gettsim/lib/python3.11/site-packages/pandas/core/reshape/merge.py:124\u001b[0m, in \u001b[0;36mmerge\u001b[0;34m(left, right, how, on, left_on, right_on, left_index, right_index, sort, suffixes, copy, indicator, validate)\u001b[0m\n\u001b[1;32m     93\u001b[0m \u001b[39m@Substitution\u001b[39m(\u001b[39m\"\u001b[39m\u001b[39m\\n\u001b[39;00m\u001b[39mleft : DataFrame or named Series\u001b[39m\u001b[39m\"\u001b[39m)\n\u001b[1;32m     94\u001b[0m \u001b[39m@Appender\u001b[39m(_merge_doc, indents\u001b[39m=\u001b[39m\u001b[39m0\u001b[39m)\n\u001b[1;32m     95\u001b[0m \u001b[39mdef\u001b[39;00m \u001b[39mmerge\u001b[39m(\n\u001b[0;32m   (...)\u001b[0m\n\u001b[1;32m    108\u001b[0m     validate: \u001b[39mstr\u001b[39m \u001b[39m|\u001b[39m \u001b[39mNone\u001b[39;00m \u001b[39m=\u001b[39m \u001b[39mNone\u001b[39;00m,\n\u001b[1;32m    109\u001b[0m ) \u001b[39m-\u001b[39m\u001b[39m>\u001b[39m DataFrame:\n\u001b[1;32m    110\u001b[0m     op \u001b[39m=\u001b[39m _MergeOperation(\n\u001b[1;32m    111\u001b[0m         left,\n\u001b[1;32m    112\u001b[0m         right,\n\u001b[0;32m   (...)\u001b[0m\n\u001b[1;32m    122\u001b[0m         validate\u001b[39m=\u001b[39mvalidate,\n\u001b[1;32m    123\u001b[0m     )\n\u001b[0;32m--> 124\u001b[0m     \u001b[39mreturn\u001b[39;00m op\u001b[39m.\u001b[39;49mget_result(copy\u001b[39m=\u001b[39;49mcopy)\n",
            "File \u001b[0;32m~/miniconda3/envs/gettsim/lib/python3.11/site-packages/pandas/core/reshape/merge.py:775\u001b[0m, in \u001b[0;36m_MergeOperation.get_result\u001b[0;34m(self, copy)\u001b[0m\n\u001b[1;32m    771\u001b[0m     \u001b[39mself\u001b[39m\u001b[39m.\u001b[39mleft, \u001b[39mself\u001b[39m\u001b[39m.\u001b[39mright \u001b[39m=\u001b[39m \u001b[39mself\u001b[39m\u001b[39m.\u001b[39m_indicator_pre_merge(\u001b[39mself\u001b[39m\u001b[39m.\u001b[39mleft, \u001b[39mself\u001b[39m\u001b[39m.\u001b[39mright)\n\u001b[1;32m    773\u001b[0m join_index, left_indexer, right_indexer \u001b[39m=\u001b[39m \u001b[39mself\u001b[39m\u001b[39m.\u001b[39m_get_join_info()\n\u001b[0;32m--> 775\u001b[0m result \u001b[39m=\u001b[39m \u001b[39mself\u001b[39;49m\u001b[39m.\u001b[39;49m_reindex_and_concat(\n\u001b[1;32m    776\u001b[0m     join_index, left_indexer, right_indexer, copy\u001b[39m=\u001b[39;49mcopy\n\u001b[1;32m    777\u001b[0m )\n\u001b[1;32m    778\u001b[0m result \u001b[39m=\u001b[39m result\u001b[39m.\u001b[39m__finalize__(\u001b[39mself\u001b[39m, method\u001b[39m=\u001b[39m\u001b[39mself\u001b[39m\u001b[39m.\u001b[39m_merge_type)\n\u001b[1;32m    780\u001b[0m \u001b[39mif\u001b[39;00m \u001b[39mself\u001b[39m\u001b[39m.\u001b[39mindicator:\n",
            "File \u001b[0;32m~/miniconda3/envs/gettsim/lib/python3.11/site-packages/pandas/core/reshape/merge.py:729\u001b[0m, in \u001b[0;36m_MergeOperation._reindex_and_concat\u001b[0;34m(self, join_index, left_indexer, right_indexer, copy)\u001b[0m\n\u001b[1;32m    726\u001b[0m left \u001b[39m=\u001b[39m \u001b[39mself\u001b[39m\u001b[39m.\u001b[39mleft[:]\n\u001b[1;32m    727\u001b[0m right \u001b[39m=\u001b[39m \u001b[39mself\u001b[39m\u001b[39m.\u001b[39mright[:]\n\u001b[0;32m--> 729\u001b[0m llabels, rlabels \u001b[39m=\u001b[39m _items_overlap_with_suffix(\n\u001b[1;32m    730\u001b[0m     \u001b[39mself\u001b[39;49m\u001b[39m.\u001b[39;49mleft\u001b[39m.\u001b[39;49m_info_axis, \u001b[39mself\u001b[39;49m\u001b[39m.\u001b[39;49mright\u001b[39m.\u001b[39;49m_info_axis, \u001b[39mself\u001b[39;49m\u001b[39m.\u001b[39;49msuffixes\n\u001b[1;32m    731\u001b[0m )\n\u001b[1;32m    733\u001b[0m \u001b[39mif\u001b[39;00m left_indexer \u001b[39mis\u001b[39;00m \u001b[39mnot\u001b[39;00m \u001b[39mNone\u001b[39;00m:\n\u001b[1;32m    734\u001b[0m     \u001b[39m# Pinning the index here (and in the right code just below) is not\u001b[39;00m\n\u001b[1;32m    735\u001b[0m     \u001b[39m#  necessary, but makes the `.take` more performant if we have e.g.\u001b[39;00m\n\u001b[1;32m    736\u001b[0m     \u001b[39m#  a MultiIndex for left.index.\u001b[39;00m\n\u001b[1;32m    737\u001b[0m     lmgr \u001b[39m=\u001b[39m left\u001b[39m.\u001b[39m_mgr\u001b[39m.\u001b[39mreindex_indexer(\n\u001b[1;32m    738\u001b[0m         join_index,\n\u001b[1;32m    739\u001b[0m         left_indexer,\n\u001b[0;32m   (...)\u001b[0m\n\u001b[1;32m    744\u001b[0m         use_na_proxy\u001b[39m=\u001b[39m\u001b[39mTrue\u001b[39;00m,\n\u001b[1;32m    745\u001b[0m     )\n",
            "File \u001b[0;32m~/miniconda3/envs/gettsim/lib/python3.11/site-packages/pandas/core/reshape/merge.py:2458\u001b[0m, in \u001b[0;36m_items_overlap_with_suffix\u001b[0;34m(left, right, suffixes)\u001b[0m\n\u001b[1;32m   2455\u001b[0m lsuffix, rsuffix \u001b[39m=\u001b[39m suffixes\n\u001b[1;32m   2457\u001b[0m \u001b[39mif\u001b[39;00m \u001b[39mnot\u001b[39;00m lsuffix \u001b[39mand\u001b[39;00m \u001b[39mnot\u001b[39;00m rsuffix:\n\u001b[0;32m-> 2458\u001b[0m     \u001b[39mraise\u001b[39;00m \u001b[39mValueError\u001b[39;00m(\u001b[39mf\u001b[39m\u001b[39m\"\u001b[39m\u001b[39mcolumns overlap but no suffix specified: \u001b[39m\u001b[39m{\u001b[39;00mto_rename\u001b[39m}\u001b[39;00m\u001b[39m\"\u001b[39m)\n\u001b[1;32m   2460\u001b[0m \u001b[39mdef\u001b[39;00m \u001b[39mrenamer\u001b[39m(x, suffix):\n\u001b[1;32m   2461\u001b[0m     \u001b[39m\"\"\"\u001b[39;00m\n\u001b[1;32m   2462\u001b[0m \u001b[39m    Rename the left and right indices.\u001b[39;00m\n\u001b[1;32m   2463\u001b[0m \n\u001b[0;32m   (...)\u001b[0m\n\u001b[1;32m   2474\u001b[0m \u001b[39m    x : renamed column name\u001b[39;00m\n\u001b[1;32m   2475\u001b[0m \u001b[39m    \"\"\"\u001b[39;00m\n",
            "\u001b[0;31mValueError\u001b[0m: columns overlap but no suffix specified: Index(['p_id', 'hh_id', 'tu_id'], dtype='object')"
          ]
        }
      ],
      "source": [
        "data.join(result).T"
      ]
    }
  ],
  "metadata": {
    "kernelspec": {
      "display_name": "Python 3",
      "language": "python",
      "name": "python3"
    },
    "language_info": {
      "codemirror_mode": {
        "name": "ipython",
        "version": 3
      },
      "file_extension": ".py",
      "mimetype": "text/x-python",
      "name": "python",
      "nbconvert_exporter": "python",
      "pygments_lexer": "ipython3",
      "version": "3.11.0"
    },
    "toc": {
      "base_numbering": 1,
      "nav_menu": {},
      "number_sections": true,
      "sideBar": true,
      "skip_h1_title": false,
      "title_cell": "Table of Contents",
      "title_sidebar": "Contents",
      "toc_cell": false,
      "toc_position": {},
      "toc_section_display": true,
      "toc_window_display": false
    },
    "varInspector": {
      "cols": {
        "lenName": 16,
        "lenType": 16,
        "lenVar": 40
      },
      "kernels_config": {
        "python": {
          "delete_cmd_postfix": "",
          "delete_cmd_prefix": "del ",
          "library": "var_list.py",
          "varRefreshCmd": "print(var_dic_list())"
        },
        "r": {
          "delete_cmd_postfix": ") ",
          "delete_cmd_prefix": "rm(",
          "library": "var_list.r",
          "varRefreshCmd": "cat(var_dic_list()) "
        }
      },
      "types_to_exclude": [
        "module",
        "function",
        "builtin_function_or_method",
        "instance",
        "_Feature"
      ],
      "window_display": false
    },
    "vscode": {
      "interpreter": {
        "hash": "a7ef7df5bd47ff490cfd86bc52beab30c1673a29666f06a073dff89a54c46fe5"
      }
    }
  },
  "nbformat": 4,
  "nbformat_minor": 4
}
