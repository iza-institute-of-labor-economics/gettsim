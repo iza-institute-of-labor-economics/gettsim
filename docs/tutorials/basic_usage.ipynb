{
 "cells": [
  {
   "cell_type": "markdown",
   "metadata": {},
   "source": [
    "# Basic Usage"
   ]
  },
  {
   "cell_type": "markdown",
   "metadata": {},
   "source": [
    "This tutorial covers the basics of GETTSIM's interface to get you started with the package. GETTSIM enables an almost complete simulation of the German taxes and transfers system which makes it interesting for both students and researchers. Its extensive coverage of taxes and social policies in Germany makes it a valuable educational tool to learn about the current and past German policy environment. Simultaneously, GETTSIM's capabilities to process household data and compute according taxes and transfers make it a powerful tool that can be used for advanced microsimulations.\n",
    "\n",
    "The interface consists of two central functions:\n",
    "\n",
    "1. `set_up_policy_environment` which loads a policy environment for a specified date.\n",
    "\n",
    "2. `compute_taxes_and_transfers` which allows you to compute taxes and transfers given a specified policy environment for household or individual observations.\n",
    "\n",
    "The following sections give a brief introduction to these two functions using a minimal working example. The necessary packages and GETTSIM functions can be imported into your notebook as follows."
   ]
  },
  {
   "cell_type": "code",
   "execution_count": null,
   "metadata": {},
   "outputs": [],
   "source": [
    "from gettsim import (\n",
    "    compute_taxes_and_transfers,\n",
    "    create_synthetic_data,\n",
    "    set_up_policy_environment,\n",
    ")"
   ]
  },
  {
   "cell_type": "markdown",
   "metadata": {},
   "source": [
    "## Loading Policies with `set_up_policy_environment`"
   ]
  },
  {
   "cell_type": "markdown",
   "metadata": {},
   "source": [
    "The function `set_up_policy_environment` allows you to load the policy environment in Germany for a given date. The function returns two objects: \n",
    "\n",
    "- `policy_params` which is a dictionary containing date-specific parameters for the policy environment.\n",
    "\n",
    "- `policy_functions` which is a dictionary containing functions that are necessary to compute quantities in the taxes and transfers system on the provided date and data.\n",
    "\n",
    "Below, we load the policy environment for the year 2020. The exact date for this input will be January 1st, 2020. An exact date would be accepted as an input, too."
   ]
  },
  {
   "cell_type": "code",
   "execution_count": null,
   "metadata": {},
   "outputs": [],
   "source": [
    "policy_params, policy_functions = set_up_policy_environment(2020)"
   ]
  },
  {
   "cell_type": "markdown",
   "metadata": {},
   "source": [
    "The two objects can be passed on to `compute_taxes_and_transfers` with a number of further inputs to compute outputs for a set of data. Both objects are Python dictionaries that hold information required to set up the  policy environment for the specified date.\n",
    "\n",
    "\n",
    "**Policy Parameters**\n",
    "\n",
    "`policy_params` is a nested dictionary of parameters grouped by different policy types they capture. The output below shows the keys of the main dictionary. The names indicate the policy group."
   ]
  },
  {
   "cell_type": "markdown",
   "metadata": {},
   "source": [
    "These keys can be used to extract the exact parametrizations for a given policy group. The example below for instance shows the parameters that concern social insurance saved under the key `sozialv_beitr`."
   ]
  },
  {
   "cell_type": "code",
   "execution_count": null,
   "metadata": {},
   "outputs": [],
   "source": [
    "params_sozialv_beitr = policy_params[\"sozialv_beitr\"]\n",
    "\n",
    "# Print parameters in a nice way"
   ]
  },
  {
   "cell_type": "markdown",
   "metadata": {},
   "source": [
    "**Policy Functions**\n",
    "\n",
    "The dictionary `policy_functions` contains functions of policy reforms that correspond to the chosen date. The dictionary keys correspond to the variables they help compute for input data."
   ]
  },
  {
   "cell_type": "markdown",
   "metadata": {},
   "source": [
    "Both parameters and policy functions are mutable, meaning that GETTSIM not only provides the actual policy environments in Germany for a large range of dates, but also supports changing policies. An extended tutorial on parameters can be found [here](parameters.ipynb) and a tutorial on policy functions is provided [here](policy_functions.ipynb)."
   ]
  },
  {
   "cell_type": "markdown",
   "metadata": {},
   "source": [
    "### Specifying the Date\n",
    "\n",
    "Dates can be specified in various ways. The function `set_up_policy_environment` accepts objects of type str, int, and [datetime](https://docs.python.org/3/library/datetime.html) as inputs to specify a date. If only a year is specified, the policy date will be set to the first day of the year i.e. the inputs `\"2020\"` and `2020` will both return the policy environment for January 1st, 2020. The input `\"2020/03\"` on the other hand will set up the policy environment for March 1st, 2020 since a month and year are specified. Lastly, it is also possible to use a specific day such as `\"2020/03/21\"`, which will return the policy environment for March 21st, 2020."
   ]
  },
  {
   "cell_type": "markdown",
   "metadata": {},
   "source": [
    "## Computing Outputs with `compute_taxes_and_transfers`\n",
    "\n",
    "The policy environment specified by `policy_params` and `policy_functions` can then be applied to simulated or empirical data to compute taxes and transfers for individuals, tax units, and households. This is done via the function `compute_taxes_and_transfers`. The function requires input data and some further arguments to be specified."
   ]
  },
  {
   "cell_type": "markdown",
   "metadata": {},
   "source": [
    "### Data Requirements, Input Columns, and Targets\n",
    "\n",
    "The data has to fulfill certain requirements in order for GETTSIM to be able to process it properly. Specifically, GETTSIM requires data to be specified as a [pandas.DataFrame](https://pandas.pydata.org/pandas-docs/stable/reference/api/pandas.DataFrame.html) with  columns marking different input variables. GETTSIM parses the column names, which means that the data columns must be named in a specific way for GETTSIM to recognize them as input variables.\n",
    "\n",
    "There are a total of 45 input names that GETTSIM recognizes, as especially transfers in the German system depend on many different variables. There is a detailed list of them [here](https://gettsim.readthedocs.io/en/latest/gettsim_objects/variables.html). The information specified in these inputs can be used to compute taxes and transfers for the selected household, tax unit, or individual data. The required inputs depend on the desired outputs i.e. the data set does not necessarily have to contain all 45 input variables. A small example is illustrated below. \n",
    "\n",
    "#### Exemplary Data Set\n",
    "\n",
    "For exemplary purposes, we now create a data set with five observations."
   ]
  },
  {
   "cell_type": "code",
   "execution_count": null,
   "metadata": {},
   "outputs": [],
   "source": [
    "data = create_synthetic_data(\n",
    "    hh_typen=[\"single\", \"couple\"], n_children=[1], bruttolohn=2000.0\n",
    ")\n",
    "# Transpose data for better readability\n",
    "data.T"
   ]
  },
  {
   "cell_type": "markdown",
   "metadata": {},
   "source": [
    "This minimal example illustrates some of the naming conventions of input columns:\n",
    "\n",
    "* There are three identifiers: `p_id` identifies a person, `tu_id` a tax unit, and `hh_id` a household. In this case, we data consists of two households.\n",
    "\n",
    "* `_m` means, that the variable labeled with this suffix is a monthly variable. Variables without this suffix are always on a yearly basis.\n",
    "\n",
    "* `_tu` and `_hh` mean, that the variable is to be interpreted on tax unit level, or on household level, respectively. Variables without these suffixes are always on individual level."
   ]
  },
  {
   "cell_type": "markdown",
   "metadata": {},
   "source": [
    "#### Defining Targets\n",
    "\n",
    "We first have to select targets i.e. output variables that should be computed for our exemplary observation. In this case we select the four types of social insurance contributions the individuals will have to pay based on their specified information."
   ]
  },
  {
   "cell_type": "code",
   "execution_count": null,
   "metadata": {},
   "outputs": [],
   "source": [
    "# Create list of target variables.\n",
    "targets = [\n",
    "    \"ges_krankenv_beitr_m\",\n",
    "    \"ges_rentenv_beitr_m\",\n",
    "    \"arbeitsl_v_beitr_m\",\n",
    "    \"ges_pflegev_beitr_m\",\n",
    "]"
   ]
  },
  {
   "cell_type": "markdown",
   "metadata": {},
   "source": [
    "### Applying `compute_taxes_and_transfers` to Calculate Outputs\n",
    "\n",
    "Given the information specified above, we now use `compute_taxes_and_transfers` to compute the variables of interest given by `targets` for our `data` in the selected policy environment given by `policy_params` and `policy_functions`. The function returns a pandas.DataFrame where the columns contain the target variables."
   ]
  },
  {
   "cell_type": "code",
   "execution_count": null,
   "metadata": {},
   "outputs": [],
   "source": [
    "result = compute_taxes_and_transfers(\n",
    "    data=data,\n",
    "    functions=policy_functions,\n",
    "    params=policy_params,\n",
    "    targets=targets,\n",
    ")\n",
    "result.round(2)"
   ]
  },
  {
   "cell_type": "markdown",
   "metadata": {},
   "source": [
    "Lastly, we can join the results with the input data to save everything in a single pandas.DataFrame."
   ]
  },
  {
   "cell_type": "code",
   "execution_count": null,
   "metadata": {},
   "outputs": [],
   "source": [
    "data.join(result).T"
   ]
  }
 ],
 "metadata": {
  "language_info": {
   "codemirror_mode": {
    "name": "ipython",
    "version": 3
   },
   "file_extension": ".py",
   "mimetype": "text/x-python",
   "name": "python",
   "nbconvert_exporter": "python",
   "pygments_lexer": "ipython3"
  },
  "toc": {
   "base_numbering": 1,
   "nav_menu": {},
   "number_sections": true,
   "sideBar": true,
   "skip_h1_title": false,
   "title_cell": "Table of Contents",
   "title_sidebar": "Contents",
   "toc_cell": false,
   "toc_position": {},
   "toc_section_display": true,
   "toc_window_display": false
  },
  "varInspector": {
   "cols": {
    "lenName": 16,
    "lenType": 16,
    "lenVar": 40
   },
   "kernels_config": {
    "python": {
     "delete_cmd_postfix": "",
     "delete_cmd_prefix": "del ",
     "library": "var_list.py",
     "varRefreshCmd": "print(var_dic_list())"
    },
    "r": {
     "delete_cmd_postfix": ") ",
     "delete_cmd_prefix": "rm(",
     "library": "var_list.r",
     "varRefreshCmd": "cat(var_dic_list()) "
    }
   },
   "types_to_exclude": [
    "module",
    "function",
    "builtin_function_or_method",
    "instance",
    "_Feature"
   ],
   "window_display": false
  }
 },
 "nbformat": 4,
 "nbformat_minor": 4
}
