{
 "cells": [
  {
   "cell_type": "markdown",
   "metadata": {},
   "source": [
    "# Troubleshooting\n",
    "\n",
    "Eventually, all code will fail. Even GETTSIM's and your code is no exception. Therefore, GETTSIM offers a debug mode for the function `compute_taxes_and_transfers` which helps you to find the source of the error.\n",
    "\n",
    "Let us take the same example as used in the [tutorial on basic usage](basic_usage.ipynb), but reduced to the computation of `ges_rentenv_beitr_m` which are the monthly contribution to the pension insurance."
   ]
  },
  {
   "cell_type": "code",
   "execution_count": null,
   "metadata": {},
   "outputs": [],
   "source": [
    "import pandas as pd\n",
    "from gettsim import compute_taxes_and_transfers, set_up_policy_environment"
   ]
  },
  {
   "cell_type": "markdown",
   "metadata": {},
   "source": [
    "In the following cell, we create all necessary data to run the example."
   ]
  },
  {
   "cell_type": "code",
   "execution_count": null,
   "metadata": {},
   "outputs": [],
   "source": [
    "data = pd.DataFrame(\n",
    "    {\n",
    "        \"p_id\": 1,\n",
    "        \"hh_id\": 1,\n",
    "        \"bruttolohn_m\": 1000.0,\n",
    "        \"wohnort_ost\": False,\n",
    "    },\n",
    "    index=[0],\n",
    ")\n",
    "data"
   ]
  },
  {
   "cell_type": "code",
   "execution_count": null,
   "metadata": {},
   "outputs": [],
   "source": [
    "policy_params, policy_functions = set_up_policy_environment(2020)"
   ]
  },
  {
   "cell_type": "markdown",
   "metadata": {},
   "source": [
    "In the following cell, we call the function to compute quantities in the tax and transfer system. Note that, `debug = True` which enables the debug mode. It is `False` by default. The debug mode differs from the usual call in two ways:\n",
    "\n",
    "1. All necessary inputs to compute the `targets` and all intermediate variables are returned. This lets you assess your inputs and outputs together which can be useful to identify issues which may be preventing certain variables from being computed.\n",
    "2. If an exception occurs while computing the targets, the exception is printed, but not raised. The variables which depend on the variable where the exception occurred are not computed.\n",
    "\n",
    "The following call shows the effect of the debug mode when no exception occurs."
   ]
  },
  {
   "cell_type": "code",
   "execution_count": null,
   "metadata": {},
   "outputs": [],
   "source": [
    "df = compute_taxes_and_transfers(\n",
    "    data=data,\n",
    "    functions=policy_functions,\n",
    "    params=policy_params,\n",
    "    targets=\"ges_rentenv_beitr_m\",\n",
    "    debug=True,\n",
    ")"
   ]
  },
  {
   "cell_type": "markdown",
   "metadata": {},
   "source": [
    "The resulting DataFrame contains all necessary input variables as well as the target and intermediate variables."
   ]
  },
  {
   "cell_type": "code",
   "execution_count": null,
   "metadata": {},
   "outputs": [],
   "source": [
    "df"
   ]
  },
  {
   "cell_type": "markdown",
   "metadata": {},
   "source": [
    "## Debug Mode with an Exception\n",
    "\n",
    "What happens when an exception is raised while producing the target? We artificially produce an error with a modified user function. For exemplary purposes we modify GETTSIM's function `minijob_grenze` which is called when computing the pension contributions. Instead of its usual functionality of returning the income threshold for marginal employment, we overwrite it to raise an error when called (note that we could do so with any other function as well)."
   ]
  },
  {
   "cell_type": "code",
   "execution_count": null,
   "metadata": {},
   "outputs": [],
   "source": [
    "def minijob_grenze():\n",
    "    raise ValueError"
   ]
  },
  {
   "cell_type": "code",
   "execution_count": null,
   "metadata": {
    "tags": [
     "raises-exception"
    ]
   },
   "outputs": [],
   "source": [
    "df = compute_taxes_and_transfers(\n",
    "    data=data,\n",
    "    functions=[policy_functions, minijob_grenze],\n",
    "    params=policy_params,\n",
    "    targets=\"ges_rentenv_beitr_m\",\n",
    "    debug=True,\n",
    ")"
   ]
  },
  {
   "cell_type": "markdown",
   "metadata": {},
   "source": [
    "The traceback of the error is printed, but the execution is continued. The resulting DataFrame captures all input variables as well as variables which could be produced without errors."
   ]
  },
  {
   "cell_type": "code",
   "execution_count": null,
   "metadata": {},
   "outputs": [],
   "source": [
    "df"
   ]
  }
 ],
 "metadata": {
  "language_info": {
   "codemirror_mode": {
    "name": "ipython",
    "version": 3
   },
   "file_extension": ".py",
   "mimetype": "text/x-python",
   "name": "python",
   "nbconvert_exporter": "python",
   "pygments_lexer": "ipython3"
  }
 },
 "nbformat": 4,
 "nbformat_minor": 4
}
