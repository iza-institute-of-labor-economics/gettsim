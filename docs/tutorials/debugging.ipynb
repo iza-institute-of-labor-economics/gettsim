{
 "cells": [
  {
   "cell_type": "markdown",
   "metadata": {},
   "source": [
    "# Troubleshooting\n",
    "\n",
    "Eventually, all code will fail. Even GETTSIM's and your code is no exception. Therefore, GETTSIM offers a debug mode for the function `compute_taxes_and_transfers` which helps you to find the source of the error.\n",
    "\n",
    "Let us take the same example as used in the [tutorial on basic usage](basic_usage.ipynb), but reduced to the computation of `ges_rentenv_beitr_m` which are the monthly contribution to the pension insurance."
   ]
  },
  {
   "cell_type": "code",
   "execution_count": 16,
   "metadata": {},
   "outputs": [],
   "source": [
    "import pandas as pd\n",
    "from gettsim import compute_taxes_and_transfers\n",
    "from gettsim import set_up_policy_environment"
   ]
  },
  {
   "cell_type": "markdown",
   "metadata": {},
   "source": [
    "In the following cell, we create all necessary data to run the example."
   ]
  },
  {
   "cell_type": "code",
   "execution_count": 17,
   "metadata": {},
   "outputs": [
    {
     "data": {
      "text/html": [
       "<div>\n",
       "<style scoped>\n",
       "    .dataframe tbody tr th:only-of-type {\n",
       "        vertical-align: middle;\n",
       "    }\n",
       "\n",
       "    .dataframe tbody tr th {\n",
       "        vertical-align: top;\n",
       "    }\n",
       "\n",
       "    .dataframe thead th {\n",
       "        text-align: right;\n",
       "    }\n",
       "</style>\n",
       "<table border=\"1\" class=\"dataframe\">\n",
       "  <thead>\n",
       "    <tr style=\"text-align: right;\">\n",
       "      <th></th>\n",
       "      <th>p_id</th>\n",
       "      <th>tu_id</th>\n",
       "      <th>hh_id</th>\n",
       "      <th>bruttolohn_m</th>\n",
       "      <th>wohnort_ost</th>\n",
       "    </tr>\n",
       "  </thead>\n",
       "  <tbody>\n",
       "    <tr>\n",
       "      <th>0</th>\n",
       "      <td>1</td>\n",
       "      <td>1</td>\n",
       "      <td>1</td>\n",
       "      <td>1000.0</td>\n",
       "      <td>False</td>\n",
       "    </tr>\n",
       "  </tbody>\n",
       "</table>\n",
       "</div>"
      ],
      "text/plain": [
       "   p_id  tu_id  hh_id  bruttolohn_m  wohnort_ost\n",
       "0     1      1      1        1000.0        False"
      ]
     },
     "execution_count": 17,
     "metadata": {},
     "output_type": "execute_result"
    }
   ],
   "source": [
    "data = pd.DataFrame(\n",
    "    {\"p_id\": 1, \"tu_id\": 1, \"hh_id\": 1, \"bruttolohn_m\": 1000.0, \"wohnort_ost\": False,},\n",
    "    index=[0],\n",
    ")\n",
    "data"
   ]
  },
  {
   "cell_type": "code",
   "execution_count": 18,
   "metadata": {},
   "outputs": [],
   "source": [
    "policy_params, policy_functions = set_up_policy_environment(2020)"
   ]
  },
  {
   "cell_type": "markdown",
   "metadata": {},
   "source": [
    "In the following cell, we call the function to compute quantities in the tax and transfer system. Note that, `debug = True` which enables the debug mode. It is `False` by default. The debug mode differs from the usual call in two ways:\n",
    "\n",
    "1. All necessary inputs to compute the `targets` and all intermediate variables are returned. This lets you assess your inputs and outputs together which can be useful to identify issues which may be preventing certain variables from being computed.\n",
    "2. If an exception occurs while computing the targets, the exception is printed, but not raised. The variables which depend on the variable where the exception occurred are not computed.\n",
    "\n",
    "The following call shows the effect of the debug mode when no exception occurs."
   ]
  },
  {
   "cell_type": "code",
   "execution_count": 19,
   "metadata": {},
   "outputs": [],
   "source": [
    "df = compute_taxes_and_transfers(\n",
    "    data=data,\n",
    "    functions=policy_functions,\n",
    "    params=policy_params,\n",
    "    targets=\"ges_rentenv_beitr_m\",\n",
    "    debug=True,\n",
    ")"
   ]
  },
  {
   "cell_type": "markdown",
   "metadata": {},
   "source": [
    "The resulting DataFrame contains all necessary input variables as well as the target and intermediate variables."
   ]
  },
  {
   "cell_type": "code",
   "execution_count": 20,
   "metadata": {},
   "outputs": [
    {
     "data": {
      "text/html": [
       "<div>\n",
       "<style scoped>\n",
       "    .dataframe tbody tr th:only-of-type {\n",
       "        vertical-align: middle;\n",
       "    }\n",
       "\n",
       "    .dataframe tbody tr th {\n",
       "        vertical-align: top;\n",
       "    }\n",
       "\n",
       "    .dataframe thead th {\n",
       "        text-align: right;\n",
       "    }\n",
       "</style>\n",
       "<table border=\"1\" class=\"dataframe\">\n",
       "  <thead>\n",
       "    <tr style=\"text-align: right;\">\n",
       "      <th></th>\n",
       "      <th>hh_id</th>\n",
       "      <th>tu_id</th>\n",
       "      <th>p_id</th>\n",
       "      <th>bruttolohn_m</th>\n",
       "      <th>wohnort_ost</th>\n",
       "      <th>ges_rentenv_beitr_m</th>\n",
       "    </tr>\n",
       "  </thead>\n",
       "  <tbody>\n",
       "    <tr>\n",
       "      <th>0</th>\n",
       "      <td>1</td>\n",
       "      <td>1</td>\n",
       "      <td>1</td>\n",
       "      <td>1000.0</td>\n",
       "      <td>False</td>\n",
       "      <td>85.753549</td>\n",
       "    </tr>\n",
       "  </tbody>\n",
       "</table>\n",
       "</div>"
      ],
      "text/plain": [
       "   hh_id  tu_id  p_id  bruttolohn_m  wohnort_ost  ges_rentenv_beitr_m\n",
       "0      1      1     1        1000.0        False            85.753549"
      ]
     },
     "execution_count": 20,
     "metadata": {},
     "output_type": "execute_result"
    }
   ],
   "source": [
    "df"
   ]
  },
  {
   "cell_type": "markdown",
   "metadata": {},
   "source": [
    "## Debug Mode with an Exception\n",
    "\n",
    "What happens when an exception is raised while producing the target? We artificially produce an error with a modified user function. For exemplary purposes we modify GETTSIM's function `minijob_grenze` which is called when computing the pension contributions. Instead of its usual functionality of returning the income threshold for marginal employment, we overwrite it to raise an error when called (note that we could do so with any other function as well)."
   ]
  },
  {
   "cell_type": "code",
   "execution_count": 21,
   "metadata": {},
   "outputs": [],
   "source": [
    "def minijob_grenze():\n",
    "    raise ValueError"
   ]
  },
  {
   "cell_type": "code",
   "execution_count": 22,
   "metadata": {},
   "outputs": [
    {
     "ename": "ValueError",
     "evalue": "",
     "output_type": "error",
     "traceback": [
      "\u001b[0;31m---------------------------------------------------------------------------\u001b[0m",
      "\u001b[0;31mValueError\u001b[0m                                Traceback (most recent call last)",
      "Cell \u001b[0;32mIn[22], line 1\u001b[0m\n\u001b[0;32m----> 1\u001b[0m df \u001b[39m=\u001b[39m compute_taxes_and_transfers(\n\u001b[1;32m      2\u001b[0m     data\u001b[39m=\u001b[39;49mdata,\n\u001b[1;32m      3\u001b[0m     functions\u001b[39m=\u001b[39;49m[policy_functions, minijob_grenze],\n\u001b[1;32m      4\u001b[0m     params\u001b[39m=\u001b[39;49mpolicy_params,\n\u001b[1;32m      5\u001b[0m     targets\u001b[39m=\u001b[39;49m\u001b[39m\"\u001b[39;49m\u001b[39mges_rentenv_beitr_m\u001b[39;49m\u001b[39m\"\u001b[39;49m,\n\u001b[1;32m      6\u001b[0m     debug\u001b[39m=\u001b[39;49m\u001b[39mTrue\u001b[39;49;00m,\n\u001b[1;32m      7\u001b[0m )\n",
      "File \u001b[0;32m/mnt/econ/gettsim/gettsim/src/_gettsim/interface.py:132\u001b[0m, in \u001b[0;36mcompute_taxes_and_transfers\u001b[0;34m(data, params, functions, aggregation_specs, targets, columns_overriding_functions, check_minimal_specification, rounding, debug)\u001b[0m\n\u001b[1;32m    124\u001b[0m \u001b[39m# Calculate results.\u001b[39;00m\n\u001b[1;32m    125\u001b[0m tax_transfer_function \u001b[39m=\u001b[39m dags\u001b[39m.\u001b[39mconcatenate_functions(\n\u001b[1;32m    126\u001b[0m     processed_functions,\n\u001b[1;32m    127\u001b[0m     targets,\n\u001b[0;32m   (...)\u001b[0m\n\u001b[1;32m    130\u001b[0m     enforce_signature\u001b[39m=\u001b[39m\u001b[39mTrue\u001b[39;00m,\n\u001b[1;32m    131\u001b[0m )\n\u001b[0;32m--> 132\u001b[0m results \u001b[39m=\u001b[39m tax_transfer_function(\u001b[39m*\u001b[39;49m\u001b[39m*\u001b[39;49minput_data)\n\u001b[1;32m    134\u001b[0m \u001b[39m# Prepare results.\u001b[39;00m\n\u001b[1;32m    135\u001b[0m prepared_results \u001b[39m=\u001b[39m _prepare_results(results, data, debug)\n",
      "File \u001b[0;32m~/miniconda3/envs/gettsim/lib/python3.11/site-packages/dags/output.py:22\u001b[0m, in \u001b[0;36mdict_output.<locals>.decorator_dict_output.<locals>.wrapper_dict_output\u001b[0;34m(*args, **kwargs)\u001b[0m\n\u001b[1;32m     20\u001b[0m \u001b[39m@functools\u001b[39m\u001b[39m.\u001b[39mwraps(func)\n\u001b[1;32m     21\u001b[0m \u001b[39mdef\u001b[39;00m \u001b[39mwrapper_dict_output\u001b[39m(\u001b[39m*\u001b[39margs, \u001b[39m*\u001b[39m\u001b[39m*\u001b[39mkwargs):\n\u001b[0;32m---> 22\u001b[0m     raw \u001b[39m=\u001b[39m func(\u001b[39m*\u001b[39;49margs, \u001b[39m*\u001b[39;49m\u001b[39m*\u001b[39;49mkwargs)\n\u001b[1;32m     23\u001b[0m     out \u001b[39m=\u001b[39m \u001b[39mdict\u001b[39m(\u001b[39mzip\u001b[39m(keys, raw))\n\u001b[1;32m     24\u001b[0m     \u001b[39mreturn\u001b[39;00m out\n",
      "File \u001b[0;32m~/miniconda3/envs/gettsim/lib/python3.11/site-packages/dags/signature.py:77\u001b[0m, in \u001b[0;36mwith_signature.<locals>.decorator_with_signature.<locals>.wrapper_with_signature\u001b[0;34m(*args, **kwargs)\u001b[0m\n\u001b[1;32m     73\u001b[0m _fail_if_duplicated_arguments(present_args, present_kwargs, funcname)\n\u001b[1;32m     74\u001b[0m _fail_if_invalid_keyword_arguments(\n\u001b[1;32m     75\u001b[0m     present_kwargs, valid_kwargs, funcname\n\u001b[1;32m     76\u001b[0m )\n\u001b[0;32m---> 77\u001b[0m \u001b[39mreturn\u001b[39;00m func(\u001b[39m*\u001b[39;49margs, \u001b[39m*\u001b[39;49m\u001b[39m*\u001b[39;49mkwargs)\n",
      "File \u001b[0;32m~/miniconda3/envs/gettsim/lib/python3.11/site-packages/dags/dag.py:382\u001b[0m, in \u001b[0;36m_create_concatenated_function.<locals>.concatenated\u001b[0;34m(*args, **kwargs)\u001b[0m\n\u001b[1;32m    380\u001b[0m \u001b[39mfor\u001b[39;00m name, info \u001b[39min\u001b[39;00m execution_info\u001b[39m.\u001b[39mitems():\n\u001b[1;32m    381\u001b[0m     kwargs \u001b[39m=\u001b[39m {arg: results[arg] \u001b[39mfor\u001b[39;00m arg \u001b[39min\u001b[39;00m info[\u001b[39m\"\u001b[39m\u001b[39marguments\u001b[39m\u001b[39m\"\u001b[39m]}\n\u001b[0;32m--> 382\u001b[0m     result \u001b[39m=\u001b[39m info[\u001b[39m\"\u001b[39;49m\u001b[39mfunc\u001b[39;49m\u001b[39m\"\u001b[39;49m](\u001b[39m*\u001b[39;49m\u001b[39m*\u001b[39;49mkwargs)\n\u001b[1;32m    383\u001b[0m     results[name] \u001b[39m=\u001b[39m result\n\u001b[1;32m    385\u001b[0m out \u001b[39m=\u001b[39m \u001b[39mtuple\u001b[39m(results[target] \u001b[39mfor\u001b[39;00m target \u001b[39min\u001b[39;00m targets)\n",
      "File \u001b[0;32m/mnt/econ/gettsim/gettsim/src/_gettsim/functions_loader.py:577\u001b[0m, in \u001b[0;36m_vectorize_func.<locals>.wrapper_vectorize_func\u001b[0;34m(*args, **kwargs)\u001b[0m\n\u001b[1;32m    575\u001b[0m \u001b[39m@functools\u001b[39m\u001b[39m.\u001b[39mwraps(func)\n\u001b[1;32m    576\u001b[0m \u001b[39mdef\u001b[39;00m \u001b[39mwrapper_vectorize_func\u001b[39m(\u001b[39m*\u001b[39margs, \u001b[39m*\u001b[39m\u001b[39m*\u001b[39mkwargs):\n\u001b[0;32m--> 577\u001b[0m     \u001b[39mreturn\u001b[39;00m func_vec(\u001b[39m*\u001b[39;49margs, \u001b[39m*\u001b[39;49m\u001b[39m*\u001b[39;49mkwargs)\n",
      "File \u001b[0;32m~/miniconda3/envs/gettsim/lib/python3.11/site-packages/numpy/lib/function_base.py:2329\u001b[0m, in \u001b[0;36mvectorize.__call__\u001b[0;34m(self, *args, **kwargs)\u001b[0m\n\u001b[1;32m   2326\u001b[0m     vargs \u001b[39m=\u001b[39m [args[_i] \u001b[39mfor\u001b[39;00m _i \u001b[39min\u001b[39;00m inds]\n\u001b[1;32m   2327\u001b[0m     vargs\u001b[39m.\u001b[39mextend([kwargs[_n] \u001b[39mfor\u001b[39;00m _n \u001b[39min\u001b[39;00m names])\n\u001b[0;32m-> 2329\u001b[0m \u001b[39mreturn\u001b[39;00m \u001b[39mself\u001b[39;49m\u001b[39m.\u001b[39;49m_vectorize_call(func\u001b[39m=\u001b[39;49mfunc, args\u001b[39m=\u001b[39;49mvargs)\n",
      "File \u001b[0;32m~/miniconda3/envs/gettsim/lib/python3.11/site-packages/numpy/lib/function_base.py:2405\u001b[0m, in \u001b[0;36mvectorize._vectorize_call\u001b[0;34m(self, func, args)\u001b[0m\n\u001b[1;32m   2403\u001b[0m     res \u001b[39m=\u001b[39m \u001b[39mself\u001b[39m\u001b[39m.\u001b[39m_vectorize_call_with_signature(func, args)\n\u001b[1;32m   2404\u001b[0m \u001b[39melif\u001b[39;00m \u001b[39mnot\u001b[39;00m args:\n\u001b[0;32m-> 2405\u001b[0m     res \u001b[39m=\u001b[39m func()\n\u001b[1;32m   2406\u001b[0m \u001b[39melse\u001b[39;00m:\n\u001b[1;32m   2407\u001b[0m     ufunc, otypes \u001b[39m=\u001b[39m \u001b[39mself\u001b[39m\u001b[39m.\u001b[39m_get_ufunc_and_otypes(func\u001b[39m=\u001b[39mfunc, args\u001b[39m=\u001b[39margs)\n",
      "Cell \u001b[0;32mIn[21], line 2\u001b[0m, in \u001b[0;36mminijob_grenze\u001b[0;34m()\u001b[0m\n\u001b[1;32m      1\u001b[0m \u001b[39mdef\u001b[39;00m \u001b[39mminijob_grenze\u001b[39m():\n\u001b[0;32m----> 2\u001b[0m     \u001b[39mraise\u001b[39;00m \u001b[39mValueError\u001b[39;00m\n",
      "\u001b[0;31mValueError\u001b[0m: "
     ]
    }
   ],
   "source": [
    "df = compute_taxes_and_transfers(\n",
    "    data=data,\n",
    "    functions=[policy_functions, minijob_grenze],\n",
    "    params=policy_params,\n",
    "    targets=\"ges_rentenv_beitr_m\",\n",
    "    debug=True,\n",
    ")"
   ]
  },
  {
   "cell_type": "markdown",
   "metadata": {},
   "source": [
    "The traceback of the error is printed, but the execution is continued. The resulting DataFrame captures all input variables as well as variables which could be produced without errors."
   ]
  },
  {
   "cell_type": "code",
   "execution_count": 23,
   "metadata": {},
   "outputs": [
    {
     "data": {
      "text/html": [
       "<div>\n",
       "<style scoped>\n",
       "    .dataframe tbody tr th:only-of-type {\n",
       "        vertical-align: middle;\n",
       "    }\n",
       "\n",
       "    .dataframe tbody tr th {\n",
       "        vertical-align: top;\n",
       "    }\n",
       "\n",
       "    .dataframe thead th {\n",
       "        text-align: right;\n",
       "    }\n",
       "</style>\n",
       "<table border=\"1\" class=\"dataframe\">\n",
       "  <thead>\n",
       "    <tr style=\"text-align: right;\">\n",
       "      <th></th>\n",
       "      <th>hh_id</th>\n",
       "      <th>tu_id</th>\n",
       "      <th>p_id</th>\n",
       "      <th>bruttolohn_m</th>\n",
       "      <th>wohnort_ost</th>\n",
       "      <th>ges_rentenv_beitr_m</th>\n",
       "    </tr>\n",
       "  </thead>\n",
       "  <tbody>\n",
       "    <tr>\n",
       "      <th>0</th>\n",
       "      <td>1</td>\n",
       "      <td>1</td>\n",
       "      <td>1</td>\n",
       "      <td>1000.0</td>\n",
       "      <td>False</td>\n",
       "      <td>85.753549</td>\n",
       "    </tr>\n",
       "  </tbody>\n",
       "</table>\n",
       "</div>"
      ],
      "text/plain": [
       "   hh_id  tu_id  p_id  bruttolohn_m  wohnort_ost  ges_rentenv_beitr_m\n",
       "0      1      1     1        1000.0        False            85.753549"
      ]
     },
     "execution_count": 23,
     "metadata": {},
     "output_type": "execute_result"
    }
   ],
   "source": [
    "df"
   ]
  },
  {
   "cell_type": "code",
   "execution_count": null,
   "metadata": {},
   "outputs": [],
   "source": []
  }
 ],
 "metadata": {
  "kernelspec": {
   "display_name": "Python 3",
   "language": "python",
   "name": "python3"
  },
  "language_info": {
   "codemirror_mode": {
    "name": "ipython",
    "version": 3
   },
   "file_extension": ".py",
   "mimetype": "text/x-python",
   "name": "python",
   "nbconvert_exporter": "python",
   "pygments_lexer": "ipython3",
   "version": "3.11.0"
  },
  "vscode": {
   "interpreter": {
    "hash": "a7ef7df5bd47ff490cfd86bc52beab30c1673a29666f06a073dff89a54c46fe5"
   }
  }
 },
 "nbformat": 4,
 "nbformat_minor": 4
}
