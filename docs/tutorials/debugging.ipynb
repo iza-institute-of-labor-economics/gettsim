{
 "cells": [
  {
   "cell_type": "markdown",
   "metadata": {},
   "source": [
    "# Debugging\n",
    "\n",
    "Eventually, all code will fail. Even gettsim's and your code is no exception. Therefore, gettsim offers a debug mode which helps you to find the source of the error.\n",
    "\n",
    "Let us take the same example as used in the [tutorial on the interface](interface.ipynb), but reduced to the computation of `rentev_beitr_m` which are the monthly contribution to the pension insurance."
   ]
  },
  {
   "cell_type": "code",
   "execution_count": 1,
   "metadata": {},
   "outputs": [],
   "source": [
    "import pandas as pd\n",
    "from gettsim import compute_taxes_and_transfers\n",
    "from gettsim import get_policies_for_date"
   ]
  },
  {
   "cell_type": "markdown",
   "metadata": {},
   "source": [
    "In the following cell, we create all necessary data to run the example."
   ]
  },
  {
   "cell_type": "code",
   "execution_count": 2,
   "metadata": {},
   "outputs": [
    {
     "data": {
      "text/html": [
       "<div>\n",
       "<style scoped>\n",
       "    .dataframe tbody tr th:only-of-type {\n",
       "        vertical-align: middle;\n",
       "    }\n",
       "\n",
       "    .dataframe tbody tr th {\n",
       "        vertical-align: top;\n",
       "    }\n",
       "\n",
       "    .dataframe thead th {\n",
       "        text-align: right;\n",
       "    }\n",
       "</style>\n",
       "<table border=\"1\" class=\"dataframe\">\n",
       "  <thead>\n",
       "    <tr style=\"text-align: right;\">\n",
       "      <th></th>\n",
       "      <th>p_id</th>\n",
       "      <th>tu_id</th>\n",
       "      <th>hh_id</th>\n",
       "      <th>bruttolohn_m</th>\n",
       "      <th>wohnort_ost</th>\n",
       "    </tr>\n",
       "  </thead>\n",
       "  <tbody>\n",
       "    <tr>\n",
       "      <th>0</th>\n",
       "      <td>1</td>\n",
       "      <td>1</td>\n",
       "      <td>1</td>\n",
       "      <td>1000</td>\n",
       "      <td>False</td>\n",
       "    </tr>\n",
       "  </tbody>\n",
       "</table>\n",
       "</div>"
      ],
      "text/plain": [
       "   p_id  tu_id  hh_id  bruttolohn_m  wohnort_ost\n",
       "0     1      1      1          1000        False"
      ]
     },
     "execution_count": 2,
     "metadata": {},
     "output_type": "execute_result"
    }
   ],
   "source": [
    "data = pd.DataFrame(\n",
    "    {\n",
    "        \"p_id\": 1,\n",
    "        \"tu_id\": 1,\n",
    "        \"hh_id\": 1,\n",
    "        \"bruttolohn_m\": 1000,\n",
    "        \"wohnort_ost\": False,\n",
    "    },\n",
    "    index=[0],\n",
    ")\n",
    "data"
   ]
  },
  {
   "cell_type": "code",
   "execution_count": 3,
   "metadata": {},
   "outputs": [],
   "source": [
    "params_dict, policy_func_dict = get_policies_for_date(2020)"
   ]
  },
  {
   "cell_type": "markdown",
   "metadata": {},
   "source": [
    "In the following cell, we call the function to compute quantities in the tax and transfer system. Note that, `debug = True` which enables the debug mode. It is `False` by default. The debug mode differs from the usual call in two ways:\n",
    "\n",
    "1. All necessary inputs to compute the `targets` and all intermediate variables are returned.\n",
    "2. If an exception occurs while computing the targets, the exception is printed, but not raised. The variables which depend on the variable where the exception occurred are not computed.\n",
    "\n",
    "The following call shows the effect of the debug mode when no exception occurs."
   ]
  },
  {
   "cell_type": "code",
   "execution_count": 4,
   "metadata": {},
   "outputs": [],
   "source": [
    "df = compute_taxes_and_transfers(\n",
    "    data=data,\n",
    "    user_functions=policy_func_dict,\n",
    "    params=params_dict,\n",
    "    targets=\"rentenv_beitr_m\",\n",
    "    debug=True,\n",
    ")"
   ]
  },
  {
   "cell_type": "markdown",
   "metadata": {},
   "source": [
    "The resulting DataFrame contains all necessary input variables as well as the target and intermediate variables."
   ]
  },
  {
   "cell_type": "code",
   "execution_count": 5,
   "metadata": {},
   "outputs": [
    {
     "data": {
      "text/html": [
       "<div>\n",
       "<style scoped>\n",
       "    .dataframe tbody tr th:only-of-type {\n",
       "        vertical-align: middle;\n",
       "    }\n",
       "\n",
       "    .dataframe tbody tr th {\n",
       "        vertical-align: top;\n",
       "    }\n",
       "\n",
       "    .dataframe thead th {\n",
       "        text-align: right;\n",
       "    }\n",
       "</style>\n",
       "<table border=\"1\" class=\"dataframe\">\n",
       "  <thead>\n",
       "    <tr style=\"text-align: right;\">\n",
       "      <th></th>\n",
       "      <th>wohnort_ost</th>\n",
       "      <th>tu_id</th>\n",
       "      <th>hh_id</th>\n",
       "      <th>bruttolohn_m</th>\n",
       "      <th>p_id</th>\n",
       "      <th>_mini_job_grenze</th>\n",
       "      <th>_rentenv_beitr_bemess_grenze</th>\n",
       "      <th>_regulär_beschäftigt</th>\n",
       "      <th>_ges_beitr_arbeitsl_v_midi_jobreturn</th>\n",
       "      <th>_rentenv_beitr_regular_job</th>\n",
       "      <th>_geringfügig_beschäftigt</th>\n",
       "      <th>_in_gleitzone</th>\n",
       "      <th>_midi_job_bemessungsentgelt</th>\n",
       "      <th>_ges_beitr_rentenv_midi_job</th>\n",
       "      <th>_ag_beitr_rentenv_midi_job</th>\n",
       "      <th>_an_beitr_rentenv_midi_job</th>\n",
       "      <th>rentenv_beitr_m</th>\n",
       "    </tr>\n",
       "  </thead>\n",
       "  <tbody>\n",
       "    <tr>\n",
       "      <th>0</th>\n",
       "      <td>False</td>\n",
       "      <td>1</td>\n",
       "      <td>1</td>\n",
       "      <td>1000</td>\n",
       "      <td>1</td>\n",
       "      <td>450</td>\n",
       "      <td>6900</td>\n",
       "      <td>False</td>\n",
       "      <td>NaN</td>\n",
       "      <td>NaN</td>\n",
       "      <td>False</td>\n",
       "      <td>True</td>\n",
       "      <td>961.040588</td>\n",
       "      <td>178.753549</td>\n",
       "      <td>93.0</td>\n",
       "      <td>85.753549</td>\n",
       "      <td>85.753549</td>\n",
       "    </tr>\n",
       "  </tbody>\n",
       "</table>\n",
       "</div>"
      ],
      "text/plain": [
       "   wohnort_ost  tu_id  hh_id  bruttolohn_m  p_id _mini_job_grenze  \\\n",
       "0        False      1      1          1000     1              450   \n",
       "\n",
       "  _rentenv_beitr_bemess_grenze  _regulär_beschäftigt  \\\n",
       "0                         6900                 False   \n",
       "\n",
       "   _ges_beitr_arbeitsl_v_midi_jobreturn  _rentenv_beitr_regular_job  \\\n",
       "0                                   NaN                         NaN   \n",
       "\n",
       "   _geringfügig_beschäftigt  _in_gleitzone  _midi_job_bemessungsentgelt  \\\n",
       "0                     False           True                   961.040588   \n",
       "\n",
       "   _ges_beitr_rentenv_midi_job  _ag_beitr_rentenv_midi_job  \\\n",
       "0                   178.753549                        93.0   \n",
       "\n",
       "   _an_beitr_rentenv_midi_job  rentenv_beitr_m  \n",
       "0                   85.753549        85.753549  "
      ]
     },
     "execution_count": 5,
     "metadata": {},
     "output_type": "execute_result"
    }
   ],
   "source": [
    "df"
   ]
  },
  {
   "cell_type": "markdown",
   "metadata": {},
   "source": [
    "## Debug mode with an exception\n",
    "\n",
    "What happens when an exception is raised while producing the target? We artifically produce an error with a modified user function."
   ]
  },
  {
   "cell_type": "code",
   "execution_count": 6,
   "metadata": {},
   "outputs": [],
   "source": [
    "def _mini_job_grenze():\n",
    "    raise ValueError"
   ]
  },
  {
   "cell_type": "code",
   "execution_count": 7,
   "metadata": {},
   "outputs": [
    {
     "name": "stderr",
     "output_type": "stream",
     "text": [
      "Traceback (most recent call last):\n",
      "  File \"xxx\\gettsim\\gettsim\\dag.py\", line 144, in execute_dag\n",
      "    data[task] = dag.nodes[task][\"function\"](**kwargs).rename(task)\n",
      "  File \"<ipython-input-6-e7d88657cba8>\", line 2, in _mini_job_grenze\n",
      "    raise ValueError\n",
      "ValueError\n"
     ]
    }
   ],
   "source": [
    "df = compute_taxes_and_transfers(\n",
    "    data=data,\n",
    "    user_functions=[policy_func_dict, _mini_job_grenze],\n",
    "    params=params_dict,\n",
    "    targets=\"rentenv_beitr_m\",\n",
    "    debug=True,\n",
    ")"
   ]
  },
  {
   "cell_type": "markdown",
   "metadata": {},
   "source": [
    "The traceback of the error is printed, but the execution is continued. The resulting DataFrame captures all input variables as well as variables which could be produced without errors."
   ]
  },
  {
   "cell_type": "code",
   "execution_count": 8,
   "metadata": {},
   "outputs": [
    {
     "data": {
      "text/html": [
       "<div>\n",
       "<style scoped>\n",
       "    .dataframe tbody tr th:only-of-type {\n",
       "        vertical-align: middle;\n",
       "    }\n",
       "\n",
       "    .dataframe tbody tr th {\n",
       "        vertical-align: top;\n",
       "    }\n",
       "\n",
       "    .dataframe thead th {\n",
       "        text-align: right;\n",
       "    }\n",
       "</style>\n",
       "<table border=\"1\" class=\"dataframe\">\n",
       "  <thead>\n",
       "    <tr style=\"text-align: right;\">\n",
       "      <th></th>\n",
       "      <th>wohnort_ost</th>\n",
       "      <th>tu_id</th>\n",
       "      <th>hh_id</th>\n",
       "      <th>bruttolohn_m</th>\n",
       "      <th>p_id</th>\n",
       "      <th>_rentenv_beitr_bemess_grenze</th>\n",
       "      <th>_regulär_beschäftigt</th>\n",
       "      <th>_ges_beitr_arbeitsl_v_midi_jobreturn</th>\n",
       "      <th>_rentenv_beitr_regular_job</th>\n",
       "    </tr>\n",
       "  </thead>\n",
       "  <tbody>\n",
       "    <tr>\n",
       "      <th>0</th>\n",
       "      <td>False</td>\n",
       "      <td>1</td>\n",
       "      <td>1</td>\n",
       "      <td>1000</td>\n",
       "      <td>1</td>\n",
       "      <td>6900</td>\n",
       "      <td>False</td>\n",
       "      <td>NaN</td>\n",
       "      <td>NaN</td>\n",
       "    </tr>\n",
       "  </tbody>\n",
       "</table>\n",
       "</div>"
      ],
      "text/plain": [
       "   wohnort_ost  tu_id  hh_id  bruttolohn_m  p_id _rentenv_beitr_bemess_grenze  \\\n",
       "0        False      1      1          1000     1                         6900   \n",
       "\n",
       "   _regulär_beschäftigt  _ges_beitr_arbeitsl_v_midi_jobreturn  \\\n",
       "0                 False                                   NaN   \n",
       "\n",
       "   _rentenv_beitr_regular_job  \n",
       "0                         NaN  "
      ]
     },
     "execution_count": 8,
     "metadata": {},
     "output_type": "execute_result"
    }
   ],
   "source": [
    "df"
   ]
  }
 ],
 "metadata": {
  "kernelspec": {
   "display_name": "Python 3",
   "language": "python",
   "name": "python3"
  },
  "language_info": {
   "codemirror_mode": {
    "name": "ipython",
    "version": 3
   },
   "file_extension": ".py",
   "mimetype": "text/x-python",
   "name": "python",
   "nbconvert_exporter": "python",
   "pygments_lexer": "ipython3",
   "version": "3.7.7"
  }
 },
 "nbformat": 4,
 "nbformat_minor": 4
}
