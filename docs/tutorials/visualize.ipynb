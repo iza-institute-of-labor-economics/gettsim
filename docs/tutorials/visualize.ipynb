{
 "cells": [
  {
   "cell_type": "markdown",
   "metadata": {},
   "source": [
    "# Visualize the tax and transfer system\n",
    "\n",
    "The tax and transfer system is complex and so is its representation in gettsim. A visualization helps you to understand the internal structure and how to implement custom reforms.\n",
    "\n",
    "If you are unfamiliar with the general interface of gettsim, please, visit the [tutorial](tutorial.ipynb).\n",
    "\n",
    "We dive right into gettsim. The following cells contain the same code as the test code for \"zu versteuerndes Einkommen\" or taxable income.\n",
    "\n",
    "First, we import some necessary modules, functions and variables."
   ]
  },
  {
   "cell_type": "code",
   "execution_count": 1,
   "metadata": {},
   "outputs": [],
   "source": [
    "import pandas as pd\n",
    "\n",
    "from gettsim import compute_taxes_and_transfers\n",
    "from gettsim import get_policies_for_date\n",
    "from gettsim import plot_dag\n",
    "\n",
    "from gettsim.config import ROOT_DIR\n",
    "from gettsim.tests.test_zu_versteuerndes_eink import INPUT_COLS"
   ]
  },
  {
   "cell_type": "markdown",
   "metadata": {},
   "source": [
    "Here, we load the test data and select only observations from 2018."
   ]
  },
  {
   "cell_type": "code",
   "execution_count": 2,
   "metadata": {},
   "outputs": [],
   "source": [
    "df = (\n",
    "    pd.read_csv(ROOT_DIR / \"tests\" / \"test_data\" / \"test_dfs_zve.csv\", usecols=INPUT_COLS)\n",
    "    .query(\"jahr == 2018\")\n",
    ")"
   ]
  },
  {
   "cell_type": "markdown",
   "metadata": {},
   "source": [
    "The following three cells contain the usual call to gettsim.\n",
    "\n",
    "1. Load parameters and policy functions.\n",
    "2. The user columns are variables which should not be computed by gettsim, but taken from the data.\n",
    "3. Compute the targets by calling `compute_taxes_and_transfers` with the appropriate arguments. Note that, we also passed `return_dag=True` which is important for the next steps."
   ]
  },
  {
   "cell_type": "code",
   "execution_count": 3,
   "metadata": {},
   "outputs": [],
   "source": [
    "params_dict, policy_func_dict = get_policies_for_date(\n",
    "    policy_date=2018,\n",
    "    policy_groups=[\"eink_st_abzuege\", \"soz_vers_beitr\", \"kindergeld\", \"eink_st\"],\n",
    ")"
   ]
  },
  {
   "cell_type": "code",
   "execution_count": 4,
   "metadata": {},
   "outputs": [],
   "source": [
    "user_columns = [\n",
    "    \"ges_krankenv_beitr_m\",\n",
    "    \"arbeitsl_v_beitr_m\",\n",
    "    \"pflegev_beitr_m\",\n",
    "    \"rentenv_beitr_m\",\n",
    "]"
   ]
  },
  {
   "cell_type": "code",
   "execution_count": 5,
   "metadata": {},
   "outputs": [],
   "source": [
    "result, dag = compute_taxes_and_transfers(\n",
    "    df,\n",
    "    user_columns=user_columns,\n",
    "    user_functions=policy_func_dict,\n",
    "    targets=[\n",
    "        \"_zu_verst_eink_kein_kinderfreib_tu\",\n",
    "        \"_zu_verst_eink_kinderfreib_tu\",\n",
    "        \"kinderfreib_tu\",\n",
    "        \"altersfreib\",\n",
    "        \"sum_brutto_eink\",\n",
    "    ],\n",
    "    params=params_dict,\n",
    "    return_dag=True\n",
    ")"
   ]
  },
  {
   "cell_type": "markdown",
   "metadata": {},
   "source": [
    "The natural question is: \"How does gettsim compute the quantities under `targets`?\" The second return of `compute_taxes_and_transfers`, the `dag`, holds the answer.\n",
    "\n",
    "First of all, what is DAG? A DAG is short for [directed acyclic graph](https://en.wikipedia.org/wiki/Directed_acyclic_graph) and it is a special network of nodes and edges. In gettsim's DAG, nodes are individual columns in the DataFrame passed to `compute_taxes_and_transfers` or columns computed inside gettsim. Edges visualize dependencies between nodes. An edge pointing from A to B means that A is necessary to compute B. With that being said, let us take a look at the graph.\n",
    "\n",
    "We focus on the variable `\"kinderfreib_tu\"` which is the \"Kinderfreibetrag\" for each tax unit. We can plot the variable and its surrounding nodes with the following call to `plot_dag`. The dictionary passed to `selectors` selects all direct neighbors of the node `\"kinderfreib_tu\"`."
   ]
  },
  {
   "cell_type": "code",
   "execution_count": 6,
   "metadata": {},
   "outputs": [
    {
     "name": "stdout",
     "output_type": "stream",
     "text": [
      "[33] > c:\\users\\tobia\\git\\gettsim\\gettsim\\visualization.py(180)_replace_functions_with_source_code()\n",
      "-> dag.nodes[node][\"source_code\"] = _highlight_source_code(source)\n"
     ]
    },
    {
     "name": "stdin",
     "output_type": "stream",
     "text": [
      "(Pdb++)  function.func.__module\n"
     ]
    },
    {
     "name": "stdout",
     "output_type": "stream",
     "text": [
      "*** AttributeError: 'function' object has no attribute '__module'\n"
     ]
    },
    {
     "name": "stdin",
     "output_type": "stream",
     "text": [
      "(Pdb++)  function.func.__module__\n"
     ]
    },
    {
     "name": "stdout",
     "output_type": "stream",
     "text": [
      "'gettsim.demographic_vars'\n"
     ]
    },
    {
     "name": "stdin",
     "output_type": "stream",
     "text": [
      "(Pdb++)  q\n"
     ]
    },
    {
     "ename": "BdbQuit",
     "evalue": "",
     "output_type": "error",
     "traceback": [
      "\u001b[1;31m---------------------------------------------------------------------------\u001b[0m",
      "\u001b[1;31mBdbQuit\u001b[0m                                   Traceback (most recent call last)",
      "\u001b[1;32m<ipython-input-6-af910a7ce0d6>\u001b[0m in \u001b[0;36m<module>\u001b[1;34m\u001b[0m\n\u001b[0;32m      6\u001b[0m         \u001b[1;34m\"kinderfreib_tu\"\u001b[0m\u001b[1;33m,\u001b[0m\u001b[1;33m\u001b[0m\u001b[1;33m\u001b[0m\u001b[0m\n\u001b[0;32m      7\u001b[0m         \u001b[1;34m\"_zu_verst_eink_kein_kinderfreib_tu\"\u001b[0m\u001b[1;33m,\u001b[0m\u001b[1;33m\u001b[0m\u001b[1;33m\u001b[0m\u001b[0m\n\u001b[1;32m----> 8\u001b[1;33m         \u001b[1;34m\"_zu_verst_eink_kinderfreib_tu\"\u001b[0m\u001b[1;33m\u001b[0m\u001b[1;33m\u001b[0m\u001b[0m\n\u001b[0m\u001b[0;32m      9\u001b[0m     ],\n\u001b[0;32m     10\u001b[0m );\n",
      "\u001b[1;32m~\\git\\gettsim\\gettsim\\visualization.py\u001b[0m in \u001b[0;36mplot_dag\u001b[1;34m(dag, selectors, labels, plot_kwargs, node_kwargs, edge_kwargs, label_kwargs)\u001b[0m\n\u001b[0;32m     96\u001b[0m     \u001b[0mdag\u001b[0m \u001b[1;33m=\u001b[0m \u001b[0m_select_nodes_in_dag\u001b[0m\u001b[1;33m(\u001b[0m\u001b[0mdag\u001b[0m\u001b[1;33m,\u001b[0m \u001b[0mselectors\u001b[0m\u001b[1;33m)\u001b[0m\u001b[1;33m\u001b[0m\u001b[1;33m\u001b[0m\u001b[0m\n\u001b[0;32m     97\u001b[0m \u001b[1;33m\u001b[0m\u001b[0m\n\u001b[1;32m---> 98\u001b[1;33m     \u001b[0mdag\u001b[0m \u001b[1;33m=\u001b[0m \u001b[0m_replace_functions_with_source_code\u001b[0m\u001b[1;33m(\u001b[0m\u001b[0mdag\u001b[0m\u001b[1;33m)\u001b[0m\u001b[1;33m\u001b[0m\u001b[1;33m\u001b[0m\u001b[0m\n\u001b[0m\u001b[0;32m     99\u001b[0m \u001b[1;33m\u001b[0m\u001b[0m\n\u001b[0;32m    100\u001b[0m     plot_kwargs[\"title\"] = _to_bokeh_title(\n",
      "\u001b[1;32m~\\git\\gettsim\\gettsim\\visualization.py\u001b[0m in \u001b[0;36m_replace_functions_with_source_code\u001b[1;34m(dag)\u001b[0m\n\u001b[0;32m    178\u001b[0m                 \u001b[0msource\u001b[0m \u001b[1;33m=\u001b[0m \u001b[0minspect\u001b[0m\u001b[1;33m.\u001b[0m\u001b[0mgetsource\u001b[0m\u001b[1;33m(\u001b[0m\u001b[0mfunction\u001b[0m\u001b[1;33m)\u001b[0m\u001b[1;33m\u001b[0m\u001b[1;33m\u001b[0m\u001b[0m\n\u001b[0;32m    179\u001b[0m             \u001b[0mbreakpoint\u001b[0m\u001b[1;33m(\u001b[0m\u001b[1;33m)\u001b[0m\u001b[1;33m\u001b[0m\u001b[1;33m\u001b[0m\u001b[0m\n\u001b[1;32m--> 180\u001b[1;33m             \u001b[0mdag\u001b[0m\u001b[1;33m.\u001b[0m\u001b[0mnodes\u001b[0m\u001b[1;33m[\u001b[0m\u001b[0mnode\u001b[0m\u001b[1;33m]\u001b[0m\u001b[1;33m[\u001b[0m\u001b[1;34m\"source_code\"\u001b[0m\u001b[1;33m]\u001b[0m \u001b[1;33m=\u001b[0m \u001b[0m_highlight_source_code\u001b[0m\u001b[1;33m(\u001b[0m\u001b[0msource\u001b[0m\u001b[1;33m)\u001b[0m\u001b[1;33m\u001b[0m\u001b[1;33m\u001b[0m\u001b[0m\n\u001b[0m\u001b[0;32m    181\u001b[0m         \u001b[1;32melse\u001b[0m\u001b[1;33m:\u001b[0m\u001b[1;33m\u001b[0m\u001b[1;33m\u001b[0m\u001b[0m\n\u001b[0;32m    182\u001b[0m             \u001b[0mdag\u001b[0m\u001b[1;33m.\u001b[0m\u001b[0mnodes\u001b[0m\u001b[1;33m[\u001b[0m\u001b[0mnode\u001b[0m\u001b[1;33m]\u001b[0m\u001b[1;33m[\u001b[0m\u001b[1;34m\"source_code\"\u001b[0m\u001b[1;33m]\u001b[0m \u001b[1;33m=\u001b[0m \u001b[1;34m\"Column in data\"\u001b[0m\u001b[1;33m\u001b[0m\u001b[1;33m\u001b[0m\u001b[0m\n",
      "\u001b[1;32m~\\git\\gettsim\\gettsim\\visualization.py\u001b[0m in \u001b[0;36m_replace_functions_with_source_code\u001b[1;34m(dag)\u001b[0m\n\u001b[0;32m    178\u001b[0m                 \u001b[0msource\u001b[0m \u001b[1;33m=\u001b[0m \u001b[0minspect\u001b[0m\u001b[1;33m.\u001b[0m\u001b[0mgetsource\u001b[0m\u001b[1;33m(\u001b[0m\u001b[0mfunction\u001b[0m\u001b[1;33m)\u001b[0m\u001b[1;33m\u001b[0m\u001b[1;33m\u001b[0m\u001b[0m\n\u001b[0;32m    179\u001b[0m             \u001b[0mbreakpoint\u001b[0m\u001b[1;33m(\u001b[0m\u001b[1;33m)\u001b[0m\u001b[1;33m\u001b[0m\u001b[1;33m\u001b[0m\u001b[0m\n\u001b[1;32m--> 180\u001b[1;33m             \u001b[0mdag\u001b[0m\u001b[1;33m.\u001b[0m\u001b[0mnodes\u001b[0m\u001b[1;33m[\u001b[0m\u001b[0mnode\u001b[0m\u001b[1;33m]\u001b[0m\u001b[1;33m[\u001b[0m\u001b[1;34m\"source_code\"\u001b[0m\u001b[1;33m]\u001b[0m \u001b[1;33m=\u001b[0m \u001b[0m_highlight_source_code\u001b[0m\u001b[1;33m(\u001b[0m\u001b[0msource\u001b[0m\u001b[1;33m)\u001b[0m\u001b[1;33m\u001b[0m\u001b[1;33m\u001b[0m\u001b[0m\n\u001b[0m\u001b[0;32m    181\u001b[0m         \u001b[1;32melse\u001b[0m\u001b[1;33m:\u001b[0m\u001b[1;33m\u001b[0m\u001b[1;33m\u001b[0m\u001b[0m\n\u001b[0;32m    182\u001b[0m             \u001b[0mdag\u001b[0m\u001b[1;33m.\u001b[0m\u001b[0mnodes\u001b[0m\u001b[1;33m[\u001b[0m\u001b[0mnode\u001b[0m\u001b[1;33m]\u001b[0m\u001b[1;33m[\u001b[0m\u001b[1;34m\"source_code\"\u001b[0m\u001b[1;33m]\u001b[0m \u001b[1;33m=\u001b[0m \u001b[1;34m\"Column in data\"\u001b[0m\u001b[1;33m\u001b[0m\u001b[1;33m\u001b[0m\u001b[0m\n",
      "\u001b[1;32mC:\\tools\\miniconda3\\envs\\gettsim\\lib\\bdb.py\u001b[0m in \u001b[0;36mtrace_dispatch\u001b[1;34m(self, frame, event, arg)\u001b[0m\n\u001b[0;32m     86\u001b[0m             \u001b[1;32mreturn\u001b[0m \u001b[1;31m# None\u001b[0m\u001b[1;33m\u001b[0m\u001b[1;33m\u001b[0m\u001b[0m\n\u001b[0;32m     87\u001b[0m         \u001b[1;32mif\u001b[0m \u001b[0mevent\u001b[0m \u001b[1;33m==\u001b[0m \u001b[1;34m'line'\u001b[0m\u001b[1;33m:\u001b[0m\u001b[1;33m\u001b[0m\u001b[1;33m\u001b[0m\u001b[0m\n\u001b[1;32m---> 88\u001b[1;33m             \u001b[1;32mreturn\u001b[0m \u001b[0mself\u001b[0m\u001b[1;33m.\u001b[0m\u001b[0mdispatch_line\u001b[0m\u001b[1;33m(\u001b[0m\u001b[0mframe\u001b[0m\u001b[1;33m)\u001b[0m\u001b[1;33m\u001b[0m\u001b[1;33m\u001b[0m\u001b[0m\n\u001b[0m\u001b[0;32m     89\u001b[0m         \u001b[1;32mif\u001b[0m \u001b[0mevent\u001b[0m \u001b[1;33m==\u001b[0m \u001b[1;34m'call'\u001b[0m\u001b[1;33m:\u001b[0m\u001b[1;33m\u001b[0m\u001b[1;33m\u001b[0m\u001b[0m\n\u001b[0;32m     90\u001b[0m             \u001b[1;32mreturn\u001b[0m \u001b[0mself\u001b[0m\u001b[1;33m.\u001b[0m\u001b[0mdispatch_call\u001b[0m\u001b[1;33m(\u001b[0m\u001b[0mframe\u001b[0m\u001b[1;33m,\u001b[0m \u001b[0marg\u001b[0m\u001b[1;33m)\u001b[0m\u001b[1;33m\u001b[0m\u001b[1;33m\u001b[0m\u001b[0m\n",
      "\u001b[1;32mC:\\tools\\miniconda3\\envs\\gettsim\\lib\\bdb.py\u001b[0m in \u001b[0;36mdispatch_line\u001b[1;34m(self, frame)\u001b[0m\n\u001b[0;32m    111\u001b[0m         \u001b[1;32mif\u001b[0m \u001b[0mself\u001b[0m\u001b[1;33m.\u001b[0m\u001b[0mstop_here\u001b[0m\u001b[1;33m(\u001b[0m\u001b[0mframe\u001b[0m\u001b[1;33m)\u001b[0m \u001b[1;32mor\u001b[0m \u001b[0mself\u001b[0m\u001b[1;33m.\u001b[0m\u001b[0mbreak_here\u001b[0m\u001b[1;33m(\u001b[0m\u001b[0mframe\u001b[0m\u001b[1;33m)\u001b[0m\u001b[1;33m:\u001b[0m\u001b[1;33m\u001b[0m\u001b[1;33m\u001b[0m\u001b[0m\n\u001b[0;32m    112\u001b[0m             \u001b[0mself\u001b[0m\u001b[1;33m.\u001b[0m\u001b[0muser_line\u001b[0m\u001b[1;33m(\u001b[0m\u001b[0mframe\u001b[0m\u001b[1;33m)\u001b[0m\u001b[1;33m\u001b[0m\u001b[1;33m\u001b[0m\u001b[0m\n\u001b[1;32m--> 113\u001b[1;33m             \u001b[1;32mif\u001b[0m \u001b[0mself\u001b[0m\u001b[1;33m.\u001b[0m\u001b[0mquitting\u001b[0m\u001b[1;33m:\u001b[0m \u001b[1;32mraise\u001b[0m \u001b[0mBdbQuit\u001b[0m\u001b[1;33m\u001b[0m\u001b[1;33m\u001b[0m\u001b[0m\n\u001b[0m\u001b[0;32m    114\u001b[0m         \u001b[1;32mreturn\u001b[0m \u001b[0mself\u001b[0m\u001b[1;33m.\u001b[0m\u001b[0mtrace_dispatch\u001b[0m\u001b[1;33m\u001b[0m\u001b[1;33m\u001b[0m\u001b[0m\n\u001b[0;32m    115\u001b[0m \u001b[1;33m\u001b[0m\u001b[0m\n",
      "\u001b[1;31mBdbQuit\u001b[0m: "
     ]
    }
   ],
   "source": [
    "plot_dag(\n",
    "    dag,\n",
    "    selectors=[\n",
    "        \"_anz_erwachsene_tu\",\n",
    "        \"anz_kindergeld_kinder_tu\",\n",
    "        \"kinderfreib_tu\",\n",
    "        \"_zu_verst_eink_kein_kinderfreib_tu\",\n",
    "        \"_zu_verst_eink_kinderfreib_tu\" \n",
    "    ],\n",
    ");"
   ]
  },
  {
   "cell_type": "markdown",
   "metadata": {},
   "source": [
    "The plot shows a small graph with five nodes. The flow of computation starts at the top and ends at the bottom.\n",
    "\n",
    "1. The upper left node is `_anz_erwachsene_tu` which is the number of adults in a tax unit. If you hover over the node, you can see the source code of the function which computes this intermediate column.\n",
    "2. The upper right node computes the total claim to child benefits for each tax unit.\n",
    "3. Both variables are necessary to compute the value of the node on the left side in the center of the graph which is the `kinderfreib_tu`.\n",
    "4. The node on the right-hand-side in the center of the graph is `_zu_verst_eink_kein_kinderfreib_tu`. The column is computed with some other variables which are left out of the graph for brevity.\n",
    "5. Finally, at the bottom of the figure is the target node `_zu_verst_eink_kinderfreib_tu`.\n",
    "\n",
    "During the execution, the all dependencies of a node are computed before the node is computed.\n",
    "\n",
    "## Labels\n",
    "\n",
    "It is possible to hide the labels by setting `plot_dag(..., labels=False)`.\n",
    "\n",
    "## Selectors\n",
    "\n",
    "Selectors allow you to visualize only a subset of the complete graph of the tax and transfer systems. They can be passed to the `selectors` argument of the `plot_dag()` function. There exist some ways to define a selector and they can be combined with one another. Let us discuss each selector on its own first.\n",
    "\n",
    "### Basics\n",
    "\n",
    "It is always possible to pass a string or a list of strings to `selectors`. In this case only the given nodes are displayed in the plot."
   ]
  },
  {
   "cell_type": "code",
   "execution_count": null,
   "metadata": {},
   "outputs": [],
   "source": [
    "selectors = \"kinderfreib_tu\"\n",
    "\n",
    "plot_dag(dag, selectors=selectors);"
   ]
  },
  {
   "cell_type": "markdown",
   "metadata": {},
   "source": [
    "Using a list of variable names, we can select multiple nodes."
   ]
  },
  {
   "cell_type": "code",
   "execution_count": null,
   "metadata": {},
   "outputs": [],
   "source": [
    "selectors = [\"kinderfreib_tu\", \"_zu_verst_eink_kinderfreib_tu\"]\n",
    "\n",
    "plot_dag(dag, selectors=selectors);"
   ]
  },
  {
   "cell_type": "markdown",
   "metadata": {},
   "source": [
    "Passing a string or a list of strings to `selectors` is actually a shortcut for the richer interface for selecting nodes. Selectors are usually represented as dictionaries. The corresponding dictionary for selecting a list of nodes is"
   ]
  },
  {
   "cell_type": "code",
   "execution_count": null,
   "metadata": {},
   "outputs": [],
   "source": [
    "selector = {\n",
    "    \"type\": \"nodes\",\n",
    "    \"node\": [\"kinderfreib_tu\", \"_zu_verst_eink_kinderfreib_tu\"],\n",
    "    \"select\": True,  # optional\n",
    "}"
   ]
  },
  {
   "cell_type": "markdown",
   "metadata": {},
   "source": [
    "Let us go through the keys of the dictionary one by one.\n",
    "\n",
    "1. `\"type\"` specifies the type of the selector. For a single node or a list of nodes the type is `\"nodes\"`.\n",
    "2. `\"node\"` always refers to the node or nodes to which the selector is applied. In this case, it is the list of node names.\n",
    "3. `\"select\"` specifies whether the nodes should be selected or de-selected. If you do not specify `\"select\"` it is assumed to be `True`."
   ]
  },
  {
   "cell_type": "markdown",
   "metadata": {},
   "source": [
    "### De-selecting nodes\n",
    "\n",
    "It is also possible to specify selectors which de-select some nodes. Note that,\n",
    "\n",
    "- De-selectors are applied after nodes have been selected.\n",
    "- If no selectors are provided, de-selectors de-select nodes from the complete DAG.\n",
    "- Selection and de-selection works for all selector types which follow.\n",
    "\n",
    "For a simple and silly example, we want to reproduce the graph with the single node for `kinderfreib_tu` after, but starting from the last plot which also showed `_zu_verst_eink_kinderfreib_tu`.\n",
    "\n",
    "First, we define the selectors. The first selector or dictionary in the list selects the two nodes. Note that the `\"select\"` key is `True` by default. The second key in the de-selects `\"_zu_verst_eink_kinderfreib_tu\"`."
   ]
  },
  {
   "cell_type": "code",
   "execution_count": null,
   "metadata": {},
   "outputs": [],
   "source": [
    "selectors = [\n",
    "    {\n",
    "        \"type\": \"nodes\",\n",
    "        \"node\": [\"kinderfreib_tu\", \"_zu_verst_eink_kinderfreib_tu\"],\n",
    "    },\n",
    "    {\n",
    "        \"type\": \"nodes\",\n",
    "        \"node\": \"_zu_verst_eink_kinderfreib_tu\",\n",
    "        \"select\": False,\n",
    "    }\n",
    "]"
   ]
  },
  {
   "cell_type": "code",
   "execution_count": null,
   "metadata": {},
   "outputs": [],
   "source": [
    "plot_dag(dag, selectors=selectors);"
   ]
  },
  {
   "cell_type": "markdown",
   "metadata": {},
   "source": [
    "### Ancestors and descendants\n",
    "\n",
    "Two other types of selectors allow you to pick one node and all nodes which appear before or after this node. We call the nodes ancestors or descendants, respectively. To select `\"anz_kindergeld_kinder_tu\"` which are the children per tax unit for whom the tax unit receives child benefits and all its ancestors, do the following."
   ]
  },
  {
   "cell_type": "code",
   "execution_count": null,
   "metadata": {},
   "outputs": [],
   "source": [
    "selector = {\"type\": \"ancestors\", \"node\": \"anz_kindergeld_kinder_tu\"}"
   ]
  },
  {
   "cell_type": "code",
   "execution_count": null,
   "metadata": {},
   "outputs": [],
   "source": [
    "plot_dag(dag, selectors=selector);"
   ]
  },
  {
   "cell_type": "markdown",
   "metadata": {},
   "source": [
    "To see the variables which are explicitly and implicitly dependent on the information in `\"_geringfügig_beschäftigt\"` use the type `\"descendants\"`."
   ]
  },
  {
   "cell_type": "code",
   "execution_count": null,
   "metadata": {},
   "outputs": [],
   "source": [
    "selector = {\"type\": \"descendants\", \"node\": \"_geringfügig_beschäftigt\"}"
   ]
  },
  {
   "cell_type": "code",
   "execution_count": null,
   "metadata": {},
   "outputs": [],
   "source": [
    "plot_dag(dag, selectors=selector);"
   ]
  },
  {
   "cell_type": "markdown",
   "metadata": {},
   "source": [
    "### Neighbors\n",
    "\n",
    "Another common way to look at a graph is to visualize a node and its neighbors, its ancestors and descendants. Let us take a look at `\"anz_kindergeld_kinder_tu\"` again and visualize its direct neighbors."
   ]
  },
  {
   "cell_type": "code",
   "execution_count": null,
   "metadata": {},
   "outputs": [],
   "source": [
    "selector = {\"type\": \"neighbors\", \"node\": \"anz_kindergeld_kinder_tu\"}"
   ]
  },
  {
   "cell_type": "code",
   "execution_count": null,
   "metadata": {},
   "outputs": [],
   "source": [
    "plot_dag(dag, selectors=selector);"
   ]
  },
  {
   "cell_type": "markdown",
   "metadata": {},
   "source": [
    "It is also possible to look at more distant neighbors or neighbors of order 2, 3, ... . This can be done by the `\"order\"` key which is 1 by default."
   ]
  },
  {
   "cell_type": "code",
   "execution_count": null,
   "metadata": {},
   "outputs": [],
   "source": [
    "selector = {\"type\": \"neighbors\", \"node\": \"anz_kindergeld_kinder_tu\", \"order\": 2}"
   ]
  },
  {
   "cell_type": "code",
   "execution_count": null,
   "metadata": {},
   "outputs": [],
   "source": [
    "plot= plot_dag(dag, selectors=selector);"
   ]
  }
 ],
 "metadata": {
  "kernelspec": {
   "display_name": "Python 3",
   "language": "python",
   "name": "python3"
  },
  "language_info": {
   "codemirror_mode": {
    "name": "ipython",
    "version": 3
   },
   "file_extension": ".py",
   "mimetype": "text/x-python",
   "name": "python",
   "nbconvert_exporter": "python",
   "pygments_lexer": "ipython3",
   "version": "3.7.7"
  }
 },
 "nbformat": 4,
 "nbformat_minor": 4
}
