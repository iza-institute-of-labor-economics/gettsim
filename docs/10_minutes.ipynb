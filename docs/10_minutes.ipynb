{
 "cells": [
  {
   "cell_type": "code",
   "execution_count": 4,
   "metadata": {},
   "outputs": [],
   "source": [
    "import datetime as dt\n",
    "import gettsim as gt\n",
    "import pandas as pd\n",
    "\n",
    "from gettsim.config import ROOT_DIR\n",
    "from gettsim.tests.test_zu_versteuerndes_eink import INPUT_COLS"
   ]
  },
  {
   "cell_type": "code",
   "execution_count": 5,
   "metadata": {},
   "outputs": [],
   "source": [
    "df = pd.read_csv(ROOT_DIR / \"tests\" / \"test_data\" / \"test_dfs_zve.csv\", usecols=INPUT_COLS).query(\"jahr == 2018\")"
   ]
  },
  {
   "cell_type": "code",
   "execution_count": 6,
   "metadata": {},
   "outputs": [
    {
     "ename": "NameError",
     "evalue": "name 'column' is not defined",
     "output_type": "error",
     "traceback": [
      "\u001b[1;31m---------------------------------------------------------------------------\u001b[0m",
      "\u001b[1;31mNameError\u001b[0m                                 Traceback (most recent call last)",
      "\u001b[1;32m<ipython-input-6-bc550fef464d>\u001b[0m in \u001b[0;36m<module>\u001b[1;34m\u001b[0m\n\u001b[0;32m     15\u001b[0m     \u001b[0muser_columns\u001b[0m\u001b[1;33m=\u001b[0m\u001b[0muser_columns\u001b[0m\u001b[1;33m,\u001b[0m\u001b[1;33m\u001b[0m\u001b[1;33m\u001b[0m\u001b[0m\n\u001b[0;32m     16\u001b[0m     \u001b[0muser_functions\u001b[0m\u001b[1;33m=\u001b[0m\u001b[0mpolicy_func_dict\u001b[0m\u001b[1;33m,\u001b[0m\u001b[1;33m\u001b[0m\u001b[1;33m\u001b[0m\u001b[0m\n\u001b[1;32m---> 17\u001b[1;33m     \u001b[0mtargets\u001b[0m\u001b[1;33m=\u001b[0m\u001b[0mcolumn\u001b[0m\u001b[1;33m,\u001b[0m\u001b[1;33m\u001b[0m\u001b[1;33m\u001b[0m\u001b[0m\n\u001b[0m\u001b[0;32m     18\u001b[0m     \u001b[0mparams\u001b[0m\u001b[1;33m=\u001b[0m\u001b[0mparams_dict\u001b[0m\u001b[1;33m,\u001b[0m\u001b[1;33m\u001b[0m\u001b[1;33m\u001b[0m\u001b[0m\n\u001b[0;32m     19\u001b[0m )\n",
      "\u001b[1;31mNameError\u001b[0m: name 'column' is not defined"
     ]
    }
   ],
   "source": [
    "policy_date = dt.date(2018, 1, 1)\n",
    "params_dict, policy_func_dict = gt.get_policies_for_date(\n",
    "    policy_date=policy_date,\n",
    "    groups=[\"eink_st_abzuege\", \"soz_vers_beitr\", \"kindergeld\"],\n",
    ")\n",
    "\n",
    "user_columns = [\n",
    "    \"ges_krankenv_beitr_m\",\n",
    "    \"arbeitsl_v_beitr_m\",\n",
    "    \"pflegev_beitr_m\",\n",
    "    \"rentenv_beitr_m\",\n",
    "]\n",
    "result = gt.compute_taxes_and_transfers(\n",
    "    df,\n",
    "    user_columns=user_columns,\n",
    "    user_functions=policy_func_dict,\n",
    "    targets=column,\n",
    "    params=params_dict,\n",
    ")"
   ]
  },
  {
   "cell_type": "code",
   "execution_count": null,
   "metadata": {},
   "outputs": [],
   "source": []
  }
 ],
 "metadata": {
  "kernelspec": {
   "display_name": "Python 3",
   "language": "python",
   "name": "python3"
  },
  "language_info": {
   "codemirror_mode": {
    "name": "ipython",
    "version": 3
   },
   "file_extension": ".py",
   "mimetype": "text/x-python",
   "name": "python",
   "nbconvert_exporter": "python",
   "pygments_lexer": "ipython3",
   "version": "3.7.7"
  }
 },
 "nbformat": 4,
 "nbformat_minor": 4
}
