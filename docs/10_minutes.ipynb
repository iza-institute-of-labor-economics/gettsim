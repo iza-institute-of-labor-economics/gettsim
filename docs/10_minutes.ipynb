{
 "cells": [
  {
   "cell_type": "code",
   "execution_count": 1,
   "metadata": {},
   "outputs": [],
   "source": [
    "import datetime as dt\n",
    "import gettsim as gt\n",
    "import pandas as pd\n",
    "import numpy as np\n",
    "import inspect\n",
    "import functools\n",
    "\n",
    "from gettsim.config import ROOT_DIR\n",
    "from gettsim.tests.test_zu_versteuerndes_eink import INPUT_COLS"
   ]
  },
  {
   "cell_type": "code",
   "execution_count": 2,
   "metadata": {},
   "outputs": [],
   "source": [
    "df = pd.read_csv(ROOT_DIR / \"tests\" / \"test_data\" / \"test_dfs_zve.csv\", usecols=INPUT_COLS).query(\"jahr == 2018\")"
   ]
  },
  {
   "cell_type": "code",
   "execution_count": 3,
   "metadata": {},
   "outputs": [],
   "source": [
    "policy_date = dt.date(2018, 1, 1)\n",
    "params_dict, policy_func_dict = gt.get_policies_for_date(\n",
    "    policy_date=policy_date,\n",
    "    groups=[\"eink_st_abzuege\", \"soz_vers_beitr\", \"kindergeld\"],\n",
    ")"
   ]
  },
  {
   "cell_type": "code",
   "execution_count": 4,
   "metadata": {},
   "outputs": [],
   "source": [
    "user_columns = [\n",
    "    \"ges_krankenv_beitr_m\",\n",
    "    \"arbeitsl_v_beitr_m\",\n",
    "    \"pflegev_beitr_m\",\n",
    "    \"rentenv_beitr_m\",\n",
    "]"
   ]
  },
  {
   "cell_type": "code",
   "execution_count": 5,
   "metadata": {},
   "outputs": [],
   "source": [
    "result, dag = gt.compute_taxes_and_transfers(\n",
    "    df,\n",
    "    user_columns=user_columns,\n",
    "    user_functions=policy_func_dict,\n",
    "    targets=\"sum_brutto_eink\",\n",
    "    params=params_dict,\n",
    "    return_dag=True\n",
    ")"
   ]
  },
  {
   "cell_type": "code",
   "execution_count": null,
   "metadata": {},
   "outputs": [],
   "source": []
  },
  {
   "cell_type": "code",
   "execution_count": 6,
   "metadata": {},
   "outputs": [
    {
     "ename": "AttributeError",
     "evalue": "module 'gettsim' has no attribute 'plot_dag'",
     "output_type": "error",
     "traceback": [
      "\u001b[1;31m---------------------------------------------------------------------------\u001b[0m",
      "\u001b[1;31mAttributeError\u001b[0m                            Traceback (most recent call last)",
      "\u001b[1;32m<ipython-input-6-196257c166ae>\u001b[0m in \u001b[0;36m<module>\u001b[1;34m\u001b[0m\n\u001b[1;32m----> 1\u001b[1;33m \u001b[0mgt\u001b[0m\u001b[1;33m.\u001b[0m\u001b[0mplot_dag\u001b[0m\u001b[1;33m(\u001b[0m\u001b[0mdag\u001b[0m\u001b[1;33m)\u001b[0m\u001b[1;33m\u001b[0m\u001b[1;33m\u001b[0m\u001b[0m\n\u001b[0m",
      "\u001b[1;31mAttributeError\u001b[0m: module 'gettsim' has no attribute 'plot_dag'"
     ]
    }
   ],
   "source": [
    "gt.plot_dag(dag)"
   ]
  },
  {
   "cell_type": "code",
   "execution_count": null,
   "metadata": {},
   "outputs": [],
   "source": []
  }
 ],
 "metadata": {
  "kernelspec": {
   "display_name": "Python 3",
   "language": "python",
   "name": "python3"
  },
  "language_info": {
   "codemirror_mode": {
    "name": "ipython",
    "version": 3
   },
   "file_extension": ".py",
   "mimetype": "text/x-python",
   "name": "python",
   "nbconvert_exporter": "python",
   "pygments_lexer": "ipython3",
   "version": "3.7.7"
  }
 },
 "nbformat": 4,
 "nbformat_minor": 4
}
