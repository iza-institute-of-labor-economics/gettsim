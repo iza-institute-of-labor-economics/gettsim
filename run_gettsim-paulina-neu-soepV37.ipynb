{
 "cells": [
  {
   "cell_type": "markdown",
   "metadata": {},
   "source": [
    "**runs through with SOEP V37**"
   ]
  },
  {
   "cell_type": "code",
   "execution_count": 1,
   "metadata": {},
   "outputs": [
    {
     "name": "stdout",
     "output_type": "stream",
     "text": [
      "path exists, skipping /Users/paulina/Documents/IZA/Arbeit/gettsim\n",
      "completed operation for: /Users/paulina/Documents/IZA/Arbeit/gettsim\n",
      "\n",
      "Note: you may need to restart the kernel to use updated packages.\n"
     ]
    }
   ],
   "source": [
    "conda develop ."
   ]
  },
  {
   "cell_type": "markdown",
   "metadata": {
    "tags": []
   },
   "source": [
    "# Imports"
   ]
  },
  {
   "cell_type": "code",
   "execution_count": 2,
   "metadata": {},
   "outputs": [
    {
     "ename": "ModuleNotFoundError",
     "evalue": "No module named 'dags'",
     "output_type": "error",
     "traceback": [
      "\u001b[0;31m---------------------------------------------------------------------------\u001b[0m",
      "\u001b[0;31mModuleNotFoundError\u001b[0m                       Traceback (most recent call last)",
      "Input \u001b[0;32mIn [2]\u001b[0m, in \u001b[0;36m<cell line: 23>\u001b[0;34m()\u001b[0m\n\u001b[1;32m     19\u001b[0m \u001b[38;5;28;01mimport\u001b[39;00m \u001b[38;5;21;01mseaborn\u001b[39;00m \u001b[38;5;28;01mas\u001b[39;00m \u001b[38;5;21;01msns\u001b[39;00m\n\u001b[1;32m     21\u001b[0m \u001b[38;5;66;03m# from patsy import dmatrix\u001b[39;00m\n\u001b[0;32m---> 23\u001b[0m \u001b[38;5;28;01mfrom\u001b[39;00m \u001b[38;5;21;01mgettsim\u001b[39;00m \u001b[38;5;28;01mimport\u001b[39;00m set_up_policy_environment\n\u001b[1;32m     24\u001b[0m \u001b[38;5;28;01mfrom\u001b[39;00m \u001b[38;5;21;01mgettsim\u001b[39;00m \u001b[38;5;28;01mimport\u001b[39;00m compute_taxes_and_transfers\n\u001b[1;32m     25\u001b[0m \u001b[38;5;28;01mfrom\u001b[39;00m \u001b[38;5;21;01mgettsim\u001b[39;00m\u001b[38;5;21;01m.\u001b[39;00m\u001b[38;5;21;01mconfig\u001b[39;00m \u001b[38;5;28;01mimport\u001b[39;00m TYPES_INPUT_VARIABLES\n",
      "File \u001b[0;32m~/Documents/IZA/Arbeit/gettsim/gettsim/__init__.py:7\u001b[0m, in \u001b[0;36m<module>\u001b[0;34m\u001b[0m\n\u001b[1;32m      4\u001b[0m \u001b[38;5;28;01mimport\u001b[39;00m \u001b[38;5;21;01mpytest\u001b[39;00m\n\u001b[1;32m      6\u001b[0m \u001b[38;5;28;01mfrom\u001b[39;00m \u001b[38;5;21;01mgettsim\u001b[39;00m\u001b[38;5;21;01m.\u001b[39;00m\u001b[38;5;21;01mconfig\u001b[39;00m \u001b[38;5;28;01mimport\u001b[39;00m ROOT_DIR\n\u001b[0;32m----> 7\u001b[0m \u001b[38;5;28;01mfrom\u001b[39;00m \u001b[38;5;21;01mgettsim\u001b[39;00m\u001b[38;5;21;01m.\u001b[39;00m\u001b[38;5;21;01minterface\u001b[39;00m \u001b[38;5;28;01mimport\u001b[39;00m compute_taxes_and_transfers  \u001b[38;5;66;03m# noqa: F401\u001b[39;00m\n\u001b[1;32m      8\u001b[0m \u001b[38;5;28;01mfrom\u001b[39;00m \u001b[38;5;21;01mgettsim\u001b[39;00m\u001b[38;5;21;01m.\u001b[39;00m\u001b[38;5;21;01mpolicy_environment\u001b[39;00m \u001b[38;5;28;01mimport\u001b[39;00m set_up_policy_environment  \u001b[38;5;66;03m# noqa: F401\u001b[39;00m\n\u001b[1;32m      9\u001b[0m \u001b[38;5;28;01mfrom\u001b[39;00m \u001b[38;5;21;01mgettsim\u001b[39;00m\u001b[38;5;21;01m.\u001b[39;00m\u001b[38;5;21;01mvisualization\u001b[39;00m \u001b[38;5;28;01mimport\u001b[39;00m plot_dag  \u001b[38;5;66;03m# noqa: F401\u001b[39;00m\n",
      "File \u001b[0;32m~/Documents/IZA/Arbeit/gettsim/gettsim/interface.py:6\u001b[0m, in \u001b[0;36m<module>\u001b[0;34m\u001b[0m\n\u001b[1;32m      3\u001b[0m \u001b[38;5;28;01mimport\u001b[39;00m \u001b[38;5;21;01minspect\u001b[39;00m\n\u001b[1;32m      4\u001b[0m \u001b[38;5;28;01mimport\u001b[39;00m \u001b[38;5;21;01mwarnings\u001b[39;00m\n\u001b[0;32m----> 6\u001b[0m \u001b[38;5;28;01mimport\u001b[39;00m \u001b[38;5;21;01mdags\u001b[39;00m\n\u001b[1;32m      7\u001b[0m \u001b[38;5;28;01mimport\u001b[39;00m \u001b[38;5;21;01mnumpy\u001b[39;00m \u001b[38;5;28;01mas\u001b[39;00m \u001b[38;5;21;01mnp\u001b[39;00m\n\u001b[1;32m      8\u001b[0m \u001b[38;5;28;01mimport\u001b[39;00m \u001b[38;5;21;01mpandas\u001b[39;00m \u001b[38;5;28;01mas\u001b[39;00m \u001b[38;5;21;01mpd\u001b[39;00m\n",
      "\u001b[0;31mModuleNotFoundError\u001b[0m: No module named 'dags'"
     ]
    }
   ],
   "source": [
    "%matplotlib inline\n",
    "%load_ext lab_black\n",
    "\n",
    "%load_ext autoreload\n",
    "%autoreload 2\n",
    "\n",
    "import sys, os\n",
    "import json\n",
    "import pickle, re, itertools\n",
    "import csv\n",
    "\n",
    "import pandas as pd\n",
    "import numpy as np\n",
    "\n",
    "from pathlib import Path\n",
    "from functools import reduce\n",
    "\n",
    "from matplotlib import pyplot as plt\n",
    "import seaborn as sns\n",
    "\n",
    "# from patsy import dmatrix\n",
    "\n",
    "from gettsim import set_up_policy_environment\n",
    "from gettsim import compute_taxes_and_transfers\n",
    "from gettsim.config import TYPES_INPUT_VARIABLES\n",
    "\n",
    "from pandas.api.types import is_bool_dtype\n",
    "from pandas.api.types import is_datetime64_any_dtype\n",
    "from pandas.api.types import is_float_dtype\n",
    "from pandas.api.types import is_integer_dtype\n",
    "\n",
    "# from gettsim-application.src import validate_soep_gettsim"
   ]
  },
  {
   "cell_type": "markdown",
   "metadata": {
    "tags": []
   },
   "source": [
    "# Load files"
   ]
  },
  {
   "cell_type": "code",
   "execution_count": null,
   "metadata": {},
   "outputs": [],
   "source": [
    "CWD = Path.cwd()\n",
    "OUT_DATA_SOEP = CWD.parent / \"soep-data\" / \"out\" / \"data\"\n",
    "IN_VAL = CWD.parent / \"gettsim-application\" / \"src\" / \"validation_data\"\n",
    "IN_REF_VAL = CWD.parent / \"gettsim-application\" / \"src\"\n",
    "OUT_DATA_SOEP"
   ]
  },
  {
   "cell_type": "code",
   "execution_count": null,
   "metadata": {},
   "outputs": [],
   "source": [
    "# OUT_DATA_SOEP = CWD.parent / \"..\" / \"..\" / \"soep-data\" / \"out\" / \"data\""
   ]
  },
  {
   "cell_type": "code",
   "execution_count": null,
   "metadata": {},
   "outputs": [],
   "source": [
    "gs_data = pd.read_pickle(OUT_DATA_SOEP / \"gettsim_data_soep.pickle\")"
   ]
  },
  {
   "cell_type": "markdown",
   "metadata": {
    "tags": []
   },
   "source": [
    "# Prepare SOEP data set"
   ]
  },
  {
   "cell_type": "code",
   "execution_count": null,
   "metadata": {},
   "outputs": [],
   "source": [
    "def set_expected_types(data):\n",
    "    for var, exp_type in TYPES_INPUT_VARIABLES.items():\n",
    "        if exp_type == int:\n",
    "            # if not is_integer_dtype(data_2019[var]):\n",
    "            print(f\"{var} converted to integer\")\n",
    "            try:\n",
    "                data[var] = data[var].astype(int)\n",
    "            except:\n",
    "                data[var] = data[var].round().astype(\"Int64\")\n",
    "\n",
    "        if exp_type == float:\n",
    "            # if not (is_float_dtype(data[var]) or is_integer_dtype(data[var])):\n",
    "            print(f\"{var} converted to float\")\n",
    "            data[var] = data[var].astype(\"float\")\n",
    "\n",
    "        if exp_type == bool:\n",
    "            # if not is_bool_dtype(data[var]):\n",
    "            print(f\"{var} converted to boolean\")\n",
    "            data[var] = data[var].astype(bool)\n",
    "    return data"
   ]
  },
  {
   "cell_type": "code",
   "execution_count": null,
   "metadata": {},
   "outputs": [],
   "source": [
    "data_2019 = gs_data.query(\"jahr == 2019\").reset_index()\n",
    "data_2019 = data_2019.drop([\"anz_kinder_hh\", \"anz_minderj_hh\", \"hhsize_tu\"], axis=1)"
   ]
  },
  {
   "cell_type": "code",
   "execution_count": null,
   "metadata": {},
   "outputs": [],
   "source": [
    "data_2019 = data_2019[\n",
    "    list(TYPES_INPUT_VARIABLES.keys())\n",
    "    + [\n",
    "        \"p_gewicht\",\n",
    "        \"hh_gewicht\",\n",
    "        \"weiblich\",\n",
    "        \"hh_size\",\n",
    "        \"erwerbstätig\",\n",
    "        \"nicht_erwerbstätig\",\n",
    "        \"bildungsstand_isced_cat\",\n",
    "        \"bildungsstand_casmin_cat\",\n",
    "        \"ledig\",\n",
    "        \"geschieden\",\n",
    "        \"verwitwet\",\n",
    "        \"verheiratet\",\n",
    "        \"arbeitslos\",\n",
    "        \"beamte\",\n",
    "        \"vollzeit\",\n",
    "        \"stundenlohn_netto\",\n",
    "        \"nettolohn_m\",\n",
    "        \"stundenlohn\",\n",
    "        \"geringfügig_erwb\",\n",
    "        \"teilzeit\",\n",
    "        \"werkstatt\",\n",
    "        \"pensions_pub_m\",\n",
    "        \"unempl_benefit2_hh\",\n",
    "        \"unempl_benefit\",\n",
    "        \"housing_benefit_hh\",\n",
    "        \"kinderzuschlag_hh\",\n",
    "        \"kindergeld_hh\",\n",
    "        \"einkommenssteuer_hh\",\n",
    "        \"kapital_eink_hh\",\n",
    "    ]\n",
    "]\n",
    "data_2019 = set_expected_types(data_2019)\n",
    "data_2019 = data_2019.fillna(0)\n",
    "data_2019 = set_expected_types(data_2019)"
   ]
  },
  {
   "cell_type": "code",
   "execution_count": null,
   "metadata": {},
   "outputs": [],
   "source": [
    "data_2019.dtypes"
   ]
  },
  {
   "cell_type": "code",
   "execution_count": null,
   "metadata": {},
   "outputs": [],
   "source": [
    "data_2019.isna().sum().loc[data_2019.isna().sum() > 0]"
   ]
  },
  {
   "cell_type": "markdown",
   "metadata": {
    "tags": []
   },
   "source": [
    "# Run GETTSIM"
   ]
  },
  {
   "cell_type": "code",
   "execution_count": null,
   "metadata": {},
   "outputs": [],
   "source": [
    "policy_params, policy_functions = set_up_policy_environment(2019)\n",
    "targets = [\n",
    "    \"geringfügig_beschäftigt\",\n",
    "    \"ges_krankenv_beitr_rente_m\",\n",
    "    \"ges_krankenv_beitr_selbst_m\",\n",
    "    \"in_gleitzone\",\n",
    "    \"_ges_krankenv_midi_job_arbeitn_m\",\n",
    "    \"_ges_krankenv_beitr_reg_beschäftigt\",\n",
    "    \"ges_krankenv_beitr_m\",\n",
    "]\n",
    "result = compute_taxes_and_transfers(\n",
    "    data=data_2019,\n",
    "    params=policy_params,\n",
    "    targets=targets,\n",
    "    functions=policy_functions,\n",
    ")\n",
    "result = result.join(data_2019)"
   ]
  },
  {
   "cell_type": "code",
   "execution_count": null,
   "metadata": {},
   "outputs": [],
   "source": [
    "policy_params[\"soz_vers_beitr\"][\"geringfügige_eink_grenzen_m\"]"
   ]
  },
  {
   "cell_type": "code",
   "execution_count": null,
   "metadata": {},
   "outputs": [],
   "source": [
    "result.loc[result[\"ges_krankenv_beitr_m\"].isna()][\n",
    "    targets\n",
    "    + [\n",
    "        \"eink_selbst_m\",\n",
    "        \"selbstständig\",\n",
    "        \"priv_rentenv_beitr_m\",\n",
    "        \"arbeitsstunden_w\",\n",
    "        \"bruttolohn_m\",\n",
    "    ]\n",
    "]"
   ]
  },
  {
   "cell_type": "code",
   "execution_count": null,
   "metadata": {},
   "outputs": [],
   "source": [
    "result[\n",
    "    targets\n",
    "    + [\n",
    "        \"eink_selbst_m\",\n",
    "        \"selbstständig\",\n",
    "        \"priv_rentenv_beitr_m\",\n",
    "        \"arbeitsstunden_w\",\n",
    "        \"bruttolohn_m\",\n",
    "    ]\n",
    "].sample(10)"
   ]
  },
  {
   "cell_type": "code",
   "execution_count": null,
   "metadata": {},
   "outputs": [],
   "source": [
    "policy_params, policy_functions = set_up_policy_environment(2019)\n",
    "targets = [\n",
    "    \"ges_krankenv_beitr_m\",\n",
    "    \"arbeitsl_v_beitr_m\",\n",
    "    \"ges_rentenv_beitr_m\",\n",
    "    \"ges_pflegev_beitr_m\",\n",
    "    \"sozialv_beitr_gesamt_m\",\n",
    "    \"arbeitsl_geld_m\",\n",
    "    # \"rente_anspr_m\",\n",
    "    \"abgelt_st_tu\",\n",
    "    \"soli_st_tu\",\n",
    "    \"kindergeld_m\",\n",
    "    \"kindergeld_m_hh\",\n",
    "    \"eink_st_tu\",\n",
    "    \"unterhaltsvors_m\",\n",
    "    \"arbeitsl_geld_2_regelsatz_m_hh\",\n",
    "    \"arbeitsl_geld_2_kost_unterk_m_hh\",\n",
    "    \"unterhaltsvors_m_hh\",\n",
    "    \"kinderzuschl_m_hh\",\n",
    "    \"wohngeld_m_hh\",\n",
    "    \"arbeitsl_geld_2_m_hh\",\n",
    "    \"grunds_im_alter_m_hh\",\n",
    "    \"anz_kinder_hh\",\n",
    "    \"geringfügig_beschäftigt\",\n",
    "    \"in_gleitzone\",\n",
    "    \"anz_kinder_hh\",\n",
    "    # for debugging\n",
    "    \"ges_krankenv_beitr_rente_m\",\n",
    "    \"sum_ges_rente_priv_rente_m\",\n",
    "    \"_ges_krankenv_beitr_bemess_grenze_m\",\n",
    "    \"ges_rente_m\",\n",
    "    \"ges_krankenv_beitr_selbst_m\",\n",
    "    \"_ges_krankenv_bemessungsgrundlage_eink_selbst\",\n",
    "    \"ges_krankenv_beitr_satz\",\n",
    "    \"_ges_krankenv_beitr_satz_arbeitg\",\n",
    "    \"kindergeld_m_ab_1997\",\n",
    "    \"kindergeld_basis_m\",\n",
    "    \"kinderfreib_günstiger_tu\",\n",
    "    \"arbeitsl_geld_2_vor_vorrang_m_hh\",\n",
    "    \"wohngeld_vorrang_hh\",\n",
    "    \"kinderzuschl_vorrang_hh\",\n",
    "    \"wohngeld_kinderzuschl_vorrang_hh\",\n",
    "    \"erwachsene_alle_rentner_hh\",\n",
    "    \"wohngeld_nach_vermög_check_m_hh\",\n",
    "    \"arbeitsl_geld_2_vor_vorrang_m_hh\",\n",
    "    \"wohngeld_vor_vermög_check_m_hh\",\n",
    "    \"haushaltsgröße_hh\",\n",
    "    \"arbeitsl_geld_2_regelbedarf_m_hh\",\n",
    "    \"arbeitsl_geld_2_eink_m_hh\",\n",
    "    \"kapitaleink_brutto_tu\",\n",
    "    \"zu_verst_kapitaleink_tu\",\n",
    "    \"anz_erwachsene_tu\",\n",
    "    \"anz_erwachsene_hh\",\n",
    "]\n",
    "result = compute_taxes_and_transfers(\n",
    "    data=data_2019,\n",
    "    params=policy_params,\n",
    "    targets=targets,\n",
    "    functions=policy_functions,\n",
    ")\n",
    "result = result.join(data_2019)"
   ]
  },
  {
   "cell_type": "code",
   "execution_count": null,
   "metadata": {},
   "outputs": [],
   "source": [
    "result"
   ]
  },
  {
   "cell_type": "code",
   "execution_count": null,
   "metadata": {
    "tags": []
   },
   "outputs": [],
   "source": [
    "(result.groupby(\"hh_id\")[\"wohngeld_m_hh\"].max() > 0).mean()"
   ]
  },
  {
   "cell_type": "code",
   "execution_count": null,
   "metadata": {
    "tags": []
   },
   "outputs": [],
   "source": [
    "result.loc[result[\"ges_krankenv_beitr_m\"] < 0]"
   ]
  },
  {
   "cell_type": "markdown",
   "metadata": {
    "tags": []
   },
   "source": [
    "# Compare Results to observed measures"
   ]
  },
  {
   "cell_type": "code",
   "execution_count": null,
   "metadata": {},
   "outputs": [],
   "source": [
    "import sys\n",
    "\n",
    "sys.path.append(\"/Users/paulina/Documents/IZA/Arbeit/gettsim-application/src\")\n",
    "from load_validation_data import validation_data"
   ]
  },
  {
   "cell_type": "code",
   "execution_count": null,
   "metadata": {},
   "outputs": [],
   "source": [
    "val_data = validation_data(IN_VAL=IN_VAL)\n",
    "val_data"
   ]
  },
  {
   "cell_type": "code",
   "execution_count": null,
   "metadata": {},
   "outputs": [],
   "source": [
    "from validate_soep_gettsim import compare_data_moments"
   ]
  },
  {
   "cell_type": "code",
   "execution_count": null,
   "metadata": {},
   "outputs": [],
   "source": [
    "from IPython.display import display"
   ]
  },
  {
   "cell_type": "code",
   "execution_count": null,
   "metadata": {},
   "outputs": [],
   "source": [
    "result[\"erwerbslos\"] = result[\"arbeitslos\"]"
   ]
  },
  {
   "cell_type": "code",
   "execution_count": null,
   "metadata": {},
   "outputs": [],
   "source": [
    "out_1, out_2 = compare_data_moments(\n",
    "    year=2019, val_data=val_data, result=result, IN_REF_VAL=IN_REF_VAL\n",
    ")\n",
    "pd.set_option(\"display.max_rows\", None)\n",
    "display(out_1, out_2)"
   ]
  },
  {
   "cell_type": "markdown",
   "metadata": {},
   "source": [
    "# Debugging"
   ]
  },
  {
   "cell_type": "code",
   "execution_count": null,
   "metadata": {},
   "outputs": [],
   "source": [
    "pd.set_option(\"display.max_rows\", 10)"
   ]
  },
  {
   "cell_type": "markdown",
   "metadata": {},
   "source": [
    "## Privat pension"
   ]
  },
  {
   "cell_type": "code",
   "execution_count": null,
   "metadata": {},
   "outputs": [],
   "source": [
    "result_priv_pension = result.loc[\n",
    "    (result[\"bruttolohn_m\"] <= 450)\n",
    "    & (result[\"sozialv_beitr_gesamt_m\"] > 0)\n",
    "    & (result[\"rentner\"] == False)\n",
    "    & (result[\"selbstständig\"] == False)\n",
    "].copy()"
   ]
  },
  {
   "cell_type": "code",
   "execution_count": null,
   "metadata": {},
   "outputs": [],
   "source": [
    "result_priv_pension[\n",
    "    [\n",
    "        \"jahr\",\n",
    "        \"p_id\",\n",
    "        \"hh_id\",\n",
    "        \"erwerbstätig\",\n",
    "        \"in_ausbildung\",\n",
    "        \"stundenlohn\",\n",
    "        \"vermögen_bedürft_hh\",\n",
    "        \"bruttolohn_m\",\n",
    "        \"alter\",\n",
    "        \"ges_krankenv_beitr_m\",\n",
    "        \"arbeitsl_v_beitr_m\",\n",
    "        \"ges_rentenv_beitr_m\",\n",
    "        \"ges_pflegev_beitr_m\",\n",
    "        \"sozialv_beitr_gesamt_m\",\n",
    "        \"arbeitsl_geld_m\",\n",
    "        \"anz_kinder_hh\",\n",
    "        \"vollzeit\",\n",
    "        \"geringfügig_erwb\",\n",
    "        \"teilzeit\",\n",
    "        \"rentner\",\n",
    "        \"geringfügig_beschäftigt\",\n",
    "        \"selbstständig\",\n",
    "        \"in_gleitzone\",\n",
    "        \"ges_krankenv_beitr_rente_m\",\n",
    "        \"sum_ges_rente_priv_rente_m\",\n",
    "        \"_ges_krankenv_beitr_bemess_grenze_m\",\n",
    "        \"ges_rente_m\",\n",
    "        \"priv_rente_m\",\n",
    "        \"pensions_pub_m\",\n",
    "    ]\n",
    "]"
   ]
  },
  {
   "cell_type": "markdown",
   "metadata": {},
   "source": [
    "### with pensions_pub"
   ]
  },
  {
   "cell_type": "code",
   "execution_count": null,
   "metadata": {},
   "outputs": [],
   "source": [
    "result_priv_pension.loc[result_priv_pension[\"pensions_pub_m\"] > 0][\n",
    "    [\n",
    "        \"jahr\",\n",
    "        \"p_id\",\n",
    "        \"hh_id\",\n",
    "        \"erwerbstätig\",\n",
    "        \"in_ausbildung\",\n",
    "        \"stundenlohn\",\n",
    "        \"vermögen_bedürft_hh\",\n",
    "        \"bruttolohn_m\",\n",
    "        \"alter\",\n",
    "        \"ges_krankenv_beitr_m\",\n",
    "        \"arbeitsl_v_beitr_m\",\n",
    "        \"ges_rentenv_beitr_m\",\n",
    "        \"ges_pflegev_beitr_m\",\n",
    "        \"sozialv_beitr_gesamt_m\",\n",
    "        \"arbeitsl_geld_m\",\n",
    "        \"anz_kinder_hh\",\n",
    "        \"vollzeit\",\n",
    "        \"geringfügig_erwb\",\n",
    "        \"teilzeit\",\n",
    "        \"rentner\",\n",
    "        \"geringfügig_beschäftigt\",\n",
    "        \"selbstständig\",\n",
    "        \"in_gleitzone\",\n",
    "        \"ges_krankenv_beitr_rente_m\",\n",
    "        \"sum_ges_rente_priv_rente_m\",\n",
    "        \"_ges_krankenv_beitr_bemess_grenze_m\",\n",
    "        \"ges_rente_m\",\n",
    "        \"priv_rente_m\",\n",
    "        \"pensions_pub_m\",\n",
    "    ]\n",
    "]"
   ]
  },
  {
   "cell_type": "markdown",
   "metadata": {},
   "source": [
    "### without pensions_pub"
   ]
  },
  {
   "cell_type": "code",
   "execution_count": null,
   "metadata": {},
   "outputs": [],
   "source": [
    "result_priv_pension.loc[result_priv_pension[\"pensions_pub_m\"] == 0][\n",
    "    [\n",
    "        \"jahr\",\n",
    "        \"p_id\",\n",
    "        \"hh_id\",\n",
    "        \"erwerbstätig\",\n",
    "        \"in_ausbildung\",\n",
    "        \"stundenlohn\",\n",
    "        \"vermögen_bedürft_hh\",\n",
    "        \"bruttolohn_m\",\n",
    "        \"alter\",\n",
    "        \"ges_krankenv_beitr_m\",\n",
    "        \"arbeitsl_v_beitr_m\",\n",
    "        \"ges_rentenv_beitr_m\",\n",
    "        \"ges_pflegev_beitr_m\",\n",
    "        \"sozialv_beitr_gesamt_m\",\n",
    "        \"arbeitsl_geld_m\",\n",
    "        \"anz_kinder_hh\",\n",
    "        \"vollzeit\",\n",
    "        \"geringfügig_erwb\",\n",
    "        \"teilzeit\",\n",
    "        \"rentner\",\n",
    "        \"geringfügig_beschäftigt\",\n",
    "        \"selbstständig\",\n",
    "        \"in_gleitzone\",\n",
    "        \"ges_krankenv_beitr_rente_m\",\n",
    "        \"sum_ges_rente_priv_rente_m\",\n",
    "        \"_ges_krankenv_beitr_bemess_grenze_m\",\n",
    "        \"ges_rente_m\",\n",
    "        \"priv_rente_m\",\n",
    "        \"pensions_pub_m\",\n",
    "    ]\n",
    "]"
   ]
  },
  {
   "cell_type": "markdown",
   "metadata": {
    "tags": []
   },
   "source": [
    "## self-employed"
   ]
  },
  {
   "cell_type": "code",
   "execution_count": null,
   "metadata": {},
   "outputs": [],
   "source": [
    "result_selbstst = result.loc[\n",
    "    (result[\"bruttolohn_m\"] <= 450)\n",
    "    & (result[\"sozialv_beitr_gesamt_m\"] > 0)\n",
    "    & (result[\"rentner\"] == False)\n",
    "    & (result[\"selbstständig\"] == True)\n",
    "].copy()"
   ]
  },
  {
   "cell_type": "code",
   "execution_count": null,
   "metadata": {},
   "outputs": [],
   "source": [
    "result_selbstst[\n",
    "    [\n",
    "        \"jahr\",\n",
    "        \"p_id\",\n",
    "        \"hh_id\",\n",
    "        \"stundenlohn\",\n",
    "        \"vermögen_bedürft_hh\",\n",
    "        \"bruttolohn_m\",\n",
    "        \"alter\",\n",
    "        \"ges_krankenv_beitr_m\",\n",
    "        \"arbeitsl_v_beitr_m\",\n",
    "        \"ges_rentenv_beitr_m\",\n",
    "        \"ges_pflegev_beitr_m\",\n",
    "        \"geringfügig_beschäftigt\",\n",
    "        \"selbstständig\",\n",
    "        \"in_gleitzone\",\n",
    "        \"ges_krankenv_beitr_rente_m\",\n",
    "        \"sum_ges_rente_priv_rente_m\",\n",
    "        \"_ges_krankenv_beitr_bemess_grenze_m\",\n",
    "        \"ges_rente_m\",\n",
    "        \"priv_rente_m\",\n",
    "        \"pensions_pub_m\",\n",
    "        \"ges_krankenv_beitr_selbst_m\",\n",
    "        \"_ges_krankenv_bemessungsgrundlage_eink_selbst\",\n",
    "        \"ges_krankenv_beitr_satz\",\n",
    "        \"_ges_krankenv_beitr_satz_arbeitg\",\n",
    "        \"eink_selbst_m\",\n",
    "    ]\n",
    "]"
   ]
  },
  {
   "cell_type": "code",
   "execution_count": null,
   "metadata": {},
   "outputs": [],
   "source": [
    "pd.set_option(\"display.max_rows\", 30)\n",
    "result.loc[result[\"p_id\"] == 181401][\n",
    "    [\n",
    "        \"jahr\",\n",
    "        \"p_id\",\n",
    "        \"hh_id\",\n",
    "        \"stundenlohn\",\n",
    "        \"vermögen_bedürft_hh\",\n",
    "        \"bruttolohn_m\",\n",
    "        \"alter\",\n",
    "        \"ges_krankenv_beitr_m\",\n",
    "        \"arbeitsl_v_beitr_m\",\n",
    "        \"ges_rentenv_beitr_m\",\n",
    "        \"ges_pflegev_beitr_m\",\n",
    "        \"geringfügig_beschäftigt\",\n",
    "        \"selbstständig\",\n",
    "        \"in_gleitzone\",\n",
    "        \"ges_krankenv_beitr_rente_m\",\n",
    "        \"sum_ges_rente_priv_rente_m\",\n",
    "        \"_ges_krankenv_beitr_bemess_grenze_m\",\n",
    "        \"ges_rente_m\",\n",
    "        \"priv_rente_m\",\n",
    "        \"pensions_pub_m\",\n",
    "        \"ges_krankenv_beitr_selbst_m\",\n",
    "        \"_ges_krankenv_bemessungsgrundlage_eink_selbst\",\n",
    "        \"ges_krankenv_beitr_satz\",\n",
    "        \"_ges_krankenv_beitr_satz_arbeitg\",\n",
    "        \"eink_selbst_m\",\n",
    "    ]\n",
    "].transpose()"
   ]
  },
  {
   "cell_type": "markdown",
   "metadata": {},
   "source": [
    "## Niedriglohn Wohnort Ost"
   ]
  },
  {
   "cell_type": "code",
   "execution_count": null,
   "metadata": {},
   "outputs": [],
   "source": [
    "pd.set_option(\"display.max_rows\", 10)\n",
    "result.loc[\n",
    "    result[\"beschäftigt\"] & (result[\"stundenlohn\"] <= 11.5) & result[\"wohnort_ost\"]\n",
    "][\n",
    "    [\n",
    "        \"jahr\",\n",
    "        \"p_id\",\n",
    "        \"hh_id\",\n",
    "        \"p_gewicht\",\n",
    "        \"erwerbstätig\",\n",
    "        \"vollzeit\",\n",
    "        \"stundenlohn\",\n",
    "        \"geringfügig_erwb\",\n",
    "        \"teilzeit\",\n",
    "        \"rentner\",\n",
    "        \"vermögen_bedürft_hh\",\n",
    "        \"bruttolohn_m\",\n",
    "        \"alter\",\n",
    "        \"ges_krankenv_beitr_m\",\n",
    "        \"arbeitsl_v_beitr_m\",\n",
    "        \"ges_rentenv_beitr_m\",\n",
    "        \"ges_pflegev_beitr_m\",\n",
    "        \"sozialv_beitr_gesamt_m\",\n",
    "        \"arbeitsl_geld_m\",\n",
    "        \"anz_kinder_hh\",\n",
    "    ]\n",
    "]"
   ]
  },
  {
   "cell_type": "markdown",
   "metadata": {},
   "source": [
    "## Minderjährige"
   ]
  },
  {
   "cell_type": "code",
   "execution_count": null,
   "metadata": {},
   "outputs": [],
   "source": [
    "result.loc[(result[\"alter\"] < 18) & (result[\"sozialv_beitr_gesamt_m\"] > 0)][\n",
    "    [\n",
    "        \"jahr\",\n",
    "        \"p_id\",\n",
    "        \"hh_id\",\n",
    "        \"erwerbstätig\",\n",
    "        \"in_ausbildung\",\n",
    "        \"stundenlohn\",\n",
    "        \"vermögen_bedürft_hh\",\n",
    "        \"bruttolohn_m\",\n",
    "        \"alter\",\n",
    "        \"ges_krankenv_beitr_m\",\n",
    "        \"arbeitsl_v_beitr_m\",\n",
    "        \"ges_rentenv_beitr_m\",\n",
    "        \"ges_pflegev_beitr_m\",\n",
    "        \"sozialv_beitr_gesamt_m\",\n",
    "        \"arbeitsl_geld_m\",\n",
    "        \"anz_kinder_hh\",\n",
    "        \"vollzeit\",\n",
    "        \"geringfügig_erwb\",\n",
    "        \"teilzeit\",\n",
    "        \"rentner\",\n",
    "    ]\n",
    "]"
   ]
  },
  {
   "cell_type": "markdown",
   "metadata": {},
   "source": [
    "## Kindergeld"
   ]
  },
  {
   "cell_type": "code",
   "execution_count": null,
   "metadata": {},
   "outputs": [],
   "source": [
    "result_kindergeld = result.loc[\n",
    "    (result[\"kindergeld_hh\"] > 0)\n",
    "    & (result[\"kindergeld_m_hh\"] == 0)\n",
    "    & (result[\"hat_kinder\"])\n",
    "].copy()"
   ]
  },
  {
   "cell_type": "code",
   "execution_count": null,
   "metadata": {},
   "outputs": [],
   "source": [
    "result_kindergeld[\n",
    "    [\n",
    "        \"jahr\",\n",
    "        \"p_id\",\n",
    "        \"hh_id\",\n",
    "        \"alter\",\n",
    "        \"kindergeld_hh\",\n",
    "        \"kindergeld_m_hh\",\n",
    "        \"hat_kinder\",\n",
    "        \"anz_kinder_hh\",\n",
    "        \"bruttolohn_m\",\n",
    "    ]\n",
    "]"
   ]
  },
  {
   "cell_type": "markdown",
   "metadata": {},
   "source": [
    "### Kinderfreibetrag"
   ]
  },
  {
   "cell_type": "code",
   "execution_count": null,
   "metadata": {},
   "outputs": [],
   "source": [
    "result.loc[result[\"hh_id\"] == 79880][\n",
    "    [\n",
    "        \"jahr\",\n",
    "        \"p_id\",\n",
    "        \"hh_id\",\n",
    "        \"alter\",\n",
    "        \"kindergeld_hh\",\n",
    "        \"kindergeld_m_hh\",\n",
    "        \"kindergeld_m\",\n",
    "        \"hat_kinder\",\n",
    "        \"anz_kinder_hh\",\n",
    "        \"bruttolohn_m\",\n",
    "        \"kindergeld_m_ab_1997\",\n",
    "        \"kindergeld_basis_m\",\n",
    "        \"kinderfreib_günstiger_tu\",\n",
    "    ]\n",
    "]"
   ]
  },
  {
   "cell_type": "code",
   "execution_count": null,
   "metadata": {
    "tags": []
   },
   "outputs": [],
   "source": [
    "(\n",
    "    (result[\"kindergeld_hh\"] > 0).astype(float)\n",
    "    * (result[\"kind\"]).astype(bool)\n",
    "    * (result[\"kinderfreib_günstiger_tu\"]).astype(bool)\n",
    "    * result[\"p_gewicht\"]\n",
    ").sum() / 1000"
   ]
  },
  {
   "cell_type": "markdown",
   "metadata": {},
   "source": [
    "### children are over 18"
   ]
  },
  {
   "cell_type": "code",
   "execution_count": null,
   "metadata": {},
   "outputs": [],
   "source": [
    "result_kindergeld.loc[result[\"kinderfreib_günstiger_tu\"] == False][[\"hh_id\"]]"
   ]
  },
  {
   "cell_type": "code",
   "execution_count": null,
   "metadata": {},
   "outputs": [],
   "source": [
    "result.loc[result[\"hh_id\"] == 66036][\n",
    "    [\n",
    "        \"jahr\",\n",
    "        \"p_id\",\n",
    "        \"hh_id\",\n",
    "        \"alter\",\n",
    "        \"kindergeld_hh\",\n",
    "        \"kindergeld_m_hh\",\n",
    "        \"kindergeld_m\",\n",
    "        \"hat_kinder\",\n",
    "        \"anz_kinder_hh\",\n",
    "        \"bruttolohn_m\",\n",
    "        \"kindergeld_m_ab_1997\",\n",
    "        \"kindergeld_basis_m\",\n",
    "        \"kinderfreib_günstiger_tu\",\n",
    "        \"in_ausbildung\",\n",
    "    ]\n",
    "]"
   ]
  },
  {
   "cell_type": "markdown",
   "metadata": {},
   "source": [
    "## ALG II"
   ]
  },
  {
   "cell_type": "code",
   "execution_count": null,
   "metadata": {},
   "outputs": [],
   "source": [
    "result_algII = result.loc[\n",
    "    (result[\"unempl_benefit2_hh\"] > 0) & (result[\"arbeitsl_geld_2_m_hh\"] == 0)\n",
    "].copy()"
   ]
  },
  {
   "cell_type": "code",
   "execution_count": null,
   "metadata": {},
   "outputs": [],
   "source": [
    "result_algII[\n",
    "    [\n",
    "        \"jahr\",\n",
    "        \"p_id\",\n",
    "        \"hh_id\",\n",
    "        \"alter\",\n",
    "        \"bruttolohn_m\",\n",
    "        \"in_ausbildung\",\n",
    "        \"unempl_benefit2_hh\",\n",
    "        \"arbeitsl_geld_2_m_hh\",\n",
    "        \"rentner\",\n",
    "        \"arbeitsl_geld_2_vor_vorrang_m_hh\",\n",
    "        \"wohngeld_vorrang_hh\",\n",
    "        \"kinderzuschl_vorrang_hh\",\n",
    "        \"wohngeld_kinderzuschl_vorrang_hh\",\n",
    "        \"erwachsene_alle_rentner_hh\",\n",
    "    ]\n",
    "]"
   ]
  },
  {
   "cell_type": "markdown",
   "metadata": {},
   "source": [
    "### Rentner"
   ]
  },
  {
   "cell_type": "code",
   "execution_count": null,
   "metadata": {},
   "outputs": [],
   "source": [
    "(\n",
    "    (result[\"unempl_benefit2_hh\"] > 0).astype(bool)\n",
    "    * (result[\"rentner\"]).astype(bool)\n",
    "    * result.groupby(\"hh_id\")[\"hh_gewicht\"].max()\n",
    ").sum() / 1000"
   ]
  },
  {
   "cell_type": "markdown",
   "metadata": {},
   "source": [
    "### income or wealth too high"
   ]
  },
  {
   "cell_type": "code",
   "execution_count": null,
   "metadata": {},
   "outputs": [],
   "source": [
    "result_algII[\n",
    "    [\n",
    "        \"jahr\",\n",
    "        \"p_id\",\n",
    "        \"hh_id\",\n",
    "        \"alter\",\n",
    "        \"bruttolohn_m\",\n",
    "        \"unempl_benefit2_hh\",\n",
    "        \"wohngeld_nach_vermög_check_m_hh\",\n",
    "        \"arbeitsl_geld_2_vor_vorrang_m_hh\",\n",
    "        \"wohngeld_vor_vermög_check_m_hh\",\n",
    "        \"vermögen_bedürft_hh\",\n",
    "        \"haushaltsgröße_hh\",\n",
    "        \"arbeitsl_geld_2_regelbedarf_m_hh\",\n",
    "        \"kindergeld_m_hh\",\n",
    "        \"arbeitsl_geld_2_eink_m_hh\",\n",
    "    ]\n",
    "]"
   ]
  },
  {
   "cell_type": "markdown",
   "metadata": {},
   "source": [
    "## Alg"
   ]
  },
  {
   "cell_type": "code",
   "execution_count": null,
   "metadata": {},
   "outputs": [],
   "source": [
    "result_alg = result.loc[\n",
    "    (result[\"arbeitsl_geld_m\"] > 0) & (result[\"arbeitsl_geld_2_m_hh\"] > 0)\n",
    "].copy()"
   ]
  },
  {
   "cell_type": "code",
   "execution_count": null,
   "metadata": {},
   "outputs": [],
   "source": [
    "result_alg[\n",
    "    [\n",
    "        \"jahr\",\n",
    "        \"p_id\",\n",
    "        \"hh_id\",\n",
    "        \"alter\",\n",
    "        \"bruttolohn_m\",\n",
    "        \"arbeitsl_geld_m\",\n",
    "        \"unempl_benefit\",\n",
    "        \"arbeitsl_geld_2_m_hh\",\n",
    "        \"unempl_benefit2_hh\",\n",
    "        \"haushaltsgröße_hh\",\n",
    "        \"anz_kinder_hh\",\n",
    "        \"in_ausbildung\",\n",
    "    ]\n",
    "]"
   ]
  },
  {
   "cell_type": "code",
   "execution_count": null,
   "metadata": {},
   "outputs": [],
   "source": [
    "gs_data.loc[gs_data[\"hh_id\"] == 141054]"
   ]
  },
  {
   "cell_type": "markdown",
   "metadata": {},
   "source": [
    "# Abgeltungssteuer"
   ]
  },
  {
   "cell_type": "code",
   "execution_count": null,
   "metadata": {},
   "outputs": [],
   "source": [
    "result_abgelt_st = result.loc[result[\"abgelt_st_tu\"] > 0].copy()"
   ]
  },
  {
   "cell_type": "code",
   "execution_count": null,
   "metadata": {},
   "outputs": [],
   "source": [
    "result_abgelt_st[\n",
    "    [\n",
    "        \"jahr\",\n",
    "        \"p_id\",\n",
    "        \"hh_id\",\n",
    "        \"tu_id\",\n",
    "        \"alter\",\n",
    "        \"anz_erwachsene_tu\",\n",
    "        \"anz_erwachsene_hh\",\n",
    "        \"bruttolohn_m\",\n",
    "        \"abgelt_st_tu\",\n",
    "        \"kapitaleink_brutto_tu\",\n",
    "        \"zu_verst_kapitaleink_tu\",\n",
    "        \"kapitaleink_brutto_m\",\n",
    "        \"kapital_eink_hh\",\n",
    "    ]\n",
    "]"
   ]
  },
  {
   "cell_type": "code",
   "execution_count": null,
   "metadata": {},
   "outputs": [],
   "source": [
    "result_abgelt_st[\"kapitaleink_brutto_tu\"].describe()"
   ]
  },
  {
   "cell_type": "markdown",
   "metadata": {},
   "source": [
    "# Tax units"
   ]
  },
  {
   "cell_type": "code",
   "execution_count": null,
   "metadata": {},
   "outputs": [],
   "source": [
    "result[\"anzahl_tu_in_hh\"] = result.groupby([\"jahr\", \"hh_id\"])[\"tu_id\"].transform(\n",
    "    \"nunique\"\n",
    ")"
   ]
  },
  {
   "cell_type": "code",
   "execution_count": null,
   "metadata": {},
   "outputs": [],
   "source": [
    "result_abgelt_st = result.loc[result[\"abgelt_st_tu\"] > 0].copy()"
   ]
  },
  {
   "cell_type": "code",
   "execution_count": null,
   "metadata": {},
   "outputs": [],
   "source": [
    "result_abgelt_st[\"anzahl_tu_in_hh\"].value_counts()"
   ]
  },
  {
   "cell_type": "code",
   "execution_count": null,
   "metadata": {},
   "outputs": [],
   "source": [
    "result_eink_st = result.loc[result[\"eink_st_tu\"] > 0].copy()"
   ]
  },
  {
   "cell_type": "code",
   "execution_count": null,
   "metadata": {},
   "outputs": [],
   "source": [
    "result_eink_st[\"anzahl_tu_in_hh\"].value_counts()"
   ]
  },
  {
   "cell_type": "code",
   "execution_count": null,
   "metadata": {},
   "outputs": [],
   "source": [
    "result_soli_st = result.loc[result[\"soli_st_tu\"] > 0].copy()"
   ]
  },
  {
   "cell_type": "code",
   "execution_count": null,
   "metadata": {},
   "outputs": [],
   "source": [
    "result_soli_st[\"anzahl_tu_in_hh\"].value_counts()"
   ]
  },
  {
   "cell_type": "code",
   "execution_count": null,
   "metadata": {},
   "outputs": [],
   "source": []
  },
  {
   "cell_type": "code",
   "execution_count": null,
   "metadata": {},
   "outputs": [],
   "source": [
    "result_st = result.copy()"
   ]
  },
  {
   "cell_type": "code",
   "execution_count": null,
   "metadata": {},
   "outputs": [],
   "source": [
    "(\n",
    "    result.groupby(\"hh_id\")[\"einkommenssteuer_hh\"].first()\n",
    "    * result.groupby(\"hh_id\")[\"hh_gewicht\"].first()\n",
    "    * 12\n",
    ").sum() / 1000000000"
   ]
  },
  {
   "cell_type": "code",
   "execution_count": null,
   "metadata": {},
   "outputs": [],
   "source": []
  }
 ],
 "metadata": {
  "kernelspec": {
   "display_name": "Python 3 (ipykernel)",
   "language": "python",
   "name": "python3"
  },
  "language_info": {
   "codemirror_mode": {
    "name": "ipython",
    "version": 3
   },
   "file_extension": ".py",
   "mimetype": "text/x-python",
   "name": "python",
   "nbconvert_exporter": "python",
   "pygments_lexer": "ipython3",
   "version": "3.8.10"
  },
  "pycharm": {
   "stem_cell": {
    "cell_type": "raw",
    "metadata": {
     "collapsed": false
    },
    "source": []
   }
  },
  "toc-autonumbering": true
 },
 "nbformat": 4,
 "nbformat_minor": 4
}
