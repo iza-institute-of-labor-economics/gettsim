{
 "cells": [
  {
   "cell_type": "code",
   "execution_count": 2,
   "metadata": {},
   "outputs": [],
   "source": [
    "import pandas as pd\n",
    "from gettsim.interface import compute_taxes_and_transfers\n",
    "from gettsim.pre_processing.policy_for_date import get_policies_for_date\n",
    "import datetime"
   ]
  },
  {
   "cell_type": "code",
   "execution_count": 3,
   "metadata": {},
   "outputs": [],
   "source": [
    "df = pd.DataFrame(\n",
    "    {\n",
    "        \"p_id\": 1,\n",
    "        \"tu_id\": 1,\n",
    "        \"hh_id\": 1,\n",
    "        \"bruttolohn_m\": 1000,\n",
    "        \"wohnort_ost\": False,\n",
    "        \"kind\": False,\n",
    "        \"alter\": 35,\n",
    "        \"selbstständig\": False,\n",
    "        \"hat_kinder\": False,\n",
    "        \"eink_selbst_m\": 0,\n",
    "        \"ges_rente_m\": 0,\n",
    "        \"prv_krankenv\": False,\n",
    "        \"_zu_verst_eink_kein_kinderfreib_tu\": 12000,\n",
    "        \"_zu_verst_kapital_eink_tu\": 0,\n",
    "        \"kinderfreib_tu\": 0,\n",
    "        \"_kindergeld_m_tu_basis\": 0,\n",
    "    },\n",
    "    index=[0],\n",
    ")"
   ]
  },
  {
   "cell_type": "code",
   "execution_count": 4,
   "metadata": {},
   "outputs": [
    {
     "data": {
      "text/html": [
       "<div>\n",
       "<style scoped>\n",
       "    .dataframe tbody tr th:only-of-type {\n",
       "        vertical-align: middle;\n",
       "    }\n",
       "\n",
       "    .dataframe tbody tr th {\n",
       "        vertical-align: top;\n",
       "    }\n",
       "\n",
       "    .dataframe thead th {\n",
       "        text-align: right;\n",
       "    }\n",
       "</style>\n",
       "<table border=\"1\" class=\"dataframe\">\n",
       "  <thead>\n",
       "    <tr style=\"text-align: right;\">\n",
       "      <th></th>\n",
       "      <th>p_id</th>\n",
       "      <th>tu_id</th>\n",
       "      <th>hh_id</th>\n",
       "      <th>bruttolohn_m</th>\n",
       "      <th>wohnort_ost</th>\n",
       "      <th>kind</th>\n",
       "      <th>alter</th>\n",
       "      <th>selbstständig</th>\n",
       "      <th>hat_kinder</th>\n",
       "      <th>eink_selbst_m</th>\n",
       "      <th>ges_rente_m</th>\n",
       "      <th>prv_krankenv</th>\n",
       "      <th>_zu_verst_eink_kein_kinderfreib_tu</th>\n",
       "      <th>_zu_verst_kapital_eink_tu</th>\n",
       "      <th>kinderfreib_tu</th>\n",
       "      <th>_kindergeld_m_tu_basis</th>\n",
       "    </tr>\n",
       "  </thead>\n",
       "  <tbody>\n",
       "    <tr>\n",
       "      <th>0</th>\n",
       "      <td>1</td>\n",
       "      <td>1</td>\n",
       "      <td>1</td>\n",
       "      <td>1000</td>\n",
       "      <td>False</td>\n",
       "      <td>False</td>\n",
       "      <td>35</td>\n",
       "      <td>False</td>\n",
       "      <td>False</td>\n",
       "      <td>0</td>\n",
       "      <td>0</td>\n",
       "      <td>False</td>\n",
       "      <td>12000</td>\n",
       "      <td>0</td>\n",
       "      <td>0</td>\n",
       "      <td>0</td>\n",
       "    </tr>\n",
       "  </tbody>\n",
       "</table>\n",
       "</div>"
      ],
      "text/plain": [
       "   p_id  tu_id  hh_id  bruttolohn_m  wohnort_ost   kind  alter  selbstständig  \\\n",
       "0     1      1      1          1000        False  False     35          False   \n",
       "\n",
       "   hat_kinder  eink_selbst_m  ges_rente_m  prv_krankenv  \\\n",
       "0       False              0            0         False   \n",
       "\n",
       "   _zu_verst_eink_kein_kinderfreib_tu  _zu_verst_kapital_eink_tu  \\\n",
       "0                               12000                          0   \n",
       "\n",
       "   kinderfreib_tu  _kindergeld_m_tu_basis  \n",
       "0               0                       0  "
      ]
     },
     "execution_count": 4,
     "metadata": {},
     "output_type": "execute_result"
    }
   ],
   "source": [
    "df"
   ]
  },
  {
   "cell_type": "code",
   "execution_count": 5,
   "metadata": {},
   "outputs": [],
   "source": [
    "params_dict, policy_dict = get_policies_for_date(datetime.date(2020,1,1))"
   ]
  },
  {
   "cell_type": "code",
   "execution_count": 6,
   "metadata": {},
   "outputs": [],
   "source": [
    "columns = [\n",
    "    \"_kindergeld_m_tu_basis\",\n",
    "    \"kinderfreib_tu\",\n",
    "    \"_zu_verst_kapital_eink_tu\",\n",
    "    \"_zu_verst_eink_kein_kinderfreib_tu\",\n",
    "]"
   ]
  },
  {
   "cell_type": "code",
   "execution_count": 7,
   "metadata": {},
   "outputs": [
    {
     "data": {
      "text/plain": [
       "{'soli_st_tu': tu_id\n",
       " 1    0.0\n",
       " Name: soli_st_tu, dtype: float64,\n",
       " 'eink_st_tu': tu_id\n",
       " 1    428.242106\n",
       " Name: eink_st_tu, dtype: float64,\n",
       " 'ges_krankenv_beitr_m': 0    72.383372\n",
       " Name: ges_krankenv_beitr_m, dtype: float64,\n",
       " 'rentenv_beitr_m': 0    85.753549\n",
       " Name: rentenv_beitr_m, dtype: float64,\n",
       " 'arbeitsl_v_beitr_m': 0    11.064974\n",
       " Name: arbeitsl_v_beitr_m, dtype: float64}"
      ]
     },
     "execution_count": 7,
     "metadata": {},
     "output_type": "execute_result"
    }
   ],
   "source": [
    "compute_taxes_and_transfers(\n",
    "    df,\n",
    "    user_functions=policy_dict,\n",
    "    user_columns=columns,\n",
    "    params=params_dict,\n",
    "    targets=[\n",
    "        \"eink_st_tu\",\n",
    "        \"soli_st_tu\",\n",
    "        \"ges_krankenv_beitr_m\",\n",
    "        \"rentenv_beitr_m\",\n",
    "        \"arbeitsl_v_beitr_m\",\n",
    "        \"rentenv_beitr_m\",\n",
    "    ],\n",
    ")"
   ]
  },
  {
   "cell_type": "code",
   "execution_count": null,
   "metadata": {},
   "outputs": [],
   "source": []
  },
  {
   "cell_type": "code",
   "execution_count": null,
   "metadata": {},
   "outputs": [],
   "source": []
  }
 ],
 "metadata": {
  "kernelspec": {
   "display_name": "Python 3",
   "language": "python",
   "name": "python3"
  },
  "language_info": {
   "codemirror_mode": {
    "name": "ipython",
    "version": 3
   },
   "file_extension": ".py",
   "mimetype": "text/x-python",
   "name": "python",
   "nbconvert_exporter": "python",
   "pygments_lexer": "ipython3",
   "version": "3.7.7"
  }
 },
 "nbformat": 4,
 "nbformat_minor": 2
}
